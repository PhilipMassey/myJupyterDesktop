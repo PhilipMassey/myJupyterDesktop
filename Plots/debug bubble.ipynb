{
 "cells": [
  {
   "cell_type": "code",
   "execution_count": 25,
   "metadata": {},
   "outputs": [
    {
     "name": "stdout",
     "output_type": "stream",
     "text": [
      "Python 3.7.3 (v3.7.3:ef4ec6ed12, Mar 25 2019, 16:52:21) \n",
      "[Clang 6.0 (clang-600.0.57)] on darwin\n"
     ]
    },
    {
     "data": {
      "text/html": [
       "<div>\n",
       "<style scoped>\n",
       "    .dataframe tbody tr th:only-of-type {\n",
       "        vertical-align: middle;\n",
       "    }\n",
       "\n",
       "    .dataframe tbody tr th {\n",
       "        vertical-align: top;\n",
       "    }\n",
       "\n",
       "    .dataframe thead th {\n",
       "        text-align: right;\n",
       "    }\n",
       "</style>\n",
       "<table border=\"1\" class=\"dataframe\">\n",
       "  <thead>\n",
       "    <tr style=\"text-align: right;\">\n",
       "      <th></th>\n",
       "      <th>symbol</th>\n",
       "      <th>percent</th>\n",
       "      <th>volume</th>\n",
       "      <th>portfolio</th>\n",
       "      <th>date</th>\n",
       "    </tr>\n",
       "  </thead>\n",
       "  <tbody>\n",
       "    <tr>\n",
       "      <th>5</th>\n",
       "      <td>ADTN</td>\n",
       "      <td>0.07</td>\n",
       "      <td>178370.0</td>\n",
       "      <td>5G</td>\n",
       "      <td>2020-12-22</td>\n",
       "    </tr>\n",
       "    <tr>\n",
       "      <th>30</th>\n",
       "      <td>AVGO</td>\n",
       "      <td>-1.76</td>\n",
       "      <td>1025041.0</td>\n",
       "      <td>5G</td>\n",
       "      <td>2020-12-22</td>\n",
       "    </tr>\n",
       "    <tr>\n",
       "      <th>31</th>\n",
       "      <td>AVNW</td>\n",
       "      <td>1.45</td>\n",
       "      <td>45852.0</td>\n",
       "      <td>5G</td>\n",
       "      <td>2020-12-22</td>\n",
       "    </tr>\n",
       "    <tr>\n",
       "      <th>58</th>\n",
       "      <td>CALX</td>\n",
       "      <td>-2.31</td>\n",
       "      <td>673798.0</td>\n",
       "      <td>5G</td>\n",
       "      <td>2020-12-22</td>\n",
       "    </tr>\n",
       "    <tr>\n",
       "      <th>62</th>\n",
       "      <td>CEVA</td>\n",
       "      <td>0.30</td>\n",
       "      <td>98778.0</td>\n",
       "      <td>5G</td>\n",
       "      <td>2020-12-22</td>\n",
       "    </tr>\n",
       "  </tbody>\n",
       "</table>\n",
       "</div>"
      ],
      "text/plain": [
       "   symbol  percent     volume portfolio        date\n",
       "5    ADTN     0.07   178370.0        5G  2020-12-22\n",
       "30   AVGO    -1.76  1025041.0        5G  2020-12-22\n",
       "31   AVNW     1.45    45852.0        5G  2020-12-22\n",
       "58   CALX    -2.31   673798.0        5G  2020-12-22\n",
       "62   CEVA     0.30    98778.0        5G  2020-12-22"
      ]
     },
     "execution_count": 25,
     "metadata": {},
     "output_type": "execute_result"
    }
   ],
   "source": [
    "import sys; print('Python %s on %s' % (sys.version, sys.platform))\n",
    "sys.path.extend(['/Users/philipmassey/PycharmProjects/stock_market'])\n",
    "\n",
    "import portfolio as pf\n",
    "import market_data as md\n",
    "import plots as pl\n",
    "import plotly.express as px\n",
    "\n",
    "six = (360,60)\n",
    "five = (270,45)\n",
    "four=(180,30)\n",
    "three = (90,15)\n",
    "two = (60,10)\n",
    "one = (30, 5)\n",
    "half = (15,3)\n",
    "quarter = (8,1)\n",
    "period ,interval = quarter\n",
    "account='Seeking Alpha'\n",
    "#dfa = pf.getPortPercPeriods(period,interval,account)\n",
    "dfall = pf.getSymPortPercPeriodsLowVty(period,interval,account)\n",
    "df = pf.aggregateOnPortfolio(dfall)\n",
    "#pl.plotPortPercPeriods(dfa,account,'bubble')\n",
    "dfall.sort_values(by=['date', 'portfolio'], ascending=[False,True], inplace=True)\n",
    "dfall.head()"
   ]
  },
  {
   "cell_type": "code",
   "execution_count": 27,
   "metadata": {},
   "outputs": [
    {
     "data": {
      "text/html": [
       "<div>\n",
       "<style scoped>\n",
       "    .dataframe tbody tr th:only-of-type {\n",
       "        vertical-align: middle;\n",
       "    }\n",
       "\n",
       "    .dataframe tbody tr th {\n",
       "        vertical-align: top;\n",
       "    }\n",
       "\n",
       "    .dataframe thead th {\n",
       "        text-align: right;\n",
       "    }\n",
       "</style>\n",
       "<table border=\"1\" class=\"dataframe\">\n",
       "  <thead>\n",
       "    <tr style=\"text-align: right;\">\n",
       "      <th></th>\n",
       "      <th>symbol</th>\n",
       "      <th>percent</th>\n",
       "      <th>volume</th>\n",
       "      <th>portfolio</th>\n",
       "      <th>date</th>\n",
       "    </tr>\n",
       "  </thead>\n",
       "  <tbody>\n",
       "    <tr>\n",
       "      <th>161</th>\n",
       "      <td>HEXO</td>\n",
       "      <td>314.71</td>\n",
       "      <td>5725943.0</td>\n",
       "      <td>Cannabis</td>\n",
       "      <td>2020-12-22</td>\n",
       "    </tr>\n",
       "    <tr>\n",
       "      <th>161</th>\n",
       "      <td>HEXO</td>\n",
       "      <td>323.00</td>\n",
       "      <td>5725943.0</td>\n",
       "      <td>Cannabis</td>\n",
       "      <td>2020-12-21</td>\n",
       "    </tr>\n",
       "    <tr>\n",
       "      <th>162</th>\n",
       "      <td>HEXO</td>\n",
       "      <td>302.86</td>\n",
       "      <td>5725943.0</td>\n",
       "      <td>Cannabis</td>\n",
       "      <td>2020-12-18</td>\n",
       "    </tr>\n",
       "    <tr>\n",
       "      <th>161</th>\n",
       "      <td>HEXO</td>\n",
       "      <td>299.21</td>\n",
       "      <td>5725943.0</td>\n",
       "      <td>Cannabis</td>\n",
       "      <td>2020-12-17</td>\n",
       "    </tr>\n",
       "    <tr>\n",
       "      <th>161</th>\n",
       "      <td>HEXO</td>\n",
       "      <td>288.07</td>\n",
       "      <td>5725943.0</td>\n",
       "      <td>Cannabis</td>\n",
       "      <td>2020-12-16</td>\n",
       "    </tr>\n",
       "    <tr>\n",
       "      <th>161</th>\n",
       "      <td>HEXO</td>\n",
       "      <td>288.07</td>\n",
       "      <td>5725943.0</td>\n",
       "      <td>Cannabis</td>\n",
       "      <td>2020-12-15</td>\n",
       "    </tr>\n",
       "    <tr>\n",
       "      <th>161</th>\n",
       "      <td>HEXO</td>\n",
       "      <td>318.81</td>\n",
       "      <td>5725943.0</td>\n",
       "      <td>Cannabis</td>\n",
       "      <td>2020-12-14</td>\n",
       "    </tr>\n",
       "  </tbody>\n",
       "</table>\n",
       "</div>"
      ],
      "text/plain": [
       "    symbol  percent     volume portfolio        date\n",
       "161   HEXO   314.71  5725943.0  Cannabis  2020-12-22\n",
       "161   HEXO   323.00  5725943.0  Cannabis  2020-12-21\n",
       "162   HEXO   302.86  5725943.0  Cannabis  2020-12-18\n",
       "161   HEXO   299.21  5725943.0  Cannabis  2020-12-17\n",
       "161   HEXO   288.07  5725943.0  Cannabis  2020-12-16\n",
       "161   HEXO   288.07  5725943.0  Cannabis  2020-12-15\n",
       "161   HEXO   318.81  5725943.0  Cannabis  2020-12-14"
      ]
     },
     "execution_count": 27,
     "metadata": {},
     "output_type": "execute_result"
    }
   ],
   "source": [
    "symbols=['HEXO']\n",
    "dfa = dfall[dfall.symbol.isin(symbols)]\n",
    "dfa"
   ]
  },
  {
   "cell_type": "code",
   "execution_count": 26,
   "metadata": {},
   "outputs": [
    {
     "data": {
      "text/html": [
       "<div>\n",
       "<style scoped>\n",
       "    .dataframe tbody tr th:only-of-type {\n",
       "        vertical-align: middle;\n",
       "    }\n",
       "\n",
       "    .dataframe tbody tr th {\n",
       "        vertical-align: top;\n",
       "    }\n",
       "\n",
       "    .dataframe thead th {\n",
       "        text-align: right;\n",
       "    }\n",
       "</style>\n",
       "<table border=\"1\" class=\"dataframe\">\n",
       "  <thead>\n",
       "    <tr style=\"text-align: right;\">\n",
       "      <th></th>\n",
       "      <th>symbol</th>\n",
       "      <th>percent</th>\n",
       "      <th>volume</th>\n",
       "      <th>portfolio</th>\n",
       "      <th>date</th>\n",
       "    </tr>\n",
       "  </thead>\n",
       "  <tbody>\n",
       "    <tr>\n",
       "      <th>3</th>\n",
       "      <td>ACB</td>\n",
       "      <td>4.37</td>\n",
       "      <td>18183979.0</td>\n",
       "      <td>Cannabis</td>\n",
       "      <td>2020-12-22</td>\n",
       "    </tr>\n",
       "    <tr>\n",
       "      <th>21</th>\n",
       "      <td>APHA</td>\n",
       "      <td>4.21</td>\n",
       "      <td>9632426.0</td>\n",
       "      <td>Cannabis</td>\n",
       "      <td>2020-12-22</td>\n",
       "    </tr>\n",
       "    <tr>\n",
       "      <th>63</th>\n",
       "      <td>CGC</td>\n",
       "      <td>4.45</td>\n",
       "      <td>8258905.0</td>\n",
       "      <td>Cannabis</td>\n",
       "      <td>2020-12-22</td>\n",
       "    </tr>\n",
       "    <tr>\n",
       "      <th>74</th>\n",
       "      <td>CRON</td>\n",
       "      <td>1.32</td>\n",
       "      <td>3116730.0</td>\n",
       "      <td>Cannabis</td>\n",
       "      <td>2020-12-22</td>\n",
       "    </tr>\n",
       "    <tr>\n",
       "      <th>78</th>\n",
       "      <td>CURLF</td>\n",
       "      <td>-0.19</td>\n",
       "      <td>568099.0</td>\n",
       "      <td>Cannabis</td>\n",
       "      <td>2020-12-22</td>\n",
       "    </tr>\n",
       "    <tr>\n",
       "      <th>...</th>\n",
       "      <td>...</td>\n",
       "      <td>...</td>\n",
       "      <td>...</td>\n",
       "      <td>...</td>\n",
       "      <td>...</td>\n",
       "    </tr>\n",
       "    <tr>\n",
       "      <th>153</th>\n",
       "      <td>GTBIF</td>\n",
       "      <td>8.94</td>\n",
       "      <td>364244.0</td>\n",
       "      <td>Cannabis</td>\n",
       "      <td>2020-12-14</td>\n",
       "    </tr>\n",
       "    <tr>\n",
       "      <th>161</th>\n",
       "      <td>HEXO</td>\n",
       "      <td>318.81</td>\n",
       "      <td>5725943.0</td>\n",
       "      <td>Cannabis</td>\n",
       "      <td>2020-12-14</td>\n",
       "    </tr>\n",
       "    <tr>\n",
       "      <th>276</th>\n",
       "      <td>SMG</td>\n",
       "      <td>3.79</td>\n",
       "      <td>158440.0</td>\n",
       "      <td>Cannabis</td>\n",
       "      <td>2020-12-14</td>\n",
       "    </tr>\n",
       "    <tr>\n",
       "      <th>295</th>\n",
       "      <td>TCNNF</td>\n",
       "      <td>5.26</td>\n",
       "      <td>210402.0</td>\n",
       "      <td>Cannabis</td>\n",
       "      <td>2020-12-14</td>\n",
       "    </tr>\n",
       "    <tr>\n",
       "      <th>303</th>\n",
       "      <td>TLRY</td>\n",
       "      <td>20.62</td>\n",
       "      <td>19105053.0</td>\n",
       "      <td>Cannabis</td>\n",
       "      <td>2020-12-14</td>\n",
       "    </tr>\n",
       "  </tbody>\n",
       "</table>\n",
       "<p>77 rows × 5 columns</p>\n",
       "</div>"
      ],
      "text/plain": [
       "    symbol  percent      volume portfolio        date\n",
       "3      ACB     4.37  18183979.0  Cannabis  2020-12-22\n",
       "21    APHA     4.21   9632426.0  Cannabis  2020-12-22\n",
       "63     CGC     4.45   8258905.0  Cannabis  2020-12-22\n",
       "74    CRON     1.32   3116730.0  Cannabis  2020-12-22\n",
       "78   CURLF    -0.19    568099.0  Cannabis  2020-12-22\n",
       "..     ...      ...         ...       ...         ...\n",
       "153  GTBIF     8.94    364244.0  Cannabis  2020-12-14\n",
       "161   HEXO   318.81   5725943.0  Cannabis  2020-12-14\n",
       "276    SMG     3.79    158440.0  Cannabis  2020-12-14\n",
       "295  TCNNF     5.26    210402.0  Cannabis  2020-12-14\n",
       "303   TLRY    20.62  19105053.0  Cannabis  2020-12-14\n",
       "\n",
       "[77 rows x 5 columns]"
      ]
     },
     "execution_count": 26,
     "metadata": {},
     "output_type": "execute_result"
    }
   ],
   "source": [
    "portfolio='Cannabis'\n",
    "dfa = dfall[dfall.portfolio.isin([portfolio])]\n",
    "dfa"
   ]
  },
  {
   "cell_type": "code",
   "execution_count": 23,
   "metadata": {},
   "outputs": [
    {
     "data": {
      "application/vnd.plotly.v1+json": {
       "config": {
        "plotlyServerURL": "https://plot.ly"
       },
       "data": [
        {
         "alignmentgroup": "True",
         "hoverlabel": {
          "namelength": 0
         },
         "hovertemplate": "<b>%{hovertext}</b><br><br>symbol=%{x}<br>date=2020-12-21<br>percent=%{y}",
         "hovertext": [
          "ADTN"
         ],
         "ids": [
          "2020-12-21"
         ],
         "legendgroup": "ADTN",
         "marker": {
          "color": "#636efa"
         },
         "name": "ADTN",
         "offsetgroup": "ADTN",
         "orientation": "v",
         "showlegend": true,
         "textposition": "auto",
         "type": "bar",
         "x": [
          "ADTN"
         ],
         "xaxis": "x",
         "y": [
          1.08
         ],
         "yaxis": "y"
        },
        {
         "alignmentgroup": "True",
         "hoverlabel": {
          "namelength": 0
         },
         "hovertemplate": "<b>%{hovertext}</b><br><br>symbol=%{x}<br>date=2020-12-21<br>percent=%{y}",
         "hovertext": [
          "AVGO"
         ],
         "ids": [
          "2020-12-21"
         ],
         "legendgroup": "AVGO",
         "marker": {
          "color": "#EF553B"
         },
         "name": "AVGO",
         "offsetgroup": "AVGO",
         "orientation": "v",
         "showlegend": true,
         "textposition": "auto",
         "type": "bar",
         "x": [
          "AVGO"
         ],
         "xaxis": "x",
         "y": [
          0.98
         ],
         "yaxis": "y"
        },
        {
         "alignmentgroup": "True",
         "hoverlabel": {
          "namelength": 0
         },
         "hovertemplate": "<b>%{hovertext}</b><br><br>symbol=%{x}<br>date=2020-12-21<br>percent=%{y}",
         "hovertext": [
          "AVNW"
         ],
         "ids": [
          "2020-12-21"
         ],
         "legendgroup": "AVNW",
         "marker": {
          "color": "#00cc96"
         },
         "name": "AVNW",
         "offsetgroup": "AVNW",
         "orientation": "v",
         "showlegend": true,
         "textposition": "auto",
         "type": "bar",
         "x": [
          "AVNW"
         ],
         "xaxis": "x",
         "y": [
          -1
         ],
         "yaxis": "y"
        },
        {
         "alignmentgroup": "True",
         "hoverlabel": {
          "namelength": 0
         },
         "hovertemplate": "<b>%{hovertext}</b><br><br>symbol=%{x}<br>date=2020-12-21<br>percent=%{y}",
         "hovertext": [
          "CALX"
         ],
         "ids": [
          "2020-12-21"
         ],
         "legendgroup": "CALX",
         "marker": {
          "color": "#ab63fa"
         },
         "name": "CALX",
         "offsetgroup": "CALX",
         "orientation": "v",
         "showlegend": true,
         "textposition": "auto",
         "type": "bar",
         "x": [
          "CALX"
         ],
         "xaxis": "x",
         "y": [
          4.12
         ],
         "yaxis": "y"
        },
        {
         "alignmentgroup": "True",
         "hoverlabel": {
          "namelength": 0
         },
         "hovertemplate": "<b>%{hovertext}</b><br><br>symbol=%{x}<br>date=2020-12-21<br>percent=%{y}",
         "hovertext": [
          "CEVA"
         ],
         "ids": [
          "2020-12-21"
         ],
         "legendgroup": "CEVA",
         "marker": {
          "color": "#FFA15A"
         },
         "name": "CEVA",
         "offsetgroup": "CEVA",
         "orientation": "v",
         "showlegend": true,
         "textposition": "auto",
         "type": "bar",
         "x": [
          "CEVA"
         ],
         "xaxis": "x",
         "y": [
          2.24
         ],
         "yaxis": "y"
        },
        {
         "alignmentgroup": "True",
         "hoverlabel": {
          "namelength": 0
         },
         "hovertemplate": "<b>%{hovertext}</b><br><br>symbol=%{x}<br>date=2020-12-21<br>percent=%{y}",
         "hovertext": [
          "ERIC"
         ],
         "ids": [
          "2020-12-21"
         ],
         "legendgroup": "ERIC",
         "marker": {
          "color": "#19d3f3"
         },
         "name": "ERIC",
         "offsetgroup": "ERIC",
         "orientation": "v",
         "showlegend": true,
         "textposition": "auto",
         "type": "bar",
         "x": [
          "ERIC"
         ],
         "xaxis": "x",
         "y": [
          0.51
         ],
         "yaxis": "y"
        },
        {
         "alignmentgroup": "True",
         "hoverlabel": {
          "namelength": 0
         },
         "hovertemplate": "<b>%{hovertext}</b><br><br>symbol=%{x}<br>date=2020-12-21<br>percent=%{y}",
         "hovertext": [
          "IIVI"
         ],
         "ids": [
          "2020-12-21"
         ],
         "legendgroup": "IIVI",
         "marker": {
          "color": "#FF6692"
         },
         "name": "IIVI",
         "offsetgroup": "IIVI",
         "orientation": "v",
         "showlegend": true,
         "textposition": "auto",
         "type": "bar",
         "x": [
          "IIVI"
         ],
         "xaxis": "x",
         "y": [
          4.71
         ],
         "yaxis": "y"
        },
        {
         "alignmentgroup": "True",
         "hoverlabel": {
          "namelength": 0
         },
         "hovertemplate": "<b>%{hovertext}</b><br><br>symbol=%{x}<br>date=2020-12-21<br>percent=%{y}",
         "hovertext": [
          "INFN"
         ],
         "ids": [
          "2020-12-21"
         ],
         "legendgroup": "INFN",
         "marker": {
          "color": "#B6E880"
         },
         "name": "INFN",
         "offsetgroup": "INFN",
         "orientation": "v",
         "showlegend": true,
         "textposition": "auto",
         "type": "bar",
         "x": [
          "INFN"
         ],
         "xaxis": "x",
         "y": [
          2.4
         ],
         "yaxis": "y"
        },
        {
         "alignmentgroup": "True",
         "hoverlabel": {
          "namelength": 0
         },
         "hovertemplate": "<b>%{hovertext}</b><br><br>symbol=%{x}<br>date=2020-12-21<br>percent=%{y}",
         "hovertext": [
          "IPGP"
         ],
         "ids": [
          "2020-12-21"
         ],
         "legendgroup": "IPGP",
         "marker": {
          "color": "#FF97FF"
         },
         "name": "IPGP",
         "offsetgroup": "IPGP",
         "orientation": "v",
         "showlegend": true,
         "textposition": "auto",
         "type": "bar",
         "x": [
          "IPGP"
         ],
         "xaxis": "x",
         "y": [
          1.12
         ],
         "yaxis": "y"
        },
        {
         "alignmentgroup": "True",
         "hoverlabel": {
          "namelength": 0
         },
         "hovertemplate": "<b>%{hovertext}</b><br><br>symbol=%{x}<br>date=2020-12-21<br>percent=%{y}",
         "hovertext": [
          "IPHI"
         ],
         "ids": [
          "2020-12-21"
         ],
         "legendgroup": "IPHI",
         "marker": {
          "color": "#FECB52"
         },
         "name": "IPHI",
         "offsetgroup": "IPHI",
         "orientation": "v",
         "showlegend": true,
         "textposition": "auto",
         "type": "bar",
         "x": [
          "IPHI"
         ],
         "xaxis": "x",
         "y": [
          -0.09
         ],
         "yaxis": "y"
        },
        {
         "alignmentgroup": "True",
         "hoverlabel": {
          "namelength": 0
         },
         "hovertemplate": "<b>%{hovertext}</b><br><br>symbol=%{x}<br>date=2020-12-21<br>percent=%{y}",
         "hovertext": [
          "LITE"
         ],
         "ids": [
          "2020-12-21"
         ],
         "legendgroup": "LITE",
         "marker": {
          "color": "#636efa"
         },
         "name": "LITE",
         "offsetgroup": "LITE",
         "orientation": "v",
         "showlegend": true,
         "textposition": "auto",
         "type": "bar",
         "x": [
          "LITE"
         ],
         "xaxis": "x",
         "y": [
          9.05
         ],
         "yaxis": "y"
        },
        {
         "alignmentgroup": "True",
         "hoverlabel": {
          "namelength": 0
         },
         "hovertemplate": "<b>%{hovertext}</b><br><br>symbol=%{x}<br>date=2020-12-21<br>percent=%{y}",
         "hovertext": [
          "MRVL"
         ],
         "ids": [
          "2020-12-21"
         ],
         "legendgroup": "MRVL",
         "marker": {
          "color": "#EF553B"
         },
         "name": "MRVL",
         "offsetgroup": "MRVL",
         "orientation": "v",
         "showlegend": true,
         "textposition": "auto",
         "type": "bar",
         "x": [
          "MRVL"
         ],
         "xaxis": "x",
         "y": [
          -0.21
         ],
         "yaxis": "y"
        },
        {
         "alignmentgroup": "True",
         "hoverlabel": {
          "namelength": 0
         },
         "hovertemplate": "<b>%{hovertext}</b><br><br>symbol=%{x}<br>date=2020-12-21<br>percent=%{y}",
         "hovertext": [
          "MXL"
         ],
         "ids": [
          "2020-12-21"
         ],
         "legendgroup": "MXL",
         "marker": {
          "color": "#00cc96"
         },
         "name": "MXL",
         "offsetgroup": "MXL",
         "orientation": "v",
         "showlegend": true,
         "textposition": "auto",
         "type": "bar",
         "x": [
          "MXL"
         ],
         "xaxis": "x",
         "y": [
          2.6
         ],
         "yaxis": "y"
        },
        {
         "alignmentgroup": "True",
         "hoverlabel": {
          "namelength": 0
         },
         "hovertemplate": "<b>%{hovertext}</b><br><br>symbol=%{x}<br>date=2020-12-21<br>percent=%{y}",
         "hovertext": [
          "NXPI"
         ],
         "ids": [
          "2020-12-21"
         ],
         "legendgroup": "NXPI",
         "marker": {
          "color": "#ab63fa"
         },
         "name": "NXPI",
         "offsetgroup": "NXPI",
         "orientation": "v",
         "showlegend": true,
         "textposition": "auto",
         "type": "bar",
         "x": [
          "NXPI"
         ],
         "xaxis": "x",
         "y": [
          -0.41
         ],
         "yaxis": "y"
        },
        {
         "alignmentgroup": "True",
         "hoverlabel": {
          "namelength": 0
         },
         "hovertemplate": "<b>%{hovertext}</b><br><br>symbol=%{x}<br>date=2020-12-21<br>percent=%{y}",
         "hovertext": [
          "QRVO"
         ],
         "ids": [
          "2020-12-21"
         ],
         "legendgroup": "QRVO",
         "marker": {
          "color": "#FFA15A"
         },
         "name": "QRVO",
         "offsetgroup": "QRVO",
         "orientation": "v",
         "showlegend": true,
         "textposition": "auto",
         "type": "bar",
         "x": [
          "QRVO"
         ],
         "xaxis": "x",
         "y": [
          1.33
         ],
         "yaxis": "y"
        },
        {
         "alignmentgroup": "True",
         "hoverlabel": {
          "namelength": 0
         },
         "hovertemplate": "<b>%{hovertext}</b><br><br>symbol=%{x}<br>date=2020-12-21<br>percent=%{y}",
         "hovertext": [
          "SBAC"
         ],
         "ids": [
          "2020-12-21"
         ],
         "legendgroup": "SBAC",
         "marker": {
          "color": "#19d3f3"
         },
         "name": "SBAC",
         "offsetgroup": "SBAC",
         "orientation": "v",
         "showlegend": true,
         "textposition": "auto",
         "type": "bar",
         "x": [
          "SBAC"
         ],
         "xaxis": "x",
         "y": [
          0.36
         ],
         "yaxis": "y"
        },
        {
         "alignmentgroup": "True",
         "hoverlabel": {
          "namelength": 0
         },
         "hovertemplate": "<b>%{hovertext}</b><br><br>symbol=%{x}<br>date=2020-12-21<br>percent=%{y}",
         "hovertext": [
          "XLNX"
         ],
         "ids": [
          "2020-12-21"
         ],
         "legendgroup": "XLNX",
         "marker": {
          "color": "#FF6692"
         },
         "name": "XLNX",
         "offsetgroup": "XLNX",
         "orientation": "v",
         "showlegend": true,
         "textposition": "auto",
         "type": "bar",
         "x": [
          "XLNX"
         ],
         "xaxis": "x",
         "y": [
          -0.77
         ],
         "yaxis": "y"
        }
       ],
       "frames": [
        {
         "data": [
          {
           "alignmentgroup": "True",
           "hoverlabel": {
            "namelength": 0
           },
           "hovertemplate": "<b>%{hovertext}</b><br><br>symbol=%{x}<br>date=2020-12-21<br>percent=%{y}",
           "hovertext": [
            "ADTN"
           ],
           "ids": [
            "2020-12-21"
           ],
           "legendgroup": "ADTN",
           "marker": {
            "color": "#636efa"
           },
           "name": "ADTN",
           "offsetgroup": "ADTN",
           "orientation": "v",
           "showlegend": true,
           "textposition": "auto",
           "type": "bar",
           "x": [
            "ADTN"
           ],
           "xaxis": "x",
           "y": [
            1.08
           ],
           "yaxis": "y"
          },
          {
           "alignmentgroup": "True",
           "hoverlabel": {
            "namelength": 0
           },
           "hovertemplate": "<b>%{hovertext}</b><br><br>symbol=%{x}<br>date=2020-12-21<br>percent=%{y}",
           "hovertext": [
            "AVGO"
           ],
           "ids": [
            "2020-12-21"
           ],
           "legendgroup": "AVGO",
           "marker": {
            "color": "#EF553B"
           },
           "name": "AVGO",
           "offsetgroup": "AVGO",
           "orientation": "v",
           "showlegend": true,
           "textposition": "auto",
           "type": "bar",
           "x": [
            "AVGO"
           ],
           "xaxis": "x",
           "y": [
            0.98
           ],
           "yaxis": "y"
          },
          {
           "alignmentgroup": "True",
           "hoverlabel": {
            "namelength": 0
           },
           "hovertemplate": "<b>%{hovertext}</b><br><br>symbol=%{x}<br>date=2020-12-21<br>percent=%{y}",
           "hovertext": [
            "AVNW"
           ],
           "ids": [
            "2020-12-21"
           ],
           "legendgroup": "AVNW",
           "marker": {
            "color": "#00cc96"
           },
           "name": "AVNW",
           "offsetgroup": "AVNW",
           "orientation": "v",
           "showlegend": true,
           "textposition": "auto",
           "type": "bar",
           "x": [
            "AVNW"
           ],
           "xaxis": "x",
           "y": [
            -1
           ],
           "yaxis": "y"
          },
          {
           "alignmentgroup": "True",
           "hoverlabel": {
            "namelength": 0
           },
           "hovertemplate": "<b>%{hovertext}</b><br><br>symbol=%{x}<br>date=2020-12-21<br>percent=%{y}",
           "hovertext": [
            "CALX"
           ],
           "ids": [
            "2020-12-21"
           ],
           "legendgroup": "CALX",
           "marker": {
            "color": "#ab63fa"
           },
           "name": "CALX",
           "offsetgroup": "CALX",
           "orientation": "v",
           "showlegend": true,
           "textposition": "auto",
           "type": "bar",
           "x": [
            "CALX"
           ],
           "xaxis": "x",
           "y": [
            4.12
           ],
           "yaxis": "y"
          },
          {
           "alignmentgroup": "True",
           "hoverlabel": {
            "namelength": 0
           },
           "hovertemplate": "<b>%{hovertext}</b><br><br>symbol=%{x}<br>date=2020-12-21<br>percent=%{y}",
           "hovertext": [
            "CEVA"
           ],
           "ids": [
            "2020-12-21"
           ],
           "legendgroup": "CEVA",
           "marker": {
            "color": "#FFA15A"
           },
           "name": "CEVA",
           "offsetgroup": "CEVA",
           "orientation": "v",
           "showlegend": true,
           "textposition": "auto",
           "type": "bar",
           "x": [
            "CEVA"
           ],
           "xaxis": "x",
           "y": [
            2.24
           ],
           "yaxis": "y"
          },
          {
           "alignmentgroup": "True",
           "hoverlabel": {
            "namelength": 0
           },
           "hovertemplate": "<b>%{hovertext}</b><br><br>symbol=%{x}<br>date=2020-12-21<br>percent=%{y}",
           "hovertext": [
            "ERIC"
           ],
           "ids": [
            "2020-12-21"
           ],
           "legendgroup": "ERIC",
           "marker": {
            "color": "#19d3f3"
           },
           "name": "ERIC",
           "offsetgroup": "ERIC",
           "orientation": "v",
           "showlegend": true,
           "textposition": "auto",
           "type": "bar",
           "x": [
            "ERIC"
           ],
           "xaxis": "x",
           "y": [
            0.51
           ],
           "yaxis": "y"
          },
          {
           "alignmentgroup": "True",
           "hoverlabel": {
            "namelength": 0
           },
           "hovertemplate": "<b>%{hovertext}</b><br><br>symbol=%{x}<br>date=2020-12-21<br>percent=%{y}",
           "hovertext": [
            "IIVI"
           ],
           "ids": [
            "2020-12-21"
           ],
           "legendgroup": "IIVI",
           "marker": {
            "color": "#FF6692"
           },
           "name": "IIVI",
           "offsetgroup": "IIVI",
           "orientation": "v",
           "showlegend": true,
           "textposition": "auto",
           "type": "bar",
           "x": [
            "IIVI"
           ],
           "xaxis": "x",
           "y": [
            4.71
           ],
           "yaxis": "y"
          },
          {
           "alignmentgroup": "True",
           "hoverlabel": {
            "namelength": 0
           },
           "hovertemplate": "<b>%{hovertext}</b><br><br>symbol=%{x}<br>date=2020-12-21<br>percent=%{y}",
           "hovertext": [
            "INFN"
           ],
           "ids": [
            "2020-12-21"
           ],
           "legendgroup": "INFN",
           "marker": {
            "color": "#B6E880"
           },
           "name": "INFN",
           "offsetgroup": "INFN",
           "orientation": "v",
           "showlegend": true,
           "textposition": "auto",
           "type": "bar",
           "x": [
            "INFN"
           ],
           "xaxis": "x",
           "y": [
            2.4
           ],
           "yaxis": "y"
          },
          {
           "alignmentgroup": "True",
           "hoverlabel": {
            "namelength": 0
           },
           "hovertemplate": "<b>%{hovertext}</b><br><br>symbol=%{x}<br>date=2020-12-21<br>percent=%{y}",
           "hovertext": [
            "IPGP"
           ],
           "ids": [
            "2020-12-21"
           ],
           "legendgroup": "IPGP",
           "marker": {
            "color": "#FF97FF"
           },
           "name": "IPGP",
           "offsetgroup": "IPGP",
           "orientation": "v",
           "showlegend": true,
           "textposition": "auto",
           "type": "bar",
           "x": [
            "IPGP"
           ],
           "xaxis": "x",
           "y": [
            1.12
           ],
           "yaxis": "y"
          },
          {
           "alignmentgroup": "True",
           "hoverlabel": {
            "namelength": 0
           },
           "hovertemplate": "<b>%{hovertext}</b><br><br>symbol=%{x}<br>date=2020-12-21<br>percent=%{y}",
           "hovertext": [
            "IPHI"
           ],
           "ids": [
            "2020-12-21"
           ],
           "legendgroup": "IPHI",
           "marker": {
            "color": "#FECB52"
           },
           "name": "IPHI",
           "offsetgroup": "IPHI",
           "orientation": "v",
           "showlegend": true,
           "textposition": "auto",
           "type": "bar",
           "x": [
            "IPHI"
           ],
           "xaxis": "x",
           "y": [
            -0.09
           ],
           "yaxis": "y"
          },
          {
           "alignmentgroup": "True",
           "hoverlabel": {
            "namelength": 0
           },
           "hovertemplate": "<b>%{hovertext}</b><br><br>symbol=%{x}<br>date=2020-12-21<br>percent=%{y}",
           "hovertext": [
            "LITE"
           ],
           "ids": [
            "2020-12-21"
           ],
           "legendgroup": "LITE",
           "marker": {
            "color": "#636efa"
           },
           "name": "LITE",
           "offsetgroup": "LITE",
           "orientation": "v",
           "showlegend": true,
           "textposition": "auto",
           "type": "bar",
           "x": [
            "LITE"
           ],
           "xaxis": "x",
           "y": [
            9.05
           ],
           "yaxis": "y"
          },
          {
           "alignmentgroup": "True",
           "hoverlabel": {
            "namelength": 0
           },
           "hovertemplate": "<b>%{hovertext}</b><br><br>symbol=%{x}<br>date=2020-12-21<br>percent=%{y}",
           "hovertext": [
            "MRVL"
           ],
           "ids": [
            "2020-12-21"
           ],
           "legendgroup": "MRVL",
           "marker": {
            "color": "#EF553B"
           },
           "name": "MRVL",
           "offsetgroup": "MRVL",
           "orientation": "v",
           "showlegend": true,
           "textposition": "auto",
           "type": "bar",
           "x": [
            "MRVL"
           ],
           "xaxis": "x",
           "y": [
            -0.21
           ],
           "yaxis": "y"
          },
          {
           "alignmentgroup": "True",
           "hoverlabel": {
            "namelength": 0
           },
           "hovertemplate": "<b>%{hovertext}</b><br><br>symbol=%{x}<br>date=2020-12-21<br>percent=%{y}",
           "hovertext": [
            "MXL"
           ],
           "ids": [
            "2020-12-21"
           ],
           "legendgroup": "MXL",
           "marker": {
            "color": "#00cc96"
           },
           "name": "MXL",
           "offsetgroup": "MXL",
           "orientation": "v",
           "showlegend": true,
           "textposition": "auto",
           "type": "bar",
           "x": [
            "MXL"
           ],
           "xaxis": "x",
           "y": [
            2.6
           ],
           "yaxis": "y"
          },
          {
           "alignmentgroup": "True",
           "hoverlabel": {
            "namelength": 0
           },
           "hovertemplate": "<b>%{hovertext}</b><br><br>symbol=%{x}<br>date=2020-12-21<br>percent=%{y}",
           "hovertext": [
            "NXPI"
           ],
           "ids": [
            "2020-12-21"
           ],
           "legendgroup": "NXPI",
           "marker": {
            "color": "#ab63fa"
           },
           "name": "NXPI",
           "offsetgroup": "NXPI",
           "orientation": "v",
           "showlegend": true,
           "textposition": "auto",
           "type": "bar",
           "x": [
            "NXPI"
           ],
           "xaxis": "x",
           "y": [
            -0.41
           ],
           "yaxis": "y"
          },
          {
           "alignmentgroup": "True",
           "hoverlabel": {
            "namelength": 0
           },
           "hovertemplate": "<b>%{hovertext}</b><br><br>symbol=%{x}<br>date=2020-12-21<br>percent=%{y}",
           "hovertext": [
            "QRVO"
           ],
           "ids": [
            "2020-12-21"
           ],
           "legendgroup": "QRVO",
           "marker": {
            "color": "#FFA15A"
           },
           "name": "QRVO",
           "offsetgroup": "QRVO",
           "orientation": "v",
           "showlegend": true,
           "textposition": "auto",
           "type": "bar",
           "x": [
            "QRVO"
           ],
           "xaxis": "x",
           "y": [
            1.33
           ],
           "yaxis": "y"
          },
          {
           "alignmentgroup": "True",
           "hoverlabel": {
            "namelength": 0
           },
           "hovertemplate": "<b>%{hovertext}</b><br><br>symbol=%{x}<br>date=2020-12-21<br>percent=%{y}",
           "hovertext": [
            "SBAC"
           ],
           "ids": [
            "2020-12-21"
           ],
           "legendgroup": "SBAC",
           "marker": {
            "color": "#19d3f3"
           },
           "name": "SBAC",
           "offsetgroup": "SBAC",
           "orientation": "v",
           "showlegend": true,
           "textposition": "auto",
           "type": "bar",
           "x": [
            "SBAC"
           ],
           "xaxis": "x",
           "y": [
            0.36
           ],
           "yaxis": "y"
          },
          {
           "alignmentgroup": "True",
           "hoverlabel": {
            "namelength": 0
           },
           "hovertemplate": "<b>%{hovertext}</b><br><br>symbol=%{x}<br>date=2020-12-21<br>percent=%{y}",
           "hovertext": [
            "XLNX"
           ],
           "ids": [
            "2020-12-21"
           ],
           "legendgroup": "XLNX",
           "marker": {
            "color": "#FF6692"
           },
           "name": "XLNX",
           "offsetgroup": "XLNX",
           "orientation": "v",
           "showlegend": true,
           "textposition": "auto",
           "type": "bar",
           "x": [
            "XLNX"
           ],
           "xaxis": "x",
           "y": [
            -0.77
           ],
           "yaxis": "y"
          }
         ],
         "name": "2020-12-21"
        },
        {
         "data": [
          {
           "alignmentgroup": "True",
           "hoverlabel": {
            "namelength": 0
           },
           "hovertemplate": "<b>%{hovertext}</b><br><br>symbol=%{x}<br>date=2020-12-18<br>percent=%{y}",
           "hovertext": [
            "ADTN"
           ],
           "ids": [
            "2020-12-18"
           ],
           "legendgroup": "ADTN",
           "marker": {
            "color": "#636efa"
           },
           "name": "ADTN",
           "offsetgroup": "ADTN",
           "orientation": "v",
           "showlegend": true,
           "textposition": "auto",
           "type": "bar",
           "x": [
            "ADTN"
           ],
           "xaxis": "x",
           "y": [
            -0.86
           ],
           "yaxis": "y"
          },
          {
           "alignmentgroup": "True",
           "hoverlabel": {
            "namelength": 0
           },
           "hovertemplate": "<b>%{hovertext}</b><br><br>symbol=%{x}<br>date=2020-12-18<br>percent=%{y}",
           "hovertext": [
            "AVGO"
           ],
           "ids": [
            "2020-12-18"
           ],
           "legendgroup": "AVGO",
           "marker": {
            "color": "#EF553B"
           },
           "name": "AVGO",
           "offsetgroup": "AVGO",
           "orientation": "v",
           "showlegend": true,
           "textposition": "auto",
           "type": "bar",
           "x": [
            "AVGO"
           ],
           "xaxis": "x",
           "y": [
            -0.34
           ],
           "yaxis": "y"
          },
          {
           "alignmentgroup": "True",
           "hoverlabel": {
            "namelength": 0
           },
           "hovertemplate": "<b>%{hovertext}</b><br><br>symbol=%{x}<br>date=2020-12-18<br>percent=%{y}",
           "hovertext": [
            "AVNW"
           ],
           "ids": [
            "2020-12-18"
           ],
           "legendgroup": "AVNW",
           "marker": {
            "color": "#00cc96"
           },
           "name": "AVNW",
           "offsetgroup": "AVNW",
           "orientation": "v",
           "showlegend": true,
           "textposition": "auto",
           "type": "bar",
           "x": [
            "AVNW"
           ],
           "xaxis": "x",
           "y": [
            -3.6
           ],
           "yaxis": "y"
          },
          {
           "alignmentgroup": "True",
           "hoverlabel": {
            "namelength": 0
           },
           "hovertemplate": "<b>%{hovertext}</b><br><br>symbol=%{x}<br>date=2020-12-18<br>percent=%{y}",
           "hovertext": [
            "CALX"
           ],
           "ids": [
            "2020-12-18"
           ],
           "legendgroup": "CALX",
           "marker": {
            "color": "#ab63fa"
           },
           "name": "CALX",
           "offsetgroup": "CALX",
           "orientation": "v",
           "showlegend": true,
           "textposition": "auto",
           "type": "bar",
           "x": [
            "CALX"
           ],
           "xaxis": "x",
           "y": [
            4.48
           ],
           "yaxis": "y"
          },
          {
           "alignmentgroup": "True",
           "hoverlabel": {
            "namelength": 0
           },
           "hovertemplate": "<b>%{hovertext}</b><br><br>symbol=%{x}<br>date=2020-12-18<br>percent=%{y}",
           "hovertext": [
            "CEVA"
           ],
           "ids": [
            "2020-12-18"
           ],
           "legendgroup": "CEVA",
           "marker": {
            "color": "#FFA15A"
           },
           "name": "CEVA",
           "offsetgroup": "CEVA",
           "orientation": "v",
           "showlegend": true,
           "textposition": "auto",
           "type": "bar",
           "x": [
            "CEVA"
           ],
           "xaxis": "x",
           "y": [
            1.75
           ],
           "yaxis": "y"
          },
          {
           "alignmentgroup": "True",
           "hoverlabel": {
            "namelength": 0
           },
           "hovertemplate": "<b>%{hovertext}</b><br><br>symbol=%{x}<br>date=2020-12-18<br>percent=%{y}",
           "hovertext": [
            "ERIC"
           ],
           "ids": [
            "2020-12-18"
           ],
           "legendgroup": "ERIC",
           "marker": {
            "color": "#19d3f3"
           },
           "name": "ERIC",
           "offsetgroup": "ERIC",
           "orientation": "v",
           "showlegend": true,
           "textposition": "auto",
           "type": "bar",
           "x": [
            "ERIC"
           ],
           "xaxis": "x",
           "y": [
            -1.01
           ],
           "yaxis": "y"
          },
          {
           "alignmentgroup": "True",
           "hoverlabel": {
            "namelength": 0
           },
           "hovertemplate": "<b>%{hovertext}</b><br><br>symbol=%{x}<br>date=2020-12-18<br>percent=%{y}",
           "hovertext": [
            "IIVI"
           ],
           "ids": [
            "2020-12-18"
           ],
           "legendgroup": "IIVI",
           "marker": {
            "color": "#FF6692"
           },
           "name": "IIVI",
           "offsetgroup": "IIVI",
           "orientation": "v",
           "showlegend": true,
           "textposition": "auto",
           "type": "bar",
           "x": [
            "IIVI"
           ],
           "xaxis": "x",
           "y": [
            4.75
           ],
           "yaxis": "y"
          },
          {
           "alignmentgroup": "True",
           "hoverlabel": {
            "namelength": 0
           },
           "hovertemplate": "<b>%{hovertext}</b><br><br>symbol=%{x}<br>date=2020-12-18<br>percent=%{y}",
           "hovertext": [
            "INFN"
           ],
           "ids": [
            "2020-12-18"
           ],
           "legendgroup": "INFN",
           "marker": {
            "color": "#B6E880"
           },
           "name": "INFN",
           "offsetgroup": "INFN",
           "orientation": "v",
           "showlegend": true,
           "textposition": "auto",
           "type": "bar",
           "x": [
            "INFN"
           ],
           "xaxis": "x",
           "y": [
            0.98
           ],
           "yaxis": "y"
          },
          {
           "alignmentgroup": "True",
           "hoverlabel": {
            "namelength": 0
           },
           "hovertemplate": "<b>%{hovertext}</b><br><br>symbol=%{x}<br>date=2020-12-18<br>percent=%{y}",
           "hovertext": [
            "IPGP"
           ],
           "ids": [
            "2020-12-18"
           ],
           "legendgroup": "IPGP",
           "marker": {
            "color": "#FF97FF"
           },
           "name": "IPGP",
           "offsetgroup": "IPGP",
           "orientation": "v",
           "showlegend": true,
           "textposition": "auto",
           "type": "bar",
           "x": [
            "IPGP"
           ],
           "xaxis": "x",
           "y": [
            0.89
           ],
           "yaxis": "y"
          },
          {
           "alignmentgroup": "True",
           "hoverlabel": {
            "namelength": 0
           },
           "hovertemplate": "<b>%{hovertext}</b><br><br>symbol=%{x}<br>date=2020-12-18<br>percent=%{y}",
           "hovertext": [
            "IPHI"
           ],
           "ids": [
            "2020-12-18"
           ],
           "legendgroup": "IPHI",
           "marker": {
            "color": "#FECB52"
           },
           "name": "IPHI",
           "offsetgroup": "IPHI",
           "orientation": "v",
           "showlegend": true,
           "textposition": "auto",
           "type": "bar",
           "x": [
            "IPHI"
           ],
           "xaxis": "x",
           "y": [
            -1.56
           ],
           "yaxis": "y"
          },
          {
           "alignmentgroup": "True",
           "hoverlabel": {
            "namelength": 0
           },
           "hovertemplate": "<b>%{hovertext}</b><br><br>symbol=%{x}<br>date=2020-12-18<br>percent=%{y}",
           "hovertext": [
            "LITE"
           ],
           "ids": [
            "2020-12-18"
           ],
           "legendgroup": "LITE",
           "marker": {
            "color": "#636efa"
           },
           "name": "LITE",
           "offsetgroup": "LITE",
           "orientation": "v",
           "showlegend": true,
           "textposition": "auto",
           "type": "bar",
           "x": [
            "LITE"
           ],
           "xaxis": "x",
           "y": [
            7.26
           ],
           "yaxis": "y"
          },
          {
           "alignmentgroup": "True",
           "hoverlabel": {
            "namelength": 0
           },
           "hovertemplate": "<b>%{hovertext}</b><br><br>symbol=%{x}<br>date=2020-12-18<br>percent=%{y}",
           "hovertext": [
            "MRVL"
           ],
           "ids": [
            "2020-12-18"
           ],
           "legendgroup": "MRVL",
           "marker": {
            "color": "#EF553B"
           },
           "name": "MRVL",
           "offsetgroup": "MRVL",
           "orientation": "v",
           "showlegend": true,
           "textposition": "auto",
           "type": "bar",
           "x": [
            "MRVL"
           ],
           "xaxis": "x",
           "y": [
            -0.76
           ],
           "yaxis": "y"
          },
          {
           "alignmentgroup": "True",
           "hoverlabel": {
            "namelength": 0
           },
           "hovertemplate": "<b>%{hovertext}</b><br><br>symbol=%{x}<br>date=2020-12-18<br>percent=%{y}",
           "hovertext": [
            "MXL"
           ],
           "ids": [
            "2020-12-18"
           ],
           "legendgroup": "MXL",
           "marker": {
            "color": "#00cc96"
           },
           "name": "MXL",
           "offsetgroup": "MXL",
           "orientation": "v",
           "showlegend": true,
           "textposition": "auto",
           "type": "bar",
           "x": [
            "MXL"
           ],
           "xaxis": "x",
           "y": [
            4.54
           ],
           "yaxis": "y"
          },
          {
           "alignmentgroup": "True",
           "hoverlabel": {
            "namelength": 0
           },
           "hovertemplate": "<b>%{hovertext}</b><br><br>symbol=%{x}<br>date=2020-12-18<br>percent=%{y}",
           "hovertext": [
            "NXPI"
           ],
           "ids": [
            "2020-12-18"
           ],
           "legendgroup": "NXPI",
           "marker": {
            "color": "#ab63fa"
           },
           "name": "NXPI",
           "offsetgroup": "NXPI",
           "orientation": "v",
           "showlegend": true,
           "textposition": "auto",
           "type": "bar",
           "x": [
            "NXPI"
           ],
           "xaxis": "x",
           "y": [
            0.56
           ],
           "yaxis": "y"
          },
          {
           "alignmentgroup": "True",
           "hoverlabel": {
            "namelength": 0
           },
           "hovertemplate": "<b>%{hovertext}</b><br><br>symbol=%{x}<br>date=2020-12-18<br>percent=%{y}",
           "hovertext": [
            "QRVO"
           ],
           "ids": [
            "2020-12-18"
           ],
           "legendgroup": "QRVO",
           "marker": {
            "color": "#FFA15A"
           },
           "name": "QRVO",
           "offsetgroup": "QRVO",
           "orientation": "v",
           "showlegend": true,
           "textposition": "auto",
           "type": "bar",
           "x": [
            "QRVO"
           ],
           "xaxis": "x",
           "y": [
            0.37
           ],
           "yaxis": "y"
          },
          {
           "alignmentgroup": "True",
           "hoverlabel": {
            "namelength": 0
           },
           "hovertemplate": "<b>%{hovertext}</b><br><br>symbol=%{x}<br>date=2020-12-18<br>percent=%{y}",
           "hovertext": [
            "SBAC"
           ],
           "ids": [
            "2020-12-18"
           ],
           "legendgroup": "SBAC",
           "marker": {
            "color": "#19d3f3"
           },
           "name": "SBAC",
           "offsetgroup": "SBAC",
           "orientation": "v",
           "showlegend": true,
           "textposition": "auto",
           "type": "bar",
           "x": [
            "SBAC"
           ],
           "xaxis": "x",
           "y": [
            -0.36
           ],
           "yaxis": "y"
          },
          {
           "alignmentgroup": "True",
           "hoverlabel": {
            "namelength": 0
           },
           "hovertemplate": "<b>%{hovertext}</b><br><br>symbol=%{x}<br>date=2020-12-18<br>percent=%{y}",
           "hovertext": [
            "XLNX"
           ],
           "ids": [
            "2020-12-18"
           ],
           "legendgroup": "XLNX",
           "marker": {
            "color": "#FF6692"
           },
           "name": "XLNX",
           "offsetgroup": "XLNX",
           "orientation": "v",
           "showlegend": true,
           "textposition": "auto",
           "type": "bar",
           "x": [
            "XLNX"
           ],
           "xaxis": "x",
           "y": [
            -3.37
           ],
           "yaxis": "y"
          }
         ],
         "name": "2020-12-18"
        },
        {
         "data": [
          {
           "alignmentgroup": "True",
           "hoverlabel": {
            "namelength": 0
           },
           "hovertemplate": "<b>%{hovertext}</b><br><br>symbol=%{x}<br>date=2020-12-17<br>percent=%{y}",
           "hovertext": [
            "ADTN"
           ],
           "ids": [
            "2020-12-17"
           ],
           "legendgroup": "ADTN",
           "marker": {
            "color": "#636efa"
           },
           "name": "ADTN",
           "offsetgroup": "ADTN",
           "orientation": "v",
           "showlegend": true,
           "textposition": "auto",
           "type": "bar",
           "x": [
            "ADTN"
           ],
           "xaxis": "x",
           "y": [
            0.03
           ],
           "yaxis": "y"
          },
          {
           "alignmentgroup": "True",
           "hoverlabel": {
            "namelength": 0
           },
           "hovertemplate": "<b>%{hovertext}</b><br><br>symbol=%{x}<br>date=2020-12-17<br>percent=%{y}",
           "hovertext": [
            "AVGO"
           ],
           "ids": [
            "2020-12-17"
           ],
           "legendgroup": "AVGO",
           "marker": {
            "color": "#EF553B"
           },
           "name": "AVGO",
           "offsetgroup": "AVGO",
           "orientation": "v",
           "showlegend": true,
           "textposition": "auto",
           "type": "bar",
           "x": [
            "AVGO"
           ],
           "xaxis": "x",
           "y": [
            1.59
           ],
           "yaxis": "y"
          },
          {
           "alignmentgroup": "True",
           "hoverlabel": {
            "namelength": 0
           },
           "hovertemplate": "<b>%{hovertext}</b><br><br>symbol=%{x}<br>date=2020-12-17<br>percent=%{y}",
           "hovertext": [
            "AVNW"
           ],
           "ids": [
            "2020-12-17"
           ],
           "legendgroup": "AVNW",
           "marker": {
            "color": "#00cc96"
           },
           "name": "AVNW",
           "offsetgroup": "AVNW",
           "orientation": "v",
           "showlegend": true,
           "textposition": "auto",
           "type": "bar",
           "x": [
            "AVNW"
           ],
           "xaxis": "x",
           "y": [
            -6.72
           ],
           "yaxis": "y"
          },
          {
           "alignmentgroup": "True",
           "hoverlabel": {
            "namelength": 0
           },
           "hovertemplate": "<b>%{hovertext}</b><br><br>symbol=%{x}<br>date=2020-12-17<br>percent=%{y}",
           "hovertext": [
            "CALX"
           ],
           "ids": [
            "2020-12-17"
           ],
           "legendgroup": "CALX",
           "marker": {
            "color": "#ab63fa"
           },
           "name": "CALX",
           "offsetgroup": "CALX",
           "orientation": "v",
           "showlegend": true,
           "textposition": "auto",
           "type": "bar",
           "x": [
            "CALX"
           ],
           "xaxis": "x",
           "y": [
            8.04
           ],
           "yaxis": "y"
          },
          {
           "alignmentgroup": "True",
           "hoverlabel": {
            "namelength": 0
           },
           "hovertemplate": "<b>%{hovertext}</b><br><br>symbol=%{x}<br>date=2020-12-17<br>percent=%{y}",
           "hovertext": [
            "CEVA"
           ],
           "ids": [
            "2020-12-17"
           ],
           "legendgroup": "CEVA",
           "marker": {
            "color": "#FFA15A"
           },
           "name": "CEVA",
           "offsetgroup": "CEVA",
           "orientation": "v",
           "showlegend": true,
           "textposition": "auto",
           "type": "bar",
           "x": [
            "CEVA"
           ],
           "xaxis": "x",
           "y": [
            1.69
           ],
           "yaxis": "y"
          },
          {
           "alignmentgroup": "True",
           "hoverlabel": {
            "namelength": 0
           },
           "hovertemplate": "<b>%{hovertext}</b><br><br>symbol=%{x}<br>date=2020-12-17<br>percent=%{y}",
           "hovertext": [
            "ERIC"
           ],
           "ids": [
            "2020-12-17"
           ],
           "legendgroup": "ERIC",
           "marker": {
            "color": "#19d3f3"
           },
           "name": "ERIC",
           "offsetgroup": "ERIC",
           "orientation": "v",
           "showlegend": true,
           "textposition": "auto",
           "type": "bar",
           "x": [
            "ERIC"
           ],
           "xaxis": "x",
           "y": [
            -2.36
           ],
           "yaxis": "y"
          },
          {
           "alignmentgroup": "True",
           "hoverlabel": {
            "namelength": 0
           },
           "hovertemplate": "<b>%{hovertext}</b><br><br>symbol=%{x}<br>date=2020-12-17<br>percent=%{y}",
           "hovertext": [
            "IIVI"
           ],
           "ids": [
            "2020-12-17"
           ],
           "legendgroup": "IIVI",
           "marker": {
            "color": "#FF6692"
           },
           "name": "IIVI",
           "offsetgroup": "IIVI",
           "orientation": "v",
           "showlegend": true,
           "textposition": "auto",
           "type": "bar",
           "x": [
            "IIVI"
           ],
           "xaxis": "x",
           "y": [
            6.47
           ],
           "yaxis": "y"
          },
          {
           "alignmentgroup": "True",
           "hoverlabel": {
            "namelength": 0
           },
           "hovertemplate": "<b>%{hovertext}</b><br><br>symbol=%{x}<br>date=2020-12-17<br>percent=%{y}",
           "hovertext": [
            "INFN"
           ],
           "ids": [
            "2020-12-17"
           ],
           "legendgroup": "INFN",
           "marker": {
            "color": "#B6E880"
           },
           "name": "INFN",
           "offsetgroup": "INFN",
           "orientation": "v",
           "showlegend": true,
           "textposition": "auto",
           "type": "bar",
           "x": [
            "INFN"
           ],
           "xaxis": "x",
           "y": [
            9.71
           ],
           "yaxis": "y"
          },
          {
           "alignmentgroup": "True",
           "hoverlabel": {
            "namelength": 0
           },
           "hovertemplate": "<b>%{hovertext}</b><br><br>symbol=%{x}<br>date=2020-12-17<br>percent=%{y}",
           "hovertext": [
            "IPGP"
           ],
           "ids": [
            "2020-12-17"
           ],
           "legendgroup": "IPGP",
           "marker": {
            "color": "#FF97FF"
           },
           "name": "IPGP",
           "offsetgroup": "IPGP",
           "orientation": "v",
           "showlegend": true,
           "textposition": "auto",
           "type": "bar",
           "x": [
            "IPGP"
           ],
           "xaxis": "x",
           "y": [
            0.89
           ],
           "yaxis": "y"
          },
          {
           "alignmentgroup": "True",
           "hoverlabel": {
            "namelength": 0
           },
           "hovertemplate": "<b>%{hovertext}</b><br><br>symbol=%{x}<br>date=2020-12-17<br>percent=%{y}",
           "hovertext": [
            "IPHI"
           ],
           "ids": [
            "2020-12-17"
           ],
           "legendgroup": "IPHI",
           "marker": {
            "color": "#FECB52"
           },
           "name": "IPHI",
           "offsetgroup": "IPHI",
           "orientation": "v",
           "showlegend": true,
           "textposition": "auto",
           "type": "bar",
           "x": [
            "IPHI"
           ],
           "xaxis": "x",
           "y": [
            0.46
           ],
           "yaxis": "y"
          },
          {
           "alignmentgroup": "True",
           "hoverlabel": {
            "namelength": 0
           },
           "hovertemplate": "<b>%{hovertext}</b><br><br>symbol=%{x}<br>date=2020-12-17<br>percent=%{y}",
           "hovertext": [
            "LITE"
           ],
           "ids": [
            "2020-12-17"
           ],
           "legendgroup": "LITE",
           "marker": {
            "color": "#636efa"
           },
           "name": "LITE",
           "offsetgroup": "LITE",
           "orientation": "v",
           "showlegend": true,
           "textposition": "auto",
           "type": "bar",
           "x": [
            "LITE"
           ],
           "xaxis": "x",
           "y": [
            5.18
           ],
           "yaxis": "y"
          },
          {
           "alignmentgroup": "True",
           "hoverlabel": {
            "namelength": 0
           },
           "hovertemplate": "<b>%{hovertext}</b><br><br>symbol=%{x}<br>date=2020-12-17<br>percent=%{y}",
           "hovertext": [
            "MRVL"
           ],
           "ids": [
            "2020-12-17"
           ],
           "legendgroup": "MRVL",
           "marker": {
            "color": "#EF553B"
           },
           "name": "MRVL",
           "offsetgroup": "MRVL",
           "orientation": "v",
           "showlegend": true,
           "textposition": "auto",
           "type": "bar",
           "x": [
            "MRVL"
           ],
           "xaxis": "x",
           "y": [
            0.2
           ],
           "yaxis": "y"
          },
          {
           "alignmentgroup": "True",
           "hoverlabel": {
            "namelength": 0
           },
           "hovertemplate": "<b>%{hovertext}</b><br><br>symbol=%{x}<br>date=2020-12-17<br>percent=%{y}",
           "hovertext": [
            "MXL"
           ],
           "ids": [
            "2020-12-17"
           ],
           "legendgroup": "MXL",
           "marker": {
            "color": "#00cc96"
           },
           "name": "MXL",
           "offsetgroup": "MXL",
           "orientation": "v",
           "showlegend": true,
           "textposition": "auto",
           "type": "bar",
           "x": [
            "MXL"
           ],
           "xaxis": "x",
           "y": [
            6.74
           ],
           "yaxis": "y"
          },
          {
           "alignmentgroup": "True",
           "hoverlabel": {
            "namelength": 0
           },
           "hovertemplate": "<b>%{hovertext}</b><br><br>symbol=%{x}<br>date=2020-12-17<br>percent=%{y}",
           "hovertext": [
            "NXPI"
           ],
           "ids": [
            "2020-12-17"
           ],
           "legendgroup": "NXPI",
           "marker": {
            "color": "#ab63fa"
           },
           "name": "NXPI",
           "offsetgroup": "NXPI",
           "orientation": "v",
           "showlegend": true,
           "textposition": "auto",
           "type": "bar",
           "x": [
            "NXPI"
           ],
           "xaxis": "x",
           "y": [
            -0.85
           ],
           "yaxis": "y"
          },
          {
           "alignmentgroup": "True",
           "hoverlabel": {
            "namelength": 0
           },
           "hovertemplate": "<b>%{hovertext}</b><br><br>symbol=%{x}<br>date=2020-12-17<br>percent=%{y}",
           "hovertext": [
            "QRVO"
           ],
           "ids": [
            "2020-12-17"
           ],
           "legendgroup": "QRVO",
           "marker": {
            "color": "#FFA15A"
           },
           "name": "QRVO",
           "offsetgroup": "QRVO",
           "orientation": "v",
           "showlegend": true,
           "textposition": "auto",
           "type": "bar",
           "x": [
            "QRVO"
           ],
           "xaxis": "x",
           "y": [
            2.51
           ],
           "yaxis": "y"
          },
          {
           "alignmentgroup": "True",
           "hoverlabel": {
            "namelength": 0
           },
           "hovertemplate": "<b>%{hovertext}</b><br><br>symbol=%{x}<br>date=2020-12-17<br>percent=%{y}",
           "hovertext": [
            "SBAC"
           ],
           "ids": [
            "2020-12-17"
           ],
           "legendgroup": "SBAC",
           "marker": {
            "color": "#19d3f3"
           },
           "name": "SBAC",
           "offsetgroup": "SBAC",
           "orientation": "v",
           "showlegend": true,
           "textposition": "auto",
           "type": "bar",
           "x": [
            "SBAC"
           ],
           "xaxis": "x",
           "y": [
            -2.13
           ],
           "yaxis": "y"
          },
          {
           "alignmentgroup": "True",
           "hoverlabel": {
            "namelength": 0
           },
           "hovertemplate": "<b>%{hovertext}</b><br><br>symbol=%{x}<br>date=2020-12-17<br>percent=%{y}",
           "hovertext": [
            "XLNX"
           ],
           "ids": [
            "2020-12-17"
           ],
           "legendgroup": "XLNX",
           "marker": {
            "color": "#FF6692"
           },
           "name": "XLNX",
           "offsetgroup": "XLNX",
           "orientation": "v",
           "showlegend": true,
           "textposition": "auto",
           "type": "bar",
           "x": [
            "XLNX"
           ],
           "xaxis": "x",
           "y": [
            -4.96
           ],
           "yaxis": "y"
          }
         ],
         "name": "2020-12-17"
        },
        {
         "data": [
          {
           "alignmentgroup": "True",
           "hoverlabel": {
            "namelength": 0
           },
           "hovertemplate": "<b>%{hovertext}</b><br><br>symbol=%{x}<br>date=2020-12-16<br>percent=%{y}",
           "hovertext": [
            "ADTN"
           ],
           "ids": [
            "2020-12-16"
           ],
           "legendgroup": "ADTN",
           "marker": {
            "color": "#636efa"
           },
           "name": "ADTN",
           "offsetgroup": "ADTN",
           "orientation": "v",
           "showlegend": true,
           "textposition": "auto",
           "type": "bar",
           "x": [
            "ADTN"
           ],
           "xaxis": "x",
           "y": [
            2.67
           ],
           "yaxis": "y"
          },
          {
           "alignmentgroup": "True",
           "hoverlabel": {
            "namelength": 0
           },
           "hovertemplate": "<b>%{hovertext}</b><br><br>symbol=%{x}<br>date=2020-12-16<br>percent=%{y}",
           "hovertext": [
            "AVGO"
           ],
           "ids": [
            "2020-12-16"
           ],
           "legendgroup": "AVGO",
           "marker": {
            "color": "#EF553B"
           },
           "name": "AVGO",
           "offsetgroup": "AVGO",
           "orientation": "v",
           "showlegend": true,
           "textposition": "auto",
           "type": "bar",
           "x": [
            "AVGO"
           ],
           "xaxis": "x",
           "y": [
            1.93
           ],
           "yaxis": "y"
          },
          {
           "alignmentgroup": "True",
           "hoverlabel": {
            "namelength": 0
           },
           "hovertemplate": "<b>%{hovertext}</b><br><br>symbol=%{x}<br>date=2020-12-16<br>percent=%{y}",
           "hovertext": [
            "AVNW"
           ],
           "ids": [
            "2020-12-16"
           ],
           "legendgroup": "AVNW",
           "marker": {
            "color": "#00cc96"
           },
           "name": "AVNW",
           "offsetgroup": "AVNW",
           "orientation": "v",
           "showlegend": true,
           "textposition": "auto",
           "type": "bar",
           "x": [
            "AVNW"
           ],
           "xaxis": "x",
           "y": [
            -8.6
           ],
           "yaxis": "y"
          },
          {
           "alignmentgroup": "True",
           "hoverlabel": {
            "namelength": 0
           },
           "hovertemplate": "<b>%{hovertext}</b><br><br>symbol=%{x}<br>date=2020-12-16<br>percent=%{y}",
           "hovertext": [
            "CALX"
           ],
           "ids": [
            "2020-12-16"
           ],
           "legendgroup": "CALX",
           "marker": {
            "color": "#ab63fa"
           },
           "name": "CALX",
           "offsetgroup": "CALX",
           "orientation": "v",
           "showlegend": true,
           "textposition": "auto",
           "type": "bar",
           "x": [
            "CALX"
           ],
           "xaxis": "x",
           "y": [
            11.43
           ],
           "yaxis": "y"
          },
          {
           "alignmentgroup": "True",
           "hoverlabel": {
            "namelength": 0
           },
           "hovertemplate": "<b>%{hovertext}</b><br><br>symbol=%{x}<br>date=2020-12-16<br>percent=%{y}",
           "hovertext": [
            "CEVA"
           ],
           "ids": [
            "2020-12-16"
           ],
           "legendgroup": "CEVA",
           "marker": {
            "color": "#FFA15A"
           },
           "name": "CEVA",
           "offsetgroup": "CEVA",
           "orientation": "v",
           "showlegend": true,
           "textposition": "auto",
           "type": "bar",
           "x": [
            "CEVA"
           ],
           "xaxis": "x",
           "y": [
            2.34
           ],
           "yaxis": "y"
          },
          {
           "alignmentgroup": "True",
           "hoverlabel": {
            "namelength": 0
           },
           "hovertemplate": "<b>%{hovertext}</b><br><br>symbol=%{x}<br>date=2020-12-16<br>percent=%{y}",
           "hovertext": [
            "ERIC"
           ],
           "ids": [
            "2020-12-16"
           ],
           "legendgroup": "ERIC",
           "marker": {
            "color": "#19d3f3"
           },
           "name": "ERIC",
           "offsetgroup": "ERIC",
           "orientation": "v",
           "showlegend": true,
           "textposition": "auto",
           "type": "bar",
           "x": [
            "ERIC"
           ],
           "xaxis": "x",
           "y": [
            -1.17
           ],
           "yaxis": "y"
          },
          {
           "alignmentgroup": "True",
           "hoverlabel": {
            "namelength": 0
           },
           "hovertemplate": "<b>%{hovertext}</b><br><br>symbol=%{x}<br>date=2020-12-16<br>percent=%{y}",
           "hovertext": [
            "IIVI"
           ],
           "ids": [
            "2020-12-16"
           ],
           "legendgroup": "IIVI",
           "marker": {
            "color": "#FF6692"
           },
           "name": "IIVI",
           "offsetgroup": "IIVI",
           "orientation": "v",
           "showlegend": true,
           "textposition": "auto",
           "type": "bar",
           "x": [
            "IIVI"
           ],
           "xaxis": "x",
           "y": [
            8.34
           ],
           "yaxis": "y"
          },
          {
           "alignmentgroup": "True",
           "hoverlabel": {
            "namelength": 0
           },
           "hovertemplate": "<b>%{hovertext}</b><br><br>symbol=%{x}<br>date=2020-12-16<br>percent=%{y}",
           "hovertext": [
            "INFN"
           ],
           "ids": [
            "2020-12-16"
           ],
           "legendgroup": "INFN",
           "marker": {
            "color": "#B6E880"
           },
           "name": "INFN",
           "offsetgroup": "INFN",
           "orientation": "v",
           "showlegend": true,
           "textposition": "auto",
           "type": "bar",
           "x": [
            "INFN"
           ],
           "xaxis": "x",
           "y": [
            11.88
           ],
           "yaxis": "y"
          },
          {
           "alignmentgroup": "True",
           "hoverlabel": {
            "namelength": 0
           },
           "hovertemplate": "<b>%{hovertext}</b><br><br>symbol=%{x}<br>date=2020-12-16<br>percent=%{y}",
           "hovertext": [
            "IPGP"
           ],
           "ids": [
            "2020-12-16"
           ],
           "legendgroup": "IPGP",
           "marker": {
            "color": "#FF97FF"
           },
           "name": "IPGP",
           "offsetgroup": "IPGP",
           "orientation": "v",
           "showlegend": true,
           "textposition": "auto",
           "type": "bar",
           "x": [
            "IPGP"
           ],
           "xaxis": "x",
           "y": [
            2.33
           ],
           "yaxis": "y"
          },
          {
           "alignmentgroup": "True",
           "hoverlabel": {
            "namelength": 0
           },
           "hovertemplate": "<b>%{hovertext}</b><br><br>symbol=%{x}<br>date=2020-12-16<br>percent=%{y}",
           "hovertext": [
            "IPHI"
           ],
           "ids": [
            "2020-12-16"
           ],
           "legendgroup": "IPHI",
           "marker": {
            "color": "#FECB52"
           },
           "name": "IPHI",
           "offsetgroup": "IPHI",
           "orientation": "v",
           "showlegend": true,
           "textposition": "auto",
           "type": "bar",
           "x": [
            "IPHI"
           ],
           "xaxis": "x",
           "y": [
            2.28
           ],
           "yaxis": "y"
          },
          {
           "alignmentgroup": "True",
           "hoverlabel": {
            "namelength": 0
           },
           "hovertemplate": "<b>%{hovertext}</b><br><br>symbol=%{x}<br>date=2020-12-16<br>percent=%{y}",
           "hovertext": [
            "LITE"
           ],
           "ids": [
            "2020-12-16"
           ],
           "legendgroup": "LITE",
           "marker": {
            "color": "#636efa"
           },
           "name": "LITE",
           "offsetgroup": "LITE",
           "orientation": "v",
           "showlegend": true,
           "textposition": "auto",
           "type": "bar",
           "x": [
            "LITE"
           ],
           "xaxis": "x",
           "y": [
            5.1
           ],
           "yaxis": "y"
          },
          {
           "alignmentgroup": "True",
           "hoverlabel": {
            "namelength": 0
           },
           "hovertemplate": "<b>%{hovertext}</b><br><br>symbol=%{x}<br>date=2020-12-16<br>percent=%{y}",
           "hovertext": [
            "MRVL"
           ],
           "ids": [
            "2020-12-16"
           ],
           "legendgroup": "MRVL",
           "marker": {
            "color": "#EF553B"
           },
           "name": "MRVL",
           "offsetgroup": "MRVL",
           "orientation": "v",
           "showlegend": true,
           "textposition": "auto",
           "type": "bar",
           "x": [
            "MRVL"
           ],
           "xaxis": "x",
           "y": [
            4.06
           ],
           "yaxis": "y"
          },
          {
           "alignmentgroup": "True",
           "hoverlabel": {
            "namelength": 0
           },
           "hovertemplate": "<b>%{hovertext}</b><br><br>symbol=%{x}<br>date=2020-12-16<br>percent=%{y}",
           "hovertext": [
            "MXL"
           ],
           "ids": [
            "2020-12-16"
           ],
           "legendgroup": "MXL",
           "marker": {
            "color": "#00cc96"
           },
           "name": "MXL",
           "offsetgroup": "MXL",
           "orientation": "v",
           "showlegend": true,
           "textposition": "auto",
           "type": "bar",
           "x": [
            "MXL"
           ],
           "xaxis": "x",
           "y": [
            12.82
           ],
           "yaxis": "y"
          },
          {
           "alignmentgroup": "True",
           "hoverlabel": {
            "namelength": 0
           },
           "hovertemplate": "<b>%{hovertext}</b><br><br>symbol=%{x}<br>date=2020-12-16<br>percent=%{y}",
           "hovertext": [
            "NXPI"
           ],
           "ids": [
            "2020-12-16"
           ],
           "legendgroup": "NXPI",
           "marker": {
            "color": "#ab63fa"
           },
           "name": "NXPI",
           "offsetgroup": "NXPI",
           "orientation": "v",
           "showlegend": true,
           "textposition": "auto",
           "type": "bar",
           "x": [
            "NXPI"
           ],
           "xaxis": "x",
           "y": [
            -0.57
           ],
           "yaxis": "y"
          },
          {
           "alignmentgroup": "True",
           "hoverlabel": {
            "namelength": 0
           },
           "hovertemplate": "<b>%{hovertext}</b><br><br>symbol=%{x}<br>date=2020-12-16<br>percent=%{y}",
           "hovertext": [
            "QRVO"
           ],
           "ids": [
            "2020-12-16"
           ],
           "legendgroup": "QRVO",
           "marker": {
            "color": "#FFA15A"
           },
           "name": "QRVO",
           "offsetgroup": "QRVO",
           "orientation": "v",
           "showlegend": true,
           "textposition": "auto",
           "type": "bar",
           "x": [
            "QRVO"
           ],
           "xaxis": "x",
           "y": [
            2.68
           ],
           "yaxis": "y"
          },
          {
           "alignmentgroup": "True",
           "hoverlabel": {
            "namelength": 0
           },
           "hovertemplate": "<b>%{hovertext}</b><br><br>symbol=%{x}<br>date=2020-12-16<br>percent=%{y}",
           "hovertext": [
            "SBAC"
           ],
           "ids": [
            "2020-12-16"
           ],
           "legendgroup": "SBAC",
           "marker": {
            "color": "#19d3f3"
           },
           "name": "SBAC",
           "offsetgroup": "SBAC",
           "orientation": "v",
           "showlegend": true,
           "textposition": "auto",
           "type": "bar",
           "x": [
            "SBAC"
           ],
           "xaxis": "x",
           "y": [
            0.06
           ],
           "yaxis": "y"
          },
          {
           "alignmentgroup": "True",
           "hoverlabel": {
            "namelength": 0
           },
           "hovertemplate": "<b>%{hovertext}</b><br><br>symbol=%{x}<br>date=2020-12-16<br>percent=%{y}",
           "hovertext": [
            "XLNX"
           ],
           "ids": [
            "2020-12-16"
           ],
           "legendgroup": "XLNX",
           "marker": {
            "color": "#FF6692"
           },
           "name": "XLNX",
           "offsetgroup": "XLNX",
           "orientation": "v",
           "showlegend": true,
           "textposition": "auto",
           "type": "bar",
           "x": [
            "XLNX"
           ],
           "xaxis": "x",
           "y": [
            -5
           ],
           "yaxis": "y"
          }
         ],
         "name": "2020-12-16"
        },
        {
         "data": [
          {
           "alignmentgroup": "True",
           "hoverlabel": {
            "namelength": 0
           },
           "hovertemplate": "<b>%{hovertext}</b><br><br>symbol=%{x}<br>date=2020-12-15<br>percent=%{y}",
           "hovertext": [
            "ADTN"
           ],
           "ids": [
            "2020-12-15"
           ],
           "legendgroup": "ADTN",
           "marker": {
            "color": "#636efa"
           },
           "name": "ADTN",
           "offsetgroup": "ADTN",
           "orientation": "v",
           "showlegend": true,
           "textposition": "auto",
           "type": "bar",
           "x": [
            "ADTN"
           ],
           "xaxis": "x",
           "y": [
            2.46
           ],
           "yaxis": "y"
          },
          {
           "alignmentgroup": "True",
           "hoverlabel": {
            "namelength": 0
           },
           "hovertemplate": "<b>%{hovertext}</b><br><br>symbol=%{x}<br>date=2020-12-15<br>percent=%{y}",
           "hovertext": [
            "AVGO"
           ],
           "ids": [
            "2020-12-15"
           ],
           "legendgroup": "AVGO",
           "marker": {
            "color": "#EF553B"
           },
           "name": "AVGO",
           "offsetgroup": "AVGO",
           "orientation": "v",
           "showlegend": true,
           "textposition": "auto",
           "type": "bar",
           "x": [
            "AVGO"
           ],
           "xaxis": "x",
           "y": [
            3.6
           ],
           "yaxis": "y"
          },
          {
           "alignmentgroup": "True",
           "hoverlabel": {
            "namelength": 0
           },
           "hovertemplate": "<b>%{hovertext}</b><br><br>symbol=%{x}<br>date=2020-12-15<br>percent=%{y}",
           "hovertext": [
            "AVNW"
           ],
           "ids": [
            "2020-12-15"
           ],
           "legendgroup": "AVNW",
           "marker": {
            "color": "#00cc96"
           },
           "name": "AVNW",
           "offsetgroup": "AVNW",
           "orientation": "v",
           "showlegend": true,
           "textposition": "auto",
           "type": "bar",
           "x": [
            "AVNW"
           ],
           "xaxis": "x",
           "y": [
            -6.87
           ],
           "yaxis": "y"
          },
          {
           "alignmentgroup": "True",
           "hoverlabel": {
            "namelength": 0
           },
           "hovertemplate": "<b>%{hovertext}</b><br><br>symbol=%{x}<br>date=2020-12-15<br>percent=%{y}",
           "hovertext": [
            "CALX"
           ],
           "ids": [
            "2020-12-15"
           ],
           "legendgroup": "CALX",
           "marker": {
            "color": "#ab63fa"
           },
           "name": "CALX",
           "offsetgroup": "CALX",
           "orientation": "v",
           "showlegend": true,
           "textposition": "auto",
           "type": "bar",
           "x": [
            "CALX"
           ],
           "xaxis": "x",
           "y": [
            10.68
           ],
           "yaxis": "y"
          },
          {
           "alignmentgroup": "True",
           "hoverlabel": {
            "namelength": 0
           },
           "hovertemplate": "<b>%{hovertext}</b><br><br>symbol=%{x}<br>date=2020-12-15<br>percent=%{y}",
           "hovertext": [
            "CEVA"
           ],
           "ids": [
            "2020-12-15"
           ],
           "legendgroup": "CEVA",
           "marker": {
            "color": "#FFA15A"
           },
           "name": "CEVA",
           "offsetgroup": "CEVA",
           "orientation": "v",
           "showlegend": true,
           "textposition": "auto",
           "type": "bar",
           "x": [
            "CEVA"
           ],
           "xaxis": "x",
           "y": [
            1.55
           ],
           "yaxis": "y"
          },
          {
           "alignmentgroup": "True",
           "hoverlabel": {
            "namelength": 0
           },
           "hovertemplate": "<b>%{hovertext}</b><br><br>symbol=%{x}<br>date=2020-12-15<br>percent=%{y}",
           "hovertext": [
            "ERIC"
           ],
           "ids": [
            "2020-12-15"
           ],
           "legendgroup": "ERIC",
           "marker": {
            "color": "#19d3f3"
           },
           "name": "ERIC",
           "offsetgroup": "ERIC",
           "orientation": "v",
           "showlegend": true,
           "textposition": "auto",
           "type": "bar",
           "x": [
            "ERIC"
           ],
           "xaxis": "x",
           "y": [
            -1.83
           ],
           "yaxis": "y"
          },
          {
           "alignmentgroup": "True",
           "hoverlabel": {
            "namelength": 0
           },
           "hovertemplate": "<b>%{hovertext}</b><br><br>symbol=%{x}<br>date=2020-12-15<br>percent=%{y}",
           "hovertext": [
            "IIVI"
           ],
           "ids": [
            "2020-12-15"
           ],
           "legendgroup": "IIVI",
           "marker": {
            "color": "#FF6692"
           },
           "name": "IIVI",
           "offsetgroup": "IIVI",
           "orientation": "v",
           "showlegend": true,
           "textposition": "auto",
           "type": "bar",
           "x": [
            "IIVI"
           ],
           "xaxis": "x",
           "y": [
            6.04
           ],
           "yaxis": "y"
          },
          {
           "alignmentgroup": "True",
           "hoverlabel": {
            "namelength": 0
           },
           "hovertemplate": "<b>%{hovertext}</b><br><br>symbol=%{x}<br>date=2020-12-15<br>percent=%{y}",
           "hovertext": [
            "INFN"
           ],
           "ids": [
            "2020-12-15"
           ],
           "legendgroup": "INFN",
           "marker": {
            "color": "#B6E880"
           },
           "name": "INFN",
           "offsetgroup": "INFN",
           "orientation": "v",
           "showlegend": true,
           "textposition": "auto",
           "type": "bar",
           "x": [
            "INFN"
           ],
           "xaxis": "x",
           "y": [
            10.68
           ],
           "yaxis": "y"
          },
          {
           "alignmentgroup": "True",
           "hoverlabel": {
            "namelength": 0
           },
           "hovertemplate": "<b>%{hovertext}</b><br><br>symbol=%{x}<br>date=2020-12-15<br>percent=%{y}",
           "hovertext": [
            "IPGP"
           ],
           "ids": [
            "2020-12-15"
           ],
           "legendgroup": "IPGP",
           "marker": {
            "color": "#FF97FF"
           },
           "name": "IPGP",
           "offsetgroup": "IPGP",
           "orientation": "v",
           "showlegend": true,
           "textposition": "auto",
           "type": "bar",
           "x": [
            "IPGP"
           ],
           "xaxis": "x",
           "y": [
            2.27
           ],
           "yaxis": "y"
          },
          {
           "alignmentgroup": "True",
           "hoverlabel": {
            "namelength": 0
           },
           "hovertemplate": "<b>%{hovertext}</b><br><br>symbol=%{x}<br>date=2020-12-15<br>percent=%{y}",
           "hovertext": [
            "IPHI"
           ],
           "ids": [
            "2020-12-15"
           ],
           "legendgroup": "IPHI",
           "marker": {
            "color": "#FECB52"
           },
           "name": "IPHI",
           "offsetgroup": "IPHI",
           "orientation": "v",
           "showlegend": true,
           "textposition": "auto",
           "type": "bar",
           "x": [
            "IPHI"
           ],
           "xaxis": "x",
           "y": [
            2.31
           ],
           "yaxis": "y"
          },
          {
           "alignmentgroup": "True",
           "hoverlabel": {
            "namelength": 0
           },
           "hovertemplate": "<b>%{hovertext}</b><br><br>symbol=%{x}<br>date=2020-12-15<br>percent=%{y}",
           "hovertext": [
            "LITE"
           ],
           "ids": [
            "2020-12-15"
           ],
           "legendgroup": "LITE",
           "marker": {
            "color": "#636efa"
           },
           "name": "LITE",
           "offsetgroup": "LITE",
           "orientation": "v",
           "showlegend": true,
           "textposition": "auto",
           "type": "bar",
           "x": [
            "LITE"
           ],
           "xaxis": "x",
           "y": [
            4.01
           ],
           "yaxis": "y"
          },
          {
           "alignmentgroup": "True",
           "hoverlabel": {
            "namelength": 0
           },
           "hovertemplate": "<b>%{hovertext}</b><br><br>symbol=%{x}<br>date=2020-12-15<br>percent=%{y}",
           "hovertext": [
            "MRVL"
           ],
           "ids": [
            "2020-12-15"
           ],
           "legendgroup": "MRVL",
           "marker": {
            "color": "#EF553B"
           },
           "name": "MRVL",
           "offsetgroup": "MRVL",
           "orientation": "v",
           "showlegend": true,
           "textposition": "auto",
           "type": "bar",
           "x": [
            "MRVL"
           ],
           "xaxis": "x",
           "y": [
            4.41
           ],
           "yaxis": "y"
          },
          {
           "alignmentgroup": "True",
           "hoverlabel": {
            "namelength": 0
           },
           "hovertemplate": "<b>%{hovertext}</b><br><br>symbol=%{x}<br>date=2020-12-15<br>percent=%{y}",
           "hovertext": [
            "MXL"
           ],
           "ids": [
            "2020-12-15"
           ],
           "legendgroup": "MXL",
           "marker": {
            "color": "#00cc96"
           },
           "name": "MXL",
           "offsetgroup": "MXL",
           "orientation": "v",
           "showlegend": true,
           "textposition": "auto",
           "type": "bar",
           "x": [
            "MXL"
           ],
           "xaxis": "x",
           "y": [
            12.53
           ],
           "yaxis": "y"
          },
          {
           "alignmentgroup": "True",
           "hoverlabel": {
            "namelength": 0
           },
           "hovertemplate": "<b>%{hovertext}</b><br><br>symbol=%{x}<br>date=2020-12-15<br>percent=%{y}",
           "hovertext": [
            "NXPI"
           ],
           "ids": [
            "2020-12-15"
           ],
           "legendgroup": "NXPI",
           "marker": {
            "color": "#ab63fa"
           },
           "name": "NXPI",
           "offsetgroup": "NXPI",
           "orientation": "v",
           "showlegend": true,
           "textposition": "auto",
           "type": "bar",
           "x": [
            "NXPI"
           ],
           "xaxis": "x",
           "y": [
            -2.3
           ],
           "yaxis": "y"
          },
          {
           "alignmentgroup": "True",
           "hoverlabel": {
            "namelength": 0
           },
           "hovertemplate": "<b>%{hovertext}</b><br><br>symbol=%{x}<br>date=2020-12-15<br>percent=%{y}",
           "hovertext": [
            "QRVO"
           ],
           "ids": [
            "2020-12-15"
           ],
           "legendgroup": "QRVO",
           "marker": {
            "color": "#FFA15A"
           },
           "name": "QRVO",
           "offsetgroup": "QRVO",
           "orientation": "v",
           "showlegend": true,
           "textposition": "auto",
           "type": "bar",
           "x": [
            "QRVO"
           ],
           "xaxis": "x",
           "y": [
            3.02
           ],
           "yaxis": "y"
          },
          {
           "alignmentgroup": "True",
           "hoverlabel": {
            "namelength": 0
           },
           "hovertemplate": "<b>%{hovertext}</b><br><br>symbol=%{x}<br>date=2020-12-15<br>percent=%{y}",
           "hovertext": [
            "SBAC"
           ],
           "ids": [
            "2020-12-15"
           ],
           "legendgroup": "SBAC",
           "marker": {
            "color": "#19d3f3"
           },
           "name": "SBAC",
           "offsetgroup": "SBAC",
           "orientation": "v",
           "showlegend": true,
           "textposition": "auto",
           "type": "bar",
           "x": [
            "SBAC"
           ],
           "xaxis": "x",
           "y": [
            -0.13
           ],
           "yaxis": "y"
          },
          {
           "alignmentgroup": "True",
           "hoverlabel": {
            "namelength": 0
           },
           "hovertemplate": "<b>%{hovertext}</b><br><br>symbol=%{x}<br>date=2020-12-15<br>percent=%{y}",
           "hovertext": [
            "XLNX"
           ],
           "ids": [
            "2020-12-15"
           ],
           "legendgroup": "XLNX",
           "marker": {
            "color": "#FF6692"
           },
           "name": "XLNX",
           "offsetgroup": "XLNX",
           "orientation": "v",
           "showlegend": true,
           "textposition": "auto",
           "type": "bar",
           "x": [
            "XLNX"
           ],
           "xaxis": "x",
           "y": [
            -5.23
           ],
           "yaxis": "y"
          }
         ],
         "name": "2020-12-15"
        },
        {
         "data": [
          {
           "alignmentgroup": "True",
           "hoverlabel": {
            "namelength": 0
           },
           "hovertemplate": "<b>%{hovertext}</b><br><br>symbol=%{x}<br>date=2020-12-14<br>percent=%{y}",
           "hovertext": [
            "ADTN"
           ],
           "ids": [
            "2020-12-14"
           ],
           "legendgroup": "ADTN",
           "marker": {
            "color": "#636efa"
           },
           "name": "ADTN",
           "offsetgroup": "ADTN",
           "orientation": "v",
           "showlegend": true,
           "textposition": "auto",
           "type": "bar",
           "x": [
            "ADTN"
           ],
           "xaxis": "x",
           "y": [
            5.78
           ],
           "yaxis": "y"
          },
          {
           "alignmentgroup": "True",
           "hoverlabel": {
            "namelength": 0
           },
           "hovertemplate": "<b>%{hovertext}</b><br><br>symbol=%{x}<br>date=2020-12-14<br>percent=%{y}",
           "hovertext": [
            "AVGO"
           ],
           "ids": [
            "2020-12-14"
           ],
           "legendgroup": "AVGO",
           "marker": {
            "color": "#EF553B"
           },
           "name": "AVGO",
           "offsetgroup": "AVGO",
           "orientation": "v",
           "showlegend": true,
           "textposition": "auto",
           "type": "bar",
           "x": [
            "AVGO"
           ],
           "xaxis": "x",
           "y": [
            5.17
           ],
           "yaxis": "y"
          },
          {
           "alignmentgroup": "True",
           "hoverlabel": {
            "namelength": 0
           },
           "hovertemplate": "<b>%{hovertext}</b><br><br>symbol=%{x}<br>date=2020-12-14<br>percent=%{y}",
           "hovertext": [
            "AVNW"
           ],
           "ids": [
            "2020-12-14"
           ],
           "legendgroup": "AVNW",
           "marker": {
            "color": "#00cc96"
           },
           "name": "AVNW",
           "offsetgroup": "AVNW",
           "orientation": "v",
           "showlegend": true,
           "textposition": "auto",
           "type": "bar",
           "x": [
            "AVNW"
           ],
           "xaxis": "x",
           "y": [
            -6.14
           ],
           "yaxis": "y"
          },
          {
           "alignmentgroup": "True",
           "hoverlabel": {
            "namelength": 0
           },
           "hovertemplate": "<b>%{hovertext}</b><br><br>symbol=%{x}<br>date=2020-12-14<br>percent=%{y}",
           "hovertext": [
            "CALX"
           ],
           "ids": [
            "2020-12-14"
           ],
           "legendgroup": "CALX",
           "marker": {
            "color": "#ab63fa"
           },
           "name": "CALX",
           "offsetgroup": "CALX",
           "orientation": "v",
           "showlegend": true,
           "textposition": "auto",
           "type": "bar",
           "x": [
            "CALX"
           ],
           "xaxis": "x",
           "y": [
            13.04
           ],
           "yaxis": "y"
          },
          {
           "alignmentgroup": "True",
           "hoverlabel": {
            "namelength": 0
           },
           "hovertemplate": "<b>%{hovertext}</b><br><br>symbol=%{x}<br>date=2020-12-14<br>percent=%{y}",
           "hovertext": [
            "CEVA"
           ],
           "ids": [
            "2020-12-14"
           ],
           "legendgroup": "CEVA",
           "marker": {
            "color": "#FFA15A"
           },
           "name": "CEVA",
           "offsetgroup": "CEVA",
           "orientation": "v",
           "showlegend": true,
           "textposition": "auto",
           "type": "bar",
           "x": [
            "CEVA"
           ],
           "xaxis": "x",
           "y": [
            2.27
           ],
           "yaxis": "y"
          },
          {
           "alignmentgroup": "True",
           "hoverlabel": {
            "namelength": 0
           },
           "hovertemplate": "<b>%{hovertext}</b><br><br>symbol=%{x}<br>date=2020-12-14<br>percent=%{y}",
           "hovertext": [
            "ERIC"
           ],
           "ids": [
            "2020-12-14"
           ],
           "legendgroup": "ERIC",
           "marker": {
            "color": "#19d3f3"
           },
           "name": "ERIC",
           "offsetgroup": "ERIC",
           "orientation": "v",
           "showlegend": true,
           "textposition": "auto",
           "type": "bar",
           "x": [
            "ERIC"
           ],
           "xaxis": "x",
           "y": [
            0.6
           ],
           "yaxis": "y"
          },
          {
           "alignmentgroup": "True",
           "hoverlabel": {
            "namelength": 0
           },
           "hovertemplate": "<b>%{hovertext}</b><br><br>symbol=%{x}<br>date=2020-12-14<br>percent=%{y}",
           "hovertext": [
            "IIVI"
           ],
           "ids": [
            "2020-12-14"
           ],
           "legendgroup": "IIVI",
           "marker": {
            "color": "#FF6692"
           },
           "name": "IIVI",
           "offsetgroup": "IIVI",
           "orientation": "v",
           "showlegend": true,
           "textposition": "auto",
           "type": "bar",
           "x": [
            "IIVI"
           ],
           "xaxis": "x",
           "y": [
            9.14
           ],
           "yaxis": "y"
          },
          {
           "alignmentgroup": "True",
           "hoverlabel": {
            "namelength": 0
           },
           "hovertemplate": "<b>%{hovertext}</b><br><br>symbol=%{x}<br>date=2020-12-14<br>percent=%{y}",
           "hovertext": [
            "INFN"
           ],
           "ids": [
            "2020-12-14"
           ],
           "legendgroup": "INFN",
           "marker": {
            "color": "#B6E880"
           },
           "name": "INFN",
           "offsetgroup": "INFN",
           "orientation": "v",
           "showlegend": true,
           "textposition": "auto",
           "type": "bar",
           "x": [
            "INFN"
           ],
           "xaxis": "x",
           "y": [
            15.54
           ],
           "yaxis": "y"
          },
          {
           "alignmentgroup": "True",
           "hoverlabel": {
            "namelength": 0
           },
           "hovertemplate": "<b>%{hovertext}</b><br><br>symbol=%{x}<br>date=2020-12-14<br>percent=%{y}",
           "hovertext": [
            "IPGP"
           ],
           "ids": [
            "2020-12-14"
           ],
           "legendgroup": "IPGP",
           "marker": {
            "color": "#FF97FF"
           },
           "name": "IPGP",
           "offsetgroup": "IPGP",
           "orientation": "v",
           "showlegend": true,
           "textposition": "auto",
           "type": "bar",
           "x": [
            "IPGP"
           ],
           "xaxis": "x",
           "y": [
            4.61
           ],
           "yaxis": "y"
          },
          {
           "alignmentgroup": "True",
           "hoverlabel": {
            "namelength": 0
           },
           "hovertemplate": "<b>%{hovertext}</b><br><br>symbol=%{x}<br>date=2020-12-14<br>percent=%{y}",
           "hovertext": [
            "IPHI"
           ],
           "ids": [
            "2020-12-14"
           ],
           "legendgroup": "IPHI",
           "marker": {
            "color": "#FECB52"
           },
           "name": "IPHI",
           "offsetgroup": "IPHI",
           "orientation": "v",
           "showlegend": true,
           "textposition": "auto",
           "type": "bar",
           "x": [
            "IPHI"
           ],
           "xaxis": "x",
           "y": [
            4.17
           ],
           "yaxis": "y"
          },
          {
           "alignmentgroup": "True",
           "hoverlabel": {
            "namelength": 0
           },
           "hovertemplate": "<b>%{hovertext}</b><br><br>symbol=%{x}<br>date=2020-12-14<br>percent=%{y}",
           "hovertext": [
            "LITE"
           ],
           "ids": [
            "2020-12-14"
           ],
           "legendgroup": "LITE",
           "marker": {
            "color": "#636efa"
           },
           "name": "LITE",
           "offsetgroup": "LITE",
           "orientation": "v",
           "showlegend": true,
           "textposition": "auto",
           "type": "bar",
           "x": [
            "LITE"
           ],
           "xaxis": "x",
           "y": [
            11.12
           ],
           "yaxis": "y"
          },
          {
           "alignmentgroup": "True",
           "hoverlabel": {
            "namelength": 0
           },
           "hovertemplate": "<b>%{hovertext}</b><br><br>symbol=%{x}<br>date=2020-12-14<br>percent=%{y}",
           "hovertext": [
            "MRVL"
           ],
           "ids": [
            "2020-12-14"
           ],
           "legendgroup": "MRVL",
           "marker": {
            "color": "#EF553B"
           },
           "name": "MRVL",
           "offsetgroup": "MRVL",
           "orientation": "v",
           "showlegend": true,
           "textposition": "auto",
           "type": "bar",
           "x": [
            "MRVL"
           ],
           "xaxis": "x",
           "y": [
            6.36
           ],
           "yaxis": "y"
          },
          {
           "alignmentgroup": "True",
           "hoverlabel": {
            "namelength": 0
           },
           "hovertemplate": "<b>%{hovertext}</b><br><br>symbol=%{x}<br>date=2020-12-14<br>percent=%{y}",
           "hovertext": [
            "MXL"
           ],
           "ids": [
            "2020-12-14"
           ],
           "legendgroup": "MXL",
           "marker": {
            "color": "#00cc96"
           },
           "name": "MXL",
           "offsetgroup": "MXL",
           "orientation": "v",
           "showlegend": true,
           "textposition": "auto",
           "type": "bar",
           "x": [
            "MXL"
           ],
           "xaxis": "x",
           "y": [
            16.95
           ],
           "yaxis": "y"
          },
          {
           "alignmentgroup": "True",
           "hoverlabel": {
            "namelength": 0
           },
           "hovertemplate": "<b>%{hovertext}</b><br><br>symbol=%{x}<br>date=2020-12-14<br>percent=%{y}",
           "hovertext": [
            "NXPI"
           ],
           "ids": [
            "2020-12-14"
           ],
           "legendgroup": "NXPI",
           "marker": {
            "color": "#ab63fa"
           },
           "name": "NXPI",
           "offsetgroup": "NXPI",
           "orientation": "v",
           "showlegend": true,
           "textposition": "auto",
           "type": "bar",
           "x": [
            "NXPI"
           ],
           "xaxis": "x",
           "y": [
            -1.31
           ],
           "yaxis": "y"
          },
          {
           "alignmentgroup": "True",
           "hoverlabel": {
            "namelength": 0
           },
           "hovertemplate": "<b>%{hovertext}</b><br><br>symbol=%{x}<br>date=2020-12-14<br>percent=%{y}",
           "hovertext": [
            "QRVO"
           ],
           "ids": [
            "2020-12-14"
           ],
           "legendgroup": "QRVO",
           "marker": {
            "color": "#FFA15A"
           },
           "name": "QRVO",
           "offsetgroup": "QRVO",
           "orientation": "v",
           "showlegend": true,
           "textposition": "auto",
           "type": "bar",
           "x": [
            "QRVO"
           ],
           "xaxis": "x",
           "y": [
            5.66
           ],
           "yaxis": "y"
          },
          {
           "alignmentgroup": "True",
           "hoverlabel": {
            "namelength": 0
           },
           "hovertemplate": "<b>%{hovertext}</b><br><br>symbol=%{x}<br>date=2020-12-14<br>percent=%{y}",
           "hovertext": [
            "SBAC"
           ],
           "ids": [
            "2020-12-14"
           ],
           "legendgroup": "SBAC",
           "marker": {
            "color": "#19d3f3"
           },
           "name": "SBAC",
           "offsetgroup": "SBAC",
           "orientation": "v",
           "showlegend": true,
           "textposition": "auto",
           "type": "bar",
           "x": [
            "SBAC"
           ],
           "xaxis": "x",
           "y": [
            0.64
           ],
           "yaxis": "y"
          },
          {
           "alignmentgroup": "True",
           "hoverlabel": {
            "namelength": 0
           },
           "hovertemplate": "<b>%{hovertext}</b><br><br>symbol=%{x}<br>date=2020-12-14<br>percent=%{y}",
           "hovertext": [
            "XLNX"
           ],
           "ids": [
            "2020-12-14"
           ],
           "legendgroup": "XLNX",
           "marker": {
            "color": "#FF6692"
           },
           "name": "XLNX",
           "offsetgroup": "XLNX",
           "orientation": "v",
           "showlegend": true,
           "textposition": "auto",
           "type": "bar",
           "x": [
            "XLNX"
           ],
           "xaxis": "x",
           "y": [
            -3.27
           ],
           "yaxis": "y"
          }
         ],
         "name": "2020-12-14"
        },
        {
         "data": [
          {
           "alignmentgroup": "True",
           "hoverlabel": {
            "namelength": 0
           },
           "hovertemplate": "<b>%{hovertext}</b><br><br>symbol=%{x}<br>date=2020-12-11<br>percent=%{y}",
           "hovertext": [
            "ADTN"
           ],
           "ids": [
            "2020-12-11"
           ],
           "legendgroup": "ADTN",
           "marker": {
            "color": "#636efa"
           },
           "name": "ADTN",
           "offsetgroup": "ADTN",
           "orientation": "v",
           "showlegend": true,
           "textposition": "auto",
           "type": "bar",
           "x": [
            "ADTN"
           ],
           "xaxis": "x",
           "y": [
            6.68
           ],
           "yaxis": "y"
          },
          {
           "alignmentgroup": "True",
           "hoverlabel": {
            "namelength": 0
           },
           "hovertemplate": "<b>%{hovertext}</b><br><br>symbol=%{x}<br>date=2020-12-11<br>percent=%{y}",
           "hovertext": [
            "AVGO"
           ],
           "ids": [
            "2020-12-11"
           ],
           "legendgroup": "AVGO",
           "marker": {
            "color": "#EF553B"
           },
           "name": "AVGO",
           "offsetgroup": "AVGO",
           "orientation": "v",
           "showlegend": true,
           "textposition": "auto",
           "type": "bar",
           "x": [
            "AVGO"
           ],
           "xaxis": "x",
           "y": [
            6.72
           ],
           "yaxis": "y"
          },
          {
           "alignmentgroup": "True",
           "hoverlabel": {
            "namelength": 0
           },
           "hovertemplate": "<b>%{hovertext}</b><br><br>symbol=%{x}<br>date=2020-12-11<br>percent=%{y}",
           "hovertext": [
            "AVNW"
           ],
           "ids": [
            "2020-12-11"
           ],
           "legendgroup": "AVNW",
           "marker": {
            "color": "#00cc96"
           },
           "name": "AVNW",
           "offsetgroup": "AVNW",
           "orientation": "v",
           "showlegend": true,
           "textposition": "auto",
           "type": "bar",
           "x": [
            "AVNW"
           ],
           "xaxis": "x",
           "y": [
            -3.97
           ],
           "yaxis": "y"
          },
          {
           "alignmentgroup": "True",
           "hoverlabel": {
            "namelength": 0
           },
           "hovertemplate": "<b>%{hovertext}</b><br><br>symbol=%{x}<br>date=2020-12-11<br>percent=%{y}",
           "hovertext": [
            "CALX"
           ],
           "ids": [
            "2020-12-11"
           ],
           "legendgroup": "CALX",
           "marker": {
            "color": "#ab63fa"
           },
           "name": "CALX",
           "offsetgroup": "CALX",
           "orientation": "v",
           "showlegend": true,
           "textposition": "auto",
           "type": "bar",
           "x": [
            "CALX"
           ],
           "xaxis": "x",
           "y": [
            32.46
           ],
           "yaxis": "y"
          },
          {
           "alignmentgroup": "True",
           "hoverlabel": {
            "namelength": 0
           },
           "hovertemplate": "<b>%{hovertext}</b><br><br>symbol=%{x}<br>date=2020-12-11<br>percent=%{y}",
           "hovertext": [
            "CEVA"
           ],
           "ids": [
            "2020-12-11"
           ],
           "legendgroup": "CEVA",
           "marker": {
            "color": "#FFA15A"
           },
           "name": "CEVA",
           "offsetgroup": "CEVA",
           "orientation": "v",
           "showlegend": true,
           "textposition": "auto",
           "type": "bar",
           "x": [
            "CEVA"
           ],
           "xaxis": "x",
           "y": [
            4
           ],
           "yaxis": "y"
          },
          {
           "alignmentgroup": "True",
           "hoverlabel": {
            "namelength": 0
           },
           "hovertemplate": "<b>%{hovertext}</b><br><br>symbol=%{x}<br>date=2020-12-11<br>percent=%{y}",
           "hovertext": [
            "ERIC"
           ],
           "ids": [
            "2020-12-11"
           ],
           "legendgroup": "ERIC",
           "marker": {
            "color": "#19d3f3"
           },
           "name": "ERIC",
           "offsetgroup": "ERIC",
           "orientation": "v",
           "showlegend": true,
           "textposition": "auto",
           "type": "bar",
           "x": [
            "ERIC"
           ],
           "xaxis": "x",
           "y": [
            1.03
           ],
           "yaxis": "y"
          },
          {
           "alignmentgroup": "True",
           "hoverlabel": {
            "namelength": 0
           },
           "hovertemplate": "<b>%{hovertext}</b><br><br>symbol=%{x}<br>date=2020-12-11<br>percent=%{y}",
           "hovertext": [
            "IIVI"
           ],
           "ids": [
            "2020-12-11"
           ],
           "legendgroup": "IIVI",
           "marker": {
            "color": "#FF6692"
           },
           "name": "IIVI",
           "offsetgroup": "IIVI",
           "orientation": "v",
           "showlegend": true,
           "textposition": "auto",
           "type": "bar",
           "x": [
            "IIVI"
           ],
           "xaxis": "x",
           "y": [
            11.46
           ],
           "yaxis": "y"
          },
          {
           "alignmentgroup": "True",
           "hoverlabel": {
            "namelength": 0
           },
           "hovertemplate": "<b>%{hovertext}</b><br><br>symbol=%{x}<br>date=2020-12-11<br>percent=%{y}",
           "hovertext": [
            "INFN"
           ],
           "ids": [
            "2020-12-11"
           ],
           "legendgroup": "INFN",
           "marker": {
            "color": "#B6E880"
           },
           "name": "INFN",
           "offsetgroup": "INFN",
           "orientation": "v",
           "showlegend": true,
           "textposition": "auto",
           "type": "bar",
           "x": [
            "INFN"
           ],
           "xaxis": "x",
           "y": [
            19.96
           ],
           "yaxis": "y"
          },
          {
           "alignmentgroup": "True",
           "hoverlabel": {
            "namelength": 0
           },
           "hovertemplate": "<b>%{hovertext}</b><br><br>symbol=%{x}<br>date=2020-12-11<br>percent=%{y}",
           "hovertext": [
            "IPGP"
           ],
           "ids": [
            "2020-12-11"
           ],
           "legendgroup": "IPGP",
           "marker": {
            "color": "#FF97FF"
           },
           "name": "IPGP",
           "offsetgroup": "IPGP",
           "orientation": "v",
           "showlegend": true,
           "textposition": "auto",
           "type": "bar",
           "x": [
            "IPGP"
           ],
           "xaxis": "x",
           "y": [
            4.65
           ],
           "yaxis": "y"
          },
          {
           "alignmentgroup": "True",
           "hoverlabel": {
            "namelength": 0
           },
           "hovertemplate": "<b>%{hovertext}</b><br><br>symbol=%{x}<br>date=2020-12-11<br>percent=%{y}",
           "hovertext": [
            "IPHI"
           ],
           "ids": [
            "2020-12-11"
           ],
           "legendgroup": "IPHI",
           "marker": {
            "color": "#FECB52"
           },
           "name": "IPHI",
           "offsetgroup": "IPHI",
           "orientation": "v",
           "showlegend": true,
           "textposition": "auto",
           "type": "bar",
           "x": [
            "IPHI"
           ],
           "xaxis": "x",
           "y": [
            6.28
           ],
           "yaxis": "y"
          },
          {
           "alignmentgroup": "True",
           "hoverlabel": {
            "namelength": 0
           },
           "hovertemplate": "<b>%{hovertext}</b><br><br>symbol=%{x}<br>date=2020-12-11<br>percent=%{y}",
           "hovertext": [
            "LITE"
           ],
           "ids": [
            "2020-12-11"
           ],
           "legendgroup": "LITE",
           "marker": {
            "color": "#636efa"
           },
           "name": "LITE",
           "offsetgroup": "LITE",
           "orientation": "v",
           "showlegend": true,
           "textposition": "auto",
           "type": "bar",
           "x": [
            "LITE"
           ],
           "xaxis": "x",
           "y": [
            12.85
           ],
           "yaxis": "y"
          },
          {
           "alignmentgroup": "True",
           "hoverlabel": {
            "namelength": 0
           },
           "hovertemplate": "<b>%{hovertext}</b><br><br>symbol=%{x}<br>date=2020-12-11<br>percent=%{y}",
           "hovertext": [
            "MRVL"
           ],
           "ids": [
            "2020-12-11"
           ],
           "legendgroup": "MRVL",
           "marker": {
            "color": "#EF553B"
           },
           "name": "MRVL",
           "offsetgroup": "MRVL",
           "orientation": "v",
           "showlegend": true,
           "textposition": "auto",
           "type": "bar",
           "x": [
            "MRVL"
           ],
           "xaxis": "x",
           "y": [
            9.8
           ],
           "yaxis": "y"
          },
          {
           "alignmentgroup": "True",
           "hoverlabel": {
            "namelength": 0
           },
           "hovertemplate": "<b>%{hovertext}</b><br><br>symbol=%{x}<br>date=2020-12-11<br>percent=%{y}",
           "hovertext": [
            "MXL"
           ],
           "ids": [
            "2020-12-11"
           ],
           "legendgroup": "MXL",
           "marker": {
            "color": "#00cc96"
           },
           "name": "MXL",
           "offsetgroup": "MXL",
           "orientation": "v",
           "showlegend": true,
           "textposition": "auto",
           "type": "bar",
           "x": [
            "MXL"
           ],
           "xaxis": "x",
           "y": [
            16.18
           ],
           "yaxis": "y"
          },
          {
           "alignmentgroup": "True",
           "hoverlabel": {
            "namelength": 0
           },
           "hovertemplate": "<b>%{hovertext}</b><br><br>symbol=%{x}<br>date=2020-12-11<br>percent=%{y}",
           "hovertext": [
            "NXPI"
           ],
           "ids": [
            "2020-12-11"
           ],
           "legendgroup": "NXPI",
           "marker": {
            "color": "#ab63fa"
           },
           "name": "NXPI",
           "offsetgroup": "NXPI",
           "orientation": "v",
           "showlegend": true,
           "textposition": "auto",
           "type": "bar",
           "x": [
            "NXPI"
           ],
           "xaxis": "x",
           "y": [
            -0.46
           ],
           "yaxis": "y"
          },
          {
           "alignmentgroup": "True",
           "hoverlabel": {
            "namelength": 0
           },
           "hovertemplate": "<b>%{hovertext}</b><br><br>symbol=%{x}<br>date=2020-12-11<br>percent=%{y}",
           "hovertext": [
            "QRVO"
           ],
           "ids": [
            "2020-12-11"
           ],
           "legendgroup": "QRVO",
           "marker": {
            "color": "#FFA15A"
           },
           "name": "QRVO",
           "offsetgroup": "QRVO",
           "orientation": "v",
           "showlegend": true,
           "textposition": "auto",
           "type": "bar",
           "x": [
            "QRVO"
           ],
           "xaxis": "x",
           "y": [
            6.96
           ],
           "yaxis": "y"
          },
          {
           "alignmentgroup": "True",
           "hoverlabel": {
            "namelength": 0
           },
           "hovertemplate": "<b>%{hovertext}</b><br><br>symbol=%{x}<br>date=2020-12-11<br>percent=%{y}",
           "hovertext": [
            "SBAC"
           ],
           "ids": [
            "2020-12-11"
           ],
           "legendgroup": "SBAC",
           "marker": {
            "color": "#19d3f3"
           },
           "name": "SBAC",
           "offsetgroup": "SBAC",
           "orientation": "v",
           "showlegend": true,
           "textposition": "auto",
           "type": "bar",
           "x": [
            "SBAC"
           ],
           "xaxis": "x",
           "y": [
            0.11
           ],
           "yaxis": "y"
          },
          {
           "alignmentgroup": "True",
           "hoverlabel": {
            "namelength": 0
           },
           "hovertemplate": "<b>%{hovertext}</b><br><br>symbol=%{x}<br>date=2020-12-11<br>percent=%{y}",
           "hovertext": [
            "XLNX"
           ],
           "ids": [
            "2020-12-11"
           ],
           "legendgroup": "XLNX",
           "marker": {
            "color": "#FF6692"
           },
           "name": "XLNX",
           "offsetgroup": "XLNX",
           "orientation": "v",
           "showlegend": true,
           "textposition": "auto",
           "type": "bar",
           "x": [
            "XLNX"
           ],
           "xaxis": "x",
           "y": [
            0.23
           ],
           "yaxis": "y"
          }
         ],
         "name": "2020-12-11"
        }
       ],
       "layout": {
        "barmode": "relative",
        "height": 800,
        "legend": {
         "title": {
          "text": "symbol"
         },
         "tracegroupgap": 0
        },
        "sliders": [
         {
          "active": 0,
          "currentvalue": {
           "prefix": "date="
          },
          "len": 0.9,
          "pad": {
           "b": 10,
           "t": 60
          },
          "steps": [
           {
            "args": [
             [
              "2020-12-21"
             ],
             {
              "frame": {
               "duration": 0,
               "redraw": true
              },
              "fromcurrent": true,
              "mode": "immediate",
              "transition": {
               "duration": 0,
               "easing": "linear"
              }
             }
            ],
            "label": "2020-12-21",
            "method": "animate"
           },
           {
            "args": [
             [
              "2020-12-18"
             ],
             {
              "frame": {
               "duration": 0,
               "redraw": true
              },
              "fromcurrent": true,
              "mode": "immediate",
              "transition": {
               "duration": 0,
               "easing": "linear"
              }
             }
            ],
            "label": "2020-12-18",
            "method": "animate"
           },
           {
            "args": [
             [
              "2020-12-17"
             ],
             {
              "frame": {
               "duration": 0,
               "redraw": true
              },
              "fromcurrent": true,
              "mode": "immediate",
              "transition": {
               "duration": 0,
               "easing": "linear"
              }
             }
            ],
            "label": "2020-12-17",
            "method": "animate"
           },
           {
            "args": [
             [
              "2020-12-16"
             ],
             {
              "frame": {
               "duration": 0,
               "redraw": true
              },
              "fromcurrent": true,
              "mode": "immediate",
              "transition": {
               "duration": 0,
               "easing": "linear"
              }
             }
            ],
            "label": "2020-12-16",
            "method": "animate"
           },
           {
            "args": [
             [
              "2020-12-15"
             ],
             {
              "frame": {
               "duration": 0,
               "redraw": true
              },
              "fromcurrent": true,
              "mode": "immediate",
              "transition": {
               "duration": 0,
               "easing": "linear"
              }
             }
            ],
            "label": "2020-12-15",
            "method": "animate"
           },
           {
            "args": [
             [
              "2020-12-14"
             ],
             {
              "frame": {
               "duration": 0,
               "redraw": true
              },
              "fromcurrent": true,
              "mode": "immediate",
              "transition": {
               "duration": 0,
               "easing": "linear"
              }
             }
            ],
            "label": "2020-12-14",
            "method": "animate"
           },
           {
            "args": [
             [
              "2020-12-11"
             ],
             {
              "frame": {
               "duration": 0,
               "redraw": true
              },
              "fromcurrent": true,
              "mode": "immediate",
              "transition": {
               "duration": 0,
               "easing": "linear"
              }
             }
            ],
            "label": "2020-12-11",
            "method": "animate"
           }
          ],
          "x": 0.1,
          "xanchor": "left",
          "y": 0,
          "yanchor": "top"
         }
        ],
        "template": {
         "data": {
          "bar": [
           {
            "error_x": {
             "color": "#2a3f5f"
            },
            "error_y": {
             "color": "#2a3f5f"
            },
            "marker": {
             "line": {
              "color": "#E5ECF6",
              "width": 0.5
             }
            },
            "type": "bar"
           }
          ],
          "barpolar": [
           {
            "marker": {
             "line": {
              "color": "#E5ECF6",
              "width": 0.5
             }
            },
            "type": "barpolar"
           }
          ],
          "carpet": [
           {
            "aaxis": {
             "endlinecolor": "#2a3f5f",
             "gridcolor": "white",
             "linecolor": "white",
             "minorgridcolor": "white",
             "startlinecolor": "#2a3f5f"
            },
            "baxis": {
             "endlinecolor": "#2a3f5f",
             "gridcolor": "white",
             "linecolor": "white",
             "minorgridcolor": "white",
             "startlinecolor": "#2a3f5f"
            },
            "type": "carpet"
           }
          ],
          "choropleth": [
           {
            "colorbar": {
             "outlinewidth": 0,
             "ticks": ""
            },
            "type": "choropleth"
           }
          ],
          "contour": [
           {
            "colorbar": {
             "outlinewidth": 0,
             "ticks": ""
            },
            "colorscale": [
             [
              0,
              "#0d0887"
             ],
             [
              0.1111111111111111,
              "#46039f"
             ],
             [
              0.2222222222222222,
              "#7201a8"
             ],
             [
              0.3333333333333333,
              "#9c179e"
             ],
             [
              0.4444444444444444,
              "#bd3786"
             ],
             [
              0.5555555555555556,
              "#d8576b"
             ],
             [
              0.6666666666666666,
              "#ed7953"
             ],
             [
              0.7777777777777778,
              "#fb9f3a"
             ],
             [
              0.8888888888888888,
              "#fdca26"
             ],
             [
              1,
              "#f0f921"
             ]
            ],
            "type": "contour"
           }
          ],
          "contourcarpet": [
           {
            "colorbar": {
             "outlinewidth": 0,
             "ticks": ""
            },
            "type": "contourcarpet"
           }
          ],
          "heatmap": [
           {
            "colorbar": {
             "outlinewidth": 0,
             "ticks": ""
            },
            "colorscale": [
             [
              0,
              "#0d0887"
             ],
             [
              0.1111111111111111,
              "#46039f"
             ],
             [
              0.2222222222222222,
              "#7201a8"
             ],
             [
              0.3333333333333333,
              "#9c179e"
             ],
             [
              0.4444444444444444,
              "#bd3786"
             ],
             [
              0.5555555555555556,
              "#d8576b"
             ],
             [
              0.6666666666666666,
              "#ed7953"
             ],
             [
              0.7777777777777778,
              "#fb9f3a"
             ],
             [
              0.8888888888888888,
              "#fdca26"
             ],
             [
              1,
              "#f0f921"
             ]
            ],
            "type": "heatmap"
           }
          ],
          "heatmapgl": [
           {
            "colorbar": {
             "outlinewidth": 0,
             "ticks": ""
            },
            "colorscale": [
             [
              0,
              "#0d0887"
             ],
             [
              0.1111111111111111,
              "#46039f"
             ],
             [
              0.2222222222222222,
              "#7201a8"
             ],
             [
              0.3333333333333333,
              "#9c179e"
             ],
             [
              0.4444444444444444,
              "#bd3786"
             ],
             [
              0.5555555555555556,
              "#d8576b"
             ],
             [
              0.6666666666666666,
              "#ed7953"
             ],
             [
              0.7777777777777778,
              "#fb9f3a"
             ],
             [
              0.8888888888888888,
              "#fdca26"
             ],
             [
              1,
              "#f0f921"
             ]
            ],
            "type": "heatmapgl"
           }
          ],
          "histogram": [
           {
            "marker": {
             "colorbar": {
              "outlinewidth": 0,
              "ticks": ""
             }
            },
            "type": "histogram"
           }
          ],
          "histogram2d": [
           {
            "colorbar": {
             "outlinewidth": 0,
             "ticks": ""
            },
            "colorscale": [
             [
              0,
              "#0d0887"
             ],
             [
              0.1111111111111111,
              "#46039f"
             ],
             [
              0.2222222222222222,
              "#7201a8"
             ],
             [
              0.3333333333333333,
              "#9c179e"
             ],
             [
              0.4444444444444444,
              "#bd3786"
             ],
             [
              0.5555555555555556,
              "#d8576b"
             ],
             [
              0.6666666666666666,
              "#ed7953"
             ],
             [
              0.7777777777777778,
              "#fb9f3a"
             ],
             [
              0.8888888888888888,
              "#fdca26"
             ],
             [
              1,
              "#f0f921"
             ]
            ],
            "type": "histogram2d"
           }
          ],
          "histogram2dcontour": [
           {
            "colorbar": {
             "outlinewidth": 0,
             "ticks": ""
            },
            "colorscale": [
             [
              0,
              "#0d0887"
             ],
             [
              0.1111111111111111,
              "#46039f"
             ],
             [
              0.2222222222222222,
              "#7201a8"
             ],
             [
              0.3333333333333333,
              "#9c179e"
             ],
             [
              0.4444444444444444,
              "#bd3786"
             ],
             [
              0.5555555555555556,
              "#d8576b"
             ],
             [
              0.6666666666666666,
              "#ed7953"
             ],
             [
              0.7777777777777778,
              "#fb9f3a"
             ],
             [
              0.8888888888888888,
              "#fdca26"
             ],
             [
              1,
              "#f0f921"
             ]
            ],
            "type": "histogram2dcontour"
           }
          ],
          "mesh3d": [
           {
            "colorbar": {
             "outlinewidth": 0,
             "ticks": ""
            },
            "type": "mesh3d"
           }
          ],
          "parcoords": [
           {
            "line": {
             "colorbar": {
              "outlinewidth": 0,
              "ticks": ""
             }
            },
            "type": "parcoords"
           }
          ],
          "pie": [
           {
            "automargin": true,
            "type": "pie"
           }
          ],
          "scatter": [
           {
            "marker": {
             "colorbar": {
              "outlinewidth": 0,
              "ticks": ""
             }
            },
            "type": "scatter"
           }
          ],
          "scatter3d": [
           {
            "line": {
             "colorbar": {
              "outlinewidth": 0,
              "ticks": ""
             }
            },
            "marker": {
             "colorbar": {
              "outlinewidth": 0,
              "ticks": ""
             }
            },
            "type": "scatter3d"
           }
          ],
          "scattercarpet": [
           {
            "marker": {
             "colorbar": {
              "outlinewidth": 0,
              "ticks": ""
             }
            },
            "type": "scattercarpet"
           }
          ],
          "scattergeo": [
           {
            "marker": {
             "colorbar": {
              "outlinewidth": 0,
              "ticks": ""
             }
            },
            "type": "scattergeo"
           }
          ],
          "scattergl": [
           {
            "marker": {
             "colorbar": {
              "outlinewidth": 0,
              "ticks": ""
             }
            },
            "type": "scattergl"
           }
          ],
          "scattermapbox": [
           {
            "marker": {
             "colorbar": {
              "outlinewidth": 0,
              "ticks": ""
             }
            },
            "type": "scattermapbox"
           }
          ],
          "scatterpolar": [
           {
            "marker": {
             "colorbar": {
              "outlinewidth": 0,
              "ticks": ""
             }
            },
            "type": "scatterpolar"
           }
          ],
          "scatterpolargl": [
           {
            "marker": {
             "colorbar": {
              "outlinewidth": 0,
              "ticks": ""
             }
            },
            "type": "scatterpolargl"
           }
          ],
          "scatterternary": [
           {
            "marker": {
             "colorbar": {
              "outlinewidth": 0,
              "ticks": ""
             }
            },
            "type": "scatterternary"
           }
          ],
          "surface": [
           {
            "colorbar": {
             "outlinewidth": 0,
             "ticks": ""
            },
            "colorscale": [
             [
              0,
              "#0d0887"
             ],
             [
              0.1111111111111111,
              "#46039f"
             ],
             [
              0.2222222222222222,
              "#7201a8"
             ],
             [
              0.3333333333333333,
              "#9c179e"
             ],
             [
              0.4444444444444444,
              "#bd3786"
             ],
             [
              0.5555555555555556,
              "#d8576b"
             ],
             [
              0.6666666666666666,
              "#ed7953"
             ],
             [
              0.7777777777777778,
              "#fb9f3a"
             ],
             [
              0.8888888888888888,
              "#fdca26"
             ],
             [
              1,
              "#f0f921"
             ]
            ],
            "type": "surface"
           }
          ],
          "table": [
           {
            "cells": {
             "fill": {
              "color": "#EBF0F8"
             },
             "line": {
              "color": "white"
             }
            },
            "header": {
             "fill": {
              "color": "#C8D4E3"
             },
             "line": {
              "color": "white"
             }
            },
            "type": "table"
           }
          ]
         },
         "layout": {
          "annotationdefaults": {
           "arrowcolor": "#2a3f5f",
           "arrowhead": 0,
           "arrowwidth": 1
          },
          "coloraxis": {
           "colorbar": {
            "outlinewidth": 0,
            "ticks": ""
           }
          },
          "colorscale": {
           "diverging": [
            [
             0,
             "#8e0152"
            ],
            [
             0.1,
             "#c51b7d"
            ],
            [
             0.2,
             "#de77ae"
            ],
            [
             0.3,
             "#f1b6da"
            ],
            [
             0.4,
             "#fde0ef"
            ],
            [
             0.5,
             "#f7f7f7"
            ],
            [
             0.6,
             "#e6f5d0"
            ],
            [
             0.7,
             "#b8e186"
            ],
            [
             0.8,
             "#7fbc41"
            ],
            [
             0.9,
             "#4d9221"
            ],
            [
             1,
             "#276419"
            ]
           ],
           "sequential": [
            [
             0,
             "#0d0887"
            ],
            [
             0.1111111111111111,
             "#46039f"
            ],
            [
             0.2222222222222222,
             "#7201a8"
            ],
            [
             0.3333333333333333,
             "#9c179e"
            ],
            [
             0.4444444444444444,
             "#bd3786"
            ],
            [
             0.5555555555555556,
             "#d8576b"
            ],
            [
             0.6666666666666666,
             "#ed7953"
            ],
            [
             0.7777777777777778,
             "#fb9f3a"
            ],
            [
             0.8888888888888888,
             "#fdca26"
            ],
            [
             1,
             "#f0f921"
            ]
           ],
           "sequentialminus": [
            [
             0,
             "#0d0887"
            ],
            [
             0.1111111111111111,
             "#46039f"
            ],
            [
             0.2222222222222222,
             "#7201a8"
            ],
            [
             0.3333333333333333,
             "#9c179e"
            ],
            [
             0.4444444444444444,
             "#bd3786"
            ],
            [
             0.5555555555555556,
             "#d8576b"
            ],
            [
             0.6666666666666666,
             "#ed7953"
            ],
            [
             0.7777777777777778,
             "#fb9f3a"
            ],
            [
             0.8888888888888888,
             "#fdca26"
            ],
            [
             1,
             "#f0f921"
            ]
           ]
          },
          "colorway": [
           "#636efa",
           "#EF553B",
           "#00cc96",
           "#ab63fa",
           "#FFA15A",
           "#19d3f3",
           "#FF6692",
           "#B6E880",
           "#FF97FF",
           "#FECB52"
          ],
          "font": {
           "color": "#2a3f5f"
          },
          "geo": {
           "bgcolor": "white",
           "lakecolor": "white",
           "landcolor": "#E5ECF6",
           "showlakes": true,
           "showland": true,
           "subunitcolor": "white"
          },
          "hoverlabel": {
           "align": "left"
          },
          "hovermode": "closest",
          "mapbox": {
           "style": "light"
          },
          "paper_bgcolor": "white",
          "plot_bgcolor": "#E5ECF6",
          "polar": {
           "angularaxis": {
            "gridcolor": "white",
            "linecolor": "white",
            "ticks": ""
           },
           "bgcolor": "#E5ECF6",
           "radialaxis": {
            "gridcolor": "white",
            "linecolor": "white",
            "ticks": ""
           }
          },
          "scene": {
           "xaxis": {
            "backgroundcolor": "#E5ECF6",
            "gridcolor": "white",
            "gridwidth": 2,
            "linecolor": "white",
            "showbackground": true,
            "ticks": "",
            "zerolinecolor": "white"
           },
           "yaxis": {
            "backgroundcolor": "#E5ECF6",
            "gridcolor": "white",
            "gridwidth": 2,
            "linecolor": "white",
            "showbackground": true,
            "ticks": "",
            "zerolinecolor": "white"
           },
           "zaxis": {
            "backgroundcolor": "#E5ECF6",
            "gridcolor": "white",
            "gridwidth": 2,
            "linecolor": "white",
            "showbackground": true,
            "ticks": "",
            "zerolinecolor": "white"
           }
          },
          "shapedefaults": {
           "line": {
            "color": "#2a3f5f"
           }
          },
          "ternary": {
           "aaxis": {
            "gridcolor": "white",
            "linecolor": "white",
            "ticks": ""
           },
           "baxis": {
            "gridcolor": "white",
            "linecolor": "white",
            "ticks": ""
           },
           "bgcolor": "#E5ECF6",
           "caxis": {
            "gridcolor": "white",
            "linecolor": "white",
            "ticks": ""
           }
          },
          "title": {
           "x": 0.05
          },
          "xaxis": {
           "automargin": true,
           "gridcolor": "white",
           "linecolor": "white",
           "ticks": "",
           "title": {
            "standoff": 15
           },
           "zerolinecolor": "white",
           "zerolinewidth": 2
          },
          "yaxis": {
           "automargin": true,
           "gridcolor": "white",
           "linecolor": "white",
           "ticks": "",
           "title": {
            "standoff": 15
           },
           "zerolinecolor": "white",
           "zerolinewidth": 2
          }
         }
        },
        "title": {
         "text": "5G"
        },
        "width": 1350,
        "xaxis": {
         "anchor": "y",
         "categoryarray": [
          "ADTN",
          "AVGO",
          "AVNW",
          "CALX",
          "CEVA",
          "ERIC",
          "IIVI",
          "INFN",
          "IPGP",
          "IPHI",
          "LITE",
          "MRVL",
          "MXL",
          "NXPI",
          "QRVO",
          "SBAC",
          "XLNX"
         ],
         "categoryorder": "array",
         "domain": [
          0,
          1
         ],
         "range": [
          0,
          17
         ],
         "title": {
          "text": "symbol"
         }
        },
        "yaxis": {
         "anchor": "x",
         "domain": [
          0,
          1
         ],
         "range": [
          -8.6,
          32.46
         ],
         "title": {
          "text": "percent"
         }
        }
       }
      },
      "text/html": [
       "<div>\n",
       "        \n",
       "        \n",
       "            <div id=\"14fd05d5-89c2-4bf8-a520-46abfdc59705\" class=\"plotly-graph-div\" style=\"height:800px; width:1350px;\"></div>\n",
       "            <script type=\"text/javascript\">\n",
       "                require([\"plotly\"], function(Plotly) {\n",
       "                    window.PLOTLYENV=window.PLOTLYENV || {};\n",
       "                    \n",
       "                if (document.getElementById(\"14fd05d5-89c2-4bf8-a520-46abfdc59705\")) {\n",
       "                    Plotly.newPlot(\n",
       "                        '14fd05d5-89c2-4bf8-a520-46abfdc59705',\n",
       "                        [{\"alignmentgroup\": \"True\", \"hoverlabel\": {\"namelength\": 0}, \"hovertemplate\": \"<b>%{hovertext}</b><br><br>symbol=%{x}<br>date=2020-12-21<br>percent=%{y}\", \"hovertext\": [\"ADTN\"], \"ids\": [\"2020-12-21\"], \"legendgroup\": \"ADTN\", \"marker\": {\"color\": \"#636efa\"}, \"name\": \"ADTN\", \"offsetgroup\": \"ADTN\", \"orientation\": \"v\", \"showlegend\": true, \"textposition\": \"auto\", \"type\": \"bar\", \"x\": [\"ADTN\"], \"xaxis\": \"x\", \"y\": [1.08], \"yaxis\": \"y\"}, {\"alignmentgroup\": \"True\", \"hoverlabel\": {\"namelength\": 0}, \"hovertemplate\": \"<b>%{hovertext}</b><br><br>symbol=%{x}<br>date=2020-12-21<br>percent=%{y}\", \"hovertext\": [\"AVGO\"], \"ids\": [\"2020-12-21\"], \"legendgroup\": \"AVGO\", \"marker\": {\"color\": \"#EF553B\"}, \"name\": \"AVGO\", \"offsetgroup\": \"AVGO\", \"orientation\": \"v\", \"showlegend\": true, \"textposition\": \"auto\", \"type\": \"bar\", \"x\": [\"AVGO\"], \"xaxis\": \"x\", \"y\": [0.98], \"yaxis\": \"y\"}, {\"alignmentgroup\": \"True\", \"hoverlabel\": {\"namelength\": 0}, \"hovertemplate\": \"<b>%{hovertext}</b><br><br>symbol=%{x}<br>date=2020-12-21<br>percent=%{y}\", \"hovertext\": [\"AVNW\"], \"ids\": [\"2020-12-21\"], \"legendgroup\": \"AVNW\", \"marker\": {\"color\": \"#00cc96\"}, \"name\": \"AVNW\", \"offsetgroup\": \"AVNW\", \"orientation\": \"v\", \"showlegend\": true, \"textposition\": \"auto\", \"type\": \"bar\", \"x\": [\"AVNW\"], \"xaxis\": \"x\", \"y\": [-1.0], \"yaxis\": \"y\"}, {\"alignmentgroup\": \"True\", \"hoverlabel\": {\"namelength\": 0}, \"hovertemplate\": \"<b>%{hovertext}</b><br><br>symbol=%{x}<br>date=2020-12-21<br>percent=%{y}\", \"hovertext\": [\"CALX\"], \"ids\": [\"2020-12-21\"], \"legendgroup\": \"CALX\", \"marker\": {\"color\": \"#ab63fa\"}, \"name\": \"CALX\", \"offsetgroup\": \"CALX\", \"orientation\": \"v\", \"showlegend\": true, \"textposition\": \"auto\", \"type\": \"bar\", \"x\": [\"CALX\"], \"xaxis\": \"x\", \"y\": [4.12], \"yaxis\": \"y\"}, {\"alignmentgroup\": \"True\", \"hoverlabel\": {\"namelength\": 0}, \"hovertemplate\": \"<b>%{hovertext}</b><br><br>symbol=%{x}<br>date=2020-12-21<br>percent=%{y}\", \"hovertext\": [\"CEVA\"], \"ids\": [\"2020-12-21\"], \"legendgroup\": \"CEVA\", \"marker\": {\"color\": \"#FFA15A\"}, \"name\": \"CEVA\", \"offsetgroup\": \"CEVA\", \"orientation\": \"v\", \"showlegend\": true, \"textposition\": \"auto\", \"type\": \"bar\", \"x\": [\"CEVA\"], \"xaxis\": \"x\", \"y\": [2.24], \"yaxis\": \"y\"}, {\"alignmentgroup\": \"True\", \"hoverlabel\": {\"namelength\": 0}, \"hovertemplate\": \"<b>%{hovertext}</b><br><br>symbol=%{x}<br>date=2020-12-21<br>percent=%{y}\", \"hovertext\": [\"ERIC\"], \"ids\": [\"2020-12-21\"], \"legendgroup\": \"ERIC\", \"marker\": {\"color\": \"#19d3f3\"}, \"name\": \"ERIC\", \"offsetgroup\": \"ERIC\", \"orientation\": \"v\", \"showlegend\": true, \"textposition\": \"auto\", \"type\": \"bar\", \"x\": [\"ERIC\"], \"xaxis\": \"x\", \"y\": [0.51], \"yaxis\": \"y\"}, {\"alignmentgroup\": \"True\", \"hoverlabel\": {\"namelength\": 0}, \"hovertemplate\": \"<b>%{hovertext}</b><br><br>symbol=%{x}<br>date=2020-12-21<br>percent=%{y}\", \"hovertext\": [\"IIVI\"], \"ids\": [\"2020-12-21\"], \"legendgroup\": \"IIVI\", \"marker\": {\"color\": \"#FF6692\"}, \"name\": \"IIVI\", \"offsetgroup\": \"IIVI\", \"orientation\": \"v\", \"showlegend\": true, \"textposition\": \"auto\", \"type\": \"bar\", \"x\": [\"IIVI\"], \"xaxis\": \"x\", \"y\": [4.71], \"yaxis\": \"y\"}, {\"alignmentgroup\": \"True\", \"hoverlabel\": {\"namelength\": 0}, \"hovertemplate\": \"<b>%{hovertext}</b><br><br>symbol=%{x}<br>date=2020-12-21<br>percent=%{y}\", \"hovertext\": [\"INFN\"], \"ids\": [\"2020-12-21\"], \"legendgroup\": \"INFN\", \"marker\": {\"color\": \"#B6E880\"}, \"name\": \"INFN\", \"offsetgroup\": \"INFN\", \"orientation\": \"v\", \"showlegend\": true, \"textposition\": \"auto\", \"type\": \"bar\", \"x\": [\"INFN\"], \"xaxis\": \"x\", \"y\": [2.4], \"yaxis\": \"y\"}, {\"alignmentgroup\": \"True\", \"hoverlabel\": {\"namelength\": 0}, \"hovertemplate\": \"<b>%{hovertext}</b><br><br>symbol=%{x}<br>date=2020-12-21<br>percent=%{y}\", \"hovertext\": [\"IPGP\"], \"ids\": [\"2020-12-21\"], \"legendgroup\": \"IPGP\", \"marker\": {\"color\": \"#FF97FF\"}, \"name\": \"IPGP\", \"offsetgroup\": \"IPGP\", \"orientation\": \"v\", \"showlegend\": true, \"textposition\": \"auto\", \"type\": \"bar\", \"x\": [\"IPGP\"], \"xaxis\": \"x\", \"y\": [1.12], \"yaxis\": \"y\"}, {\"alignmentgroup\": \"True\", \"hoverlabel\": {\"namelength\": 0}, \"hovertemplate\": \"<b>%{hovertext}</b><br><br>symbol=%{x}<br>date=2020-12-21<br>percent=%{y}\", \"hovertext\": [\"IPHI\"], \"ids\": [\"2020-12-21\"], \"legendgroup\": \"IPHI\", \"marker\": {\"color\": \"#FECB52\"}, \"name\": \"IPHI\", \"offsetgroup\": \"IPHI\", \"orientation\": \"v\", \"showlegend\": true, \"textposition\": \"auto\", \"type\": \"bar\", \"x\": [\"IPHI\"], \"xaxis\": \"x\", \"y\": [-0.09], \"yaxis\": \"y\"}, {\"alignmentgroup\": \"True\", \"hoverlabel\": {\"namelength\": 0}, \"hovertemplate\": \"<b>%{hovertext}</b><br><br>symbol=%{x}<br>date=2020-12-21<br>percent=%{y}\", \"hovertext\": [\"LITE\"], \"ids\": [\"2020-12-21\"], \"legendgroup\": \"LITE\", \"marker\": {\"color\": \"#636efa\"}, \"name\": \"LITE\", \"offsetgroup\": \"LITE\", \"orientation\": \"v\", \"showlegend\": true, \"textposition\": \"auto\", \"type\": \"bar\", \"x\": [\"LITE\"], \"xaxis\": \"x\", \"y\": [9.05], \"yaxis\": \"y\"}, {\"alignmentgroup\": \"True\", \"hoverlabel\": {\"namelength\": 0}, \"hovertemplate\": \"<b>%{hovertext}</b><br><br>symbol=%{x}<br>date=2020-12-21<br>percent=%{y}\", \"hovertext\": [\"MRVL\"], \"ids\": [\"2020-12-21\"], \"legendgroup\": \"MRVL\", \"marker\": {\"color\": \"#EF553B\"}, \"name\": \"MRVL\", \"offsetgroup\": \"MRVL\", \"orientation\": \"v\", \"showlegend\": true, \"textposition\": \"auto\", \"type\": \"bar\", \"x\": [\"MRVL\"], \"xaxis\": \"x\", \"y\": [-0.21], \"yaxis\": \"y\"}, {\"alignmentgroup\": \"True\", \"hoverlabel\": {\"namelength\": 0}, \"hovertemplate\": \"<b>%{hovertext}</b><br><br>symbol=%{x}<br>date=2020-12-21<br>percent=%{y}\", \"hovertext\": [\"MXL\"], \"ids\": [\"2020-12-21\"], \"legendgroup\": \"MXL\", \"marker\": {\"color\": \"#00cc96\"}, \"name\": \"MXL\", \"offsetgroup\": \"MXL\", \"orientation\": \"v\", \"showlegend\": true, \"textposition\": \"auto\", \"type\": \"bar\", \"x\": [\"MXL\"], \"xaxis\": \"x\", \"y\": [2.6], \"yaxis\": \"y\"}, {\"alignmentgroup\": \"True\", \"hoverlabel\": {\"namelength\": 0}, \"hovertemplate\": \"<b>%{hovertext}</b><br><br>symbol=%{x}<br>date=2020-12-21<br>percent=%{y}\", \"hovertext\": [\"NXPI\"], \"ids\": [\"2020-12-21\"], \"legendgroup\": \"NXPI\", \"marker\": {\"color\": \"#ab63fa\"}, \"name\": \"NXPI\", \"offsetgroup\": \"NXPI\", \"orientation\": \"v\", \"showlegend\": true, \"textposition\": \"auto\", \"type\": \"bar\", \"x\": [\"NXPI\"], \"xaxis\": \"x\", \"y\": [-0.41], \"yaxis\": \"y\"}, {\"alignmentgroup\": \"True\", \"hoverlabel\": {\"namelength\": 0}, \"hovertemplate\": \"<b>%{hovertext}</b><br><br>symbol=%{x}<br>date=2020-12-21<br>percent=%{y}\", \"hovertext\": [\"QRVO\"], \"ids\": [\"2020-12-21\"], \"legendgroup\": \"QRVO\", \"marker\": {\"color\": \"#FFA15A\"}, \"name\": \"QRVO\", \"offsetgroup\": \"QRVO\", \"orientation\": \"v\", \"showlegend\": true, \"textposition\": \"auto\", \"type\": \"bar\", \"x\": [\"QRVO\"], \"xaxis\": \"x\", \"y\": [1.33], \"yaxis\": \"y\"}, {\"alignmentgroup\": \"True\", \"hoverlabel\": {\"namelength\": 0}, \"hovertemplate\": \"<b>%{hovertext}</b><br><br>symbol=%{x}<br>date=2020-12-21<br>percent=%{y}\", \"hovertext\": [\"SBAC\"], \"ids\": [\"2020-12-21\"], \"legendgroup\": \"SBAC\", \"marker\": {\"color\": \"#19d3f3\"}, \"name\": \"SBAC\", \"offsetgroup\": \"SBAC\", \"orientation\": \"v\", \"showlegend\": true, \"textposition\": \"auto\", \"type\": \"bar\", \"x\": [\"SBAC\"], \"xaxis\": \"x\", \"y\": [0.36], \"yaxis\": \"y\"}, {\"alignmentgroup\": \"True\", \"hoverlabel\": {\"namelength\": 0}, \"hovertemplate\": \"<b>%{hovertext}</b><br><br>symbol=%{x}<br>date=2020-12-21<br>percent=%{y}\", \"hovertext\": [\"XLNX\"], \"ids\": [\"2020-12-21\"], \"legendgroup\": \"XLNX\", \"marker\": {\"color\": \"#FF6692\"}, \"name\": \"XLNX\", \"offsetgroup\": \"XLNX\", \"orientation\": \"v\", \"showlegend\": true, \"textposition\": \"auto\", \"type\": \"bar\", \"x\": [\"XLNX\"], \"xaxis\": \"x\", \"y\": [-0.77], \"yaxis\": \"y\"}],\n",
       "                        {\"barmode\": \"relative\", \"height\": 800, \"legend\": {\"title\": {\"text\": \"symbol\"}, \"tracegroupgap\": 0}, \"sliders\": [{\"active\": 0, \"currentvalue\": {\"prefix\": \"date=\"}, \"len\": 0.9, \"pad\": {\"b\": 10, \"t\": 60}, \"steps\": [{\"args\": [[\"2020-12-21\"], {\"frame\": {\"duration\": 0, \"redraw\": true}, \"fromcurrent\": true, \"mode\": \"immediate\", \"transition\": {\"duration\": 0, \"easing\": \"linear\"}}], \"label\": \"2020-12-21\", \"method\": \"animate\"}, {\"args\": [[\"2020-12-18\"], {\"frame\": {\"duration\": 0, \"redraw\": true}, \"fromcurrent\": true, \"mode\": \"immediate\", \"transition\": {\"duration\": 0, \"easing\": \"linear\"}}], \"label\": \"2020-12-18\", \"method\": \"animate\"}, {\"args\": [[\"2020-12-17\"], {\"frame\": {\"duration\": 0, \"redraw\": true}, \"fromcurrent\": true, \"mode\": \"immediate\", \"transition\": {\"duration\": 0, \"easing\": \"linear\"}}], \"label\": \"2020-12-17\", \"method\": \"animate\"}, {\"args\": [[\"2020-12-16\"], {\"frame\": {\"duration\": 0, \"redraw\": true}, \"fromcurrent\": true, \"mode\": \"immediate\", \"transition\": {\"duration\": 0, \"easing\": \"linear\"}}], \"label\": \"2020-12-16\", \"method\": \"animate\"}, {\"args\": [[\"2020-12-15\"], {\"frame\": {\"duration\": 0, \"redraw\": true}, \"fromcurrent\": true, \"mode\": \"immediate\", \"transition\": {\"duration\": 0, \"easing\": \"linear\"}}], \"label\": \"2020-12-15\", \"method\": \"animate\"}, {\"args\": [[\"2020-12-14\"], {\"frame\": {\"duration\": 0, \"redraw\": true}, \"fromcurrent\": true, \"mode\": \"immediate\", \"transition\": {\"duration\": 0, \"easing\": \"linear\"}}], \"label\": \"2020-12-14\", \"method\": \"animate\"}, {\"args\": [[\"2020-12-11\"], {\"frame\": {\"duration\": 0, \"redraw\": true}, \"fromcurrent\": true, \"mode\": \"immediate\", \"transition\": {\"duration\": 0, \"easing\": \"linear\"}}], \"label\": \"2020-12-11\", \"method\": \"animate\"}], \"x\": 0.1, \"xanchor\": \"left\", \"y\": 0, \"yanchor\": \"top\"}], \"template\": {\"data\": {\"bar\": [{\"error_x\": {\"color\": \"#2a3f5f\"}, \"error_y\": {\"color\": \"#2a3f5f\"}, \"marker\": {\"line\": {\"color\": \"#E5ECF6\", \"width\": 0.5}}, \"type\": \"bar\"}], \"barpolar\": [{\"marker\": {\"line\": {\"color\": \"#E5ECF6\", \"width\": 0.5}}, \"type\": \"barpolar\"}], \"carpet\": [{\"aaxis\": {\"endlinecolor\": \"#2a3f5f\", \"gridcolor\": \"white\", \"linecolor\": \"white\", \"minorgridcolor\": \"white\", \"startlinecolor\": \"#2a3f5f\"}, \"baxis\": {\"endlinecolor\": \"#2a3f5f\", \"gridcolor\": \"white\", \"linecolor\": \"white\", \"minorgridcolor\": \"white\", \"startlinecolor\": \"#2a3f5f\"}, \"type\": \"carpet\"}], \"choropleth\": [{\"colorbar\": {\"outlinewidth\": 0, \"ticks\": \"\"}, \"type\": \"choropleth\"}], \"contour\": [{\"colorbar\": {\"outlinewidth\": 0, \"ticks\": \"\"}, \"colorscale\": [[0.0, \"#0d0887\"], [0.1111111111111111, \"#46039f\"], [0.2222222222222222, \"#7201a8\"], [0.3333333333333333, \"#9c179e\"], [0.4444444444444444, \"#bd3786\"], [0.5555555555555556, \"#d8576b\"], [0.6666666666666666, \"#ed7953\"], [0.7777777777777778, \"#fb9f3a\"], [0.8888888888888888, \"#fdca26\"], [1.0, \"#f0f921\"]], \"type\": \"contour\"}], \"contourcarpet\": [{\"colorbar\": {\"outlinewidth\": 0, \"ticks\": \"\"}, \"type\": \"contourcarpet\"}], \"heatmap\": [{\"colorbar\": {\"outlinewidth\": 0, \"ticks\": \"\"}, \"colorscale\": [[0.0, \"#0d0887\"], [0.1111111111111111, \"#46039f\"], [0.2222222222222222, \"#7201a8\"], [0.3333333333333333, \"#9c179e\"], [0.4444444444444444, \"#bd3786\"], [0.5555555555555556, \"#d8576b\"], [0.6666666666666666, \"#ed7953\"], [0.7777777777777778, \"#fb9f3a\"], [0.8888888888888888, \"#fdca26\"], [1.0, \"#f0f921\"]], \"type\": \"heatmap\"}], \"heatmapgl\": [{\"colorbar\": {\"outlinewidth\": 0, \"ticks\": \"\"}, \"colorscale\": [[0.0, \"#0d0887\"], [0.1111111111111111, \"#46039f\"], [0.2222222222222222, \"#7201a8\"], [0.3333333333333333, \"#9c179e\"], [0.4444444444444444, \"#bd3786\"], [0.5555555555555556, \"#d8576b\"], [0.6666666666666666, \"#ed7953\"], [0.7777777777777778, \"#fb9f3a\"], [0.8888888888888888, \"#fdca26\"], [1.0, \"#f0f921\"]], \"type\": \"heatmapgl\"}], \"histogram\": [{\"marker\": {\"colorbar\": {\"outlinewidth\": 0, \"ticks\": \"\"}}, \"type\": \"histogram\"}], \"histogram2d\": [{\"colorbar\": {\"outlinewidth\": 0, \"ticks\": \"\"}, \"colorscale\": [[0.0, \"#0d0887\"], [0.1111111111111111, \"#46039f\"], [0.2222222222222222, \"#7201a8\"], [0.3333333333333333, \"#9c179e\"], [0.4444444444444444, \"#bd3786\"], [0.5555555555555556, \"#d8576b\"], [0.6666666666666666, \"#ed7953\"], [0.7777777777777778, \"#fb9f3a\"], [0.8888888888888888, \"#fdca26\"], [1.0, \"#f0f921\"]], \"type\": \"histogram2d\"}], \"histogram2dcontour\": [{\"colorbar\": {\"outlinewidth\": 0, \"ticks\": \"\"}, \"colorscale\": [[0.0, \"#0d0887\"], [0.1111111111111111, \"#46039f\"], [0.2222222222222222, \"#7201a8\"], [0.3333333333333333, \"#9c179e\"], [0.4444444444444444, \"#bd3786\"], [0.5555555555555556, \"#d8576b\"], [0.6666666666666666, \"#ed7953\"], [0.7777777777777778, \"#fb9f3a\"], [0.8888888888888888, \"#fdca26\"], [1.0, \"#f0f921\"]], \"type\": \"histogram2dcontour\"}], \"mesh3d\": [{\"colorbar\": {\"outlinewidth\": 0, \"ticks\": \"\"}, \"type\": \"mesh3d\"}], \"parcoords\": [{\"line\": {\"colorbar\": {\"outlinewidth\": 0, \"ticks\": \"\"}}, \"type\": \"parcoords\"}], \"pie\": [{\"automargin\": true, \"type\": \"pie\"}], \"scatter\": [{\"marker\": {\"colorbar\": {\"outlinewidth\": 0, \"ticks\": \"\"}}, \"type\": \"scatter\"}], \"scatter3d\": [{\"line\": {\"colorbar\": {\"outlinewidth\": 0, \"ticks\": \"\"}}, \"marker\": {\"colorbar\": {\"outlinewidth\": 0, \"ticks\": \"\"}}, \"type\": \"scatter3d\"}], \"scattercarpet\": [{\"marker\": {\"colorbar\": {\"outlinewidth\": 0, \"ticks\": \"\"}}, \"type\": \"scattercarpet\"}], \"scattergeo\": [{\"marker\": {\"colorbar\": {\"outlinewidth\": 0, \"ticks\": \"\"}}, \"type\": \"scattergeo\"}], \"scattergl\": [{\"marker\": {\"colorbar\": {\"outlinewidth\": 0, \"ticks\": \"\"}}, \"type\": \"scattergl\"}], \"scattermapbox\": [{\"marker\": {\"colorbar\": {\"outlinewidth\": 0, \"ticks\": \"\"}}, \"type\": \"scattermapbox\"}], \"scatterpolar\": [{\"marker\": {\"colorbar\": {\"outlinewidth\": 0, \"ticks\": \"\"}}, \"type\": \"scatterpolar\"}], \"scatterpolargl\": [{\"marker\": {\"colorbar\": {\"outlinewidth\": 0, \"ticks\": \"\"}}, \"type\": \"scatterpolargl\"}], \"scatterternary\": [{\"marker\": {\"colorbar\": {\"outlinewidth\": 0, \"ticks\": \"\"}}, \"type\": \"scatterternary\"}], \"surface\": [{\"colorbar\": {\"outlinewidth\": 0, \"ticks\": \"\"}, \"colorscale\": [[0.0, \"#0d0887\"], [0.1111111111111111, \"#46039f\"], [0.2222222222222222, \"#7201a8\"], [0.3333333333333333, \"#9c179e\"], [0.4444444444444444, \"#bd3786\"], [0.5555555555555556, \"#d8576b\"], [0.6666666666666666, \"#ed7953\"], [0.7777777777777778, \"#fb9f3a\"], [0.8888888888888888, \"#fdca26\"], [1.0, \"#f0f921\"]], \"type\": \"surface\"}], \"table\": [{\"cells\": {\"fill\": {\"color\": \"#EBF0F8\"}, \"line\": {\"color\": \"white\"}}, \"header\": {\"fill\": {\"color\": \"#C8D4E3\"}, \"line\": {\"color\": \"white\"}}, \"type\": \"table\"}]}, \"layout\": {\"annotationdefaults\": {\"arrowcolor\": \"#2a3f5f\", \"arrowhead\": 0, \"arrowwidth\": 1}, \"coloraxis\": {\"colorbar\": {\"outlinewidth\": 0, \"ticks\": \"\"}}, \"colorscale\": {\"diverging\": [[0, \"#8e0152\"], [0.1, \"#c51b7d\"], [0.2, \"#de77ae\"], [0.3, \"#f1b6da\"], [0.4, \"#fde0ef\"], [0.5, \"#f7f7f7\"], [0.6, \"#e6f5d0\"], [0.7, \"#b8e186\"], [0.8, \"#7fbc41\"], [0.9, \"#4d9221\"], [1, \"#276419\"]], \"sequential\": [[0.0, \"#0d0887\"], [0.1111111111111111, \"#46039f\"], [0.2222222222222222, \"#7201a8\"], [0.3333333333333333, \"#9c179e\"], [0.4444444444444444, \"#bd3786\"], [0.5555555555555556, \"#d8576b\"], [0.6666666666666666, \"#ed7953\"], [0.7777777777777778, \"#fb9f3a\"], [0.8888888888888888, \"#fdca26\"], [1.0, \"#f0f921\"]], \"sequentialminus\": [[0.0, \"#0d0887\"], [0.1111111111111111, \"#46039f\"], [0.2222222222222222, \"#7201a8\"], [0.3333333333333333, \"#9c179e\"], [0.4444444444444444, \"#bd3786\"], [0.5555555555555556, \"#d8576b\"], [0.6666666666666666, \"#ed7953\"], [0.7777777777777778, \"#fb9f3a\"], [0.8888888888888888, \"#fdca26\"], [1.0, \"#f0f921\"]]}, \"colorway\": [\"#636efa\", \"#EF553B\", \"#00cc96\", \"#ab63fa\", \"#FFA15A\", \"#19d3f3\", \"#FF6692\", \"#B6E880\", \"#FF97FF\", \"#FECB52\"], \"font\": {\"color\": \"#2a3f5f\"}, \"geo\": {\"bgcolor\": \"white\", \"lakecolor\": \"white\", \"landcolor\": \"#E5ECF6\", \"showlakes\": true, \"showland\": true, \"subunitcolor\": \"white\"}, \"hoverlabel\": {\"align\": \"left\"}, \"hovermode\": \"closest\", \"mapbox\": {\"style\": \"light\"}, \"paper_bgcolor\": \"white\", \"plot_bgcolor\": \"#E5ECF6\", \"polar\": {\"angularaxis\": {\"gridcolor\": \"white\", \"linecolor\": \"white\", \"ticks\": \"\"}, \"bgcolor\": \"#E5ECF6\", \"radialaxis\": {\"gridcolor\": \"white\", \"linecolor\": \"white\", \"ticks\": \"\"}}, \"scene\": {\"xaxis\": {\"backgroundcolor\": \"#E5ECF6\", \"gridcolor\": \"white\", \"gridwidth\": 2, \"linecolor\": \"white\", \"showbackground\": true, \"ticks\": \"\", \"zerolinecolor\": \"white\"}, \"yaxis\": {\"backgroundcolor\": \"#E5ECF6\", \"gridcolor\": \"white\", \"gridwidth\": 2, \"linecolor\": \"white\", \"showbackground\": true, \"ticks\": \"\", \"zerolinecolor\": \"white\"}, \"zaxis\": {\"backgroundcolor\": \"#E5ECF6\", \"gridcolor\": \"white\", \"gridwidth\": 2, \"linecolor\": \"white\", \"showbackground\": true, \"ticks\": \"\", \"zerolinecolor\": \"white\"}}, \"shapedefaults\": {\"line\": {\"color\": \"#2a3f5f\"}}, \"ternary\": {\"aaxis\": {\"gridcolor\": \"white\", \"linecolor\": \"white\", \"ticks\": \"\"}, \"baxis\": {\"gridcolor\": \"white\", \"linecolor\": \"white\", \"ticks\": \"\"}, \"bgcolor\": \"#E5ECF6\", \"caxis\": {\"gridcolor\": \"white\", \"linecolor\": \"white\", \"ticks\": \"\"}}, \"title\": {\"x\": 0.05}, \"xaxis\": {\"automargin\": true, \"gridcolor\": \"white\", \"linecolor\": \"white\", \"ticks\": \"\", \"title\": {\"standoff\": 15}, \"zerolinecolor\": \"white\", \"zerolinewidth\": 2}, \"yaxis\": {\"automargin\": true, \"gridcolor\": \"white\", \"linecolor\": \"white\", \"ticks\": \"\", \"title\": {\"standoff\": 15}, \"zerolinecolor\": \"white\", \"zerolinewidth\": 2}}}, \"title\": {\"text\": \"5G\"}, \"width\": 1350, \"xaxis\": {\"anchor\": \"y\", \"categoryarray\": [\"ADTN\", \"AVGO\", \"AVNW\", \"CALX\", \"CEVA\", \"ERIC\", \"IIVI\", \"INFN\", \"IPGP\", \"IPHI\", \"LITE\", \"MRVL\", \"MXL\", \"NXPI\", \"QRVO\", \"SBAC\", \"XLNX\"], \"categoryorder\": \"array\", \"domain\": [0.0, 1.0], \"range\": [0, 17], \"title\": {\"text\": \"symbol\"}}, \"yaxis\": {\"anchor\": \"x\", \"domain\": [0.0, 1.0], \"range\": [-8.6, 32.46], \"title\": {\"text\": \"percent\"}}},\n",
       "                        {\"responsive\": true}\n",
       "                    ).then(function(){\n",
       "                            Plotly.addFrames('14fd05d5-89c2-4bf8-a520-46abfdc59705', [{\"data\": [{\"alignmentgroup\": \"True\", \"hoverlabel\": {\"namelength\": 0}, \"hovertemplate\": \"<b>%{hovertext}</b><br><br>symbol=%{x}<br>date=2020-12-21<br>percent=%{y}\", \"hovertext\": [\"ADTN\"], \"ids\": [\"2020-12-21\"], \"legendgroup\": \"ADTN\", \"marker\": {\"color\": \"#636efa\"}, \"name\": \"ADTN\", \"offsetgroup\": \"ADTN\", \"orientation\": \"v\", \"showlegend\": true, \"textposition\": \"auto\", \"x\": [\"ADTN\"], \"xaxis\": \"x\", \"y\": [1.08], \"yaxis\": \"y\", \"type\": \"bar\"}, {\"alignmentgroup\": \"True\", \"hoverlabel\": {\"namelength\": 0}, \"hovertemplate\": \"<b>%{hovertext}</b><br><br>symbol=%{x}<br>date=2020-12-21<br>percent=%{y}\", \"hovertext\": [\"AVGO\"], \"ids\": [\"2020-12-21\"], \"legendgroup\": \"AVGO\", \"marker\": {\"color\": \"#EF553B\"}, \"name\": \"AVGO\", \"offsetgroup\": \"AVGO\", \"orientation\": \"v\", \"showlegend\": true, \"textposition\": \"auto\", \"x\": [\"AVGO\"], \"xaxis\": \"x\", \"y\": [0.98], \"yaxis\": \"y\", \"type\": \"bar\"}, {\"alignmentgroup\": \"True\", \"hoverlabel\": {\"namelength\": 0}, \"hovertemplate\": \"<b>%{hovertext}</b><br><br>symbol=%{x}<br>date=2020-12-21<br>percent=%{y}\", \"hovertext\": [\"AVNW\"], \"ids\": [\"2020-12-21\"], \"legendgroup\": \"AVNW\", \"marker\": {\"color\": \"#00cc96\"}, \"name\": \"AVNW\", \"offsetgroup\": \"AVNW\", \"orientation\": \"v\", \"showlegend\": true, \"textposition\": \"auto\", \"x\": [\"AVNW\"], \"xaxis\": \"x\", \"y\": [-1.0], \"yaxis\": \"y\", \"type\": \"bar\"}, {\"alignmentgroup\": \"True\", \"hoverlabel\": {\"namelength\": 0}, \"hovertemplate\": \"<b>%{hovertext}</b><br><br>symbol=%{x}<br>date=2020-12-21<br>percent=%{y}\", \"hovertext\": [\"CALX\"], \"ids\": [\"2020-12-21\"], \"legendgroup\": \"CALX\", \"marker\": {\"color\": \"#ab63fa\"}, \"name\": \"CALX\", \"offsetgroup\": \"CALX\", \"orientation\": \"v\", \"showlegend\": true, \"textposition\": \"auto\", \"x\": [\"CALX\"], \"xaxis\": \"x\", \"y\": [4.12], \"yaxis\": \"y\", \"type\": \"bar\"}, {\"alignmentgroup\": \"True\", \"hoverlabel\": {\"namelength\": 0}, \"hovertemplate\": \"<b>%{hovertext}</b><br><br>symbol=%{x}<br>date=2020-12-21<br>percent=%{y}\", \"hovertext\": [\"CEVA\"], \"ids\": [\"2020-12-21\"], \"legendgroup\": \"CEVA\", \"marker\": {\"color\": \"#FFA15A\"}, \"name\": \"CEVA\", \"offsetgroup\": \"CEVA\", \"orientation\": \"v\", \"showlegend\": true, \"textposition\": \"auto\", \"x\": [\"CEVA\"], \"xaxis\": \"x\", \"y\": [2.24], \"yaxis\": \"y\", \"type\": \"bar\"}, {\"alignmentgroup\": \"True\", \"hoverlabel\": {\"namelength\": 0}, \"hovertemplate\": \"<b>%{hovertext}</b><br><br>symbol=%{x}<br>date=2020-12-21<br>percent=%{y}\", \"hovertext\": [\"ERIC\"], \"ids\": [\"2020-12-21\"], \"legendgroup\": \"ERIC\", \"marker\": {\"color\": \"#19d3f3\"}, \"name\": \"ERIC\", \"offsetgroup\": \"ERIC\", \"orientation\": \"v\", \"showlegend\": true, \"textposition\": \"auto\", \"x\": [\"ERIC\"], \"xaxis\": \"x\", \"y\": [0.51], \"yaxis\": \"y\", \"type\": \"bar\"}, {\"alignmentgroup\": \"True\", \"hoverlabel\": {\"namelength\": 0}, \"hovertemplate\": \"<b>%{hovertext}</b><br><br>symbol=%{x}<br>date=2020-12-21<br>percent=%{y}\", \"hovertext\": [\"IIVI\"], \"ids\": [\"2020-12-21\"], \"legendgroup\": \"IIVI\", \"marker\": {\"color\": \"#FF6692\"}, \"name\": \"IIVI\", \"offsetgroup\": \"IIVI\", \"orientation\": \"v\", \"showlegend\": true, \"textposition\": \"auto\", \"x\": [\"IIVI\"], \"xaxis\": \"x\", \"y\": [4.71], \"yaxis\": \"y\", \"type\": \"bar\"}, {\"alignmentgroup\": \"True\", \"hoverlabel\": {\"namelength\": 0}, \"hovertemplate\": \"<b>%{hovertext}</b><br><br>symbol=%{x}<br>date=2020-12-21<br>percent=%{y}\", \"hovertext\": [\"INFN\"], \"ids\": [\"2020-12-21\"], \"legendgroup\": \"INFN\", \"marker\": {\"color\": \"#B6E880\"}, \"name\": \"INFN\", \"offsetgroup\": \"INFN\", \"orientation\": \"v\", \"showlegend\": true, \"textposition\": \"auto\", \"x\": [\"INFN\"], \"xaxis\": \"x\", \"y\": [2.4], \"yaxis\": \"y\", \"type\": \"bar\"}, {\"alignmentgroup\": \"True\", \"hoverlabel\": {\"namelength\": 0}, \"hovertemplate\": \"<b>%{hovertext}</b><br><br>symbol=%{x}<br>date=2020-12-21<br>percent=%{y}\", \"hovertext\": [\"IPGP\"], \"ids\": [\"2020-12-21\"], \"legendgroup\": \"IPGP\", \"marker\": {\"color\": \"#FF97FF\"}, \"name\": \"IPGP\", \"offsetgroup\": \"IPGP\", \"orientation\": \"v\", \"showlegend\": true, \"textposition\": \"auto\", \"x\": [\"IPGP\"], \"xaxis\": \"x\", \"y\": [1.12], \"yaxis\": \"y\", \"type\": \"bar\"}, {\"alignmentgroup\": \"True\", \"hoverlabel\": {\"namelength\": 0}, \"hovertemplate\": \"<b>%{hovertext}</b><br><br>symbol=%{x}<br>date=2020-12-21<br>percent=%{y}\", \"hovertext\": [\"IPHI\"], \"ids\": [\"2020-12-21\"], \"legendgroup\": \"IPHI\", \"marker\": {\"color\": \"#FECB52\"}, \"name\": \"IPHI\", \"offsetgroup\": \"IPHI\", \"orientation\": \"v\", \"showlegend\": true, \"textposition\": \"auto\", \"x\": [\"IPHI\"], \"xaxis\": \"x\", \"y\": [-0.09], \"yaxis\": \"y\", \"type\": \"bar\"}, {\"alignmentgroup\": \"True\", \"hoverlabel\": {\"namelength\": 0}, \"hovertemplate\": \"<b>%{hovertext}</b><br><br>symbol=%{x}<br>date=2020-12-21<br>percent=%{y}\", \"hovertext\": [\"LITE\"], \"ids\": [\"2020-12-21\"], \"legendgroup\": \"LITE\", \"marker\": {\"color\": \"#636efa\"}, \"name\": \"LITE\", \"offsetgroup\": \"LITE\", \"orientation\": \"v\", \"showlegend\": true, \"textposition\": \"auto\", \"x\": [\"LITE\"], \"xaxis\": \"x\", \"y\": [9.05], \"yaxis\": \"y\", \"type\": \"bar\"}, {\"alignmentgroup\": \"True\", \"hoverlabel\": {\"namelength\": 0}, \"hovertemplate\": \"<b>%{hovertext}</b><br><br>symbol=%{x}<br>date=2020-12-21<br>percent=%{y}\", \"hovertext\": [\"MRVL\"], \"ids\": [\"2020-12-21\"], \"legendgroup\": \"MRVL\", \"marker\": {\"color\": \"#EF553B\"}, \"name\": \"MRVL\", \"offsetgroup\": \"MRVL\", \"orientation\": \"v\", \"showlegend\": true, \"textposition\": \"auto\", \"x\": [\"MRVL\"], \"xaxis\": \"x\", \"y\": [-0.21], \"yaxis\": \"y\", \"type\": \"bar\"}, {\"alignmentgroup\": \"True\", \"hoverlabel\": {\"namelength\": 0}, \"hovertemplate\": \"<b>%{hovertext}</b><br><br>symbol=%{x}<br>date=2020-12-21<br>percent=%{y}\", \"hovertext\": [\"MXL\"], \"ids\": [\"2020-12-21\"], \"legendgroup\": \"MXL\", \"marker\": {\"color\": \"#00cc96\"}, \"name\": \"MXL\", \"offsetgroup\": \"MXL\", \"orientation\": \"v\", \"showlegend\": true, \"textposition\": \"auto\", \"x\": [\"MXL\"], \"xaxis\": \"x\", \"y\": [2.6], \"yaxis\": \"y\", \"type\": \"bar\"}, {\"alignmentgroup\": \"True\", \"hoverlabel\": {\"namelength\": 0}, \"hovertemplate\": \"<b>%{hovertext}</b><br><br>symbol=%{x}<br>date=2020-12-21<br>percent=%{y}\", \"hovertext\": [\"NXPI\"], \"ids\": [\"2020-12-21\"], \"legendgroup\": \"NXPI\", \"marker\": {\"color\": \"#ab63fa\"}, \"name\": \"NXPI\", \"offsetgroup\": \"NXPI\", \"orientation\": \"v\", \"showlegend\": true, \"textposition\": \"auto\", \"x\": [\"NXPI\"], \"xaxis\": \"x\", \"y\": [-0.41], \"yaxis\": \"y\", \"type\": \"bar\"}, {\"alignmentgroup\": \"True\", \"hoverlabel\": {\"namelength\": 0}, \"hovertemplate\": \"<b>%{hovertext}</b><br><br>symbol=%{x}<br>date=2020-12-21<br>percent=%{y}\", \"hovertext\": [\"QRVO\"], \"ids\": [\"2020-12-21\"], \"legendgroup\": \"QRVO\", \"marker\": {\"color\": \"#FFA15A\"}, \"name\": \"QRVO\", \"offsetgroup\": \"QRVO\", \"orientation\": \"v\", \"showlegend\": true, \"textposition\": \"auto\", \"x\": [\"QRVO\"], \"xaxis\": \"x\", \"y\": [1.33], \"yaxis\": \"y\", \"type\": \"bar\"}, {\"alignmentgroup\": \"True\", \"hoverlabel\": {\"namelength\": 0}, \"hovertemplate\": \"<b>%{hovertext}</b><br><br>symbol=%{x}<br>date=2020-12-21<br>percent=%{y}\", \"hovertext\": [\"SBAC\"], \"ids\": [\"2020-12-21\"], \"legendgroup\": \"SBAC\", \"marker\": {\"color\": \"#19d3f3\"}, \"name\": \"SBAC\", \"offsetgroup\": \"SBAC\", \"orientation\": \"v\", \"showlegend\": true, \"textposition\": \"auto\", \"x\": [\"SBAC\"], \"xaxis\": \"x\", \"y\": [0.36], \"yaxis\": \"y\", \"type\": \"bar\"}, {\"alignmentgroup\": \"True\", \"hoverlabel\": {\"namelength\": 0}, \"hovertemplate\": \"<b>%{hovertext}</b><br><br>symbol=%{x}<br>date=2020-12-21<br>percent=%{y}\", \"hovertext\": [\"XLNX\"], \"ids\": [\"2020-12-21\"], \"legendgroup\": \"XLNX\", \"marker\": {\"color\": \"#FF6692\"}, \"name\": \"XLNX\", \"offsetgroup\": \"XLNX\", \"orientation\": \"v\", \"showlegend\": true, \"textposition\": \"auto\", \"x\": [\"XLNX\"], \"xaxis\": \"x\", \"y\": [-0.77], \"yaxis\": \"y\", \"type\": \"bar\"}], \"name\": \"2020-12-21\"}, {\"data\": [{\"alignmentgroup\": \"True\", \"hoverlabel\": {\"namelength\": 0}, \"hovertemplate\": \"<b>%{hovertext}</b><br><br>symbol=%{x}<br>date=2020-12-18<br>percent=%{y}\", \"hovertext\": [\"ADTN\"], \"ids\": [\"2020-12-18\"], \"legendgroup\": \"ADTN\", \"marker\": {\"color\": \"#636efa\"}, \"name\": \"ADTN\", \"offsetgroup\": \"ADTN\", \"orientation\": \"v\", \"showlegend\": true, \"textposition\": \"auto\", \"x\": [\"ADTN\"], \"xaxis\": \"x\", \"y\": [-0.86], \"yaxis\": \"y\", \"type\": \"bar\"}, {\"alignmentgroup\": \"True\", \"hoverlabel\": {\"namelength\": 0}, \"hovertemplate\": \"<b>%{hovertext}</b><br><br>symbol=%{x}<br>date=2020-12-18<br>percent=%{y}\", \"hovertext\": [\"AVGO\"], \"ids\": [\"2020-12-18\"], \"legendgroup\": \"AVGO\", \"marker\": {\"color\": \"#EF553B\"}, \"name\": \"AVGO\", \"offsetgroup\": \"AVGO\", \"orientation\": \"v\", \"showlegend\": true, \"textposition\": \"auto\", \"x\": [\"AVGO\"], \"xaxis\": \"x\", \"y\": [-0.34], \"yaxis\": \"y\", \"type\": \"bar\"}, {\"alignmentgroup\": \"True\", \"hoverlabel\": {\"namelength\": 0}, \"hovertemplate\": \"<b>%{hovertext}</b><br><br>symbol=%{x}<br>date=2020-12-18<br>percent=%{y}\", \"hovertext\": [\"AVNW\"], \"ids\": [\"2020-12-18\"], \"legendgroup\": \"AVNW\", \"marker\": {\"color\": \"#00cc96\"}, \"name\": \"AVNW\", \"offsetgroup\": \"AVNW\", \"orientation\": \"v\", \"showlegend\": true, \"textposition\": \"auto\", \"x\": [\"AVNW\"], \"xaxis\": \"x\", \"y\": [-3.6], \"yaxis\": \"y\", \"type\": \"bar\"}, {\"alignmentgroup\": \"True\", \"hoverlabel\": {\"namelength\": 0}, \"hovertemplate\": \"<b>%{hovertext}</b><br><br>symbol=%{x}<br>date=2020-12-18<br>percent=%{y}\", \"hovertext\": [\"CALX\"], \"ids\": [\"2020-12-18\"], \"legendgroup\": \"CALX\", \"marker\": {\"color\": \"#ab63fa\"}, \"name\": \"CALX\", \"offsetgroup\": \"CALX\", \"orientation\": \"v\", \"showlegend\": true, \"textposition\": \"auto\", \"x\": [\"CALX\"], \"xaxis\": \"x\", \"y\": [4.48], \"yaxis\": \"y\", \"type\": \"bar\"}, {\"alignmentgroup\": \"True\", \"hoverlabel\": {\"namelength\": 0}, \"hovertemplate\": \"<b>%{hovertext}</b><br><br>symbol=%{x}<br>date=2020-12-18<br>percent=%{y}\", \"hovertext\": [\"CEVA\"], \"ids\": [\"2020-12-18\"], \"legendgroup\": \"CEVA\", \"marker\": {\"color\": \"#FFA15A\"}, \"name\": \"CEVA\", \"offsetgroup\": \"CEVA\", \"orientation\": \"v\", \"showlegend\": true, \"textposition\": \"auto\", \"x\": [\"CEVA\"], \"xaxis\": \"x\", \"y\": [1.75], \"yaxis\": \"y\", \"type\": \"bar\"}, {\"alignmentgroup\": \"True\", \"hoverlabel\": {\"namelength\": 0}, \"hovertemplate\": \"<b>%{hovertext}</b><br><br>symbol=%{x}<br>date=2020-12-18<br>percent=%{y}\", \"hovertext\": [\"ERIC\"], \"ids\": [\"2020-12-18\"], \"legendgroup\": \"ERIC\", \"marker\": {\"color\": \"#19d3f3\"}, \"name\": \"ERIC\", \"offsetgroup\": \"ERIC\", \"orientation\": \"v\", \"showlegend\": true, \"textposition\": \"auto\", \"x\": [\"ERIC\"], \"xaxis\": \"x\", \"y\": [-1.01], \"yaxis\": \"y\", \"type\": \"bar\"}, {\"alignmentgroup\": \"True\", \"hoverlabel\": {\"namelength\": 0}, \"hovertemplate\": \"<b>%{hovertext}</b><br><br>symbol=%{x}<br>date=2020-12-18<br>percent=%{y}\", \"hovertext\": [\"IIVI\"], \"ids\": [\"2020-12-18\"], \"legendgroup\": \"IIVI\", \"marker\": {\"color\": \"#FF6692\"}, \"name\": \"IIVI\", \"offsetgroup\": \"IIVI\", \"orientation\": \"v\", \"showlegend\": true, \"textposition\": \"auto\", \"x\": [\"IIVI\"], \"xaxis\": \"x\", \"y\": [4.75], \"yaxis\": \"y\", \"type\": \"bar\"}, {\"alignmentgroup\": \"True\", \"hoverlabel\": {\"namelength\": 0}, \"hovertemplate\": \"<b>%{hovertext}</b><br><br>symbol=%{x}<br>date=2020-12-18<br>percent=%{y}\", \"hovertext\": [\"INFN\"], \"ids\": [\"2020-12-18\"], \"legendgroup\": \"INFN\", \"marker\": {\"color\": \"#B6E880\"}, \"name\": \"INFN\", \"offsetgroup\": \"INFN\", \"orientation\": \"v\", \"showlegend\": true, \"textposition\": \"auto\", \"x\": [\"INFN\"], \"xaxis\": \"x\", \"y\": [0.98], \"yaxis\": \"y\", \"type\": \"bar\"}, {\"alignmentgroup\": \"True\", \"hoverlabel\": {\"namelength\": 0}, \"hovertemplate\": \"<b>%{hovertext}</b><br><br>symbol=%{x}<br>date=2020-12-18<br>percent=%{y}\", \"hovertext\": [\"IPGP\"], \"ids\": [\"2020-12-18\"], \"legendgroup\": \"IPGP\", \"marker\": {\"color\": \"#FF97FF\"}, \"name\": \"IPGP\", \"offsetgroup\": \"IPGP\", \"orientation\": \"v\", \"showlegend\": true, \"textposition\": \"auto\", \"x\": [\"IPGP\"], \"xaxis\": \"x\", \"y\": [0.89], \"yaxis\": \"y\", \"type\": \"bar\"}, {\"alignmentgroup\": \"True\", \"hoverlabel\": {\"namelength\": 0}, \"hovertemplate\": \"<b>%{hovertext}</b><br><br>symbol=%{x}<br>date=2020-12-18<br>percent=%{y}\", \"hovertext\": [\"IPHI\"], \"ids\": [\"2020-12-18\"], \"legendgroup\": \"IPHI\", \"marker\": {\"color\": \"#FECB52\"}, \"name\": \"IPHI\", \"offsetgroup\": \"IPHI\", \"orientation\": \"v\", \"showlegend\": true, \"textposition\": \"auto\", \"x\": [\"IPHI\"], \"xaxis\": \"x\", \"y\": [-1.56], \"yaxis\": \"y\", \"type\": \"bar\"}, {\"alignmentgroup\": \"True\", \"hoverlabel\": {\"namelength\": 0}, \"hovertemplate\": \"<b>%{hovertext}</b><br><br>symbol=%{x}<br>date=2020-12-18<br>percent=%{y}\", \"hovertext\": [\"LITE\"], \"ids\": [\"2020-12-18\"], \"legendgroup\": \"LITE\", \"marker\": {\"color\": \"#636efa\"}, \"name\": \"LITE\", \"offsetgroup\": \"LITE\", \"orientation\": \"v\", \"showlegend\": true, \"textposition\": \"auto\", \"x\": [\"LITE\"], \"xaxis\": \"x\", \"y\": [7.26], \"yaxis\": \"y\", \"type\": \"bar\"}, {\"alignmentgroup\": \"True\", \"hoverlabel\": {\"namelength\": 0}, \"hovertemplate\": \"<b>%{hovertext}</b><br><br>symbol=%{x}<br>date=2020-12-18<br>percent=%{y}\", \"hovertext\": [\"MRVL\"], \"ids\": [\"2020-12-18\"], \"legendgroup\": \"MRVL\", \"marker\": {\"color\": \"#EF553B\"}, \"name\": \"MRVL\", \"offsetgroup\": \"MRVL\", \"orientation\": \"v\", \"showlegend\": true, \"textposition\": \"auto\", \"x\": [\"MRVL\"], \"xaxis\": \"x\", \"y\": [-0.76], \"yaxis\": \"y\", \"type\": \"bar\"}, {\"alignmentgroup\": \"True\", \"hoverlabel\": {\"namelength\": 0}, \"hovertemplate\": \"<b>%{hovertext}</b><br><br>symbol=%{x}<br>date=2020-12-18<br>percent=%{y}\", \"hovertext\": [\"MXL\"], \"ids\": [\"2020-12-18\"], \"legendgroup\": \"MXL\", \"marker\": {\"color\": \"#00cc96\"}, \"name\": \"MXL\", \"offsetgroup\": \"MXL\", \"orientation\": \"v\", \"showlegend\": true, \"textposition\": \"auto\", \"x\": [\"MXL\"], \"xaxis\": \"x\", \"y\": [4.54], \"yaxis\": \"y\", \"type\": \"bar\"}, {\"alignmentgroup\": \"True\", \"hoverlabel\": {\"namelength\": 0}, \"hovertemplate\": \"<b>%{hovertext}</b><br><br>symbol=%{x}<br>date=2020-12-18<br>percent=%{y}\", \"hovertext\": [\"NXPI\"], \"ids\": [\"2020-12-18\"], \"legendgroup\": \"NXPI\", \"marker\": {\"color\": \"#ab63fa\"}, \"name\": \"NXPI\", \"offsetgroup\": \"NXPI\", \"orientation\": \"v\", \"showlegend\": true, \"textposition\": \"auto\", \"x\": [\"NXPI\"], \"xaxis\": \"x\", \"y\": [0.56], \"yaxis\": \"y\", \"type\": \"bar\"}, {\"alignmentgroup\": \"True\", \"hoverlabel\": {\"namelength\": 0}, \"hovertemplate\": \"<b>%{hovertext}</b><br><br>symbol=%{x}<br>date=2020-12-18<br>percent=%{y}\", \"hovertext\": [\"QRVO\"], \"ids\": [\"2020-12-18\"], \"legendgroup\": \"QRVO\", \"marker\": {\"color\": \"#FFA15A\"}, \"name\": \"QRVO\", \"offsetgroup\": \"QRVO\", \"orientation\": \"v\", \"showlegend\": true, \"textposition\": \"auto\", \"x\": [\"QRVO\"], \"xaxis\": \"x\", \"y\": [0.37], \"yaxis\": \"y\", \"type\": \"bar\"}, {\"alignmentgroup\": \"True\", \"hoverlabel\": {\"namelength\": 0}, \"hovertemplate\": \"<b>%{hovertext}</b><br><br>symbol=%{x}<br>date=2020-12-18<br>percent=%{y}\", \"hovertext\": [\"SBAC\"], \"ids\": [\"2020-12-18\"], \"legendgroup\": \"SBAC\", \"marker\": {\"color\": \"#19d3f3\"}, \"name\": \"SBAC\", \"offsetgroup\": \"SBAC\", \"orientation\": \"v\", \"showlegend\": true, \"textposition\": \"auto\", \"x\": [\"SBAC\"], \"xaxis\": \"x\", \"y\": [-0.36], \"yaxis\": \"y\", \"type\": \"bar\"}, {\"alignmentgroup\": \"True\", \"hoverlabel\": {\"namelength\": 0}, \"hovertemplate\": \"<b>%{hovertext}</b><br><br>symbol=%{x}<br>date=2020-12-18<br>percent=%{y}\", \"hovertext\": [\"XLNX\"], \"ids\": [\"2020-12-18\"], \"legendgroup\": \"XLNX\", \"marker\": {\"color\": \"#FF6692\"}, \"name\": \"XLNX\", \"offsetgroup\": \"XLNX\", \"orientation\": \"v\", \"showlegend\": true, \"textposition\": \"auto\", \"x\": [\"XLNX\"], \"xaxis\": \"x\", \"y\": [-3.37], \"yaxis\": \"y\", \"type\": \"bar\"}], \"name\": \"2020-12-18\"}, {\"data\": [{\"alignmentgroup\": \"True\", \"hoverlabel\": {\"namelength\": 0}, \"hovertemplate\": \"<b>%{hovertext}</b><br><br>symbol=%{x}<br>date=2020-12-17<br>percent=%{y}\", \"hovertext\": [\"ADTN\"], \"ids\": [\"2020-12-17\"], \"legendgroup\": \"ADTN\", \"marker\": {\"color\": \"#636efa\"}, \"name\": \"ADTN\", \"offsetgroup\": \"ADTN\", \"orientation\": \"v\", \"showlegend\": true, \"textposition\": \"auto\", \"x\": [\"ADTN\"], \"xaxis\": \"x\", \"y\": [0.03], \"yaxis\": \"y\", \"type\": \"bar\"}, {\"alignmentgroup\": \"True\", \"hoverlabel\": {\"namelength\": 0}, \"hovertemplate\": \"<b>%{hovertext}</b><br><br>symbol=%{x}<br>date=2020-12-17<br>percent=%{y}\", \"hovertext\": [\"AVGO\"], \"ids\": [\"2020-12-17\"], \"legendgroup\": \"AVGO\", \"marker\": {\"color\": \"#EF553B\"}, \"name\": \"AVGO\", \"offsetgroup\": \"AVGO\", \"orientation\": \"v\", \"showlegend\": true, \"textposition\": \"auto\", \"x\": [\"AVGO\"], \"xaxis\": \"x\", \"y\": [1.59], \"yaxis\": \"y\", \"type\": \"bar\"}, {\"alignmentgroup\": \"True\", \"hoverlabel\": {\"namelength\": 0}, \"hovertemplate\": \"<b>%{hovertext}</b><br><br>symbol=%{x}<br>date=2020-12-17<br>percent=%{y}\", \"hovertext\": [\"AVNW\"], \"ids\": [\"2020-12-17\"], \"legendgroup\": \"AVNW\", \"marker\": {\"color\": \"#00cc96\"}, \"name\": \"AVNW\", \"offsetgroup\": \"AVNW\", \"orientation\": \"v\", \"showlegend\": true, \"textposition\": \"auto\", \"x\": [\"AVNW\"], \"xaxis\": \"x\", \"y\": [-6.72], \"yaxis\": \"y\", \"type\": \"bar\"}, {\"alignmentgroup\": \"True\", \"hoverlabel\": {\"namelength\": 0}, \"hovertemplate\": \"<b>%{hovertext}</b><br><br>symbol=%{x}<br>date=2020-12-17<br>percent=%{y}\", \"hovertext\": [\"CALX\"], \"ids\": [\"2020-12-17\"], \"legendgroup\": \"CALX\", \"marker\": {\"color\": \"#ab63fa\"}, \"name\": \"CALX\", \"offsetgroup\": \"CALX\", \"orientation\": \"v\", \"showlegend\": true, \"textposition\": \"auto\", \"x\": [\"CALX\"], \"xaxis\": \"x\", \"y\": [8.04], \"yaxis\": \"y\", \"type\": \"bar\"}, {\"alignmentgroup\": \"True\", \"hoverlabel\": {\"namelength\": 0}, \"hovertemplate\": \"<b>%{hovertext}</b><br><br>symbol=%{x}<br>date=2020-12-17<br>percent=%{y}\", \"hovertext\": [\"CEVA\"], \"ids\": [\"2020-12-17\"], \"legendgroup\": \"CEVA\", \"marker\": {\"color\": \"#FFA15A\"}, \"name\": \"CEVA\", \"offsetgroup\": \"CEVA\", \"orientation\": \"v\", \"showlegend\": true, \"textposition\": \"auto\", \"x\": [\"CEVA\"], \"xaxis\": \"x\", \"y\": [1.69], \"yaxis\": \"y\", \"type\": \"bar\"}, {\"alignmentgroup\": \"True\", \"hoverlabel\": {\"namelength\": 0}, \"hovertemplate\": \"<b>%{hovertext}</b><br><br>symbol=%{x}<br>date=2020-12-17<br>percent=%{y}\", \"hovertext\": [\"ERIC\"], \"ids\": [\"2020-12-17\"], \"legendgroup\": \"ERIC\", \"marker\": {\"color\": \"#19d3f3\"}, \"name\": \"ERIC\", \"offsetgroup\": \"ERIC\", \"orientation\": \"v\", \"showlegend\": true, \"textposition\": \"auto\", \"x\": [\"ERIC\"], \"xaxis\": \"x\", \"y\": [-2.36], \"yaxis\": \"y\", \"type\": \"bar\"}, {\"alignmentgroup\": \"True\", \"hoverlabel\": {\"namelength\": 0}, \"hovertemplate\": \"<b>%{hovertext}</b><br><br>symbol=%{x}<br>date=2020-12-17<br>percent=%{y}\", \"hovertext\": [\"IIVI\"], \"ids\": [\"2020-12-17\"], \"legendgroup\": \"IIVI\", \"marker\": {\"color\": \"#FF6692\"}, \"name\": \"IIVI\", \"offsetgroup\": \"IIVI\", \"orientation\": \"v\", \"showlegend\": true, \"textposition\": \"auto\", \"x\": [\"IIVI\"], \"xaxis\": \"x\", \"y\": [6.47], \"yaxis\": \"y\", \"type\": \"bar\"}, {\"alignmentgroup\": \"True\", \"hoverlabel\": {\"namelength\": 0}, \"hovertemplate\": \"<b>%{hovertext}</b><br><br>symbol=%{x}<br>date=2020-12-17<br>percent=%{y}\", \"hovertext\": [\"INFN\"], \"ids\": [\"2020-12-17\"], \"legendgroup\": \"INFN\", \"marker\": {\"color\": \"#B6E880\"}, \"name\": \"INFN\", \"offsetgroup\": \"INFN\", \"orientation\": \"v\", \"showlegend\": true, \"textposition\": \"auto\", \"x\": [\"INFN\"], \"xaxis\": \"x\", \"y\": [9.71], \"yaxis\": \"y\", \"type\": \"bar\"}, {\"alignmentgroup\": \"True\", \"hoverlabel\": {\"namelength\": 0}, \"hovertemplate\": \"<b>%{hovertext}</b><br><br>symbol=%{x}<br>date=2020-12-17<br>percent=%{y}\", \"hovertext\": [\"IPGP\"], \"ids\": [\"2020-12-17\"], \"legendgroup\": \"IPGP\", \"marker\": {\"color\": \"#FF97FF\"}, \"name\": \"IPGP\", \"offsetgroup\": \"IPGP\", \"orientation\": \"v\", \"showlegend\": true, \"textposition\": \"auto\", \"x\": [\"IPGP\"], \"xaxis\": \"x\", \"y\": [0.89], \"yaxis\": \"y\", \"type\": \"bar\"}, {\"alignmentgroup\": \"True\", \"hoverlabel\": {\"namelength\": 0}, \"hovertemplate\": \"<b>%{hovertext}</b><br><br>symbol=%{x}<br>date=2020-12-17<br>percent=%{y}\", \"hovertext\": [\"IPHI\"], \"ids\": [\"2020-12-17\"], \"legendgroup\": \"IPHI\", \"marker\": {\"color\": \"#FECB52\"}, \"name\": \"IPHI\", \"offsetgroup\": \"IPHI\", \"orientation\": \"v\", \"showlegend\": true, \"textposition\": \"auto\", \"x\": [\"IPHI\"], \"xaxis\": \"x\", \"y\": [0.46], \"yaxis\": \"y\", \"type\": \"bar\"}, {\"alignmentgroup\": \"True\", \"hoverlabel\": {\"namelength\": 0}, \"hovertemplate\": \"<b>%{hovertext}</b><br><br>symbol=%{x}<br>date=2020-12-17<br>percent=%{y}\", \"hovertext\": [\"LITE\"], \"ids\": [\"2020-12-17\"], \"legendgroup\": \"LITE\", \"marker\": {\"color\": \"#636efa\"}, \"name\": \"LITE\", \"offsetgroup\": \"LITE\", \"orientation\": \"v\", \"showlegend\": true, \"textposition\": \"auto\", \"x\": [\"LITE\"], \"xaxis\": \"x\", \"y\": [5.18], \"yaxis\": \"y\", \"type\": \"bar\"}, {\"alignmentgroup\": \"True\", \"hoverlabel\": {\"namelength\": 0}, \"hovertemplate\": \"<b>%{hovertext}</b><br><br>symbol=%{x}<br>date=2020-12-17<br>percent=%{y}\", \"hovertext\": [\"MRVL\"], \"ids\": [\"2020-12-17\"], \"legendgroup\": \"MRVL\", \"marker\": {\"color\": \"#EF553B\"}, \"name\": \"MRVL\", \"offsetgroup\": \"MRVL\", \"orientation\": \"v\", \"showlegend\": true, \"textposition\": \"auto\", \"x\": [\"MRVL\"], \"xaxis\": \"x\", \"y\": [0.2], \"yaxis\": \"y\", \"type\": \"bar\"}, {\"alignmentgroup\": \"True\", \"hoverlabel\": {\"namelength\": 0}, \"hovertemplate\": \"<b>%{hovertext}</b><br><br>symbol=%{x}<br>date=2020-12-17<br>percent=%{y}\", \"hovertext\": [\"MXL\"], \"ids\": [\"2020-12-17\"], \"legendgroup\": \"MXL\", \"marker\": {\"color\": \"#00cc96\"}, \"name\": \"MXL\", \"offsetgroup\": \"MXL\", \"orientation\": \"v\", \"showlegend\": true, \"textposition\": \"auto\", \"x\": [\"MXL\"], \"xaxis\": \"x\", \"y\": [6.74], \"yaxis\": \"y\", \"type\": \"bar\"}, {\"alignmentgroup\": \"True\", \"hoverlabel\": {\"namelength\": 0}, \"hovertemplate\": \"<b>%{hovertext}</b><br><br>symbol=%{x}<br>date=2020-12-17<br>percent=%{y}\", \"hovertext\": [\"NXPI\"], \"ids\": [\"2020-12-17\"], \"legendgroup\": \"NXPI\", \"marker\": {\"color\": \"#ab63fa\"}, \"name\": \"NXPI\", \"offsetgroup\": \"NXPI\", \"orientation\": \"v\", \"showlegend\": true, \"textposition\": \"auto\", \"x\": [\"NXPI\"], \"xaxis\": \"x\", \"y\": [-0.85], \"yaxis\": \"y\", \"type\": \"bar\"}, {\"alignmentgroup\": \"True\", \"hoverlabel\": {\"namelength\": 0}, \"hovertemplate\": \"<b>%{hovertext}</b><br><br>symbol=%{x}<br>date=2020-12-17<br>percent=%{y}\", \"hovertext\": [\"QRVO\"], \"ids\": [\"2020-12-17\"], \"legendgroup\": \"QRVO\", \"marker\": {\"color\": \"#FFA15A\"}, \"name\": \"QRVO\", \"offsetgroup\": \"QRVO\", \"orientation\": \"v\", \"showlegend\": true, \"textposition\": \"auto\", \"x\": [\"QRVO\"], \"xaxis\": \"x\", \"y\": [2.51], \"yaxis\": \"y\", \"type\": \"bar\"}, {\"alignmentgroup\": \"True\", \"hoverlabel\": {\"namelength\": 0}, \"hovertemplate\": \"<b>%{hovertext}</b><br><br>symbol=%{x}<br>date=2020-12-17<br>percent=%{y}\", \"hovertext\": [\"SBAC\"], \"ids\": [\"2020-12-17\"], \"legendgroup\": \"SBAC\", \"marker\": {\"color\": \"#19d3f3\"}, \"name\": \"SBAC\", \"offsetgroup\": \"SBAC\", \"orientation\": \"v\", \"showlegend\": true, \"textposition\": \"auto\", \"x\": [\"SBAC\"], \"xaxis\": \"x\", \"y\": [-2.13], \"yaxis\": \"y\", \"type\": \"bar\"}, {\"alignmentgroup\": \"True\", \"hoverlabel\": {\"namelength\": 0}, \"hovertemplate\": \"<b>%{hovertext}</b><br><br>symbol=%{x}<br>date=2020-12-17<br>percent=%{y}\", \"hovertext\": [\"XLNX\"], \"ids\": [\"2020-12-17\"], \"legendgroup\": \"XLNX\", \"marker\": {\"color\": \"#FF6692\"}, \"name\": \"XLNX\", \"offsetgroup\": \"XLNX\", \"orientation\": \"v\", \"showlegend\": true, \"textposition\": \"auto\", \"x\": [\"XLNX\"], \"xaxis\": \"x\", \"y\": [-4.96], \"yaxis\": \"y\", \"type\": \"bar\"}], \"name\": \"2020-12-17\"}, {\"data\": [{\"alignmentgroup\": \"True\", \"hoverlabel\": {\"namelength\": 0}, \"hovertemplate\": \"<b>%{hovertext}</b><br><br>symbol=%{x}<br>date=2020-12-16<br>percent=%{y}\", \"hovertext\": [\"ADTN\"], \"ids\": [\"2020-12-16\"], \"legendgroup\": \"ADTN\", \"marker\": {\"color\": \"#636efa\"}, \"name\": \"ADTN\", \"offsetgroup\": \"ADTN\", \"orientation\": \"v\", \"showlegend\": true, \"textposition\": \"auto\", \"x\": [\"ADTN\"], \"xaxis\": \"x\", \"y\": [2.67], \"yaxis\": \"y\", \"type\": \"bar\"}, {\"alignmentgroup\": \"True\", \"hoverlabel\": {\"namelength\": 0}, \"hovertemplate\": \"<b>%{hovertext}</b><br><br>symbol=%{x}<br>date=2020-12-16<br>percent=%{y}\", \"hovertext\": [\"AVGO\"], \"ids\": [\"2020-12-16\"], \"legendgroup\": \"AVGO\", \"marker\": {\"color\": \"#EF553B\"}, \"name\": \"AVGO\", \"offsetgroup\": \"AVGO\", \"orientation\": \"v\", \"showlegend\": true, \"textposition\": \"auto\", \"x\": [\"AVGO\"], \"xaxis\": \"x\", \"y\": [1.93], \"yaxis\": \"y\", \"type\": \"bar\"}, {\"alignmentgroup\": \"True\", \"hoverlabel\": {\"namelength\": 0}, \"hovertemplate\": \"<b>%{hovertext}</b><br><br>symbol=%{x}<br>date=2020-12-16<br>percent=%{y}\", \"hovertext\": [\"AVNW\"], \"ids\": [\"2020-12-16\"], \"legendgroup\": \"AVNW\", \"marker\": {\"color\": \"#00cc96\"}, \"name\": \"AVNW\", \"offsetgroup\": \"AVNW\", \"orientation\": \"v\", \"showlegend\": true, \"textposition\": \"auto\", \"x\": [\"AVNW\"], \"xaxis\": \"x\", \"y\": [-8.6], \"yaxis\": \"y\", \"type\": \"bar\"}, {\"alignmentgroup\": \"True\", \"hoverlabel\": {\"namelength\": 0}, \"hovertemplate\": \"<b>%{hovertext}</b><br><br>symbol=%{x}<br>date=2020-12-16<br>percent=%{y}\", \"hovertext\": [\"CALX\"], \"ids\": [\"2020-12-16\"], \"legendgroup\": \"CALX\", \"marker\": {\"color\": \"#ab63fa\"}, \"name\": \"CALX\", \"offsetgroup\": \"CALX\", \"orientation\": \"v\", \"showlegend\": true, \"textposition\": \"auto\", \"x\": [\"CALX\"], \"xaxis\": \"x\", \"y\": [11.43], \"yaxis\": \"y\", \"type\": \"bar\"}, {\"alignmentgroup\": \"True\", \"hoverlabel\": {\"namelength\": 0}, \"hovertemplate\": \"<b>%{hovertext}</b><br><br>symbol=%{x}<br>date=2020-12-16<br>percent=%{y}\", \"hovertext\": [\"CEVA\"], \"ids\": [\"2020-12-16\"], \"legendgroup\": \"CEVA\", \"marker\": {\"color\": \"#FFA15A\"}, \"name\": \"CEVA\", \"offsetgroup\": \"CEVA\", \"orientation\": \"v\", \"showlegend\": true, \"textposition\": \"auto\", \"x\": [\"CEVA\"], \"xaxis\": \"x\", \"y\": [2.34], \"yaxis\": \"y\", \"type\": \"bar\"}, {\"alignmentgroup\": \"True\", \"hoverlabel\": {\"namelength\": 0}, \"hovertemplate\": \"<b>%{hovertext}</b><br><br>symbol=%{x}<br>date=2020-12-16<br>percent=%{y}\", \"hovertext\": [\"ERIC\"], \"ids\": [\"2020-12-16\"], \"legendgroup\": \"ERIC\", \"marker\": {\"color\": \"#19d3f3\"}, \"name\": \"ERIC\", \"offsetgroup\": \"ERIC\", \"orientation\": \"v\", \"showlegend\": true, \"textposition\": \"auto\", \"x\": [\"ERIC\"], \"xaxis\": \"x\", \"y\": [-1.17], \"yaxis\": \"y\", \"type\": \"bar\"}, {\"alignmentgroup\": \"True\", \"hoverlabel\": {\"namelength\": 0}, \"hovertemplate\": \"<b>%{hovertext}</b><br><br>symbol=%{x}<br>date=2020-12-16<br>percent=%{y}\", \"hovertext\": [\"IIVI\"], \"ids\": [\"2020-12-16\"], \"legendgroup\": \"IIVI\", \"marker\": {\"color\": \"#FF6692\"}, \"name\": \"IIVI\", \"offsetgroup\": \"IIVI\", \"orientation\": \"v\", \"showlegend\": true, \"textposition\": \"auto\", \"x\": [\"IIVI\"], \"xaxis\": \"x\", \"y\": [8.34], \"yaxis\": \"y\", \"type\": \"bar\"}, {\"alignmentgroup\": \"True\", \"hoverlabel\": {\"namelength\": 0}, \"hovertemplate\": \"<b>%{hovertext}</b><br><br>symbol=%{x}<br>date=2020-12-16<br>percent=%{y}\", \"hovertext\": [\"INFN\"], \"ids\": [\"2020-12-16\"], \"legendgroup\": \"INFN\", \"marker\": {\"color\": \"#B6E880\"}, \"name\": \"INFN\", \"offsetgroup\": \"INFN\", \"orientation\": \"v\", \"showlegend\": true, \"textposition\": \"auto\", \"x\": [\"INFN\"], \"xaxis\": \"x\", \"y\": [11.88], \"yaxis\": \"y\", \"type\": \"bar\"}, {\"alignmentgroup\": \"True\", \"hoverlabel\": {\"namelength\": 0}, \"hovertemplate\": \"<b>%{hovertext}</b><br><br>symbol=%{x}<br>date=2020-12-16<br>percent=%{y}\", \"hovertext\": [\"IPGP\"], \"ids\": [\"2020-12-16\"], \"legendgroup\": \"IPGP\", \"marker\": {\"color\": \"#FF97FF\"}, \"name\": \"IPGP\", \"offsetgroup\": \"IPGP\", \"orientation\": \"v\", \"showlegend\": true, \"textposition\": \"auto\", \"x\": [\"IPGP\"], \"xaxis\": \"x\", \"y\": [2.33], \"yaxis\": \"y\", \"type\": \"bar\"}, {\"alignmentgroup\": \"True\", \"hoverlabel\": {\"namelength\": 0}, \"hovertemplate\": \"<b>%{hovertext}</b><br><br>symbol=%{x}<br>date=2020-12-16<br>percent=%{y}\", \"hovertext\": [\"IPHI\"], \"ids\": [\"2020-12-16\"], \"legendgroup\": \"IPHI\", \"marker\": {\"color\": \"#FECB52\"}, \"name\": \"IPHI\", \"offsetgroup\": \"IPHI\", \"orientation\": \"v\", \"showlegend\": true, \"textposition\": \"auto\", \"x\": [\"IPHI\"], \"xaxis\": \"x\", \"y\": [2.28], \"yaxis\": \"y\", \"type\": \"bar\"}, {\"alignmentgroup\": \"True\", \"hoverlabel\": {\"namelength\": 0}, \"hovertemplate\": \"<b>%{hovertext}</b><br><br>symbol=%{x}<br>date=2020-12-16<br>percent=%{y}\", \"hovertext\": [\"LITE\"], \"ids\": [\"2020-12-16\"], \"legendgroup\": \"LITE\", \"marker\": {\"color\": \"#636efa\"}, \"name\": \"LITE\", \"offsetgroup\": \"LITE\", \"orientation\": \"v\", \"showlegend\": true, \"textposition\": \"auto\", \"x\": [\"LITE\"], \"xaxis\": \"x\", \"y\": [5.1], \"yaxis\": \"y\", \"type\": \"bar\"}, {\"alignmentgroup\": \"True\", \"hoverlabel\": {\"namelength\": 0}, \"hovertemplate\": \"<b>%{hovertext}</b><br><br>symbol=%{x}<br>date=2020-12-16<br>percent=%{y}\", \"hovertext\": [\"MRVL\"], \"ids\": [\"2020-12-16\"], \"legendgroup\": \"MRVL\", \"marker\": {\"color\": \"#EF553B\"}, \"name\": \"MRVL\", \"offsetgroup\": \"MRVL\", \"orientation\": \"v\", \"showlegend\": true, \"textposition\": \"auto\", \"x\": [\"MRVL\"], \"xaxis\": \"x\", \"y\": [4.06], \"yaxis\": \"y\", \"type\": \"bar\"}, {\"alignmentgroup\": \"True\", \"hoverlabel\": {\"namelength\": 0}, \"hovertemplate\": \"<b>%{hovertext}</b><br><br>symbol=%{x}<br>date=2020-12-16<br>percent=%{y}\", \"hovertext\": [\"MXL\"], \"ids\": [\"2020-12-16\"], \"legendgroup\": \"MXL\", \"marker\": {\"color\": \"#00cc96\"}, \"name\": \"MXL\", \"offsetgroup\": \"MXL\", \"orientation\": \"v\", \"showlegend\": true, \"textposition\": \"auto\", \"x\": [\"MXL\"], \"xaxis\": \"x\", \"y\": [12.82], \"yaxis\": \"y\", \"type\": \"bar\"}, {\"alignmentgroup\": \"True\", \"hoverlabel\": {\"namelength\": 0}, \"hovertemplate\": \"<b>%{hovertext}</b><br><br>symbol=%{x}<br>date=2020-12-16<br>percent=%{y}\", \"hovertext\": [\"NXPI\"], \"ids\": [\"2020-12-16\"], \"legendgroup\": \"NXPI\", \"marker\": {\"color\": \"#ab63fa\"}, \"name\": \"NXPI\", \"offsetgroup\": \"NXPI\", \"orientation\": \"v\", \"showlegend\": true, \"textposition\": \"auto\", \"x\": [\"NXPI\"], \"xaxis\": \"x\", \"y\": [-0.57], \"yaxis\": \"y\", \"type\": \"bar\"}, {\"alignmentgroup\": \"True\", \"hoverlabel\": {\"namelength\": 0}, \"hovertemplate\": \"<b>%{hovertext}</b><br><br>symbol=%{x}<br>date=2020-12-16<br>percent=%{y}\", \"hovertext\": [\"QRVO\"], \"ids\": [\"2020-12-16\"], \"legendgroup\": \"QRVO\", \"marker\": {\"color\": \"#FFA15A\"}, \"name\": \"QRVO\", \"offsetgroup\": \"QRVO\", \"orientation\": \"v\", \"showlegend\": true, \"textposition\": \"auto\", \"x\": [\"QRVO\"], \"xaxis\": \"x\", \"y\": [2.68], \"yaxis\": \"y\", \"type\": \"bar\"}, {\"alignmentgroup\": \"True\", \"hoverlabel\": {\"namelength\": 0}, \"hovertemplate\": \"<b>%{hovertext}</b><br><br>symbol=%{x}<br>date=2020-12-16<br>percent=%{y}\", \"hovertext\": [\"SBAC\"], \"ids\": [\"2020-12-16\"], \"legendgroup\": \"SBAC\", \"marker\": {\"color\": \"#19d3f3\"}, \"name\": \"SBAC\", \"offsetgroup\": \"SBAC\", \"orientation\": \"v\", \"showlegend\": true, \"textposition\": \"auto\", \"x\": [\"SBAC\"], \"xaxis\": \"x\", \"y\": [0.06], \"yaxis\": \"y\", \"type\": \"bar\"}, {\"alignmentgroup\": \"True\", \"hoverlabel\": {\"namelength\": 0}, \"hovertemplate\": \"<b>%{hovertext}</b><br><br>symbol=%{x}<br>date=2020-12-16<br>percent=%{y}\", \"hovertext\": [\"XLNX\"], \"ids\": [\"2020-12-16\"], \"legendgroup\": \"XLNX\", \"marker\": {\"color\": \"#FF6692\"}, \"name\": \"XLNX\", \"offsetgroup\": \"XLNX\", \"orientation\": \"v\", \"showlegend\": true, \"textposition\": \"auto\", \"x\": [\"XLNX\"], \"xaxis\": \"x\", \"y\": [-5.0], \"yaxis\": \"y\", \"type\": \"bar\"}], \"name\": \"2020-12-16\"}, {\"data\": [{\"alignmentgroup\": \"True\", \"hoverlabel\": {\"namelength\": 0}, \"hovertemplate\": \"<b>%{hovertext}</b><br><br>symbol=%{x}<br>date=2020-12-15<br>percent=%{y}\", \"hovertext\": [\"ADTN\"], \"ids\": [\"2020-12-15\"], \"legendgroup\": \"ADTN\", \"marker\": {\"color\": \"#636efa\"}, \"name\": \"ADTN\", \"offsetgroup\": \"ADTN\", \"orientation\": \"v\", \"showlegend\": true, \"textposition\": \"auto\", \"x\": [\"ADTN\"], \"xaxis\": \"x\", \"y\": [2.46], \"yaxis\": \"y\", \"type\": \"bar\"}, {\"alignmentgroup\": \"True\", \"hoverlabel\": {\"namelength\": 0}, \"hovertemplate\": \"<b>%{hovertext}</b><br><br>symbol=%{x}<br>date=2020-12-15<br>percent=%{y}\", \"hovertext\": [\"AVGO\"], \"ids\": [\"2020-12-15\"], \"legendgroup\": \"AVGO\", \"marker\": {\"color\": \"#EF553B\"}, \"name\": \"AVGO\", \"offsetgroup\": \"AVGO\", \"orientation\": \"v\", \"showlegend\": true, \"textposition\": \"auto\", \"x\": [\"AVGO\"], \"xaxis\": \"x\", \"y\": [3.6], \"yaxis\": \"y\", \"type\": \"bar\"}, {\"alignmentgroup\": \"True\", \"hoverlabel\": {\"namelength\": 0}, \"hovertemplate\": \"<b>%{hovertext}</b><br><br>symbol=%{x}<br>date=2020-12-15<br>percent=%{y}\", \"hovertext\": [\"AVNW\"], \"ids\": [\"2020-12-15\"], \"legendgroup\": \"AVNW\", \"marker\": {\"color\": \"#00cc96\"}, \"name\": \"AVNW\", \"offsetgroup\": \"AVNW\", \"orientation\": \"v\", \"showlegend\": true, \"textposition\": \"auto\", \"x\": [\"AVNW\"], \"xaxis\": \"x\", \"y\": [-6.87], \"yaxis\": \"y\", \"type\": \"bar\"}, {\"alignmentgroup\": \"True\", \"hoverlabel\": {\"namelength\": 0}, \"hovertemplate\": \"<b>%{hovertext}</b><br><br>symbol=%{x}<br>date=2020-12-15<br>percent=%{y}\", \"hovertext\": [\"CALX\"], \"ids\": [\"2020-12-15\"], \"legendgroup\": \"CALX\", \"marker\": {\"color\": \"#ab63fa\"}, \"name\": \"CALX\", \"offsetgroup\": \"CALX\", \"orientation\": \"v\", \"showlegend\": true, \"textposition\": \"auto\", \"x\": [\"CALX\"], \"xaxis\": \"x\", \"y\": [10.68], \"yaxis\": \"y\", \"type\": \"bar\"}, {\"alignmentgroup\": \"True\", \"hoverlabel\": {\"namelength\": 0}, \"hovertemplate\": \"<b>%{hovertext}</b><br><br>symbol=%{x}<br>date=2020-12-15<br>percent=%{y}\", \"hovertext\": [\"CEVA\"], \"ids\": [\"2020-12-15\"], \"legendgroup\": \"CEVA\", \"marker\": {\"color\": \"#FFA15A\"}, \"name\": \"CEVA\", \"offsetgroup\": \"CEVA\", \"orientation\": \"v\", \"showlegend\": true, \"textposition\": \"auto\", \"x\": [\"CEVA\"], \"xaxis\": \"x\", \"y\": [1.55], \"yaxis\": \"y\", \"type\": \"bar\"}, {\"alignmentgroup\": \"True\", \"hoverlabel\": {\"namelength\": 0}, \"hovertemplate\": \"<b>%{hovertext}</b><br><br>symbol=%{x}<br>date=2020-12-15<br>percent=%{y}\", \"hovertext\": [\"ERIC\"], \"ids\": [\"2020-12-15\"], \"legendgroup\": \"ERIC\", \"marker\": {\"color\": \"#19d3f3\"}, \"name\": \"ERIC\", \"offsetgroup\": \"ERIC\", \"orientation\": \"v\", \"showlegend\": true, \"textposition\": \"auto\", \"x\": [\"ERIC\"], \"xaxis\": \"x\", \"y\": [-1.83], \"yaxis\": \"y\", \"type\": \"bar\"}, {\"alignmentgroup\": \"True\", \"hoverlabel\": {\"namelength\": 0}, \"hovertemplate\": \"<b>%{hovertext}</b><br><br>symbol=%{x}<br>date=2020-12-15<br>percent=%{y}\", \"hovertext\": [\"IIVI\"], \"ids\": [\"2020-12-15\"], \"legendgroup\": \"IIVI\", \"marker\": {\"color\": \"#FF6692\"}, \"name\": \"IIVI\", \"offsetgroup\": \"IIVI\", \"orientation\": \"v\", \"showlegend\": true, \"textposition\": \"auto\", \"x\": [\"IIVI\"], \"xaxis\": \"x\", \"y\": [6.04], \"yaxis\": \"y\", \"type\": \"bar\"}, {\"alignmentgroup\": \"True\", \"hoverlabel\": {\"namelength\": 0}, \"hovertemplate\": \"<b>%{hovertext}</b><br><br>symbol=%{x}<br>date=2020-12-15<br>percent=%{y}\", \"hovertext\": [\"INFN\"], \"ids\": [\"2020-12-15\"], \"legendgroup\": \"INFN\", \"marker\": {\"color\": \"#B6E880\"}, \"name\": \"INFN\", \"offsetgroup\": \"INFN\", \"orientation\": \"v\", \"showlegend\": true, \"textposition\": \"auto\", \"x\": [\"INFN\"], \"xaxis\": \"x\", \"y\": [10.68], \"yaxis\": \"y\", \"type\": \"bar\"}, {\"alignmentgroup\": \"True\", \"hoverlabel\": {\"namelength\": 0}, \"hovertemplate\": \"<b>%{hovertext}</b><br><br>symbol=%{x}<br>date=2020-12-15<br>percent=%{y}\", \"hovertext\": [\"IPGP\"], \"ids\": [\"2020-12-15\"], \"legendgroup\": \"IPGP\", \"marker\": {\"color\": \"#FF97FF\"}, \"name\": \"IPGP\", \"offsetgroup\": \"IPGP\", \"orientation\": \"v\", \"showlegend\": true, \"textposition\": \"auto\", \"x\": [\"IPGP\"], \"xaxis\": \"x\", \"y\": [2.27], \"yaxis\": \"y\", \"type\": \"bar\"}, {\"alignmentgroup\": \"True\", \"hoverlabel\": {\"namelength\": 0}, \"hovertemplate\": \"<b>%{hovertext}</b><br><br>symbol=%{x}<br>date=2020-12-15<br>percent=%{y}\", \"hovertext\": [\"IPHI\"], \"ids\": [\"2020-12-15\"], \"legendgroup\": \"IPHI\", \"marker\": {\"color\": \"#FECB52\"}, \"name\": \"IPHI\", \"offsetgroup\": \"IPHI\", \"orientation\": \"v\", \"showlegend\": true, \"textposition\": \"auto\", \"x\": [\"IPHI\"], \"xaxis\": \"x\", \"y\": [2.31], \"yaxis\": \"y\", \"type\": \"bar\"}, {\"alignmentgroup\": \"True\", \"hoverlabel\": {\"namelength\": 0}, \"hovertemplate\": \"<b>%{hovertext}</b><br><br>symbol=%{x}<br>date=2020-12-15<br>percent=%{y}\", \"hovertext\": [\"LITE\"], \"ids\": [\"2020-12-15\"], \"legendgroup\": \"LITE\", \"marker\": {\"color\": \"#636efa\"}, \"name\": \"LITE\", \"offsetgroup\": \"LITE\", \"orientation\": \"v\", \"showlegend\": true, \"textposition\": \"auto\", \"x\": [\"LITE\"], \"xaxis\": \"x\", \"y\": [4.01], \"yaxis\": \"y\", \"type\": \"bar\"}, {\"alignmentgroup\": \"True\", \"hoverlabel\": {\"namelength\": 0}, \"hovertemplate\": \"<b>%{hovertext}</b><br><br>symbol=%{x}<br>date=2020-12-15<br>percent=%{y}\", \"hovertext\": [\"MRVL\"], \"ids\": [\"2020-12-15\"], \"legendgroup\": \"MRVL\", \"marker\": {\"color\": \"#EF553B\"}, \"name\": \"MRVL\", \"offsetgroup\": \"MRVL\", \"orientation\": \"v\", \"showlegend\": true, \"textposition\": \"auto\", \"x\": [\"MRVL\"], \"xaxis\": \"x\", \"y\": [4.41], \"yaxis\": \"y\", \"type\": \"bar\"}, {\"alignmentgroup\": \"True\", \"hoverlabel\": {\"namelength\": 0}, \"hovertemplate\": \"<b>%{hovertext}</b><br><br>symbol=%{x}<br>date=2020-12-15<br>percent=%{y}\", \"hovertext\": [\"MXL\"], \"ids\": [\"2020-12-15\"], \"legendgroup\": \"MXL\", \"marker\": {\"color\": \"#00cc96\"}, \"name\": \"MXL\", \"offsetgroup\": \"MXL\", \"orientation\": \"v\", \"showlegend\": true, \"textposition\": \"auto\", \"x\": [\"MXL\"], \"xaxis\": \"x\", \"y\": [12.53], \"yaxis\": \"y\", \"type\": \"bar\"}, {\"alignmentgroup\": \"True\", \"hoverlabel\": {\"namelength\": 0}, \"hovertemplate\": \"<b>%{hovertext}</b><br><br>symbol=%{x}<br>date=2020-12-15<br>percent=%{y}\", \"hovertext\": [\"NXPI\"], \"ids\": [\"2020-12-15\"], \"legendgroup\": \"NXPI\", \"marker\": {\"color\": \"#ab63fa\"}, \"name\": \"NXPI\", \"offsetgroup\": \"NXPI\", \"orientation\": \"v\", \"showlegend\": true, \"textposition\": \"auto\", \"x\": [\"NXPI\"], \"xaxis\": \"x\", \"y\": [-2.3], \"yaxis\": \"y\", \"type\": \"bar\"}, {\"alignmentgroup\": \"True\", \"hoverlabel\": {\"namelength\": 0}, \"hovertemplate\": \"<b>%{hovertext}</b><br><br>symbol=%{x}<br>date=2020-12-15<br>percent=%{y}\", \"hovertext\": [\"QRVO\"], \"ids\": [\"2020-12-15\"], \"legendgroup\": \"QRVO\", \"marker\": {\"color\": \"#FFA15A\"}, \"name\": \"QRVO\", \"offsetgroup\": \"QRVO\", \"orientation\": \"v\", \"showlegend\": true, \"textposition\": \"auto\", \"x\": [\"QRVO\"], \"xaxis\": \"x\", \"y\": [3.02], \"yaxis\": \"y\", \"type\": \"bar\"}, {\"alignmentgroup\": \"True\", \"hoverlabel\": {\"namelength\": 0}, \"hovertemplate\": \"<b>%{hovertext}</b><br><br>symbol=%{x}<br>date=2020-12-15<br>percent=%{y}\", \"hovertext\": [\"SBAC\"], \"ids\": [\"2020-12-15\"], \"legendgroup\": \"SBAC\", \"marker\": {\"color\": \"#19d3f3\"}, \"name\": \"SBAC\", \"offsetgroup\": \"SBAC\", \"orientation\": \"v\", \"showlegend\": true, \"textposition\": \"auto\", \"x\": [\"SBAC\"], \"xaxis\": \"x\", \"y\": [-0.13], \"yaxis\": \"y\", \"type\": \"bar\"}, {\"alignmentgroup\": \"True\", \"hoverlabel\": {\"namelength\": 0}, \"hovertemplate\": \"<b>%{hovertext}</b><br><br>symbol=%{x}<br>date=2020-12-15<br>percent=%{y}\", \"hovertext\": [\"XLNX\"], \"ids\": [\"2020-12-15\"], \"legendgroup\": \"XLNX\", \"marker\": {\"color\": \"#FF6692\"}, \"name\": \"XLNX\", \"offsetgroup\": \"XLNX\", \"orientation\": \"v\", \"showlegend\": true, \"textposition\": \"auto\", \"x\": [\"XLNX\"], \"xaxis\": \"x\", \"y\": [-5.23], \"yaxis\": \"y\", \"type\": \"bar\"}], \"name\": \"2020-12-15\"}, {\"data\": [{\"alignmentgroup\": \"True\", \"hoverlabel\": {\"namelength\": 0}, \"hovertemplate\": \"<b>%{hovertext}</b><br><br>symbol=%{x}<br>date=2020-12-14<br>percent=%{y}\", \"hovertext\": [\"ADTN\"], \"ids\": [\"2020-12-14\"], \"legendgroup\": \"ADTN\", \"marker\": {\"color\": \"#636efa\"}, \"name\": \"ADTN\", \"offsetgroup\": \"ADTN\", \"orientation\": \"v\", \"showlegend\": true, \"textposition\": \"auto\", \"x\": [\"ADTN\"], \"xaxis\": \"x\", \"y\": [5.78], \"yaxis\": \"y\", \"type\": \"bar\"}, {\"alignmentgroup\": \"True\", \"hoverlabel\": {\"namelength\": 0}, \"hovertemplate\": \"<b>%{hovertext}</b><br><br>symbol=%{x}<br>date=2020-12-14<br>percent=%{y}\", \"hovertext\": [\"AVGO\"], \"ids\": [\"2020-12-14\"], \"legendgroup\": \"AVGO\", \"marker\": {\"color\": \"#EF553B\"}, \"name\": \"AVGO\", \"offsetgroup\": \"AVGO\", \"orientation\": \"v\", \"showlegend\": true, \"textposition\": \"auto\", \"x\": [\"AVGO\"], \"xaxis\": \"x\", \"y\": [5.17], \"yaxis\": \"y\", \"type\": \"bar\"}, {\"alignmentgroup\": \"True\", \"hoverlabel\": {\"namelength\": 0}, \"hovertemplate\": \"<b>%{hovertext}</b><br><br>symbol=%{x}<br>date=2020-12-14<br>percent=%{y}\", \"hovertext\": [\"AVNW\"], \"ids\": [\"2020-12-14\"], \"legendgroup\": \"AVNW\", \"marker\": {\"color\": \"#00cc96\"}, \"name\": \"AVNW\", \"offsetgroup\": \"AVNW\", \"orientation\": \"v\", \"showlegend\": true, \"textposition\": \"auto\", \"x\": [\"AVNW\"], \"xaxis\": \"x\", \"y\": [-6.14], \"yaxis\": \"y\", \"type\": \"bar\"}, {\"alignmentgroup\": \"True\", \"hoverlabel\": {\"namelength\": 0}, \"hovertemplate\": \"<b>%{hovertext}</b><br><br>symbol=%{x}<br>date=2020-12-14<br>percent=%{y}\", \"hovertext\": [\"CALX\"], \"ids\": [\"2020-12-14\"], \"legendgroup\": \"CALX\", \"marker\": {\"color\": \"#ab63fa\"}, \"name\": \"CALX\", \"offsetgroup\": \"CALX\", \"orientation\": \"v\", \"showlegend\": true, \"textposition\": \"auto\", \"x\": [\"CALX\"], \"xaxis\": \"x\", \"y\": [13.04], \"yaxis\": \"y\", \"type\": \"bar\"}, {\"alignmentgroup\": \"True\", \"hoverlabel\": {\"namelength\": 0}, \"hovertemplate\": \"<b>%{hovertext}</b><br><br>symbol=%{x}<br>date=2020-12-14<br>percent=%{y}\", \"hovertext\": [\"CEVA\"], \"ids\": [\"2020-12-14\"], \"legendgroup\": \"CEVA\", \"marker\": {\"color\": \"#FFA15A\"}, \"name\": \"CEVA\", \"offsetgroup\": \"CEVA\", \"orientation\": \"v\", \"showlegend\": true, \"textposition\": \"auto\", \"x\": [\"CEVA\"], \"xaxis\": \"x\", \"y\": [2.27], \"yaxis\": \"y\", \"type\": \"bar\"}, {\"alignmentgroup\": \"True\", \"hoverlabel\": {\"namelength\": 0}, \"hovertemplate\": \"<b>%{hovertext}</b><br><br>symbol=%{x}<br>date=2020-12-14<br>percent=%{y}\", \"hovertext\": [\"ERIC\"], \"ids\": [\"2020-12-14\"], \"legendgroup\": \"ERIC\", \"marker\": {\"color\": \"#19d3f3\"}, \"name\": \"ERIC\", \"offsetgroup\": \"ERIC\", \"orientation\": \"v\", \"showlegend\": true, \"textposition\": \"auto\", \"x\": [\"ERIC\"], \"xaxis\": \"x\", \"y\": [0.6], \"yaxis\": \"y\", \"type\": \"bar\"}, {\"alignmentgroup\": \"True\", \"hoverlabel\": {\"namelength\": 0}, \"hovertemplate\": \"<b>%{hovertext}</b><br><br>symbol=%{x}<br>date=2020-12-14<br>percent=%{y}\", \"hovertext\": [\"IIVI\"], \"ids\": [\"2020-12-14\"], \"legendgroup\": \"IIVI\", \"marker\": {\"color\": \"#FF6692\"}, \"name\": \"IIVI\", \"offsetgroup\": \"IIVI\", \"orientation\": \"v\", \"showlegend\": true, \"textposition\": \"auto\", \"x\": [\"IIVI\"], \"xaxis\": \"x\", \"y\": [9.14], \"yaxis\": \"y\", \"type\": \"bar\"}, {\"alignmentgroup\": \"True\", \"hoverlabel\": {\"namelength\": 0}, \"hovertemplate\": \"<b>%{hovertext}</b><br><br>symbol=%{x}<br>date=2020-12-14<br>percent=%{y}\", \"hovertext\": [\"INFN\"], \"ids\": [\"2020-12-14\"], \"legendgroup\": \"INFN\", \"marker\": {\"color\": \"#B6E880\"}, \"name\": \"INFN\", \"offsetgroup\": \"INFN\", \"orientation\": \"v\", \"showlegend\": true, \"textposition\": \"auto\", \"x\": [\"INFN\"], \"xaxis\": \"x\", \"y\": [15.54], \"yaxis\": \"y\", \"type\": \"bar\"}, {\"alignmentgroup\": \"True\", \"hoverlabel\": {\"namelength\": 0}, \"hovertemplate\": \"<b>%{hovertext}</b><br><br>symbol=%{x}<br>date=2020-12-14<br>percent=%{y}\", \"hovertext\": [\"IPGP\"], \"ids\": [\"2020-12-14\"], \"legendgroup\": \"IPGP\", \"marker\": {\"color\": \"#FF97FF\"}, \"name\": \"IPGP\", \"offsetgroup\": \"IPGP\", \"orientation\": \"v\", \"showlegend\": true, \"textposition\": \"auto\", \"x\": [\"IPGP\"], \"xaxis\": \"x\", \"y\": [4.61], \"yaxis\": \"y\", \"type\": \"bar\"}, {\"alignmentgroup\": \"True\", \"hoverlabel\": {\"namelength\": 0}, \"hovertemplate\": \"<b>%{hovertext}</b><br><br>symbol=%{x}<br>date=2020-12-14<br>percent=%{y}\", \"hovertext\": [\"IPHI\"], \"ids\": [\"2020-12-14\"], \"legendgroup\": \"IPHI\", \"marker\": {\"color\": \"#FECB52\"}, \"name\": \"IPHI\", \"offsetgroup\": \"IPHI\", \"orientation\": \"v\", \"showlegend\": true, \"textposition\": \"auto\", \"x\": [\"IPHI\"], \"xaxis\": \"x\", \"y\": [4.17], \"yaxis\": \"y\", \"type\": \"bar\"}, {\"alignmentgroup\": \"True\", \"hoverlabel\": {\"namelength\": 0}, \"hovertemplate\": \"<b>%{hovertext}</b><br><br>symbol=%{x}<br>date=2020-12-14<br>percent=%{y}\", \"hovertext\": [\"LITE\"], \"ids\": [\"2020-12-14\"], \"legendgroup\": \"LITE\", \"marker\": {\"color\": \"#636efa\"}, \"name\": \"LITE\", \"offsetgroup\": \"LITE\", \"orientation\": \"v\", \"showlegend\": true, \"textposition\": \"auto\", \"x\": [\"LITE\"], \"xaxis\": \"x\", \"y\": [11.12], \"yaxis\": \"y\", \"type\": \"bar\"}, {\"alignmentgroup\": \"True\", \"hoverlabel\": {\"namelength\": 0}, \"hovertemplate\": \"<b>%{hovertext}</b><br><br>symbol=%{x}<br>date=2020-12-14<br>percent=%{y}\", \"hovertext\": [\"MRVL\"], \"ids\": [\"2020-12-14\"], \"legendgroup\": \"MRVL\", \"marker\": {\"color\": \"#EF553B\"}, \"name\": \"MRVL\", \"offsetgroup\": \"MRVL\", \"orientation\": \"v\", \"showlegend\": true, \"textposition\": \"auto\", \"x\": [\"MRVL\"], \"xaxis\": \"x\", \"y\": [6.36], \"yaxis\": \"y\", \"type\": \"bar\"}, {\"alignmentgroup\": \"True\", \"hoverlabel\": {\"namelength\": 0}, \"hovertemplate\": \"<b>%{hovertext}</b><br><br>symbol=%{x}<br>date=2020-12-14<br>percent=%{y}\", \"hovertext\": [\"MXL\"], \"ids\": [\"2020-12-14\"], \"legendgroup\": \"MXL\", \"marker\": {\"color\": \"#00cc96\"}, \"name\": \"MXL\", \"offsetgroup\": \"MXL\", \"orientation\": \"v\", \"showlegend\": true, \"textposition\": \"auto\", \"x\": [\"MXL\"], \"xaxis\": \"x\", \"y\": [16.95], \"yaxis\": \"y\", \"type\": \"bar\"}, {\"alignmentgroup\": \"True\", \"hoverlabel\": {\"namelength\": 0}, \"hovertemplate\": \"<b>%{hovertext}</b><br><br>symbol=%{x}<br>date=2020-12-14<br>percent=%{y}\", \"hovertext\": [\"NXPI\"], \"ids\": [\"2020-12-14\"], \"legendgroup\": \"NXPI\", \"marker\": {\"color\": \"#ab63fa\"}, \"name\": \"NXPI\", \"offsetgroup\": \"NXPI\", \"orientation\": \"v\", \"showlegend\": true, \"textposition\": \"auto\", \"x\": [\"NXPI\"], \"xaxis\": \"x\", \"y\": [-1.31], \"yaxis\": \"y\", \"type\": \"bar\"}, {\"alignmentgroup\": \"True\", \"hoverlabel\": {\"namelength\": 0}, \"hovertemplate\": \"<b>%{hovertext}</b><br><br>symbol=%{x}<br>date=2020-12-14<br>percent=%{y}\", \"hovertext\": [\"QRVO\"], \"ids\": [\"2020-12-14\"], \"legendgroup\": \"QRVO\", \"marker\": {\"color\": \"#FFA15A\"}, \"name\": \"QRVO\", \"offsetgroup\": \"QRVO\", \"orientation\": \"v\", \"showlegend\": true, \"textposition\": \"auto\", \"x\": [\"QRVO\"], \"xaxis\": \"x\", \"y\": [5.66], \"yaxis\": \"y\", \"type\": \"bar\"}, {\"alignmentgroup\": \"True\", \"hoverlabel\": {\"namelength\": 0}, \"hovertemplate\": \"<b>%{hovertext}</b><br><br>symbol=%{x}<br>date=2020-12-14<br>percent=%{y}\", \"hovertext\": [\"SBAC\"], \"ids\": [\"2020-12-14\"], \"legendgroup\": \"SBAC\", \"marker\": {\"color\": \"#19d3f3\"}, \"name\": \"SBAC\", \"offsetgroup\": \"SBAC\", \"orientation\": \"v\", \"showlegend\": true, \"textposition\": \"auto\", \"x\": [\"SBAC\"], \"xaxis\": \"x\", \"y\": [0.64], \"yaxis\": \"y\", \"type\": \"bar\"}, {\"alignmentgroup\": \"True\", \"hoverlabel\": {\"namelength\": 0}, \"hovertemplate\": \"<b>%{hovertext}</b><br><br>symbol=%{x}<br>date=2020-12-14<br>percent=%{y}\", \"hovertext\": [\"XLNX\"], \"ids\": [\"2020-12-14\"], \"legendgroup\": \"XLNX\", \"marker\": {\"color\": \"#FF6692\"}, \"name\": \"XLNX\", \"offsetgroup\": \"XLNX\", \"orientation\": \"v\", \"showlegend\": true, \"textposition\": \"auto\", \"x\": [\"XLNX\"], \"xaxis\": \"x\", \"y\": [-3.27], \"yaxis\": \"y\", \"type\": \"bar\"}], \"name\": \"2020-12-14\"}, {\"data\": [{\"alignmentgroup\": \"True\", \"hoverlabel\": {\"namelength\": 0}, \"hovertemplate\": \"<b>%{hovertext}</b><br><br>symbol=%{x}<br>date=2020-12-11<br>percent=%{y}\", \"hovertext\": [\"ADTN\"], \"ids\": [\"2020-12-11\"], \"legendgroup\": \"ADTN\", \"marker\": {\"color\": \"#636efa\"}, \"name\": \"ADTN\", \"offsetgroup\": \"ADTN\", \"orientation\": \"v\", \"showlegend\": true, \"textposition\": \"auto\", \"x\": [\"ADTN\"], \"xaxis\": \"x\", \"y\": [6.68], \"yaxis\": \"y\", \"type\": \"bar\"}, {\"alignmentgroup\": \"True\", \"hoverlabel\": {\"namelength\": 0}, \"hovertemplate\": \"<b>%{hovertext}</b><br><br>symbol=%{x}<br>date=2020-12-11<br>percent=%{y}\", \"hovertext\": [\"AVGO\"], \"ids\": [\"2020-12-11\"], \"legendgroup\": \"AVGO\", \"marker\": {\"color\": \"#EF553B\"}, \"name\": \"AVGO\", \"offsetgroup\": \"AVGO\", \"orientation\": \"v\", \"showlegend\": true, \"textposition\": \"auto\", \"x\": [\"AVGO\"], \"xaxis\": \"x\", \"y\": [6.72], \"yaxis\": \"y\", \"type\": \"bar\"}, {\"alignmentgroup\": \"True\", \"hoverlabel\": {\"namelength\": 0}, \"hovertemplate\": \"<b>%{hovertext}</b><br><br>symbol=%{x}<br>date=2020-12-11<br>percent=%{y}\", \"hovertext\": [\"AVNW\"], \"ids\": [\"2020-12-11\"], \"legendgroup\": \"AVNW\", \"marker\": {\"color\": \"#00cc96\"}, \"name\": \"AVNW\", \"offsetgroup\": \"AVNW\", \"orientation\": \"v\", \"showlegend\": true, \"textposition\": \"auto\", \"x\": [\"AVNW\"], \"xaxis\": \"x\", \"y\": [-3.97], \"yaxis\": \"y\", \"type\": \"bar\"}, {\"alignmentgroup\": \"True\", \"hoverlabel\": {\"namelength\": 0}, \"hovertemplate\": \"<b>%{hovertext}</b><br><br>symbol=%{x}<br>date=2020-12-11<br>percent=%{y}\", \"hovertext\": [\"CALX\"], \"ids\": [\"2020-12-11\"], \"legendgroup\": \"CALX\", \"marker\": {\"color\": \"#ab63fa\"}, \"name\": \"CALX\", \"offsetgroup\": \"CALX\", \"orientation\": \"v\", \"showlegend\": true, \"textposition\": \"auto\", \"x\": [\"CALX\"], \"xaxis\": \"x\", \"y\": [32.46], \"yaxis\": \"y\", \"type\": \"bar\"}, {\"alignmentgroup\": \"True\", \"hoverlabel\": {\"namelength\": 0}, \"hovertemplate\": \"<b>%{hovertext}</b><br><br>symbol=%{x}<br>date=2020-12-11<br>percent=%{y}\", \"hovertext\": [\"CEVA\"], \"ids\": [\"2020-12-11\"], \"legendgroup\": \"CEVA\", \"marker\": {\"color\": \"#FFA15A\"}, \"name\": \"CEVA\", \"offsetgroup\": \"CEVA\", \"orientation\": \"v\", \"showlegend\": true, \"textposition\": \"auto\", \"x\": [\"CEVA\"], \"xaxis\": \"x\", \"y\": [4.0], \"yaxis\": \"y\", \"type\": \"bar\"}, {\"alignmentgroup\": \"True\", \"hoverlabel\": {\"namelength\": 0}, \"hovertemplate\": \"<b>%{hovertext}</b><br><br>symbol=%{x}<br>date=2020-12-11<br>percent=%{y}\", \"hovertext\": [\"ERIC\"], \"ids\": [\"2020-12-11\"], \"legendgroup\": \"ERIC\", \"marker\": {\"color\": \"#19d3f3\"}, \"name\": \"ERIC\", \"offsetgroup\": \"ERIC\", \"orientation\": \"v\", \"showlegend\": true, \"textposition\": \"auto\", \"x\": [\"ERIC\"], \"xaxis\": \"x\", \"y\": [1.03], \"yaxis\": \"y\", \"type\": \"bar\"}, {\"alignmentgroup\": \"True\", \"hoverlabel\": {\"namelength\": 0}, \"hovertemplate\": \"<b>%{hovertext}</b><br><br>symbol=%{x}<br>date=2020-12-11<br>percent=%{y}\", \"hovertext\": [\"IIVI\"], \"ids\": [\"2020-12-11\"], \"legendgroup\": \"IIVI\", \"marker\": {\"color\": \"#FF6692\"}, \"name\": \"IIVI\", \"offsetgroup\": \"IIVI\", \"orientation\": \"v\", \"showlegend\": true, \"textposition\": \"auto\", \"x\": [\"IIVI\"], \"xaxis\": \"x\", \"y\": [11.46], \"yaxis\": \"y\", \"type\": \"bar\"}, {\"alignmentgroup\": \"True\", \"hoverlabel\": {\"namelength\": 0}, \"hovertemplate\": \"<b>%{hovertext}</b><br><br>symbol=%{x}<br>date=2020-12-11<br>percent=%{y}\", \"hovertext\": [\"INFN\"], \"ids\": [\"2020-12-11\"], \"legendgroup\": \"INFN\", \"marker\": {\"color\": \"#B6E880\"}, \"name\": \"INFN\", \"offsetgroup\": \"INFN\", \"orientation\": \"v\", \"showlegend\": true, \"textposition\": \"auto\", \"x\": [\"INFN\"], \"xaxis\": \"x\", \"y\": [19.96], \"yaxis\": \"y\", \"type\": \"bar\"}, {\"alignmentgroup\": \"True\", \"hoverlabel\": {\"namelength\": 0}, \"hovertemplate\": \"<b>%{hovertext}</b><br><br>symbol=%{x}<br>date=2020-12-11<br>percent=%{y}\", \"hovertext\": [\"IPGP\"], \"ids\": [\"2020-12-11\"], \"legendgroup\": \"IPGP\", \"marker\": {\"color\": \"#FF97FF\"}, \"name\": \"IPGP\", \"offsetgroup\": \"IPGP\", \"orientation\": \"v\", \"showlegend\": true, \"textposition\": \"auto\", \"x\": [\"IPGP\"], \"xaxis\": \"x\", \"y\": [4.65], \"yaxis\": \"y\", \"type\": \"bar\"}, {\"alignmentgroup\": \"True\", \"hoverlabel\": {\"namelength\": 0}, \"hovertemplate\": \"<b>%{hovertext}</b><br><br>symbol=%{x}<br>date=2020-12-11<br>percent=%{y}\", \"hovertext\": [\"IPHI\"], \"ids\": [\"2020-12-11\"], \"legendgroup\": \"IPHI\", \"marker\": {\"color\": \"#FECB52\"}, \"name\": \"IPHI\", \"offsetgroup\": \"IPHI\", \"orientation\": \"v\", \"showlegend\": true, \"textposition\": \"auto\", \"x\": [\"IPHI\"], \"xaxis\": \"x\", \"y\": [6.28], \"yaxis\": \"y\", \"type\": \"bar\"}, {\"alignmentgroup\": \"True\", \"hoverlabel\": {\"namelength\": 0}, \"hovertemplate\": \"<b>%{hovertext}</b><br><br>symbol=%{x}<br>date=2020-12-11<br>percent=%{y}\", \"hovertext\": [\"LITE\"], \"ids\": [\"2020-12-11\"], \"legendgroup\": \"LITE\", \"marker\": {\"color\": \"#636efa\"}, \"name\": \"LITE\", \"offsetgroup\": \"LITE\", \"orientation\": \"v\", \"showlegend\": true, \"textposition\": \"auto\", \"x\": [\"LITE\"], \"xaxis\": \"x\", \"y\": [12.85], \"yaxis\": \"y\", \"type\": \"bar\"}, {\"alignmentgroup\": \"True\", \"hoverlabel\": {\"namelength\": 0}, \"hovertemplate\": \"<b>%{hovertext}</b><br><br>symbol=%{x}<br>date=2020-12-11<br>percent=%{y}\", \"hovertext\": [\"MRVL\"], \"ids\": [\"2020-12-11\"], \"legendgroup\": \"MRVL\", \"marker\": {\"color\": \"#EF553B\"}, \"name\": \"MRVL\", \"offsetgroup\": \"MRVL\", \"orientation\": \"v\", \"showlegend\": true, \"textposition\": \"auto\", \"x\": [\"MRVL\"], \"xaxis\": \"x\", \"y\": [9.8], \"yaxis\": \"y\", \"type\": \"bar\"}, {\"alignmentgroup\": \"True\", \"hoverlabel\": {\"namelength\": 0}, \"hovertemplate\": \"<b>%{hovertext}</b><br><br>symbol=%{x}<br>date=2020-12-11<br>percent=%{y}\", \"hovertext\": [\"MXL\"], \"ids\": [\"2020-12-11\"], \"legendgroup\": \"MXL\", \"marker\": {\"color\": \"#00cc96\"}, \"name\": \"MXL\", \"offsetgroup\": \"MXL\", \"orientation\": \"v\", \"showlegend\": true, \"textposition\": \"auto\", \"x\": [\"MXL\"], \"xaxis\": \"x\", \"y\": [16.18], \"yaxis\": \"y\", \"type\": \"bar\"}, {\"alignmentgroup\": \"True\", \"hoverlabel\": {\"namelength\": 0}, \"hovertemplate\": \"<b>%{hovertext}</b><br><br>symbol=%{x}<br>date=2020-12-11<br>percent=%{y}\", \"hovertext\": [\"NXPI\"], \"ids\": [\"2020-12-11\"], \"legendgroup\": \"NXPI\", \"marker\": {\"color\": \"#ab63fa\"}, \"name\": \"NXPI\", \"offsetgroup\": \"NXPI\", \"orientation\": \"v\", \"showlegend\": true, \"textposition\": \"auto\", \"x\": [\"NXPI\"], \"xaxis\": \"x\", \"y\": [-0.46], \"yaxis\": \"y\", \"type\": \"bar\"}, {\"alignmentgroup\": \"True\", \"hoverlabel\": {\"namelength\": 0}, \"hovertemplate\": \"<b>%{hovertext}</b><br><br>symbol=%{x}<br>date=2020-12-11<br>percent=%{y}\", \"hovertext\": [\"QRVO\"], \"ids\": [\"2020-12-11\"], \"legendgroup\": \"QRVO\", \"marker\": {\"color\": \"#FFA15A\"}, \"name\": \"QRVO\", \"offsetgroup\": \"QRVO\", \"orientation\": \"v\", \"showlegend\": true, \"textposition\": \"auto\", \"x\": [\"QRVO\"], \"xaxis\": \"x\", \"y\": [6.96], \"yaxis\": \"y\", \"type\": \"bar\"}, {\"alignmentgroup\": \"True\", \"hoverlabel\": {\"namelength\": 0}, \"hovertemplate\": \"<b>%{hovertext}</b><br><br>symbol=%{x}<br>date=2020-12-11<br>percent=%{y}\", \"hovertext\": [\"SBAC\"], \"ids\": [\"2020-12-11\"], \"legendgroup\": \"SBAC\", \"marker\": {\"color\": \"#19d3f3\"}, \"name\": \"SBAC\", \"offsetgroup\": \"SBAC\", \"orientation\": \"v\", \"showlegend\": true, \"textposition\": \"auto\", \"x\": [\"SBAC\"], \"xaxis\": \"x\", \"y\": [0.11], \"yaxis\": \"y\", \"type\": \"bar\"}, {\"alignmentgroup\": \"True\", \"hoverlabel\": {\"namelength\": 0}, \"hovertemplate\": \"<b>%{hovertext}</b><br><br>symbol=%{x}<br>date=2020-12-11<br>percent=%{y}\", \"hovertext\": [\"XLNX\"], \"ids\": [\"2020-12-11\"], \"legendgroup\": \"XLNX\", \"marker\": {\"color\": \"#FF6692\"}, \"name\": \"XLNX\", \"offsetgroup\": \"XLNX\", \"orientation\": \"v\", \"showlegend\": true, \"textposition\": \"auto\", \"x\": [\"XLNX\"], \"xaxis\": \"x\", \"y\": [0.23], \"yaxis\": \"y\", \"type\": \"bar\"}], \"name\": \"2020-12-11\"}]);\n",
       "                        }).then(function(){\n",
       "                            \n",
       "var gd = document.getElementById('14fd05d5-89c2-4bf8-a520-46abfdc59705');\n",
       "var x = new MutationObserver(function (mutations, observer) {{\n",
       "        var display = window.getComputedStyle(gd).display;\n",
       "        if (!display || display === 'none') {{\n",
       "            console.log([gd, 'removed!']);\n",
       "            Plotly.purge(gd);\n",
       "            observer.disconnect();\n",
       "        }}\n",
       "}});\n",
       "\n",
       "// Listen for the removal of the full notebook cells\n",
       "var notebookContainer = gd.closest('#notebook-container');\n",
       "if (notebookContainer) {{\n",
       "    x.observe(notebookContainer, {childList: true});\n",
       "}}\n",
       "\n",
       "// Listen for the clearing of the current output cell\n",
       "var outputEl = gd.closest('.output');\n",
       "if (outputEl) {{\n",
       "    x.observe(outputEl, {childList: true});\n",
       "}}\n",
       "\n",
       "                        })\n",
       "                };\n",
       "                });\n",
       "            </script>\n",
       "        </div>"
      ]
     },
     "metadata": {},
     "output_type": "display_data"
    },
    {
     "name": "stderr",
     "output_type": "stream",
     "text": [
      "UsageError: Line magic function `%%js` not found.\n"
     ]
    }
   ],
   "source": [
    "title = portfolio\n",
    "dfa = dfa[dfa.volume.values > 0]\n",
    "fig = px.bar(dfa, x=\"symbol\", y=\"percent\",\n",
    "             color=\"symbol\", hover_name=\"symbol\",\n",
    "             log_x=False, \n",
    "             animation_frame=\"date\", animation_group=\"date\",\n",
    "             range_x=[0, len(set(dfa.symbol.values))],\n",
    "             range_y=[min(dfa.percent.values), max(dfa.percent.values)],\n",
    "             width=1350, height=800, title=title)\n",
    "\n",
    "fig[\"layout\"].pop(\"updatemenus\") # optional, drop animation buttons\n",
    "\n",
    "fig.show()\n"
   ]
  },
  {
   "cell_type": "code",
   "execution_count": 24,
   "metadata": {},
   "outputs": [
    {
     "data": {
      "application/javascript": [
       "document.querySelector('[data-title=\"Autoscale\"]').click()\n",
       "\n"
      ],
      "text/plain": [
       "<IPython.core.display.Javascript object>"
      ]
     },
     "metadata": {},
     "output_type": "display_data"
    }
   ],
   "source": [
    "%%js\n",
    "document.querySelector('[data-title=\"Autoscale\"]').click()\n",
    "\n"
   ]
  },
  {
   "cell_type": "code",
   "execution_count": null,
   "metadata": {},
   "outputs": [],
   "source": [
    "symbols = md.getAlternateMedidicineSymbols()\n",
    "dfa = dfa[~dfa.symbol.isin(symbols)]"
   ]
  },
  {
   "cell_type": "code",
   "execution_count": null,
   "metadata": {},
   "outputs": [],
   "source": []
  },
  {
   "cell_type": "code",
   "execution_count": null,
   "metadata": {},
   "outputs": [],
   "source": [
    "dfall = ddfa\n",
    "account='Fidelity'\n",
    "df = pf.filterdfbyAccountSymbols(dfall,account)\n"
   ]
  },
  {
   "cell_type": "code",
   "execution_count": null,
   "metadata": {},
   "outputs": [],
   "source": [
    "dfa.reset_index(drop=True, inplace=True)\n",
    "dfa.drop(columns=['symbol'],inplace=True)\n",
    "#dfa.groupby(by='portfolio').head(5)\n",
    "dfa = dfa.groupby(['date','portfolio']).agg(['mean'])\n",
    "dfa.columns = dfa.columns.get_level_values(0)\n",
    "dfa.reset_index(inplace=True)\n",
    "dfa.head(5)"
   ]
  },
  {
   "cell_type": "code",
   "execution_count": null,
   "metadata": {},
   "outputs": [],
   "source": [
    "dfa[dfa.volume.values >0]\n",
    "title = 'dog'\n",
    "dfa = dfa[dfa.volume.values > 0]\n",
    "fig = px.bar(dfa, x=\"portfolio\", y=\"percent\",\n",
    "             color=\"portfolio\", hover_name=\"portfolio\",\n",
    "             log_x=False, \n",
    "             animation_frame=\"date\", animation_group=\"date\",\n",
    "             range_x=[0, len(set(dfa.portfolio.values))],\n",
    "             range_y=[min(dfa.percent.values), max(dfa.percent.values)],\n",
    "             width=1350, height=800, title=title)\n",
    "\n",
    "fig[\"layout\"].pop(\"updatemenus\") # optional, drop animation buttons\n",
    "\n",
    "fig.show()\n"
   ]
  },
  {
   "cell_type": "code",
   "execution_count": null,
   "metadata": {},
   "outputs": [],
   "source": [
    "max(dfa.percent.values)\n"
   ]
  }
 ],
 "metadata": {
  "kernelspec": {
   "display_name": "Python 3",
   "language": "python",
   "name": "python3"
  },
  "language_info": {
   "codemirror_mode": {
    "name": "ipython",
    "version": 3
   },
   "file_extension": ".py",
   "mimetype": "text/x-python",
   "name": "python",
   "nbconvert_exporter": "python",
   "pygments_lexer": "ipython3",
   "version": "3.7.3"
  }
 },
 "nbformat": 4,
 "nbformat_minor": 2
}
