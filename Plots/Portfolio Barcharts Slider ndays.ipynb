{
 "cells": [
  {
   "cell_type": "code",
   "execution_count": 137,
   "metadata": {},
   "outputs": [
    {
     "name": "stdout",
     "output_type": "stream",
     "text": [
      "Python 3.7.3 (v3.7.3:ef4ec6ed12, Mar 25 2019, 16:52:21) \n",
      "[Clang 6.0 (clang-600.0.57)] on darwin\n"
     ]
    }
   ],
   "source": [
    "import sys; print('Python %s on %s' % (sys.version, sys.platform))\n",
    "sys.path.extend(['/Users/philipmassey/PycharmProjects/stock_market'])\n",
    "import portfolio as pf\n",
    "import market_data as md\n",
    "import pandas as pd\n",
    "import plotly.graph_objects as go\n",
    "\n"
   ]
  },
  {
   "cell_type": "code",
   "execution_count": 121,
   "metadata": {},
   "outputs": [
    {
     "name": "stdout",
     "output_type": "stream",
     "text": [
      "Wednesday 2020-11-25 Friday 2020-11-27\n",
      "Thursday 2020-11-19 Friday 2020-11-27\n",
      "Thursday 2020-11-12 Friday 2020-11-27\n",
      "Thursday 2020-11-05 Friday 2020-11-27\n",
      "Thursday 2020-10-29 Friday 2020-11-27\n",
      "Thursday 2020-10-22 Friday 2020-11-27\n",
      "Thursday 2020-10-15 Friday 2020-11-27\n",
      "Thursday 2020-10-08 Friday 2020-11-27\n",
      "Thursday 2020-10-01 Friday 2020-11-27\n"
     ]
    }
   ],
   "source": [
    "dfa = pd.DataFrame()\n",
    "#for ndays in range(1,400,50):\n",
    "#for ndays in range(1,180,25):\n",
    "#for ndays in range(1,90,10):\n",
    "for ndays in range(1,45,5):    \n",
    "    df,dt = pf.getFidelityStockPercentVolPort(ndays)\n",
    "    #df,dt = pf.getStockPercentVolPort(ndays)\n",
    "    dfg = df.groupby('portfolio').agg(['mean'])\n",
    "    dfg.columns = ['percent','volume']\n",
    "    dfg.reset_index(inplace = True)\n",
    "    dfg = dfg.rename(columns={'index':'portfolio'})\n",
    "    dfg['ndays'] = ndays\n",
    "    dfa = pd.concat([dfa,dfg])\n"
   ]
  },
  {
   "cell_type": "code",
   "execution_count": 116,
   "metadata": {},
   "outputs": [
    {
     "data": {
      "application/vnd.plotly.v1+json": {
       "config": {
        "plotlyServerURL": "https://plot.ly"
       },
       "data": [
        {
         "hoverlabel": {
          "namelength": 0
         },
         "hovertemplate": "<b>%{hovertext}</b><br><br>portfolio=%{x}<br>ndays=1<br>percent=%{y}<br>volume=%{marker.size}",
         "hovertext": [
          "5G"
         ],
         "ids": [
          1
         ],
         "legendgroup": "5G",
         "marker": {
          "color": "#636efa",
          "size": [
           670334
          ],
          "sizemode": "area",
          "sizeref": 6828.697520661157,
          "symbol": "circle"
         },
         "mode": "markers",
         "name": "5G",
         "showlegend": true,
         "type": "scatter",
         "x": [
          "5G"
         ],
         "xaxis": "x",
         "y": [
          1.05
         ],
         "yaxis": "y"
        },
        {
         "hoverlabel": {
          "namelength": 0
         },
         "hovertemplate": "<b>%{hovertext}</b><br><br>portfolio=%{x}<br>ndays=1<br>percent=%{y}<br>volume=%{marker.size}",
         "hovertext": [
          "Biotechnology"
         ],
         "ids": [
          1
         ],
         "legendgroup": "Biotechnology",
         "marker": {
          "color": "#EF553B",
          "size": [
           4346686
          ],
          "sizemode": "area",
          "sizeref": 6828.697520661157,
          "symbol": "circle"
         },
         "mode": "markers",
         "name": "Biotechnology",
         "showlegend": true,
         "type": "scatter",
         "x": [
          "Biotechnology"
         ],
         "xaxis": "x",
         "y": [
          0.66
         ],
         "yaxis": "y"
        },
        {
         "hoverlabel": {
          "namelength": 0
         },
         "hovertemplate": "<b>%{hovertext}</b><br><br>portfolio=%{x}<br>ndays=1<br>percent=%{y}<br>volume=%{marker.size}",
         "hovertext": [
          "CEF"
         ],
         "ids": [
          1
         ],
         "legendgroup": "CEF",
         "marker": {
          "color": "#00cc96",
          "size": [
           26492
          ],
          "sizemode": "area",
          "sizeref": 6828.697520661157,
          "symbol": "circle"
         },
         "mode": "markers",
         "name": "CEF",
         "showlegend": true,
         "type": "scatter",
         "x": [
          "CEF"
         ],
         "xaxis": "x",
         "y": [
          0.45
         ],
         "yaxis": "y"
        },
        {
         "hoverlabel": {
          "namelength": 0
         },
         "hovertemplate": "<b>%{hovertext}</b><br><br>portfolio=%{x}<br>ndays=1<br>percent=%{y}<br>volume=%{marker.size}",
         "hovertext": [
          "Cloud Retail Apps"
         ],
         "ids": [
          1
         ],
         "legendgroup": "Cloud Retail Apps",
         "marker": {
          "color": "#ab63fa",
          "size": [
           776911
          ],
          "sizemode": "area",
          "sizeref": 6828.697520661157,
          "symbol": "circle"
         },
         "mode": "markers",
         "name": "Cloud Retail Apps",
         "showlegend": true,
         "type": "scatter",
         "x": [
          "Cloud Retail Apps"
         ],
         "xaxis": "x",
         "y": [
          1.09
         ],
         "yaxis": "y"
        },
        {
         "hoverlabel": {
          "namelength": 0
         },
         "hovertemplate": "<b>%{hovertext}</b><br><br>portfolio=%{x}<br>ndays=1<br>percent=%{y}<br>volume=%{marker.size}",
         "hovertext": [
          "Dividend"
         ],
         "ids": [
          1
         ],
         "legendgroup": "Dividend",
         "marker": {
          "color": "#FFA15A",
          "size": [
           23303.5
          ],
          "sizemode": "area",
          "sizeref": 6828.697520661157,
          "symbol": "circle"
         },
         "mode": "markers",
         "name": "Dividend",
         "showlegend": true,
         "type": "scatter",
         "x": [
          "Dividend"
         ],
         "xaxis": "x",
         "y": [
          0.9850000000000001
         ],
         "yaxis": "y"
        },
        {
         "hoverlabel": {
          "namelength": 0
         },
         "hovertemplate": "<b>%{hovertext}</b><br><br>portfolio=%{x}<br>ndays=1<br>percent=%{y}<br>volume=%{marker.size}",
         "hovertext": [
          "Electric Vehicles"
         ],
         "ids": [
          1
         ],
         "legendgroup": "Electric Vehicles",
         "marker": {
          "color": "#19d3f3",
          "size": [
           13509980.5
          ],
          "sizemode": "area",
          "sizeref": 6828.697520661157,
          "symbol": "circle"
         },
         "mode": "markers",
         "name": "Electric Vehicles",
         "showlegend": true,
         "type": "scatter",
         "x": [
          "Electric Vehicles"
         ],
         "xaxis": "x",
         "y": [
          -3.025
         ],
         "yaxis": "y"
        },
        {
         "hoverlabel": {
          "namelength": 0
         },
         "hovertemplate": "<b>%{hovertext}</b><br><br>portfolio=%{x}<br>ndays=1<br>percent=%{y}<br>volume=%{marker.size}",
         "hovertext": [
          "Electricity Solar"
         ],
         "ids": [
          1
         ],
         "legendgroup": "Electricity Solar",
         "marker": {
          "color": "#FF6692",
          "size": [
           2891608.2
          ],
          "sizemode": "area",
          "sizeref": 6828.697520661157,
          "symbol": "circle"
         },
         "mode": "markers",
         "name": "Electricity Solar",
         "showlegend": true,
         "type": "scatter",
         "x": [
          "Electricity Solar"
         ],
         "xaxis": "x",
         "y": [
          2.138
         ],
         "yaxis": "y"
        },
        {
         "hoverlabel": {
          "namelength": 0
         },
         "hovertemplate": "<b>%{hovertext}</b><br><br>portfolio=%{x}<br>ndays=1<br>percent=%{y}<br>volume=%{marker.size}",
         "hovertext": [
          "Electricity Wind"
         ],
         "ids": [
          1
         ],
         "legendgroup": "Electricity Wind",
         "marker": {
          "color": "#B6E880",
          "size": [
           38741
          ],
          "sizemode": "area",
          "sizeref": 6828.697520661157,
          "symbol": "circle"
         },
         "mode": "markers",
         "name": "Electricity Wind",
         "showlegend": true,
         "type": "scatter",
         "x": [
          "Electricity Wind"
         ],
         "xaxis": "x",
         "y": [
          3.73
         ],
         "yaxis": "y"
        },
        {
         "hoverlabel": {
          "namelength": 0
         },
         "hovertemplate": "<b>%{hovertext}</b><br><br>portfolio=%{x}<br>ndays=1<br>percent=%{y}<br>volume=%{marker.size}",
         "hovertext": [
          "Energy Renewalbe"
         ],
         "ids": [
          1
         ],
         "legendgroup": "Energy Renewalbe",
         "marker": {
          "color": "#FF97FF",
          "size": [
           128533
          ],
          "sizemode": "area",
          "sizeref": 6828.697520661157,
          "symbol": "circle"
         },
         "mode": "markers",
         "name": "Energy Renewalbe",
         "showlegend": true,
         "type": "scatter",
         "x": [
          "Energy Renewalbe"
         ],
         "xaxis": "x",
         "y": [
          2.3
         ],
         "yaxis": "y"
        },
        {
         "hoverlabel": {
          "namelength": 0
         },
         "hovertemplate": "<b>%{hovertext}</b><br><br>portfolio=%{x}<br>ndays=1<br>percent=%{y}<br>volume=%{marker.size}",
         "hovertext": [
          "Insurance"
         ],
         "ids": [
          1
         ],
         "legendgroup": "Insurance",
         "marker": {
          "color": "#FECB52",
          "size": [
           1459008
          ],
          "sizemode": "area",
          "sizeref": 6828.697520661157,
          "symbol": "circle"
         },
         "mode": "markers",
         "name": "Insurance",
         "showlegend": true,
         "type": "scatter",
         "x": [
          "Insurance"
         ],
         "xaxis": "x",
         "y": [
          10.13
         ],
         "yaxis": "y"
        },
        {
         "hoverlabel": {
          "namelength": 0
         },
         "hovertemplate": "<b>%{hovertext}</b><br><br>portfolio=%{x}<br>ndays=1<br>percent=%{y}<br>volume=%{marker.size}",
         "hovertext": [
          "Mega Capital"
         ],
         "ids": [
          1
         ],
         "legendgroup": "Mega Capital",
         "marker": {
          "color": "#636efa",
          "size": [
           20656810
          ],
          "sizemode": "area",
          "sizeref": 6828.697520661157,
          "symbol": "circle"
         },
         "mode": "markers",
         "name": "Mega Capital",
         "showlegend": true,
         "type": "scatter",
         "x": [
          "Mega Capital"
         ],
         "xaxis": "x",
         "y": [
          0.48
         ],
         "yaxis": "y"
        },
        {
         "hoverlabel": {
          "namelength": 0
         },
         "hovertemplate": "<b>%{hovertext}</b><br><br>portfolio=%{x}<br>ndays=1<br>percent=%{y}<br>volume=%{marker.size}",
         "hovertext": [
          "REIT"
         ],
         "ids": [
          1
         ],
         "legendgroup": "REIT",
         "marker": {
          "color": "#EF553B",
          "size": [
           3393063
          ],
          "sizemode": "area",
          "sizeref": 6828.697520661157,
          "symbol": "circle"
         },
         "mode": "markers",
         "name": "REIT",
         "showlegend": true,
         "type": "scatter",
         "x": [
          "REIT"
         ],
         "xaxis": "x",
         "y": [
          6.55
         ],
         "yaxis": "y"
        },
        {
         "hoverlabel": {
          "namelength": 0
         },
         "hovertemplate": "<b>%{hovertext}</b><br><br>portfolio=%{x}<br>ndays=1<br>percent=%{y}<br>volume=%{marker.size}",
         "hovertext": [
          "Semiconductors"
         ],
         "ids": [
          1
         ],
         "legendgroup": "Semiconductors",
         "marker": {
          "color": "#00cc96",
          "size": [
           3895649.3333333335
          ],
          "sizemode": "area",
          "sizeref": 6828.697520661157,
          "symbol": "circle"
         },
         "mode": "markers",
         "name": "Semiconductors",
         "showlegend": true,
         "type": "scatter",
         "x": [
          "Semiconductors"
         ],
         "xaxis": "x",
         "y": [
          0.4366666666666667
         ],
         "yaxis": "y"
        }
       ],
       "frames": [
        {
         "data": [
          {
           "hoverlabel": {
            "namelength": 0
           },
           "hovertemplate": "<b>%{hovertext}</b><br><br>portfolio=%{x}<br>ndays=1<br>percent=%{y}<br>volume=%{marker.size}",
           "hovertext": [
            "5G"
           ],
           "ids": [
            1
           ],
           "legendgroup": "5G",
           "marker": {
            "color": "#636efa",
            "size": [
             670334
            ],
            "sizemode": "area",
            "sizeref": 6828.697520661157,
            "symbol": "circle"
           },
           "mode": "markers",
           "name": "5G",
           "showlegend": true,
           "type": "scatter",
           "x": [
            "5G"
           ],
           "xaxis": "x",
           "y": [
            1.05
           ],
           "yaxis": "y"
          },
          {
           "hoverlabel": {
            "namelength": 0
           },
           "hovertemplate": "<b>%{hovertext}</b><br><br>portfolio=%{x}<br>ndays=1<br>percent=%{y}<br>volume=%{marker.size}",
           "hovertext": [
            "Biotechnology"
           ],
           "ids": [
            1
           ],
           "legendgroup": "Biotechnology",
           "marker": {
            "color": "#EF553B",
            "size": [
             4346686
            ],
            "sizemode": "area",
            "sizeref": 6828.697520661157,
            "symbol": "circle"
           },
           "mode": "markers",
           "name": "Biotechnology",
           "showlegend": true,
           "type": "scatter",
           "x": [
            "Biotechnology"
           ],
           "xaxis": "x",
           "y": [
            0.66
           ],
           "yaxis": "y"
          },
          {
           "hoverlabel": {
            "namelength": 0
           },
           "hovertemplate": "<b>%{hovertext}</b><br><br>portfolio=%{x}<br>ndays=1<br>percent=%{y}<br>volume=%{marker.size}",
           "hovertext": [
            "CEF"
           ],
           "ids": [
            1
           ],
           "legendgroup": "CEF",
           "marker": {
            "color": "#00cc96",
            "size": [
             26492
            ],
            "sizemode": "area",
            "sizeref": 6828.697520661157,
            "symbol": "circle"
           },
           "mode": "markers",
           "name": "CEF",
           "showlegend": true,
           "type": "scatter",
           "x": [
            "CEF"
           ],
           "xaxis": "x",
           "y": [
            0.45
           ],
           "yaxis": "y"
          },
          {
           "hoverlabel": {
            "namelength": 0
           },
           "hovertemplate": "<b>%{hovertext}</b><br><br>portfolio=%{x}<br>ndays=1<br>percent=%{y}<br>volume=%{marker.size}",
           "hovertext": [
            "Cloud Retail Apps"
           ],
           "ids": [
            1
           ],
           "legendgroup": "Cloud Retail Apps",
           "marker": {
            "color": "#ab63fa",
            "size": [
             776911
            ],
            "sizemode": "area",
            "sizeref": 6828.697520661157,
            "symbol": "circle"
           },
           "mode": "markers",
           "name": "Cloud Retail Apps",
           "showlegend": true,
           "type": "scatter",
           "x": [
            "Cloud Retail Apps"
           ],
           "xaxis": "x",
           "y": [
            1.09
           ],
           "yaxis": "y"
          },
          {
           "hoverlabel": {
            "namelength": 0
           },
           "hovertemplate": "<b>%{hovertext}</b><br><br>portfolio=%{x}<br>ndays=1<br>percent=%{y}<br>volume=%{marker.size}",
           "hovertext": [
            "Dividend"
           ],
           "ids": [
            1
           ],
           "legendgroup": "Dividend",
           "marker": {
            "color": "#FFA15A",
            "size": [
             23303.5
            ],
            "sizemode": "area",
            "sizeref": 6828.697520661157,
            "symbol": "circle"
           },
           "mode": "markers",
           "name": "Dividend",
           "showlegend": true,
           "type": "scatter",
           "x": [
            "Dividend"
           ],
           "xaxis": "x",
           "y": [
            0.9850000000000001
           ],
           "yaxis": "y"
          },
          {
           "hoverlabel": {
            "namelength": 0
           },
           "hovertemplate": "<b>%{hovertext}</b><br><br>portfolio=%{x}<br>ndays=1<br>percent=%{y}<br>volume=%{marker.size}",
           "hovertext": [
            "Electric Vehicles"
           ],
           "ids": [
            1
           ],
           "legendgroup": "Electric Vehicles",
           "marker": {
            "color": "#19d3f3",
            "size": [
             13509980.5
            ],
            "sizemode": "area",
            "sizeref": 6828.697520661157,
            "symbol": "circle"
           },
           "mode": "markers",
           "name": "Electric Vehicles",
           "showlegend": true,
           "type": "scatter",
           "x": [
            "Electric Vehicles"
           ],
           "xaxis": "x",
           "y": [
            -3.025
           ],
           "yaxis": "y"
          },
          {
           "hoverlabel": {
            "namelength": 0
           },
           "hovertemplate": "<b>%{hovertext}</b><br><br>portfolio=%{x}<br>ndays=1<br>percent=%{y}<br>volume=%{marker.size}",
           "hovertext": [
            "Electricity Solar"
           ],
           "ids": [
            1
           ],
           "legendgroup": "Electricity Solar",
           "marker": {
            "color": "#FF6692",
            "size": [
             2891608.2
            ],
            "sizemode": "area",
            "sizeref": 6828.697520661157,
            "symbol": "circle"
           },
           "mode": "markers",
           "name": "Electricity Solar",
           "showlegend": true,
           "type": "scatter",
           "x": [
            "Electricity Solar"
           ],
           "xaxis": "x",
           "y": [
            2.138
           ],
           "yaxis": "y"
          },
          {
           "hoverlabel": {
            "namelength": 0
           },
           "hovertemplate": "<b>%{hovertext}</b><br><br>portfolio=%{x}<br>ndays=1<br>percent=%{y}<br>volume=%{marker.size}",
           "hovertext": [
            "Electricity Wind"
           ],
           "ids": [
            1
           ],
           "legendgroup": "Electricity Wind",
           "marker": {
            "color": "#B6E880",
            "size": [
             38741
            ],
            "sizemode": "area",
            "sizeref": 6828.697520661157,
            "symbol": "circle"
           },
           "mode": "markers",
           "name": "Electricity Wind",
           "showlegend": true,
           "type": "scatter",
           "x": [
            "Electricity Wind"
           ],
           "xaxis": "x",
           "y": [
            3.73
           ],
           "yaxis": "y"
          },
          {
           "hoverlabel": {
            "namelength": 0
           },
           "hovertemplate": "<b>%{hovertext}</b><br><br>portfolio=%{x}<br>ndays=1<br>percent=%{y}<br>volume=%{marker.size}",
           "hovertext": [
            "Energy Renewalbe"
           ],
           "ids": [
            1
           ],
           "legendgroup": "Energy Renewalbe",
           "marker": {
            "color": "#FF97FF",
            "size": [
             128533
            ],
            "sizemode": "area",
            "sizeref": 6828.697520661157,
            "symbol": "circle"
           },
           "mode": "markers",
           "name": "Energy Renewalbe",
           "showlegend": true,
           "type": "scatter",
           "x": [
            "Energy Renewalbe"
           ],
           "xaxis": "x",
           "y": [
            2.3
           ],
           "yaxis": "y"
          },
          {
           "hoverlabel": {
            "namelength": 0
           },
           "hovertemplate": "<b>%{hovertext}</b><br><br>portfolio=%{x}<br>ndays=1<br>percent=%{y}<br>volume=%{marker.size}",
           "hovertext": [
            "Insurance"
           ],
           "ids": [
            1
           ],
           "legendgroup": "Insurance",
           "marker": {
            "color": "#FECB52",
            "size": [
             1459008
            ],
            "sizemode": "area",
            "sizeref": 6828.697520661157,
            "symbol": "circle"
           },
           "mode": "markers",
           "name": "Insurance",
           "showlegend": true,
           "type": "scatter",
           "x": [
            "Insurance"
           ],
           "xaxis": "x",
           "y": [
            10.13
           ],
           "yaxis": "y"
          },
          {
           "hoverlabel": {
            "namelength": 0
           },
           "hovertemplate": "<b>%{hovertext}</b><br><br>portfolio=%{x}<br>ndays=1<br>percent=%{y}<br>volume=%{marker.size}",
           "hovertext": [
            "Mega Capital"
           ],
           "ids": [
            1
           ],
           "legendgroup": "Mega Capital",
           "marker": {
            "color": "#636efa",
            "size": [
             20656810
            ],
            "sizemode": "area",
            "sizeref": 6828.697520661157,
            "symbol": "circle"
           },
           "mode": "markers",
           "name": "Mega Capital",
           "showlegend": true,
           "type": "scatter",
           "x": [
            "Mega Capital"
           ],
           "xaxis": "x",
           "y": [
            0.48
           ],
           "yaxis": "y"
          },
          {
           "hoverlabel": {
            "namelength": 0
           },
           "hovertemplate": "<b>%{hovertext}</b><br><br>portfolio=%{x}<br>ndays=1<br>percent=%{y}<br>volume=%{marker.size}",
           "hovertext": [
            "REIT"
           ],
           "ids": [
            1
           ],
           "legendgroup": "REIT",
           "marker": {
            "color": "#EF553B",
            "size": [
             3393063
            ],
            "sizemode": "area",
            "sizeref": 6828.697520661157,
            "symbol": "circle"
           },
           "mode": "markers",
           "name": "REIT",
           "showlegend": true,
           "type": "scatter",
           "x": [
            "REIT"
           ],
           "xaxis": "x",
           "y": [
            6.55
           ],
           "yaxis": "y"
          },
          {
           "hoverlabel": {
            "namelength": 0
           },
           "hovertemplate": "<b>%{hovertext}</b><br><br>portfolio=%{x}<br>ndays=1<br>percent=%{y}<br>volume=%{marker.size}",
           "hovertext": [
            "Semiconductors"
           ],
           "ids": [
            1
           ],
           "legendgroup": "Semiconductors",
           "marker": {
            "color": "#00cc96",
            "size": [
             3895649.3333333335
            ],
            "sizemode": "area",
            "sizeref": 6828.697520661157,
            "symbol": "circle"
           },
           "mode": "markers",
           "name": "Semiconductors",
           "showlegend": true,
           "type": "scatter",
           "x": [
            "Semiconductors"
           ],
           "xaxis": "x",
           "y": [
            0.4366666666666667
           ],
           "yaxis": "y"
          }
         ],
         "name": "1"
        },
        {
         "data": [
          {
           "hoverlabel": {
            "namelength": 0
           },
           "hovertemplate": "<b>%{hovertext}</b><br><br>portfolio=%{x}<br>ndays=6<br>percent=%{y}<br>volume=%{marker.size}",
           "hovertext": [
            "5G"
           ],
           "ids": [
            6
           ],
           "legendgroup": "5G",
           "marker": {
            "color": "#636efa",
            "size": [
             670334
            ],
            "sizemode": "area",
            "sizeref": 6828.697520661157,
            "symbol": "circle"
           },
           "mode": "markers",
           "name": "5G",
           "showlegend": true,
           "type": "scatter",
           "x": [
            "5G"
           ],
           "xaxis": "x",
           "y": [
            2.76
           ],
           "yaxis": "y"
          },
          {
           "hoverlabel": {
            "namelength": 0
           },
           "hovertemplate": "<b>%{hovertext}</b><br><br>portfolio=%{x}<br>ndays=6<br>percent=%{y}<br>volume=%{marker.size}",
           "hovertext": [
            "Biotechnology"
           ],
           "ids": [
            6
           ],
           "legendgroup": "Biotechnology",
           "marker": {
            "color": "#EF553B",
            "size": [
             4346686
            ],
            "sizemode": "area",
            "sizeref": 6828.697520661157,
            "symbol": "circle"
           },
           "mode": "markers",
           "name": "Biotechnology",
           "showlegend": true,
           "type": "scatter",
           "x": [
            "Biotechnology"
           ],
           "xaxis": "x",
           "y": [
            5.24
           ],
           "yaxis": "y"
          },
          {
           "hoverlabel": {
            "namelength": 0
           },
           "hovertemplate": "<b>%{hovertext}</b><br><br>portfolio=%{x}<br>ndays=6<br>percent=%{y}<br>volume=%{marker.size}",
           "hovertext": [
            "CEF"
           ],
           "ids": [
            6
           ],
           "legendgroup": "CEF",
           "marker": {
            "color": "#00cc96",
            "size": [
             26492
            ],
            "sizemode": "area",
            "sizeref": 6828.697520661157,
            "symbol": "circle"
           },
           "mode": "markers",
           "name": "CEF",
           "showlegend": true,
           "type": "scatter",
           "x": [
            "CEF"
           ],
           "xaxis": "x",
           "y": [
            1.66
           ],
           "yaxis": "y"
          },
          {
           "hoverlabel": {
            "namelength": 0
           },
           "hovertemplate": "<b>%{hovertext}</b><br><br>portfolio=%{x}<br>ndays=6<br>percent=%{y}<br>volume=%{marker.size}",
           "hovertext": [
            "Cloud Retail Apps"
           ],
           "ids": [
            6
           ],
           "legendgroup": "Cloud Retail Apps",
           "marker": {
            "color": "#ab63fa",
            "size": [
             776911
            ],
            "sizemode": "area",
            "sizeref": 6828.697520661157,
            "symbol": "circle"
           },
           "mode": "markers",
           "name": "Cloud Retail Apps",
           "showlegend": true,
           "type": "scatter",
           "x": [
            "Cloud Retail Apps"
           ],
           "xaxis": "x",
           "y": [
            -5.71
           ],
           "yaxis": "y"
          },
          {
           "hoverlabel": {
            "namelength": 0
           },
           "hovertemplate": "<b>%{hovertext}</b><br><br>portfolio=%{x}<br>ndays=6<br>percent=%{y}<br>volume=%{marker.size}",
           "hovertext": [
            "Dividend"
           ],
           "ids": [
            6
           ],
           "legendgroup": "Dividend",
           "marker": {
            "color": "#FFA15A",
            "size": [
             23303.5
            ],
            "sizemode": "area",
            "sizeref": 6828.697520661157,
            "symbol": "circle"
           },
           "mode": "markers",
           "name": "Dividend",
           "showlegend": true,
           "type": "scatter",
           "x": [
            "Dividend"
           ],
           "xaxis": "x",
           "y": [
            1.6099999999999999
           ],
           "yaxis": "y"
          },
          {
           "hoverlabel": {
            "namelength": 0
           },
           "hovertemplate": "<b>%{hovertext}</b><br><br>portfolio=%{x}<br>ndays=6<br>percent=%{y}<br>volume=%{marker.size}",
           "hovertext": [
            "Electric Vehicles"
           ],
           "ids": [
            6
           ],
           "legendgroup": "Electric Vehicles",
           "marker": {
            "color": "#19d3f3",
            "size": [
             13509980.5
            ],
            "sizemode": "area",
            "sizeref": 6828.697520661157,
            "symbol": "circle"
           },
           "mode": "markers",
           "name": "Electric Vehicles",
           "showlegend": true,
           "type": "scatter",
           "x": [
            "Electric Vehicles"
           ],
           "xaxis": "x",
           "y": [
            7.5649999999999995
           ],
           "yaxis": "y"
          },
          {
           "hoverlabel": {
            "namelength": 0
           },
           "hovertemplate": "<b>%{hovertext}</b><br><br>portfolio=%{x}<br>ndays=6<br>percent=%{y}<br>volume=%{marker.size}",
           "hovertext": [
            "Electricity Solar"
           ],
           "ids": [
            6
           ],
           "legendgroup": "Electricity Solar",
           "marker": {
            "color": "#FF6692",
            "size": [
             2891608.2
            ],
            "sizemode": "area",
            "sizeref": 6828.697520661157,
            "symbol": "circle"
           },
           "mode": "markers",
           "name": "Electricity Solar",
           "showlegend": true,
           "type": "scatter",
           "x": [
            "Electricity Solar"
           ],
           "xaxis": "x",
           "y": [
            12.724
           ],
           "yaxis": "y"
          },
          {
           "hoverlabel": {
            "namelength": 0
           },
           "hovertemplate": "<b>%{hovertext}</b><br><br>portfolio=%{x}<br>ndays=6<br>percent=%{y}<br>volume=%{marker.size}",
           "hovertext": [
            "Electricity Wind"
           ],
           "ids": [
            6
           ],
           "legendgroup": "Electricity Wind",
           "marker": {
            "color": "#B6E880",
            "size": [
             38741
            ],
            "sizemode": "area",
            "sizeref": 6828.697520661157,
            "symbol": "circle"
           },
           "mode": "markers",
           "name": "Electricity Wind",
           "showlegend": true,
           "type": "scatter",
           "x": [
            "Electricity Wind"
           ],
           "xaxis": "x",
           "y": [
            3.71
           ],
           "yaxis": "y"
          },
          {
           "hoverlabel": {
            "namelength": 0
           },
           "hovertemplate": "<b>%{hovertext}</b><br><br>portfolio=%{x}<br>ndays=6<br>percent=%{y}<br>volume=%{marker.size}",
           "hovertext": [
            "Energy Renewalbe"
           ],
           "ids": [
            6
           ],
           "legendgroup": "Energy Renewalbe",
           "marker": {
            "color": "#FF97FF",
            "size": [
             128533
            ],
            "sizemode": "area",
            "sizeref": 6828.697520661157,
            "symbol": "circle"
           },
           "mode": "markers",
           "name": "Energy Renewalbe",
           "showlegend": true,
           "type": "scatter",
           "x": [
            "Energy Renewalbe"
           ],
           "xaxis": "x",
           "y": [
            22.56
           ],
           "yaxis": "y"
          },
          {
           "hoverlabel": {
            "namelength": 0
           },
           "hovertemplate": "<b>%{hovertext}</b><br><br>portfolio=%{x}<br>ndays=6<br>percent=%{y}<br>volume=%{marker.size}",
           "hovertext": [
            "Insurance"
           ],
           "ids": [
            6
           ],
           "legendgroup": "Insurance",
           "marker": {
            "color": "#FECB52",
            "size": [
             1459008
            ],
            "sizemode": "area",
            "sizeref": 6828.697520661157,
            "symbol": "circle"
           },
           "mode": "markers",
           "name": "Insurance",
           "showlegend": true,
           "type": "scatter",
           "x": [
            "Insurance"
           ],
           "xaxis": "x",
           "y": [
            20.85
           ],
           "yaxis": "y"
          },
          {
           "hoverlabel": {
            "namelength": 0
           },
           "hovertemplate": "<b>%{hovertext}</b><br><br>portfolio=%{x}<br>ndays=6<br>percent=%{y}<br>volume=%{marker.size}",
           "hovertext": [
            "Mega Capital"
           ],
           "ids": [
            6
           ],
           "legendgroup": "Mega Capital",
           "marker": {
            "color": "#636efa",
            "size": [
             20656810
            ],
            "sizemode": "area",
            "sizeref": 6828.697520661157,
            "symbol": "circle"
           },
           "mode": "markers",
           "name": "Mega Capital",
           "showlegend": true,
           "type": "scatter",
           "x": [
            "Mega Capital"
           ],
           "xaxis": "x",
           "y": [
            0.6999999999999998
           ],
           "yaxis": "y"
          },
          {
           "hoverlabel": {
            "namelength": 0
           },
           "hovertemplate": "<b>%{hovertext}</b><br><br>portfolio=%{x}<br>ndays=6<br>percent=%{y}<br>volume=%{marker.size}",
           "hovertext": [
            "REIT"
           ],
           "ids": [
            6
           ],
           "legendgroup": "REIT",
           "marker": {
            "color": "#EF553B",
            "size": [
             3393063
            ],
            "sizemode": "area",
            "sizeref": 6828.697520661157,
            "symbol": "circle"
           },
           "mode": "markers",
           "name": "REIT",
           "showlegend": true,
           "type": "scatter",
           "x": [
            "REIT"
           ],
           "xaxis": "x",
           "y": [
            8.61
           ],
           "yaxis": "y"
          },
          {
           "hoverlabel": {
            "namelength": 0
           },
           "hovertemplate": "<b>%{hovertext}</b><br><br>portfolio=%{x}<br>ndays=6<br>percent=%{y}<br>volume=%{marker.size}",
           "hovertext": [
            "Semiconductors"
           ],
           "ids": [
            6
           ],
           "legendgroup": "Semiconductors",
           "marker": {
            "color": "#00cc96",
            "size": [
             3895649.3333333335
            ],
            "sizemode": "area",
            "sizeref": 6828.697520661157,
            "symbol": "circle"
           },
           "mode": "markers",
           "name": "Semiconductors",
           "showlegend": true,
           "type": "scatter",
           "x": [
            "Semiconductors"
           ],
           "xaxis": "x",
           "y": [
            -0.5466666666666665
           ],
           "yaxis": "y"
          }
         ],
         "name": "6"
        },
        {
         "data": [
          {
           "hoverlabel": {
            "namelength": 0
           },
           "hovertemplate": "<b>%{hovertext}</b><br><br>portfolio=%{x}<br>ndays=11<br>percent=%{y}<br>volume=%{marker.size}",
           "hovertext": [
            "5G"
           ],
           "ids": [
            11
           ],
           "legendgroup": "5G",
           "marker": {
            "color": "#636efa",
            "size": [
             670334
            ],
            "sizemode": "area",
            "sizeref": 6828.697520661157,
            "symbol": "circle"
           },
           "mode": "markers",
           "name": "5G",
           "showlegend": true,
           "type": "scatter",
           "x": [
            "5G"
           ],
           "xaxis": "x",
           "y": [
            6.69
           ],
           "yaxis": "y"
          },
          {
           "hoverlabel": {
            "namelength": 0
           },
           "hovertemplate": "<b>%{hovertext}</b><br><br>portfolio=%{x}<br>ndays=11<br>percent=%{y}<br>volume=%{marker.size}",
           "hovertext": [
            "Biotechnology"
           ],
           "ids": [
            11
           ],
           "legendgroup": "Biotechnology",
           "marker": {
            "color": "#EF553B",
            "size": [
             4346686
            ],
            "sizemode": "area",
            "sizeref": 6828.697520661157,
            "symbol": "circle"
           },
           "mode": "markers",
           "name": "Biotechnology",
           "showlegend": true,
           "type": "scatter",
           "x": [
            "Biotechnology"
           ],
           "xaxis": "x",
           "y": [
            7.47
           ],
           "yaxis": "y"
          },
          {
           "hoverlabel": {
            "namelength": 0
           },
           "hovertemplate": "<b>%{hovertext}</b><br><br>portfolio=%{x}<br>ndays=11<br>percent=%{y}<br>volume=%{marker.size}",
           "hovertext": [
            "CEF"
           ],
           "ids": [
            11
           ],
           "legendgroup": "CEF",
           "marker": {
            "color": "#00cc96",
            "size": [
             26492
            ],
            "sizemode": "area",
            "sizeref": 6828.697520661157,
            "symbol": "circle"
           },
           "mode": "markers",
           "name": "CEF",
           "showlegend": true,
           "type": "scatter",
           "x": [
            "CEF"
           ],
           "xaxis": "x",
           "y": [
            0.87
           ],
           "yaxis": "y"
          },
          {
           "hoverlabel": {
            "namelength": 0
           },
           "hovertemplate": "<b>%{hovertext}</b><br><br>portfolio=%{x}<br>ndays=11<br>percent=%{y}<br>volume=%{marker.size}",
           "hovertext": [
            "Cloud Retail Apps"
           ],
           "ids": [
            11
           ],
           "legendgroup": "Cloud Retail Apps",
           "marker": {
            "color": "#ab63fa",
            "size": [
             776911
            ],
            "sizemode": "area",
            "sizeref": 6828.697520661157,
            "symbol": "circle"
           },
           "mode": "markers",
           "name": "Cloud Retail Apps",
           "showlegend": true,
           "type": "scatter",
           "x": [
            "Cloud Retail Apps"
           ],
           "xaxis": "x",
           "y": [
            -10.19
           ],
           "yaxis": "y"
          },
          {
           "hoverlabel": {
            "namelength": 0
           },
           "hovertemplate": "<b>%{hovertext}</b><br><br>portfolio=%{x}<br>ndays=11<br>percent=%{y}<br>volume=%{marker.size}",
           "hovertext": [
            "Dividend"
           ],
           "ids": [
            11
           ],
           "legendgroup": "Dividend",
           "marker": {
            "color": "#FFA15A",
            "size": [
             23303.5
            ],
            "sizemode": "area",
            "sizeref": 6828.697520661157,
            "symbol": "circle"
           },
           "mode": "markers",
           "name": "Dividend",
           "showlegend": true,
           "type": "scatter",
           "x": [
            "Dividend"
           ],
           "xaxis": "x",
           "y": [
            3.425
           ],
           "yaxis": "y"
          },
          {
           "hoverlabel": {
            "namelength": 0
           },
           "hovertemplate": "<b>%{hovertext}</b><br><br>portfolio=%{x}<br>ndays=11<br>percent=%{y}<br>volume=%{marker.size}",
           "hovertext": [
            "Electric Vehicles"
           ],
           "ids": [
            11
           ],
           "legendgroup": "Electric Vehicles",
           "marker": {
            "color": "#19d3f3",
            "size": [
             13509980.5
            ],
            "sizemode": "area",
            "sizeref": 6828.697520661157,
            "symbol": "circle"
           },
           "mode": "markers",
           "name": "Electric Vehicles",
           "showlegend": true,
           "type": "scatter",
           "x": [
            "Electric Vehicles"
           ],
           "xaxis": "x",
           "y": [
            13.68
           ],
           "yaxis": "y"
          },
          {
           "hoverlabel": {
            "namelength": 0
           },
           "hovertemplate": "<b>%{hovertext}</b><br><br>portfolio=%{x}<br>ndays=11<br>percent=%{y}<br>volume=%{marker.size}",
           "hovertext": [
            "Electricity Solar"
           ],
           "ids": [
            11
           ],
           "legendgroup": "Electricity Solar",
           "marker": {
            "color": "#FF6692",
            "size": [
             2891608.2
            ],
            "sizemode": "area",
            "sizeref": 6828.697520661157,
            "symbol": "circle"
           },
           "mode": "markers",
           "name": "Electricity Solar",
           "showlegend": true,
           "type": "scatter",
           "x": [
            "Electricity Solar"
           ],
           "xaxis": "x",
           "y": [
            15.626
           ],
           "yaxis": "y"
          },
          {
           "hoverlabel": {
            "namelength": 0
           },
           "hovertemplate": "<b>%{hovertext}</b><br><br>portfolio=%{x}<br>ndays=11<br>percent=%{y}<br>volume=%{marker.size}",
           "hovertext": [
            "Electricity Wind"
           ],
           "ids": [
            11
           ],
           "legendgroup": "Electricity Wind",
           "marker": {
            "color": "#B6E880",
            "size": [
             38741
            ],
            "sizemode": "area",
            "sizeref": 6828.697520661157,
            "symbol": "circle"
           },
           "mode": "markers",
           "name": "Electricity Wind",
           "showlegend": true,
           "type": "scatter",
           "x": [
            "Electricity Wind"
           ],
           "xaxis": "x",
           "y": [
            5.85
           ],
           "yaxis": "y"
          },
          {
           "hoverlabel": {
            "namelength": 0
           },
           "hovertemplate": "<b>%{hovertext}</b><br><br>portfolio=%{x}<br>ndays=11<br>percent=%{y}<br>volume=%{marker.size}",
           "hovertext": [
            "Energy Renewalbe"
           ],
           "ids": [
            11
           ],
           "legendgroup": "Energy Renewalbe",
           "marker": {
            "color": "#FF97FF",
            "size": [
             128533
            ],
            "sizemode": "area",
            "sizeref": 6828.697520661157,
            "symbol": "circle"
           },
           "mode": "markers",
           "name": "Energy Renewalbe",
           "showlegend": true,
           "type": "scatter",
           "x": [
            "Energy Renewalbe"
           ],
           "xaxis": "x",
           "y": [
            32.11
           ],
           "yaxis": "y"
          },
          {
           "hoverlabel": {
            "namelength": 0
           },
           "hovertemplate": "<b>%{hovertext}</b><br><br>portfolio=%{x}<br>ndays=11<br>percent=%{y}<br>volume=%{marker.size}",
           "hovertext": [
            "Insurance"
           ],
           "ids": [
            11
           ],
           "legendgroup": "Insurance",
           "marker": {
            "color": "#FECB52",
            "size": [
             1459008
            ],
            "sizemode": "area",
            "sizeref": 6828.697520661157,
            "symbol": "circle"
           },
           "mode": "markers",
           "name": "Insurance",
           "showlegend": true,
           "type": "scatter",
           "x": [
            "Insurance"
           ],
           "xaxis": "x",
           "y": [
            34.16
           ],
           "yaxis": "y"
          },
          {
           "hoverlabel": {
            "namelength": 0
           },
           "hovertemplate": "<b>%{hovertext}</b><br><br>portfolio=%{x}<br>ndays=11<br>percent=%{y}<br>volume=%{marker.size}",
           "hovertext": [
            "Mega Capital"
           ],
           "ids": [
            11
           ],
           "legendgroup": "Mega Capital",
           "marker": {
            "color": "#636efa",
            "size": [
             20656810
            ],
            "sizemode": "area",
            "sizeref": 6828.697520661157,
            "symbol": "circle"
           },
           "mode": "markers",
           "name": "Mega Capital",
           "showlegend": true,
           "type": "scatter",
           "x": [
            "Mega Capital"
           ],
           "xaxis": "x",
           "y": [
            0.22999999999999995
           ],
           "yaxis": "y"
          },
          {
           "hoverlabel": {
            "namelength": 0
           },
           "hovertemplate": "<b>%{hovertext}</b><br><br>portfolio=%{x}<br>ndays=11<br>percent=%{y}<br>volume=%{marker.size}",
           "hovertext": [
            "REIT"
           ],
           "ids": [
            11
           ],
           "legendgroup": "REIT",
           "marker": {
            "color": "#EF553B",
            "size": [
             3393063
            ],
            "sizemode": "area",
            "sizeref": 6828.697520661157,
            "symbol": "circle"
           },
           "mode": "markers",
           "name": "REIT",
           "showlegend": true,
           "type": "scatter",
           "x": [
            "REIT"
           ],
           "xaxis": "x",
           "y": [
            -4.7
           ],
           "yaxis": "y"
          },
          {
           "hoverlabel": {
            "namelength": 0
           },
           "hovertemplate": "<b>%{hovertext}</b><br><br>portfolio=%{x}<br>ndays=11<br>percent=%{y}<br>volume=%{marker.size}",
           "hovertext": [
            "Semiconductors"
           ],
           "ids": [
            11
           ],
           "legendgroup": "Semiconductors",
           "marker": {
            "color": "#00cc96",
            "size": [
             3895649.3333333335
            ],
            "sizemode": "area",
            "sizeref": 6828.697520661157,
            "symbol": "circle"
           },
           "mode": "markers",
           "name": "Semiconductors",
           "showlegend": true,
           "type": "scatter",
           "x": [
            "Semiconductors"
           ],
           "xaxis": "x",
           "y": [
            2.8066666666666666
           ],
           "yaxis": "y"
          }
         ],
         "name": "11"
        },
        {
         "data": [
          {
           "hoverlabel": {
            "namelength": 0
           },
           "hovertemplate": "<b>%{hovertext}</b><br><br>portfolio=%{x}<br>ndays=16<br>percent=%{y}<br>volume=%{marker.size}",
           "hovertext": [
            "5G"
           ],
           "ids": [
            16
           ],
           "legendgroup": "5G",
           "marker": {
            "color": "#636efa",
            "size": [
             670334
            ],
            "sizemode": "area",
            "sizeref": 6828.697520661157,
            "symbol": "circle"
           },
           "mode": "markers",
           "name": "5G",
           "showlegend": true,
           "type": "scatter",
           "x": [
            "5G"
           ],
           "xaxis": "x",
           "y": [
            3.7
           ],
           "yaxis": "y"
          },
          {
           "hoverlabel": {
            "namelength": 0
           },
           "hovertemplate": "<b>%{hovertext}</b><br><br>portfolio=%{x}<br>ndays=16<br>percent=%{y}<br>volume=%{marker.size}",
           "hovertext": [
            "Biotechnology"
           ],
           "ids": [
            16
           ],
           "legendgroup": "Biotechnology",
           "marker": {
            "color": "#EF553B",
            "size": [
             4346686
            ],
            "sizemode": "area",
            "sizeref": 6828.697520661157,
            "symbol": "circle"
           },
           "mode": "markers",
           "name": "Biotechnology",
           "showlegend": true,
           "type": "scatter",
           "x": [
            "Biotechnology"
           ],
           "xaxis": "x",
           "y": [
            11.95
           ],
           "yaxis": "y"
          },
          {
           "hoverlabel": {
            "namelength": 0
           },
           "hovertemplate": "<b>%{hovertext}</b><br><br>portfolio=%{x}<br>ndays=16<br>percent=%{y}<br>volume=%{marker.size}",
           "hovertext": [
            "CEF"
           ],
           "ids": [
            16
           ],
           "legendgroup": "CEF",
           "marker": {
            "color": "#00cc96",
            "size": [
             26492
            ],
            "sizemode": "area",
            "sizeref": 6828.697520661157,
            "symbol": "circle"
           },
           "mode": "markers",
           "name": "CEF",
           "showlegend": true,
           "type": "scatter",
           "x": [
            "CEF"
           ],
           "xaxis": "x",
           "y": [
            -1.29
           ],
           "yaxis": "y"
          },
          {
           "hoverlabel": {
            "namelength": 0
           },
           "hovertemplate": "<b>%{hovertext}</b><br><br>portfolio=%{x}<br>ndays=16<br>percent=%{y}<br>volume=%{marker.size}",
           "hovertext": [
            "Cloud Retail Apps"
           ],
           "ids": [
            16
           ],
           "legendgroup": "Cloud Retail Apps",
           "marker": {
            "color": "#ab63fa",
            "size": [
             776911
            ],
            "sizemode": "area",
            "sizeref": 6828.697520661157,
            "symbol": "circle"
           },
           "mode": "markers",
           "name": "Cloud Retail Apps",
           "showlegend": true,
           "type": "scatter",
           "x": [
            "Cloud Retail Apps"
           ],
           "xaxis": "x",
           "y": [
            -16.29
           ],
           "yaxis": "y"
          },
          {
           "hoverlabel": {
            "namelength": 0
           },
           "hovertemplate": "<b>%{hovertext}</b><br><br>portfolio=%{x}<br>ndays=16<br>percent=%{y}<br>volume=%{marker.size}",
           "hovertext": [
            "Dividend"
           ],
           "ids": [
            16
           ],
           "legendgroup": "Dividend",
           "marker": {
            "color": "#FFA15A",
            "size": [
             23303.5
            ],
            "sizemode": "area",
            "sizeref": 6828.697520661157,
            "symbol": "circle"
           },
           "mode": "markers",
           "name": "Dividend",
           "showlegend": true,
           "type": "scatter",
           "x": [
            "Dividend"
           ],
           "xaxis": "x",
           "y": [
            7.41
           ],
           "yaxis": "y"
          },
          {
           "hoverlabel": {
            "namelength": 0
           },
           "hovertemplate": "<b>%{hovertext}</b><br><br>portfolio=%{x}<br>ndays=16<br>percent=%{y}<br>volume=%{marker.size}",
           "hovertext": [
            "Electric Vehicles"
           ],
           "ids": [
            16
           ],
           "legendgroup": "Electric Vehicles",
           "marker": {
            "color": "#19d3f3",
            "size": [
             13509980.5
            ],
            "sizemode": "area",
            "sizeref": 6828.697520661157,
            "symbol": "circle"
           },
           "mode": "markers",
           "name": "Electric Vehicles",
           "showlegend": true,
           "type": "scatter",
           "x": [
            "Electric Vehicles"
           ],
           "xaxis": "x",
           "y": [
            17.4
           ],
           "yaxis": "y"
          },
          {
           "hoverlabel": {
            "namelength": 0
           },
           "hovertemplate": "<b>%{hovertext}</b><br><br>portfolio=%{x}<br>ndays=16<br>percent=%{y}<br>volume=%{marker.size}",
           "hovertext": [
            "Electricity Solar"
           ],
           "ids": [
            16
           ],
           "legendgroup": "Electricity Solar",
           "marker": {
            "color": "#FF6692",
            "size": [
             2891608.2
            ],
            "sizemode": "area",
            "sizeref": 6828.697520661157,
            "symbol": "circle"
           },
           "mode": "markers",
           "name": "Electricity Solar",
           "showlegend": true,
           "type": "scatter",
           "x": [
            "Electricity Solar"
           ],
           "xaxis": "x",
           "y": [
            11.602
           ],
           "yaxis": "y"
          },
          {
           "hoverlabel": {
            "namelength": 0
           },
           "hovertemplate": "<b>%{hovertext}</b><br><br>portfolio=%{x}<br>ndays=16<br>percent=%{y}<br>volume=%{marker.size}",
           "hovertext": [
            "Electricity Wind"
           ],
           "ids": [
            16
           ],
           "legendgroup": "Electricity Wind",
           "marker": {
            "color": "#B6E880",
            "size": [
             38741
            ],
            "sizemode": "area",
            "sizeref": 6828.697520661157,
            "symbol": "circle"
           },
           "mode": "markers",
           "name": "Electricity Wind",
           "showlegend": true,
           "type": "scatter",
           "x": [
            "Electricity Wind"
           ],
           "xaxis": "x",
           "y": [
            8.43
           ],
           "yaxis": "y"
          },
          {
           "hoverlabel": {
            "namelength": 0
           },
           "hovertemplate": "<b>%{hovertext}</b><br><br>portfolio=%{x}<br>ndays=16<br>percent=%{y}<br>volume=%{marker.size}",
           "hovertext": [
            "Energy Renewalbe"
           ],
           "ids": [
            16
           ],
           "legendgroup": "Energy Renewalbe",
           "marker": {
            "color": "#FF97FF",
            "size": [
             128533
            ],
            "sizemode": "area",
            "sizeref": 6828.697520661157,
            "symbol": "circle"
           },
           "mode": "markers",
           "name": "Energy Renewalbe",
           "showlegend": true,
           "type": "scatter",
           "x": [
            "Energy Renewalbe"
           ],
           "xaxis": "x",
           "y": [
            24.34
           ],
           "yaxis": "y"
          },
          {
           "hoverlabel": {
            "namelength": 0
           },
           "hovertemplate": "<b>%{hovertext}</b><br><br>portfolio=%{x}<br>ndays=16<br>percent=%{y}<br>volume=%{marker.size}",
           "hovertext": [
            "Insurance"
           ],
           "ids": [
            16
           ],
           "legendgroup": "Insurance",
           "marker": {
            "color": "#FECB52",
            "size": [
             1459008
            ],
            "sizemode": "area",
            "sizeref": 6828.697520661157,
            "symbol": "circle"
           },
           "mode": "markers",
           "name": "Insurance",
           "showlegend": true,
           "type": "scatter",
           "x": [
            "Insurance"
           ],
           "xaxis": "x",
           "y": [
            17.48
           ],
           "yaxis": "y"
          },
          {
           "hoverlabel": {
            "namelength": 0
           },
           "hovertemplate": "<b>%{hovertext}</b><br><br>portfolio=%{x}<br>ndays=16<br>percent=%{y}<br>volume=%{marker.size}",
           "hovertext": [
            "Mega Capital"
           ],
           "ids": [
            16
           ],
           "legendgroup": "Mega Capital",
           "marker": {
            "color": "#636efa",
            "size": [
             20656810
            ],
            "sizemode": "area",
            "sizeref": 6828.697520661157,
            "symbol": "circle"
           },
           "mode": "markers",
           "name": "Mega Capital",
           "showlegend": true,
           "type": "scatter",
           "x": [
            "Mega Capital"
           ],
           "xaxis": "x",
           "y": [
            -3.016666666666666
           ],
           "yaxis": "y"
          },
          {
           "hoverlabel": {
            "namelength": 0
           },
           "hovertemplate": "<b>%{hovertext}</b><br><br>portfolio=%{x}<br>ndays=16<br>percent=%{y}<br>volume=%{marker.size}",
           "hovertext": [
            "REIT"
           ],
           "ids": [
            16
           ],
           "legendgroup": "REIT",
           "marker": {
            "color": "#EF553B",
            "size": [
             3393063
            ],
            "sizemode": "area",
            "sizeref": 6828.697520661157,
            "symbol": "circle"
           },
           "mode": "markers",
           "name": "REIT",
           "showlegend": true,
           "type": "scatter",
           "x": [
            "REIT"
           ],
           "xaxis": "x",
           "y": [
            -11.32
           ],
           "yaxis": "y"
          },
          {
           "hoverlabel": {
            "namelength": 0
           },
           "hovertemplate": "<b>%{hovertext}</b><br><br>portfolio=%{x}<br>ndays=16<br>percent=%{y}<br>volume=%{marker.size}",
           "hovertext": [
            "Semiconductors"
           ],
           "ids": [
            16
           ],
           "legendgroup": "Semiconductors",
           "marker": {
            "color": "#00cc96",
            "size": [
             3895649.3333333335
            ],
            "sizemode": "area",
            "sizeref": 6828.697520661157,
            "symbol": "circle"
           },
           "mode": "markers",
           "name": "Semiconductors",
           "showlegend": true,
           "type": "scatter",
           "x": [
            "Semiconductors"
           ],
           "xaxis": "x",
           "y": [
            0.5833333333333334
           ],
           "yaxis": "y"
          }
         ],
         "name": "16"
        },
        {
         "data": [
          {
           "hoverlabel": {
            "namelength": 0
           },
           "hovertemplate": "<b>%{hovertext}</b><br><br>portfolio=%{x}<br>ndays=21<br>percent=%{y}<br>volume=%{marker.size}",
           "hovertext": [
            "5G"
           ],
           "ids": [
            21
           ],
           "legendgroup": "5G",
           "marker": {
            "color": "#636efa",
            "size": [
             670334
            ],
            "sizemode": "area",
            "sizeref": 6828.697520661157,
            "symbol": "circle"
           },
           "mode": "markers",
           "name": "5G",
           "showlegend": true,
           "type": "scatter",
           "x": [
            "5G"
           ],
           "xaxis": "x",
           "y": [
            11.25
           ],
           "yaxis": "y"
          },
          {
           "hoverlabel": {
            "namelength": 0
           },
           "hovertemplate": "<b>%{hovertext}</b><br><br>portfolio=%{x}<br>ndays=21<br>percent=%{y}<br>volume=%{marker.size}",
           "hovertext": [
            "Biotechnology"
           ],
           "ids": [
            21
           ],
           "legendgroup": "Biotechnology",
           "marker": {
            "color": "#EF553B",
            "size": [
             4346686
            ],
            "sizemode": "area",
            "sizeref": 6828.697520661157,
            "symbol": "circle"
           },
           "mode": "markers",
           "name": "Biotechnology",
           "showlegend": true,
           "type": "scatter",
           "x": [
            "Biotechnology"
           ],
           "xaxis": "x",
           "y": [
            30.02
           ],
           "yaxis": "y"
          },
          {
           "hoverlabel": {
            "namelength": 0
           },
           "hovertemplate": "<b>%{hovertext}</b><br><br>portfolio=%{x}<br>ndays=21<br>percent=%{y}<br>volume=%{marker.size}",
           "hovertext": [
            "CEF"
           ],
           "ids": [
            21
           ],
           "legendgroup": "CEF",
           "marker": {
            "color": "#00cc96",
            "size": [
             26492
            ],
            "sizemode": "area",
            "sizeref": 6828.697520661157,
            "symbol": "circle"
           },
           "mode": "markers",
           "name": "CEF",
           "showlegend": true,
           "type": "scatter",
           "x": [
            "CEF"
           ],
           "xaxis": "x",
           "y": [
            3.03
           ],
           "yaxis": "y"
          },
          {
           "hoverlabel": {
            "namelength": 0
           },
           "hovertemplate": "<b>%{hovertext}</b><br><br>portfolio=%{x}<br>ndays=21<br>percent=%{y}<br>volume=%{marker.size}",
           "hovertext": [
            "Cloud Retail Apps"
           ],
           "ids": [
            21
           ],
           "legendgroup": "Cloud Retail Apps",
           "marker": {
            "color": "#ab63fa",
            "size": [
             776911
            ],
            "sizemode": "area",
            "sizeref": 6828.697520661157,
            "symbol": "circle"
           },
           "mode": "markers",
           "name": "Cloud Retail Apps",
           "showlegend": true,
           "type": "scatter",
           "x": [
            "Cloud Retail Apps"
           ],
           "xaxis": "x",
           "y": [
            -15.72
           ],
           "yaxis": "y"
          },
          {
           "hoverlabel": {
            "namelength": 0
           },
           "hovertemplate": "<b>%{hovertext}</b><br><br>portfolio=%{x}<br>ndays=21<br>percent=%{y}<br>volume=%{marker.size}",
           "hovertext": [
            "Dividend"
           ],
           "ids": [
            21
           ],
           "legendgroup": "Dividend",
           "marker": {
            "color": "#FFA15A",
            "size": [
             23303.5
            ],
            "sizemode": "area",
            "sizeref": 6828.697520661157,
            "symbol": "circle"
           },
           "mode": "markers",
           "name": "Dividend",
           "showlegend": true,
           "type": "scatter",
           "x": [
            "Dividend"
           ],
           "xaxis": "x",
           "y": [
            9.44
           ],
           "yaxis": "y"
          },
          {
           "hoverlabel": {
            "namelength": 0
           },
           "hovertemplate": "<b>%{hovertext}</b><br><br>portfolio=%{x}<br>ndays=21<br>percent=%{y}<br>volume=%{marker.size}",
           "hovertext": [
            "Electric Vehicles"
           ],
           "ids": [
            21
           ],
           "legendgroup": "Electric Vehicles",
           "marker": {
            "color": "#19d3f3",
            "size": [
             13509980.5
            ],
            "sizemode": "area",
            "sizeref": 6828.697520661157,
            "symbol": "circle"
           },
           "mode": "markers",
           "name": "Electric Vehicles",
           "showlegend": true,
           "type": "scatter",
           "x": [
            "Electric Vehicles"
           ],
           "xaxis": "x",
           "y": [
            54.974999999999994
           ],
           "yaxis": "y"
          },
          {
           "hoverlabel": {
            "namelength": 0
           },
           "hovertemplate": "<b>%{hovertext}</b><br><br>portfolio=%{x}<br>ndays=21<br>percent=%{y}<br>volume=%{marker.size}",
           "hovertext": [
            "Electricity Solar"
           ],
           "ids": [
            21
           ],
           "legendgroup": "Electricity Solar",
           "marker": {
            "color": "#FF6692",
            "size": [
             2891608.2
            ],
            "sizemode": "area",
            "sizeref": 6828.697520661157,
            "symbol": "circle"
           },
           "mode": "markers",
           "name": "Electricity Solar",
           "showlegend": true,
           "type": "scatter",
           "x": [
            "Electricity Solar"
           ],
           "xaxis": "x",
           "y": [
            24.9
           ],
           "yaxis": "y"
          },
          {
           "hoverlabel": {
            "namelength": 0
           },
           "hovertemplate": "<b>%{hovertext}</b><br><br>portfolio=%{x}<br>ndays=21<br>percent=%{y}<br>volume=%{marker.size}",
           "hovertext": [
            "Electricity Wind"
           ],
           "ids": [
            21
           ],
           "legendgroup": "Electricity Wind",
           "marker": {
            "color": "#B6E880",
            "size": [
             38741
            ],
            "sizemode": "area",
            "sizeref": 6828.697520661157,
            "symbol": "circle"
           },
           "mode": "markers",
           "name": "Electricity Wind",
           "showlegend": true,
           "type": "scatter",
           "x": [
            "Electricity Wind"
           ],
           "xaxis": "x",
           "y": [
            14.17
           ],
           "yaxis": "y"
          },
          {
           "hoverlabel": {
            "namelength": 0
           },
           "hovertemplate": "<b>%{hovertext}</b><br><br>portfolio=%{x}<br>ndays=21<br>percent=%{y}<br>volume=%{marker.size}",
           "hovertext": [
            "Energy Renewalbe"
           ],
           "ids": [
            21
           ],
           "legendgroup": "Energy Renewalbe",
           "marker": {
            "color": "#FF97FF",
            "size": [
             128533
            ],
            "sizemode": "area",
            "sizeref": 6828.697520661157,
            "symbol": "circle"
           },
           "mode": "markers",
           "name": "Energy Renewalbe",
           "showlegend": true,
           "type": "scatter",
           "x": [
            "Energy Renewalbe"
           ],
           "xaxis": "x",
           "y": [
            34.51
           ],
           "yaxis": "y"
          },
          {
           "hoverlabel": {
            "namelength": 0
           },
           "hovertemplate": "<b>%{hovertext}</b><br><br>portfolio=%{x}<br>ndays=21<br>percent=%{y}<br>volume=%{marker.size}",
           "hovertext": [
            "Insurance"
           ],
           "ids": [
            21
           ],
           "legendgroup": "Insurance",
           "marker": {
            "color": "#FECB52",
            "size": [
             1459008
            ],
            "sizemode": "area",
            "sizeref": 6828.697520661157,
            "symbol": "circle"
           },
           "mode": "markers",
           "name": "Insurance",
           "showlegend": true,
           "type": "scatter",
           "x": [
            "Insurance"
           ],
           "xaxis": "x",
           "y": [
            60.19
           ],
           "yaxis": "y"
          },
          {
           "hoverlabel": {
            "namelength": 0
           },
           "hovertemplate": "<b>%{hovertext}</b><br><br>portfolio=%{x}<br>ndays=21<br>percent=%{y}<br>volume=%{marker.size}",
           "hovertext": [
            "Mega Capital"
           ],
           "ids": [
            21
           ],
           "legendgroup": "Mega Capital",
           "marker": {
            "color": "#636efa",
            "size": [
             20656810
            ],
            "sizemode": "area",
            "sizeref": 6828.697520661157,
            "symbol": "circle"
           },
           "mode": "markers",
           "name": "Mega Capital",
           "showlegend": true,
           "type": "scatter",
           "x": [
            "Mega Capital"
           ],
           "xaxis": "x",
           "y": [
            2.066666666666667
           ],
           "yaxis": "y"
          },
          {
           "hoverlabel": {
            "namelength": 0
           },
           "hovertemplate": "<b>%{hovertext}</b><br><br>portfolio=%{x}<br>ndays=21<br>percent=%{y}<br>volume=%{marker.size}",
           "hovertext": [
            "REIT"
           ],
           "ids": [
            21
           ],
           "legendgroup": "REIT",
           "marker": {
            "color": "#EF553B",
            "size": [
             3393063
            ],
            "sizemode": "area",
            "sizeref": 6828.697520661157,
            "symbol": "circle"
           },
           "mode": "markers",
           "name": "REIT",
           "showlegend": true,
           "type": "scatter",
           "x": [
            "REIT"
           ],
           "xaxis": "x",
           "y": [
            -9.95
           ],
           "yaxis": "y"
          },
          {
           "hoverlabel": {
            "namelength": 0
           },
           "hovertemplate": "<b>%{hovertext}</b><br><br>portfolio=%{x}<br>ndays=21<br>percent=%{y}<br>volume=%{marker.size}",
           "hovertext": [
            "Semiconductors"
           ],
           "ids": [
            21
           ],
           "legendgroup": "Semiconductors",
           "marker": {
            "color": "#00cc96",
            "size": [
             3895649.3333333335
            ],
            "sizemode": "area",
            "sizeref": 6828.697520661157,
            "symbol": "circle"
           },
           "mode": "markers",
           "name": "Semiconductors",
           "showlegend": true,
           "type": "scatter",
           "x": [
            "Semiconductors"
           ],
           "xaxis": "x",
           "y": [
            10.63
           ],
           "yaxis": "y"
          }
         ],
         "name": "21"
        },
        {
         "data": [
          {
           "hoverlabel": {
            "namelength": 0
           },
           "hovertemplate": "<b>%{hovertext}</b><br><br>portfolio=%{x}<br>ndays=26<br>percent=%{y}<br>volume=%{marker.size}",
           "hovertext": [
            "5G"
           ],
           "ids": [
            26
           ],
           "legendgroup": "5G",
           "marker": {
            "color": "#636efa",
            "size": [
             670334
            ],
            "sizemode": "area",
            "sizeref": 6828.697520661157,
            "symbol": "circle"
           },
           "mode": "markers",
           "name": "5G",
           "showlegend": true,
           "type": "scatter",
           "x": [
            "5G"
           ],
           "xaxis": "x",
           "y": [
            5.78
           ],
           "yaxis": "y"
          },
          {
           "hoverlabel": {
            "namelength": 0
           },
           "hovertemplate": "<b>%{hovertext}</b><br><br>portfolio=%{x}<br>ndays=26<br>percent=%{y}<br>volume=%{marker.size}",
           "hovertext": [
            "Biotechnology"
           ],
           "ids": [
            26
           ],
           "legendgroup": "Biotechnology",
           "marker": {
            "color": "#EF553B",
            "size": [
             4346686
            ],
            "sizemode": "area",
            "sizeref": 6828.697520661157,
            "symbol": "circle"
           },
           "mode": "markers",
           "name": "Biotechnology",
           "showlegend": true,
           "type": "scatter",
           "x": [
            "Biotechnology"
           ],
           "xaxis": "x",
           "y": [
            24.41
           ],
           "yaxis": "y"
          },
          {
           "hoverlabel": {
            "namelength": 0
           },
           "hovertemplate": "<b>%{hovertext}</b><br><br>portfolio=%{x}<br>ndays=26<br>percent=%{y}<br>volume=%{marker.size}",
           "hovertext": [
            "CEF"
           ],
           "ids": [
            26
           ],
           "legendgroup": "CEF",
           "marker": {
            "color": "#00cc96",
            "size": [
             26492
            ],
            "sizemode": "area",
            "sizeref": 6828.697520661157,
            "symbol": "circle"
           },
           "mode": "markers",
           "name": "CEF",
           "showlegend": true,
           "type": "scatter",
           "x": [
            "CEF"
           ],
           "xaxis": "x",
           "y": [
            2.99
           ],
           "yaxis": "y"
          },
          {
           "hoverlabel": {
            "namelength": 0
           },
           "hovertemplate": "<b>%{hovertext}</b><br><br>portfolio=%{x}<br>ndays=26<br>percent=%{y}<br>volume=%{marker.size}",
           "hovertext": [
            "Cloud Retail Apps"
           ],
           "ids": [
            26
           ],
           "legendgroup": "Cloud Retail Apps",
           "marker": {
            "color": "#ab63fa",
            "size": [
             776911
            ],
            "sizemode": "area",
            "sizeref": 6828.697520661157,
            "symbol": "circle"
           },
           "mode": "markers",
           "name": "Cloud Retail Apps",
           "showlegend": true,
           "type": "scatter",
           "x": [
            "Cloud Retail Apps"
           ],
           "xaxis": "x",
           "y": [
            -20.29
           ],
           "yaxis": "y"
          },
          {
           "hoverlabel": {
            "namelength": 0
           },
           "hovertemplate": "<b>%{hovertext}</b><br><br>portfolio=%{x}<br>ndays=26<br>percent=%{y}<br>volume=%{marker.size}",
           "hovertext": [
            "Dividend"
           ],
           "ids": [
            26
           ],
           "legendgroup": "Dividend",
           "marker": {
            "color": "#FFA15A",
            "size": [
             23303.5
            ],
            "sizemode": "area",
            "sizeref": 6828.697520661157,
            "symbol": "circle"
           },
           "mode": "markers",
           "name": "Dividend",
           "showlegend": true,
           "type": "scatter",
           "x": [
            "Dividend"
           ],
           "xaxis": "x",
           "y": [
            8.06
           ],
           "yaxis": "y"
          },
          {
           "hoverlabel": {
            "namelength": 0
           },
           "hovertemplate": "<b>%{hovertext}</b><br><br>portfolio=%{x}<br>ndays=26<br>percent=%{y}<br>volume=%{marker.size}",
           "hovertext": [
            "Electric Vehicles"
           ],
           "ids": [
            26
           ],
           "legendgroup": "Electric Vehicles",
           "marker": {
            "color": "#19d3f3",
            "size": [
             13509980.5
            ],
            "sizemode": "area",
            "sizeref": 6828.697520661157,
            "symbol": "circle"
           },
           "mode": "markers",
           "name": "Electric Vehicles",
           "showlegend": true,
           "type": "scatter",
           "x": [
            "Electric Vehicles"
           ],
           "xaxis": "x",
           "y": [
            68.075
           ],
           "yaxis": "y"
          },
          {
           "hoverlabel": {
            "namelength": 0
           },
           "hovertemplate": "<b>%{hovertext}</b><br><br>portfolio=%{x}<br>ndays=26<br>percent=%{y}<br>volume=%{marker.size}",
           "hovertext": [
            "Electricity Solar"
           ],
           "ids": [
            26
           ],
           "legendgroup": "Electricity Solar",
           "marker": {
            "color": "#FF6692",
            "size": [
             2891608.2
            ],
            "sizemode": "area",
            "sizeref": 6828.697520661157,
            "symbol": "circle"
           },
           "mode": "markers",
           "name": "Electricity Solar",
           "showlegend": true,
           "type": "scatter",
           "x": [
            "Electricity Solar"
           ],
           "xaxis": "x",
           "y": [
            23.312
           ],
           "yaxis": "y"
          },
          {
           "hoverlabel": {
            "namelength": 0
           },
           "hovertemplate": "<b>%{hovertext}</b><br><br>portfolio=%{x}<br>ndays=26<br>percent=%{y}<br>volume=%{marker.size}",
           "hovertext": [
            "Electricity Wind"
           ],
           "ids": [
            26
           ],
           "legendgroup": "Electricity Wind",
           "marker": {
            "color": "#B6E880",
            "size": [
             38741
            ],
            "sizemode": "area",
            "sizeref": 6828.697520661157,
            "symbol": "circle"
           },
           "mode": "markers",
           "name": "Electricity Wind",
           "showlegend": true,
           "type": "scatter",
           "x": [
            "Electricity Wind"
           ],
           "xaxis": "x",
           "y": [
            17.24
           ],
           "yaxis": "y"
          },
          {
           "hoverlabel": {
            "namelength": 0
           },
           "hovertemplate": "<b>%{hovertext}</b><br><br>portfolio=%{x}<br>ndays=26<br>percent=%{y}<br>volume=%{marker.size}",
           "hovertext": [
            "Energy Renewalbe"
           ],
           "ids": [
            26
           ],
           "legendgroup": "Energy Renewalbe",
           "marker": {
            "color": "#FF97FF",
            "size": [
             128533
            ],
            "sizemode": "area",
            "sizeref": 6828.697520661157,
            "symbol": "circle"
           },
           "mode": "markers",
           "name": "Energy Renewalbe",
           "showlegend": true,
           "type": "scatter",
           "x": [
            "Energy Renewalbe"
           ],
           "xaxis": "x",
           "y": [
            38.54
           ],
           "yaxis": "y"
          },
          {
           "hoverlabel": {
            "namelength": 0
           },
           "hovertemplate": "<b>%{hovertext}</b><br><br>portfolio=%{x}<br>ndays=26<br>percent=%{y}<br>volume=%{marker.size}",
           "hovertext": [
            "Insurance"
           ],
           "ids": [
            26
           ],
           "legendgroup": "Insurance",
           "marker": {
            "color": "#FECB52",
            "size": [
             1459008
            ],
            "sizemode": "area",
            "sizeref": 6828.697520661157,
            "symbol": "circle"
           },
           "mode": "markers",
           "name": "Insurance",
           "showlegend": true,
           "type": "scatter",
           "x": [
            "Insurance"
           ],
           "xaxis": "x",
           "y": [
            43.02
           ],
           "yaxis": "y"
          },
          {
           "hoverlabel": {
            "namelength": 0
           },
           "hovertemplate": "<b>%{hovertext}</b><br><br>portfolio=%{x}<br>ndays=26<br>percent=%{y}<br>volume=%{marker.size}",
           "hovertext": [
            "Mega Capital"
           ],
           "ids": [
            26
           ],
           "legendgroup": "Mega Capital",
           "marker": {
            "color": "#636efa",
            "size": [
             20656810
            ],
            "sizemode": "area",
            "sizeref": 6828.697520661157,
            "symbol": "circle"
           },
           "mode": "markers",
           "name": "Mega Capital",
           "showlegend": true,
           "type": "scatter",
           "x": [
            "Mega Capital"
           ],
           "xaxis": "x",
           "y": [
            0.64
           ],
           "yaxis": "y"
          },
          {
           "hoverlabel": {
            "namelength": 0
           },
           "hovertemplate": "<b>%{hovertext}</b><br><br>portfolio=%{x}<br>ndays=26<br>percent=%{y}<br>volume=%{marker.size}",
           "hovertext": [
            "REIT"
           ],
           "ids": [
            26
           ],
           "legendgroup": "REIT",
           "marker": {
            "color": "#EF553B",
            "size": [
             3393063
            ],
            "sizemode": "area",
            "sizeref": 6828.697520661157,
            "symbol": "circle"
           },
           "mode": "markers",
           "name": "REIT",
           "showlegend": true,
           "type": "scatter",
           "x": [
            "REIT"
           ],
           "xaxis": "x",
           "y": [
            -14.92
           ],
           "yaxis": "y"
          },
          {
           "hoverlabel": {
            "namelength": 0
           },
           "hovertemplate": "<b>%{hovertext}</b><br><br>portfolio=%{x}<br>ndays=26<br>percent=%{y}<br>volume=%{marker.size}",
           "hovertext": [
            "Semiconductors"
           ],
           "ids": [
            26
           ],
           "legendgroup": "Semiconductors",
           "marker": {
            "color": "#00cc96",
            "size": [
             3895649.3333333335
            ],
            "sizemode": "area",
            "sizeref": 6828.697520661157,
            "symbol": "circle"
           },
           "mode": "markers",
           "name": "Semiconductors",
           "showlegend": true,
           "type": "scatter",
           "x": [
            "Semiconductors"
           ],
           "xaxis": "x",
           "y": [
            7.739999999999999
           ],
           "yaxis": "y"
          }
         ],
         "name": "26"
        },
        {
         "data": [
          {
           "hoverlabel": {
            "namelength": 0
           },
           "hovertemplate": "<b>%{hovertext}</b><br><br>portfolio=%{x}<br>ndays=31<br>percent=%{y}<br>volume=%{marker.size}",
           "hovertext": [
            "5G"
           ],
           "ids": [
            31
           ],
           "legendgroup": "5G",
           "marker": {
            "color": "#636efa",
            "size": [
             670334
            ],
            "sizemode": "area",
            "sizeref": 6828.697520661157,
            "symbol": "circle"
           },
           "mode": "markers",
           "name": "5G",
           "showlegend": true,
           "type": "scatter",
           "x": [
            "5G"
           ],
           "xaxis": "x",
           "y": [
            3.95
           ],
           "yaxis": "y"
          },
          {
           "hoverlabel": {
            "namelength": 0
           },
           "hovertemplate": "<b>%{hovertext}</b><br><br>portfolio=%{x}<br>ndays=31<br>percent=%{y}<br>volume=%{marker.size}",
           "hovertext": [
            "Biotechnology"
           ],
           "ids": [
            31
           ],
           "legendgroup": "Biotechnology",
           "marker": {
            "color": "#EF553B",
            "size": [
             4346686
            ],
            "sizemode": "area",
            "sizeref": 6828.697520661157,
            "symbol": "circle"
           },
           "mode": "markers",
           "name": "Biotechnology",
           "showlegend": true,
           "type": "scatter",
           "x": [
            "Biotechnology"
           ],
           "xaxis": "x",
           "y": [
            23.07
           ],
           "yaxis": "y"
          },
          {
           "hoverlabel": {
            "namelength": 0
           },
           "hovertemplate": "<b>%{hovertext}</b><br><br>portfolio=%{x}<br>ndays=31<br>percent=%{y}<br>volume=%{marker.size}",
           "hovertext": [
            "CEF"
           ],
           "ids": [
            31
           ],
           "legendgroup": "CEF",
           "marker": {
            "color": "#00cc96",
            "size": [
             26492
            ],
            "sizemode": "area",
            "sizeref": 6828.697520661157,
            "symbol": "circle"
           },
           "mode": "markers",
           "name": "CEF",
           "showlegend": true,
           "type": "scatter",
           "x": [
            "CEF"
           ],
           "xaxis": "x",
           "y": [
            4.75
           ],
           "yaxis": "y"
          },
          {
           "hoverlabel": {
            "namelength": 0
           },
           "hovertemplate": "<b>%{hovertext}</b><br><br>portfolio=%{x}<br>ndays=31<br>percent=%{y}<br>volume=%{marker.size}",
           "hovertext": [
            "Cloud Retail Apps"
           ],
           "ids": [
            31
           ],
           "legendgroup": "Cloud Retail Apps",
           "marker": {
            "color": "#ab63fa",
            "size": [
             776911
            ],
            "sizemode": "area",
            "sizeref": 6828.697520661157,
            "symbol": "circle"
           },
           "mode": "markers",
           "name": "Cloud Retail Apps",
           "showlegend": true,
           "type": "scatter",
           "x": [
            "Cloud Retail Apps"
           ],
           "xaxis": "x",
           "y": [
            -5.13
           ],
           "yaxis": "y"
          },
          {
           "hoverlabel": {
            "namelength": 0
           },
           "hovertemplate": "<b>%{hovertext}</b><br><br>portfolio=%{x}<br>ndays=31<br>percent=%{y}<br>volume=%{marker.size}",
           "hovertext": [
            "Dividend"
           ],
           "ids": [
            31
           ],
           "legendgroup": "Dividend",
           "marker": {
            "color": "#FFA15A",
            "size": [
             23303.5
            ],
            "sizemode": "area",
            "sizeref": 6828.697520661157,
            "symbol": "circle"
           },
           "mode": "markers",
           "name": "Dividend",
           "showlegend": true,
           "type": "scatter",
           "x": [
            "Dividend"
           ],
           "xaxis": "x",
           "y": [
            7.82
           ],
           "yaxis": "y"
          },
          {
           "hoverlabel": {
            "namelength": 0
           },
           "hovertemplate": "<b>%{hovertext}</b><br><br>portfolio=%{x}<br>ndays=31<br>percent=%{y}<br>volume=%{marker.size}",
           "hovertext": [
            "Electric Vehicles"
           ],
           "ids": [
            31
           ],
           "legendgroup": "Electric Vehicles",
           "marker": {
            "color": "#19d3f3",
            "size": [
             13509980.5
            ],
            "sizemode": "area",
            "sizeref": 6828.697520661157,
            "symbol": "circle"
           },
           "mode": "markers",
           "name": "Electric Vehicles",
           "showlegend": true,
           "type": "scatter",
           "x": [
            "Electric Vehicles"
           ],
           "xaxis": "x",
           "y": [
            65.72
           ],
           "yaxis": "y"
          },
          {
           "hoverlabel": {
            "namelength": 0
           },
           "hovertemplate": "<b>%{hovertext}</b><br><br>portfolio=%{x}<br>ndays=31<br>percent=%{y}<br>volume=%{marker.size}",
           "hovertext": [
            "Electricity Solar"
           ],
           "ids": [
            31
           ],
           "legendgroup": "Electricity Solar",
           "marker": {
            "color": "#FF6692",
            "size": [
             2891608.2
            ],
            "sizemode": "area",
            "sizeref": 6828.697520661157,
            "symbol": "circle"
           },
           "mode": "markers",
           "name": "Electricity Solar",
           "showlegend": true,
           "type": "scatter",
           "x": [
            "Electricity Solar"
           ],
           "xaxis": "x",
           "y": [
            20.836000000000002
           ],
           "yaxis": "y"
          },
          {
           "hoverlabel": {
            "namelength": 0
           },
           "hovertemplate": "<b>%{hovertext}</b><br><br>portfolio=%{x}<br>ndays=31<br>percent=%{y}<br>volume=%{marker.size}",
           "hovertext": [
            "Electricity Wind"
           ],
           "ids": [
            31
           ],
           "legendgroup": "Electricity Wind",
           "marker": {
            "color": "#B6E880",
            "size": [
             38741
            ],
            "sizemode": "area",
            "sizeref": 6828.697520661157,
            "symbol": "circle"
           },
           "mode": "markers",
           "name": "Electricity Wind",
           "showlegend": true,
           "type": "scatter",
           "x": [
            "Electricity Wind"
           ],
           "xaxis": "x",
           "y": [
            10.52
           ],
           "yaxis": "y"
          },
          {
           "hoverlabel": {
            "namelength": 0
           },
           "hovertemplate": "<b>%{hovertext}</b><br><br>portfolio=%{x}<br>ndays=31<br>percent=%{y}<br>volume=%{marker.size}",
           "hovertext": [
            "Energy Renewalbe"
           ],
           "ids": [
            31
           ],
           "legendgroup": "Energy Renewalbe",
           "marker": {
            "color": "#FF97FF",
            "size": [
             128533
            ],
            "sizemode": "area",
            "sizeref": 6828.697520661157,
            "symbol": "circle"
           },
           "mode": "markers",
           "name": "Energy Renewalbe",
           "showlegend": true,
           "type": "scatter",
           "x": [
            "Energy Renewalbe"
           ],
           "xaxis": "x",
           "y": [
            34.46
           ],
           "yaxis": "y"
          },
          {
           "hoverlabel": {
            "namelength": 0
           },
           "hovertemplate": "<b>%{hovertext}</b><br><br>portfolio=%{x}<br>ndays=31<br>percent=%{y}<br>volume=%{marker.size}",
           "hovertext": [
            "Insurance"
           ],
           "ids": [
            31
           ],
           "legendgroup": "Insurance",
           "marker": {
            "color": "#FECB52",
            "size": [
             1459008
            ],
            "sizemode": "area",
            "sizeref": 6828.697520661157,
            "symbol": "circle"
           },
           "mode": "markers",
           "name": "Insurance",
           "showlegend": true,
           "type": "scatter",
           "x": [
            "Insurance"
           ],
           "xaxis": "x",
           "y": [
            20.38
           ],
           "yaxis": "y"
          },
          {
           "hoverlabel": {
            "namelength": 0
           },
           "hovertemplate": "<b>%{hovertext}</b><br><br>portfolio=%{x}<br>ndays=31<br>percent=%{y}<br>volume=%{marker.size}",
           "hovertext": [
            "Mega Capital"
           ],
           "ids": [
            31
           ],
           "legendgroup": "Mega Capital",
           "marker": {
            "color": "#636efa",
            "size": [
             20656810
            ],
            "sizemode": "area",
            "sizeref": 6828.697520661157,
            "symbol": "circle"
           },
           "mode": "markers",
           "name": "Mega Capital",
           "showlegend": true,
           "type": "scatter",
           "x": [
            "Mega Capital"
           ],
           "xaxis": "x",
           "y": [
            -3.1
           ],
           "yaxis": "y"
          },
          {
           "hoverlabel": {
            "namelength": 0
           },
           "hovertemplate": "<b>%{hovertext}</b><br><br>portfolio=%{x}<br>ndays=31<br>percent=%{y}<br>volume=%{marker.size}",
           "hovertext": [
            "REIT"
           ],
           "ids": [
            31
           ],
           "legendgroup": "REIT",
           "marker": {
            "color": "#EF553B",
            "size": [
             3393063
            ],
            "sizemode": "area",
            "sizeref": 6828.697520661157,
            "symbol": "circle"
           },
           "mode": "markers",
           "name": "REIT",
           "showlegend": true,
           "type": "scatter",
           "x": [
            "REIT"
           ],
           "xaxis": "x",
           "y": [
            -7.54
           ],
           "yaxis": "y"
          },
          {
           "hoverlabel": {
            "namelength": 0
           },
           "hovertemplate": "<b>%{hovertext}</b><br><br>portfolio=%{x}<br>ndays=31<br>percent=%{y}<br>volume=%{marker.size}",
           "hovertext": [
            "Semiconductors"
           ],
           "ids": [
            31
           ],
           "legendgroup": "Semiconductors",
           "marker": {
            "color": "#00cc96",
            "size": [
             3895649.3333333335
            ],
            "sizemode": "area",
            "sizeref": 6828.697520661157,
            "symbol": "circle"
           },
           "mode": "markers",
           "name": "Semiconductors",
           "showlegend": true,
           "type": "scatter",
           "x": [
            "Semiconductors"
           ],
           "xaxis": "x",
           "y": [
            6.266666666666666
           ],
           "yaxis": "y"
          }
         ],
         "name": "31"
        },
        {
         "data": [
          {
           "hoverlabel": {
            "namelength": 0
           },
           "hovertemplate": "<b>%{hovertext}</b><br><br>portfolio=%{x}<br>ndays=36<br>percent=%{y}<br>volume=%{marker.size}",
           "hovertext": [
            "5G"
           ],
           "ids": [
            36
           ],
           "legendgroup": "5G",
           "marker": {
            "color": "#636efa",
            "size": [
             670334
            ],
            "sizemode": "area",
            "sizeref": 6828.697520661157,
            "symbol": "circle"
           },
           "mode": "markers",
           "name": "5G",
           "showlegend": true,
           "type": "scatter",
           "x": [
            "5G"
           ],
           "xaxis": "x",
           "y": [
            5.79
           ],
           "yaxis": "y"
          },
          {
           "hoverlabel": {
            "namelength": 0
           },
           "hovertemplate": "<b>%{hovertext}</b><br><br>portfolio=%{x}<br>ndays=36<br>percent=%{y}<br>volume=%{marker.size}",
           "hovertext": [
            "Biotechnology"
           ],
           "ids": [
            36
           ],
           "legendgroup": "Biotechnology",
           "marker": {
            "color": "#EF553B",
            "size": [
             4346686
            ],
            "sizemode": "area",
            "sizeref": 6828.697520661157,
            "symbol": "circle"
           },
           "mode": "markers",
           "name": "Biotechnology",
           "showlegend": true,
           "type": "scatter",
           "x": [
            "Biotechnology"
           ],
           "xaxis": "x",
           "y": [
            21.73
           ],
           "yaxis": "y"
          },
          {
           "hoverlabel": {
            "namelength": 0
           },
           "hovertemplate": "<b>%{hovertext}</b><br><br>portfolio=%{x}<br>ndays=36<br>percent=%{y}<br>volume=%{marker.size}",
           "hovertext": [
            "CEF"
           ],
           "ids": [
            36
           ],
           "legendgroup": "CEF",
           "marker": {
            "color": "#00cc96",
            "size": [
             26492
            ],
            "sizemode": "area",
            "sizeref": 6828.697520661157,
            "symbol": "circle"
           },
           "mode": "markers",
           "name": "CEF",
           "showlegend": true,
           "type": "scatter",
           "x": [
            "CEF"
           ],
           "xaxis": "x",
           "y": [
            8.66
           ],
           "yaxis": "y"
          },
          {
           "hoverlabel": {
            "namelength": 0
           },
           "hovertemplate": "<b>%{hovertext}</b><br><br>portfolio=%{x}<br>ndays=36<br>percent=%{y}<br>volume=%{marker.size}",
           "hovertext": [
            "Cloud Retail Apps"
           ],
           "ids": [
            36
           ],
           "legendgroup": "Cloud Retail Apps",
           "marker": {
            "color": "#ab63fa",
            "size": [
             776911
            ],
            "sizemode": "area",
            "sizeref": 6828.697520661157,
            "symbol": "circle"
           },
           "mode": "markers",
           "name": "Cloud Retail Apps",
           "showlegend": true,
           "type": "scatter",
           "x": [
            "Cloud Retail Apps"
           ],
           "xaxis": "x",
           "y": [
            23.33
           ],
           "yaxis": "y"
          },
          {
           "hoverlabel": {
            "namelength": 0
           },
           "hovertemplate": "<b>%{hovertext}</b><br><br>portfolio=%{x}<br>ndays=36<br>percent=%{y}<br>volume=%{marker.size}",
           "hovertext": [
            "Dividend"
           ],
           "ids": [
            36
           ],
           "legendgroup": "Dividend",
           "marker": {
            "color": "#FFA15A",
            "size": [
             23303.5
            ],
            "sizemode": "area",
            "sizeref": 6828.697520661157,
            "symbol": "circle"
           },
           "mode": "markers",
           "name": "Dividend",
           "showlegend": true,
           "type": "scatter",
           "x": [
            "Dividend"
           ],
           "xaxis": "x",
           "y": [
            8.465
           ],
           "yaxis": "y"
          },
          {
           "hoverlabel": {
            "namelength": 0
           },
           "hovertemplate": "<b>%{hovertext}</b><br><br>portfolio=%{x}<br>ndays=36<br>percent=%{y}<br>volume=%{marker.size}",
           "hovertext": [
            "Electric Vehicles"
           ],
           "ids": [
            36
           ],
           "legendgroup": "Electric Vehicles",
           "marker": {
            "color": "#19d3f3",
            "size": [
             13509980.5
            ],
            "sizemode": "area",
            "sizeref": 6828.697520661157,
            "symbol": "circle"
           },
           "mode": "markers",
           "name": "Electric Vehicles",
           "showlegend": true,
           "type": "scatter",
           "x": [
            "Electric Vehicles"
           ],
           "xaxis": "x",
           "y": [
            83.485
           ],
           "yaxis": "y"
          },
          {
           "hoverlabel": {
            "namelength": 0
           },
           "hovertemplate": "<b>%{hovertext}</b><br><br>portfolio=%{x}<br>ndays=36<br>percent=%{y}<br>volume=%{marker.size}",
           "hovertext": [
            "Electricity Solar"
           ],
           "ids": [
            36
           ],
           "legendgroup": "Electricity Solar",
           "marker": {
            "color": "#FF6692",
            "size": [
             2891608.2
            ],
            "sizemode": "area",
            "sizeref": 6828.697520661157,
            "symbol": "circle"
           },
           "mode": "markers",
           "name": "Electricity Solar",
           "showlegend": true,
           "type": "scatter",
           "x": [
            "Electricity Solar"
           ],
           "xaxis": "x",
           "y": [
            25.267999999999994
           ],
           "yaxis": "y"
          },
          {
           "hoverlabel": {
            "namelength": 0
           },
           "hovertemplate": "<b>%{hovertext}</b><br><br>portfolio=%{x}<br>ndays=36<br>percent=%{y}<br>volume=%{marker.size}",
           "hovertext": [
            "Electricity Wind"
           ],
           "ids": [
            36
           ],
           "legendgroup": "Electricity Wind",
           "marker": {
            "color": "#B6E880",
            "size": [
             38741
            ],
            "sizemode": "area",
            "sizeref": 6828.697520661157,
            "symbol": "circle"
           },
           "mode": "markers",
           "name": "Electricity Wind",
           "showlegend": true,
           "type": "scatter",
           "x": [
            "Electricity Wind"
           ],
           "xaxis": "x",
           "y": [
            12.19
           ],
           "yaxis": "y"
          },
          {
           "hoverlabel": {
            "namelength": 0
           },
           "hovertemplate": "<b>%{hovertext}</b><br><br>portfolio=%{x}<br>ndays=36<br>percent=%{y}<br>volume=%{marker.size}",
           "hovertext": [
            "Energy Renewalbe"
           ],
           "ids": [
            36
           ],
           "legendgroup": "Energy Renewalbe",
           "marker": {
            "color": "#FF97FF",
            "size": [
             128533
            ],
            "sizemode": "area",
            "sizeref": 6828.697520661157,
            "symbol": "circle"
           },
           "mode": "markers",
           "name": "Energy Renewalbe",
           "showlegend": true,
           "type": "scatter",
           "x": [
            "Energy Renewalbe"
           ],
           "xaxis": "x",
           "y": [
            15.85
           ],
           "yaxis": "y"
          },
          {
           "hoverlabel": {
            "namelength": 0
           },
           "hovertemplate": "<b>%{hovertext}</b><br><br>portfolio=%{x}<br>ndays=36<br>percent=%{y}<br>volume=%{marker.size}",
           "hovertext": [
            "Insurance"
           ],
           "ids": [
            36
           ],
           "legendgroup": "Insurance",
           "marker": {
            "color": "#FECB52",
            "size": [
             1459008
            ],
            "sizemode": "area",
            "sizeref": 6828.697520661157,
            "symbol": "circle"
           },
           "mode": "markers",
           "name": "Insurance",
           "showlegend": true,
           "type": "scatter",
           "x": [
            "Insurance"
           ],
           "xaxis": "x",
           "y": [
            25.01
           ],
           "yaxis": "y"
          },
          {
           "hoverlabel": {
            "namelength": 0
           },
           "hovertemplate": "<b>%{hovertext}</b><br><br>portfolio=%{x}<br>ndays=36<br>percent=%{y}<br>volume=%{marker.size}",
           "hovertext": [
            "Mega Capital"
           ],
           "ids": [
            36
           ],
           "legendgroup": "Mega Capital",
           "marker": {
            "color": "#636efa",
            "size": [
             20656810
            ],
            "sizemode": "area",
            "sizeref": 6828.697520661157,
            "symbol": "circle"
           },
           "mode": "markers",
           "name": "Mega Capital",
           "showlegend": true,
           "type": "scatter",
           "x": [
            "Mega Capital"
           ],
           "xaxis": "x",
           "y": [
            1.4033333333333333
           ],
           "yaxis": "y"
          },
          {
           "hoverlabel": {
            "namelength": 0
           },
           "hovertemplate": "<b>%{hovertext}</b><br><br>portfolio=%{x}<br>ndays=36<br>percent=%{y}<br>volume=%{marker.size}",
           "hovertext": [
            "REIT"
           ],
           "ids": [
            36
           ],
           "legendgroup": "REIT",
           "marker": {
            "color": "#EF553B",
            "size": [
             3393063
            ],
            "sizemode": "area",
            "sizeref": 6828.697520661157,
            "symbol": "circle"
           },
           "mode": "markers",
           "name": "REIT",
           "showlegend": true,
           "type": "scatter",
           "x": [
            "REIT"
           ],
           "xaxis": "x",
           "y": [
            -0.59
           ],
           "yaxis": "y"
          },
          {
           "hoverlabel": {
            "namelength": 0
           },
           "hovertemplate": "<b>%{hovertext}</b><br><br>portfolio=%{x}<br>ndays=36<br>percent=%{y}<br>volume=%{marker.size}",
           "hovertext": [
            "Semiconductors"
           ],
           "ids": [
            36
           ],
           "legendgroup": "Semiconductors",
           "marker": {
            "color": "#00cc96",
            "size": [
             3895649.3333333335
            ],
            "sizemode": "area",
            "sizeref": 6828.697520661157,
            "symbol": "circle"
           },
           "mode": "markers",
           "name": "Semiconductors",
           "showlegend": true,
           "type": "scatter",
           "x": [
            "Semiconductors"
           ],
           "xaxis": "x",
           "y": [
            8.62
           ],
           "yaxis": "y"
          }
         ],
         "name": "36"
        },
        {
         "data": [
          {
           "hoverlabel": {
            "namelength": 0
           },
           "hovertemplate": "<b>%{hovertext}</b><br><br>portfolio=%{x}<br>ndays=41<br>percent=%{y}<br>volume=%{marker.size}",
           "hovertext": [
            "5G"
           ],
           "ids": [
            41
           ],
           "legendgroup": "5G",
           "marker": {
            "color": "#636efa",
            "size": [
             670334
            ],
            "sizemode": "area",
            "sizeref": 6828.697520661157,
            "symbol": "circle"
           },
           "mode": "markers",
           "name": "5G",
           "showlegend": true,
           "type": "scatter",
           "x": [
            "5G"
           ],
           "xaxis": "x",
           "y": [
            7.15
           ],
           "yaxis": "y"
          },
          {
           "hoverlabel": {
            "namelength": 0
           },
           "hovertemplate": "<b>%{hovertext}</b><br><br>portfolio=%{x}<br>ndays=41<br>percent=%{y}<br>volume=%{marker.size}",
           "hovertext": [
            "Biotechnology"
           ],
           "ids": [
            41
           ],
           "legendgroup": "Biotechnology",
           "marker": {
            "color": "#EF553B",
            "size": [
             4346686
            ],
            "sizemode": "area",
            "sizeref": 6828.697520661157,
            "symbol": "circle"
           },
           "mode": "markers",
           "name": "Biotechnology",
           "showlegend": true,
           "type": "scatter",
           "x": [
            "Biotechnology"
           ],
           "xaxis": "x",
           "y": [
            22.01
           ],
           "yaxis": "y"
          },
          {
           "hoverlabel": {
            "namelength": 0
           },
           "hovertemplate": "<b>%{hovertext}</b><br><br>portfolio=%{x}<br>ndays=41<br>percent=%{y}<br>volume=%{marker.size}",
           "hovertext": [
            "CEF"
           ],
           "ids": [
            41
           ],
           "legendgroup": "CEF",
           "marker": {
            "color": "#00cc96",
            "size": [
             26492
            ],
            "sizemode": "area",
            "sizeref": 6828.697520661157,
            "symbol": "circle"
           },
           "mode": "markers",
           "name": "CEF",
           "showlegend": true,
           "type": "scatter",
           "x": [
            "CEF"
           ],
           "xaxis": "x",
           "y": [
            11.18
           ],
           "yaxis": "y"
          },
          {
           "hoverlabel": {
            "namelength": 0
           },
           "hovertemplate": "<b>%{hovertext}</b><br><br>portfolio=%{x}<br>ndays=41<br>percent=%{y}<br>volume=%{marker.size}",
           "hovertext": [
            "Cloud Retail Apps"
           ],
           "ids": [
            41
           ],
           "legendgroup": "Cloud Retail Apps",
           "marker": {
            "color": "#ab63fa",
            "size": [
             776911
            ],
            "sizemode": "area",
            "sizeref": 6828.697520661157,
            "symbol": "circle"
           },
           "mode": "markers",
           "name": "Cloud Retail Apps",
           "showlegend": true,
           "type": "scatter",
           "x": [
            "Cloud Retail Apps"
           ],
           "xaxis": "x",
           "y": [
            21.71
           ],
           "yaxis": "y"
          },
          {
           "hoverlabel": {
            "namelength": 0
           },
           "hovertemplate": "<b>%{hovertext}</b><br><br>portfolio=%{x}<br>ndays=41<br>percent=%{y}<br>volume=%{marker.size}",
           "hovertext": [
            "Dividend"
           ],
           "ids": [
            41
           ],
           "legendgroup": "Dividend",
           "marker": {
            "color": "#FFA15A",
            "size": [
             23303.5
            ],
            "sizemode": "area",
            "sizeref": 6828.697520661157,
            "symbol": "circle"
           },
           "mode": "markers",
           "name": "Dividend",
           "showlegend": true,
           "type": "scatter",
           "x": [
            "Dividend"
           ],
           "xaxis": "x",
           "y": [
            9.075
           ],
           "yaxis": "y"
          },
          {
           "hoverlabel": {
            "namelength": 0
           },
           "hovertemplate": "<b>%{hovertext}</b><br><br>portfolio=%{x}<br>ndays=41<br>percent=%{y}<br>volume=%{marker.size}",
           "hovertext": [
            "Electric Vehicles"
           ],
           "ids": [
            41
           ],
           "legendgroup": "Electric Vehicles",
           "marker": {
            "color": "#19d3f3",
            "size": [
             13509980.5
            ],
            "sizemode": "area",
            "sizeref": 6828.697520661157,
            "symbol": "circle"
           },
           "mode": "markers",
           "name": "Electric Vehicles",
           "showlegend": true,
           "type": "scatter",
           "x": [
            "Electric Vehicles"
           ],
           "xaxis": "x",
           "y": [
            90.625
           ],
           "yaxis": "y"
          },
          {
           "hoverlabel": {
            "namelength": 0
           },
           "hovertemplate": "<b>%{hovertext}</b><br><br>portfolio=%{x}<br>ndays=41<br>percent=%{y}<br>volume=%{marker.size}",
           "hovertext": [
            "Electricity Solar"
           ],
           "ids": [
            41
           ],
           "legendgroup": "Electricity Solar",
           "marker": {
            "color": "#FF6692",
            "size": [
             2891608.2
            ],
            "sizemode": "area",
            "sizeref": 6828.697520661157,
            "symbol": "circle"
           },
           "mode": "markers",
           "name": "Electricity Solar",
           "showlegend": true,
           "type": "scatter",
           "x": [
            "Electricity Solar"
           ],
           "xaxis": "x",
           "y": [
            48.344
           ],
           "yaxis": "y"
          },
          {
           "hoverlabel": {
            "namelength": 0
           },
           "hovertemplate": "<b>%{hovertext}</b><br><br>portfolio=%{x}<br>ndays=41<br>percent=%{y}<br>volume=%{marker.size}",
           "hovertext": [
            "Electricity Wind"
           ],
           "ids": [
            41
           ],
           "legendgroup": "Electricity Wind",
           "marker": {
            "color": "#B6E880",
            "size": [
             38741
            ],
            "sizemode": "area",
            "sizeref": 6828.697520661157,
            "symbol": "circle"
           },
           "mode": "markers",
           "name": "Electricity Wind",
           "showlegend": true,
           "type": "scatter",
           "x": [
            "Electricity Wind"
           ],
           "xaxis": "x",
           "y": [
            19.5
           ],
           "yaxis": "y"
          },
          {
           "hoverlabel": {
            "namelength": 0
           },
           "hovertemplate": "<b>%{hovertext}</b><br><br>portfolio=%{x}<br>ndays=41<br>percent=%{y}<br>volume=%{marker.size}",
           "hovertext": [
            "Energy Renewalbe"
           ],
           "ids": [
            41
           ],
           "legendgroup": "Energy Renewalbe",
           "marker": {
            "color": "#FF97FF",
            "size": [
             128533
            ],
            "sizemode": "area",
            "sizeref": 6828.697520661157,
            "symbol": "circle"
           },
           "mode": "markers",
           "name": "Energy Renewalbe",
           "showlegend": true,
           "type": "scatter",
           "x": [
            "Energy Renewalbe"
           ],
           "xaxis": "x",
           "y": [
            15.2
           ],
           "yaxis": "y"
          },
          {
           "hoverlabel": {
            "namelength": 0
           },
           "hovertemplate": "<b>%{hovertext}</b><br><br>portfolio=%{x}<br>ndays=41<br>percent=%{y}<br>volume=%{marker.size}",
           "hovertext": [
            "Insurance"
           ],
           "ids": [
            41
           ],
           "legendgroup": "Insurance",
           "marker": {
            "color": "#FECB52",
            "size": [
             1459008
            ],
            "sizemode": "area",
            "sizeref": 6828.697520661157,
            "symbol": "circle"
           },
           "mode": "markers",
           "name": "Insurance",
           "showlegend": true,
           "type": "scatter",
           "x": [
            "Insurance"
           ],
           "xaxis": "x",
           "y": [
            46
           ],
           "yaxis": "y"
          },
          {
           "hoverlabel": {
            "namelength": 0
           },
           "hovertemplate": "<b>%{hovertext}</b><br><br>portfolio=%{x}<br>ndays=41<br>percent=%{y}<br>volume=%{marker.size}",
           "hovertext": [
            "Mega Capital"
           ],
           "ids": [
            41
           ],
           "legendgroup": "Mega Capital",
           "marker": {
            "color": "#636efa",
            "size": [
             20656810
            ],
            "sizemode": "area",
            "sizeref": 6828.697520661157,
            "symbol": "circle"
           },
           "mode": "markers",
           "name": "Mega Capital",
           "showlegend": true,
           "type": "scatter",
           "x": [
            "Mega Capital"
           ],
           "xaxis": "x",
           "y": [
            0.25666666666666665
           ],
           "yaxis": "y"
          },
          {
           "hoverlabel": {
            "namelength": 0
           },
           "hovertemplate": "<b>%{hovertext}</b><br><br>portfolio=%{x}<br>ndays=41<br>percent=%{y}<br>volume=%{marker.size}",
           "hovertext": [
            "REIT"
           ],
           "ids": [
            41
           ],
           "legendgroup": "REIT",
           "marker": {
            "color": "#EF553B",
            "size": [
             3393063
            ],
            "sizemode": "area",
            "sizeref": 6828.697520661157,
            "symbol": "circle"
           },
           "mode": "markers",
           "name": "REIT",
           "showlegend": true,
           "type": "scatter",
           "x": [
            "REIT"
           ],
           "xaxis": "x",
           "y": [
            3.88
           ],
           "yaxis": "y"
          },
          {
           "hoverlabel": {
            "namelength": 0
           },
           "hovertemplate": "<b>%{hovertext}</b><br><br>portfolio=%{x}<br>ndays=41<br>percent=%{y}<br>volume=%{marker.size}",
           "hovertext": [
            "Semiconductors"
           ],
           "ids": [
            41
           ],
           "legendgroup": "Semiconductors",
           "marker": {
            "color": "#00cc96",
            "size": [
             3895649.3333333335
            ],
            "sizemode": "area",
            "sizeref": 6828.697520661157,
            "symbol": "circle"
           },
           "mode": "markers",
           "name": "Semiconductors",
           "showlegend": true,
           "type": "scatter",
           "x": [
            "Semiconductors"
           ],
           "xaxis": "x",
           "y": [
            12.420000000000002
           ],
           "yaxis": "y"
          }
         ],
         "name": "41"
        }
       ],
       "layout": {
        "height": 800,
        "legend": {
         "itemsizing": "constant",
         "title": {
          "text": "portfolio"
         },
         "tracegroupgap": 0
        },
        "margin": {
         "t": 60
        },
        "sliders": [
         {
          "active": 0,
          "currentvalue": {
           "prefix": "ndays="
          },
          "len": 0.9,
          "pad": {
           "b": 10,
           "t": 60
          },
          "steps": [
           {
            "args": [
             [
              "1"
             ],
             {
              "frame": {
               "duration": 0,
               "redraw": false
              },
              "fromcurrent": true,
              "mode": "immediate",
              "transition": {
               "duration": 0,
               "easing": "linear"
              }
             }
            ],
            "label": "1",
            "method": "animate"
           },
           {
            "args": [
             [
              "6"
             ],
             {
              "frame": {
               "duration": 0,
               "redraw": false
              },
              "fromcurrent": true,
              "mode": "immediate",
              "transition": {
               "duration": 0,
               "easing": "linear"
              }
             }
            ],
            "label": "6",
            "method": "animate"
           },
           {
            "args": [
             [
              "11"
             ],
             {
              "frame": {
               "duration": 0,
               "redraw": false
              },
              "fromcurrent": true,
              "mode": "immediate",
              "transition": {
               "duration": 0,
               "easing": "linear"
              }
             }
            ],
            "label": "11",
            "method": "animate"
           },
           {
            "args": [
             [
              "16"
             ],
             {
              "frame": {
               "duration": 0,
               "redraw": false
              },
              "fromcurrent": true,
              "mode": "immediate",
              "transition": {
               "duration": 0,
               "easing": "linear"
              }
             }
            ],
            "label": "16",
            "method": "animate"
           },
           {
            "args": [
             [
              "21"
             ],
             {
              "frame": {
               "duration": 0,
               "redraw": false
              },
              "fromcurrent": true,
              "mode": "immediate",
              "transition": {
               "duration": 0,
               "easing": "linear"
              }
             }
            ],
            "label": "21",
            "method": "animate"
           },
           {
            "args": [
             [
              "26"
             ],
             {
              "frame": {
               "duration": 0,
               "redraw": false
              },
              "fromcurrent": true,
              "mode": "immediate",
              "transition": {
               "duration": 0,
               "easing": "linear"
              }
             }
            ],
            "label": "26",
            "method": "animate"
           },
           {
            "args": [
             [
              "31"
             ],
             {
              "frame": {
               "duration": 0,
               "redraw": false
              },
              "fromcurrent": true,
              "mode": "immediate",
              "transition": {
               "duration": 0,
               "easing": "linear"
              }
             }
            ],
            "label": "31",
            "method": "animate"
           },
           {
            "args": [
             [
              "36"
             ],
             {
              "frame": {
               "duration": 0,
               "redraw": false
              },
              "fromcurrent": true,
              "mode": "immediate",
              "transition": {
               "duration": 0,
               "easing": "linear"
              }
             }
            ],
            "label": "36",
            "method": "animate"
           },
           {
            "args": [
             [
              "41"
             ],
             {
              "frame": {
               "duration": 0,
               "redraw": false
              },
              "fromcurrent": true,
              "mode": "immediate",
              "transition": {
               "duration": 0,
               "easing": "linear"
              }
             }
            ],
            "label": "41",
            "method": "animate"
           }
          ],
          "x": 0.1,
          "xanchor": "left",
          "y": 0,
          "yanchor": "top"
         }
        ],
        "template": {
         "data": {
          "bar": [
           {
            "error_x": {
             "color": "#2a3f5f"
            },
            "error_y": {
             "color": "#2a3f5f"
            },
            "marker": {
             "line": {
              "color": "#E5ECF6",
              "width": 0.5
             }
            },
            "type": "bar"
           }
          ],
          "barpolar": [
           {
            "marker": {
             "line": {
              "color": "#E5ECF6",
              "width": 0.5
             }
            },
            "type": "barpolar"
           }
          ],
          "carpet": [
           {
            "aaxis": {
             "endlinecolor": "#2a3f5f",
             "gridcolor": "white",
             "linecolor": "white",
             "minorgridcolor": "white",
             "startlinecolor": "#2a3f5f"
            },
            "baxis": {
             "endlinecolor": "#2a3f5f",
             "gridcolor": "white",
             "linecolor": "white",
             "minorgridcolor": "white",
             "startlinecolor": "#2a3f5f"
            },
            "type": "carpet"
           }
          ],
          "choropleth": [
           {
            "colorbar": {
             "outlinewidth": 0,
             "ticks": ""
            },
            "type": "choropleth"
           }
          ],
          "contour": [
           {
            "colorbar": {
             "outlinewidth": 0,
             "ticks": ""
            },
            "colorscale": [
             [
              0,
              "#0d0887"
             ],
             [
              0.1111111111111111,
              "#46039f"
             ],
             [
              0.2222222222222222,
              "#7201a8"
             ],
             [
              0.3333333333333333,
              "#9c179e"
             ],
             [
              0.4444444444444444,
              "#bd3786"
             ],
             [
              0.5555555555555556,
              "#d8576b"
             ],
             [
              0.6666666666666666,
              "#ed7953"
             ],
             [
              0.7777777777777778,
              "#fb9f3a"
             ],
             [
              0.8888888888888888,
              "#fdca26"
             ],
             [
              1,
              "#f0f921"
             ]
            ],
            "type": "contour"
           }
          ],
          "contourcarpet": [
           {
            "colorbar": {
             "outlinewidth": 0,
             "ticks": ""
            },
            "type": "contourcarpet"
           }
          ],
          "heatmap": [
           {
            "colorbar": {
             "outlinewidth": 0,
             "ticks": ""
            },
            "colorscale": [
             [
              0,
              "#0d0887"
             ],
             [
              0.1111111111111111,
              "#46039f"
             ],
             [
              0.2222222222222222,
              "#7201a8"
             ],
             [
              0.3333333333333333,
              "#9c179e"
             ],
             [
              0.4444444444444444,
              "#bd3786"
             ],
             [
              0.5555555555555556,
              "#d8576b"
             ],
             [
              0.6666666666666666,
              "#ed7953"
             ],
             [
              0.7777777777777778,
              "#fb9f3a"
             ],
             [
              0.8888888888888888,
              "#fdca26"
             ],
             [
              1,
              "#f0f921"
             ]
            ],
            "type": "heatmap"
           }
          ],
          "heatmapgl": [
           {
            "colorbar": {
             "outlinewidth": 0,
             "ticks": ""
            },
            "colorscale": [
             [
              0,
              "#0d0887"
             ],
             [
              0.1111111111111111,
              "#46039f"
             ],
             [
              0.2222222222222222,
              "#7201a8"
             ],
             [
              0.3333333333333333,
              "#9c179e"
             ],
             [
              0.4444444444444444,
              "#bd3786"
             ],
             [
              0.5555555555555556,
              "#d8576b"
             ],
             [
              0.6666666666666666,
              "#ed7953"
             ],
             [
              0.7777777777777778,
              "#fb9f3a"
             ],
             [
              0.8888888888888888,
              "#fdca26"
             ],
             [
              1,
              "#f0f921"
             ]
            ],
            "type": "heatmapgl"
           }
          ],
          "histogram": [
           {
            "marker": {
             "colorbar": {
              "outlinewidth": 0,
              "ticks": ""
             }
            },
            "type": "histogram"
           }
          ],
          "histogram2d": [
           {
            "colorbar": {
             "outlinewidth": 0,
             "ticks": ""
            },
            "colorscale": [
             [
              0,
              "#0d0887"
             ],
             [
              0.1111111111111111,
              "#46039f"
             ],
             [
              0.2222222222222222,
              "#7201a8"
             ],
             [
              0.3333333333333333,
              "#9c179e"
             ],
             [
              0.4444444444444444,
              "#bd3786"
             ],
             [
              0.5555555555555556,
              "#d8576b"
             ],
             [
              0.6666666666666666,
              "#ed7953"
             ],
             [
              0.7777777777777778,
              "#fb9f3a"
             ],
             [
              0.8888888888888888,
              "#fdca26"
             ],
             [
              1,
              "#f0f921"
             ]
            ],
            "type": "histogram2d"
           }
          ],
          "histogram2dcontour": [
           {
            "colorbar": {
             "outlinewidth": 0,
             "ticks": ""
            },
            "colorscale": [
             [
              0,
              "#0d0887"
             ],
             [
              0.1111111111111111,
              "#46039f"
             ],
             [
              0.2222222222222222,
              "#7201a8"
             ],
             [
              0.3333333333333333,
              "#9c179e"
             ],
             [
              0.4444444444444444,
              "#bd3786"
             ],
             [
              0.5555555555555556,
              "#d8576b"
             ],
             [
              0.6666666666666666,
              "#ed7953"
             ],
             [
              0.7777777777777778,
              "#fb9f3a"
             ],
             [
              0.8888888888888888,
              "#fdca26"
             ],
             [
              1,
              "#f0f921"
             ]
            ],
            "type": "histogram2dcontour"
           }
          ],
          "mesh3d": [
           {
            "colorbar": {
             "outlinewidth": 0,
             "ticks": ""
            },
            "type": "mesh3d"
           }
          ],
          "parcoords": [
           {
            "line": {
             "colorbar": {
              "outlinewidth": 0,
              "ticks": ""
             }
            },
            "type": "parcoords"
           }
          ],
          "pie": [
           {
            "automargin": true,
            "type": "pie"
           }
          ],
          "scatter": [
           {
            "marker": {
             "colorbar": {
              "outlinewidth": 0,
              "ticks": ""
             }
            },
            "type": "scatter"
           }
          ],
          "scatter3d": [
           {
            "line": {
             "colorbar": {
              "outlinewidth": 0,
              "ticks": ""
             }
            },
            "marker": {
             "colorbar": {
              "outlinewidth": 0,
              "ticks": ""
             }
            },
            "type": "scatter3d"
           }
          ],
          "scattercarpet": [
           {
            "marker": {
             "colorbar": {
              "outlinewidth": 0,
              "ticks": ""
             }
            },
            "type": "scattercarpet"
           }
          ],
          "scattergeo": [
           {
            "marker": {
             "colorbar": {
              "outlinewidth": 0,
              "ticks": ""
             }
            },
            "type": "scattergeo"
           }
          ],
          "scattergl": [
           {
            "marker": {
             "colorbar": {
              "outlinewidth": 0,
              "ticks": ""
             }
            },
            "type": "scattergl"
           }
          ],
          "scattermapbox": [
           {
            "marker": {
             "colorbar": {
              "outlinewidth": 0,
              "ticks": ""
             }
            },
            "type": "scattermapbox"
           }
          ],
          "scatterpolar": [
           {
            "marker": {
             "colorbar": {
              "outlinewidth": 0,
              "ticks": ""
             }
            },
            "type": "scatterpolar"
           }
          ],
          "scatterpolargl": [
           {
            "marker": {
             "colorbar": {
              "outlinewidth": 0,
              "ticks": ""
             }
            },
            "type": "scatterpolargl"
           }
          ],
          "scatterternary": [
           {
            "marker": {
             "colorbar": {
              "outlinewidth": 0,
              "ticks": ""
             }
            },
            "type": "scatterternary"
           }
          ],
          "surface": [
           {
            "colorbar": {
             "outlinewidth": 0,
             "ticks": ""
            },
            "colorscale": [
             [
              0,
              "#0d0887"
             ],
             [
              0.1111111111111111,
              "#46039f"
             ],
             [
              0.2222222222222222,
              "#7201a8"
             ],
             [
              0.3333333333333333,
              "#9c179e"
             ],
             [
              0.4444444444444444,
              "#bd3786"
             ],
             [
              0.5555555555555556,
              "#d8576b"
             ],
             [
              0.6666666666666666,
              "#ed7953"
             ],
             [
              0.7777777777777778,
              "#fb9f3a"
             ],
             [
              0.8888888888888888,
              "#fdca26"
             ],
             [
              1,
              "#f0f921"
             ]
            ],
            "type": "surface"
           }
          ],
          "table": [
           {
            "cells": {
             "fill": {
              "color": "#EBF0F8"
             },
             "line": {
              "color": "white"
             }
            },
            "header": {
             "fill": {
              "color": "#C8D4E3"
             },
             "line": {
              "color": "white"
             }
            },
            "type": "table"
           }
          ]
         },
         "layout": {
          "annotationdefaults": {
           "arrowcolor": "#2a3f5f",
           "arrowhead": 0,
           "arrowwidth": 1
          },
          "coloraxis": {
           "colorbar": {
            "outlinewidth": 0,
            "ticks": ""
           }
          },
          "colorscale": {
           "diverging": [
            [
             0,
             "#8e0152"
            ],
            [
             0.1,
             "#c51b7d"
            ],
            [
             0.2,
             "#de77ae"
            ],
            [
             0.3,
             "#f1b6da"
            ],
            [
             0.4,
             "#fde0ef"
            ],
            [
             0.5,
             "#f7f7f7"
            ],
            [
             0.6,
             "#e6f5d0"
            ],
            [
             0.7,
             "#b8e186"
            ],
            [
             0.8,
             "#7fbc41"
            ],
            [
             0.9,
             "#4d9221"
            ],
            [
             1,
             "#276419"
            ]
           ],
           "sequential": [
            [
             0,
             "#0d0887"
            ],
            [
             0.1111111111111111,
             "#46039f"
            ],
            [
             0.2222222222222222,
             "#7201a8"
            ],
            [
             0.3333333333333333,
             "#9c179e"
            ],
            [
             0.4444444444444444,
             "#bd3786"
            ],
            [
             0.5555555555555556,
             "#d8576b"
            ],
            [
             0.6666666666666666,
             "#ed7953"
            ],
            [
             0.7777777777777778,
             "#fb9f3a"
            ],
            [
             0.8888888888888888,
             "#fdca26"
            ],
            [
             1,
             "#f0f921"
            ]
           ],
           "sequentialminus": [
            [
             0,
             "#0d0887"
            ],
            [
             0.1111111111111111,
             "#46039f"
            ],
            [
             0.2222222222222222,
             "#7201a8"
            ],
            [
             0.3333333333333333,
             "#9c179e"
            ],
            [
             0.4444444444444444,
             "#bd3786"
            ],
            [
             0.5555555555555556,
             "#d8576b"
            ],
            [
             0.6666666666666666,
             "#ed7953"
            ],
            [
             0.7777777777777778,
             "#fb9f3a"
            ],
            [
             0.8888888888888888,
             "#fdca26"
            ],
            [
             1,
             "#f0f921"
            ]
           ]
          },
          "colorway": [
           "#636efa",
           "#EF553B",
           "#00cc96",
           "#ab63fa",
           "#FFA15A",
           "#19d3f3",
           "#FF6692",
           "#B6E880",
           "#FF97FF",
           "#FECB52"
          ],
          "font": {
           "color": "#2a3f5f"
          },
          "geo": {
           "bgcolor": "white",
           "lakecolor": "white",
           "landcolor": "#E5ECF6",
           "showlakes": true,
           "showland": true,
           "subunitcolor": "white"
          },
          "hoverlabel": {
           "align": "left"
          },
          "hovermode": "closest",
          "mapbox": {
           "style": "light"
          },
          "paper_bgcolor": "white",
          "plot_bgcolor": "#E5ECF6",
          "polar": {
           "angularaxis": {
            "gridcolor": "white",
            "linecolor": "white",
            "ticks": ""
           },
           "bgcolor": "#E5ECF6",
           "radialaxis": {
            "gridcolor": "white",
            "linecolor": "white",
            "ticks": ""
           }
          },
          "scene": {
           "xaxis": {
            "backgroundcolor": "#E5ECF6",
            "gridcolor": "white",
            "gridwidth": 2,
            "linecolor": "white",
            "showbackground": true,
            "ticks": "",
            "zerolinecolor": "white"
           },
           "yaxis": {
            "backgroundcolor": "#E5ECF6",
            "gridcolor": "white",
            "gridwidth": 2,
            "linecolor": "white",
            "showbackground": true,
            "ticks": "",
            "zerolinecolor": "white"
           },
           "zaxis": {
            "backgroundcolor": "#E5ECF6",
            "gridcolor": "white",
            "gridwidth": 2,
            "linecolor": "white",
            "showbackground": true,
            "ticks": "",
            "zerolinecolor": "white"
           }
          },
          "shapedefaults": {
           "line": {
            "color": "#2a3f5f"
           }
          },
          "ternary": {
           "aaxis": {
            "gridcolor": "white",
            "linecolor": "white",
            "ticks": ""
           },
           "baxis": {
            "gridcolor": "white",
            "linecolor": "white",
            "ticks": ""
           },
           "bgcolor": "#E5ECF6",
           "caxis": {
            "gridcolor": "white",
            "linecolor": "white",
            "ticks": ""
           }
          },
          "title": {
           "x": 0.05
          },
          "xaxis": {
           "automargin": true,
           "gridcolor": "white",
           "linecolor": "white",
           "ticks": "",
           "title": {
            "standoff": 15
           },
           "zerolinecolor": "white",
           "zerolinewidth": 2
          },
          "yaxis": {
           "automargin": true,
           "gridcolor": "white",
           "linecolor": "white",
           "ticks": "",
           "title": {
            "standoff": 15
           },
           "zerolinecolor": "white",
           "zerolinewidth": 2
          }
         }
        },
        "width": 1350,
        "xaxis": {
         "anchor": "y",
         "categoryarray": [
          "5G",
          "Biotechnology",
          "CEF",
          "Cloud Retail Apps",
          "Dividend",
          "Electric Vehicles",
          "Electricity Solar",
          "Electricity Wind",
          "Energy Renewalbe",
          "Insurance",
          "Mega Capital",
          "REIT",
          "Semiconductors"
         ],
         "categoryorder": "array",
         "domain": [
          0,
          1
         ],
         "range": [
          0,
          13
         ],
         "title": {
          "text": "portfolio"
         }
        },
        "yaxis": {
         "anchor": "x",
         "domain": [
          0,
          1
         ],
         "range": [
          -20.29,
          90.625
         ],
         "title": {
          "text": "percent"
         }
        }
       }
      },
      "text/html": [
       "<div>\n",
       "        \n",
       "        \n",
       "            <div id=\"f2853faa-925c-44e0-a4b5-b227b57427a1\" class=\"plotly-graph-div\" style=\"height:800px; width:1350px;\"></div>\n",
       "            <script type=\"text/javascript\">\n",
       "                require([\"plotly\"], function(Plotly) {\n",
       "                    window.PLOTLYENV=window.PLOTLYENV || {};\n",
       "                    \n",
       "                if (document.getElementById(\"f2853faa-925c-44e0-a4b5-b227b57427a1\")) {\n",
       "                    Plotly.newPlot(\n",
       "                        'f2853faa-925c-44e0-a4b5-b227b57427a1',\n",
       "                        [{\"hoverlabel\": {\"namelength\": 0}, \"hovertemplate\": \"<b>%{hovertext}</b><br><br>portfolio=%{x}<br>ndays=1<br>percent=%{y}<br>volume=%{marker.size}\", \"hovertext\": [\"5G\"], \"ids\": [1], \"legendgroup\": \"5G\", \"marker\": {\"color\": \"#636efa\", \"size\": [670334.0], \"sizemode\": \"area\", \"sizeref\": 6828.697520661157, \"symbol\": \"circle\"}, \"mode\": \"markers\", \"name\": \"5G\", \"showlegend\": true, \"type\": \"scatter\", \"x\": [\"5G\"], \"xaxis\": \"x\", \"y\": [1.05], \"yaxis\": \"y\"}, {\"hoverlabel\": {\"namelength\": 0}, \"hovertemplate\": \"<b>%{hovertext}</b><br><br>portfolio=%{x}<br>ndays=1<br>percent=%{y}<br>volume=%{marker.size}\", \"hovertext\": [\"Biotechnology\"], \"ids\": [1], \"legendgroup\": \"Biotechnology\", \"marker\": {\"color\": \"#EF553B\", \"size\": [4346686.0], \"sizemode\": \"area\", \"sizeref\": 6828.697520661157, \"symbol\": \"circle\"}, \"mode\": \"markers\", \"name\": \"Biotechnology\", \"showlegend\": true, \"type\": \"scatter\", \"x\": [\"Biotechnology\"], \"xaxis\": \"x\", \"y\": [0.66], \"yaxis\": \"y\"}, {\"hoverlabel\": {\"namelength\": 0}, \"hovertemplate\": \"<b>%{hovertext}</b><br><br>portfolio=%{x}<br>ndays=1<br>percent=%{y}<br>volume=%{marker.size}\", \"hovertext\": [\"CEF\"], \"ids\": [1], \"legendgroup\": \"CEF\", \"marker\": {\"color\": \"#00cc96\", \"size\": [26492.0], \"sizemode\": \"area\", \"sizeref\": 6828.697520661157, \"symbol\": \"circle\"}, \"mode\": \"markers\", \"name\": \"CEF\", \"showlegend\": true, \"type\": \"scatter\", \"x\": [\"CEF\"], \"xaxis\": \"x\", \"y\": [0.45], \"yaxis\": \"y\"}, {\"hoverlabel\": {\"namelength\": 0}, \"hovertemplate\": \"<b>%{hovertext}</b><br><br>portfolio=%{x}<br>ndays=1<br>percent=%{y}<br>volume=%{marker.size}\", \"hovertext\": [\"Cloud Retail Apps\"], \"ids\": [1], \"legendgroup\": \"Cloud Retail Apps\", \"marker\": {\"color\": \"#ab63fa\", \"size\": [776911.0], \"sizemode\": \"area\", \"sizeref\": 6828.697520661157, \"symbol\": \"circle\"}, \"mode\": \"markers\", \"name\": \"Cloud Retail Apps\", \"showlegend\": true, \"type\": \"scatter\", \"x\": [\"Cloud Retail Apps\"], \"xaxis\": \"x\", \"y\": [1.09], \"yaxis\": \"y\"}, {\"hoverlabel\": {\"namelength\": 0}, \"hovertemplate\": \"<b>%{hovertext}</b><br><br>portfolio=%{x}<br>ndays=1<br>percent=%{y}<br>volume=%{marker.size}\", \"hovertext\": [\"Dividend\"], \"ids\": [1], \"legendgroup\": \"Dividend\", \"marker\": {\"color\": \"#FFA15A\", \"size\": [23303.5], \"sizemode\": \"area\", \"sizeref\": 6828.697520661157, \"symbol\": \"circle\"}, \"mode\": \"markers\", \"name\": \"Dividend\", \"showlegend\": true, \"type\": \"scatter\", \"x\": [\"Dividend\"], \"xaxis\": \"x\", \"y\": [0.9850000000000001], \"yaxis\": \"y\"}, {\"hoverlabel\": {\"namelength\": 0}, \"hovertemplate\": \"<b>%{hovertext}</b><br><br>portfolio=%{x}<br>ndays=1<br>percent=%{y}<br>volume=%{marker.size}\", \"hovertext\": [\"Electric Vehicles\"], \"ids\": [1], \"legendgroup\": \"Electric Vehicles\", \"marker\": {\"color\": \"#19d3f3\", \"size\": [13509980.5], \"sizemode\": \"area\", \"sizeref\": 6828.697520661157, \"symbol\": \"circle\"}, \"mode\": \"markers\", \"name\": \"Electric Vehicles\", \"showlegend\": true, \"type\": \"scatter\", \"x\": [\"Electric Vehicles\"], \"xaxis\": \"x\", \"y\": [-3.025], \"yaxis\": \"y\"}, {\"hoverlabel\": {\"namelength\": 0}, \"hovertemplate\": \"<b>%{hovertext}</b><br><br>portfolio=%{x}<br>ndays=1<br>percent=%{y}<br>volume=%{marker.size}\", \"hovertext\": [\"Electricity Solar\"], \"ids\": [1], \"legendgroup\": \"Electricity Solar\", \"marker\": {\"color\": \"#FF6692\", \"size\": [2891608.2], \"sizemode\": \"area\", \"sizeref\": 6828.697520661157, \"symbol\": \"circle\"}, \"mode\": \"markers\", \"name\": \"Electricity Solar\", \"showlegend\": true, \"type\": \"scatter\", \"x\": [\"Electricity Solar\"], \"xaxis\": \"x\", \"y\": [2.138], \"yaxis\": \"y\"}, {\"hoverlabel\": {\"namelength\": 0}, \"hovertemplate\": \"<b>%{hovertext}</b><br><br>portfolio=%{x}<br>ndays=1<br>percent=%{y}<br>volume=%{marker.size}\", \"hovertext\": [\"Electricity Wind\"], \"ids\": [1], \"legendgroup\": \"Electricity Wind\", \"marker\": {\"color\": \"#B6E880\", \"size\": [38741.0], \"sizemode\": \"area\", \"sizeref\": 6828.697520661157, \"symbol\": \"circle\"}, \"mode\": \"markers\", \"name\": \"Electricity Wind\", \"showlegend\": true, \"type\": \"scatter\", \"x\": [\"Electricity Wind\"], \"xaxis\": \"x\", \"y\": [3.73], \"yaxis\": \"y\"}, {\"hoverlabel\": {\"namelength\": 0}, \"hovertemplate\": \"<b>%{hovertext}</b><br><br>portfolio=%{x}<br>ndays=1<br>percent=%{y}<br>volume=%{marker.size}\", \"hovertext\": [\"Energy Renewalbe\"], \"ids\": [1], \"legendgroup\": \"Energy Renewalbe\", \"marker\": {\"color\": \"#FF97FF\", \"size\": [128533.0], \"sizemode\": \"area\", \"sizeref\": 6828.697520661157, \"symbol\": \"circle\"}, \"mode\": \"markers\", \"name\": \"Energy Renewalbe\", \"showlegend\": true, \"type\": \"scatter\", \"x\": [\"Energy Renewalbe\"], \"xaxis\": \"x\", \"y\": [2.3], \"yaxis\": \"y\"}, {\"hoverlabel\": {\"namelength\": 0}, \"hovertemplate\": \"<b>%{hovertext}</b><br><br>portfolio=%{x}<br>ndays=1<br>percent=%{y}<br>volume=%{marker.size}\", \"hovertext\": [\"Insurance\"], \"ids\": [1], \"legendgroup\": \"Insurance\", \"marker\": {\"color\": \"#FECB52\", \"size\": [1459008.0], \"sizemode\": \"area\", \"sizeref\": 6828.697520661157, \"symbol\": \"circle\"}, \"mode\": \"markers\", \"name\": \"Insurance\", \"showlegend\": true, \"type\": \"scatter\", \"x\": [\"Insurance\"], \"xaxis\": \"x\", \"y\": [10.13], \"yaxis\": \"y\"}, {\"hoverlabel\": {\"namelength\": 0}, \"hovertemplate\": \"<b>%{hovertext}</b><br><br>portfolio=%{x}<br>ndays=1<br>percent=%{y}<br>volume=%{marker.size}\", \"hovertext\": [\"Mega Capital\"], \"ids\": [1], \"legendgroup\": \"Mega Capital\", \"marker\": {\"color\": \"#636efa\", \"size\": [20656810.0], \"sizemode\": \"area\", \"sizeref\": 6828.697520661157, \"symbol\": \"circle\"}, \"mode\": \"markers\", \"name\": \"Mega Capital\", \"showlegend\": true, \"type\": \"scatter\", \"x\": [\"Mega Capital\"], \"xaxis\": \"x\", \"y\": [0.48], \"yaxis\": \"y\"}, {\"hoverlabel\": {\"namelength\": 0}, \"hovertemplate\": \"<b>%{hovertext}</b><br><br>portfolio=%{x}<br>ndays=1<br>percent=%{y}<br>volume=%{marker.size}\", \"hovertext\": [\"REIT\"], \"ids\": [1], \"legendgroup\": \"REIT\", \"marker\": {\"color\": \"#EF553B\", \"size\": [3393063.0], \"sizemode\": \"area\", \"sizeref\": 6828.697520661157, \"symbol\": \"circle\"}, \"mode\": \"markers\", \"name\": \"REIT\", \"showlegend\": true, \"type\": \"scatter\", \"x\": [\"REIT\"], \"xaxis\": \"x\", \"y\": [6.55], \"yaxis\": \"y\"}, {\"hoverlabel\": {\"namelength\": 0}, \"hovertemplate\": \"<b>%{hovertext}</b><br><br>portfolio=%{x}<br>ndays=1<br>percent=%{y}<br>volume=%{marker.size}\", \"hovertext\": [\"Semiconductors\"], \"ids\": [1], \"legendgroup\": \"Semiconductors\", \"marker\": {\"color\": \"#00cc96\", \"size\": [3895649.3333333335], \"sizemode\": \"area\", \"sizeref\": 6828.697520661157, \"symbol\": \"circle\"}, \"mode\": \"markers\", \"name\": \"Semiconductors\", \"showlegend\": true, \"type\": \"scatter\", \"x\": [\"Semiconductors\"], \"xaxis\": \"x\", \"y\": [0.4366666666666667], \"yaxis\": \"y\"}],\n",
       "                        {\"height\": 800, \"legend\": {\"itemsizing\": \"constant\", \"title\": {\"text\": \"portfolio\"}, \"tracegroupgap\": 0}, \"margin\": {\"t\": 60}, \"sliders\": [{\"active\": 0, \"currentvalue\": {\"prefix\": \"ndays=\"}, \"len\": 0.9, \"pad\": {\"b\": 10, \"t\": 60}, \"steps\": [{\"args\": [[\"1\"], {\"frame\": {\"duration\": 0, \"redraw\": false}, \"fromcurrent\": true, \"mode\": \"immediate\", \"transition\": {\"duration\": 0, \"easing\": \"linear\"}}], \"label\": \"1\", \"method\": \"animate\"}, {\"args\": [[\"6\"], {\"frame\": {\"duration\": 0, \"redraw\": false}, \"fromcurrent\": true, \"mode\": \"immediate\", \"transition\": {\"duration\": 0, \"easing\": \"linear\"}}], \"label\": \"6\", \"method\": \"animate\"}, {\"args\": [[\"11\"], {\"frame\": {\"duration\": 0, \"redraw\": false}, \"fromcurrent\": true, \"mode\": \"immediate\", \"transition\": {\"duration\": 0, \"easing\": \"linear\"}}], \"label\": \"11\", \"method\": \"animate\"}, {\"args\": [[\"16\"], {\"frame\": {\"duration\": 0, \"redraw\": false}, \"fromcurrent\": true, \"mode\": \"immediate\", \"transition\": {\"duration\": 0, \"easing\": \"linear\"}}], \"label\": \"16\", \"method\": \"animate\"}, {\"args\": [[\"21\"], {\"frame\": {\"duration\": 0, \"redraw\": false}, \"fromcurrent\": true, \"mode\": \"immediate\", \"transition\": {\"duration\": 0, \"easing\": \"linear\"}}], \"label\": \"21\", \"method\": \"animate\"}, {\"args\": [[\"26\"], {\"frame\": {\"duration\": 0, \"redraw\": false}, \"fromcurrent\": true, \"mode\": \"immediate\", \"transition\": {\"duration\": 0, \"easing\": \"linear\"}}], \"label\": \"26\", \"method\": \"animate\"}, {\"args\": [[\"31\"], {\"frame\": {\"duration\": 0, \"redraw\": false}, \"fromcurrent\": true, \"mode\": \"immediate\", \"transition\": {\"duration\": 0, \"easing\": \"linear\"}}], \"label\": \"31\", \"method\": \"animate\"}, {\"args\": [[\"36\"], {\"frame\": {\"duration\": 0, \"redraw\": false}, \"fromcurrent\": true, \"mode\": \"immediate\", \"transition\": {\"duration\": 0, \"easing\": \"linear\"}}], \"label\": \"36\", \"method\": \"animate\"}, {\"args\": [[\"41\"], {\"frame\": {\"duration\": 0, \"redraw\": false}, \"fromcurrent\": true, \"mode\": \"immediate\", \"transition\": {\"duration\": 0, \"easing\": \"linear\"}}], \"label\": \"41\", \"method\": \"animate\"}], \"x\": 0.1, \"xanchor\": \"left\", \"y\": 0, \"yanchor\": \"top\"}], \"template\": {\"data\": {\"bar\": [{\"error_x\": {\"color\": \"#2a3f5f\"}, \"error_y\": {\"color\": \"#2a3f5f\"}, \"marker\": {\"line\": {\"color\": \"#E5ECF6\", \"width\": 0.5}}, \"type\": \"bar\"}], \"barpolar\": [{\"marker\": {\"line\": {\"color\": \"#E5ECF6\", \"width\": 0.5}}, \"type\": \"barpolar\"}], \"carpet\": [{\"aaxis\": {\"endlinecolor\": \"#2a3f5f\", \"gridcolor\": \"white\", \"linecolor\": \"white\", \"minorgridcolor\": \"white\", \"startlinecolor\": \"#2a3f5f\"}, \"baxis\": {\"endlinecolor\": \"#2a3f5f\", \"gridcolor\": \"white\", \"linecolor\": \"white\", \"minorgridcolor\": \"white\", \"startlinecolor\": \"#2a3f5f\"}, \"type\": \"carpet\"}], \"choropleth\": [{\"colorbar\": {\"outlinewidth\": 0, \"ticks\": \"\"}, \"type\": \"choropleth\"}], \"contour\": [{\"colorbar\": {\"outlinewidth\": 0, \"ticks\": \"\"}, \"colorscale\": [[0.0, \"#0d0887\"], [0.1111111111111111, \"#46039f\"], [0.2222222222222222, \"#7201a8\"], [0.3333333333333333, \"#9c179e\"], [0.4444444444444444, \"#bd3786\"], [0.5555555555555556, \"#d8576b\"], [0.6666666666666666, \"#ed7953\"], [0.7777777777777778, \"#fb9f3a\"], [0.8888888888888888, \"#fdca26\"], [1.0, \"#f0f921\"]], \"type\": \"contour\"}], \"contourcarpet\": [{\"colorbar\": {\"outlinewidth\": 0, \"ticks\": \"\"}, \"type\": \"contourcarpet\"}], \"heatmap\": [{\"colorbar\": {\"outlinewidth\": 0, \"ticks\": \"\"}, \"colorscale\": [[0.0, \"#0d0887\"], [0.1111111111111111, \"#46039f\"], [0.2222222222222222, \"#7201a8\"], [0.3333333333333333, \"#9c179e\"], [0.4444444444444444, \"#bd3786\"], [0.5555555555555556, \"#d8576b\"], [0.6666666666666666, \"#ed7953\"], [0.7777777777777778, \"#fb9f3a\"], [0.8888888888888888, \"#fdca26\"], [1.0, \"#f0f921\"]], \"type\": \"heatmap\"}], \"heatmapgl\": [{\"colorbar\": {\"outlinewidth\": 0, \"ticks\": \"\"}, \"colorscale\": [[0.0, \"#0d0887\"], [0.1111111111111111, \"#46039f\"], [0.2222222222222222, \"#7201a8\"], [0.3333333333333333, \"#9c179e\"], [0.4444444444444444, \"#bd3786\"], [0.5555555555555556, \"#d8576b\"], [0.6666666666666666, \"#ed7953\"], [0.7777777777777778, \"#fb9f3a\"], [0.8888888888888888, \"#fdca26\"], [1.0, \"#f0f921\"]], \"type\": \"heatmapgl\"}], \"histogram\": [{\"marker\": {\"colorbar\": {\"outlinewidth\": 0, \"ticks\": \"\"}}, \"type\": \"histogram\"}], \"histogram2d\": [{\"colorbar\": {\"outlinewidth\": 0, \"ticks\": \"\"}, \"colorscale\": [[0.0, \"#0d0887\"], [0.1111111111111111, \"#46039f\"], [0.2222222222222222, \"#7201a8\"], [0.3333333333333333, \"#9c179e\"], [0.4444444444444444, \"#bd3786\"], [0.5555555555555556, \"#d8576b\"], [0.6666666666666666, \"#ed7953\"], [0.7777777777777778, \"#fb9f3a\"], [0.8888888888888888, \"#fdca26\"], [1.0, \"#f0f921\"]], \"type\": \"histogram2d\"}], \"histogram2dcontour\": [{\"colorbar\": {\"outlinewidth\": 0, \"ticks\": \"\"}, \"colorscale\": [[0.0, \"#0d0887\"], [0.1111111111111111, \"#46039f\"], [0.2222222222222222, \"#7201a8\"], [0.3333333333333333, \"#9c179e\"], [0.4444444444444444, \"#bd3786\"], [0.5555555555555556, \"#d8576b\"], [0.6666666666666666, \"#ed7953\"], [0.7777777777777778, \"#fb9f3a\"], [0.8888888888888888, \"#fdca26\"], [1.0, \"#f0f921\"]], \"type\": \"histogram2dcontour\"}], \"mesh3d\": [{\"colorbar\": {\"outlinewidth\": 0, \"ticks\": \"\"}, \"type\": \"mesh3d\"}], \"parcoords\": [{\"line\": {\"colorbar\": {\"outlinewidth\": 0, \"ticks\": \"\"}}, \"type\": \"parcoords\"}], \"pie\": [{\"automargin\": true, \"type\": \"pie\"}], \"scatter\": [{\"marker\": {\"colorbar\": {\"outlinewidth\": 0, \"ticks\": \"\"}}, \"type\": \"scatter\"}], \"scatter3d\": [{\"line\": {\"colorbar\": {\"outlinewidth\": 0, \"ticks\": \"\"}}, \"marker\": {\"colorbar\": {\"outlinewidth\": 0, \"ticks\": \"\"}}, \"type\": \"scatter3d\"}], \"scattercarpet\": [{\"marker\": {\"colorbar\": {\"outlinewidth\": 0, \"ticks\": \"\"}}, \"type\": \"scattercarpet\"}], \"scattergeo\": [{\"marker\": {\"colorbar\": {\"outlinewidth\": 0, \"ticks\": \"\"}}, \"type\": \"scattergeo\"}], \"scattergl\": [{\"marker\": {\"colorbar\": {\"outlinewidth\": 0, \"ticks\": \"\"}}, \"type\": \"scattergl\"}], \"scattermapbox\": [{\"marker\": {\"colorbar\": {\"outlinewidth\": 0, \"ticks\": \"\"}}, \"type\": \"scattermapbox\"}], \"scatterpolar\": [{\"marker\": {\"colorbar\": {\"outlinewidth\": 0, \"ticks\": \"\"}}, \"type\": \"scatterpolar\"}], \"scatterpolargl\": [{\"marker\": {\"colorbar\": {\"outlinewidth\": 0, \"ticks\": \"\"}}, \"type\": \"scatterpolargl\"}], \"scatterternary\": [{\"marker\": {\"colorbar\": {\"outlinewidth\": 0, \"ticks\": \"\"}}, \"type\": \"scatterternary\"}], \"surface\": [{\"colorbar\": {\"outlinewidth\": 0, \"ticks\": \"\"}, \"colorscale\": [[0.0, \"#0d0887\"], [0.1111111111111111, \"#46039f\"], [0.2222222222222222, \"#7201a8\"], [0.3333333333333333, \"#9c179e\"], [0.4444444444444444, \"#bd3786\"], [0.5555555555555556, \"#d8576b\"], [0.6666666666666666, \"#ed7953\"], [0.7777777777777778, \"#fb9f3a\"], [0.8888888888888888, \"#fdca26\"], [1.0, \"#f0f921\"]], \"type\": \"surface\"}], \"table\": [{\"cells\": {\"fill\": {\"color\": \"#EBF0F8\"}, \"line\": {\"color\": \"white\"}}, \"header\": {\"fill\": {\"color\": \"#C8D4E3\"}, \"line\": {\"color\": \"white\"}}, \"type\": \"table\"}]}, \"layout\": {\"annotationdefaults\": {\"arrowcolor\": \"#2a3f5f\", \"arrowhead\": 0, \"arrowwidth\": 1}, \"coloraxis\": {\"colorbar\": {\"outlinewidth\": 0, \"ticks\": \"\"}}, \"colorscale\": {\"diverging\": [[0, \"#8e0152\"], [0.1, \"#c51b7d\"], [0.2, \"#de77ae\"], [0.3, \"#f1b6da\"], [0.4, \"#fde0ef\"], [0.5, \"#f7f7f7\"], [0.6, \"#e6f5d0\"], [0.7, \"#b8e186\"], [0.8, \"#7fbc41\"], [0.9, \"#4d9221\"], [1, \"#276419\"]], \"sequential\": [[0.0, \"#0d0887\"], [0.1111111111111111, \"#46039f\"], [0.2222222222222222, \"#7201a8\"], [0.3333333333333333, \"#9c179e\"], [0.4444444444444444, \"#bd3786\"], [0.5555555555555556, \"#d8576b\"], [0.6666666666666666, \"#ed7953\"], [0.7777777777777778, \"#fb9f3a\"], [0.8888888888888888, \"#fdca26\"], [1.0, \"#f0f921\"]], \"sequentialminus\": [[0.0, \"#0d0887\"], [0.1111111111111111, \"#46039f\"], [0.2222222222222222, \"#7201a8\"], [0.3333333333333333, \"#9c179e\"], [0.4444444444444444, \"#bd3786\"], [0.5555555555555556, \"#d8576b\"], [0.6666666666666666, \"#ed7953\"], [0.7777777777777778, \"#fb9f3a\"], [0.8888888888888888, \"#fdca26\"], [1.0, \"#f0f921\"]]}, \"colorway\": [\"#636efa\", \"#EF553B\", \"#00cc96\", \"#ab63fa\", \"#FFA15A\", \"#19d3f3\", \"#FF6692\", \"#B6E880\", \"#FF97FF\", \"#FECB52\"], \"font\": {\"color\": \"#2a3f5f\"}, \"geo\": {\"bgcolor\": \"white\", \"lakecolor\": \"white\", \"landcolor\": \"#E5ECF6\", \"showlakes\": true, \"showland\": true, \"subunitcolor\": \"white\"}, \"hoverlabel\": {\"align\": \"left\"}, \"hovermode\": \"closest\", \"mapbox\": {\"style\": \"light\"}, \"paper_bgcolor\": \"white\", \"plot_bgcolor\": \"#E5ECF6\", \"polar\": {\"angularaxis\": {\"gridcolor\": \"white\", \"linecolor\": \"white\", \"ticks\": \"\"}, \"bgcolor\": \"#E5ECF6\", \"radialaxis\": {\"gridcolor\": \"white\", \"linecolor\": \"white\", \"ticks\": \"\"}}, \"scene\": {\"xaxis\": {\"backgroundcolor\": \"#E5ECF6\", \"gridcolor\": \"white\", \"gridwidth\": 2, \"linecolor\": \"white\", \"showbackground\": true, \"ticks\": \"\", \"zerolinecolor\": \"white\"}, \"yaxis\": {\"backgroundcolor\": \"#E5ECF6\", \"gridcolor\": \"white\", \"gridwidth\": 2, \"linecolor\": \"white\", \"showbackground\": true, \"ticks\": \"\", \"zerolinecolor\": \"white\"}, \"zaxis\": {\"backgroundcolor\": \"#E5ECF6\", \"gridcolor\": \"white\", \"gridwidth\": 2, \"linecolor\": \"white\", \"showbackground\": true, \"ticks\": \"\", \"zerolinecolor\": \"white\"}}, \"shapedefaults\": {\"line\": {\"color\": \"#2a3f5f\"}}, \"ternary\": {\"aaxis\": {\"gridcolor\": \"white\", \"linecolor\": \"white\", \"ticks\": \"\"}, \"baxis\": {\"gridcolor\": \"white\", \"linecolor\": \"white\", \"ticks\": \"\"}, \"bgcolor\": \"#E5ECF6\", \"caxis\": {\"gridcolor\": \"white\", \"linecolor\": \"white\", \"ticks\": \"\"}}, \"title\": {\"x\": 0.05}, \"xaxis\": {\"automargin\": true, \"gridcolor\": \"white\", \"linecolor\": \"white\", \"ticks\": \"\", \"title\": {\"standoff\": 15}, \"zerolinecolor\": \"white\", \"zerolinewidth\": 2}, \"yaxis\": {\"automargin\": true, \"gridcolor\": \"white\", \"linecolor\": \"white\", \"ticks\": \"\", \"title\": {\"standoff\": 15}, \"zerolinecolor\": \"white\", \"zerolinewidth\": 2}}}, \"width\": 1350, \"xaxis\": {\"anchor\": \"y\", \"categoryarray\": [\"5G\", \"Biotechnology\", \"CEF\", \"Cloud Retail Apps\", \"Dividend\", \"Electric Vehicles\", \"Electricity Solar\", \"Electricity Wind\", \"Energy Renewalbe\", \"Insurance\", \"Mega Capital\", \"REIT\", \"Semiconductors\"], \"categoryorder\": \"array\", \"domain\": [0.0, 1.0], \"range\": [0, 13], \"title\": {\"text\": \"portfolio\"}}, \"yaxis\": {\"anchor\": \"x\", \"domain\": [0.0, 1.0], \"range\": [-20.29, 90.625], \"title\": {\"text\": \"percent\"}}},\n",
       "                        {\"responsive\": true}\n",
       "                    ).then(function(){\n",
       "                            Plotly.addFrames('f2853faa-925c-44e0-a4b5-b227b57427a1', [{\"data\": [{\"hoverlabel\": {\"namelength\": 0}, \"hovertemplate\": \"<b>%{hovertext}</b><br><br>portfolio=%{x}<br>ndays=1<br>percent=%{y}<br>volume=%{marker.size}\", \"hovertext\": [\"5G\"], \"ids\": [1], \"legendgroup\": \"5G\", \"marker\": {\"color\": \"#636efa\", \"size\": [670334.0], \"sizemode\": \"area\", \"sizeref\": 6828.697520661157, \"symbol\": \"circle\"}, \"mode\": \"markers\", \"name\": \"5G\", \"showlegend\": true, \"x\": [\"5G\"], \"xaxis\": \"x\", \"y\": [1.05], \"yaxis\": \"y\", \"type\": \"scatter\"}, {\"hoverlabel\": {\"namelength\": 0}, \"hovertemplate\": \"<b>%{hovertext}</b><br><br>portfolio=%{x}<br>ndays=1<br>percent=%{y}<br>volume=%{marker.size}\", \"hovertext\": [\"Biotechnology\"], \"ids\": [1], \"legendgroup\": \"Biotechnology\", \"marker\": {\"color\": \"#EF553B\", \"size\": [4346686.0], \"sizemode\": \"area\", \"sizeref\": 6828.697520661157, \"symbol\": \"circle\"}, \"mode\": \"markers\", \"name\": \"Biotechnology\", \"showlegend\": true, \"x\": [\"Biotechnology\"], \"xaxis\": \"x\", \"y\": [0.66], \"yaxis\": \"y\", \"type\": \"scatter\"}, {\"hoverlabel\": {\"namelength\": 0}, \"hovertemplate\": \"<b>%{hovertext}</b><br><br>portfolio=%{x}<br>ndays=1<br>percent=%{y}<br>volume=%{marker.size}\", \"hovertext\": [\"CEF\"], \"ids\": [1], \"legendgroup\": \"CEF\", \"marker\": {\"color\": \"#00cc96\", \"size\": [26492.0], \"sizemode\": \"area\", \"sizeref\": 6828.697520661157, \"symbol\": \"circle\"}, \"mode\": \"markers\", \"name\": \"CEF\", \"showlegend\": true, \"x\": [\"CEF\"], \"xaxis\": \"x\", \"y\": [0.45], \"yaxis\": \"y\", \"type\": \"scatter\"}, {\"hoverlabel\": {\"namelength\": 0}, \"hovertemplate\": \"<b>%{hovertext}</b><br><br>portfolio=%{x}<br>ndays=1<br>percent=%{y}<br>volume=%{marker.size}\", \"hovertext\": [\"Cloud Retail Apps\"], \"ids\": [1], \"legendgroup\": \"Cloud Retail Apps\", \"marker\": {\"color\": \"#ab63fa\", \"size\": [776911.0], \"sizemode\": \"area\", \"sizeref\": 6828.697520661157, \"symbol\": \"circle\"}, \"mode\": \"markers\", \"name\": \"Cloud Retail Apps\", \"showlegend\": true, \"x\": [\"Cloud Retail Apps\"], \"xaxis\": \"x\", \"y\": [1.09], \"yaxis\": \"y\", \"type\": \"scatter\"}, {\"hoverlabel\": {\"namelength\": 0}, \"hovertemplate\": \"<b>%{hovertext}</b><br><br>portfolio=%{x}<br>ndays=1<br>percent=%{y}<br>volume=%{marker.size}\", \"hovertext\": [\"Dividend\"], \"ids\": [1], \"legendgroup\": \"Dividend\", \"marker\": {\"color\": \"#FFA15A\", \"size\": [23303.5], \"sizemode\": \"area\", \"sizeref\": 6828.697520661157, \"symbol\": \"circle\"}, \"mode\": \"markers\", \"name\": \"Dividend\", \"showlegend\": true, \"x\": [\"Dividend\"], \"xaxis\": \"x\", \"y\": [0.9850000000000001], \"yaxis\": \"y\", \"type\": \"scatter\"}, {\"hoverlabel\": {\"namelength\": 0}, \"hovertemplate\": \"<b>%{hovertext}</b><br><br>portfolio=%{x}<br>ndays=1<br>percent=%{y}<br>volume=%{marker.size}\", \"hovertext\": [\"Electric Vehicles\"], \"ids\": [1], \"legendgroup\": \"Electric Vehicles\", \"marker\": {\"color\": \"#19d3f3\", \"size\": [13509980.5], \"sizemode\": \"area\", \"sizeref\": 6828.697520661157, \"symbol\": \"circle\"}, \"mode\": \"markers\", \"name\": \"Electric Vehicles\", \"showlegend\": true, \"x\": [\"Electric Vehicles\"], \"xaxis\": \"x\", \"y\": [-3.025], \"yaxis\": \"y\", \"type\": \"scatter\"}, {\"hoverlabel\": {\"namelength\": 0}, \"hovertemplate\": \"<b>%{hovertext}</b><br><br>portfolio=%{x}<br>ndays=1<br>percent=%{y}<br>volume=%{marker.size}\", \"hovertext\": [\"Electricity Solar\"], \"ids\": [1], \"legendgroup\": \"Electricity Solar\", \"marker\": {\"color\": \"#FF6692\", \"size\": [2891608.2], \"sizemode\": \"area\", \"sizeref\": 6828.697520661157, \"symbol\": \"circle\"}, \"mode\": \"markers\", \"name\": \"Electricity Solar\", \"showlegend\": true, \"x\": [\"Electricity Solar\"], \"xaxis\": \"x\", \"y\": [2.138], \"yaxis\": \"y\", \"type\": \"scatter\"}, {\"hoverlabel\": {\"namelength\": 0}, \"hovertemplate\": \"<b>%{hovertext}</b><br><br>portfolio=%{x}<br>ndays=1<br>percent=%{y}<br>volume=%{marker.size}\", \"hovertext\": [\"Electricity Wind\"], \"ids\": [1], \"legendgroup\": \"Electricity Wind\", \"marker\": {\"color\": \"#B6E880\", \"size\": [38741.0], \"sizemode\": \"area\", \"sizeref\": 6828.697520661157, \"symbol\": \"circle\"}, \"mode\": \"markers\", \"name\": \"Electricity Wind\", \"showlegend\": true, \"x\": [\"Electricity Wind\"], \"xaxis\": \"x\", \"y\": [3.73], \"yaxis\": \"y\", \"type\": \"scatter\"}, {\"hoverlabel\": {\"namelength\": 0}, \"hovertemplate\": \"<b>%{hovertext}</b><br><br>portfolio=%{x}<br>ndays=1<br>percent=%{y}<br>volume=%{marker.size}\", \"hovertext\": [\"Energy Renewalbe\"], \"ids\": [1], \"legendgroup\": \"Energy Renewalbe\", \"marker\": {\"color\": \"#FF97FF\", \"size\": [128533.0], \"sizemode\": \"area\", \"sizeref\": 6828.697520661157, \"symbol\": \"circle\"}, \"mode\": \"markers\", \"name\": \"Energy Renewalbe\", \"showlegend\": true, \"x\": [\"Energy Renewalbe\"], \"xaxis\": \"x\", \"y\": [2.3], \"yaxis\": \"y\", \"type\": \"scatter\"}, {\"hoverlabel\": {\"namelength\": 0}, \"hovertemplate\": \"<b>%{hovertext}</b><br><br>portfolio=%{x}<br>ndays=1<br>percent=%{y}<br>volume=%{marker.size}\", \"hovertext\": [\"Insurance\"], \"ids\": [1], \"legendgroup\": \"Insurance\", \"marker\": {\"color\": \"#FECB52\", \"size\": [1459008.0], \"sizemode\": \"area\", \"sizeref\": 6828.697520661157, \"symbol\": \"circle\"}, \"mode\": \"markers\", \"name\": \"Insurance\", \"showlegend\": true, \"x\": [\"Insurance\"], \"xaxis\": \"x\", \"y\": [10.13], \"yaxis\": \"y\", \"type\": \"scatter\"}, {\"hoverlabel\": {\"namelength\": 0}, \"hovertemplate\": \"<b>%{hovertext}</b><br><br>portfolio=%{x}<br>ndays=1<br>percent=%{y}<br>volume=%{marker.size}\", \"hovertext\": [\"Mega Capital\"], \"ids\": [1], \"legendgroup\": \"Mega Capital\", \"marker\": {\"color\": \"#636efa\", \"size\": [20656810.0], \"sizemode\": \"area\", \"sizeref\": 6828.697520661157, \"symbol\": \"circle\"}, \"mode\": \"markers\", \"name\": \"Mega Capital\", \"showlegend\": true, \"x\": [\"Mega Capital\"], \"xaxis\": \"x\", \"y\": [0.48], \"yaxis\": \"y\", \"type\": \"scatter\"}, {\"hoverlabel\": {\"namelength\": 0}, \"hovertemplate\": \"<b>%{hovertext}</b><br><br>portfolio=%{x}<br>ndays=1<br>percent=%{y}<br>volume=%{marker.size}\", \"hovertext\": [\"REIT\"], \"ids\": [1], \"legendgroup\": \"REIT\", \"marker\": {\"color\": \"#EF553B\", \"size\": [3393063.0], \"sizemode\": \"area\", \"sizeref\": 6828.697520661157, \"symbol\": \"circle\"}, \"mode\": \"markers\", \"name\": \"REIT\", \"showlegend\": true, \"x\": [\"REIT\"], \"xaxis\": \"x\", \"y\": [6.55], \"yaxis\": \"y\", \"type\": \"scatter\"}, {\"hoverlabel\": {\"namelength\": 0}, \"hovertemplate\": \"<b>%{hovertext}</b><br><br>portfolio=%{x}<br>ndays=1<br>percent=%{y}<br>volume=%{marker.size}\", \"hovertext\": [\"Semiconductors\"], \"ids\": [1], \"legendgroup\": \"Semiconductors\", \"marker\": {\"color\": \"#00cc96\", \"size\": [3895649.3333333335], \"sizemode\": \"area\", \"sizeref\": 6828.697520661157, \"symbol\": \"circle\"}, \"mode\": \"markers\", \"name\": \"Semiconductors\", \"showlegend\": true, \"x\": [\"Semiconductors\"], \"xaxis\": \"x\", \"y\": [0.4366666666666667], \"yaxis\": \"y\", \"type\": \"scatter\"}], \"name\": \"1\"}, {\"data\": [{\"hoverlabel\": {\"namelength\": 0}, \"hovertemplate\": \"<b>%{hovertext}</b><br><br>portfolio=%{x}<br>ndays=6<br>percent=%{y}<br>volume=%{marker.size}\", \"hovertext\": [\"5G\"], \"ids\": [6], \"legendgroup\": \"5G\", \"marker\": {\"color\": \"#636efa\", \"size\": [670334.0], \"sizemode\": \"area\", \"sizeref\": 6828.697520661157, \"symbol\": \"circle\"}, \"mode\": \"markers\", \"name\": \"5G\", \"showlegend\": true, \"x\": [\"5G\"], \"xaxis\": \"x\", \"y\": [2.76], \"yaxis\": \"y\", \"type\": \"scatter\"}, {\"hoverlabel\": {\"namelength\": 0}, \"hovertemplate\": \"<b>%{hovertext}</b><br><br>portfolio=%{x}<br>ndays=6<br>percent=%{y}<br>volume=%{marker.size}\", \"hovertext\": [\"Biotechnology\"], \"ids\": [6], \"legendgroup\": \"Biotechnology\", \"marker\": {\"color\": \"#EF553B\", \"size\": [4346686.0], \"sizemode\": \"area\", \"sizeref\": 6828.697520661157, \"symbol\": \"circle\"}, \"mode\": \"markers\", \"name\": \"Biotechnology\", \"showlegend\": true, \"x\": [\"Biotechnology\"], \"xaxis\": \"x\", \"y\": [5.24], \"yaxis\": \"y\", \"type\": \"scatter\"}, {\"hoverlabel\": {\"namelength\": 0}, \"hovertemplate\": \"<b>%{hovertext}</b><br><br>portfolio=%{x}<br>ndays=6<br>percent=%{y}<br>volume=%{marker.size}\", \"hovertext\": [\"CEF\"], \"ids\": [6], \"legendgroup\": \"CEF\", \"marker\": {\"color\": \"#00cc96\", \"size\": [26492.0], \"sizemode\": \"area\", \"sizeref\": 6828.697520661157, \"symbol\": \"circle\"}, \"mode\": \"markers\", \"name\": \"CEF\", \"showlegend\": true, \"x\": [\"CEF\"], \"xaxis\": \"x\", \"y\": [1.66], \"yaxis\": \"y\", \"type\": \"scatter\"}, {\"hoverlabel\": {\"namelength\": 0}, \"hovertemplate\": \"<b>%{hovertext}</b><br><br>portfolio=%{x}<br>ndays=6<br>percent=%{y}<br>volume=%{marker.size}\", \"hovertext\": [\"Cloud Retail Apps\"], \"ids\": [6], \"legendgroup\": \"Cloud Retail Apps\", \"marker\": {\"color\": \"#ab63fa\", \"size\": [776911.0], \"sizemode\": \"area\", \"sizeref\": 6828.697520661157, \"symbol\": \"circle\"}, \"mode\": \"markers\", \"name\": \"Cloud Retail Apps\", \"showlegend\": true, \"x\": [\"Cloud Retail Apps\"], \"xaxis\": \"x\", \"y\": [-5.71], \"yaxis\": \"y\", \"type\": \"scatter\"}, {\"hoverlabel\": {\"namelength\": 0}, \"hovertemplate\": \"<b>%{hovertext}</b><br><br>portfolio=%{x}<br>ndays=6<br>percent=%{y}<br>volume=%{marker.size}\", \"hovertext\": [\"Dividend\"], \"ids\": [6], \"legendgroup\": \"Dividend\", \"marker\": {\"color\": \"#FFA15A\", \"size\": [23303.5], \"sizemode\": \"area\", \"sizeref\": 6828.697520661157, \"symbol\": \"circle\"}, \"mode\": \"markers\", \"name\": \"Dividend\", \"showlegend\": true, \"x\": [\"Dividend\"], \"xaxis\": \"x\", \"y\": [1.6099999999999999], \"yaxis\": \"y\", \"type\": \"scatter\"}, {\"hoverlabel\": {\"namelength\": 0}, \"hovertemplate\": \"<b>%{hovertext}</b><br><br>portfolio=%{x}<br>ndays=6<br>percent=%{y}<br>volume=%{marker.size}\", \"hovertext\": [\"Electric Vehicles\"], \"ids\": [6], \"legendgroup\": \"Electric Vehicles\", \"marker\": {\"color\": \"#19d3f3\", \"size\": [13509980.5], \"sizemode\": \"area\", \"sizeref\": 6828.697520661157, \"symbol\": \"circle\"}, \"mode\": \"markers\", \"name\": \"Electric Vehicles\", \"showlegend\": true, \"x\": [\"Electric Vehicles\"], \"xaxis\": \"x\", \"y\": [7.5649999999999995], \"yaxis\": \"y\", \"type\": \"scatter\"}, {\"hoverlabel\": {\"namelength\": 0}, \"hovertemplate\": \"<b>%{hovertext}</b><br><br>portfolio=%{x}<br>ndays=6<br>percent=%{y}<br>volume=%{marker.size}\", \"hovertext\": [\"Electricity Solar\"], \"ids\": [6], \"legendgroup\": \"Electricity Solar\", \"marker\": {\"color\": \"#FF6692\", \"size\": [2891608.2], \"sizemode\": \"area\", \"sizeref\": 6828.697520661157, \"symbol\": \"circle\"}, \"mode\": \"markers\", \"name\": \"Electricity Solar\", \"showlegend\": true, \"x\": [\"Electricity Solar\"], \"xaxis\": \"x\", \"y\": [12.724], \"yaxis\": \"y\", \"type\": \"scatter\"}, {\"hoverlabel\": {\"namelength\": 0}, \"hovertemplate\": \"<b>%{hovertext}</b><br><br>portfolio=%{x}<br>ndays=6<br>percent=%{y}<br>volume=%{marker.size}\", \"hovertext\": [\"Electricity Wind\"], \"ids\": [6], \"legendgroup\": \"Electricity Wind\", \"marker\": {\"color\": \"#B6E880\", \"size\": [38741.0], \"sizemode\": \"area\", \"sizeref\": 6828.697520661157, \"symbol\": \"circle\"}, \"mode\": \"markers\", \"name\": \"Electricity Wind\", \"showlegend\": true, \"x\": [\"Electricity Wind\"], \"xaxis\": \"x\", \"y\": [3.71], \"yaxis\": \"y\", \"type\": \"scatter\"}, {\"hoverlabel\": {\"namelength\": 0}, \"hovertemplate\": \"<b>%{hovertext}</b><br><br>portfolio=%{x}<br>ndays=6<br>percent=%{y}<br>volume=%{marker.size}\", \"hovertext\": [\"Energy Renewalbe\"], \"ids\": [6], \"legendgroup\": \"Energy Renewalbe\", \"marker\": {\"color\": \"#FF97FF\", \"size\": [128533.0], \"sizemode\": \"area\", \"sizeref\": 6828.697520661157, \"symbol\": \"circle\"}, \"mode\": \"markers\", \"name\": \"Energy Renewalbe\", \"showlegend\": true, \"x\": [\"Energy Renewalbe\"], \"xaxis\": \"x\", \"y\": [22.56], \"yaxis\": \"y\", \"type\": \"scatter\"}, {\"hoverlabel\": {\"namelength\": 0}, \"hovertemplate\": \"<b>%{hovertext}</b><br><br>portfolio=%{x}<br>ndays=6<br>percent=%{y}<br>volume=%{marker.size}\", \"hovertext\": [\"Insurance\"], \"ids\": [6], \"legendgroup\": \"Insurance\", \"marker\": {\"color\": \"#FECB52\", \"size\": [1459008.0], \"sizemode\": \"area\", \"sizeref\": 6828.697520661157, \"symbol\": \"circle\"}, \"mode\": \"markers\", \"name\": \"Insurance\", \"showlegend\": true, \"x\": [\"Insurance\"], \"xaxis\": \"x\", \"y\": [20.85], \"yaxis\": \"y\", \"type\": \"scatter\"}, {\"hoverlabel\": {\"namelength\": 0}, \"hovertemplate\": \"<b>%{hovertext}</b><br><br>portfolio=%{x}<br>ndays=6<br>percent=%{y}<br>volume=%{marker.size}\", \"hovertext\": [\"Mega Capital\"], \"ids\": [6], \"legendgroup\": \"Mega Capital\", \"marker\": {\"color\": \"#636efa\", \"size\": [20656810.0], \"sizemode\": \"area\", \"sizeref\": 6828.697520661157, \"symbol\": \"circle\"}, \"mode\": \"markers\", \"name\": \"Mega Capital\", \"showlegend\": true, \"x\": [\"Mega Capital\"], \"xaxis\": \"x\", \"y\": [0.6999999999999998], \"yaxis\": \"y\", \"type\": \"scatter\"}, {\"hoverlabel\": {\"namelength\": 0}, \"hovertemplate\": \"<b>%{hovertext}</b><br><br>portfolio=%{x}<br>ndays=6<br>percent=%{y}<br>volume=%{marker.size}\", \"hovertext\": [\"REIT\"], \"ids\": [6], \"legendgroup\": \"REIT\", \"marker\": {\"color\": \"#EF553B\", \"size\": [3393063.0], \"sizemode\": \"area\", \"sizeref\": 6828.697520661157, \"symbol\": \"circle\"}, \"mode\": \"markers\", \"name\": \"REIT\", \"showlegend\": true, \"x\": [\"REIT\"], \"xaxis\": \"x\", \"y\": [8.61], \"yaxis\": \"y\", \"type\": \"scatter\"}, {\"hoverlabel\": {\"namelength\": 0}, \"hovertemplate\": \"<b>%{hovertext}</b><br><br>portfolio=%{x}<br>ndays=6<br>percent=%{y}<br>volume=%{marker.size}\", \"hovertext\": [\"Semiconductors\"], \"ids\": [6], \"legendgroup\": \"Semiconductors\", \"marker\": {\"color\": \"#00cc96\", \"size\": [3895649.3333333335], \"sizemode\": \"area\", \"sizeref\": 6828.697520661157, \"symbol\": \"circle\"}, \"mode\": \"markers\", \"name\": \"Semiconductors\", \"showlegend\": true, \"x\": [\"Semiconductors\"], \"xaxis\": \"x\", \"y\": [-0.5466666666666665], \"yaxis\": \"y\", \"type\": \"scatter\"}], \"name\": \"6\"}, {\"data\": [{\"hoverlabel\": {\"namelength\": 0}, \"hovertemplate\": \"<b>%{hovertext}</b><br><br>portfolio=%{x}<br>ndays=11<br>percent=%{y}<br>volume=%{marker.size}\", \"hovertext\": [\"5G\"], \"ids\": [11], \"legendgroup\": \"5G\", \"marker\": {\"color\": \"#636efa\", \"size\": [670334.0], \"sizemode\": \"area\", \"sizeref\": 6828.697520661157, \"symbol\": \"circle\"}, \"mode\": \"markers\", \"name\": \"5G\", \"showlegend\": true, \"x\": [\"5G\"], \"xaxis\": \"x\", \"y\": [6.69], \"yaxis\": \"y\", \"type\": \"scatter\"}, {\"hoverlabel\": {\"namelength\": 0}, \"hovertemplate\": \"<b>%{hovertext}</b><br><br>portfolio=%{x}<br>ndays=11<br>percent=%{y}<br>volume=%{marker.size}\", \"hovertext\": [\"Biotechnology\"], \"ids\": [11], \"legendgroup\": \"Biotechnology\", \"marker\": {\"color\": \"#EF553B\", \"size\": [4346686.0], \"sizemode\": \"area\", \"sizeref\": 6828.697520661157, \"symbol\": \"circle\"}, \"mode\": \"markers\", \"name\": \"Biotechnology\", \"showlegend\": true, \"x\": [\"Biotechnology\"], \"xaxis\": \"x\", \"y\": [7.47], \"yaxis\": \"y\", \"type\": \"scatter\"}, {\"hoverlabel\": {\"namelength\": 0}, \"hovertemplate\": \"<b>%{hovertext}</b><br><br>portfolio=%{x}<br>ndays=11<br>percent=%{y}<br>volume=%{marker.size}\", \"hovertext\": [\"CEF\"], \"ids\": [11], \"legendgroup\": \"CEF\", \"marker\": {\"color\": \"#00cc96\", \"size\": [26492.0], \"sizemode\": \"area\", \"sizeref\": 6828.697520661157, \"symbol\": \"circle\"}, \"mode\": \"markers\", \"name\": \"CEF\", \"showlegend\": true, \"x\": [\"CEF\"], \"xaxis\": \"x\", \"y\": [0.87], \"yaxis\": \"y\", \"type\": \"scatter\"}, {\"hoverlabel\": {\"namelength\": 0}, \"hovertemplate\": \"<b>%{hovertext}</b><br><br>portfolio=%{x}<br>ndays=11<br>percent=%{y}<br>volume=%{marker.size}\", \"hovertext\": [\"Cloud Retail Apps\"], \"ids\": [11], \"legendgroup\": \"Cloud Retail Apps\", \"marker\": {\"color\": \"#ab63fa\", \"size\": [776911.0], \"sizemode\": \"area\", \"sizeref\": 6828.697520661157, \"symbol\": \"circle\"}, \"mode\": \"markers\", \"name\": \"Cloud Retail Apps\", \"showlegend\": true, \"x\": [\"Cloud Retail Apps\"], \"xaxis\": \"x\", \"y\": [-10.19], \"yaxis\": \"y\", \"type\": \"scatter\"}, {\"hoverlabel\": {\"namelength\": 0}, \"hovertemplate\": \"<b>%{hovertext}</b><br><br>portfolio=%{x}<br>ndays=11<br>percent=%{y}<br>volume=%{marker.size}\", \"hovertext\": [\"Dividend\"], \"ids\": [11], \"legendgroup\": \"Dividend\", \"marker\": {\"color\": \"#FFA15A\", \"size\": [23303.5], \"sizemode\": \"area\", \"sizeref\": 6828.697520661157, \"symbol\": \"circle\"}, \"mode\": \"markers\", \"name\": \"Dividend\", \"showlegend\": true, \"x\": [\"Dividend\"], \"xaxis\": \"x\", \"y\": [3.425], \"yaxis\": \"y\", \"type\": \"scatter\"}, {\"hoverlabel\": {\"namelength\": 0}, \"hovertemplate\": \"<b>%{hovertext}</b><br><br>portfolio=%{x}<br>ndays=11<br>percent=%{y}<br>volume=%{marker.size}\", \"hovertext\": [\"Electric Vehicles\"], \"ids\": [11], \"legendgroup\": \"Electric Vehicles\", \"marker\": {\"color\": \"#19d3f3\", \"size\": [13509980.5], \"sizemode\": \"area\", \"sizeref\": 6828.697520661157, \"symbol\": \"circle\"}, \"mode\": \"markers\", \"name\": \"Electric Vehicles\", \"showlegend\": true, \"x\": [\"Electric Vehicles\"], \"xaxis\": \"x\", \"y\": [13.68], \"yaxis\": \"y\", \"type\": \"scatter\"}, {\"hoverlabel\": {\"namelength\": 0}, \"hovertemplate\": \"<b>%{hovertext}</b><br><br>portfolio=%{x}<br>ndays=11<br>percent=%{y}<br>volume=%{marker.size}\", \"hovertext\": [\"Electricity Solar\"], \"ids\": [11], \"legendgroup\": \"Electricity Solar\", \"marker\": {\"color\": \"#FF6692\", \"size\": [2891608.2], \"sizemode\": \"area\", \"sizeref\": 6828.697520661157, \"symbol\": \"circle\"}, \"mode\": \"markers\", \"name\": \"Electricity Solar\", \"showlegend\": true, \"x\": [\"Electricity Solar\"], \"xaxis\": \"x\", \"y\": [15.626], \"yaxis\": \"y\", \"type\": \"scatter\"}, {\"hoverlabel\": {\"namelength\": 0}, \"hovertemplate\": \"<b>%{hovertext}</b><br><br>portfolio=%{x}<br>ndays=11<br>percent=%{y}<br>volume=%{marker.size}\", \"hovertext\": [\"Electricity Wind\"], \"ids\": [11], \"legendgroup\": \"Electricity Wind\", \"marker\": {\"color\": \"#B6E880\", \"size\": [38741.0], \"sizemode\": \"area\", \"sizeref\": 6828.697520661157, \"symbol\": \"circle\"}, \"mode\": \"markers\", \"name\": \"Electricity Wind\", \"showlegend\": true, \"x\": [\"Electricity Wind\"], \"xaxis\": \"x\", \"y\": [5.85], \"yaxis\": \"y\", \"type\": \"scatter\"}, {\"hoverlabel\": {\"namelength\": 0}, \"hovertemplate\": \"<b>%{hovertext}</b><br><br>portfolio=%{x}<br>ndays=11<br>percent=%{y}<br>volume=%{marker.size}\", \"hovertext\": [\"Energy Renewalbe\"], \"ids\": [11], \"legendgroup\": \"Energy Renewalbe\", \"marker\": {\"color\": \"#FF97FF\", \"size\": [128533.0], \"sizemode\": \"area\", \"sizeref\": 6828.697520661157, \"symbol\": \"circle\"}, \"mode\": \"markers\", \"name\": \"Energy Renewalbe\", \"showlegend\": true, \"x\": [\"Energy Renewalbe\"], \"xaxis\": \"x\", \"y\": [32.11], \"yaxis\": \"y\", \"type\": \"scatter\"}, {\"hoverlabel\": {\"namelength\": 0}, \"hovertemplate\": \"<b>%{hovertext}</b><br><br>portfolio=%{x}<br>ndays=11<br>percent=%{y}<br>volume=%{marker.size}\", \"hovertext\": [\"Insurance\"], \"ids\": [11], \"legendgroup\": \"Insurance\", \"marker\": {\"color\": \"#FECB52\", \"size\": [1459008.0], \"sizemode\": \"area\", \"sizeref\": 6828.697520661157, \"symbol\": \"circle\"}, \"mode\": \"markers\", \"name\": \"Insurance\", \"showlegend\": true, \"x\": [\"Insurance\"], \"xaxis\": \"x\", \"y\": [34.16], \"yaxis\": \"y\", \"type\": \"scatter\"}, {\"hoverlabel\": {\"namelength\": 0}, \"hovertemplate\": \"<b>%{hovertext}</b><br><br>portfolio=%{x}<br>ndays=11<br>percent=%{y}<br>volume=%{marker.size}\", \"hovertext\": [\"Mega Capital\"], \"ids\": [11], \"legendgroup\": \"Mega Capital\", \"marker\": {\"color\": \"#636efa\", \"size\": [20656810.0], \"sizemode\": \"area\", \"sizeref\": 6828.697520661157, \"symbol\": \"circle\"}, \"mode\": \"markers\", \"name\": \"Mega Capital\", \"showlegend\": true, \"x\": [\"Mega Capital\"], \"xaxis\": \"x\", \"y\": [0.22999999999999995], \"yaxis\": \"y\", \"type\": \"scatter\"}, {\"hoverlabel\": {\"namelength\": 0}, \"hovertemplate\": \"<b>%{hovertext}</b><br><br>portfolio=%{x}<br>ndays=11<br>percent=%{y}<br>volume=%{marker.size}\", \"hovertext\": [\"REIT\"], \"ids\": [11], \"legendgroup\": \"REIT\", \"marker\": {\"color\": \"#EF553B\", \"size\": [3393063.0], \"sizemode\": \"area\", \"sizeref\": 6828.697520661157, \"symbol\": \"circle\"}, \"mode\": \"markers\", \"name\": \"REIT\", \"showlegend\": true, \"x\": [\"REIT\"], \"xaxis\": \"x\", \"y\": [-4.7], \"yaxis\": \"y\", \"type\": \"scatter\"}, {\"hoverlabel\": {\"namelength\": 0}, \"hovertemplate\": \"<b>%{hovertext}</b><br><br>portfolio=%{x}<br>ndays=11<br>percent=%{y}<br>volume=%{marker.size}\", \"hovertext\": [\"Semiconductors\"], \"ids\": [11], \"legendgroup\": \"Semiconductors\", \"marker\": {\"color\": \"#00cc96\", \"size\": [3895649.3333333335], \"sizemode\": \"area\", \"sizeref\": 6828.697520661157, \"symbol\": \"circle\"}, \"mode\": \"markers\", \"name\": \"Semiconductors\", \"showlegend\": true, \"x\": [\"Semiconductors\"], \"xaxis\": \"x\", \"y\": [2.8066666666666666], \"yaxis\": \"y\", \"type\": \"scatter\"}], \"name\": \"11\"}, {\"data\": [{\"hoverlabel\": {\"namelength\": 0}, \"hovertemplate\": \"<b>%{hovertext}</b><br><br>portfolio=%{x}<br>ndays=16<br>percent=%{y}<br>volume=%{marker.size}\", \"hovertext\": [\"5G\"], \"ids\": [16], \"legendgroup\": \"5G\", \"marker\": {\"color\": \"#636efa\", \"size\": [670334.0], \"sizemode\": \"area\", \"sizeref\": 6828.697520661157, \"symbol\": \"circle\"}, \"mode\": \"markers\", \"name\": \"5G\", \"showlegend\": true, \"x\": [\"5G\"], \"xaxis\": \"x\", \"y\": [3.7], \"yaxis\": \"y\", \"type\": \"scatter\"}, {\"hoverlabel\": {\"namelength\": 0}, \"hovertemplate\": \"<b>%{hovertext}</b><br><br>portfolio=%{x}<br>ndays=16<br>percent=%{y}<br>volume=%{marker.size}\", \"hovertext\": [\"Biotechnology\"], \"ids\": [16], \"legendgroup\": \"Biotechnology\", \"marker\": {\"color\": \"#EF553B\", \"size\": [4346686.0], \"sizemode\": \"area\", \"sizeref\": 6828.697520661157, \"symbol\": \"circle\"}, \"mode\": \"markers\", \"name\": \"Biotechnology\", \"showlegend\": true, \"x\": [\"Biotechnology\"], \"xaxis\": \"x\", \"y\": [11.95], \"yaxis\": \"y\", \"type\": \"scatter\"}, {\"hoverlabel\": {\"namelength\": 0}, \"hovertemplate\": \"<b>%{hovertext}</b><br><br>portfolio=%{x}<br>ndays=16<br>percent=%{y}<br>volume=%{marker.size}\", \"hovertext\": [\"CEF\"], \"ids\": [16], \"legendgroup\": \"CEF\", \"marker\": {\"color\": \"#00cc96\", \"size\": [26492.0], \"sizemode\": \"area\", \"sizeref\": 6828.697520661157, \"symbol\": \"circle\"}, \"mode\": \"markers\", \"name\": \"CEF\", \"showlegend\": true, \"x\": [\"CEF\"], \"xaxis\": \"x\", \"y\": [-1.29], \"yaxis\": \"y\", \"type\": \"scatter\"}, {\"hoverlabel\": {\"namelength\": 0}, \"hovertemplate\": \"<b>%{hovertext}</b><br><br>portfolio=%{x}<br>ndays=16<br>percent=%{y}<br>volume=%{marker.size}\", \"hovertext\": [\"Cloud Retail Apps\"], \"ids\": [16], \"legendgroup\": \"Cloud Retail Apps\", \"marker\": {\"color\": \"#ab63fa\", \"size\": [776911.0], \"sizemode\": \"area\", \"sizeref\": 6828.697520661157, \"symbol\": \"circle\"}, \"mode\": \"markers\", \"name\": \"Cloud Retail Apps\", \"showlegend\": true, \"x\": [\"Cloud Retail Apps\"], \"xaxis\": \"x\", \"y\": [-16.29], \"yaxis\": \"y\", \"type\": \"scatter\"}, {\"hoverlabel\": {\"namelength\": 0}, \"hovertemplate\": \"<b>%{hovertext}</b><br><br>portfolio=%{x}<br>ndays=16<br>percent=%{y}<br>volume=%{marker.size}\", \"hovertext\": [\"Dividend\"], \"ids\": [16], \"legendgroup\": \"Dividend\", \"marker\": {\"color\": \"#FFA15A\", \"size\": [23303.5], \"sizemode\": \"area\", \"sizeref\": 6828.697520661157, \"symbol\": \"circle\"}, \"mode\": \"markers\", \"name\": \"Dividend\", \"showlegend\": true, \"x\": [\"Dividend\"], \"xaxis\": \"x\", \"y\": [7.41], \"yaxis\": \"y\", \"type\": \"scatter\"}, {\"hoverlabel\": {\"namelength\": 0}, \"hovertemplate\": \"<b>%{hovertext}</b><br><br>portfolio=%{x}<br>ndays=16<br>percent=%{y}<br>volume=%{marker.size}\", \"hovertext\": [\"Electric Vehicles\"], \"ids\": [16], \"legendgroup\": \"Electric Vehicles\", \"marker\": {\"color\": \"#19d3f3\", \"size\": [13509980.5], \"sizemode\": \"area\", \"sizeref\": 6828.697520661157, \"symbol\": \"circle\"}, \"mode\": \"markers\", \"name\": \"Electric Vehicles\", \"showlegend\": true, \"x\": [\"Electric Vehicles\"], \"xaxis\": \"x\", \"y\": [17.4], \"yaxis\": \"y\", \"type\": \"scatter\"}, {\"hoverlabel\": {\"namelength\": 0}, \"hovertemplate\": \"<b>%{hovertext}</b><br><br>portfolio=%{x}<br>ndays=16<br>percent=%{y}<br>volume=%{marker.size}\", \"hovertext\": [\"Electricity Solar\"], \"ids\": [16], \"legendgroup\": \"Electricity Solar\", \"marker\": {\"color\": \"#FF6692\", \"size\": [2891608.2], \"sizemode\": \"area\", \"sizeref\": 6828.697520661157, \"symbol\": \"circle\"}, \"mode\": \"markers\", \"name\": \"Electricity Solar\", \"showlegend\": true, \"x\": [\"Electricity Solar\"], \"xaxis\": \"x\", \"y\": [11.602], \"yaxis\": \"y\", \"type\": \"scatter\"}, {\"hoverlabel\": {\"namelength\": 0}, \"hovertemplate\": \"<b>%{hovertext}</b><br><br>portfolio=%{x}<br>ndays=16<br>percent=%{y}<br>volume=%{marker.size}\", \"hovertext\": [\"Electricity Wind\"], \"ids\": [16], \"legendgroup\": \"Electricity Wind\", \"marker\": {\"color\": \"#B6E880\", \"size\": [38741.0], \"sizemode\": \"area\", \"sizeref\": 6828.697520661157, \"symbol\": \"circle\"}, \"mode\": \"markers\", \"name\": \"Electricity Wind\", \"showlegend\": true, \"x\": [\"Electricity Wind\"], \"xaxis\": \"x\", \"y\": [8.43], \"yaxis\": \"y\", \"type\": \"scatter\"}, {\"hoverlabel\": {\"namelength\": 0}, \"hovertemplate\": \"<b>%{hovertext}</b><br><br>portfolio=%{x}<br>ndays=16<br>percent=%{y}<br>volume=%{marker.size}\", \"hovertext\": [\"Energy Renewalbe\"], \"ids\": [16], \"legendgroup\": \"Energy Renewalbe\", \"marker\": {\"color\": \"#FF97FF\", \"size\": [128533.0], \"sizemode\": \"area\", \"sizeref\": 6828.697520661157, \"symbol\": \"circle\"}, \"mode\": \"markers\", \"name\": \"Energy Renewalbe\", \"showlegend\": true, \"x\": [\"Energy Renewalbe\"], \"xaxis\": \"x\", \"y\": [24.34], \"yaxis\": \"y\", \"type\": \"scatter\"}, {\"hoverlabel\": {\"namelength\": 0}, \"hovertemplate\": \"<b>%{hovertext}</b><br><br>portfolio=%{x}<br>ndays=16<br>percent=%{y}<br>volume=%{marker.size}\", \"hovertext\": [\"Insurance\"], \"ids\": [16], \"legendgroup\": \"Insurance\", \"marker\": {\"color\": \"#FECB52\", \"size\": [1459008.0], \"sizemode\": \"area\", \"sizeref\": 6828.697520661157, \"symbol\": \"circle\"}, \"mode\": \"markers\", \"name\": \"Insurance\", \"showlegend\": true, \"x\": [\"Insurance\"], \"xaxis\": \"x\", \"y\": [17.48], \"yaxis\": \"y\", \"type\": \"scatter\"}, {\"hoverlabel\": {\"namelength\": 0}, \"hovertemplate\": \"<b>%{hovertext}</b><br><br>portfolio=%{x}<br>ndays=16<br>percent=%{y}<br>volume=%{marker.size}\", \"hovertext\": [\"Mega Capital\"], \"ids\": [16], \"legendgroup\": \"Mega Capital\", \"marker\": {\"color\": \"#636efa\", \"size\": [20656810.0], \"sizemode\": \"area\", \"sizeref\": 6828.697520661157, \"symbol\": \"circle\"}, \"mode\": \"markers\", \"name\": \"Mega Capital\", \"showlegend\": true, \"x\": [\"Mega Capital\"], \"xaxis\": \"x\", \"y\": [-3.016666666666666], \"yaxis\": \"y\", \"type\": \"scatter\"}, {\"hoverlabel\": {\"namelength\": 0}, \"hovertemplate\": \"<b>%{hovertext}</b><br><br>portfolio=%{x}<br>ndays=16<br>percent=%{y}<br>volume=%{marker.size}\", \"hovertext\": [\"REIT\"], \"ids\": [16], \"legendgroup\": \"REIT\", \"marker\": {\"color\": \"#EF553B\", \"size\": [3393063.0], \"sizemode\": \"area\", \"sizeref\": 6828.697520661157, \"symbol\": \"circle\"}, \"mode\": \"markers\", \"name\": \"REIT\", \"showlegend\": true, \"x\": [\"REIT\"], \"xaxis\": \"x\", \"y\": [-11.32], \"yaxis\": \"y\", \"type\": \"scatter\"}, {\"hoverlabel\": {\"namelength\": 0}, \"hovertemplate\": \"<b>%{hovertext}</b><br><br>portfolio=%{x}<br>ndays=16<br>percent=%{y}<br>volume=%{marker.size}\", \"hovertext\": [\"Semiconductors\"], \"ids\": [16], \"legendgroup\": \"Semiconductors\", \"marker\": {\"color\": \"#00cc96\", \"size\": [3895649.3333333335], \"sizemode\": \"area\", \"sizeref\": 6828.697520661157, \"symbol\": \"circle\"}, \"mode\": \"markers\", \"name\": \"Semiconductors\", \"showlegend\": true, \"x\": [\"Semiconductors\"], \"xaxis\": \"x\", \"y\": [0.5833333333333334], \"yaxis\": \"y\", \"type\": \"scatter\"}], \"name\": \"16\"}, {\"data\": [{\"hoverlabel\": {\"namelength\": 0}, \"hovertemplate\": \"<b>%{hovertext}</b><br><br>portfolio=%{x}<br>ndays=21<br>percent=%{y}<br>volume=%{marker.size}\", \"hovertext\": [\"5G\"], \"ids\": [21], \"legendgroup\": \"5G\", \"marker\": {\"color\": \"#636efa\", \"size\": [670334.0], \"sizemode\": \"area\", \"sizeref\": 6828.697520661157, \"symbol\": \"circle\"}, \"mode\": \"markers\", \"name\": \"5G\", \"showlegend\": true, \"x\": [\"5G\"], \"xaxis\": \"x\", \"y\": [11.25], \"yaxis\": \"y\", \"type\": \"scatter\"}, {\"hoverlabel\": {\"namelength\": 0}, \"hovertemplate\": \"<b>%{hovertext}</b><br><br>portfolio=%{x}<br>ndays=21<br>percent=%{y}<br>volume=%{marker.size}\", \"hovertext\": [\"Biotechnology\"], \"ids\": [21], \"legendgroup\": \"Biotechnology\", \"marker\": {\"color\": \"#EF553B\", \"size\": [4346686.0], \"sizemode\": \"area\", \"sizeref\": 6828.697520661157, \"symbol\": \"circle\"}, \"mode\": \"markers\", \"name\": \"Biotechnology\", \"showlegend\": true, \"x\": [\"Biotechnology\"], \"xaxis\": \"x\", \"y\": [30.02], \"yaxis\": \"y\", \"type\": \"scatter\"}, {\"hoverlabel\": {\"namelength\": 0}, \"hovertemplate\": \"<b>%{hovertext}</b><br><br>portfolio=%{x}<br>ndays=21<br>percent=%{y}<br>volume=%{marker.size}\", \"hovertext\": [\"CEF\"], \"ids\": [21], \"legendgroup\": \"CEF\", \"marker\": {\"color\": \"#00cc96\", \"size\": [26492.0], \"sizemode\": \"area\", \"sizeref\": 6828.697520661157, \"symbol\": \"circle\"}, \"mode\": \"markers\", \"name\": \"CEF\", \"showlegend\": true, \"x\": [\"CEF\"], \"xaxis\": \"x\", \"y\": [3.03], \"yaxis\": \"y\", \"type\": \"scatter\"}, {\"hoverlabel\": {\"namelength\": 0}, \"hovertemplate\": \"<b>%{hovertext}</b><br><br>portfolio=%{x}<br>ndays=21<br>percent=%{y}<br>volume=%{marker.size}\", \"hovertext\": [\"Cloud Retail Apps\"], \"ids\": [21], \"legendgroup\": \"Cloud Retail Apps\", \"marker\": {\"color\": \"#ab63fa\", \"size\": [776911.0], \"sizemode\": \"area\", \"sizeref\": 6828.697520661157, \"symbol\": \"circle\"}, \"mode\": \"markers\", \"name\": \"Cloud Retail Apps\", \"showlegend\": true, \"x\": [\"Cloud Retail Apps\"], \"xaxis\": \"x\", \"y\": [-15.72], \"yaxis\": \"y\", \"type\": \"scatter\"}, {\"hoverlabel\": {\"namelength\": 0}, \"hovertemplate\": \"<b>%{hovertext}</b><br><br>portfolio=%{x}<br>ndays=21<br>percent=%{y}<br>volume=%{marker.size}\", \"hovertext\": [\"Dividend\"], \"ids\": [21], \"legendgroup\": \"Dividend\", \"marker\": {\"color\": \"#FFA15A\", \"size\": [23303.5], \"sizemode\": \"area\", \"sizeref\": 6828.697520661157, \"symbol\": \"circle\"}, \"mode\": \"markers\", \"name\": \"Dividend\", \"showlegend\": true, \"x\": [\"Dividend\"], \"xaxis\": \"x\", \"y\": [9.44], \"yaxis\": \"y\", \"type\": \"scatter\"}, {\"hoverlabel\": {\"namelength\": 0}, \"hovertemplate\": \"<b>%{hovertext}</b><br><br>portfolio=%{x}<br>ndays=21<br>percent=%{y}<br>volume=%{marker.size}\", \"hovertext\": [\"Electric Vehicles\"], \"ids\": [21], \"legendgroup\": \"Electric Vehicles\", \"marker\": {\"color\": \"#19d3f3\", \"size\": [13509980.5], \"sizemode\": \"area\", \"sizeref\": 6828.697520661157, \"symbol\": \"circle\"}, \"mode\": \"markers\", \"name\": \"Electric Vehicles\", \"showlegend\": true, \"x\": [\"Electric Vehicles\"], \"xaxis\": \"x\", \"y\": [54.974999999999994], \"yaxis\": \"y\", \"type\": \"scatter\"}, {\"hoverlabel\": {\"namelength\": 0}, \"hovertemplate\": \"<b>%{hovertext}</b><br><br>portfolio=%{x}<br>ndays=21<br>percent=%{y}<br>volume=%{marker.size}\", \"hovertext\": [\"Electricity Solar\"], \"ids\": [21], \"legendgroup\": \"Electricity Solar\", \"marker\": {\"color\": \"#FF6692\", \"size\": [2891608.2], \"sizemode\": \"area\", \"sizeref\": 6828.697520661157, \"symbol\": \"circle\"}, \"mode\": \"markers\", \"name\": \"Electricity Solar\", \"showlegend\": true, \"x\": [\"Electricity Solar\"], \"xaxis\": \"x\", \"y\": [24.9], \"yaxis\": \"y\", \"type\": \"scatter\"}, {\"hoverlabel\": {\"namelength\": 0}, \"hovertemplate\": \"<b>%{hovertext}</b><br><br>portfolio=%{x}<br>ndays=21<br>percent=%{y}<br>volume=%{marker.size}\", \"hovertext\": [\"Electricity Wind\"], \"ids\": [21], \"legendgroup\": \"Electricity Wind\", \"marker\": {\"color\": \"#B6E880\", \"size\": [38741.0], \"sizemode\": \"area\", \"sizeref\": 6828.697520661157, \"symbol\": \"circle\"}, \"mode\": \"markers\", \"name\": \"Electricity Wind\", \"showlegend\": true, \"x\": [\"Electricity Wind\"], \"xaxis\": \"x\", \"y\": [14.17], \"yaxis\": \"y\", \"type\": \"scatter\"}, {\"hoverlabel\": {\"namelength\": 0}, \"hovertemplate\": \"<b>%{hovertext}</b><br><br>portfolio=%{x}<br>ndays=21<br>percent=%{y}<br>volume=%{marker.size}\", \"hovertext\": [\"Energy Renewalbe\"], \"ids\": [21], \"legendgroup\": \"Energy Renewalbe\", \"marker\": {\"color\": \"#FF97FF\", \"size\": [128533.0], \"sizemode\": \"area\", \"sizeref\": 6828.697520661157, \"symbol\": \"circle\"}, \"mode\": \"markers\", \"name\": \"Energy Renewalbe\", \"showlegend\": true, \"x\": [\"Energy Renewalbe\"], \"xaxis\": \"x\", \"y\": [34.51], \"yaxis\": \"y\", \"type\": \"scatter\"}, {\"hoverlabel\": {\"namelength\": 0}, \"hovertemplate\": \"<b>%{hovertext}</b><br><br>portfolio=%{x}<br>ndays=21<br>percent=%{y}<br>volume=%{marker.size}\", \"hovertext\": [\"Insurance\"], \"ids\": [21], \"legendgroup\": \"Insurance\", \"marker\": {\"color\": \"#FECB52\", \"size\": [1459008.0], \"sizemode\": \"area\", \"sizeref\": 6828.697520661157, \"symbol\": \"circle\"}, \"mode\": \"markers\", \"name\": \"Insurance\", \"showlegend\": true, \"x\": [\"Insurance\"], \"xaxis\": \"x\", \"y\": [60.19], \"yaxis\": \"y\", \"type\": \"scatter\"}, {\"hoverlabel\": {\"namelength\": 0}, \"hovertemplate\": \"<b>%{hovertext}</b><br><br>portfolio=%{x}<br>ndays=21<br>percent=%{y}<br>volume=%{marker.size}\", \"hovertext\": [\"Mega Capital\"], \"ids\": [21], \"legendgroup\": \"Mega Capital\", \"marker\": {\"color\": \"#636efa\", \"size\": [20656810.0], \"sizemode\": \"area\", \"sizeref\": 6828.697520661157, \"symbol\": \"circle\"}, \"mode\": \"markers\", \"name\": \"Mega Capital\", \"showlegend\": true, \"x\": [\"Mega Capital\"], \"xaxis\": \"x\", \"y\": [2.066666666666667], \"yaxis\": \"y\", \"type\": \"scatter\"}, {\"hoverlabel\": {\"namelength\": 0}, \"hovertemplate\": \"<b>%{hovertext}</b><br><br>portfolio=%{x}<br>ndays=21<br>percent=%{y}<br>volume=%{marker.size}\", \"hovertext\": [\"REIT\"], \"ids\": [21], \"legendgroup\": \"REIT\", \"marker\": {\"color\": \"#EF553B\", \"size\": [3393063.0], \"sizemode\": \"area\", \"sizeref\": 6828.697520661157, \"symbol\": \"circle\"}, \"mode\": \"markers\", \"name\": \"REIT\", \"showlegend\": true, \"x\": [\"REIT\"], \"xaxis\": \"x\", \"y\": [-9.95], \"yaxis\": \"y\", \"type\": \"scatter\"}, {\"hoverlabel\": {\"namelength\": 0}, \"hovertemplate\": \"<b>%{hovertext}</b><br><br>portfolio=%{x}<br>ndays=21<br>percent=%{y}<br>volume=%{marker.size}\", \"hovertext\": [\"Semiconductors\"], \"ids\": [21], \"legendgroup\": \"Semiconductors\", \"marker\": {\"color\": \"#00cc96\", \"size\": [3895649.3333333335], \"sizemode\": \"area\", \"sizeref\": 6828.697520661157, \"symbol\": \"circle\"}, \"mode\": \"markers\", \"name\": \"Semiconductors\", \"showlegend\": true, \"x\": [\"Semiconductors\"], \"xaxis\": \"x\", \"y\": [10.63], \"yaxis\": \"y\", \"type\": \"scatter\"}], \"name\": \"21\"}, {\"data\": [{\"hoverlabel\": {\"namelength\": 0}, \"hovertemplate\": \"<b>%{hovertext}</b><br><br>portfolio=%{x}<br>ndays=26<br>percent=%{y}<br>volume=%{marker.size}\", \"hovertext\": [\"5G\"], \"ids\": [26], \"legendgroup\": \"5G\", \"marker\": {\"color\": \"#636efa\", \"size\": [670334.0], \"sizemode\": \"area\", \"sizeref\": 6828.697520661157, \"symbol\": \"circle\"}, \"mode\": \"markers\", \"name\": \"5G\", \"showlegend\": true, \"x\": [\"5G\"], \"xaxis\": \"x\", \"y\": [5.78], \"yaxis\": \"y\", \"type\": \"scatter\"}, {\"hoverlabel\": {\"namelength\": 0}, \"hovertemplate\": \"<b>%{hovertext}</b><br><br>portfolio=%{x}<br>ndays=26<br>percent=%{y}<br>volume=%{marker.size}\", \"hovertext\": [\"Biotechnology\"], \"ids\": [26], \"legendgroup\": \"Biotechnology\", \"marker\": {\"color\": \"#EF553B\", \"size\": [4346686.0], \"sizemode\": \"area\", \"sizeref\": 6828.697520661157, \"symbol\": \"circle\"}, \"mode\": \"markers\", \"name\": \"Biotechnology\", \"showlegend\": true, \"x\": [\"Biotechnology\"], \"xaxis\": \"x\", \"y\": [24.41], \"yaxis\": \"y\", \"type\": \"scatter\"}, {\"hoverlabel\": {\"namelength\": 0}, \"hovertemplate\": \"<b>%{hovertext}</b><br><br>portfolio=%{x}<br>ndays=26<br>percent=%{y}<br>volume=%{marker.size}\", \"hovertext\": [\"CEF\"], \"ids\": [26], \"legendgroup\": \"CEF\", \"marker\": {\"color\": \"#00cc96\", \"size\": [26492.0], \"sizemode\": \"area\", \"sizeref\": 6828.697520661157, \"symbol\": \"circle\"}, \"mode\": \"markers\", \"name\": \"CEF\", \"showlegend\": true, \"x\": [\"CEF\"], \"xaxis\": \"x\", \"y\": [2.99], \"yaxis\": \"y\", \"type\": \"scatter\"}, {\"hoverlabel\": {\"namelength\": 0}, \"hovertemplate\": \"<b>%{hovertext}</b><br><br>portfolio=%{x}<br>ndays=26<br>percent=%{y}<br>volume=%{marker.size}\", \"hovertext\": [\"Cloud Retail Apps\"], \"ids\": [26], \"legendgroup\": \"Cloud Retail Apps\", \"marker\": {\"color\": \"#ab63fa\", \"size\": [776911.0], \"sizemode\": \"area\", \"sizeref\": 6828.697520661157, \"symbol\": \"circle\"}, \"mode\": \"markers\", \"name\": \"Cloud Retail Apps\", \"showlegend\": true, \"x\": [\"Cloud Retail Apps\"], \"xaxis\": \"x\", \"y\": [-20.29], \"yaxis\": \"y\", \"type\": \"scatter\"}, {\"hoverlabel\": {\"namelength\": 0}, \"hovertemplate\": \"<b>%{hovertext}</b><br><br>portfolio=%{x}<br>ndays=26<br>percent=%{y}<br>volume=%{marker.size}\", \"hovertext\": [\"Dividend\"], \"ids\": [26], \"legendgroup\": \"Dividend\", \"marker\": {\"color\": \"#FFA15A\", \"size\": [23303.5], \"sizemode\": \"area\", \"sizeref\": 6828.697520661157, \"symbol\": \"circle\"}, \"mode\": \"markers\", \"name\": \"Dividend\", \"showlegend\": true, \"x\": [\"Dividend\"], \"xaxis\": \"x\", \"y\": [8.06], \"yaxis\": \"y\", \"type\": \"scatter\"}, {\"hoverlabel\": {\"namelength\": 0}, \"hovertemplate\": \"<b>%{hovertext}</b><br><br>portfolio=%{x}<br>ndays=26<br>percent=%{y}<br>volume=%{marker.size}\", \"hovertext\": [\"Electric Vehicles\"], \"ids\": [26], \"legendgroup\": \"Electric Vehicles\", \"marker\": {\"color\": \"#19d3f3\", \"size\": [13509980.5], \"sizemode\": \"area\", \"sizeref\": 6828.697520661157, \"symbol\": \"circle\"}, \"mode\": \"markers\", \"name\": \"Electric Vehicles\", \"showlegend\": true, \"x\": [\"Electric Vehicles\"], \"xaxis\": \"x\", \"y\": [68.075], \"yaxis\": \"y\", \"type\": \"scatter\"}, {\"hoverlabel\": {\"namelength\": 0}, \"hovertemplate\": \"<b>%{hovertext}</b><br><br>portfolio=%{x}<br>ndays=26<br>percent=%{y}<br>volume=%{marker.size}\", \"hovertext\": [\"Electricity Solar\"], \"ids\": [26], \"legendgroup\": \"Electricity Solar\", \"marker\": {\"color\": \"#FF6692\", \"size\": [2891608.2], \"sizemode\": \"area\", \"sizeref\": 6828.697520661157, \"symbol\": \"circle\"}, \"mode\": \"markers\", \"name\": \"Electricity Solar\", \"showlegend\": true, \"x\": [\"Electricity Solar\"], \"xaxis\": \"x\", \"y\": [23.312], \"yaxis\": \"y\", \"type\": \"scatter\"}, {\"hoverlabel\": {\"namelength\": 0}, \"hovertemplate\": \"<b>%{hovertext}</b><br><br>portfolio=%{x}<br>ndays=26<br>percent=%{y}<br>volume=%{marker.size}\", \"hovertext\": [\"Electricity Wind\"], \"ids\": [26], \"legendgroup\": \"Electricity Wind\", \"marker\": {\"color\": \"#B6E880\", \"size\": [38741.0], \"sizemode\": \"area\", \"sizeref\": 6828.697520661157, \"symbol\": \"circle\"}, \"mode\": \"markers\", \"name\": \"Electricity Wind\", \"showlegend\": true, \"x\": [\"Electricity Wind\"], \"xaxis\": \"x\", \"y\": [17.24], \"yaxis\": \"y\", \"type\": \"scatter\"}, {\"hoverlabel\": {\"namelength\": 0}, \"hovertemplate\": \"<b>%{hovertext}</b><br><br>portfolio=%{x}<br>ndays=26<br>percent=%{y}<br>volume=%{marker.size}\", \"hovertext\": [\"Energy Renewalbe\"], \"ids\": [26], \"legendgroup\": \"Energy Renewalbe\", \"marker\": {\"color\": \"#FF97FF\", \"size\": [128533.0], \"sizemode\": \"area\", \"sizeref\": 6828.697520661157, \"symbol\": \"circle\"}, \"mode\": \"markers\", \"name\": \"Energy Renewalbe\", \"showlegend\": true, \"x\": [\"Energy Renewalbe\"], \"xaxis\": \"x\", \"y\": [38.54], \"yaxis\": \"y\", \"type\": \"scatter\"}, {\"hoverlabel\": {\"namelength\": 0}, \"hovertemplate\": \"<b>%{hovertext}</b><br><br>portfolio=%{x}<br>ndays=26<br>percent=%{y}<br>volume=%{marker.size}\", \"hovertext\": [\"Insurance\"], \"ids\": [26], \"legendgroup\": \"Insurance\", \"marker\": {\"color\": \"#FECB52\", \"size\": [1459008.0], \"sizemode\": \"area\", \"sizeref\": 6828.697520661157, \"symbol\": \"circle\"}, \"mode\": \"markers\", \"name\": \"Insurance\", \"showlegend\": true, \"x\": [\"Insurance\"], \"xaxis\": \"x\", \"y\": [43.02], \"yaxis\": \"y\", \"type\": \"scatter\"}, {\"hoverlabel\": {\"namelength\": 0}, \"hovertemplate\": \"<b>%{hovertext}</b><br><br>portfolio=%{x}<br>ndays=26<br>percent=%{y}<br>volume=%{marker.size}\", \"hovertext\": [\"Mega Capital\"], \"ids\": [26], \"legendgroup\": \"Mega Capital\", \"marker\": {\"color\": \"#636efa\", \"size\": [20656810.0], \"sizemode\": \"area\", \"sizeref\": 6828.697520661157, \"symbol\": \"circle\"}, \"mode\": \"markers\", \"name\": \"Mega Capital\", \"showlegend\": true, \"x\": [\"Mega Capital\"], \"xaxis\": \"x\", \"y\": [0.64], \"yaxis\": \"y\", \"type\": \"scatter\"}, {\"hoverlabel\": {\"namelength\": 0}, \"hovertemplate\": \"<b>%{hovertext}</b><br><br>portfolio=%{x}<br>ndays=26<br>percent=%{y}<br>volume=%{marker.size}\", \"hovertext\": [\"REIT\"], \"ids\": [26], \"legendgroup\": \"REIT\", \"marker\": {\"color\": \"#EF553B\", \"size\": [3393063.0], \"sizemode\": \"area\", \"sizeref\": 6828.697520661157, \"symbol\": \"circle\"}, \"mode\": \"markers\", \"name\": \"REIT\", \"showlegend\": true, \"x\": [\"REIT\"], \"xaxis\": \"x\", \"y\": [-14.92], \"yaxis\": \"y\", \"type\": \"scatter\"}, {\"hoverlabel\": {\"namelength\": 0}, \"hovertemplate\": \"<b>%{hovertext}</b><br><br>portfolio=%{x}<br>ndays=26<br>percent=%{y}<br>volume=%{marker.size}\", \"hovertext\": [\"Semiconductors\"], \"ids\": [26], \"legendgroup\": \"Semiconductors\", \"marker\": {\"color\": \"#00cc96\", \"size\": [3895649.3333333335], \"sizemode\": \"area\", \"sizeref\": 6828.697520661157, \"symbol\": \"circle\"}, \"mode\": \"markers\", \"name\": \"Semiconductors\", \"showlegend\": true, \"x\": [\"Semiconductors\"], \"xaxis\": \"x\", \"y\": [7.739999999999999], \"yaxis\": \"y\", \"type\": \"scatter\"}], \"name\": \"26\"}, {\"data\": [{\"hoverlabel\": {\"namelength\": 0}, \"hovertemplate\": \"<b>%{hovertext}</b><br><br>portfolio=%{x}<br>ndays=31<br>percent=%{y}<br>volume=%{marker.size}\", \"hovertext\": [\"5G\"], \"ids\": [31], \"legendgroup\": \"5G\", \"marker\": {\"color\": \"#636efa\", \"size\": [670334.0], \"sizemode\": \"area\", \"sizeref\": 6828.697520661157, \"symbol\": \"circle\"}, \"mode\": \"markers\", \"name\": \"5G\", \"showlegend\": true, \"x\": [\"5G\"], \"xaxis\": \"x\", \"y\": [3.95], \"yaxis\": \"y\", \"type\": \"scatter\"}, {\"hoverlabel\": {\"namelength\": 0}, \"hovertemplate\": \"<b>%{hovertext}</b><br><br>portfolio=%{x}<br>ndays=31<br>percent=%{y}<br>volume=%{marker.size}\", \"hovertext\": [\"Biotechnology\"], \"ids\": [31], \"legendgroup\": \"Biotechnology\", \"marker\": {\"color\": \"#EF553B\", \"size\": [4346686.0], \"sizemode\": \"area\", \"sizeref\": 6828.697520661157, \"symbol\": \"circle\"}, \"mode\": \"markers\", \"name\": \"Biotechnology\", \"showlegend\": true, \"x\": [\"Biotechnology\"], \"xaxis\": \"x\", \"y\": [23.07], \"yaxis\": \"y\", \"type\": \"scatter\"}, {\"hoverlabel\": {\"namelength\": 0}, \"hovertemplate\": \"<b>%{hovertext}</b><br><br>portfolio=%{x}<br>ndays=31<br>percent=%{y}<br>volume=%{marker.size}\", \"hovertext\": [\"CEF\"], \"ids\": [31], \"legendgroup\": \"CEF\", \"marker\": {\"color\": \"#00cc96\", \"size\": [26492.0], \"sizemode\": \"area\", \"sizeref\": 6828.697520661157, \"symbol\": \"circle\"}, \"mode\": \"markers\", \"name\": \"CEF\", \"showlegend\": true, \"x\": [\"CEF\"], \"xaxis\": \"x\", \"y\": [4.75], \"yaxis\": \"y\", \"type\": \"scatter\"}, {\"hoverlabel\": {\"namelength\": 0}, \"hovertemplate\": \"<b>%{hovertext}</b><br><br>portfolio=%{x}<br>ndays=31<br>percent=%{y}<br>volume=%{marker.size}\", \"hovertext\": [\"Cloud Retail Apps\"], \"ids\": [31], \"legendgroup\": \"Cloud Retail Apps\", \"marker\": {\"color\": \"#ab63fa\", \"size\": [776911.0], \"sizemode\": \"area\", \"sizeref\": 6828.697520661157, \"symbol\": \"circle\"}, \"mode\": \"markers\", \"name\": \"Cloud Retail Apps\", \"showlegend\": true, \"x\": [\"Cloud Retail Apps\"], \"xaxis\": \"x\", \"y\": [-5.13], \"yaxis\": \"y\", \"type\": \"scatter\"}, {\"hoverlabel\": {\"namelength\": 0}, \"hovertemplate\": \"<b>%{hovertext}</b><br><br>portfolio=%{x}<br>ndays=31<br>percent=%{y}<br>volume=%{marker.size}\", \"hovertext\": [\"Dividend\"], \"ids\": [31], \"legendgroup\": \"Dividend\", \"marker\": {\"color\": \"#FFA15A\", \"size\": [23303.5], \"sizemode\": \"area\", \"sizeref\": 6828.697520661157, \"symbol\": \"circle\"}, \"mode\": \"markers\", \"name\": \"Dividend\", \"showlegend\": true, \"x\": [\"Dividend\"], \"xaxis\": \"x\", \"y\": [7.82], \"yaxis\": \"y\", \"type\": \"scatter\"}, {\"hoverlabel\": {\"namelength\": 0}, \"hovertemplate\": \"<b>%{hovertext}</b><br><br>portfolio=%{x}<br>ndays=31<br>percent=%{y}<br>volume=%{marker.size}\", \"hovertext\": [\"Electric Vehicles\"], \"ids\": [31], \"legendgroup\": \"Electric Vehicles\", \"marker\": {\"color\": \"#19d3f3\", \"size\": [13509980.5], \"sizemode\": \"area\", \"sizeref\": 6828.697520661157, \"symbol\": \"circle\"}, \"mode\": \"markers\", \"name\": \"Electric Vehicles\", \"showlegend\": true, \"x\": [\"Electric Vehicles\"], \"xaxis\": \"x\", \"y\": [65.72], \"yaxis\": \"y\", \"type\": \"scatter\"}, {\"hoverlabel\": {\"namelength\": 0}, \"hovertemplate\": \"<b>%{hovertext}</b><br><br>portfolio=%{x}<br>ndays=31<br>percent=%{y}<br>volume=%{marker.size}\", \"hovertext\": [\"Electricity Solar\"], \"ids\": [31], \"legendgroup\": \"Electricity Solar\", \"marker\": {\"color\": \"#FF6692\", \"size\": [2891608.2], \"sizemode\": \"area\", \"sizeref\": 6828.697520661157, \"symbol\": \"circle\"}, \"mode\": \"markers\", \"name\": \"Electricity Solar\", \"showlegend\": true, \"x\": [\"Electricity Solar\"], \"xaxis\": \"x\", \"y\": [20.836000000000002], \"yaxis\": \"y\", \"type\": \"scatter\"}, {\"hoverlabel\": {\"namelength\": 0}, \"hovertemplate\": \"<b>%{hovertext}</b><br><br>portfolio=%{x}<br>ndays=31<br>percent=%{y}<br>volume=%{marker.size}\", \"hovertext\": [\"Electricity Wind\"], \"ids\": [31], \"legendgroup\": \"Electricity Wind\", \"marker\": {\"color\": \"#B6E880\", \"size\": [38741.0], \"sizemode\": \"area\", \"sizeref\": 6828.697520661157, \"symbol\": \"circle\"}, \"mode\": \"markers\", \"name\": \"Electricity Wind\", \"showlegend\": true, \"x\": [\"Electricity Wind\"], \"xaxis\": \"x\", \"y\": [10.52], \"yaxis\": \"y\", \"type\": \"scatter\"}, {\"hoverlabel\": {\"namelength\": 0}, \"hovertemplate\": \"<b>%{hovertext}</b><br><br>portfolio=%{x}<br>ndays=31<br>percent=%{y}<br>volume=%{marker.size}\", \"hovertext\": [\"Energy Renewalbe\"], \"ids\": [31], \"legendgroup\": \"Energy Renewalbe\", \"marker\": {\"color\": \"#FF97FF\", \"size\": [128533.0], \"sizemode\": \"area\", \"sizeref\": 6828.697520661157, \"symbol\": \"circle\"}, \"mode\": \"markers\", \"name\": \"Energy Renewalbe\", \"showlegend\": true, \"x\": [\"Energy Renewalbe\"], \"xaxis\": \"x\", \"y\": [34.46], \"yaxis\": \"y\", \"type\": \"scatter\"}, {\"hoverlabel\": {\"namelength\": 0}, \"hovertemplate\": \"<b>%{hovertext}</b><br><br>portfolio=%{x}<br>ndays=31<br>percent=%{y}<br>volume=%{marker.size}\", \"hovertext\": [\"Insurance\"], \"ids\": [31], \"legendgroup\": \"Insurance\", \"marker\": {\"color\": \"#FECB52\", \"size\": [1459008.0], \"sizemode\": \"area\", \"sizeref\": 6828.697520661157, \"symbol\": \"circle\"}, \"mode\": \"markers\", \"name\": \"Insurance\", \"showlegend\": true, \"x\": [\"Insurance\"], \"xaxis\": \"x\", \"y\": [20.38], \"yaxis\": \"y\", \"type\": \"scatter\"}, {\"hoverlabel\": {\"namelength\": 0}, \"hovertemplate\": \"<b>%{hovertext}</b><br><br>portfolio=%{x}<br>ndays=31<br>percent=%{y}<br>volume=%{marker.size}\", \"hovertext\": [\"Mega Capital\"], \"ids\": [31], \"legendgroup\": \"Mega Capital\", \"marker\": {\"color\": \"#636efa\", \"size\": [20656810.0], \"sizemode\": \"area\", \"sizeref\": 6828.697520661157, \"symbol\": \"circle\"}, \"mode\": \"markers\", \"name\": \"Mega Capital\", \"showlegend\": true, \"x\": [\"Mega Capital\"], \"xaxis\": \"x\", \"y\": [-3.1], \"yaxis\": \"y\", \"type\": \"scatter\"}, {\"hoverlabel\": {\"namelength\": 0}, \"hovertemplate\": \"<b>%{hovertext}</b><br><br>portfolio=%{x}<br>ndays=31<br>percent=%{y}<br>volume=%{marker.size}\", \"hovertext\": [\"REIT\"], \"ids\": [31], \"legendgroup\": \"REIT\", \"marker\": {\"color\": \"#EF553B\", \"size\": [3393063.0], \"sizemode\": \"area\", \"sizeref\": 6828.697520661157, \"symbol\": \"circle\"}, \"mode\": \"markers\", \"name\": \"REIT\", \"showlegend\": true, \"x\": [\"REIT\"], \"xaxis\": \"x\", \"y\": [-7.54], \"yaxis\": \"y\", \"type\": \"scatter\"}, {\"hoverlabel\": {\"namelength\": 0}, \"hovertemplate\": \"<b>%{hovertext}</b><br><br>portfolio=%{x}<br>ndays=31<br>percent=%{y}<br>volume=%{marker.size}\", \"hovertext\": [\"Semiconductors\"], \"ids\": [31], \"legendgroup\": \"Semiconductors\", \"marker\": {\"color\": \"#00cc96\", \"size\": [3895649.3333333335], \"sizemode\": \"area\", \"sizeref\": 6828.697520661157, \"symbol\": \"circle\"}, \"mode\": \"markers\", \"name\": \"Semiconductors\", \"showlegend\": true, \"x\": [\"Semiconductors\"], \"xaxis\": \"x\", \"y\": [6.266666666666666], \"yaxis\": \"y\", \"type\": \"scatter\"}], \"name\": \"31\"}, {\"data\": [{\"hoverlabel\": {\"namelength\": 0}, \"hovertemplate\": \"<b>%{hovertext}</b><br><br>portfolio=%{x}<br>ndays=36<br>percent=%{y}<br>volume=%{marker.size}\", \"hovertext\": [\"5G\"], \"ids\": [36], \"legendgroup\": \"5G\", \"marker\": {\"color\": \"#636efa\", \"size\": [670334.0], \"sizemode\": \"area\", \"sizeref\": 6828.697520661157, \"symbol\": \"circle\"}, \"mode\": \"markers\", \"name\": \"5G\", \"showlegend\": true, \"x\": [\"5G\"], \"xaxis\": \"x\", \"y\": [5.79], \"yaxis\": \"y\", \"type\": \"scatter\"}, {\"hoverlabel\": {\"namelength\": 0}, \"hovertemplate\": \"<b>%{hovertext}</b><br><br>portfolio=%{x}<br>ndays=36<br>percent=%{y}<br>volume=%{marker.size}\", \"hovertext\": [\"Biotechnology\"], \"ids\": [36], \"legendgroup\": \"Biotechnology\", \"marker\": {\"color\": \"#EF553B\", \"size\": [4346686.0], \"sizemode\": \"area\", \"sizeref\": 6828.697520661157, \"symbol\": \"circle\"}, \"mode\": \"markers\", \"name\": \"Biotechnology\", \"showlegend\": true, \"x\": [\"Biotechnology\"], \"xaxis\": \"x\", \"y\": [21.73], \"yaxis\": \"y\", \"type\": \"scatter\"}, {\"hoverlabel\": {\"namelength\": 0}, \"hovertemplate\": \"<b>%{hovertext}</b><br><br>portfolio=%{x}<br>ndays=36<br>percent=%{y}<br>volume=%{marker.size}\", \"hovertext\": [\"CEF\"], \"ids\": [36], \"legendgroup\": \"CEF\", \"marker\": {\"color\": \"#00cc96\", \"size\": [26492.0], \"sizemode\": \"area\", \"sizeref\": 6828.697520661157, \"symbol\": \"circle\"}, \"mode\": \"markers\", \"name\": \"CEF\", \"showlegend\": true, \"x\": [\"CEF\"], \"xaxis\": \"x\", \"y\": [8.66], \"yaxis\": \"y\", \"type\": \"scatter\"}, {\"hoverlabel\": {\"namelength\": 0}, \"hovertemplate\": \"<b>%{hovertext}</b><br><br>portfolio=%{x}<br>ndays=36<br>percent=%{y}<br>volume=%{marker.size}\", \"hovertext\": [\"Cloud Retail Apps\"], \"ids\": [36], \"legendgroup\": \"Cloud Retail Apps\", \"marker\": {\"color\": \"#ab63fa\", \"size\": [776911.0], \"sizemode\": \"area\", \"sizeref\": 6828.697520661157, \"symbol\": \"circle\"}, \"mode\": \"markers\", \"name\": \"Cloud Retail Apps\", \"showlegend\": true, \"x\": [\"Cloud Retail Apps\"], \"xaxis\": \"x\", \"y\": [23.33], \"yaxis\": \"y\", \"type\": \"scatter\"}, {\"hoverlabel\": {\"namelength\": 0}, \"hovertemplate\": \"<b>%{hovertext}</b><br><br>portfolio=%{x}<br>ndays=36<br>percent=%{y}<br>volume=%{marker.size}\", \"hovertext\": [\"Dividend\"], \"ids\": [36], \"legendgroup\": \"Dividend\", \"marker\": {\"color\": \"#FFA15A\", \"size\": [23303.5], \"sizemode\": \"area\", \"sizeref\": 6828.697520661157, \"symbol\": \"circle\"}, \"mode\": \"markers\", \"name\": \"Dividend\", \"showlegend\": true, \"x\": [\"Dividend\"], \"xaxis\": \"x\", \"y\": [8.465], \"yaxis\": \"y\", \"type\": \"scatter\"}, {\"hoverlabel\": {\"namelength\": 0}, \"hovertemplate\": \"<b>%{hovertext}</b><br><br>portfolio=%{x}<br>ndays=36<br>percent=%{y}<br>volume=%{marker.size}\", \"hovertext\": [\"Electric Vehicles\"], \"ids\": [36], \"legendgroup\": \"Electric Vehicles\", \"marker\": {\"color\": \"#19d3f3\", \"size\": [13509980.5], \"sizemode\": \"area\", \"sizeref\": 6828.697520661157, \"symbol\": \"circle\"}, \"mode\": \"markers\", \"name\": \"Electric Vehicles\", \"showlegend\": true, \"x\": [\"Electric Vehicles\"], \"xaxis\": \"x\", \"y\": [83.485], \"yaxis\": \"y\", \"type\": \"scatter\"}, {\"hoverlabel\": {\"namelength\": 0}, \"hovertemplate\": \"<b>%{hovertext}</b><br><br>portfolio=%{x}<br>ndays=36<br>percent=%{y}<br>volume=%{marker.size}\", \"hovertext\": [\"Electricity Solar\"], \"ids\": [36], \"legendgroup\": \"Electricity Solar\", \"marker\": {\"color\": \"#FF6692\", \"size\": [2891608.2], \"sizemode\": \"area\", \"sizeref\": 6828.697520661157, \"symbol\": \"circle\"}, \"mode\": \"markers\", \"name\": \"Electricity Solar\", \"showlegend\": true, \"x\": [\"Electricity Solar\"], \"xaxis\": \"x\", \"y\": [25.267999999999994], \"yaxis\": \"y\", \"type\": \"scatter\"}, {\"hoverlabel\": {\"namelength\": 0}, \"hovertemplate\": \"<b>%{hovertext}</b><br><br>portfolio=%{x}<br>ndays=36<br>percent=%{y}<br>volume=%{marker.size}\", \"hovertext\": [\"Electricity Wind\"], \"ids\": [36], \"legendgroup\": \"Electricity Wind\", \"marker\": {\"color\": \"#B6E880\", \"size\": [38741.0], \"sizemode\": \"area\", \"sizeref\": 6828.697520661157, \"symbol\": \"circle\"}, \"mode\": \"markers\", \"name\": \"Electricity Wind\", \"showlegend\": true, \"x\": [\"Electricity Wind\"], \"xaxis\": \"x\", \"y\": [12.19], \"yaxis\": \"y\", \"type\": \"scatter\"}, {\"hoverlabel\": {\"namelength\": 0}, \"hovertemplate\": \"<b>%{hovertext}</b><br><br>portfolio=%{x}<br>ndays=36<br>percent=%{y}<br>volume=%{marker.size}\", \"hovertext\": [\"Energy Renewalbe\"], \"ids\": [36], \"legendgroup\": \"Energy Renewalbe\", \"marker\": {\"color\": \"#FF97FF\", \"size\": [128533.0], \"sizemode\": \"area\", \"sizeref\": 6828.697520661157, \"symbol\": \"circle\"}, \"mode\": \"markers\", \"name\": \"Energy Renewalbe\", \"showlegend\": true, \"x\": [\"Energy Renewalbe\"], \"xaxis\": \"x\", \"y\": [15.85], \"yaxis\": \"y\", \"type\": \"scatter\"}, {\"hoverlabel\": {\"namelength\": 0}, \"hovertemplate\": \"<b>%{hovertext}</b><br><br>portfolio=%{x}<br>ndays=36<br>percent=%{y}<br>volume=%{marker.size}\", \"hovertext\": [\"Insurance\"], \"ids\": [36], \"legendgroup\": \"Insurance\", \"marker\": {\"color\": \"#FECB52\", \"size\": [1459008.0], \"sizemode\": \"area\", \"sizeref\": 6828.697520661157, \"symbol\": \"circle\"}, \"mode\": \"markers\", \"name\": \"Insurance\", \"showlegend\": true, \"x\": [\"Insurance\"], \"xaxis\": \"x\", \"y\": [25.01], \"yaxis\": \"y\", \"type\": \"scatter\"}, {\"hoverlabel\": {\"namelength\": 0}, \"hovertemplate\": \"<b>%{hovertext}</b><br><br>portfolio=%{x}<br>ndays=36<br>percent=%{y}<br>volume=%{marker.size}\", \"hovertext\": [\"Mega Capital\"], \"ids\": [36], \"legendgroup\": \"Mega Capital\", \"marker\": {\"color\": \"#636efa\", \"size\": [20656810.0], \"sizemode\": \"area\", \"sizeref\": 6828.697520661157, \"symbol\": \"circle\"}, \"mode\": \"markers\", \"name\": \"Mega Capital\", \"showlegend\": true, \"x\": [\"Mega Capital\"], \"xaxis\": \"x\", \"y\": [1.4033333333333333], \"yaxis\": \"y\", \"type\": \"scatter\"}, {\"hoverlabel\": {\"namelength\": 0}, \"hovertemplate\": \"<b>%{hovertext}</b><br><br>portfolio=%{x}<br>ndays=36<br>percent=%{y}<br>volume=%{marker.size}\", \"hovertext\": [\"REIT\"], \"ids\": [36], \"legendgroup\": \"REIT\", \"marker\": {\"color\": \"#EF553B\", \"size\": [3393063.0], \"sizemode\": \"area\", \"sizeref\": 6828.697520661157, \"symbol\": \"circle\"}, \"mode\": \"markers\", \"name\": \"REIT\", \"showlegend\": true, \"x\": [\"REIT\"], \"xaxis\": \"x\", \"y\": [-0.59], \"yaxis\": \"y\", \"type\": \"scatter\"}, {\"hoverlabel\": {\"namelength\": 0}, \"hovertemplate\": \"<b>%{hovertext}</b><br><br>portfolio=%{x}<br>ndays=36<br>percent=%{y}<br>volume=%{marker.size}\", \"hovertext\": [\"Semiconductors\"], \"ids\": [36], \"legendgroup\": \"Semiconductors\", \"marker\": {\"color\": \"#00cc96\", \"size\": [3895649.3333333335], \"sizemode\": \"area\", \"sizeref\": 6828.697520661157, \"symbol\": \"circle\"}, \"mode\": \"markers\", \"name\": \"Semiconductors\", \"showlegend\": true, \"x\": [\"Semiconductors\"], \"xaxis\": \"x\", \"y\": [8.62], \"yaxis\": \"y\", \"type\": \"scatter\"}], \"name\": \"36\"}, {\"data\": [{\"hoverlabel\": {\"namelength\": 0}, \"hovertemplate\": \"<b>%{hovertext}</b><br><br>portfolio=%{x}<br>ndays=41<br>percent=%{y}<br>volume=%{marker.size}\", \"hovertext\": [\"5G\"], \"ids\": [41], \"legendgroup\": \"5G\", \"marker\": {\"color\": \"#636efa\", \"size\": [670334.0], \"sizemode\": \"area\", \"sizeref\": 6828.697520661157, \"symbol\": \"circle\"}, \"mode\": \"markers\", \"name\": \"5G\", \"showlegend\": true, \"x\": [\"5G\"], \"xaxis\": \"x\", \"y\": [7.15], \"yaxis\": \"y\", \"type\": \"scatter\"}, {\"hoverlabel\": {\"namelength\": 0}, \"hovertemplate\": \"<b>%{hovertext}</b><br><br>portfolio=%{x}<br>ndays=41<br>percent=%{y}<br>volume=%{marker.size}\", \"hovertext\": [\"Biotechnology\"], \"ids\": [41], \"legendgroup\": \"Biotechnology\", \"marker\": {\"color\": \"#EF553B\", \"size\": [4346686.0], \"sizemode\": \"area\", \"sizeref\": 6828.697520661157, \"symbol\": \"circle\"}, \"mode\": \"markers\", \"name\": \"Biotechnology\", \"showlegend\": true, \"x\": [\"Biotechnology\"], \"xaxis\": \"x\", \"y\": [22.01], \"yaxis\": \"y\", \"type\": \"scatter\"}, {\"hoverlabel\": {\"namelength\": 0}, \"hovertemplate\": \"<b>%{hovertext}</b><br><br>portfolio=%{x}<br>ndays=41<br>percent=%{y}<br>volume=%{marker.size}\", \"hovertext\": [\"CEF\"], \"ids\": [41], \"legendgroup\": \"CEF\", \"marker\": {\"color\": \"#00cc96\", \"size\": [26492.0], \"sizemode\": \"area\", \"sizeref\": 6828.697520661157, \"symbol\": \"circle\"}, \"mode\": \"markers\", \"name\": \"CEF\", \"showlegend\": true, \"x\": [\"CEF\"], \"xaxis\": \"x\", \"y\": [11.18], \"yaxis\": \"y\", \"type\": \"scatter\"}, {\"hoverlabel\": {\"namelength\": 0}, \"hovertemplate\": \"<b>%{hovertext}</b><br><br>portfolio=%{x}<br>ndays=41<br>percent=%{y}<br>volume=%{marker.size}\", \"hovertext\": [\"Cloud Retail Apps\"], \"ids\": [41], \"legendgroup\": \"Cloud Retail Apps\", \"marker\": {\"color\": \"#ab63fa\", \"size\": [776911.0], \"sizemode\": \"area\", \"sizeref\": 6828.697520661157, \"symbol\": \"circle\"}, \"mode\": \"markers\", \"name\": \"Cloud Retail Apps\", \"showlegend\": true, \"x\": [\"Cloud Retail Apps\"], \"xaxis\": \"x\", \"y\": [21.71], \"yaxis\": \"y\", \"type\": \"scatter\"}, {\"hoverlabel\": {\"namelength\": 0}, \"hovertemplate\": \"<b>%{hovertext}</b><br><br>portfolio=%{x}<br>ndays=41<br>percent=%{y}<br>volume=%{marker.size}\", \"hovertext\": [\"Dividend\"], \"ids\": [41], \"legendgroup\": \"Dividend\", \"marker\": {\"color\": \"#FFA15A\", \"size\": [23303.5], \"sizemode\": \"area\", \"sizeref\": 6828.697520661157, \"symbol\": \"circle\"}, \"mode\": \"markers\", \"name\": \"Dividend\", \"showlegend\": true, \"x\": [\"Dividend\"], \"xaxis\": \"x\", \"y\": [9.075], \"yaxis\": \"y\", \"type\": \"scatter\"}, {\"hoverlabel\": {\"namelength\": 0}, \"hovertemplate\": \"<b>%{hovertext}</b><br><br>portfolio=%{x}<br>ndays=41<br>percent=%{y}<br>volume=%{marker.size}\", \"hovertext\": [\"Electric Vehicles\"], \"ids\": [41], \"legendgroup\": \"Electric Vehicles\", \"marker\": {\"color\": \"#19d3f3\", \"size\": [13509980.5], \"sizemode\": \"area\", \"sizeref\": 6828.697520661157, \"symbol\": \"circle\"}, \"mode\": \"markers\", \"name\": \"Electric Vehicles\", \"showlegend\": true, \"x\": [\"Electric Vehicles\"], \"xaxis\": \"x\", \"y\": [90.625], \"yaxis\": \"y\", \"type\": \"scatter\"}, {\"hoverlabel\": {\"namelength\": 0}, \"hovertemplate\": \"<b>%{hovertext}</b><br><br>portfolio=%{x}<br>ndays=41<br>percent=%{y}<br>volume=%{marker.size}\", \"hovertext\": [\"Electricity Solar\"], \"ids\": [41], \"legendgroup\": \"Electricity Solar\", \"marker\": {\"color\": \"#FF6692\", \"size\": [2891608.2], \"sizemode\": \"area\", \"sizeref\": 6828.697520661157, \"symbol\": \"circle\"}, \"mode\": \"markers\", \"name\": \"Electricity Solar\", \"showlegend\": true, \"x\": [\"Electricity Solar\"], \"xaxis\": \"x\", \"y\": [48.344], \"yaxis\": \"y\", \"type\": \"scatter\"}, {\"hoverlabel\": {\"namelength\": 0}, \"hovertemplate\": \"<b>%{hovertext}</b><br><br>portfolio=%{x}<br>ndays=41<br>percent=%{y}<br>volume=%{marker.size}\", \"hovertext\": [\"Electricity Wind\"], \"ids\": [41], \"legendgroup\": \"Electricity Wind\", \"marker\": {\"color\": \"#B6E880\", \"size\": [38741.0], \"sizemode\": \"area\", \"sizeref\": 6828.697520661157, \"symbol\": \"circle\"}, \"mode\": \"markers\", \"name\": \"Electricity Wind\", \"showlegend\": true, \"x\": [\"Electricity Wind\"], \"xaxis\": \"x\", \"y\": [19.5], \"yaxis\": \"y\", \"type\": \"scatter\"}, {\"hoverlabel\": {\"namelength\": 0}, \"hovertemplate\": \"<b>%{hovertext}</b><br><br>portfolio=%{x}<br>ndays=41<br>percent=%{y}<br>volume=%{marker.size}\", \"hovertext\": [\"Energy Renewalbe\"], \"ids\": [41], \"legendgroup\": \"Energy Renewalbe\", \"marker\": {\"color\": \"#FF97FF\", \"size\": [128533.0], \"sizemode\": \"area\", \"sizeref\": 6828.697520661157, \"symbol\": \"circle\"}, \"mode\": \"markers\", \"name\": \"Energy Renewalbe\", \"showlegend\": true, \"x\": [\"Energy Renewalbe\"], \"xaxis\": \"x\", \"y\": [15.2], \"yaxis\": \"y\", \"type\": \"scatter\"}, {\"hoverlabel\": {\"namelength\": 0}, \"hovertemplate\": \"<b>%{hovertext}</b><br><br>portfolio=%{x}<br>ndays=41<br>percent=%{y}<br>volume=%{marker.size}\", \"hovertext\": [\"Insurance\"], \"ids\": [41], \"legendgroup\": \"Insurance\", \"marker\": {\"color\": \"#FECB52\", \"size\": [1459008.0], \"sizemode\": \"area\", \"sizeref\": 6828.697520661157, \"symbol\": \"circle\"}, \"mode\": \"markers\", \"name\": \"Insurance\", \"showlegend\": true, \"x\": [\"Insurance\"], \"xaxis\": \"x\", \"y\": [46.0], \"yaxis\": \"y\", \"type\": \"scatter\"}, {\"hoverlabel\": {\"namelength\": 0}, \"hovertemplate\": \"<b>%{hovertext}</b><br><br>portfolio=%{x}<br>ndays=41<br>percent=%{y}<br>volume=%{marker.size}\", \"hovertext\": [\"Mega Capital\"], \"ids\": [41], \"legendgroup\": \"Mega Capital\", \"marker\": {\"color\": \"#636efa\", \"size\": [20656810.0], \"sizemode\": \"area\", \"sizeref\": 6828.697520661157, \"symbol\": \"circle\"}, \"mode\": \"markers\", \"name\": \"Mega Capital\", \"showlegend\": true, \"x\": [\"Mega Capital\"], \"xaxis\": \"x\", \"y\": [0.25666666666666665], \"yaxis\": \"y\", \"type\": \"scatter\"}, {\"hoverlabel\": {\"namelength\": 0}, \"hovertemplate\": \"<b>%{hovertext}</b><br><br>portfolio=%{x}<br>ndays=41<br>percent=%{y}<br>volume=%{marker.size}\", \"hovertext\": [\"REIT\"], \"ids\": [41], \"legendgroup\": \"REIT\", \"marker\": {\"color\": \"#EF553B\", \"size\": [3393063.0], \"sizemode\": \"area\", \"sizeref\": 6828.697520661157, \"symbol\": \"circle\"}, \"mode\": \"markers\", \"name\": \"REIT\", \"showlegend\": true, \"x\": [\"REIT\"], \"xaxis\": \"x\", \"y\": [3.88], \"yaxis\": \"y\", \"type\": \"scatter\"}, {\"hoverlabel\": {\"namelength\": 0}, \"hovertemplate\": \"<b>%{hovertext}</b><br><br>portfolio=%{x}<br>ndays=41<br>percent=%{y}<br>volume=%{marker.size}\", \"hovertext\": [\"Semiconductors\"], \"ids\": [41], \"legendgroup\": \"Semiconductors\", \"marker\": {\"color\": \"#00cc96\", \"size\": [3895649.3333333335], \"sizemode\": \"area\", \"sizeref\": 6828.697520661157, \"symbol\": \"circle\"}, \"mode\": \"markers\", \"name\": \"Semiconductors\", \"showlegend\": true, \"x\": [\"Semiconductors\"], \"xaxis\": \"x\", \"y\": [12.420000000000002], \"yaxis\": \"y\", \"type\": \"scatter\"}], \"name\": \"41\"}]);\n",
       "                        }).then(function(){\n",
       "                            \n",
       "var gd = document.getElementById('f2853faa-925c-44e0-a4b5-b227b57427a1');\n",
       "var x = new MutationObserver(function (mutations, observer) {{\n",
       "        var display = window.getComputedStyle(gd).display;\n",
       "        if (!display || display === 'none') {{\n",
       "            console.log([gd, 'removed!']);\n",
       "            Plotly.purge(gd);\n",
       "            observer.disconnect();\n",
       "        }}\n",
       "}});\n",
       "\n",
       "// Listen for the removal of the full notebook cells\n",
       "var notebookContainer = gd.closest('#notebook-container');\n",
       "if (notebookContainer) {{\n",
       "    x.observe(notebookContainer, {childList: true});\n",
       "}}\n",
       "\n",
       "// Listen for the clearing of the current output cell\n",
       "var outputEl = gd.closest('.output');\n",
       "if (outputEl) {{\n",
       "    x.observe(outputEl, {childList: true});\n",
       "}}\n",
       "\n",
       "                        })\n",
       "                };\n",
       "                });\n",
       "            </script>\n",
       "        </div>"
      ]
     },
     "metadata": {},
     "output_type": "display_data"
    }
   ],
   "source": [
    "import plotly.express as px\n",
    "fig = px.scatter(dfa, x=\"portfolio\", y=\"percent\", animation_frame=\"ndays\", animation_group=\"ndays\",\n",
    "           size=\"volume\", color=\"portfolio\", hover_name=\"portfolio\",\n",
    "           log_x=False, size_max=55, \n",
    "            range_x=[0,len(set(dfa.portfolio.values))], range_y=[min(dfa.percent.values),max(dfa.percent.values)],\n",
    "            width=1350, height=800)\n",
    "\n",
    "fig[\"layout\"].pop(\"updatemenus\") # optional, drop animation buttons\n",
    "fig.show()"
   ]
  },
  {
   "cell_type": "code",
   "execution_count": 111,
   "metadata": {},
   "outputs": [
    {
     "data": {
      "application/vnd.plotly.v1+json": {
       "config": {
        "plotlyServerURL": "https://plot.ly"
       },
       "data": [
        {
         "alignmentgroup": "True",
         "hoverlabel": {
          "namelength": 0
         },
         "hovertemplate": "<b>%{hovertext}</b><br><br>portfolio=%{x}<br>ndays=1<br>percent=%{y}",
         "hovertext": [
          "5G"
         ],
         "ids": [
          1
         ],
         "legendgroup": "5G",
         "marker": {
          "color": "#636efa"
         },
         "name": "5G",
         "offsetgroup": "5G",
         "orientation": "v",
         "showlegend": true,
         "textposition": "auto",
         "type": "bar",
         "x": [
          "5G"
         ],
         "xaxis": "x",
         "y": [
          1.05
         ],
         "yaxis": "y"
        },
        {
         "alignmentgroup": "True",
         "hoverlabel": {
          "namelength": 0
         },
         "hovertemplate": "<b>%{hovertext}</b><br><br>portfolio=%{x}<br>ndays=1<br>percent=%{y}",
         "hovertext": [
          "Biotechnology"
         ],
         "ids": [
          1
         ],
         "legendgroup": "Biotechnology",
         "marker": {
          "color": "#EF553B"
         },
         "name": "Biotechnology",
         "offsetgroup": "Biotechnology",
         "orientation": "v",
         "showlegend": true,
         "textposition": "auto",
         "type": "bar",
         "x": [
          "Biotechnology"
         ],
         "xaxis": "x",
         "y": [
          0.66
         ],
         "yaxis": "y"
        },
        {
         "alignmentgroup": "True",
         "hoverlabel": {
          "namelength": 0
         },
         "hovertemplate": "<b>%{hovertext}</b><br><br>portfolio=%{x}<br>ndays=1<br>percent=%{y}",
         "hovertext": [
          "CEF"
         ],
         "ids": [
          1
         ],
         "legendgroup": "CEF",
         "marker": {
          "color": "#00cc96"
         },
         "name": "CEF",
         "offsetgroup": "CEF",
         "orientation": "v",
         "showlegend": true,
         "textposition": "auto",
         "type": "bar",
         "x": [
          "CEF"
         ],
         "xaxis": "x",
         "y": [
          0.45
         ],
         "yaxis": "y"
        },
        {
         "alignmentgroup": "True",
         "hoverlabel": {
          "namelength": 0
         },
         "hovertemplate": "<b>%{hovertext}</b><br><br>portfolio=%{x}<br>ndays=1<br>percent=%{y}",
         "hovertext": [
          "Cloud Retail Apps"
         ],
         "ids": [
          1
         ],
         "legendgroup": "Cloud Retail Apps",
         "marker": {
          "color": "#ab63fa"
         },
         "name": "Cloud Retail Apps",
         "offsetgroup": "Cloud Retail Apps",
         "orientation": "v",
         "showlegend": true,
         "textposition": "auto",
         "type": "bar",
         "x": [
          "Cloud Retail Apps"
         ],
         "xaxis": "x",
         "y": [
          1.09
         ],
         "yaxis": "y"
        },
        {
         "alignmentgroup": "True",
         "hoverlabel": {
          "namelength": 0
         },
         "hovertemplate": "<b>%{hovertext}</b><br><br>portfolio=%{x}<br>ndays=1<br>percent=%{y}",
         "hovertext": [
          "Dividend"
         ],
         "ids": [
          1
         ],
         "legendgroup": "Dividend",
         "marker": {
          "color": "#FFA15A"
         },
         "name": "Dividend",
         "offsetgroup": "Dividend",
         "orientation": "v",
         "showlegend": true,
         "textposition": "auto",
         "type": "bar",
         "x": [
          "Dividend"
         ],
         "xaxis": "x",
         "y": [
          0.9850000000000001
         ],
         "yaxis": "y"
        },
        {
         "alignmentgroup": "True",
         "hoverlabel": {
          "namelength": 0
         },
         "hovertemplate": "<b>%{hovertext}</b><br><br>portfolio=%{x}<br>ndays=1<br>percent=%{y}",
         "hovertext": [
          "Electric Vehicles"
         ],
         "ids": [
          1
         ],
         "legendgroup": "Electric Vehicles",
         "marker": {
          "color": "#19d3f3"
         },
         "name": "Electric Vehicles",
         "offsetgroup": "Electric Vehicles",
         "orientation": "v",
         "showlegend": true,
         "textposition": "auto",
         "type": "bar",
         "x": [
          "Electric Vehicles"
         ],
         "xaxis": "x",
         "y": [
          -3.025
         ],
         "yaxis": "y"
        },
        {
         "alignmentgroup": "True",
         "hoverlabel": {
          "namelength": 0
         },
         "hovertemplate": "<b>%{hovertext}</b><br><br>portfolio=%{x}<br>ndays=1<br>percent=%{y}",
         "hovertext": [
          "Electricity Solar"
         ],
         "ids": [
          1
         ],
         "legendgroup": "Electricity Solar",
         "marker": {
          "color": "#FF6692"
         },
         "name": "Electricity Solar",
         "offsetgroup": "Electricity Solar",
         "orientation": "v",
         "showlegend": true,
         "textposition": "auto",
         "type": "bar",
         "x": [
          "Electricity Solar"
         ],
         "xaxis": "x",
         "y": [
          2.138
         ],
         "yaxis": "y"
        },
        {
         "alignmentgroup": "True",
         "hoverlabel": {
          "namelength": 0
         },
         "hovertemplate": "<b>%{hovertext}</b><br><br>portfolio=%{x}<br>ndays=1<br>percent=%{y}",
         "hovertext": [
          "Electricity Wind"
         ],
         "ids": [
          1
         ],
         "legendgroup": "Electricity Wind",
         "marker": {
          "color": "#B6E880"
         },
         "name": "Electricity Wind",
         "offsetgroup": "Electricity Wind",
         "orientation": "v",
         "showlegend": true,
         "textposition": "auto",
         "type": "bar",
         "x": [
          "Electricity Wind"
         ],
         "xaxis": "x",
         "y": [
          3.73
         ],
         "yaxis": "y"
        },
        {
         "alignmentgroup": "True",
         "hoverlabel": {
          "namelength": 0
         },
         "hovertemplate": "<b>%{hovertext}</b><br><br>portfolio=%{x}<br>ndays=1<br>percent=%{y}",
         "hovertext": [
          "Energy Renewalbe"
         ],
         "ids": [
          1
         ],
         "legendgroup": "Energy Renewalbe",
         "marker": {
          "color": "#FF97FF"
         },
         "name": "Energy Renewalbe",
         "offsetgroup": "Energy Renewalbe",
         "orientation": "v",
         "showlegend": true,
         "textposition": "auto",
         "type": "bar",
         "x": [
          "Energy Renewalbe"
         ],
         "xaxis": "x",
         "y": [
          2.3
         ],
         "yaxis": "y"
        },
        {
         "alignmentgroup": "True",
         "hoverlabel": {
          "namelength": 0
         },
         "hovertemplate": "<b>%{hovertext}</b><br><br>portfolio=%{x}<br>ndays=1<br>percent=%{y}",
         "hovertext": [
          "Insurance"
         ],
         "ids": [
          1
         ],
         "legendgroup": "Insurance",
         "marker": {
          "color": "#FECB52"
         },
         "name": "Insurance",
         "offsetgroup": "Insurance",
         "orientation": "v",
         "showlegend": true,
         "textposition": "auto",
         "type": "bar",
         "x": [
          "Insurance"
         ],
         "xaxis": "x",
         "y": [
          10.13
         ],
         "yaxis": "y"
        },
        {
         "alignmentgroup": "True",
         "hoverlabel": {
          "namelength": 0
         },
         "hovertemplate": "<b>%{hovertext}</b><br><br>portfolio=%{x}<br>ndays=1<br>percent=%{y}",
         "hovertext": [
          "Mega Capital"
         ],
         "ids": [
          1
         ],
         "legendgroup": "Mega Capital",
         "marker": {
          "color": "#636efa"
         },
         "name": "Mega Capital",
         "offsetgroup": "Mega Capital",
         "orientation": "v",
         "showlegend": true,
         "textposition": "auto",
         "type": "bar",
         "x": [
          "Mega Capital"
         ],
         "xaxis": "x",
         "y": [
          0.48
         ],
         "yaxis": "y"
        },
        {
         "alignmentgroup": "True",
         "hoverlabel": {
          "namelength": 0
         },
         "hovertemplate": "<b>%{hovertext}</b><br><br>portfolio=%{x}<br>ndays=1<br>percent=%{y}",
         "hovertext": [
          "REIT"
         ],
         "ids": [
          1
         ],
         "legendgroup": "REIT",
         "marker": {
          "color": "#EF553B"
         },
         "name": "REIT",
         "offsetgroup": "REIT",
         "orientation": "v",
         "showlegend": true,
         "textposition": "auto",
         "type": "bar",
         "x": [
          "REIT"
         ],
         "xaxis": "x",
         "y": [
          6.55
         ],
         "yaxis": "y"
        },
        {
         "alignmentgroup": "True",
         "hoverlabel": {
          "namelength": 0
         },
         "hovertemplate": "<b>%{hovertext}</b><br><br>portfolio=%{x}<br>ndays=1<br>percent=%{y}",
         "hovertext": [
          "Semiconductors"
         ],
         "ids": [
          1
         ],
         "legendgroup": "Semiconductors",
         "marker": {
          "color": "#00cc96"
         },
         "name": "Semiconductors",
         "offsetgroup": "Semiconductors",
         "orientation": "v",
         "showlegend": true,
         "textposition": "auto",
         "type": "bar",
         "x": [
          "Semiconductors"
         ],
         "xaxis": "x",
         "y": [
          0.4366666666666667
         ],
         "yaxis": "y"
        }
       ],
       "frames": [
        {
         "data": [
          {
           "alignmentgroup": "True",
           "hoverlabel": {
            "namelength": 0
           },
           "hovertemplate": "<b>%{hovertext}</b><br><br>portfolio=%{x}<br>ndays=1<br>percent=%{y}",
           "hovertext": [
            "5G"
           ],
           "ids": [
            1
           ],
           "legendgroup": "5G",
           "marker": {
            "color": "#636efa"
           },
           "name": "5G",
           "offsetgroup": "5G",
           "orientation": "v",
           "showlegend": true,
           "textposition": "auto",
           "type": "bar",
           "x": [
            "5G"
           ],
           "xaxis": "x",
           "y": [
            1.05
           ],
           "yaxis": "y"
          },
          {
           "alignmentgroup": "True",
           "hoverlabel": {
            "namelength": 0
           },
           "hovertemplate": "<b>%{hovertext}</b><br><br>portfolio=%{x}<br>ndays=1<br>percent=%{y}",
           "hovertext": [
            "Biotechnology"
           ],
           "ids": [
            1
           ],
           "legendgroup": "Biotechnology",
           "marker": {
            "color": "#EF553B"
           },
           "name": "Biotechnology",
           "offsetgroup": "Biotechnology",
           "orientation": "v",
           "showlegend": true,
           "textposition": "auto",
           "type": "bar",
           "x": [
            "Biotechnology"
           ],
           "xaxis": "x",
           "y": [
            0.66
           ],
           "yaxis": "y"
          },
          {
           "alignmentgroup": "True",
           "hoverlabel": {
            "namelength": 0
           },
           "hovertemplate": "<b>%{hovertext}</b><br><br>portfolio=%{x}<br>ndays=1<br>percent=%{y}",
           "hovertext": [
            "CEF"
           ],
           "ids": [
            1
           ],
           "legendgroup": "CEF",
           "marker": {
            "color": "#00cc96"
           },
           "name": "CEF",
           "offsetgroup": "CEF",
           "orientation": "v",
           "showlegend": true,
           "textposition": "auto",
           "type": "bar",
           "x": [
            "CEF"
           ],
           "xaxis": "x",
           "y": [
            0.45
           ],
           "yaxis": "y"
          },
          {
           "alignmentgroup": "True",
           "hoverlabel": {
            "namelength": 0
           },
           "hovertemplate": "<b>%{hovertext}</b><br><br>portfolio=%{x}<br>ndays=1<br>percent=%{y}",
           "hovertext": [
            "Cloud Retail Apps"
           ],
           "ids": [
            1
           ],
           "legendgroup": "Cloud Retail Apps",
           "marker": {
            "color": "#ab63fa"
           },
           "name": "Cloud Retail Apps",
           "offsetgroup": "Cloud Retail Apps",
           "orientation": "v",
           "showlegend": true,
           "textposition": "auto",
           "type": "bar",
           "x": [
            "Cloud Retail Apps"
           ],
           "xaxis": "x",
           "y": [
            1.09
           ],
           "yaxis": "y"
          },
          {
           "alignmentgroup": "True",
           "hoverlabel": {
            "namelength": 0
           },
           "hovertemplate": "<b>%{hovertext}</b><br><br>portfolio=%{x}<br>ndays=1<br>percent=%{y}",
           "hovertext": [
            "Dividend"
           ],
           "ids": [
            1
           ],
           "legendgroup": "Dividend",
           "marker": {
            "color": "#FFA15A"
           },
           "name": "Dividend",
           "offsetgroup": "Dividend",
           "orientation": "v",
           "showlegend": true,
           "textposition": "auto",
           "type": "bar",
           "x": [
            "Dividend"
           ],
           "xaxis": "x",
           "y": [
            0.9850000000000001
           ],
           "yaxis": "y"
          },
          {
           "alignmentgroup": "True",
           "hoverlabel": {
            "namelength": 0
           },
           "hovertemplate": "<b>%{hovertext}</b><br><br>portfolio=%{x}<br>ndays=1<br>percent=%{y}",
           "hovertext": [
            "Electric Vehicles"
           ],
           "ids": [
            1
           ],
           "legendgroup": "Electric Vehicles",
           "marker": {
            "color": "#19d3f3"
           },
           "name": "Electric Vehicles",
           "offsetgroup": "Electric Vehicles",
           "orientation": "v",
           "showlegend": true,
           "textposition": "auto",
           "type": "bar",
           "x": [
            "Electric Vehicles"
           ],
           "xaxis": "x",
           "y": [
            -3.025
           ],
           "yaxis": "y"
          },
          {
           "alignmentgroup": "True",
           "hoverlabel": {
            "namelength": 0
           },
           "hovertemplate": "<b>%{hovertext}</b><br><br>portfolio=%{x}<br>ndays=1<br>percent=%{y}",
           "hovertext": [
            "Electricity Solar"
           ],
           "ids": [
            1
           ],
           "legendgroup": "Electricity Solar",
           "marker": {
            "color": "#FF6692"
           },
           "name": "Electricity Solar",
           "offsetgroup": "Electricity Solar",
           "orientation": "v",
           "showlegend": true,
           "textposition": "auto",
           "type": "bar",
           "x": [
            "Electricity Solar"
           ],
           "xaxis": "x",
           "y": [
            2.138
           ],
           "yaxis": "y"
          },
          {
           "alignmentgroup": "True",
           "hoverlabel": {
            "namelength": 0
           },
           "hovertemplate": "<b>%{hovertext}</b><br><br>portfolio=%{x}<br>ndays=1<br>percent=%{y}",
           "hovertext": [
            "Electricity Wind"
           ],
           "ids": [
            1
           ],
           "legendgroup": "Electricity Wind",
           "marker": {
            "color": "#B6E880"
           },
           "name": "Electricity Wind",
           "offsetgroup": "Electricity Wind",
           "orientation": "v",
           "showlegend": true,
           "textposition": "auto",
           "type": "bar",
           "x": [
            "Electricity Wind"
           ],
           "xaxis": "x",
           "y": [
            3.73
           ],
           "yaxis": "y"
          },
          {
           "alignmentgroup": "True",
           "hoverlabel": {
            "namelength": 0
           },
           "hovertemplate": "<b>%{hovertext}</b><br><br>portfolio=%{x}<br>ndays=1<br>percent=%{y}",
           "hovertext": [
            "Energy Renewalbe"
           ],
           "ids": [
            1
           ],
           "legendgroup": "Energy Renewalbe",
           "marker": {
            "color": "#FF97FF"
           },
           "name": "Energy Renewalbe",
           "offsetgroup": "Energy Renewalbe",
           "orientation": "v",
           "showlegend": true,
           "textposition": "auto",
           "type": "bar",
           "x": [
            "Energy Renewalbe"
           ],
           "xaxis": "x",
           "y": [
            2.3
           ],
           "yaxis": "y"
          },
          {
           "alignmentgroup": "True",
           "hoverlabel": {
            "namelength": 0
           },
           "hovertemplate": "<b>%{hovertext}</b><br><br>portfolio=%{x}<br>ndays=1<br>percent=%{y}",
           "hovertext": [
            "Insurance"
           ],
           "ids": [
            1
           ],
           "legendgroup": "Insurance",
           "marker": {
            "color": "#FECB52"
           },
           "name": "Insurance",
           "offsetgroup": "Insurance",
           "orientation": "v",
           "showlegend": true,
           "textposition": "auto",
           "type": "bar",
           "x": [
            "Insurance"
           ],
           "xaxis": "x",
           "y": [
            10.13
           ],
           "yaxis": "y"
          },
          {
           "alignmentgroup": "True",
           "hoverlabel": {
            "namelength": 0
           },
           "hovertemplate": "<b>%{hovertext}</b><br><br>portfolio=%{x}<br>ndays=1<br>percent=%{y}",
           "hovertext": [
            "Mega Capital"
           ],
           "ids": [
            1
           ],
           "legendgroup": "Mega Capital",
           "marker": {
            "color": "#636efa"
           },
           "name": "Mega Capital",
           "offsetgroup": "Mega Capital",
           "orientation": "v",
           "showlegend": true,
           "textposition": "auto",
           "type": "bar",
           "x": [
            "Mega Capital"
           ],
           "xaxis": "x",
           "y": [
            0.48
           ],
           "yaxis": "y"
          },
          {
           "alignmentgroup": "True",
           "hoverlabel": {
            "namelength": 0
           },
           "hovertemplate": "<b>%{hovertext}</b><br><br>portfolio=%{x}<br>ndays=1<br>percent=%{y}",
           "hovertext": [
            "REIT"
           ],
           "ids": [
            1
           ],
           "legendgroup": "REIT",
           "marker": {
            "color": "#EF553B"
           },
           "name": "REIT",
           "offsetgroup": "REIT",
           "orientation": "v",
           "showlegend": true,
           "textposition": "auto",
           "type": "bar",
           "x": [
            "REIT"
           ],
           "xaxis": "x",
           "y": [
            6.55
           ],
           "yaxis": "y"
          },
          {
           "alignmentgroup": "True",
           "hoverlabel": {
            "namelength": 0
           },
           "hovertemplate": "<b>%{hovertext}</b><br><br>portfolio=%{x}<br>ndays=1<br>percent=%{y}",
           "hovertext": [
            "Semiconductors"
           ],
           "ids": [
            1
           ],
           "legendgroup": "Semiconductors",
           "marker": {
            "color": "#00cc96"
           },
           "name": "Semiconductors",
           "offsetgroup": "Semiconductors",
           "orientation": "v",
           "showlegend": true,
           "textposition": "auto",
           "type": "bar",
           "x": [
            "Semiconductors"
           ],
           "xaxis": "x",
           "y": [
            0.4366666666666667
           ],
           "yaxis": "y"
          }
         ],
         "name": "1"
        },
        {
         "data": [
          {
           "alignmentgroup": "True",
           "hoverlabel": {
            "namelength": 0
           },
           "hovertemplate": "<b>%{hovertext}</b><br><br>portfolio=%{x}<br>ndays=6<br>percent=%{y}",
           "hovertext": [
            "5G"
           ],
           "ids": [
            6
           ],
           "legendgroup": "5G",
           "marker": {
            "color": "#636efa"
           },
           "name": "5G",
           "offsetgroup": "5G",
           "orientation": "v",
           "showlegend": true,
           "textposition": "auto",
           "type": "bar",
           "x": [
            "5G"
           ],
           "xaxis": "x",
           "y": [
            2.76
           ],
           "yaxis": "y"
          },
          {
           "alignmentgroup": "True",
           "hoverlabel": {
            "namelength": 0
           },
           "hovertemplate": "<b>%{hovertext}</b><br><br>portfolio=%{x}<br>ndays=6<br>percent=%{y}",
           "hovertext": [
            "Biotechnology"
           ],
           "ids": [
            6
           ],
           "legendgroup": "Biotechnology",
           "marker": {
            "color": "#EF553B"
           },
           "name": "Biotechnology",
           "offsetgroup": "Biotechnology",
           "orientation": "v",
           "showlegend": true,
           "textposition": "auto",
           "type": "bar",
           "x": [
            "Biotechnology"
           ],
           "xaxis": "x",
           "y": [
            5.24
           ],
           "yaxis": "y"
          },
          {
           "alignmentgroup": "True",
           "hoverlabel": {
            "namelength": 0
           },
           "hovertemplate": "<b>%{hovertext}</b><br><br>portfolio=%{x}<br>ndays=6<br>percent=%{y}",
           "hovertext": [
            "CEF"
           ],
           "ids": [
            6
           ],
           "legendgroup": "CEF",
           "marker": {
            "color": "#00cc96"
           },
           "name": "CEF",
           "offsetgroup": "CEF",
           "orientation": "v",
           "showlegend": true,
           "textposition": "auto",
           "type": "bar",
           "x": [
            "CEF"
           ],
           "xaxis": "x",
           "y": [
            1.66
           ],
           "yaxis": "y"
          },
          {
           "alignmentgroup": "True",
           "hoverlabel": {
            "namelength": 0
           },
           "hovertemplate": "<b>%{hovertext}</b><br><br>portfolio=%{x}<br>ndays=6<br>percent=%{y}",
           "hovertext": [
            "Cloud Retail Apps"
           ],
           "ids": [
            6
           ],
           "legendgroup": "Cloud Retail Apps",
           "marker": {
            "color": "#ab63fa"
           },
           "name": "Cloud Retail Apps",
           "offsetgroup": "Cloud Retail Apps",
           "orientation": "v",
           "showlegend": true,
           "textposition": "auto",
           "type": "bar",
           "x": [
            "Cloud Retail Apps"
           ],
           "xaxis": "x",
           "y": [
            -5.71
           ],
           "yaxis": "y"
          },
          {
           "alignmentgroup": "True",
           "hoverlabel": {
            "namelength": 0
           },
           "hovertemplate": "<b>%{hovertext}</b><br><br>portfolio=%{x}<br>ndays=6<br>percent=%{y}",
           "hovertext": [
            "Dividend"
           ],
           "ids": [
            6
           ],
           "legendgroup": "Dividend",
           "marker": {
            "color": "#FFA15A"
           },
           "name": "Dividend",
           "offsetgroup": "Dividend",
           "orientation": "v",
           "showlegend": true,
           "textposition": "auto",
           "type": "bar",
           "x": [
            "Dividend"
           ],
           "xaxis": "x",
           "y": [
            1.6099999999999999
           ],
           "yaxis": "y"
          },
          {
           "alignmentgroup": "True",
           "hoverlabel": {
            "namelength": 0
           },
           "hovertemplate": "<b>%{hovertext}</b><br><br>portfolio=%{x}<br>ndays=6<br>percent=%{y}",
           "hovertext": [
            "Electric Vehicles"
           ],
           "ids": [
            6
           ],
           "legendgroup": "Electric Vehicles",
           "marker": {
            "color": "#19d3f3"
           },
           "name": "Electric Vehicles",
           "offsetgroup": "Electric Vehicles",
           "orientation": "v",
           "showlegend": true,
           "textposition": "auto",
           "type": "bar",
           "x": [
            "Electric Vehicles"
           ],
           "xaxis": "x",
           "y": [
            7.5649999999999995
           ],
           "yaxis": "y"
          },
          {
           "alignmentgroup": "True",
           "hoverlabel": {
            "namelength": 0
           },
           "hovertemplate": "<b>%{hovertext}</b><br><br>portfolio=%{x}<br>ndays=6<br>percent=%{y}",
           "hovertext": [
            "Electricity Solar"
           ],
           "ids": [
            6
           ],
           "legendgroup": "Electricity Solar",
           "marker": {
            "color": "#FF6692"
           },
           "name": "Electricity Solar",
           "offsetgroup": "Electricity Solar",
           "orientation": "v",
           "showlegend": true,
           "textposition": "auto",
           "type": "bar",
           "x": [
            "Electricity Solar"
           ],
           "xaxis": "x",
           "y": [
            12.724
           ],
           "yaxis": "y"
          },
          {
           "alignmentgroup": "True",
           "hoverlabel": {
            "namelength": 0
           },
           "hovertemplate": "<b>%{hovertext}</b><br><br>portfolio=%{x}<br>ndays=6<br>percent=%{y}",
           "hovertext": [
            "Electricity Wind"
           ],
           "ids": [
            6
           ],
           "legendgroup": "Electricity Wind",
           "marker": {
            "color": "#B6E880"
           },
           "name": "Electricity Wind",
           "offsetgroup": "Electricity Wind",
           "orientation": "v",
           "showlegend": true,
           "textposition": "auto",
           "type": "bar",
           "x": [
            "Electricity Wind"
           ],
           "xaxis": "x",
           "y": [
            3.71
           ],
           "yaxis": "y"
          },
          {
           "alignmentgroup": "True",
           "hoverlabel": {
            "namelength": 0
           },
           "hovertemplate": "<b>%{hovertext}</b><br><br>portfolio=%{x}<br>ndays=6<br>percent=%{y}",
           "hovertext": [
            "Energy Renewalbe"
           ],
           "ids": [
            6
           ],
           "legendgroup": "Energy Renewalbe",
           "marker": {
            "color": "#FF97FF"
           },
           "name": "Energy Renewalbe",
           "offsetgroup": "Energy Renewalbe",
           "orientation": "v",
           "showlegend": true,
           "textposition": "auto",
           "type": "bar",
           "x": [
            "Energy Renewalbe"
           ],
           "xaxis": "x",
           "y": [
            22.56
           ],
           "yaxis": "y"
          },
          {
           "alignmentgroup": "True",
           "hoverlabel": {
            "namelength": 0
           },
           "hovertemplate": "<b>%{hovertext}</b><br><br>portfolio=%{x}<br>ndays=6<br>percent=%{y}",
           "hovertext": [
            "Insurance"
           ],
           "ids": [
            6
           ],
           "legendgroup": "Insurance",
           "marker": {
            "color": "#FECB52"
           },
           "name": "Insurance",
           "offsetgroup": "Insurance",
           "orientation": "v",
           "showlegend": true,
           "textposition": "auto",
           "type": "bar",
           "x": [
            "Insurance"
           ],
           "xaxis": "x",
           "y": [
            20.85
           ],
           "yaxis": "y"
          },
          {
           "alignmentgroup": "True",
           "hoverlabel": {
            "namelength": 0
           },
           "hovertemplate": "<b>%{hovertext}</b><br><br>portfolio=%{x}<br>ndays=6<br>percent=%{y}",
           "hovertext": [
            "Mega Capital"
           ],
           "ids": [
            6
           ],
           "legendgroup": "Mega Capital",
           "marker": {
            "color": "#636efa"
           },
           "name": "Mega Capital",
           "offsetgroup": "Mega Capital",
           "orientation": "v",
           "showlegend": true,
           "textposition": "auto",
           "type": "bar",
           "x": [
            "Mega Capital"
           ],
           "xaxis": "x",
           "y": [
            0.6999999999999998
           ],
           "yaxis": "y"
          },
          {
           "alignmentgroup": "True",
           "hoverlabel": {
            "namelength": 0
           },
           "hovertemplate": "<b>%{hovertext}</b><br><br>portfolio=%{x}<br>ndays=6<br>percent=%{y}",
           "hovertext": [
            "REIT"
           ],
           "ids": [
            6
           ],
           "legendgroup": "REIT",
           "marker": {
            "color": "#EF553B"
           },
           "name": "REIT",
           "offsetgroup": "REIT",
           "orientation": "v",
           "showlegend": true,
           "textposition": "auto",
           "type": "bar",
           "x": [
            "REIT"
           ],
           "xaxis": "x",
           "y": [
            8.61
           ],
           "yaxis": "y"
          },
          {
           "alignmentgroup": "True",
           "hoverlabel": {
            "namelength": 0
           },
           "hovertemplate": "<b>%{hovertext}</b><br><br>portfolio=%{x}<br>ndays=6<br>percent=%{y}",
           "hovertext": [
            "Semiconductors"
           ],
           "ids": [
            6
           ],
           "legendgroup": "Semiconductors",
           "marker": {
            "color": "#00cc96"
           },
           "name": "Semiconductors",
           "offsetgroup": "Semiconductors",
           "orientation": "v",
           "showlegend": true,
           "textposition": "auto",
           "type": "bar",
           "x": [
            "Semiconductors"
           ],
           "xaxis": "x",
           "y": [
            -0.5466666666666665
           ],
           "yaxis": "y"
          }
         ],
         "name": "6"
        },
        {
         "data": [
          {
           "alignmentgroup": "True",
           "hoverlabel": {
            "namelength": 0
           },
           "hovertemplate": "<b>%{hovertext}</b><br><br>portfolio=%{x}<br>ndays=11<br>percent=%{y}",
           "hovertext": [
            "5G"
           ],
           "ids": [
            11
           ],
           "legendgroup": "5G",
           "marker": {
            "color": "#636efa"
           },
           "name": "5G",
           "offsetgroup": "5G",
           "orientation": "v",
           "showlegend": true,
           "textposition": "auto",
           "type": "bar",
           "x": [
            "5G"
           ],
           "xaxis": "x",
           "y": [
            6.69
           ],
           "yaxis": "y"
          },
          {
           "alignmentgroup": "True",
           "hoverlabel": {
            "namelength": 0
           },
           "hovertemplate": "<b>%{hovertext}</b><br><br>portfolio=%{x}<br>ndays=11<br>percent=%{y}",
           "hovertext": [
            "Biotechnology"
           ],
           "ids": [
            11
           ],
           "legendgroup": "Biotechnology",
           "marker": {
            "color": "#EF553B"
           },
           "name": "Biotechnology",
           "offsetgroup": "Biotechnology",
           "orientation": "v",
           "showlegend": true,
           "textposition": "auto",
           "type": "bar",
           "x": [
            "Biotechnology"
           ],
           "xaxis": "x",
           "y": [
            7.47
           ],
           "yaxis": "y"
          },
          {
           "alignmentgroup": "True",
           "hoverlabel": {
            "namelength": 0
           },
           "hovertemplate": "<b>%{hovertext}</b><br><br>portfolio=%{x}<br>ndays=11<br>percent=%{y}",
           "hovertext": [
            "CEF"
           ],
           "ids": [
            11
           ],
           "legendgroup": "CEF",
           "marker": {
            "color": "#00cc96"
           },
           "name": "CEF",
           "offsetgroup": "CEF",
           "orientation": "v",
           "showlegend": true,
           "textposition": "auto",
           "type": "bar",
           "x": [
            "CEF"
           ],
           "xaxis": "x",
           "y": [
            0.87
           ],
           "yaxis": "y"
          },
          {
           "alignmentgroup": "True",
           "hoverlabel": {
            "namelength": 0
           },
           "hovertemplate": "<b>%{hovertext}</b><br><br>portfolio=%{x}<br>ndays=11<br>percent=%{y}",
           "hovertext": [
            "Cloud Retail Apps"
           ],
           "ids": [
            11
           ],
           "legendgroup": "Cloud Retail Apps",
           "marker": {
            "color": "#ab63fa"
           },
           "name": "Cloud Retail Apps",
           "offsetgroup": "Cloud Retail Apps",
           "orientation": "v",
           "showlegend": true,
           "textposition": "auto",
           "type": "bar",
           "x": [
            "Cloud Retail Apps"
           ],
           "xaxis": "x",
           "y": [
            -10.19
           ],
           "yaxis": "y"
          },
          {
           "alignmentgroup": "True",
           "hoverlabel": {
            "namelength": 0
           },
           "hovertemplate": "<b>%{hovertext}</b><br><br>portfolio=%{x}<br>ndays=11<br>percent=%{y}",
           "hovertext": [
            "Dividend"
           ],
           "ids": [
            11
           ],
           "legendgroup": "Dividend",
           "marker": {
            "color": "#FFA15A"
           },
           "name": "Dividend",
           "offsetgroup": "Dividend",
           "orientation": "v",
           "showlegend": true,
           "textposition": "auto",
           "type": "bar",
           "x": [
            "Dividend"
           ],
           "xaxis": "x",
           "y": [
            3.425
           ],
           "yaxis": "y"
          },
          {
           "alignmentgroup": "True",
           "hoverlabel": {
            "namelength": 0
           },
           "hovertemplate": "<b>%{hovertext}</b><br><br>portfolio=%{x}<br>ndays=11<br>percent=%{y}",
           "hovertext": [
            "Electric Vehicles"
           ],
           "ids": [
            11
           ],
           "legendgroup": "Electric Vehicles",
           "marker": {
            "color": "#19d3f3"
           },
           "name": "Electric Vehicles",
           "offsetgroup": "Electric Vehicles",
           "orientation": "v",
           "showlegend": true,
           "textposition": "auto",
           "type": "bar",
           "x": [
            "Electric Vehicles"
           ],
           "xaxis": "x",
           "y": [
            13.68
           ],
           "yaxis": "y"
          },
          {
           "alignmentgroup": "True",
           "hoverlabel": {
            "namelength": 0
           },
           "hovertemplate": "<b>%{hovertext}</b><br><br>portfolio=%{x}<br>ndays=11<br>percent=%{y}",
           "hovertext": [
            "Electricity Solar"
           ],
           "ids": [
            11
           ],
           "legendgroup": "Electricity Solar",
           "marker": {
            "color": "#FF6692"
           },
           "name": "Electricity Solar",
           "offsetgroup": "Electricity Solar",
           "orientation": "v",
           "showlegend": true,
           "textposition": "auto",
           "type": "bar",
           "x": [
            "Electricity Solar"
           ],
           "xaxis": "x",
           "y": [
            15.626
           ],
           "yaxis": "y"
          },
          {
           "alignmentgroup": "True",
           "hoverlabel": {
            "namelength": 0
           },
           "hovertemplate": "<b>%{hovertext}</b><br><br>portfolio=%{x}<br>ndays=11<br>percent=%{y}",
           "hovertext": [
            "Electricity Wind"
           ],
           "ids": [
            11
           ],
           "legendgroup": "Electricity Wind",
           "marker": {
            "color": "#B6E880"
           },
           "name": "Electricity Wind",
           "offsetgroup": "Electricity Wind",
           "orientation": "v",
           "showlegend": true,
           "textposition": "auto",
           "type": "bar",
           "x": [
            "Electricity Wind"
           ],
           "xaxis": "x",
           "y": [
            5.85
           ],
           "yaxis": "y"
          },
          {
           "alignmentgroup": "True",
           "hoverlabel": {
            "namelength": 0
           },
           "hovertemplate": "<b>%{hovertext}</b><br><br>portfolio=%{x}<br>ndays=11<br>percent=%{y}",
           "hovertext": [
            "Energy Renewalbe"
           ],
           "ids": [
            11
           ],
           "legendgroup": "Energy Renewalbe",
           "marker": {
            "color": "#FF97FF"
           },
           "name": "Energy Renewalbe",
           "offsetgroup": "Energy Renewalbe",
           "orientation": "v",
           "showlegend": true,
           "textposition": "auto",
           "type": "bar",
           "x": [
            "Energy Renewalbe"
           ],
           "xaxis": "x",
           "y": [
            32.11
           ],
           "yaxis": "y"
          },
          {
           "alignmentgroup": "True",
           "hoverlabel": {
            "namelength": 0
           },
           "hovertemplate": "<b>%{hovertext}</b><br><br>portfolio=%{x}<br>ndays=11<br>percent=%{y}",
           "hovertext": [
            "Insurance"
           ],
           "ids": [
            11
           ],
           "legendgroup": "Insurance",
           "marker": {
            "color": "#FECB52"
           },
           "name": "Insurance",
           "offsetgroup": "Insurance",
           "orientation": "v",
           "showlegend": true,
           "textposition": "auto",
           "type": "bar",
           "x": [
            "Insurance"
           ],
           "xaxis": "x",
           "y": [
            34.16
           ],
           "yaxis": "y"
          },
          {
           "alignmentgroup": "True",
           "hoverlabel": {
            "namelength": 0
           },
           "hovertemplate": "<b>%{hovertext}</b><br><br>portfolio=%{x}<br>ndays=11<br>percent=%{y}",
           "hovertext": [
            "Mega Capital"
           ],
           "ids": [
            11
           ],
           "legendgroup": "Mega Capital",
           "marker": {
            "color": "#636efa"
           },
           "name": "Mega Capital",
           "offsetgroup": "Mega Capital",
           "orientation": "v",
           "showlegend": true,
           "textposition": "auto",
           "type": "bar",
           "x": [
            "Mega Capital"
           ],
           "xaxis": "x",
           "y": [
            0.22999999999999995
           ],
           "yaxis": "y"
          },
          {
           "alignmentgroup": "True",
           "hoverlabel": {
            "namelength": 0
           },
           "hovertemplate": "<b>%{hovertext}</b><br><br>portfolio=%{x}<br>ndays=11<br>percent=%{y}",
           "hovertext": [
            "REIT"
           ],
           "ids": [
            11
           ],
           "legendgroup": "REIT",
           "marker": {
            "color": "#EF553B"
           },
           "name": "REIT",
           "offsetgroup": "REIT",
           "orientation": "v",
           "showlegend": true,
           "textposition": "auto",
           "type": "bar",
           "x": [
            "REIT"
           ],
           "xaxis": "x",
           "y": [
            -4.7
           ],
           "yaxis": "y"
          },
          {
           "alignmentgroup": "True",
           "hoverlabel": {
            "namelength": 0
           },
           "hovertemplate": "<b>%{hovertext}</b><br><br>portfolio=%{x}<br>ndays=11<br>percent=%{y}",
           "hovertext": [
            "Semiconductors"
           ],
           "ids": [
            11
           ],
           "legendgroup": "Semiconductors",
           "marker": {
            "color": "#00cc96"
           },
           "name": "Semiconductors",
           "offsetgroup": "Semiconductors",
           "orientation": "v",
           "showlegend": true,
           "textposition": "auto",
           "type": "bar",
           "x": [
            "Semiconductors"
           ],
           "xaxis": "x",
           "y": [
            2.8066666666666666
           ],
           "yaxis": "y"
          }
         ],
         "name": "11"
        },
        {
         "data": [
          {
           "alignmentgroup": "True",
           "hoverlabel": {
            "namelength": 0
           },
           "hovertemplate": "<b>%{hovertext}</b><br><br>portfolio=%{x}<br>ndays=16<br>percent=%{y}",
           "hovertext": [
            "5G"
           ],
           "ids": [
            16
           ],
           "legendgroup": "5G",
           "marker": {
            "color": "#636efa"
           },
           "name": "5G",
           "offsetgroup": "5G",
           "orientation": "v",
           "showlegend": true,
           "textposition": "auto",
           "type": "bar",
           "x": [
            "5G"
           ],
           "xaxis": "x",
           "y": [
            3.7
           ],
           "yaxis": "y"
          },
          {
           "alignmentgroup": "True",
           "hoverlabel": {
            "namelength": 0
           },
           "hovertemplate": "<b>%{hovertext}</b><br><br>portfolio=%{x}<br>ndays=16<br>percent=%{y}",
           "hovertext": [
            "Biotechnology"
           ],
           "ids": [
            16
           ],
           "legendgroup": "Biotechnology",
           "marker": {
            "color": "#EF553B"
           },
           "name": "Biotechnology",
           "offsetgroup": "Biotechnology",
           "orientation": "v",
           "showlegend": true,
           "textposition": "auto",
           "type": "bar",
           "x": [
            "Biotechnology"
           ],
           "xaxis": "x",
           "y": [
            11.95
           ],
           "yaxis": "y"
          },
          {
           "alignmentgroup": "True",
           "hoverlabel": {
            "namelength": 0
           },
           "hovertemplate": "<b>%{hovertext}</b><br><br>portfolio=%{x}<br>ndays=16<br>percent=%{y}",
           "hovertext": [
            "CEF"
           ],
           "ids": [
            16
           ],
           "legendgroup": "CEF",
           "marker": {
            "color": "#00cc96"
           },
           "name": "CEF",
           "offsetgroup": "CEF",
           "orientation": "v",
           "showlegend": true,
           "textposition": "auto",
           "type": "bar",
           "x": [
            "CEF"
           ],
           "xaxis": "x",
           "y": [
            -1.29
           ],
           "yaxis": "y"
          },
          {
           "alignmentgroup": "True",
           "hoverlabel": {
            "namelength": 0
           },
           "hovertemplate": "<b>%{hovertext}</b><br><br>portfolio=%{x}<br>ndays=16<br>percent=%{y}",
           "hovertext": [
            "Cloud Retail Apps"
           ],
           "ids": [
            16
           ],
           "legendgroup": "Cloud Retail Apps",
           "marker": {
            "color": "#ab63fa"
           },
           "name": "Cloud Retail Apps",
           "offsetgroup": "Cloud Retail Apps",
           "orientation": "v",
           "showlegend": true,
           "textposition": "auto",
           "type": "bar",
           "x": [
            "Cloud Retail Apps"
           ],
           "xaxis": "x",
           "y": [
            -16.29
           ],
           "yaxis": "y"
          },
          {
           "alignmentgroup": "True",
           "hoverlabel": {
            "namelength": 0
           },
           "hovertemplate": "<b>%{hovertext}</b><br><br>portfolio=%{x}<br>ndays=16<br>percent=%{y}",
           "hovertext": [
            "Dividend"
           ],
           "ids": [
            16
           ],
           "legendgroup": "Dividend",
           "marker": {
            "color": "#FFA15A"
           },
           "name": "Dividend",
           "offsetgroup": "Dividend",
           "orientation": "v",
           "showlegend": true,
           "textposition": "auto",
           "type": "bar",
           "x": [
            "Dividend"
           ],
           "xaxis": "x",
           "y": [
            7.41
           ],
           "yaxis": "y"
          },
          {
           "alignmentgroup": "True",
           "hoverlabel": {
            "namelength": 0
           },
           "hovertemplate": "<b>%{hovertext}</b><br><br>portfolio=%{x}<br>ndays=16<br>percent=%{y}",
           "hovertext": [
            "Electric Vehicles"
           ],
           "ids": [
            16
           ],
           "legendgroup": "Electric Vehicles",
           "marker": {
            "color": "#19d3f3"
           },
           "name": "Electric Vehicles",
           "offsetgroup": "Electric Vehicles",
           "orientation": "v",
           "showlegend": true,
           "textposition": "auto",
           "type": "bar",
           "x": [
            "Electric Vehicles"
           ],
           "xaxis": "x",
           "y": [
            17.4
           ],
           "yaxis": "y"
          },
          {
           "alignmentgroup": "True",
           "hoverlabel": {
            "namelength": 0
           },
           "hovertemplate": "<b>%{hovertext}</b><br><br>portfolio=%{x}<br>ndays=16<br>percent=%{y}",
           "hovertext": [
            "Electricity Solar"
           ],
           "ids": [
            16
           ],
           "legendgroup": "Electricity Solar",
           "marker": {
            "color": "#FF6692"
           },
           "name": "Electricity Solar",
           "offsetgroup": "Electricity Solar",
           "orientation": "v",
           "showlegend": true,
           "textposition": "auto",
           "type": "bar",
           "x": [
            "Electricity Solar"
           ],
           "xaxis": "x",
           "y": [
            11.602
           ],
           "yaxis": "y"
          },
          {
           "alignmentgroup": "True",
           "hoverlabel": {
            "namelength": 0
           },
           "hovertemplate": "<b>%{hovertext}</b><br><br>portfolio=%{x}<br>ndays=16<br>percent=%{y}",
           "hovertext": [
            "Electricity Wind"
           ],
           "ids": [
            16
           ],
           "legendgroup": "Electricity Wind",
           "marker": {
            "color": "#B6E880"
           },
           "name": "Electricity Wind",
           "offsetgroup": "Electricity Wind",
           "orientation": "v",
           "showlegend": true,
           "textposition": "auto",
           "type": "bar",
           "x": [
            "Electricity Wind"
           ],
           "xaxis": "x",
           "y": [
            8.43
           ],
           "yaxis": "y"
          },
          {
           "alignmentgroup": "True",
           "hoverlabel": {
            "namelength": 0
           },
           "hovertemplate": "<b>%{hovertext}</b><br><br>portfolio=%{x}<br>ndays=16<br>percent=%{y}",
           "hovertext": [
            "Energy Renewalbe"
           ],
           "ids": [
            16
           ],
           "legendgroup": "Energy Renewalbe",
           "marker": {
            "color": "#FF97FF"
           },
           "name": "Energy Renewalbe",
           "offsetgroup": "Energy Renewalbe",
           "orientation": "v",
           "showlegend": true,
           "textposition": "auto",
           "type": "bar",
           "x": [
            "Energy Renewalbe"
           ],
           "xaxis": "x",
           "y": [
            24.34
           ],
           "yaxis": "y"
          },
          {
           "alignmentgroup": "True",
           "hoverlabel": {
            "namelength": 0
           },
           "hovertemplate": "<b>%{hovertext}</b><br><br>portfolio=%{x}<br>ndays=16<br>percent=%{y}",
           "hovertext": [
            "Insurance"
           ],
           "ids": [
            16
           ],
           "legendgroup": "Insurance",
           "marker": {
            "color": "#FECB52"
           },
           "name": "Insurance",
           "offsetgroup": "Insurance",
           "orientation": "v",
           "showlegend": true,
           "textposition": "auto",
           "type": "bar",
           "x": [
            "Insurance"
           ],
           "xaxis": "x",
           "y": [
            17.48
           ],
           "yaxis": "y"
          },
          {
           "alignmentgroup": "True",
           "hoverlabel": {
            "namelength": 0
           },
           "hovertemplate": "<b>%{hovertext}</b><br><br>portfolio=%{x}<br>ndays=16<br>percent=%{y}",
           "hovertext": [
            "Mega Capital"
           ],
           "ids": [
            16
           ],
           "legendgroup": "Mega Capital",
           "marker": {
            "color": "#636efa"
           },
           "name": "Mega Capital",
           "offsetgroup": "Mega Capital",
           "orientation": "v",
           "showlegend": true,
           "textposition": "auto",
           "type": "bar",
           "x": [
            "Mega Capital"
           ],
           "xaxis": "x",
           "y": [
            -3.016666666666666
           ],
           "yaxis": "y"
          },
          {
           "alignmentgroup": "True",
           "hoverlabel": {
            "namelength": 0
           },
           "hovertemplate": "<b>%{hovertext}</b><br><br>portfolio=%{x}<br>ndays=16<br>percent=%{y}",
           "hovertext": [
            "REIT"
           ],
           "ids": [
            16
           ],
           "legendgroup": "REIT",
           "marker": {
            "color": "#EF553B"
           },
           "name": "REIT",
           "offsetgroup": "REIT",
           "orientation": "v",
           "showlegend": true,
           "textposition": "auto",
           "type": "bar",
           "x": [
            "REIT"
           ],
           "xaxis": "x",
           "y": [
            -11.32
           ],
           "yaxis": "y"
          },
          {
           "alignmentgroup": "True",
           "hoverlabel": {
            "namelength": 0
           },
           "hovertemplate": "<b>%{hovertext}</b><br><br>portfolio=%{x}<br>ndays=16<br>percent=%{y}",
           "hovertext": [
            "Semiconductors"
           ],
           "ids": [
            16
           ],
           "legendgroup": "Semiconductors",
           "marker": {
            "color": "#00cc96"
           },
           "name": "Semiconductors",
           "offsetgroup": "Semiconductors",
           "orientation": "v",
           "showlegend": true,
           "textposition": "auto",
           "type": "bar",
           "x": [
            "Semiconductors"
           ],
           "xaxis": "x",
           "y": [
            0.5833333333333334
           ],
           "yaxis": "y"
          }
         ],
         "name": "16"
        },
        {
         "data": [
          {
           "alignmentgroup": "True",
           "hoverlabel": {
            "namelength": 0
           },
           "hovertemplate": "<b>%{hovertext}</b><br><br>portfolio=%{x}<br>ndays=21<br>percent=%{y}",
           "hovertext": [
            "5G"
           ],
           "ids": [
            21
           ],
           "legendgroup": "5G",
           "marker": {
            "color": "#636efa"
           },
           "name": "5G",
           "offsetgroup": "5G",
           "orientation": "v",
           "showlegend": true,
           "textposition": "auto",
           "type": "bar",
           "x": [
            "5G"
           ],
           "xaxis": "x",
           "y": [
            11.25
           ],
           "yaxis": "y"
          },
          {
           "alignmentgroup": "True",
           "hoverlabel": {
            "namelength": 0
           },
           "hovertemplate": "<b>%{hovertext}</b><br><br>portfolio=%{x}<br>ndays=21<br>percent=%{y}",
           "hovertext": [
            "Biotechnology"
           ],
           "ids": [
            21
           ],
           "legendgroup": "Biotechnology",
           "marker": {
            "color": "#EF553B"
           },
           "name": "Biotechnology",
           "offsetgroup": "Biotechnology",
           "orientation": "v",
           "showlegend": true,
           "textposition": "auto",
           "type": "bar",
           "x": [
            "Biotechnology"
           ],
           "xaxis": "x",
           "y": [
            30.02
           ],
           "yaxis": "y"
          },
          {
           "alignmentgroup": "True",
           "hoverlabel": {
            "namelength": 0
           },
           "hovertemplate": "<b>%{hovertext}</b><br><br>portfolio=%{x}<br>ndays=21<br>percent=%{y}",
           "hovertext": [
            "CEF"
           ],
           "ids": [
            21
           ],
           "legendgroup": "CEF",
           "marker": {
            "color": "#00cc96"
           },
           "name": "CEF",
           "offsetgroup": "CEF",
           "orientation": "v",
           "showlegend": true,
           "textposition": "auto",
           "type": "bar",
           "x": [
            "CEF"
           ],
           "xaxis": "x",
           "y": [
            3.03
           ],
           "yaxis": "y"
          },
          {
           "alignmentgroup": "True",
           "hoverlabel": {
            "namelength": 0
           },
           "hovertemplate": "<b>%{hovertext}</b><br><br>portfolio=%{x}<br>ndays=21<br>percent=%{y}",
           "hovertext": [
            "Cloud Retail Apps"
           ],
           "ids": [
            21
           ],
           "legendgroup": "Cloud Retail Apps",
           "marker": {
            "color": "#ab63fa"
           },
           "name": "Cloud Retail Apps",
           "offsetgroup": "Cloud Retail Apps",
           "orientation": "v",
           "showlegend": true,
           "textposition": "auto",
           "type": "bar",
           "x": [
            "Cloud Retail Apps"
           ],
           "xaxis": "x",
           "y": [
            -15.72
           ],
           "yaxis": "y"
          },
          {
           "alignmentgroup": "True",
           "hoverlabel": {
            "namelength": 0
           },
           "hovertemplate": "<b>%{hovertext}</b><br><br>portfolio=%{x}<br>ndays=21<br>percent=%{y}",
           "hovertext": [
            "Dividend"
           ],
           "ids": [
            21
           ],
           "legendgroup": "Dividend",
           "marker": {
            "color": "#FFA15A"
           },
           "name": "Dividend",
           "offsetgroup": "Dividend",
           "orientation": "v",
           "showlegend": true,
           "textposition": "auto",
           "type": "bar",
           "x": [
            "Dividend"
           ],
           "xaxis": "x",
           "y": [
            9.44
           ],
           "yaxis": "y"
          },
          {
           "alignmentgroup": "True",
           "hoverlabel": {
            "namelength": 0
           },
           "hovertemplate": "<b>%{hovertext}</b><br><br>portfolio=%{x}<br>ndays=21<br>percent=%{y}",
           "hovertext": [
            "Electric Vehicles"
           ],
           "ids": [
            21
           ],
           "legendgroup": "Electric Vehicles",
           "marker": {
            "color": "#19d3f3"
           },
           "name": "Electric Vehicles",
           "offsetgroup": "Electric Vehicles",
           "orientation": "v",
           "showlegend": true,
           "textposition": "auto",
           "type": "bar",
           "x": [
            "Electric Vehicles"
           ],
           "xaxis": "x",
           "y": [
            54.974999999999994
           ],
           "yaxis": "y"
          },
          {
           "alignmentgroup": "True",
           "hoverlabel": {
            "namelength": 0
           },
           "hovertemplate": "<b>%{hovertext}</b><br><br>portfolio=%{x}<br>ndays=21<br>percent=%{y}",
           "hovertext": [
            "Electricity Solar"
           ],
           "ids": [
            21
           ],
           "legendgroup": "Electricity Solar",
           "marker": {
            "color": "#FF6692"
           },
           "name": "Electricity Solar",
           "offsetgroup": "Electricity Solar",
           "orientation": "v",
           "showlegend": true,
           "textposition": "auto",
           "type": "bar",
           "x": [
            "Electricity Solar"
           ],
           "xaxis": "x",
           "y": [
            24.9
           ],
           "yaxis": "y"
          },
          {
           "alignmentgroup": "True",
           "hoverlabel": {
            "namelength": 0
           },
           "hovertemplate": "<b>%{hovertext}</b><br><br>portfolio=%{x}<br>ndays=21<br>percent=%{y}",
           "hovertext": [
            "Electricity Wind"
           ],
           "ids": [
            21
           ],
           "legendgroup": "Electricity Wind",
           "marker": {
            "color": "#B6E880"
           },
           "name": "Electricity Wind",
           "offsetgroup": "Electricity Wind",
           "orientation": "v",
           "showlegend": true,
           "textposition": "auto",
           "type": "bar",
           "x": [
            "Electricity Wind"
           ],
           "xaxis": "x",
           "y": [
            14.17
           ],
           "yaxis": "y"
          },
          {
           "alignmentgroup": "True",
           "hoverlabel": {
            "namelength": 0
           },
           "hovertemplate": "<b>%{hovertext}</b><br><br>portfolio=%{x}<br>ndays=21<br>percent=%{y}",
           "hovertext": [
            "Energy Renewalbe"
           ],
           "ids": [
            21
           ],
           "legendgroup": "Energy Renewalbe",
           "marker": {
            "color": "#FF97FF"
           },
           "name": "Energy Renewalbe",
           "offsetgroup": "Energy Renewalbe",
           "orientation": "v",
           "showlegend": true,
           "textposition": "auto",
           "type": "bar",
           "x": [
            "Energy Renewalbe"
           ],
           "xaxis": "x",
           "y": [
            34.51
           ],
           "yaxis": "y"
          },
          {
           "alignmentgroup": "True",
           "hoverlabel": {
            "namelength": 0
           },
           "hovertemplate": "<b>%{hovertext}</b><br><br>portfolio=%{x}<br>ndays=21<br>percent=%{y}",
           "hovertext": [
            "Insurance"
           ],
           "ids": [
            21
           ],
           "legendgroup": "Insurance",
           "marker": {
            "color": "#FECB52"
           },
           "name": "Insurance",
           "offsetgroup": "Insurance",
           "orientation": "v",
           "showlegend": true,
           "textposition": "auto",
           "type": "bar",
           "x": [
            "Insurance"
           ],
           "xaxis": "x",
           "y": [
            60.19
           ],
           "yaxis": "y"
          },
          {
           "alignmentgroup": "True",
           "hoverlabel": {
            "namelength": 0
           },
           "hovertemplate": "<b>%{hovertext}</b><br><br>portfolio=%{x}<br>ndays=21<br>percent=%{y}",
           "hovertext": [
            "Mega Capital"
           ],
           "ids": [
            21
           ],
           "legendgroup": "Mega Capital",
           "marker": {
            "color": "#636efa"
           },
           "name": "Mega Capital",
           "offsetgroup": "Mega Capital",
           "orientation": "v",
           "showlegend": true,
           "textposition": "auto",
           "type": "bar",
           "x": [
            "Mega Capital"
           ],
           "xaxis": "x",
           "y": [
            2.066666666666667
           ],
           "yaxis": "y"
          },
          {
           "alignmentgroup": "True",
           "hoverlabel": {
            "namelength": 0
           },
           "hovertemplate": "<b>%{hovertext}</b><br><br>portfolio=%{x}<br>ndays=21<br>percent=%{y}",
           "hovertext": [
            "REIT"
           ],
           "ids": [
            21
           ],
           "legendgroup": "REIT",
           "marker": {
            "color": "#EF553B"
           },
           "name": "REIT",
           "offsetgroup": "REIT",
           "orientation": "v",
           "showlegend": true,
           "textposition": "auto",
           "type": "bar",
           "x": [
            "REIT"
           ],
           "xaxis": "x",
           "y": [
            -9.95
           ],
           "yaxis": "y"
          },
          {
           "alignmentgroup": "True",
           "hoverlabel": {
            "namelength": 0
           },
           "hovertemplate": "<b>%{hovertext}</b><br><br>portfolio=%{x}<br>ndays=21<br>percent=%{y}",
           "hovertext": [
            "Semiconductors"
           ],
           "ids": [
            21
           ],
           "legendgroup": "Semiconductors",
           "marker": {
            "color": "#00cc96"
           },
           "name": "Semiconductors",
           "offsetgroup": "Semiconductors",
           "orientation": "v",
           "showlegend": true,
           "textposition": "auto",
           "type": "bar",
           "x": [
            "Semiconductors"
           ],
           "xaxis": "x",
           "y": [
            10.63
           ],
           "yaxis": "y"
          }
         ],
         "name": "21"
        },
        {
         "data": [
          {
           "alignmentgroup": "True",
           "hoverlabel": {
            "namelength": 0
           },
           "hovertemplate": "<b>%{hovertext}</b><br><br>portfolio=%{x}<br>ndays=26<br>percent=%{y}",
           "hovertext": [
            "5G"
           ],
           "ids": [
            26
           ],
           "legendgroup": "5G",
           "marker": {
            "color": "#636efa"
           },
           "name": "5G",
           "offsetgroup": "5G",
           "orientation": "v",
           "showlegend": true,
           "textposition": "auto",
           "type": "bar",
           "x": [
            "5G"
           ],
           "xaxis": "x",
           "y": [
            5.78
           ],
           "yaxis": "y"
          },
          {
           "alignmentgroup": "True",
           "hoverlabel": {
            "namelength": 0
           },
           "hovertemplate": "<b>%{hovertext}</b><br><br>portfolio=%{x}<br>ndays=26<br>percent=%{y}",
           "hovertext": [
            "Biotechnology"
           ],
           "ids": [
            26
           ],
           "legendgroup": "Biotechnology",
           "marker": {
            "color": "#EF553B"
           },
           "name": "Biotechnology",
           "offsetgroup": "Biotechnology",
           "orientation": "v",
           "showlegend": true,
           "textposition": "auto",
           "type": "bar",
           "x": [
            "Biotechnology"
           ],
           "xaxis": "x",
           "y": [
            24.41
           ],
           "yaxis": "y"
          },
          {
           "alignmentgroup": "True",
           "hoverlabel": {
            "namelength": 0
           },
           "hovertemplate": "<b>%{hovertext}</b><br><br>portfolio=%{x}<br>ndays=26<br>percent=%{y}",
           "hovertext": [
            "CEF"
           ],
           "ids": [
            26
           ],
           "legendgroup": "CEF",
           "marker": {
            "color": "#00cc96"
           },
           "name": "CEF",
           "offsetgroup": "CEF",
           "orientation": "v",
           "showlegend": true,
           "textposition": "auto",
           "type": "bar",
           "x": [
            "CEF"
           ],
           "xaxis": "x",
           "y": [
            2.99
           ],
           "yaxis": "y"
          },
          {
           "alignmentgroup": "True",
           "hoverlabel": {
            "namelength": 0
           },
           "hovertemplate": "<b>%{hovertext}</b><br><br>portfolio=%{x}<br>ndays=26<br>percent=%{y}",
           "hovertext": [
            "Cloud Retail Apps"
           ],
           "ids": [
            26
           ],
           "legendgroup": "Cloud Retail Apps",
           "marker": {
            "color": "#ab63fa"
           },
           "name": "Cloud Retail Apps",
           "offsetgroup": "Cloud Retail Apps",
           "orientation": "v",
           "showlegend": true,
           "textposition": "auto",
           "type": "bar",
           "x": [
            "Cloud Retail Apps"
           ],
           "xaxis": "x",
           "y": [
            -20.29
           ],
           "yaxis": "y"
          },
          {
           "alignmentgroup": "True",
           "hoverlabel": {
            "namelength": 0
           },
           "hovertemplate": "<b>%{hovertext}</b><br><br>portfolio=%{x}<br>ndays=26<br>percent=%{y}",
           "hovertext": [
            "Dividend"
           ],
           "ids": [
            26
           ],
           "legendgroup": "Dividend",
           "marker": {
            "color": "#FFA15A"
           },
           "name": "Dividend",
           "offsetgroup": "Dividend",
           "orientation": "v",
           "showlegend": true,
           "textposition": "auto",
           "type": "bar",
           "x": [
            "Dividend"
           ],
           "xaxis": "x",
           "y": [
            8.06
           ],
           "yaxis": "y"
          },
          {
           "alignmentgroup": "True",
           "hoverlabel": {
            "namelength": 0
           },
           "hovertemplate": "<b>%{hovertext}</b><br><br>portfolio=%{x}<br>ndays=26<br>percent=%{y}",
           "hovertext": [
            "Electric Vehicles"
           ],
           "ids": [
            26
           ],
           "legendgroup": "Electric Vehicles",
           "marker": {
            "color": "#19d3f3"
           },
           "name": "Electric Vehicles",
           "offsetgroup": "Electric Vehicles",
           "orientation": "v",
           "showlegend": true,
           "textposition": "auto",
           "type": "bar",
           "x": [
            "Electric Vehicles"
           ],
           "xaxis": "x",
           "y": [
            68.075
           ],
           "yaxis": "y"
          },
          {
           "alignmentgroup": "True",
           "hoverlabel": {
            "namelength": 0
           },
           "hovertemplate": "<b>%{hovertext}</b><br><br>portfolio=%{x}<br>ndays=26<br>percent=%{y}",
           "hovertext": [
            "Electricity Solar"
           ],
           "ids": [
            26
           ],
           "legendgroup": "Electricity Solar",
           "marker": {
            "color": "#FF6692"
           },
           "name": "Electricity Solar",
           "offsetgroup": "Electricity Solar",
           "orientation": "v",
           "showlegend": true,
           "textposition": "auto",
           "type": "bar",
           "x": [
            "Electricity Solar"
           ],
           "xaxis": "x",
           "y": [
            23.312
           ],
           "yaxis": "y"
          },
          {
           "alignmentgroup": "True",
           "hoverlabel": {
            "namelength": 0
           },
           "hovertemplate": "<b>%{hovertext}</b><br><br>portfolio=%{x}<br>ndays=26<br>percent=%{y}",
           "hovertext": [
            "Electricity Wind"
           ],
           "ids": [
            26
           ],
           "legendgroup": "Electricity Wind",
           "marker": {
            "color": "#B6E880"
           },
           "name": "Electricity Wind",
           "offsetgroup": "Electricity Wind",
           "orientation": "v",
           "showlegend": true,
           "textposition": "auto",
           "type": "bar",
           "x": [
            "Electricity Wind"
           ],
           "xaxis": "x",
           "y": [
            17.24
           ],
           "yaxis": "y"
          },
          {
           "alignmentgroup": "True",
           "hoverlabel": {
            "namelength": 0
           },
           "hovertemplate": "<b>%{hovertext}</b><br><br>portfolio=%{x}<br>ndays=26<br>percent=%{y}",
           "hovertext": [
            "Energy Renewalbe"
           ],
           "ids": [
            26
           ],
           "legendgroup": "Energy Renewalbe",
           "marker": {
            "color": "#FF97FF"
           },
           "name": "Energy Renewalbe",
           "offsetgroup": "Energy Renewalbe",
           "orientation": "v",
           "showlegend": true,
           "textposition": "auto",
           "type": "bar",
           "x": [
            "Energy Renewalbe"
           ],
           "xaxis": "x",
           "y": [
            38.54
           ],
           "yaxis": "y"
          },
          {
           "alignmentgroup": "True",
           "hoverlabel": {
            "namelength": 0
           },
           "hovertemplate": "<b>%{hovertext}</b><br><br>portfolio=%{x}<br>ndays=26<br>percent=%{y}",
           "hovertext": [
            "Insurance"
           ],
           "ids": [
            26
           ],
           "legendgroup": "Insurance",
           "marker": {
            "color": "#FECB52"
           },
           "name": "Insurance",
           "offsetgroup": "Insurance",
           "orientation": "v",
           "showlegend": true,
           "textposition": "auto",
           "type": "bar",
           "x": [
            "Insurance"
           ],
           "xaxis": "x",
           "y": [
            43.02
           ],
           "yaxis": "y"
          },
          {
           "alignmentgroup": "True",
           "hoverlabel": {
            "namelength": 0
           },
           "hovertemplate": "<b>%{hovertext}</b><br><br>portfolio=%{x}<br>ndays=26<br>percent=%{y}",
           "hovertext": [
            "Mega Capital"
           ],
           "ids": [
            26
           ],
           "legendgroup": "Mega Capital",
           "marker": {
            "color": "#636efa"
           },
           "name": "Mega Capital",
           "offsetgroup": "Mega Capital",
           "orientation": "v",
           "showlegend": true,
           "textposition": "auto",
           "type": "bar",
           "x": [
            "Mega Capital"
           ],
           "xaxis": "x",
           "y": [
            0.64
           ],
           "yaxis": "y"
          },
          {
           "alignmentgroup": "True",
           "hoverlabel": {
            "namelength": 0
           },
           "hovertemplate": "<b>%{hovertext}</b><br><br>portfolio=%{x}<br>ndays=26<br>percent=%{y}",
           "hovertext": [
            "REIT"
           ],
           "ids": [
            26
           ],
           "legendgroup": "REIT",
           "marker": {
            "color": "#EF553B"
           },
           "name": "REIT",
           "offsetgroup": "REIT",
           "orientation": "v",
           "showlegend": true,
           "textposition": "auto",
           "type": "bar",
           "x": [
            "REIT"
           ],
           "xaxis": "x",
           "y": [
            -14.92
           ],
           "yaxis": "y"
          },
          {
           "alignmentgroup": "True",
           "hoverlabel": {
            "namelength": 0
           },
           "hovertemplate": "<b>%{hovertext}</b><br><br>portfolio=%{x}<br>ndays=26<br>percent=%{y}",
           "hovertext": [
            "Semiconductors"
           ],
           "ids": [
            26
           ],
           "legendgroup": "Semiconductors",
           "marker": {
            "color": "#00cc96"
           },
           "name": "Semiconductors",
           "offsetgroup": "Semiconductors",
           "orientation": "v",
           "showlegend": true,
           "textposition": "auto",
           "type": "bar",
           "x": [
            "Semiconductors"
           ],
           "xaxis": "x",
           "y": [
            7.739999999999999
           ],
           "yaxis": "y"
          }
         ],
         "name": "26"
        },
        {
         "data": [
          {
           "alignmentgroup": "True",
           "hoverlabel": {
            "namelength": 0
           },
           "hovertemplate": "<b>%{hovertext}</b><br><br>portfolio=%{x}<br>ndays=31<br>percent=%{y}",
           "hovertext": [
            "5G"
           ],
           "ids": [
            31
           ],
           "legendgroup": "5G",
           "marker": {
            "color": "#636efa"
           },
           "name": "5G",
           "offsetgroup": "5G",
           "orientation": "v",
           "showlegend": true,
           "textposition": "auto",
           "type": "bar",
           "x": [
            "5G"
           ],
           "xaxis": "x",
           "y": [
            3.95
           ],
           "yaxis": "y"
          },
          {
           "alignmentgroup": "True",
           "hoverlabel": {
            "namelength": 0
           },
           "hovertemplate": "<b>%{hovertext}</b><br><br>portfolio=%{x}<br>ndays=31<br>percent=%{y}",
           "hovertext": [
            "Biotechnology"
           ],
           "ids": [
            31
           ],
           "legendgroup": "Biotechnology",
           "marker": {
            "color": "#EF553B"
           },
           "name": "Biotechnology",
           "offsetgroup": "Biotechnology",
           "orientation": "v",
           "showlegend": true,
           "textposition": "auto",
           "type": "bar",
           "x": [
            "Biotechnology"
           ],
           "xaxis": "x",
           "y": [
            23.07
           ],
           "yaxis": "y"
          },
          {
           "alignmentgroup": "True",
           "hoverlabel": {
            "namelength": 0
           },
           "hovertemplate": "<b>%{hovertext}</b><br><br>portfolio=%{x}<br>ndays=31<br>percent=%{y}",
           "hovertext": [
            "CEF"
           ],
           "ids": [
            31
           ],
           "legendgroup": "CEF",
           "marker": {
            "color": "#00cc96"
           },
           "name": "CEF",
           "offsetgroup": "CEF",
           "orientation": "v",
           "showlegend": true,
           "textposition": "auto",
           "type": "bar",
           "x": [
            "CEF"
           ],
           "xaxis": "x",
           "y": [
            4.75
           ],
           "yaxis": "y"
          },
          {
           "alignmentgroup": "True",
           "hoverlabel": {
            "namelength": 0
           },
           "hovertemplate": "<b>%{hovertext}</b><br><br>portfolio=%{x}<br>ndays=31<br>percent=%{y}",
           "hovertext": [
            "Cloud Retail Apps"
           ],
           "ids": [
            31
           ],
           "legendgroup": "Cloud Retail Apps",
           "marker": {
            "color": "#ab63fa"
           },
           "name": "Cloud Retail Apps",
           "offsetgroup": "Cloud Retail Apps",
           "orientation": "v",
           "showlegend": true,
           "textposition": "auto",
           "type": "bar",
           "x": [
            "Cloud Retail Apps"
           ],
           "xaxis": "x",
           "y": [
            -5.13
           ],
           "yaxis": "y"
          },
          {
           "alignmentgroup": "True",
           "hoverlabel": {
            "namelength": 0
           },
           "hovertemplate": "<b>%{hovertext}</b><br><br>portfolio=%{x}<br>ndays=31<br>percent=%{y}",
           "hovertext": [
            "Dividend"
           ],
           "ids": [
            31
           ],
           "legendgroup": "Dividend",
           "marker": {
            "color": "#FFA15A"
           },
           "name": "Dividend",
           "offsetgroup": "Dividend",
           "orientation": "v",
           "showlegend": true,
           "textposition": "auto",
           "type": "bar",
           "x": [
            "Dividend"
           ],
           "xaxis": "x",
           "y": [
            7.82
           ],
           "yaxis": "y"
          },
          {
           "alignmentgroup": "True",
           "hoverlabel": {
            "namelength": 0
           },
           "hovertemplate": "<b>%{hovertext}</b><br><br>portfolio=%{x}<br>ndays=31<br>percent=%{y}",
           "hovertext": [
            "Electric Vehicles"
           ],
           "ids": [
            31
           ],
           "legendgroup": "Electric Vehicles",
           "marker": {
            "color": "#19d3f3"
           },
           "name": "Electric Vehicles",
           "offsetgroup": "Electric Vehicles",
           "orientation": "v",
           "showlegend": true,
           "textposition": "auto",
           "type": "bar",
           "x": [
            "Electric Vehicles"
           ],
           "xaxis": "x",
           "y": [
            65.72
           ],
           "yaxis": "y"
          },
          {
           "alignmentgroup": "True",
           "hoverlabel": {
            "namelength": 0
           },
           "hovertemplate": "<b>%{hovertext}</b><br><br>portfolio=%{x}<br>ndays=31<br>percent=%{y}",
           "hovertext": [
            "Electricity Solar"
           ],
           "ids": [
            31
           ],
           "legendgroup": "Electricity Solar",
           "marker": {
            "color": "#FF6692"
           },
           "name": "Electricity Solar",
           "offsetgroup": "Electricity Solar",
           "orientation": "v",
           "showlegend": true,
           "textposition": "auto",
           "type": "bar",
           "x": [
            "Electricity Solar"
           ],
           "xaxis": "x",
           "y": [
            20.836000000000002
           ],
           "yaxis": "y"
          },
          {
           "alignmentgroup": "True",
           "hoverlabel": {
            "namelength": 0
           },
           "hovertemplate": "<b>%{hovertext}</b><br><br>portfolio=%{x}<br>ndays=31<br>percent=%{y}",
           "hovertext": [
            "Electricity Wind"
           ],
           "ids": [
            31
           ],
           "legendgroup": "Electricity Wind",
           "marker": {
            "color": "#B6E880"
           },
           "name": "Electricity Wind",
           "offsetgroup": "Electricity Wind",
           "orientation": "v",
           "showlegend": true,
           "textposition": "auto",
           "type": "bar",
           "x": [
            "Electricity Wind"
           ],
           "xaxis": "x",
           "y": [
            10.52
           ],
           "yaxis": "y"
          },
          {
           "alignmentgroup": "True",
           "hoverlabel": {
            "namelength": 0
           },
           "hovertemplate": "<b>%{hovertext}</b><br><br>portfolio=%{x}<br>ndays=31<br>percent=%{y}",
           "hovertext": [
            "Energy Renewalbe"
           ],
           "ids": [
            31
           ],
           "legendgroup": "Energy Renewalbe",
           "marker": {
            "color": "#FF97FF"
           },
           "name": "Energy Renewalbe",
           "offsetgroup": "Energy Renewalbe",
           "orientation": "v",
           "showlegend": true,
           "textposition": "auto",
           "type": "bar",
           "x": [
            "Energy Renewalbe"
           ],
           "xaxis": "x",
           "y": [
            34.46
           ],
           "yaxis": "y"
          },
          {
           "alignmentgroup": "True",
           "hoverlabel": {
            "namelength": 0
           },
           "hovertemplate": "<b>%{hovertext}</b><br><br>portfolio=%{x}<br>ndays=31<br>percent=%{y}",
           "hovertext": [
            "Insurance"
           ],
           "ids": [
            31
           ],
           "legendgroup": "Insurance",
           "marker": {
            "color": "#FECB52"
           },
           "name": "Insurance",
           "offsetgroup": "Insurance",
           "orientation": "v",
           "showlegend": true,
           "textposition": "auto",
           "type": "bar",
           "x": [
            "Insurance"
           ],
           "xaxis": "x",
           "y": [
            20.38
           ],
           "yaxis": "y"
          },
          {
           "alignmentgroup": "True",
           "hoverlabel": {
            "namelength": 0
           },
           "hovertemplate": "<b>%{hovertext}</b><br><br>portfolio=%{x}<br>ndays=31<br>percent=%{y}",
           "hovertext": [
            "Mega Capital"
           ],
           "ids": [
            31
           ],
           "legendgroup": "Mega Capital",
           "marker": {
            "color": "#636efa"
           },
           "name": "Mega Capital",
           "offsetgroup": "Mega Capital",
           "orientation": "v",
           "showlegend": true,
           "textposition": "auto",
           "type": "bar",
           "x": [
            "Mega Capital"
           ],
           "xaxis": "x",
           "y": [
            -3.1
           ],
           "yaxis": "y"
          },
          {
           "alignmentgroup": "True",
           "hoverlabel": {
            "namelength": 0
           },
           "hovertemplate": "<b>%{hovertext}</b><br><br>portfolio=%{x}<br>ndays=31<br>percent=%{y}",
           "hovertext": [
            "REIT"
           ],
           "ids": [
            31
           ],
           "legendgroup": "REIT",
           "marker": {
            "color": "#EF553B"
           },
           "name": "REIT",
           "offsetgroup": "REIT",
           "orientation": "v",
           "showlegend": true,
           "textposition": "auto",
           "type": "bar",
           "x": [
            "REIT"
           ],
           "xaxis": "x",
           "y": [
            -7.54
           ],
           "yaxis": "y"
          },
          {
           "alignmentgroup": "True",
           "hoverlabel": {
            "namelength": 0
           },
           "hovertemplate": "<b>%{hovertext}</b><br><br>portfolio=%{x}<br>ndays=31<br>percent=%{y}",
           "hovertext": [
            "Semiconductors"
           ],
           "ids": [
            31
           ],
           "legendgroup": "Semiconductors",
           "marker": {
            "color": "#00cc96"
           },
           "name": "Semiconductors",
           "offsetgroup": "Semiconductors",
           "orientation": "v",
           "showlegend": true,
           "textposition": "auto",
           "type": "bar",
           "x": [
            "Semiconductors"
           ],
           "xaxis": "x",
           "y": [
            6.266666666666666
           ],
           "yaxis": "y"
          }
         ],
         "name": "31"
        },
        {
         "data": [
          {
           "alignmentgroup": "True",
           "hoverlabel": {
            "namelength": 0
           },
           "hovertemplate": "<b>%{hovertext}</b><br><br>portfolio=%{x}<br>ndays=36<br>percent=%{y}",
           "hovertext": [
            "5G"
           ],
           "ids": [
            36
           ],
           "legendgroup": "5G",
           "marker": {
            "color": "#636efa"
           },
           "name": "5G",
           "offsetgroup": "5G",
           "orientation": "v",
           "showlegend": true,
           "textposition": "auto",
           "type": "bar",
           "x": [
            "5G"
           ],
           "xaxis": "x",
           "y": [
            5.79
           ],
           "yaxis": "y"
          },
          {
           "alignmentgroup": "True",
           "hoverlabel": {
            "namelength": 0
           },
           "hovertemplate": "<b>%{hovertext}</b><br><br>portfolio=%{x}<br>ndays=36<br>percent=%{y}",
           "hovertext": [
            "Biotechnology"
           ],
           "ids": [
            36
           ],
           "legendgroup": "Biotechnology",
           "marker": {
            "color": "#EF553B"
           },
           "name": "Biotechnology",
           "offsetgroup": "Biotechnology",
           "orientation": "v",
           "showlegend": true,
           "textposition": "auto",
           "type": "bar",
           "x": [
            "Biotechnology"
           ],
           "xaxis": "x",
           "y": [
            21.73
           ],
           "yaxis": "y"
          },
          {
           "alignmentgroup": "True",
           "hoverlabel": {
            "namelength": 0
           },
           "hovertemplate": "<b>%{hovertext}</b><br><br>portfolio=%{x}<br>ndays=36<br>percent=%{y}",
           "hovertext": [
            "CEF"
           ],
           "ids": [
            36
           ],
           "legendgroup": "CEF",
           "marker": {
            "color": "#00cc96"
           },
           "name": "CEF",
           "offsetgroup": "CEF",
           "orientation": "v",
           "showlegend": true,
           "textposition": "auto",
           "type": "bar",
           "x": [
            "CEF"
           ],
           "xaxis": "x",
           "y": [
            8.66
           ],
           "yaxis": "y"
          },
          {
           "alignmentgroup": "True",
           "hoverlabel": {
            "namelength": 0
           },
           "hovertemplate": "<b>%{hovertext}</b><br><br>portfolio=%{x}<br>ndays=36<br>percent=%{y}",
           "hovertext": [
            "Cloud Retail Apps"
           ],
           "ids": [
            36
           ],
           "legendgroup": "Cloud Retail Apps",
           "marker": {
            "color": "#ab63fa"
           },
           "name": "Cloud Retail Apps",
           "offsetgroup": "Cloud Retail Apps",
           "orientation": "v",
           "showlegend": true,
           "textposition": "auto",
           "type": "bar",
           "x": [
            "Cloud Retail Apps"
           ],
           "xaxis": "x",
           "y": [
            23.33
           ],
           "yaxis": "y"
          },
          {
           "alignmentgroup": "True",
           "hoverlabel": {
            "namelength": 0
           },
           "hovertemplate": "<b>%{hovertext}</b><br><br>portfolio=%{x}<br>ndays=36<br>percent=%{y}",
           "hovertext": [
            "Dividend"
           ],
           "ids": [
            36
           ],
           "legendgroup": "Dividend",
           "marker": {
            "color": "#FFA15A"
           },
           "name": "Dividend",
           "offsetgroup": "Dividend",
           "orientation": "v",
           "showlegend": true,
           "textposition": "auto",
           "type": "bar",
           "x": [
            "Dividend"
           ],
           "xaxis": "x",
           "y": [
            8.465
           ],
           "yaxis": "y"
          },
          {
           "alignmentgroup": "True",
           "hoverlabel": {
            "namelength": 0
           },
           "hovertemplate": "<b>%{hovertext}</b><br><br>portfolio=%{x}<br>ndays=36<br>percent=%{y}",
           "hovertext": [
            "Electric Vehicles"
           ],
           "ids": [
            36
           ],
           "legendgroup": "Electric Vehicles",
           "marker": {
            "color": "#19d3f3"
           },
           "name": "Electric Vehicles",
           "offsetgroup": "Electric Vehicles",
           "orientation": "v",
           "showlegend": true,
           "textposition": "auto",
           "type": "bar",
           "x": [
            "Electric Vehicles"
           ],
           "xaxis": "x",
           "y": [
            83.485
           ],
           "yaxis": "y"
          },
          {
           "alignmentgroup": "True",
           "hoverlabel": {
            "namelength": 0
           },
           "hovertemplate": "<b>%{hovertext}</b><br><br>portfolio=%{x}<br>ndays=36<br>percent=%{y}",
           "hovertext": [
            "Electricity Solar"
           ],
           "ids": [
            36
           ],
           "legendgroup": "Electricity Solar",
           "marker": {
            "color": "#FF6692"
           },
           "name": "Electricity Solar",
           "offsetgroup": "Electricity Solar",
           "orientation": "v",
           "showlegend": true,
           "textposition": "auto",
           "type": "bar",
           "x": [
            "Electricity Solar"
           ],
           "xaxis": "x",
           "y": [
            25.267999999999994
           ],
           "yaxis": "y"
          },
          {
           "alignmentgroup": "True",
           "hoverlabel": {
            "namelength": 0
           },
           "hovertemplate": "<b>%{hovertext}</b><br><br>portfolio=%{x}<br>ndays=36<br>percent=%{y}",
           "hovertext": [
            "Electricity Wind"
           ],
           "ids": [
            36
           ],
           "legendgroup": "Electricity Wind",
           "marker": {
            "color": "#B6E880"
           },
           "name": "Electricity Wind",
           "offsetgroup": "Electricity Wind",
           "orientation": "v",
           "showlegend": true,
           "textposition": "auto",
           "type": "bar",
           "x": [
            "Electricity Wind"
           ],
           "xaxis": "x",
           "y": [
            12.19
           ],
           "yaxis": "y"
          },
          {
           "alignmentgroup": "True",
           "hoverlabel": {
            "namelength": 0
           },
           "hovertemplate": "<b>%{hovertext}</b><br><br>portfolio=%{x}<br>ndays=36<br>percent=%{y}",
           "hovertext": [
            "Energy Renewalbe"
           ],
           "ids": [
            36
           ],
           "legendgroup": "Energy Renewalbe",
           "marker": {
            "color": "#FF97FF"
           },
           "name": "Energy Renewalbe",
           "offsetgroup": "Energy Renewalbe",
           "orientation": "v",
           "showlegend": true,
           "textposition": "auto",
           "type": "bar",
           "x": [
            "Energy Renewalbe"
           ],
           "xaxis": "x",
           "y": [
            15.85
           ],
           "yaxis": "y"
          },
          {
           "alignmentgroup": "True",
           "hoverlabel": {
            "namelength": 0
           },
           "hovertemplate": "<b>%{hovertext}</b><br><br>portfolio=%{x}<br>ndays=36<br>percent=%{y}",
           "hovertext": [
            "Insurance"
           ],
           "ids": [
            36
           ],
           "legendgroup": "Insurance",
           "marker": {
            "color": "#FECB52"
           },
           "name": "Insurance",
           "offsetgroup": "Insurance",
           "orientation": "v",
           "showlegend": true,
           "textposition": "auto",
           "type": "bar",
           "x": [
            "Insurance"
           ],
           "xaxis": "x",
           "y": [
            25.01
           ],
           "yaxis": "y"
          },
          {
           "alignmentgroup": "True",
           "hoverlabel": {
            "namelength": 0
           },
           "hovertemplate": "<b>%{hovertext}</b><br><br>portfolio=%{x}<br>ndays=36<br>percent=%{y}",
           "hovertext": [
            "Mega Capital"
           ],
           "ids": [
            36
           ],
           "legendgroup": "Mega Capital",
           "marker": {
            "color": "#636efa"
           },
           "name": "Mega Capital",
           "offsetgroup": "Mega Capital",
           "orientation": "v",
           "showlegend": true,
           "textposition": "auto",
           "type": "bar",
           "x": [
            "Mega Capital"
           ],
           "xaxis": "x",
           "y": [
            1.4033333333333333
           ],
           "yaxis": "y"
          },
          {
           "alignmentgroup": "True",
           "hoverlabel": {
            "namelength": 0
           },
           "hovertemplate": "<b>%{hovertext}</b><br><br>portfolio=%{x}<br>ndays=36<br>percent=%{y}",
           "hovertext": [
            "REIT"
           ],
           "ids": [
            36
           ],
           "legendgroup": "REIT",
           "marker": {
            "color": "#EF553B"
           },
           "name": "REIT",
           "offsetgroup": "REIT",
           "orientation": "v",
           "showlegend": true,
           "textposition": "auto",
           "type": "bar",
           "x": [
            "REIT"
           ],
           "xaxis": "x",
           "y": [
            -0.59
           ],
           "yaxis": "y"
          },
          {
           "alignmentgroup": "True",
           "hoverlabel": {
            "namelength": 0
           },
           "hovertemplate": "<b>%{hovertext}</b><br><br>portfolio=%{x}<br>ndays=36<br>percent=%{y}",
           "hovertext": [
            "Semiconductors"
           ],
           "ids": [
            36
           ],
           "legendgroup": "Semiconductors",
           "marker": {
            "color": "#00cc96"
           },
           "name": "Semiconductors",
           "offsetgroup": "Semiconductors",
           "orientation": "v",
           "showlegend": true,
           "textposition": "auto",
           "type": "bar",
           "x": [
            "Semiconductors"
           ],
           "xaxis": "x",
           "y": [
            8.62
           ],
           "yaxis": "y"
          }
         ],
         "name": "36"
        },
        {
         "data": [
          {
           "alignmentgroup": "True",
           "hoverlabel": {
            "namelength": 0
           },
           "hovertemplate": "<b>%{hovertext}</b><br><br>portfolio=%{x}<br>ndays=41<br>percent=%{y}",
           "hovertext": [
            "5G"
           ],
           "ids": [
            41
           ],
           "legendgroup": "5G",
           "marker": {
            "color": "#636efa"
           },
           "name": "5G",
           "offsetgroup": "5G",
           "orientation": "v",
           "showlegend": true,
           "textposition": "auto",
           "type": "bar",
           "x": [
            "5G"
           ],
           "xaxis": "x",
           "y": [
            7.15
           ],
           "yaxis": "y"
          },
          {
           "alignmentgroup": "True",
           "hoverlabel": {
            "namelength": 0
           },
           "hovertemplate": "<b>%{hovertext}</b><br><br>portfolio=%{x}<br>ndays=41<br>percent=%{y}",
           "hovertext": [
            "Biotechnology"
           ],
           "ids": [
            41
           ],
           "legendgroup": "Biotechnology",
           "marker": {
            "color": "#EF553B"
           },
           "name": "Biotechnology",
           "offsetgroup": "Biotechnology",
           "orientation": "v",
           "showlegend": true,
           "textposition": "auto",
           "type": "bar",
           "x": [
            "Biotechnology"
           ],
           "xaxis": "x",
           "y": [
            22.01
           ],
           "yaxis": "y"
          },
          {
           "alignmentgroup": "True",
           "hoverlabel": {
            "namelength": 0
           },
           "hovertemplate": "<b>%{hovertext}</b><br><br>portfolio=%{x}<br>ndays=41<br>percent=%{y}",
           "hovertext": [
            "CEF"
           ],
           "ids": [
            41
           ],
           "legendgroup": "CEF",
           "marker": {
            "color": "#00cc96"
           },
           "name": "CEF",
           "offsetgroup": "CEF",
           "orientation": "v",
           "showlegend": true,
           "textposition": "auto",
           "type": "bar",
           "x": [
            "CEF"
           ],
           "xaxis": "x",
           "y": [
            11.18
           ],
           "yaxis": "y"
          },
          {
           "alignmentgroup": "True",
           "hoverlabel": {
            "namelength": 0
           },
           "hovertemplate": "<b>%{hovertext}</b><br><br>portfolio=%{x}<br>ndays=41<br>percent=%{y}",
           "hovertext": [
            "Cloud Retail Apps"
           ],
           "ids": [
            41
           ],
           "legendgroup": "Cloud Retail Apps",
           "marker": {
            "color": "#ab63fa"
           },
           "name": "Cloud Retail Apps",
           "offsetgroup": "Cloud Retail Apps",
           "orientation": "v",
           "showlegend": true,
           "textposition": "auto",
           "type": "bar",
           "x": [
            "Cloud Retail Apps"
           ],
           "xaxis": "x",
           "y": [
            21.71
           ],
           "yaxis": "y"
          },
          {
           "alignmentgroup": "True",
           "hoverlabel": {
            "namelength": 0
           },
           "hovertemplate": "<b>%{hovertext}</b><br><br>portfolio=%{x}<br>ndays=41<br>percent=%{y}",
           "hovertext": [
            "Dividend"
           ],
           "ids": [
            41
           ],
           "legendgroup": "Dividend",
           "marker": {
            "color": "#FFA15A"
           },
           "name": "Dividend",
           "offsetgroup": "Dividend",
           "orientation": "v",
           "showlegend": true,
           "textposition": "auto",
           "type": "bar",
           "x": [
            "Dividend"
           ],
           "xaxis": "x",
           "y": [
            9.075
           ],
           "yaxis": "y"
          },
          {
           "alignmentgroup": "True",
           "hoverlabel": {
            "namelength": 0
           },
           "hovertemplate": "<b>%{hovertext}</b><br><br>portfolio=%{x}<br>ndays=41<br>percent=%{y}",
           "hovertext": [
            "Electric Vehicles"
           ],
           "ids": [
            41
           ],
           "legendgroup": "Electric Vehicles",
           "marker": {
            "color": "#19d3f3"
           },
           "name": "Electric Vehicles",
           "offsetgroup": "Electric Vehicles",
           "orientation": "v",
           "showlegend": true,
           "textposition": "auto",
           "type": "bar",
           "x": [
            "Electric Vehicles"
           ],
           "xaxis": "x",
           "y": [
            90.625
           ],
           "yaxis": "y"
          },
          {
           "alignmentgroup": "True",
           "hoverlabel": {
            "namelength": 0
           },
           "hovertemplate": "<b>%{hovertext}</b><br><br>portfolio=%{x}<br>ndays=41<br>percent=%{y}",
           "hovertext": [
            "Electricity Solar"
           ],
           "ids": [
            41
           ],
           "legendgroup": "Electricity Solar",
           "marker": {
            "color": "#FF6692"
           },
           "name": "Electricity Solar",
           "offsetgroup": "Electricity Solar",
           "orientation": "v",
           "showlegend": true,
           "textposition": "auto",
           "type": "bar",
           "x": [
            "Electricity Solar"
           ],
           "xaxis": "x",
           "y": [
            48.344
           ],
           "yaxis": "y"
          },
          {
           "alignmentgroup": "True",
           "hoverlabel": {
            "namelength": 0
           },
           "hovertemplate": "<b>%{hovertext}</b><br><br>portfolio=%{x}<br>ndays=41<br>percent=%{y}",
           "hovertext": [
            "Electricity Wind"
           ],
           "ids": [
            41
           ],
           "legendgroup": "Electricity Wind",
           "marker": {
            "color": "#B6E880"
           },
           "name": "Electricity Wind",
           "offsetgroup": "Electricity Wind",
           "orientation": "v",
           "showlegend": true,
           "textposition": "auto",
           "type": "bar",
           "x": [
            "Electricity Wind"
           ],
           "xaxis": "x",
           "y": [
            19.5
           ],
           "yaxis": "y"
          },
          {
           "alignmentgroup": "True",
           "hoverlabel": {
            "namelength": 0
           },
           "hovertemplate": "<b>%{hovertext}</b><br><br>portfolio=%{x}<br>ndays=41<br>percent=%{y}",
           "hovertext": [
            "Energy Renewalbe"
           ],
           "ids": [
            41
           ],
           "legendgroup": "Energy Renewalbe",
           "marker": {
            "color": "#FF97FF"
           },
           "name": "Energy Renewalbe",
           "offsetgroup": "Energy Renewalbe",
           "orientation": "v",
           "showlegend": true,
           "textposition": "auto",
           "type": "bar",
           "x": [
            "Energy Renewalbe"
           ],
           "xaxis": "x",
           "y": [
            15.2
           ],
           "yaxis": "y"
          },
          {
           "alignmentgroup": "True",
           "hoverlabel": {
            "namelength": 0
           },
           "hovertemplate": "<b>%{hovertext}</b><br><br>portfolio=%{x}<br>ndays=41<br>percent=%{y}",
           "hovertext": [
            "Insurance"
           ],
           "ids": [
            41
           ],
           "legendgroup": "Insurance",
           "marker": {
            "color": "#FECB52"
           },
           "name": "Insurance",
           "offsetgroup": "Insurance",
           "orientation": "v",
           "showlegend": true,
           "textposition": "auto",
           "type": "bar",
           "x": [
            "Insurance"
           ],
           "xaxis": "x",
           "y": [
            46
           ],
           "yaxis": "y"
          },
          {
           "alignmentgroup": "True",
           "hoverlabel": {
            "namelength": 0
           },
           "hovertemplate": "<b>%{hovertext}</b><br><br>portfolio=%{x}<br>ndays=41<br>percent=%{y}",
           "hovertext": [
            "Mega Capital"
           ],
           "ids": [
            41
           ],
           "legendgroup": "Mega Capital",
           "marker": {
            "color": "#636efa"
           },
           "name": "Mega Capital",
           "offsetgroup": "Mega Capital",
           "orientation": "v",
           "showlegend": true,
           "textposition": "auto",
           "type": "bar",
           "x": [
            "Mega Capital"
           ],
           "xaxis": "x",
           "y": [
            0.25666666666666665
           ],
           "yaxis": "y"
          },
          {
           "alignmentgroup": "True",
           "hoverlabel": {
            "namelength": 0
           },
           "hovertemplate": "<b>%{hovertext}</b><br><br>portfolio=%{x}<br>ndays=41<br>percent=%{y}",
           "hovertext": [
            "REIT"
           ],
           "ids": [
            41
           ],
           "legendgroup": "REIT",
           "marker": {
            "color": "#EF553B"
           },
           "name": "REIT",
           "offsetgroup": "REIT",
           "orientation": "v",
           "showlegend": true,
           "textposition": "auto",
           "type": "bar",
           "x": [
            "REIT"
           ],
           "xaxis": "x",
           "y": [
            3.88
           ],
           "yaxis": "y"
          },
          {
           "alignmentgroup": "True",
           "hoverlabel": {
            "namelength": 0
           },
           "hovertemplate": "<b>%{hovertext}</b><br><br>portfolio=%{x}<br>ndays=41<br>percent=%{y}",
           "hovertext": [
            "Semiconductors"
           ],
           "ids": [
            41
           ],
           "legendgroup": "Semiconductors",
           "marker": {
            "color": "#00cc96"
           },
           "name": "Semiconductors",
           "offsetgroup": "Semiconductors",
           "orientation": "v",
           "showlegend": true,
           "textposition": "auto",
           "type": "bar",
           "x": [
            "Semiconductors"
           ],
           "xaxis": "x",
           "y": [
            12.420000000000002
           ],
           "yaxis": "y"
          }
         ],
         "name": "41"
        }
       ],
       "layout": {
        "barmode": "relative",
        "height": 800,
        "legend": {
         "title": {
          "text": "portfolio"
         },
         "tracegroupgap": 0
        },
        "margin": {
         "t": 60
        },
        "sliders": [
         {
          "active": 0,
          "currentvalue": {
           "prefix": "ndays="
          },
          "len": 0.9,
          "pad": {
           "b": 10,
           "t": 60
          },
          "steps": [
           {
            "args": [
             [
              "1"
             ],
             {
              "frame": {
               "duration": 0,
               "redraw": true
              },
              "fromcurrent": true,
              "mode": "immediate",
              "transition": {
               "duration": 0,
               "easing": "linear"
              }
             }
            ],
            "label": "1",
            "method": "animate"
           },
           {
            "args": [
             [
              "6"
             ],
             {
              "frame": {
               "duration": 0,
               "redraw": true
              },
              "fromcurrent": true,
              "mode": "immediate",
              "transition": {
               "duration": 0,
               "easing": "linear"
              }
             }
            ],
            "label": "6",
            "method": "animate"
           },
           {
            "args": [
             [
              "11"
             ],
             {
              "frame": {
               "duration": 0,
               "redraw": true
              },
              "fromcurrent": true,
              "mode": "immediate",
              "transition": {
               "duration": 0,
               "easing": "linear"
              }
             }
            ],
            "label": "11",
            "method": "animate"
           },
           {
            "args": [
             [
              "16"
             ],
             {
              "frame": {
               "duration": 0,
               "redraw": true
              },
              "fromcurrent": true,
              "mode": "immediate",
              "transition": {
               "duration": 0,
               "easing": "linear"
              }
             }
            ],
            "label": "16",
            "method": "animate"
           },
           {
            "args": [
             [
              "21"
             ],
             {
              "frame": {
               "duration": 0,
               "redraw": true
              },
              "fromcurrent": true,
              "mode": "immediate",
              "transition": {
               "duration": 0,
               "easing": "linear"
              }
             }
            ],
            "label": "21",
            "method": "animate"
           },
           {
            "args": [
             [
              "26"
             ],
             {
              "frame": {
               "duration": 0,
               "redraw": true
              },
              "fromcurrent": true,
              "mode": "immediate",
              "transition": {
               "duration": 0,
               "easing": "linear"
              }
             }
            ],
            "label": "26",
            "method": "animate"
           },
           {
            "args": [
             [
              "31"
             ],
             {
              "frame": {
               "duration": 0,
               "redraw": true
              },
              "fromcurrent": true,
              "mode": "immediate",
              "transition": {
               "duration": 0,
               "easing": "linear"
              }
             }
            ],
            "label": "31",
            "method": "animate"
           },
           {
            "args": [
             [
              "36"
             ],
             {
              "frame": {
               "duration": 0,
               "redraw": true
              },
              "fromcurrent": true,
              "mode": "immediate",
              "transition": {
               "duration": 0,
               "easing": "linear"
              }
             }
            ],
            "label": "36",
            "method": "animate"
           },
           {
            "args": [
             [
              "41"
             ],
             {
              "frame": {
               "duration": 0,
               "redraw": true
              },
              "fromcurrent": true,
              "mode": "immediate",
              "transition": {
               "duration": 0,
               "easing": "linear"
              }
             }
            ],
            "label": "41",
            "method": "animate"
           }
          ],
          "x": 0.1,
          "xanchor": "left",
          "y": 0,
          "yanchor": "top"
         }
        ],
        "template": {
         "data": {
          "bar": [
           {
            "error_x": {
             "color": "#2a3f5f"
            },
            "error_y": {
             "color": "#2a3f5f"
            },
            "marker": {
             "line": {
              "color": "#E5ECF6",
              "width": 0.5
             }
            },
            "type": "bar"
           }
          ],
          "barpolar": [
           {
            "marker": {
             "line": {
              "color": "#E5ECF6",
              "width": 0.5
             }
            },
            "type": "barpolar"
           }
          ],
          "carpet": [
           {
            "aaxis": {
             "endlinecolor": "#2a3f5f",
             "gridcolor": "white",
             "linecolor": "white",
             "minorgridcolor": "white",
             "startlinecolor": "#2a3f5f"
            },
            "baxis": {
             "endlinecolor": "#2a3f5f",
             "gridcolor": "white",
             "linecolor": "white",
             "minorgridcolor": "white",
             "startlinecolor": "#2a3f5f"
            },
            "type": "carpet"
           }
          ],
          "choropleth": [
           {
            "colorbar": {
             "outlinewidth": 0,
             "ticks": ""
            },
            "type": "choropleth"
           }
          ],
          "contour": [
           {
            "colorbar": {
             "outlinewidth": 0,
             "ticks": ""
            },
            "colorscale": [
             [
              0,
              "#0d0887"
             ],
             [
              0.1111111111111111,
              "#46039f"
             ],
             [
              0.2222222222222222,
              "#7201a8"
             ],
             [
              0.3333333333333333,
              "#9c179e"
             ],
             [
              0.4444444444444444,
              "#bd3786"
             ],
             [
              0.5555555555555556,
              "#d8576b"
             ],
             [
              0.6666666666666666,
              "#ed7953"
             ],
             [
              0.7777777777777778,
              "#fb9f3a"
             ],
             [
              0.8888888888888888,
              "#fdca26"
             ],
             [
              1,
              "#f0f921"
             ]
            ],
            "type": "contour"
           }
          ],
          "contourcarpet": [
           {
            "colorbar": {
             "outlinewidth": 0,
             "ticks": ""
            },
            "type": "contourcarpet"
           }
          ],
          "heatmap": [
           {
            "colorbar": {
             "outlinewidth": 0,
             "ticks": ""
            },
            "colorscale": [
             [
              0,
              "#0d0887"
             ],
             [
              0.1111111111111111,
              "#46039f"
             ],
             [
              0.2222222222222222,
              "#7201a8"
             ],
             [
              0.3333333333333333,
              "#9c179e"
             ],
             [
              0.4444444444444444,
              "#bd3786"
             ],
             [
              0.5555555555555556,
              "#d8576b"
             ],
             [
              0.6666666666666666,
              "#ed7953"
             ],
             [
              0.7777777777777778,
              "#fb9f3a"
             ],
             [
              0.8888888888888888,
              "#fdca26"
             ],
             [
              1,
              "#f0f921"
             ]
            ],
            "type": "heatmap"
           }
          ],
          "heatmapgl": [
           {
            "colorbar": {
             "outlinewidth": 0,
             "ticks": ""
            },
            "colorscale": [
             [
              0,
              "#0d0887"
             ],
             [
              0.1111111111111111,
              "#46039f"
             ],
             [
              0.2222222222222222,
              "#7201a8"
             ],
             [
              0.3333333333333333,
              "#9c179e"
             ],
             [
              0.4444444444444444,
              "#bd3786"
             ],
             [
              0.5555555555555556,
              "#d8576b"
             ],
             [
              0.6666666666666666,
              "#ed7953"
             ],
             [
              0.7777777777777778,
              "#fb9f3a"
             ],
             [
              0.8888888888888888,
              "#fdca26"
             ],
             [
              1,
              "#f0f921"
             ]
            ],
            "type": "heatmapgl"
           }
          ],
          "histogram": [
           {
            "marker": {
             "colorbar": {
              "outlinewidth": 0,
              "ticks": ""
             }
            },
            "type": "histogram"
           }
          ],
          "histogram2d": [
           {
            "colorbar": {
             "outlinewidth": 0,
             "ticks": ""
            },
            "colorscale": [
             [
              0,
              "#0d0887"
             ],
             [
              0.1111111111111111,
              "#46039f"
             ],
             [
              0.2222222222222222,
              "#7201a8"
             ],
             [
              0.3333333333333333,
              "#9c179e"
             ],
             [
              0.4444444444444444,
              "#bd3786"
             ],
             [
              0.5555555555555556,
              "#d8576b"
             ],
             [
              0.6666666666666666,
              "#ed7953"
             ],
             [
              0.7777777777777778,
              "#fb9f3a"
             ],
             [
              0.8888888888888888,
              "#fdca26"
             ],
             [
              1,
              "#f0f921"
             ]
            ],
            "type": "histogram2d"
           }
          ],
          "histogram2dcontour": [
           {
            "colorbar": {
             "outlinewidth": 0,
             "ticks": ""
            },
            "colorscale": [
             [
              0,
              "#0d0887"
             ],
             [
              0.1111111111111111,
              "#46039f"
             ],
             [
              0.2222222222222222,
              "#7201a8"
             ],
             [
              0.3333333333333333,
              "#9c179e"
             ],
             [
              0.4444444444444444,
              "#bd3786"
             ],
             [
              0.5555555555555556,
              "#d8576b"
             ],
             [
              0.6666666666666666,
              "#ed7953"
             ],
             [
              0.7777777777777778,
              "#fb9f3a"
             ],
             [
              0.8888888888888888,
              "#fdca26"
             ],
             [
              1,
              "#f0f921"
             ]
            ],
            "type": "histogram2dcontour"
           }
          ],
          "mesh3d": [
           {
            "colorbar": {
             "outlinewidth": 0,
             "ticks": ""
            },
            "type": "mesh3d"
           }
          ],
          "parcoords": [
           {
            "line": {
             "colorbar": {
              "outlinewidth": 0,
              "ticks": ""
             }
            },
            "type": "parcoords"
           }
          ],
          "pie": [
           {
            "automargin": true,
            "type": "pie"
           }
          ],
          "scatter": [
           {
            "marker": {
             "colorbar": {
              "outlinewidth": 0,
              "ticks": ""
             }
            },
            "type": "scatter"
           }
          ],
          "scatter3d": [
           {
            "line": {
             "colorbar": {
              "outlinewidth": 0,
              "ticks": ""
             }
            },
            "marker": {
             "colorbar": {
              "outlinewidth": 0,
              "ticks": ""
             }
            },
            "type": "scatter3d"
           }
          ],
          "scattercarpet": [
           {
            "marker": {
             "colorbar": {
              "outlinewidth": 0,
              "ticks": ""
             }
            },
            "type": "scattercarpet"
           }
          ],
          "scattergeo": [
           {
            "marker": {
             "colorbar": {
              "outlinewidth": 0,
              "ticks": ""
             }
            },
            "type": "scattergeo"
           }
          ],
          "scattergl": [
           {
            "marker": {
             "colorbar": {
              "outlinewidth": 0,
              "ticks": ""
             }
            },
            "type": "scattergl"
           }
          ],
          "scattermapbox": [
           {
            "marker": {
             "colorbar": {
              "outlinewidth": 0,
              "ticks": ""
             }
            },
            "type": "scattermapbox"
           }
          ],
          "scatterpolar": [
           {
            "marker": {
             "colorbar": {
              "outlinewidth": 0,
              "ticks": ""
             }
            },
            "type": "scatterpolar"
           }
          ],
          "scatterpolargl": [
           {
            "marker": {
             "colorbar": {
              "outlinewidth": 0,
              "ticks": ""
             }
            },
            "type": "scatterpolargl"
           }
          ],
          "scatterternary": [
           {
            "marker": {
             "colorbar": {
              "outlinewidth": 0,
              "ticks": ""
             }
            },
            "type": "scatterternary"
           }
          ],
          "surface": [
           {
            "colorbar": {
             "outlinewidth": 0,
             "ticks": ""
            },
            "colorscale": [
             [
              0,
              "#0d0887"
             ],
             [
              0.1111111111111111,
              "#46039f"
             ],
             [
              0.2222222222222222,
              "#7201a8"
             ],
             [
              0.3333333333333333,
              "#9c179e"
             ],
             [
              0.4444444444444444,
              "#bd3786"
             ],
             [
              0.5555555555555556,
              "#d8576b"
             ],
             [
              0.6666666666666666,
              "#ed7953"
             ],
             [
              0.7777777777777778,
              "#fb9f3a"
             ],
             [
              0.8888888888888888,
              "#fdca26"
             ],
             [
              1,
              "#f0f921"
             ]
            ],
            "type": "surface"
           }
          ],
          "table": [
           {
            "cells": {
             "fill": {
              "color": "#EBF0F8"
             },
             "line": {
              "color": "white"
             }
            },
            "header": {
             "fill": {
              "color": "#C8D4E3"
             },
             "line": {
              "color": "white"
             }
            },
            "type": "table"
           }
          ]
         },
         "layout": {
          "annotationdefaults": {
           "arrowcolor": "#2a3f5f",
           "arrowhead": 0,
           "arrowwidth": 1
          },
          "coloraxis": {
           "colorbar": {
            "outlinewidth": 0,
            "ticks": ""
           }
          },
          "colorscale": {
           "diverging": [
            [
             0,
             "#8e0152"
            ],
            [
             0.1,
             "#c51b7d"
            ],
            [
             0.2,
             "#de77ae"
            ],
            [
             0.3,
             "#f1b6da"
            ],
            [
             0.4,
             "#fde0ef"
            ],
            [
             0.5,
             "#f7f7f7"
            ],
            [
             0.6,
             "#e6f5d0"
            ],
            [
             0.7,
             "#b8e186"
            ],
            [
             0.8,
             "#7fbc41"
            ],
            [
             0.9,
             "#4d9221"
            ],
            [
             1,
             "#276419"
            ]
           ],
           "sequential": [
            [
             0,
             "#0d0887"
            ],
            [
             0.1111111111111111,
             "#46039f"
            ],
            [
             0.2222222222222222,
             "#7201a8"
            ],
            [
             0.3333333333333333,
             "#9c179e"
            ],
            [
             0.4444444444444444,
             "#bd3786"
            ],
            [
             0.5555555555555556,
             "#d8576b"
            ],
            [
             0.6666666666666666,
             "#ed7953"
            ],
            [
             0.7777777777777778,
             "#fb9f3a"
            ],
            [
             0.8888888888888888,
             "#fdca26"
            ],
            [
             1,
             "#f0f921"
            ]
           ],
           "sequentialminus": [
            [
             0,
             "#0d0887"
            ],
            [
             0.1111111111111111,
             "#46039f"
            ],
            [
             0.2222222222222222,
             "#7201a8"
            ],
            [
             0.3333333333333333,
             "#9c179e"
            ],
            [
             0.4444444444444444,
             "#bd3786"
            ],
            [
             0.5555555555555556,
             "#d8576b"
            ],
            [
             0.6666666666666666,
             "#ed7953"
            ],
            [
             0.7777777777777778,
             "#fb9f3a"
            ],
            [
             0.8888888888888888,
             "#fdca26"
            ],
            [
             1,
             "#f0f921"
            ]
           ]
          },
          "colorway": [
           "#636efa",
           "#EF553B",
           "#00cc96",
           "#ab63fa",
           "#FFA15A",
           "#19d3f3",
           "#FF6692",
           "#B6E880",
           "#FF97FF",
           "#FECB52"
          ],
          "font": {
           "color": "#2a3f5f"
          },
          "geo": {
           "bgcolor": "white",
           "lakecolor": "white",
           "landcolor": "#E5ECF6",
           "showlakes": true,
           "showland": true,
           "subunitcolor": "white"
          },
          "hoverlabel": {
           "align": "left"
          },
          "hovermode": "closest",
          "mapbox": {
           "style": "light"
          },
          "paper_bgcolor": "white",
          "plot_bgcolor": "#E5ECF6",
          "polar": {
           "angularaxis": {
            "gridcolor": "white",
            "linecolor": "white",
            "ticks": ""
           },
           "bgcolor": "#E5ECF6",
           "radialaxis": {
            "gridcolor": "white",
            "linecolor": "white",
            "ticks": ""
           }
          },
          "scene": {
           "xaxis": {
            "backgroundcolor": "#E5ECF6",
            "gridcolor": "white",
            "gridwidth": 2,
            "linecolor": "white",
            "showbackground": true,
            "ticks": "",
            "zerolinecolor": "white"
           },
           "yaxis": {
            "backgroundcolor": "#E5ECF6",
            "gridcolor": "white",
            "gridwidth": 2,
            "linecolor": "white",
            "showbackground": true,
            "ticks": "",
            "zerolinecolor": "white"
           },
           "zaxis": {
            "backgroundcolor": "#E5ECF6",
            "gridcolor": "white",
            "gridwidth": 2,
            "linecolor": "white",
            "showbackground": true,
            "ticks": "",
            "zerolinecolor": "white"
           }
          },
          "shapedefaults": {
           "line": {
            "color": "#2a3f5f"
           }
          },
          "ternary": {
           "aaxis": {
            "gridcolor": "white",
            "linecolor": "white",
            "ticks": ""
           },
           "baxis": {
            "gridcolor": "white",
            "linecolor": "white",
            "ticks": ""
           },
           "bgcolor": "#E5ECF6",
           "caxis": {
            "gridcolor": "white",
            "linecolor": "white",
            "ticks": ""
           }
          },
          "title": {
           "x": 0.05
          },
          "xaxis": {
           "automargin": true,
           "gridcolor": "white",
           "linecolor": "white",
           "ticks": "",
           "title": {
            "standoff": 15
           },
           "zerolinecolor": "white",
           "zerolinewidth": 2
          },
          "yaxis": {
           "automargin": true,
           "gridcolor": "white",
           "linecolor": "white",
           "ticks": "",
           "title": {
            "standoff": 15
           },
           "zerolinecolor": "white",
           "zerolinewidth": 2
          }
         }
        },
        "width": 1350,
        "xaxis": {
         "anchor": "y",
         "categoryarray": [
          "5G",
          "Biotechnology",
          "CEF",
          "Cloud Retail Apps",
          "Dividend",
          "Electric Vehicles",
          "Electricity Solar",
          "Electricity Wind",
          "Energy Renewalbe",
          "Insurance",
          "Mega Capital",
          "REIT",
          "Semiconductors"
         ],
         "categoryorder": "array",
         "domain": [
          0,
          1
         ],
         "range": [
          1,
          13
         ],
         "title": {
          "text": "portfolio"
         }
        },
        "yaxis": {
         "anchor": "x",
         "domain": [
          0,
          1
         ],
         "range": [
          -20.29,
          90.625
         ],
         "title": {
          "text": "percent"
         }
        }
       }
      },
      "text/html": [
       "<div>\n",
       "        \n",
       "        \n",
       "            <div id=\"b1dce6f9-932f-4dbd-8bb1-e93b463ff11c\" class=\"plotly-graph-div\" style=\"height:800px; width:1350px;\"></div>\n",
       "            <script type=\"text/javascript\">\n",
       "                require([\"plotly\"], function(Plotly) {\n",
       "                    window.PLOTLYENV=window.PLOTLYENV || {};\n",
       "                    \n",
       "                if (document.getElementById(\"b1dce6f9-932f-4dbd-8bb1-e93b463ff11c\")) {\n",
       "                    Plotly.newPlot(\n",
       "                        'b1dce6f9-932f-4dbd-8bb1-e93b463ff11c',\n",
       "                        [{\"alignmentgroup\": \"True\", \"hoverlabel\": {\"namelength\": 0}, \"hovertemplate\": \"<b>%{hovertext}</b><br><br>portfolio=%{x}<br>ndays=1<br>percent=%{y}\", \"hovertext\": [\"5G\"], \"ids\": [1], \"legendgroup\": \"5G\", \"marker\": {\"color\": \"#636efa\"}, \"name\": \"5G\", \"offsetgroup\": \"5G\", \"orientation\": \"v\", \"showlegend\": true, \"textposition\": \"auto\", \"type\": \"bar\", \"x\": [\"5G\"], \"xaxis\": \"x\", \"y\": [1.05], \"yaxis\": \"y\"}, {\"alignmentgroup\": \"True\", \"hoverlabel\": {\"namelength\": 0}, \"hovertemplate\": \"<b>%{hovertext}</b><br><br>portfolio=%{x}<br>ndays=1<br>percent=%{y}\", \"hovertext\": [\"Biotechnology\"], \"ids\": [1], \"legendgroup\": \"Biotechnology\", \"marker\": {\"color\": \"#EF553B\"}, \"name\": \"Biotechnology\", \"offsetgroup\": \"Biotechnology\", \"orientation\": \"v\", \"showlegend\": true, \"textposition\": \"auto\", \"type\": \"bar\", \"x\": [\"Biotechnology\"], \"xaxis\": \"x\", \"y\": [0.66], \"yaxis\": \"y\"}, {\"alignmentgroup\": \"True\", \"hoverlabel\": {\"namelength\": 0}, \"hovertemplate\": \"<b>%{hovertext}</b><br><br>portfolio=%{x}<br>ndays=1<br>percent=%{y}\", \"hovertext\": [\"CEF\"], \"ids\": [1], \"legendgroup\": \"CEF\", \"marker\": {\"color\": \"#00cc96\"}, \"name\": \"CEF\", \"offsetgroup\": \"CEF\", \"orientation\": \"v\", \"showlegend\": true, \"textposition\": \"auto\", \"type\": \"bar\", \"x\": [\"CEF\"], \"xaxis\": \"x\", \"y\": [0.45], \"yaxis\": \"y\"}, {\"alignmentgroup\": \"True\", \"hoverlabel\": {\"namelength\": 0}, \"hovertemplate\": \"<b>%{hovertext}</b><br><br>portfolio=%{x}<br>ndays=1<br>percent=%{y}\", \"hovertext\": [\"Cloud Retail Apps\"], \"ids\": [1], \"legendgroup\": \"Cloud Retail Apps\", \"marker\": {\"color\": \"#ab63fa\"}, \"name\": \"Cloud Retail Apps\", \"offsetgroup\": \"Cloud Retail Apps\", \"orientation\": \"v\", \"showlegend\": true, \"textposition\": \"auto\", \"type\": \"bar\", \"x\": [\"Cloud Retail Apps\"], \"xaxis\": \"x\", \"y\": [1.09], \"yaxis\": \"y\"}, {\"alignmentgroup\": \"True\", \"hoverlabel\": {\"namelength\": 0}, \"hovertemplate\": \"<b>%{hovertext}</b><br><br>portfolio=%{x}<br>ndays=1<br>percent=%{y}\", \"hovertext\": [\"Dividend\"], \"ids\": [1], \"legendgroup\": \"Dividend\", \"marker\": {\"color\": \"#FFA15A\"}, \"name\": \"Dividend\", \"offsetgroup\": \"Dividend\", \"orientation\": \"v\", \"showlegend\": true, \"textposition\": \"auto\", \"type\": \"bar\", \"x\": [\"Dividend\"], \"xaxis\": \"x\", \"y\": [0.9850000000000001], \"yaxis\": \"y\"}, {\"alignmentgroup\": \"True\", \"hoverlabel\": {\"namelength\": 0}, \"hovertemplate\": \"<b>%{hovertext}</b><br><br>portfolio=%{x}<br>ndays=1<br>percent=%{y}\", \"hovertext\": [\"Electric Vehicles\"], \"ids\": [1], \"legendgroup\": \"Electric Vehicles\", \"marker\": {\"color\": \"#19d3f3\"}, \"name\": \"Electric Vehicles\", \"offsetgroup\": \"Electric Vehicles\", \"orientation\": \"v\", \"showlegend\": true, \"textposition\": \"auto\", \"type\": \"bar\", \"x\": [\"Electric Vehicles\"], \"xaxis\": \"x\", \"y\": [-3.025], \"yaxis\": \"y\"}, {\"alignmentgroup\": \"True\", \"hoverlabel\": {\"namelength\": 0}, \"hovertemplate\": \"<b>%{hovertext}</b><br><br>portfolio=%{x}<br>ndays=1<br>percent=%{y}\", \"hovertext\": [\"Electricity Solar\"], \"ids\": [1], \"legendgroup\": \"Electricity Solar\", \"marker\": {\"color\": \"#FF6692\"}, \"name\": \"Electricity Solar\", \"offsetgroup\": \"Electricity Solar\", \"orientation\": \"v\", \"showlegend\": true, \"textposition\": \"auto\", \"type\": \"bar\", \"x\": [\"Electricity Solar\"], \"xaxis\": \"x\", \"y\": [2.138], \"yaxis\": \"y\"}, {\"alignmentgroup\": \"True\", \"hoverlabel\": {\"namelength\": 0}, \"hovertemplate\": \"<b>%{hovertext}</b><br><br>portfolio=%{x}<br>ndays=1<br>percent=%{y}\", \"hovertext\": [\"Electricity Wind\"], \"ids\": [1], \"legendgroup\": \"Electricity Wind\", \"marker\": {\"color\": \"#B6E880\"}, \"name\": \"Electricity Wind\", \"offsetgroup\": \"Electricity Wind\", \"orientation\": \"v\", \"showlegend\": true, \"textposition\": \"auto\", \"type\": \"bar\", \"x\": [\"Electricity Wind\"], \"xaxis\": \"x\", \"y\": [3.73], \"yaxis\": \"y\"}, {\"alignmentgroup\": \"True\", \"hoverlabel\": {\"namelength\": 0}, \"hovertemplate\": \"<b>%{hovertext}</b><br><br>portfolio=%{x}<br>ndays=1<br>percent=%{y}\", \"hovertext\": [\"Energy Renewalbe\"], \"ids\": [1], \"legendgroup\": \"Energy Renewalbe\", \"marker\": {\"color\": \"#FF97FF\"}, \"name\": \"Energy Renewalbe\", \"offsetgroup\": \"Energy Renewalbe\", \"orientation\": \"v\", \"showlegend\": true, \"textposition\": \"auto\", \"type\": \"bar\", \"x\": [\"Energy Renewalbe\"], \"xaxis\": \"x\", \"y\": [2.3], \"yaxis\": \"y\"}, {\"alignmentgroup\": \"True\", \"hoverlabel\": {\"namelength\": 0}, \"hovertemplate\": \"<b>%{hovertext}</b><br><br>portfolio=%{x}<br>ndays=1<br>percent=%{y}\", \"hovertext\": [\"Insurance\"], \"ids\": [1], \"legendgroup\": \"Insurance\", \"marker\": {\"color\": \"#FECB52\"}, \"name\": \"Insurance\", \"offsetgroup\": \"Insurance\", \"orientation\": \"v\", \"showlegend\": true, \"textposition\": \"auto\", \"type\": \"bar\", \"x\": [\"Insurance\"], \"xaxis\": \"x\", \"y\": [10.13], \"yaxis\": \"y\"}, {\"alignmentgroup\": \"True\", \"hoverlabel\": {\"namelength\": 0}, \"hovertemplate\": \"<b>%{hovertext}</b><br><br>portfolio=%{x}<br>ndays=1<br>percent=%{y}\", \"hovertext\": [\"Mega Capital\"], \"ids\": [1], \"legendgroup\": \"Mega Capital\", \"marker\": {\"color\": \"#636efa\"}, \"name\": \"Mega Capital\", \"offsetgroup\": \"Mega Capital\", \"orientation\": \"v\", \"showlegend\": true, \"textposition\": \"auto\", \"type\": \"bar\", \"x\": [\"Mega Capital\"], \"xaxis\": \"x\", \"y\": [0.48], \"yaxis\": \"y\"}, {\"alignmentgroup\": \"True\", \"hoverlabel\": {\"namelength\": 0}, \"hovertemplate\": \"<b>%{hovertext}</b><br><br>portfolio=%{x}<br>ndays=1<br>percent=%{y}\", \"hovertext\": [\"REIT\"], \"ids\": [1], \"legendgroup\": \"REIT\", \"marker\": {\"color\": \"#EF553B\"}, \"name\": \"REIT\", \"offsetgroup\": \"REIT\", \"orientation\": \"v\", \"showlegend\": true, \"textposition\": \"auto\", \"type\": \"bar\", \"x\": [\"REIT\"], \"xaxis\": \"x\", \"y\": [6.55], \"yaxis\": \"y\"}, {\"alignmentgroup\": \"True\", \"hoverlabel\": {\"namelength\": 0}, \"hovertemplate\": \"<b>%{hovertext}</b><br><br>portfolio=%{x}<br>ndays=1<br>percent=%{y}\", \"hovertext\": [\"Semiconductors\"], \"ids\": [1], \"legendgroup\": \"Semiconductors\", \"marker\": {\"color\": \"#00cc96\"}, \"name\": \"Semiconductors\", \"offsetgroup\": \"Semiconductors\", \"orientation\": \"v\", \"showlegend\": true, \"textposition\": \"auto\", \"type\": \"bar\", \"x\": [\"Semiconductors\"], \"xaxis\": \"x\", \"y\": [0.4366666666666667], \"yaxis\": \"y\"}],\n",
       "                        {\"barmode\": \"relative\", \"height\": 800, \"legend\": {\"title\": {\"text\": \"portfolio\"}, \"tracegroupgap\": 0}, \"margin\": {\"t\": 60}, \"sliders\": [{\"active\": 0, \"currentvalue\": {\"prefix\": \"ndays=\"}, \"len\": 0.9, \"pad\": {\"b\": 10, \"t\": 60}, \"steps\": [{\"args\": [[\"1\"], {\"frame\": {\"duration\": 0, \"redraw\": true}, \"fromcurrent\": true, \"mode\": \"immediate\", \"transition\": {\"duration\": 0, \"easing\": \"linear\"}}], \"label\": \"1\", \"method\": \"animate\"}, {\"args\": [[\"6\"], {\"frame\": {\"duration\": 0, \"redraw\": true}, \"fromcurrent\": true, \"mode\": \"immediate\", \"transition\": {\"duration\": 0, \"easing\": \"linear\"}}], \"label\": \"6\", \"method\": \"animate\"}, {\"args\": [[\"11\"], {\"frame\": {\"duration\": 0, \"redraw\": true}, \"fromcurrent\": true, \"mode\": \"immediate\", \"transition\": {\"duration\": 0, \"easing\": \"linear\"}}], \"label\": \"11\", \"method\": \"animate\"}, {\"args\": [[\"16\"], {\"frame\": {\"duration\": 0, \"redraw\": true}, \"fromcurrent\": true, \"mode\": \"immediate\", \"transition\": {\"duration\": 0, \"easing\": \"linear\"}}], \"label\": \"16\", \"method\": \"animate\"}, {\"args\": [[\"21\"], {\"frame\": {\"duration\": 0, \"redraw\": true}, \"fromcurrent\": true, \"mode\": \"immediate\", \"transition\": {\"duration\": 0, \"easing\": \"linear\"}}], \"label\": \"21\", \"method\": \"animate\"}, {\"args\": [[\"26\"], {\"frame\": {\"duration\": 0, \"redraw\": true}, \"fromcurrent\": true, \"mode\": \"immediate\", \"transition\": {\"duration\": 0, \"easing\": \"linear\"}}], \"label\": \"26\", \"method\": \"animate\"}, {\"args\": [[\"31\"], {\"frame\": {\"duration\": 0, \"redraw\": true}, \"fromcurrent\": true, \"mode\": \"immediate\", \"transition\": {\"duration\": 0, \"easing\": \"linear\"}}], \"label\": \"31\", \"method\": \"animate\"}, {\"args\": [[\"36\"], {\"frame\": {\"duration\": 0, \"redraw\": true}, \"fromcurrent\": true, \"mode\": \"immediate\", \"transition\": {\"duration\": 0, \"easing\": \"linear\"}}], \"label\": \"36\", \"method\": \"animate\"}, {\"args\": [[\"41\"], {\"frame\": {\"duration\": 0, \"redraw\": true}, \"fromcurrent\": true, \"mode\": \"immediate\", \"transition\": {\"duration\": 0, \"easing\": \"linear\"}}], \"label\": \"41\", \"method\": \"animate\"}], \"x\": 0.1, \"xanchor\": \"left\", \"y\": 0, \"yanchor\": \"top\"}], \"template\": {\"data\": {\"bar\": [{\"error_x\": {\"color\": \"#2a3f5f\"}, \"error_y\": {\"color\": \"#2a3f5f\"}, \"marker\": {\"line\": {\"color\": \"#E5ECF6\", \"width\": 0.5}}, \"type\": \"bar\"}], \"barpolar\": [{\"marker\": {\"line\": {\"color\": \"#E5ECF6\", \"width\": 0.5}}, \"type\": \"barpolar\"}], \"carpet\": [{\"aaxis\": {\"endlinecolor\": \"#2a3f5f\", \"gridcolor\": \"white\", \"linecolor\": \"white\", \"minorgridcolor\": \"white\", \"startlinecolor\": \"#2a3f5f\"}, \"baxis\": {\"endlinecolor\": \"#2a3f5f\", \"gridcolor\": \"white\", \"linecolor\": \"white\", \"minorgridcolor\": \"white\", \"startlinecolor\": \"#2a3f5f\"}, \"type\": \"carpet\"}], \"choropleth\": [{\"colorbar\": {\"outlinewidth\": 0, \"ticks\": \"\"}, \"type\": \"choropleth\"}], \"contour\": [{\"colorbar\": {\"outlinewidth\": 0, \"ticks\": \"\"}, \"colorscale\": [[0.0, \"#0d0887\"], [0.1111111111111111, \"#46039f\"], [0.2222222222222222, \"#7201a8\"], [0.3333333333333333, \"#9c179e\"], [0.4444444444444444, \"#bd3786\"], [0.5555555555555556, \"#d8576b\"], [0.6666666666666666, \"#ed7953\"], [0.7777777777777778, \"#fb9f3a\"], [0.8888888888888888, \"#fdca26\"], [1.0, \"#f0f921\"]], \"type\": \"contour\"}], \"contourcarpet\": [{\"colorbar\": {\"outlinewidth\": 0, \"ticks\": \"\"}, \"type\": \"contourcarpet\"}], \"heatmap\": [{\"colorbar\": {\"outlinewidth\": 0, \"ticks\": \"\"}, \"colorscale\": [[0.0, \"#0d0887\"], [0.1111111111111111, \"#46039f\"], [0.2222222222222222, \"#7201a8\"], [0.3333333333333333, \"#9c179e\"], [0.4444444444444444, \"#bd3786\"], [0.5555555555555556, \"#d8576b\"], [0.6666666666666666, \"#ed7953\"], [0.7777777777777778, \"#fb9f3a\"], [0.8888888888888888, \"#fdca26\"], [1.0, \"#f0f921\"]], \"type\": \"heatmap\"}], \"heatmapgl\": [{\"colorbar\": {\"outlinewidth\": 0, \"ticks\": \"\"}, \"colorscale\": [[0.0, \"#0d0887\"], [0.1111111111111111, \"#46039f\"], [0.2222222222222222, \"#7201a8\"], [0.3333333333333333, \"#9c179e\"], [0.4444444444444444, \"#bd3786\"], [0.5555555555555556, \"#d8576b\"], [0.6666666666666666, \"#ed7953\"], [0.7777777777777778, \"#fb9f3a\"], [0.8888888888888888, \"#fdca26\"], [1.0, \"#f0f921\"]], \"type\": \"heatmapgl\"}], \"histogram\": [{\"marker\": {\"colorbar\": {\"outlinewidth\": 0, \"ticks\": \"\"}}, \"type\": \"histogram\"}], \"histogram2d\": [{\"colorbar\": {\"outlinewidth\": 0, \"ticks\": \"\"}, \"colorscale\": [[0.0, \"#0d0887\"], [0.1111111111111111, \"#46039f\"], [0.2222222222222222, \"#7201a8\"], [0.3333333333333333, \"#9c179e\"], [0.4444444444444444, \"#bd3786\"], [0.5555555555555556, \"#d8576b\"], [0.6666666666666666, \"#ed7953\"], [0.7777777777777778, \"#fb9f3a\"], [0.8888888888888888, \"#fdca26\"], [1.0, \"#f0f921\"]], \"type\": \"histogram2d\"}], \"histogram2dcontour\": [{\"colorbar\": {\"outlinewidth\": 0, \"ticks\": \"\"}, \"colorscale\": [[0.0, \"#0d0887\"], [0.1111111111111111, \"#46039f\"], [0.2222222222222222, \"#7201a8\"], [0.3333333333333333, \"#9c179e\"], [0.4444444444444444, \"#bd3786\"], [0.5555555555555556, \"#d8576b\"], [0.6666666666666666, \"#ed7953\"], [0.7777777777777778, \"#fb9f3a\"], [0.8888888888888888, \"#fdca26\"], [1.0, \"#f0f921\"]], \"type\": \"histogram2dcontour\"}], \"mesh3d\": [{\"colorbar\": {\"outlinewidth\": 0, \"ticks\": \"\"}, \"type\": \"mesh3d\"}], \"parcoords\": [{\"line\": {\"colorbar\": {\"outlinewidth\": 0, \"ticks\": \"\"}}, \"type\": \"parcoords\"}], \"pie\": [{\"automargin\": true, \"type\": \"pie\"}], \"scatter\": [{\"marker\": {\"colorbar\": {\"outlinewidth\": 0, \"ticks\": \"\"}}, \"type\": \"scatter\"}], \"scatter3d\": [{\"line\": {\"colorbar\": {\"outlinewidth\": 0, \"ticks\": \"\"}}, \"marker\": {\"colorbar\": {\"outlinewidth\": 0, \"ticks\": \"\"}}, \"type\": \"scatter3d\"}], \"scattercarpet\": [{\"marker\": {\"colorbar\": {\"outlinewidth\": 0, \"ticks\": \"\"}}, \"type\": \"scattercarpet\"}], \"scattergeo\": [{\"marker\": {\"colorbar\": {\"outlinewidth\": 0, \"ticks\": \"\"}}, \"type\": \"scattergeo\"}], \"scattergl\": [{\"marker\": {\"colorbar\": {\"outlinewidth\": 0, \"ticks\": \"\"}}, \"type\": \"scattergl\"}], \"scattermapbox\": [{\"marker\": {\"colorbar\": {\"outlinewidth\": 0, \"ticks\": \"\"}}, \"type\": \"scattermapbox\"}], \"scatterpolar\": [{\"marker\": {\"colorbar\": {\"outlinewidth\": 0, \"ticks\": \"\"}}, \"type\": \"scatterpolar\"}], \"scatterpolargl\": [{\"marker\": {\"colorbar\": {\"outlinewidth\": 0, \"ticks\": \"\"}}, \"type\": \"scatterpolargl\"}], \"scatterternary\": [{\"marker\": {\"colorbar\": {\"outlinewidth\": 0, \"ticks\": \"\"}}, \"type\": \"scatterternary\"}], \"surface\": [{\"colorbar\": {\"outlinewidth\": 0, \"ticks\": \"\"}, \"colorscale\": [[0.0, \"#0d0887\"], [0.1111111111111111, \"#46039f\"], [0.2222222222222222, \"#7201a8\"], [0.3333333333333333, \"#9c179e\"], [0.4444444444444444, \"#bd3786\"], [0.5555555555555556, \"#d8576b\"], [0.6666666666666666, \"#ed7953\"], [0.7777777777777778, \"#fb9f3a\"], [0.8888888888888888, \"#fdca26\"], [1.0, \"#f0f921\"]], \"type\": \"surface\"}], \"table\": [{\"cells\": {\"fill\": {\"color\": \"#EBF0F8\"}, \"line\": {\"color\": \"white\"}}, \"header\": {\"fill\": {\"color\": \"#C8D4E3\"}, \"line\": {\"color\": \"white\"}}, \"type\": \"table\"}]}, \"layout\": {\"annotationdefaults\": {\"arrowcolor\": \"#2a3f5f\", \"arrowhead\": 0, \"arrowwidth\": 1}, \"coloraxis\": {\"colorbar\": {\"outlinewidth\": 0, \"ticks\": \"\"}}, \"colorscale\": {\"diverging\": [[0, \"#8e0152\"], [0.1, \"#c51b7d\"], [0.2, \"#de77ae\"], [0.3, \"#f1b6da\"], [0.4, \"#fde0ef\"], [0.5, \"#f7f7f7\"], [0.6, \"#e6f5d0\"], [0.7, \"#b8e186\"], [0.8, \"#7fbc41\"], [0.9, \"#4d9221\"], [1, \"#276419\"]], \"sequential\": [[0.0, \"#0d0887\"], [0.1111111111111111, \"#46039f\"], [0.2222222222222222, \"#7201a8\"], [0.3333333333333333, \"#9c179e\"], [0.4444444444444444, \"#bd3786\"], [0.5555555555555556, \"#d8576b\"], [0.6666666666666666, \"#ed7953\"], [0.7777777777777778, \"#fb9f3a\"], [0.8888888888888888, \"#fdca26\"], [1.0, \"#f0f921\"]], \"sequentialminus\": [[0.0, \"#0d0887\"], [0.1111111111111111, \"#46039f\"], [0.2222222222222222, \"#7201a8\"], [0.3333333333333333, \"#9c179e\"], [0.4444444444444444, \"#bd3786\"], [0.5555555555555556, \"#d8576b\"], [0.6666666666666666, \"#ed7953\"], [0.7777777777777778, \"#fb9f3a\"], [0.8888888888888888, \"#fdca26\"], [1.0, \"#f0f921\"]]}, \"colorway\": [\"#636efa\", \"#EF553B\", \"#00cc96\", \"#ab63fa\", \"#FFA15A\", \"#19d3f3\", \"#FF6692\", \"#B6E880\", \"#FF97FF\", \"#FECB52\"], \"font\": {\"color\": \"#2a3f5f\"}, \"geo\": {\"bgcolor\": \"white\", \"lakecolor\": \"white\", \"landcolor\": \"#E5ECF6\", \"showlakes\": true, \"showland\": true, \"subunitcolor\": \"white\"}, \"hoverlabel\": {\"align\": \"left\"}, \"hovermode\": \"closest\", \"mapbox\": {\"style\": \"light\"}, \"paper_bgcolor\": \"white\", \"plot_bgcolor\": \"#E5ECF6\", \"polar\": {\"angularaxis\": {\"gridcolor\": \"white\", \"linecolor\": \"white\", \"ticks\": \"\"}, \"bgcolor\": \"#E5ECF6\", \"radialaxis\": {\"gridcolor\": \"white\", \"linecolor\": \"white\", \"ticks\": \"\"}}, \"scene\": {\"xaxis\": {\"backgroundcolor\": \"#E5ECF6\", \"gridcolor\": \"white\", \"gridwidth\": 2, \"linecolor\": \"white\", \"showbackground\": true, \"ticks\": \"\", \"zerolinecolor\": \"white\"}, \"yaxis\": {\"backgroundcolor\": \"#E5ECF6\", \"gridcolor\": \"white\", \"gridwidth\": 2, \"linecolor\": \"white\", \"showbackground\": true, \"ticks\": \"\", \"zerolinecolor\": \"white\"}, \"zaxis\": {\"backgroundcolor\": \"#E5ECF6\", \"gridcolor\": \"white\", \"gridwidth\": 2, \"linecolor\": \"white\", \"showbackground\": true, \"ticks\": \"\", \"zerolinecolor\": \"white\"}}, \"shapedefaults\": {\"line\": {\"color\": \"#2a3f5f\"}}, \"ternary\": {\"aaxis\": {\"gridcolor\": \"white\", \"linecolor\": \"white\", \"ticks\": \"\"}, \"baxis\": {\"gridcolor\": \"white\", \"linecolor\": \"white\", \"ticks\": \"\"}, \"bgcolor\": \"#E5ECF6\", \"caxis\": {\"gridcolor\": \"white\", \"linecolor\": \"white\", \"ticks\": \"\"}}, \"title\": {\"x\": 0.05}, \"xaxis\": {\"automargin\": true, \"gridcolor\": \"white\", \"linecolor\": \"white\", \"ticks\": \"\", \"title\": {\"standoff\": 15}, \"zerolinecolor\": \"white\", \"zerolinewidth\": 2}, \"yaxis\": {\"automargin\": true, \"gridcolor\": \"white\", \"linecolor\": \"white\", \"ticks\": \"\", \"title\": {\"standoff\": 15}, \"zerolinecolor\": \"white\", \"zerolinewidth\": 2}}}, \"width\": 1350, \"xaxis\": {\"anchor\": \"y\", \"categoryarray\": [\"5G\", \"Biotechnology\", \"CEF\", \"Cloud Retail Apps\", \"Dividend\", \"Electric Vehicles\", \"Electricity Solar\", \"Electricity Wind\", \"Energy Renewalbe\", \"Insurance\", \"Mega Capital\", \"REIT\", \"Semiconductors\"], \"categoryorder\": \"array\", \"domain\": [0.0, 1.0], \"range\": [1, 13], \"title\": {\"text\": \"portfolio\"}}, \"yaxis\": {\"anchor\": \"x\", \"domain\": [0.0, 1.0], \"range\": [-20.29, 90.625], \"title\": {\"text\": \"percent\"}}},\n",
       "                        {\"responsive\": true}\n",
       "                    ).then(function(){\n",
       "                            Plotly.addFrames('b1dce6f9-932f-4dbd-8bb1-e93b463ff11c', [{\"data\": [{\"alignmentgroup\": \"True\", \"hoverlabel\": {\"namelength\": 0}, \"hovertemplate\": \"<b>%{hovertext}</b><br><br>portfolio=%{x}<br>ndays=1<br>percent=%{y}\", \"hovertext\": [\"5G\"], \"ids\": [1], \"legendgroup\": \"5G\", \"marker\": {\"color\": \"#636efa\"}, \"name\": \"5G\", \"offsetgroup\": \"5G\", \"orientation\": \"v\", \"showlegend\": true, \"textposition\": \"auto\", \"x\": [\"5G\"], \"xaxis\": \"x\", \"y\": [1.05], \"yaxis\": \"y\", \"type\": \"bar\"}, {\"alignmentgroup\": \"True\", \"hoverlabel\": {\"namelength\": 0}, \"hovertemplate\": \"<b>%{hovertext}</b><br><br>portfolio=%{x}<br>ndays=1<br>percent=%{y}\", \"hovertext\": [\"Biotechnology\"], \"ids\": [1], \"legendgroup\": \"Biotechnology\", \"marker\": {\"color\": \"#EF553B\"}, \"name\": \"Biotechnology\", \"offsetgroup\": \"Biotechnology\", \"orientation\": \"v\", \"showlegend\": true, \"textposition\": \"auto\", \"x\": [\"Biotechnology\"], \"xaxis\": \"x\", \"y\": [0.66], \"yaxis\": \"y\", \"type\": \"bar\"}, {\"alignmentgroup\": \"True\", \"hoverlabel\": {\"namelength\": 0}, \"hovertemplate\": \"<b>%{hovertext}</b><br><br>portfolio=%{x}<br>ndays=1<br>percent=%{y}\", \"hovertext\": [\"CEF\"], \"ids\": [1], \"legendgroup\": \"CEF\", \"marker\": {\"color\": \"#00cc96\"}, \"name\": \"CEF\", \"offsetgroup\": \"CEF\", \"orientation\": \"v\", \"showlegend\": true, \"textposition\": \"auto\", \"x\": [\"CEF\"], \"xaxis\": \"x\", \"y\": [0.45], \"yaxis\": \"y\", \"type\": \"bar\"}, {\"alignmentgroup\": \"True\", \"hoverlabel\": {\"namelength\": 0}, \"hovertemplate\": \"<b>%{hovertext}</b><br><br>portfolio=%{x}<br>ndays=1<br>percent=%{y}\", \"hovertext\": [\"Cloud Retail Apps\"], \"ids\": [1], \"legendgroup\": \"Cloud Retail Apps\", \"marker\": {\"color\": \"#ab63fa\"}, \"name\": \"Cloud Retail Apps\", \"offsetgroup\": \"Cloud Retail Apps\", \"orientation\": \"v\", \"showlegend\": true, \"textposition\": \"auto\", \"x\": [\"Cloud Retail Apps\"], \"xaxis\": \"x\", \"y\": [1.09], \"yaxis\": \"y\", \"type\": \"bar\"}, {\"alignmentgroup\": \"True\", \"hoverlabel\": {\"namelength\": 0}, \"hovertemplate\": \"<b>%{hovertext}</b><br><br>portfolio=%{x}<br>ndays=1<br>percent=%{y}\", \"hovertext\": [\"Dividend\"], \"ids\": [1], \"legendgroup\": \"Dividend\", \"marker\": {\"color\": \"#FFA15A\"}, \"name\": \"Dividend\", \"offsetgroup\": \"Dividend\", \"orientation\": \"v\", \"showlegend\": true, \"textposition\": \"auto\", \"x\": [\"Dividend\"], \"xaxis\": \"x\", \"y\": [0.9850000000000001], \"yaxis\": \"y\", \"type\": \"bar\"}, {\"alignmentgroup\": \"True\", \"hoverlabel\": {\"namelength\": 0}, \"hovertemplate\": \"<b>%{hovertext}</b><br><br>portfolio=%{x}<br>ndays=1<br>percent=%{y}\", \"hovertext\": [\"Electric Vehicles\"], \"ids\": [1], \"legendgroup\": \"Electric Vehicles\", \"marker\": {\"color\": \"#19d3f3\"}, \"name\": \"Electric Vehicles\", \"offsetgroup\": \"Electric Vehicles\", \"orientation\": \"v\", \"showlegend\": true, \"textposition\": \"auto\", \"x\": [\"Electric Vehicles\"], \"xaxis\": \"x\", \"y\": [-3.025], \"yaxis\": \"y\", \"type\": \"bar\"}, {\"alignmentgroup\": \"True\", \"hoverlabel\": {\"namelength\": 0}, \"hovertemplate\": \"<b>%{hovertext}</b><br><br>portfolio=%{x}<br>ndays=1<br>percent=%{y}\", \"hovertext\": [\"Electricity Solar\"], \"ids\": [1], \"legendgroup\": \"Electricity Solar\", \"marker\": {\"color\": \"#FF6692\"}, \"name\": \"Electricity Solar\", \"offsetgroup\": \"Electricity Solar\", \"orientation\": \"v\", \"showlegend\": true, \"textposition\": \"auto\", \"x\": [\"Electricity Solar\"], \"xaxis\": \"x\", \"y\": [2.138], \"yaxis\": \"y\", \"type\": \"bar\"}, {\"alignmentgroup\": \"True\", \"hoverlabel\": {\"namelength\": 0}, \"hovertemplate\": \"<b>%{hovertext}</b><br><br>portfolio=%{x}<br>ndays=1<br>percent=%{y}\", \"hovertext\": [\"Electricity Wind\"], \"ids\": [1], \"legendgroup\": \"Electricity Wind\", \"marker\": {\"color\": \"#B6E880\"}, \"name\": \"Electricity Wind\", \"offsetgroup\": \"Electricity Wind\", \"orientation\": \"v\", \"showlegend\": true, \"textposition\": \"auto\", \"x\": [\"Electricity Wind\"], \"xaxis\": \"x\", \"y\": [3.73], \"yaxis\": \"y\", \"type\": \"bar\"}, {\"alignmentgroup\": \"True\", \"hoverlabel\": {\"namelength\": 0}, \"hovertemplate\": \"<b>%{hovertext}</b><br><br>portfolio=%{x}<br>ndays=1<br>percent=%{y}\", \"hovertext\": [\"Energy Renewalbe\"], \"ids\": [1], \"legendgroup\": \"Energy Renewalbe\", \"marker\": {\"color\": \"#FF97FF\"}, \"name\": \"Energy Renewalbe\", \"offsetgroup\": \"Energy Renewalbe\", \"orientation\": \"v\", \"showlegend\": true, \"textposition\": \"auto\", \"x\": [\"Energy Renewalbe\"], \"xaxis\": \"x\", \"y\": [2.3], \"yaxis\": \"y\", \"type\": \"bar\"}, {\"alignmentgroup\": \"True\", \"hoverlabel\": {\"namelength\": 0}, \"hovertemplate\": \"<b>%{hovertext}</b><br><br>portfolio=%{x}<br>ndays=1<br>percent=%{y}\", \"hovertext\": [\"Insurance\"], \"ids\": [1], \"legendgroup\": \"Insurance\", \"marker\": {\"color\": \"#FECB52\"}, \"name\": \"Insurance\", \"offsetgroup\": \"Insurance\", \"orientation\": \"v\", \"showlegend\": true, \"textposition\": \"auto\", \"x\": [\"Insurance\"], \"xaxis\": \"x\", \"y\": [10.13], \"yaxis\": \"y\", \"type\": \"bar\"}, {\"alignmentgroup\": \"True\", \"hoverlabel\": {\"namelength\": 0}, \"hovertemplate\": \"<b>%{hovertext}</b><br><br>portfolio=%{x}<br>ndays=1<br>percent=%{y}\", \"hovertext\": [\"Mega Capital\"], \"ids\": [1], \"legendgroup\": \"Mega Capital\", \"marker\": {\"color\": \"#636efa\"}, \"name\": \"Mega Capital\", \"offsetgroup\": \"Mega Capital\", \"orientation\": \"v\", \"showlegend\": true, \"textposition\": \"auto\", \"x\": [\"Mega Capital\"], \"xaxis\": \"x\", \"y\": [0.48], \"yaxis\": \"y\", \"type\": \"bar\"}, {\"alignmentgroup\": \"True\", \"hoverlabel\": {\"namelength\": 0}, \"hovertemplate\": \"<b>%{hovertext}</b><br><br>portfolio=%{x}<br>ndays=1<br>percent=%{y}\", \"hovertext\": [\"REIT\"], \"ids\": [1], \"legendgroup\": \"REIT\", \"marker\": {\"color\": \"#EF553B\"}, \"name\": \"REIT\", \"offsetgroup\": \"REIT\", \"orientation\": \"v\", \"showlegend\": true, \"textposition\": \"auto\", \"x\": [\"REIT\"], \"xaxis\": \"x\", \"y\": [6.55], \"yaxis\": \"y\", \"type\": \"bar\"}, {\"alignmentgroup\": \"True\", \"hoverlabel\": {\"namelength\": 0}, \"hovertemplate\": \"<b>%{hovertext}</b><br><br>portfolio=%{x}<br>ndays=1<br>percent=%{y}\", \"hovertext\": [\"Semiconductors\"], \"ids\": [1], \"legendgroup\": \"Semiconductors\", \"marker\": {\"color\": \"#00cc96\"}, \"name\": \"Semiconductors\", \"offsetgroup\": \"Semiconductors\", \"orientation\": \"v\", \"showlegend\": true, \"textposition\": \"auto\", \"x\": [\"Semiconductors\"], \"xaxis\": \"x\", \"y\": [0.4366666666666667], \"yaxis\": \"y\", \"type\": \"bar\"}], \"name\": \"1\"}, {\"data\": [{\"alignmentgroup\": \"True\", \"hoverlabel\": {\"namelength\": 0}, \"hovertemplate\": \"<b>%{hovertext}</b><br><br>portfolio=%{x}<br>ndays=6<br>percent=%{y}\", \"hovertext\": [\"5G\"], \"ids\": [6], \"legendgroup\": \"5G\", \"marker\": {\"color\": \"#636efa\"}, \"name\": \"5G\", \"offsetgroup\": \"5G\", \"orientation\": \"v\", \"showlegend\": true, \"textposition\": \"auto\", \"x\": [\"5G\"], \"xaxis\": \"x\", \"y\": [2.76], \"yaxis\": \"y\", \"type\": \"bar\"}, {\"alignmentgroup\": \"True\", \"hoverlabel\": {\"namelength\": 0}, \"hovertemplate\": \"<b>%{hovertext}</b><br><br>portfolio=%{x}<br>ndays=6<br>percent=%{y}\", \"hovertext\": [\"Biotechnology\"], \"ids\": [6], \"legendgroup\": \"Biotechnology\", \"marker\": {\"color\": \"#EF553B\"}, \"name\": \"Biotechnology\", \"offsetgroup\": \"Biotechnology\", \"orientation\": \"v\", \"showlegend\": true, \"textposition\": \"auto\", \"x\": [\"Biotechnology\"], \"xaxis\": \"x\", \"y\": [5.24], \"yaxis\": \"y\", \"type\": \"bar\"}, {\"alignmentgroup\": \"True\", \"hoverlabel\": {\"namelength\": 0}, \"hovertemplate\": \"<b>%{hovertext}</b><br><br>portfolio=%{x}<br>ndays=6<br>percent=%{y}\", \"hovertext\": [\"CEF\"], \"ids\": [6], \"legendgroup\": \"CEF\", \"marker\": {\"color\": \"#00cc96\"}, \"name\": \"CEF\", \"offsetgroup\": \"CEF\", \"orientation\": \"v\", \"showlegend\": true, \"textposition\": \"auto\", \"x\": [\"CEF\"], \"xaxis\": \"x\", \"y\": [1.66], \"yaxis\": \"y\", \"type\": \"bar\"}, {\"alignmentgroup\": \"True\", \"hoverlabel\": {\"namelength\": 0}, \"hovertemplate\": \"<b>%{hovertext}</b><br><br>portfolio=%{x}<br>ndays=6<br>percent=%{y}\", \"hovertext\": [\"Cloud Retail Apps\"], \"ids\": [6], \"legendgroup\": \"Cloud Retail Apps\", \"marker\": {\"color\": \"#ab63fa\"}, \"name\": \"Cloud Retail Apps\", \"offsetgroup\": \"Cloud Retail Apps\", \"orientation\": \"v\", \"showlegend\": true, \"textposition\": \"auto\", \"x\": [\"Cloud Retail Apps\"], \"xaxis\": \"x\", \"y\": [-5.71], \"yaxis\": \"y\", \"type\": \"bar\"}, {\"alignmentgroup\": \"True\", \"hoverlabel\": {\"namelength\": 0}, \"hovertemplate\": \"<b>%{hovertext}</b><br><br>portfolio=%{x}<br>ndays=6<br>percent=%{y}\", \"hovertext\": [\"Dividend\"], \"ids\": [6], \"legendgroup\": \"Dividend\", \"marker\": {\"color\": \"#FFA15A\"}, \"name\": \"Dividend\", \"offsetgroup\": \"Dividend\", \"orientation\": \"v\", \"showlegend\": true, \"textposition\": \"auto\", \"x\": [\"Dividend\"], \"xaxis\": \"x\", \"y\": [1.6099999999999999], \"yaxis\": \"y\", \"type\": \"bar\"}, {\"alignmentgroup\": \"True\", \"hoverlabel\": {\"namelength\": 0}, \"hovertemplate\": \"<b>%{hovertext}</b><br><br>portfolio=%{x}<br>ndays=6<br>percent=%{y}\", \"hovertext\": [\"Electric Vehicles\"], \"ids\": [6], \"legendgroup\": \"Electric Vehicles\", \"marker\": {\"color\": \"#19d3f3\"}, \"name\": \"Electric Vehicles\", \"offsetgroup\": \"Electric Vehicles\", \"orientation\": \"v\", \"showlegend\": true, \"textposition\": \"auto\", \"x\": [\"Electric Vehicles\"], \"xaxis\": \"x\", \"y\": [7.5649999999999995], \"yaxis\": \"y\", \"type\": \"bar\"}, {\"alignmentgroup\": \"True\", \"hoverlabel\": {\"namelength\": 0}, \"hovertemplate\": \"<b>%{hovertext}</b><br><br>portfolio=%{x}<br>ndays=6<br>percent=%{y}\", \"hovertext\": [\"Electricity Solar\"], \"ids\": [6], \"legendgroup\": \"Electricity Solar\", \"marker\": {\"color\": \"#FF6692\"}, \"name\": \"Electricity Solar\", \"offsetgroup\": \"Electricity Solar\", \"orientation\": \"v\", \"showlegend\": true, \"textposition\": \"auto\", \"x\": [\"Electricity Solar\"], \"xaxis\": \"x\", \"y\": [12.724], \"yaxis\": \"y\", \"type\": \"bar\"}, {\"alignmentgroup\": \"True\", \"hoverlabel\": {\"namelength\": 0}, \"hovertemplate\": \"<b>%{hovertext}</b><br><br>portfolio=%{x}<br>ndays=6<br>percent=%{y}\", \"hovertext\": [\"Electricity Wind\"], \"ids\": [6], \"legendgroup\": \"Electricity Wind\", \"marker\": {\"color\": \"#B6E880\"}, \"name\": \"Electricity Wind\", \"offsetgroup\": \"Electricity Wind\", \"orientation\": \"v\", \"showlegend\": true, \"textposition\": \"auto\", \"x\": [\"Electricity Wind\"], \"xaxis\": \"x\", \"y\": [3.71], \"yaxis\": \"y\", \"type\": \"bar\"}, {\"alignmentgroup\": \"True\", \"hoverlabel\": {\"namelength\": 0}, \"hovertemplate\": \"<b>%{hovertext}</b><br><br>portfolio=%{x}<br>ndays=6<br>percent=%{y}\", \"hovertext\": [\"Energy Renewalbe\"], \"ids\": [6], \"legendgroup\": \"Energy Renewalbe\", \"marker\": {\"color\": \"#FF97FF\"}, \"name\": \"Energy Renewalbe\", \"offsetgroup\": \"Energy Renewalbe\", \"orientation\": \"v\", \"showlegend\": true, \"textposition\": \"auto\", \"x\": [\"Energy Renewalbe\"], \"xaxis\": \"x\", \"y\": [22.56], \"yaxis\": \"y\", \"type\": \"bar\"}, {\"alignmentgroup\": \"True\", \"hoverlabel\": {\"namelength\": 0}, \"hovertemplate\": \"<b>%{hovertext}</b><br><br>portfolio=%{x}<br>ndays=6<br>percent=%{y}\", \"hovertext\": [\"Insurance\"], \"ids\": [6], \"legendgroup\": \"Insurance\", \"marker\": {\"color\": \"#FECB52\"}, \"name\": \"Insurance\", \"offsetgroup\": \"Insurance\", \"orientation\": \"v\", \"showlegend\": true, \"textposition\": \"auto\", \"x\": [\"Insurance\"], \"xaxis\": \"x\", \"y\": [20.85], \"yaxis\": \"y\", \"type\": \"bar\"}, {\"alignmentgroup\": \"True\", \"hoverlabel\": {\"namelength\": 0}, \"hovertemplate\": \"<b>%{hovertext}</b><br><br>portfolio=%{x}<br>ndays=6<br>percent=%{y}\", \"hovertext\": [\"Mega Capital\"], \"ids\": [6], \"legendgroup\": \"Mega Capital\", \"marker\": {\"color\": \"#636efa\"}, \"name\": \"Mega Capital\", \"offsetgroup\": \"Mega Capital\", \"orientation\": \"v\", \"showlegend\": true, \"textposition\": \"auto\", \"x\": [\"Mega Capital\"], \"xaxis\": \"x\", \"y\": [0.6999999999999998], \"yaxis\": \"y\", \"type\": \"bar\"}, {\"alignmentgroup\": \"True\", \"hoverlabel\": {\"namelength\": 0}, \"hovertemplate\": \"<b>%{hovertext}</b><br><br>portfolio=%{x}<br>ndays=6<br>percent=%{y}\", \"hovertext\": [\"REIT\"], \"ids\": [6], \"legendgroup\": \"REIT\", \"marker\": {\"color\": \"#EF553B\"}, \"name\": \"REIT\", \"offsetgroup\": \"REIT\", \"orientation\": \"v\", \"showlegend\": true, \"textposition\": \"auto\", \"x\": [\"REIT\"], \"xaxis\": \"x\", \"y\": [8.61], \"yaxis\": \"y\", \"type\": \"bar\"}, {\"alignmentgroup\": \"True\", \"hoverlabel\": {\"namelength\": 0}, \"hovertemplate\": \"<b>%{hovertext}</b><br><br>portfolio=%{x}<br>ndays=6<br>percent=%{y}\", \"hovertext\": [\"Semiconductors\"], \"ids\": [6], \"legendgroup\": \"Semiconductors\", \"marker\": {\"color\": \"#00cc96\"}, \"name\": \"Semiconductors\", \"offsetgroup\": \"Semiconductors\", \"orientation\": \"v\", \"showlegend\": true, \"textposition\": \"auto\", \"x\": [\"Semiconductors\"], \"xaxis\": \"x\", \"y\": [-0.5466666666666665], \"yaxis\": \"y\", \"type\": \"bar\"}], \"name\": \"6\"}, {\"data\": [{\"alignmentgroup\": \"True\", \"hoverlabel\": {\"namelength\": 0}, \"hovertemplate\": \"<b>%{hovertext}</b><br><br>portfolio=%{x}<br>ndays=11<br>percent=%{y}\", \"hovertext\": [\"5G\"], \"ids\": [11], \"legendgroup\": \"5G\", \"marker\": {\"color\": \"#636efa\"}, \"name\": \"5G\", \"offsetgroup\": \"5G\", \"orientation\": \"v\", \"showlegend\": true, \"textposition\": \"auto\", \"x\": [\"5G\"], \"xaxis\": \"x\", \"y\": [6.69], \"yaxis\": \"y\", \"type\": \"bar\"}, {\"alignmentgroup\": \"True\", \"hoverlabel\": {\"namelength\": 0}, \"hovertemplate\": \"<b>%{hovertext}</b><br><br>portfolio=%{x}<br>ndays=11<br>percent=%{y}\", \"hovertext\": [\"Biotechnology\"], \"ids\": [11], \"legendgroup\": \"Biotechnology\", \"marker\": {\"color\": \"#EF553B\"}, \"name\": \"Biotechnology\", \"offsetgroup\": \"Biotechnology\", \"orientation\": \"v\", \"showlegend\": true, \"textposition\": \"auto\", \"x\": [\"Biotechnology\"], \"xaxis\": \"x\", \"y\": [7.47], \"yaxis\": \"y\", \"type\": \"bar\"}, {\"alignmentgroup\": \"True\", \"hoverlabel\": {\"namelength\": 0}, \"hovertemplate\": \"<b>%{hovertext}</b><br><br>portfolio=%{x}<br>ndays=11<br>percent=%{y}\", \"hovertext\": [\"CEF\"], \"ids\": [11], \"legendgroup\": \"CEF\", \"marker\": {\"color\": \"#00cc96\"}, \"name\": \"CEF\", \"offsetgroup\": \"CEF\", \"orientation\": \"v\", \"showlegend\": true, \"textposition\": \"auto\", \"x\": [\"CEF\"], \"xaxis\": \"x\", \"y\": [0.87], \"yaxis\": \"y\", \"type\": \"bar\"}, {\"alignmentgroup\": \"True\", \"hoverlabel\": {\"namelength\": 0}, \"hovertemplate\": \"<b>%{hovertext}</b><br><br>portfolio=%{x}<br>ndays=11<br>percent=%{y}\", \"hovertext\": [\"Cloud Retail Apps\"], \"ids\": [11], \"legendgroup\": \"Cloud Retail Apps\", \"marker\": {\"color\": \"#ab63fa\"}, \"name\": \"Cloud Retail Apps\", \"offsetgroup\": \"Cloud Retail Apps\", \"orientation\": \"v\", \"showlegend\": true, \"textposition\": \"auto\", \"x\": [\"Cloud Retail Apps\"], \"xaxis\": \"x\", \"y\": [-10.19], \"yaxis\": \"y\", \"type\": \"bar\"}, {\"alignmentgroup\": \"True\", \"hoverlabel\": {\"namelength\": 0}, \"hovertemplate\": \"<b>%{hovertext}</b><br><br>portfolio=%{x}<br>ndays=11<br>percent=%{y}\", \"hovertext\": [\"Dividend\"], \"ids\": [11], \"legendgroup\": \"Dividend\", \"marker\": {\"color\": \"#FFA15A\"}, \"name\": \"Dividend\", \"offsetgroup\": \"Dividend\", \"orientation\": \"v\", \"showlegend\": true, \"textposition\": \"auto\", \"x\": [\"Dividend\"], \"xaxis\": \"x\", \"y\": [3.425], \"yaxis\": \"y\", \"type\": \"bar\"}, {\"alignmentgroup\": \"True\", \"hoverlabel\": {\"namelength\": 0}, \"hovertemplate\": \"<b>%{hovertext}</b><br><br>portfolio=%{x}<br>ndays=11<br>percent=%{y}\", \"hovertext\": [\"Electric Vehicles\"], \"ids\": [11], \"legendgroup\": \"Electric Vehicles\", \"marker\": {\"color\": \"#19d3f3\"}, \"name\": \"Electric Vehicles\", \"offsetgroup\": \"Electric Vehicles\", \"orientation\": \"v\", \"showlegend\": true, \"textposition\": \"auto\", \"x\": [\"Electric Vehicles\"], \"xaxis\": \"x\", \"y\": [13.68], \"yaxis\": \"y\", \"type\": \"bar\"}, {\"alignmentgroup\": \"True\", \"hoverlabel\": {\"namelength\": 0}, \"hovertemplate\": \"<b>%{hovertext}</b><br><br>portfolio=%{x}<br>ndays=11<br>percent=%{y}\", \"hovertext\": [\"Electricity Solar\"], \"ids\": [11], \"legendgroup\": \"Electricity Solar\", \"marker\": {\"color\": \"#FF6692\"}, \"name\": \"Electricity Solar\", \"offsetgroup\": \"Electricity Solar\", \"orientation\": \"v\", \"showlegend\": true, \"textposition\": \"auto\", \"x\": [\"Electricity Solar\"], \"xaxis\": \"x\", \"y\": [15.626], \"yaxis\": \"y\", \"type\": \"bar\"}, {\"alignmentgroup\": \"True\", \"hoverlabel\": {\"namelength\": 0}, \"hovertemplate\": \"<b>%{hovertext}</b><br><br>portfolio=%{x}<br>ndays=11<br>percent=%{y}\", \"hovertext\": [\"Electricity Wind\"], \"ids\": [11], \"legendgroup\": \"Electricity Wind\", \"marker\": {\"color\": \"#B6E880\"}, \"name\": \"Electricity Wind\", \"offsetgroup\": \"Electricity Wind\", \"orientation\": \"v\", \"showlegend\": true, \"textposition\": \"auto\", \"x\": [\"Electricity Wind\"], \"xaxis\": \"x\", \"y\": [5.85], \"yaxis\": \"y\", \"type\": \"bar\"}, {\"alignmentgroup\": \"True\", \"hoverlabel\": {\"namelength\": 0}, \"hovertemplate\": \"<b>%{hovertext}</b><br><br>portfolio=%{x}<br>ndays=11<br>percent=%{y}\", \"hovertext\": [\"Energy Renewalbe\"], \"ids\": [11], \"legendgroup\": \"Energy Renewalbe\", \"marker\": {\"color\": \"#FF97FF\"}, \"name\": \"Energy Renewalbe\", \"offsetgroup\": \"Energy Renewalbe\", \"orientation\": \"v\", \"showlegend\": true, \"textposition\": \"auto\", \"x\": [\"Energy Renewalbe\"], \"xaxis\": \"x\", \"y\": [32.11], \"yaxis\": \"y\", \"type\": \"bar\"}, {\"alignmentgroup\": \"True\", \"hoverlabel\": {\"namelength\": 0}, \"hovertemplate\": \"<b>%{hovertext}</b><br><br>portfolio=%{x}<br>ndays=11<br>percent=%{y}\", \"hovertext\": [\"Insurance\"], \"ids\": [11], \"legendgroup\": \"Insurance\", \"marker\": {\"color\": \"#FECB52\"}, \"name\": \"Insurance\", \"offsetgroup\": \"Insurance\", \"orientation\": \"v\", \"showlegend\": true, \"textposition\": \"auto\", \"x\": [\"Insurance\"], \"xaxis\": \"x\", \"y\": [34.16], \"yaxis\": \"y\", \"type\": \"bar\"}, {\"alignmentgroup\": \"True\", \"hoverlabel\": {\"namelength\": 0}, \"hovertemplate\": \"<b>%{hovertext}</b><br><br>portfolio=%{x}<br>ndays=11<br>percent=%{y}\", \"hovertext\": [\"Mega Capital\"], \"ids\": [11], \"legendgroup\": \"Mega Capital\", \"marker\": {\"color\": \"#636efa\"}, \"name\": \"Mega Capital\", \"offsetgroup\": \"Mega Capital\", \"orientation\": \"v\", \"showlegend\": true, \"textposition\": \"auto\", \"x\": [\"Mega Capital\"], \"xaxis\": \"x\", \"y\": [0.22999999999999995], \"yaxis\": \"y\", \"type\": \"bar\"}, {\"alignmentgroup\": \"True\", \"hoverlabel\": {\"namelength\": 0}, \"hovertemplate\": \"<b>%{hovertext}</b><br><br>portfolio=%{x}<br>ndays=11<br>percent=%{y}\", \"hovertext\": [\"REIT\"], \"ids\": [11], \"legendgroup\": \"REIT\", \"marker\": {\"color\": \"#EF553B\"}, \"name\": \"REIT\", \"offsetgroup\": \"REIT\", \"orientation\": \"v\", \"showlegend\": true, \"textposition\": \"auto\", \"x\": [\"REIT\"], \"xaxis\": \"x\", \"y\": [-4.7], \"yaxis\": \"y\", \"type\": \"bar\"}, {\"alignmentgroup\": \"True\", \"hoverlabel\": {\"namelength\": 0}, \"hovertemplate\": \"<b>%{hovertext}</b><br><br>portfolio=%{x}<br>ndays=11<br>percent=%{y}\", \"hovertext\": [\"Semiconductors\"], \"ids\": [11], \"legendgroup\": \"Semiconductors\", \"marker\": {\"color\": \"#00cc96\"}, \"name\": \"Semiconductors\", \"offsetgroup\": \"Semiconductors\", \"orientation\": \"v\", \"showlegend\": true, \"textposition\": \"auto\", \"x\": [\"Semiconductors\"], \"xaxis\": \"x\", \"y\": [2.8066666666666666], \"yaxis\": \"y\", \"type\": \"bar\"}], \"name\": \"11\"}, {\"data\": [{\"alignmentgroup\": \"True\", \"hoverlabel\": {\"namelength\": 0}, \"hovertemplate\": \"<b>%{hovertext}</b><br><br>portfolio=%{x}<br>ndays=16<br>percent=%{y}\", \"hovertext\": [\"5G\"], \"ids\": [16], \"legendgroup\": \"5G\", \"marker\": {\"color\": \"#636efa\"}, \"name\": \"5G\", \"offsetgroup\": \"5G\", \"orientation\": \"v\", \"showlegend\": true, \"textposition\": \"auto\", \"x\": [\"5G\"], \"xaxis\": \"x\", \"y\": [3.7], \"yaxis\": \"y\", \"type\": \"bar\"}, {\"alignmentgroup\": \"True\", \"hoverlabel\": {\"namelength\": 0}, \"hovertemplate\": \"<b>%{hovertext}</b><br><br>portfolio=%{x}<br>ndays=16<br>percent=%{y}\", \"hovertext\": [\"Biotechnology\"], \"ids\": [16], \"legendgroup\": \"Biotechnology\", \"marker\": {\"color\": \"#EF553B\"}, \"name\": \"Biotechnology\", \"offsetgroup\": \"Biotechnology\", \"orientation\": \"v\", \"showlegend\": true, \"textposition\": \"auto\", \"x\": [\"Biotechnology\"], \"xaxis\": \"x\", \"y\": [11.95], \"yaxis\": \"y\", \"type\": \"bar\"}, {\"alignmentgroup\": \"True\", \"hoverlabel\": {\"namelength\": 0}, \"hovertemplate\": \"<b>%{hovertext}</b><br><br>portfolio=%{x}<br>ndays=16<br>percent=%{y}\", \"hovertext\": [\"CEF\"], \"ids\": [16], \"legendgroup\": \"CEF\", \"marker\": {\"color\": \"#00cc96\"}, \"name\": \"CEF\", \"offsetgroup\": \"CEF\", \"orientation\": \"v\", \"showlegend\": true, \"textposition\": \"auto\", \"x\": [\"CEF\"], \"xaxis\": \"x\", \"y\": [-1.29], \"yaxis\": \"y\", \"type\": \"bar\"}, {\"alignmentgroup\": \"True\", \"hoverlabel\": {\"namelength\": 0}, \"hovertemplate\": \"<b>%{hovertext}</b><br><br>portfolio=%{x}<br>ndays=16<br>percent=%{y}\", \"hovertext\": [\"Cloud Retail Apps\"], \"ids\": [16], \"legendgroup\": \"Cloud Retail Apps\", \"marker\": {\"color\": \"#ab63fa\"}, \"name\": \"Cloud Retail Apps\", \"offsetgroup\": \"Cloud Retail Apps\", \"orientation\": \"v\", \"showlegend\": true, \"textposition\": \"auto\", \"x\": [\"Cloud Retail Apps\"], \"xaxis\": \"x\", \"y\": [-16.29], \"yaxis\": \"y\", \"type\": \"bar\"}, {\"alignmentgroup\": \"True\", \"hoverlabel\": {\"namelength\": 0}, \"hovertemplate\": \"<b>%{hovertext}</b><br><br>portfolio=%{x}<br>ndays=16<br>percent=%{y}\", \"hovertext\": [\"Dividend\"], \"ids\": [16], \"legendgroup\": \"Dividend\", \"marker\": {\"color\": \"#FFA15A\"}, \"name\": \"Dividend\", \"offsetgroup\": \"Dividend\", \"orientation\": \"v\", \"showlegend\": true, \"textposition\": \"auto\", \"x\": [\"Dividend\"], \"xaxis\": \"x\", \"y\": [7.41], \"yaxis\": \"y\", \"type\": \"bar\"}, {\"alignmentgroup\": \"True\", \"hoverlabel\": {\"namelength\": 0}, \"hovertemplate\": \"<b>%{hovertext}</b><br><br>portfolio=%{x}<br>ndays=16<br>percent=%{y}\", \"hovertext\": [\"Electric Vehicles\"], \"ids\": [16], \"legendgroup\": \"Electric Vehicles\", \"marker\": {\"color\": \"#19d3f3\"}, \"name\": \"Electric Vehicles\", \"offsetgroup\": \"Electric Vehicles\", \"orientation\": \"v\", \"showlegend\": true, \"textposition\": \"auto\", \"x\": [\"Electric Vehicles\"], \"xaxis\": \"x\", \"y\": [17.4], \"yaxis\": \"y\", \"type\": \"bar\"}, {\"alignmentgroup\": \"True\", \"hoverlabel\": {\"namelength\": 0}, \"hovertemplate\": \"<b>%{hovertext}</b><br><br>portfolio=%{x}<br>ndays=16<br>percent=%{y}\", \"hovertext\": [\"Electricity Solar\"], \"ids\": [16], \"legendgroup\": \"Electricity Solar\", \"marker\": {\"color\": \"#FF6692\"}, \"name\": \"Electricity Solar\", \"offsetgroup\": \"Electricity Solar\", \"orientation\": \"v\", \"showlegend\": true, \"textposition\": \"auto\", \"x\": [\"Electricity Solar\"], \"xaxis\": \"x\", \"y\": [11.602], \"yaxis\": \"y\", \"type\": \"bar\"}, {\"alignmentgroup\": \"True\", \"hoverlabel\": {\"namelength\": 0}, \"hovertemplate\": \"<b>%{hovertext}</b><br><br>portfolio=%{x}<br>ndays=16<br>percent=%{y}\", \"hovertext\": [\"Electricity Wind\"], \"ids\": [16], \"legendgroup\": \"Electricity Wind\", \"marker\": {\"color\": \"#B6E880\"}, \"name\": \"Electricity Wind\", \"offsetgroup\": \"Electricity Wind\", \"orientation\": \"v\", \"showlegend\": true, \"textposition\": \"auto\", \"x\": [\"Electricity Wind\"], \"xaxis\": \"x\", \"y\": [8.43], \"yaxis\": \"y\", \"type\": \"bar\"}, {\"alignmentgroup\": \"True\", \"hoverlabel\": {\"namelength\": 0}, \"hovertemplate\": \"<b>%{hovertext}</b><br><br>portfolio=%{x}<br>ndays=16<br>percent=%{y}\", \"hovertext\": [\"Energy Renewalbe\"], \"ids\": [16], \"legendgroup\": \"Energy Renewalbe\", \"marker\": {\"color\": \"#FF97FF\"}, \"name\": \"Energy Renewalbe\", \"offsetgroup\": \"Energy Renewalbe\", \"orientation\": \"v\", \"showlegend\": true, \"textposition\": \"auto\", \"x\": [\"Energy Renewalbe\"], \"xaxis\": \"x\", \"y\": [24.34], \"yaxis\": \"y\", \"type\": \"bar\"}, {\"alignmentgroup\": \"True\", \"hoverlabel\": {\"namelength\": 0}, \"hovertemplate\": \"<b>%{hovertext}</b><br><br>portfolio=%{x}<br>ndays=16<br>percent=%{y}\", \"hovertext\": [\"Insurance\"], \"ids\": [16], \"legendgroup\": \"Insurance\", \"marker\": {\"color\": \"#FECB52\"}, \"name\": \"Insurance\", \"offsetgroup\": \"Insurance\", \"orientation\": \"v\", \"showlegend\": true, \"textposition\": \"auto\", \"x\": [\"Insurance\"], \"xaxis\": \"x\", \"y\": [17.48], \"yaxis\": \"y\", \"type\": \"bar\"}, {\"alignmentgroup\": \"True\", \"hoverlabel\": {\"namelength\": 0}, \"hovertemplate\": \"<b>%{hovertext}</b><br><br>portfolio=%{x}<br>ndays=16<br>percent=%{y}\", \"hovertext\": [\"Mega Capital\"], \"ids\": [16], \"legendgroup\": \"Mega Capital\", \"marker\": {\"color\": \"#636efa\"}, \"name\": \"Mega Capital\", \"offsetgroup\": \"Mega Capital\", \"orientation\": \"v\", \"showlegend\": true, \"textposition\": \"auto\", \"x\": [\"Mega Capital\"], \"xaxis\": \"x\", \"y\": [-3.016666666666666], \"yaxis\": \"y\", \"type\": \"bar\"}, {\"alignmentgroup\": \"True\", \"hoverlabel\": {\"namelength\": 0}, \"hovertemplate\": \"<b>%{hovertext}</b><br><br>portfolio=%{x}<br>ndays=16<br>percent=%{y}\", \"hovertext\": [\"REIT\"], \"ids\": [16], \"legendgroup\": \"REIT\", \"marker\": {\"color\": \"#EF553B\"}, \"name\": \"REIT\", \"offsetgroup\": \"REIT\", \"orientation\": \"v\", \"showlegend\": true, \"textposition\": \"auto\", \"x\": [\"REIT\"], \"xaxis\": \"x\", \"y\": [-11.32], \"yaxis\": \"y\", \"type\": \"bar\"}, {\"alignmentgroup\": \"True\", \"hoverlabel\": {\"namelength\": 0}, \"hovertemplate\": \"<b>%{hovertext}</b><br><br>portfolio=%{x}<br>ndays=16<br>percent=%{y}\", \"hovertext\": [\"Semiconductors\"], \"ids\": [16], \"legendgroup\": \"Semiconductors\", \"marker\": {\"color\": \"#00cc96\"}, \"name\": \"Semiconductors\", \"offsetgroup\": \"Semiconductors\", \"orientation\": \"v\", \"showlegend\": true, \"textposition\": \"auto\", \"x\": [\"Semiconductors\"], \"xaxis\": \"x\", \"y\": [0.5833333333333334], \"yaxis\": \"y\", \"type\": \"bar\"}], \"name\": \"16\"}, {\"data\": [{\"alignmentgroup\": \"True\", \"hoverlabel\": {\"namelength\": 0}, \"hovertemplate\": \"<b>%{hovertext}</b><br><br>portfolio=%{x}<br>ndays=21<br>percent=%{y}\", \"hovertext\": [\"5G\"], \"ids\": [21], \"legendgroup\": \"5G\", \"marker\": {\"color\": \"#636efa\"}, \"name\": \"5G\", \"offsetgroup\": \"5G\", \"orientation\": \"v\", \"showlegend\": true, \"textposition\": \"auto\", \"x\": [\"5G\"], \"xaxis\": \"x\", \"y\": [11.25], \"yaxis\": \"y\", \"type\": \"bar\"}, {\"alignmentgroup\": \"True\", \"hoverlabel\": {\"namelength\": 0}, \"hovertemplate\": \"<b>%{hovertext}</b><br><br>portfolio=%{x}<br>ndays=21<br>percent=%{y}\", \"hovertext\": [\"Biotechnology\"], \"ids\": [21], \"legendgroup\": \"Biotechnology\", \"marker\": {\"color\": \"#EF553B\"}, \"name\": \"Biotechnology\", \"offsetgroup\": \"Biotechnology\", \"orientation\": \"v\", \"showlegend\": true, \"textposition\": \"auto\", \"x\": [\"Biotechnology\"], \"xaxis\": \"x\", \"y\": [30.02], \"yaxis\": \"y\", \"type\": \"bar\"}, {\"alignmentgroup\": \"True\", \"hoverlabel\": {\"namelength\": 0}, \"hovertemplate\": \"<b>%{hovertext}</b><br><br>portfolio=%{x}<br>ndays=21<br>percent=%{y}\", \"hovertext\": [\"CEF\"], \"ids\": [21], \"legendgroup\": \"CEF\", \"marker\": {\"color\": \"#00cc96\"}, \"name\": \"CEF\", \"offsetgroup\": \"CEF\", \"orientation\": \"v\", \"showlegend\": true, \"textposition\": \"auto\", \"x\": [\"CEF\"], \"xaxis\": \"x\", \"y\": [3.03], \"yaxis\": \"y\", \"type\": \"bar\"}, {\"alignmentgroup\": \"True\", \"hoverlabel\": {\"namelength\": 0}, \"hovertemplate\": \"<b>%{hovertext}</b><br><br>portfolio=%{x}<br>ndays=21<br>percent=%{y}\", \"hovertext\": [\"Cloud Retail Apps\"], \"ids\": [21], \"legendgroup\": \"Cloud Retail Apps\", \"marker\": {\"color\": \"#ab63fa\"}, \"name\": \"Cloud Retail Apps\", \"offsetgroup\": \"Cloud Retail Apps\", \"orientation\": \"v\", \"showlegend\": true, \"textposition\": \"auto\", \"x\": [\"Cloud Retail Apps\"], \"xaxis\": \"x\", \"y\": [-15.72], \"yaxis\": \"y\", \"type\": \"bar\"}, {\"alignmentgroup\": \"True\", \"hoverlabel\": {\"namelength\": 0}, \"hovertemplate\": \"<b>%{hovertext}</b><br><br>portfolio=%{x}<br>ndays=21<br>percent=%{y}\", \"hovertext\": [\"Dividend\"], \"ids\": [21], \"legendgroup\": \"Dividend\", \"marker\": {\"color\": \"#FFA15A\"}, \"name\": \"Dividend\", \"offsetgroup\": \"Dividend\", \"orientation\": \"v\", \"showlegend\": true, \"textposition\": \"auto\", \"x\": [\"Dividend\"], \"xaxis\": \"x\", \"y\": [9.44], \"yaxis\": \"y\", \"type\": \"bar\"}, {\"alignmentgroup\": \"True\", \"hoverlabel\": {\"namelength\": 0}, \"hovertemplate\": \"<b>%{hovertext}</b><br><br>portfolio=%{x}<br>ndays=21<br>percent=%{y}\", \"hovertext\": [\"Electric Vehicles\"], \"ids\": [21], \"legendgroup\": \"Electric Vehicles\", \"marker\": {\"color\": \"#19d3f3\"}, \"name\": \"Electric Vehicles\", \"offsetgroup\": \"Electric Vehicles\", \"orientation\": \"v\", \"showlegend\": true, \"textposition\": \"auto\", \"x\": [\"Electric Vehicles\"], \"xaxis\": \"x\", \"y\": [54.974999999999994], \"yaxis\": \"y\", \"type\": \"bar\"}, {\"alignmentgroup\": \"True\", \"hoverlabel\": {\"namelength\": 0}, \"hovertemplate\": \"<b>%{hovertext}</b><br><br>portfolio=%{x}<br>ndays=21<br>percent=%{y}\", \"hovertext\": [\"Electricity Solar\"], \"ids\": [21], \"legendgroup\": \"Electricity Solar\", \"marker\": {\"color\": \"#FF6692\"}, \"name\": \"Electricity Solar\", \"offsetgroup\": \"Electricity Solar\", \"orientation\": \"v\", \"showlegend\": true, \"textposition\": \"auto\", \"x\": [\"Electricity Solar\"], \"xaxis\": \"x\", \"y\": [24.9], \"yaxis\": \"y\", \"type\": \"bar\"}, {\"alignmentgroup\": \"True\", \"hoverlabel\": {\"namelength\": 0}, \"hovertemplate\": \"<b>%{hovertext}</b><br><br>portfolio=%{x}<br>ndays=21<br>percent=%{y}\", \"hovertext\": [\"Electricity Wind\"], \"ids\": [21], \"legendgroup\": \"Electricity Wind\", \"marker\": {\"color\": \"#B6E880\"}, \"name\": \"Electricity Wind\", \"offsetgroup\": \"Electricity Wind\", \"orientation\": \"v\", \"showlegend\": true, \"textposition\": \"auto\", \"x\": [\"Electricity Wind\"], \"xaxis\": \"x\", \"y\": [14.17], \"yaxis\": \"y\", \"type\": \"bar\"}, {\"alignmentgroup\": \"True\", \"hoverlabel\": {\"namelength\": 0}, \"hovertemplate\": \"<b>%{hovertext}</b><br><br>portfolio=%{x}<br>ndays=21<br>percent=%{y}\", \"hovertext\": [\"Energy Renewalbe\"], \"ids\": [21], \"legendgroup\": \"Energy Renewalbe\", \"marker\": {\"color\": \"#FF97FF\"}, \"name\": \"Energy Renewalbe\", \"offsetgroup\": \"Energy Renewalbe\", \"orientation\": \"v\", \"showlegend\": true, \"textposition\": \"auto\", \"x\": [\"Energy Renewalbe\"], \"xaxis\": \"x\", \"y\": [34.51], \"yaxis\": \"y\", \"type\": \"bar\"}, {\"alignmentgroup\": \"True\", \"hoverlabel\": {\"namelength\": 0}, \"hovertemplate\": \"<b>%{hovertext}</b><br><br>portfolio=%{x}<br>ndays=21<br>percent=%{y}\", \"hovertext\": [\"Insurance\"], \"ids\": [21], \"legendgroup\": \"Insurance\", \"marker\": {\"color\": \"#FECB52\"}, \"name\": \"Insurance\", \"offsetgroup\": \"Insurance\", \"orientation\": \"v\", \"showlegend\": true, \"textposition\": \"auto\", \"x\": [\"Insurance\"], \"xaxis\": \"x\", \"y\": [60.19], \"yaxis\": \"y\", \"type\": \"bar\"}, {\"alignmentgroup\": \"True\", \"hoverlabel\": {\"namelength\": 0}, \"hovertemplate\": \"<b>%{hovertext}</b><br><br>portfolio=%{x}<br>ndays=21<br>percent=%{y}\", \"hovertext\": [\"Mega Capital\"], \"ids\": [21], \"legendgroup\": \"Mega Capital\", \"marker\": {\"color\": \"#636efa\"}, \"name\": \"Mega Capital\", \"offsetgroup\": \"Mega Capital\", \"orientation\": \"v\", \"showlegend\": true, \"textposition\": \"auto\", \"x\": [\"Mega Capital\"], \"xaxis\": \"x\", \"y\": [2.066666666666667], \"yaxis\": \"y\", \"type\": \"bar\"}, {\"alignmentgroup\": \"True\", \"hoverlabel\": {\"namelength\": 0}, \"hovertemplate\": \"<b>%{hovertext}</b><br><br>portfolio=%{x}<br>ndays=21<br>percent=%{y}\", \"hovertext\": [\"REIT\"], \"ids\": [21], \"legendgroup\": \"REIT\", \"marker\": {\"color\": \"#EF553B\"}, \"name\": \"REIT\", \"offsetgroup\": \"REIT\", \"orientation\": \"v\", \"showlegend\": true, \"textposition\": \"auto\", \"x\": [\"REIT\"], \"xaxis\": \"x\", \"y\": [-9.95], \"yaxis\": \"y\", \"type\": \"bar\"}, {\"alignmentgroup\": \"True\", \"hoverlabel\": {\"namelength\": 0}, \"hovertemplate\": \"<b>%{hovertext}</b><br><br>portfolio=%{x}<br>ndays=21<br>percent=%{y}\", \"hovertext\": [\"Semiconductors\"], \"ids\": [21], \"legendgroup\": \"Semiconductors\", \"marker\": {\"color\": \"#00cc96\"}, \"name\": \"Semiconductors\", \"offsetgroup\": \"Semiconductors\", \"orientation\": \"v\", \"showlegend\": true, \"textposition\": \"auto\", \"x\": [\"Semiconductors\"], \"xaxis\": \"x\", \"y\": [10.63], \"yaxis\": \"y\", \"type\": \"bar\"}], \"name\": \"21\"}, {\"data\": [{\"alignmentgroup\": \"True\", \"hoverlabel\": {\"namelength\": 0}, \"hovertemplate\": \"<b>%{hovertext}</b><br><br>portfolio=%{x}<br>ndays=26<br>percent=%{y}\", \"hovertext\": [\"5G\"], \"ids\": [26], \"legendgroup\": \"5G\", \"marker\": {\"color\": \"#636efa\"}, \"name\": \"5G\", \"offsetgroup\": \"5G\", \"orientation\": \"v\", \"showlegend\": true, \"textposition\": \"auto\", \"x\": [\"5G\"], \"xaxis\": \"x\", \"y\": [5.78], \"yaxis\": \"y\", \"type\": \"bar\"}, {\"alignmentgroup\": \"True\", \"hoverlabel\": {\"namelength\": 0}, \"hovertemplate\": \"<b>%{hovertext}</b><br><br>portfolio=%{x}<br>ndays=26<br>percent=%{y}\", \"hovertext\": [\"Biotechnology\"], \"ids\": [26], \"legendgroup\": \"Biotechnology\", \"marker\": {\"color\": \"#EF553B\"}, \"name\": \"Biotechnology\", \"offsetgroup\": \"Biotechnology\", \"orientation\": \"v\", \"showlegend\": true, \"textposition\": \"auto\", \"x\": [\"Biotechnology\"], \"xaxis\": \"x\", \"y\": [24.41], \"yaxis\": \"y\", \"type\": \"bar\"}, {\"alignmentgroup\": \"True\", \"hoverlabel\": {\"namelength\": 0}, \"hovertemplate\": \"<b>%{hovertext}</b><br><br>portfolio=%{x}<br>ndays=26<br>percent=%{y}\", \"hovertext\": [\"CEF\"], \"ids\": [26], \"legendgroup\": \"CEF\", \"marker\": {\"color\": \"#00cc96\"}, \"name\": \"CEF\", \"offsetgroup\": \"CEF\", \"orientation\": \"v\", \"showlegend\": true, \"textposition\": \"auto\", \"x\": [\"CEF\"], \"xaxis\": \"x\", \"y\": [2.99], \"yaxis\": \"y\", \"type\": \"bar\"}, {\"alignmentgroup\": \"True\", \"hoverlabel\": {\"namelength\": 0}, \"hovertemplate\": \"<b>%{hovertext}</b><br><br>portfolio=%{x}<br>ndays=26<br>percent=%{y}\", \"hovertext\": [\"Cloud Retail Apps\"], \"ids\": [26], \"legendgroup\": \"Cloud Retail Apps\", \"marker\": {\"color\": \"#ab63fa\"}, \"name\": \"Cloud Retail Apps\", \"offsetgroup\": \"Cloud Retail Apps\", \"orientation\": \"v\", \"showlegend\": true, \"textposition\": \"auto\", \"x\": [\"Cloud Retail Apps\"], \"xaxis\": \"x\", \"y\": [-20.29], \"yaxis\": \"y\", \"type\": \"bar\"}, {\"alignmentgroup\": \"True\", \"hoverlabel\": {\"namelength\": 0}, \"hovertemplate\": \"<b>%{hovertext}</b><br><br>portfolio=%{x}<br>ndays=26<br>percent=%{y}\", \"hovertext\": [\"Dividend\"], \"ids\": [26], \"legendgroup\": \"Dividend\", \"marker\": {\"color\": \"#FFA15A\"}, \"name\": \"Dividend\", \"offsetgroup\": \"Dividend\", \"orientation\": \"v\", \"showlegend\": true, \"textposition\": \"auto\", \"x\": [\"Dividend\"], \"xaxis\": \"x\", \"y\": [8.06], \"yaxis\": \"y\", \"type\": \"bar\"}, {\"alignmentgroup\": \"True\", \"hoverlabel\": {\"namelength\": 0}, \"hovertemplate\": \"<b>%{hovertext}</b><br><br>portfolio=%{x}<br>ndays=26<br>percent=%{y}\", \"hovertext\": [\"Electric Vehicles\"], \"ids\": [26], \"legendgroup\": \"Electric Vehicles\", \"marker\": {\"color\": \"#19d3f3\"}, \"name\": \"Electric Vehicles\", \"offsetgroup\": \"Electric Vehicles\", \"orientation\": \"v\", \"showlegend\": true, \"textposition\": \"auto\", \"x\": [\"Electric Vehicles\"], \"xaxis\": \"x\", \"y\": [68.075], \"yaxis\": \"y\", \"type\": \"bar\"}, {\"alignmentgroup\": \"True\", \"hoverlabel\": {\"namelength\": 0}, \"hovertemplate\": \"<b>%{hovertext}</b><br><br>portfolio=%{x}<br>ndays=26<br>percent=%{y}\", \"hovertext\": [\"Electricity Solar\"], \"ids\": [26], \"legendgroup\": \"Electricity Solar\", \"marker\": {\"color\": \"#FF6692\"}, \"name\": \"Electricity Solar\", \"offsetgroup\": \"Electricity Solar\", \"orientation\": \"v\", \"showlegend\": true, \"textposition\": \"auto\", \"x\": [\"Electricity Solar\"], \"xaxis\": \"x\", \"y\": [23.312], \"yaxis\": \"y\", \"type\": \"bar\"}, {\"alignmentgroup\": \"True\", \"hoverlabel\": {\"namelength\": 0}, \"hovertemplate\": \"<b>%{hovertext}</b><br><br>portfolio=%{x}<br>ndays=26<br>percent=%{y}\", \"hovertext\": [\"Electricity Wind\"], \"ids\": [26], \"legendgroup\": \"Electricity Wind\", \"marker\": {\"color\": \"#B6E880\"}, \"name\": \"Electricity Wind\", \"offsetgroup\": \"Electricity Wind\", \"orientation\": \"v\", \"showlegend\": true, \"textposition\": \"auto\", \"x\": [\"Electricity Wind\"], \"xaxis\": \"x\", \"y\": [17.24], \"yaxis\": \"y\", \"type\": \"bar\"}, {\"alignmentgroup\": \"True\", \"hoverlabel\": {\"namelength\": 0}, \"hovertemplate\": \"<b>%{hovertext}</b><br><br>portfolio=%{x}<br>ndays=26<br>percent=%{y}\", \"hovertext\": [\"Energy Renewalbe\"], \"ids\": [26], \"legendgroup\": \"Energy Renewalbe\", \"marker\": {\"color\": \"#FF97FF\"}, \"name\": \"Energy Renewalbe\", \"offsetgroup\": \"Energy Renewalbe\", \"orientation\": \"v\", \"showlegend\": true, \"textposition\": \"auto\", \"x\": [\"Energy Renewalbe\"], \"xaxis\": \"x\", \"y\": [38.54], \"yaxis\": \"y\", \"type\": \"bar\"}, {\"alignmentgroup\": \"True\", \"hoverlabel\": {\"namelength\": 0}, \"hovertemplate\": \"<b>%{hovertext}</b><br><br>portfolio=%{x}<br>ndays=26<br>percent=%{y}\", \"hovertext\": [\"Insurance\"], \"ids\": [26], \"legendgroup\": \"Insurance\", \"marker\": {\"color\": \"#FECB52\"}, \"name\": \"Insurance\", \"offsetgroup\": \"Insurance\", \"orientation\": \"v\", \"showlegend\": true, \"textposition\": \"auto\", \"x\": [\"Insurance\"], \"xaxis\": \"x\", \"y\": [43.02], \"yaxis\": \"y\", \"type\": \"bar\"}, {\"alignmentgroup\": \"True\", \"hoverlabel\": {\"namelength\": 0}, \"hovertemplate\": \"<b>%{hovertext}</b><br><br>portfolio=%{x}<br>ndays=26<br>percent=%{y}\", \"hovertext\": [\"Mega Capital\"], \"ids\": [26], \"legendgroup\": \"Mega Capital\", \"marker\": {\"color\": \"#636efa\"}, \"name\": \"Mega Capital\", \"offsetgroup\": \"Mega Capital\", \"orientation\": \"v\", \"showlegend\": true, \"textposition\": \"auto\", \"x\": [\"Mega Capital\"], \"xaxis\": \"x\", \"y\": [0.64], \"yaxis\": \"y\", \"type\": \"bar\"}, {\"alignmentgroup\": \"True\", \"hoverlabel\": {\"namelength\": 0}, \"hovertemplate\": \"<b>%{hovertext}</b><br><br>portfolio=%{x}<br>ndays=26<br>percent=%{y}\", \"hovertext\": [\"REIT\"], \"ids\": [26], \"legendgroup\": \"REIT\", \"marker\": {\"color\": \"#EF553B\"}, \"name\": \"REIT\", \"offsetgroup\": \"REIT\", \"orientation\": \"v\", \"showlegend\": true, \"textposition\": \"auto\", \"x\": [\"REIT\"], \"xaxis\": \"x\", \"y\": [-14.92], \"yaxis\": \"y\", \"type\": \"bar\"}, {\"alignmentgroup\": \"True\", \"hoverlabel\": {\"namelength\": 0}, \"hovertemplate\": \"<b>%{hovertext}</b><br><br>portfolio=%{x}<br>ndays=26<br>percent=%{y}\", \"hovertext\": [\"Semiconductors\"], \"ids\": [26], \"legendgroup\": \"Semiconductors\", \"marker\": {\"color\": \"#00cc96\"}, \"name\": \"Semiconductors\", \"offsetgroup\": \"Semiconductors\", \"orientation\": \"v\", \"showlegend\": true, \"textposition\": \"auto\", \"x\": [\"Semiconductors\"], \"xaxis\": \"x\", \"y\": [7.739999999999999], \"yaxis\": \"y\", \"type\": \"bar\"}], \"name\": \"26\"}, {\"data\": [{\"alignmentgroup\": \"True\", \"hoverlabel\": {\"namelength\": 0}, \"hovertemplate\": \"<b>%{hovertext}</b><br><br>portfolio=%{x}<br>ndays=31<br>percent=%{y}\", \"hovertext\": [\"5G\"], \"ids\": [31], \"legendgroup\": \"5G\", \"marker\": {\"color\": \"#636efa\"}, \"name\": \"5G\", \"offsetgroup\": \"5G\", \"orientation\": \"v\", \"showlegend\": true, \"textposition\": \"auto\", \"x\": [\"5G\"], \"xaxis\": \"x\", \"y\": [3.95], \"yaxis\": \"y\", \"type\": \"bar\"}, {\"alignmentgroup\": \"True\", \"hoverlabel\": {\"namelength\": 0}, \"hovertemplate\": \"<b>%{hovertext}</b><br><br>portfolio=%{x}<br>ndays=31<br>percent=%{y}\", \"hovertext\": [\"Biotechnology\"], \"ids\": [31], \"legendgroup\": \"Biotechnology\", \"marker\": {\"color\": \"#EF553B\"}, \"name\": \"Biotechnology\", \"offsetgroup\": \"Biotechnology\", \"orientation\": \"v\", \"showlegend\": true, \"textposition\": \"auto\", \"x\": [\"Biotechnology\"], \"xaxis\": \"x\", \"y\": [23.07], \"yaxis\": \"y\", \"type\": \"bar\"}, {\"alignmentgroup\": \"True\", \"hoverlabel\": {\"namelength\": 0}, \"hovertemplate\": \"<b>%{hovertext}</b><br><br>portfolio=%{x}<br>ndays=31<br>percent=%{y}\", \"hovertext\": [\"CEF\"], \"ids\": [31], \"legendgroup\": \"CEF\", \"marker\": {\"color\": \"#00cc96\"}, \"name\": \"CEF\", \"offsetgroup\": \"CEF\", \"orientation\": \"v\", \"showlegend\": true, \"textposition\": \"auto\", \"x\": [\"CEF\"], \"xaxis\": \"x\", \"y\": [4.75], \"yaxis\": \"y\", \"type\": \"bar\"}, {\"alignmentgroup\": \"True\", \"hoverlabel\": {\"namelength\": 0}, \"hovertemplate\": \"<b>%{hovertext}</b><br><br>portfolio=%{x}<br>ndays=31<br>percent=%{y}\", \"hovertext\": [\"Cloud Retail Apps\"], \"ids\": [31], \"legendgroup\": \"Cloud Retail Apps\", \"marker\": {\"color\": \"#ab63fa\"}, \"name\": \"Cloud Retail Apps\", \"offsetgroup\": \"Cloud Retail Apps\", \"orientation\": \"v\", \"showlegend\": true, \"textposition\": \"auto\", \"x\": [\"Cloud Retail Apps\"], \"xaxis\": \"x\", \"y\": [-5.13], \"yaxis\": \"y\", \"type\": \"bar\"}, {\"alignmentgroup\": \"True\", \"hoverlabel\": {\"namelength\": 0}, \"hovertemplate\": \"<b>%{hovertext}</b><br><br>portfolio=%{x}<br>ndays=31<br>percent=%{y}\", \"hovertext\": [\"Dividend\"], \"ids\": [31], \"legendgroup\": \"Dividend\", \"marker\": {\"color\": \"#FFA15A\"}, \"name\": \"Dividend\", \"offsetgroup\": \"Dividend\", \"orientation\": \"v\", \"showlegend\": true, \"textposition\": \"auto\", \"x\": [\"Dividend\"], \"xaxis\": \"x\", \"y\": [7.82], \"yaxis\": \"y\", \"type\": \"bar\"}, {\"alignmentgroup\": \"True\", \"hoverlabel\": {\"namelength\": 0}, \"hovertemplate\": \"<b>%{hovertext}</b><br><br>portfolio=%{x}<br>ndays=31<br>percent=%{y}\", \"hovertext\": [\"Electric Vehicles\"], \"ids\": [31], \"legendgroup\": \"Electric Vehicles\", \"marker\": {\"color\": \"#19d3f3\"}, \"name\": \"Electric Vehicles\", \"offsetgroup\": \"Electric Vehicles\", \"orientation\": \"v\", \"showlegend\": true, \"textposition\": \"auto\", \"x\": [\"Electric Vehicles\"], \"xaxis\": \"x\", \"y\": [65.72], \"yaxis\": \"y\", \"type\": \"bar\"}, {\"alignmentgroup\": \"True\", \"hoverlabel\": {\"namelength\": 0}, \"hovertemplate\": \"<b>%{hovertext}</b><br><br>portfolio=%{x}<br>ndays=31<br>percent=%{y}\", \"hovertext\": [\"Electricity Solar\"], \"ids\": [31], \"legendgroup\": \"Electricity Solar\", \"marker\": {\"color\": \"#FF6692\"}, \"name\": \"Electricity Solar\", \"offsetgroup\": \"Electricity Solar\", \"orientation\": \"v\", \"showlegend\": true, \"textposition\": \"auto\", \"x\": [\"Electricity Solar\"], \"xaxis\": \"x\", \"y\": [20.836000000000002], \"yaxis\": \"y\", \"type\": \"bar\"}, {\"alignmentgroup\": \"True\", \"hoverlabel\": {\"namelength\": 0}, \"hovertemplate\": \"<b>%{hovertext}</b><br><br>portfolio=%{x}<br>ndays=31<br>percent=%{y}\", \"hovertext\": [\"Electricity Wind\"], \"ids\": [31], \"legendgroup\": \"Electricity Wind\", \"marker\": {\"color\": \"#B6E880\"}, \"name\": \"Electricity Wind\", \"offsetgroup\": \"Electricity Wind\", \"orientation\": \"v\", \"showlegend\": true, \"textposition\": \"auto\", \"x\": [\"Electricity Wind\"], \"xaxis\": \"x\", \"y\": [10.52], \"yaxis\": \"y\", \"type\": \"bar\"}, {\"alignmentgroup\": \"True\", \"hoverlabel\": {\"namelength\": 0}, \"hovertemplate\": \"<b>%{hovertext}</b><br><br>portfolio=%{x}<br>ndays=31<br>percent=%{y}\", \"hovertext\": [\"Energy Renewalbe\"], \"ids\": [31], \"legendgroup\": \"Energy Renewalbe\", \"marker\": {\"color\": \"#FF97FF\"}, \"name\": \"Energy Renewalbe\", \"offsetgroup\": \"Energy Renewalbe\", \"orientation\": \"v\", \"showlegend\": true, \"textposition\": \"auto\", \"x\": [\"Energy Renewalbe\"], \"xaxis\": \"x\", \"y\": [34.46], \"yaxis\": \"y\", \"type\": \"bar\"}, {\"alignmentgroup\": \"True\", \"hoverlabel\": {\"namelength\": 0}, \"hovertemplate\": \"<b>%{hovertext}</b><br><br>portfolio=%{x}<br>ndays=31<br>percent=%{y}\", \"hovertext\": [\"Insurance\"], \"ids\": [31], \"legendgroup\": \"Insurance\", \"marker\": {\"color\": \"#FECB52\"}, \"name\": \"Insurance\", \"offsetgroup\": \"Insurance\", \"orientation\": \"v\", \"showlegend\": true, \"textposition\": \"auto\", \"x\": [\"Insurance\"], \"xaxis\": \"x\", \"y\": [20.38], \"yaxis\": \"y\", \"type\": \"bar\"}, {\"alignmentgroup\": \"True\", \"hoverlabel\": {\"namelength\": 0}, \"hovertemplate\": \"<b>%{hovertext}</b><br><br>portfolio=%{x}<br>ndays=31<br>percent=%{y}\", \"hovertext\": [\"Mega Capital\"], \"ids\": [31], \"legendgroup\": \"Mega Capital\", \"marker\": {\"color\": \"#636efa\"}, \"name\": \"Mega Capital\", \"offsetgroup\": \"Mega Capital\", \"orientation\": \"v\", \"showlegend\": true, \"textposition\": \"auto\", \"x\": [\"Mega Capital\"], \"xaxis\": \"x\", \"y\": [-3.1], \"yaxis\": \"y\", \"type\": \"bar\"}, {\"alignmentgroup\": \"True\", \"hoverlabel\": {\"namelength\": 0}, \"hovertemplate\": \"<b>%{hovertext}</b><br><br>portfolio=%{x}<br>ndays=31<br>percent=%{y}\", \"hovertext\": [\"REIT\"], \"ids\": [31], \"legendgroup\": \"REIT\", \"marker\": {\"color\": \"#EF553B\"}, \"name\": \"REIT\", \"offsetgroup\": \"REIT\", \"orientation\": \"v\", \"showlegend\": true, \"textposition\": \"auto\", \"x\": [\"REIT\"], \"xaxis\": \"x\", \"y\": [-7.54], \"yaxis\": \"y\", \"type\": \"bar\"}, {\"alignmentgroup\": \"True\", \"hoverlabel\": {\"namelength\": 0}, \"hovertemplate\": \"<b>%{hovertext}</b><br><br>portfolio=%{x}<br>ndays=31<br>percent=%{y}\", \"hovertext\": [\"Semiconductors\"], \"ids\": [31], \"legendgroup\": \"Semiconductors\", \"marker\": {\"color\": \"#00cc96\"}, \"name\": \"Semiconductors\", \"offsetgroup\": \"Semiconductors\", \"orientation\": \"v\", \"showlegend\": true, \"textposition\": \"auto\", \"x\": [\"Semiconductors\"], \"xaxis\": \"x\", \"y\": [6.266666666666666], \"yaxis\": \"y\", \"type\": \"bar\"}], \"name\": \"31\"}, {\"data\": [{\"alignmentgroup\": \"True\", \"hoverlabel\": {\"namelength\": 0}, \"hovertemplate\": \"<b>%{hovertext}</b><br><br>portfolio=%{x}<br>ndays=36<br>percent=%{y}\", \"hovertext\": [\"5G\"], \"ids\": [36], \"legendgroup\": \"5G\", \"marker\": {\"color\": \"#636efa\"}, \"name\": \"5G\", \"offsetgroup\": \"5G\", \"orientation\": \"v\", \"showlegend\": true, \"textposition\": \"auto\", \"x\": [\"5G\"], \"xaxis\": \"x\", \"y\": [5.79], \"yaxis\": \"y\", \"type\": \"bar\"}, {\"alignmentgroup\": \"True\", \"hoverlabel\": {\"namelength\": 0}, \"hovertemplate\": \"<b>%{hovertext}</b><br><br>portfolio=%{x}<br>ndays=36<br>percent=%{y}\", \"hovertext\": [\"Biotechnology\"], \"ids\": [36], \"legendgroup\": \"Biotechnology\", \"marker\": {\"color\": \"#EF553B\"}, \"name\": \"Biotechnology\", \"offsetgroup\": \"Biotechnology\", \"orientation\": \"v\", \"showlegend\": true, \"textposition\": \"auto\", \"x\": [\"Biotechnology\"], \"xaxis\": \"x\", \"y\": [21.73], \"yaxis\": \"y\", \"type\": \"bar\"}, {\"alignmentgroup\": \"True\", \"hoverlabel\": {\"namelength\": 0}, \"hovertemplate\": \"<b>%{hovertext}</b><br><br>portfolio=%{x}<br>ndays=36<br>percent=%{y}\", \"hovertext\": [\"CEF\"], \"ids\": [36], \"legendgroup\": \"CEF\", \"marker\": {\"color\": \"#00cc96\"}, \"name\": \"CEF\", \"offsetgroup\": \"CEF\", \"orientation\": \"v\", \"showlegend\": true, \"textposition\": \"auto\", \"x\": [\"CEF\"], \"xaxis\": \"x\", \"y\": [8.66], \"yaxis\": \"y\", \"type\": \"bar\"}, {\"alignmentgroup\": \"True\", \"hoverlabel\": {\"namelength\": 0}, \"hovertemplate\": \"<b>%{hovertext}</b><br><br>portfolio=%{x}<br>ndays=36<br>percent=%{y}\", \"hovertext\": [\"Cloud Retail Apps\"], \"ids\": [36], \"legendgroup\": \"Cloud Retail Apps\", \"marker\": {\"color\": \"#ab63fa\"}, \"name\": \"Cloud Retail Apps\", \"offsetgroup\": \"Cloud Retail Apps\", \"orientation\": \"v\", \"showlegend\": true, \"textposition\": \"auto\", \"x\": [\"Cloud Retail Apps\"], \"xaxis\": \"x\", \"y\": [23.33], \"yaxis\": \"y\", \"type\": \"bar\"}, {\"alignmentgroup\": \"True\", \"hoverlabel\": {\"namelength\": 0}, \"hovertemplate\": \"<b>%{hovertext}</b><br><br>portfolio=%{x}<br>ndays=36<br>percent=%{y}\", \"hovertext\": [\"Dividend\"], \"ids\": [36], \"legendgroup\": \"Dividend\", \"marker\": {\"color\": \"#FFA15A\"}, \"name\": \"Dividend\", \"offsetgroup\": \"Dividend\", \"orientation\": \"v\", \"showlegend\": true, \"textposition\": \"auto\", \"x\": [\"Dividend\"], \"xaxis\": \"x\", \"y\": [8.465], \"yaxis\": \"y\", \"type\": \"bar\"}, {\"alignmentgroup\": \"True\", \"hoverlabel\": {\"namelength\": 0}, \"hovertemplate\": \"<b>%{hovertext}</b><br><br>portfolio=%{x}<br>ndays=36<br>percent=%{y}\", \"hovertext\": [\"Electric Vehicles\"], \"ids\": [36], \"legendgroup\": \"Electric Vehicles\", \"marker\": {\"color\": \"#19d3f3\"}, \"name\": \"Electric Vehicles\", \"offsetgroup\": \"Electric Vehicles\", \"orientation\": \"v\", \"showlegend\": true, \"textposition\": \"auto\", \"x\": [\"Electric Vehicles\"], \"xaxis\": \"x\", \"y\": [83.485], \"yaxis\": \"y\", \"type\": \"bar\"}, {\"alignmentgroup\": \"True\", \"hoverlabel\": {\"namelength\": 0}, \"hovertemplate\": \"<b>%{hovertext}</b><br><br>portfolio=%{x}<br>ndays=36<br>percent=%{y}\", \"hovertext\": [\"Electricity Solar\"], \"ids\": [36], \"legendgroup\": \"Electricity Solar\", \"marker\": {\"color\": \"#FF6692\"}, \"name\": \"Electricity Solar\", \"offsetgroup\": \"Electricity Solar\", \"orientation\": \"v\", \"showlegend\": true, \"textposition\": \"auto\", \"x\": [\"Electricity Solar\"], \"xaxis\": \"x\", \"y\": [25.267999999999994], \"yaxis\": \"y\", \"type\": \"bar\"}, {\"alignmentgroup\": \"True\", \"hoverlabel\": {\"namelength\": 0}, \"hovertemplate\": \"<b>%{hovertext}</b><br><br>portfolio=%{x}<br>ndays=36<br>percent=%{y}\", \"hovertext\": [\"Electricity Wind\"], \"ids\": [36], \"legendgroup\": \"Electricity Wind\", \"marker\": {\"color\": \"#B6E880\"}, \"name\": \"Electricity Wind\", \"offsetgroup\": \"Electricity Wind\", \"orientation\": \"v\", \"showlegend\": true, \"textposition\": \"auto\", \"x\": [\"Electricity Wind\"], \"xaxis\": \"x\", \"y\": [12.19], \"yaxis\": \"y\", \"type\": \"bar\"}, {\"alignmentgroup\": \"True\", \"hoverlabel\": {\"namelength\": 0}, \"hovertemplate\": \"<b>%{hovertext}</b><br><br>portfolio=%{x}<br>ndays=36<br>percent=%{y}\", \"hovertext\": [\"Energy Renewalbe\"], \"ids\": [36], \"legendgroup\": \"Energy Renewalbe\", \"marker\": {\"color\": \"#FF97FF\"}, \"name\": \"Energy Renewalbe\", \"offsetgroup\": \"Energy Renewalbe\", \"orientation\": \"v\", \"showlegend\": true, \"textposition\": \"auto\", \"x\": [\"Energy Renewalbe\"], \"xaxis\": \"x\", \"y\": [15.85], \"yaxis\": \"y\", \"type\": \"bar\"}, {\"alignmentgroup\": \"True\", \"hoverlabel\": {\"namelength\": 0}, \"hovertemplate\": \"<b>%{hovertext}</b><br><br>portfolio=%{x}<br>ndays=36<br>percent=%{y}\", \"hovertext\": [\"Insurance\"], \"ids\": [36], \"legendgroup\": \"Insurance\", \"marker\": {\"color\": \"#FECB52\"}, \"name\": \"Insurance\", \"offsetgroup\": \"Insurance\", \"orientation\": \"v\", \"showlegend\": true, \"textposition\": \"auto\", \"x\": [\"Insurance\"], \"xaxis\": \"x\", \"y\": [25.01], \"yaxis\": \"y\", \"type\": \"bar\"}, {\"alignmentgroup\": \"True\", \"hoverlabel\": {\"namelength\": 0}, \"hovertemplate\": \"<b>%{hovertext}</b><br><br>portfolio=%{x}<br>ndays=36<br>percent=%{y}\", \"hovertext\": [\"Mega Capital\"], \"ids\": [36], \"legendgroup\": \"Mega Capital\", \"marker\": {\"color\": \"#636efa\"}, \"name\": \"Mega Capital\", \"offsetgroup\": \"Mega Capital\", \"orientation\": \"v\", \"showlegend\": true, \"textposition\": \"auto\", \"x\": [\"Mega Capital\"], \"xaxis\": \"x\", \"y\": [1.4033333333333333], \"yaxis\": \"y\", \"type\": \"bar\"}, {\"alignmentgroup\": \"True\", \"hoverlabel\": {\"namelength\": 0}, \"hovertemplate\": \"<b>%{hovertext}</b><br><br>portfolio=%{x}<br>ndays=36<br>percent=%{y}\", \"hovertext\": [\"REIT\"], \"ids\": [36], \"legendgroup\": \"REIT\", \"marker\": {\"color\": \"#EF553B\"}, \"name\": \"REIT\", \"offsetgroup\": \"REIT\", \"orientation\": \"v\", \"showlegend\": true, \"textposition\": \"auto\", \"x\": [\"REIT\"], \"xaxis\": \"x\", \"y\": [-0.59], \"yaxis\": \"y\", \"type\": \"bar\"}, {\"alignmentgroup\": \"True\", \"hoverlabel\": {\"namelength\": 0}, \"hovertemplate\": \"<b>%{hovertext}</b><br><br>portfolio=%{x}<br>ndays=36<br>percent=%{y}\", \"hovertext\": [\"Semiconductors\"], \"ids\": [36], \"legendgroup\": \"Semiconductors\", \"marker\": {\"color\": \"#00cc96\"}, \"name\": \"Semiconductors\", \"offsetgroup\": \"Semiconductors\", \"orientation\": \"v\", \"showlegend\": true, \"textposition\": \"auto\", \"x\": [\"Semiconductors\"], \"xaxis\": \"x\", \"y\": [8.62], \"yaxis\": \"y\", \"type\": \"bar\"}], \"name\": \"36\"}, {\"data\": [{\"alignmentgroup\": \"True\", \"hoverlabel\": {\"namelength\": 0}, \"hovertemplate\": \"<b>%{hovertext}</b><br><br>portfolio=%{x}<br>ndays=41<br>percent=%{y}\", \"hovertext\": [\"5G\"], \"ids\": [41], \"legendgroup\": \"5G\", \"marker\": {\"color\": \"#636efa\"}, \"name\": \"5G\", \"offsetgroup\": \"5G\", \"orientation\": \"v\", \"showlegend\": true, \"textposition\": \"auto\", \"x\": [\"5G\"], \"xaxis\": \"x\", \"y\": [7.15], \"yaxis\": \"y\", \"type\": \"bar\"}, {\"alignmentgroup\": \"True\", \"hoverlabel\": {\"namelength\": 0}, \"hovertemplate\": \"<b>%{hovertext}</b><br><br>portfolio=%{x}<br>ndays=41<br>percent=%{y}\", \"hovertext\": [\"Biotechnology\"], \"ids\": [41], \"legendgroup\": \"Biotechnology\", \"marker\": {\"color\": \"#EF553B\"}, \"name\": \"Biotechnology\", \"offsetgroup\": \"Biotechnology\", \"orientation\": \"v\", \"showlegend\": true, \"textposition\": \"auto\", \"x\": [\"Biotechnology\"], \"xaxis\": \"x\", \"y\": [22.01], \"yaxis\": \"y\", \"type\": \"bar\"}, {\"alignmentgroup\": \"True\", \"hoverlabel\": {\"namelength\": 0}, \"hovertemplate\": \"<b>%{hovertext}</b><br><br>portfolio=%{x}<br>ndays=41<br>percent=%{y}\", \"hovertext\": [\"CEF\"], \"ids\": [41], \"legendgroup\": \"CEF\", \"marker\": {\"color\": \"#00cc96\"}, \"name\": \"CEF\", \"offsetgroup\": \"CEF\", \"orientation\": \"v\", \"showlegend\": true, \"textposition\": \"auto\", \"x\": [\"CEF\"], \"xaxis\": \"x\", \"y\": [11.18], \"yaxis\": \"y\", \"type\": \"bar\"}, {\"alignmentgroup\": \"True\", \"hoverlabel\": {\"namelength\": 0}, \"hovertemplate\": \"<b>%{hovertext}</b><br><br>portfolio=%{x}<br>ndays=41<br>percent=%{y}\", \"hovertext\": [\"Cloud Retail Apps\"], \"ids\": [41], \"legendgroup\": \"Cloud Retail Apps\", \"marker\": {\"color\": \"#ab63fa\"}, \"name\": \"Cloud Retail Apps\", \"offsetgroup\": \"Cloud Retail Apps\", \"orientation\": \"v\", \"showlegend\": true, \"textposition\": \"auto\", \"x\": [\"Cloud Retail Apps\"], \"xaxis\": \"x\", \"y\": [21.71], \"yaxis\": \"y\", \"type\": \"bar\"}, {\"alignmentgroup\": \"True\", \"hoverlabel\": {\"namelength\": 0}, \"hovertemplate\": \"<b>%{hovertext}</b><br><br>portfolio=%{x}<br>ndays=41<br>percent=%{y}\", \"hovertext\": [\"Dividend\"], \"ids\": [41], \"legendgroup\": \"Dividend\", \"marker\": {\"color\": \"#FFA15A\"}, \"name\": \"Dividend\", \"offsetgroup\": \"Dividend\", \"orientation\": \"v\", \"showlegend\": true, \"textposition\": \"auto\", \"x\": [\"Dividend\"], \"xaxis\": \"x\", \"y\": [9.075], \"yaxis\": \"y\", \"type\": \"bar\"}, {\"alignmentgroup\": \"True\", \"hoverlabel\": {\"namelength\": 0}, \"hovertemplate\": \"<b>%{hovertext}</b><br><br>portfolio=%{x}<br>ndays=41<br>percent=%{y}\", \"hovertext\": [\"Electric Vehicles\"], \"ids\": [41], \"legendgroup\": \"Electric Vehicles\", \"marker\": {\"color\": \"#19d3f3\"}, \"name\": \"Electric Vehicles\", \"offsetgroup\": \"Electric Vehicles\", \"orientation\": \"v\", \"showlegend\": true, \"textposition\": \"auto\", \"x\": [\"Electric Vehicles\"], \"xaxis\": \"x\", \"y\": [90.625], \"yaxis\": \"y\", \"type\": \"bar\"}, {\"alignmentgroup\": \"True\", \"hoverlabel\": {\"namelength\": 0}, \"hovertemplate\": \"<b>%{hovertext}</b><br><br>portfolio=%{x}<br>ndays=41<br>percent=%{y}\", \"hovertext\": [\"Electricity Solar\"], \"ids\": [41], \"legendgroup\": \"Electricity Solar\", \"marker\": {\"color\": \"#FF6692\"}, \"name\": \"Electricity Solar\", \"offsetgroup\": \"Electricity Solar\", \"orientation\": \"v\", \"showlegend\": true, \"textposition\": \"auto\", \"x\": [\"Electricity Solar\"], \"xaxis\": \"x\", \"y\": [48.344], \"yaxis\": \"y\", \"type\": \"bar\"}, {\"alignmentgroup\": \"True\", \"hoverlabel\": {\"namelength\": 0}, \"hovertemplate\": \"<b>%{hovertext}</b><br><br>portfolio=%{x}<br>ndays=41<br>percent=%{y}\", \"hovertext\": [\"Electricity Wind\"], \"ids\": [41], \"legendgroup\": \"Electricity Wind\", \"marker\": {\"color\": \"#B6E880\"}, \"name\": \"Electricity Wind\", \"offsetgroup\": \"Electricity Wind\", \"orientation\": \"v\", \"showlegend\": true, \"textposition\": \"auto\", \"x\": [\"Electricity Wind\"], \"xaxis\": \"x\", \"y\": [19.5], \"yaxis\": \"y\", \"type\": \"bar\"}, {\"alignmentgroup\": \"True\", \"hoverlabel\": {\"namelength\": 0}, \"hovertemplate\": \"<b>%{hovertext}</b><br><br>portfolio=%{x}<br>ndays=41<br>percent=%{y}\", \"hovertext\": [\"Energy Renewalbe\"], \"ids\": [41], \"legendgroup\": \"Energy Renewalbe\", \"marker\": {\"color\": \"#FF97FF\"}, \"name\": \"Energy Renewalbe\", \"offsetgroup\": \"Energy Renewalbe\", \"orientation\": \"v\", \"showlegend\": true, \"textposition\": \"auto\", \"x\": [\"Energy Renewalbe\"], \"xaxis\": \"x\", \"y\": [15.2], \"yaxis\": \"y\", \"type\": \"bar\"}, {\"alignmentgroup\": \"True\", \"hoverlabel\": {\"namelength\": 0}, \"hovertemplate\": \"<b>%{hovertext}</b><br><br>portfolio=%{x}<br>ndays=41<br>percent=%{y}\", \"hovertext\": [\"Insurance\"], \"ids\": [41], \"legendgroup\": \"Insurance\", \"marker\": {\"color\": \"#FECB52\"}, \"name\": \"Insurance\", \"offsetgroup\": \"Insurance\", \"orientation\": \"v\", \"showlegend\": true, \"textposition\": \"auto\", \"x\": [\"Insurance\"], \"xaxis\": \"x\", \"y\": [46.0], \"yaxis\": \"y\", \"type\": \"bar\"}, {\"alignmentgroup\": \"True\", \"hoverlabel\": {\"namelength\": 0}, \"hovertemplate\": \"<b>%{hovertext}</b><br><br>portfolio=%{x}<br>ndays=41<br>percent=%{y}\", \"hovertext\": [\"Mega Capital\"], \"ids\": [41], \"legendgroup\": \"Mega Capital\", \"marker\": {\"color\": \"#636efa\"}, \"name\": \"Mega Capital\", \"offsetgroup\": \"Mega Capital\", \"orientation\": \"v\", \"showlegend\": true, \"textposition\": \"auto\", \"x\": [\"Mega Capital\"], \"xaxis\": \"x\", \"y\": [0.25666666666666665], \"yaxis\": \"y\", \"type\": \"bar\"}, {\"alignmentgroup\": \"True\", \"hoverlabel\": {\"namelength\": 0}, \"hovertemplate\": \"<b>%{hovertext}</b><br><br>portfolio=%{x}<br>ndays=41<br>percent=%{y}\", \"hovertext\": [\"REIT\"], \"ids\": [41], \"legendgroup\": \"REIT\", \"marker\": {\"color\": \"#EF553B\"}, \"name\": \"REIT\", \"offsetgroup\": \"REIT\", \"orientation\": \"v\", \"showlegend\": true, \"textposition\": \"auto\", \"x\": [\"REIT\"], \"xaxis\": \"x\", \"y\": [3.88], \"yaxis\": \"y\", \"type\": \"bar\"}, {\"alignmentgroup\": \"True\", \"hoverlabel\": {\"namelength\": 0}, \"hovertemplate\": \"<b>%{hovertext}</b><br><br>portfolio=%{x}<br>ndays=41<br>percent=%{y}\", \"hovertext\": [\"Semiconductors\"], \"ids\": [41], \"legendgroup\": \"Semiconductors\", \"marker\": {\"color\": \"#00cc96\"}, \"name\": \"Semiconductors\", \"offsetgroup\": \"Semiconductors\", \"orientation\": \"v\", \"showlegend\": true, \"textposition\": \"auto\", \"x\": [\"Semiconductors\"], \"xaxis\": \"x\", \"y\": [12.420000000000002], \"yaxis\": \"y\", \"type\": \"bar\"}], \"name\": \"41\"}]);\n",
       "                        }).then(function(){\n",
       "                            \n",
       "var gd = document.getElementById('b1dce6f9-932f-4dbd-8bb1-e93b463ff11c');\n",
       "var x = new MutationObserver(function (mutations, observer) {{\n",
       "        var display = window.getComputedStyle(gd).display;\n",
       "        if (!display || display === 'none') {{\n",
       "            console.log([gd, 'removed!']);\n",
       "            Plotly.purge(gd);\n",
       "            observer.disconnect();\n",
       "        }}\n",
       "}});\n",
       "\n",
       "// Listen for the removal of the full notebook cells\n",
       "var notebookContainer = gd.closest('#notebook-container');\n",
       "if (notebookContainer) {{\n",
       "    x.observe(notebookContainer, {childList: true});\n",
       "}}\n",
       "\n",
       "// Listen for the clearing of the current output cell\n",
       "var outputEl = gd.closest('.output');\n",
       "if (outputEl) {{\n",
       "    x.observe(outputEl, {childList: true});\n",
       "}}\n",
       "\n",
       "                        })\n",
       "                };\n",
       "                });\n",
       "            </script>\n",
       "        </div>"
      ]
     },
     "metadata": {},
     "output_type": "display_data"
    }
   ],
   "source": [
    "import plotly.express as px\n",
    "fig = px.bar(dfa, x=\"portfolio\", y=\"percent\", animation_frame=\"ndays\", animation_group=\"ndays\",\n",
    "          color=\"portfolio\", hover_name=\"portfolio\",\n",
    "           log_x=False,  \n",
    "             range_x=[1,len(set(dfa.portfolio.values))], range_y=[min(dfa.percent.values),max(dfa.percent.values)],\n",
    "            width=1350, height=800)\n",
    "\n",
    "fig[\"layout\"].pop(\"updatemenus\") # optional, drop animation buttons\n",
    "fig.show()"
   ]
  },
  {
   "cell_type": "code",
   "execution_count": 132,
   "metadata": {},
   "outputs": [
    {
     "name": "stdout",
     "output_type": "stream",
     "text": [
      "Wednesday 2020-11-25 Friday 2020-11-27\n",
      "Thursday 2020-11-19 Friday 2020-11-27\n",
      "Thursday 2020-11-12 Friday 2020-11-27\n",
      "Thursday 2020-11-05 Friday 2020-11-27\n",
      "Thursday 2020-10-29 Friday 2020-11-27\n",
      "Thursday 2020-10-22 Friday 2020-11-27\n",
      "Thursday 2020-10-15 Friday 2020-11-27\n",
      "Thursday 2020-10-08 Friday 2020-11-27\n",
      "Thursday 2020-10-01 Friday 2020-11-27\n"
     ]
    },
    {
     "data": {
      "text/html": [
       "<div>\n",
       "<style scoped>\n",
       "    .dataframe tbody tr th:only-of-type {\n",
       "        vertical-align: middle;\n",
       "    }\n",
       "\n",
       "    .dataframe tbody tr th {\n",
       "        vertical-align: top;\n",
       "    }\n",
       "\n",
       "    .dataframe thead th {\n",
       "        text-align: right;\n",
       "    }\n",
       "</style>\n",
       "<table border=\"1\" class=\"dataframe\">\n",
       "  <thead>\n",
       "    <tr style=\"text-align: right;\">\n",
       "      <th></th>\n",
       "      <th>symbol</th>\n",
       "      <th>percent</th>\n",
       "      <th>volume</th>\n",
       "      <th>portfolio</th>\n",
       "      <th>date</th>\n",
       "    </tr>\n",
       "  </thead>\n",
       "  <tbody>\n",
       "    <tr>\n",
       "      <th>0</th>\n",
       "      <td>AAPL</td>\n",
       "      <td>0.48</td>\n",
       "      <td>46691331.0</td>\n",
       "      <td>Mega Capital</td>\n",
       "      <td>2020-11-25</td>\n",
       "    </tr>\n",
       "    <tr>\n",
       "      <th>1</th>\n",
       "      <td>ABBV</td>\n",
       "      <td>0.66</td>\n",
       "      <td>4346686.0</td>\n",
       "      <td>Biotechnology</td>\n",
       "      <td>2020-11-25</td>\n",
       "    </tr>\n",
       "    <tr>\n",
       "      <th>2</th>\n",
       "      <td>AMZN</td>\n",
       "      <td>0.32</td>\n",
       "      <td>2392867.0</td>\n",
       "      <td>Mega Capital</td>\n",
       "      <td>2020-11-25</td>\n",
       "    </tr>\n",
       "    <tr>\n",
       "      <th>3</th>\n",
       "      <td>AVGO</td>\n",
       "      <td>1.05</td>\n",
       "      <td>670334.0</td>\n",
       "      <td>5G</td>\n",
       "      <td>2020-11-25</td>\n",
       "    </tr>\n",
       "    <tr>\n",
       "      <th>4</th>\n",
       "      <td>AZRE</td>\n",
       "      <td>2.30</td>\n",
       "      <td>128533.0</td>\n",
       "      <td>Energy Renewalbe</td>\n",
       "      <td>2020-11-25</td>\n",
       "    </tr>\n",
       "    <tr>\n",
       "      <th>...</th>\n",
       "      <td>...</td>\n",
       "      <td>...</td>\n",
       "      <td>...</td>\n",
       "      <td>...</td>\n",
       "      <td>...</td>\n",
       "    </tr>\n",
       "    <tr>\n",
       "      <th>18</th>\n",
       "      <td>QCOM</td>\n",
       "      <td>20.34</td>\n",
       "      <td>3409916.0</td>\n",
       "      <td>Semiconductors</td>\n",
       "      <td>2020-10-01</td>\n",
       "    </tr>\n",
       "    <tr>\n",
       "      <th>19</th>\n",
       "      <td>SPWR</td>\n",
       "      <td>73.35</td>\n",
       "      <td>4285951.0</td>\n",
       "      <td>Electricity Solar</td>\n",
       "      <td>2020-10-01</td>\n",
       "    </tr>\n",
       "    <tr>\n",
       "      <th>20</th>\n",
       "      <td>TDF</td>\n",
       "      <td>11.18</td>\n",
       "      <td>26492.0</td>\n",
       "      <td>CEF</td>\n",
       "      <td>2020-10-01</td>\n",
       "    </tr>\n",
       "    <tr>\n",
       "      <th>21</th>\n",
       "      <td>TSM</td>\n",
       "      <td>19.51</td>\n",
       "      <td>4095152.0</td>\n",
       "      <td>Semiconductors</td>\n",
       "      <td>2020-10-01</td>\n",
       "    </tr>\n",
       "    <tr>\n",
       "      <th>22</th>\n",
       "      <td>VWDRY</td>\n",
       "      <td>19.50</td>\n",
       "      <td>38741.0</td>\n",
       "      <td>Electricity Wind</td>\n",
       "      <td>2020-10-01</td>\n",
       "    </tr>\n",
       "  </tbody>\n",
       "</table>\n",
       "<p>207 rows × 5 columns</p>\n",
       "</div>"
      ],
      "text/plain": [
       "   symbol  percent      volume          portfolio        date\n",
       "0    AAPL     0.48  46691331.0       Mega Capital  2020-11-25\n",
       "1    ABBV     0.66   4346686.0      Biotechnology  2020-11-25\n",
       "2    AMZN     0.32   2392867.0       Mega Capital  2020-11-25\n",
       "3    AVGO     1.05    670334.0                 5G  2020-11-25\n",
       "4    AZRE     2.30    128533.0   Energy Renewalbe  2020-11-25\n",
       "..    ...      ...         ...                ...         ...\n",
       "18   QCOM    20.34   3409916.0     Semiconductors  2020-10-01\n",
       "19   SPWR    73.35   4285951.0  Electricity Solar  2020-10-01\n",
       "20    TDF    11.18     26492.0                CEF  2020-10-01\n",
       "21    TSM    19.51   4095152.0     Semiconductors  2020-10-01\n",
       "22  VWDRY    19.50     38741.0   Electricity Wind  2020-10-01\n",
       "\n",
       "[207 rows x 5 columns]"
      ]
     },
     "execution_count": 132,
     "metadata": {},
     "output_type": "execute_result"
    }
   ],
   "source": [
    "dfa = pd.DataFrame()\n",
    "#for ndays in range(1,400,50):\n",
    "#for ndays in range(1,180,25):\n",
    "#for ndays in range(1,90,10):\n",
    "for ndays in range(1,45,5):    \n",
    "    df,dt = pf.getFidelityStockPercentVolPort(ndays)\n",
    "    #df,dt = pf.getStockPercentVolPort(ndays)\n",
    "    #dfg = df.groupby('portfolio').agg(['mean'])\n",
    "    #dfg.columns = ['percent','volume']\n",
    "    #dfg.reset_index(inplace = True)\n",
    "    #dfg = dfg.rename(columns={'index':'portfolio'})\n",
    "    df['date'] = md.getNBusDate(ndays)\n",
    "    df.reset_index(inplace = True)\n",
    "    df = df.rename(columns={'index':'symbol'})\n",
    "    dfa = pd.concat([dfa,df])\n",
    "dfa"
   ]
  },
  {
   "cell_type": "code",
   "execution_count": 127,
   "metadata": {},
   "outputs": [
    {
     "data": {
      "text/html": [
       "<div>\n",
       "<style scoped>\n",
       "    .dataframe tbody tr th:only-of-type {\n",
       "        vertical-align: middle;\n",
       "    }\n",
       "\n",
       "    .dataframe tbody tr th {\n",
       "        vertical-align: top;\n",
       "    }\n",
       "\n",
       "    .dataframe thead th {\n",
       "        text-align: right;\n",
       "    }\n",
       "</style>\n",
       "<table border=\"1\" class=\"dataframe\">\n",
       "  <thead>\n",
       "    <tr style=\"text-align: right;\">\n",
       "      <th></th>\n",
       "    </tr>\n",
       "  </thead>\n",
       "  <tbody>\n",
       "  </tbody>\n",
       "</table>\n",
       "</div>"
      ],
      "text/plain": [
       "Empty DataFrame\n",
       "Columns: []\n",
       "Index: []"
      ]
     },
     "execution_count": 127,
     "metadata": {},
     "output_type": "execute_result"
    }
   ],
   "source": []
  },
  {
   "cell_type": "code",
   "execution_count": 136,
   "metadata": {},
   "outputs": [
    {
     "data": {
      "application/vnd.plotly.v1+json": {
       "config": {
        "plotlyServerURL": "https://plot.ly"
       },
       "data": [
        {
         "alignmentgroup": "True",
         "hoverlabel": {
          "namelength": 0
         },
         "hovertemplate": "symbol=AAPL<br>date=2020-11-25<br>portfolio=%{x}<br>percent=%{y}",
         "ids": [
          "2020-11-25"
         ],
         "legendgroup": "AAPL",
         "marker": {
          "color": "#636efa"
         },
         "name": "AAPL",
         "offsetgroup": "AAPL",
         "orientation": "v",
         "showlegend": true,
         "textposition": "auto",
         "type": "bar",
         "x": [
          "Mega Capital"
         ],
         "xaxis": "x",
         "y": [
          0.48
         ],
         "yaxis": "y"
        },
        {
         "alignmentgroup": "True",
         "hoverlabel": {
          "namelength": 0
         },
         "hovertemplate": "symbol=ABBV<br>date=2020-11-25<br>portfolio=%{x}<br>percent=%{y}",
         "ids": [
          "2020-11-25"
         ],
         "legendgroup": "ABBV",
         "marker": {
          "color": "#EF553B"
         },
         "name": "ABBV",
         "offsetgroup": "ABBV",
         "orientation": "v",
         "showlegend": true,
         "textposition": "auto",
         "type": "bar",
         "x": [
          "Biotechnology"
         ],
         "xaxis": "x",
         "y": [
          0.66
         ],
         "yaxis": "y"
        },
        {
         "alignmentgroup": "True",
         "hoverlabel": {
          "namelength": 0
         },
         "hovertemplate": "symbol=AMZN<br>date=2020-11-25<br>portfolio=%{x}<br>percent=%{y}",
         "ids": [
          "2020-11-25"
         ],
         "legendgroup": "AMZN",
         "marker": {
          "color": "#00cc96"
         },
         "name": "AMZN",
         "offsetgroup": "AMZN",
         "orientation": "v",
         "showlegend": true,
         "textposition": "auto",
         "type": "bar",
         "x": [
          "Mega Capital"
         ],
         "xaxis": "x",
         "y": [
          0.32
         ],
         "yaxis": "y"
        },
        {
         "alignmentgroup": "True",
         "hoverlabel": {
          "namelength": 0
         },
         "hovertemplate": "symbol=AVGO<br>date=2020-11-25<br>portfolio=%{x}<br>percent=%{y}",
         "ids": [
          "2020-11-25"
         ],
         "legendgroup": "AVGO",
         "marker": {
          "color": "#ab63fa"
         },
         "name": "AVGO",
         "offsetgroup": "AVGO",
         "orientation": "v",
         "showlegend": true,
         "textposition": "auto",
         "type": "bar",
         "x": [
          "5G"
         ],
         "xaxis": "x",
         "y": [
          1.05
         ],
         "yaxis": "y"
        },
        {
         "alignmentgroup": "True",
         "hoverlabel": {
          "namelength": 0
         },
         "hovertemplate": "symbol=AZRE<br>date=2020-11-25<br>portfolio=%{x}<br>percent=%{y}",
         "ids": [
          "2020-11-25"
         ],
         "legendgroup": "AZRE",
         "marker": {
          "color": "#FFA15A"
         },
         "name": "AZRE",
         "offsetgroup": "AZRE",
         "orientation": "v",
         "showlegend": true,
         "textposition": "auto",
         "type": "bar",
         "x": [
          "Energy Renewalbe"
         ],
         "xaxis": "x",
         "y": [
          2.3
         ],
         "yaxis": "y"
        },
        {
         "alignmentgroup": "True",
         "hoverlabel": {
          "namelength": 0
         },
         "hovertemplate": "symbol=BEKE<br>date=2020-11-25<br>portfolio=%{x}<br>percent=%{y}",
         "ids": [
          "2020-11-25"
         ],
         "legendgroup": "BEKE",
         "marker": {
          "color": "#19d3f3"
         },
         "name": "BEKE",
         "offsetgroup": "BEKE",
         "orientation": "v",
         "showlegend": true,
         "textposition": "auto",
         "type": "bar",
         "x": [
          "REIT"
         ],
         "xaxis": "x",
         "y": [
          6.55
         ],
         "yaxis": "y"
        },
        {
         "alignmentgroup": "True",
         "hoverlabel": {
          "namelength": 0
         },
         "hovertemplate": "symbol=BYDDF<br>date=2020-11-25<br>portfolio=%{x}<br>percent=%{y}",
         "ids": [
          "2020-11-25"
         ],
         "legendgroup": "BYDDF",
         "marker": {
          "color": "#FF6692"
         },
         "name": "BYDDF",
         "offsetgroup": "BYDDF",
         "orientation": "v",
         "showlegend": true,
         "textposition": "auto",
         "type": "bar",
         "x": [
          "Electric Vehicles"
         ],
         "xaxis": "x",
         "y": [
          -3
         ],
         "yaxis": "y"
        },
        {
         "alignmentgroup": "True",
         "hoverlabel": {
          "namelength": 0
         },
         "hovertemplate": "symbol=CSIQ<br>date=2020-11-25<br>portfolio=%{x}<br>percent=%{y}",
         "ids": [
          "2020-11-25"
         ],
         "legendgroup": "CSIQ",
         "marker": {
          "color": "#B6E880"
         },
         "name": "CSIQ",
         "offsetgroup": "CSIQ",
         "orientation": "v",
         "showlegend": true,
         "textposition": "auto",
         "type": "bar",
         "x": [
          "Electricity Solar"
         ],
         "xaxis": "x",
         "y": [
          2.96
         ],
         "yaxis": "y"
        },
        {
         "alignmentgroup": "True",
         "hoverlabel": {
          "namelength": 0
         },
         "hovertemplate": "symbol=DOCRF<br>date=2020-11-25<br>portfolio=%{x}<br>percent=%{y}",
         "ids": [
          "2020-11-25"
         ],
         "legendgroup": "DOCRF",
         "marker": {
          "color": "#FF97FF"
         },
         "name": "DOCRF",
         "offsetgroup": "DOCRF",
         "orientation": "v",
         "showlegend": true,
         "textposition": "auto",
         "type": "bar",
         "x": [
          "Cloud Retail Apps"
         ],
         "xaxis": "x",
         "y": [
          1.09
         ],
         "yaxis": "y"
        },
        {
         "alignmentgroup": "True",
         "hoverlabel": {
          "namelength": 0
         },
         "hovertemplate": "symbol=DQ<br>date=2020-11-25<br>portfolio=%{x}<br>percent=%{y}",
         "ids": [
          "2020-11-25"
         ],
         "legendgroup": "DQ",
         "marker": {
          "color": "#FECB52"
         },
         "name": "DQ",
         "offsetgroup": "DQ",
         "orientation": "v",
         "showlegend": true,
         "textposition": "auto",
         "type": "bar",
         "x": [
          "Electricity Solar"
         ],
         "xaxis": "x",
         "y": [
          5.04
         ],
         "yaxis": "y"
        },
        {
         "alignmentgroup": "True",
         "hoverlabel": {
          "namelength": 0
         },
         "hovertemplate": "symbol=ENPH<br>date=2020-11-25<br>portfolio=%{x}<br>percent=%{y}",
         "ids": [
          "2020-11-25"
         ],
         "legendgroup": "ENPH",
         "marker": {
          "color": "#636efa"
         },
         "name": "ENPH",
         "offsetgroup": "ENPH",
         "orientation": "v",
         "showlegend": true,
         "textposition": "auto",
         "type": "bar",
         "x": [
          "Electricity Solar"
         ],
         "xaxis": "x",
         "y": [
          1.07
         ],
         "yaxis": "y"
        },
        {
         "alignmentgroup": "True",
         "hoverlabel": {
          "namelength": 0
         },
         "hovertemplate": "symbol=FFC<br>date=2020-11-25<br>portfolio=%{x}<br>percent=%{y}",
         "ids": [
          "2020-11-25"
         ],
         "legendgroup": "FFC",
         "marker": {
          "color": "#EF553B"
         },
         "name": "FFC",
         "offsetgroup": "FFC",
         "orientation": "v",
         "showlegend": true,
         "textposition": "auto",
         "type": "bar",
         "x": [
          "Dividend"
         ],
         "xaxis": "x",
         "y": [
          0.62
         ],
         "yaxis": "y"
        },
        {
         "alignmentgroup": "True",
         "hoverlabel": {
          "namelength": 0
         },
         "hovertemplate": "symbol=FLC<br>date=2020-11-25<br>portfolio=%{x}<br>percent=%{y}",
         "ids": [
          "2020-11-25"
         ],
         "legendgroup": "FLC",
         "marker": {
          "color": "#00cc96"
         },
         "name": "FLC",
         "offsetgroup": "FLC",
         "orientation": "v",
         "showlegend": true,
         "textposition": "auto",
         "type": "bar",
         "x": [
          "Dividend"
         ],
         "xaxis": "x",
         "y": [
          1.35
         ],
         "yaxis": "y"
        },
        {
         "alignmentgroup": "True",
         "hoverlabel": {
          "namelength": 0
         },
         "hovertemplate": "symbol=FSLR<br>date=2020-11-25<br>portfolio=%{x}<br>percent=%{y}",
         "ids": [
          "2020-11-25"
         ],
         "legendgroup": "FSLR",
         "marker": {
          "color": "#ab63fa"
         },
         "name": "FSLR",
         "offsetgroup": "FSLR",
         "orientation": "v",
         "showlegend": true,
         "textposition": "auto",
         "type": "bar",
         "x": [
          "Electricity Solar"
         ],
         "xaxis": "x",
         "y": [
          2.43
         ],
         "yaxis": "y"
        },
        {
         "alignmentgroup": "True",
         "hoverlabel": {
          "namelength": 0
         },
         "hovertemplate": "symbol=LI<br>date=2020-11-25<br>portfolio=%{x}<br>percent=%{y}",
         "ids": [
          "2020-11-25"
         ],
         "legendgroup": "LI",
         "marker": {
          "color": "#FFA15A"
         },
         "name": "LI",
         "offsetgroup": "LI",
         "orientation": "v",
         "showlegend": true,
         "textposition": "auto",
         "type": "bar",
         "x": [
          "Electric Vehicles"
         ],
         "xaxis": "x",
         "y": [
          -3.05
         ],
         "yaxis": "y"
        },
        {
         "alignmentgroup": "True",
         "hoverlabel": {
          "namelength": 0
         },
         "hovertemplate": "symbol=LMND<br>date=2020-11-25<br>portfolio=%{x}<br>percent=%{y}",
         "ids": [
          "2020-11-25"
         ],
         "legendgroup": "LMND",
         "marker": {
          "color": "#19d3f3"
         },
         "name": "LMND",
         "offsetgroup": "LMND",
         "orientation": "v",
         "showlegend": true,
         "textposition": "auto",
         "type": "bar",
         "x": [
          "Insurance"
         ],
         "xaxis": "x",
         "y": [
          10.13
         ],
         "yaxis": "y"
        },
        {
         "alignmentgroup": "True",
         "hoverlabel": {
          "namelength": 0
         },
         "hovertemplate": "symbol=MSFT<br>date=2020-11-25<br>portfolio=%{x}<br>percent=%{y}",
         "ids": [
          "2020-11-25"
         ],
         "legendgroup": "MSFT",
         "marker": {
          "color": "#FF6692"
         },
         "name": "MSFT",
         "offsetgroup": "MSFT",
         "orientation": "v",
         "showlegend": true,
         "textposition": "auto",
         "type": "bar",
         "x": [
          "Mega Capital"
         ],
         "xaxis": "x",
         "y": [
          0.64
         ],
         "yaxis": "y"
        },
        {
         "alignmentgroup": "True",
         "hoverlabel": {
          "namelength": 0
         },
         "hovertemplate": "symbol=NVDA<br>date=2020-11-25<br>portfolio=%{x}<br>percent=%{y}",
         "ids": [
          "2020-11-25"
         ],
         "legendgroup": "NVDA",
         "marker": {
          "color": "#B6E880"
         },
         "name": "NVDA",
         "offsetgroup": "NVDA",
         "orientation": "v",
         "showlegend": true,
         "textposition": "auto",
         "type": "bar",
         "x": [
          "Semiconductors"
         ],
         "xaxis": "x",
         "y": [
          0.2
         ],
         "yaxis": "y"
        },
        {
         "alignmentgroup": "True",
         "hoverlabel": {
          "namelength": 0
         },
         "hovertemplate": "symbol=QCOM<br>date=2020-11-25<br>portfolio=%{x}<br>percent=%{y}",
         "ids": [
          "2020-11-25"
         ],
         "legendgroup": "QCOM",
         "marker": {
          "color": "#FF97FF"
         },
         "name": "QCOM",
         "offsetgroup": "QCOM",
         "orientation": "v",
         "showlegend": true,
         "textposition": "auto",
         "type": "bar",
         "x": [
          "Semiconductors"
         ],
         "xaxis": "x",
         "y": [
          -0.17
         ],
         "yaxis": "y"
        },
        {
         "alignmentgroup": "True",
         "hoverlabel": {
          "namelength": 0
         },
         "hovertemplate": "symbol=SPWR<br>date=2020-11-25<br>portfolio=%{x}<br>percent=%{y}",
         "ids": [
          "2020-11-25"
         ],
         "legendgroup": "SPWR",
         "marker": {
          "color": "#FECB52"
         },
         "name": "SPWR",
         "offsetgroup": "SPWR",
         "orientation": "v",
         "showlegend": true,
         "textposition": "auto",
         "type": "bar",
         "x": [
          "Electricity Solar"
         ],
         "xaxis": "x",
         "y": [
          -0.81
         ],
         "yaxis": "y"
        },
        {
         "alignmentgroup": "True",
         "hoverlabel": {
          "namelength": 0
         },
         "hovertemplate": "symbol=TDF<br>date=2020-11-25<br>portfolio=%{x}<br>percent=%{y}",
         "ids": [
          "2020-11-25"
         ],
         "legendgroup": "TDF",
         "marker": {
          "color": "#636efa"
         },
         "name": "TDF",
         "offsetgroup": "TDF",
         "orientation": "v",
         "showlegend": true,
         "textposition": "auto",
         "type": "bar",
         "x": [
          "CEF"
         ],
         "xaxis": "x",
         "y": [
          0.45
         ],
         "yaxis": "y"
        },
        {
         "alignmentgroup": "True",
         "hoverlabel": {
          "namelength": 0
         },
         "hovertemplate": "symbol=TSM<br>date=2020-11-25<br>portfolio=%{x}<br>percent=%{y}",
         "ids": [
          "2020-11-25"
         ],
         "legendgroup": "TSM",
         "marker": {
          "color": "#EF553B"
         },
         "name": "TSM",
         "offsetgroup": "TSM",
         "orientation": "v",
         "showlegend": true,
         "textposition": "auto",
         "type": "bar",
         "x": [
          "Semiconductors"
         ],
         "xaxis": "x",
         "y": [
          1.28
         ],
         "yaxis": "y"
        },
        {
         "alignmentgroup": "True",
         "hoverlabel": {
          "namelength": 0
         },
         "hovertemplate": "symbol=VWDRY<br>date=2020-11-25<br>portfolio=%{x}<br>percent=%{y}",
         "ids": [
          "2020-11-25"
         ],
         "legendgroup": "VWDRY",
         "marker": {
          "color": "#00cc96"
         },
         "name": "VWDRY",
         "offsetgroup": "VWDRY",
         "orientation": "v",
         "showlegend": true,
         "textposition": "auto",
         "type": "bar",
         "x": [
          "Electricity Wind"
         ],
         "xaxis": "x",
         "y": [
          3.73
         ],
         "yaxis": "y"
        }
       ],
       "frames": [
        {
         "data": [
          {
           "alignmentgroup": "True",
           "hoverlabel": {
            "namelength": 0
           },
           "hovertemplate": "symbol=AAPL<br>date=2020-11-25<br>portfolio=%{x}<br>percent=%{y}",
           "ids": [
            "2020-11-25"
           ],
           "legendgroup": "AAPL",
           "marker": {
            "color": "#636efa"
           },
           "name": "AAPL",
           "offsetgroup": "AAPL",
           "orientation": "v",
           "showlegend": true,
           "textposition": "auto",
           "type": "bar",
           "x": [
            "Mega Capital"
           ],
           "xaxis": "x",
           "y": [
            0.48
           ],
           "yaxis": "y"
          },
          {
           "alignmentgroup": "True",
           "hoverlabel": {
            "namelength": 0
           },
           "hovertemplate": "symbol=ABBV<br>date=2020-11-25<br>portfolio=%{x}<br>percent=%{y}",
           "ids": [
            "2020-11-25"
           ],
           "legendgroup": "ABBV",
           "marker": {
            "color": "#EF553B"
           },
           "name": "ABBV",
           "offsetgroup": "ABBV",
           "orientation": "v",
           "showlegend": true,
           "textposition": "auto",
           "type": "bar",
           "x": [
            "Biotechnology"
           ],
           "xaxis": "x",
           "y": [
            0.66
           ],
           "yaxis": "y"
          },
          {
           "alignmentgroup": "True",
           "hoverlabel": {
            "namelength": 0
           },
           "hovertemplate": "symbol=AMZN<br>date=2020-11-25<br>portfolio=%{x}<br>percent=%{y}",
           "ids": [
            "2020-11-25"
           ],
           "legendgroup": "AMZN",
           "marker": {
            "color": "#00cc96"
           },
           "name": "AMZN",
           "offsetgroup": "AMZN",
           "orientation": "v",
           "showlegend": true,
           "textposition": "auto",
           "type": "bar",
           "x": [
            "Mega Capital"
           ],
           "xaxis": "x",
           "y": [
            0.32
           ],
           "yaxis": "y"
          },
          {
           "alignmentgroup": "True",
           "hoverlabel": {
            "namelength": 0
           },
           "hovertemplate": "symbol=AVGO<br>date=2020-11-25<br>portfolio=%{x}<br>percent=%{y}",
           "ids": [
            "2020-11-25"
           ],
           "legendgroup": "AVGO",
           "marker": {
            "color": "#ab63fa"
           },
           "name": "AVGO",
           "offsetgroup": "AVGO",
           "orientation": "v",
           "showlegend": true,
           "textposition": "auto",
           "type": "bar",
           "x": [
            "5G"
           ],
           "xaxis": "x",
           "y": [
            1.05
           ],
           "yaxis": "y"
          },
          {
           "alignmentgroup": "True",
           "hoverlabel": {
            "namelength": 0
           },
           "hovertemplate": "symbol=AZRE<br>date=2020-11-25<br>portfolio=%{x}<br>percent=%{y}",
           "ids": [
            "2020-11-25"
           ],
           "legendgroup": "AZRE",
           "marker": {
            "color": "#FFA15A"
           },
           "name": "AZRE",
           "offsetgroup": "AZRE",
           "orientation": "v",
           "showlegend": true,
           "textposition": "auto",
           "type": "bar",
           "x": [
            "Energy Renewalbe"
           ],
           "xaxis": "x",
           "y": [
            2.3
           ],
           "yaxis": "y"
          },
          {
           "alignmentgroup": "True",
           "hoverlabel": {
            "namelength": 0
           },
           "hovertemplate": "symbol=BEKE<br>date=2020-11-25<br>portfolio=%{x}<br>percent=%{y}",
           "ids": [
            "2020-11-25"
           ],
           "legendgroup": "BEKE",
           "marker": {
            "color": "#19d3f3"
           },
           "name": "BEKE",
           "offsetgroup": "BEKE",
           "orientation": "v",
           "showlegend": true,
           "textposition": "auto",
           "type": "bar",
           "x": [
            "REIT"
           ],
           "xaxis": "x",
           "y": [
            6.55
           ],
           "yaxis": "y"
          },
          {
           "alignmentgroup": "True",
           "hoverlabel": {
            "namelength": 0
           },
           "hovertemplate": "symbol=BYDDF<br>date=2020-11-25<br>portfolio=%{x}<br>percent=%{y}",
           "ids": [
            "2020-11-25"
           ],
           "legendgroup": "BYDDF",
           "marker": {
            "color": "#FF6692"
           },
           "name": "BYDDF",
           "offsetgroup": "BYDDF",
           "orientation": "v",
           "showlegend": true,
           "textposition": "auto",
           "type": "bar",
           "x": [
            "Electric Vehicles"
           ],
           "xaxis": "x",
           "y": [
            -3
           ],
           "yaxis": "y"
          },
          {
           "alignmentgroup": "True",
           "hoverlabel": {
            "namelength": 0
           },
           "hovertemplate": "symbol=CSIQ<br>date=2020-11-25<br>portfolio=%{x}<br>percent=%{y}",
           "ids": [
            "2020-11-25"
           ],
           "legendgroup": "CSIQ",
           "marker": {
            "color": "#B6E880"
           },
           "name": "CSIQ",
           "offsetgroup": "CSIQ",
           "orientation": "v",
           "showlegend": true,
           "textposition": "auto",
           "type": "bar",
           "x": [
            "Electricity Solar"
           ],
           "xaxis": "x",
           "y": [
            2.96
           ],
           "yaxis": "y"
          },
          {
           "alignmentgroup": "True",
           "hoverlabel": {
            "namelength": 0
           },
           "hovertemplate": "symbol=DOCRF<br>date=2020-11-25<br>portfolio=%{x}<br>percent=%{y}",
           "ids": [
            "2020-11-25"
           ],
           "legendgroup": "DOCRF",
           "marker": {
            "color": "#FF97FF"
           },
           "name": "DOCRF",
           "offsetgroup": "DOCRF",
           "orientation": "v",
           "showlegend": true,
           "textposition": "auto",
           "type": "bar",
           "x": [
            "Cloud Retail Apps"
           ],
           "xaxis": "x",
           "y": [
            1.09
           ],
           "yaxis": "y"
          },
          {
           "alignmentgroup": "True",
           "hoverlabel": {
            "namelength": 0
           },
           "hovertemplate": "symbol=DQ<br>date=2020-11-25<br>portfolio=%{x}<br>percent=%{y}",
           "ids": [
            "2020-11-25"
           ],
           "legendgroup": "DQ",
           "marker": {
            "color": "#FECB52"
           },
           "name": "DQ",
           "offsetgroup": "DQ",
           "orientation": "v",
           "showlegend": true,
           "textposition": "auto",
           "type": "bar",
           "x": [
            "Electricity Solar"
           ],
           "xaxis": "x",
           "y": [
            5.04
           ],
           "yaxis": "y"
          },
          {
           "alignmentgroup": "True",
           "hoverlabel": {
            "namelength": 0
           },
           "hovertemplate": "symbol=ENPH<br>date=2020-11-25<br>portfolio=%{x}<br>percent=%{y}",
           "ids": [
            "2020-11-25"
           ],
           "legendgroup": "ENPH",
           "marker": {
            "color": "#636efa"
           },
           "name": "ENPH",
           "offsetgroup": "ENPH",
           "orientation": "v",
           "showlegend": true,
           "textposition": "auto",
           "type": "bar",
           "x": [
            "Electricity Solar"
           ],
           "xaxis": "x",
           "y": [
            1.07
           ],
           "yaxis": "y"
          },
          {
           "alignmentgroup": "True",
           "hoverlabel": {
            "namelength": 0
           },
           "hovertemplate": "symbol=FFC<br>date=2020-11-25<br>portfolio=%{x}<br>percent=%{y}",
           "ids": [
            "2020-11-25"
           ],
           "legendgroup": "FFC",
           "marker": {
            "color": "#EF553B"
           },
           "name": "FFC",
           "offsetgroup": "FFC",
           "orientation": "v",
           "showlegend": true,
           "textposition": "auto",
           "type": "bar",
           "x": [
            "Dividend"
           ],
           "xaxis": "x",
           "y": [
            0.62
           ],
           "yaxis": "y"
          },
          {
           "alignmentgroup": "True",
           "hoverlabel": {
            "namelength": 0
           },
           "hovertemplate": "symbol=FLC<br>date=2020-11-25<br>portfolio=%{x}<br>percent=%{y}",
           "ids": [
            "2020-11-25"
           ],
           "legendgroup": "FLC",
           "marker": {
            "color": "#00cc96"
           },
           "name": "FLC",
           "offsetgroup": "FLC",
           "orientation": "v",
           "showlegend": true,
           "textposition": "auto",
           "type": "bar",
           "x": [
            "Dividend"
           ],
           "xaxis": "x",
           "y": [
            1.35
           ],
           "yaxis": "y"
          },
          {
           "alignmentgroup": "True",
           "hoverlabel": {
            "namelength": 0
           },
           "hovertemplate": "symbol=FSLR<br>date=2020-11-25<br>portfolio=%{x}<br>percent=%{y}",
           "ids": [
            "2020-11-25"
           ],
           "legendgroup": "FSLR",
           "marker": {
            "color": "#ab63fa"
           },
           "name": "FSLR",
           "offsetgroup": "FSLR",
           "orientation": "v",
           "showlegend": true,
           "textposition": "auto",
           "type": "bar",
           "x": [
            "Electricity Solar"
           ],
           "xaxis": "x",
           "y": [
            2.43
           ],
           "yaxis": "y"
          },
          {
           "alignmentgroup": "True",
           "hoverlabel": {
            "namelength": 0
           },
           "hovertemplate": "symbol=LI<br>date=2020-11-25<br>portfolio=%{x}<br>percent=%{y}",
           "ids": [
            "2020-11-25"
           ],
           "legendgroup": "LI",
           "marker": {
            "color": "#FFA15A"
           },
           "name": "LI",
           "offsetgroup": "LI",
           "orientation": "v",
           "showlegend": true,
           "textposition": "auto",
           "type": "bar",
           "x": [
            "Electric Vehicles"
           ],
           "xaxis": "x",
           "y": [
            -3.05
           ],
           "yaxis": "y"
          },
          {
           "alignmentgroup": "True",
           "hoverlabel": {
            "namelength": 0
           },
           "hovertemplate": "symbol=LMND<br>date=2020-11-25<br>portfolio=%{x}<br>percent=%{y}",
           "ids": [
            "2020-11-25"
           ],
           "legendgroup": "LMND",
           "marker": {
            "color": "#19d3f3"
           },
           "name": "LMND",
           "offsetgroup": "LMND",
           "orientation": "v",
           "showlegend": true,
           "textposition": "auto",
           "type": "bar",
           "x": [
            "Insurance"
           ],
           "xaxis": "x",
           "y": [
            10.13
           ],
           "yaxis": "y"
          },
          {
           "alignmentgroup": "True",
           "hoverlabel": {
            "namelength": 0
           },
           "hovertemplate": "symbol=MSFT<br>date=2020-11-25<br>portfolio=%{x}<br>percent=%{y}",
           "ids": [
            "2020-11-25"
           ],
           "legendgroup": "MSFT",
           "marker": {
            "color": "#FF6692"
           },
           "name": "MSFT",
           "offsetgroup": "MSFT",
           "orientation": "v",
           "showlegend": true,
           "textposition": "auto",
           "type": "bar",
           "x": [
            "Mega Capital"
           ],
           "xaxis": "x",
           "y": [
            0.64
           ],
           "yaxis": "y"
          },
          {
           "alignmentgroup": "True",
           "hoverlabel": {
            "namelength": 0
           },
           "hovertemplate": "symbol=NVDA<br>date=2020-11-25<br>portfolio=%{x}<br>percent=%{y}",
           "ids": [
            "2020-11-25"
           ],
           "legendgroup": "NVDA",
           "marker": {
            "color": "#B6E880"
           },
           "name": "NVDA",
           "offsetgroup": "NVDA",
           "orientation": "v",
           "showlegend": true,
           "textposition": "auto",
           "type": "bar",
           "x": [
            "Semiconductors"
           ],
           "xaxis": "x",
           "y": [
            0.2
           ],
           "yaxis": "y"
          },
          {
           "alignmentgroup": "True",
           "hoverlabel": {
            "namelength": 0
           },
           "hovertemplate": "symbol=QCOM<br>date=2020-11-25<br>portfolio=%{x}<br>percent=%{y}",
           "ids": [
            "2020-11-25"
           ],
           "legendgroup": "QCOM",
           "marker": {
            "color": "#FF97FF"
           },
           "name": "QCOM",
           "offsetgroup": "QCOM",
           "orientation": "v",
           "showlegend": true,
           "textposition": "auto",
           "type": "bar",
           "x": [
            "Semiconductors"
           ],
           "xaxis": "x",
           "y": [
            -0.17
           ],
           "yaxis": "y"
          },
          {
           "alignmentgroup": "True",
           "hoverlabel": {
            "namelength": 0
           },
           "hovertemplate": "symbol=SPWR<br>date=2020-11-25<br>portfolio=%{x}<br>percent=%{y}",
           "ids": [
            "2020-11-25"
           ],
           "legendgroup": "SPWR",
           "marker": {
            "color": "#FECB52"
           },
           "name": "SPWR",
           "offsetgroup": "SPWR",
           "orientation": "v",
           "showlegend": true,
           "textposition": "auto",
           "type": "bar",
           "x": [
            "Electricity Solar"
           ],
           "xaxis": "x",
           "y": [
            -0.81
           ],
           "yaxis": "y"
          },
          {
           "alignmentgroup": "True",
           "hoverlabel": {
            "namelength": 0
           },
           "hovertemplate": "symbol=TDF<br>date=2020-11-25<br>portfolio=%{x}<br>percent=%{y}",
           "ids": [
            "2020-11-25"
           ],
           "legendgroup": "TDF",
           "marker": {
            "color": "#636efa"
           },
           "name": "TDF",
           "offsetgroup": "TDF",
           "orientation": "v",
           "showlegend": true,
           "textposition": "auto",
           "type": "bar",
           "x": [
            "CEF"
           ],
           "xaxis": "x",
           "y": [
            0.45
           ],
           "yaxis": "y"
          },
          {
           "alignmentgroup": "True",
           "hoverlabel": {
            "namelength": 0
           },
           "hovertemplate": "symbol=TSM<br>date=2020-11-25<br>portfolio=%{x}<br>percent=%{y}",
           "ids": [
            "2020-11-25"
           ],
           "legendgroup": "TSM",
           "marker": {
            "color": "#EF553B"
           },
           "name": "TSM",
           "offsetgroup": "TSM",
           "orientation": "v",
           "showlegend": true,
           "textposition": "auto",
           "type": "bar",
           "x": [
            "Semiconductors"
           ],
           "xaxis": "x",
           "y": [
            1.28
           ],
           "yaxis": "y"
          },
          {
           "alignmentgroup": "True",
           "hoverlabel": {
            "namelength": 0
           },
           "hovertemplate": "symbol=VWDRY<br>date=2020-11-25<br>portfolio=%{x}<br>percent=%{y}",
           "ids": [
            "2020-11-25"
           ],
           "legendgroup": "VWDRY",
           "marker": {
            "color": "#00cc96"
           },
           "name": "VWDRY",
           "offsetgroup": "VWDRY",
           "orientation": "v",
           "showlegend": true,
           "textposition": "auto",
           "type": "bar",
           "x": [
            "Electricity Wind"
           ],
           "xaxis": "x",
           "y": [
            3.73
           ],
           "yaxis": "y"
          }
         ],
         "name": "2020-11-25"
        },
        {
         "data": [
          {
           "alignmentgroup": "True",
           "hoverlabel": {
            "namelength": 0
           },
           "hovertemplate": "symbol=AAPL<br>date=2020-11-19<br>portfolio=%{x}<br>percent=%{y}",
           "ids": [
            "2020-11-19"
           ],
           "legendgroup": "AAPL",
           "marker": {
            "color": "#636efa"
           },
           "name": "AAPL",
           "offsetgroup": "AAPL",
           "orientation": "v",
           "showlegend": true,
           "textposition": "auto",
           "type": "bar",
           "x": [
            "Mega Capital"
           ],
           "xaxis": "x",
           "y": [
            -1.73
           ],
           "yaxis": "y"
          },
          {
           "alignmentgroup": "True",
           "hoverlabel": {
            "namelength": 0
           },
           "hovertemplate": "symbol=ABBV<br>date=2020-11-19<br>portfolio=%{x}<br>percent=%{y}",
           "ids": [
            "2020-11-19"
           ],
           "legendgroup": "ABBV",
           "marker": {
            "color": "#EF553B"
           },
           "name": "ABBV",
           "offsetgroup": "ABBV",
           "orientation": "v",
           "showlegend": true,
           "textposition": "auto",
           "type": "bar",
           "x": [
            "Biotechnology"
           ],
           "xaxis": "x",
           "y": [
            5.24
           ],
           "yaxis": "y"
          },
          {
           "alignmentgroup": "True",
           "hoverlabel": {
            "namelength": 0
           },
           "hovertemplate": "symbol=AMZN<br>date=2020-11-19<br>portfolio=%{x}<br>percent=%{y}",
           "ids": [
            "2020-11-19"
           ],
           "legendgroup": "AMZN",
           "marker": {
            "color": "#00cc96"
           },
           "name": "AMZN",
           "offsetgroup": "AMZN",
           "orientation": "v",
           "showlegend": true,
           "textposition": "auto",
           "type": "bar",
           "x": [
            "Mega Capital"
           ],
           "xaxis": "x",
           "y": [
            2.51
           ],
           "yaxis": "y"
          },
          {
           "alignmentgroup": "True",
           "hoverlabel": {
            "namelength": 0
           },
           "hovertemplate": "symbol=AVGO<br>date=2020-11-19<br>portfolio=%{x}<br>percent=%{y}",
           "ids": [
            "2020-11-19"
           ],
           "legendgroup": "AVGO",
           "marker": {
            "color": "#ab63fa"
           },
           "name": "AVGO",
           "offsetgroup": "AVGO",
           "orientation": "v",
           "showlegend": true,
           "textposition": "auto",
           "type": "bar",
           "x": [
            "5G"
           ],
           "xaxis": "x",
           "y": [
            2.76
           ],
           "yaxis": "y"
          },
          {
           "alignmentgroup": "True",
           "hoverlabel": {
            "namelength": 0
           },
           "hovertemplate": "symbol=AZRE<br>date=2020-11-19<br>portfolio=%{x}<br>percent=%{y}",
           "ids": [
            "2020-11-19"
           ],
           "legendgroup": "AZRE",
           "marker": {
            "color": "#FFA15A"
           },
           "name": "AZRE",
           "offsetgroup": "AZRE",
           "orientation": "v",
           "showlegend": true,
           "textposition": "auto",
           "type": "bar",
           "x": [
            "Energy Renewalbe"
           ],
           "xaxis": "x",
           "y": [
            22.56
           ],
           "yaxis": "y"
          },
          {
           "alignmentgroup": "True",
           "hoverlabel": {
            "namelength": 0
           },
           "hovertemplate": "symbol=BEKE<br>date=2020-11-19<br>portfolio=%{x}<br>percent=%{y}",
           "ids": [
            "2020-11-19"
           ],
           "legendgroup": "BEKE",
           "marker": {
            "color": "#19d3f3"
           },
           "name": "BEKE",
           "offsetgroup": "BEKE",
           "orientation": "v",
           "showlegend": true,
           "textposition": "auto",
           "type": "bar",
           "x": [
            "REIT"
           ],
           "xaxis": "x",
           "y": [
            8.61
           ],
           "yaxis": "y"
          },
          {
           "alignmentgroup": "True",
           "hoverlabel": {
            "namelength": 0
           },
           "hovertemplate": "symbol=BYDDF<br>date=2020-11-19<br>portfolio=%{x}<br>percent=%{y}",
           "ids": [
            "2020-11-19"
           ],
           "legendgroup": "BYDDF",
           "marker": {
            "color": "#FF6692"
           },
           "name": "BYDDF",
           "offsetgroup": "BYDDF",
           "orientation": "v",
           "showlegend": true,
           "textposition": "auto",
           "type": "bar",
           "x": [
            "Electric Vehicles"
           ],
           "xaxis": "x",
           "y": [
            7.67
           ],
           "yaxis": "y"
          },
          {
           "alignmentgroup": "True",
           "hoverlabel": {
            "namelength": 0
           },
           "hovertemplate": "symbol=CSIQ<br>date=2020-11-19<br>portfolio=%{x}<br>percent=%{y}",
           "ids": [
            "2020-11-19"
           ],
           "legendgroup": "CSIQ",
           "marker": {
            "color": "#B6E880"
           },
           "name": "CSIQ",
           "offsetgroup": "CSIQ",
           "orientation": "v",
           "showlegend": true,
           "textposition": "auto",
           "type": "bar",
           "x": [
            "Electricity Solar"
           ],
           "xaxis": "x",
           "y": [
            18.86
           ],
           "yaxis": "y"
          },
          {
           "alignmentgroup": "True",
           "hoverlabel": {
            "namelength": 0
           },
           "hovertemplate": "symbol=DOCRF<br>date=2020-11-19<br>portfolio=%{x}<br>percent=%{y}",
           "ids": [
            "2020-11-19"
           ],
           "legendgroup": "DOCRF",
           "marker": {
            "color": "#FF97FF"
           },
           "name": "DOCRF",
           "offsetgroup": "DOCRF",
           "orientation": "v",
           "showlegend": true,
           "textposition": "auto",
           "type": "bar",
           "x": [
            "Cloud Retail Apps"
           ],
           "xaxis": "x",
           "y": [
            -5.71
           ],
           "yaxis": "y"
          },
          {
           "alignmentgroup": "True",
           "hoverlabel": {
            "namelength": 0
           },
           "hovertemplate": "symbol=DQ<br>date=2020-11-19<br>portfolio=%{x}<br>percent=%{y}",
           "ids": [
            "2020-11-19"
           ],
           "legendgroup": "DQ",
           "marker": {
            "color": "#FECB52"
           },
           "name": "DQ",
           "offsetgroup": "DQ",
           "orientation": "v",
           "showlegend": true,
           "textposition": "auto",
           "type": "bar",
           "x": [
            "Electricity Solar"
           ],
           "xaxis": "x",
           "y": [
            12.92
           ],
           "yaxis": "y"
          },
          {
           "alignmentgroup": "True",
           "hoverlabel": {
            "namelength": 0
           },
           "hovertemplate": "symbol=ENPH<br>date=2020-11-19<br>portfolio=%{x}<br>percent=%{y}",
           "ids": [
            "2020-11-19"
           ],
           "legendgroup": "ENPH",
           "marker": {
            "color": "#636efa"
           },
           "name": "ENPH",
           "offsetgroup": "ENPH",
           "orientation": "v",
           "showlegend": true,
           "textposition": "auto",
           "type": "bar",
           "x": [
            "Electricity Solar"
           ],
           "xaxis": "x",
           "y": [
            9.05
           ],
           "yaxis": "y"
          },
          {
           "alignmentgroup": "True",
           "hoverlabel": {
            "namelength": 0
           },
           "hovertemplate": "symbol=FFC<br>date=2020-11-19<br>portfolio=%{x}<br>percent=%{y}",
           "ids": [
            "2020-11-19"
           ],
           "legendgroup": "FFC",
           "marker": {
            "color": "#EF553B"
           },
           "name": "FFC",
           "offsetgroup": "FFC",
           "orientation": "v",
           "showlegend": true,
           "textposition": "auto",
           "type": "bar",
           "x": [
            "Dividend"
           ],
           "xaxis": "x",
           "y": [
            1.39
           ],
           "yaxis": "y"
          },
          {
           "alignmentgroup": "True",
           "hoverlabel": {
            "namelength": 0
           },
           "hovertemplate": "symbol=FLC<br>date=2020-11-19<br>portfolio=%{x}<br>percent=%{y}",
           "ids": [
            "2020-11-19"
           ],
           "legendgroup": "FLC",
           "marker": {
            "color": "#00cc96"
           },
           "name": "FLC",
           "offsetgroup": "FLC",
           "orientation": "v",
           "showlegend": true,
           "textposition": "auto",
           "type": "bar",
           "x": [
            "Dividend"
           ],
           "xaxis": "x",
           "y": [
            1.83
           ],
           "yaxis": "y"
          },
          {
           "alignmentgroup": "True",
           "hoverlabel": {
            "namelength": 0
           },
           "hovertemplate": "symbol=FSLR<br>date=2020-11-19<br>portfolio=%{x}<br>percent=%{y}",
           "ids": [
            "2020-11-19"
           ],
           "legendgroup": "FSLR",
           "marker": {
            "color": "#ab63fa"
           },
           "name": "FSLR",
           "offsetgroup": "FSLR",
           "orientation": "v",
           "showlegend": true,
           "textposition": "auto",
           "type": "bar",
           "x": [
            "Electricity Solar"
           ],
           "xaxis": "x",
           "y": [
            12.66
           ],
           "yaxis": "y"
          },
          {
           "alignmentgroup": "True",
           "hoverlabel": {
            "namelength": 0
           },
           "hovertemplate": "symbol=LI<br>date=2020-11-19<br>portfolio=%{x}<br>percent=%{y}",
           "ids": [
            "2020-11-19"
           ],
           "legendgroup": "LI",
           "marker": {
            "color": "#FFA15A"
           },
           "name": "LI",
           "offsetgroup": "LI",
           "orientation": "v",
           "showlegend": true,
           "textposition": "auto",
           "type": "bar",
           "x": [
            "Electric Vehicles"
           ],
           "xaxis": "x",
           "y": [
            7.46
           ],
           "yaxis": "y"
          },
          {
           "alignmentgroup": "True",
           "hoverlabel": {
            "namelength": 0
           },
           "hovertemplate": "symbol=LMND<br>date=2020-11-19<br>portfolio=%{x}<br>percent=%{y}",
           "ids": [
            "2020-11-19"
           ],
           "legendgroup": "LMND",
           "marker": {
            "color": "#19d3f3"
           },
           "name": "LMND",
           "offsetgroup": "LMND",
           "orientation": "v",
           "showlegend": true,
           "textposition": "auto",
           "type": "bar",
           "x": [
            "Insurance"
           ],
           "xaxis": "x",
           "y": [
            20.85
           ],
           "yaxis": "y"
          },
          {
           "alignmentgroup": "True",
           "hoverlabel": {
            "namelength": 0
           },
           "hovertemplate": "symbol=MSFT<br>date=2020-11-19<br>portfolio=%{x}<br>percent=%{y}",
           "ids": [
            "2020-11-19"
           ],
           "legendgroup": "MSFT",
           "marker": {
            "color": "#FF6692"
           },
           "name": "MSFT",
           "offsetgroup": "MSFT",
           "orientation": "v",
           "showlegend": true,
           "textposition": "auto",
           "type": "bar",
           "x": [
            "Mega Capital"
           ],
           "xaxis": "x",
           "y": [
            1.32
           ],
           "yaxis": "y"
          },
          {
           "alignmentgroup": "True",
           "hoverlabel": {
            "namelength": 0
           },
           "hovertemplate": "symbol=NVDA<br>date=2020-11-19<br>portfolio=%{x}<br>percent=%{y}",
           "ids": [
            "2020-11-19"
           ],
           "legendgroup": "NVDA",
           "marker": {
            "color": "#B6E880"
           },
           "name": "NVDA",
           "offsetgroup": "NVDA",
           "orientation": "v",
           "showlegend": true,
           "textposition": "auto",
           "type": "bar",
           "x": [
            "Semiconductors"
           ],
           "xaxis": "x",
           "y": [
            -1.33
           ],
           "yaxis": "y"
          },
          {
           "alignmentgroup": "True",
           "hoverlabel": {
            "namelength": 0
           },
           "hovertemplate": "symbol=QCOM<br>date=2020-11-19<br>portfolio=%{x}<br>percent=%{y}",
           "ids": [
            "2020-11-19"
           ],
           "legendgroup": "QCOM",
           "marker": {
            "color": "#FF97FF"
           },
           "name": "QCOM",
           "offsetgroup": "QCOM",
           "orientation": "v",
           "showlegend": true,
           "textposition": "auto",
           "type": "bar",
           "x": [
            "Semiconductors"
           ],
           "xaxis": "x",
           "y": [
            -2.51
           ],
           "yaxis": "y"
          },
          {
           "alignmentgroup": "True",
           "hoverlabel": {
            "namelength": 0
           },
           "hovertemplate": "symbol=SPWR<br>date=2020-11-19<br>portfolio=%{x}<br>percent=%{y}",
           "ids": [
            "2020-11-19"
           ],
           "legendgroup": "SPWR",
           "marker": {
            "color": "#FECB52"
           },
           "name": "SPWR",
           "offsetgroup": "SPWR",
           "orientation": "v",
           "showlegend": true,
           "textposition": "auto",
           "type": "bar",
           "x": [
            "Electricity Solar"
           ],
           "xaxis": "x",
           "y": [
            10.13
           ],
           "yaxis": "y"
          },
          {
           "alignmentgroup": "True",
           "hoverlabel": {
            "namelength": 0
           },
           "hovertemplate": "symbol=TDF<br>date=2020-11-19<br>portfolio=%{x}<br>percent=%{y}",
           "ids": [
            "2020-11-19"
           ],
           "legendgroup": "TDF",
           "marker": {
            "color": "#636efa"
           },
           "name": "TDF",
           "offsetgroup": "TDF",
           "orientation": "v",
           "showlegend": true,
           "textposition": "auto",
           "type": "bar",
           "x": [
            "CEF"
           ],
           "xaxis": "x",
           "y": [
            1.66
           ],
           "yaxis": "y"
          },
          {
           "alignmentgroup": "True",
           "hoverlabel": {
            "namelength": 0
           },
           "hovertemplate": "symbol=TSM<br>date=2020-11-19<br>portfolio=%{x}<br>percent=%{y}",
           "ids": [
            "2020-11-19"
           ],
           "legendgroup": "TSM",
           "marker": {
            "color": "#EF553B"
           },
           "name": "TSM",
           "offsetgroup": "TSM",
           "orientation": "v",
           "showlegend": true,
           "textposition": "auto",
           "type": "bar",
           "x": [
            "Semiconductors"
           ],
           "xaxis": "x",
           "y": [
            2.2
           ],
           "yaxis": "y"
          },
          {
           "alignmentgroup": "True",
           "hoverlabel": {
            "namelength": 0
           },
           "hovertemplate": "symbol=VWDRY<br>date=2020-11-19<br>portfolio=%{x}<br>percent=%{y}",
           "ids": [
            "2020-11-19"
           ],
           "legendgroup": "VWDRY",
           "marker": {
            "color": "#00cc96"
           },
           "name": "VWDRY",
           "offsetgroup": "VWDRY",
           "orientation": "v",
           "showlegend": true,
           "textposition": "auto",
           "type": "bar",
           "x": [
            "Electricity Wind"
           ],
           "xaxis": "x",
           "y": [
            3.71
           ],
           "yaxis": "y"
          }
         ],
         "name": "2020-11-19"
        },
        {
         "data": [
          {
           "alignmentgroup": "True",
           "hoverlabel": {
            "namelength": 0
           },
           "hovertemplate": "symbol=AAPL<br>date=2020-11-12<br>portfolio=%{x}<br>percent=%{y}",
           "ids": [
            "2020-11-12"
           ],
           "legendgroup": "AAPL",
           "marker": {
            "color": "#636efa"
           },
           "name": "AAPL",
           "offsetgroup": "AAPL",
           "orientation": "v",
           "showlegend": true,
           "textposition": "auto",
           "type": "bar",
           "x": [
            "Mega Capital"
           ],
           "xaxis": "x",
           "y": [
            -2.2
           ],
           "yaxis": "y"
          },
          {
           "alignmentgroup": "True",
           "hoverlabel": {
            "namelength": 0
           },
           "hovertemplate": "symbol=ABBV<br>date=2020-11-12<br>portfolio=%{x}<br>percent=%{y}",
           "ids": [
            "2020-11-12"
           ],
           "legendgroup": "ABBV",
           "marker": {
            "color": "#EF553B"
           },
           "name": "ABBV",
           "offsetgroup": "ABBV",
           "orientation": "v",
           "showlegend": true,
           "textposition": "auto",
           "type": "bar",
           "x": [
            "Biotechnology"
           ],
           "xaxis": "x",
           "y": [
            7.47
           ],
           "yaxis": "y"
          },
          {
           "alignmentgroup": "True",
           "hoverlabel": {
            "namelength": 0
           },
           "hovertemplate": "symbol=AMZN<br>date=2020-11-12<br>portfolio=%{x}<br>percent=%{y}",
           "ids": [
            "2020-11-12"
           ],
           "legendgroup": "AMZN",
           "marker": {
            "color": "#00cc96"
           },
           "name": "AMZN",
           "offsetgroup": "AMZN",
           "orientation": "v",
           "showlegend": true,
           "textposition": "auto",
           "type": "bar",
           "x": [
            "Mega Capital"
           ],
           "xaxis": "x",
           "y": [
            2.73
           ],
           "yaxis": "y"
          },
          {
           "alignmentgroup": "True",
           "hoverlabel": {
            "namelength": 0
           },
           "hovertemplate": "symbol=AVGO<br>date=2020-11-12<br>portfolio=%{x}<br>percent=%{y}",
           "ids": [
            "2020-11-12"
           ],
           "legendgroup": "AVGO",
           "marker": {
            "color": "#ab63fa"
           },
           "name": "AVGO",
           "offsetgroup": "AVGO",
           "orientation": "v",
           "showlegend": true,
           "textposition": "auto",
           "type": "bar",
           "x": [
            "5G"
           ],
           "xaxis": "x",
           "y": [
            6.69
           ],
           "yaxis": "y"
          },
          {
           "alignmentgroup": "True",
           "hoverlabel": {
            "namelength": 0
           },
           "hovertemplate": "symbol=AZRE<br>date=2020-11-12<br>portfolio=%{x}<br>percent=%{y}",
           "ids": [
            "2020-11-12"
           ],
           "legendgroup": "AZRE",
           "marker": {
            "color": "#FFA15A"
           },
           "name": "AZRE",
           "offsetgroup": "AZRE",
           "orientation": "v",
           "showlegend": true,
           "textposition": "auto",
           "type": "bar",
           "x": [
            "Energy Renewalbe"
           ],
           "xaxis": "x",
           "y": [
            32.11
           ],
           "yaxis": "y"
          },
          {
           "alignmentgroup": "True",
           "hoverlabel": {
            "namelength": 0
           },
           "hovertemplate": "symbol=BEKE<br>date=2020-11-12<br>portfolio=%{x}<br>percent=%{y}",
           "ids": [
            "2020-11-12"
           ],
           "legendgroup": "BEKE",
           "marker": {
            "color": "#19d3f3"
           },
           "name": "BEKE",
           "offsetgroup": "BEKE",
           "orientation": "v",
           "showlegend": true,
           "textposition": "auto",
           "type": "bar",
           "x": [
            "REIT"
           ],
           "xaxis": "x",
           "y": [
            -4.7
           ],
           "yaxis": "y"
          },
          {
           "alignmentgroup": "True",
           "hoverlabel": {
            "namelength": 0
           },
           "hovertemplate": "symbol=BYDDF<br>date=2020-11-12<br>portfolio=%{x}<br>percent=%{y}",
           "ids": [
            "2020-11-12"
           ],
           "legendgroup": "BYDDF",
           "marker": {
            "color": "#FF6692"
           },
           "name": "BYDDF",
           "offsetgroup": "BYDDF",
           "orientation": "v",
           "showlegend": true,
           "textposition": "auto",
           "type": "bar",
           "x": [
            "Electric Vehicles"
           ],
           "xaxis": "x",
           "y": [
            3.13
           ],
           "yaxis": "y"
          },
          {
           "alignmentgroup": "True",
           "hoverlabel": {
            "namelength": 0
           },
           "hovertemplate": "symbol=CSIQ<br>date=2020-11-12<br>portfolio=%{x}<br>percent=%{y}",
           "ids": [
            "2020-11-12"
           ],
           "legendgroup": "CSIQ",
           "marker": {
            "color": "#B6E880"
           },
           "name": "CSIQ",
           "offsetgroup": "CSIQ",
           "orientation": "v",
           "showlegend": true,
           "textposition": "auto",
           "type": "bar",
           "x": [
            "Electricity Solar"
           ],
           "xaxis": "x",
           "y": [
            12.05
           ],
           "yaxis": "y"
          },
          {
           "alignmentgroup": "True",
           "hoverlabel": {
            "namelength": 0
           },
           "hovertemplate": "symbol=DOCRF<br>date=2020-11-12<br>portfolio=%{x}<br>percent=%{y}",
           "ids": [
            "2020-11-12"
           ],
           "legendgroup": "DOCRF",
           "marker": {
            "color": "#FF97FF"
           },
           "name": "DOCRF",
           "offsetgroup": "DOCRF",
           "orientation": "v",
           "showlegend": true,
           "textposition": "auto",
           "type": "bar",
           "x": [
            "Cloud Retail Apps"
           ],
           "xaxis": "x",
           "y": [
            -10.19
           ],
           "yaxis": "y"
          },
          {
           "alignmentgroup": "True",
           "hoverlabel": {
            "namelength": 0
           },
           "hovertemplate": "symbol=DQ<br>date=2020-11-12<br>portfolio=%{x}<br>percent=%{y}",
           "ids": [
            "2020-11-12"
           ],
           "legendgroup": "DQ",
           "marker": {
            "color": "#FECB52"
           },
           "name": "DQ",
           "offsetgroup": "DQ",
           "orientation": "v",
           "showlegend": true,
           "textposition": "auto",
           "type": "bar",
           "x": [
            "Electricity Solar"
           ],
           "xaxis": "x",
           "y": [
            6.17
           ],
           "yaxis": "y"
          },
          {
           "alignmentgroup": "True",
           "hoverlabel": {
            "namelength": 0
           },
           "hovertemplate": "symbol=ENPH<br>date=2020-11-12<br>portfolio=%{x}<br>percent=%{y}",
           "ids": [
            "2020-11-12"
           ],
           "legendgroup": "ENPH",
           "marker": {
            "color": "#636efa"
           },
           "name": "ENPH",
           "offsetgroup": "ENPH",
           "orientation": "v",
           "showlegend": true,
           "textposition": "auto",
           "type": "bar",
           "x": [
            "Electricity Solar"
           ],
           "xaxis": "x",
           "y": [
            19.92
           ],
           "yaxis": "y"
          },
          {
           "alignmentgroup": "True",
           "hoverlabel": {
            "namelength": 0
           },
           "hovertemplate": "symbol=FFC<br>date=2020-11-12<br>portfolio=%{x}<br>percent=%{y}",
           "ids": [
            "2020-11-12"
           ],
           "legendgroup": "FFC",
           "marker": {
            "color": "#EF553B"
           },
           "name": "FFC",
           "offsetgroup": "FFC",
           "orientation": "v",
           "showlegend": true,
           "textposition": "auto",
           "type": "bar",
           "x": [
            "Dividend"
           ],
           "xaxis": "x",
           "y": [
            3.26
           ],
           "yaxis": "y"
          },
          {
           "alignmentgroup": "True",
           "hoverlabel": {
            "namelength": 0
           },
           "hovertemplate": "symbol=FLC<br>date=2020-11-12<br>portfolio=%{x}<br>percent=%{y}",
           "ids": [
            "2020-11-12"
           ],
           "legendgroup": "FLC",
           "marker": {
            "color": "#00cc96"
           },
           "name": "FLC",
           "offsetgroup": "FLC",
           "orientation": "v",
           "showlegend": true,
           "textposition": "auto",
           "type": "bar",
           "x": [
            "Dividend"
           ],
           "xaxis": "x",
           "y": [
            3.59
           ],
           "yaxis": "y"
          },
          {
           "alignmentgroup": "True",
           "hoverlabel": {
            "namelength": 0
           },
           "hovertemplate": "symbol=FSLR<br>date=2020-11-12<br>portfolio=%{x}<br>percent=%{y}",
           "ids": [
            "2020-11-12"
           ],
           "legendgroup": "FSLR",
           "marker": {
            "color": "#ab63fa"
           },
           "name": "FSLR",
           "offsetgroup": "FSLR",
           "orientation": "v",
           "showlegend": true,
           "textposition": "auto",
           "type": "bar",
           "x": [
            "Electricity Solar"
           ],
           "xaxis": "x",
           "y": [
            16.34
           ],
           "yaxis": "y"
          },
          {
           "alignmentgroup": "True",
           "hoverlabel": {
            "namelength": 0
           },
           "hovertemplate": "symbol=LI<br>date=2020-11-12<br>portfolio=%{x}<br>percent=%{y}",
           "ids": [
            "2020-11-12"
           ],
           "legendgroup": "LI",
           "marker": {
            "color": "#FFA15A"
           },
           "name": "LI",
           "offsetgroup": "LI",
           "orientation": "v",
           "showlegend": true,
           "textposition": "auto",
           "type": "bar",
           "x": [
            "Electric Vehicles"
           ],
           "xaxis": "x",
           "y": [
            24.23
           ],
           "yaxis": "y"
          },
          {
           "alignmentgroup": "True",
           "hoverlabel": {
            "namelength": 0
           },
           "hovertemplate": "symbol=LMND<br>date=2020-11-12<br>portfolio=%{x}<br>percent=%{y}",
           "ids": [
            "2020-11-12"
           ],
           "legendgroup": "LMND",
           "marker": {
            "color": "#19d3f3"
           },
           "name": "LMND",
           "offsetgroup": "LMND",
           "orientation": "v",
           "showlegend": true,
           "textposition": "auto",
           "type": "bar",
           "x": [
            "Insurance"
           ],
           "xaxis": "x",
           "y": [
            34.16
           ],
           "yaxis": "y"
          },
          {
           "alignmentgroup": "True",
           "hoverlabel": {
            "namelength": 0
           },
           "hovertemplate": "symbol=MSFT<br>date=2020-11-12<br>portfolio=%{x}<br>percent=%{y}",
           "ids": [
            "2020-11-12"
           ],
           "legendgroup": "MSFT",
           "marker": {
            "color": "#FF6692"
           },
           "name": "MSFT",
           "offsetgroup": "MSFT",
           "orientation": "v",
           "showlegend": true,
           "textposition": "auto",
           "type": "bar",
           "x": [
            "Mega Capital"
           ],
           "xaxis": "x",
           "y": [
            0.16
           ],
           "yaxis": "y"
          },
          {
           "alignmentgroup": "True",
           "hoverlabel": {
            "namelength": 0
           },
           "hovertemplate": "symbol=NVDA<br>date=2020-11-12<br>portfolio=%{x}<br>percent=%{y}",
           "ids": [
            "2020-11-12"
           ],
           "legendgroup": "NVDA",
           "marker": {
            "color": "#B6E880"
           },
           "name": "NVDA",
           "offsetgroup": "NVDA",
           "orientation": "v",
           "showlegend": true,
           "textposition": "auto",
           "type": "bar",
           "x": [
            "Semiconductors"
           ],
           "xaxis": "x",
           "y": [
            -1.45
           ],
           "yaxis": "y"
          },
          {
           "alignmentgroup": "True",
           "hoverlabel": {
            "namelength": 0
           },
           "hovertemplate": "symbol=QCOM<br>date=2020-11-12<br>portfolio=%{x}<br>percent=%{y}",
           "ids": [
            "2020-11-12"
           ],
           "legendgroup": "QCOM",
           "marker": {
            "color": "#FF97FF"
           },
           "name": "QCOM",
           "offsetgroup": "QCOM",
           "orientation": "v",
           "showlegend": true,
           "textposition": "auto",
           "type": "bar",
           "x": [
            "Semiconductors"
           ],
           "xaxis": "x",
           "y": [
            -0.06
           ],
           "yaxis": "y"
          },
          {
           "alignmentgroup": "True",
           "hoverlabel": {
            "namelength": 0
           },
           "hovertemplate": "symbol=SPWR<br>date=2020-11-12<br>portfolio=%{x}<br>percent=%{y}",
           "ids": [
            "2020-11-12"
           ],
           "legendgroup": "SPWR",
           "marker": {
            "color": "#FECB52"
           },
           "name": "SPWR",
           "offsetgroup": "SPWR",
           "orientation": "v",
           "showlegend": true,
           "textposition": "auto",
           "type": "bar",
           "x": [
            "Electricity Solar"
           ],
           "xaxis": "x",
           "y": [
            23.65
           ],
           "yaxis": "y"
          },
          {
           "alignmentgroup": "True",
           "hoverlabel": {
            "namelength": 0
           },
           "hovertemplate": "symbol=TDF<br>date=2020-11-12<br>portfolio=%{x}<br>percent=%{y}",
           "ids": [
            "2020-11-12"
           ],
           "legendgroup": "TDF",
           "marker": {
            "color": "#636efa"
           },
           "name": "TDF",
           "offsetgroup": "TDF",
           "orientation": "v",
           "showlegend": true,
           "textposition": "auto",
           "type": "bar",
           "x": [
            "CEF"
           ],
           "xaxis": "x",
           "y": [
            0.87
           ],
           "yaxis": "y"
          },
          {
           "alignmentgroup": "True",
           "hoverlabel": {
            "namelength": 0
           },
           "hovertemplate": "symbol=TSM<br>date=2020-11-12<br>portfolio=%{x}<br>percent=%{y}",
           "ids": [
            "2020-11-12"
           ],
           "legendgroup": "TSM",
           "marker": {
            "color": "#EF553B"
           },
           "name": "TSM",
           "offsetgroup": "TSM",
           "orientation": "v",
           "showlegend": true,
           "textposition": "auto",
           "type": "bar",
           "x": [
            "Semiconductors"
           ],
           "xaxis": "x",
           "y": [
            9.93
           ],
           "yaxis": "y"
          },
          {
           "alignmentgroup": "True",
           "hoverlabel": {
            "namelength": 0
           },
           "hovertemplate": "symbol=VWDRY<br>date=2020-11-12<br>portfolio=%{x}<br>percent=%{y}",
           "ids": [
            "2020-11-12"
           ],
           "legendgroup": "VWDRY",
           "marker": {
            "color": "#00cc96"
           },
           "name": "VWDRY",
           "offsetgroup": "VWDRY",
           "orientation": "v",
           "showlegend": true,
           "textposition": "auto",
           "type": "bar",
           "x": [
            "Electricity Wind"
           ],
           "xaxis": "x",
           "y": [
            5.85
           ],
           "yaxis": "y"
          }
         ],
         "name": "2020-11-12"
        },
        {
         "data": [
          {
           "alignmentgroup": "True",
           "hoverlabel": {
            "namelength": 0
           },
           "hovertemplate": "symbol=AAPL<br>date=2020-11-05<br>portfolio=%{x}<br>percent=%{y}",
           "ids": [
            "2020-11-05"
           ],
           "legendgroup": "AAPL",
           "marker": {
            "color": "#636efa"
           },
           "name": "AAPL",
           "offsetgroup": "AAPL",
           "orientation": "v",
           "showlegend": true,
           "textposition": "auto",
           "type": "bar",
           "x": [
            "Mega Capital"
           ],
           "xaxis": "x",
           "y": [
            -1.88
           ],
           "yaxis": "y"
          },
          {
           "alignmentgroup": "True",
           "hoverlabel": {
            "namelength": 0
           },
           "hovertemplate": "symbol=ABBV<br>date=2020-11-05<br>portfolio=%{x}<br>percent=%{y}",
           "ids": [
            "2020-11-05"
           ],
           "legendgroup": "ABBV",
           "marker": {
            "color": "#EF553B"
           },
           "name": "ABBV",
           "offsetgroup": "ABBV",
           "orientation": "v",
           "showlegend": true,
           "textposition": "auto",
           "type": "bar",
           "x": [
            "Biotechnology"
           ],
           "xaxis": "x",
           "y": [
            11.95
           ],
           "yaxis": "y"
          },
          {
           "alignmentgroup": "True",
           "hoverlabel": {
            "namelength": 0
           },
           "hovertemplate": "symbol=AMZN<br>date=2020-11-05<br>portfolio=%{x}<br>percent=%{y}",
           "ids": [
            "2020-11-05"
           ],
           "legendgroup": "AMZN",
           "marker": {
            "color": "#00cc96"
           },
           "name": "AMZN",
           "offsetgroup": "AMZN",
           "orientation": "v",
           "showlegend": true,
           "textposition": "auto",
           "type": "bar",
           "x": [
            "Mega Capital"
           ],
           "xaxis": "x",
           "y": [
            -3.81
           ],
           "yaxis": "y"
          },
          {
           "alignmentgroup": "True",
           "hoverlabel": {
            "namelength": 0
           },
           "hovertemplate": "symbol=AVGO<br>date=2020-11-05<br>portfolio=%{x}<br>percent=%{y}",
           "ids": [
            "2020-11-05"
           ],
           "legendgroup": "AVGO",
           "marker": {
            "color": "#ab63fa"
           },
           "name": "AVGO",
           "offsetgroup": "AVGO",
           "orientation": "v",
           "showlegend": true,
           "textposition": "auto",
           "type": "bar",
           "x": [
            "5G"
           ],
           "xaxis": "x",
           "y": [
            3.7
           ],
           "yaxis": "y"
          },
          {
           "alignmentgroup": "True",
           "hoverlabel": {
            "namelength": 0
           },
           "hovertemplate": "symbol=AZRE<br>date=2020-11-05<br>portfolio=%{x}<br>percent=%{y}",
           "ids": [
            "2020-11-05"
           ],
           "legendgroup": "AZRE",
           "marker": {
            "color": "#FFA15A"
           },
           "name": "AZRE",
           "offsetgroup": "AZRE",
           "orientation": "v",
           "showlegend": true,
           "textposition": "auto",
           "type": "bar",
           "x": [
            "Energy Renewalbe"
           ],
           "xaxis": "x",
           "y": [
            24.34
           ],
           "yaxis": "y"
          },
          {
           "alignmentgroup": "True",
           "hoverlabel": {
            "namelength": 0
           },
           "hovertemplate": "symbol=BEKE<br>date=2020-11-05<br>portfolio=%{x}<br>percent=%{y}",
           "ids": [
            "2020-11-05"
           ],
           "legendgroup": "BEKE",
           "marker": {
            "color": "#19d3f3"
           },
           "name": "BEKE",
           "offsetgroup": "BEKE",
           "orientation": "v",
           "showlegend": true,
           "textposition": "auto",
           "type": "bar",
           "x": [
            "REIT"
           ],
           "xaxis": "x",
           "y": [
            -11.32
           ],
           "yaxis": "y"
          },
          {
           "alignmentgroup": "True",
           "hoverlabel": {
            "namelength": 0
           },
           "hovertemplate": "symbol=BYDDF<br>date=2020-11-05<br>portfolio=%{x}<br>percent=%{y}",
           "ids": [
            "2020-11-05"
           ],
           "legendgroup": "BYDDF",
           "marker": {
            "color": "#FF6692"
           },
           "name": "BYDDF",
           "offsetgroup": "BYDDF",
           "orientation": "v",
           "showlegend": true,
           "textposition": "auto",
           "type": "bar",
           "x": [
            "Electric Vehicles"
           ],
           "xaxis": "x",
           "y": [
            -5.75
           ],
           "yaxis": "y"
          },
          {
           "alignmentgroup": "True",
           "hoverlabel": {
            "namelength": 0
           },
           "hovertemplate": "symbol=CSIQ<br>date=2020-11-05<br>portfolio=%{x}<br>percent=%{y}",
           "ids": [
            "2020-11-05"
           ],
           "legendgroup": "CSIQ",
           "marker": {
            "color": "#B6E880"
           },
           "name": "CSIQ",
           "offsetgroup": "CSIQ",
           "orientation": "v",
           "showlegend": true,
           "textposition": "auto",
           "type": "bar",
           "x": [
            "Electricity Solar"
           ],
           "xaxis": "x",
           "y": [
            10.51
           ],
           "yaxis": "y"
          },
          {
           "alignmentgroup": "True",
           "hoverlabel": {
            "namelength": 0
           },
           "hovertemplate": "symbol=DOCRF<br>date=2020-11-05<br>portfolio=%{x}<br>percent=%{y}",
           "ids": [
            "2020-11-05"
           ],
           "legendgroup": "DOCRF",
           "marker": {
            "color": "#FF97FF"
           },
           "name": "DOCRF",
           "offsetgroup": "DOCRF",
           "orientation": "v",
           "showlegend": true,
           "textposition": "auto",
           "type": "bar",
           "x": [
            "Cloud Retail Apps"
           ],
           "xaxis": "x",
           "y": [
            -16.29
           ],
           "yaxis": "y"
          },
          {
           "alignmentgroup": "True",
           "hoverlabel": {
            "namelength": 0
           },
           "hovertemplate": "symbol=DQ<br>date=2020-11-05<br>portfolio=%{x}<br>percent=%{y}",
           "ids": [
            "2020-11-05"
           ],
           "legendgroup": "DQ",
           "marker": {
            "color": "#FECB52"
           },
           "name": "DQ",
           "offsetgroup": "DQ",
           "orientation": "v",
           "showlegend": true,
           "textposition": "auto",
           "type": "bar",
           "x": [
            "Electricity Solar"
           ],
           "xaxis": "x",
           "y": [
            2.2
           ],
           "yaxis": "y"
          },
          {
           "alignmentgroup": "True",
           "hoverlabel": {
            "namelength": 0
           },
           "hovertemplate": "symbol=ENPH<br>date=2020-11-05<br>portfolio=%{x}<br>percent=%{y}",
           "ids": [
            "2020-11-05"
           ],
           "legendgroup": "ENPH",
           "marker": {
            "color": "#636efa"
           },
           "name": "ENPH",
           "offsetgroup": "ENPH",
           "orientation": "v",
           "showlegend": true,
           "textposition": "auto",
           "type": "bar",
           "x": [
            "Electricity Solar"
           ],
           "xaxis": "x",
           "y": [
            16.88
           ],
           "yaxis": "y"
          },
          {
           "alignmentgroup": "True",
           "hoverlabel": {
            "namelength": 0
           },
           "hovertemplate": "symbol=FFC<br>date=2020-11-05<br>portfolio=%{x}<br>percent=%{y}",
           "ids": [
            "2020-11-05"
           ],
           "legendgroup": "FFC",
           "marker": {
            "color": "#EF553B"
           },
           "name": "FFC",
           "offsetgroup": "FFC",
           "orientation": "v",
           "showlegend": true,
           "textposition": "auto",
           "type": "bar",
           "x": [
            "Dividend"
           ],
           "xaxis": "x",
           "y": [
            6.1
           ],
           "yaxis": "y"
          },
          {
           "alignmentgroup": "True",
           "hoverlabel": {
            "namelength": 0
           },
           "hovertemplate": "symbol=FLC<br>date=2020-11-05<br>portfolio=%{x}<br>percent=%{y}",
           "ids": [
            "2020-11-05"
           ],
           "legendgroup": "FLC",
           "marker": {
            "color": "#00cc96"
           },
           "name": "FLC",
           "offsetgroup": "FLC",
           "orientation": "v",
           "showlegend": true,
           "textposition": "auto",
           "type": "bar",
           "x": [
            "Dividend"
           ],
           "xaxis": "x",
           "y": [
            8.72
           ],
           "yaxis": "y"
          },
          {
           "alignmentgroup": "True",
           "hoverlabel": {
            "namelength": 0
           },
           "hovertemplate": "symbol=FSLR<br>date=2020-11-05<br>portfolio=%{x}<br>percent=%{y}",
           "ids": [
            "2020-11-05"
           ],
           "legendgroup": "FSLR",
           "marker": {
            "color": "#ab63fa"
           },
           "name": "FSLR",
           "offsetgroup": "FSLR",
           "orientation": "v",
           "showlegend": true,
           "textposition": "auto",
           "type": "bar",
           "x": [
            "Electricity Solar"
           ],
           "xaxis": "x",
           "y": [
            8.98
           ],
           "yaxis": "y"
          },
          {
           "alignmentgroup": "True",
           "hoverlabel": {
            "namelength": 0
           },
           "hovertemplate": "symbol=LI<br>date=2020-11-05<br>portfolio=%{x}<br>percent=%{y}",
           "ids": [
            "2020-11-05"
           ],
           "legendgroup": "LI",
           "marker": {
            "color": "#FFA15A"
           },
           "name": "LI",
           "offsetgroup": "LI",
           "orientation": "v",
           "showlegend": true,
           "textposition": "auto",
           "type": "bar",
           "x": [
            "Electric Vehicles"
           ],
           "xaxis": "x",
           "y": [
            40.55
           ],
           "yaxis": "y"
          },
          {
           "alignmentgroup": "True",
           "hoverlabel": {
            "namelength": 0
           },
           "hovertemplate": "symbol=LMND<br>date=2020-11-05<br>portfolio=%{x}<br>percent=%{y}",
           "ids": [
            "2020-11-05"
           ],
           "legendgroup": "LMND",
           "marker": {
            "color": "#19d3f3"
           },
           "name": "LMND",
           "offsetgroup": "LMND",
           "orientation": "v",
           "showlegend": true,
           "textposition": "auto",
           "type": "bar",
           "x": [
            "Insurance"
           ],
           "xaxis": "x",
           "y": [
            17.48
           ],
           "yaxis": "y"
          },
          {
           "alignmentgroup": "True",
           "hoverlabel": {
            "namelength": 0
           },
           "hovertemplate": "symbol=MSFT<br>date=2020-11-05<br>portfolio=%{x}<br>percent=%{y}",
           "ids": [
            "2020-11-05"
           ],
           "legendgroup": "MSFT",
           "marker": {
            "color": "#FF6692"
           },
           "name": "MSFT",
           "offsetgroup": "MSFT",
           "orientation": "v",
           "showlegend": true,
           "textposition": "auto",
           "type": "bar",
           "x": [
            "Mega Capital"
           ],
           "xaxis": "x",
           "y": [
            -3.36
           ],
           "yaxis": "y"
          },
          {
           "alignmentgroup": "True",
           "hoverlabel": {
            "namelength": 0
           },
           "hovertemplate": "symbol=NVDA<br>date=2020-11-05<br>portfolio=%{x}<br>percent=%{y}",
           "ids": [
            "2020-11-05"
           ],
           "legendgroup": "NVDA",
           "marker": {
            "color": "#B6E880"
           },
           "name": "NVDA",
           "offsetgroup": "NVDA",
           "orientation": "v",
           "showlegend": true,
           "textposition": "auto",
           "type": "bar",
           "x": [
            "Semiconductors"
           ],
           "xaxis": "x",
           "y": [
            -6.35
           ],
           "yaxis": "y"
          },
          {
           "alignmentgroup": "True",
           "hoverlabel": {
            "namelength": 0
           },
           "hovertemplate": "symbol=QCOM<br>date=2020-11-05<br>portfolio=%{x}<br>percent=%{y}",
           "ids": [
            "2020-11-05"
           ],
           "legendgroup": "QCOM",
           "marker": {
            "color": "#FF97FF"
           },
           "name": "QCOM",
           "offsetgroup": "QCOM",
           "orientation": "v",
           "showlegend": true,
           "textposition": "auto",
           "type": "bar",
           "x": [
            "Semiconductors"
           ],
           "xaxis": "x",
           "y": [
            -1.09
           ],
           "yaxis": "y"
          },
          {
           "alignmentgroup": "True",
           "hoverlabel": {
            "namelength": 0
           },
           "hovertemplate": "symbol=SPWR<br>date=2020-11-05<br>portfolio=%{x}<br>percent=%{y}",
           "ids": [
            "2020-11-05"
           ],
           "legendgroup": "SPWR",
           "marker": {
            "color": "#FECB52"
           },
           "name": "SPWR",
           "offsetgroup": "SPWR",
           "orientation": "v",
           "showlegend": true,
           "textposition": "auto",
           "type": "bar",
           "x": [
            "Electricity Solar"
           ],
           "xaxis": "x",
           "y": [
            19.44
           ],
           "yaxis": "y"
          },
          {
           "alignmentgroup": "True",
           "hoverlabel": {
            "namelength": 0
           },
           "hovertemplate": "symbol=TDF<br>date=2020-11-05<br>portfolio=%{x}<br>percent=%{y}",
           "ids": [
            "2020-11-05"
           ],
           "legendgroup": "TDF",
           "marker": {
            "color": "#636efa"
           },
           "name": "TDF",
           "offsetgroup": "TDF",
           "orientation": "v",
           "showlegend": true,
           "textposition": "auto",
           "type": "bar",
           "x": [
            "CEF"
           ],
           "xaxis": "x",
           "y": [
            -1.29
           ],
           "yaxis": "y"
          },
          {
           "alignmentgroup": "True",
           "hoverlabel": {
            "namelength": 0
           },
           "hovertemplate": "symbol=TSM<br>date=2020-11-05<br>portfolio=%{x}<br>percent=%{y}",
           "ids": [
            "2020-11-05"
           ],
           "legendgroup": "TSM",
           "marker": {
            "color": "#EF553B"
           },
           "name": "TSM",
           "offsetgroup": "TSM",
           "orientation": "v",
           "showlegend": true,
           "textposition": "auto",
           "type": "bar",
           "x": [
            "Semiconductors"
           ],
           "xaxis": "x",
           "y": [
            9.19
           ],
           "yaxis": "y"
          },
          {
           "alignmentgroup": "True",
           "hoverlabel": {
            "namelength": 0
           },
           "hovertemplate": "symbol=VWDRY<br>date=2020-11-05<br>portfolio=%{x}<br>percent=%{y}",
           "ids": [
            "2020-11-05"
           ],
           "legendgroup": "VWDRY",
           "marker": {
            "color": "#00cc96"
           },
           "name": "VWDRY",
           "offsetgroup": "VWDRY",
           "orientation": "v",
           "showlegend": true,
           "textposition": "auto",
           "type": "bar",
           "x": [
            "Electricity Wind"
           ],
           "xaxis": "x",
           "y": [
            8.43
           ],
           "yaxis": "y"
          }
         ],
         "name": "2020-11-05"
        },
        {
         "data": [
          {
           "alignmentgroup": "True",
           "hoverlabel": {
            "namelength": 0
           },
           "hovertemplate": "symbol=AAPL<br>date=2020-10-29<br>portfolio=%{x}<br>percent=%{y}",
           "ids": [
            "2020-10-29"
           ],
           "legendgroup": "AAPL",
           "marker": {
            "color": "#636efa"
           },
           "name": "AAPL",
           "offsetgroup": "AAPL",
           "orientation": "v",
           "showlegend": true,
           "textposition": "auto",
           "type": "bar",
           "x": [
            "Mega Capital"
           ],
           "xaxis": "x",
           "y": [
            1.28
           ],
           "yaxis": "y"
          },
          {
           "alignmentgroup": "True",
           "hoverlabel": {
            "namelength": 0
           },
           "hovertemplate": "symbol=ABBV<br>date=2020-10-29<br>portfolio=%{x}<br>percent=%{y}",
           "ids": [
            "2020-10-29"
           ],
           "legendgroup": "ABBV",
           "marker": {
            "color": "#EF553B"
           },
           "name": "ABBV",
           "offsetgroup": "ABBV",
           "orientation": "v",
           "showlegend": true,
           "textposition": "auto",
           "type": "bar",
           "x": [
            "Biotechnology"
           ],
           "xaxis": "x",
           "y": [
            30.02
           ],
           "yaxis": "y"
          },
          {
           "alignmentgroup": "True",
           "hoverlabel": {
            "namelength": 0
           },
           "hovertemplate": "symbol=AMZN<br>date=2020-10-29<br>portfolio=%{x}<br>percent=%{y}",
           "ids": [
            "2020-10-29"
           ],
           "legendgroup": "AMZN",
           "marker": {
            "color": "#00cc96"
           },
           "name": "AMZN",
           "offsetgroup": "AMZN",
           "orientation": "v",
           "showlegend": true,
           "textposition": "auto",
           "type": "bar",
           "x": [
            "Mega Capital"
           ],
           "xaxis": "x",
           "y": [
            -0.49
           ],
           "yaxis": "y"
          },
          {
           "alignmentgroup": "True",
           "hoverlabel": {
            "namelength": 0
           },
           "hovertemplate": "symbol=AVGO<br>date=2020-10-29<br>portfolio=%{x}<br>percent=%{y}",
           "ids": [
            "2020-10-29"
           ],
           "legendgroup": "AVGO",
           "marker": {
            "color": "#ab63fa"
           },
           "name": "AVGO",
           "offsetgroup": "AVGO",
           "orientation": "v",
           "showlegend": true,
           "textposition": "auto",
           "type": "bar",
           "x": [
            "5G"
           ],
           "xaxis": "x",
           "y": [
            11.25
           ],
           "yaxis": "y"
          },
          {
           "alignmentgroup": "True",
           "hoverlabel": {
            "namelength": 0
           },
           "hovertemplate": "symbol=AZRE<br>date=2020-10-29<br>portfolio=%{x}<br>percent=%{y}",
           "ids": [
            "2020-10-29"
           ],
           "legendgroup": "AZRE",
           "marker": {
            "color": "#FFA15A"
           },
           "name": "AZRE",
           "offsetgroup": "AZRE",
           "orientation": "v",
           "showlegend": true,
           "textposition": "auto",
           "type": "bar",
           "x": [
            "Energy Renewalbe"
           ],
           "xaxis": "x",
           "y": [
            34.51
           ],
           "yaxis": "y"
          },
          {
           "alignmentgroup": "True",
           "hoverlabel": {
            "namelength": 0
           },
           "hovertemplate": "symbol=BEKE<br>date=2020-10-29<br>portfolio=%{x}<br>percent=%{y}",
           "ids": [
            "2020-10-29"
           ],
           "legendgroup": "BEKE",
           "marker": {
            "color": "#19d3f3"
           },
           "name": "BEKE",
           "offsetgroup": "BEKE",
           "orientation": "v",
           "showlegend": true,
           "textposition": "auto",
           "type": "bar",
           "x": [
            "REIT"
           ],
           "xaxis": "x",
           "y": [
            -9.95
           ],
           "yaxis": "y"
          },
          {
           "alignmentgroup": "True",
           "hoverlabel": {
            "namelength": 0
           },
           "hovertemplate": "symbol=BYDDF<br>date=2020-10-29<br>portfolio=%{x}<br>percent=%{y}",
           "ids": [
            "2020-10-29"
           ],
           "legendgroup": "BYDDF",
           "marker": {
            "color": "#FF6692"
           },
           "name": "BYDDF",
           "offsetgroup": "BYDDF",
           "orientation": "v",
           "showlegend": true,
           "textposition": "auto",
           "type": "bar",
           "x": [
            "Electric Vehicles"
           ],
           "xaxis": "x",
           "y": [
            18.49
           ],
           "yaxis": "y"
          },
          {
           "alignmentgroup": "True",
           "hoverlabel": {
            "namelength": 0
           },
           "hovertemplate": "symbol=CSIQ<br>date=2020-10-29<br>portfolio=%{x}<br>percent=%{y}",
           "ids": [
            "2020-10-29"
           ],
           "legendgroup": "CSIQ",
           "marker": {
            "color": "#B6E880"
           },
           "name": "CSIQ",
           "offsetgroup": "CSIQ",
           "orientation": "v",
           "showlegend": true,
           "textposition": "auto",
           "type": "bar",
           "x": [
            "Electricity Solar"
           ],
           "xaxis": "x",
           "y": [
            17.22
           ],
           "yaxis": "y"
          },
          {
           "alignmentgroup": "True",
           "hoverlabel": {
            "namelength": 0
           },
           "hovertemplate": "symbol=DOCRF<br>date=2020-10-29<br>portfolio=%{x}<br>percent=%{y}",
           "ids": [
            "2020-10-29"
           ],
           "legendgroup": "DOCRF",
           "marker": {
            "color": "#FF97FF"
           },
           "name": "DOCRF",
           "offsetgroup": "DOCRF",
           "orientation": "v",
           "showlegend": true,
           "textposition": "auto",
           "type": "bar",
           "x": [
            "Cloud Retail Apps"
           ],
           "xaxis": "x",
           "y": [
            -15.72
           ],
           "yaxis": "y"
          },
          {
           "alignmentgroup": "True",
           "hoverlabel": {
            "namelength": 0
           },
           "hovertemplate": "symbol=DQ<br>date=2020-10-29<br>portfolio=%{x}<br>percent=%{y}",
           "ids": [
            "2020-10-29"
           ],
           "legendgroup": "DQ",
           "marker": {
            "color": "#FECB52"
           },
           "name": "DQ",
           "offsetgroup": "DQ",
           "orientation": "v",
           "showlegend": true,
           "textposition": "auto",
           "type": "bar",
           "x": [
            "Electricity Solar"
           ],
           "xaxis": "x",
           "y": [
            20.57
           ],
           "yaxis": "y"
          },
          {
           "alignmentgroup": "True",
           "hoverlabel": {
            "namelength": 0
           },
           "hovertemplate": "symbol=ENPH<br>date=2020-10-29<br>portfolio=%{x}<br>percent=%{y}",
           "ids": [
            "2020-10-29"
           ],
           "legendgroup": "ENPH",
           "marker": {
            "color": "#636efa"
           },
           "name": "ENPH",
           "offsetgroup": "ENPH",
           "orientation": "v",
           "showlegend": true,
           "textposition": "auto",
           "type": "bar",
           "x": [
            "Electricity Solar"
           ],
           "xaxis": "x",
           "y": [
            37.12
           ],
           "yaxis": "y"
          },
          {
           "alignmentgroup": "True",
           "hoverlabel": {
            "namelength": 0
           },
           "hovertemplate": "symbol=FFC<br>date=2020-10-29<br>portfolio=%{x}<br>percent=%{y}",
           "ids": [
            "2020-10-29"
           ],
           "legendgroup": "FFC",
           "marker": {
            "color": "#EF553B"
           },
           "name": "FFC",
           "offsetgroup": "FFC",
           "orientation": "v",
           "showlegend": true,
           "textposition": "auto",
           "type": "bar",
           "x": [
            "Dividend"
           ],
           "xaxis": "x",
           "y": [
            9.04
           ],
           "yaxis": "y"
          },
          {
           "alignmentgroup": "True",
           "hoverlabel": {
            "namelength": 0
           },
           "hovertemplate": "symbol=FLC<br>date=2020-10-29<br>portfolio=%{x}<br>percent=%{y}",
           "ids": [
            "2020-10-29"
           ],
           "legendgroup": "FLC",
           "marker": {
            "color": "#00cc96"
           },
           "name": "FLC",
           "offsetgroup": "FLC",
           "orientation": "v",
           "showlegend": true,
           "textposition": "auto",
           "type": "bar",
           "x": [
            "Dividend"
           ],
           "xaxis": "x",
           "y": [
            9.84
           ],
           "yaxis": "y"
          },
          {
           "alignmentgroup": "True",
           "hoverlabel": {
            "namelength": 0
           },
           "hovertemplate": "symbol=FSLR<br>date=2020-10-29<br>portfolio=%{x}<br>percent=%{y}",
           "ids": [
            "2020-10-29"
           ],
           "legendgroup": "FSLR",
           "marker": {
            "color": "#ab63fa"
           },
           "name": "FSLR",
           "offsetgroup": "FSLR",
           "orientation": "v",
           "showlegend": true,
           "textposition": "auto",
           "type": "bar",
           "x": [
            "Electricity Solar"
           ],
           "xaxis": "x",
           "y": [
            8.28
           ],
           "yaxis": "y"
          },
          {
           "alignmentgroup": "True",
           "hoverlabel": {
            "namelength": 0
           },
           "hovertemplate": "symbol=LI<br>date=2020-10-29<br>portfolio=%{x}<br>percent=%{y}",
           "ids": [
            "2020-10-29"
           ],
           "legendgroup": "LI",
           "marker": {
            "color": "#FFA15A"
           },
           "name": "LI",
           "offsetgroup": "LI",
           "orientation": "v",
           "showlegend": true,
           "textposition": "auto",
           "type": "bar",
           "x": [
            "Electric Vehicles"
           ],
           "xaxis": "x",
           "y": [
            91.46
           ],
           "yaxis": "y"
          },
          {
           "alignmentgroup": "True",
           "hoverlabel": {
            "namelength": 0
           },
           "hovertemplate": "symbol=LMND<br>date=2020-10-29<br>portfolio=%{x}<br>percent=%{y}",
           "ids": [
            "2020-10-29"
           ],
           "legendgroup": "LMND",
           "marker": {
            "color": "#19d3f3"
           },
           "name": "LMND",
           "offsetgroup": "LMND",
           "orientation": "v",
           "showlegend": true,
           "textposition": "auto",
           "type": "bar",
           "x": [
            "Insurance"
           ],
           "xaxis": "x",
           "y": [
            60.19
           ],
           "yaxis": "y"
          },
          {
           "alignmentgroup": "True",
           "hoverlabel": {
            "namelength": 0
           },
           "hovertemplate": "symbol=MSFT<br>date=2020-10-29<br>portfolio=%{x}<br>percent=%{y}",
           "ids": [
            "2020-10-29"
           ],
           "legendgroup": "MSFT",
           "marker": {
            "color": "#FF6692"
           },
           "name": "MSFT",
           "offsetgroup": "MSFT",
           "orientation": "v",
           "showlegend": true,
           "textposition": "auto",
           "type": "bar",
           "x": [
            "Mega Capital"
           ],
           "xaxis": "x",
           "y": [
            5.41
           ],
           "yaxis": "y"
          },
          {
           "alignmentgroup": "True",
           "hoverlabel": {
            "namelength": 0
           },
           "hovertemplate": "symbol=NVDA<br>date=2020-10-29<br>portfolio=%{x}<br>percent=%{y}",
           "ids": [
            "2020-10-29"
           ],
           "legendgroup": "NVDA",
           "marker": {
            "color": "#B6E880"
           },
           "name": "NVDA",
           "offsetgroup": "NVDA",
           "orientation": "v",
           "showlegend": true,
           "textposition": "auto",
           "type": "bar",
           "x": [
            "Semiconductors"
           ],
           "xaxis": "x",
           "y": [
            1.82
           ],
           "yaxis": "y"
          },
          {
           "alignmentgroup": "True",
           "hoverlabel": {
            "namelength": 0
           },
           "hovertemplate": "symbol=QCOM<br>date=2020-10-29<br>portfolio=%{x}<br>percent=%{y}",
           "ids": [
            "2020-10-29"
           ],
           "legendgroup": "QCOM",
           "marker": {
            "color": "#FF97FF"
           },
           "name": "QCOM",
           "offsetgroup": "QCOM",
           "orientation": "v",
           "showlegend": true,
           "textposition": "auto",
           "type": "bar",
           "x": [
            "Semiconductors"
           ],
           "xaxis": "x",
           "y": [
            13.75
           ],
           "yaxis": "y"
          },
          {
           "alignmentgroup": "True",
           "hoverlabel": {
            "namelength": 0
           },
           "hovertemplate": "symbol=SPWR<br>date=2020-10-29<br>portfolio=%{x}<br>percent=%{y}",
           "ids": [
            "2020-10-29"
           ],
           "legendgroup": "SPWR",
           "marker": {
            "color": "#FECB52"
           },
           "name": "SPWR",
           "offsetgroup": "SPWR",
           "orientation": "v",
           "showlegend": true,
           "textposition": "auto",
           "type": "bar",
           "x": [
            "Electricity Solar"
           ],
           "xaxis": "x",
           "y": [
            41.31
           ],
           "yaxis": "y"
          },
          {
           "alignmentgroup": "True",
           "hoverlabel": {
            "namelength": 0
           },
           "hovertemplate": "symbol=TDF<br>date=2020-10-29<br>portfolio=%{x}<br>percent=%{y}",
           "ids": [
            "2020-10-29"
           ],
           "legendgroup": "TDF",
           "marker": {
            "color": "#636efa"
           },
           "name": "TDF",
           "offsetgroup": "TDF",
           "orientation": "v",
           "showlegend": true,
           "textposition": "auto",
           "type": "bar",
           "x": [
            "CEF"
           ],
           "xaxis": "x",
           "y": [
            3.03
           ],
           "yaxis": "y"
          },
          {
           "alignmentgroup": "True",
           "hoverlabel": {
            "namelength": 0
           },
           "hovertemplate": "symbol=TSM<br>date=2020-10-29<br>portfolio=%{x}<br>percent=%{y}",
           "ids": [
            "2020-10-29"
           ],
           "legendgroup": "TSM",
           "marker": {
            "color": "#EF553B"
           },
           "name": "TSM",
           "offsetgroup": "TSM",
           "orientation": "v",
           "showlegend": true,
           "textposition": "auto",
           "type": "bar",
           "x": [
            "Semiconductors"
           ],
           "xaxis": "x",
           "y": [
            16.32
           ],
           "yaxis": "y"
          },
          {
           "alignmentgroup": "True",
           "hoverlabel": {
            "namelength": 0
           },
           "hovertemplate": "symbol=VWDRY<br>date=2020-10-29<br>portfolio=%{x}<br>percent=%{y}",
           "ids": [
            "2020-10-29"
           ],
           "legendgroup": "VWDRY",
           "marker": {
            "color": "#00cc96"
           },
           "name": "VWDRY",
           "offsetgroup": "VWDRY",
           "orientation": "v",
           "showlegend": true,
           "textposition": "auto",
           "type": "bar",
           "x": [
            "Electricity Wind"
           ],
           "xaxis": "x",
           "y": [
            14.17
           ],
           "yaxis": "y"
          }
         ],
         "name": "2020-10-29"
        },
        {
         "data": [
          {
           "alignmentgroup": "True",
           "hoverlabel": {
            "namelength": 0
           },
           "hovertemplate": "symbol=AAPL<br>date=2020-10-22<br>portfolio=%{x}<br>percent=%{y}",
           "ids": [
            "2020-10-22"
           ],
           "legendgroup": "AAPL",
           "marker": {
            "color": "#636efa"
           },
           "name": "AAPL",
           "offsetgroup": "AAPL",
           "orientation": "v",
           "showlegend": true,
           "textposition": "auto",
           "type": "bar",
           "x": [
            "Mega Capital"
           ],
           "xaxis": "x",
           "y": [
            0.9
           ],
           "yaxis": "y"
          },
          {
           "alignmentgroup": "True",
           "hoverlabel": {
            "namelength": 0
           },
           "hovertemplate": "symbol=ABBV<br>date=2020-10-22<br>portfolio=%{x}<br>percent=%{y}",
           "ids": [
            "2020-10-22"
           ],
           "legendgroup": "ABBV",
           "marker": {
            "color": "#EF553B"
           },
           "name": "ABBV",
           "offsetgroup": "ABBV",
           "orientation": "v",
           "showlegend": true,
           "textposition": "auto",
           "type": "bar",
           "x": [
            "Biotechnology"
           ],
           "xaxis": "x",
           "y": [
            24.41
           ],
           "yaxis": "y"
          },
          {
           "alignmentgroup": "True",
           "hoverlabel": {
            "namelength": 0
           },
           "hovertemplate": "symbol=AMZN<br>date=2020-10-22<br>portfolio=%{x}<br>percent=%{y}",
           "ids": [
            "2020-10-22"
           ],
           "legendgroup": "AMZN",
           "marker": {
            "color": "#00cc96"
           },
           "name": "AMZN",
           "offsetgroup": "AMZN",
           "orientation": "v",
           "showlegend": true,
           "textposition": "auto",
           "type": "bar",
           "x": [
            "Mega Capital"
           ],
           "xaxis": "x",
           "y": [
            0.6
           ],
           "yaxis": "y"
          },
          {
           "alignmentgroup": "True",
           "hoverlabel": {
            "namelength": 0
           },
           "hovertemplate": "symbol=AVGO<br>date=2020-10-22<br>portfolio=%{x}<br>percent=%{y}",
           "ids": [
            "2020-10-22"
           ],
           "legendgroup": "AVGO",
           "marker": {
            "color": "#ab63fa"
           },
           "name": "AVGO",
           "offsetgroup": "AVGO",
           "orientation": "v",
           "showlegend": true,
           "textposition": "auto",
           "type": "bar",
           "x": [
            "5G"
           ],
           "xaxis": "x",
           "y": [
            5.78
           ],
           "yaxis": "y"
          },
          {
           "alignmentgroup": "True",
           "hoverlabel": {
            "namelength": 0
           },
           "hovertemplate": "symbol=AZRE<br>date=2020-10-22<br>portfolio=%{x}<br>percent=%{y}",
           "ids": [
            "2020-10-22"
           ],
           "legendgroup": "AZRE",
           "marker": {
            "color": "#FFA15A"
           },
           "name": "AZRE",
           "offsetgroup": "AZRE",
           "orientation": "v",
           "showlegend": true,
           "textposition": "auto",
           "type": "bar",
           "x": [
            "Energy Renewalbe"
           ],
           "xaxis": "x",
           "y": [
            38.54
           ],
           "yaxis": "y"
          },
          {
           "alignmentgroup": "True",
           "hoverlabel": {
            "namelength": 0
           },
           "hovertemplate": "symbol=BEKE<br>date=2020-10-22<br>portfolio=%{x}<br>percent=%{y}",
           "ids": [
            "2020-10-22"
           ],
           "legendgroup": "BEKE",
           "marker": {
            "color": "#19d3f3"
           },
           "name": "BEKE",
           "offsetgroup": "BEKE",
           "orientation": "v",
           "showlegend": true,
           "textposition": "auto",
           "type": "bar",
           "x": [
            "REIT"
           ],
           "xaxis": "x",
           "y": [
            -14.92
           ],
           "yaxis": "y"
          },
          {
           "alignmentgroup": "True",
           "hoverlabel": {
            "namelength": 0
           },
           "hovertemplate": "symbol=BYDDF<br>date=2020-10-22<br>portfolio=%{x}<br>percent=%{y}",
           "ids": [
            "2020-10-22"
           ],
           "legendgroup": "BYDDF",
           "marker": {
            "color": "#FF6692"
           },
           "name": "BYDDF",
           "offsetgroup": "BYDDF",
           "orientation": "v",
           "showlegend": true,
           "textposition": "auto",
           "type": "bar",
           "x": [
            "Electric Vehicles"
           ],
           "xaxis": "x",
           "y": [
            28.14
           ],
           "yaxis": "y"
          },
          {
           "alignmentgroup": "True",
           "hoverlabel": {
            "namelength": 0
           },
           "hovertemplate": "symbol=CSIQ<br>date=2020-10-22<br>portfolio=%{x}<br>percent=%{y}",
           "ids": [
            "2020-10-22"
           ],
           "legendgroup": "CSIQ",
           "marker": {
            "color": "#B6E880"
           },
           "name": "CSIQ",
           "offsetgroup": "CSIQ",
           "orientation": "v",
           "showlegend": true,
           "textposition": "auto",
           "type": "bar",
           "x": [
            "Electricity Solar"
           ],
           "xaxis": "x",
           "y": [
            10.7
           ],
           "yaxis": "y"
          },
          {
           "alignmentgroup": "True",
           "hoverlabel": {
            "namelength": 0
           },
           "hovertemplate": "symbol=DOCRF<br>date=2020-10-22<br>portfolio=%{x}<br>percent=%{y}",
           "ids": [
            "2020-10-22"
           ],
           "legendgroup": "DOCRF",
           "marker": {
            "color": "#FF97FF"
           },
           "name": "DOCRF",
           "offsetgroup": "DOCRF",
           "orientation": "v",
           "showlegend": true,
           "textposition": "auto",
           "type": "bar",
           "x": [
            "Cloud Retail Apps"
           ],
           "xaxis": "x",
           "y": [
            -20.29
           ],
           "yaxis": "y"
          },
          {
           "alignmentgroup": "True",
           "hoverlabel": {
            "namelength": 0
           },
           "hovertemplate": "symbol=DQ<br>date=2020-10-22<br>portfolio=%{x}<br>percent=%{y}",
           "ids": [
            "2020-10-22"
           ],
           "legendgroup": "DQ",
           "marker": {
            "color": "#FECB52"
           },
           "name": "DQ",
           "offsetgroup": "DQ",
           "orientation": "v",
           "showlegend": true,
           "textposition": "auto",
           "type": "bar",
           "x": [
            "Electricity Solar"
           ],
           "xaxis": "x",
           "y": [
            14.29
           ],
           "yaxis": "y"
          },
          {
           "alignmentgroup": "True",
           "hoverlabel": {
            "namelength": 0
           },
           "hovertemplate": "symbol=ENPH<br>date=2020-10-22<br>portfolio=%{x}<br>percent=%{y}",
           "ids": [
            "2020-10-22"
           ],
           "legendgroup": "ENPH",
           "marker": {
            "color": "#636efa"
           },
           "name": "ENPH",
           "offsetgroup": "ENPH",
           "orientation": "v",
           "showlegend": true,
           "textposition": "auto",
           "type": "bar",
           "x": [
            "Electricity Solar"
           ],
           "xaxis": "x",
           "y": [
            35.86
           ],
           "yaxis": "y"
          },
          {
           "alignmentgroup": "True",
           "hoverlabel": {
            "namelength": 0
           },
           "hovertemplate": "symbol=FFC<br>date=2020-10-22<br>portfolio=%{x}<br>percent=%{y}",
           "ids": [
            "2020-10-22"
           ],
           "legendgroup": "FFC",
           "marker": {
            "color": "#EF553B"
           },
           "name": "FFC",
           "offsetgroup": "FFC",
           "orientation": "v",
           "showlegend": true,
           "textposition": "auto",
           "type": "bar",
           "x": [
            "Dividend"
           ],
           "xaxis": "x",
           "y": [
            7.3
           ],
           "yaxis": "y"
          },
          {
           "alignmentgroup": "True",
           "hoverlabel": {
            "namelength": 0
           },
           "hovertemplate": "symbol=FLC<br>date=2020-10-22<br>portfolio=%{x}<br>percent=%{y}",
           "ids": [
            "2020-10-22"
           ],
           "legendgroup": "FLC",
           "marker": {
            "color": "#00cc96"
           },
           "name": "FLC",
           "offsetgroup": "FLC",
           "orientation": "v",
           "showlegend": true,
           "textposition": "auto",
           "type": "bar",
           "x": [
            "Dividend"
           ],
           "xaxis": "x",
           "y": [
            8.82
           ],
           "yaxis": "y"
          },
          {
           "alignmentgroup": "True",
           "hoverlabel": {
            "namelength": 0
           },
           "hovertemplate": "symbol=FSLR<br>date=2020-10-22<br>portfolio=%{x}<br>percent=%{y}",
           "ids": [
            "2020-10-22"
           ],
           "legendgroup": "FSLR",
           "marker": {
            "color": "#ab63fa"
           },
           "name": "FSLR",
           "offsetgroup": "FSLR",
           "orientation": "v",
           "showlegend": true,
           "textposition": "auto",
           "type": "bar",
           "x": [
            "Electricity Solar"
           ],
           "xaxis": "x",
           "y": [
            14.58
           ],
           "yaxis": "y"
          },
          {
           "alignmentgroup": "True",
           "hoverlabel": {
            "namelength": 0
           },
           "hovertemplate": "symbol=LI<br>date=2020-10-22<br>portfolio=%{x}<br>percent=%{y}",
           "ids": [
            "2020-10-22"
           ],
           "legendgroup": "LI",
           "marker": {
            "color": "#FFA15A"
           },
           "name": "LI",
           "offsetgroup": "LI",
           "orientation": "v",
           "showlegend": true,
           "textposition": "auto",
           "type": "bar",
           "x": [
            "Electric Vehicles"
           ],
           "xaxis": "x",
           "y": [
            108.01
           ],
           "yaxis": "y"
          },
          {
           "alignmentgroup": "True",
           "hoverlabel": {
            "namelength": 0
           },
           "hovertemplate": "symbol=LMND<br>date=2020-10-22<br>portfolio=%{x}<br>percent=%{y}",
           "ids": [
            "2020-10-22"
           ],
           "legendgroup": "LMND",
           "marker": {
            "color": "#19d3f3"
           },
           "name": "LMND",
           "offsetgroup": "LMND",
           "orientation": "v",
           "showlegend": true,
           "textposition": "auto",
           "type": "bar",
           "x": [
            "Insurance"
           ],
           "xaxis": "x",
           "y": [
            43.02
           ],
           "yaxis": "y"
          },
          {
           "alignmentgroup": "True",
           "hoverlabel": {
            "namelength": 0
           },
           "hovertemplate": "symbol=MSFT<br>date=2020-10-22<br>portfolio=%{x}<br>percent=%{y}",
           "ids": [
            "2020-10-22"
           ],
           "legendgroup": "MSFT",
           "marker": {
            "color": "#FF6692"
           },
           "name": "MSFT",
           "offsetgroup": "MSFT",
           "orientation": "v",
           "showlegend": true,
           "textposition": "auto",
           "type": "bar",
           "x": [
            "Mega Capital"
           ],
           "xaxis": "x",
           "y": [
            0.42
           ],
           "yaxis": "y"
          },
          {
           "alignmentgroup": "True",
           "hoverlabel": {
            "namelength": 0
           },
           "hovertemplate": "symbol=NVDA<br>date=2020-10-22<br>portfolio=%{x}<br>percent=%{y}",
           "ids": [
            "2020-10-22"
           ],
           "legendgroup": "NVDA",
           "marker": {
            "color": "#B6E880"
           },
           "name": "NVDA",
           "offsetgroup": "NVDA",
           "orientation": "v",
           "showlegend": true,
           "textposition": "auto",
           "type": "bar",
           "x": [
            "Semiconductors"
           ],
           "xaxis": "x",
           "y": [
            -0.75
           ],
           "yaxis": "y"
          },
          {
           "alignmentgroup": "True",
           "hoverlabel": {
            "namelength": 0
           },
           "hovertemplate": "symbol=QCOM<br>date=2020-10-22<br>portfolio=%{x}<br>percent=%{y}",
           "ids": [
            "2020-10-22"
           ],
           "legendgroup": "QCOM",
           "marker": {
            "color": "#FF97FF"
           },
           "name": "QCOM",
           "offsetgroup": "QCOM",
           "orientation": "v",
           "showlegend": true,
           "textposition": "auto",
           "type": "bar",
           "x": [
            "Semiconductors"
           ],
           "xaxis": "x",
           "y": [
            12.03
           ],
           "yaxis": "y"
          },
          {
           "alignmentgroup": "True",
           "hoverlabel": {
            "namelength": 0
           },
           "hovertemplate": "symbol=SPWR<br>date=2020-10-22<br>portfolio=%{x}<br>percent=%{y}",
           "ids": [
            "2020-10-22"
           ],
           "legendgroup": "SPWR",
           "marker": {
            "color": "#FECB52"
           },
           "name": "SPWR",
           "offsetgroup": "SPWR",
           "orientation": "v",
           "showlegend": true,
           "textposition": "auto",
           "type": "bar",
           "x": [
            "Electricity Solar"
           ],
           "xaxis": "x",
           "y": [
            41.13
           ],
           "yaxis": "y"
          },
          {
           "alignmentgroup": "True",
           "hoverlabel": {
            "namelength": 0
           },
           "hovertemplate": "symbol=TDF<br>date=2020-10-22<br>portfolio=%{x}<br>percent=%{y}",
           "ids": [
            "2020-10-22"
           ],
           "legendgroup": "TDF",
           "marker": {
            "color": "#636efa"
           },
           "name": "TDF",
           "offsetgroup": "TDF",
           "orientation": "v",
           "showlegend": true,
           "textposition": "auto",
           "type": "bar",
           "x": [
            "CEF"
           ],
           "xaxis": "x",
           "y": [
            2.99
           ],
           "yaxis": "y"
          },
          {
           "alignmentgroup": "True",
           "hoverlabel": {
            "namelength": 0
           },
           "hovertemplate": "symbol=TSM<br>date=2020-10-22<br>portfolio=%{x}<br>percent=%{y}",
           "ids": [
            "2020-10-22"
           ],
           "legendgroup": "TSM",
           "marker": {
            "color": "#EF553B"
           },
           "name": "TSM",
           "offsetgroup": "TSM",
           "orientation": "v",
           "showlegend": true,
           "textposition": "auto",
           "type": "bar",
           "x": [
            "Semiconductors"
           ],
           "xaxis": "x",
           "y": [
            11.94
           ],
           "yaxis": "y"
          },
          {
           "alignmentgroup": "True",
           "hoverlabel": {
            "namelength": 0
           },
           "hovertemplate": "symbol=VWDRY<br>date=2020-10-22<br>portfolio=%{x}<br>percent=%{y}",
           "ids": [
            "2020-10-22"
           ],
           "legendgroup": "VWDRY",
           "marker": {
            "color": "#00cc96"
           },
           "name": "VWDRY",
           "offsetgroup": "VWDRY",
           "orientation": "v",
           "showlegend": true,
           "textposition": "auto",
           "type": "bar",
           "x": [
            "Electricity Wind"
           ],
           "xaxis": "x",
           "y": [
            17.24
           ],
           "yaxis": "y"
          }
         ],
         "name": "2020-10-22"
        },
        {
         "data": [
          {
           "alignmentgroup": "True",
           "hoverlabel": {
            "namelength": 0
           },
           "hovertemplate": "symbol=AAPL<br>date=2020-10-15<br>portfolio=%{x}<br>percent=%{y}",
           "ids": [
            "2020-10-15"
           ],
           "legendgroup": "AAPL",
           "marker": {
            "color": "#636efa"
           },
           "name": "AAPL",
           "offsetgroup": "AAPL",
           "orientation": "v",
           "showlegend": true,
           "textposition": "auto",
           "type": "bar",
           "x": [
            "Mega Capital"
           ],
           "xaxis": "x",
           "y": [
            -3.25
           ],
           "yaxis": "y"
          },
          {
           "alignmentgroup": "True",
           "hoverlabel": {
            "namelength": 0
           },
           "hovertemplate": "symbol=ABBV<br>date=2020-10-15<br>portfolio=%{x}<br>percent=%{y}",
           "ids": [
            "2020-10-15"
           ],
           "legendgroup": "ABBV",
           "marker": {
            "color": "#EF553B"
           },
           "name": "ABBV",
           "offsetgroup": "ABBV",
           "orientation": "v",
           "showlegend": true,
           "textposition": "auto",
           "type": "bar",
           "x": [
            "Biotechnology"
           ],
           "xaxis": "x",
           "y": [
            23.07
           ],
           "yaxis": "y"
          },
          {
           "alignmentgroup": "True",
           "hoverlabel": {
            "namelength": 0
           },
           "hovertemplate": "symbol=AMZN<br>date=2020-10-15<br>portfolio=%{x}<br>percent=%{y}",
           "ids": [
            "2020-10-15"
           ],
           "legendgroup": "AMZN",
           "marker": {
            "color": "#00cc96"
           },
           "name": "AMZN",
           "offsetgroup": "AMZN",
           "orientation": "v",
           "showlegend": true,
           "textposition": "auto",
           "type": "bar",
           "x": [
            "Mega Capital"
           ],
           "xaxis": "x",
           "y": [
            -4.29
           ],
           "yaxis": "y"
          },
          {
           "alignmentgroup": "True",
           "hoverlabel": {
            "namelength": 0
           },
           "hovertemplate": "symbol=AVGO<br>date=2020-10-15<br>portfolio=%{x}<br>percent=%{y}",
           "ids": [
            "2020-10-15"
           ],
           "legendgroup": "AVGO",
           "marker": {
            "color": "#ab63fa"
           },
           "name": "AVGO",
           "offsetgroup": "AVGO",
           "orientation": "v",
           "showlegend": true,
           "textposition": "auto",
           "type": "bar",
           "x": [
            "5G"
           ],
           "xaxis": "x",
           "y": [
            3.95
           ],
           "yaxis": "y"
          },
          {
           "alignmentgroup": "True",
           "hoverlabel": {
            "namelength": 0
           },
           "hovertemplate": "symbol=AZRE<br>date=2020-10-15<br>portfolio=%{x}<br>percent=%{y}",
           "ids": [
            "2020-10-15"
           ],
           "legendgroup": "AZRE",
           "marker": {
            "color": "#FFA15A"
           },
           "name": "AZRE",
           "offsetgroup": "AZRE",
           "orientation": "v",
           "showlegend": true,
           "textposition": "auto",
           "type": "bar",
           "x": [
            "Energy Renewalbe"
           ],
           "xaxis": "x",
           "y": [
            34.46
           ],
           "yaxis": "y"
          },
          {
           "alignmentgroup": "True",
           "hoverlabel": {
            "namelength": 0
           },
           "hovertemplate": "symbol=BEKE<br>date=2020-10-15<br>portfolio=%{x}<br>percent=%{y}",
           "ids": [
            "2020-10-15"
           ],
           "legendgroup": "BEKE",
           "marker": {
            "color": "#19d3f3"
           },
           "name": "BEKE",
           "offsetgroup": "BEKE",
           "orientation": "v",
           "showlegend": true,
           "textposition": "auto",
           "type": "bar",
           "x": [
            "REIT"
           ],
           "xaxis": "x",
           "y": [
            -7.54
           ],
           "yaxis": "y"
          },
          {
           "alignmentgroup": "True",
           "hoverlabel": {
            "namelength": 0
           },
           "hovertemplate": "symbol=BYDDF<br>date=2020-10-15<br>portfolio=%{x}<br>percent=%{y}",
           "ids": [
            "2020-10-15"
           ],
           "legendgroup": "BYDDF",
           "marker": {
            "color": "#FF6692"
           },
           "name": "BYDDF",
           "offsetgroup": "BYDDF",
           "orientation": "v",
           "showlegend": true,
           "textposition": "auto",
           "type": "bar",
           "x": [
            "Electric Vehicles"
           ],
           "xaxis": "x",
           "y": [
            38.85
           ],
           "yaxis": "y"
          },
          {
           "alignmentgroup": "True",
           "hoverlabel": {
            "namelength": 0
           },
           "hovertemplate": "symbol=CSIQ<br>date=2020-10-15<br>portfolio=%{x}<br>percent=%{y}",
           "ids": [
            "2020-10-15"
           ],
           "legendgroup": "CSIQ",
           "marker": {
            "color": "#B6E880"
           },
           "name": "CSIQ",
           "offsetgroup": "CSIQ",
           "orientation": "v",
           "showlegend": true,
           "textposition": "auto",
           "type": "bar",
           "x": [
            "Electricity Solar"
           ],
           "xaxis": "x",
           "y": [
            13.52
           ],
           "yaxis": "y"
          },
          {
           "alignmentgroup": "True",
           "hoverlabel": {
            "namelength": 0
           },
           "hovertemplate": "symbol=DOCRF<br>date=2020-10-15<br>portfolio=%{x}<br>percent=%{y}",
           "ids": [
            "2020-10-15"
           ],
           "legendgroup": "DOCRF",
           "marker": {
            "color": "#FF97FF"
           },
           "name": "DOCRF",
           "offsetgroup": "DOCRF",
           "orientation": "v",
           "showlegend": true,
           "textposition": "auto",
           "type": "bar",
           "x": [
            "Cloud Retail Apps"
           ],
           "xaxis": "x",
           "y": [
            -5.13
           ],
           "yaxis": "y"
          },
          {
           "alignmentgroup": "True",
           "hoverlabel": {
            "namelength": 0
           },
           "hovertemplate": "symbol=DQ<br>date=2020-10-15<br>portfolio=%{x}<br>percent=%{y}",
           "ids": [
            "2020-10-15"
           ],
           "legendgroup": "DQ",
           "marker": {
            "color": "#FECB52"
           },
           "name": "DQ",
           "offsetgroup": "DQ",
           "orientation": "v",
           "showlegend": true,
           "textposition": "auto",
           "type": "bar",
           "x": [
            "Electricity Solar"
           ],
           "xaxis": "x",
           "y": [
            12.21
           ],
           "yaxis": "y"
          },
          {
           "alignmentgroup": "True",
           "hoverlabel": {
            "namelength": 0
           },
           "hovertemplate": "symbol=ENPH<br>date=2020-10-15<br>portfolio=%{x}<br>percent=%{y}",
           "ids": [
            "2020-10-15"
           ],
           "legendgroup": "ENPH",
           "marker": {
            "color": "#636efa"
           },
           "name": "ENPH",
           "offsetgroup": "ENPH",
           "orientation": "v",
           "showlegend": true,
           "textposition": "auto",
           "type": "bar",
           "x": [
            "Electricity Solar"
           ],
           "xaxis": "x",
           "y": [
            26.96
           ],
           "yaxis": "y"
          },
          {
           "alignmentgroup": "True",
           "hoverlabel": {
            "namelength": 0
           },
           "hovertemplate": "symbol=FFC<br>date=2020-10-15<br>portfolio=%{x}<br>percent=%{y}",
           "ids": [
            "2020-10-15"
           ],
           "legendgroup": "FFC",
           "marker": {
            "color": "#EF553B"
           },
           "name": "FFC",
           "offsetgroup": "FFC",
           "orientation": "v",
           "showlegend": true,
           "textposition": "auto",
           "type": "bar",
           "x": [
            "Dividend"
           ],
           "xaxis": "x",
           "y": [
            7.9
           ],
           "yaxis": "y"
          },
          {
           "alignmentgroup": "True",
           "hoverlabel": {
            "namelength": 0
           },
           "hovertemplate": "symbol=FLC<br>date=2020-10-15<br>portfolio=%{x}<br>percent=%{y}",
           "ids": [
            "2020-10-15"
           ],
           "legendgroup": "FLC",
           "marker": {
            "color": "#00cc96"
           },
           "name": "FLC",
           "offsetgroup": "FLC",
           "orientation": "v",
           "showlegend": true,
           "textposition": "auto",
           "type": "bar",
           "x": [
            "Dividend"
           ],
           "xaxis": "x",
           "y": [
            7.74
           ],
           "yaxis": "y"
          },
          {
           "alignmentgroup": "True",
           "hoverlabel": {
            "namelength": 0
           },
           "hovertemplate": "symbol=FSLR<br>date=2020-10-15<br>portfolio=%{x}<br>percent=%{y}",
           "ids": [
            "2020-10-15"
           ],
           "legendgroup": "FSLR",
           "marker": {
            "color": "#ab63fa"
           },
           "name": "FSLR",
           "offsetgroup": "FSLR",
           "orientation": "v",
           "showlegend": true,
           "textposition": "auto",
           "type": "bar",
           "x": [
            "Electricity Solar"
           ],
           "xaxis": "x",
           "y": [
            15.09
           ],
           "yaxis": "y"
          },
          {
           "alignmentgroup": "True",
           "hoverlabel": {
            "namelength": 0
           },
           "hovertemplate": "symbol=LI<br>date=2020-10-15<br>portfolio=%{x}<br>percent=%{y}",
           "ids": [
            "2020-10-15"
           ],
           "legendgroup": "LI",
           "marker": {
            "color": "#FFA15A"
           },
           "name": "LI",
           "offsetgroup": "LI",
           "orientation": "v",
           "showlegend": true,
           "textposition": "auto",
           "type": "bar",
           "x": [
            "Electric Vehicles"
           ],
           "xaxis": "x",
           "y": [
            92.59
           ],
           "yaxis": "y"
          },
          {
           "alignmentgroup": "True",
           "hoverlabel": {
            "namelength": 0
           },
           "hovertemplate": "symbol=LMND<br>date=2020-10-15<br>portfolio=%{x}<br>percent=%{y}",
           "ids": [
            "2020-10-15"
           ],
           "legendgroup": "LMND",
           "marker": {
            "color": "#19d3f3"
           },
           "name": "LMND",
           "offsetgroup": "LMND",
           "orientation": "v",
           "showlegend": true,
           "textposition": "auto",
           "type": "bar",
           "x": [
            "Insurance"
           ],
           "xaxis": "x",
           "y": [
            20.38
           ],
           "yaxis": "y"
          },
          {
           "alignmentgroup": "True",
           "hoverlabel": {
            "namelength": 0
           },
           "hovertemplate": "symbol=MSFT<br>date=2020-10-15<br>portfolio=%{x}<br>percent=%{y}",
           "ids": [
            "2020-10-15"
           ],
           "legendgroup": "MSFT",
           "marker": {
            "color": "#FF6692"
           },
           "name": "MSFT",
           "offsetgroup": "MSFT",
           "orientation": "v",
           "showlegend": true,
           "textposition": "auto",
           "type": "bar",
           "x": [
            "Mega Capital"
           ],
           "xaxis": "x",
           "y": [
            -1.76
           ],
           "yaxis": "y"
          },
          {
           "alignmentgroup": "True",
           "hoverlabel": {
            "namelength": 0
           },
           "hovertemplate": "symbol=NVDA<br>date=2020-10-15<br>portfolio=%{x}<br>percent=%{y}",
           "ids": [
            "2020-10-15"
           ],
           "legendgroup": "NVDA",
           "marker": {
            "color": "#B6E880"
           },
           "name": "NVDA",
           "offsetgroup": "NVDA",
           "orientation": "v",
           "showlegend": true,
           "textposition": "auto",
           "type": "bar",
           "x": [
            "Semiconductors"
           ],
           "xaxis": "x",
           "y": [
            -5.07
           ],
           "yaxis": "y"
          },
          {
           "alignmentgroup": "True",
           "hoverlabel": {
            "namelength": 0
           },
           "hovertemplate": "symbol=QCOM<br>date=2020-10-15<br>portfolio=%{x}<br>percent=%{y}",
           "ids": [
            "2020-10-15"
           ],
           "legendgroup": "QCOM",
           "marker": {
            "color": "#FF97FF"
           },
           "name": "QCOM",
           "offsetgroup": "QCOM",
           "orientation": "v",
           "showlegend": true,
           "textposition": "auto",
           "type": "bar",
           "x": [
            "Semiconductors"
           ],
           "xaxis": "x",
           "y": [
            11.86
           ],
           "yaxis": "y"
          },
          {
           "alignmentgroup": "True",
           "hoverlabel": {
            "namelength": 0
           },
           "hovertemplate": "symbol=SPWR<br>date=2020-10-15<br>portfolio=%{x}<br>percent=%{y}",
           "ids": [
            "2020-10-15"
           ],
           "legendgroup": "SPWR",
           "marker": {
            "color": "#FECB52"
           },
           "name": "SPWR",
           "offsetgroup": "SPWR",
           "orientation": "v",
           "showlegend": true,
           "textposition": "auto",
           "type": "bar",
           "x": [
            "Electricity Solar"
           ],
           "xaxis": "x",
           "y": [
            36.4
           ],
           "yaxis": "y"
          },
          {
           "alignmentgroup": "True",
           "hoverlabel": {
            "namelength": 0
           },
           "hovertemplate": "symbol=TDF<br>date=2020-10-15<br>portfolio=%{x}<br>percent=%{y}",
           "ids": [
            "2020-10-15"
           ],
           "legendgroup": "TDF",
           "marker": {
            "color": "#636efa"
           },
           "name": "TDF",
           "offsetgroup": "TDF",
           "orientation": "v",
           "showlegend": true,
           "textposition": "auto",
           "type": "bar",
           "x": [
            "CEF"
           ],
           "xaxis": "x",
           "y": [
            4.75
           ],
           "yaxis": "y"
          },
          {
           "alignmentgroup": "True",
           "hoverlabel": {
            "namelength": 0
           },
           "hovertemplate": "symbol=TSM<br>date=2020-10-15<br>portfolio=%{x}<br>percent=%{y}",
           "ids": [
            "2020-10-15"
           ],
           "legendgroup": "TSM",
           "marker": {
            "color": "#EF553B"
           },
           "name": "TSM",
           "offsetgroup": "TSM",
           "orientation": "v",
           "showlegend": true,
           "textposition": "auto",
           "type": "bar",
           "x": [
            "Semiconductors"
           ],
           "xaxis": "x",
           "y": [
            12.01
           ],
           "yaxis": "y"
          },
          {
           "alignmentgroup": "True",
           "hoverlabel": {
            "namelength": 0
           },
           "hovertemplate": "symbol=VWDRY<br>date=2020-10-15<br>portfolio=%{x}<br>percent=%{y}",
           "ids": [
            "2020-10-15"
           ],
           "legendgroup": "VWDRY",
           "marker": {
            "color": "#00cc96"
           },
           "name": "VWDRY",
           "offsetgroup": "VWDRY",
           "orientation": "v",
           "showlegend": true,
           "textposition": "auto",
           "type": "bar",
           "x": [
            "Electricity Wind"
           ],
           "xaxis": "x",
           "y": [
            10.52
           ],
           "yaxis": "y"
          }
         ],
         "name": "2020-10-15"
        },
        {
         "data": [
          {
           "alignmentgroup": "True",
           "hoverlabel": {
            "namelength": 0
           },
           "hovertemplate": "symbol=AAPL<br>date=2020-10-08<br>portfolio=%{x}<br>percent=%{y}",
           "ids": [
            "2020-10-08"
           ],
           "legendgroup": "AAPL",
           "marker": {
            "color": "#636efa"
           },
           "name": "AAPL",
           "offsetgroup": "AAPL",
           "orientation": "v",
           "showlegend": true,
           "textposition": "auto",
           "type": "bar",
           "x": [
            "Mega Capital"
           ],
           "xaxis": "x",
           "y": [
            1.58
           ],
           "yaxis": "y"
          },
          {
           "alignmentgroup": "True",
           "hoverlabel": {
            "namelength": 0
           },
           "hovertemplate": "symbol=ABBV<br>date=2020-10-08<br>portfolio=%{x}<br>percent=%{y}",
           "ids": [
            "2020-10-08"
           ],
           "legendgroup": "ABBV",
           "marker": {
            "color": "#EF553B"
           },
           "name": "ABBV",
           "offsetgroup": "ABBV",
           "orientation": "v",
           "showlegend": true,
           "textposition": "auto",
           "type": "bar",
           "x": [
            "Biotechnology"
           ],
           "xaxis": "x",
           "y": [
            21.73
           ],
           "yaxis": "y"
          },
          {
           "alignmentgroup": "True",
           "hoverlabel": {
            "namelength": 0
           },
           "hovertemplate": "symbol=AMZN<br>date=2020-10-08<br>portfolio=%{x}<br>percent=%{y}",
           "ids": [
            "2020-10-08"
           ],
           "legendgroup": "AMZN",
           "marker": {
            "color": "#00cc96"
           },
           "name": "AMZN",
           "offsetgroup": "AMZN",
           "orientation": "v",
           "showlegend": true,
           "textposition": "auto",
           "type": "bar",
           "x": [
            "Mega Capital"
           ],
           "xaxis": "x",
           "y": [
            0.15
           ],
           "yaxis": "y"
          },
          {
           "alignmentgroup": "True",
           "hoverlabel": {
            "namelength": 0
           },
           "hovertemplate": "symbol=AVGO<br>date=2020-10-08<br>portfolio=%{x}<br>percent=%{y}",
           "ids": [
            "2020-10-08"
           ],
           "legendgroup": "AVGO",
           "marker": {
            "color": "#ab63fa"
           },
           "name": "AVGO",
           "offsetgroup": "AVGO",
           "orientation": "v",
           "showlegend": true,
           "textposition": "auto",
           "type": "bar",
           "x": [
            "5G"
           ],
           "xaxis": "x",
           "y": [
            5.79
           ],
           "yaxis": "y"
          },
          {
           "alignmentgroup": "True",
           "hoverlabel": {
            "namelength": 0
           },
           "hovertemplate": "symbol=AZRE<br>date=2020-10-08<br>portfolio=%{x}<br>percent=%{y}",
           "ids": [
            "2020-10-08"
           ],
           "legendgroup": "AZRE",
           "marker": {
            "color": "#FFA15A"
           },
           "name": "AZRE",
           "offsetgroup": "AZRE",
           "orientation": "v",
           "showlegend": true,
           "textposition": "auto",
           "type": "bar",
           "x": [
            "Energy Renewalbe"
           ],
           "xaxis": "x",
           "y": [
            15.85
           ],
           "yaxis": "y"
          },
          {
           "alignmentgroup": "True",
           "hoverlabel": {
            "namelength": 0
           },
           "hovertemplate": "symbol=BEKE<br>date=2020-10-08<br>portfolio=%{x}<br>percent=%{y}",
           "ids": [
            "2020-10-08"
           ],
           "legendgroup": "BEKE",
           "marker": {
            "color": "#19d3f3"
           },
           "name": "BEKE",
           "offsetgroup": "BEKE",
           "orientation": "v",
           "showlegend": true,
           "textposition": "auto",
           "type": "bar",
           "x": [
            "REIT"
           ],
           "xaxis": "x",
           "y": [
            -0.59
           ],
           "yaxis": "y"
          },
          {
           "alignmentgroup": "True",
           "hoverlabel": {
            "namelength": 0
           },
           "hovertemplate": "symbol=BYDDF<br>date=2020-10-08<br>portfolio=%{x}<br>percent=%{y}",
           "ids": [
            "2020-10-08"
           ],
           "legendgroup": "BYDDF",
           "marker": {
            "color": "#FF6692"
           },
           "name": "BYDDF",
           "offsetgroup": "BYDDF",
           "orientation": "v",
           "showlegend": true,
           "textposition": "auto",
           "type": "bar",
           "x": [
            "Electric Vehicles"
           ],
           "xaxis": "x",
           "y": [
            46.78
           ],
           "yaxis": "y"
          },
          {
           "alignmentgroup": "True",
           "hoverlabel": {
            "namelength": 0
           },
           "hovertemplate": "symbol=CSIQ<br>date=2020-10-08<br>portfolio=%{x}<br>percent=%{y}",
           "ids": [
            "2020-10-08"
           ],
           "legendgroup": "CSIQ",
           "marker": {
            "color": "#B6E880"
           },
           "name": "CSIQ",
           "offsetgroup": "CSIQ",
           "orientation": "v",
           "showlegend": true,
           "textposition": "auto",
           "type": "bar",
           "x": [
            "Electricity Solar"
           ],
           "xaxis": "x",
           "y": [
            11.88
           ],
           "yaxis": "y"
          },
          {
           "alignmentgroup": "True",
           "hoverlabel": {
            "namelength": 0
           },
           "hovertemplate": "symbol=DOCRF<br>date=2020-10-08<br>portfolio=%{x}<br>percent=%{y}",
           "ids": [
            "2020-10-08"
           ],
           "legendgroup": "DOCRF",
           "marker": {
            "color": "#FF97FF"
           },
           "name": "DOCRF",
           "offsetgroup": "DOCRF",
           "orientation": "v",
           "showlegend": true,
           "textposition": "auto",
           "type": "bar",
           "x": [
            "Cloud Retail Apps"
           ],
           "xaxis": "x",
           "y": [
            23.33
           ],
           "yaxis": "y"
          },
          {
           "alignmentgroup": "True",
           "hoverlabel": {
            "namelength": 0
           },
           "hovertemplate": "symbol=DQ<br>date=2020-10-08<br>portfolio=%{x}<br>percent=%{y}",
           "ids": [
            "2020-10-08"
           ],
           "legendgroup": "DQ",
           "marker": {
            "color": "#FECB52"
           },
           "name": "DQ",
           "offsetgroup": "DQ",
           "orientation": "v",
           "showlegend": true,
           "textposition": "auto",
           "type": "bar",
           "x": [
            "Electricity Solar"
           ],
           "xaxis": "x",
           "y": [
            21.31
           ],
           "yaxis": "y"
          },
          {
           "alignmentgroup": "True",
           "hoverlabel": {
            "namelength": 0
           },
           "hovertemplate": "symbol=ENPH<br>date=2020-10-08<br>portfolio=%{x}<br>percent=%{y}",
           "ids": [
            "2020-10-08"
           ],
           "legendgroup": "ENPH",
           "marker": {
            "color": "#636efa"
           },
           "name": "ENPH",
           "offsetgroup": "ENPH",
           "orientation": "v",
           "showlegend": true,
           "textposition": "auto",
           "type": "bar",
           "x": [
            "Electricity Solar"
           ],
           "xaxis": "x",
           "y": [
            33.23
           ],
           "yaxis": "y"
          },
          {
           "alignmentgroup": "True",
           "hoverlabel": {
            "namelength": 0
           },
           "hovertemplate": "symbol=FFC<br>date=2020-10-08<br>portfolio=%{x}<br>percent=%{y}",
           "ids": [
            "2020-10-08"
           ],
           "legendgroup": "FFC",
           "marker": {
            "color": "#EF553B"
           },
           "name": "FFC",
           "offsetgroup": "FFC",
           "orientation": "v",
           "showlegend": true,
           "textposition": "auto",
           "type": "bar",
           "x": [
            "Dividend"
           ],
           "xaxis": "x",
           "y": [
            8.1
           ],
           "yaxis": "y"
          },
          {
           "alignmentgroup": "True",
           "hoverlabel": {
            "namelength": 0
           },
           "hovertemplate": "symbol=FLC<br>date=2020-10-08<br>portfolio=%{x}<br>percent=%{y}",
           "ids": [
            "2020-10-08"
           ],
           "legendgroup": "FLC",
           "marker": {
            "color": "#00cc96"
           },
           "name": "FLC",
           "offsetgroup": "FLC",
           "orientation": "v",
           "showlegend": true,
           "textposition": "auto",
           "type": "bar",
           "x": [
            "Dividend"
           ],
           "xaxis": "x",
           "y": [
            8.83
           ],
           "yaxis": "y"
          },
          {
           "alignmentgroup": "True",
           "hoverlabel": {
            "namelength": 0
           },
           "hovertemplate": "symbol=FSLR<br>date=2020-10-08<br>portfolio=%{x}<br>percent=%{y}",
           "ids": [
            "2020-10-08"
           ],
           "legendgroup": "FSLR",
           "marker": {
            "color": "#ab63fa"
           },
           "name": "FSLR",
           "offsetgroup": "FSLR",
           "orientation": "v",
           "showlegend": true,
           "textposition": "auto",
           "type": "bar",
           "x": [
            "Electricity Solar"
           ],
           "xaxis": "x",
           "y": [
            22.8
           ],
           "yaxis": "y"
          },
          {
           "alignmentgroup": "True",
           "hoverlabel": {
            "namelength": 0
           },
           "hovertemplate": "symbol=LI<br>date=2020-10-08<br>portfolio=%{x}<br>percent=%{y}",
           "ids": [
            "2020-10-08"
           ],
           "legendgroup": "LI",
           "marker": {
            "color": "#FFA15A"
           },
           "name": "LI",
           "offsetgroup": "LI",
           "orientation": "v",
           "showlegend": true,
           "textposition": "auto",
           "type": "bar",
           "x": [
            "Electric Vehicles"
           ],
           "xaxis": "x",
           "y": [
            120.19
           ],
           "yaxis": "y"
          },
          {
           "alignmentgroup": "True",
           "hoverlabel": {
            "namelength": 0
           },
           "hovertemplate": "symbol=LMND<br>date=2020-10-08<br>portfolio=%{x}<br>percent=%{y}",
           "ids": [
            "2020-10-08"
           ],
           "legendgroup": "LMND",
           "marker": {
            "color": "#19d3f3"
           },
           "name": "LMND",
           "offsetgroup": "LMND",
           "orientation": "v",
           "showlegend": true,
           "textposition": "auto",
           "type": "bar",
           "x": [
            "Insurance"
           ],
           "xaxis": "x",
           "y": [
            25.01
           ],
           "yaxis": "y"
          },
          {
           "alignmentgroup": "True",
           "hoverlabel": {
            "namelength": 0
           },
           "hovertemplate": "symbol=MSFT<br>date=2020-10-08<br>portfolio=%{x}<br>percent=%{y}",
           "ids": [
            "2020-10-08"
           ],
           "legendgroup": "MSFT",
           "marker": {
            "color": "#FF6692"
           },
           "name": "MSFT",
           "offsetgroup": "MSFT",
           "orientation": "v",
           "showlegend": true,
           "textposition": "auto",
           "type": "bar",
           "x": [
            "Mega Capital"
           ],
           "xaxis": "x",
           "y": [
            2.48
           ],
           "yaxis": "y"
          },
          {
           "alignmentgroup": "True",
           "hoverlabel": {
            "namelength": 0
           },
           "hovertemplate": "symbol=NVDA<br>date=2020-10-08<br>portfolio=%{x}<br>percent=%{y}",
           "ids": [
            "2020-10-08"
           ],
           "legendgroup": "NVDA",
           "marker": {
            "color": "#B6E880"
           },
           "name": "NVDA",
           "offsetgroup": "NVDA",
           "orientation": "v",
           "showlegend": true,
           "textposition": "auto",
           "type": "bar",
           "x": [
            "Semiconductors"
           ],
           "xaxis": "x",
           "y": [
            -4.17
           ],
           "yaxis": "y"
          },
          {
           "alignmentgroup": "True",
           "hoverlabel": {
            "namelength": 0
           },
           "hovertemplate": "symbol=QCOM<br>date=2020-10-08<br>portfolio=%{x}<br>percent=%{y}",
           "ids": [
            "2020-10-08"
           ],
           "legendgroup": "QCOM",
           "marker": {
            "color": "#FF97FF"
           },
           "name": "QCOM",
           "offsetgroup": "QCOM",
           "orientation": "v",
           "showlegend": true,
           "textposition": "auto",
           "type": "bar",
           "x": [
            "Semiconductors"
           ],
           "xaxis": "x",
           "y": [
            17.57
           ],
           "yaxis": "y"
          },
          {
           "alignmentgroup": "True",
           "hoverlabel": {
            "namelength": 0
           },
           "hovertemplate": "symbol=SPWR<br>date=2020-10-08<br>portfolio=%{x}<br>percent=%{y}",
           "ids": [
            "2020-10-08"
           ],
           "legendgroup": "SPWR",
           "marker": {
            "color": "#FECB52"
           },
           "name": "SPWR",
           "offsetgroup": "SPWR",
           "orientation": "v",
           "showlegend": true,
           "textposition": "auto",
           "type": "bar",
           "x": [
            "Electricity Solar"
           ],
           "xaxis": "x",
           "y": [
            37.12
           ],
           "yaxis": "y"
          },
          {
           "alignmentgroup": "True",
           "hoverlabel": {
            "namelength": 0
           },
           "hovertemplate": "symbol=TDF<br>date=2020-10-08<br>portfolio=%{x}<br>percent=%{y}",
           "ids": [
            "2020-10-08"
           ],
           "legendgroup": "TDF",
           "marker": {
            "color": "#636efa"
           },
           "name": "TDF",
           "offsetgroup": "TDF",
           "orientation": "v",
           "showlegend": true,
           "textposition": "auto",
           "type": "bar",
           "x": [
            "CEF"
           ],
           "xaxis": "x",
           "y": [
            8.66
           ],
           "yaxis": "y"
          },
          {
           "alignmentgroup": "True",
           "hoverlabel": {
            "namelength": 0
           },
           "hovertemplate": "symbol=TSM<br>date=2020-10-08<br>portfolio=%{x}<br>percent=%{y}",
           "ids": [
            "2020-10-08"
           ],
           "legendgroup": "TSM",
           "marker": {
            "color": "#EF553B"
           },
           "name": "TSM",
           "offsetgroup": "TSM",
           "orientation": "v",
           "showlegend": true,
           "textposition": "auto",
           "type": "bar",
           "x": [
            "Semiconductors"
           ],
           "xaxis": "x",
           "y": [
            12.46
           ],
           "yaxis": "y"
          },
          {
           "alignmentgroup": "True",
           "hoverlabel": {
            "namelength": 0
           },
           "hovertemplate": "symbol=VWDRY<br>date=2020-10-08<br>portfolio=%{x}<br>percent=%{y}",
           "ids": [
            "2020-10-08"
           ],
           "legendgroup": "VWDRY",
           "marker": {
            "color": "#00cc96"
           },
           "name": "VWDRY",
           "offsetgroup": "VWDRY",
           "orientation": "v",
           "showlegend": true,
           "textposition": "auto",
           "type": "bar",
           "x": [
            "Electricity Wind"
           ],
           "xaxis": "x",
           "y": [
            12.19
           ],
           "yaxis": "y"
          }
         ],
         "name": "2020-10-08"
        },
        {
         "data": [
          {
           "alignmentgroup": "True",
           "hoverlabel": {
            "namelength": 0
           },
           "hovertemplate": "symbol=AAPL<br>date=2020-10-01<br>portfolio=%{x}<br>percent=%{y}",
           "ids": [
            "2020-10-01"
           ],
           "legendgroup": "AAPL",
           "marker": {
            "color": "#636efa"
           },
           "name": "AAPL",
           "offsetgroup": "AAPL",
           "orientation": "v",
           "showlegend": true,
           "textposition": "auto",
           "type": "bar",
           "x": [
            "Mega Capital"
           ],
           "xaxis": "x",
           "y": [
            0
           ],
           "yaxis": "y"
          },
          {
           "alignmentgroup": "True",
           "hoverlabel": {
            "namelength": 0
           },
           "hovertemplate": "symbol=ABBV<br>date=2020-10-01<br>portfolio=%{x}<br>percent=%{y}",
           "ids": [
            "2020-10-01"
           ],
           "legendgroup": "ABBV",
           "marker": {
            "color": "#EF553B"
           },
           "name": "ABBV",
           "offsetgroup": "ABBV",
           "orientation": "v",
           "showlegend": true,
           "textposition": "auto",
           "type": "bar",
           "x": [
            "Biotechnology"
           ],
           "xaxis": "x",
           "y": [
            22.01
           ],
           "yaxis": "y"
          },
          {
           "alignmentgroup": "True",
           "hoverlabel": {
            "namelength": 0
           },
           "hovertemplate": "symbol=AMZN<br>date=2020-10-01<br>portfolio=%{x}<br>percent=%{y}",
           "ids": [
            "2020-10-01"
           ],
           "legendgroup": "AMZN",
           "marker": {
            "color": "#00cc96"
           },
           "name": "AMZN",
           "offsetgroup": "AMZN",
           "orientation": "v",
           "showlegend": true,
           "textposition": "auto",
           "type": "bar",
           "x": [
            "Mega Capital"
           ],
           "xaxis": "x",
           "y": [
            -0.8
           ],
           "yaxis": "y"
          },
          {
           "alignmentgroup": "True",
           "hoverlabel": {
            "namelength": 0
           },
           "hovertemplate": "symbol=AVGO<br>date=2020-10-01<br>portfolio=%{x}<br>percent=%{y}",
           "ids": [
            "2020-10-01"
           ],
           "legendgroup": "AVGO",
           "marker": {
            "color": "#ab63fa"
           },
           "name": "AVGO",
           "offsetgroup": "AVGO",
           "orientation": "v",
           "showlegend": true,
           "textposition": "auto",
           "type": "bar",
           "x": [
            "5G"
           ],
           "xaxis": "x",
           "y": [
            7.15
           ],
           "yaxis": "y"
          },
          {
           "alignmentgroup": "True",
           "hoverlabel": {
            "namelength": 0
           },
           "hovertemplate": "symbol=AZRE<br>date=2020-10-01<br>portfolio=%{x}<br>percent=%{y}",
           "ids": [
            "2020-10-01"
           ],
           "legendgroup": "AZRE",
           "marker": {
            "color": "#FFA15A"
           },
           "name": "AZRE",
           "offsetgroup": "AZRE",
           "orientation": "v",
           "showlegend": true,
           "textposition": "auto",
           "type": "bar",
           "x": [
            "Energy Renewalbe"
           ],
           "xaxis": "x",
           "y": [
            15.2
           ],
           "yaxis": "y"
          },
          {
           "alignmentgroup": "True",
           "hoverlabel": {
            "namelength": 0
           },
           "hovertemplate": "symbol=BEKE<br>date=2020-10-01<br>portfolio=%{x}<br>percent=%{y}",
           "ids": [
            "2020-10-01"
           ],
           "legendgroup": "BEKE",
           "marker": {
            "color": "#19d3f3"
           },
           "name": "BEKE",
           "offsetgroup": "BEKE",
           "orientation": "v",
           "showlegend": true,
           "textposition": "auto",
           "type": "bar",
           "x": [
            "REIT"
           ],
           "xaxis": "x",
           "y": [
            3.88
           ],
           "yaxis": "y"
          },
          {
           "alignmentgroup": "True",
           "hoverlabel": {
            "namelength": 0
           },
           "hovertemplate": "symbol=BYDDF<br>date=2020-10-01<br>portfolio=%{x}<br>percent=%{y}",
           "ids": [
            "2020-10-01"
           ],
           "legendgroup": "BYDDF",
           "marker": {
            "color": "#FF6692"
           },
           "name": "BYDDF",
           "offsetgroup": "BYDDF",
           "orientation": "v",
           "showlegend": true,
           "textposition": "auto",
           "type": "bar",
           "x": [
            "Electric Vehicles"
           ],
           "xaxis": "x",
           "y": [
            46.25
           ],
           "yaxis": "y"
          },
          {
           "alignmentgroup": "True",
           "hoverlabel": {
            "namelength": 0
           },
           "hovertemplate": "symbol=CSIQ<br>date=2020-10-01<br>portfolio=%{x}<br>percent=%{y}",
           "ids": [
            "2020-10-01"
           ],
           "legendgroup": "CSIQ",
           "marker": {
            "color": "#B6E880"
           },
           "name": "CSIQ",
           "offsetgroup": "CSIQ",
           "orientation": "v",
           "showlegend": true,
           "textposition": "auto",
           "type": "bar",
           "x": [
            "Electricity Solar"
           ],
           "xaxis": "x",
           "y": [
            21.51
           ],
           "yaxis": "y"
          },
          {
           "alignmentgroup": "True",
           "hoverlabel": {
            "namelength": 0
           },
           "hovertemplate": "symbol=DOCRF<br>date=2020-10-01<br>portfolio=%{x}<br>percent=%{y}",
           "ids": [
            "2020-10-01"
           ],
           "legendgroup": "DOCRF",
           "marker": {
            "color": "#FF97FF"
           },
           "name": "DOCRF",
           "offsetgroup": "DOCRF",
           "orientation": "v",
           "showlegend": true,
           "textposition": "auto",
           "type": "bar",
           "x": [
            "Cloud Retail Apps"
           ],
           "xaxis": "x",
           "y": [
            21.71
           ],
           "yaxis": "y"
          },
          {
           "alignmentgroup": "True",
           "hoverlabel": {
            "namelength": 0
           },
           "hovertemplate": "symbol=DQ<br>date=2020-10-01<br>portfolio=%{x}<br>percent=%{y}",
           "ids": [
            "2020-10-01"
           ],
           "legendgroup": "DQ",
           "marker": {
            "color": "#FECB52"
           },
           "name": "DQ",
           "offsetgroup": "DQ",
           "orientation": "v",
           "showlegend": true,
           "textposition": "auto",
           "type": "bar",
           "x": [
            "Electricity Solar"
           ],
           "xaxis": "x",
           "y": [
            51.72
           ],
           "yaxis": "y"
          },
          {
           "alignmentgroup": "True",
           "hoverlabel": {
            "namelength": 0
           },
           "hovertemplate": "symbol=ENPH<br>date=2020-10-01<br>portfolio=%{x}<br>percent=%{y}",
           "ids": [
            "2020-10-01"
           ],
           "legendgroup": "ENPH",
           "marker": {
            "color": "#636efa"
           },
           "name": "ENPH",
           "offsetgroup": "ENPH",
           "orientation": "v",
           "showlegend": true,
           "textposition": "auto",
           "type": "bar",
           "x": [
            "Electricity Solar"
           ],
           "xaxis": "x",
           "y": [
            57.03
           ],
           "yaxis": "y"
          },
          {
           "alignmentgroup": "True",
           "hoverlabel": {
            "namelength": 0
           },
           "hovertemplate": "symbol=FFC<br>date=2020-10-01<br>portfolio=%{x}<br>percent=%{y}",
           "ids": [
            "2020-10-01"
           ],
           "legendgroup": "FFC",
           "marker": {
            "color": "#EF553B"
           },
           "name": "FFC",
           "offsetgroup": "FFC",
           "orientation": "v",
           "showlegend": true,
           "textposition": "auto",
           "type": "bar",
           "x": [
            "Dividend"
           ],
           "xaxis": "x",
           "y": [
            8.26
           ],
           "yaxis": "y"
          },
          {
           "alignmentgroup": "True",
           "hoverlabel": {
            "namelength": 0
           },
           "hovertemplate": "symbol=FLC<br>date=2020-10-01<br>portfolio=%{x}<br>percent=%{y}",
           "ids": [
            "2020-10-01"
           ],
           "legendgroup": "FLC",
           "marker": {
            "color": "#00cc96"
           },
           "name": "FLC",
           "offsetgroup": "FLC",
           "orientation": "v",
           "showlegend": true,
           "textposition": "auto",
           "type": "bar",
           "x": [
            "Dividend"
           ],
           "xaxis": "x",
           "y": [
            9.89
           ],
           "yaxis": "y"
          },
          {
           "alignmentgroup": "True",
           "hoverlabel": {
            "namelength": 0
           },
           "hovertemplate": "symbol=FSLR<br>date=2020-10-01<br>portfolio=%{x}<br>percent=%{y}",
           "ids": [
            "2020-10-01"
           ],
           "legendgroup": "FSLR",
           "marker": {
            "color": "#ab63fa"
           },
           "name": "FSLR",
           "offsetgroup": "FSLR",
           "orientation": "v",
           "showlegend": true,
           "textposition": "auto",
           "type": "bar",
           "x": [
            "Electricity Solar"
           ],
           "xaxis": "x",
           "y": [
            38.11
           ],
           "yaxis": "y"
          },
          {
           "alignmentgroup": "True",
           "hoverlabel": {
            "namelength": 0
           },
           "hovertemplate": "symbol=LI<br>date=2020-10-01<br>portfolio=%{x}<br>percent=%{y}",
           "ids": [
            "2020-10-01"
           ],
           "legendgroup": "LI",
           "marker": {
            "color": "#FFA15A"
           },
           "name": "LI",
           "offsetgroup": "LI",
           "orientation": "v",
           "showlegend": true,
           "textposition": "auto",
           "type": "bar",
           "x": [
            "Electric Vehicles"
           ],
           "xaxis": "x",
           "y": [
            135
           ],
           "yaxis": "y"
          },
          {
           "alignmentgroup": "True",
           "hoverlabel": {
            "namelength": 0
           },
           "hovertemplate": "symbol=LMND<br>date=2020-10-01<br>portfolio=%{x}<br>percent=%{y}",
           "ids": [
            "2020-10-01"
           ],
           "legendgroup": "LMND",
           "marker": {
            "color": "#19d3f3"
           },
           "name": "LMND",
           "offsetgroup": "LMND",
           "orientation": "v",
           "showlegend": true,
           "textposition": "auto",
           "type": "bar",
           "x": [
            "Insurance"
           ],
           "xaxis": "x",
           "y": [
            46
           ],
           "yaxis": "y"
          },
          {
           "alignmentgroup": "True",
           "hoverlabel": {
            "namelength": 0
           },
           "hovertemplate": "symbol=MSFT<br>date=2020-10-01<br>portfolio=%{x}<br>percent=%{y}",
           "ids": [
            "2020-10-01"
           ],
           "legendgroup": "MSFT",
           "marker": {
            "color": "#FF6692"
           },
           "name": "MSFT",
           "offsetgroup": "MSFT",
           "orientation": "v",
           "showlegend": true,
           "textposition": "auto",
           "type": "bar",
           "x": [
            "Mega Capital"
           ],
           "xaxis": "x",
           "y": [
            1.57
           ],
           "yaxis": "y"
          },
          {
           "alignmentgroup": "True",
           "hoverlabel": {
            "namelength": 0
           },
           "hovertemplate": "symbol=NVDA<br>date=2020-10-01<br>portfolio=%{x}<br>percent=%{y}",
           "ids": [
            "2020-10-01"
           ],
           "legendgroup": "NVDA",
           "marker": {
            "color": "#B6E880"
           },
           "name": "NVDA",
           "offsetgroup": "NVDA",
           "orientation": "v",
           "showlegend": true,
           "textposition": "auto",
           "type": "bar",
           "x": [
            "Semiconductors"
           ],
           "xaxis": "x",
           "y": [
            -2.59
           ],
           "yaxis": "y"
          },
          {
           "alignmentgroup": "True",
           "hoverlabel": {
            "namelength": 0
           },
           "hovertemplate": "symbol=QCOM<br>date=2020-10-01<br>portfolio=%{x}<br>percent=%{y}",
           "ids": [
            "2020-10-01"
           ],
           "legendgroup": "QCOM",
           "marker": {
            "color": "#FF97FF"
           },
           "name": "QCOM",
           "offsetgroup": "QCOM",
           "orientation": "v",
           "showlegend": true,
           "textposition": "auto",
           "type": "bar",
           "x": [
            "Semiconductors"
           ],
           "xaxis": "x",
           "y": [
            20.34
           ],
           "yaxis": "y"
          },
          {
           "alignmentgroup": "True",
           "hoverlabel": {
            "namelength": 0
           },
           "hovertemplate": "symbol=SPWR<br>date=2020-10-01<br>portfolio=%{x}<br>percent=%{y}",
           "ids": [
            "2020-10-01"
           ],
           "legendgroup": "SPWR",
           "marker": {
            "color": "#FECB52"
           },
           "name": "SPWR",
           "offsetgroup": "SPWR",
           "orientation": "v",
           "showlegend": true,
           "textposition": "auto",
           "type": "bar",
           "x": [
            "Electricity Solar"
           ],
           "xaxis": "x",
           "y": [
            73.35
           ],
           "yaxis": "y"
          },
          {
           "alignmentgroup": "True",
           "hoverlabel": {
            "namelength": 0
           },
           "hovertemplate": "symbol=TDF<br>date=2020-10-01<br>portfolio=%{x}<br>percent=%{y}",
           "ids": [
            "2020-10-01"
           ],
           "legendgroup": "TDF",
           "marker": {
            "color": "#636efa"
           },
           "name": "TDF",
           "offsetgroup": "TDF",
           "orientation": "v",
           "showlegend": true,
           "textposition": "auto",
           "type": "bar",
           "x": [
            "CEF"
           ],
           "xaxis": "x",
           "y": [
            11.18
           ],
           "yaxis": "y"
          },
          {
           "alignmentgroup": "True",
           "hoverlabel": {
            "namelength": 0
           },
           "hovertemplate": "symbol=TSM<br>date=2020-10-01<br>portfolio=%{x}<br>percent=%{y}",
           "ids": [
            "2020-10-01"
           ],
           "legendgroup": "TSM",
           "marker": {
            "color": "#EF553B"
           },
           "name": "TSM",
           "offsetgroup": "TSM",
           "orientation": "v",
           "showlegend": true,
           "textposition": "auto",
           "type": "bar",
           "x": [
            "Semiconductors"
           ],
           "xaxis": "x",
           "y": [
            19.51
           ],
           "yaxis": "y"
          },
          {
           "alignmentgroup": "True",
           "hoverlabel": {
            "namelength": 0
           },
           "hovertemplate": "symbol=VWDRY<br>date=2020-10-01<br>portfolio=%{x}<br>percent=%{y}",
           "ids": [
            "2020-10-01"
           ],
           "legendgroup": "VWDRY",
           "marker": {
            "color": "#00cc96"
           },
           "name": "VWDRY",
           "offsetgroup": "VWDRY",
           "orientation": "v",
           "showlegend": true,
           "textposition": "auto",
           "type": "bar",
           "x": [
            "Electricity Wind"
           ],
           "xaxis": "x",
           "y": [
            19.5
           ],
           "yaxis": "y"
          }
         ],
         "name": "2020-10-01"
        }
       ],
       "layout": {
        "barmode": "relative",
        "height": 800,
        "legend": {
         "title": {
          "text": "symbol"
         },
         "tracegroupgap": 0
        },
        "sliders": [
         {
          "active": 0,
          "currentvalue": {
           "prefix": "date="
          },
          "len": 0.9,
          "pad": {
           "b": 10,
           "t": 60
          },
          "steps": [
           {
            "args": [
             [
              "2020-11-25"
             ],
             {
              "frame": {
               "duration": 0,
               "redraw": true
              },
              "fromcurrent": true,
              "mode": "immediate",
              "transition": {
               "duration": 0,
               "easing": "linear"
              }
             }
            ],
            "label": "2020-11-25",
            "method": "animate"
           },
           {
            "args": [
             [
              "2020-11-19"
             ],
             {
              "frame": {
               "duration": 0,
               "redraw": true
              },
              "fromcurrent": true,
              "mode": "immediate",
              "transition": {
               "duration": 0,
               "easing": "linear"
              }
             }
            ],
            "label": "2020-11-19",
            "method": "animate"
           },
           {
            "args": [
             [
              "2020-11-12"
             ],
             {
              "frame": {
               "duration": 0,
               "redraw": true
              },
              "fromcurrent": true,
              "mode": "immediate",
              "transition": {
               "duration": 0,
               "easing": "linear"
              }
             }
            ],
            "label": "2020-11-12",
            "method": "animate"
           },
           {
            "args": [
             [
              "2020-11-05"
             ],
             {
              "frame": {
               "duration": 0,
               "redraw": true
              },
              "fromcurrent": true,
              "mode": "immediate",
              "transition": {
               "duration": 0,
               "easing": "linear"
              }
             }
            ],
            "label": "2020-11-05",
            "method": "animate"
           },
           {
            "args": [
             [
              "2020-10-29"
             ],
             {
              "frame": {
               "duration": 0,
               "redraw": true
              },
              "fromcurrent": true,
              "mode": "immediate",
              "transition": {
               "duration": 0,
               "easing": "linear"
              }
             }
            ],
            "label": "2020-10-29",
            "method": "animate"
           },
           {
            "args": [
             [
              "2020-10-22"
             ],
             {
              "frame": {
               "duration": 0,
               "redraw": true
              },
              "fromcurrent": true,
              "mode": "immediate",
              "transition": {
               "duration": 0,
               "easing": "linear"
              }
             }
            ],
            "label": "2020-10-22",
            "method": "animate"
           },
           {
            "args": [
             [
              "2020-10-15"
             ],
             {
              "frame": {
               "duration": 0,
               "redraw": true
              },
              "fromcurrent": true,
              "mode": "immediate",
              "transition": {
               "duration": 0,
               "easing": "linear"
              }
             }
            ],
            "label": "2020-10-15",
            "method": "animate"
           },
           {
            "args": [
             [
              "2020-10-08"
             ],
             {
              "frame": {
               "duration": 0,
               "redraw": true
              },
              "fromcurrent": true,
              "mode": "immediate",
              "transition": {
               "duration": 0,
               "easing": "linear"
              }
             }
            ],
            "label": "2020-10-08",
            "method": "animate"
           },
           {
            "args": [
             [
              "2020-10-01"
             ],
             {
              "frame": {
               "duration": 0,
               "redraw": true
              },
              "fromcurrent": true,
              "mode": "immediate",
              "transition": {
               "duration": 0,
               "easing": "linear"
              }
             }
            ],
            "label": "2020-10-01",
            "method": "animate"
           }
          ],
          "x": 0.1,
          "xanchor": "left",
          "y": 0,
          "yanchor": "top"
         }
        ],
        "template": {
         "data": {
          "bar": [
           {
            "error_x": {
             "color": "#2a3f5f"
            },
            "error_y": {
             "color": "#2a3f5f"
            },
            "marker": {
             "line": {
              "color": "#E5ECF6",
              "width": 0.5
             }
            },
            "type": "bar"
           }
          ],
          "barpolar": [
           {
            "marker": {
             "line": {
              "color": "#E5ECF6",
              "width": 0.5
             }
            },
            "type": "barpolar"
           }
          ],
          "carpet": [
           {
            "aaxis": {
             "endlinecolor": "#2a3f5f",
             "gridcolor": "white",
             "linecolor": "white",
             "minorgridcolor": "white",
             "startlinecolor": "#2a3f5f"
            },
            "baxis": {
             "endlinecolor": "#2a3f5f",
             "gridcolor": "white",
             "linecolor": "white",
             "minorgridcolor": "white",
             "startlinecolor": "#2a3f5f"
            },
            "type": "carpet"
           }
          ],
          "choropleth": [
           {
            "colorbar": {
             "outlinewidth": 0,
             "ticks": ""
            },
            "type": "choropleth"
           }
          ],
          "contour": [
           {
            "colorbar": {
             "outlinewidth": 0,
             "ticks": ""
            },
            "colorscale": [
             [
              0,
              "#0d0887"
             ],
             [
              0.1111111111111111,
              "#46039f"
             ],
             [
              0.2222222222222222,
              "#7201a8"
             ],
             [
              0.3333333333333333,
              "#9c179e"
             ],
             [
              0.4444444444444444,
              "#bd3786"
             ],
             [
              0.5555555555555556,
              "#d8576b"
             ],
             [
              0.6666666666666666,
              "#ed7953"
             ],
             [
              0.7777777777777778,
              "#fb9f3a"
             ],
             [
              0.8888888888888888,
              "#fdca26"
             ],
             [
              1,
              "#f0f921"
             ]
            ],
            "type": "contour"
           }
          ],
          "contourcarpet": [
           {
            "colorbar": {
             "outlinewidth": 0,
             "ticks": ""
            },
            "type": "contourcarpet"
           }
          ],
          "heatmap": [
           {
            "colorbar": {
             "outlinewidth": 0,
             "ticks": ""
            },
            "colorscale": [
             [
              0,
              "#0d0887"
             ],
             [
              0.1111111111111111,
              "#46039f"
             ],
             [
              0.2222222222222222,
              "#7201a8"
             ],
             [
              0.3333333333333333,
              "#9c179e"
             ],
             [
              0.4444444444444444,
              "#bd3786"
             ],
             [
              0.5555555555555556,
              "#d8576b"
             ],
             [
              0.6666666666666666,
              "#ed7953"
             ],
             [
              0.7777777777777778,
              "#fb9f3a"
             ],
             [
              0.8888888888888888,
              "#fdca26"
             ],
             [
              1,
              "#f0f921"
             ]
            ],
            "type": "heatmap"
           }
          ],
          "heatmapgl": [
           {
            "colorbar": {
             "outlinewidth": 0,
             "ticks": ""
            },
            "colorscale": [
             [
              0,
              "#0d0887"
             ],
             [
              0.1111111111111111,
              "#46039f"
             ],
             [
              0.2222222222222222,
              "#7201a8"
             ],
             [
              0.3333333333333333,
              "#9c179e"
             ],
             [
              0.4444444444444444,
              "#bd3786"
             ],
             [
              0.5555555555555556,
              "#d8576b"
             ],
             [
              0.6666666666666666,
              "#ed7953"
             ],
             [
              0.7777777777777778,
              "#fb9f3a"
             ],
             [
              0.8888888888888888,
              "#fdca26"
             ],
             [
              1,
              "#f0f921"
             ]
            ],
            "type": "heatmapgl"
           }
          ],
          "histogram": [
           {
            "marker": {
             "colorbar": {
              "outlinewidth": 0,
              "ticks": ""
             }
            },
            "type": "histogram"
           }
          ],
          "histogram2d": [
           {
            "colorbar": {
             "outlinewidth": 0,
             "ticks": ""
            },
            "colorscale": [
             [
              0,
              "#0d0887"
             ],
             [
              0.1111111111111111,
              "#46039f"
             ],
             [
              0.2222222222222222,
              "#7201a8"
             ],
             [
              0.3333333333333333,
              "#9c179e"
             ],
             [
              0.4444444444444444,
              "#bd3786"
             ],
             [
              0.5555555555555556,
              "#d8576b"
             ],
             [
              0.6666666666666666,
              "#ed7953"
             ],
             [
              0.7777777777777778,
              "#fb9f3a"
             ],
             [
              0.8888888888888888,
              "#fdca26"
             ],
             [
              1,
              "#f0f921"
             ]
            ],
            "type": "histogram2d"
           }
          ],
          "histogram2dcontour": [
           {
            "colorbar": {
             "outlinewidth": 0,
             "ticks": ""
            },
            "colorscale": [
             [
              0,
              "#0d0887"
             ],
             [
              0.1111111111111111,
              "#46039f"
             ],
             [
              0.2222222222222222,
              "#7201a8"
             ],
             [
              0.3333333333333333,
              "#9c179e"
             ],
             [
              0.4444444444444444,
              "#bd3786"
             ],
             [
              0.5555555555555556,
              "#d8576b"
             ],
             [
              0.6666666666666666,
              "#ed7953"
             ],
             [
              0.7777777777777778,
              "#fb9f3a"
             ],
             [
              0.8888888888888888,
              "#fdca26"
             ],
             [
              1,
              "#f0f921"
             ]
            ],
            "type": "histogram2dcontour"
           }
          ],
          "mesh3d": [
           {
            "colorbar": {
             "outlinewidth": 0,
             "ticks": ""
            },
            "type": "mesh3d"
           }
          ],
          "parcoords": [
           {
            "line": {
             "colorbar": {
              "outlinewidth": 0,
              "ticks": ""
             }
            },
            "type": "parcoords"
           }
          ],
          "pie": [
           {
            "automargin": true,
            "type": "pie"
           }
          ],
          "scatter": [
           {
            "marker": {
             "colorbar": {
              "outlinewidth": 0,
              "ticks": ""
             }
            },
            "type": "scatter"
           }
          ],
          "scatter3d": [
           {
            "line": {
             "colorbar": {
              "outlinewidth": 0,
              "ticks": ""
             }
            },
            "marker": {
             "colorbar": {
              "outlinewidth": 0,
              "ticks": ""
             }
            },
            "type": "scatter3d"
           }
          ],
          "scattercarpet": [
           {
            "marker": {
             "colorbar": {
              "outlinewidth": 0,
              "ticks": ""
             }
            },
            "type": "scattercarpet"
           }
          ],
          "scattergeo": [
           {
            "marker": {
             "colorbar": {
              "outlinewidth": 0,
              "ticks": ""
             }
            },
            "type": "scattergeo"
           }
          ],
          "scattergl": [
           {
            "marker": {
             "colorbar": {
              "outlinewidth": 0,
              "ticks": ""
             }
            },
            "type": "scattergl"
           }
          ],
          "scattermapbox": [
           {
            "marker": {
             "colorbar": {
              "outlinewidth": 0,
              "ticks": ""
             }
            },
            "type": "scattermapbox"
           }
          ],
          "scatterpolar": [
           {
            "marker": {
             "colorbar": {
              "outlinewidth": 0,
              "ticks": ""
             }
            },
            "type": "scatterpolar"
           }
          ],
          "scatterpolargl": [
           {
            "marker": {
             "colorbar": {
              "outlinewidth": 0,
              "ticks": ""
             }
            },
            "type": "scatterpolargl"
           }
          ],
          "scatterternary": [
           {
            "marker": {
             "colorbar": {
              "outlinewidth": 0,
              "ticks": ""
             }
            },
            "type": "scatterternary"
           }
          ],
          "surface": [
           {
            "colorbar": {
             "outlinewidth": 0,
             "ticks": ""
            },
            "colorscale": [
             [
              0,
              "#0d0887"
             ],
             [
              0.1111111111111111,
              "#46039f"
             ],
             [
              0.2222222222222222,
              "#7201a8"
             ],
             [
              0.3333333333333333,
              "#9c179e"
             ],
             [
              0.4444444444444444,
              "#bd3786"
             ],
             [
              0.5555555555555556,
              "#d8576b"
             ],
             [
              0.6666666666666666,
              "#ed7953"
             ],
             [
              0.7777777777777778,
              "#fb9f3a"
             ],
             [
              0.8888888888888888,
              "#fdca26"
             ],
             [
              1,
              "#f0f921"
             ]
            ],
            "type": "surface"
           }
          ],
          "table": [
           {
            "cells": {
             "fill": {
              "color": "#EBF0F8"
             },
             "line": {
              "color": "white"
             }
            },
            "header": {
             "fill": {
              "color": "#C8D4E3"
             },
             "line": {
              "color": "white"
             }
            },
            "type": "table"
           }
          ]
         },
         "layout": {
          "annotationdefaults": {
           "arrowcolor": "#2a3f5f",
           "arrowhead": 0,
           "arrowwidth": 1
          },
          "coloraxis": {
           "colorbar": {
            "outlinewidth": 0,
            "ticks": ""
           }
          },
          "colorscale": {
           "diverging": [
            [
             0,
             "#8e0152"
            ],
            [
             0.1,
             "#c51b7d"
            ],
            [
             0.2,
             "#de77ae"
            ],
            [
             0.3,
             "#f1b6da"
            ],
            [
             0.4,
             "#fde0ef"
            ],
            [
             0.5,
             "#f7f7f7"
            ],
            [
             0.6,
             "#e6f5d0"
            ],
            [
             0.7,
             "#b8e186"
            ],
            [
             0.8,
             "#7fbc41"
            ],
            [
             0.9,
             "#4d9221"
            ],
            [
             1,
             "#276419"
            ]
           ],
           "sequential": [
            [
             0,
             "#0d0887"
            ],
            [
             0.1111111111111111,
             "#46039f"
            ],
            [
             0.2222222222222222,
             "#7201a8"
            ],
            [
             0.3333333333333333,
             "#9c179e"
            ],
            [
             0.4444444444444444,
             "#bd3786"
            ],
            [
             0.5555555555555556,
             "#d8576b"
            ],
            [
             0.6666666666666666,
             "#ed7953"
            ],
            [
             0.7777777777777778,
             "#fb9f3a"
            ],
            [
             0.8888888888888888,
             "#fdca26"
            ],
            [
             1,
             "#f0f921"
            ]
           ],
           "sequentialminus": [
            [
             0,
             "#0d0887"
            ],
            [
             0.1111111111111111,
             "#46039f"
            ],
            [
             0.2222222222222222,
             "#7201a8"
            ],
            [
             0.3333333333333333,
             "#9c179e"
            ],
            [
             0.4444444444444444,
             "#bd3786"
            ],
            [
             0.5555555555555556,
             "#d8576b"
            ],
            [
             0.6666666666666666,
             "#ed7953"
            ],
            [
             0.7777777777777778,
             "#fb9f3a"
            ],
            [
             0.8888888888888888,
             "#fdca26"
            ],
            [
             1,
             "#f0f921"
            ]
           ]
          },
          "colorway": [
           "#636efa",
           "#EF553B",
           "#00cc96",
           "#ab63fa",
           "#FFA15A",
           "#19d3f3",
           "#FF6692",
           "#B6E880",
           "#FF97FF",
           "#FECB52"
          ],
          "font": {
           "color": "#2a3f5f"
          },
          "geo": {
           "bgcolor": "white",
           "lakecolor": "white",
           "landcolor": "#E5ECF6",
           "showlakes": true,
           "showland": true,
           "subunitcolor": "white"
          },
          "hoverlabel": {
           "align": "left"
          },
          "hovermode": "closest",
          "mapbox": {
           "style": "light"
          },
          "paper_bgcolor": "white",
          "plot_bgcolor": "#E5ECF6",
          "polar": {
           "angularaxis": {
            "gridcolor": "white",
            "linecolor": "white",
            "ticks": ""
           },
           "bgcolor": "#E5ECF6",
           "radialaxis": {
            "gridcolor": "white",
            "linecolor": "white",
            "ticks": ""
           }
          },
          "scene": {
           "xaxis": {
            "backgroundcolor": "#E5ECF6",
            "gridcolor": "white",
            "gridwidth": 2,
            "linecolor": "white",
            "showbackground": true,
            "ticks": "",
            "zerolinecolor": "white"
           },
           "yaxis": {
            "backgroundcolor": "#E5ECF6",
            "gridcolor": "white",
            "gridwidth": 2,
            "linecolor": "white",
            "showbackground": true,
            "ticks": "",
            "zerolinecolor": "white"
           },
           "zaxis": {
            "backgroundcolor": "#E5ECF6",
            "gridcolor": "white",
            "gridwidth": 2,
            "linecolor": "white",
            "showbackground": true,
            "ticks": "",
            "zerolinecolor": "white"
           }
          },
          "shapedefaults": {
           "line": {
            "color": "#2a3f5f"
           }
          },
          "ternary": {
           "aaxis": {
            "gridcolor": "white",
            "linecolor": "white",
            "ticks": ""
           },
           "baxis": {
            "gridcolor": "white",
            "linecolor": "white",
            "ticks": ""
           },
           "bgcolor": "#E5ECF6",
           "caxis": {
            "gridcolor": "white",
            "linecolor": "white",
            "ticks": ""
           }
          },
          "title": {
           "x": 0.05
          },
          "xaxis": {
           "automargin": true,
           "gridcolor": "white",
           "linecolor": "white",
           "ticks": "",
           "title": {
            "standoff": 15
           },
           "zerolinecolor": "white",
           "zerolinewidth": 2
          },
          "yaxis": {
           "automargin": true,
           "gridcolor": "white",
           "linecolor": "white",
           "ticks": "",
           "title": {
            "standoff": 15
           },
           "zerolinecolor": "white",
           "zerolinewidth": 2
          }
         }
        },
        "title": {
         "text": "Long-Form Input"
        },
        "width": 1350,
        "xaxis": {
         "anchor": "y",
         "domain": [
          0,
          1
         ],
         "range": [
          1,
          13
         ],
         "title": {
          "text": "portfolio"
         }
        },
        "yaxis": {
         "anchor": "x",
         "domain": [
          0,
          1
         ],
         "range": [
          -20.29,
          135
         ],
         "title": {
          "text": "percent"
         }
        }
       }
      },
      "text/html": [
       "<div>\n",
       "        \n",
       "        \n",
       "            <div id=\"79191bc4-08c9-4938-99c9-93683f36add7\" class=\"plotly-graph-div\" style=\"height:800px; width:1350px;\"></div>\n",
       "            <script type=\"text/javascript\">\n",
       "                require([\"plotly\"], function(Plotly) {\n",
       "                    window.PLOTLYENV=window.PLOTLYENV || {};\n",
       "                    \n",
       "                if (document.getElementById(\"79191bc4-08c9-4938-99c9-93683f36add7\")) {\n",
       "                    Plotly.newPlot(\n",
       "                        '79191bc4-08c9-4938-99c9-93683f36add7',\n",
       "                        [{\"alignmentgroup\": \"True\", \"hoverlabel\": {\"namelength\": 0}, \"hovertemplate\": \"symbol=AAPL<br>date=2020-11-25<br>portfolio=%{x}<br>percent=%{y}\", \"ids\": [\"2020-11-25\"], \"legendgroup\": \"AAPL\", \"marker\": {\"color\": \"#636efa\"}, \"name\": \"AAPL\", \"offsetgroup\": \"AAPL\", \"orientation\": \"v\", \"showlegend\": true, \"textposition\": \"auto\", \"type\": \"bar\", \"x\": [\"Mega Capital\"], \"xaxis\": \"x\", \"y\": [0.48], \"yaxis\": \"y\"}, {\"alignmentgroup\": \"True\", \"hoverlabel\": {\"namelength\": 0}, \"hovertemplate\": \"symbol=ABBV<br>date=2020-11-25<br>portfolio=%{x}<br>percent=%{y}\", \"ids\": [\"2020-11-25\"], \"legendgroup\": \"ABBV\", \"marker\": {\"color\": \"#EF553B\"}, \"name\": \"ABBV\", \"offsetgroup\": \"ABBV\", \"orientation\": \"v\", \"showlegend\": true, \"textposition\": \"auto\", \"type\": \"bar\", \"x\": [\"Biotechnology\"], \"xaxis\": \"x\", \"y\": [0.66], \"yaxis\": \"y\"}, {\"alignmentgroup\": \"True\", \"hoverlabel\": {\"namelength\": 0}, \"hovertemplate\": \"symbol=AMZN<br>date=2020-11-25<br>portfolio=%{x}<br>percent=%{y}\", \"ids\": [\"2020-11-25\"], \"legendgroup\": \"AMZN\", \"marker\": {\"color\": \"#00cc96\"}, \"name\": \"AMZN\", \"offsetgroup\": \"AMZN\", \"orientation\": \"v\", \"showlegend\": true, \"textposition\": \"auto\", \"type\": \"bar\", \"x\": [\"Mega Capital\"], \"xaxis\": \"x\", \"y\": [0.32], \"yaxis\": \"y\"}, {\"alignmentgroup\": \"True\", \"hoverlabel\": {\"namelength\": 0}, \"hovertemplate\": \"symbol=AVGO<br>date=2020-11-25<br>portfolio=%{x}<br>percent=%{y}\", \"ids\": [\"2020-11-25\"], \"legendgroup\": \"AVGO\", \"marker\": {\"color\": \"#ab63fa\"}, \"name\": \"AVGO\", \"offsetgroup\": \"AVGO\", \"orientation\": \"v\", \"showlegend\": true, \"textposition\": \"auto\", \"type\": \"bar\", \"x\": [\"5G\"], \"xaxis\": \"x\", \"y\": [1.05], \"yaxis\": \"y\"}, {\"alignmentgroup\": \"True\", \"hoverlabel\": {\"namelength\": 0}, \"hovertemplate\": \"symbol=AZRE<br>date=2020-11-25<br>portfolio=%{x}<br>percent=%{y}\", \"ids\": [\"2020-11-25\"], \"legendgroup\": \"AZRE\", \"marker\": {\"color\": \"#FFA15A\"}, \"name\": \"AZRE\", \"offsetgroup\": \"AZRE\", \"orientation\": \"v\", \"showlegend\": true, \"textposition\": \"auto\", \"type\": \"bar\", \"x\": [\"Energy Renewalbe\"], \"xaxis\": \"x\", \"y\": [2.3], \"yaxis\": \"y\"}, {\"alignmentgroup\": \"True\", \"hoverlabel\": {\"namelength\": 0}, \"hovertemplate\": \"symbol=BEKE<br>date=2020-11-25<br>portfolio=%{x}<br>percent=%{y}\", \"ids\": [\"2020-11-25\"], \"legendgroup\": \"BEKE\", \"marker\": {\"color\": \"#19d3f3\"}, \"name\": \"BEKE\", \"offsetgroup\": \"BEKE\", \"orientation\": \"v\", \"showlegend\": true, \"textposition\": \"auto\", \"type\": \"bar\", \"x\": [\"REIT\"], \"xaxis\": \"x\", \"y\": [6.55], \"yaxis\": \"y\"}, {\"alignmentgroup\": \"True\", \"hoverlabel\": {\"namelength\": 0}, \"hovertemplate\": \"symbol=BYDDF<br>date=2020-11-25<br>portfolio=%{x}<br>percent=%{y}\", \"ids\": [\"2020-11-25\"], \"legendgroup\": \"BYDDF\", \"marker\": {\"color\": \"#FF6692\"}, \"name\": \"BYDDF\", \"offsetgroup\": \"BYDDF\", \"orientation\": \"v\", \"showlegend\": true, \"textposition\": \"auto\", \"type\": \"bar\", \"x\": [\"Electric Vehicles\"], \"xaxis\": \"x\", \"y\": [-3.0], \"yaxis\": \"y\"}, {\"alignmentgroup\": \"True\", \"hoverlabel\": {\"namelength\": 0}, \"hovertemplate\": \"symbol=CSIQ<br>date=2020-11-25<br>portfolio=%{x}<br>percent=%{y}\", \"ids\": [\"2020-11-25\"], \"legendgroup\": \"CSIQ\", \"marker\": {\"color\": \"#B6E880\"}, \"name\": \"CSIQ\", \"offsetgroup\": \"CSIQ\", \"orientation\": \"v\", \"showlegend\": true, \"textposition\": \"auto\", \"type\": \"bar\", \"x\": [\"Electricity Solar\"], \"xaxis\": \"x\", \"y\": [2.96], \"yaxis\": \"y\"}, {\"alignmentgroup\": \"True\", \"hoverlabel\": {\"namelength\": 0}, \"hovertemplate\": \"symbol=DOCRF<br>date=2020-11-25<br>portfolio=%{x}<br>percent=%{y}\", \"ids\": [\"2020-11-25\"], \"legendgroup\": \"DOCRF\", \"marker\": {\"color\": \"#FF97FF\"}, \"name\": \"DOCRF\", \"offsetgroup\": \"DOCRF\", \"orientation\": \"v\", \"showlegend\": true, \"textposition\": \"auto\", \"type\": \"bar\", \"x\": [\"Cloud Retail Apps\"], \"xaxis\": \"x\", \"y\": [1.09], \"yaxis\": \"y\"}, {\"alignmentgroup\": \"True\", \"hoverlabel\": {\"namelength\": 0}, \"hovertemplate\": \"symbol=DQ<br>date=2020-11-25<br>portfolio=%{x}<br>percent=%{y}\", \"ids\": [\"2020-11-25\"], \"legendgroup\": \"DQ\", \"marker\": {\"color\": \"#FECB52\"}, \"name\": \"DQ\", \"offsetgroup\": \"DQ\", \"orientation\": \"v\", \"showlegend\": true, \"textposition\": \"auto\", \"type\": \"bar\", \"x\": [\"Electricity Solar\"], \"xaxis\": \"x\", \"y\": [5.04], \"yaxis\": \"y\"}, {\"alignmentgroup\": \"True\", \"hoverlabel\": {\"namelength\": 0}, \"hovertemplate\": \"symbol=ENPH<br>date=2020-11-25<br>portfolio=%{x}<br>percent=%{y}\", \"ids\": [\"2020-11-25\"], \"legendgroup\": \"ENPH\", \"marker\": {\"color\": \"#636efa\"}, \"name\": \"ENPH\", \"offsetgroup\": \"ENPH\", \"orientation\": \"v\", \"showlegend\": true, \"textposition\": \"auto\", \"type\": \"bar\", \"x\": [\"Electricity Solar\"], \"xaxis\": \"x\", \"y\": [1.07], \"yaxis\": \"y\"}, {\"alignmentgroup\": \"True\", \"hoverlabel\": {\"namelength\": 0}, \"hovertemplate\": \"symbol=FFC<br>date=2020-11-25<br>portfolio=%{x}<br>percent=%{y}\", \"ids\": [\"2020-11-25\"], \"legendgroup\": \"FFC\", \"marker\": {\"color\": \"#EF553B\"}, \"name\": \"FFC\", \"offsetgroup\": \"FFC\", \"orientation\": \"v\", \"showlegend\": true, \"textposition\": \"auto\", \"type\": \"bar\", \"x\": [\"Dividend\"], \"xaxis\": \"x\", \"y\": [0.62], \"yaxis\": \"y\"}, {\"alignmentgroup\": \"True\", \"hoverlabel\": {\"namelength\": 0}, \"hovertemplate\": \"symbol=FLC<br>date=2020-11-25<br>portfolio=%{x}<br>percent=%{y}\", \"ids\": [\"2020-11-25\"], \"legendgroup\": \"FLC\", \"marker\": {\"color\": \"#00cc96\"}, \"name\": \"FLC\", \"offsetgroup\": \"FLC\", \"orientation\": \"v\", \"showlegend\": true, \"textposition\": \"auto\", \"type\": \"bar\", \"x\": [\"Dividend\"], \"xaxis\": \"x\", \"y\": [1.35], \"yaxis\": \"y\"}, {\"alignmentgroup\": \"True\", \"hoverlabel\": {\"namelength\": 0}, \"hovertemplate\": \"symbol=FSLR<br>date=2020-11-25<br>portfolio=%{x}<br>percent=%{y}\", \"ids\": [\"2020-11-25\"], \"legendgroup\": \"FSLR\", \"marker\": {\"color\": \"#ab63fa\"}, \"name\": \"FSLR\", \"offsetgroup\": \"FSLR\", \"orientation\": \"v\", \"showlegend\": true, \"textposition\": \"auto\", \"type\": \"bar\", \"x\": [\"Electricity Solar\"], \"xaxis\": \"x\", \"y\": [2.43], \"yaxis\": \"y\"}, {\"alignmentgroup\": \"True\", \"hoverlabel\": {\"namelength\": 0}, \"hovertemplate\": \"symbol=LI<br>date=2020-11-25<br>portfolio=%{x}<br>percent=%{y}\", \"ids\": [\"2020-11-25\"], \"legendgroup\": \"LI\", \"marker\": {\"color\": \"#FFA15A\"}, \"name\": \"LI\", \"offsetgroup\": \"LI\", \"orientation\": \"v\", \"showlegend\": true, \"textposition\": \"auto\", \"type\": \"bar\", \"x\": [\"Electric Vehicles\"], \"xaxis\": \"x\", \"y\": [-3.05], \"yaxis\": \"y\"}, {\"alignmentgroup\": \"True\", \"hoverlabel\": {\"namelength\": 0}, \"hovertemplate\": \"symbol=LMND<br>date=2020-11-25<br>portfolio=%{x}<br>percent=%{y}\", \"ids\": [\"2020-11-25\"], \"legendgroup\": \"LMND\", \"marker\": {\"color\": \"#19d3f3\"}, \"name\": \"LMND\", \"offsetgroup\": \"LMND\", \"orientation\": \"v\", \"showlegend\": true, \"textposition\": \"auto\", \"type\": \"bar\", \"x\": [\"Insurance\"], \"xaxis\": \"x\", \"y\": [10.13], \"yaxis\": \"y\"}, {\"alignmentgroup\": \"True\", \"hoverlabel\": {\"namelength\": 0}, \"hovertemplate\": \"symbol=MSFT<br>date=2020-11-25<br>portfolio=%{x}<br>percent=%{y}\", \"ids\": [\"2020-11-25\"], \"legendgroup\": \"MSFT\", \"marker\": {\"color\": \"#FF6692\"}, \"name\": \"MSFT\", \"offsetgroup\": \"MSFT\", \"orientation\": \"v\", \"showlegend\": true, \"textposition\": \"auto\", \"type\": \"bar\", \"x\": [\"Mega Capital\"], \"xaxis\": \"x\", \"y\": [0.64], \"yaxis\": \"y\"}, {\"alignmentgroup\": \"True\", \"hoverlabel\": {\"namelength\": 0}, \"hovertemplate\": \"symbol=NVDA<br>date=2020-11-25<br>portfolio=%{x}<br>percent=%{y}\", \"ids\": [\"2020-11-25\"], \"legendgroup\": \"NVDA\", \"marker\": {\"color\": \"#B6E880\"}, \"name\": \"NVDA\", \"offsetgroup\": \"NVDA\", \"orientation\": \"v\", \"showlegend\": true, \"textposition\": \"auto\", \"type\": \"bar\", \"x\": [\"Semiconductors\"], \"xaxis\": \"x\", \"y\": [0.2], \"yaxis\": \"y\"}, {\"alignmentgroup\": \"True\", \"hoverlabel\": {\"namelength\": 0}, \"hovertemplate\": \"symbol=QCOM<br>date=2020-11-25<br>portfolio=%{x}<br>percent=%{y}\", \"ids\": [\"2020-11-25\"], \"legendgroup\": \"QCOM\", \"marker\": {\"color\": \"#FF97FF\"}, \"name\": \"QCOM\", \"offsetgroup\": \"QCOM\", \"orientation\": \"v\", \"showlegend\": true, \"textposition\": \"auto\", \"type\": \"bar\", \"x\": [\"Semiconductors\"], \"xaxis\": \"x\", \"y\": [-0.17], \"yaxis\": \"y\"}, {\"alignmentgroup\": \"True\", \"hoverlabel\": {\"namelength\": 0}, \"hovertemplate\": \"symbol=SPWR<br>date=2020-11-25<br>portfolio=%{x}<br>percent=%{y}\", \"ids\": [\"2020-11-25\"], \"legendgroup\": \"SPWR\", \"marker\": {\"color\": \"#FECB52\"}, \"name\": \"SPWR\", \"offsetgroup\": \"SPWR\", \"orientation\": \"v\", \"showlegend\": true, \"textposition\": \"auto\", \"type\": \"bar\", \"x\": [\"Electricity Solar\"], \"xaxis\": \"x\", \"y\": [-0.81], \"yaxis\": \"y\"}, {\"alignmentgroup\": \"True\", \"hoverlabel\": {\"namelength\": 0}, \"hovertemplate\": \"symbol=TDF<br>date=2020-11-25<br>portfolio=%{x}<br>percent=%{y}\", \"ids\": [\"2020-11-25\"], \"legendgroup\": \"TDF\", \"marker\": {\"color\": \"#636efa\"}, \"name\": \"TDF\", \"offsetgroup\": \"TDF\", \"orientation\": \"v\", \"showlegend\": true, \"textposition\": \"auto\", \"type\": \"bar\", \"x\": [\"CEF\"], \"xaxis\": \"x\", \"y\": [0.45], \"yaxis\": \"y\"}, {\"alignmentgroup\": \"True\", \"hoverlabel\": {\"namelength\": 0}, \"hovertemplate\": \"symbol=TSM<br>date=2020-11-25<br>portfolio=%{x}<br>percent=%{y}\", \"ids\": [\"2020-11-25\"], \"legendgroup\": \"TSM\", \"marker\": {\"color\": \"#EF553B\"}, \"name\": \"TSM\", \"offsetgroup\": \"TSM\", \"orientation\": \"v\", \"showlegend\": true, \"textposition\": \"auto\", \"type\": \"bar\", \"x\": [\"Semiconductors\"], \"xaxis\": \"x\", \"y\": [1.28], \"yaxis\": \"y\"}, {\"alignmentgroup\": \"True\", \"hoverlabel\": {\"namelength\": 0}, \"hovertemplate\": \"symbol=VWDRY<br>date=2020-11-25<br>portfolio=%{x}<br>percent=%{y}\", \"ids\": [\"2020-11-25\"], \"legendgroup\": \"VWDRY\", \"marker\": {\"color\": \"#00cc96\"}, \"name\": \"VWDRY\", \"offsetgroup\": \"VWDRY\", \"orientation\": \"v\", \"showlegend\": true, \"textposition\": \"auto\", \"type\": \"bar\", \"x\": [\"Electricity Wind\"], \"xaxis\": \"x\", \"y\": [3.73], \"yaxis\": \"y\"}],\n",
       "                        {\"barmode\": \"relative\", \"height\": 800, \"legend\": {\"title\": {\"text\": \"symbol\"}, \"tracegroupgap\": 0}, \"sliders\": [{\"active\": 0, \"currentvalue\": {\"prefix\": \"date=\"}, \"len\": 0.9, \"pad\": {\"b\": 10, \"t\": 60}, \"steps\": [{\"args\": [[\"2020-11-25\"], {\"frame\": {\"duration\": 0, \"redraw\": true}, \"fromcurrent\": true, \"mode\": \"immediate\", \"transition\": {\"duration\": 0, \"easing\": \"linear\"}}], \"label\": \"2020-11-25\", \"method\": \"animate\"}, {\"args\": [[\"2020-11-19\"], {\"frame\": {\"duration\": 0, \"redraw\": true}, \"fromcurrent\": true, \"mode\": \"immediate\", \"transition\": {\"duration\": 0, \"easing\": \"linear\"}}], \"label\": \"2020-11-19\", \"method\": \"animate\"}, {\"args\": [[\"2020-11-12\"], {\"frame\": {\"duration\": 0, \"redraw\": true}, \"fromcurrent\": true, \"mode\": \"immediate\", \"transition\": {\"duration\": 0, \"easing\": \"linear\"}}], \"label\": \"2020-11-12\", \"method\": \"animate\"}, {\"args\": [[\"2020-11-05\"], {\"frame\": {\"duration\": 0, \"redraw\": true}, \"fromcurrent\": true, \"mode\": \"immediate\", \"transition\": {\"duration\": 0, \"easing\": \"linear\"}}], \"label\": \"2020-11-05\", \"method\": \"animate\"}, {\"args\": [[\"2020-10-29\"], {\"frame\": {\"duration\": 0, \"redraw\": true}, \"fromcurrent\": true, \"mode\": \"immediate\", \"transition\": {\"duration\": 0, \"easing\": \"linear\"}}], \"label\": \"2020-10-29\", \"method\": \"animate\"}, {\"args\": [[\"2020-10-22\"], {\"frame\": {\"duration\": 0, \"redraw\": true}, \"fromcurrent\": true, \"mode\": \"immediate\", \"transition\": {\"duration\": 0, \"easing\": \"linear\"}}], \"label\": \"2020-10-22\", \"method\": \"animate\"}, {\"args\": [[\"2020-10-15\"], {\"frame\": {\"duration\": 0, \"redraw\": true}, \"fromcurrent\": true, \"mode\": \"immediate\", \"transition\": {\"duration\": 0, \"easing\": \"linear\"}}], \"label\": \"2020-10-15\", \"method\": \"animate\"}, {\"args\": [[\"2020-10-08\"], {\"frame\": {\"duration\": 0, \"redraw\": true}, \"fromcurrent\": true, \"mode\": \"immediate\", \"transition\": {\"duration\": 0, \"easing\": \"linear\"}}], \"label\": \"2020-10-08\", \"method\": \"animate\"}, {\"args\": [[\"2020-10-01\"], {\"frame\": {\"duration\": 0, \"redraw\": true}, \"fromcurrent\": true, \"mode\": \"immediate\", \"transition\": {\"duration\": 0, \"easing\": \"linear\"}}], \"label\": \"2020-10-01\", \"method\": \"animate\"}], \"x\": 0.1, \"xanchor\": \"left\", \"y\": 0, \"yanchor\": \"top\"}], \"template\": {\"data\": {\"bar\": [{\"error_x\": {\"color\": \"#2a3f5f\"}, \"error_y\": {\"color\": \"#2a3f5f\"}, \"marker\": {\"line\": {\"color\": \"#E5ECF6\", \"width\": 0.5}}, \"type\": \"bar\"}], \"barpolar\": [{\"marker\": {\"line\": {\"color\": \"#E5ECF6\", \"width\": 0.5}}, \"type\": \"barpolar\"}], \"carpet\": [{\"aaxis\": {\"endlinecolor\": \"#2a3f5f\", \"gridcolor\": \"white\", \"linecolor\": \"white\", \"minorgridcolor\": \"white\", \"startlinecolor\": \"#2a3f5f\"}, \"baxis\": {\"endlinecolor\": \"#2a3f5f\", \"gridcolor\": \"white\", \"linecolor\": \"white\", \"minorgridcolor\": \"white\", \"startlinecolor\": \"#2a3f5f\"}, \"type\": \"carpet\"}], \"choropleth\": [{\"colorbar\": {\"outlinewidth\": 0, \"ticks\": \"\"}, \"type\": \"choropleth\"}], \"contour\": [{\"colorbar\": {\"outlinewidth\": 0, \"ticks\": \"\"}, \"colorscale\": [[0.0, \"#0d0887\"], [0.1111111111111111, \"#46039f\"], [0.2222222222222222, \"#7201a8\"], [0.3333333333333333, \"#9c179e\"], [0.4444444444444444, \"#bd3786\"], [0.5555555555555556, \"#d8576b\"], [0.6666666666666666, \"#ed7953\"], [0.7777777777777778, \"#fb9f3a\"], [0.8888888888888888, \"#fdca26\"], [1.0, \"#f0f921\"]], \"type\": \"contour\"}], \"contourcarpet\": [{\"colorbar\": {\"outlinewidth\": 0, \"ticks\": \"\"}, \"type\": \"contourcarpet\"}], \"heatmap\": [{\"colorbar\": {\"outlinewidth\": 0, \"ticks\": \"\"}, \"colorscale\": [[0.0, \"#0d0887\"], [0.1111111111111111, \"#46039f\"], [0.2222222222222222, \"#7201a8\"], [0.3333333333333333, \"#9c179e\"], [0.4444444444444444, \"#bd3786\"], [0.5555555555555556, \"#d8576b\"], [0.6666666666666666, \"#ed7953\"], [0.7777777777777778, \"#fb9f3a\"], [0.8888888888888888, \"#fdca26\"], [1.0, \"#f0f921\"]], \"type\": \"heatmap\"}], \"heatmapgl\": [{\"colorbar\": {\"outlinewidth\": 0, \"ticks\": \"\"}, \"colorscale\": [[0.0, \"#0d0887\"], [0.1111111111111111, \"#46039f\"], [0.2222222222222222, \"#7201a8\"], [0.3333333333333333, \"#9c179e\"], [0.4444444444444444, \"#bd3786\"], [0.5555555555555556, \"#d8576b\"], [0.6666666666666666, \"#ed7953\"], [0.7777777777777778, \"#fb9f3a\"], [0.8888888888888888, \"#fdca26\"], [1.0, \"#f0f921\"]], \"type\": \"heatmapgl\"}], \"histogram\": [{\"marker\": {\"colorbar\": {\"outlinewidth\": 0, \"ticks\": \"\"}}, \"type\": \"histogram\"}], \"histogram2d\": [{\"colorbar\": {\"outlinewidth\": 0, \"ticks\": \"\"}, \"colorscale\": [[0.0, \"#0d0887\"], [0.1111111111111111, \"#46039f\"], [0.2222222222222222, \"#7201a8\"], [0.3333333333333333, \"#9c179e\"], [0.4444444444444444, \"#bd3786\"], [0.5555555555555556, \"#d8576b\"], [0.6666666666666666, \"#ed7953\"], [0.7777777777777778, \"#fb9f3a\"], [0.8888888888888888, \"#fdca26\"], [1.0, \"#f0f921\"]], \"type\": \"histogram2d\"}], \"histogram2dcontour\": [{\"colorbar\": {\"outlinewidth\": 0, \"ticks\": \"\"}, \"colorscale\": [[0.0, \"#0d0887\"], [0.1111111111111111, \"#46039f\"], [0.2222222222222222, \"#7201a8\"], [0.3333333333333333, \"#9c179e\"], [0.4444444444444444, \"#bd3786\"], [0.5555555555555556, \"#d8576b\"], [0.6666666666666666, \"#ed7953\"], [0.7777777777777778, \"#fb9f3a\"], [0.8888888888888888, \"#fdca26\"], [1.0, \"#f0f921\"]], \"type\": \"histogram2dcontour\"}], \"mesh3d\": [{\"colorbar\": {\"outlinewidth\": 0, \"ticks\": \"\"}, \"type\": \"mesh3d\"}], \"parcoords\": [{\"line\": {\"colorbar\": {\"outlinewidth\": 0, \"ticks\": \"\"}}, \"type\": \"parcoords\"}], \"pie\": [{\"automargin\": true, \"type\": \"pie\"}], \"scatter\": [{\"marker\": {\"colorbar\": {\"outlinewidth\": 0, \"ticks\": \"\"}}, \"type\": \"scatter\"}], \"scatter3d\": [{\"line\": {\"colorbar\": {\"outlinewidth\": 0, \"ticks\": \"\"}}, \"marker\": {\"colorbar\": {\"outlinewidth\": 0, \"ticks\": \"\"}}, \"type\": \"scatter3d\"}], \"scattercarpet\": [{\"marker\": {\"colorbar\": {\"outlinewidth\": 0, \"ticks\": \"\"}}, \"type\": \"scattercarpet\"}], \"scattergeo\": [{\"marker\": {\"colorbar\": {\"outlinewidth\": 0, \"ticks\": \"\"}}, \"type\": \"scattergeo\"}], \"scattergl\": [{\"marker\": {\"colorbar\": {\"outlinewidth\": 0, \"ticks\": \"\"}}, \"type\": \"scattergl\"}], \"scattermapbox\": [{\"marker\": {\"colorbar\": {\"outlinewidth\": 0, \"ticks\": \"\"}}, \"type\": \"scattermapbox\"}], \"scatterpolar\": [{\"marker\": {\"colorbar\": {\"outlinewidth\": 0, \"ticks\": \"\"}}, \"type\": \"scatterpolar\"}], \"scatterpolargl\": [{\"marker\": {\"colorbar\": {\"outlinewidth\": 0, \"ticks\": \"\"}}, \"type\": \"scatterpolargl\"}], \"scatterternary\": [{\"marker\": {\"colorbar\": {\"outlinewidth\": 0, \"ticks\": \"\"}}, \"type\": \"scatterternary\"}], \"surface\": [{\"colorbar\": {\"outlinewidth\": 0, \"ticks\": \"\"}, \"colorscale\": [[0.0, \"#0d0887\"], [0.1111111111111111, \"#46039f\"], [0.2222222222222222, \"#7201a8\"], [0.3333333333333333, \"#9c179e\"], [0.4444444444444444, \"#bd3786\"], [0.5555555555555556, \"#d8576b\"], [0.6666666666666666, \"#ed7953\"], [0.7777777777777778, \"#fb9f3a\"], [0.8888888888888888, \"#fdca26\"], [1.0, \"#f0f921\"]], \"type\": \"surface\"}], \"table\": [{\"cells\": {\"fill\": {\"color\": \"#EBF0F8\"}, \"line\": {\"color\": \"white\"}}, \"header\": {\"fill\": {\"color\": \"#C8D4E3\"}, \"line\": {\"color\": \"white\"}}, \"type\": \"table\"}]}, \"layout\": {\"annotationdefaults\": {\"arrowcolor\": \"#2a3f5f\", \"arrowhead\": 0, \"arrowwidth\": 1}, \"coloraxis\": {\"colorbar\": {\"outlinewidth\": 0, \"ticks\": \"\"}}, \"colorscale\": {\"diverging\": [[0, \"#8e0152\"], [0.1, \"#c51b7d\"], [0.2, \"#de77ae\"], [0.3, \"#f1b6da\"], [0.4, \"#fde0ef\"], [0.5, \"#f7f7f7\"], [0.6, \"#e6f5d0\"], [0.7, \"#b8e186\"], [0.8, \"#7fbc41\"], [0.9, \"#4d9221\"], [1, \"#276419\"]], \"sequential\": [[0.0, \"#0d0887\"], [0.1111111111111111, \"#46039f\"], [0.2222222222222222, \"#7201a8\"], [0.3333333333333333, \"#9c179e\"], [0.4444444444444444, \"#bd3786\"], [0.5555555555555556, \"#d8576b\"], [0.6666666666666666, \"#ed7953\"], [0.7777777777777778, \"#fb9f3a\"], [0.8888888888888888, \"#fdca26\"], [1.0, \"#f0f921\"]], \"sequentialminus\": [[0.0, \"#0d0887\"], [0.1111111111111111, \"#46039f\"], [0.2222222222222222, \"#7201a8\"], [0.3333333333333333, \"#9c179e\"], [0.4444444444444444, \"#bd3786\"], [0.5555555555555556, \"#d8576b\"], [0.6666666666666666, \"#ed7953\"], [0.7777777777777778, \"#fb9f3a\"], [0.8888888888888888, \"#fdca26\"], [1.0, \"#f0f921\"]]}, \"colorway\": [\"#636efa\", \"#EF553B\", \"#00cc96\", \"#ab63fa\", \"#FFA15A\", \"#19d3f3\", \"#FF6692\", \"#B6E880\", \"#FF97FF\", \"#FECB52\"], \"font\": {\"color\": \"#2a3f5f\"}, \"geo\": {\"bgcolor\": \"white\", \"lakecolor\": \"white\", \"landcolor\": \"#E5ECF6\", \"showlakes\": true, \"showland\": true, \"subunitcolor\": \"white\"}, \"hoverlabel\": {\"align\": \"left\"}, \"hovermode\": \"closest\", \"mapbox\": {\"style\": \"light\"}, \"paper_bgcolor\": \"white\", \"plot_bgcolor\": \"#E5ECF6\", \"polar\": {\"angularaxis\": {\"gridcolor\": \"white\", \"linecolor\": \"white\", \"ticks\": \"\"}, \"bgcolor\": \"#E5ECF6\", \"radialaxis\": {\"gridcolor\": \"white\", \"linecolor\": \"white\", \"ticks\": \"\"}}, \"scene\": {\"xaxis\": {\"backgroundcolor\": \"#E5ECF6\", \"gridcolor\": \"white\", \"gridwidth\": 2, \"linecolor\": \"white\", \"showbackground\": true, \"ticks\": \"\", \"zerolinecolor\": \"white\"}, \"yaxis\": {\"backgroundcolor\": \"#E5ECF6\", \"gridcolor\": \"white\", \"gridwidth\": 2, \"linecolor\": \"white\", \"showbackground\": true, \"ticks\": \"\", \"zerolinecolor\": \"white\"}, \"zaxis\": {\"backgroundcolor\": \"#E5ECF6\", \"gridcolor\": \"white\", \"gridwidth\": 2, \"linecolor\": \"white\", \"showbackground\": true, \"ticks\": \"\", \"zerolinecolor\": \"white\"}}, \"shapedefaults\": {\"line\": {\"color\": \"#2a3f5f\"}}, \"ternary\": {\"aaxis\": {\"gridcolor\": \"white\", \"linecolor\": \"white\", \"ticks\": \"\"}, \"baxis\": {\"gridcolor\": \"white\", \"linecolor\": \"white\", \"ticks\": \"\"}, \"bgcolor\": \"#E5ECF6\", \"caxis\": {\"gridcolor\": \"white\", \"linecolor\": \"white\", \"ticks\": \"\"}}, \"title\": {\"x\": 0.05}, \"xaxis\": {\"automargin\": true, \"gridcolor\": \"white\", \"linecolor\": \"white\", \"ticks\": \"\", \"title\": {\"standoff\": 15}, \"zerolinecolor\": \"white\", \"zerolinewidth\": 2}, \"yaxis\": {\"automargin\": true, \"gridcolor\": \"white\", \"linecolor\": \"white\", \"ticks\": \"\", \"title\": {\"standoff\": 15}, \"zerolinecolor\": \"white\", \"zerolinewidth\": 2}}}, \"title\": {\"text\": \"Long-Form Input\"}, \"width\": 1350, \"xaxis\": {\"anchor\": \"y\", \"domain\": [0.0, 1.0], \"range\": [1, 13], \"title\": {\"text\": \"portfolio\"}}, \"yaxis\": {\"anchor\": \"x\", \"domain\": [0.0, 1.0], \"range\": [-20.29, 135.0], \"title\": {\"text\": \"percent\"}}},\n",
       "                        {\"responsive\": true}\n",
       "                    ).then(function(){\n",
       "                            Plotly.addFrames('79191bc4-08c9-4938-99c9-93683f36add7', [{\"data\": [{\"alignmentgroup\": \"True\", \"hoverlabel\": {\"namelength\": 0}, \"hovertemplate\": \"symbol=AAPL<br>date=2020-11-25<br>portfolio=%{x}<br>percent=%{y}\", \"ids\": [\"2020-11-25\"], \"legendgroup\": \"AAPL\", \"marker\": {\"color\": \"#636efa\"}, \"name\": \"AAPL\", \"offsetgroup\": \"AAPL\", \"orientation\": \"v\", \"showlegend\": true, \"textposition\": \"auto\", \"x\": [\"Mega Capital\"], \"xaxis\": \"x\", \"y\": [0.48], \"yaxis\": \"y\", \"type\": \"bar\"}, {\"alignmentgroup\": \"True\", \"hoverlabel\": {\"namelength\": 0}, \"hovertemplate\": \"symbol=ABBV<br>date=2020-11-25<br>portfolio=%{x}<br>percent=%{y}\", \"ids\": [\"2020-11-25\"], \"legendgroup\": \"ABBV\", \"marker\": {\"color\": \"#EF553B\"}, \"name\": \"ABBV\", \"offsetgroup\": \"ABBV\", \"orientation\": \"v\", \"showlegend\": true, \"textposition\": \"auto\", \"x\": [\"Biotechnology\"], \"xaxis\": \"x\", \"y\": [0.66], \"yaxis\": \"y\", \"type\": \"bar\"}, {\"alignmentgroup\": \"True\", \"hoverlabel\": {\"namelength\": 0}, \"hovertemplate\": \"symbol=AMZN<br>date=2020-11-25<br>portfolio=%{x}<br>percent=%{y}\", \"ids\": [\"2020-11-25\"], \"legendgroup\": \"AMZN\", \"marker\": {\"color\": \"#00cc96\"}, \"name\": \"AMZN\", \"offsetgroup\": \"AMZN\", \"orientation\": \"v\", \"showlegend\": true, \"textposition\": \"auto\", \"x\": [\"Mega Capital\"], \"xaxis\": \"x\", \"y\": [0.32], \"yaxis\": \"y\", \"type\": \"bar\"}, {\"alignmentgroup\": \"True\", \"hoverlabel\": {\"namelength\": 0}, \"hovertemplate\": \"symbol=AVGO<br>date=2020-11-25<br>portfolio=%{x}<br>percent=%{y}\", \"ids\": [\"2020-11-25\"], \"legendgroup\": \"AVGO\", \"marker\": {\"color\": \"#ab63fa\"}, \"name\": \"AVGO\", \"offsetgroup\": \"AVGO\", \"orientation\": \"v\", \"showlegend\": true, \"textposition\": \"auto\", \"x\": [\"5G\"], \"xaxis\": \"x\", \"y\": [1.05], \"yaxis\": \"y\", \"type\": \"bar\"}, {\"alignmentgroup\": \"True\", \"hoverlabel\": {\"namelength\": 0}, \"hovertemplate\": \"symbol=AZRE<br>date=2020-11-25<br>portfolio=%{x}<br>percent=%{y}\", \"ids\": [\"2020-11-25\"], \"legendgroup\": \"AZRE\", \"marker\": {\"color\": \"#FFA15A\"}, \"name\": \"AZRE\", \"offsetgroup\": \"AZRE\", \"orientation\": \"v\", \"showlegend\": true, \"textposition\": \"auto\", \"x\": [\"Energy Renewalbe\"], \"xaxis\": \"x\", \"y\": [2.3], \"yaxis\": \"y\", \"type\": \"bar\"}, {\"alignmentgroup\": \"True\", \"hoverlabel\": {\"namelength\": 0}, \"hovertemplate\": \"symbol=BEKE<br>date=2020-11-25<br>portfolio=%{x}<br>percent=%{y}\", \"ids\": [\"2020-11-25\"], \"legendgroup\": \"BEKE\", \"marker\": {\"color\": \"#19d3f3\"}, \"name\": \"BEKE\", \"offsetgroup\": \"BEKE\", \"orientation\": \"v\", \"showlegend\": true, \"textposition\": \"auto\", \"x\": [\"REIT\"], \"xaxis\": \"x\", \"y\": [6.55], \"yaxis\": \"y\", \"type\": \"bar\"}, {\"alignmentgroup\": \"True\", \"hoverlabel\": {\"namelength\": 0}, \"hovertemplate\": \"symbol=BYDDF<br>date=2020-11-25<br>portfolio=%{x}<br>percent=%{y}\", \"ids\": [\"2020-11-25\"], \"legendgroup\": \"BYDDF\", \"marker\": {\"color\": \"#FF6692\"}, \"name\": \"BYDDF\", \"offsetgroup\": \"BYDDF\", \"orientation\": \"v\", \"showlegend\": true, \"textposition\": \"auto\", \"x\": [\"Electric Vehicles\"], \"xaxis\": \"x\", \"y\": [-3.0], \"yaxis\": \"y\", \"type\": \"bar\"}, {\"alignmentgroup\": \"True\", \"hoverlabel\": {\"namelength\": 0}, \"hovertemplate\": \"symbol=CSIQ<br>date=2020-11-25<br>portfolio=%{x}<br>percent=%{y}\", \"ids\": [\"2020-11-25\"], \"legendgroup\": \"CSIQ\", \"marker\": {\"color\": \"#B6E880\"}, \"name\": \"CSIQ\", \"offsetgroup\": \"CSIQ\", \"orientation\": \"v\", \"showlegend\": true, \"textposition\": \"auto\", \"x\": [\"Electricity Solar\"], \"xaxis\": \"x\", \"y\": [2.96], \"yaxis\": \"y\", \"type\": \"bar\"}, {\"alignmentgroup\": \"True\", \"hoverlabel\": {\"namelength\": 0}, \"hovertemplate\": \"symbol=DOCRF<br>date=2020-11-25<br>portfolio=%{x}<br>percent=%{y}\", \"ids\": [\"2020-11-25\"], \"legendgroup\": \"DOCRF\", \"marker\": {\"color\": \"#FF97FF\"}, \"name\": \"DOCRF\", \"offsetgroup\": \"DOCRF\", \"orientation\": \"v\", \"showlegend\": true, \"textposition\": \"auto\", \"x\": [\"Cloud Retail Apps\"], \"xaxis\": \"x\", \"y\": [1.09], \"yaxis\": \"y\", \"type\": \"bar\"}, {\"alignmentgroup\": \"True\", \"hoverlabel\": {\"namelength\": 0}, \"hovertemplate\": \"symbol=DQ<br>date=2020-11-25<br>portfolio=%{x}<br>percent=%{y}\", \"ids\": [\"2020-11-25\"], \"legendgroup\": \"DQ\", \"marker\": {\"color\": \"#FECB52\"}, \"name\": \"DQ\", \"offsetgroup\": \"DQ\", \"orientation\": \"v\", \"showlegend\": true, \"textposition\": \"auto\", \"x\": [\"Electricity Solar\"], \"xaxis\": \"x\", \"y\": [5.04], \"yaxis\": \"y\", \"type\": \"bar\"}, {\"alignmentgroup\": \"True\", \"hoverlabel\": {\"namelength\": 0}, \"hovertemplate\": \"symbol=ENPH<br>date=2020-11-25<br>portfolio=%{x}<br>percent=%{y}\", \"ids\": [\"2020-11-25\"], \"legendgroup\": \"ENPH\", \"marker\": {\"color\": \"#636efa\"}, \"name\": \"ENPH\", \"offsetgroup\": \"ENPH\", \"orientation\": \"v\", \"showlegend\": true, \"textposition\": \"auto\", \"x\": [\"Electricity Solar\"], \"xaxis\": \"x\", \"y\": [1.07], \"yaxis\": \"y\", \"type\": \"bar\"}, {\"alignmentgroup\": \"True\", \"hoverlabel\": {\"namelength\": 0}, \"hovertemplate\": \"symbol=FFC<br>date=2020-11-25<br>portfolio=%{x}<br>percent=%{y}\", \"ids\": [\"2020-11-25\"], \"legendgroup\": \"FFC\", \"marker\": {\"color\": \"#EF553B\"}, \"name\": \"FFC\", \"offsetgroup\": \"FFC\", \"orientation\": \"v\", \"showlegend\": true, \"textposition\": \"auto\", \"x\": [\"Dividend\"], \"xaxis\": \"x\", \"y\": [0.62], \"yaxis\": \"y\", \"type\": \"bar\"}, {\"alignmentgroup\": \"True\", \"hoverlabel\": {\"namelength\": 0}, \"hovertemplate\": \"symbol=FLC<br>date=2020-11-25<br>portfolio=%{x}<br>percent=%{y}\", \"ids\": [\"2020-11-25\"], \"legendgroup\": \"FLC\", \"marker\": {\"color\": \"#00cc96\"}, \"name\": \"FLC\", \"offsetgroup\": \"FLC\", \"orientation\": \"v\", \"showlegend\": true, \"textposition\": \"auto\", \"x\": [\"Dividend\"], \"xaxis\": \"x\", \"y\": [1.35], \"yaxis\": \"y\", \"type\": \"bar\"}, {\"alignmentgroup\": \"True\", \"hoverlabel\": {\"namelength\": 0}, \"hovertemplate\": \"symbol=FSLR<br>date=2020-11-25<br>portfolio=%{x}<br>percent=%{y}\", \"ids\": [\"2020-11-25\"], \"legendgroup\": \"FSLR\", \"marker\": {\"color\": \"#ab63fa\"}, \"name\": \"FSLR\", \"offsetgroup\": \"FSLR\", \"orientation\": \"v\", \"showlegend\": true, \"textposition\": \"auto\", \"x\": [\"Electricity Solar\"], \"xaxis\": \"x\", \"y\": [2.43], \"yaxis\": \"y\", \"type\": \"bar\"}, {\"alignmentgroup\": \"True\", \"hoverlabel\": {\"namelength\": 0}, \"hovertemplate\": \"symbol=LI<br>date=2020-11-25<br>portfolio=%{x}<br>percent=%{y}\", \"ids\": [\"2020-11-25\"], \"legendgroup\": \"LI\", \"marker\": {\"color\": \"#FFA15A\"}, \"name\": \"LI\", \"offsetgroup\": \"LI\", \"orientation\": \"v\", \"showlegend\": true, \"textposition\": \"auto\", \"x\": [\"Electric Vehicles\"], \"xaxis\": \"x\", \"y\": [-3.05], \"yaxis\": \"y\", \"type\": \"bar\"}, {\"alignmentgroup\": \"True\", \"hoverlabel\": {\"namelength\": 0}, \"hovertemplate\": \"symbol=LMND<br>date=2020-11-25<br>portfolio=%{x}<br>percent=%{y}\", \"ids\": [\"2020-11-25\"], \"legendgroup\": \"LMND\", \"marker\": {\"color\": \"#19d3f3\"}, \"name\": \"LMND\", \"offsetgroup\": \"LMND\", \"orientation\": \"v\", \"showlegend\": true, \"textposition\": \"auto\", \"x\": [\"Insurance\"], \"xaxis\": \"x\", \"y\": [10.13], \"yaxis\": \"y\", \"type\": \"bar\"}, {\"alignmentgroup\": \"True\", \"hoverlabel\": {\"namelength\": 0}, \"hovertemplate\": \"symbol=MSFT<br>date=2020-11-25<br>portfolio=%{x}<br>percent=%{y}\", \"ids\": [\"2020-11-25\"], \"legendgroup\": \"MSFT\", \"marker\": {\"color\": \"#FF6692\"}, \"name\": \"MSFT\", \"offsetgroup\": \"MSFT\", \"orientation\": \"v\", \"showlegend\": true, \"textposition\": \"auto\", \"x\": [\"Mega Capital\"], \"xaxis\": \"x\", \"y\": [0.64], \"yaxis\": \"y\", \"type\": \"bar\"}, {\"alignmentgroup\": \"True\", \"hoverlabel\": {\"namelength\": 0}, \"hovertemplate\": \"symbol=NVDA<br>date=2020-11-25<br>portfolio=%{x}<br>percent=%{y}\", \"ids\": [\"2020-11-25\"], \"legendgroup\": \"NVDA\", \"marker\": {\"color\": \"#B6E880\"}, \"name\": \"NVDA\", \"offsetgroup\": \"NVDA\", \"orientation\": \"v\", \"showlegend\": true, \"textposition\": \"auto\", \"x\": [\"Semiconductors\"], \"xaxis\": \"x\", \"y\": [0.2], \"yaxis\": \"y\", \"type\": \"bar\"}, {\"alignmentgroup\": \"True\", \"hoverlabel\": {\"namelength\": 0}, \"hovertemplate\": \"symbol=QCOM<br>date=2020-11-25<br>portfolio=%{x}<br>percent=%{y}\", \"ids\": [\"2020-11-25\"], \"legendgroup\": \"QCOM\", \"marker\": {\"color\": \"#FF97FF\"}, \"name\": \"QCOM\", \"offsetgroup\": \"QCOM\", \"orientation\": \"v\", \"showlegend\": true, \"textposition\": \"auto\", \"x\": [\"Semiconductors\"], \"xaxis\": \"x\", \"y\": [-0.17], \"yaxis\": \"y\", \"type\": \"bar\"}, {\"alignmentgroup\": \"True\", \"hoverlabel\": {\"namelength\": 0}, \"hovertemplate\": \"symbol=SPWR<br>date=2020-11-25<br>portfolio=%{x}<br>percent=%{y}\", \"ids\": [\"2020-11-25\"], \"legendgroup\": \"SPWR\", \"marker\": {\"color\": \"#FECB52\"}, \"name\": \"SPWR\", \"offsetgroup\": \"SPWR\", \"orientation\": \"v\", \"showlegend\": true, \"textposition\": \"auto\", \"x\": [\"Electricity Solar\"], \"xaxis\": \"x\", \"y\": [-0.81], \"yaxis\": \"y\", \"type\": \"bar\"}, {\"alignmentgroup\": \"True\", \"hoverlabel\": {\"namelength\": 0}, \"hovertemplate\": \"symbol=TDF<br>date=2020-11-25<br>portfolio=%{x}<br>percent=%{y}\", \"ids\": [\"2020-11-25\"], \"legendgroup\": \"TDF\", \"marker\": {\"color\": \"#636efa\"}, \"name\": \"TDF\", \"offsetgroup\": \"TDF\", \"orientation\": \"v\", \"showlegend\": true, \"textposition\": \"auto\", \"x\": [\"CEF\"], \"xaxis\": \"x\", \"y\": [0.45], \"yaxis\": \"y\", \"type\": \"bar\"}, {\"alignmentgroup\": \"True\", \"hoverlabel\": {\"namelength\": 0}, \"hovertemplate\": \"symbol=TSM<br>date=2020-11-25<br>portfolio=%{x}<br>percent=%{y}\", \"ids\": [\"2020-11-25\"], \"legendgroup\": \"TSM\", \"marker\": {\"color\": \"#EF553B\"}, \"name\": \"TSM\", \"offsetgroup\": \"TSM\", \"orientation\": \"v\", \"showlegend\": true, \"textposition\": \"auto\", \"x\": [\"Semiconductors\"], \"xaxis\": \"x\", \"y\": [1.28], \"yaxis\": \"y\", \"type\": \"bar\"}, {\"alignmentgroup\": \"True\", \"hoverlabel\": {\"namelength\": 0}, \"hovertemplate\": \"symbol=VWDRY<br>date=2020-11-25<br>portfolio=%{x}<br>percent=%{y}\", \"ids\": [\"2020-11-25\"], \"legendgroup\": \"VWDRY\", \"marker\": {\"color\": \"#00cc96\"}, \"name\": \"VWDRY\", \"offsetgroup\": \"VWDRY\", \"orientation\": \"v\", \"showlegend\": true, \"textposition\": \"auto\", \"x\": [\"Electricity Wind\"], \"xaxis\": \"x\", \"y\": [3.73], \"yaxis\": \"y\", \"type\": \"bar\"}], \"name\": \"2020-11-25\"}, {\"data\": [{\"alignmentgroup\": \"True\", \"hoverlabel\": {\"namelength\": 0}, \"hovertemplate\": \"symbol=AAPL<br>date=2020-11-19<br>portfolio=%{x}<br>percent=%{y}\", \"ids\": [\"2020-11-19\"], \"legendgroup\": \"AAPL\", \"marker\": {\"color\": \"#636efa\"}, \"name\": \"AAPL\", \"offsetgroup\": \"AAPL\", \"orientation\": \"v\", \"showlegend\": true, \"textposition\": \"auto\", \"x\": [\"Mega Capital\"], \"xaxis\": \"x\", \"y\": [-1.73], \"yaxis\": \"y\", \"type\": \"bar\"}, {\"alignmentgroup\": \"True\", \"hoverlabel\": {\"namelength\": 0}, \"hovertemplate\": \"symbol=ABBV<br>date=2020-11-19<br>portfolio=%{x}<br>percent=%{y}\", \"ids\": [\"2020-11-19\"], \"legendgroup\": \"ABBV\", \"marker\": {\"color\": \"#EF553B\"}, \"name\": \"ABBV\", \"offsetgroup\": \"ABBV\", \"orientation\": \"v\", \"showlegend\": true, \"textposition\": \"auto\", \"x\": [\"Biotechnology\"], \"xaxis\": \"x\", \"y\": [5.24], \"yaxis\": \"y\", \"type\": \"bar\"}, {\"alignmentgroup\": \"True\", \"hoverlabel\": {\"namelength\": 0}, \"hovertemplate\": \"symbol=AMZN<br>date=2020-11-19<br>portfolio=%{x}<br>percent=%{y}\", \"ids\": [\"2020-11-19\"], \"legendgroup\": \"AMZN\", \"marker\": {\"color\": \"#00cc96\"}, \"name\": \"AMZN\", \"offsetgroup\": \"AMZN\", \"orientation\": \"v\", \"showlegend\": true, \"textposition\": \"auto\", \"x\": [\"Mega Capital\"], \"xaxis\": \"x\", \"y\": [2.51], \"yaxis\": \"y\", \"type\": \"bar\"}, {\"alignmentgroup\": \"True\", \"hoverlabel\": {\"namelength\": 0}, \"hovertemplate\": \"symbol=AVGO<br>date=2020-11-19<br>portfolio=%{x}<br>percent=%{y}\", \"ids\": [\"2020-11-19\"], \"legendgroup\": \"AVGO\", \"marker\": {\"color\": \"#ab63fa\"}, \"name\": \"AVGO\", \"offsetgroup\": \"AVGO\", \"orientation\": \"v\", \"showlegend\": true, \"textposition\": \"auto\", \"x\": [\"5G\"], \"xaxis\": \"x\", \"y\": [2.76], \"yaxis\": \"y\", \"type\": \"bar\"}, {\"alignmentgroup\": \"True\", \"hoverlabel\": {\"namelength\": 0}, \"hovertemplate\": \"symbol=AZRE<br>date=2020-11-19<br>portfolio=%{x}<br>percent=%{y}\", \"ids\": [\"2020-11-19\"], \"legendgroup\": \"AZRE\", \"marker\": {\"color\": \"#FFA15A\"}, \"name\": \"AZRE\", \"offsetgroup\": \"AZRE\", \"orientation\": \"v\", \"showlegend\": true, \"textposition\": \"auto\", \"x\": [\"Energy Renewalbe\"], \"xaxis\": \"x\", \"y\": [22.56], \"yaxis\": \"y\", \"type\": \"bar\"}, {\"alignmentgroup\": \"True\", \"hoverlabel\": {\"namelength\": 0}, \"hovertemplate\": \"symbol=BEKE<br>date=2020-11-19<br>portfolio=%{x}<br>percent=%{y}\", \"ids\": [\"2020-11-19\"], \"legendgroup\": \"BEKE\", \"marker\": {\"color\": \"#19d3f3\"}, \"name\": \"BEKE\", \"offsetgroup\": \"BEKE\", \"orientation\": \"v\", \"showlegend\": true, \"textposition\": \"auto\", \"x\": [\"REIT\"], \"xaxis\": \"x\", \"y\": [8.61], \"yaxis\": \"y\", \"type\": \"bar\"}, {\"alignmentgroup\": \"True\", \"hoverlabel\": {\"namelength\": 0}, \"hovertemplate\": \"symbol=BYDDF<br>date=2020-11-19<br>portfolio=%{x}<br>percent=%{y}\", \"ids\": [\"2020-11-19\"], \"legendgroup\": \"BYDDF\", \"marker\": {\"color\": \"#FF6692\"}, \"name\": \"BYDDF\", \"offsetgroup\": \"BYDDF\", \"orientation\": \"v\", \"showlegend\": true, \"textposition\": \"auto\", \"x\": [\"Electric Vehicles\"], \"xaxis\": \"x\", \"y\": [7.67], \"yaxis\": \"y\", \"type\": \"bar\"}, {\"alignmentgroup\": \"True\", \"hoverlabel\": {\"namelength\": 0}, \"hovertemplate\": \"symbol=CSIQ<br>date=2020-11-19<br>portfolio=%{x}<br>percent=%{y}\", \"ids\": [\"2020-11-19\"], \"legendgroup\": \"CSIQ\", \"marker\": {\"color\": \"#B6E880\"}, \"name\": \"CSIQ\", \"offsetgroup\": \"CSIQ\", \"orientation\": \"v\", \"showlegend\": true, \"textposition\": \"auto\", \"x\": [\"Electricity Solar\"], \"xaxis\": \"x\", \"y\": [18.86], \"yaxis\": \"y\", \"type\": \"bar\"}, {\"alignmentgroup\": \"True\", \"hoverlabel\": {\"namelength\": 0}, \"hovertemplate\": \"symbol=DOCRF<br>date=2020-11-19<br>portfolio=%{x}<br>percent=%{y}\", \"ids\": [\"2020-11-19\"], \"legendgroup\": \"DOCRF\", \"marker\": {\"color\": \"#FF97FF\"}, \"name\": \"DOCRF\", \"offsetgroup\": \"DOCRF\", \"orientation\": \"v\", \"showlegend\": true, \"textposition\": \"auto\", \"x\": [\"Cloud Retail Apps\"], \"xaxis\": \"x\", \"y\": [-5.71], \"yaxis\": \"y\", \"type\": \"bar\"}, {\"alignmentgroup\": \"True\", \"hoverlabel\": {\"namelength\": 0}, \"hovertemplate\": \"symbol=DQ<br>date=2020-11-19<br>portfolio=%{x}<br>percent=%{y}\", \"ids\": [\"2020-11-19\"], \"legendgroup\": \"DQ\", \"marker\": {\"color\": \"#FECB52\"}, \"name\": \"DQ\", \"offsetgroup\": \"DQ\", \"orientation\": \"v\", \"showlegend\": true, \"textposition\": \"auto\", \"x\": [\"Electricity Solar\"], \"xaxis\": \"x\", \"y\": [12.92], \"yaxis\": \"y\", \"type\": \"bar\"}, {\"alignmentgroup\": \"True\", \"hoverlabel\": {\"namelength\": 0}, \"hovertemplate\": \"symbol=ENPH<br>date=2020-11-19<br>portfolio=%{x}<br>percent=%{y}\", \"ids\": [\"2020-11-19\"], \"legendgroup\": \"ENPH\", \"marker\": {\"color\": \"#636efa\"}, \"name\": \"ENPH\", \"offsetgroup\": \"ENPH\", \"orientation\": \"v\", \"showlegend\": true, \"textposition\": \"auto\", \"x\": [\"Electricity Solar\"], \"xaxis\": \"x\", \"y\": [9.05], \"yaxis\": \"y\", \"type\": \"bar\"}, {\"alignmentgroup\": \"True\", \"hoverlabel\": {\"namelength\": 0}, \"hovertemplate\": \"symbol=FFC<br>date=2020-11-19<br>portfolio=%{x}<br>percent=%{y}\", \"ids\": [\"2020-11-19\"], \"legendgroup\": \"FFC\", \"marker\": {\"color\": \"#EF553B\"}, \"name\": \"FFC\", \"offsetgroup\": \"FFC\", \"orientation\": \"v\", \"showlegend\": true, \"textposition\": \"auto\", \"x\": [\"Dividend\"], \"xaxis\": \"x\", \"y\": [1.39], \"yaxis\": \"y\", \"type\": \"bar\"}, {\"alignmentgroup\": \"True\", \"hoverlabel\": {\"namelength\": 0}, \"hovertemplate\": \"symbol=FLC<br>date=2020-11-19<br>portfolio=%{x}<br>percent=%{y}\", \"ids\": [\"2020-11-19\"], \"legendgroup\": \"FLC\", \"marker\": {\"color\": \"#00cc96\"}, \"name\": \"FLC\", \"offsetgroup\": \"FLC\", \"orientation\": \"v\", \"showlegend\": true, \"textposition\": \"auto\", \"x\": [\"Dividend\"], \"xaxis\": \"x\", \"y\": [1.83], \"yaxis\": \"y\", \"type\": \"bar\"}, {\"alignmentgroup\": \"True\", \"hoverlabel\": {\"namelength\": 0}, \"hovertemplate\": \"symbol=FSLR<br>date=2020-11-19<br>portfolio=%{x}<br>percent=%{y}\", \"ids\": [\"2020-11-19\"], \"legendgroup\": \"FSLR\", \"marker\": {\"color\": \"#ab63fa\"}, \"name\": \"FSLR\", \"offsetgroup\": \"FSLR\", \"orientation\": \"v\", \"showlegend\": true, \"textposition\": \"auto\", \"x\": [\"Electricity Solar\"], \"xaxis\": \"x\", \"y\": [12.66], \"yaxis\": \"y\", \"type\": \"bar\"}, {\"alignmentgroup\": \"True\", \"hoverlabel\": {\"namelength\": 0}, \"hovertemplate\": \"symbol=LI<br>date=2020-11-19<br>portfolio=%{x}<br>percent=%{y}\", \"ids\": [\"2020-11-19\"], \"legendgroup\": \"LI\", \"marker\": {\"color\": \"#FFA15A\"}, \"name\": \"LI\", \"offsetgroup\": \"LI\", \"orientation\": \"v\", \"showlegend\": true, \"textposition\": \"auto\", \"x\": [\"Electric Vehicles\"], \"xaxis\": \"x\", \"y\": [7.46], \"yaxis\": \"y\", \"type\": \"bar\"}, {\"alignmentgroup\": \"True\", \"hoverlabel\": {\"namelength\": 0}, \"hovertemplate\": \"symbol=LMND<br>date=2020-11-19<br>portfolio=%{x}<br>percent=%{y}\", \"ids\": [\"2020-11-19\"], \"legendgroup\": \"LMND\", \"marker\": {\"color\": \"#19d3f3\"}, \"name\": \"LMND\", \"offsetgroup\": \"LMND\", \"orientation\": \"v\", \"showlegend\": true, \"textposition\": \"auto\", \"x\": [\"Insurance\"], \"xaxis\": \"x\", \"y\": [20.85], \"yaxis\": \"y\", \"type\": \"bar\"}, {\"alignmentgroup\": \"True\", \"hoverlabel\": {\"namelength\": 0}, \"hovertemplate\": \"symbol=MSFT<br>date=2020-11-19<br>portfolio=%{x}<br>percent=%{y}\", \"ids\": [\"2020-11-19\"], \"legendgroup\": \"MSFT\", \"marker\": {\"color\": \"#FF6692\"}, \"name\": \"MSFT\", \"offsetgroup\": \"MSFT\", \"orientation\": \"v\", \"showlegend\": true, \"textposition\": \"auto\", \"x\": [\"Mega Capital\"], \"xaxis\": \"x\", \"y\": [1.32], \"yaxis\": \"y\", \"type\": \"bar\"}, {\"alignmentgroup\": \"True\", \"hoverlabel\": {\"namelength\": 0}, \"hovertemplate\": \"symbol=NVDA<br>date=2020-11-19<br>portfolio=%{x}<br>percent=%{y}\", \"ids\": [\"2020-11-19\"], \"legendgroup\": \"NVDA\", \"marker\": {\"color\": \"#B6E880\"}, \"name\": \"NVDA\", \"offsetgroup\": \"NVDA\", \"orientation\": \"v\", \"showlegend\": true, \"textposition\": \"auto\", \"x\": [\"Semiconductors\"], \"xaxis\": \"x\", \"y\": [-1.33], \"yaxis\": \"y\", \"type\": \"bar\"}, {\"alignmentgroup\": \"True\", \"hoverlabel\": {\"namelength\": 0}, \"hovertemplate\": \"symbol=QCOM<br>date=2020-11-19<br>portfolio=%{x}<br>percent=%{y}\", \"ids\": [\"2020-11-19\"], \"legendgroup\": \"QCOM\", \"marker\": {\"color\": \"#FF97FF\"}, \"name\": \"QCOM\", \"offsetgroup\": \"QCOM\", \"orientation\": \"v\", \"showlegend\": true, \"textposition\": \"auto\", \"x\": [\"Semiconductors\"], \"xaxis\": \"x\", \"y\": [-2.51], \"yaxis\": \"y\", \"type\": \"bar\"}, {\"alignmentgroup\": \"True\", \"hoverlabel\": {\"namelength\": 0}, \"hovertemplate\": \"symbol=SPWR<br>date=2020-11-19<br>portfolio=%{x}<br>percent=%{y}\", \"ids\": [\"2020-11-19\"], \"legendgroup\": \"SPWR\", \"marker\": {\"color\": \"#FECB52\"}, \"name\": \"SPWR\", \"offsetgroup\": \"SPWR\", \"orientation\": \"v\", \"showlegend\": true, \"textposition\": \"auto\", \"x\": [\"Electricity Solar\"], \"xaxis\": \"x\", \"y\": [10.13], \"yaxis\": \"y\", \"type\": \"bar\"}, {\"alignmentgroup\": \"True\", \"hoverlabel\": {\"namelength\": 0}, \"hovertemplate\": \"symbol=TDF<br>date=2020-11-19<br>portfolio=%{x}<br>percent=%{y}\", \"ids\": [\"2020-11-19\"], \"legendgroup\": \"TDF\", \"marker\": {\"color\": \"#636efa\"}, \"name\": \"TDF\", \"offsetgroup\": \"TDF\", \"orientation\": \"v\", \"showlegend\": true, \"textposition\": \"auto\", \"x\": [\"CEF\"], \"xaxis\": \"x\", \"y\": [1.66], \"yaxis\": \"y\", \"type\": \"bar\"}, {\"alignmentgroup\": \"True\", \"hoverlabel\": {\"namelength\": 0}, \"hovertemplate\": \"symbol=TSM<br>date=2020-11-19<br>portfolio=%{x}<br>percent=%{y}\", \"ids\": [\"2020-11-19\"], \"legendgroup\": \"TSM\", \"marker\": {\"color\": \"#EF553B\"}, \"name\": \"TSM\", \"offsetgroup\": \"TSM\", \"orientation\": \"v\", \"showlegend\": true, \"textposition\": \"auto\", \"x\": [\"Semiconductors\"], \"xaxis\": \"x\", \"y\": [2.2], \"yaxis\": \"y\", \"type\": \"bar\"}, {\"alignmentgroup\": \"True\", \"hoverlabel\": {\"namelength\": 0}, \"hovertemplate\": \"symbol=VWDRY<br>date=2020-11-19<br>portfolio=%{x}<br>percent=%{y}\", \"ids\": [\"2020-11-19\"], \"legendgroup\": \"VWDRY\", \"marker\": {\"color\": \"#00cc96\"}, \"name\": \"VWDRY\", \"offsetgroup\": \"VWDRY\", \"orientation\": \"v\", \"showlegend\": true, \"textposition\": \"auto\", \"x\": [\"Electricity Wind\"], \"xaxis\": \"x\", \"y\": [3.71], \"yaxis\": \"y\", \"type\": \"bar\"}], \"name\": \"2020-11-19\"}, {\"data\": [{\"alignmentgroup\": \"True\", \"hoverlabel\": {\"namelength\": 0}, \"hovertemplate\": \"symbol=AAPL<br>date=2020-11-12<br>portfolio=%{x}<br>percent=%{y}\", \"ids\": [\"2020-11-12\"], \"legendgroup\": \"AAPL\", \"marker\": {\"color\": \"#636efa\"}, \"name\": \"AAPL\", \"offsetgroup\": \"AAPL\", \"orientation\": \"v\", \"showlegend\": true, \"textposition\": \"auto\", \"x\": [\"Mega Capital\"], \"xaxis\": \"x\", \"y\": [-2.2], \"yaxis\": \"y\", \"type\": \"bar\"}, {\"alignmentgroup\": \"True\", \"hoverlabel\": {\"namelength\": 0}, \"hovertemplate\": \"symbol=ABBV<br>date=2020-11-12<br>portfolio=%{x}<br>percent=%{y}\", \"ids\": [\"2020-11-12\"], \"legendgroup\": \"ABBV\", \"marker\": {\"color\": \"#EF553B\"}, \"name\": \"ABBV\", \"offsetgroup\": \"ABBV\", \"orientation\": \"v\", \"showlegend\": true, \"textposition\": \"auto\", \"x\": [\"Biotechnology\"], \"xaxis\": \"x\", \"y\": [7.47], \"yaxis\": \"y\", \"type\": \"bar\"}, {\"alignmentgroup\": \"True\", \"hoverlabel\": {\"namelength\": 0}, \"hovertemplate\": \"symbol=AMZN<br>date=2020-11-12<br>portfolio=%{x}<br>percent=%{y}\", \"ids\": [\"2020-11-12\"], \"legendgroup\": \"AMZN\", \"marker\": {\"color\": \"#00cc96\"}, \"name\": \"AMZN\", \"offsetgroup\": \"AMZN\", \"orientation\": \"v\", \"showlegend\": true, \"textposition\": \"auto\", \"x\": [\"Mega Capital\"], \"xaxis\": \"x\", \"y\": [2.73], \"yaxis\": \"y\", \"type\": \"bar\"}, {\"alignmentgroup\": \"True\", \"hoverlabel\": {\"namelength\": 0}, \"hovertemplate\": \"symbol=AVGO<br>date=2020-11-12<br>portfolio=%{x}<br>percent=%{y}\", \"ids\": [\"2020-11-12\"], \"legendgroup\": \"AVGO\", \"marker\": {\"color\": \"#ab63fa\"}, \"name\": \"AVGO\", \"offsetgroup\": \"AVGO\", \"orientation\": \"v\", \"showlegend\": true, \"textposition\": \"auto\", \"x\": [\"5G\"], \"xaxis\": \"x\", \"y\": [6.69], \"yaxis\": \"y\", \"type\": \"bar\"}, {\"alignmentgroup\": \"True\", \"hoverlabel\": {\"namelength\": 0}, \"hovertemplate\": \"symbol=AZRE<br>date=2020-11-12<br>portfolio=%{x}<br>percent=%{y}\", \"ids\": [\"2020-11-12\"], \"legendgroup\": \"AZRE\", \"marker\": {\"color\": \"#FFA15A\"}, \"name\": \"AZRE\", \"offsetgroup\": \"AZRE\", \"orientation\": \"v\", \"showlegend\": true, \"textposition\": \"auto\", \"x\": [\"Energy Renewalbe\"], \"xaxis\": \"x\", \"y\": [32.11], \"yaxis\": \"y\", \"type\": \"bar\"}, {\"alignmentgroup\": \"True\", \"hoverlabel\": {\"namelength\": 0}, \"hovertemplate\": \"symbol=BEKE<br>date=2020-11-12<br>portfolio=%{x}<br>percent=%{y}\", \"ids\": [\"2020-11-12\"], \"legendgroup\": \"BEKE\", \"marker\": {\"color\": \"#19d3f3\"}, \"name\": \"BEKE\", \"offsetgroup\": \"BEKE\", \"orientation\": \"v\", \"showlegend\": true, \"textposition\": \"auto\", \"x\": [\"REIT\"], \"xaxis\": \"x\", \"y\": [-4.7], \"yaxis\": \"y\", \"type\": \"bar\"}, {\"alignmentgroup\": \"True\", \"hoverlabel\": {\"namelength\": 0}, \"hovertemplate\": \"symbol=BYDDF<br>date=2020-11-12<br>portfolio=%{x}<br>percent=%{y}\", \"ids\": [\"2020-11-12\"], \"legendgroup\": \"BYDDF\", \"marker\": {\"color\": \"#FF6692\"}, \"name\": \"BYDDF\", \"offsetgroup\": \"BYDDF\", \"orientation\": \"v\", \"showlegend\": true, \"textposition\": \"auto\", \"x\": [\"Electric Vehicles\"], \"xaxis\": \"x\", \"y\": [3.13], \"yaxis\": \"y\", \"type\": \"bar\"}, {\"alignmentgroup\": \"True\", \"hoverlabel\": {\"namelength\": 0}, \"hovertemplate\": \"symbol=CSIQ<br>date=2020-11-12<br>portfolio=%{x}<br>percent=%{y}\", \"ids\": [\"2020-11-12\"], \"legendgroup\": \"CSIQ\", \"marker\": {\"color\": \"#B6E880\"}, \"name\": \"CSIQ\", \"offsetgroup\": \"CSIQ\", \"orientation\": \"v\", \"showlegend\": true, \"textposition\": \"auto\", \"x\": [\"Electricity Solar\"], \"xaxis\": \"x\", \"y\": [12.05], \"yaxis\": \"y\", \"type\": \"bar\"}, {\"alignmentgroup\": \"True\", \"hoverlabel\": {\"namelength\": 0}, \"hovertemplate\": \"symbol=DOCRF<br>date=2020-11-12<br>portfolio=%{x}<br>percent=%{y}\", \"ids\": [\"2020-11-12\"], \"legendgroup\": \"DOCRF\", \"marker\": {\"color\": \"#FF97FF\"}, \"name\": \"DOCRF\", \"offsetgroup\": \"DOCRF\", \"orientation\": \"v\", \"showlegend\": true, \"textposition\": \"auto\", \"x\": [\"Cloud Retail Apps\"], \"xaxis\": \"x\", \"y\": [-10.19], \"yaxis\": \"y\", \"type\": \"bar\"}, {\"alignmentgroup\": \"True\", \"hoverlabel\": {\"namelength\": 0}, \"hovertemplate\": \"symbol=DQ<br>date=2020-11-12<br>portfolio=%{x}<br>percent=%{y}\", \"ids\": [\"2020-11-12\"], \"legendgroup\": \"DQ\", \"marker\": {\"color\": \"#FECB52\"}, \"name\": \"DQ\", \"offsetgroup\": \"DQ\", \"orientation\": \"v\", \"showlegend\": true, \"textposition\": \"auto\", \"x\": [\"Electricity Solar\"], \"xaxis\": \"x\", \"y\": [6.17], \"yaxis\": \"y\", \"type\": \"bar\"}, {\"alignmentgroup\": \"True\", \"hoverlabel\": {\"namelength\": 0}, \"hovertemplate\": \"symbol=ENPH<br>date=2020-11-12<br>portfolio=%{x}<br>percent=%{y}\", \"ids\": [\"2020-11-12\"], \"legendgroup\": \"ENPH\", \"marker\": {\"color\": \"#636efa\"}, \"name\": \"ENPH\", \"offsetgroup\": \"ENPH\", \"orientation\": \"v\", \"showlegend\": true, \"textposition\": \"auto\", \"x\": [\"Electricity Solar\"], \"xaxis\": \"x\", \"y\": [19.92], \"yaxis\": \"y\", \"type\": \"bar\"}, {\"alignmentgroup\": \"True\", \"hoverlabel\": {\"namelength\": 0}, \"hovertemplate\": \"symbol=FFC<br>date=2020-11-12<br>portfolio=%{x}<br>percent=%{y}\", \"ids\": [\"2020-11-12\"], \"legendgroup\": \"FFC\", \"marker\": {\"color\": \"#EF553B\"}, \"name\": \"FFC\", \"offsetgroup\": \"FFC\", \"orientation\": \"v\", \"showlegend\": true, \"textposition\": \"auto\", \"x\": [\"Dividend\"], \"xaxis\": \"x\", \"y\": [3.26], \"yaxis\": \"y\", \"type\": \"bar\"}, {\"alignmentgroup\": \"True\", \"hoverlabel\": {\"namelength\": 0}, \"hovertemplate\": \"symbol=FLC<br>date=2020-11-12<br>portfolio=%{x}<br>percent=%{y}\", \"ids\": [\"2020-11-12\"], \"legendgroup\": \"FLC\", \"marker\": {\"color\": \"#00cc96\"}, \"name\": \"FLC\", \"offsetgroup\": \"FLC\", \"orientation\": \"v\", \"showlegend\": true, \"textposition\": \"auto\", \"x\": [\"Dividend\"], \"xaxis\": \"x\", \"y\": [3.59], \"yaxis\": \"y\", \"type\": \"bar\"}, {\"alignmentgroup\": \"True\", \"hoverlabel\": {\"namelength\": 0}, \"hovertemplate\": \"symbol=FSLR<br>date=2020-11-12<br>portfolio=%{x}<br>percent=%{y}\", \"ids\": [\"2020-11-12\"], \"legendgroup\": \"FSLR\", \"marker\": {\"color\": \"#ab63fa\"}, \"name\": \"FSLR\", \"offsetgroup\": \"FSLR\", \"orientation\": \"v\", \"showlegend\": true, \"textposition\": \"auto\", \"x\": [\"Electricity Solar\"], \"xaxis\": \"x\", \"y\": [16.34], \"yaxis\": \"y\", \"type\": \"bar\"}, {\"alignmentgroup\": \"True\", \"hoverlabel\": {\"namelength\": 0}, \"hovertemplate\": \"symbol=LI<br>date=2020-11-12<br>portfolio=%{x}<br>percent=%{y}\", \"ids\": [\"2020-11-12\"], \"legendgroup\": \"LI\", \"marker\": {\"color\": \"#FFA15A\"}, \"name\": \"LI\", \"offsetgroup\": \"LI\", \"orientation\": \"v\", \"showlegend\": true, \"textposition\": \"auto\", \"x\": [\"Electric Vehicles\"], \"xaxis\": \"x\", \"y\": [24.23], \"yaxis\": \"y\", \"type\": \"bar\"}, {\"alignmentgroup\": \"True\", \"hoverlabel\": {\"namelength\": 0}, \"hovertemplate\": \"symbol=LMND<br>date=2020-11-12<br>portfolio=%{x}<br>percent=%{y}\", \"ids\": [\"2020-11-12\"], \"legendgroup\": \"LMND\", \"marker\": {\"color\": \"#19d3f3\"}, \"name\": \"LMND\", \"offsetgroup\": \"LMND\", \"orientation\": \"v\", \"showlegend\": true, \"textposition\": \"auto\", \"x\": [\"Insurance\"], \"xaxis\": \"x\", \"y\": [34.16], \"yaxis\": \"y\", \"type\": \"bar\"}, {\"alignmentgroup\": \"True\", \"hoverlabel\": {\"namelength\": 0}, \"hovertemplate\": \"symbol=MSFT<br>date=2020-11-12<br>portfolio=%{x}<br>percent=%{y}\", \"ids\": [\"2020-11-12\"], \"legendgroup\": \"MSFT\", \"marker\": {\"color\": \"#FF6692\"}, \"name\": \"MSFT\", \"offsetgroup\": \"MSFT\", \"orientation\": \"v\", \"showlegend\": true, \"textposition\": \"auto\", \"x\": [\"Mega Capital\"], \"xaxis\": \"x\", \"y\": [0.16], \"yaxis\": \"y\", \"type\": \"bar\"}, {\"alignmentgroup\": \"True\", \"hoverlabel\": {\"namelength\": 0}, \"hovertemplate\": \"symbol=NVDA<br>date=2020-11-12<br>portfolio=%{x}<br>percent=%{y}\", \"ids\": [\"2020-11-12\"], \"legendgroup\": \"NVDA\", \"marker\": {\"color\": \"#B6E880\"}, \"name\": \"NVDA\", \"offsetgroup\": \"NVDA\", \"orientation\": \"v\", \"showlegend\": true, \"textposition\": \"auto\", \"x\": [\"Semiconductors\"], \"xaxis\": \"x\", \"y\": [-1.45], \"yaxis\": \"y\", \"type\": \"bar\"}, {\"alignmentgroup\": \"True\", \"hoverlabel\": {\"namelength\": 0}, \"hovertemplate\": \"symbol=QCOM<br>date=2020-11-12<br>portfolio=%{x}<br>percent=%{y}\", \"ids\": [\"2020-11-12\"], \"legendgroup\": \"QCOM\", \"marker\": {\"color\": \"#FF97FF\"}, \"name\": \"QCOM\", \"offsetgroup\": \"QCOM\", \"orientation\": \"v\", \"showlegend\": true, \"textposition\": \"auto\", \"x\": [\"Semiconductors\"], \"xaxis\": \"x\", \"y\": [-0.06], \"yaxis\": \"y\", \"type\": \"bar\"}, {\"alignmentgroup\": \"True\", \"hoverlabel\": {\"namelength\": 0}, \"hovertemplate\": \"symbol=SPWR<br>date=2020-11-12<br>portfolio=%{x}<br>percent=%{y}\", \"ids\": [\"2020-11-12\"], \"legendgroup\": \"SPWR\", \"marker\": {\"color\": \"#FECB52\"}, \"name\": \"SPWR\", \"offsetgroup\": \"SPWR\", \"orientation\": \"v\", \"showlegend\": true, \"textposition\": \"auto\", \"x\": [\"Electricity Solar\"], \"xaxis\": \"x\", \"y\": [23.65], \"yaxis\": \"y\", \"type\": \"bar\"}, {\"alignmentgroup\": \"True\", \"hoverlabel\": {\"namelength\": 0}, \"hovertemplate\": \"symbol=TDF<br>date=2020-11-12<br>portfolio=%{x}<br>percent=%{y}\", \"ids\": [\"2020-11-12\"], \"legendgroup\": \"TDF\", \"marker\": {\"color\": \"#636efa\"}, \"name\": \"TDF\", \"offsetgroup\": \"TDF\", \"orientation\": \"v\", \"showlegend\": true, \"textposition\": \"auto\", \"x\": [\"CEF\"], \"xaxis\": \"x\", \"y\": [0.87], \"yaxis\": \"y\", \"type\": \"bar\"}, {\"alignmentgroup\": \"True\", \"hoverlabel\": {\"namelength\": 0}, \"hovertemplate\": \"symbol=TSM<br>date=2020-11-12<br>portfolio=%{x}<br>percent=%{y}\", \"ids\": [\"2020-11-12\"], \"legendgroup\": \"TSM\", \"marker\": {\"color\": \"#EF553B\"}, \"name\": \"TSM\", \"offsetgroup\": \"TSM\", \"orientation\": \"v\", \"showlegend\": true, \"textposition\": \"auto\", \"x\": [\"Semiconductors\"], \"xaxis\": \"x\", \"y\": [9.93], \"yaxis\": \"y\", \"type\": \"bar\"}, {\"alignmentgroup\": \"True\", \"hoverlabel\": {\"namelength\": 0}, \"hovertemplate\": \"symbol=VWDRY<br>date=2020-11-12<br>portfolio=%{x}<br>percent=%{y}\", \"ids\": [\"2020-11-12\"], \"legendgroup\": \"VWDRY\", \"marker\": {\"color\": \"#00cc96\"}, \"name\": \"VWDRY\", \"offsetgroup\": \"VWDRY\", \"orientation\": \"v\", \"showlegend\": true, \"textposition\": \"auto\", \"x\": [\"Electricity Wind\"], \"xaxis\": \"x\", \"y\": [5.85], \"yaxis\": \"y\", \"type\": \"bar\"}], \"name\": \"2020-11-12\"}, {\"data\": [{\"alignmentgroup\": \"True\", \"hoverlabel\": {\"namelength\": 0}, \"hovertemplate\": \"symbol=AAPL<br>date=2020-11-05<br>portfolio=%{x}<br>percent=%{y}\", \"ids\": [\"2020-11-05\"], \"legendgroup\": \"AAPL\", \"marker\": {\"color\": \"#636efa\"}, \"name\": \"AAPL\", \"offsetgroup\": \"AAPL\", \"orientation\": \"v\", \"showlegend\": true, \"textposition\": \"auto\", \"x\": [\"Mega Capital\"], \"xaxis\": \"x\", \"y\": [-1.88], \"yaxis\": \"y\", \"type\": \"bar\"}, {\"alignmentgroup\": \"True\", \"hoverlabel\": {\"namelength\": 0}, \"hovertemplate\": \"symbol=ABBV<br>date=2020-11-05<br>portfolio=%{x}<br>percent=%{y}\", \"ids\": [\"2020-11-05\"], \"legendgroup\": \"ABBV\", \"marker\": {\"color\": \"#EF553B\"}, \"name\": \"ABBV\", \"offsetgroup\": \"ABBV\", \"orientation\": \"v\", \"showlegend\": true, \"textposition\": \"auto\", \"x\": [\"Biotechnology\"], \"xaxis\": \"x\", \"y\": [11.95], \"yaxis\": \"y\", \"type\": \"bar\"}, {\"alignmentgroup\": \"True\", \"hoverlabel\": {\"namelength\": 0}, \"hovertemplate\": \"symbol=AMZN<br>date=2020-11-05<br>portfolio=%{x}<br>percent=%{y}\", \"ids\": [\"2020-11-05\"], \"legendgroup\": \"AMZN\", \"marker\": {\"color\": \"#00cc96\"}, \"name\": \"AMZN\", \"offsetgroup\": \"AMZN\", \"orientation\": \"v\", \"showlegend\": true, \"textposition\": \"auto\", \"x\": [\"Mega Capital\"], \"xaxis\": \"x\", \"y\": [-3.81], \"yaxis\": \"y\", \"type\": \"bar\"}, {\"alignmentgroup\": \"True\", \"hoverlabel\": {\"namelength\": 0}, \"hovertemplate\": \"symbol=AVGO<br>date=2020-11-05<br>portfolio=%{x}<br>percent=%{y}\", \"ids\": [\"2020-11-05\"], \"legendgroup\": \"AVGO\", \"marker\": {\"color\": \"#ab63fa\"}, \"name\": \"AVGO\", \"offsetgroup\": \"AVGO\", \"orientation\": \"v\", \"showlegend\": true, \"textposition\": \"auto\", \"x\": [\"5G\"], \"xaxis\": \"x\", \"y\": [3.7], \"yaxis\": \"y\", \"type\": \"bar\"}, {\"alignmentgroup\": \"True\", \"hoverlabel\": {\"namelength\": 0}, \"hovertemplate\": \"symbol=AZRE<br>date=2020-11-05<br>portfolio=%{x}<br>percent=%{y}\", \"ids\": [\"2020-11-05\"], \"legendgroup\": \"AZRE\", \"marker\": {\"color\": \"#FFA15A\"}, \"name\": \"AZRE\", \"offsetgroup\": \"AZRE\", \"orientation\": \"v\", \"showlegend\": true, \"textposition\": \"auto\", \"x\": [\"Energy Renewalbe\"], \"xaxis\": \"x\", \"y\": [24.34], \"yaxis\": \"y\", \"type\": \"bar\"}, {\"alignmentgroup\": \"True\", \"hoverlabel\": {\"namelength\": 0}, \"hovertemplate\": \"symbol=BEKE<br>date=2020-11-05<br>portfolio=%{x}<br>percent=%{y}\", \"ids\": [\"2020-11-05\"], \"legendgroup\": \"BEKE\", \"marker\": {\"color\": \"#19d3f3\"}, \"name\": \"BEKE\", \"offsetgroup\": \"BEKE\", \"orientation\": \"v\", \"showlegend\": true, \"textposition\": \"auto\", \"x\": [\"REIT\"], \"xaxis\": \"x\", \"y\": [-11.32], \"yaxis\": \"y\", \"type\": \"bar\"}, {\"alignmentgroup\": \"True\", \"hoverlabel\": {\"namelength\": 0}, \"hovertemplate\": \"symbol=BYDDF<br>date=2020-11-05<br>portfolio=%{x}<br>percent=%{y}\", \"ids\": [\"2020-11-05\"], \"legendgroup\": \"BYDDF\", \"marker\": {\"color\": \"#FF6692\"}, \"name\": \"BYDDF\", \"offsetgroup\": \"BYDDF\", \"orientation\": \"v\", \"showlegend\": true, \"textposition\": \"auto\", \"x\": [\"Electric Vehicles\"], \"xaxis\": \"x\", \"y\": [-5.75], \"yaxis\": \"y\", \"type\": \"bar\"}, {\"alignmentgroup\": \"True\", \"hoverlabel\": {\"namelength\": 0}, \"hovertemplate\": \"symbol=CSIQ<br>date=2020-11-05<br>portfolio=%{x}<br>percent=%{y}\", \"ids\": [\"2020-11-05\"], \"legendgroup\": \"CSIQ\", \"marker\": {\"color\": \"#B6E880\"}, \"name\": \"CSIQ\", \"offsetgroup\": \"CSIQ\", \"orientation\": \"v\", \"showlegend\": true, \"textposition\": \"auto\", \"x\": [\"Electricity Solar\"], \"xaxis\": \"x\", \"y\": [10.51], \"yaxis\": \"y\", \"type\": \"bar\"}, {\"alignmentgroup\": \"True\", \"hoverlabel\": {\"namelength\": 0}, \"hovertemplate\": \"symbol=DOCRF<br>date=2020-11-05<br>portfolio=%{x}<br>percent=%{y}\", \"ids\": [\"2020-11-05\"], \"legendgroup\": \"DOCRF\", \"marker\": {\"color\": \"#FF97FF\"}, \"name\": \"DOCRF\", \"offsetgroup\": \"DOCRF\", \"orientation\": \"v\", \"showlegend\": true, \"textposition\": \"auto\", \"x\": [\"Cloud Retail Apps\"], \"xaxis\": \"x\", \"y\": [-16.29], \"yaxis\": \"y\", \"type\": \"bar\"}, {\"alignmentgroup\": \"True\", \"hoverlabel\": {\"namelength\": 0}, \"hovertemplate\": \"symbol=DQ<br>date=2020-11-05<br>portfolio=%{x}<br>percent=%{y}\", \"ids\": [\"2020-11-05\"], \"legendgroup\": \"DQ\", \"marker\": {\"color\": \"#FECB52\"}, \"name\": \"DQ\", \"offsetgroup\": \"DQ\", \"orientation\": \"v\", \"showlegend\": true, \"textposition\": \"auto\", \"x\": [\"Electricity Solar\"], \"xaxis\": \"x\", \"y\": [2.2], \"yaxis\": \"y\", \"type\": \"bar\"}, {\"alignmentgroup\": \"True\", \"hoverlabel\": {\"namelength\": 0}, \"hovertemplate\": \"symbol=ENPH<br>date=2020-11-05<br>portfolio=%{x}<br>percent=%{y}\", \"ids\": [\"2020-11-05\"], \"legendgroup\": \"ENPH\", \"marker\": {\"color\": \"#636efa\"}, \"name\": \"ENPH\", \"offsetgroup\": \"ENPH\", \"orientation\": \"v\", \"showlegend\": true, \"textposition\": \"auto\", \"x\": [\"Electricity Solar\"], \"xaxis\": \"x\", \"y\": [16.88], \"yaxis\": \"y\", \"type\": \"bar\"}, {\"alignmentgroup\": \"True\", \"hoverlabel\": {\"namelength\": 0}, \"hovertemplate\": \"symbol=FFC<br>date=2020-11-05<br>portfolio=%{x}<br>percent=%{y}\", \"ids\": [\"2020-11-05\"], \"legendgroup\": \"FFC\", \"marker\": {\"color\": \"#EF553B\"}, \"name\": \"FFC\", \"offsetgroup\": \"FFC\", \"orientation\": \"v\", \"showlegend\": true, \"textposition\": \"auto\", \"x\": [\"Dividend\"], \"xaxis\": \"x\", \"y\": [6.1], \"yaxis\": \"y\", \"type\": \"bar\"}, {\"alignmentgroup\": \"True\", \"hoverlabel\": {\"namelength\": 0}, \"hovertemplate\": \"symbol=FLC<br>date=2020-11-05<br>portfolio=%{x}<br>percent=%{y}\", \"ids\": [\"2020-11-05\"], \"legendgroup\": \"FLC\", \"marker\": {\"color\": \"#00cc96\"}, \"name\": \"FLC\", \"offsetgroup\": \"FLC\", \"orientation\": \"v\", \"showlegend\": true, \"textposition\": \"auto\", \"x\": [\"Dividend\"], \"xaxis\": \"x\", \"y\": [8.72], \"yaxis\": \"y\", \"type\": \"bar\"}, {\"alignmentgroup\": \"True\", \"hoverlabel\": {\"namelength\": 0}, \"hovertemplate\": \"symbol=FSLR<br>date=2020-11-05<br>portfolio=%{x}<br>percent=%{y}\", \"ids\": [\"2020-11-05\"], \"legendgroup\": \"FSLR\", \"marker\": {\"color\": \"#ab63fa\"}, \"name\": \"FSLR\", \"offsetgroup\": \"FSLR\", \"orientation\": \"v\", \"showlegend\": true, \"textposition\": \"auto\", \"x\": [\"Electricity Solar\"], \"xaxis\": \"x\", \"y\": [8.98], \"yaxis\": \"y\", \"type\": \"bar\"}, {\"alignmentgroup\": \"True\", \"hoverlabel\": {\"namelength\": 0}, \"hovertemplate\": \"symbol=LI<br>date=2020-11-05<br>portfolio=%{x}<br>percent=%{y}\", \"ids\": [\"2020-11-05\"], \"legendgroup\": \"LI\", \"marker\": {\"color\": \"#FFA15A\"}, \"name\": \"LI\", \"offsetgroup\": \"LI\", \"orientation\": \"v\", \"showlegend\": true, \"textposition\": \"auto\", \"x\": [\"Electric Vehicles\"], \"xaxis\": \"x\", \"y\": [40.55], \"yaxis\": \"y\", \"type\": \"bar\"}, {\"alignmentgroup\": \"True\", \"hoverlabel\": {\"namelength\": 0}, \"hovertemplate\": \"symbol=LMND<br>date=2020-11-05<br>portfolio=%{x}<br>percent=%{y}\", \"ids\": [\"2020-11-05\"], \"legendgroup\": \"LMND\", \"marker\": {\"color\": \"#19d3f3\"}, \"name\": \"LMND\", \"offsetgroup\": \"LMND\", \"orientation\": \"v\", \"showlegend\": true, \"textposition\": \"auto\", \"x\": [\"Insurance\"], \"xaxis\": \"x\", \"y\": [17.48], \"yaxis\": \"y\", \"type\": \"bar\"}, {\"alignmentgroup\": \"True\", \"hoverlabel\": {\"namelength\": 0}, \"hovertemplate\": \"symbol=MSFT<br>date=2020-11-05<br>portfolio=%{x}<br>percent=%{y}\", \"ids\": [\"2020-11-05\"], \"legendgroup\": \"MSFT\", \"marker\": {\"color\": \"#FF6692\"}, \"name\": \"MSFT\", \"offsetgroup\": \"MSFT\", \"orientation\": \"v\", \"showlegend\": true, \"textposition\": \"auto\", \"x\": [\"Mega Capital\"], \"xaxis\": \"x\", \"y\": [-3.36], \"yaxis\": \"y\", \"type\": \"bar\"}, {\"alignmentgroup\": \"True\", \"hoverlabel\": {\"namelength\": 0}, \"hovertemplate\": \"symbol=NVDA<br>date=2020-11-05<br>portfolio=%{x}<br>percent=%{y}\", \"ids\": [\"2020-11-05\"], \"legendgroup\": \"NVDA\", \"marker\": {\"color\": \"#B6E880\"}, \"name\": \"NVDA\", \"offsetgroup\": \"NVDA\", \"orientation\": \"v\", \"showlegend\": true, \"textposition\": \"auto\", \"x\": [\"Semiconductors\"], \"xaxis\": \"x\", \"y\": [-6.35], \"yaxis\": \"y\", \"type\": \"bar\"}, {\"alignmentgroup\": \"True\", \"hoverlabel\": {\"namelength\": 0}, \"hovertemplate\": \"symbol=QCOM<br>date=2020-11-05<br>portfolio=%{x}<br>percent=%{y}\", \"ids\": [\"2020-11-05\"], \"legendgroup\": \"QCOM\", \"marker\": {\"color\": \"#FF97FF\"}, \"name\": \"QCOM\", \"offsetgroup\": \"QCOM\", \"orientation\": \"v\", \"showlegend\": true, \"textposition\": \"auto\", \"x\": [\"Semiconductors\"], \"xaxis\": \"x\", \"y\": [-1.09], \"yaxis\": \"y\", \"type\": \"bar\"}, {\"alignmentgroup\": \"True\", \"hoverlabel\": {\"namelength\": 0}, \"hovertemplate\": \"symbol=SPWR<br>date=2020-11-05<br>portfolio=%{x}<br>percent=%{y}\", \"ids\": [\"2020-11-05\"], \"legendgroup\": \"SPWR\", \"marker\": {\"color\": \"#FECB52\"}, \"name\": \"SPWR\", \"offsetgroup\": \"SPWR\", \"orientation\": \"v\", \"showlegend\": true, \"textposition\": \"auto\", \"x\": [\"Electricity Solar\"], \"xaxis\": \"x\", \"y\": [19.44], \"yaxis\": \"y\", \"type\": \"bar\"}, {\"alignmentgroup\": \"True\", \"hoverlabel\": {\"namelength\": 0}, \"hovertemplate\": \"symbol=TDF<br>date=2020-11-05<br>portfolio=%{x}<br>percent=%{y}\", \"ids\": [\"2020-11-05\"], \"legendgroup\": \"TDF\", \"marker\": {\"color\": \"#636efa\"}, \"name\": \"TDF\", \"offsetgroup\": \"TDF\", \"orientation\": \"v\", \"showlegend\": true, \"textposition\": \"auto\", \"x\": [\"CEF\"], \"xaxis\": \"x\", \"y\": [-1.29], \"yaxis\": \"y\", \"type\": \"bar\"}, {\"alignmentgroup\": \"True\", \"hoverlabel\": {\"namelength\": 0}, \"hovertemplate\": \"symbol=TSM<br>date=2020-11-05<br>portfolio=%{x}<br>percent=%{y}\", \"ids\": [\"2020-11-05\"], \"legendgroup\": \"TSM\", \"marker\": {\"color\": \"#EF553B\"}, \"name\": \"TSM\", \"offsetgroup\": \"TSM\", \"orientation\": \"v\", \"showlegend\": true, \"textposition\": \"auto\", \"x\": [\"Semiconductors\"], \"xaxis\": \"x\", \"y\": [9.19], \"yaxis\": \"y\", \"type\": \"bar\"}, {\"alignmentgroup\": \"True\", \"hoverlabel\": {\"namelength\": 0}, \"hovertemplate\": \"symbol=VWDRY<br>date=2020-11-05<br>portfolio=%{x}<br>percent=%{y}\", \"ids\": [\"2020-11-05\"], \"legendgroup\": \"VWDRY\", \"marker\": {\"color\": \"#00cc96\"}, \"name\": \"VWDRY\", \"offsetgroup\": \"VWDRY\", \"orientation\": \"v\", \"showlegend\": true, \"textposition\": \"auto\", \"x\": [\"Electricity Wind\"], \"xaxis\": \"x\", \"y\": [8.43], \"yaxis\": \"y\", \"type\": \"bar\"}], \"name\": \"2020-11-05\"}, {\"data\": [{\"alignmentgroup\": \"True\", \"hoverlabel\": {\"namelength\": 0}, \"hovertemplate\": \"symbol=AAPL<br>date=2020-10-29<br>portfolio=%{x}<br>percent=%{y}\", \"ids\": [\"2020-10-29\"], \"legendgroup\": \"AAPL\", \"marker\": {\"color\": \"#636efa\"}, \"name\": \"AAPL\", \"offsetgroup\": \"AAPL\", \"orientation\": \"v\", \"showlegend\": true, \"textposition\": \"auto\", \"x\": [\"Mega Capital\"], \"xaxis\": \"x\", \"y\": [1.28], \"yaxis\": \"y\", \"type\": \"bar\"}, {\"alignmentgroup\": \"True\", \"hoverlabel\": {\"namelength\": 0}, \"hovertemplate\": \"symbol=ABBV<br>date=2020-10-29<br>portfolio=%{x}<br>percent=%{y}\", \"ids\": [\"2020-10-29\"], \"legendgroup\": \"ABBV\", \"marker\": {\"color\": \"#EF553B\"}, \"name\": \"ABBV\", \"offsetgroup\": \"ABBV\", \"orientation\": \"v\", \"showlegend\": true, \"textposition\": \"auto\", \"x\": [\"Biotechnology\"], \"xaxis\": \"x\", \"y\": [30.02], \"yaxis\": \"y\", \"type\": \"bar\"}, {\"alignmentgroup\": \"True\", \"hoverlabel\": {\"namelength\": 0}, \"hovertemplate\": \"symbol=AMZN<br>date=2020-10-29<br>portfolio=%{x}<br>percent=%{y}\", \"ids\": [\"2020-10-29\"], \"legendgroup\": \"AMZN\", \"marker\": {\"color\": \"#00cc96\"}, \"name\": \"AMZN\", \"offsetgroup\": \"AMZN\", \"orientation\": \"v\", \"showlegend\": true, \"textposition\": \"auto\", \"x\": [\"Mega Capital\"], \"xaxis\": \"x\", \"y\": [-0.49], \"yaxis\": \"y\", \"type\": \"bar\"}, {\"alignmentgroup\": \"True\", \"hoverlabel\": {\"namelength\": 0}, \"hovertemplate\": \"symbol=AVGO<br>date=2020-10-29<br>portfolio=%{x}<br>percent=%{y}\", \"ids\": [\"2020-10-29\"], \"legendgroup\": \"AVGO\", \"marker\": {\"color\": \"#ab63fa\"}, \"name\": \"AVGO\", \"offsetgroup\": \"AVGO\", \"orientation\": \"v\", \"showlegend\": true, \"textposition\": \"auto\", \"x\": [\"5G\"], \"xaxis\": \"x\", \"y\": [11.25], \"yaxis\": \"y\", \"type\": \"bar\"}, {\"alignmentgroup\": \"True\", \"hoverlabel\": {\"namelength\": 0}, \"hovertemplate\": \"symbol=AZRE<br>date=2020-10-29<br>portfolio=%{x}<br>percent=%{y}\", \"ids\": [\"2020-10-29\"], \"legendgroup\": \"AZRE\", \"marker\": {\"color\": \"#FFA15A\"}, \"name\": \"AZRE\", \"offsetgroup\": \"AZRE\", \"orientation\": \"v\", \"showlegend\": true, \"textposition\": \"auto\", \"x\": [\"Energy Renewalbe\"], \"xaxis\": \"x\", \"y\": [34.51], \"yaxis\": \"y\", \"type\": \"bar\"}, {\"alignmentgroup\": \"True\", \"hoverlabel\": {\"namelength\": 0}, \"hovertemplate\": \"symbol=BEKE<br>date=2020-10-29<br>portfolio=%{x}<br>percent=%{y}\", \"ids\": [\"2020-10-29\"], \"legendgroup\": \"BEKE\", \"marker\": {\"color\": \"#19d3f3\"}, \"name\": \"BEKE\", \"offsetgroup\": \"BEKE\", \"orientation\": \"v\", \"showlegend\": true, \"textposition\": \"auto\", \"x\": [\"REIT\"], \"xaxis\": \"x\", \"y\": [-9.95], \"yaxis\": \"y\", \"type\": \"bar\"}, {\"alignmentgroup\": \"True\", \"hoverlabel\": {\"namelength\": 0}, \"hovertemplate\": \"symbol=BYDDF<br>date=2020-10-29<br>portfolio=%{x}<br>percent=%{y}\", \"ids\": [\"2020-10-29\"], \"legendgroup\": \"BYDDF\", \"marker\": {\"color\": \"#FF6692\"}, \"name\": \"BYDDF\", \"offsetgroup\": \"BYDDF\", \"orientation\": \"v\", \"showlegend\": true, \"textposition\": \"auto\", \"x\": [\"Electric Vehicles\"], \"xaxis\": \"x\", \"y\": [18.49], \"yaxis\": \"y\", \"type\": \"bar\"}, {\"alignmentgroup\": \"True\", \"hoverlabel\": {\"namelength\": 0}, \"hovertemplate\": \"symbol=CSIQ<br>date=2020-10-29<br>portfolio=%{x}<br>percent=%{y}\", \"ids\": [\"2020-10-29\"], \"legendgroup\": \"CSIQ\", \"marker\": {\"color\": \"#B6E880\"}, \"name\": \"CSIQ\", \"offsetgroup\": \"CSIQ\", \"orientation\": \"v\", \"showlegend\": true, \"textposition\": \"auto\", \"x\": [\"Electricity Solar\"], \"xaxis\": \"x\", \"y\": [17.22], \"yaxis\": \"y\", \"type\": \"bar\"}, {\"alignmentgroup\": \"True\", \"hoverlabel\": {\"namelength\": 0}, \"hovertemplate\": \"symbol=DOCRF<br>date=2020-10-29<br>portfolio=%{x}<br>percent=%{y}\", \"ids\": [\"2020-10-29\"], \"legendgroup\": \"DOCRF\", \"marker\": {\"color\": \"#FF97FF\"}, \"name\": \"DOCRF\", \"offsetgroup\": \"DOCRF\", \"orientation\": \"v\", \"showlegend\": true, \"textposition\": \"auto\", \"x\": [\"Cloud Retail Apps\"], \"xaxis\": \"x\", \"y\": [-15.72], \"yaxis\": \"y\", \"type\": \"bar\"}, {\"alignmentgroup\": \"True\", \"hoverlabel\": {\"namelength\": 0}, \"hovertemplate\": \"symbol=DQ<br>date=2020-10-29<br>portfolio=%{x}<br>percent=%{y}\", \"ids\": [\"2020-10-29\"], \"legendgroup\": \"DQ\", \"marker\": {\"color\": \"#FECB52\"}, \"name\": \"DQ\", \"offsetgroup\": \"DQ\", \"orientation\": \"v\", \"showlegend\": true, \"textposition\": \"auto\", \"x\": [\"Electricity Solar\"], \"xaxis\": \"x\", \"y\": [20.57], \"yaxis\": \"y\", \"type\": \"bar\"}, {\"alignmentgroup\": \"True\", \"hoverlabel\": {\"namelength\": 0}, \"hovertemplate\": \"symbol=ENPH<br>date=2020-10-29<br>portfolio=%{x}<br>percent=%{y}\", \"ids\": [\"2020-10-29\"], \"legendgroup\": \"ENPH\", \"marker\": {\"color\": \"#636efa\"}, \"name\": \"ENPH\", \"offsetgroup\": \"ENPH\", \"orientation\": \"v\", \"showlegend\": true, \"textposition\": \"auto\", \"x\": [\"Electricity Solar\"], \"xaxis\": \"x\", \"y\": [37.12], \"yaxis\": \"y\", \"type\": \"bar\"}, {\"alignmentgroup\": \"True\", \"hoverlabel\": {\"namelength\": 0}, \"hovertemplate\": \"symbol=FFC<br>date=2020-10-29<br>portfolio=%{x}<br>percent=%{y}\", \"ids\": [\"2020-10-29\"], \"legendgroup\": \"FFC\", \"marker\": {\"color\": \"#EF553B\"}, \"name\": \"FFC\", \"offsetgroup\": \"FFC\", \"orientation\": \"v\", \"showlegend\": true, \"textposition\": \"auto\", \"x\": [\"Dividend\"], \"xaxis\": \"x\", \"y\": [9.04], \"yaxis\": \"y\", \"type\": \"bar\"}, {\"alignmentgroup\": \"True\", \"hoverlabel\": {\"namelength\": 0}, \"hovertemplate\": \"symbol=FLC<br>date=2020-10-29<br>portfolio=%{x}<br>percent=%{y}\", \"ids\": [\"2020-10-29\"], \"legendgroup\": \"FLC\", \"marker\": {\"color\": \"#00cc96\"}, \"name\": \"FLC\", \"offsetgroup\": \"FLC\", \"orientation\": \"v\", \"showlegend\": true, \"textposition\": \"auto\", \"x\": [\"Dividend\"], \"xaxis\": \"x\", \"y\": [9.84], \"yaxis\": \"y\", \"type\": \"bar\"}, {\"alignmentgroup\": \"True\", \"hoverlabel\": {\"namelength\": 0}, \"hovertemplate\": \"symbol=FSLR<br>date=2020-10-29<br>portfolio=%{x}<br>percent=%{y}\", \"ids\": [\"2020-10-29\"], \"legendgroup\": \"FSLR\", \"marker\": {\"color\": \"#ab63fa\"}, \"name\": \"FSLR\", \"offsetgroup\": \"FSLR\", \"orientation\": \"v\", \"showlegend\": true, \"textposition\": \"auto\", \"x\": [\"Electricity Solar\"], \"xaxis\": \"x\", \"y\": [8.28], \"yaxis\": \"y\", \"type\": \"bar\"}, {\"alignmentgroup\": \"True\", \"hoverlabel\": {\"namelength\": 0}, \"hovertemplate\": \"symbol=LI<br>date=2020-10-29<br>portfolio=%{x}<br>percent=%{y}\", \"ids\": [\"2020-10-29\"], \"legendgroup\": \"LI\", \"marker\": {\"color\": \"#FFA15A\"}, \"name\": \"LI\", \"offsetgroup\": \"LI\", \"orientation\": \"v\", \"showlegend\": true, \"textposition\": \"auto\", \"x\": [\"Electric Vehicles\"], \"xaxis\": \"x\", \"y\": [91.46], \"yaxis\": \"y\", \"type\": \"bar\"}, {\"alignmentgroup\": \"True\", \"hoverlabel\": {\"namelength\": 0}, \"hovertemplate\": \"symbol=LMND<br>date=2020-10-29<br>portfolio=%{x}<br>percent=%{y}\", \"ids\": [\"2020-10-29\"], \"legendgroup\": \"LMND\", \"marker\": {\"color\": \"#19d3f3\"}, \"name\": \"LMND\", \"offsetgroup\": \"LMND\", \"orientation\": \"v\", \"showlegend\": true, \"textposition\": \"auto\", \"x\": [\"Insurance\"], \"xaxis\": \"x\", \"y\": [60.19], \"yaxis\": \"y\", \"type\": \"bar\"}, {\"alignmentgroup\": \"True\", \"hoverlabel\": {\"namelength\": 0}, \"hovertemplate\": \"symbol=MSFT<br>date=2020-10-29<br>portfolio=%{x}<br>percent=%{y}\", \"ids\": [\"2020-10-29\"], \"legendgroup\": \"MSFT\", \"marker\": {\"color\": \"#FF6692\"}, \"name\": \"MSFT\", \"offsetgroup\": \"MSFT\", \"orientation\": \"v\", \"showlegend\": true, \"textposition\": \"auto\", \"x\": [\"Mega Capital\"], \"xaxis\": \"x\", \"y\": [5.41], \"yaxis\": \"y\", \"type\": \"bar\"}, {\"alignmentgroup\": \"True\", \"hoverlabel\": {\"namelength\": 0}, \"hovertemplate\": \"symbol=NVDA<br>date=2020-10-29<br>portfolio=%{x}<br>percent=%{y}\", \"ids\": [\"2020-10-29\"], \"legendgroup\": \"NVDA\", \"marker\": {\"color\": \"#B6E880\"}, \"name\": \"NVDA\", \"offsetgroup\": \"NVDA\", \"orientation\": \"v\", \"showlegend\": true, \"textposition\": \"auto\", \"x\": [\"Semiconductors\"], \"xaxis\": \"x\", \"y\": [1.82], \"yaxis\": \"y\", \"type\": \"bar\"}, {\"alignmentgroup\": \"True\", \"hoverlabel\": {\"namelength\": 0}, \"hovertemplate\": \"symbol=QCOM<br>date=2020-10-29<br>portfolio=%{x}<br>percent=%{y}\", \"ids\": [\"2020-10-29\"], \"legendgroup\": \"QCOM\", \"marker\": {\"color\": \"#FF97FF\"}, \"name\": \"QCOM\", \"offsetgroup\": \"QCOM\", \"orientation\": \"v\", \"showlegend\": true, \"textposition\": \"auto\", \"x\": [\"Semiconductors\"], \"xaxis\": \"x\", \"y\": [13.75], \"yaxis\": \"y\", \"type\": \"bar\"}, {\"alignmentgroup\": \"True\", \"hoverlabel\": {\"namelength\": 0}, \"hovertemplate\": \"symbol=SPWR<br>date=2020-10-29<br>portfolio=%{x}<br>percent=%{y}\", \"ids\": [\"2020-10-29\"], \"legendgroup\": \"SPWR\", \"marker\": {\"color\": \"#FECB52\"}, \"name\": \"SPWR\", \"offsetgroup\": \"SPWR\", \"orientation\": \"v\", \"showlegend\": true, \"textposition\": \"auto\", \"x\": [\"Electricity Solar\"], \"xaxis\": \"x\", \"y\": [41.31], \"yaxis\": \"y\", \"type\": \"bar\"}, {\"alignmentgroup\": \"True\", \"hoverlabel\": {\"namelength\": 0}, \"hovertemplate\": \"symbol=TDF<br>date=2020-10-29<br>portfolio=%{x}<br>percent=%{y}\", \"ids\": [\"2020-10-29\"], \"legendgroup\": \"TDF\", \"marker\": {\"color\": \"#636efa\"}, \"name\": \"TDF\", \"offsetgroup\": \"TDF\", \"orientation\": \"v\", \"showlegend\": true, \"textposition\": \"auto\", \"x\": [\"CEF\"], \"xaxis\": \"x\", \"y\": [3.03], \"yaxis\": \"y\", \"type\": \"bar\"}, {\"alignmentgroup\": \"True\", \"hoverlabel\": {\"namelength\": 0}, \"hovertemplate\": \"symbol=TSM<br>date=2020-10-29<br>portfolio=%{x}<br>percent=%{y}\", \"ids\": [\"2020-10-29\"], \"legendgroup\": \"TSM\", \"marker\": {\"color\": \"#EF553B\"}, \"name\": \"TSM\", \"offsetgroup\": \"TSM\", \"orientation\": \"v\", \"showlegend\": true, \"textposition\": \"auto\", \"x\": [\"Semiconductors\"], \"xaxis\": \"x\", \"y\": [16.32], \"yaxis\": \"y\", \"type\": \"bar\"}, {\"alignmentgroup\": \"True\", \"hoverlabel\": {\"namelength\": 0}, \"hovertemplate\": \"symbol=VWDRY<br>date=2020-10-29<br>portfolio=%{x}<br>percent=%{y}\", \"ids\": [\"2020-10-29\"], \"legendgroup\": \"VWDRY\", \"marker\": {\"color\": \"#00cc96\"}, \"name\": \"VWDRY\", \"offsetgroup\": \"VWDRY\", \"orientation\": \"v\", \"showlegend\": true, \"textposition\": \"auto\", \"x\": [\"Electricity Wind\"], \"xaxis\": \"x\", \"y\": [14.17], \"yaxis\": \"y\", \"type\": \"bar\"}], \"name\": \"2020-10-29\"}, {\"data\": [{\"alignmentgroup\": \"True\", \"hoverlabel\": {\"namelength\": 0}, \"hovertemplate\": \"symbol=AAPL<br>date=2020-10-22<br>portfolio=%{x}<br>percent=%{y}\", \"ids\": [\"2020-10-22\"], \"legendgroup\": \"AAPL\", \"marker\": {\"color\": \"#636efa\"}, \"name\": \"AAPL\", \"offsetgroup\": \"AAPL\", \"orientation\": \"v\", \"showlegend\": true, \"textposition\": \"auto\", \"x\": [\"Mega Capital\"], \"xaxis\": \"x\", \"y\": [0.9], \"yaxis\": \"y\", \"type\": \"bar\"}, {\"alignmentgroup\": \"True\", \"hoverlabel\": {\"namelength\": 0}, \"hovertemplate\": \"symbol=ABBV<br>date=2020-10-22<br>portfolio=%{x}<br>percent=%{y}\", \"ids\": [\"2020-10-22\"], \"legendgroup\": \"ABBV\", \"marker\": {\"color\": \"#EF553B\"}, \"name\": \"ABBV\", \"offsetgroup\": \"ABBV\", \"orientation\": \"v\", \"showlegend\": true, \"textposition\": \"auto\", \"x\": [\"Biotechnology\"], \"xaxis\": \"x\", \"y\": [24.41], \"yaxis\": \"y\", \"type\": \"bar\"}, {\"alignmentgroup\": \"True\", \"hoverlabel\": {\"namelength\": 0}, \"hovertemplate\": \"symbol=AMZN<br>date=2020-10-22<br>portfolio=%{x}<br>percent=%{y}\", \"ids\": [\"2020-10-22\"], \"legendgroup\": \"AMZN\", \"marker\": {\"color\": \"#00cc96\"}, \"name\": \"AMZN\", \"offsetgroup\": \"AMZN\", \"orientation\": \"v\", \"showlegend\": true, \"textposition\": \"auto\", \"x\": [\"Mega Capital\"], \"xaxis\": \"x\", \"y\": [0.6], \"yaxis\": \"y\", \"type\": \"bar\"}, {\"alignmentgroup\": \"True\", \"hoverlabel\": {\"namelength\": 0}, \"hovertemplate\": \"symbol=AVGO<br>date=2020-10-22<br>portfolio=%{x}<br>percent=%{y}\", \"ids\": [\"2020-10-22\"], \"legendgroup\": \"AVGO\", \"marker\": {\"color\": \"#ab63fa\"}, \"name\": \"AVGO\", \"offsetgroup\": \"AVGO\", \"orientation\": \"v\", \"showlegend\": true, \"textposition\": \"auto\", \"x\": [\"5G\"], \"xaxis\": \"x\", \"y\": [5.78], \"yaxis\": \"y\", \"type\": \"bar\"}, {\"alignmentgroup\": \"True\", \"hoverlabel\": {\"namelength\": 0}, \"hovertemplate\": \"symbol=AZRE<br>date=2020-10-22<br>portfolio=%{x}<br>percent=%{y}\", \"ids\": [\"2020-10-22\"], \"legendgroup\": \"AZRE\", \"marker\": {\"color\": \"#FFA15A\"}, \"name\": \"AZRE\", \"offsetgroup\": \"AZRE\", \"orientation\": \"v\", \"showlegend\": true, \"textposition\": \"auto\", \"x\": [\"Energy Renewalbe\"], \"xaxis\": \"x\", \"y\": [38.54], \"yaxis\": \"y\", \"type\": \"bar\"}, {\"alignmentgroup\": \"True\", \"hoverlabel\": {\"namelength\": 0}, \"hovertemplate\": \"symbol=BEKE<br>date=2020-10-22<br>portfolio=%{x}<br>percent=%{y}\", \"ids\": [\"2020-10-22\"], \"legendgroup\": \"BEKE\", \"marker\": {\"color\": \"#19d3f3\"}, \"name\": \"BEKE\", \"offsetgroup\": \"BEKE\", \"orientation\": \"v\", \"showlegend\": true, \"textposition\": \"auto\", \"x\": [\"REIT\"], \"xaxis\": \"x\", \"y\": [-14.92], \"yaxis\": \"y\", \"type\": \"bar\"}, {\"alignmentgroup\": \"True\", \"hoverlabel\": {\"namelength\": 0}, \"hovertemplate\": \"symbol=BYDDF<br>date=2020-10-22<br>portfolio=%{x}<br>percent=%{y}\", \"ids\": [\"2020-10-22\"], \"legendgroup\": \"BYDDF\", \"marker\": {\"color\": \"#FF6692\"}, \"name\": \"BYDDF\", \"offsetgroup\": \"BYDDF\", \"orientation\": \"v\", \"showlegend\": true, \"textposition\": \"auto\", \"x\": [\"Electric Vehicles\"], \"xaxis\": \"x\", \"y\": [28.14], \"yaxis\": \"y\", \"type\": \"bar\"}, {\"alignmentgroup\": \"True\", \"hoverlabel\": {\"namelength\": 0}, \"hovertemplate\": \"symbol=CSIQ<br>date=2020-10-22<br>portfolio=%{x}<br>percent=%{y}\", \"ids\": [\"2020-10-22\"], \"legendgroup\": \"CSIQ\", \"marker\": {\"color\": \"#B6E880\"}, \"name\": \"CSIQ\", \"offsetgroup\": \"CSIQ\", \"orientation\": \"v\", \"showlegend\": true, \"textposition\": \"auto\", \"x\": [\"Electricity Solar\"], \"xaxis\": \"x\", \"y\": [10.7], \"yaxis\": \"y\", \"type\": \"bar\"}, {\"alignmentgroup\": \"True\", \"hoverlabel\": {\"namelength\": 0}, \"hovertemplate\": \"symbol=DOCRF<br>date=2020-10-22<br>portfolio=%{x}<br>percent=%{y}\", \"ids\": [\"2020-10-22\"], \"legendgroup\": \"DOCRF\", \"marker\": {\"color\": \"#FF97FF\"}, \"name\": \"DOCRF\", \"offsetgroup\": \"DOCRF\", \"orientation\": \"v\", \"showlegend\": true, \"textposition\": \"auto\", \"x\": [\"Cloud Retail Apps\"], \"xaxis\": \"x\", \"y\": [-20.29], \"yaxis\": \"y\", \"type\": \"bar\"}, {\"alignmentgroup\": \"True\", \"hoverlabel\": {\"namelength\": 0}, \"hovertemplate\": \"symbol=DQ<br>date=2020-10-22<br>portfolio=%{x}<br>percent=%{y}\", \"ids\": [\"2020-10-22\"], \"legendgroup\": \"DQ\", \"marker\": {\"color\": \"#FECB52\"}, \"name\": \"DQ\", \"offsetgroup\": \"DQ\", \"orientation\": \"v\", \"showlegend\": true, \"textposition\": \"auto\", \"x\": [\"Electricity Solar\"], \"xaxis\": \"x\", \"y\": [14.29], \"yaxis\": \"y\", \"type\": \"bar\"}, {\"alignmentgroup\": \"True\", \"hoverlabel\": {\"namelength\": 0}, \"hovertemplate\": \"symbol=ENPH<br>date=2020-10-22<br>portfolio=%{x}<br>percent=%{y}\", \"ids\": [\"2020-10-22\"], \"legendgroup\": \"ENPH\", \"marker\": {\"color\": \"#636efa\"}, \"name\": \"ENPH\", \"offsetgroup\": \"ENPH\", \"orientation\": \"v\", \"showlegend\": true, \"textposition\": \"auto\", \"x\": [\"Electricity Solar\"], \"xaxis\": \"x\", \"y\": [35.86], \"yaxis\": \"y\", \"type\": \"bar\"}, {\"alignmentgroup\": \"True\", \"hoverlabel\": {\"namelength\": 0}, \"hovertemplate\": \"symbol=FFC<br>date=2020-10-22<br>portfolio=%{x}<br>percent=%{y}\", \"ids\": [\"2020-10-22\"], \"legendgroup\": \"FFC\", \"marker\": {\"color\": \"#EF553B\"}, \"name\": \"FFC\", \"offsetgroup\": \"FFC\", \"orientation\": \"v\", \"showlegend\": true, \"textposition\": \"auto\", \"x\": [\"Dividend\"], \"xaxis\": \"x\", \"y\": [7.3], \"yaxis\": \"y\", \"type\": \"bar\"}, {\"alignmentgroup\": \"True\", \"hoverlabel\": {\"namelength\": 0}, \"hovertemplate\": \"symbol=FLC<br>date=2020-10-22<br>portfolio=%{x}<br>percent=%{y}\", \"ids\": [\"2020-10-22\"], \"legendgroup\": \"FLC\", \"marker\": {\"color\": \"#00cc96\"}, \"name\": \"FLC\", \"offsetgroup\": \"FLC\", \"orientation\": \"v\", \"showlegend\": true, \"textposition\": \"auto\", \"x\": [\"Dividend\"], \"xaxis\": \"x\", \"y\": [8.82], \"yaxis\": \"y\", \"type\": \"bar\"}, {\"alignmentgroup\": \"True\", \"hoverlabel\": {\"namelength\": 0}, \"hovertemplate\": \"symbol=FSLR<br>date=2020-10-22<br>portfolio=%{x}<br>percent=%{y}\", \"ids\": [\"2020-10-22\"], \"legendgroup\": \"FSLR\", \"marker\": {\"color\": \"#ab63fa\"}, \"name\": \"FSLR\", \"offsetgroup\": \"FSLR\", \"orientation\": \"v\", \"showlegend\": true, \"textposition\": \"auto\", \"x\": [\"Electricity Solar\"], \"xaxis\": \"x\", \"y\": [14.58], \"yaxis\": \"y\", \"type\": \"bar\"}, {\"alignmentgroup\": \"True\", \"hoverlabel\": {\"namelength\": 0}, \"hovertemplate\": \"symbol=LI<br>date=2020-10-22<br>portfolio=%{x}<br>percent=%{y}\", \"ids\": [\"2020-10-22\"], \"legendgroup\": \"LI\", \"marker\": {\"color\": \"#FFA15A\"}, \"name\": \"LI\", \"offsetgroup\": \"LI\", \"orientation\": \"v\", \"showlegend\": true, \"textposition\": \"auto\", \"x\": [\"Electric Vehicles\"], \"xaxis\": \"x\", \"y\": [108.01], \"yaxis\": \"y\", \"type\": \"bar\"}, {\"alignmentgroup\": \"True\", \"hoverlabel\": {\"namelength\": 0}, \"hovertemplate\": \"symbol=LMND<br>date=2020-10-22<br>portfolio=%{x}<br>percent=%{y}\", \"ids\": [\"2020-10-22\"], \"legendgroup\": \"LMND\", \"marker\": {\"color\": \"#19d3f3\"}, \"name\": \"LMND\", \"offsetgroup\": \"LMND\", \"orientation\": \"v\", \"showlegend\": true, \"textposition\": \"auto\", \"x\": [\"Insurance\"], \"xaxis\": \"x\", \"y\": [43.02], \"yaxis\": \"y\", \"type\": \"bar\"}, {\"alignmentgroup\": \"True\", \"hoverlabel\": {\"namelength\": 0}, \"hovertemplate\": \"symbol=MSFT<br>date=2020-10-22<br>portfolio=%{x}<br>percent=%{y}\", \"ids\": [\"2020-10-22\"], \"legendgroup\": \"MSFT\", \"marker\": {\"color\": \"#FF6692\"}, \"name\": \"MSFT\", \"offsetgroup\": \"MSFT\", \"orientation\": \"v\", \"showlegend\": true, \"textposition\": \"auto\", \"x\": [\"Mega Capital\"], \"xaxis\": \"x\", \"y\": [0.42], \"yaxis\": \"y\", \"type\": \"bar\"}, {\"alignmentgroup\": \"True\", \"hoverlabel\": {\"namelength\": 0}, \"hovertemplate\": \"symbol=NVDA<br>date=2020-10-22<br>portfolio=%{x}<br>percent=%{y}\", \"ids\": [\"2020-10-22\"], \"legendgroup\": \"NVDA\", \"marker\": {\"color\": \"#B6E880\"}, \"name\": \"NVDA\", \"offsetgroup\": \"NVDA\", \"orientation\": \"v\", \"showlegend\": true, \"textposition\": \"auto\", \"x\": [\"Semiconductors\"], \"xaxis\": \"x\", \"y\": [-0.75], \"yaxis\": \"y\", \"type\": \"bar\"}, {\"alignmentgroup\": \"True\", \"hoverlabel\": {\"namelength\": 0}, \"hovertemplate\": \"symbol=QCOM<br>date=2020-10-22<br>portfolio=%{x}<br>percent=%{y}\", \"ids\": [\"2020-10-22\"], \"legendgroup\": \"QCOM\", \"marker\": {\"color\": \"#FF97FF\"}, \"name\": \"QCOM\", \"offsetgroup\": \"QCOM\", \"orientation\": \"v\", \"showlegend\": true, \"textposition\": \"auto\", \"x\": [\"Semiconductors\"], \"xaxis\": \"x\", \"y\": [12.03], \"yaxis\": \"y\", \"type\": \"bar\"}, {\"alignmentgroup\": \"True\", \"hoverlabel\": {\"namelength\": 0}, \"hovertemplate\": \"symbol=SPWR<br>date=2020-10-22<br>portfolio=%{x}<br>percent=%{y}\", \"ids\": [\"2020-10-22\"], \"legendgroup\": \"SPWR\", \"marker\": {\"color\": \"#FECB52\"}, \"name\": \"SPWR\", \"offsetgroup\": \"SPWR\", \"orientation\": \"v\", \"showlegend\": true, \"textposition\": \"auto\", \"x\": [\"Electricity Solar\"], \"xaxis\": \"x\", \"y\": [41.13], \"yaxis\": \"y\", \"type\": \"bar\"}, {\"alignmentgroup\": \"True\", \"hoverlabel\": {\"namelength\": 0}, \"hovertemplate\": \"symbol=TDF<br>date=2020-10-22<br>portfolio=%{x}<br>percent=%{y}\", \"ids\": [\"2020-10-22\"], \"legendgroup\": \"TDF\", \"marker\": {\"color\": \"#636efa\"}, \"name\": \"TDF\", \"offsetgroup\": \"TDF\", \"orientation\": \"v\", \"showlegend\": true, \"textposition\": \"auto\", \"x\": [\"CEF\"], \"xaxis\": \"x\", \"y\": [2.99], \"yaxis\": \"y\", \"type\": \"bar\"}, {\"alignmentgroup\": \"True\", \"hoverlabel\": {\"namelength\": 0}, \"hovertemplate\": \"symbol=TSM<br>date=2020-10-22<br>portfolio=%{x}<br>percent=%{y}\", \"ids\": [\"2020-10-22\"], \"legendgroup\": \"TSM\", \"marker\": {\"color\": \"#EF553B\"}, \"name\": \"TSM\", \"offsetgroup\": \"TSM\", \"orientation\": \"v\", \"showlegend\": true, \"textposition\": \"auto\", \"x\": [\"Semiconductors\"], \"xaxis\": \"x\", \"y\": [11.94], \"yaxis\": \"y\", \"type\": \"bar\"}, {\"alignmentgroup\": \"True\", \"hoverlabel\": {\"namelength\": 0}, \"hovertemplate\": \"symbol=VWDRY<br>date=2020-10-22<br>portfolio=%{x}<br>percent=%{y}\", \"ids\": [\"2020-10-22\"], \"legendgroup\": \"VWDRY\", \"marker\": {\"color\": \"#00cc96\"}, \"name\": \"VWDRY\", \"offsetgroup\": \"VWDRY\", \"orientation\": \"v\", \"showlegend\": true, \"textposition\": \"auto\", \"x\": [\"Electricity Wind\"], \"xaxis\": \"x\", \"y\": [17.24], \"yaxis\": \"y\", \"type\": \"bar\"}], \"name\": \"2020-10-22\"}, {\"data\": [{\"alignmentgroup\": \"True\", \"hoverlabel\": {\"namelength\": 0}, \"hovertemplate\": \"symbol=AAPL<br>date=2020-10-15<br>portfolio=%{x}<br>percent=%{y}\", \"ids\": [\"2020-10-15\"], \"legendgroup\": \"AAPL\", \"marker\": {\"color\": \"#636efa\"}, \"name\": \"AAPL\", \"offsetgroup\": \"AAPL\", \"orientation\": \"v\", \"showlegend\": true, \"textposition\": \"auto\", \"x\": [\"Mega Capital\"], \"xaxis\": \"x\", \"y\": [-3.25], \"yaxis\": \"y\", \"type\": \"bar\"}, {\"alignmentgroup\": \"True\", \"hoverlabel\": {\"namelength\": 0}, \"hovertemplate\": \"symbol=ABBV<br>date=2020-10-15<br>portfolio=%{x}<br>percent=%{y}\", \"ids\": [\"2020-10-15\"], \"legendgroup\": \"ABBV\", \"marker\": {\"color\": \"#EF553B\"}, \"name\": \"ABBV\", \"offsetgroup\": \"ABBV\", \"orientation\": \"v\", \"showlegend\": true, \"textposition\": \"auto\", \"x\": [\"Biotechnology\"], \"xaxis\": \"x\", \"y\": [23.07], \"yaxis\": \"y\", \"type\": \"bar\"}, {\"alignmentgroup\": \"True\", \"hoverlabel\": {\"namelength\": 0}, \"hovertemplate\": \"symbol=AMZN<br>date=2020-10-15<br>portfolio=%{x}<br>percent=%{y}\", \"ids\": [\"2020-10-15\"], \"legendgroup\": \"AMZN\", \"marker\": {\"color\": \"#00cc96\"}, \"name\": \"AMZN\", \"offsetgroup\": \"AMZN\", \"orientation\": \"v\", \"showlegend\": true, \"textposition\": \"auto\", \"x\": [\"Mega Capital\"], \"xaxis\": \"x\", \"y\": [-4.29], \"yaxis\": \"y\", \"type\": \"bar\"}, {\"alignmentgroup\": \"True\", \"hoverlabel\": {\"namelength\": 0}, \"hovertemplate\": \"symbol=AVGO<br>date=2020-10-15<br>portfolio=%{x}<br>percent=%{y}\", \"ids\": [\"2020-10-15\"], \"legendgroup\": \"AVGO\", \"marker\": {\"color\": \"#ab63fa\"}, \"name\": \"AVGO\", \"offsetgroup\": \"AVGO\", \"orientation\": \"v\", \"showlegend\": true, \"textposition\": \"auto\", \"x\": [\"5G\"], \"xaxis\": \"x\", \"y\": [3.95], \"yaxis\": \"y\", \"type\": \"bar\"}, {\"alignmentgroup\": \"True\", \"hoverlabel\": {\"namelength\": 0}, \"hovertemplate\": \"symbol=AZRE<br>date=2020-10-15<br>portfolio=%{x}<br>percent=%{y}\", \"ids\": [\"2020-10-15\"], \"legendgroup\": \"AZRE\", \"marker\": {\"color\": \"#FFA15A\"}, \"name\": \"AZRE\", \"offsetgroup\": \"AZRE\", \"orientation\": \"v\", \"showlegend\": true, \"textposition\": \"auto\", \"x\": [\"Energy Renewalbe\"], \"xaxis\": \"x\", \"y\": [34.46], \"yaxis\": \"y\", \"type\": \"bar\"}, {\"alignmentgroup\": \"True\", \"hoverlabel\": {\"namelength\": 0}, \"hovertemplate\": \"symbol=BEKE<br>date=2020-10-15<br>portfolio=%{x}<br>percent=%{y}\", \"ids\": [\"2020-10-15\"], \"legendgroup\": \"BEKE\", \"marker\": {\"color\": \"#19d3f3\"}, \"name\": \"BEKE\", \"offsetgroup\": \"BEKE\", \"orientation\": \"v\", \"showlegend\": true, \"textposition\": \"auto\", \"x\": [\"REIT\"], \"xaxis\": \"x\", \"y\": [-7.54], \"yaxis\": \"y\", \"type\": \"bar\"}, {\"alignmentgroup\": \"True\", \"hoverlabel\": {\"namelength\": 0}, \"hovertemplate\": \"symbol=BYDDF<br>date=2020-10-15<br>portfolio=%{x}<br>percent=%{y}\", \"ids\": [\"2020-10-15\"], \"legendgroup\": \"BYDDF\", \"marker\": {\"color\": \"#FF6692\"}, \"name\": \"BYDDF\", \"offsetgroup\": \"BYDDF\", \"orientation\": \"v\", \"showlegend\": true, \"textposition\": \"auto\", \"x\": [\"Electric Vehicles\"], \"xaxis\": \"x\", \"y\": [38.85], \"yaxis\": \"y\", \"type\": \"bar\"}, {\"alignmentgroup\": \"True\", \"hoverlabel\": {\"namelength\": 0}, \"hovertemplate\": \"symbol=CSIQ<br>date=2020-10-15<br>portfolio=%{x}<br>percent=%{y}\", \"ids\": [\"2020-10-15\"], \"legendgroup\": \"CSIQ\", \"marker\": {\"color\": \"#B6E880\"}, \"name\": \"CSIQ\", \"offsetgroup\": \"CSIQ\", \"orientation\": \"v\", \"showlegend\": true, \"textposition\": \"auto\", \"x\": [\"Electricity Solar\"], \"xaxis\": \"x\", \"y\": [13.52], \"yaxis\": \"y\", \"type\": \"bar\"}, {\"alignmentgroup\": \"True\", \"hoverlabel\": {\"namelength\": 0}, \"hovertemplate\": \"symbol=DOCRF<br>date=2020-10-15<br>portfolio=%{x}<br>percent=%{y}\", \"ids\": [\"2020-10-15\"], \"legendgroup\": \"DOCRF\", \"marker\": {\"color\": \"#FF97FF\"}, \"name\": \"DOCRF\", \"offsetgroup\": \"DOCRF\", \"orientation\": \"v\", \"showlegend\": true, \"textposition\": \"auto\", \"x\": [\"Cloud Retail Apps\"], \"xaxis\": \"x\", \"y\": [-5.13], \"yaxis\": \"y\", \"type\": \"bar\"}, {\"alignmentgroup\": \"True\", \"hoverlabel\": {\"namelength\": 0}, \"hovertemplate\": \"symbol=DQ<br>date=2020-10-15<br>portfolio=%{x}<br>percent=%{y}\", \"ids\": [\"2020-10-15\"], \"legendgroup\": \"DQ\", \"marker\": {\"color\": \"#FECB52\"}, \"name\": \"DQ\", \"offsetgroup\": \"DQ\", \"orientation\": \"v\", \"showlegend\": true, \"textposition\": \"auto\", \"x\": [\"Electricity Solar\"], \"xaxis\": \"x\", \"y\": [12.21], \"yaxis\": \"y\", \"type\": \"bar\"}, {\"alignmentgroup\": \"True\", \"hoverlabel\": {\"namelength\": 0}, \"hovertemplate\": \"symbol=ENPH<br>date=2020-10-15<br>portfolio=%{x}<br>percent=%{y}\", \"ids\": [\"2020-10-15\"], \"legendgroup\": \"ENPH\", \"marker\": {\"color\": \"#636efa\"}, \"name\": \"ENPH\", \"offsetgroup\": \"ENPH\", \"orientation\": \"v\", \"showlegend\": true, \"textposition\": \"auto\", \"x\": [\"Electricity Solar\"], \"xaxis\": \"x\", \"y\": [26.96], \"yaxis\": \"y\", \"type\": \"bar\"}, {\"alignmentgroup\": \"True\", \"hoverlabel\": {\"namelength\": 0}, \"hovertemplate\": \"symbol=FFC<br>date=2020-10-15<br>portfolio=%{x}<br>percent=%{y}\", \"ids\": [\"2020-10-15\"], \"legendgroup\": \"FFC\", \"marker\": {\"color\": \"#EF553B\"}, \"name\": \"FFC\", \"offsetgroup\": \"FFC\", \"orientation\": \"v\", \"showlegend\": true, \"textposition\": \"auto\", \"x\": [\"Dividend\"], \"xaxis\": \"x\", \"y\": [7.9], \"yaxis\": \"y\", \"type\": \"bar\"}, {\"alignmentgroup\": \"True\", \"hoverlabel\": {\"namelength\": 0}, \"hovertemplate\": \"symbol=FLC<br>date=2020-10-15<br>portfolio=%{x}<br>percent=%{y}\", \"ids\": [\"2020-10-15\"], \"legendgroup\": \"FLC\", \"marker\": {\"color\": \"#00cc96\"}, \"name\": \"FLC\", \"offsetgroup\": \"FLC\", \"orientation\": \"v\", \"showlegend\": true, \"textposition\": \"auto\", \"x\": [\"Dividend\"], \"xaxis\": \"x\", \"y\": [7.74], \"yaxis\": \"y\", \"type\": \"bar\"}, {\"alignmentgroup\": \"True\", \"hoverlabel\": {\"namelength\": 0}, \"hovertemplate\": \"symbol=FSLR<br>date=2020-10-15<br>portfolio=%{x}<br>percent=%{y}\", \"ids\": [\"2020-10-15\"], \"legendgroup\": \"FSLR\", \"marker\": {\"color\": \"#ab63fa\"}, \"name\": \"FSLR\", \"offsetgroup\": \"FSLR\", \"orientation\": \"v\", \"showlegend\": true, \"textposition\": \"auto\", \"x\": [\"Electricity Solar\"], \"xaxis\": \"x\", \"y\": [15.09], \"yaxis\": \"y\", \"type\": \"bar\"}, {\"alignmentgroup\": \"True\", \"hoverlabel\": {\"namelength\": 0}, \"hovertemplate\": \"symbol=LI<br>date=2020-10-15<br>portfolio=%{x}<br>percent=%{y}\", \"ids\": [\"2020-10-15\"], \"legendgroup\": \"LI\", \"marker\": {\"color\": \"#FFA15A\"}, \"name\": \"LI\", \"offsetgroup\": \"LI\", \"orientation\": \"v\", \"showlegend\": true, \"textposition\": \"auto\", \"x\": [\"Electric Vehicles\"], \"xaxis\": \"x\", \"y\": [92.59], \"yaxis\": \"y\", \"type\": \"bar\"}, {\"alignmentgroup\": \"True\", \"hoverlabel\": {\"namelength\": 0}, \"hovertemplate\": \"symbol=LMND<br>date=2020-10-15<br>portfolio=%{x}<br>percent=%{y}\", \"ids\": [\"2020-10-15\"], \"legendgroup\": \"LMND\", \"marker\": {\"color\": \"#19d3f3\"}, \"name\": \"LMND\", \"offsetgroup\": \"LMND\", \"orientation\": \"v\", \"showlegend\": true, \"textposition\": \"auto\", \"x\": [\"Insurance\"], \"xaxis\": \"x\", \"y\": [20.38], \"yaxis\": \"y\", \"type\": \"bar\"}, {\"alignmentgroup\": \"True\", \"hoverlabel\": {\"namelength\": 0}, \"hovertemplate\": \"symbol=MSFT<br>date=2020-10-15<br>portfolio=%{x}<br>percent=%{y}\", \"ids\": [\"2020-10-15\"], \"legendgroup\": \"MSFT\", \"marker\": {\"color\": \"#FF6692\"}, \"name\": \"MSFT\", \"offsetgroup\": \"MSFT\", \"orientation\": \"v\", \"showlegend\": true, \"textposition\": \"auto\", \"x\": [\"Mega Capital\"], \"xaxis\": \"x\", \"y\": [-1.76], \"yaxis\": \"y\", \"type\": \"bar\"}, {\"alignmentgroup\": \"True\", \"hoverlabel\": {\"namelength\": 0}, \"hovertemplate\": \"symbol=NVDA<br>date=2020-10-15<br>portfolio=%{x}<br>percent=%{y}\", \"ids\": [\"2020-10-15\"], \"legendgroup\": \"NVDA\", \"marker\": {\"color\": \"#B6E880\"}, \"name\": \"NVDA\", \"offsetgroup\": \"NVDA\", \"orientation\": \"v\", \"showlegend\": true, \"textposition\": \"auto\", \"x\": [\"Semiconductors\"], \"xaxis\": \"x\", \"y\": [-5.07], \"yaxis\": \"y\", \"type\": \"bar\"}, {\"alignmentgroup\": \"True\", \"hoverlabel\": {\"namelength\": 0}, \"hovertemplate\": \"symbol=QCOM<br>date=2020-10-15<br>portfolio=%{x}<br>percent=%{y}\", \"ids\": [\"2020-10-15\"], \"legendgroup\": \"QCOM\", \"marker\": {\"color\": \"#FF97FF\"}, \"name\": \"QCOM\", \"offsetgroup\": \"QCOM\", \"orientation\": \"v\", \"showlegend\": true, \"textposition\": \"auto\", \"x\": [\"Semiconductors\"], \"xaxis\": \"x\", \"y\": [11.86], \"yaxis\": \"y\", \"type\": \"bar\"}, {\"alignmentgroup\": \"True\", \"hoverlabel\": {\"namelength\": 0}, \"hovertemplate\": \"symbol=SPWR<br>date=2020-10-15<br>portfolio=%{x}<br>percent=%{y}\", \"ids\": [\"2020-10-15\"], \"legendgroup\": \"SPWR\", \"marker\": {\"color\": \"#FECB52\"}, \"name\": \"SPWR\", \"offsetgroup\": \"SPWR\", \"orientation\": \"v\", \"showlegend\": true, \"textposition\": \"auto\", \"x\": [\"Electricity Solar\"], \"xaxis\": \"x\", \"y\": [36.4], \"yaxis\": \"y\", \"type\": \"bar\"}, {\"alignmentgroup\": \"True\", \"hoverlabel\": {\"namelength\": 0}, \"hovertemplate\": \"symbol=TDF<br>date=2020-10-15<br>portfolio=%{x}<br>percent=%{y}\", \"ids\": [\"2020-10-15\"], \"legendgroup\": \"TDF\", \"marker\": {\"color\": \"#636efa\"}, \"name\": \"TDF\", \"offsetgroup\": \"TDF\", \"orientation\": \"v\", \"showlegend\": true, \"textposition\": \"auto\", \"x\": [\"CEF\"], \"xaxis\": \"x\", \"y\": [4.75], \"yaxis\": \"y\", \"type\": \"bar\"}, {\"alignmentgroup\": \"True\", \"hoverlabel\": {\"namelength\": 0}, \"hovertemplate\": \"symbol=TSM<br>date=2020-10-15<br>portfolio=%{x}<br>percent=%{y}\", \"ids\": [\"2020-10-15\"], \"legendgroup\": \"TSM\", \"marker\": {\"color\": \"#EF553B\"}, \"name\": \"TSM\", \"offsetgroup\": \"TSM\", \"orientation\": \"v\", \"showlegend\": true, \"textposition\": \"auto\", \"x\": [\"Semiconductors\"], \"xaxis\": \"x\", \"y\": [12.01], \"yaxis\": \"y\", \"type\": \"bar\"}, {\"alignmentgroup\": \"True\", \"hoverlabel\": {\"namelength\": 0}, \"hovertemplate\": \"symbol=VWDRY<br>date=2020-10-15<br>portfolio=%{x}<br>percent=%{y}\", \"ids\": [\"2020-10-15\"], \"legendgroup\": \"VWDRY\", \"marker\": {\"color\": \"#00cc96\"}, \"name\": \"VWDRY\", \"offsetgroup\": \"VWDRY\", \"orientation\": \"v\", \"showlegend\": true, \"textposition\": \"auto\", \"x\": [\"Electricity Wind\"], \"xaxis\": \"x\", \"y\": [10.52], \"yaxis\": \"y\", \"type\": \"bar\"}], \"name\": \"2020-10-15\"}, {\"data\": [{\"alignmentgroup\": \"True\", \"hoverlabel\": {\"namelength\": 0}, \"hovertemplate\": \"symbol=AAPL<br>date=2020-10-08<br>portfolio=%{x}<br>percent=%{y}\", \"ids\": [\"2020-10-08\"], \"legendgroup\": \"AAPL\", \"marker\": {\"color\": \"#636efa\"}, \"name\": \"AAPL\", \"offsetgroup\": \"AAPL\", \"orientation\": \"v\", \"showlegend\": true, \"textposition\": \"auto\", \"x\": [\"Mega Capital\"], \"xaxis\": \"x\", \"y\": [1.58], \"yaxis\": \"y\", \"type\": \"bar\"}, {\"alignmentgroup\": \"True\", \"hoverlabel\": {\"namelength\": 0}, \"hovertemplate\": \"symbol=ABBV<br>date=2020-10-08<br>portfolio=%{x}<br>percent=%{y}\", \"ids\": [\"2020-10-08\"], \"legendgroup\": \"ABBV\", \"marker\": {\"color\": \"#EF553B\"}, \"name\": \"ABBV\", \"offsetgroup\": \"ABBV\", \"orientation\": \"v\", \"showlegend\": true, \"textposition\": \"auto\", \"x\": [\"Biotechnology\"], \"xaxis\": \"x\", \"y\": [21.73], \"yaxis\": \"y\", \"type\": \"bar\"}, {\"alignmentgroup\": \"True\", \"hoverlabel\": {\"namelength\": 0}, \"hovertemplate\": \"symbol=AMZN<br>date=2020-10-08<br>portfolio=%{x}<br>percent=%{y}\", \"ids\": [\"2020-10-08\"], \"legendgroup\": \"AMZN\", \"marker\": {\"color\": \"#00cc96\"}, \"name\": \"AMZN\", \"offsetgroup\": \"AMZN\", \"orientation\": \"v\", \"showlegend\": true, \"textposition\": \"auto\", \"x\": [\"Mega Capital\"], \"xaxis\": \"x\", \"y\": [0.15], \"yaxis\": \"y\", \"type\": \"bar\"}, {\"alignmentgroup\": \"True\", \"hoverlabel\": {\"namelength\": 0}, \"hovertemplate\": \"symbol=AVGO<br>date=2020-10-08<br>portfolio=%{x}<br>percent=%{y}\", \"ids\": [\"2020-10-08\"], \"legendgroup\": \"AVGO\", \"marker\": {\"color\": \"#ab63fa\"}, \"name\": \"AVGO\", \"offsetgroup\": \"AVGO\", \"orientation\": \"v\", \"showlegend\": true, \"textposition\": \"auto\", \"x\": [\"5G\"], \"xaxis\": \"x\", \"y\": [5.79], \"yaxis\": \"y\", \"type\": \"bar\"}, {\"alignmentgroup\": \"True\", \"hoverlabel\": {\"namelength\": 0}, \"hovertemplate\": \"symbol=AZRE<br>date=2020-10-08<br>portfolio=%{x}<br>percent=%{y}\", \"ids\": [\"2020-10-08\"], \"legendgroup\": \"AZRE\", \"marker\": {\"color\": \"#FFA15A\"}, \"name\": \"AZRE\", \"offsetgroup\": \"AZRE\", \"orientation\": \"v\", \"showlegend\": true, \"textposition\": \"auto\", \"x\": [\"Energy Renewalbe\"], \"xaxis\": \"x\", \"y\": [15.85], \"yaxis\": \"y\", \"type\": \"bar\"}, {\"alignmentgroup\": \"True\", \"hoverlabel\": {\"namelength\": 0}, \"hovertemplate\": \"symbol=BEKE<br>date=2020-10-08<br>portfolio=%{x}<br>percent=%{y}\", \"ids\": [\"2020-10-08\"], \"legendgroup\": \"BEKE\", \"marker\": {\"color\": \"#19d3f3\"}, \"name\": \"BEKE\", \"offsetgroup\": \"BEKE\", \"orientation\": \"v\", \"showlegend\": true, \"textposition\": \"auto\", \"x\": [\"REIT\"], \"xaxis\": \"x\", \"y\": [-0.59], \"yaxis\": \"y\", \"type\": \"bar\"}, {\"alignmentgroup\": \"True\", \"hoverlabel\": {\"namelength\": 0}, \"hovertemplate\": \"symbol=BYDDF<br>date=2020-10-08<br>portfolio=%{x}<br>percent=%{y}\", \"ids\": [\"2020-10-08\"], \"legendgroup\": \"BYDDF\", \"marker\": {\"color\": \"#FF6692\"}, \"name\": \"BYDDF\", \"offsetgroup\": \"BYDDF\", \"orientation\": \"v\", \"showlegend\": true, \"textposition\": \"auto\", \"x\": [\"Electric Vehicles\"], \"xaxis\": \"x\", \"y\": [46.78], \"yaxis\": \"y\", \"type\": \"bar\"}, {\"alignmentgroup\": \"True\", \"hoverlabel\": {\"namelength\": 0}, \"hovertemplate\": \"symbol=CSIQ<br>date=2020-10-08<br>portfolio=%{x}<br>percent=%{y}\", \"ids\": [\"2020-10-08\"], \"legendgroup\": \"CSIQ\", \"marker\": {\"color\": \"#B6E880\"}, \"name\": \"CSIQ\", \"offsetgroup\": \"CSIQ\", \"orientation\": \"v\", \"showlegend\": true, \"textposition\": \"auto\", \"x\": [\"Electricity Solar\"], \"xaxis\": \"x\", \"y\": [11.88], \"yaxis\": \"y\", \"type\": \"bar\"}, {\"alignmentgroup\": \"True\", \"hoverlabel\": {\"namelength\": 0}, \"hovertemplate\": \"symbol=DOCRF<br>date=2020-10-08<br>portfolio=%{x}<br>percent=%{y}\", \"ids\": [\"2020-10-08\"], \"legendgroup\": \"DOCRF\", \"marker\": {\"color\": \"#FF97FF\"}, \"name\": \"DOCRF\", \"offsetgroup\": \"DOCRF\", \"orientation\": \"v\", \"showlegend\": true, \"textposition\": \"auto\", \"x\": [\"Cloud Retail Apps\"], \"xaxis\": \"x\", \"y\": [23.33], \"yaxis\": \"y\", \"type\": \"bar\"}, {\"alignmentgroup\": \"True\", \"hoverlabel\": {\"namelength\": 0}, \"hovertemplate\": \"symbol=DQ<br>date=2020-10-08<br>portfolio=%{x}<br>percent=%{y}\", \"ids\": [\"2020-10-08\"], \"legendgroup\": \"DQ\", \"marker\": {\"color\": \"#FECB52\"}, \"name\": \"DQ\", \"offsetgroup\": \"DQ\", \"orientation\": \"v\", \"showlegend\": true, \"textposition\": \"auto\", \"x\": [\"Electricity Solar\"], \"xaxis\": \"x\", \"y\": [21.31], \"yaxis\": \"y\", \"type\": \"bar\"}, {\"alignmentgroup\": \"True\", \"hoverlabel\": {\"namelength\": 0}, \"hovertemplate\": \"symbol=ENPH<br>date=2020-10-08<br>portfolio=%{x}<br>percent=%{y}\", \"ids\": [\"2020-10-08\"], \"legendgroup\": \"ENPH\", \"marker\": {\"color\": \"#636efa\"}, \"name\": \"ENPH\", \"offsetgroup\": \"ENPH\", \"orientation\": \"v\", \"showlegend\": true, \"textposition\": \"auto\", \"x\": [\"Electricity Solar\"], \"xaxis\": \"x\", \"y\": [33.23], \"yaxis\": \"y\", \"type\": \"bar\"}, {\"alignmentgroup\": \"True\", \"hoverlabel\": {\"namelength\": 0}, \"hovertemplate\": \"symbol=FFC<br>date=2020-10-08<br>portfolio=%{x}<br>percent=%{y}\", \"ids\": [\"2020-10-08\"], \"legendgroup\": \"FFC\", \"marker\": {\"color\": \"#EF553B\"}, \"name\": \"FFC\", \"offsetgroup\": \"FFC\", \"orientation\": \"v\", \"showlegend\": true, \"textposition\": \"auto\", \"x\": [\"Dividend\"], \"xaxis\": \"x\", \"y\": [8.1], \"yaxis\": \"y\", \"type\": \"bar\"}, {\"alignmentgroup\": \"True\", \"hoverlabel\": {\"namelength\": 0}, \"hovertemplate\": \"symbol=FLC<br>date=2020-10-08<br>portfolio=%{x}<br>percent=%{y}\", \"ids\": [\"2020-10-08\"], \"legendgroup\": \"FLC\", \"marker\": {\"color\": \"#00cc96\"}, \"name\": \"FLC\", \"offsetgroup\": \"FLC\", \"orientation\": \"v\", \"showlegend\": true, \"textposition\": \"auto\", \"x\": [\"Dividend\"], \"xaxis\": \"x\", \"y\": [8.83], \"yaxis\": \"y\", \"type\": \"bar\"}, {\"alignmentgroup\": \"True\", \"hoverlabel\": {\"namelength\": 0}, \"hovertemplate\": \"symbol=FSLR<br>date=2020-10-08<br>portfolio=%{x}<br>percent=%{y}\", \"ids\": [\"2020-10-08\"], \"legendgroup\": \"FSLR\", \"marker\": {\"color\": \"#ab63fa\"}, \"name\": \"FSLR\", \"offsetgroup\": \"FSLR\", \"orientation\": \"v\", \"showlegend\": true, \"textposition\": \"auto\", \"x\": [\"Electricity Solar\"], \"xaxis\": \"x\", \"y\": [22.8], \"yaxis\": \"y\", \"type\": \"bar\"}, {\"alignmentgroup\": \"True\", \"hoverlabel\": {\"namelength\": 0}, \"hovertemplate\": \"symbol=LI<br>date=2020-10-08<br>portfolio=%{x}<br>percent=%{y}\", \"ids\": [\"2020-10-08\"], \"legendgroup\": \"LI\", \"marker\": {\"color\": \"#FFA15A\"}, \"name\": \"LI\", \"offsetgroup\": \"LI\", \"orientation\": \"v\", \"showlegend\": true, \"textposition\": \"auto\", \"x\": [\"Electric Vehicles\"], \"xaxis\": \"x\", \"y\": [120.19], \"yaxis\": \"y\", \"type\": \"bar\"}, {\"alignmentgroup\": \"True\", \"hoverlabel\": {\"namelength\": 0}, \"hovertemplate\": \"symbol=LMND<br>date=2020-10-08<br>portfolio=%{x}<br>percent=%{y}\", \"ids\": [\"2020-10-08\"], \"legendgroup\": \"LMND\", \"marker\": {\"color\": \"#19d3f3\"}, \"name\": \"LMND\", \"offsetgroup\": \"LMND\", \"orientation\": \"v\", \"showlegend\": true, \"textposition\": \"auto\", \"x\": [\"Insurance\"], \"xaxis\": \"x\", \"y\": [25.01], \"yaxis\": \"y\", \"type\": \"bar\"}, {\"alignmentgroup\": \"True\", \"hoverlabel\": {\"namelength\": 0}, \"hovertemplate\": \"symbol=MSFT<br>date=2020-10-08<br>portfolio=%{x}<br>percent=%{y}\", \"ids\": [\"2020-10-08\"], \"legendgroup\": \"MSFT\", \"marker\": {\"color\": \"#FF6692\"}, \"name\": \"MSFT\", \"offsetgroup\": \"MSFT\", \"orientation\": \"v\", \"showlegend\": true, \"textposition\": \"auto\", \"x\": [\"Mega Capital\"], \"xaxis\": \"x\", \"y\": [2.48], \"yaxis\": \"y\", \"type\": \"bar\"}, {\"alignmentgroup\": \"True\", \"hoverlabel\": {\"namelength\": 0}, \"hovertemplate\": \"symbol=NVDA<br>date=2020-10-08<br>portfolio=%{x}<br>percent=%{y}\", \"ids\": [\"2020-10-08\"], \"legendgroup\": \"NVDA\", \"marker\": {\"color\": \"#B6E880\"}, \"name\": \"NVDA\", \"offsetgroup\": \"NVDA\", \"orientation\": \"v\", \"showlegend\": true, \"textposition\": \"auto\", \"x\": [\"Semiconductors\"], \"xaxis\": \"x\", \"y\": [-4.17], \"yaxis\": \"y\", \"type\": \"bar\"}, {\"alignmentgroup\": \"True\", \"hoverlabel\": {\"namelength\": 0}, \"hovertemplate\": \"symbol=QCOM<br>date=2020-10-08<br>portfolio=%{x}<br>percent=%{y}\", \"ids\": [\"2020-10-08\"], \"legendgroup\": \"QCOM\", \"marker\": {\"color\": \"#FF97FF\"}, \"name\": \"QCOM\", \"offsetgroup\": \"QCOM\", \"orientation\": \"v\", \"showlegend\": true, \"textposition\": \"auto\", \"x\": [\"Semiconductors\"], \"xaxis\": \"x\", \"y\": [17.57], \"yaxis\": \"y\", \"type\": \"bar\"}, {\"alignmentgroup\": \"True\", \"hoverlabel\": {\"namelength\": 0}, \"hovertemplate\": \"symbol=SPWR<br>date=2020-10-08<br>portfolio=%{x}<br>percent=%{y}\", \"ids\": [\"2020-10-08\"], \"legendgroup\": \"SPWR\", \"marker\": {\"color\": \"#FECB52\"}, \"name\": \"SPWR\", \"offsetgroup\": \"SPWR\", \"orientation\": \"v\", \"showlegend\": true, \"textposition\": \"auto\", \"x\": [\"Electricity Solar\"], \"xaxis\": \"x\", \"y\": [37.12], \"yaxis\": \"y\", \"type\": \"bar\"}, {\"alignmentgroup\": \"True\", \"hoverlabel\": {\"namelength\": 0}, \"hovertemplate\": \"symbol=TDF<br>date=2020-10-08<br>portfolio=%{x}<br>percent=%{y}\", \"ids\": [\"2020-10-08\"], \"legendgroup\": \"TDF\", \"marker\": {\"color\": \"#636efa\"}, \"name\": \"TDF\", \"offsetgroup\": \"TDF\", \"orientation\": \"v\", \"showlegend\": true, \"textposition\": \"auto\", \"x\": [\"CEF\"], \"xaxis\": \"x\", \"y\": [8.66], \"yaxis\": \"y\", \"type\": \"bar\"}, {\"alignmentgroup\": \"True\", \"hoverlabel\": {\"namelength\": 0}, \"hovertemplate\": \"symbol=TSM<br>date=2020-10-08<br>portfolio=%{x}<br>percent=%{y}\", \"ids\": [\"2020-10-08\"], \"legendgroup\": \"TSM\", \"marker\": {\"color\": \"#EF553B\"}, \"name\": \"TSM\", \"offsetgroup\": \"TSM\", \"orientation\": \"v\", \"showlegend\": true, \"textposition\": \"auto\", \"x\": [\"Semiconductors\"], \"xaxis\": \"x\", \"y\": [12.46], \"yaxis\": \"y\", \"type\": \"bar\"}, {\"alignmentgroup\": \"True\", \"hoverlabel\": {\"namelength\": 0}, \"hovertemplate\": \"symbol=VWDRY<br>date=2020-10-08<br>portfolio=%{x}<br>percent=%{y}\", \"ids\": [\"2020-10-08\"], \"legendgroup\": \"VWDRY\", \"marker\": {\"color\": \"#00cc96\"}, \"name\": \"VWDRY\", \"offsetgroup\": \"VWDRY\", \"orientation\": \"v\", \"showlegend\": true, \"textposition\": \"auto\", \"x\": [\"Electricity Wind\"], \"xaxis\": \"x\", \"y\": [12.19], \"yaxis\": \"y\", \"type\": \"bar\"}], \"name\": \"2020-10-08\"}, {\"data\": [{\"alignmentgroup\": \"True\", \"hoverlabel\": {\"namelength\": 0}, \"hovertemplate\": \"symbol=AAPL<br>date=2020-10-01<br>portfolio=%{x}<br>percent=%{y}\", \"ids\": [\"2020-10-01\"], \"legendgroup\": \"AAPL\", \"marker\": {\"color\": \"#636efa\"}, \"name\": \"AAPL\", \"offsetgroup\": \"AAPL\", \"orientation\": \"v\", \"showlegend\": true, \"textposition\": \"auto\", \"x\": [\"Mega Capital\"], \"xaxis\": \"x\", \"y\": [0.0], \"yaxis\": \"y\", \"type\": \"bar\"}, {\"alignmentgroup\": \"True\", \"hoverlabel\": {\"namelength\": 0}, \"hovertemplate\": \"symbol=ABBV<br>date=2020-10-01<br>portfolio=%{x}<br>percent=%{y}\", \"ids\": [\"2020-10-01\"], \"legendgroup\": \"ABBV\", \"marker\": {\"color\": \"#EF553B\"}, \"name\": \"ABBV\", \"offsetgroup\": \"ABBV\", \"orientation\": \"v\", \"showlegend\": true, \"textposition\": \"auto\", \"x\": [\"Biotechnology\"], \"xaxis\": \"x\", \"y\": [22.01], \"yaxis\": \"y\", \"type\": \"bar\"}, {\"alignmentgroup\": \"True\", \"hoverlabel\": {\"namelength\": 0}, \"hovertemplate\": \"symbol=AMZN<br>date=2020-10-01<br>portfolio=%{x}<br>percent=%{y}\", \"ids\": [\"2020-10-01\"], \"legendgroup\": \"AMZN\", \"marker\": {\"color\": \"#00cc96\"}, \"name\": \"AMZN\", \"offsetgroup\": \"AMZN\", \"orientation\": \"v\", \"showlegend\": true, \"textposition\": \"auto\", \"x\": [\"Mega Capital\"], \"xaxis\": \"x\", \"y\": [-0.8], \"yaxis\": \"y\", \"type\": \"bar\"}, {\"alignmentgroup\": \"True\", \"hoverlabel\": {\"namelength\": 0}, \"hovertemplate\": \"symbol=AVGO<br>date=2020-10-01<br>portfolio=%{x}<br>percent=%{y}\", \"ids\": [\"2020-10-01\"], \"legendgroup\": \"AVGO\", \"marker\": {\"color\": \"#ab63fa\"}, \"name\": \"AVGO\", \"offsetgroup\": \"AVGO\", \"orientation\": \"v\", \"showlegend\": true, \"textposition\": \"auto\", \"x\": [\"5G\"], \"xaxis\": \"x\", \"y\": [7.15], \"yaxis\": \"y\", \"type\": \"bar\"}, {\"alignmentgroup\": \"True\", \"hoverlabel\": {\"namelength\": 0}, \"hovertemplate\": \"symbol=AZRE<br>date=2020-10-01<br>portfolio=%{x}<br>percent=%{y}\", \"ids\": [\"2020-10-01\"], \"legendgroup\": \"AZRE\", \"marker\": {\"color\": \"#FFA15A\"}, \"name\": \"AZRE\", \"offsetgroup\": \"AZRE\", \"orientation\": \"v\", \"showlegend\": true, \"textposition\": \"auto\", \"x\": [\"Energy Renewalbe\"], \"xaxis\": \"x\", \"y\": [15.2], \"yaxis\": \"y\", \"type\": \"bar\"}, {\"alignmentgroup\": \"True\", \"hoverlabel\": {\"namelength\": 0}, \"hovertemplate\": \"symbol=BEKE<br>date=2020-10-01<br>portfolio=%{x}<br>percent=%{y}\", \"ids\": [\"2020-10-01\"], \"legendgroup\": \"BEKE\", \"marker\": {\"color\": \"#19d3f3\"}, \"name\": \"BEKE\", \"offsetgroup\": \"BEKE\", \"orientation\": \"v\", \"showlegend\": true, \"textposition\": \"auto\", \"x\": [\"REIT\"], \"xaxis\": \"x\", \"y\": [3.88], \"yaxis\": \"y\", \"type\": \"bar\"}, {\"alignmentgroup\": \"True\", \"hoverlabel\": {\"namelength\": 0}, \"hovertemplate\": \"symbol=BYDDF<br>date=2020-10-01<br>portfolio=%{x}<br>percent=%{y}\", \"ids\": [\"2020-10-01\"], \"legendgroup\": \"BYDDF\", \"marker\": {\"color\": \"#FF6692\"}, \"name\": \"BYDDF\", \"offsetgroup\": \"BYDDF\", \"orientation\": \"v\", \"showlegend\": true, \"textposition\": \"auto\", \"x\": [\"Electric Vehicles\"], \"xaxis\": \"x\", \"y\": [46.25], \"yaxis\": \"y\", \"type\": \"bar\"}, {\"alignmentgroup\": \"True\", \"hoverlabel\": {\"namelength\": 0}, \"hovertemplate\": \"symbol=CSIQ<br>date=2020-10-01<br>portfolio=%{x}<br>percent=%{y}\", \"ids\": [\"2020-10-01\"], \"legendgroup\": \"CSIQ\", \"marker\": {\"color\": \"#B6E880\"}, \"name\": \"CSIQ\", \"offsetgroup\": \"CSIQ\", \"orientation\": \"v\", \"showlegend\": true, \"textposition\": \"auto\", \"x\": [\"Electricity Solar\"], \"xaxis\": \"x\", \"y\": [21.51], \"yaxis\": \"y\", \"type\": \"bar\"}, {\"alignmentgroup\": \"True\", \"hoverlabel\": {\"namelength\": 0}, \"hovertemplate\": \"symbol=DOCRF<br>date=2020-10-01<br>portfolio=%{x}<br>percent=%{y}\", \"ids\": [\"2020-10-01\"], \"legendgroup\": \"DOCRF\", \"marker\": {\"color\": \"#FF97FF\"}, \"name\": \"DOCRF\", \"offsetgroup\": \"DOCRF\", \"orientation\": \"v\", \"showlegend\": true, \"textposition\": \"auto\", \"x\": [\"Cloud Retail Apps\"], \"xaxis\": \"x\", \"y\": [21.71], \"yaxis\": \"y\", \"type\": \"bar\"}, {\"alignmentgroup\": \"True\", \"hoverlabel\": {\"namelength\": 0}, \"hovertemplate\": \"symbol=DQ<br>date=2020-10-01<br>portfolio=%{x}<br>percent=%{y}\", \"ids\": [\"2020-10-01\"], \"legendgroup\": \"DQ\", \"marker\": {\"color\": \"#FECB52\"}, \"name\": \"DQ\", \"offsetgroup\": \"DQ\", \"orientation\": \"v\", \"showlegend\": true, \"textposition\": \"auto\", \"x\": [\"Electricity Solar\"], \"xaxis\": \"x\", \"y\": [51.72], \"yaxis\": \"y\", \"type\": \"bar\"}, {\"alignmentgroup\": \"True\", \"hoverlabel\": {\"namelength\": 0}, \"hovertemplate\": \"symbol=ENPH<br>date=2020-10-01<br>portfolio=%{x}<br>percent=%{y}\", \"ids\": [\"2020-10-01\"], \"legendgroup\": \"ENPH\", \"marker\": {\"color\": \"#636efa\"}, \"name\": \"ENPH\", \"offsetgroup\": \"ENPH\", \"orientation\": \"v\", \"showlegend\": true, \"textposition\": \"auto\", \"x\": [\"Electricity Solar\"], \"xaxis\": \"x\", \"y\": [57.03], \"yaxis\": \"y\", \"type\": \"bar\"}, {\"alignmentgroup\": \"True\", \"hoverlabel\": {\"namelength\": 0}, \"hovertemplate\": \"symbol=FFC<br>date=2020-10-01<br>portfolio=%{x}<br>percent=%{y}\", \"ids\": [\"2020-10-01\"], \"legendgroup\": \"FFC\", \"marker\": {\"color\": \"#EF553B\"}, \"name\": \"FFC\", \"offsetgroup\": \"FFC\", \"orientation\": \"v\", \"showlegend\": true, \"textposition\": \"auto\", \"x\": [\"Dividend\"], \"xaxis\": \"x\", \"y\": [8.26], \"yaxis\": \"y\", \"type\": \"bar\"}, {\"alignmentgroup\": \"True\", \"hoverlabel\": {\"namelength\": 0}, \"hovertemplate\": \"symbol=FLC<br>date=2020-10-01<br>portfolio=%{x}<br>percent=%{y}\", \"ids\": [\"2020-10-01\"], \"legendgroup\": \"FLC\", \"marker\": {\"color\": \"#00cc96\"}, \"name\": \"FLC\", \"offsetgroup\": \"FLC\", \"orientation\": \"v\", \"showlegend\": true, \"textposition\": \"auto\", \"x\": [\"Dividend\"], \"xaxis\": \"x\", \"y\": [9.89], \"yaxis\": \"y\", \"type\": \"bar\"}, {\"alignmentgroup\": \"True\", \"hoverlabel\": {\"namelength\": 0}, \"hovertemplate\": \"symbol=FSLR<br>date=2020-10-01<br>portfolio=%{x}<br>percent=%{y}\", \"ids\": [\"2020-10-01\"], \"legendgroup\": \"FSLR\", \"marker\": {\"color\": \"#ab63fa\"}, \"name\": \"FSLR\", \"offsetgroup\": \"FSLR\", \"orientation\": \"v\", \"showlegend\": true, \"textposition\": \"auto\", \"x\": [\"Electricity Solar\"], \"xaxis\": \"x\", \"y\": [38.11], \"yaxis\": \"y\", \"type\": \"bar\"}, {\"alignmentgroup\": \"True\", \"hoverlabel\": {\"namelength\": 0}, \"hovertemplate\": \"symbol=LI<br>date=2020-10-01<br>portfolio=%{x}<br>percent=%{y}\", \"ids\": [\"2020-10-01\"], \"legendgroup\": \"LI\", \"marker\": {\"color\": \"#FFA15A\"}, \"name\": \"LI\", \"offsetgroup\": \"LI\", \"orientation\": \"v\", \"showlegend\": true, \"textposition\": \"auto\", \"x\": [\"Electric Vehicles\"], \"xaxis\": \"x\", \"y\": [135.0], \"yaxis\": \"y\", \"type\": \"bar\"}, {\"alignmentgroup\": \"True\", \"hoverlabel\": {\"namelength\": 0}, \"hovertemplate\": \"symbol=LMND<br>date=2020-10-01<br>portfolio=%{x}<br>percent=%{y}\", \"ids\": [\"2020-10-01\"], \"legendgroup\": \"LMND\", \"marker\": {\"color\": \"#19d3f3\"}, \"name\": \"LMND\", \"offsetgroup\": \"LMND\", \"orientation\": \"v\", \"showlegend\": true, \"textposition\": \"auto\", \"x\": [\"Insurance\"], \"xaxis\": \"x\", \"y\": [46.0], \"yaxis\": \"y\", \"type\": \"bar\"}, {\"alignmentgroup\": \"True\", \"hoverlabel\": {\"namelength\": 0}, \"hovertemplate\": \"symbol=MSFT<br>date=2020-10-01<br>portfolio=%{x}<br>percent=%{y}\", \"ids\": [\"2020-10-01\"], \"legendgroup\": \"MSFT\", \"marker\": {\"color\": \"#FF6692\"}, \"name\": \"MSFT\", \"offsetgroup\": \"MSFT\", \"orientation\": \"v\", \"showlegend\": true, \"textposition\": \"auto\", \"x\": [\"Mega Capital\"], \"xaxis\": \"x\", \"y\": [1.57], \"yaxis\": \"y\", \"type\": \"bar\"}, {\"alignmentgroup\": \"True\", \"hoverlabel\": {\"namelength\": 0}, \"hovertemplate\": \"symbol=NVDA<br>date=2020-10-01<br>portfolio=%{x}<br>percent=%{y}\", \"ids\": [\"2020-10-01\"], \"legendgroup\": \"NVDA\", \"marker\": {\"color\": \"#B6E880\"}, \"name\": \"NVDA\", \"offsetgroup\": \"NVDA\", \"orientation\": \"v\", \"showlegend\": true, \"textposition\": \"auto\", \"x\": [\"Semiconductors\"], \"xaxis\": \"x\", \"y\": [-2.59], \"yaxis\": \"y\", \"type\": \"bar\"}, {\"alignmentgroup\": \"True\", \"hoverlabel\": {\"namelength\": 0}, \"hovertemplate\": \"symbol=QCOM<br>date=2020-10-01<br>portfolio=%{x}<br>percent=%{y}\", \"ids\": [\"2020-10-01\"], \"legendgroup\": \"QCOM\", \"marker\": {\"color\": \"#FF97FF\"}, \"name\": \"QCOM\", \"offsetgroup\": \"QCOM\", \"orientation\": \"v\", \"showlegend\": true, \"textposition\": \"auto\", \"x\": [\"Semiconductors\"], \"xaxis\": \"x\", \"y\": [20.34], \"yaxis\": \"y\", \"type\": \"bar\"}, {\"alignmentgroup\": \"True\", \"hoverlabel\": {\"namelength\": 0}, \"hovertemplate\": \"symbol=SPWR<br>date=2020-10-01<br>portfolio=%{x}<br>percent=%{y}\", \"ids\": [\"2020-10-01\"], \"legendgroup\": \"SPWR\", \"marker\": {\"color\": \"#FECB52\"}, \"name\": \"SPWR\", \"offsetgroup\": \"SPWR\", \"orientation\": \"v\", \"showlegend\": true, \"textposition\": \"auto\", \"x\": [\"Electricity Solar\"], \"xaxis\": \"x\", \"y\": [73.35], \"yaxis\": \"y\", \"type\": \"bar\"}, {\"alignmentgroup\": \"True\", \"hoverlabel\": {\"namelength\": 0}, \"hovertemplate\": \"symbol=TDF<br>date=2020-10-01<br>portfolio=%{x}<br>percent=%{y}\", \"ids\": [\"2020-10-01\"], \"legendgroup\": \"TDF\", \"marker\": {\"color\": \"#636efa\"}, \"name\": \"TDF\", \"offsetgroup\": \"TDF\", \"orientation\": \"v\", \"showlegend\": true, \"textposition\": \"auto\", \"x\": [\"CEF\"], \"xaxis\": \"x\", \"y\": [11.18], \"yaxis\": \"y\", \"type\": \"bar\"}, {\"alignmentgroup\": \"True\", \"hoverlabel\": {\"namelength\": 0}, \"hovertemplate\": \"symbol=TSM<br>date=2020-10-01<br>portfolio=%{x}<br>percent=%{y}\", \"ids\": [\"2020-10-01\"], \"legendgroup\": \"TSM\", \"marker\": {\"color\": \"#EF553B\"}, \"name\": \"TSM\", \"offsetgroup\": \"TSM\", \"orientation\": \"v\", \"showlegend\": true, \"textposition\": \"auto\", \"x\": [\"Semiconductors\"], \"xaxis\": \"x\", \"y\": [19.51], \"yaxis\": \"y\", \"type\": \"bar\"}, {\"alignmentgroup\": \"True\", \"hoverlabel\": {\"namelength\": 0}, \"hovertemplate\": \"symbol=VWDRY<br>date=2020-10-01<br>portfolio=%{x}<br>percent=%{y}\", \"ids\": [\"2020-10-01\"], \"legendgroup\": \"VWDRY\", \"marker\": {\"color\": \"#00cc96\"}, \"name\": \"VWDRY\", \"offsetgroup\": \"VWDRY\", \"orientation\": \"v\", \"showlegend\": true, \"textposition\": \"auto\", \"x\": [\"Electricity Wind\"], \"xaxis\": \"x\", \"y\": [19.5], \"yaxis\": \"y\", \"type\": \"bar\"}], \"name\": \"2020-10-01\"}]);\n",
       "                        }).then(function(){\n",
       "                            \n",
       "var gd = document.getElementById('79191bc4-08c9-4938-99c9-93683f36add7');\n",
       "var x = new MutationObserver(function (mutations, observer) {{\n",
       "        var display = window.getComputedStyle(gd).display;\n",
       "        if (!display || display === 'none') {{\n",
       "            console.log([gd, 'removed!']);\n",
       "            Plotly.purge(gd);\n",
       "            observer.disconnect();\n",
       "        }}\n",
       "}});\n",
       "\n",
       "// Listen for the removal of the full notebook cells\n",
       "var notebookContainer = gd.closest('#notebook-container');\n",
       "if (notebookContainer) {{\n",
       "    x.observe(notebookContainer, {childList: true});\n",
       "}}\n",
       "\n",
       "// Listen for the clearing of the current output cell\n",
       "var outputEl = gd.closest('.output');\n",
       "if (outputEl) {{\n",
       "    x.observe(outputEl, {childList: true});\n",
       "}}\n",
       "\n",
       "                        })\n",
       "                };\n",
       "                });\n",
       "            </script>\n",
       "        </div>"
      ]
     },
     "metadata": {},
     "output_type": "display_data"
    }
   ],
   "source": [
    "fig = px.bar(dfa, x=\"portfolio\", y=\"percent\", color=\"symbol\", \n",
    "             animation_frame=\"date\", animation_group=\"date\",\n",
    "            range_x=[1,len(set(dfa.portfolio.values))], range_y=[min(dfa.percent.values),max(dfa.percent.values)],\n",
    "            width=1350, height=800,title=\"Long-Form Input\")\n",
    "fig[\"layout\"].pop(\"updatemenus\") # optional, drop animation buttons\n",
    "\n",
    "fig.show()"
   ]
  }
 ],
 "metadata": {
  "kernelspec": {
   "display_name": "Python 3",
   "language": "python",
   "name": "python3"
  },
  "language_info": {
   "codemirror_mode": {
    "name": "ipython",
    "version": 3
   },
   "file_extension": ".py",
   "mimetype": "text/x-python",
   "name": "python",
   "nbconvert_exporter": "python",
   "pygments_lexer": "ipython3",
   "version": "3.7.3"
  }
 },
 "nbformat": 4,
 "nbformat_minor": 2
}
