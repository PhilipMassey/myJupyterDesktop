{
 "cells": [
  {
   "cell_type": "code",
   "execution_count": 4,
   "metadata": {},
   "outputs": [
    {
     "name": "stdout",
     "output_type": "stream",
     "text": [
      "Python 3.7.3 (v3.7.3:ef4ec6ed12, Mar 25 2019, 16:52:21) \n",
      "[Clang 6.0 (clang-600.0.57)] on darwin\n"
     ]
    }
   ],
   "source": [
    "import sys; print('Python %s on %s' % (sys.version, sys.platform))\n",
    "sys.path.extend(['/Users/philipmassey/PycharmProjects/stock_market'])\n",
    "import portfolio as pf\n",
    "import pandas as pd\n",
    "import yfinance as yf\n",
    "import calendar\n",
    "from datetime import datetime\n",
    "df_port = pf.getPortfolios()\n",
    "symbols = list(df_port.index.values)\n"
   ]
  },
  {
   "cell_type": "code",
   "execution_count": 5,
   "metadata": {},
   "outputs": [],
   "source": [
    "def getStockPickleDirectory():\n",
    "    path = '/Users/philipmassey/PycharmProjects/stock_market/market_data/stock_pickles'\n",
    "    return path\n",
    "def getPickleName(rdate):\n",
    "    ppath = getStockPickleDirectory()\n",
    "    return ppath+'/'+rdate+'.pk'\n",
    "\n",
    "def getNDaysAgo(ndays):\n",
    "    now = datetime.now()\n",
    "    start = now - pd.tseries.offsets.BusinessDay(n=(ndays+1))\n",
    "    end = now - pd.tseries.offsets.BusinessDay(n=ndays)\n",
    "    start = '{:%Y-%m-%d}'.format(start)\n",
    "    end = '{:%Y-%m-%d}'.format(end)\n",
    "    return start,end\n",
    "\n",
    "def getRowNAgo(symbols, ndays):\n",
    "    if ndays == 0:\n",
    "        dfDaysAgo = yf.download(tickers = symbols,period = \"1d\",interval = \"1d\",group_by = 'column',auto_adjust = True,prepost = False,threads = True)\n",
    "        dfDaysAgo = dfDaysAgo.tail(1)\n",
    "    else:\n",
    "        start, end = getNDaysAgo(ndays)\n",
    "        dfDaysAgo = yf.download(tickers = symbols,interval = \"1d\",start=start,end=end,group_by = 'column',auto_adjust = True,prepost = False,threads = True)\n",
    "        dfDaysAgo = dfDaysAgo.head(1)\n",
    "    return dfDaysAgo[['Close','Volume']]\n",
    "\n",
    "def getDescriptiveDate(dfRow):\n",
    "    date = pd.to_datetime(dfRow.index.values[0])\n",
    "    return calendar.day_name[date.weekday()]+' '+'{:%Y-%m-%d}'.format(date)\n",
    "def getRowYmdDate(dfRow):\n",
    "    rowdate =  pd.to_datetime(dfRow.index.values[0])\n",
    "    return '{:%Y-%m-%d}'.format(rowdate)\n"
   ]
  },
  {
   "cell_type": "code",
   "execution_count": 6,
   "metadata": {},
   "outputs": [],
   "source": [
    "def pickleStock(ndays):\n",
    "    print(ndays)\n",
    "    dfnrow = getRowNAgo(symbols,ndays)\n",
    "    if len(dfnrow.index.values) == 0:\n",
    "        print('{} {}'.format('Failed',ndays))\n",
    "        exit()\n",
    "    rdate = getRowYmdDate(dfnrow)\n",
    "    dfnrow.to_pickle(getPickleName(rdate))\n",
    "    return '{} {}'.format('Pickled',ndays)\n",
    "#[pickleStock(ndays) for ndays in range(185,186)]"
   ]
  },
  {
   "cell_type": "code",
   "execution_count": 9,
   "metadata": {},
   "outputs": [
    {
     "name": "stdout",
     "output_type": "stream",
     "text": [
      "2020-02-07 2020-02-10\n",
      "[Errno 2] No such file or directory: '/Users/philipmassey/PycharmProjects/stock_market/market_data/stock_pickles/2020-02-07.pk' 190 2020-02-07\n"
     ]
    }
   ],
   "source": [
    "def getStockPickle(ndays):\n",
    "    start,end = getNDaysAgo(ndays)\n",
    "    print(start,end)\n",
    "    pk_name = getPickleName(start)\n",
    "    try:\n",
    "        dfNDaysAgo = pd.read_pickle(pk_name)\n",
    "    except FileNotFoundError as e:\n",
    "        print(e,ndays,start)\n",
    "        return\n",
    "    return dfNDaysAgo\n",
    "\n",
    "ndays = 190\n",
    "getStockPickle(ndays)\n",
    "    "
   ]
  },
  {
   "cell_type": "code",
   "execution_count": null,
   "metadata": {},
   "outputs": [],
   "source": []
  },
  {
   "cell_type": "code",
   "execution_count": null,
   "metadata": {},
   "outputs": [],
   "source": [
    "data = pd.read_pickle(getPickleName(rdate))\n",
    "data"
   ]
  }
 ],
 "metadata": {
  "kernelspec": {
   "display_name": "Python 3",
   "language": "python",
   "name": "python3"
  },
  "language_info": {
   "codemirror_mode": {
    "name": "ipython",
    "version": 3
   },
   "file_extension": ".py",
   "mimetype": "text/x-python",
   "name": "python",
   "nbconvert_exporter": "python",
   "pygments_lexer": "ipython3",
   "version": "3.7.3"
  }
 },
 "nbformat": 4,
 "nbformat_minor": 2
}
