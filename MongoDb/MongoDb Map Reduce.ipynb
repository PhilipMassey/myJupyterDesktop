{
 "cells": [
  {
   "cell_type": "code",
   "execution_count": 9,
   "metadata": {},
   "outputs": [],
   "source": [
    "import pprint\n",
    "from pymongo import MongoClient\n",
    "db = MongoClient().aggregation_example"
   ]
  },
  {
   "cell_type": "code",
   "execution_count": 6,
   "metadata": {},
   "outputs": [
    {
     "data": {
      "text/plain": [
       "[{'_id': 'cat', 'count': 3},\n",
       " {'_id': 'dog', 'count': 2},\n",
       " {'_id': 'mouse', 'count': 1}]"
      ]
     },
     "execution_count": 6,
     "metadata": {},
     "output_type": "execute_result"
    }
   ],
   "source": [
    "from bson.son import SON\n",
    "pipeline = [\n",
    "     {\"$unwind\": \"$tags\"},\n",
    "     {\"$group\": {\"_id\": \"$tags\", \"count\": {\"$sum\": 1}}},\n",
    "    {\"$sort\": SON([(\"count\", -1), (\"_id\", -1)])}\n",
    " ]\n",
    "list(db.things.aggregate(pipeline))"
   ]
  },
  {
   "cell_type": "code",
   "execution_count": 7,
   "metadata": {},
   "outputs": [],
   "source": [
    "from bson.code import Code\n",
    "mapper = Code(\"\"\"\n",
    "              function () {\n",
    "                this.tags.forEach(function(z) {\n",
    "                  emit(z, 1);\n",
    "                });\n",
    "              }\n",
    "              \"\"\")\n",
    "\n",
    "reducer = Code(\"\"\"\n",
    "               function (key, values) {\n",
    "                 var total = 0;\n",
    "                 for (var i = 0; i < values.length; i++) {\n",
    "                   total += values[i];\n",
    "                 }\n",
    "                 return total;\n",
    "               }\n",
    "               \"\"\")\n"
   ]
  },
  {
   "cell_type": "code",
   "execution_count": 10,
   "metadata": {},
   "outputs": [
    {
     "name": "stdout",
     "output_type": "stream",
     "text": [
      "{'_id': 'cat', 'value': 3.0}\n",
      "{'_id': 'dog', 'value': 2.0}\n",
      "{'_id': 'mouse', 'value': 1.0}\n"
     ]
    }
   ],
   "source": [
    "result = db.things.map_reduce(mapper, reducer, \"myresults\")\n",
    "for doc in result.find():\n",
    "  pprint.pprint(doc)\n"
   ]
  },
  {
   "cell_type": "code",
   "execution_count": 12,
   "metadata": {},
   "outputs": [
    {
     "name": "stdout",
     "output_type": "stream",
     "text": [
      "{'counts': {'emit': 6, 'input': 4, 'output': 3, 'reduce': 2},\n",
      " 'ok': 1.0,\n",
      " 'result': 'myresults',\n",
      " 'timeMillis': 83}\n"
     ]
    }
   ],
   "source": [
    "pprint.pprint(\n",
    "    db.things.map_reduce(mapper, reducer, \"myresults\", full_response=True))\n"
   ]
  },
  {
   "cell_type": "code",
   "execution_count": 13,
   "metadata": {},
   "outputs": [
    {
     "name": "stdout",
     "output_type": "stream",
     "text": [
      "{'_id': 'cat', 'value': 1.0}\n",
      "{'_id': 'dog', 'value': 1.0}\n"
     ]
    }
   ],
   "source": [
    "results = db.things.map_reduce(\n",
    "    mapper, reducer, \"myresults\", query={\"x\": {\"$lt\": 2}})\n",
    "for doc in results.find():\n",
    "  pprint.pprint(doc)\n"
   ]
  },
  {
   "cell_type": "code",
   "execution_count": 14,
   "metadata": {},
   "outputs": [
    {
     "name": "stdout",
     "output_type": "stream",
     "text": [
      "{'counts': {'emit': 6, 'input': 4, 'output': 3, 'reduce': 2},\n",
      " 'ok': 1.0,\n",
      " 'result': {'collection': 'results', 'db': 'outdb'},\n",
      " 'timeMillis': 71}\n"
     ]
    }
   ],
   "source": [
    "\n",
    "from bson.son import SON\n",
    "pprint.pprint(\n",
    "    db.things.map_reduce(\n",
    "        mapper,\n",
    "        reducer,\n",
    "        out=SON([(\"replace\", \"results\"), (\"db\", \"outdb\")]),\n",
    "        full_response=True))"
   ]
  },
  {
   "cell_type": "code",
   "execution_count": null,
   "metadata": {},
   "outputs": [],
   "source": []
  }
 ],
 "metadata": {
  "kernelspec": {
   "display_name": "Python 3",
   "language": "python",
   "name": "python3"
  },
  "language_info": {
   "codemirror_mode": {
    "name": "ipython",
    "version": 3
   },
   "file_extension": ".py",
   "mimetype": "text/x-python",
   "name": "python",
   "nbconvert_exporter": "python",
   "pygments_lexer": "ipython3",
   "version": "3.7.3"
  }
 },
 "nbformat": 4,
 "nbformat_minor": 2
}
