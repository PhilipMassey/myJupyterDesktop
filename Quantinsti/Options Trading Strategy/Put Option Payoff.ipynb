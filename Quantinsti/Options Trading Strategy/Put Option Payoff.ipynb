{
 "cells": [
  {
   "cell_type": "markdown",
   "metadata": {},
   "source": [
    "# Risk profiles of put option buyer and seller\n",
    "Buying a put option gives you the right, but not the obligation to sell the underlying security at the given strike price, within a specific time period. Therefore a put option payoff at expiration depends on where the underlying price is relative to the put option strike price.\n",
    "\n",
    "In this notebook, we will plot a put buyer's and a put seller's payoff graph for a 900 strike price put on the Infosys stock.\n"
   ]
  },
  {
   "cell_type": "code",
   "execution_count": 46,
   "metadata": {},
   "outputs": [
    {
     "data": {
      "image/png": "[encoded data removed]",
      "text/plain": [
       "<Figure size 576x360 with 1 Axes>"
      ]
     },
     "metadata": {},
     "output_type": "display_data"
    }
   ],
   "source": [
    "import numpy as np\n",
    "import matplotlib.pyplot as plt\n",
    "# For making attractive and informative statistical graph\n",
    "plt.style.use('seaborn-darkgrid')\n",
    "\n",
    "def put_payoff (sT, strike_price, premium):\n",
    "    pnl = np.where(sT<strike_price, strike_price - sT, 0)\n",
    "    return pnl - premium\n",
    "\n",
    "# Infosys stock price\n",
    "spot_price = 900\n",
    "\n",
    "# Put strike price and cost\n",
    "strike_price = 900\n",
    "premium = 20\n",
    "\n",
    "# Stock price range at the expiration of the put\n",
    "# We have defined range for the stock price at expiry as +/- 10% from spot price\n",
    "# Syntax: numpy.arange(start price, stop price)\n",
    "sT = np.arange(0.9*spot_price,1.1*spot_price)\n",
    "\n",
    "payoff_long_put = put_payoff(sT, strike_price, premium)\n",
    "payoff_short_put = payoff_long_put * -1.0\n",
    "# Plot\n",
    "fig, ax = plt.subplots(figsize=(8,5))\n",
    "ax.spines['bottom'].set_position('zero')\n",
    "ax.plot(sT,payoff_long_put,label='Put option buyer payoff')\n",
    "ax.plot(sT,payoff_short_put,label='Put option seller payoff',color='r')\n",
    "plt.xlabel('Infosys Stock Price')\n",
    "plt.ylabel('Profit and loss')\n",
    "plt.legend()\n",
    "plt.show()"
   ]
  },
  {
   "cell_type": "markdown",
   "metadata": {},
   "source": [
    "## Put payoff\n",
    "We define a function put_payoff that calculates the payoff from buying a put option. The function takes sT which is a range of possible values of the stock price at expiration, the strike price of the put option and the premium of the put option as input.\n",
    "\n",
    "It returns a numpy array containing the profit from put option for different stock prices. When the stock price is less than the strike price, the profit is measured as the difference between strike price and stock price, and when the stock price is greater than the strike price then the profit is zero. After this, a put premium is deducted from the pnl to compute the payoff.\n",
    "\n",
    "## Define parameters\n",
    "We will define the spot price, the strike price, premium, and a range of possible values for the Infosys stock price at expiry.\n",
    "\n",
    "\n",
    "## Put option buyer payoff\n",
    "\n",
    "So what do you observe?\n",
    "\n",
    "Even if the price of Infosys goes above the strike price of 900, the maximum loss seems to be just INR 20/-. Therefore, the loss to the put option buyer is restricted to the extent of the premium he has paid.\n",
    "\n",
    "The profit from this put option seems to increase linearly as and when Infosys starts to move below the strike price of 900. Therefore, the lower the spot price goes, the higher will be the profit.\n",
    "\n",
    "Though the put option is supposed to make a profit when the spot price moves below the strike price, the put option buyer first needs to recover the premium he has paid.\n",
    "\n",
    "From the above points, we can say that the buyer of the put option has limited risk and the potential to make a huge profit.\n",
    "\n",
    "## Put option seller payoff\n",
    "To get the payoff graph for option seller, we have multiplied the payoff of option buyer by -1.0, as the option buyer makes the profit, the option seller will lose the exact same amount and vice-versa.\n",
    "\n",
    "\n",
    "The put option seller payoff looks like a mirror image of the put option buyer payoff.\n",
    "\n",
    "The profit is restricted to INR 20/- as long as the spot price is trading at any price above the strike price of 900.\n",
    "From 900 to 880, we can see the profits getting reduced.\n",
    "Below 880, the put option seller starts losing money. The losses increase with a decrease in stock price.\n",
    "Therefore, you sell a put option only when your view is that the underlying asset will not fall beyond the strike price.\n",
    "\n",
    "​"
   ]
  },
  {
   "cell_type": "code",
   "execution_count": 26,
   "metadata": {},
   "outputs": [
    {
     "data": {
      "text/plain": [
       "array([810., 811., 812., 813., 814., 815., 816., 817., 818., 819., 820.,\n",
       "       821., 822., 823., 824., 825., 826., 827., 828., 829., 830., 831.,\n",
       "       832., 833., 834., 835., 836., 837., 838., 839., 840., 841., 842.,\n",
       "       843., 844., 845., 846., 847., 848., 849., 850., 851., 852., 853.,\n",
       "       854., 855., 856., 857., 858., 859., 860., 861., 862., 863., 864.,\n",
       "       865., 866., 867., 868., 869., 870., 871., 872., 873., 874., 875.,\n",
       "       876., 877., 878., 879., 880., 881., 882., 883., 884., 885., 886.,\n",
       "       887., 888., 889., 890., 891., 892., 893., 894., 895., 896., 897.,\n",
       "       898., 899., 900., 901., 902., 903., 904., 905., 906., 907., 908.,\n",
       "       909., 910., 911., 912., 913., 914., 915., 916., 917., 918., 919.,\n",
       "       920., 921., 922., 923., 924., 925., 926., 927., 928., 929., 930.,\n",
       "       931., 932., 933., 934., 935., 936., 937., 938., 939., 940., 941.,\n",
       "       942., 943., 944., 945., 946., 947., 948., 949., 950., 951., 952.,\n",
       "       953., 954., 955., 956., 957., 958., 959., 960., 961., 962., 963.,\n",
       "       964., 965., 966., 967., 968., 969., 970., 971., 972., 973., 974.,\n",
       "       975., 976., 977., 978., 979., 980., 981., 982., 983., 984., 985.,\n",
       "       986., 987., 988., 989., 990.])"
      ]
     },
     "execution_count": 26,
     "metadata": {},
     "output_type": "execute_result"
    }
   ],
   "source": [
    "spot_price = 900\n",
    "sT = np.arange(0.9*spot_price,1.1*spot_price)\n",
    "sT"
   ]
  },
  {
   "cell_type": "code",
   "execution_count": 27,
   "metadata": {},
   "outputs": [
    {
     "data": {
      "text/plain": [
       "array([ 1,  9, 10])"
      ]
     },
     "execution_count": 27,
     "metadata": {},
     "output_type": "execute_result"
    }
   ],
   "source": [
    "arr = np.array([11, 12, 13])\n",
    " \n",
    "# call numpy.where() with 3 arguments\n",
    "result = np.where(arr < 12, [1, 2, 4], [7, 8, 9])\n",
    "result = np.where(arr < 12, [1, 2, 4], [8,9,10])\n",
    "result \n"
   ]
  },
  {
   "cell_type": "code",
   "execution_count": 31,
   "metadata": {},
   "outputs": [
    {
     "data": {
      "text/plain": [
       "array([90., 89., 88., 87., 86., 85., 84., 83., 82., 81., 80., 79., 78.,\n",
       "       77., 76., 75., 74., 73., 72., 71., 70., 69., 68., 67., 66., 65.,\n",
       "       64., 63., 62., 61., 60., 59., 58., 57., 56., 55., 54., 53., 52.,\n",
       "       51., 50., 49., 48., 47., 46., 45., 44., 43., 42., 41., 40., 39.,\n",
       "       38., 37., 36., 35., 34., 33., 32., 31., 30., 29., 28., 27., 26.,\n",
       "       25., 24., 23., 22., 21., 20., 19., 18., 17., 16., 15., 14., 13.,\n",
       "       12., 11., 10.,  9.,  8.,  7.,  6.,  5.,  4.,  3.,  2.,  1.,  0.,\n",
       "        0.,  0.,  0.,  0.,  0.,  0.,  0.,  0.,  0.,  0.,  0.,  0.,  0.,\n",
       "        0.,  0.,  0.,  0.,  0.,  0.,  0.,  0.,  0.,  0.,  0.,  0.,  0.,\n",
       "        0.,  0.,  0.,  0.,  0.,  0.,  0.,  0.,  0.,  0.,  0.,  0.,  0.,\n",
       "        0.,  0.,  0.,  0.,  0.,  0.,  0.,  0.,  0.,  0.,  0.,  0.,  0.,\n",
       "        0.,  0.,  0.,  0.,  0.,  0.,  0.,  0.,  0.,  0.,  0.,  0.,  0.,\n",
       "        0.,  0.,  0.,  0.,  0.,  0.,  0.,  0.,  0.,  0.,  0.,  0.,  0.,\n",
       "        0.,  0.,  0.,  0.,  0.,  0.,  0.,  0.,  0.,  0.,  0.,  0.])"
      ]
     },
     "execution_count": 31,
     "metadata": {},
     "output_type": "execute_result"
    }
   ],
   "source": [
    "strike_price = 900\n",
    "premium = 20\n",
    "pnl = np.where(sT<strike_price, strike_price - sT, 0)\n",
    "#npl = pnl - premium\n",
    "\n",
    "pnl"
   ]
  },
  {
   "cell_type": "code",
   "execution_count": 32,
   "metadata": {},
   "outputs": [
    {
     "data": {
      "text/plain": [
       "array([421.4, 422.4, 423.4, 424.4, 425.4, 426.4, 427.4, 428.4, 429.4,\n",
       "       430.4, 431.4, 432.4, 433.4, 434.4, 435.4, 436.4, 437.4, 438.4,\n",
       "       439.4, 440.4, 441.4, 442.4])"
      ]
     },
     "execution_count": 32,
     "metadata": {},
     "output_type": "execute_result"
    }
   ],
   "source": [
    "spot_price = 430 \n",
    "# Stock price range at expiration of the call\n",
    "sT = np.arange(0.98*spot_price,1.03*spot_price)\n",
    "sT"
   ]
  },
  {
   "cell_type": "code",
   "execution_count": 37,
   "metadata": {},
   "outputs": [
    {
     "name": "stdout",
     "output_type": "stream",
     "text": [
      "[8.6 7.6 6.6 5.6 4.6 3.6 2.6 1.6 0.6 0.  0.  0.  0.  0.  0.  0.  0.  0.\n",
      " 0.  0.  0.  0. ]\n",
      "[ 0.   0.   0.   0.   0.   0.   0.   0.   0.   0.4  1.4  2.4  3.4  4.4\n",
      "  5.4  6.4  7.4  8.4  9.4 10.4 11.4 12.4]\n"
     ]
    }
   ],
   "source": [
    "spot_price = 430 \n",
    "# Stock price range at expiration of the call\n",
    "sT = np.arange(0.98*spot_price,1.03*spot_price)\n",
    "# Put\n",
    "strike_price = 430 \n",
    "premium = 3\n",
    "\n",
    "payoff_put = np.where(sT<strike_price, strike_price - sT,  0)\n",
    "print(payoff_put)\n",
    "payoff_call = np.where(sT>strike_price, sT - strike_price, 0)\n",
    "print(payoff_call)"
   ]
  }
 ],
 "metadata": {
  "kernelspec": {
   "display_name": "Python 3",
   "language": "python",
   "name": "python3"
  },
  "language_info": {
   "codemirror_mode": {
    "name": "ipython",
    "version": 3
   },
   "file_extension": ".py",
   "mimetype": "text/x-python",
   "name": "python",
   "nbconvert_exporter": "python",
   "pygments_lexer": "ipython3",
   "version": "3.7.3"
  }
 },
 "nbformat": 4,
 "nbformat_minor": 2
}
