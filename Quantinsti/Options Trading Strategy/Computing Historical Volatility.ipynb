{
 "cells": [
  {
   "cell_type": "markdown",
   "metadata": {},
   "source": [
    "### Computing Historical Volatility"
   ]
  },
  {
   "cell_type": "code",
   "execution_count": 13,
   "metadata": {},
   "outputs": [
    {
     "data": {
      "text/html": [
       "<div>\n",
       "<style scoped>\n",
       "    .dataframe tbody tr th:only-of-type {\n",
       "        vertical-align: middle;\n",
       "    }\n",
       "\n",
       "    .dataframe tbody tr th {\n",
       "        vertical-align: top;\n",
       "    }\n",
       "\n",
       "    .dataframe thead th {\n",
       "        text-align: right;\n",
       "    }\n",
       "</style>\n",
       "<table border=\"1\" class=\"dataframe\">\n",
       "  <thead>\n",
       "    <tr style=\"text-align: right;\">\n",
       "      <th></th>\n",
       "      <th>High</th>\n",
       "      <th>Low</th>\n",
       "      <th>Open</th>\n",
       "      <th>Close</th>\n",
       "      <th>Volume</th>\n",
       "      <th>Adj Close</th>\n",
       "    </tr>\n",
       "    <tr>\n",
       "      <th>Date</th>\n",
       "      <th></th>\n",
       "      <th></th>\n",
       "      <th></th>\n",
       "      <th></th>\n",
       "      <th></th>\n",
       "      <th></th>\n",
       "    </tr>\n",
       "  </thead>\n",
       "  <tbody>\n",
       "    <tr>\n",
       "      <th>2016-04-20</th>\n",
       "      <td>108.089996</td>\n",
       "      <td>106.059998</td>\n",
       "      <td>106.639999</td>\n",
       "      <td>107.129997</td>\n",
       "      <td>30611000.0</td>\n",
       "      <td>101.339020</td>\n",
       "    </tr>\n",
       "    <tr>\n",
       "      <th>2016-04-21</th>\n",
       "      <td>106.930000</td>\n",
       "      <td>105.519997</td>\n",
       "      <td>106.930000</td>\n",
       "      <td>105.970001</td>\n",
       "      <td>31552500.0</td>\n",
       "      <td>100.241730</td>\n",
       "    </tr>\n",
       "    <tr>\n",
       "      <th>2016-04-22</th>\n",
       "      <td>106.480003</td>\n",
       "      <td>104.620003</td>\n",
       "      <td>105.010002</td>\n",
       "      <td>105.680000</td>\n",
       "      <td>33683100.0</td>\n",
       "      <td>99.967400</td>\n",
       "    </tr>\n",
       "    <tr>\n",
       "      <th>2016-04-25</th>\n",
       "      <td>105.650002</td>\n",
       "      <td>104.510002</td>\n",
       "      <td>105.000000</td>\n",
       "      <td>105.080002</td>\n",
       "      <td>28031600.0</td>\n",
       "      <td>99.399841</td>\n",
       "    </tr>\n",
       "    <tr>\n",
       "      <th>2016-04-26</th>\n",
       "      <td>105.300003</td>\n",
       "      <td>103.910004</td>\n",
       "      <td>103.910004</td>\n",
       "      <td>104.349998</td>\n",
       "      <td>56016200.0</td>\n",
       "      <td>98.709282</td>\n",
       "    </tr>\n",
       "  </tbody>\n",
       "</table>\n",
       "</div>"
      ],
      "text/plain": [
       "                  High         Low        Open       Close      Volume  \\\n",
       "Date                                                                     \n",
       "2016-04-20  108.089996  106.059998  106.639999  107.129997  30611000.0   \n",
       "2016-04-21  106.930000  105.519997  106.930000  105.970001  31552500.0   \n",
       "2016-04-22  106.480003  104.620003  105.010002  105.680000  33683100.0   \n",
       "2016-04-25  105.650002  104.510002  105.000000  105.080002  28031600.0   \n",
       "2016-04-26  105.300003  103.910004  103.910004  104.349998  56016200.0   \n",
       "\n",
       "             Adj Close  \n",
       "Date                    \n",
       "2016-04-20  101.339020  \n",
       "2016-04-21  100.241730  \n",
       "2016-04-22   99.967400  \n",
       "2016-04-25   99.399841  \n",
       "2016-04-26   98.709282  "
      ]
     },
     "execution_count": 13,
     "metadata": {},
     "output_type": "execute_result"
    }
   ],
   "source": [
    "import numpy as np\n",
    "import pandas as pd\n",
    "import matplotlib.pyplot as plt\n",
    "# For making attractive and informative statistical graph\n",
    "plt.style.use('seaborn-darkgrid')\n",
    "from pandas.plotting import register_matplotlib_converters\n",
    "register_matplotlib_converters()\n",
    "\n",
    "import pandas_datareader as pdr\n",
    "from datetime import datetime\n",
    "\n",
    "data = pdr.get_data_yahoo(symbols='AAPL', start=datetime(2016, 4, 20), end=datetime(2018, 4, 13))\n",
    "data.head()\n"
   ]
  },
  {
   "cell_type": "markdown",
   "metadata": {},
   "source": [
    "### Computing Log Returns\n",
    "Now we will compute the daily log returns by using the shift() function for adjusted closing prices of the security. We make use of the numpy library for computing log of today's closing price divided by yesterday's closing price. The log returns are stored in the DataFrame data under the column header 'Log Returns'."
   ]
  },
  {
   "cell_type": "code",
   "execution_count": 14,
   "metadata": {},
   "outputs": [],
   "source": [
    "data['Log Returns'] = np.log(data['Adj Close']/data['Adj Close'].shift(1))"
   ]
  },
  {
   "cell_type": "markdown",
   "metadata": {},
   "source": [
    "### Computing Historical Volatility\n",
    "The one month (or 20 trading days) historical volatility will be computed by using the DataFrame.rolling(window).std() function which computes the rolling standard deviation of data['Log Returns'] for a period of 20 trading days. The standard deviation is multiplied by 100 to compute the percentage value for volatility. The historical volatility will be stored in the DataFrame under the column header '20 day Historical Volatility'."
   ]
  },
  {
   "cell_type": "code",
   "execution_count": 15,
   "metadata": {},
   "outputs": [
    {
     "data": {
      "image/png": "[encoded data removed]",
      "text/plain": [
       "<Figure size 432x288 with 1 Axes>"
      ]
     },
     "metadata": {},
     "output_type": "display_data"
    }
   ],
   "source": [
    "data['20 day Historical Volatility'] = 100*data['Log Returns'].rolling(window=20).std()\n",
    "plt.plot(data['20 day Historical Volatility'], color = 'b', label ='20 day Historical Volatility')\n",
    "plt.legend(loc='best')\n",
    "plt.show()\n"
   ]
  },
  {
   "cell_type": "code",
   "execution_count": null,
   "metadata": {},
   "outputs": [],
   "source": []
  }
 ],
 "metadata": {
  "kernelspec": {
   "display_name": "Python 3",
   "language": "python",
   "name": "python3"
  },
  "language_info": {
   "codemirror_mode": {
    "name": "ipython",
    "version": 3
   },
   "file_extension": ".py",
   "mimetype": "text/x-python",
   "name": "python",
   "nbconvert_exporter": "python",
   "pygments_lexer": "ipython3",
   "version": "3.7.3"
  }
 },
 "nbformat": 4,
 "nbformat_minor": 2
}
