{
 "cells": [
  {
   "cell_type": "code",
   "execution_count": 37,
   "metadata": {},
   "outputs": [
    {
     "name": "stderr",
     "output_type": "stream",
     "text": [
      "WARNING:arctic.store.version_store:Library created, but couldn't enable sharding: no such command: 'enablesharding'. This is OK if you're not 'admin'\n"
     ]
    },
    {
     "data": {
      "text/plain": [
       "<VersionStore at 0x11e904e80>\n",
       "    <ArcticLibrary at 0x11f0f5470, arctic.NASDAQ>\n",
       "        <Arctic at 0x11ea49f98, connected to MongoClient(host=['localhost:27017'], document_class=dict, tz_aware=False, connect=True, maxpoolsize=4, sockettimeoutms=600000, connecttimeoutms=2000, serverselectiontimeoutms=30000)>"
      ]
     },
     "execution_count": 37,
     "metadata": {},
     "output_type": "execute_result"
    }
   ],
   "source": [
    "from arctic import Arctic\n",
    "\n",
    "\n",
    "quandl.ApiConfig.api_key =\"7s8cchLy59CiAjkDb_oo\"\n",
    "# Connect to Local MONGODB\n",
    "store = Arctic('localhost')\n",
    "\n",
    "# Create the library - defaults to VersionStore\n",
    "store.initialize_library('NASDAQ')\n",
    "\n",
    "# Access the library\n",
    "library = store['NASDAQ']\n",
    "library"
   ]
  },
  {
   "cell_type": "code",
   "execution_count": 74,
   "metadata": {},
   "outputs": [
    {
     "name": "stdout",
     "output_type": "stream",
     "text": [
      "['NASDAQ']\n",
      "['AAPL', 'AMZN']\n"
     ]
    }
   ],
   "source": [
    "\n",
    "print(store.list_libraries())\n",
    "print(library.list_symbols())"
   ]
  },
  {
   "cell_type": "code",
   "execution_count": 64,
   "metadata": {},
   "outputs": [
    {
     "data": {
      "text/plain": [
       "datetime.datetime(2019, 11, 7, 0, 0)"
      ]
     },
     "execution_count": 64,
     "metadata": {},
     "output_type": "execute_result"
    }
   ],
   "source": [
    "pd.date_range('2012-09-01', '2016-01-01')\n",
    "from datetime import datetime as dt\n",
    "dt.fromisoformat('2019-11-07')"
   ]
  },
  {
   "cell_type": "code",
   "execution_count": 29,
   "metadata": {},
   "outputs": [],
   "source": [
    " # Reading the data\n",
    "#item = library.read('AAPL',date_range=pd.date_range('2012-09-01', '2016-01-01'))\n",
    "item = library.read('AAPL')\n",
    "aapl = item.data\n",
    "metadata = item.metadata\n",
    "aapl.tail()"
   ]
  },
  {
   "cell_type": "code",
   "execution_count": 35,
   "metadata": {},
   "outputs": [
    {
     "data": {
      "text/plain": [
       "['AAPL']"
      ]
     },
     "execution_count": 35,
     "metadata": {},
     "output_type": "execute_result"
    }
   ],
   "source": [
    "library.list_symbols() #  get_info('AAPL')"
   ]
  },
  {
   "cell_type": "markdown",
   "metadata": {},
   "source": [
    "### yfinance"
   ]
  },
  {
   "cell_type": "code",
   "execution_count": 43,
   "metadata": {},
   "outputs": [],
   "source": [
    "import yfinance as yf"
   ]
  },
  {
   "cell_type": "code",
   "execution_count": 44,
   "metadata": {},
   "outputs": [
    {
     "name": "stdout",
     "output_type": "stream",
     "text": [
      "[*********************100%***********************]  1 of 1 downloaded\n"
     ]
    },
    {
     "data": {
      "text/plain": [
       "VersionedItem(symbol=AMZN,library=arctic.NASDAQ,data=<class 'NoneType'>,version=1,metadata={'source': 'yfinance'},host=localhost)"
      ]
     },
     "execution_count": 44,
     "metadata": {},
     "output_type": "execute_result"
    }
   ],
   "source": [
    "ticker = 'AMZN'\n",
    "data = yf.download(ticker)\n",
    "library.write(ticker, data, metadata={'source':'yfinance'})\n"
   ]
  },
  {
   "cell_type": "code",
   "execution_count": 72,
   "metadata": {},
   "outputs": [
    {
     "data": {
      "text/html": [
       "<div>\n",
       "<style scoped>\n",
       "    .dataframe tbody tr th:only-of-type {\n",
       "        vertical-align: middle;\n",
       "    }\n",
       "\n",
       "    .dataframe tbody tr th {\n",
       "        vertical-align: top;\n",
       "    }\n",
       "\n",
       "    .dataframe thead th {\n",
       "        text-align: right;\n",
       "    }\n",
       "</style>\n",
       "<table border=\"1\" class=\"dataframe\">\n",
       "  <thead>\n",
       "    <tr style=\"text-align: right;\">\n",
       "      <th></th>\n",
       "      <th>Open</th>\n",
       "      <th>High</th>\n",
       "      <th>Low</th>\n",
       "      <th>Close</th>\n",
       "      <th>Adj Close</th>\n",
       "      <th>Volume</th>\n",
       "    </tr>\n",
       "    <tr>\n",
       "      <th>Date</th>\n",
       "      <th></th>\n",
       "      <th></th>\n",
       "      <th></th>\n",
       "      <th></th>\n",
       "      <th></th>\n",
       "      <th></th>\n",
       "    </tr>\n",
       "  </thead>\n",
       "  <tbody>\n",
       "    <tr>\n",
       "      <th>2019-11-04</th>\n",
       "      <td>1801.01</td>\n",
       "      <td>1815.06</td>\n",
       "      <td>1801.01</td>\n",
       "      <td>1804.66</td>\n",
       "      <td>1804.66</td>\n",
       "      <td>2771900</td>\n",
       "    </tr>\n",
       "    <tr>\n",
       "      <th>2019-11-05</th>\n",
       "      <td>1809.16</td>\n",
       "      <td>1810.25</td>\n",
       "      <td>1794.00</td>\n",
       "      <td>1801.71</td>\n",
       "      <td>1801.71</td>\n",
       "      <td>1885500</td>\n",
       "    </tr>\n",
       "    <tr>\n",
       "      <th>2019-11-06</th>\n",
       "      <td>1801.00</td>\n",
       "      <td>1802.50</td>\n",
       "      <td>1788.58</td>\n",
       "      <td>1795.77</td>\n",
       "      <td>1795.77</td>\n",
       "      <td>2029800</td>\n",
       "    </tr>\n",
       "    <tr>\n",
       "      <th>2019-11-07</th>\n",
       "      <td>1803.76</td>\n",
       "      <td>1805.90</td>\n",
       "      <td>1783.48</td>\n",
       "      <td>1788.20</td>\n",
       "      <td>1788.20</td>\n",
       "      <td>2651100</td>\n",
       "    </tr>\n",
       "    <tr>\n",
       "      <th>2019-11-08</th>\n",
       "      <td>1787.89</td>\n",
       "      <td>1789.88</td>\n",
       "      <td>1774.04</td>\n",
       "      <td>1785.88</td>\n",
       "      <td>1785.88</td>\n",
       "      <td>2123300</td>\n",
       "    </tr>\n",
       "  </tbody>\n",
       "</table>\n",
       "</div>"
      ],
      "text/plain": [
       "               Open     High      Low    Close  Adj Close   Volume\n",
       "Date                                                              \n",
       "2019-11-04  1801.01  1815.06  1801.01  1804.66    1804.66  2771900\n",
       "2019-11-05  1809.16  1810.25  1794.00  1801.71    1801.71  1885500\n",
       "2019-11-06  1801.00  1802.50  1788.58  1795.77    1795.77  2029800\n",
       "2019-11-07  1803.76  1805.90  1783.48  1788.20    1788.20  2651100\n",
       "2019-11-08  1787.89  1789.88  1774.04  1785.88    1785.88  2123300"
      ]
     },
     "execution_count": 72,
     "metadata": {},
     "output_type": "execute_result"
    }
   ],
   "source": [
    "from datetime import datetime as dt\n",
    "#item = library.read(ticker, as_of=dt.fromisoformat('2019-11-07'))\n",
    "item = library.read(ticker)\n",
    "item.data.tail()\n"
   ]
  },
  {
   "cell_type": "markdown",
   "metadata": {},
   "source": [
    "### Quandl"
   ]
  },
  {
   "cell_type": "code",
   "execution_count": 23,
   "metadata": {},
   "outputs": [
    {
     "data": {
      "text/plain": [
       "VersionedItem(symbol=AAPL,library=arctic.NASDAQ,data=<class 'pandas.core.frame.DataFrame'>,version=10,metadata={'source': 'Quandl'},host=localhost)"
      ]
     },
     "execution_count": 23,
     "metadata": {},
     "output_type": "execute_result"
    }
   ],
   "source": [
    "import quandl\n",
    "import pandas as pd\n",
    "# Load some data - maybe from Quandl\n",
    "#aapl = quandl.get(\"WIKI/AAPL\", authtoken=\"your token here\")\n",
    "aapl = quandl.get(\"WIKI/AAPL\")\n",
    "\n",
    "# Store the data in the library\n",
    "library.write('AAPL', aapl, metadata={'source': 'Quandl'})\n",
    "\n"
   ]
  }
 ],
 "metadata": {
  "kernelspec": {
   "display_name": "Python 3",
   "language": "python",
   "name": "python3"
  },
  "language_info": {
   "codemirror_mode": {
    "name": "ipython",
    "version": 3
   },
   "file_extension": ".py",
   "mimetype": "text/x-python",
   "name": "python",
   "nbconvert_exporter": "python",
   "pygments_lexer": "ipython3",
   "version": "3.7.3"
  }
 },
 "nbformat": 4,
 "nbformat_minor": 2
}
