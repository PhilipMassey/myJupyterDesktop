{
 "cells": [
  {
   "cell_type": "code",
   "execution_count": 16,
   "metadata": {},
   "outputs": [
    {
     "data": {
      "text/html": [
       "<div>\n",
       "<style scoped>\n",
       "    .dataframe tbody tr th:only-of-type {\n",
       "        vertical-align: middle;\n",
       "    }\n",
       "\n",
       "    .dataframe tbody tr th {\n",
       "        vertical-align: top;\n",
       "    }\n",
       "\n",
       "    .dataframe thead th {\n",
       "        text-align: right;\n",
       "    }\n",
       "</style>\n",
       "<table border=\"1\" class=\"dataframe\">\n",
       "  <thead>\n",
       "    <tr style=\"text-align: right;\">\n",
       "      <th></th>\n",
       "      <th>AccountsPayableCurrent</th>\n",
       "      <th>AccountsReceivableNetCurrent</th>\n",
       "      <th>AccruedIncomeTaxesNoncurrent</th>\n",
       "      <th>AccumulatedDepreciationDepletionAndAmortizationPropertyPlantAndEquipment</th>\n",
       "      <th>AccumulatedOtherComprehensiveIncomeLossNetOfTax</th>\n",
       "      <th>AdjustmentsToAdditionalPaidInCapitalTaxEffectFromShareBasedCompensationIncludingTransferPricing</th>\n",
       "      <th>AllocatedShareBasedCompensationExpense</th>\n",
       "      <th>AmountUtilizedUnderShareRepurchaseProgram</th>\n",
       "      <th>AntidilutiveSecuritiesExcludedFromComputationOfEarningsPerShareAmount</th>\n",
       "      <th>Assets</th>\n",
       "      <th>...</th>\n",
       "      <th>formFiscalYear</th>\n",
       "      <th>id</th>\n",
       "      <th>key</th>\n",
       "      <th>periodEnd</th>\n",
       "      <th>periodStart</th>\n",
       "      <th>reportLink</th>\n",
       "      <th>source</th>\n",
       "      <th>subkey</th>\n",
       "      <th>updated</th>\n",
       "      <th>version</th>\n",
       "    </tr>\n",
       "  </thead>\n",
       "  <tbody>\n",
       "    <tr>\n",
       "      <th>0</th>\n",
       "      <td>47920780060</td>\n",
       "      <td>23517245346</td>\n",
       "      <td>30105081607</td>\n",
       "      <td>60086267679</td>\n",
       "      <td>-584070844</td>\n",
       "      <td>635529013</td>\n",
       "      <td>6206274006</td>\n",
       "      <td>98111941350</td>\n",
       "      <td>16194880</td>\n",
       "      <td>352919097096</td>\n",
       "      <td>...</td>\n",
       "      <td>2020</td>\n",
       "      <td>PINNLEOARFTCDR_IEAS</td>\n",
       "      <td>LAPA</td>\n",
       "      <td>1583519236725</td>\n",
       "      <td>1607870790399</td>\n",
       "      <td>r1/c23hp/0/tea00aov03A1/0tci1a9g:./2e0900w0dw0...</td>\n",
       "      <td>ECS</td>\n",
       "      <td>-K01</td>\n",
       "      <td>1583518266816</td>\n",
       "      <td>aaps-gu</td>\n",
       "    </tr>\n",
       "  </tbody>\n",
       "</table>\n",
       "<p>1 rows × 222 columns</p>\n",
       "</div>"
      ],
      "text/plain": [
       "   AccountsPayableCurrent  AccountsReceivableNetCurrent  \\\n",
       "0             47920780060                   23517245346   \n",
       "\n",
       "   AccruedIncomeTaxesNoncurrent  \\\n",
       "0                   30105081607   \n",
       "\n",
       "   AccumulatedDepreciationDepletionAndAmortizationPropertyPlantAndEquipment  \\\n",
       "0                                        60086267679                          \n",
       "\n",
       "   AccumulatedOtherComprehensiveIncomeLossNetOfTax  \\\n",
       "0                                       -584070844   \n",
       "\n",
       "   AdjustmentsToAdditionalPaidInCapitalTaxEffectFromShareBasedCompensationIncludingTransferPricing  \\\n",
       "0                                          635529013                                                 \n",
       "\n",
       "   AllocatedShareBasedCompensationExpense  \\\n",
       "0                              6206274006   \n",
       "\n",
       "   AmountUtilizedUnderShareRepurchaseProgram  \\\n",
       "0                                98111941350   \n",
       "\n",
       "   AntidilutiveSecuritiesExcludedFromComputationOfEarningsPerShareAmount  \\\n",
       "0                                           16194880                       \n",
       "\n",
       "         Assets  ...  formFiscalYear                   id   key  \\\n",
       "0  352919097096  ...            2020  PINNLEOARFTCDR_IEAS  LAPA   \n",
       "\n",
       "       periodEnd    periodStart  \\\n",
       "0  1583519236725  1607870790399   \n",
       "\n",
       "                                          reportLink  source  subkey  \\\n",
       "0  r1/c23hp/0/tea00aov03A1/0tci1a9g:./2e0900w0dw0...     ECS    -K01   \n",
       "\n",
       "         updated  version  \n",
       "0  1583518266816  aaps-gu  \n",
       "\n",
       "[1 rows x 222 columns]"
      ]
     },
     "execution_count": 16,
     "metadata": {},
     "output_type": "execute_result"
    }
   ],
   "source": [
    "import requests\n",
    "import json\n",
    "import pandas as pd\n",
    "sanbox_token = 'Tsk_e58894c17777490b9ae302b04a526781'\n",
    "response = requests.get('https://sandbox.iexapis.com/stable/time-series/REPORTED_FINANCIALS/AAPL?token=Tsk_e58894c17777490b9ae302b04a526781')\n",
    "jData = json.loads(response.content)\n",
    "df = pd.DataFrame(jData)\n",
    "df"
   ]
  },
  {
   "cell_type": "markdown",
   "metadata": {},
   "source": [
    "https://cloud.iexapis.com/stable/tops?token=pk_9ba866a9c4824ada84d5d51f5042ce41&symbols=aapl\n",
    "https://sandbox.iexapis.com/stable/tops?token=Tsk_e58894c17777490b9ae302b04a526781&symbols=aapl\n",
    "https://sandbox.iexapis.com/stable/sentiment?token=Tsk_e58894c17777490b9ae302b04a526781&symbols=aapl\n",
    "https://cloud.iexapis.com/stable/sentiment?token=pk_9ba866a9c4824ada84d5d51f5042ce41&symbols=aapl"
   ]
  },
  {
   "cell_type": "code",
   "execution_count": 19,
   "metadata": {},
   "outputs": [
    {
     "data": {
      "text/plain": [
       "b'Not Found'"
      ]
     },
     "execution_count": 19,
     "metadata": {},
     "output_type": "execute_result"
    }
   ],
   "source": [
    "token = 'pk_9ba866a9c4824ada84d5d51f5042ce41'\n",
    "\n",
    "#curl --header 'Accept: text/event-stream' https://cloud-sse.iexapis.com/stable/sentiment\\?symbols\\=aapl\\&token\\=YOUR_TOKEN\n",
    "response = requests.get('https://sandbox.iexapis.com/stable/sentiment?symbols=aapl&token=Tsk_e58894c17777490b9ae302b04a526781')\n",
    "response.content"
   ]
  }
 ],
 "metadata": {
  "kernelspec": {
   "display_name": "Python 3",
   "language": "python",
   "name": "python3"
  },
  "language_info": {
   "codemirror_mode": {
    "name": "ipython",
    "version": 3
   },
   "file_extension": ".py",
   "mimetype": "text/x-python",
   "name": "python",
   "nbconvert_exporter": "python",
   "pygments_lexer": "ipython3",
   "version": "3.7.3"
  }
 },
 "nbformat": 4,
 "nbformat_minor": 2
}
