{
 "cells": [
  {
   "cell_type": "code",
   "execution_count": 7,
   "metadata": {},
   "outputs": [],
   "source": [
    "import os\n",
    "from iexfinance.stocks import Stock\n",
    "import iexfinance\n",
    "import pandas as pd\n",
    "\n",
    "# Set IEX Finance API Token (Test)\n",
    "os.environ['IEX_API_VERSION'] = 'iexcloud-sandbox'\n",
    "os.environ['IEX_TOKEN'] = 'pk_9ba866a9c4824ada84d5d51f5042ce41'\n",
    "\n",
    "\n"
   ]
  },
  {
   "cell_type": "code",
   "execution_count": 11,
   "metadata": {},
   "outputs": [
    {
     "data": {
      "text/plain": [
       "<iexfinance.stocks.base.Stock at 0x120a31cc0>"
      ]
     },
     "execution_count": 11,
     "metadata": {},
     "output_type": "execute_result"
    }
   ],
   "source": [
    "symbol = 'BOX'\n",
    "stock = Stock(symbol, output_format='pandas')\n",
    "stock.get"
   ]
  },
  {
   "cell_type": "code",
   "execution_count": 8,
   "metadata": {},
   "outputs": [
    {
     "name": "stdout",
     "output_type": "stream",
     "text": [
      "         Net Income  Book Value\n",
      "MSFT              0           0\n",
      "V                 0           0\n",
      "ERROR             0           0\n",
      "INVALID           0           0\n",
      "BRK.B             0           0\n"
     ]
    }
   ],
   "source": [
    "tickers = ['MSFT', 'V']\n",
    "\n",
    "# Create output Dataframe\n",
    "output_df = pd.DataFrame(columns=['Net Income', 'Book Value'])\n",
    "\n",
    "# Loop through companies in tickers list\n",
    "for ticker in tickers:\n",
    "\n",
    "    # Call IEX Cloud API, and output to Dataframe\n",
    "    try:\n",
    "        company = Stock(ticker, output_format='pandas')\n",
    "\n",
    "        try:\n",
    "            # Get income from last 4 quarters, sum it, and store to temp Dataframe\n",
    "            df_income = company.get_income_statement(period=\"quarter\", last='4')\n",
    "            df_income['TTM'] = df_income.sum(axis=1)\n",
    "            income_ttm = int(df_income.loc['netIncome', 'TTM'])\n",
    "\n",
    "            # Get book value from most recent quarter, and store to temp Dataframe\n",
    "            df_book = company.get_balance_sheet(period=\"quarter\")\n",
    "            book_value = int(df_book.loc['shareholderEquity'])\n",
    "\n",
    "        # If IEX Cloud errors, make stats = 0\n",
    "        except (iexfinance.utils.exceptions.IEXQueryError, TypeError, KeyError) as e:\n",
    "            book_value = 0\n",
    "            income_ttm = 0\n",
    "\n",
    "        # Store stats to output Dataframe\n",
    "        output_df.loc[ticker] = [income_ttm, book_value]\n",
    "\n",
    "    except ValueError:\n",
    "        pass\n",
    "\n",
    "print(output_df)"
   ]
  }
 ],
 "metadata": {
  "kernelspec": {
   "display_name": "Python 3",
   "language": "python",
   "name": "python3"
  },
  "language_info": {
   "codemirror_mode": {
    "name": "ipython",
    "version": 3
   },
   "file_extension": ".py",
   "mimetype": "text/x-python",
   "name": "python",
   "nbconvert_exporter": "python",
   "pygments_lexer": "ipython3",
   "version": "3.7.3"
  }
 },
 "nbformat": 4,
 "nbformat_minor": 2
}
