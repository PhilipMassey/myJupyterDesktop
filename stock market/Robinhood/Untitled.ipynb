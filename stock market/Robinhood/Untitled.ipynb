{
 "cells": [
  {
   "cell_type": "code",
   "execution_count": null,
   "metadata": {},
   "outputs": [],
   "source": [
    "import robin_stocks as r \n",
    "from datetime import datetime\n",
    "from dateutil import tz\n",
    "import pandas as pd\n",
    "import plotly.express as px\n",
    "\n",
    "from_zone = tz.tzutc()\n",
    "to_zone = tz.tzlocal()\n",
    "def utcToLocal(strDate):\n",
    "    utc = datetime.strptime(strDate, '%Y-%m-%dT%H:%M:%SZ')\n",
    "    utc = utc.replace(tzinfo=from_zone)\n",
    "    return utc.astimezone(to_zone)\n",
    "\n",
    "import configparser\n",
    "config = configparser.RawConfigParser()\n",
    "configFilePath = '/Users/philipmassey/.tokens/robinhood.cfg'\n",
    "config.read(configFilePath)\n",
    "rhuser = config.get('login', 'user')\n",
    "rhpwd = config.get('login', 'pwd')\n",
    "login = r.login(rhuser,rhpwd)"
   ]
  }
 ],
 "metadata": {
  "kernelspec": {
   "display_name": "Python 3",
   "language": "python",
   "name": "python3"
  },
  "language_info": {
   "codemirror_mode": {
    "name": "ipython",
    "version": 3
   },
   "file_extension": ".py",
   "mimetype": "text/x-python",
   "name": "python",
   "nbconvert_exporter": "python",
   "pygments_lexer": "ipython3",
   "version": "3.7.3"
  }
 },
 "nbformat": 4,
 "nbformat_minor": 2
}
