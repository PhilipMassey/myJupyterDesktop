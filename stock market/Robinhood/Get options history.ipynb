{
 "cells": [
  {
   "cell_type": "code",
   "execution_count": 6,
   "metadata": {},
   "outputs": [
    {
     "name": "stdout",
     "output_type": "stream",
     "text": [
      "ERROR: There was an issue loading pickle file. Authentication may be expired - logging in normally.\n"
     ]
    },
    {
     "ename": "KeyError",
     "evalue": "'detail'",
     "output_type": "error",
     "traceback": [
      "\u001b[0;31m---------------------------------------------------------------------------\u001b[0m",
      "\u001b[0;31mKeyError\u001b[0m                                  Traceback (most recent call last)",
      "\u001b[0;32m<ipython-input-6-4f33152e18a1>\u001b[0m in \u001b[0;36m<module>\u001b[0;34m\u001b[0m\n\u001b[1;32m      3\u001b[0m \u001b[0;32mimport\u001b[0m \u001b[0mos\u001b[0m\u001b[0;34m\u001b[0m\u001b[0;34m\u001b[0m\u001b[0m\n\u001b[1;32m      4\u001b[0m \u001b[0;32mimport\u001b[0m \u001b[0mrobin_stocks\u001b[0m \u001b[0;32mas\u001b[0m \u001b[0mr\u001b[0m\u001b[0;34m\u001b[0m\u001b[0;34m\u001b[0m\u001b[0m\n\u001b[0;32m----> 5\u001b[0;31m \u001b[0mlogin\u001b[0m \u001b[0;34m=\u001b[0m \u001b[0mr\u001b[0m\u001b[0;34m.\u001b[0m\u001b[0mlogin\u001b[0m\u001b[0;34m(\u001b[0m\u001b[0mos\u001b[0m\u001b[0;34m.\u001b[0m\u001b[0mgetenv\u001b[0m\u001b[0;34m(\u001b[0m\u001b[0;34m'RHUSER'\u001b[0m\u001b[0;34m)\u001b[0m\u001b[0;34m,\u001b[0m \u001b[0mos\u001b[0m\u001b[0;34m.\u001b[0m\u001b[0mgetenv\u001b[0m\u001b[0;34m(\u001b[0m\u001b[0;34m'RNPWD'\u001b[0m\u001b[0;34m)\u001b[0m\u001b[0;34m)\u001b[0m\u001b[0;34m\u001b[0m\u001b[0;34m\u001b[0m\u001b[0m\n\u001b[0m\u001b[1;32m      6\u001b[0m \u001b[0;31m#login = r.login('philipmassey', 'Rie1Hnd2*#')\u001b[0m\u001b[0;34m\u001b[0m\u001b[0;34m\u001b[0m\u001b[0;34m\u001b[0m\u001b[0m\n\u001b[1;32m      7\u001b[0m '''\n",
      "\u001b[0;32m~/Library/Python/3.7/lib/python/site-packages/robin_stocks/authentication.py\u001b[0m in \u001b[0;36mlogin\u001b[0;34m(username, password, expiresIn, scope, by_sms, store_session)\u001b[0m\n\u001b[1;32m    152\u001b[0m                             'device_token' : device_token},f)\n\u001b[1;32m    153\u001b[0m     \u001b[0;32melse\u001b[0m\u001b[0;34m:\u001b[0m\u001b[0;34m\u001b[0m\u001b[0;34m\u001b[0m\u001b[0m\n\u001b[0;32m--> 154\u001b[0;31m         \u001b[0;32mraise\u001b[0m \u001b[0mException\u001b[0m\u001b[0;34m(\u001b[0m\u001b[0mdata\u001b[0m\u001b[0;34m[\u001b[0m\u001b[0;34m'detail'\u001b[0m\u001b[0;34m]\u001b[0m\u001b[0;34m)\u001b[0m\u001b[0;34m\u001b[0m\u001b[0;34m\u001b[0m\u001b[0m\n\u001b[0m\u001b[1;32m    155\u001b[0m     \u001b[0;32mreturn\u001b[0m\u001b[0;34m(\u001b[0m\u001b[0mdata\u001b[0m\u001b[0;34m)\u001b[0m\u001b[0;34m\u001b[0m\u001b[0;34m\u001b[0m\u001b[0m\n\u001b[1;32m    156\u001b[0m \u001b[0;34m\u001b[0m\u001b[0m\n",
      "\u001b[0;31mKeyError\u001b[0m: 'detail'"
     ]
    }
   ],
   "source": [
    "import matplotlib.pyplot as plt\n",
    "import datetime as dt\n",
    "import os\n",
    "import robin_stocks as r \n",
    "login = r.login(os.getenv('RHUSER'), os.getenv('RNPWD'))\n",
    "#login = r.login('philipmassey', 'Rie1Hnd2*#')\n",
    "'''\n",
    "This is example code that gets the past 30 days of opening and closing prices\n",
    "for a specific option call or put. As far as I know, there is no way to view\n",
    "past prices for options, so this is a very useful piece of code. This code also\n",
    "plots the data using matplotlib, but the data is contained in the\n",
    "historicalData list and you are free to do whatever you want with it.\n",
    "\n",
    "NOTE: closing prices are plotted in red and opening prices plotted in blue.\n",
    "Matplotlib also has a candlestick option that you can use.\n",
    "'''\n",
    "\n",
    "#!!! fill out the specific option information\n",
    "symbol = 'ERIC'\n",
    "expirationDate = '2020-02-21'\n",
    "strike = 9.0\n",
    "optionType = 'call'\n",
    "span = 'week' #available options are day,week,year, and 5year\n",
    "#!!!\n",
    "\n",
    "historicalData = r.get_option_historicals(symbol,expirationDate,strike,optionType,span)"
   ]
  },
  {
   "cell_type": "markdown",
   "metadata": {},
   "source": [
    "historicalData\n",
    "\n",
    "{'data_points': \n",
    "  {'begins_at': '2020-02-12T14:30:00Z',\n",
    "   'open_price': '0.280000',\n",
    "   'close_price': '0.280000',\n",
    "   'high_price': '0.280000',\n",
    "   'low_price': '0.280000',\n",
    "   'volume': 0,\n",
    "   'session': 'reg',\n",
    "   'interpolated': False},\n",
    "   \n",
    " {'begins_at': '2020-02-18T20:50:00Z',\n",
    "   'open_price': '0.080000',\n",
    "   'close_price': '0.080000',\n",
    "   'high_price': '0.080000',\n",
    "   'low_price': '0.080000',\n",
    "   'volume': 0,\n",
    "   'session': 'reg',\n",
    "   'interpolated': False}],\n",
    " 'open_time': '0001-01-01T00:00:00Z',\n",
    " 'open_price': '0.000000',\n",
    " 'previous_close_time': '0001-01-01T00:00:00Z',\n",
    " 'previous_close_price': '0.000000',\n",
    " 'interval': '10minute',\n",
    " 'span': 'week',\n",
    " 'bounds': 'regular',\n",
    " 'id': '52f5793e-6fc7-44fa-93f4-6298ca3dca57',\n",
    " 'instrument': 'https://api.robinhood.com/options/instruments/52f5793e-6fc7-44fa-93f4-6298ca3dca57/'}\n"
   ]
  },
  {
   "cell_type": "code",
   "execution_count": 37,
   "metadata": {},
   "outputs": [
    {
     "data": {
      "text/plain": [
       "156"
      ]
     },
     "execution_count": 37,
     "metadata": {},
     "output_type": "execute_result"
    }
   ],
   "source": [
    "len(historicalData['data_points'])"
   ]
  },
  {
   "cell_type": "code",
   "execution_count": 19,
   "metadata": {},
   "outputs": [
    {
     "name": "stdout",
     "output_type": "stream",
     "text": [
      "{'begins_at': '2020-02-12T14:30:00Z', 'open_price': '0.280000', 'close_price': '0.280000', 'high_price': '0.280000', 'low_price': '0.280000', 'volume': 0, 'session': 'reg', 'interpolated': False}\n",
      "{'begins_at': '2020-02-12T14:40:00Z', 'open_price': '0.280000', 'close_price': '0.250000', 'high_price': '0.280000', 'low_price': '0.230000', 'volume': 0, 'session': 'reg', 'interpolated': False}\n",
      "{'begins_at': '2020-02-12T14:50:00Z', 'open_price': '0.250000', 'close_price': '0.280000', 'high_price': '0.280000', 'low_price': '0.230000', 'volume': 0, 'session': 'reg', 'interpolated': False}\n",
      "{'begins_at': '2020-02-12T15:00:00Z', 'open_price': '0.280000', 'close_price': '0.280000', 'high_price': '0.280000', 'low_price': '0.230000', 'volume': 0, 'session': 'reg', 'interpolated': False}\n",
      "{'begins_at': '2020-02-12T15:10:00Z', 'open_price': '0.280000', 'close_price': '0.280000', 'high_price': '0.280000', 'low_price': '0.280000', 'volume': 0, 'session': 'reg', 'interpolated': False}\n",
      "{'begins_at': '2020-02-12T15:20:00Z', 'open_price': '0.280000', 'close_price': '0.280000', 'high_price': '0.280000', 'low_price': '0.280000', 'volume': 0, 'session': 'reg', 'interpolated': False}\n",
      "{'begins_at': '2020-02-12T15:30:00Z', 'open_price': '0.280000', 'close_price': '0.280000', 'high_price': '0.280000', 'low_price': '0.280000', 'volume': 0, 'session': 'reg', 'interpolated': False}\n",
      "{'begins_at': '2020-02-12T15:40:00Z', 'open_price': '0.280000', 'close_price': '0.280000', 'high_price': '0.280000', 'low_price': '0.280000', 'volume': 0, 'session': 'reg', 'interpolated': False}\n",
      "{'begins_at': '2020-02-12T15:50:00Z', 'open_price': '0.280000', 'close_price': '0.280000', 'high_price': '0.280000', 'low_price': '0.280000', 'volume': 0, 'session': 'reg', 'interpolated': False}\n",
      "{'begins_at': '2020-02-12T16:00:00Z', 'open_price': '0.280000', 'close_price': '0.280000', 'high_price': '0.280000', 'low_price': '0.280000', 'volume': 0, 'session': 'reg', 'interpolated': False}\n",
      "{'begins_at': '2020-02-12T16:10:00Z', 'open_price': '0.280000', 'close_price': '0.280000', 'high_price': '0.280000', 'low_price': '0.280000', 'volume': 0, 'session': 'reg', 'interpolated': False}\n",
      "{'begins_at': '2020-02-12T16:20:00Z', 'open_price': '0.280000', 'close_price': '0.280000', 'high_price': '0.280000', 'low_price': '0.280000', 'volume': 0, 'session': 'reg', 'interpolated': False}\n",
      "{'begins_at': '2020-02-12T16:30:00Z', 'open_price': '0.280000', 'close_price': '0.280000', 'high_price': '0.280000', 'low_price': '0.280000', 'volume': 0, 'session': 'reg', 'interpolated': False}\n",
      "{'begins_at': '2020-02-12T16:40:00Z', 'open_price': '0.280000', 'close_price': '0.280000', 'high_price': '0.280000', 'low_price': '0.280000', 'volume': 0, 'session': 'reg', 'interpolated': False}\n",
      "{'begins_at': '2020-02-12T16:50:00Z', 'open_price': '0.280000', 'close_price': '0.280000', 'high_price': '0.280000', 'low_price': '0.280000', 'volume': 0, 'session': 'reg', 'interpolated': False}\n",
      "{'begins_at': '2020-02-12T17:00:00Z', 'open_price': '0.280000', 'close_price': '0.280000', 'high_price': '0.280000', 'low_price': '0.280000', 'volume': 0, 'session': 'reg', 'interpolated': False}\n",
      "{'begins_at': '2020-02-12T17:10:00Z', 'open_price': '0.280000', 'close_price': '0.280000', 'high_price': '0.280000', 'low_price': '0.280000', 'volume': 0, 'session': 'reg', 'interpolated': False}\n",
      "{'begins_at': '2020-02-12T17:20:00Z', 'open_price': '0.280000', 'close_price': '0.280000', 'high_price': '0.280000', 'low_price': '0.280000', 'volume': 0, 'session': 'reg', 'interpolated': False}\n",
      "{'begins_at': '2020-02-12T17:30:00Z', 'open_price': '0.280000', 'close_price': '0.280000', 'high_price': '0.280000', 'low_price': '0.280000', 'volume': 0, 'session': 'reg', 'interpolated': False}\n",
      "{'begins_at': '2020-02-12T17:40:00Z', 'open_price': '0.280000', 'close_price': '0.280000', 'high_price': '0.280000', 'low_price': '0.280000', 'volume': 0, 'session': 'reg', 'interpolated': False}\n",
      "{'begins_at': '2020-02-12T17:50:00Z', 'open_price': '0.280000', 'close_price': '0.280000', 'high_price': '0.280000', 'low_price': '0.280000', 'volume': 0, 'session': 'reg', 'interpolated': False}\n",
      "{'begins_at': '2020-02-12T18:00:00Z', 'open_price': '0.280000', 'close_price': '0.280000', 'high_price': '0.280000', 'low_price': '0.280000', 'volume': 0, 'session': 'reg', 'interpolated': False}\n",
      "{'begins_at': '2020-02-12T18:10:00Z', 'open_price': '0.280000', 'close_price': '0.280000', 'high_price': '0.280000', 'low_price': '0.280000', 'volume': 0, 'session': 'reg', 'interpolated': False}\n",
      "{'begins_at': '2020-02-12T18:20:00Z', 'open_price': '0.280000', 'close_price': '0.280000', 'high_price': '0.280000', 'low_price': '0.280000', 'volume': 0, 'session': 'reg', 'interpolated': False}\n",
      "{'begins_at': '2020-02-12T18:30:00Z', 'open_price': '0.280000', 'close_price': '0.280000', 'high_price': '0.280000', 'low_price': '0.280000', 'volume': 0, 'session': 'reg', 'interpolated': False}\n",
      "{'begins_at': '2020-02-12T18:40:00Z', 'open_price': '0.280000', 'close_price': '0.280000', 'high_price': '0.280000', 'low_price': '0.280000', 'volume': 0, 'session': 'reg', 'interpolated': False}\n",
      "{'begins_at': '2020-02-12T18:50:00Z', 'open_price': '0.280000', 'close_price': '0.280000', 'high_price': '0.280000', 'low_price': '0.280000', 'volume': 0, 'session': 'reg', 'interpolated': False}\n",
      "{'begins_at': '2020-02-12T19:00:00Z', 'open_price': '0.280000', 'close_price': '0.280000', 'high_price': '0.280000', 'low_price': '0.280000', 'volume': 0, 'session': 'reg', 'interpolated': False}\n",
      "{'begins_at': '2020-02-12T19:10:00Z', 'open_price': '0.280000', 'close_price': '0.280000', 'high_price': '0.280000', 'low_price': '0.280000', 'volume': 0, 'session': 'reg', 'interpolated': False}\n",
      "{'begins_at': '2020-02-12T19:20:00Z', 'open_price': '0.280000', 'close_price': '0.280000', 'high_price': '0.280000', 'low_price': '0.280000', 'volume': 0, 'session': 'reg', 'interpolated': False}\n",
      "{'begins_at': '2020-02-12T19:30:00Z', 'open_price': '0.280000', 'close_price': '0.280000', 'high_price': '0.280000', 'low_price': '0.280000', 'volume': 0, 'session': 'reg', 'interpolated': False}\n",
      "{'begins_at': '2020-02-12T19:40:00Z', 'open_price': '0.280000', 'close_price': '0.280000', 'high_price': '0.280000', 'low_price': '0.280000', 'volume': 0, 'session': 'reg', 'interpolated': False}\n",
      "{'begins_at': '2020-02-12T19:50:00Z', 'open_price': '0.280000', 'close_price': '0.280000', 'high_price': '0.280000', 'low_price': '0.280000', 'volume': 0, 'session': 'reg', 'interpolated': False}\n",
      "{'begins_at': '2020-02-12T20:00:00Z', 'open_price': '0.280000', 'close_price': '0.280000', 'high_price': '0.280000', 'low_price': '0.280000', 'volume': 0, 'session': 'reg', 'interpolated': False}\n",
      "{'begins_at': '2020-02-12T20:10:00Z', 'open_price': '0.280000', 'close_price': '0.280000', 'high_price': '0.280000', 'low_price': '0.280000', 'volume': 0, 'session': 'reg', 'interpolated': False}\n",
      "{'begins_at': '2020-02-12T20:20:00Z', 'open_price': '0.280000', 'close_price': '0.280000', 'high_price': '0.280000', 'low_price': '0.280000', 'volume': 0, 'session': 'reg', 'interpolated': False}\n",
      "{'begins_at': '2020-02-12T20:30:00Z', 'open_price': '0.280000', 'close_price': '0.280000', 'high_price': '0.280000', 'low_price': '0.280000', 'volume': 0, 'session': 'reg', 'interpolated': False}\n",
      "{'begins_at': '2020-02-12T20:40:00Z', 'open_price': '0.280000', 'close_price': '0.280000', 'high_price': '0.280000', 'low_price': '0.280000', 'volume': 0, 'session': 'reg', 'interpolated': False}\n",
      "{'begins_at': '2020-02-12T20:50:00Z', 'open_price': '0.280000', 'close_price': '0.280000', 'high_price': '0.300000', 'low_price': '0.280000', 'volume': 0, 'session': 'reg', 'interpolated': False}\n",
      "{'begins_at': '2020-02-13T14:30:00Z', 'open_price': '0.200000', 'close_price': '0.200000', 'high_price': '0.200000', 'low_price': '0.200000', 'volume': 0, 'session': 'reg', 'interpolated': False}\n",
      "{'begins_at': '2020-02-13T14:40:00Z', 'open_price': '0.200000', 'close_price': '0.180000', 'high_price': '0.200000', 'low_price': '0.180000', 'volume': 0, 'session': 'reg', 'interpolated': False}\n",
      "{'begins_at': '2020-02-13T14:50:00Z', 'open_price': '0.180000', 'close_price': '0.200000', 'high_price': '0.230000', 'low_price': '0.180000', 'volume': 0, 'session': 'reg', 'interpolated': False}\n",
      "{'begins_at': '2020-02-13T15:00:00Z', 'open_price': '0.200000', 'close_price': '0.200000', 'high_price': '0.230000', 'low_price': '0.180000', 'volume': 0, 'session': 'reg', 'interpolated': False}\n",
      "{'begins_at': '2020-02-13T15:10:00Z', 'open_price': '0.200000', 'close_price': '0.180000', 'high_price': '0.230000', 'low_price': '0.180000', 'volume': 0, 'session': 'reg', 'interpolated': False}\n",
      "{'begins_at': '2020-02-13T15:20:00Z', 'open_price': '0.180000', 'close_price': '0.180000', 'high_price': '0.180000', 'low_price': '0.180000', 'volume': 0, 'session': 'reg', 'interpolated': False}\n",
      "{'begins_at': '2020-02-13T15:30:00Z', 'open_price': '0.180000', 'close_price': '0.180000', 'high_price': '0.180000', 'low_price': '0.180000', 'volume': 0, 'session': 'reg', 'interpolated': False}\n",
      "{'begins_at': '2020-02-13T15:40:00Z', 'open_price': '0.180000', 'close_price': '0.180000', 'high_price': '0.180000', 'low_price': '0.180000', 'volume': 0, 'session': 'reg', 'interpolated': False}\n",
      "{'begins_at': '2020-02-13T15:50:00Z', 'open_price': '0.200000', 'close_price': '0.230000', 'high_price': '0.230000', 'low_price': '0.200000', 'volume': 0, 'session': 'reg', 'interpolated': False}\n",
      "{'begins_at': '2020-02-13T16:00:00Z', 'open_price': '0.230000', 'close_price': '0.230000', 'high_price': '0.230000', 'low_price': '0.230000', 'volume': 0, 'session': 'reg', 'interpolated': False}\n",
      "{'begins_at': '2020-02-13T16:10:00Z', 'open_price': '0.230000', 'close_price': '0.230000', 'high_price': '0.230000', 'low_price': '0.230000', 'volume': 0, 'session': 'reg', 'interpolated': False}\n",
      "{'begins_at': '2020-02-13T16:20:00Z', 'open_price': '0.230000', 'close_price': '0.230000', 'high_price': '0.230000', 'low_price': '0.230000', 'volume': 0, 'session': 'reg', 'interpolated': False}\n",
      "{'begins_at': '2020-02-13T16:30:00Z', 'open_price': '0.230000', 'close_price': '0.230000', 'high_price': '0.230000', 'low_price': '0.230000', 'volume': 0, 'session': 'reg', 'interpolated': False}\n",
      "{'begins_at': '2020-02-13T16:40:00Z', 'open_price': '0.230000', 'close_price': '0.230000', 'high_price': '0.230000', 'low_price': '0.230000', 'volume': 0, 'session': 'reg', 'interpolated': False}\n",
      "{'begins_at': '2020-02-13T16:50:00Z', 'open_price': '0.230000', 'close_price': '0.230000', 'high_price': '0.230000', 'low_price': '0.230000', 'volume': 0, 'session': 'reg', 'interpolated': False}\n",
      "{'begins_at': '2020-02-13T17:00:00Z', 'open_price': '0.230000', 'close_price': '0.230000', 'high_price': '0.230000', 'low_price': '0.230000', 'volume': 0, 'session': 'reg', 'interpolated': False}\n",
      "{'begins_at': '2020-02-13T17:10:00Z', 'open_price': '0.230000', 'close_price': '0.230000', 'high_price': '0.230000', 'low_price': '0.230000', 'volume': 0, 'session': 'reg', 'interpolated': False}\n",
      "{'begins_at': '2020-02-13T17:20:00Z', 'open_price': '0.230000', 'close_price': '0.230000', 'high_price': '0.230000', 'low_price': '0.230000', 'volume': 0, 'session': 'reg', 'interpolated': False}\n",
      "{'begins_at': '2020-02-13T17:30:00Z', 'open_price': '0.230000', 'close_price': '0.230000', 'high_price': '0.230000', 'low_price': '0.230000', 'volume': 0, 'session': 'reg', 'interpolated': False}\n",
      "{'begins_at': '2020-02-13T17:40:00Z', 'open_price': '0.230000', 'close_price': '0.200000', 'high_price': '0.230000', 'low_price': '0.200000', 'volume': 0, 'session': 'reg', 'interpolated': False}\n",
      "{'begins_at': '2020-02-13T17:50:00Z', 'open_price': '0.200000', 'close_price': '0.200000', 'high_price': '0.230000', 'low_price': '0.200000', 'volume': 0, 'session': 'reg', 'interpolated': False}\n",
      "{'begins_at': '2020-02-13T18:00:00Z', 'open_price': '0.200000', 'close_price': '0.180000', 'high_price': '0.200000', 'low_price': '0.180000', 'volume': 0, 'session': 'reg', 'interpolated': False}\n",
      "{'begins_at': '2020-02-13T18:10:00Z', 'open_price': '0.180000', 'close_price': '0.180000', 'high_price': '0.180000', 'low_price': '0.180000', 'volume': 0, 'session': 'reg', 'interpolated': False}\n",
      "{'begins_at': '2020-02-13T18:20:00Z', 'open_price': '0.180000', 'close_price': '0.200000', 'high_price': '0.230000', 'low_price': '0.180000', 'volume': 0, 'session': 'reg', 'interpolated': False}\n",
      "{'begins_at': '2020-02-13T18:30:00Z', 'open_price': '0.230000', 'close_price': '0.200000', 'high_price': '0.230000', 'low_price': '0.200000', 'volume': 0, 'session': 'reg', 'interpolated': False}\n",
      "{'begins_at': '2020-02-13T18:40:00Z', 'open_price': '0.200000', 'close_price': '0.230000', 'high_price': '0.230000', 'low_price': '0.180000', 'volume': 0, 'session': 'reg', 'interpolated': False}\n",
      "{'begins_at': '2020-02-13T18:50:00Z', 'open_price': '0.230000', 'close_price': '0.230000', 'high_price': '0.230000', 'low_price': '0.230000', 'volume': 0, 'session': 'reg', 'interpolated': False}\n",
      "{'begins_at': '2020-02-13T19:00:00Z', 'open_price': '0.230000', 'close_price': '0.200000', 'high_price': '0.230000', 'low_price': '0.200000', 'volume': 0, 'session': 'reg', 'interpolated': False}\n",
      "{'begins_at': '2020-02-13T19:10:00Z', 'open_price': '0.180000', 'close_price': '0.180000', 'high_price': '0.200000', 'low_price': '0.180000', 'volume': 0, 'session': 'reg', 'interpolated': False}\n",
      "{'begins_at': '2020-02-13T19:20:00Z', 'open_price': '0.180000', 'close_price': '0.180000', 'high_price': '0.180000', 'low_price': '0.180000', 'volume': 0, 'session': 'reg', 'interpolated': False}\n",
      "{'begins_at': '2020-02-13T19:30:00Z', 'open_price': '0.180000', 'close_price': '0.180000', 'high_price': '0.180000', 'low_price': '0.180000', 'volume': 0, 'session': 'reg', 'interpolated': False}\n",
      "{'begins_at': '2020-02-13T19:40:00Z', 'open_price': '0.180000', 'close_price': '0.180000', 'high_price': '0.180000', 'low_price': '0.180000', 'volume': 0, 'session': 'reg', 'interpolated': False}\n",
      "{'begins_at': '2020-02-13T19:50:00Z', 'open_price': '0.180000', 'close_price': '0.180000', 'high_price': '0.180000', 'low_price': '0.180000', 'volume': 0, 'session': 'reg', 'interpolated': False}\n",
      "{'begins_at': '2020-02-13T20:00:00Z', 'open_price': '0.180000', 'close_price': '0.180000', 'high_price': '0.180000', 'low_price': '0.180000', 'volume': 0, 'session': 'reg', 'interpolated': False}\n",
      "{'begins_at': '2020-02-13T20:10:00Z', 'open_price': '0.180000', 'close_price': '0.180000', 'high_price': '0.180000', 'low_price': '0.180000', 'volume': 0, 'session': 'reg', 'interpolated': False}\n",
      "{'begins_at': '2020-02-13T20:20:00Z', 'open_price': '0.180000', 'close_price': '0.180000', 'high_price': '0.180000', 'low_price': '0.180000', 'volume': 0, 'session': 'reg', 'interpolated': False}\n",
      "{'begins_at': '2020-02-13T20:30:00Z', 'open_price': '0.180000', 'close_price': '0.180000', 'high_price': '0.180000', 'low_price': '0.180000', 'volume': 0, 'session': 'reg', 'interpolated': False}\n",
      "{'begins_at': '2020-02-13T20:40:00Z', 'open_price': '0.180000', 'close_price': '0.180000', 'high_price': '0.180000', 'low_price': '0.180000', 'volume': 0, 'session': 'reg', 'interpolated': False}\n",
      "{'begins_at': '2020-02-13T20:50:00Z', 'open_price': '0.180000', 'close_price': '0.180000', 'high_price': '0.180000', 'low_price': '0.180000', 'volume': 0, 'session': 'reg', 'interpolated': False}\n",
      "{'begins_at': '2020-02-14T14:30:00Z', 'open_price': '0.180000', 'close_price': '0.180000', 'high_price': '0.180000', 'low_price': '0.180000', 'volume': 0, 'session': 'reg', 'interpolated': False}\n",
      "{'begins_at': '2020-02-14T14:40:00Z', 'open_price': '0.180000', 'close_price': '0.200000', 'high_price': '0.230000', 'low_price': '0.180000', 'volume': 0, 'session': 'reg', 'interpolated': False}\n",
      "{'begins_at': '2020-02-14T14:50:00Z', 'open_price': '0.200000', 'close_price': '0.200000', 'high_price': '0.230000', 'low_price': '0.180000', 'volume': 0, 'session': 'reg', 'interpolated': False}\n",
      "{'begins_at': '2020-02-14T15:00:00Z', 'open_price': '0.200000', 'close_price': '0.230000', 'high_price': '0.230000', 'low_price': '0.180000', 'volume': 0, 'session': 'reg', 'interpolated': False}\n",
      "{'begins_at': '2020-02-14T15:10:00Z', 'open_price': '0.230000', 'close_price': '0.230000', 'high_price': '0.230000', 'low_price': '0.230000', 'volume': 0, 'session': 'reg', 'interpolated': False}\n",
      "{'begins_at': '2020-02-14T15:20:00Z', 'open_price': '0.230000', 'close_price': '0.230000', 'high_price': '0.230000', 'low_price': '0.230000', 'volume': 0, 'session': 'reg', 'interpolated': False}\n",
      "{'begins_at': '2020-02-14T15:30:00Z', 'open_price': '0.230000', 'close_price': '0.200000', 'high_price': '0.230000', 'low_price': '0.200000', 'volume': 0, 'session': 'reg', 'interpolated': False}\n",
      "{'begins_at': '2020-02-14T15:40:00Z', 'open_price': '0.200000', 'close_price': '0.200000', 'high_price': '0.230000', 'low_price': '0.180000', 'volume': 0, 'session': 'reg', 'interpolated': False}\n",
      "{'begins_at': '2020-02-14T15:50:00Z', 'open_price': '0.200000', 'close_price': '0.230000', 'high_price': '0.230000', 'low_price': '0.200000', 'volume': 0, 'session': 'reg', 'interpolated': False}\n",
      "{'begins_at': '2020-02-14T16:00:00Z', 'open_price': '0.230000', 'close_price': '0.230000', 'high_price': '0.230000', 'low_price': '0.230000', 'volume': 0, 'session': 'reg', 'interpolated': False}\n",
      "{'begins_at': '2020-02-14T16:10:00Z', 'open_price': '0.230000', 'close_price': '0.200000', 'high_price': '0.230000', 'low_price': '0.200000', 'volume': 0, 'session': 'reg', 'interpolated': False}\n",
      "{'begins_at': '2020-02-14T16:20:00Z', 'open_price': '0.200000', 'close_price': '0.200000', 'high_price': '0.200000', 'low_price': '0.200000', 'volume': 0, 'session': 'reg', 'interpolated': False}\n",
      "{'begins_at': '2020-02-14T16:30:00Z', 'open_price': '0.200000', 'close_price': '0.200000', 'high_price': '0.230000', 'low_price': '0.200000', 'volume': 0, 'session': 'reg', 'interpolated': False}\n",
      "{'begins_at': '2020-02-14T16:40:00Z', 'open_price': '0.200000', 'close_price': '0.200000', 'high_price': '0.200000', 'low_price': '0.200000', 'volume': 0, 'session': 'reg', 'interpolated': False}\n",
      "{'begins_at': '2020-02-14T16:50:00Z', 'open_price': '0.200000', 'close_price': '0.180000', 'high_price': '0.200000', 'low_price': '0.180000', 'volume': 0, 'session': 'reg', 'interpolated': False}\n",
      "{'begins_at': '2020-02-14T17:00:00Z', 'open_price': '0.180000', 'close_price': '0.180000', 'high_price': '0.180000', 'low_price': '0.180000', 'volume': 0, 'session': 'reg', 'interpolated': False}\n",
      "{'begins_at': '2020-02-14T17:10:00Z', 'open_price': '0.180000', 'close_price': '0.180000', 'high_price': '0.180000', 'low_price': '0.180000', 'volume': 0, 'session': 'reg', 'interpolated': False}\n",
      "{'begins_at': '2020-02-14T17:20:00Z', 'open_price': '0.180000', 'close_price': '0.180000', 'high_price': '0.180000', 'low_price': '0.180000', 'volume': 0, 'session': 'reg', 'interpolated': False}\n",
      "{'begins_at': '2020-02-14T17:30:00Z', 'open_price': '0.180000', 'close_price': '0.180000', 'high_price': '0.180000', 'low_price': '0.180000', 'volume': 0, 'session': 'reg', 'interpolated': False}\n",
      "{'begins_at': '2020-02-14T17:40:00Z', 'open_price': '0.180000', 'close_price': '0.180000', 'high_price': '0.180000', 'low_price': '0.180000', 'volume': 0, 'session': 'reg', 'interpolated': False}\n",
      "{'begins_at': '2020-02-14T17:50:00Z', 'open_price': '0.180000', 'close_price': '0.180000', 'high_price': '0.180000', 'low_price': '0.180000', 'volume': 0, 'session': 'reg', 'interpolated': True}\n",
      "{'begins_at': '2020-02-14T18:00:00Z', 'open_price': '0.180000', 'close_price': '0.180000', 'high_price': '0.180000', 'low_price': '0.180000', 'volume': 0, 'session': 'reg', 'interpolated': False}\n",
      "{'begins_at': '2020-02-14T18:10:00Z', 'open_price': '0.180000', 'close_price': '0.180000', 'high_price': '0.180000', 'low_price': '0.180000', 'volume': 0, 'session': 'reg', 'interpolated': False}\n",
      "{'begins_at': '2020-02-14T18:20:00Z', 'open_price': '0.180000', 'close_price': '0.180000', 'high_price': '0.180000', 'low_price': '0.180000', 'volume': 0, 'session': 'reg', 'interpolated': False}\n",
      "{'begins_at': '2020-02-14T18:30:00Z', 'open_price': '0.180000', 'close_price': '0.180000', 'high_price': '0.180000', 'low_price': '0.180000', 'volume': 0, 'session': 'reg', 'interpolated': False}\n",
      "{'begins_at': '2020-02-14T18:40:00Z', 'open_price': '0.180000', 'close_price': '0.180000', 'high_price': '0.180000', 'low_price': '0.180000', 'volume': 0, 'session': 'reg', 'interpolated': False}\n",
      "{'begins_at': '2020-02-14T18:50:00Z', 'open_price': '0.180000', 'close_price': '0.130000', 'high_price': '0.180000', 'low_price': '0.130000', 'volume': 0, 'session': 'reg', 'interpolated': False}\n",
      "{'begins_at': '2020-02-14T19:00:00Z', 'open_price': '0.130000', 'close_price': '0.130000', 'high_price': '0.130000', 'low_price': '0.130000', 'volume': 0, 'session': 'reg', 'interpolated': False}\n",
      "{'begins_at': '2020-02-14T19:10:00Z', 'open_price': '0.130000', 'close_price': '0.130000', 'high_price': '0.130000', 'low_price': '0.130000', 'volume': 0, 'session': 'reg', 'interpolated': False}\n",
      "{'begins_at': '2020-02-14T19:20:00Z', 'open_price': '0.130000', 'close_price': '0.130000', 'high_price': '0.130000', 'low_price': '0.130000', 'volume': 0, 'session': 'reg', 'interpolated': False}\n",
      "{'begins_at': '2020-02-14T19:30:00Z', 'open_price': '0.130000', 'close_price': '0.130000', 'high_price': '0.130000', 'low_price': '0.130000', 'volume': 0, 'session': 'reg', 'interpolated': False}\n",
      "{'begins_at': '2020-02-14T19:40:00Z', 'open_price': '0.130000', 'close_price': '0.130000', 'high_price': '0.130000', 'low_price': '0.130000', 'volume': 0, 'session': 'reg', 'interpolated': False}\n",
      "{'begins_at': '2020-02-14T19:50:00Z', 'open_price': '0.130000', 'close_price': '0.130000', 'high_price': '0.130000', 'low_price': '0.130000', 'volume': 0, 'session': 'reg', 'interpolated': False}\n",
      "{'begins_at': '2020-02-14T20:00:00Z', 'open_price': '0.130000', 'close_price': '0.130000', 'high_price': '0.130000', 'low_price': '0.130000', 'volume': 0, 'session': 'reg', 'interpolated': False}\n",
      "{'begins_at': '2020-02-14T20:10:00Z', 'open_price': '0.130000', 'close_price': '0.130000', 'high_price': '0.130000', 'low_price': '0.130000', 'volume': 0, 'session': 'reg', 'interpolated': False}\n",
      "{'begins_at': '2020-02-14T20:20:00Z', 'open_price': '0.130000', 'close_price': '0.130000', 'high_price': '0.130000', 'low_price': '0.130000', 'volume': 0, 'session': 'reg', 'interpolated': False}\n",
      "{'begins_at': '2020-02-14T20:30:00Z', 'open_price': '0.130000', 'close_price': '0.130000', 'high_price': '0.130000', 'low_price': '0.130000', 'volume': 0, 'session': 'reg', 'interpolated': False}\n",
      "{'begins_at': '2020-02-14T20:40:00Z', 'open_price': '0.130000', 'close_price': '0.180000', 'high_price': '0.180000', 'low_price': '0.130000', 'volume': 0, 'session': 'reg', 'interpolated': False}\n",
      "{'begins_at': '2020-02-14T20:50:00Z', 'open_price': '0.180000', 'close_price': '0.180000', 'high_price': '0.180000', 'low_price': '0.180000', 'volume': 0, 'session': 'reg', 'interpolated': False}\n",
      "{'begins_at': '2020-02-18T14:30:00Z', 'open_price': '0.100000', 'close_price': '0.100000', 'high_price': '0.100000', 'low_price': '0.100000', 'volume': 0, 'session': 'reg', 'interpolated': False}\n",
      "{'begins_at': '2020-02-18T14:40:00Z', 'open_price': '0.100000', 'close_price': '0.080000', 'high_price': '0.130000', 'low_price': '0.080000', 'volume': 0, 'session': 'reg', 'interpolated': False}\n",
      "{'begins_at': '2020-02-18T14:50:00Z', 'open_price': '0.080000', 'close_price': '0.080000', 'high_price': '0.080000', 'low_price': '0.080000', 'volume': 0, 'session': 'reg', 'interpolated': False}\n",
      "{'begins_at': '2020-02-18T15:00:00Z', 'open_price': '0.080000', 'close_price': '0.080000', 'high_price': '0.080000', 'low_price': '0.080000', 'volume': 0, 'session': 'reg', 'interpolated': False}\n",
      "{'begins_at': '2020-02-18T15:10:00Z', 'open_price': '0.080000', 'close_price': '0.080000', 'high_price': '0.080000', 'low_price': '0.080000', 'volume': 0, 'session': 'reg', 'interpolated': False}\n",
      "{'begins_at': '2020-02-18T15:20:00Z', 'open_price': '0.080000', 'close_price': '0.080000', 'high_price': '0.080000', 'low_price': '0.080000', 'volume': 0, 'session': 'reg', 'interpolated': False}\n",
      "{'begins_at': '2020-02-18T15:30:00Z', 'open_price': '0.080000', 'close_price': '0.080000', 'high_price': '0.080000', 'low_price': '0.080000', 'volume': 0, 'session': 'reg', 'interpolated': False}\n",
      "{'begins_at': '2020-02-18T15:40:00Z', 'open_price': '0.080000', 'close_price': '0.080000', 'high_price': '0.080000', 'low_price': '0.080000', 'volume': 0, 'session': 'reg', 'interpolated': False}\n",
      "{'begins_at': '2020-02-18T15:50:00Z', 'open_price': '0.080000', 'close_price': '0.080000', 'high_price': '0.080000', 'low_price': '0.080000', 'volume': 0, 'session': 'reg', 'interpolated': False}\n",
      "{'begins_at': '2020-02-18T16:00:00Z', 'open_price': '0.080000', 'close_price': '0.080000', 'high_price': '0.080000', 'low_price': '0.080000', 'volume': 0, 'session': 'reg', 'interpolated': False}\n",
      "{'begins_at': '2020-02-18T16:10:00Z', 'open_price': '0.080000', 'close_price': '0.080000', 'high_price': '0.080000', 'low_price': '0.080000', 'volume': 0, 'session': 'reg', 'interpolated': False}\n",
      "{'begins_at': '2020-02-18T16:20:00Z', 'open_price': '0.080000', 'close_price': '0.080000', 'high_price': '0.080000', 'low_price': '0.080000', 'volume': 0, 'session': 'reg', 'interpolated': False}\n",
      "{'begins_at': '2020-02-18T16:30:00Z', 'open_price': '0.080000', 'close_price': '0.080000', 'high_price': '0.080000', 'low_price': '0.080000', 'volume': 0, 'session': 'reg', 'interpolated': False}\n",
      "{'begins_at': '2020-02-18T16:40:00Z', 'open_price': '0.080000', 'close_price': '0.130000', 'high_price': '0.130000', 'low_price': '0.080000', 'volume': 0, 'session': 'reg', 'interpolated': False}\n",
      "{'begins_at': '2020-02-18T16:50:00Z', 'open_price': '0.130000', 'close_price': '0.130000', 'high_price': '0.130000', 'low_price': '0.130000', 'volume': 0, 'session': 'reg', 'interpolated': False}\n",
      "{'begins_at': '2020-02-18T17:00:00Z', 'open_price': '0.130000', 'close_price': '0.130000', 'high_price': '0.130000', 'low_price': '0.130000', 'volume': 0, 'session': 'reg', 'interpolated': False}\n",
      "{'begins_at': '2020-02-18T17:10:00Z', 'open_price': '0.130000', 'close_price': '0.130000', 'high_price': '0.130000', 'low_price': '0.130000', 'volume': 0, 'session': 'reg', 'interpolated': False}\n",
      "{'begins_at': '2020-02-18T17:20:00Z', 'open_price': '0.130000', 'close_price': '0.130000', 'high_price': '0.130000', 'low_price': '0.130000', 'volume': 0, 'session': 'reg', 'interpolated': False}\n",
      "{'begins_at': '2020-02-18T17:30:00Z', 'open_price': '0.100000', 'close_price': '0.080000', 'high_price': '0.130000', 'low_price': '0.080000', 'volume': 0, 'session': 'reg', 'interpolated': False}\n",
      "{'begins_at': '2020-02-18T17:40:00Z', 'open_price': '0.080000', 'close_price': '0.080000', 'high_price': '0.080000', 'low_price': '0.080000', 'volume': 0, 'session': 'reg', 'interpolated': False}\n",
      "{'begins_at': '2020-02-18T17:50:00Z', 'open_price': '0.080000', 'close_price': '0.080000', 'high_price': '0.080000', 'low_price': '0.080000', 'volume': 0, 'session': 'reg', 'interpolated': False}\n",
      "{'begins_at': '2020-02-18T18:00:00Z', 'open_price': '0.080000', 'close_price': '0.080000', 'high_price': '0.080000', 'low_price': '0.080000', 'volume': 0, 'session': 'reg', 'interpolated': False}\n",
      "{'begins_at': '2020-02-18T18:10:00Z', 'open_price': '0.080000', 'close_price': '0.080000', 'high_price': '0.080000', 'low_price': '0.080000', 'volume': 0, 'session': 'reg', 'interpolated': False}\n",
      "{'begins_at': '2020-02-18T18:20:00Z', 'open_price': '0.080000', 'close_price': '0.080000', 'high_price': '0.080000', 'low_price': '0.080000', 'volume': 0, 'session': 'reg', 'interpolated': False}\n",
      "{'begins_at': '2020-02-18T18:30:00Z', 'open_price': '0.080000', 'close_price': '0.080000', 'high_price': '0.080000', 'low_price': '0.080000', 'volume': 0, 'session': 'reg', 'interpolated': False}\n",
      "{'begins_at': '2020-02-18T18:40:00Z', 'open_price': '0.080000', 'close_price': '0.080000', 'high_price': '0.080000', 'low_price': '0.080000', 'volume': 0, 'session': 'reg', 'interpolated': False}\n",
      "{'begins_at': '2020-02-18T18:50:00Z', 'open_price': '0.080000', 'close_price': '0.080000', 'high_price': '0.080000', 'low_price': '0.080000', 'volume': 0, 'session': 'reg', 'interpolated': False}\n",
      "{'begins_at': '2020-02-18T19:00:00Z', 'open_price': '0.080000', 'close_price': '0.080000', 'high_price': '0.080000', 'low_price': '0.080000', 'volume': 0, 'session': 'reg', 'interpolated': False}\n",
      "{'begins_at': '2020-02-18T19:10:00Z', 'open_price': '0.080000', 'close_price': '0.080000', 'high_price': '0.080000', 'low_price': '0.080000', 'volume': 0, 'session': 'reg', 'interpolated': False}\n",
      "{'begins_at': '2020-02-18T19:20:00Z', 'open_price': '0.080000', 'close_price': '0.080000', 'high_price': '0.080000', 'low_price': '0.080000', 'volume': 0, 'session': 'reg', 'interpolated': False}\n",
      "{'begins_at': '2020-02-18T19:30:00Z', 'open_price': '0.080000', 'close_price': '0.080000', 'high_price': '0.080000', 'low_price': '0.080000', 'volume': 0, 'session': 'reg', 'interpolated': False}\n",
      "{'begins_at': '2020-02-18T19:40:00Z', 'open_price': '0.080000', 'close_price': '0.080000', 'high_price': '0.080000', 'low_price': '0.080000', 'volume': 0, 'session': 'reg', 'interpolated': False}\n",
      "{'begins_at': '2020-02-18T19:50:00Z', 'open_price': '0.080000', 'close_price': '0.080000', 'high_price': '0.080000', 'low_price': '0.080000', 'volume': 0, 'session': 'reg', 'interpolated': False}\n",
      "{'begins_at': '2020-02-18T20:00:00Z', 'open_price': '0.080000', 'close_price': '0.080000', 'high_price': '0.080000', 'low_price': '0.080000', 'volume': 0, 'session': 'reg', 'interpolated': False}\n",
      "{'begins_at': '2020-02-18T20:10:00Z', 'open_price': '0.080000', 'close_price': '0.080000', 'high_price': '0.080000', 'low_price': '0.080000', 'volume': 0, 'session': 'reg', 'interpolated': False}\n",
      "{'begins_at': '2020-02-18T20:20:00Z', 'open_price': '0.080000', 'close_price': '0.080000', 'high_price': '0.080000', 'low_price': '0.080000', 'volume': 0, 'session': 'reg', 'interpolated': False}\n",
      "{'begins_at': '2020-02-18T20:30:00Z', 'open_price': '0.080000', 'close_price': '0.080000', 'high_price': '0.080000', 'low_price': '0.080000', 'volume': 0, 'session': 'reg', 'interpolated': False}\n",
      "{'begins_at': '2020-02-18T20:40:00Z', 'open_price': '0.080000', 'close_price': '0.080000', 'high_price': '0.080000', 'low_price': '0.080000', 'volume': 0, 'session': 'reg', 'interpolated': False}\n",
      "{'begins_at': '2020-02-18T20:50:00Z', 'open_price': '0.080000', 'close_price': '0.080000', 'high_price': '0.080000', 'low_price': '0.080000', 'volume': 0, 'session': 'reg', 'interpolated': False}\n"
     ]
    },
    {
     "data": {
      "image/png": "[encoded data removed]",
      "text/plain": [
       "<Figure size 432x288 with 1 Axes>"
      ]
     },
     "metadata": {
      "needs_background": "light"
     },
     "output_type": "display_data"
    }
   ],
   "source": [
    "\n",
    "dates = []\n",
    "closingPrices = []\n",
    "openPrices = []\n",
    "\n",
    "for item in historicalData['data_points']:\n",
    "    print(item)\n",
    "    dates.append(item['begins_at'])\n",
    "    closingPrices.append(item['close_price'])\n",
    "    openPrices.append(item['open_price'])\n",
    "\n",
    "\n",
    "#!!! I made it so it only got the last 30 days but you could delete these lines to get full year.\n",
    "dates = dates[-30:]\n",
    "closingPrices = closingPrices[-30:]\n",
    "openPrices = openPrices[-30:]\n",
    "#\n",
    "\n",
    "# change the dates into a format that matplotlib can recognize.\n",
    "x = [dt.datetime.strptime(d,'%Y-%m-%dT%H:%M:%SZ') for d in dates]\n",
    "\n",
    "# plots the data.\n",
    "plt.plot(x, closingPrices, 'ro')\n",
    "plt.plot(x, openPrices, 'bo')\n",
    "plt.title(\"Option price for \"+r.get_name_by_symbol(symbol)+\" over time\")\n",
    "plt.xlabel(\"Dates\")\n",
    "plt.ylabel(\"Price\")\n",
    "plt.show()"
   ]
  },
  {
   "cell_type": "code",
   "execution_count": 20,
   "metadata": {},
   "outputs": [
    {
     "data": {
      "text/plain": [
       "<Figure size 1332x756 with 0 Axes>"
      ]
     },
     "metadata": {},
     "output_type": "display_data"
    }
   ],
   "source": [
    "fig = matplotlib.pyplot.gcf()\n",
    "fig.set_size_inches(18.5, 10.5)\n",
    "fig.savefig('test2png.png', dpi=100)\n"
   ]
  },
  {
   "cell_type": "code",
   "execution_count": 22,
   "metadata": {},
   "outputs": [
    {
     "data": {
      "text/plain": [
       "[datetime.datetime(2020, 2, 18, 16, 0),\n",
       " datetime.datetime(2020, 2, 18, 16, 10),\n",
       " datetime.datetime(2020, 2, 18, 16, 20),\n",
       " datetime.datetime(2020, 2, 18, 16, 30),\n",
       " datetime.datetime(2020, 2, 18, 16, 40),\n",
       " datetime.datetime(2020, 2, 18, 16, 50),\n",
       " datetime.datetime(2020, 2, 18, 17, 0),\n",
       " datetime.datetime(2020, 2, 18, 17, 10),\n",
       " datetime.datetime(2020, 2, 18, 17, 20),\n",
       " datetime.datetime(2020, 2, 18, 17, 30),\n",
       " datetime.datetime(2020, 2, 18, 17, 40),\n",
       " datetime.datetime(2020, 2, 18, 17, 50),\n",
       " datetime.datetime(2020, 2, 18, 18, 0),\n",
       " datetime.datetime(2020, 2, 18, 18, 10),\n",
       " datetime.datetime(2020, 2, 18, 18, 20),\n",
       " datetime.datetime(2020, 2, 18, 18, 30),\n",
       " datetime.datetime(2020, 2, 18, 18, 40),\n",
       " datetime.datetime(2020, 2, 18, 18, 50),\n",
       " datetime.datetime(2020, 2, 18, 19, 0),\n",
       " datetime.datetime(2020, 2, 18, 19, 10),\n",
       " datetime.datetime(2020, 2, 18, 19, 20),\n",
       " datetime.datetime(2020, 2, 18, 19, 30),\n",
       " datetime.datetime(2020, 2, 18, 19, 40),\n",
       " datetime.datetime(2020, 2, 18, 19, 50),\n",
       " datetime.datetime(2020, 2, 18, 20, 0),\n",
       " datetime.datetime(2020, 2, 18, 20, 10),\n",
       " datetime.datetime(2020, 2, 18, 20, 20),\n",
       " datetime.datetime(2020, 2, 18, 20, 30),\n",
       " datetime.datetime(2020, 2, 18, 20, 40),\n",
       " datetime.datetime(2020, 2, 18, 20, 50)]"
      ]
     },
     "execution_count": 22,
     "metadata": {},
     "output_type": "execute_result"
    }
   ],
   "source": [
    "x"
   ]
  },
  {
   "cell_type": "code",
   "execution_count": 21,
   "metadata": {},
   "outputs": [
    {
     "ename": "ModuleNotFoundError",
     "evalue": "No module named 'plotly'",
     "output_type": "error",
     "traceback": [
      "\u001b[0;31m---------------------------------------------------------------------------\u001b[0m",
      "\u001b[0;31mModuleNotFoundError\u001b[0m                       Traceback (most recent call last)",
      "\u001b[0;32m<ipython-input-21-d11061aee7df>\u001b[0m in \u001b[0;36m<module>\u001b[0;34m\u001b[0m\n\u001b[0;32m----> 1\u001b[0;31m \u001b[0;32mimport\u001b[0m \u001b[0mplotly\u001b[0m\u001b[0;34m.\u001b[0m\u001b[0mexpress\u001b[0m \u001b[0;32mas\u001b[0m \u001b[0mpx\u001b[0m\u001b[0;34m\u001b[0m\u001b[0;34m\u001b[0m\u001b[0m\n\u001b[0m\u001b[1;32m      2\u001b[0m \u001b[0;34m\u001b[0m\u001b[0m\n\u001b[1;32m      3\u001b[0m \u001b[0mdf\u001b[0m \u001b[0;34m=\u001b[0m \u001b[0mpx\u001b[0m\u001b[0;34m.\u001b[0m\u001b[0mdata\u001b[0m\u001b[0;34m.\u001b[0m\u001b[0mtips\u001b[0m\u001b[0;34m(\u001b[0m\u001b[0;34m)\u001b[0m\u001b[0;34m\u001b[0m\u001b[0;34m\u001b[0m\u001b[0m\n\u001b[1;32m      4\u001b[0m fig = px.scatter(df, x=\"total_bill\", y=\"tip\", facet_col=\"sex\",\n\u001b[1;32m      5\u001b[0m                  width=800, height=400)\n",
      "\u001b[0;31mModuleNotFoundError\u001b[0m: No module named 'plotly'"
     ]
    }
   ],
   "source": [
    "import plotly.express as px\n",
    "\n",
    "df = px.data.tips()\n",
    "fig = px.scatter(df, x=\"total_bill\", y=\"tip\", facet_col=\"sex\",\n",
    "                 width=800, height=400)\n",
    "\n",
    "fig.update_layout(\n",
    "    margin=dict(l=20, r=20, t=20, b=20),\n",
    "    paper_bgcolor=\"LightSteelBlue\",\n",
    ")\n",
    "\n",
    "fig.show()"
   ]
  },
  {
   "cell_type": "code",
   "execution_count": null,
   "metadata": {},
   "outputs": [],
   "source": []
  }
 ],
 "metadata": {
  "kernelspec": {
   "display_name": "Python 3",
   "language": "python",
   "name": "python3"
  },
  "language_info": {
   "codemirror_mode": {
    "name": "ipython",
    "version": 3
   },
   "file_extension": ".py",
   "mimetype": "text/x-python",
   "name": "python",
   "nbconvert_exporter": "python",
   "pygments_lexer": "ipython3",
   "version": "3.7.3"
  }
 },
 "nbformat": 4,
 "nbformat_minor": 2
}
