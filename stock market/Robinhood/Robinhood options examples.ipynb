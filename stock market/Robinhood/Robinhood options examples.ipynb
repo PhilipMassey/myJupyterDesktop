{
 "cells": [
  {
   "cell_type": "code",
   "execution_count": 4,
   "metadata": {},
   "outputs": [],
   "source": [
    "import os\n",
    "import robin_stocks as r \n",
    "import pandas as pd\n",
    "import configparser\n",
    "config = configparser.RawConfigParser()\n",
    "configFilePath = '/Users/philipmassey/.tokens/robinhood.cfg'\n",
    "config.read(configFilePath)\n",
    "rhuser = config.get('login', 'user')\n",
    "rhpwd = config.get('login', 'pwd')\n",
    "login = r.login(rhuser,rhpwd)\n"
   ]
  },
  {
   "cell_type": "code",
   "execution_count": 2,
   "metadata": {},
   "outputs": [
    {
     "name": "stdout",
     "output_type": "stream",
     "text": [
      "54.800000\n",
      "2020-05-13T19:47:59Z\n"
     ]
    }
   ],
   "source": [
    "symbol='SDGR'\n",
    "print(r.get_quotes(symbol)[0]['last_trade_price'])\n",
    "print(r.get_quotes(symbol)[0]['updated_at'])"
   ]
  },
  {
   "cell_type": "markdown",
   "metadata": {},
   "source": [
    "### get_option_market_data"
   ]
  },
  {
   "cell_type": "code",
   "execution_count": 16,
   "metadata": {},
   "outputs": [
    {
     "data": {
      "text/plain": [
       "['2020-05-15', '2020-06-19', '2020-09-18', '2020-12-18']"
      ]
     },
     "execution_count": 16,
     "metadata": {},
     "output_type": "execute_result"
    }
   ],
   "source": [
    "expiration_dates = r.get_chains(symbol)['expiration_dates']\n",
    "expiration_dates"
   ]
  },
  {
   "cell_type": "code",
   "execution_count": 33,
   "metadata": {},
   "outputs": [
    {
     "data": {
      "text/plain": [
       "[(0, '30.0000'),\n",
       " (1, '75.0000'),\n",
       " (2, '80.0000'),\n",
       " (3, '35.0000'),\n",
       " (4, '55.0000'),\n",
       " (5, '50.0000'),\n",
       " (6, '60.0000'),\n",
       " (7, '45.0000'),\n",
       " (8, '40.0000'),\n",
       " (9, '65.0000'),\n",
       " (10, '70.0000')]"
      ]
     },
     "execution_count": 33,
     "metadata": {},
     "output_type": "execute_result"
    }
   ],
   "source": [
    "optionData = r.find_options_for_list_of_stocks_by_expiration_date([symbol], expirationDate=expiration_dates[1],optionType='call') \n",
    "dfoptions = pd.DataFrame((filter(lambda x:x['volume']>0,optionData)))\n",
    "strike_prices = list(set(dfoptions.strike_price))\n",
    "[i for i in enumerate(strike_prices)] "
   ]
  },
  {
   "cell_type": "code",
   "execution_count": 34,
   "metadata": {},
   "outputs": [
    {
     "data": {
      "text/plain": [
       "{'adjusted_mark_price': '2.280000',\n",
       " 'ask_price': '2.500000',\n",
       " 'ask_size': 2,\n",
       " 'bid_price': '2.050000',\n",
       " 'bid_size': 17,\n",
       " 'break_even_price': '57.280000',\n",
       " 'high_price': '7.000000',\n",
       " 'instrument': 'https://api.robinhood.com/options/instruments/95a1404a-da13-4182-b6de-8bbecf71b5f9/',\n",
       " 'last_trade_price': '2.100000',\n",
       " 'last_trade_size': 10,\n",
       " 'low_price': '0.200000',\n",
       " 'mark_price': '2.275000',\n",
       " 'open_interest': 788,\n",
       " 'previous_close_date': '2020-05-12',\n",
       " 'previous_close_price': '5.400000',\n",
       " 'volume': 437,\n",
       " 'chance_of_profit_long': '0.346148',\n",
       " 'chance_of_profit_short': '0.653852',\n",
       " 'delta': '0.553391',\n",
       " 'gamma': '0.076716',\n",
       " 'implied_volatility': '1.255569',\n",
       " 'rho': '0.001556',\n",
       " 'theta': '-0.509504',\n",
       " 'vega': '0.016228',\n",
       " 'high_fill_rate_buy_price': '2.430000',\n",
       " 'high_fill_rate_sell_price': '2.120000',\n",
       " 'low_fill_rate_buy_price': '2.260000',\n",
       " 'low_fill_rate_sell_price': '2.300000'}"
      ]
     },
     "execution_count": 34,
     "metadata": {},
     "output_type": "execute_result"
    }
   ],
   "source": [
    "optionType='call'\n",
    "#r.get_option_instrument_data(symbol, expirationDate='2020-02-21', strike, optionType, info=None)\n",
    "r.get_option_market_data(symbol, expiration_dates[0], strike_prices[4], optionType)\n",
    "#r.get_option_market_data(symbol, expirationDate, 8.00, 'call')"
   ]
  },
  {
   "cell_type": "markdown",
   "metadata": {},
   "source": [
    "### find_options_for_list_of_stocks_by_expiration_date"
   ]
  },
  {
   "cell_type": "code",
   "execution_count": 6,
   "metadata": {},
   "outputs": [
    {
     "data": {
      "text/html": [
       "<div>\n",
       "<style scoped>\n",
       "    .dataframe tbody tr th:only-of-type {\n",
       "        vertical-align: middle;\n",
       "    }\n",
       "\n",
       "    .dataframe tbody tr th {\n",
       "        vertical-align: top;\n",
       "    }\n",
       "\n",
       "    .dataframe thead th {\n",
       "        text-align: right;\n",
       "    }\n",
       "</style>\n",
       "<table border=\"1\" class=\"dataframe\">\n",
       "  <thead>\n",
       "    <tr style=\"text-align: right;\">\n",
       "      <th></th>\n",
       "      <th>strike_price</th>\n",
       "      <th>break_even_price</th>\n",
       "      <th>volume</th>\n",
       "      <th>last_trade_price</th>\n",
       "      <th>previous_close_price</th>\n",
       "      <th>last_trade_size</th>\n",
       "      <th>open_interest</th>\n",
       "    </tr>\n",
       "  </thead>\n",
       "  <tbody>\n",
       "    <tr>\n",
       "      <th>8</th>\n",
       "      <td>30.0000</td>\n",
       "      <td>55.100000</td>\n",
       "      <td>9</td>\n",
       "      <td>20.000000</td>\n",
       "      <td>28.900000</td>\n",
       "      <td>9</td>\n",
       "      <td>89</td>\n",
       "    </tr>\n",
       "    <tr>\n",
       "      <th>6</th>\n",
       "      <td>40.0000</td>\n",
       "      <td>55.200000</td>\n",
       "      <td>30</td>\n",
       "      <td>13.840000</td>\n",
       "      <td>19.250000</td>\n",
       "      <td>3</td>\n",
       "      <td>214</td>\n",
       "    </tr>\n",
       "    <tr>\n",
       "      <th>7</th>\n",
       "      <td>45.0000</td>\n",
       "      <td>55.300000</td>\n",
       "      <td>49</td>\n",
       "      <td>9.300000</td>\n",
       "      <td>14.000000</td>\n",
       "      <td>3</td>\n",
       "      <td>553</td>\n",
       "    </tr>\n",
       "    <tr>\n",
       "      <th>5</th>\n",
       "      <td>50.0000</td>\n",
       "      <td>55.450000</td>\n",
       "      <td>163</td>\n",
       "      <td>5.500000</td>\n",
       "      <td>9.150000</td>\n",
       "      <td>10</td>\n",
       "      <td>1041</td>\n",
       "    </tr>\n",
       "    <tr>\n",
       "      <th>4</th>\n",
       "      <td>55.0000</td>\n",
       "      <td>57.150000</td>\n",
       "      <td>424</td>\n",
       "      <td>2.000000</td>\n",
       "      <td>5.400000</td>\n",
       "      <td>3</td>\n",
       "      <td>788</td>\n",
       "    </tr>\n",
       "    <tr>\n",
       "      <th>3</th>\n",
       "      <td>60.0000</td>\n",
       "      <td>60.530000</td>\n",
       "      <td>1709</td>\n",
       "      <td>0.490000</td>\n",
       "      <td>2.700000</td>\n",
       "      <td>1</td>\n",
       "      <td>1807</td>\n",
       "    </tr>\n",
       "    <tr>\n",
       "      <th>2</th>\n",
       "      <td>65.0000</td>\n",
       "      <td>65.130000</td>\n",
       "      <td>828</td>\n",
       "      <td>0.150000</td>\n",
       "      <td>1.250000</td>\n",
       "      <td>10</td>\n",
       "      <td>2428</td>\n",
       "    </tr>\n",
       "    <tr>\n",
       "      <th>0</th>\n",
       "      <td>70.0000</td>\n",
       "      <td>70.010000</td>\n",
       "      <td>121</td>\n",
       "      <td>0.200000</td>\n",
       "      <td>0.530000</td>\n",
       "      <td>8</td>\n",
       "      <td>545</td>\n",
       "    </tr>\n",
       "    <tr>\n",
       "      <th>1</th>\n",
       "      <td>75.0000</td>\n",
       "      <td>75.010000</td>\n",
       "      <td>16</td>\n",
       "      <td>0.250000</td>\n",
       "      <td>0.180000</td>\n",
       "      <td>1</td>\n",
       "      <td>170</td>\n",
       "    </tr>\n",
       "  </tbody>\n",
       "</table>\n",
       "</div>"
      ],
      "text/plain": [
       "  strike_price break_even_price  volume last_trade_price previous_close_price  \\\n",
       "8      30.0000        55.100000       9        20.000000            28.900000   \n",
       "6      40.0000        55.200000      30        13.840000            19.250000   \n",
       "7      45.0000        55.300000      49         9.300000            14.000000   \n",
       "5      50.0000        55.450000     163         5.500000             9.150000   \n",
       "4      55.0000        57.150000     424         2.000000             5.400000   \n",
       "3      60.0000        60.530000    1709         0.490000             2.700000   \n",
       "2      65.0000        65.130000     828         0.150000             1.250000   \n",
       "0      70.0000        70.010000     121         0.200000             0.530000   \n",
       "1      75.0000        75.010000      16         0.250000             0.180000   \n",
       "\n",
       "   last_trade_size  open_interest  \n",
       "8                9             89  \n",
       "6                3            214  \n",
       "7                3            553  \n",
       "5               10           1041  \n",
       "4                3            788  \n",
       "3                1           1807  \n",
       "2               10           2428  \n",
       "0                8            545  \n",
       "1                1            170  "
      ]
     },
     "execution_count": 6,
     "metadata": {},
     "output_type": "execute_result"
    }
   ],
   "source": [
    "expirationDate='2020-05-15'\n",
    "optionData = r.find_options_for_list_of_stocks_by_expiration_date([symbol], expirationDate=expirationDate,optionType='call') \n",
    "dfoptions = pd.DataFrame((filter(lambda x:x['volume']>0,optionData)))\n",
    "strike_prices = set(dfoptions.strike_price)\n",
    "dfoptions[['strike_price','break_even_price','volume','last_trade_price', 'previous_close_price', 'last_trade_size','open_interest']].sort_values(by='strike_price')"
   ]
  },
  {
   "cell_type": "code",
   "execution_count": 13,
   "metadata": {},
   "outputs": [
    {
     "name": "stdout",
     "output_type": "stream",
     "text": [
      "Found Additional pages.\n",
      "Loading page 2 ...\n",
      "Loading page 3 ...\n",
      "Loading page 4 ...\n"
     ]
    },
    {
     "data": {
      "text/html": [
       "<div>\n",
       "<style scoped>\n",
       "    .dataframe tbody tr th:only-of-type {\n",
       "        vertical-align: middle;\n",
       "    }\n",
       "\n",
       "    .dataframe tbody tr th {\n",
       "        vertical-align: top;\n",
       "    }\n",
       "\n",
       "    .dataframe thead th {\n",
       "        text-align: right;\n",
       "    }\n",
       "</style>\n",
       "<table border=\"1\" class=\"dataframe\">\n",
       "  <thead>\n",
       "    <tr style=\"text-align: right;\">\n",
       "      <th></th>\n",
       "      <th>strike_price</th>\n",
       "      <th>expiration_date</th>\n",
       "      <th>type</th>\n",
       "    </tr>\n",
       "  </thead>\n",
       "  <tbody>\n",
       "    <tr>\n",
       "      <th>321</th>\n",
       "      <td>17.5000</td>\n",
       "      <td>2020-05-15</td>\n",
       "      <td>call</td>\n",
       "    </tr>\n",
       "    <tr>\n",
       "      <th>322</th>\n",
       "      <td>15.0000</td>\n",
       "      <td>2020-05-15</td>\n",
       "      <td>put</td>\n",
       "    </tr>\n",
       "    <tr>\n",
       "      <th>323</th>\n",
       "      <td>15.0000</td>\n",
       "      <td>2020-05-15</td>\n",
       "      <td>call</td>\n",
       "    </tr>\n",
       "    <tr>\n",
       "      <th>324</th>\n",
       "      <td>12.5000</td>\n",
       "      <td>2020-05-15</td>\n",
       "      <td>put</td>\n",
       "    </tr>\n",
       "    <tr>\n",
       "      <th>325</th>\n",
       "      <td>12.5000</td>\n",
       "      <td>2020-05-15</td>\n",
       "      <td>call</td>\n",
       "    </tr>\n",
       "  </tbody>\n",
       "</table>\n",
       "</div>"
      ],
      "text/plain": [
       "    strike_price expiration_date  type\n",
       "321      17.5000      2020-05-15  call\n",
       "322      15.0000      2020-05-15   put\n",
       "323      15.0000      2020-05-15  call\n",
       "324      12.5000      2020-05-15   put\n",
       "325      12.5000      2020-05-15  call"
      ]
     },
     "execution_count": 13,
     "metadata": {},
     "output_type": "execute_result"
    }
   ],
   "source": [
    "ticker='net'\n",
    "dfoption = pd.DataFrame( r.find_tradable_options_for_stock(ticker))\n",
    "dfoption[['strike_price','expiration_date','type']] .tail()"
   ]
  },
  {
   "cell_type": "code",
   "execution_count": 14,
   "metadata": {},
   "outputs": [
    {
     "name": "stdout",
     "output_type": "stream",
     "text": [
      "410 Client Error: Gone for url: https://api.robinhood.com/accounts/5QU67573/recent_day_trades/\n"
     ]
    },
    {
     "data": {
      "text/plain": [
       "[]"
      ]
     },
     "execution_count": 14,
     "metadata": {},
     "output_type": "execute_result"
    }
   ],
   "source": [
    "r.get_option_market_data(symbol,expiration_dates[0])"
   ]
  }
 ],
 "metadata": {
  "kernelspec": {
   "display_name": "Python 3",
   "language": "python",
   "name": "python3"
  },
  "language_info": {
   "codemirror_mode": {
    "name": "ipython",
    "version": 3
   },
   "file_extension": ".py",
   "mimetype": "text/x-python",
   "name": "python",
   "nbconvert_exporter": "python",
   "pygments_lexer": "ipython3",
   "version": "3.7.3"
  }
 },
 "nbformat": 4,
 "nbformat_minor": 2
}
