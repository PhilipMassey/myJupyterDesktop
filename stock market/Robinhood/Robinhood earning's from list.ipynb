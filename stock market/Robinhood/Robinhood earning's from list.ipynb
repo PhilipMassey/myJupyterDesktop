{
 "cells": [
  {
   "cell_type": "code",
   "execution_count": 1,
   "metadata": {},
   "outputs": [],
   "source": [
    "import os\n",
    "import robin_stocks as r \n",
    "login = r.login(os.getenv('RHUSER'), os.getenv('RNPWD'))\n"
   ]
  },
  {
   "cell_type": "code",
   "execution_count": 20,
   "metadata": {},
   "outputs": [
    {
     "data": {
      "text/plain": [
       "19"
      ]
     },
     "execution_count": 20,
     "metadata": {},
     "output_type": "execute_result"
    }
   ],
   "source": [
    "positions=['CRM','SAP','WDAY','PAYC','CSOD','EGHT','VG','TLND','CAMP','CTXS','RNG','TYL','MODN','PCTY','RST','MANH','ADBE','PANW','SAIL']\n",
    "len(positions)"
   ]
  },
  {
   "cell_type": "code",
   "execution_count": 21,
   "metadata": {},
   "outputs": [
    {
     "name": "stdout",
     "output_type": "stream",
     "text": [
      "CTXS \t 2020-01-22\n",
      "SAP \t 2020-01-28\n",
      "MANH \t 2020-02-04\n",
      "PAYC \t 2020-02-05\n",
      "RNG \t 2020-02-10\n",
      "TYL \t 2020-02-12\n",
      "TLND \t 2020-02-13\n",
      "VG \t 2020-02-18\n",
      "CSOD \t 2020-02-24\n",
      "CRM \t 2020-02-25\n",
      "WDAY \t 2020-02-27\n",
      "RST \t 2020-03-05\n",
      "CAMP \t 2020-04-30\n",
      "PCTY \t 2020-04-30\n",
      "MODN \t 2020-05-05\n",
      "EGHT \t 2020-05-14\n",
      "PANW \t 2020-05-27\n",
      "ADBE \t 2020-06-16\n"
     ]
    }
   ],
   "source": [
    "l = len(positions)\n",
    "earnings_2019 = []\n",
    "for p in range(l-1):\n",
    "    symbol = positions[p]\n",
    "    earnings = r.get_earnings(symbol=symbol)\n",
    "    if len(earnings) > 0:\n",
    "        date = list(filter(lambda e:e['year']==2019, earnings))[-1]['report']['date']\n",
    "        if date[0:4] == '2019':\n",
    "            date = list(filter(lambda e:e['year']==2020, earnings))[-1]['report']['date']\n",
    "    else:\n",
    "        date = ''\n",
    "    earnings_2019.append((symbol,date))\n",
    "\n",
    "s = sorted(earnings_2019,key=lambda x: x[1])\n",
    "for e in s:\n",
    "    print(e[0],'\\t',e[1])\n",
    " \n",
    "#print(*sorted(earnings_2019,key=lambda x: x[1])[1:-1], sep='\\n')\n",
    "        \n"
   ]
  },
  {
   "cell_type": "code",
   "execution_count": 9,
   "metadata": {},
   "outputs": [
    {
     "data": {
      "text/plain": [
       "'2019'"
      ]
     },
     "execution_count": 9,
     "metadata": {},
     "output_type": "execute_result"
    }
   ],
   "source": [
    "'2019-03-05'[0:4]"
   ]
  }
 ],
 "metadata": {
  "kernelspec": {
   "display_name": "Python 3",
   "language": "python",
   "name": "python3"
  },
  "language_info": {
   "codemirror_mode": {
    "name": "ipython",
    "version": 3
   },
   "file_extension": ".py",
   "mimetype": "text/x-python",
   "name": "python",
   "nbconvert_exporter": "python",
   "pygments_lexer": "ipython3",
   "version": "3.7.3"
  }
 },
 "nbformat": 4,
 "nbformat_minor": 2
}
