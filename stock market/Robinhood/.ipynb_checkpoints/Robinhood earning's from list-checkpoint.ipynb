{
 "cells": [
  {
   "cell_type": "code",
   "execution_count": 6,
   "metadata": {},
   "outputs": [
    {
     "name": "stdout",
     "output_type": "stream",
     "text": [
      "ERROR: There was an issue loading pickle file. Authentication may be expired - logging in normally.\n"
     ]
    }
   ],
   "source": [
    "import robin_stocks as r \n",
    "login = r.login('philip0massey','Rie1Hnd2*#')"
   ]
  },
  {
   "cell_type": "code",
   "execution_count": 10,
   "metadata": {},
   "outputs": [
    {
     "data": {
      "text/plain": [
       "6"
      ]
     },
     "execution_count": 10,
     "metadata": {},
     "output_type": "execute_result"
    }
   ],
   "source": [
    "positions = r.get_open_option_positions()\n",
    "len(positions)"
   ]
  },
  {
   "cell_type": "code",
   "execution_count": 8,
   "metadata": {},
   "outputs": [
    {
     "name": "stdout",
     "output_type": "stream",
     "text": [
      "BGG \t 2019-08-15\n",
      "SPWR \t 2020-02-12\n",
      "BLDP \t 2020-03-04\n",
      "BLDP \t 2020-03-04\n",
      "PLUG \t 2020-03-05\n"
     ]
    }
   ],
   "source": [
    "l = len(positions)\n",
    "earnings_2019 = []\n",
    "for p in range(l-1):\n",
    "    symbol = positions[p]['chain_symbol']\n",
    "    earnings = r.get_earnings(symbol=symbol)\n",
    "    if len(earnings) > 0:\n",
    "        date = list(filter(lambda e:e['year']==2019, earnings))[-1]['report']['date']\n",
    "    else:\n",
    "        date = ''\n",
    "    earnings_2019.append((symbol,date))\n",
    "\n",
    "s = sorted(earnings_2019,key=lambda x: x[1])\n",
    "for e in s:\n",
    "    print(e[0],'\\t',e[1])\n",
    " \n",
    "#print(*sorted(earnings_2019,key=lambda x: x[1])[1:-1], sep='\\n')\n",
    "        \n"
   ]
  },
  {
   "cell_type": "code",
   "execution_count": 91,
   "metadata": {},
   "outputs": [
    {
     "name": "stdout",
     "output_type": "stream",
     "text": [
      "1, 2, 3, 4, 5\n"
     ]
    }
   ],
   "source": [
    "a = [1, 2, 3, 4, 5] \n",
    "  \n",
    "print( str(a)[1:-1]  )"
   ]
  }
 ],
 "metadata": {
  "kernelspec": {
   "display_name": "Python 3",
   "language": "python",
   "name": "python3"
  },
  "language_info": {
   "codemirror_mode": {
    "name": "ipython",
    "version": 3
   },
   "file_extension": ".py",
   "mimetype": "text/x-python",
   "name": "python",
   "nbconvert_exporter": "python",
   "pygments_lexer": "ipython3",
   "version": "3.7.3"
  }
 },
 "nbformat": 4,
 "nbformat_minor": 2
}
