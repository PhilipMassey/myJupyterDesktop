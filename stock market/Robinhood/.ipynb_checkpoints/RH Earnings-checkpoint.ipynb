{
 "cells": [
  {
   "cell_type": "code",
   "execution_count": 3,
   "metadata": {},
   "outputs": [],
   "source": [
    "import os\n",
    "import robin_stocks as r \n",
    "import configparser\n",
    "config = configparser.RawConfigParser()\n",
    "configFilePath = '/Users/philipmassey/.tokens/robinhood.cfg'\n",
    "config.read(configFilePath)\n",
    "rhuser = config.get('login', 'user')\n",
    "rhpwd = config.get('login', 'pwd')\n",
    "login = r.login(rhuser,rhpwd)\n"
   ]
  },
  {
   "cell_type": "code",
   "execution_count": 32,
   "metadata": {},
   "outputs": [
    {
     "data": {
      "text/plain": [
       "41"
      ]
     },
     "execution_count": 32,
     "metadata": {},
     "output_type": "execute_result"
    }
   ],
   "source": [
    "positions=['AGNC','AMH','ARCC','AWP','AY','BIZD','CRF','CXW','DOW','DX','ECC','EPR','FFC','HQH','IRM','JPS','LADR','LMRK','MIC','MIE','MNR','MRCC','NEE','NEWT','NLY','NRZ','O','ORCC','OXLC','PCI','PNNT','PTY','REML','SAR','SPG','SWAN','T','USHY','WPC','WPC']\n",
    "#positions = ['AGNC','DOW','NEE','NLY']\n",
    "len(positions)"
   ]
  },
  {
   "cell_type": "code",
   "execution_count": 34,
   "metadata": {},
   "outputs": [
    {
     "name": "stdout",
     "output_type": "stream",
     "text": [
      "skipped AGNC\n",
      "skipped DOW\n",
      "skipped NEE\n",
      "skipped NLY\n",
      "skipped T\n",
      "400 Client Error: Bad Request for url: https://api.robinhood.com/marketdata/earnings/?symbol=UTC\n",
      "WPC \t 2020-05-01\n",
      "O \t 2020-05-04\n",
      "ARCC \t 2020-05-05\n",
      "LADR \t 2020-05-05\n",
      "MIC \t 2020-05-05\n",
      "NRZ \t 2020-05-05\n",
      "ORCC \t 2020-05-05\n",
      "CXW \t 2020-05-06\n",
      "DX \t 2020-05-06\n",
      "EPR \t 2020-05-06\n",
      "MNR \t 2020-05-06\n",
      "SAR \t 2020-05-06\n",
      "AMH \t 2020-05-07\n",
      "IRM \t 2020-05-07\n",
      "LMRK \t 2020-05-07\n",
      "NEWT \t 2020-05-07\n",
      "MRCC \t 2020-05-08\n",
      "PNNT \t 2020-05-11\n",
      "SPG \t 2020-05-11\n",
      "AY \t 2020-05-15\n",
      "OXLC \t 2020-05-15\n",
      "ECC \t 2020-05-20\n"
     ]
    }
   ],
   "source": [
    "l = len(positions)\n",
    "current_month_earnings = []\n",
    "for p in range(l-1):\n",
    "    try:\n",
    "        symbol = positions[p]\n",
    "        earnings = r.get_earnings(symbol=symbol)\n",
    "        #print(earnings)\n",
    "        if len(earnings) > 0:\n",
    "            current_year = list(filter(lambda e:e['year']==2020, earnings))\n",
    "            #print(current_year)\n",
    "            current_month = list(filter(lambda e:e['report']['date'][5:7]=='05', current_year   ))\n",
    "            current_month_earnings.append((symbol,current_month[0]['report']['date']))\n",
    "\n",
    "        else:\n",
    "            continue\n",
    "    except:\n",
    "        print('skipped',symbol,)\n",
    "        \n",
    "\n",
    "current_month_earnings = sorted(current_month_earnings,key=lambda x: x[1])\n",
    "for e in current_month_earnings:\n",
    "    print(e[0],'\\t',e[1])\n",
    " \n",
    "#print(*sorted(earnings_2019,key=lambda x: x[1])[1:-1], sep='\\n')\n",
    "        \n"
   ]
  },
  {
   "cell_type": "code",
   "execution_count": 16,
   "metadata": {},
   "outputs": [
    {
     "data": {
      "text/plain": [
       "'05'"
      ]
     },
     "execution_count": 16,
     "metadata": {},
     "output_type": "execute_result"
    }
   ],
   "source": [
    "ld = [{'symbol': 'O', 'instrument': 'https://api.robinhood.com/instruments/8118ec86-3d0b-46f2-a025-f362a3616440/', 'year': 2020, 'quarter': 1, 'eps': {'estimate': None, 'actual': '0.880000'}, 'report': {'date': '2020-05-04', 'timing': 'pm', 'verified': True}, 'call': {'datetime': '2020-05-05T18:30:00Z', 'broadcast_url': 'http://mmm.wallstreethorizon.com/u.asp?u=316748', 'replay_url': None}}, {'symbol': 'O', 'instrument': 'https://api.robinhood.com/instruments/8118ec86-3d0b-46f2-a025-f362a3616440/', 'year': 2020, 'quarter': 2, 'eps': {'estimate': None, 'actual': None}, 'report': {'date': '2020-08-03', 'timing': 'pm', 'verified': False}, 'call': None}]\n",
    "ld[0]['report']['date'][5:7]"
   ]
  },
  {
   "cell_type": "code",
   "execution_count": 9,
   "metadata": {},
   "outputs": [
    {
     "data": {
      "text/plain": [
       "'2019'"
      ]
     },
     "execution_count": 9,
     "metadata": {},
     "output_type": "execute_result"
    }
   ],
   "source": [
    "'2019-03-05'[0:4]"
   ]
  }
 ],
 "metadata": {
  "kernelspec": {
   "display_name": "Python 3",
   "language": "python",
   "name": "python3"
  },
  "language_info": {
   "codemirror_mode": {
    "name": "ipython",
    "version": 3
   },
   "file_extension": ".py",
   "mimetype": "text/x-python",
   "name": "python",
   "nbconvert_exporter": "python",
   "pygments_lexer": "ipython3",
   "version": "3.7.3"
  }
 },
 "nbformat": 4,
 "nbformat_minor": 2
}
