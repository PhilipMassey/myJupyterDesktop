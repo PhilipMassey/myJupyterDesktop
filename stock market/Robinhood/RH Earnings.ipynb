{
 "cells": [
  {
   "cell_type": "code",
   "execution_count": 86,
   "metadata": {},
   "outputs": [],
   "source": [
    "import os\n",
    "import robin_stocks as r \n",
    "import configparser\n",
    "config = configparser.RawConfigParser()\n",
    "configFilePath = '/Users/philipmassey/.tokens/robinhood.cfg'\n",
    "config.read(configFilePath)\n",
    "rhuser = config.get('login', 'user')\n",
    "rhpwd = config.get('login', 'pwd')\n",
    "login = r.login(rhuser,rhpwd)\n"
   ]
  },
  {
   "cell_type": "code",
   "execution_count": 85,
   "metadata": {},
   "outputs": [
    {
     "name": "stdout",
     "output_type": "stream",
     "text": [
      "SDGR \t ['2020-05-20', '2020-08-20']\n"
     ]
    }
   ],
   "source": [
    "positions=['AGNC','AMH','ARCC','AWP','AY','BIZD','CRF','CXW','DOW','DX','ECC','EPR','FFC','HQH','IRM','JPS','LADR','LMRK','MIC','MIE','MNR','MRCC','NEE','NEWT','NLY','NRZ','O','ORCC','OXLC','PCI','PNNT','PTY','REML','SAR','SPG','SWAN','T','USHY','WPC','WPC']\n",
    "positions = ['SDGR']\n",
    "l = len(positions)\n",
    "current_year_dates = []\n",
    "for p in range(l):\n",
    "    try:\n",
    "        symbol = positions[p]\n",
    "        earnings = r.get_earnings(symbol=symbol)\n",
    "        #print(earnings)\n",
    "        if len(earnings) > 0:\n",
    "            #current_year = list(filter(lambda e:e['year']==2020, earnings))\n",
    "            current_year = list(filter(lambda e:e['report']['date'][0:4]=='2020', earnings))\n",
    "            earnings_dates = list(map(lambda e:e['report']['date'], current_year))\n",
    "            earnings_dates = list(filter(lambda e:e[5:7]>'04',earnings_dates))\n",
    "            #print(earnings_date)\n",
    "            current_year_dates.append((symbol,earnings_dates))\n",
    "        else:\n",
    "            print(symbol,'no earnings')\n",
    "    except Exception as e:\n",
    "        print('skipped',symbol,e)\n",
    "        \n",
    "current_year_dates = sorted(current_year_dates,key=lambda x: x[1][0])\n",
    "for e in current_year_dates:\n",
    "    print(e[0],'\\t',e[1])\n",
    " \n",
    "#print(*sorted(earnings_2019,key=lambda x: x[1])[1:-1], sep='\\n')\n",
    "        \n"
   ]
  },
  {
   "cell_type": "code",
   "execution_count": 16,
   "metadata": {},
   "outputs": [
    {
     "data": {
      "text/plain": [
       "'05'"
      ]
     },
     "execution_count": 16,
     "metadata": {},
     "output_type": "execute_result"
    }
   ],
   "source": [
    "ld = [{'symbol': 'O', 'instrument': 'https://api.robinhood.com/instruments/8118ec86-3d0b-46f2-a025-f362a3616440/', 'year': 2020, 'quarter': 1, 'eps': {'estimate': None, 'actual': '0.880000'}, 'report': {'date': '2020-05-04', 'timing': 'pm', 'verified': True}, 'call': {'datetime': '2020-05-05T18:30:00Z', 'broadcast_url': 'http://mmm.wallstreethorizon.com/u.asp?u=316748', 'replay_url': None}}, {'symbol': 'O', 'instrument': 'https://api.robinhood.com/instruments/8118ec86-3d0b-46f2-a025-f362a3616440/', 'year': 2020, 'quarter': 2, 'eps': {'estimate': None, 'actual': None}, 'report': {'date': '2020-08-03', 'timing': 'pm', 'verified': False}, 'call': None}]\n",
    "ld[0]['report']['date'][5:7]"
   ]
  },
  {
   "cell_type": "code",
   "execution_count": 9,
   "metadata": {},
   "outputs": [
    {
     "data": {
      "text/plain": [
       "'2019'"
      ]
     },
     "execution_count": 9,
     "metadata": {},
     "output_type": "execute_result"
    }
   ],
   "source": [
    "'2019-03-05'[0:4]"
   ]
  }
 ],
 "metadata": {
  "kernelspec": {
   "display_name": "Python 3",
   "language": "python",
   "name": "python3"
  },
  "language_info": {
   "codemirror_mode": {
    "name": "ipython",
    "version": 3
   },
   "file_extension": ".py",
   "mimetype": "text/x-python",
   "name": "python",
   "nbconvert_exporter": "python",
   "pygments_lexer": "ipython3",
   "version": "3.7.3"
  }
 },
 "nbformat": 4,
 "nbformat_minor": 2
}
