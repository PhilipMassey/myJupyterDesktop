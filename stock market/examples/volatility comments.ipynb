{
 "cells": [
  {
   "cell_type": "code",
   "execution_count": null,
   "metadata": {},
   "outputs": [],
   "source": [
    "It looks like you are looking for Series.rolling. You can apply the std calculations to the resulting object:\n",
    "\n",
    "roller = Ser.rolling(w)\n",
    "volList = roller.std(ddof=0)\n",
    "If you don't plan on using the rolling window object again, you can write a one-liner:\n",
    "\n",
    "volList = Ser.rolling(w).std(ddof=0)\n",
    "Keep in mind that ddof=0 is necessary in this case because the normalization of the standard deviation is by len(Ser)-ddof, and that ddof defaults to 1 in pandas.\n",
    "\n"
   ]
  },
  {
   "cell_type": "code",
   "execution_count": null,
   "metadata": {},
   "outputs": [],
   "source": [
    "17\n",
    "\n",
    "Typically, [finance-type] people quote volatility in annualized terms of percent changes in price.\n",
    "\n",
    "Assuming you have daily prices in a dataframe df and there are 252 trading days in a year, something like the following is probably what you want:\n",
    "\n",
    "df.pct_change().rolling(window_size).std()*(252**0.5)\n",
    "\n"
   ]
  }
 ],
 "metadata": {
  "kernelspec": {
   "display_name": "Python 3",
   "language": "python",
   "name": "python3"
  },
  "language_info": {
   "codemirror_mode": {
    "name": "ipython",
    "version": 3
   },
   "file_extension": ".py",
   "mimetype": "text/x-python",
   "name": "python",
   "nbconvert_exporter": "python",
   "pygments_lexer": "ipython3",
   "version": "3.7.3"
  }
 },
 "nbformat": 4,
 "nbformat_minor": 2
}
