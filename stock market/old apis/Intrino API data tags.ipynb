{
 "cells": [
  {
   "cell_type": "markdown",
   "metadata": {},
   "source": [
    "### Web API Data Tags\n",
    "<pre>\n",
    "http://blog.intrinio.com/stock-api-developers/\n",
    "https://intrinio.com/we-love-developers\n",
    "https://intrinio.com/data-tags\n",
    "</pre>"
   ]
  },
  {
   "cell_type": "markdown",
   "metadata": {},
   "source": [
    "<pre>\n",
    "\n",
    "https://api.intrinio.com/securities?page_number=1\n",
    "https://api.intrinio.com/prices?ticker=SGH\n",
    "https://api.intrinio.com/data_point?ticker=SGH&item=last_price\n",
    "https://api.intrinio.com/data_point?ticker=SGH&item=close_price\n",
    "\n",
    "https://api.intrinio.com/data_point?ticker=AAPL&item=marketcap\n",
    "https://api.intrinio.com/data_point?ticker=AAPL&item=pricetoearnings\n",
    "https://api.intrinio.com/data_point?ticker=AAPL&item=dividend\n",
    "https://api.intrinio.com/data_point?ticker=AAPL&item=dividend_rate\n",
    "\n",
    "https://api.intrinio.com/historical_data?ticker=AAPL&item=dividend_rate&start_date=2017-01-01&end_date=2018-04-01\n",
    "https://api.intrinio.com/historical_data?ticker=AAPL&item=marketcap&start_date=2017-01-01&end_date=2018-04-01\n",
    "https://api.intrinio.com/historical_data?ticker=AAPL&item=marketcap&start_date=2017-01-01&end_date=2018-04-01&frequency=yearly\n",
    "\n",
    "https://api.intrinio.com/financials/standardized?identifier=AAPL&statement=income_statement&sequence=0&type=QTR\n",
    "https://api.intrinio.com/financials/standardized?identifier=AAPL&statement=balance_sheet&sequence=1&type=QTR\n",
    "\n",
    "https://api.intrinio.com/financials/standardized?identifier=AAPL&statement=cash_flow_statement&sequence=1&type=QTR\n",
    "\n",
    "https://api.intrinio.com/fundamentals/reported?identifier=AAPL&statement=income_statement\n",
    "https://api.intrinio.com/fundamentals/reported?identifier=AAPL&statement=income_statement&sequence=1&type=QTR\n",
    "</pre>"
   ]
  },
  {
   "cell_type": "markdown",
   "metadata": {},
   "source": [
    "<pre>\n",
    "https://api.intrinio.com/data_point?identifier=AAPL&item=ask_price\n",
    "https://api.intrinio.com/data_point?identifier=AAPL&item=volume\n",
    "\n",
    "https://api.intrinio.com/data_point?identifier=AAPL&item=next_day_open_interest\n",
    "https://api.intrinio.com/data_point?identifier=AAPL&item=daily_trades\n",
    "https://api.intrinio.com/data_point?identifier=AAPL&item=open_interest\n",
    "\n",
    "</pre>"
   ]
  }
 ],
 "metadata": {
  "kernelspec": {
   "display_name": "Python 3",
   "language": "python",
   "name": "python3"
  },
  "language_info": {
   "codemirror_mode": {
    "name": "ipython",
    "version": 3
   },
   "file_extension": ".py",
   "mimetype": "text/x-python",
   "name": "python",
   "nbconvert_exporter": "python",
   "pygments_lexer": "ipython3",
   "version": "3.6.2"
  }
 },
 "nbformat": 4,
 "nbformat_minor": 2
}
