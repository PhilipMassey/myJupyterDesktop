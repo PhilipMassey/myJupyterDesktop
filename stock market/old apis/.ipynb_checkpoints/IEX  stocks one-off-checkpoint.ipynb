{
 "cells": [
  {
   "cell_type": "code",
   "execution_count": 37,
   "metadata": {},
   "outputs": [
    {
     "name": "stdout",
     "output_type": "stream",
     "text": [
      "Populating the interactive namespace from numpy and matplotlib\n"
     ]
    }
   ],
   "source": [
    "import matplotlib.pyplot as plt\n",
    "import matplotlib.dates as dates\n",
    "%pylab inline\n",
    "pylab.rcParams['figure.figsize'] = (12, 8)   # Change the size of plots\n",
    "\n",
    "import pandas as pd\n",
    "import pandas_datareader as web\n",
    "import datetime\n",
    " "
   ]
  },
  {
   "cell_type": "code",
   "execution_count": 38,
   "metadata": {},
   "outputs": [
    {
     "name": "stdout",
     "output_type": "stream",
     "text": [
      "ticker \t cost \t\t price \t\t change \t loss \tstop \ttil_stop\n",
      "DIA \t 247.79 \t 244.22 \t -3.57 \t -1428.0 \t 240.0 \t -4.22\n",
      "VOO \t 248.89 \t 245.09 \t -3.8 \t -1520.0 \t 240.0 \t -5.09\n",
      "VTI \t 139.77 \t 137.56 \t -2.21 \t -1547.0 \t 136.0 \t -1.56\n",
      "total loss \t -4495.0\n"
     ]
    },
    {
     "data": {
      "text/html": [
       "<div>\n",
       "<style scoped>\n",
       "    .dataframe tbody tr th:only-of-type {\n",
       "        vertical-align: middle;\n",
       "    }\n",
       "\n",
       "    .dataframe tbody tr th {\n",
       "        vertical-align: top;\n",
       "    }\n",
       "\n",
       "    .dataframe thead th {\n",
       "        text-align: right;\n",
       "    }\n",
       "</style>\n",
       "<table border=\"1\" class=\"dataframe\">\n",
       "  <thead>\n",
       "    <tr style=\"text-align: right;\">\n",
       "      <th></th>\n",
       "      <th>askPrice</th>\n",
       "      <th>askSize</th>\n",
       "      <th>bidPrice</th>\n",
       "      <th>bidSize</th>\n",
       "      <th>lastSalePrice</th>\n",
       "      <th>lastSaleSize</th>\n",
       "      <th>lastSaleTime</th>\n",
       "      <th>lastUpdated</th>\n",
       "      <th>marketPercent</th>\n",
       "      <th>sector</th>\n",
       "      <th>securityType</th>\n",
       "      <th>symbol</th>\n",
       "      <th>volume</th>\n",
       "    </tr>\n",
       "  </thead>\n",
       "  <tbody>\n",
       "    <tr>\n",
       "      <th>0</th>\n",
       "      <td>250.43</td>\n",
       "      <td>100</td>\n",
       "      <td>243.80</td>\n",
       "      <td>100</td>\n",
       "      <td>244.22</td>\n",
       "      <td>100</td>\n",
       "      <td>1524583780315</td>\n",
       "      <td>1524584671638</td>\n",
       "      <td>0.00184</td>\n",
       "      <td>n/a</td>\n",
       "      <td>etp</td>\n",
       "      <td>DIA</td>\n",
       "      <td>3730</td>\n",
       "    </tr>\n",
       "    <tr>\n",
       "      <th>1</th>\n",
       "      <td>245.10</td>\n",
       "      <td>500</td>\n",
       "      <td>245.04</td>\n",
       "      <td>500</td>\n",
       "      <td>245.09</td>\n",
       "      <td>100</td>\n",
       "      <td>1524584538719</td>\n",
       "      <td>1524584730348</td>\n",
       "      <td>0.00804</td>\n",
       "      <td>n/a</td>\n",
       "      <td>etp</td>\n",
       "      <td>VOO</td>\n",
       "      <td>6890</td>\n",
       "    </tr>\n",
       "    <tr>\n",
       "      <th>2</th>\n",
       "      <td>137.66</td>\n",
       "      <td>100</td>\n",
       "      <td>137.63</td>\n",
       "      <td>100</td>\n",
       "      <td>137.56</td>\n",
       "      <td>100</td>\n",
       "      <td>1524584695150</td>\n",
       "      <td>1524584730428</td>\n",
       "      <td>0.01838</td>\n",
       "      <td>n/a</td>\n",
       "      <td>etp</td>\n",
       "      <td>VTI</td>\n",
       "      <td>18932</td>\n",
       "    </tr>\n",
       "  </tbody>\n",
       "</table>\n",
       "</div>"
      ],
      "text/plain": [
       "   askPrice  askSize  bidPrice  bidSize  lastSalePrice  lastSaleSize  \\\n",
       "0    250.43      100    243.80      100         244.22           100   \n",
       "1    245.10      500    245.04      500         245.09           100   \n",
       "2    137.66      100    137.63      100         137.56           100   \n",
       "\n",
       "    lastSaleTime    lastUpdated  marketPercent sector securityType symbol  \\\n",
       "0  1524583780315  1524584671638        0.00184    n/a          etp    DIA   \n",
       "1  1524584538719  1524584730348        0.00804    n/a          etp    VOO   \n",
       "2  1524584695150  1524584730428        0.01838    n/a          etp    VTI   \n",
       "\n",
       "   volume  \n",
       "0    3730  \n",
       "1    6890  \n",
       "2   18932  "
      ]
     },
     "execution_count": 38,
     "metadata": {},
     "output_type": "execute_result"
    }
   ],
   "source": [
    "ticker = ['DIA','VOO', 'VTI']\n",
    "\n",
    "dbroker = { 'DIA':{'count':400, 'cost':247.79, 'stop':240.00},\n",
    "            'VOO':{'count':400, 'cost':248.89, 'stop':240.00},\n",
    "            'VTI':{'count':700, 'cost':139.77, 'stop':136.00}\n",
    "          }\n",
    "\n",
    "stocks = web.DataReader(ticker, 'iex-last')\n",
    "\n",
    "total_loss = 0.0\n",
    "print('ticker','\\t','cost','\\t\\t','price','\\t\\t','change','\\t', 'loss','\\tstop','\\ttil_stop')\n",
    "for tick in ticker:\n",
    "    price = stocks[stocks['symbol'] == tick]['price'].values[0]\n",
    "    cost = dbroker[tick]['cost']\n",
    "    change = round(price - cost,2)\n",
    "    count = dbroker[tick]['count']\n",
    "    loss = round(count * change,2)\n",
    "    total_loss += loss\n",
    "    stop = dbroker[tick]['stop']\n",
    "    til_stop = round(stop - price,2)\n",
    "\n",
    "    print(tick,'\\t',cost,'\\t',price,'\\t', change,'\\t', loss, '\\t', stop,'\\t',til_stop)\n",
    "print('total loss','\\t', total_loss)\n",
    "\n",
    "stocks = web.DataReader(ticker, 'iex-tops')\n",
    "stocks\n",
    "\n"
   ]
  },
  {
   "cell_type": "code",
   "execution_count": 28,
   "metadata": {},
   "outputs": [
    {
     "name": "stdout",
     "output_type": "stream",
     "text": [
      "1y\n"
     ]
    },
    {
     "ename": "KeyError",
     "evalue": "'close'",
     "output_type": "error",
     "traceback": [
      "\u001b[0;31m---------------------------------------------------------------------------\u001b[0m",
      "\u001b[0;31mKeyError\u001b[0m                                  Traceback (most recent call last)",
      "\u001b[0;32m<ipython-input-28-1f9da4298222>\u001b[0m in \u001b[0;36m<module>\u001b[0;34m()\u001b[0m\n\u001b[1;32m      2\u001b[0m \u001b[0mend\u001b[0m \u001b[0;34m=\u001b[0m \u001b[0mdatetime\u001b[0m\u001b[0;34m.\u001b[0m\u001b[0mdate\u001b[0m\u001b[0;34m.\u001b[0m\u001b[0mtoday\u001b[0m\u001b[0;34m(\u001b[0m\u001b[0;34m)\u001b[0m\u001b[0;34m\u001b[0m\u001b[0m\n\u001b[1;32m      3\u001b[0m \u001b[0mstocks\u001b[0m \u001b[0;34m=\u001b[0m \u001b[0mweb\u001b[0m\u001b[0;34m.\u001b[0m\u001b[0mDataReader\u001b[0m\u001b[0;34m(\u001b[0m\u001b[0mticker\u001b[0m\u001b[0;34m,\u001b[0m \u001b[0;34m'iex'\u001b[0m\u001b[0;34m,\u001b[0m \u001b[0mstart\u001b[0m\u001b[0;34m,\u001b[0m \u001b[0mend\u001b[0m\u001b[0;34m)\u001b[0m\u001b[0;34m\u001b[0m\u001b[0m\n\u001b[0;32m----> 4\u001b[0;31m \u001b[0mstocks\u001b[0m\u001b[0;34m[\u001b[0m\u001b[0;34m'close'\u001b[0m\u001b[0;34m]\u001b[0m\u001b[0;34m\u001b[0m\u001b[0m\n\u001b[0m",
      "\u001b[0;31mKeyError\u001b[0m: 'close'"
     ]
    }
   ],
   "source": [
    "start = datetime.datetime(2018,4,1)\n",
    "end = datetime.date.today()\n",
    "stocks = web.DataReader(ticker, 'iex', start, end)\n",
    "\n",
    "for key in stocks.keys():\n",
    "    print(key, stocks[key]['close'])"
   ]
  },
  {
   "cell_type": "code",
   "execution_count": 25,
   "metadata": {
    "scrolled": false
   },
   "outputs": [
    {
     "data": {
      "text/plain": [
       "{'DIA': {'asks': [{'price': 244.28, 'size': 100, 'timestamp': 1524513493221},\n",
       "   {'price': 244.3, 'size': 100, 'timestamp': 1524513480488},\n",
       "   {'price': 244.32, 'size': 100, 'timestamp': 1524513472925},\n",
       "   {'price': 244.34, 'size': 100, 'timestamp': 1524513452261},\n",
       "   {'price': 244.36, 'size': 100, 'timestamp': 1524513450360},\n",
       "   {'price': 244.38, 'size': 100, 'timestamp': 1524513450251},\n",
       "   {'price': 244.4, 'size': 100, 'timestamp': 1524513450797},\n",
       "   {'price': 250.43, 'size': 100, 'timestamp': 1524513010559},\n",
       "   {'price': 292.88, 'size': 100, 'timestamp': 1524512100109}],\n",
       "  'bids': [{'price': 244.24, 'size': 100, 'timestamp': 1524513519208},\n",
       "   {'price': 244.22, 'size': 100, 'timestamp': 1524513450251},\n",
       "   {'price': 244.2, 'size': 100, 'timestamp': 1524513472949},\n",
       "   {'price': 244.18, 'size': 100, 'timestamp': 1524513487464},\n",
       "   {'price': 244.16, 'size': 100, 'timestamp': 1524513494836},\n",
       "   {'price': 238.21, 'size': 100, 'timestamp': 1524513010559},\n",
       "   {'price': 195.23, 'size': 100, 'timestamp': 1524512100108}]},\n",
       " 'VOO': {'asks': [{'price': 244.82, 'size': 100, 'timestamp': 1524513515405},\n",
       "   {'price': 244.83, 'size': 500, 'timestamp': 1524513515405},\n",
       "   {'price': 244.85, 'size': 500, 'timestamp': 1524513513684},\n",
       "   {'price': 244.87, 'size': 500, 'timestamp': 1524513462105},\n",
       "   {'price': 244.89, 'size': 500, 'timestamp': 1524513452127},\n",
       "   {'price': 244.92, 'size': 500, 'timestamp': 1524513343713},\n",
       "   {'price': 244.94, 'size': 500, 'timestamp': 1524513361143},\n",
       "   {'price': 244.96, 'size': 500, 'timestamp': 1524513408453},\n",
       "   {'price': 244.99, 'size': 500, 'timestamp': 1524513410943},\n",
       "   {'price': 245.53, 'size': 100, 'timestamp': 1524506734499},\n",
       "   {'price': 246.26, 'size': 100, 'timestamp': 1524499979887},\n",
       "   {'price': 246.99, 'size': 100, 'timestamp': 1524510155064},\n",
       "   {'price': 250.99, 'size': 100, 'timestamp': 1524513011441},\n",
       "   {'price': 293.58, 'size': 100, 'timestamp': 1524512100154}],\n",
       "  'bids': [{'price': 244.8, 'size': 100, 'timestamp': 1524513514231},\n",
       "   {'price': 244.79, 'size': 500, 'timestamp': 1524513519191},\n",
       "   {'price': 244.77, 'size': 500, 'timestamp': 1524513356052},\n",
       "   {'price': 244.75, 'size': 500, 'timestamp': 1524513338784},\n",
       "   {'price': 244.72, 'size': 500, 'timestamp': 1524513330392},\n",
       "   {'price': 244.7, 'size': 500, 'timestamp': 1524513300045},\n",
       "   {'price': 244.68, 'size': 500, 'timestamp': 1524513495604},\n",
       "   {'price': 244.05, 'size': 100, 'timestamp': 1524512730695},\n",
       "   {'price': 243.32, 'size': 100, 'timestamp': 1524510054926},\n",
       "   {'price': 242.59, 'size': 100, 'timestamp': 1524500358049},\n",
       "   {'price': 238.72, 'size': 100, 'timestamp': 1524513011441},\n",
       "   {'price': 195.72, 'size': 100, 'timestamp': 1524512100151}]},\n",
       " 'VTI': {'asks': [{'price': 137.42, 'size': 200, 'timestamp': 1524513515179},\n",
       "   {'price': 137.82, 'size': 100, 'timestamp': 1524506734496},\n",
       "   {'price': 138.23, 'size': 100, 'timestamp': 1524499982402},\n",
       "   {'price': 138.64, 'size': 100, 'timestamp': 1524510144148},\n",
       "   {'price': 140.82, 'size': 100, 'timestamp': 1524513139589},\n",
       "   {'price': 164.78, 'size': 100, 'timestamp': 1524512100155}],\n",
       "  'bids': [{'price': 137.39, 'size': 100, 'timestamp': 1524513518239},\n",
       "   {'price': 136.99, 'size': 100, 'timestamp': 1524512711376},\n",
       "   {'price': 136.58, 'size': 100, 'timestamp': 1524510059191},\n",
       "   {'price': 136.17, 'size': 100, 'timestamp': 1524500358051},\n",
       "   {'price': 133.95, 'size': 100, 'timestamp': 1524513139589},\n",
       "   {'price': 109.85, 'size': 100, 'timestamp': 1524512100152}]}}"
      ]
     },
     "execution_count": 25,
     "metadata": {},
     "output_type": "execute_result"
    }
   ],
   "source": [
    "stocks = web.DataReader(ticker, 'iex-book')\n",
    "stocks"
   ]
  },
  {
   "cell_type": "code",
   "execution_count": null,
   "metadata": {},
   "outputs": [],
   "source": []
  },
  {
   "cell_type": "code",
   "execution_count": null,
   "metadata": {},
   "outputs": [],
   "source": []
  }
 ],
 "metadata": {
  "kernelspec": {
   "display_name": "Python 3",
   "language": "python",
   "name": "python3"
  },
  "language_info": {
   "codemirror_mode": {
    "name": "ipython",
    "version": 3
   },
   "file_extension": ".py",
   "mimetype": "text/x-python",
   "name": "python",
   "nbconvert_exporter": "python",
   "pygments_lexer": "ipython3",
   "version": "3.6.2"
  }
 },
 "nbformat": 4,
 "nbformat_minor": 2
}
