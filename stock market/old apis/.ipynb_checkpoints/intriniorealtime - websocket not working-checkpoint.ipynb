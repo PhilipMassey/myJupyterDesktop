{
 "cells": [
  {
   "cell_type": "markdown",
   "metadata": {},
   "source": [
    "https://github.com/intrinio/intrinio-realtime-python-sdk"
   ]
  },
  {
   "cell_type": "code",
   "execution_count": 1,
   "metadata": {},
   "outputs": [
    {
     "name": "stderr",
     "output_type": "stream",
     "text": [
      "2018-04-18 09:43:19,504 - intrinio_realtime - INFO - Connecting...\n",
      "2018-04-18 09:43:20,035 - intrinio_realtime - INFO - Authentication successful!\n",
      "2018-04-18 09:43:20,782 - intrinio_realtime - INFO - Websocket opened!\n",
      "2018-04-18 09:43:21,178 - intrinio_realtime - INFO - Websocket closed!\n",
      "2018-04-18 09:43:21,409 - intrinio_realtime - ERROR - Websocket ERROR: 'NoneType' object has no attribute 'connected'\n",
      "2018-04-18 09:43:22,781 - intrinio_realtime - INFO - Connecting...\n",
      "2018-04-18 09:43:25,530 - intrinio_realtime - INFO - Authentication successful!\n",
      "2018-04-18 09:43:26,403 - intrinio_realtime - INFO - Websocket opened!\n",
      "2018-04-18 09:43:26,737 - intrinio_realtime - INFO - Websocket closed!\n",
      "2018-04-18 09:43:27,214 - intrinio_realtime - ERROR - Websocket ERROR: 'NoneType' object has no attribute 'connected'\n",
      "2018-04-18 09:43:28,699 - intrinio_realtime - INFO - Connecting...\n",
      "2018-04-18 09:43:31,196 - intrinio_realtime - INFO - Authentication successful!\n",
      "2018-04-18 09:43:32,075 - intrinio_realtime - INFO - Websocket opened!\n",
      "2018-04-18 09:43:32,461 - intrinio_realtime - INFO - Websocket closed!\n",
      "2018-04-18 09:43:32,696 - intrinio_realtime - ERROR - Websocket ERROR: 'NoneType' object has no attribute 'connected'\n",
      "2018-04-18 09:43:34,109 - intrinio_realtime - INFO - Connecting...\n",
      "2018-04-18 09:43:36,501 - intrinio_realtime - INFO - Authentication successful!\n",
      "2018-04-18 09:43:37,462 - intrinio_realtime - INFO - Websocket opened!\n",
      "2018-04-18 09:43:37,836 - intrinio_realtime - INFO - Websocket closed!\n",
      "2018-04-18 09:43:38,115 - intrinio_realtime - ERROR - Websocket ERROR: 'NoneType' object has no attribute 'connected'\n",
      "2018-04-18 09:43:39,569 - intrinio_realtime - INFO - Connecting...\n",
      "2018-04-18 09:43:42,051 - intrinio_realtime - INFO - Authentication successful!\n",
      "2018-04-18 09:43:43,090 - intrinio_realtime - INFO - Websocket opened!\n",
      "2018-04-18 09:43:43,608 - intrinio_realtime - INFO - Websocket closed!\n",
      "2018-04-18 09:43:43,827 - intrinio_realtime - ERROR - Websocket ERROR: 'NoneType' object has no attribute 'connected'\n",
      "2018-04-18 09:43:45,092 - intrinio_realtime - INFO - Connecting...\n",
      "2018-04-18 09:43:47,325 - intrinio_realtime - INFO - Authentication successful!\n",
      "2018-04-18 09:43:48,509 - intrinio_realtime - INFO - Websocket opened!\n",
      "2018-04-18 09:43:48,819 - intrinio_realtime - INFO - Websocket closed!\n",
      "2018-04-18 09:43:49,086 - intrinio_realtime - ERROR - Websocket ERROR: 'NoneType' object has no attribute 'connected'\n",
      "2018-04-18 09:43:50,502 - intrinio_realtime - INFO - Connecting...\n",
      "2018-04-18 09:43:53,219 - intrinio_realtime - INFO - Authentication successful!\n",
      "2018-04-18 09:43:54,033 - intrinio_realtime - INFO - Websocket opened!\n",
      "2018-04-18 09:43:54,264 - intrinio_realtime - INFO - Websocket closed!\n",
      "2018-04-18 09:43:54,654 - intrinio_realtime - ERROR - Websocket ERROR: 'NoneType' object has no attribute 'connected'\n",
      "2018-04-18 09:43:55,973 - intrinio_realtime - INFO - Connecting...\n"
     ]
    },
    {
     "ename": "KeyboardInterrupt",
     "evalue": "",
     "output_type": "error",
     "traceback": [
      "\u001b[0;31m---------------------------------------------------------------------------\u001b[0m",
      "\u001b[0;31mKeyboardInterrupt\u001b[0m                         Traceback (most recent call last)",
      "\u001b[0;32m<ipython-input-1-3ed0fe3ded60>\u001b[0m in \u001b[0;36m<module>\u001b[0;34m()\u001b[0m\n\u001b[1;32m     14\u001b[0m \u001b[0mclient\u001b[0m\u001b[0;34m.\u001b[0m\u001b[0mjoin\u001b[0m\u001b[0;34m(\u001b[0m\u001b[0;34m'VOO'\u001b[0m\u001b[0;34m)\u001b[0m\u001b[0;34m\u001b[0m\u001b[0m\n\u001b[1;32m     15\u001b[0m \u001b[0mclient\u001b[0m\u001b[0;34m.\u001b[0m\u001b[0mconnect\u001b[0m\u001b[0;34m(\u001b[0m\u001b[0;34m)\u001b[0m\u001b[0;34m\u001b[0m\u001b[0m\n\u001b[0;32m---> 16\u001b[0;31m \u001b[0mclient\u001b[0m\u001b[0;34m.\u001b[0m\u001b[0mkeep_alive\u001b[0m\u001b[0;34m(\u001b[0m\u001b[0;34m)\u001b[0m\u001b[0;34m\u001b[0m\u001b[0m\n\u001b[0m\u001b[1;32m     17\u001b[0m \u001b[0mclient\u001b[0m\u001b[0;34m.\u001b[0m\u001b[0mon_quote\u001b[0m \u001b[0;34m=\u001b[0m \u001b[0mon_quote\u001b[0m\u001b[0;34m\u001b[0m\u001b[0m\n",
      "\u001b[0;32m/Environments/anaconda/envs/py3/lib/python3.6/site-packages/intriniorealtime/client.py\u001b[0m in \u001b[0;36mkeep_alive\u001b[0;34m(self)\u001b[0m\n\u001b[1;32m    115\u001b[0m     \u001b[0;32mdef\u001b[0m \u001b[0mkeep_alive\u001b[0m\u001b[0;34m(\u001b[0m\u001b[0mself\u001b[0m\u001b[0;34m)\u001b[0m\u001b[0;34m:\u001b[0m\u001b[0;34m\u001b[0m\u001b[0m\n\u001b[1;32m    116\u001b[0m         \u001b[0;32mwhile\u001b[0m \u001b[0;32mTrue\u001b[0m\u001b[0;34m:\u001b[0m\u001b[0;34m\u001b[0m\u001b[0m\n\u001b[0;32m--> 117\u001b[0;31m             \u001b[0;32mpass\u001b[0m\u001b[0;34m\u001b[0m\u001b[0m\n\u001b[0m\u001b[1;32m    118\u001b[0m \u001b[0;34m\u001b[0m\u001b[0m\n\u001b[1;32m    119\u001b[0m     \u001b[0;32mdef\u001b[0m \u001b[0mrefresh_token\u001b[0m\u001b[0;34m(\u001b[0m\u001b[0mself\u001b[0m\u001b[0;34m)\u001b[0m\u001b[0;34m:\u001b[0m\u001b[0;34m\u001b[0m\u001b[0m\n",
      "\u001b[0;31mKeyboardInterrupt\u001b[0m: "
     ]
    },
    {
     "name": "stderr",
     "output_type": "stream",
     "text": [
      "2018-04-18 09:43:57,661 - intrinio_realtime - INFO - Authentication successful!\n",
      "2018-04-18 09:43:58,037 - intrinio_realtime - INFO - Websocket opened!\n",
      "2018-04-18 09:43:58,046 - intrinio_realtime - INFO - Websocket closed!\n",
      "2018-04-18 09:43:58,048 - intrinio_realtime - ERROR - Websocket ERROR: 'NoneType' object has no attribute 'connected'\n",
      "2018-04-18 09:43:59,123 - intrinio_realtime - INFO - Connecting...\n",
      "2018-04-18 09:44:00,605 - intrinio_realtime - INFO - Authentication successful!\n",
      "2018-04-18 09:44:00,987 - intrinio_realtime - INFO - Websocket opened!\n",
      "2018-04-18 09:44:00,991 - intrinio_realtime - INFO - Websocket closed!\n",
      "2018-04-18 09:44:00,993 - intrinio_realtime - ERROR - Websocket ERROR: 'NoneType' object has no attribute 'connected'\n",
      "2018-04-18 09:44:02,066 - intrinio_realtime - INFO - Connecting...\n",
      "2018-04-18 09:44:03,567 - intrinio_realtime - INFO - Authentication successful!\n",
      "2018-04-18 09:44:03,947 - intrinio_realtime - INFO - Websocket opened!\n",
      "2018-04-18 09:44:03,957 - intrinio_realtime - INFO - Websocket closed!\n",
      "2018-04-18 09:44:03,958 - intrinio_realtime - ERROR - Websocket ERROR: 'NoneType' object has no attribute 'connected'\n",
      "2018-04-18 09:44:05,026 - intrinio_realtime - INFO - Connecting...\n",
      "2018-04-18 09:44:06,518 - intrinio_realtime - INFO - Authentication successful!\n",
      "2018-04-18 09:44:06,909 - intrinio_realtime - INFO - Websocket opened!\n",
      "2018-04-18 09:44:06,913 - intrinio_realtime - INFO - Websocket closed!\n",
      "2018-04-18 09:44:06,915 - intrinio_realtime - ERROR - Websocket ERROR: 'NoneType' object has no attribute 'connected'\n",
      "2018-04-18 09:44:07,990 - intrinio_realtime - INFO - Connecting...\n",
      "2018-04-18 09:44:09,505 - intrinio_realtime - INFO - Authentication successful!\n",
      "2018-04-18 09:44:09,885 - intrinio_realtime - INFO - Websocket opened!\n",
      "2018-04-18 09:44:09,888 - intrinio_realtime - INFO - Websocket closed!\n",
      "2018-04-18 09:44:09,890 - intrinio_realtime - ERROR - Websocket ERROR: 'NoneType' object has no attribute 'connected'\n",
      "2018-04-18 09:44:10,962 - intrinio_realtime - INFO - Connecting...\n",
      "2018-04-18 09:44:12,478 - intrinio_realtime - INFO - Authentication successful!\n",
      "2018-04-18 09:44:12,883 - intrinio_realtime - INFO - Websocket opened!\n",
      "2018-04-18 09:44:12,888 - intrinio_realtime - INFO - Websocket closed!\n",
      "2018-04-18 09:44:12,890 - intrinio_realtime - ERROR - Websocket ERROR: 'NoneType' object has no attribute 'connected'\n",
      "2018-04-18 09:44:13,954 - intrinio_realtime - INFO - Connecting...\n",
      "2018-04-18 09:44:15,471 - intrinio_realtime - INFO - Authentication successful!\n",
      "2018-04-18 09:44:15,882 - intrinio_realtime - INFO - Websocket opened!\n",
      "2018-04-18 09:44:15,885 - intrinio_realtime - INFO - Websocket closed!\n",
      "2018-04-18 09:44:15,887 - intrinio_realtime - ERROR - Websocket ERROR: 'NoneType' object has no attribute 'connected'\n",
      "2018-04-18 09:44:16,961 - intrinio_realtime - INFO - Connecting...\n",
      "2018-04-18 09:44:18,466 - intrinio_realtime - INFO - Authentication successful!\n",
      "2018-04-18 09:44:18,847 - intrinio_realtime - INFO - Websocket opened!\n",
      "2018-04-18 09:44:18,852 - intrinio_realtime - INFO - Websocket closed!\n",
      "2018-04-18 09:44:18,854 - intrinio_realtime - ERROR - Websocket ERROR: 'NoneType' object has no attribute 'connected'\n",
      "2018-04-18 09:44:19,931 - intrinio_realtime - INFO - Connecting...\n",
      "2018-04-18 09:44:21,475 - intrinio_realtime - INFO - Authentication successful!\n",
      "2018-04-18 09:44:21,858 - intrinio_realtime - INFO - Websocket opened!\n",
      "2018-04-18 09:44:21,862 - intrinio_realtime - INFO - Websocket closed!\n",
      "2018-04-18 09:44:21,864 - intrinio_realtime - ERROR - Websocket ERROR: 'NoneType' object has no attribute 'connected'\n",
      "2018-04-18 09:44:22,942 - intrinio_realtime - INFO - Connecting...\n",
      "2018-04-18 09:44:24,483 - intrinio_realtime - INFO - Authentication successful!\n",
      "2018-04-18 09:44:24,853 - intrinio_realtime - INFO - Websocket opened!\n",
      "2018-04-18 09:44:24,858 - intrinio_realtime - INFO - Websocket closed!\n",
      "2018-04-18 09:44:24,860 - intrinio_realtime - ERROR - Websocket ERROR: 'NoneType' object has no attribute 'connected'\n",
      "2018-04-18 09:44:25,937 - intrinio_realtime - INFO - Connecting...\n",
      "2018-04-18 09:44:27,491 - intrinio_realtime - INFO - Authentication successful!\n",
      "2018-04-18 09:44:27,904 - intrinio_realtime - INFO - Websocket opened!\n",
      "2018-04-18 09:44:27,908 - intrinio_realtime - INFO - Websocket closed!\n",
      "2018-04-18 09:44:27,910 - intrinio_realtime - ERROR - Websocket ERROR: 'NoneType' object has no attribute 'connected'\n",
      "2018-04-18 09:44:28,912 - intrinio_realtime - INFO - Connecting...\n"
     ]
    }
   ],
   "source": [
    "from intriniorealtime.client import IntrinioRealtimeClient\n",
    "\n",
    "def on_quote(quote, backlog):\n",
    "    print(\"QUOTE: \" , quote, \"BACKLOG LENGTH: \", backlog)\n",
    "    \n",
    "options = {\n",
    "    'username': '685ddcad9bcc92317c8e10dde3f1ae8e',\n",
    "    'password': '27f811a8102f5d16c9a5cf243f49b583',\n",
    "    'provider': 'quodd',\n",
    "    'on_quote': on_quote\n",
    "}\n",
    "\n",
    "client = IntrinioRealtimeClient(options)\n",
    "client.join('VOO')\n",
    "client.connect()\n",
    "client.keep_alive()\n",
    "client.on_quote = on_quote"
   ]
  },
  {
   "cell_type": "code",
   "execution_count": 2,
   "metadata": {},
   "outputs": [
    {
     "name": "stderr",
     "output_type": "stream",
     "text": [
      "2018-04-18 09:44:30,415 - intrinio_realtime - INFO - Authentication successful!\n",
      "2018-04-18 09:44:30,829 - intrinio_realtime - INFO - Websocket opened!\n",
      "2018-04-18 09:44:30,832 - intrinio_realtime - INFO - Websocket closed!\n",
      "2018-04-18 09:44:30,834 - intrinio_realtime - ERROR - Websocket ERROR: 'NoneType' object has no attribute 'connected'\n",
      "2018-04-18 09:44:31,907 - intrinio_realtime - INFO - Connecting...\n",
      "2018-04-18 09:44:33,406 - intrinio_realtime - INFO - Authentication successful!\n",
      "2018-04-18 09:44:33,788 - intrinio_realtime - INFO - Websocket opened!\n",
      "2018-04-18 09:44:33,792 - intrinio_realtime - INFO - Websocket closed!\n",
      "2018-04-18 09:44:33,794 - intrinio_realtime - ERROR - Websocket ERROR: 'NoneType' object has no attribute 'connected'\n",
      "2018-04-18 09:44:34,871 - intrinio_realtime - INFO - Connecting...\n",
      "2018-04-18 09:44:36,366 - intrinio_realtime - INFO - Authentication successful!\n",
      "2018-04-18 09:44:36,767 - intrinio_realtime - INFO - Websocket opened!\n",
      "2018-04-18 09:44:36,771 - intrinio_realtime - INFO - Websocket closed!\n",
      "2018-04-18 09:44:36,772 - intrinio_realtime - ERROR - Websocket ERROR: 'NoneType' object has no attribute 'connected'\n",
      "2018-04-18 09:44:37,847 - intrinio_realtime - INFO - Connecting...\n",
      "2018-04-18 09:44:39,352 - intrinio_realtime - INFO - Authentication successful!\n",
      "2018-04-18 09:44:39,737 - intrinio_realtime - INFO - Websocket opened!\n",
      "2018-04-18 09:44:39,740 - intrinio_realtime - INFO - Websocket closed!\n",
      "2018-04-18 09:44:39,742 - intrinio_realtime - ERROR - Websocket ERROR: 'NoneType' object has no attribute 'connected'\n",
      "2018-04-18 09:44:40,819 - intrinio_realtime - INFO - Connecting...\n"
     ]
    }
   ],
   "source": [
    "#client.leave([\"SPY\"])\n",
    "client.leave_all()\n",
    "client.disconnect()"
   ]
  },
  {
   "cell_type": "code",
   "execution_count": null,
   "metadata": {},
   "outputs": [],
   "source": []
  }
 ],
 "metadata": {
  "kernelspec": {
   "display_name": "Python 3",
   "language": "python",
   "name": "python3"
  },
  "language_info": {
   "codemirror_mode": {
    "name": "ipython",
    "version": 3
   },
   "file_extension": ".py",
   "mimetype": "text/x-python",
   "name": "python",
   "nbconvert_exporter": "python",
   "pygments_lexer": "ipython3",
   "version": "3.6.2"
  }
 },
 "nbformat": 4,
 "nbformat_minor": 2
}
