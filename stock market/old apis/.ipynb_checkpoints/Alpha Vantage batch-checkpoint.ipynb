{
 "cells": [
  {
   "cell_type": "code",
   "execution_count": 13,
   "metadata": {},
   "outputs": [],
   "source": [
    "%matplotlib inline\n",
    "from alpha_vantage.timeseries import TimeSeries\n",
    "from alpha_vantage.techindicators import TechIndicators\n",
    "from alpha_vantage.sectorperformance import SectorPerformances\n",
    "from alpha_vantage.cryptocurrencies import CryptoCurrencies\n",
    "import matplotlib\n",
    "import matplotlib.pyplot as plt\n",
    "import os\n",
    "# Make plots bigger\n",
    "matplotlib.rcParams['figure.figsize'] = (12, 8)\n",
    "\n",
    "# my key\n",
    "ts = TimeSeries(key='LJQX8580YS8GDLSL', output_format='pandas')\n"
   ]
  },
  {
   "cell_type": "markdown",
   "metadata": {},
   "source": [
    "### Working with batch quotes"
   ]
  },
  {
   "cell_type": "code",
   "execution_count": 14,
   "metadata": {},
   "outputs": [
    {
     "data": {
      "text/html": [
       "<div>\n",
       "<style scoped>\n",
       "    .dataframe tbody tr th:only-of-type {\n",
       "        vertical-align: middle;\n",
       "    }\n",
       "\n",
       "    .dataframe tbody tr th {\n",
       "        vertical-align: top;\n",
       "    }\n",
       "\n",
       "    .dataframe thead th {\n",
       "        text-align: right;\n",
       "    }\n",
       "</style>\n",
       "<table border=\"1\" class=\"dataframe\">\n",
       "  <thead>\n",
       "    <tr style=\"text-align: right;\">\n",
       "      <th></th>\n",
       "      <th>1. symbol</th>\n",
       "      <th>2. price</th>\n",
       "      <th>3. volume</th>\n",
       "      <th>4. timestamp</th>\n",
       "    </tr>\n",
       "    <tr>\n",
       "      <th>date</th>\n",
       "      <th></th>\n",
       "      <th></th>\n",
       "      <th></th>\n",
       "      <th></th>\n",
       "    </tr>\n",
       "  </thead>\n",
       "  <tbody>\n",
       "    <tr>\n",
       "      <th>0</th>\n",
       "      <td>VTI</td>\n",
       "      <td>138.2900</td>\n",
       "      <td>701440</td>\n",
       "      <td>2018-04-19 12:31:30</td>\n",
       "    </tr>\n",
       "    <tr>\n",
       "      <th>1</th>\n",
       "      <td>VOO</td>\n",
       "      <td>246.4500</td>\n",
       "      <td>1021260</td>\n",
       "      <td>2018-04-19 12:31:29</td>\n",
       "    </tr>\n",
       "    <tr>\n",
       "      <th>2</th>\n",
       "      <td>DIA</td>\n",
       "      <td>246.5450</td>\n",
       "      <td>1437121</td>\n",
       "      <td>2018-04-19 12:26:41</td>\n",
       "    </tr>\n",
       "    <tr>\n",
       "      <th>3</th>\n",
       "      <td>QQQ</td>\n",
       "      <td>164.6300</td>\n",
       "      <td>16028257</td>\n",
       "      <td>2018-04-19 12:31:31</td>\n",
       "    </tr>\n",
       "  </tbody>\n",
       "</table>\n",
       "</div>"
      ],
      "text/plain": [
       "     1. symbol  2. price 3. volume         4. timestamp\n",
       "date                                                   \n",
       "0          VTI  138.2900    701440  2018-04-19 12:31:30\n",
       "1          VOO  246.4500   1021260  2018-04-19 12:31:29\n",
       "2          DIA  246.5450   1437121  2018-04-19 12:26:41\n",
       "3          QQQ  164.6300  16028257  2018-04-19 12:31:31"
      ]
     },
     "execution_count": 14,
     "metadata": {},
     "output_type": "execute_result"
    }
   ],
   "source": [
    "# It is still a TimeSeries call\n",
    "ts.output_format='pandas'\n",
    "data, meta_data = ts.get_batch_stock_quotes(symbols=('VTI', 'VOO', 'DIA', 'QQQ'))\n",
    "data.tail(5)"
   ]
  }
 ],
 "metadata": {
  "kernelspec": {
   "display_name": "Python 3",
   "language": "python",
   "name": "python3"
  },
  "language_info": {
   "codemirror_mode": {
    "name": "ipython",
    "version": 3
   },
   "file_extension": ".py",
   "mimetype": "text/x-python",
   "name": "python",
   "nbconvert_exporter": "python",
   "pygments_lexer": "ipython3",
   "version": "3.6.2"
  }
 },
 "nbformat": 4,
 "nbformat_minor": 2
}
