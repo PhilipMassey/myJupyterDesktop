{
 "cells": [
  {
   "cell_type": "markdown",
   "metadata": {},
   "source": [
    "https://github.com/addisonlynch/iexfinance"
   ]
  },
  {
   "cell_type": "code",
   "execution_count": 8,
   "metadata": {},
   "outputs": [
    {
     "name": "stdout",
     "output_type": "stream",
     "text": [
      "Populating the interactive namespace from numpy and matplotlib\n"
     ]
    }
   ],
   "source": [
    "from iexfinance import Stock\n",
    "from iexfinance import get_available_symbols\n",
    "from iexfinance import get_historical_data\n",
    "from iexfinance import get_market_tops\n",
    "from iexfinance import get_stats_intraday\n",
    "from datetime import datetime as dt\n",
    "import matplotlib.pyplot as plt\n",
    "%matplotlib inline\n",
    "%pylab inline\n",
    "pylab.rcParams['figure.figsize'] = (15, 9)   # Change the size of plots\n"
   ]
  },
  {
   "cell_type": "code",
   "execution_count": 9,
   "metadata": {},
   "outputs": [
    {
     "data": {
      "text/plain": [
       "138.98"
      ]
     },
     "execution_count": 9,
     "metadata": {},
     "output_type": "execute_result"
    },
    {
     "data": {
      "text/plain": [
       "138.1"
      ]
     },
     "execution_count": 9,
     "metadata": {},
     "output_type": "execute_result"
    }
   ],
   "source": [
    "\n",
    "\n",
    "ticker = 'VTI'\n",
    "iexticker = Stock(ticker)\n",
    "iexticker.get_open()\n",
    "iexticker.get_price()"
   ]
  },
  {
   "cell_type": "code",
   "execution_count": 10,
   "metadata": {},
   "outputs": [
    {
     "data": {
      "text/html": [
       "<div>\n",
       "<style scoped>\n",
       "    .dataframe tbody tr th:only-of-type {\n",
       "        vertical-align: middle;\n",
       "    }\n",
       "\n",
       "    .dataframe tbody tr th {\n",
       "        vertical-align: top;\n",
       "    }\n",
       "\n",
       "    .dataframe thead th {\n",
       "        text-align: right;\n",
       "    }\n",
       "</style>\n",
       "<table border=\"1\" class=\"dataframe\">\n",
       "  <thead>\n",
       "    <tr style=\"text-align: right;\">\n",
       "      <th></th>\n",
       "      <th>open</th>\n",
       "      <th>high</th>\n",
       "      <th>low</th>\n",
       "      <th>close</th>\n",
       "      <th>volume</th>\n",
       "    </tr>\n",
       "    <tr>\n",
       "      <th>date</th>\n",
       "      <th></th>\n",
       "      <th></th>\n",
       "      <th></th>\n",
       "      <th></th>\n",
       "      <th></th>\n",
       "    </tr>\n",
       "  </thead>\n",
       "  <tbody>\n",
       "    <tr>\n",
       "      <th>2018-04-03</th>\n",
       "      <td>133.35</td>\n",
       "      <td>134.5400</td>\n",
       "      <td>132.3500</td>\n",
       "      <td>134.28</td>\n",
       "      <td>3737634</td>\n",
       "    </tr>\n",
       "    <tr>\n",
       "      <th>2018-04-04</th>\n",
       "      <td>132.19</td>\n",
       "      <td>136.1000</td>\n",
       "      <td>132.1000</td>\n",
       "      <td>135.79</td>\n",
       "      <td>2928175</td>\n",
       "    </tr>\n",
       "    <tr>\n",
       "      <th>2018-04-05</th>\n",
       "      <td>136.65</td>\n",
       "      <td>137.2300</td>\n",
       "      <td>136.1100</td>\n",
       "      <td>136.74</td>\n",
       "      <td>2683636</td>\n",
       "    </tr>\n",
       "    <tr>\n",
       "      <th>2018-04-06</th>\n",
       "      <td>135.73</td>\n",
       "      <td>136.5400</td>\n",
       "      <td>132.9168</td>\n",
       "      <td>133.87</td>\n",
       "      <td>4942619</td>\n",
       "    </tr>\n",
       "    <tr>\n",
       "      <th>2018-04-09</th>\n",
       "      <td>134.72</td>\n",
       "      <td>136.3000</td>\n",
       "      <td>134.1600</td>\n",
       "      <td>134.32</td>\n",
       "      <td>2239413</td>\n",
       "    </tr>\n",
       "    <tr>\n",
       "      <th>2018-04-10</th>\n",
       "      <td>136.00</td>\n",
       "      <td>136.9704</td>\n",
       "      <td>135.4600</td>\n",
       "      <td>136.50</td>\n",
       "      <td>2154435</td>\n",
       "    </tr>\n",
       "    <tr>\n",
       "      <th>2018-04-11</th>\n",
       "      <td>135.67</td>\n",
       "      <td>136.8283</td>\n",
       "      <td>135.3983</td>\n",
       "      <td>135.87</td>\n",
       "      <td>2063805</td>\n",
       "    </tr>\n",
       "    <tr>\n",
       "      <th>2018-04-12</th>\n",
       "      <td>136.73</td>\n",
       "      <td>137.5300</td>\n",
       "      <td>136.5100</td>\n",
       "      <td>136.97</td>\n",
       "      <td>1858713</td>\n",
       "    </tr>\n",
       "    <tr>\n",
       "      <th>2018-04-13</th>\n",
       "      <td>137.72</td>\n",
       "      <td>137.7500</td>\n",
       "      <td>136.0100</td>\n",
       "      <td>136.58</td>\n",
       "      <td>2192597</td>\n",
       "    </tr>\n",
       "    <tr>\n",
       "      <th>2018-04-16</th>\n",
       "      <td>137.54</td>\n",
       "      <td>138.1500</td>\n",
       "      <td>136.9713</td>\n",
       "      <td>137.72</td>\n",
       "      <td>2892553</td>\n",
       "    </tr>\n",
       "    <tr>\n",
       "      <th>2018-04-17</th>\n",
       "      <td>138.73</td>\n",
       "      <td>139.5300</td>\n",
       "      <td>138.4300</td>\n",
       "      <td>139.17</td>\n",
       "      <td>2219864</td>\n",
       "    </tr>\n",
       "    <tr>\n",
       "      <th>2018-04-18</th>\n",
       "      <td>139.54</td>\n",
       "      <td>139.8500</td>\n",
       "      <td>139.0900</td>\n",
       "      <td>139.36</td>\n",
       "      <td>1554589</td>\n",
       "    </tr>\n",
       "  </tbody>\n",
       "</table>\n",
       "</div>"
      ],
      "text/plain": [
       "              open      high       low   close   volume\n",
       "date                                                   \n",
       "2018-04-03  133.35  134.5400  132.3500  134.28  3737634\n",
       "2018-04-04  132.19  136.1000  132.1000  135.79  2928175\n",
       "2018-04-05  136.65  137.2300  136.1100  136.74  2683636\n",
       "2018-04-06  135.73  136.5400  132.9168  133.87  4942619\n",
       "2018-04-09  134.72  136.3000  134.1600  134.32  2239413\n",
       "2018-04-10  136.00  136.9704  135.4600  136.50  2154435\n",
       "2018-04-11  135.67  136.8283  135.3983  135.87  2063805\n",
       "2018-04-12  136.73  137.5300  136.5100  136.97  1858713\n",
       "2018-04-13  137.72  137.7500  136.0100  136.58  2192597\n",
       "2018-04-16  137.54  138.1500  136.9713  137.72  2892553\n",
       "2018-04-17  138.73  139.5300  138.4300  139.17  2219864\n",
       "2018-04-18  139.54  139.8500  139.0900  139.36  1554589"
      ]
     },
     "execution_count": 10,
     "metadata": {},
     "output_type": "execute_result"
    }
   ],
   "source": [
    "start = dt(2017, 1, 1)\n",
    "end = dt.today()\n",
    "\n",
    "df = get_historical_data(ticker, start=start, end=end, output_format='pandas')\n",
    "df.tail(12)"
   ]
  },
  {
   "cell_type": "code",
   "execution_count": 7,
   "metadata": {},
   "outputs": [
    {
     "data": {
      "image/png": "[encoded data removed]",
      "text/plain": [
       "<Figure size 1080x648 with 1 Axes>"
      ]
     },
     "metadata": {},
     "output_type": "display_data"
    }
   ],
   "source": [
    "\n",
    "df['close'].plot()\n",
    "plt.show();"
   ]
  },
  {
   "cell_type": "code",
   "execution_count": 19,
   "metadata": {},
   "outputs": [
    {
     "data": {
      "text/plain": [
       "[{'date': '2018-04-13',\n",
       "  'iexId': '2',\n",
       "  'isEnabled': True,\n",
       "  'name': 'Agilent Technologies Inc.',\n",
       "  'symbol': 'A',\n",
       "  'type': 'cs'},\n",
       " {'date': '2018-04-13',\n",
       "  'iexId': '12042',\n",
       "  'isEnabled': True,\n",
       "  'name': 'Alcoa Corporation',\n",
       "  'symbol': 'AA',\n",
       "  'type': 'cs'}]"
      ]
     },
     "execution_count": 19,
     "metadata": {},
     "output_type": "execute_result"
    }
   ],
   "source": [
    "get_available_symbols(output_format='pandas')[:2]"
   ]
  },
  {
   "cell_type": "code",
   "execution_count": 20,
   "metadata": {},
   "outputs": [
    {
     "data": {
      "text/plain": [
       "[{'askPrice': 6.89,\n",
       "  'askSize': 2500,\n",
       "  'bidPrice': 6.88,\n",
       "  'bidSize': 8800,\n",
       "  'lastSalePrice': 6.88,\n",
       "  'lastSaleSize': 200,\n",
       "  'lastSaleTime': 1524069124023,\n",
       "  'lastUpdated': 1524069141525,\n",
       "  'marketPercent': 0.05797,\n",
       "  'sector': 'foodbeveragetobacco',\n",
       "  'securityType': 'adr',\n",
       "  'symbol': 'ABEV',\n",
       "  'volume': 887356},\n",
       " {'askPrice': 48.08,\n",
       "  'askSize': 4230,\n",
       "  'bidPrice': 48.06,\n",
       "  'bidSize': 20100,\n",
       "  'lastSalePrice': 48.06,\n",
       "  'lastSaleSize': 100,\n",
       "  'lastSaleTime': 1524069123597,\n",
       "  'lastUpdated': 1524069141323,\n",
       "  'marketPercent': 0.01886,\n",
       "  'sector': 'n/a',\n",
       "  'securityType': 'etp',\n",
       "  'symbol': 'EEM',\n",
       "  'volume': 731499}]"
      ]
     },
     "execution_count": 20,
     "metadata": {},
     "output_type": "execute_result"
    }
   ],
   "source": [
    "get_market_tops()[:2]"
   ]
  },
  {
   "cell_type": "code",
   "execution_count": 21,
   "metadata": {},
   "outputs": [
    {
     "data": {
      "text/plain": [
       "{'marketShare': {'lastUpdated': 1524069172532, 'value': 0.02299},\n",
       " 'notional': {'lastUpdated': 1524069172502, 'value': 3680175556},\n",
       " 'routedVolume': {'lastUpdated': 1524069172007, 'value': 17948263},\n",
       " 'symbolsTraded': {'lastUpdated': 1524069172502, 'value': 5042},\n",
       " 'volume': {'lastUpdated': 1524069172502, 'value': 69112757}}"
      ]
     },
     "execution_count": 21,
     "metadata": {},
     "output_type": "execute_result"
    }
   ],
   "source": [
    "get_stats_intraday()"
   ]
  },
  {
   "cell_type": "code",
   "execution_count": null,
   "metadata": {},
   "outputs": [],
   "source": []
  }
 ],
 "metadata": {
  "kernelspec": {
   "display_name": "Python 3",
   "language": "python",
   "name": "python3"
  },
  "language_info": {
   "codemirror_mode": {
    "name": "ipython",
    "version": 3
   },
   "file_extension": ".py",
   "mimetype": "text/x-python",
   "name": "python",
   "nbconvert_exporter": "python",
   "pygments_lexer": "ipython3",
   "version": "3.6.2"
  }
 },
 "nbformat": 4,
 "nbformat_minor": 2
}
