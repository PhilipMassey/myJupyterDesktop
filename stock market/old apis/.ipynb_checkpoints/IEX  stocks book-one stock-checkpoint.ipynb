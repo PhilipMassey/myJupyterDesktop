{
 "cells": [
  {
   "cell_type": "code",
   "execution_count": 40,
   "metadata": {},
   "outputs": [
    {
     "name": "stdout",
     "output_type": "stream",
     "text": [
      "Populating the interactive namespace from numpy and matplotlib\n"
     ]
    }
   ],
   "source": [
    "import matplotlib.pyplot as plt\n",
    "import matplotlib.dates as dates\n",
    "%pylab inline\n",
    "pylab.rcParams['figure.figsize'] = (12, 8)   # Change the size of plots\n",
    "\n",
    "import pandas as pd\n",
    "import pandas_datareader as web\n",
    "import datetime\n",
    " "
   ]
  },
  {
   "cell_type": "code",
   "execution_count": 56,
   "metadata": {},
   "outputs": [],
   "source": [
    "\n",
    "dbroker = { 'DIA':{'count':400, 'cost':247.79, 'stop':240.00},\n",
    "            'VOO':{'count':400, 'cost':248.89, 'stop':240.00},\n",
    "            'VTI':{'count':700, 'cost':139.77, 'stop':136.00}\n",
    "          }\n",
    "# stocks = web.DataReader(ticker, 'iex-last')\n",
    "# tick = 'VOO'\n",
    "# price = stocks[stocks['symbol'] == tick]['price'].values[0]\n"
   ]
  },
  {
   "cell_type": "code",
   "execution_count": 62,
   "metadata": {},
   "outputs": [
    {
     "name": "stdout",
     "output_type": "stream",
     "text": [
      "ticker \t\t price \t\t change \t til_stop\n",
      "DIA\t\t239.23\t\t-1.56\t\t-0.77\n",
      "VOO\t\t241.00\t\t-7.89\t\t1.00\n",
      "VTI\t\t135.34\t\t-0.66\t\t-0.66\n",
      "\n",
      "total loss \t\t\t -4242.0\n",
      "1y\n",
      "DIA date\n",
      "2018-04-02    236.0237\n",
      "2018-04-03    240.0215\n",
      "2018-04-04    242.3303\n",
      "2018-04-05    244.7790\n",
      "2018-04-06    239.0021\n",
      "2018-04-09    239.6017\n",
      "2018-04-10    243.8795\n",
      "2018-04-11    241.7506\n",
      "2018-04-12    244.6790\n",
      "2018-04-13    243.4497\n",
      "2018-04-16    245.4886\n",
      "2018-04-17    247.6674\n",
      "2018-04-18    247.2477\n",
      "2018-04-19    246.4381\n",
      "2018-04-20    244.4800\n",
      "2018-04-23    244.3500\n",
      "Name: close, dtype: float64\n",
      "VOO date\n",
      "2018-04-02    236.48\n",
      "2018-04-03    239.48\n",
      "2018-04-04    242.24\n",
      "2018-04-05    243.99\n",
      "2018-04-06    238.62\n",
      "2018-04-09    239.59\n",
      "2018-04-10    243.54\n",
      "2018-04-11    242.25\n",
      "2018-04-12    244.28\n",
      "2018-04-13    243.60\n",
      "2018-04-16    245.58\n",
      "2018-04-17    248.22\n",
      "2018-04-18    248.36\n",
      "2018-04-19    247.00\n",
      "2018-04-20    245.00\n",
      "2018-04-23    244.89\n",
      "Name: close, dtype: float64\n",
      "VTI date\n",
      "2018-04-02    132.63\n",
      "2018-04-03    134.28\n",
      "2018-04-04    135.79\n",
      "2018-04-05    136.74\n",
      "2018-04-06    133.87\n",
      "2018-04-09    134.32\n",
      "2018-04-10    136.50\n",
      "2018-04-11    135.87\n",
      "2018-04-12    136.97\n",
      "2018-04-13    136.58\n",
      "2018-04-16    137.72\n",
      "2018-04-17    139.17\n",
      "2018-04-18    139.36\n",
      "2018-04-19    138.60\n",
      "2018-04-20    137.50\n",
      "2018-04-23    137.45\n",
      "Name: close, dtype: float64\n"
     ]
    }
   ],
   "source": [
    "ticker = ['DIA','VOO', 'VTI']\n",
    "\n",
    "dbroker = { 'DIA':{'count':400, 'cost':240.79, 'stop':240.00},\n",
    "            'VOO':{'count':400, 'cost':248.89, 'stop':240.00},\n",
    "            'VTI':{'count':700, 'cost':136.00, 'stop':136.00}\n",
    "          }\n",
    "\n",
    "stocks = web.DataReader(ticker, 'iex-last')\n",
    "\n",
    "total_loss = 0.0\n",
    "print('ticker','\\t\\t','price','\\t\\t','change','\\t', 'til_stop')\n",
    "\n",
    "for tick in ticker:\n",
    "    price = stocks[stocks['symbol'] == tick]['price'].values[0]\n",
    "    cost = dbroker[tick]['cost']\n",
    "    change = round(price - cost,2)\n",
    "    count = dbroker[tick]['count']\n",
    "    loss = round(count * change,2)\n",
    "    total_loss += loss\n",
    "    stop = dbroker[tick]['stop']\n",
    "    til_stop = round(price - stop,2)\n",
    "\n",
    "    print('{0}\\t\\t{1:.2f}\\t\\t{2:.2f}\\t\\t{3:.2f}'.format(tick,price,change, til_stop))\n",
    "\n",
    "print('\\ntotal loss','\\t\\t\\t', total_loss)\n",
    "\n",
    "#stocks = web.DataReader(ticker, 'iex-tops')\n",
    "#stocks\n",
    "\n",
    "start = datetime.datetime(2018,4,1)\n",
    "end = datetime.date.today()\n",
    "stocks = web.DataReader(ticker, 'iex', start, end)\n",
    "\n",
    "for key in stocks.keys():\n",
    "    print(key, stocks[key]['close'])"
   ]
  },
  {
   "cell_type": "code",
   "execution_count": 25,
   "metadata": {
    "scrolled": false
   },
   "outputs": [
    {
     "data": {
      "text/plain": [
       "{'DIA': {'asks': [{'price': 244.28, 'size': 100, 'timestamp': 1524513493221},\n",
       "   {'price': 244.3, 'size': 100, 'timestamp': 1524513480488},\n",
       "   {'price': 244.32, 'size': 100, 'timestamp': 1524513472925},\n",
       "   {'price': 244.34, 'size': 100, 'timestamp': 1524513452261},\n",
       "   {'price': 244.36, 'size': 100, 'timestamp': 1524513450360},\n",
       "   {'price': 244.38, 'size': 100, 'timestamp': 1524513450251},\n",
       "   {'price': 244.4, 'size': 100, 'timestamp': 1524513450797},\n",
       "   {'price': 250.43, 'size': 100, 'timestamp': 1524513010559},\n",
       "   {'price': 292.88, 'size': 100, 'timestamp': 1524512100109}],\n",
       "  'bids': [{'price': 244.24, 'size': 100, 'timestamp': 1524513519208},\n",
       "   {'price': 244.22, 'size': 100, 'timestamp': 1524513450251},\n",
       "   {'price': 244.2, 'size': 100, 'timestamp': 1524513472949},\n",
       "   {'price': 244.18, 'size': 100, 'timestamp': 1524513487464},\n",
       "   {'price': 244.16, 'size': 100, 'timestamp': 1524513494836},\n",
       "   {'price': 238.21, 'size': 100, 'timestamp': 1524513010559},\n",
       "   {'price': 195.23, 'size': 100, 'timestamp': 1524512100108}]},\n",
       " 'VOO': {'asks': [{'price': 244.82, 'size': 100, 'timestamp': 1524513515405},\n",
       "   {'price': 244.83, 'size': 500, 'timestamp': 1524513515405},\n",
       "   {'price': 244.85, 'size': 500, 'timestamp': 1524513513684},\n",
       "   {'price': 244.87, 'size': 500, 'timestamp': 1524513462105},\n",
       "   {'price': 244.89, 'size': 500, 'timestamp': 1524513452127},\n",
       "   {'price': 244.92, 'size': 500, 'timestamp': 1524513343713},\n",
       "   {'price': 244.94, 'size': 500, 'timestamp': 1524513361143},\n",
       "   {'price': 244.96, 'size': 500, 'timestamp': 1524513408453},\n",
       "   {'price': 244.99, 'size': 500, 'timestamp': 1524513410943},\n",
       "   {'price': 245.53, 'size': 100, 'timestamp': 1524506734499},\n",
       "   {'price': 246.26, 'size': 100, 'timestamp': 1524499979887},\n",
       "   {'price': 246.99, 'size': 100, 'timestamp': 1524510155064},\n",
       "   {'price': 250.99, 'size': 100, 'timestamp': 1524513011441},\n",
       "   {'price': 293.58, 'size': 100, 'timestamp': 1524512100154}],\n",
       "  'bids': [{'price': 244.8, 'size': 100, 'timestamp': 1524513514231},\n",
       "   {'price': 244.79, 'size': 500, 'timestamp': 1524513519191},\n",
       "   {'price': 244.77, 'size': 500, 'timestamp': 1524513356052},\n",
       "   {'price': 244.75, 'size': 500, 'timestamp': 1524513338784},\n",
       "   {'price': 244.72, 'size': 500, 'timestamp': 1524513330392},\n",
       "   {'price': 244.7, 'size': 500, 'timestamp': 1524513300045},\n",
       "   {'price': 244.68, 'size': 500, 'timestamp': 1524513495604},\n",
       "   {'price': 244.05, 'size': 100, 'timestamp': 1524512730695},\n",
       "   {'price': 243.32, 'size': 100, 'timestamp': 1524510054926},\n",
       "   {'price': 242.59, 'size': 100, 'timestamp': 1524500358049},\n",
       "   {'price': 238.72, 'size': 100, 'timestamp': 1524513011441},\n",
       "   {'price': 195.72, 'size': 100, 'timestamp': 1524512100151}]},\n",
       " 'VTI': {'asks': [{'price': 137.42, 'size': 200, 'timestamp': 1524513515179},\n",
       "   {'price': 137.82, 'size': 100, 'timestamp': 1524506734496},\n",
       "   {'price': 138.23, 'size': 100, 'timestamp': 1524499982402},\n",
       "   {'price': 138.64, 'size': 100, 'timestamp': 1524510144148},\n",
       "   {'price': 140.82, 'size': 100, 'timestamp': 1524513139589},\n",
       "   {'price': 164.78, 'size': 100, 'timestamp': 1524512100155}],\n",
       "  'bids': [{'price': 137.39, 'size': 100, 'timestamp': 1524513518239},\n",
       "   {'price': 136.99, 'size': 100, 'timestamp': 1524512711376},\n",
       "   {'price': 136.58, 'size': 100, 'timestamp': 1524510059191},\n",
       "   {'price': 136.17, 'size': 100, 'timestamp': 1524500358051},\n",
       "   {'price': 133.95, 'size': 100, 'timestamp': 1524513139589},\n",
       "   {'price': 109.85, 'size': 100, 'timestamp': 1524512100152}]}}"
      ]
     },
     "execution_count": 25,
     "metadata": {},
     "output_type": "execute_result"
    }
   ],
   "source": [
    "stocks = web.DataReader(ticker, 'iex-book')\n",
    "stocks"
   ]
  },
  {
   "cell_type": "code",
   "execution_count": null,
   "metadata": {},
   "outputs": [],
   "source": []
  },
  {
   "cell_type": "code",
   "execution_count": null,
   "metadata": {},
   "outputs": [],
   "source": []
  }
 ],
 "metadata": {
  "kernelspec": {
   "display_name": "Python 3",
   "language": "python",
   "name": "python3"
  },
  "language_info": {
   "codemirror_mode": {
    "name": "ipython",
    "version": 3
   },
   "file_extension": ".py",
   "mimetype": "text/x-python",
   "name": "python",
   "nbconvert_exporter": "python",
   "pygments_lexer": "ipython3",
   "version": "3.6.2"
  }
 },
 "nbformat": 4,
 "nbformat_minor": 2
}
