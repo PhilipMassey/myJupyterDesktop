{
 "cells": [
  {
   "cell_type": "code",
   "execution_count": 29,
   "metadata": {},
   "outputs": [],
   "source": [
    "\n",
    "from alpha_vantage.timeseries import TimeSeries\n",
    "from alpha_vantage.techindicators import TechIndicators\n",
    "from alpha_vantage.sectorperformance import SectorPerformances\n",
    "from alpha_vantage.cryptocurrencies import CryptoCurrencies\n",
    "import matplotlib\n",
    "\n",
    "import matplotlib.pyplot as plt\n",
    "\n",
    "%matplotlib inline\n",
    "import os\n",
    "# Make plots bigger\n",
    "matplotlib.rcParams['figure.figsize'] = (12, 8)\n",
    "sp = SectorPerformances(key='LJQX8580YS8GDLSL', output_format='pandas')"
   ]
  },
  {
   "cell_type": "markdown",
   "metadata": {},
   "source": [
    "### Working with Sector Performance\n"
   ]
  },
  {
   "cell_type": "code",
   "execution_count": 7,
   "metadata": {},
   "outputs": [
    {
     "data": {
      "text/html": [
       "<div>\n",
       "<style scoped>\n",
       "    .dataframe tbody tr th:only-of-type {\n",
       "        vertical-align: middle;\n",
       "    }\n",
       "\n",
       "    .dataframe tbody tr th {\n",
       "        vertical-align: top;\n",
       "    }\n",
       "\n",
       "    .dataframe thead th {\n",
       "        text-align: right;\n",
       "    }\n",
       "</style>\n",
       "<table border=\"1\" class=\"dataframe\">\n",
       "  <thead>\n",
       "    <tr style=\"text-align: right;\">\n",
       "      <th></th>\n",
       "      <th>Rank A: Real-Time Performance</th>\n",
       "      <th>Rank B: Day Performance</th>\n",
       "      <th>Rank C: Day Performance</th>\n",
       "      <th>Rank D: Month Performance</th>\n",
       "      <th>Rank E: Month Performance</th>\n",
       "      <th>Rank F: Year-to-Date (YTD) Performance</th>\n",
       "      <th>Rank G: Year Performance</th>\n",
       "      <th>Rank H: Year Performance</th>\n",
       "      <th>Rank I: Year Performance</th>\n",
       "      <th>Rank J: Year Performance</th>\n",
       "    </tr>\n",
       "  </thead>\n",
       "  <tbody>\n",
       "    <tr>\n",
       "      <th>Consumer Discretionary</th>\n",
       "      <td>0.0062</td>\n",
       "      <td>0.0187</td>\n",
       "      <td>0.0218</td>\n",
       "      <td>-0.0134</td>\n",
       "      <td>-0.0042</td>\n",
       "      <td>0.0530</td>\n",
       "      <td>0.1997</td>\n",
       "      <td>0.3649</td>\n",
       "      <td>0.9419</td>\n",
       "      <td>2.3572</td>\n",
       "    </tr>\n",
       "    <tr>\n",
       "      <th>Consumer Staples</th>\n",
       "      <td>-0.0102</td>\n",
       "      <td>0.0023</td>\n",
       "      <td>0.0139</td>\n",
       "      <td>-0.0004</td>\n",
       "      <td>-0.0656</td>\n",
       "      <td>-0.0661</td>\n",
       "      <td>-0.0270</td>\n",
       "      <td>0.0782</td>\n",
       "      <td>0.3030</td>\n",
       "      <td>0.8775</td>\n",
       "    </tr>\n",
       "    <tr>\n",
       "      <th>Energy</th>\n",
       "      <td>0.0197</td>\n",
       "      <td>0.0040</td>\n",
       "      <td>0.0358</td>\n",
       "      <td>0.0749</td>\n",
       "      <td>-0.0526</td>\n",
       "      <td>0.0034</td>\n",
       "      <td>0.0507</td>\n",
       "      <td>-0.1119</td>\n",
       "      <td>-0.0438</td>\n",
       "      <td>-0.1316</td>\n",
       "    </tr>\n",
       "    <tr>\n",
       "      <th>Financials</th>\n",
       "      <td>-0.0044</td>\n",
       "      <td>-0.0007</td>\n",
       "      <td>-0.0062</td>\n",
       "      <td>-0.0477</td>\n",
       "      <td>-0.0548</td>\n",
       "      <td>-0.0141</td>\n",
       "      <td>0.2024</td>\n",
       "      <td>0.3883</td>\n",
       "      <td>0.8484</td>\n",
       "      <td>0.3311</td>\n",
       "    </tr>\n",
       "    <tr>\n",
       "      <th>Health Care</th>\n",
       "      <td>0.0004</td>\n",
       "      <td>0.0082</td>\n",
       "      <td>0.0133</td>\n",
       "      <td>-0.0278</td>\n",
       "      <td>-0.0462</td>\n",
       "      <td>0.0063</td>\n",
       "      <td>0.1257</td>\n",
       "      <td>0.1266</td>\n",
       "      <td>0.7404</td>\n",
       "      <td>1.6250</td>\n",
       "    </tr>\n",
       "    <tr>\n",
       "      <th>Industrials</th>\n",
       "      <td>0.0121</td>\n",
       "      <td>0.0084</td>\n",
       "      <td>0.0230</td>\n",
       "      <td>-0.0169</td>\n",
       "      <td>-0.0551</td>\n",
       "      <td>-0.0065</td>\n",
       "      <td>0.1502</td>\n",
       "      <td>0.3018</td>\n",
       "      <td>0.7783</td>\n",
       "      <td>0.8757</td>\n",
       "    </tr>\n",
       "    <tr>\n",
       "      <th>Information Technology</th>\n",
       "      <td>-0.0021</td>\n",
       "      <td>0.0201</td>\n",
       "      <td>0.0318</td>\n",
       "      <td>-0.0244</td>\n",
       "      <td>0.0264</td>\n",
       "      <td>0.0745</td>\n",
       "      <td>0.3375</td>\n",
       "      <td>0.6934</td>\n",
       "      <td>1.4834</td>\n",
       "      <td>2.3078</td>\n",
       "    </tr>\n",
       "    <tr>\n",
       "      <th>Materials</th>\n",
       "      <td>0.0076</td>\n",
       "      <td>0.0112</td>\n",
       "      <td>0.0270</td>\n",
       "      <td>0.0054</td>\n",
       "      <td>-0.0504</td>\n",
       "      <td>-0.0162</td>\n",
       "      <td>0.1587</td>\n",
       "      <td>0.1869</td>\n",
       "      <td>0.5598</td>\n",
       "      <td>0.3576</td>\n",
       "    </tr>\n",
       "    <tr>\n",
       "      <th>Real Estate</th>\n",
       "      <td>-0.0006</td>\n",
       "      <td>0.0133</td>\n",
       "      <td>0.0131</td>\n",
       "      <td>-0.0087</td>\n",
       "      <td>-0.0110</td>\n",
       "      <td>-0.0591</td>\n",
       "      <td>-0.0316</td>\n",
       "      <td>NaN</td>\n",
       "      <td>NaN</td>\n",
       "      <td>NaN</td>\n",
       "    </tr>\n",
       "    <tr>\n",
       "      <th>Telecommunication Services</th>\n",
       "      <td>-0.0038</td>\n",
       "      <td>0.0010</td>\n",
       "      <td>-0.0010</td>\n",
       "      <td>-0.0189</td>\n",
       "      <td>-0.0430</td>\n",
       "      <td>-0.0792</td>\n",
       "      <td>-0.0750</td>\n",
       "      <td>-0.0091</td>\n",
       "      <td>-0.0697</td>\n",
       "      <td>0.0797</td>\n",
       "    </tr>\n",
       "    <tr>\n",
       "      <th>Utilities</th>\n",
       "      <td>-0.0003</td>\n",
       "      <td>0.0105</td>\n",
       "      <td>0.0168</td>\n",
       "      <td>0.0129</td>\n",
       "      <td>0.0155</td>\n",
       "      <td>-0.0331</td>\n",
       "      <td>-0.0138</td>\n",
       "      <td>0.1494</td>\n",
       "      <td>0.2653</td>\n",
       "      <td>0.2577</td>\n",
       "    </tr>\n",
       "  </tbody>\n",
       "</table>\n",
       "</div>"
      ],
      "text/plain": [
       "                            Rank A: Real-Time Performance  \\\n",
       "Consumer Discretionary                             0.0062   \n",
       "Consumer Staples                                  -0.0102   \n",
       "Energy                                             0.0197   \n",
       "Financials                                        -0.0044   \n",
       "Health Care                                        0.0004   \n",
       "Industrials                                        0.0121   \n",
       "Information Technology                            -0.0021   \n",
       "Materials                                          0.0076   \n",
       "Real Estate                                       -0.0006   \n",
       "Telecommunication Services                        -0.0038   \n",
       "Utilities                                         -0.0003   \n",
       "\n",
       "                            Rank B: Day Performance  Rank C: Day Performance  \\\n",
       "Consumer Discretionary                       0.0187                   0.0218   \n",
       "Consumer Staples                             0.0023                   0.0139   \n",
       "Energy                                       0.0040                   0.0358   \n",
       "Financials                                  -0.0007                  -0.0062   \n",
       "Health Care                                  0.0082                   0.0133   \n",
       "Industrials                                  0.0084                   0.0230   \n",
       "Information Technology                       0.0201                   0.0318   \n",
       "Materials                                    0.0112                   0.0270   \n",
       "Real Estate                                  0.0133                   0.0131   \n",
       "Telecommunication Services                   0.0010                  -0.0010   \n",
       "Utilities                                    0.0105                   0.0168   \n",
       "\n",
       "                            Rank D: Month Performance  \\\n",
       "Consumer Discretionary                        -0.0134   \n",
       "Consumer Staples                              -0.0004   \n",
       "Energy                                         0.0749   \n",
       "Financials                                    -0.0477   \n",
       "Health Care                                   -0.0278   \n",
       "Industrials                                   -0.0169   \n",
       "Information Technology                        -0.0244   \n",
       "Materials                                      0.0054   \n",
       "Real Estate                                   -0.0087   \n",
       "Telecommunication Services                    -0.0189   \n",
       "Utilities                                      0.0129   \n",
       "\n",
       "                            Rank E: Month Performance  \\\n",
       "Consumer Discretionary                        -0.0042   \n",
       "Consumer Staples                              -0.0656   \n",
       "Energy                                        -0.0526   \n",
       "Financials                                    -0.0548   \n",
       "Health Care                                   -0.0462   \n",
       "Industrials                                   -0.0551   \n",
       "Information Technology                         0.0264   \n",
       "Materials                                     -0.0504   \n",
       "Real Estate                                   -0.0110   \n",
       "Telecommunication Services                    -0.0430   \n",
       "Utilities                                      0.0155   \n",
       "\n",
       "                            Rank F: Year-to-Date (YTD) Performance  \\\n",
       "Consumer Discretionary                                      0.0530   \n",
       "Consumer Staples                                           -0.0661   \n",
       "Energy                                                      0.0034   \n",
       "Financials                                                 -0.0141   \n",
       "Health Care                                                 0.0063   \n",
       "Industrials                                                -0.0065   \n",
       "Information Technology                                      0.0745   \n",
       "Materials                                                  -0.0162   \n",
       "Real Estate                                                -0.0591   \n",
       "Telecommunication Services                                 -0.0792   \n",
       "Utilities                                                  -0.0331   \n",
       "\n",
       "                            Rank G: Year Performance  \\\n",
       "Consumer Discretionary                        0.1997   \n",
       "Consumer Staples                             -0.0270   \n",
       "Energy                                        0.0507   \n",
       "Financials                                    0.2024   \n",
       "Health Care                                   0.1257   \n",
       "Industrials                                   0.1502   \n",
       "Information Technology                        0.3375   \n",
       "Materials                                     0.1587   \n",
       "Real Estate                                  -0.0316   \n",
       "Telecommunication Services                   -0.0750   \n",
       "Utilities                                    -0.0138   \n",
       "\n",
       "                            Rank H: Year Performance  \\\n",
       "Consumer Discretionary                        0.3649   \n",
       "Consumer Staples                              0.0782   \n",
       "Energy                                       -0.1119   \n",
       "Financials                                    0.3883   \n",
       "Health Care                                   0.1266   \n",
       "Industrials                                   0.3018   \n",
       "Information Technology                        0.6934   \n",
       "Materials                                     0.1869   \n",
       "Real Estate                                      NaN   \n",
       "Telecommunication Services                   -0.0091   \n",
       "Utilities                                     0.1494   \n",
       "\n",
       "                            Rank I: Year Performance  Rank J: Year Performance  \n",
       "Consumer Discretionary                        0.9419                    2.3572  \n",
       "Consumer Staples                              0.3030                    0.8775  \n",
       "Energy                                       -0.0438                   -0.1316  \n",
       "Financials                                    0.8484                    0.3311  \n",
       "Health Care                                   0.7404                    1.6250  \n",
       "Industrials                                   0.7783                    0.8757  \n",
       "Information Technology                        1.4834                    2.3078  \n",
       "Materials                                     0.5598                    0.3576  \n",
       "Real Estate                                      NaN                       NaN  \n",
       "Telecommunication Services                   -0.0697                    0.0797  \n",
       "Utilities                                     0.2653                    0.2577  "
      ]
     },
     "execution_count": 7,
     "metadata": {},
     "output_type": "execute_result"
    },
    {
     "data": {
      "text/plain": [
       "Index(['Rank A: Real-Time Performance', 'Rank B: Day Performance',\n",
       "       'Rank C: Day Performance', 'Rank D: Month Performance',\n",
       "       'Rank E: Month Performance', 'Rank F: Year-to-Date (YTD) Performance',\n",
       "       'Rank G: Year Performance', 'Rank H: Year Performance',\n",
       "       'Rank I: Year Performance', 'Rank J: Year Performance'],\n",
       "      dtype='object')"
      ]
     },
     "execution_count": 7,
     "metadata": {},
     "output_type": "execute_result"
    }
   ],
   "source": [
    "\n",
    "data, meta_data = sp.get_sector()\n",
    "data\n",
    "data.columns\n",
    "\n"
   ]
  },
  {
   "cell_type": "code",
   "execution_count": 30,
   "metadata": {},
   "outputs": [
    {
     "name": "stdout",
     "output_type": "stream",
     "text": [
      "Rank A: Real-Time Performance\n"
     ]
    },
    {
     "data": {
      "image/png": "[encoded data removed]",
      "text/plain": [
       "<Figure size 864x576 with 1 Axes>"
      ]
     },
     "metadata": {},
     "output_type": "display_data"
    }
   ],
   "source": [
    "idx = 0\n",
    "column = data.columns[idx]\n",
    "print(column)\n",
    "data[column].plot(kind='bar')\n",
    "plt.title(column + ' (%) per Sector')\n",
    "plt.tight_layout()\n",
    "plt.grid()\n",
    "plt.show();"
   ]
  },
  {
   "cell_type": "code",
   "execution_count": 38,
   "metadata": {},
   "outputs": [
    {
     "name": "stdout",
     "output_type": "stream",
     "text": [
      "Rank A: Real-Time Performance\n"
     ]
    },
    {
     "data": {
      "text/plain": [
       "<matplotlib.axes._subplots.AxesSubplot at 0x1221ccfd0>"
      ]
     },
     "execution_count": 38,
     "metadata": {},
     "output_type": "execute_result"
    },
    {
     "data": {
      "text/plain": [
       "Text(0.5,1,'Rank A: Real-Time Performance (%) per Sector')"
      ]
     },
     "execution_count": 38,
     "metadata": {},
     "output_type": "execute_result"
    },
    {
     "data": {
      "text/html": [
       "\n",
       "\n",
       "<style>\n",
       "\n",
       "</style>\n",
       "\n",
       "<div id=\"fig_el1212448671619529351949429\"></div>\n",
       "<script>\n",
       "function mpld3_load_lib(url, callback){\n",
       "  var s = document.createElement('script');\n",
       "  s.src = url;\n",
       "  s.async = true;\n",
       "  s.onreadystatechange = s.onload = callback;\n",
       "  s.onerror = function(){console.warn(\"failed to load library \" + url);};\n",
       "  document.getElementsByTagName(\"head\")[0].appendChild(s);\n",
       "}\n",
       "\n",
       "if(typeof(mpld3) !== \"undefined\" && mpld3._mpld3IsLoaded){\n",
       "   // already loaded: just create the figure\n",
       "   !function(mpld3){\n",
       "       \n",
       "       mpld3.draw_figure(\"fig_el1212448671619529351949429\", {\"width\": 864.0, \"height\": 576.0, \"axes\": [{\"bbox\": [0.06313657407407408, 0.2800075954861111, 0.9203125000000001, 0.6734646267361112], \"xlim\": [-0.5, 10.5], \"ylim\": [-0.011695, 0.021195], \"xdomain\": [-0.5, 10.5], \"ydomain\": [-0.011695, 0.021195], \"xscale\": \"linear\", \"yscale\": \"linear\", \"axes\": [{\"position\": \"bottom\", \"nticks\": 11, \"tickvalues\": [0, 1, 2, 3, 4, 5, 6, 7, 8, 9, 10], \"tickformat\": [\"Consumer Discretionary\", \"Consumer Staples\", \"Energy\", \"Financials\", \"Health Care\", \"Industrials\", \"Information Technology\", \"Materials\", \"Real Estate\", \"Telecommunication Services\", \"Utilities\"], \"scale\": \"linear\", \"fontsize\": 10.0, \"grid\": {\"gridOn\": true, \"color\": \"#B0B0B0\", \"dasharray\": \"none\", \"alpha\": 1.0}, \"visible\": true}, {\"position\": \"left\", \"nticks\": 9, \"tickvalues\": null, \"tickformat\": null, \"scale\": \"linear\", \"fontsize\": 10.0, \"grid\": {\"gridOn\": true, \"color\": \"#B0B0B0\", \"dasharray\": \"none\", \"alpha\": 1.0}, \"visible\": true}], \"axesbg\": \"#FFFFFF\", \"axesbgalpha\": null, \"zoomable\": true, \"id\": \"el121244867280848\", \"lines\": [], \"paths\": [{\"data\": \"data01\", \"xindex\": 0, \"yindex\": 1, \"coordinates\": \"data\", \"pathcodes\": [\"M\", \"L\", \"L\", \"L\", \"Z\"], \"id\": \"el121244872225512\", \"dasharray\": \"none\", \"alpha\": 1, \"facecolor\": \"#1F77B4\", \"edgecolor\": \"none\", \"edgewidth\": 1.0, \"zorder\": 1}, {\"data\": \"data02\", \"xindex\": 0, \"yindex\": 1, \"coordinates\": \"data\", \"pathcodes\": [\"M\", \"L\", \"L\", \"L\", \"Z\"], \"id\": \"el121244872226240\", \"dasharray\": \"none\", \"alpha\": 1, \"facecolor\": \"#FF7F0E\", \"edgecolor\": \"none\", \"edgewidth\": 1.0, \"zorder\": 1}, {\"data\": \"data03\", \"xindex\": 0, \"yindex\": 1, \"coordinates\": \"data\", \"pathcodes\": [\"M\", \"L\", \"L\", \"L\", \"Z\"], \"id\": \"el121244872227136\", \"dasharray\": \"none\", \"alpha\": 1, \"facecolor\": \"#2CA02C\", \"edgecolor\": \"none\", \"edgewidth\": 1.0, \"zorder\": 1}, {\"data\": \"data04\", \"xindex\": 0, \"yindex\": 1, \"coordinates\": \"data\", \"pathcodes\": [\"M\", \"L\", \"L\", \"L\", \"Z\"], \"id\": \"el121244872228032\", \"dasharray\": \"none\", \"alpha\": 1, \"facecolor\": \"#D62728\", \"edgecolor\": \"none\", \"edgewidth\": 1.0, \"zorder\": 1}, {\"data\": \"data05\", \"xindex\": 0, \"yindex\": 1, \"coordinates\": \"data\", \"pathcodes\": [\"M\", \"L\", \"L\", \"L\", \"Z\"], \"id\": \"el121244872257664\", \"dasharray\": \"none\", \"alpha\": 1, \"facecolor\": \"#9467BD\", \"edgecolor\": \"none\", \"edgewidth\": 1.0, \"zorder\": 1}, {\"data\": \"data06\", \"xindex\": 0, \"yindex\": 1, \"coordinates\": \"data\", \"pathcodes\": [\"M\", \"L\", \"L\", \"L\", \"Z\"], \"id\": \"el121244872258560\", \"dasharray\": \"none\", \"alpha\": 1, \"facecolor\": \"#8C564B\", \"edgecolor\": \"none\", \"edgewidth\": 1.0, \"zorder\": 1}, {\"data\": \"data07\", \"xindex\": 0, \"yindex\": 1, \"coordinates\": \"data\", \"pathcodes\": [\"M\", \"L\", \"L\", \"L\", \"Z\"], \"id\": \"el121244872259456\", \"dasharray\": \"none\", \"alpha\": 1, \"facecolor\": \"#E377C2\", \"edgecolor\": \"none\", \"edgewidth\": 1.0, \"zorder\": 1}, {\"data\": \"data08\", \"xindex\": 0, \"yindex\": 1, \"coordinates\": \"data\", \"pathcodes\": [\"M\", \"L\", \"L\", \"L\", \"Z\"], \"id\": \"el121244872260352\", \"dasharray\": \"none\", \"alpha\": 1, \"facecolor\": \"#7F7F7F\", \"edgecolor\": \"none\", \"edgewidth\": 1.0, \"zorder\": 1}, {\"data\": \"data09\", \"xindex\": 0, \"yindex\": 1, \"coordinates\": \"data\", \"pathcodes\": [\"M\", \"L\", \"L\", \"L\", \"Z\"], \"id\": \"el121244872261248\", \"dasharray\": \"none\", \"alpha\": 1, \"facecolor\": \"#BCBD22\", \"edgecolor\": \"none\", \"edgewidth\": 1.0, \"zorder\": 1}, {\"data\": \"data10\", \"xindex\": 0, \"yindex\": 1, \"coordinates\": \"data\", \"pathcodes\": [\"M\", \"L\", \"L\", \"L\", \"Z\"], \"id\": \"el121244872303168\", \"dasharray\": \"none\", \"alpha\": 1, \"facecolor\": \"#17BECF\", \"edgecolor\": \"none\", \"edgewidth\": 1.0, \"zorder\": 1}, {\"data\": \"data11\", \"xindex\": 0, \"yindex\": 1, \"coordinates\": \"data\", \"pathcodes\": [\"M\", \"L\", \"L\", \"L\", \"Z\"], \"id\": \"el121244872304064\", \"dasharray\": \"none\", \"alpha\": 1, \"facecolor\": \"#1F77B4\", \"edgecolor\": \"none\", \"edgewidth\": 1.0, \"zorder\": 1}], \"markers\": [], \"texts\": [{\"text\": \"Rank A: Real-Time Performance (%) per Sector\", \"position\": [0.49999999999999994, 1.0154672810614422], \"coordinates\": \"axes\", \"h_anchor\": \"middle\", \"v_baseline\": \"auto\", \"rotation\": -0.0, \"fontsize\": 12.0, \"color\": \"#000000\", \"alpha\": 1, \"zorder\": 3, \"id\": \"el121244872138200\"}], \"collections\": [], \"images\": [], \"sharex\": [], \"sharey\": []}], \"data\": {\"data01\": [[-0.25, 0.0], [0.25, 0.0], [0.25, 0.0062], [-0.25, 0.0062]], \"data02\": [[0.75, 0.0], [1.25, 0.0], [1.25, -0.0102], [0.75, -0.0102]], \"data03\": [[1.75, 0.0], [2.25, 0.0], [2.25, 0.0197], [1.75, 0.0197]], \"data04\": [[2.75, 0.0], [3.25, 0.0], [3.25, -0.0044], [2.75, -0.0044]], \"data05\": [[3.75, 0.0], [4.25, 0.0], [4.25, 0.0004], [3.75, 0.0004]], \"data06\": [[4.75, 0.0], [5.25, 0.0], [5.25, 0.0121], [4.75, 0.0121]], \"data07\": [[5.75, 0.0], [6.25, 0.0], [6.25, -0.0021], [5.75, -0.0021]], \"data08\": [[6.75, 0.0], [7.25, 0.0], [7.25, 0.0076], [6.75, 0.0076]], \"data09\": [[7.75, 0.0], [8.25, 0.0], [8.25, -0.0006], [7.75, -0.0006]], \"data10\": [[8.75, 0.0], [9.25, 0.0], [9.25, -0.0038], [8.75, -0.0038]], \"data11\": [[9.75, 0.0], [10.25, 0.0], [10.25, -0.0003], [9.75, -0.0003]]}, \"id\": \"el121244867161952\", \"plugins\": [{\"type\": \"reset\"}, {\"type\": \"zoom\", \"button\": true, \"enabled\": false}, {\"type\": \"boxzoom\", \"button\": true, \"enabled\": false}]});\n",
       "   }(mpld3);\n",
       "}else if(typeof define === \"function\" && define.amd){\n",
       "   // require.js is available: use it to load d3/mpld3\n",
       "   require.config({paths: {d3: \"https://mpld3.github.io/js/d3.v3.min\"}});\n",
       "   require([\"d3\"], function(d3){\n",
       "      window.d3 = d3;\n",
       "      mpld3_load_lib(\"https://mpld3.github.io/js/mpld3.v0.3.js\", function(){\n",
       "         \n",
       "         mpld3.draw_figure(\"fig_el1212448671619529351949429\", {\"width\": 864.0, \"height\": 576.0, \"axes\": [{\"bbox\": [0.06313657407407408, 0.2800075954861111, 0.9203125000000001, 0.6734646267361112], \"xlim\": [-0.5, 10.5], \"ylim\": [-0.011695, 0.021195], \"xdomain\": [-0.5, 10.5], \"ydomain\": [-0.011695, 0.021195], \"xscale\": \"linear\", \"yscale\": \"linear\", \"axes\": [{\"position\": \"bottom\", \"nticks\": 11, \"tickvalues\": [0, 1, 2, 3, 4, 5, 6, 7, 8, 9, 10], \"tickformat\": [\"Consumer Discretionary\", \"Consumer Staples\", \"Energy\", \"Financials\", \"Health Care\", \"Industrials\", \"Information Technology\", \"Materials\", \"Real Estate\", \"Telecommunication Services\", \"Utilities\"], \"scale\": \"linear\", \"fontsize\": 10.0, \"grid\": {\"gridOn\": true, \"color\": \"#B0B0B0\", \"dasharray\": \"none\", \"alpha\": 1.0}, \"visible\": true}, {\"position\": \"left\", \"nticks\": 9, \"tickvalues\": null, \"tickformat\": null, \"scale\": \"linear\", \"fontsize\": 10.0, \"grid\": {\"gridOn\": true, \"color\": \"#B0B0B0\", \"dasharray\": \"none\", \"alpha\": 1.0}, \"visible\": true}], \"axesbg\": \"#FFFFFF\", \"axesbgalpha\": null, \"zoomable\": true, \"id\": \"el121244867280848\", \"lines\": [], \"paths\": [{\"data\": \"data01\", \"xindex\": 0, \"yindex\": 1, \"coordinates\": \"data\", \"pathcodes\": [\"M\", \"L\", \"L\", \"L\", \"Z\"], \"id\": \"el121244872225512\", \"dasharray\": \"none\", \"alpha\": 1, \"facecolor\": \"#1F77B4\", \"edgecolor\": \"none\", \"edgewidth\": 1.0, \"zorder\": 1}, {\"data\": \"data02\", \"xindex\": 0, \"yindex\": 1, \"coordinates\": \"data\", \"pathcodes\": [\"M\", \"L\", \"L\", \"L\", \"Z\"], \"id\": \"el121244872226240\", \"dasharray\": \"none\", \"alpha\": 1, \"facecolor\": \"#FF7F0E\", \"edgecolor\": \"none\", \"edgewidth\": 1.0, \"zorder\": 1}, {\"data\": \"data03\", \"xindex\": 0, \"yindex\": 1, \"coordinates\": \"data\", \"pathcodes\": [\"M\", \"L\", \"L\", \"L\", \"Z\"], \"id\": \"el121244872227136\", \"dasharray\": \"none\", \"alpha\": 1, \"facecolor\": \"#2CA02C\", \"edgecolor\": \"none\", \"edgewidth\": 1.0, \"zorder\": 1}, {\"data\": \"data04\", \"xindex\": 0, \"yindex\": 1, \"coordinates\": \"data\", \"pathcodes\": [\"M\", \"L\", \"L\", \"L\", \"Z\"], \"id\": \"el121244872228032\", \"dasharray\": \"none\", \"alpha\": 1, \"facecolor\": \"#D62728\", \"edgecolor\": \"none\", \"edgewidth\": 1.0, \"zorder\": 1}, {\"data\": \"data05\", \"xindex\": 0, \"yindex\": 1, \"coordinates\": \"data\", \"pathcodes\": [\"M\", \"L\", \"L\", \"L\", \"Z\"], \"id\": \"el121244872257664\", \"dasharray\": \"none\", \"alpha\": 1, \"facecolor\": \"#9467BD\", \"edgecolor\": \"none\", \"edgewidth\": 1.0, \"zorder\": 1}, {\"data\": \"data06\", \"xindex\": 0, \"yindex\": 1, \"coordinates\": \"data\", \"pathcodes\": [\"M\", \"L\", \"L\", \"L\", \"Z\"], \"id\": \"el121244872258560\", \"dasharray\": \"none\", \"alpha\": 1, \"facecolor\": \"#8C564B\", \"edgecolor\": \"none\", \"edgewidth\": 1.0, \"zorder\": 1}, {\"data\": \"data07\", \"xindex\": 0, \"yindex\": 1, \"coordinates\": \"data\", \"pathcodes\": [\"M\", \"L\", \"L\", \"L\", \"Z\"], \"id\": \"el121244872259456\", \"dasharray\": \"none\", \"alpha\": 1, \"facecolor\": \"#E377C2\", \"edgecolor\": \"none\", \"edgewidth\": 1.0, \"zorder\": 1}, {\"data\": \"data08\", \"xindex\": 0, \"yindex\": 1, \"coordinates\": \"data\", \"pathcodes\": [\"M\", \"L\", \"L\", \"L\", \"Z\"], \"id\": \"el121244872260352\", \"dasharray\": \"none\", \"alpha\": 1, \"facecolor\": \"#7F7F7F\", \"edgecolor\": \"none\", \"edgewidth\": 1.0, \"zorder\": 1}, {\"data\": \"data09\", \"xindex\": 0, \"yindex\": 1, \"coordinates\": \"data\", \"pathcodes\": [\"M\", \"L\", \"L\", \"L\", \"Z\"], \"id\": \"el121244872261248\", \"dasharray\": \"none\", \"alpha\": 1, \"facecolor\": \"#BCBD22\", \"edgecolor\": \"none\", \"edgewidth\": 1.0, \"zorder\": 1}, {\"data\": \"data10\", \"xindex\": 0, \"yindex\": 1, \"coordinates\": \"data\", \"pathcodes\": [\"M\", \"L\", \"L\", \"L\", \"Z\"], \"id\": \"el121244872303168\", \"dasharray\": \"none\", \"alpha\": 1, \"facecolor\": \"#17BECF\", \"edgecolor\": \"none\", \"edgewidth\": 1.0, \"zorder\": 1}, {\"data\": \"data11\", \"xindex\": 0, \"yindex\": 1, \"coordinates\": \"data\", \"pathcodes\": [\"M\", \"L\", \"L\", \"L\", \"Z\"], \"id\": \"el121244872304064\", \"dasharray\": \"none\", \"alpha\": 1, \"facecolor\": \"#1F77B4\", \"edgecolor\": \"none\", \"edgewidth\": 1.0, \"zorder\": 1}], \"markers\": [], \"texts\": [{\"text\": \"Rank A: Real-Time Performance (%) per Sector\", \"position\": [0.49999999999999994, 1.0154672810614422], \"coordinates\": \"axes\", \"h_anchor\": \"middle\", \"v_baseline\": \"auto\", \"rotation\": -0.0, \"fontsize\": 12.0, \"color\": \"#000000\", \"alpha\": 1, \"zorder\": 3, \"id\": \"el121244872138200\"}], \"collections\": [], \"images\": [], \"sharex\": [], \"sharey\": []}], \"data\": {\"data01\": [[-0.25, 0.0], [0.25, 0.0], [0.25, 0.0062], [-0.25, 0.0062]], \"data02\": [[0.75, 0.0], [1.25, 0.0], [1.25, -0.0102], [0.75, -0.0102]], \"data03\": [[1.75, 0.0], [2.25, 0.0], [2.25, 0.0197], [1.75, 0.0197]], \"data04\": [[2.75, 0.0], [3.25, 0.0], [3.25, -0.0044], [2.75, -0.0044]], \"data05\": [[3.75, 0.0], [4.25, 0.0], [4.25, 0.0004], [3.75, 0.0004]], \"data06\": [[4.75, 0.0], [5.25, 0.0], [5.25, 0.0121], [4.75, 0.0121]], \"data07\": [[5.75, 0.0], [6.25, 0.0], [6.25, -0.0021], [5.75, -0.0021]], \"data08\": [[6.75, 0.0], [7.25, 0.0], [7.25, 0.0076], [6.75, 0.0076]], \"data09\": [[7.75, 0.0], [8.25, 0.0], [8.25, -0.0006], [7.75, -0.0006]], \"data10\": [[8.75, 0.0], [9.25, 0.0], [9.25, -0.0038], [8.75, -0.0038]], \"data11\": [[9.75, 0.0], [10.25, 0.0], [10.25, -0.0003], [9.75, -0.0003]]}, \"id\": \"el121244867161952\", \"plugins\": [{\"type\": \"reset\"}, {\"type\": \"zoom\", \"button\": true, \"enabled\": false}, {\"type\": \"boxzoom\", \"button\": true, \"enabled\": false}]});\n",
       "      });\n",
       "    });\n",
       "}else{\n",
       "    // require.js not available: dynamically load d3 & mpld3\n",
       "    mpld3_load_lib(\"https://mpld3.github.io/js/d3.v3.min.js\", function(){\n",
       "         mpld3_load_lib(\"https://mpld3.github.io/js/mpld3.v0.3.js\", function(){\n",
       "                 \n",
       "                 mpld3.draw_figure(\"fig_el1212448671619529351949429\", {\"width\": 864.0, \"height\": 576.0, \"axes\": [{\"bbox\": [0.06313657407407408, 0.2800075954861111, 0.9203125000000001, 0.6734646267361112], \"xlim\": [-0.5, 10.5], \"ylim\": [-0.011695, 0.021195], \"xdomain\": [-0.5, 10.5], \"ydomain\": [-0.011695, 0.021195], \"xscale\": \"linear\", \"yscale\": \"linear\", \"axes\": [{\"position\": \"bottom\", \"nticks\": 11, \"tickvalues\": [0, 1, 2, 3, 4, 5, 6, 7, 8, 9, 10], \"tickformat\": [\"Consumer Discretionary\", \"Consumer Staples\", \"Energy\", \"Financials\", \"Health Care\", \"Industrials\", \"Information Technology\", \"Materials\", \"Real Estate\", \"Telecommunication Services\", \"Utilities\"], \"scale\": \"linear\", \"fontsize\": 10.0, \"grid\": {\"gridOn\": true, \"color\": \"#B0B0B0\", \"dasharray\": \"none\", \"alpha\": 1.0}, \"visible\": true}, {\"position\": \"left\", \"nticks\": 9, \"tickvalues\": null, \"tickformat\": null, \"scale\": \"linear\", \"fontsize\": 10.0, \"grid\": {\"gridOn\": true, \"color\": \"#B0B0B0\", \"dasharray\": \"none\", \"alpha\": 1.0}, \"visible\": true}], \"axesbg\": \"#FFFFFF\", \"axesbgalpha\": null, \"zoomable\": true, \"id\": \"el121244867280848\", \"lines\": [], \"paths\": [{\"data\": \"data01\", \"xindex\": 0, \"yindex\": 1, \"coordinates\": \"data\", \"pathcodes\": [\"M\", \"L\", \"L\", \"L\", \"Z\"], \"id\": \"el121244872225512\", \"dasharray\": \"none\", \"alpha\": 1, \"facecolor\": \"#1F77B4\", \"edgecolor\": \"none\", \"edgewidth\": 1.0, \"zorder\": 1}, {\"data\": \"data02\", \"xindex\": 0, \"yindex\": 1, \"coordinates\": \"data\", \"pathcodes\": [\"M\", \"L\", \"L\", \"L\", \"Z\"], \"id\": \"el121244872226240\", \"dasharray\": \"none\", \"alpha\": 1, \"facecolor\": \"#FF7F0E\", \"edgecolor\": \"none\", \"edgewidth\": 1.0, \"zorder\": 1}, {\"data\": \"data03\", \"xindex\": 0, \"yindex\": 1, \"coordinates\": \"data\", \"pathcodes\": [\"M\", \"L\", \"L\", \"L\", \"Z\"], \"id\": \"el121244872227136\", \"dasharray\": \"none\", \"alpha\": 1, \"facecolor\": \"#2CA02C\", \"edgecolor\": \"none\", \"edgewidth\": 1.0, \"zorder\": 1}, {\"data\": \"data04\", \"xindex\": 0, \"yindex\": 1, \"coordinates\": \"data\", \"pathcodes\": [\"M\", \"L\", \"L\", \"L\", \"Z\"], \"id\": \"el121244872228032\", \"dasharray\": \"none\", \"alpha\": 1, \"facecolor\": \"#D62728\", \"edgecolor\": \"none\", \"edgewidth\": 1.0, \"zorder\": 1}, {\"data\": \"data05\", \"xindex\": 0, \"yindex\": 1, \"coordinates\": \"data\", \"pathcodes\": [\"M\", \"L\", \"L\", \"L\", \"Z\"], \"id\": \"el121244872257664\", \"dasharray\": \"none\", \"alpha\": 1, \"facecolor\": \"#9467BD\", \"edgecolor\": \"none\", \"edgewidth\": 1.0, \"zorder\": 1}, {\"data\": \"data06\", \"xindex\": 0, \"yindex\": 1, \"coordinates\": \"data\", \"pathcodes\": [\"M\", \"L\", \"L\", \"L\", \"Z\"], \"id\": \"el121244872258560\", \"dasharray\": \"none\", \"alpha\": 1, \"facecolor\": \"#8C564B\", \"edgecolor\": \"none\", \"edgewidth\": 1.0, \"zorder\": 1}, {\"data\": \"data07\", \"xindex\": 0, \"yindex\": 1, \"coordinates\": \"data\", \"pathcodes\": [\"M\", \"L\", \"L\", \"L\", \"Z\"], \"id\": \"el121244872259456\", \"dasharray\": \"none\", \"alpha\": 1, \"facecolor\": \"#E377C2\", \"edgecolor\": \"none\", \"edgewidth\": 1.0, \"zorder\": 1}, {\"data\": \"data08\", \"xindex\": 0, \"yindex\": 1, \"coordinates\": \"data\", \"pathcodes\": [\"M\", \"L\", \"L\", \"L\", \"Z\"], \"id\": \"el121244872260352\", \"dasharray\": \"none\", \"alpha\": 1, \"facecolor\": \"#7F7F7F\", \"edgecolor\": \"none\", \"edgewidth\": 1.0, \"zorder\": 1}, {\"data\": \"data09\", \"xindex\": 0, \"yindex\": 1, \"coordinates\": \"data\", \"pathcodes\": [\"M\", \"L\", \"L\", \"L\", \"Z\"], \"id\": \"el121244872261248\", \"dasharray\": \"none\", \"alpha\": 1, \"facecolor\": \"#BCBD22\", \"edgecolor\": \"none\", \"edgewidth\": 1.0, \"zorder\": 1}, {\"data\": \"data10\", \"xindex\": 0, \"yindex\": 1, \"coordinates\": \"data\", \"pathcodes\": [\"M\", \"L\", \"L\", \"L\", \"Z\"], \"id\": \"el121244872303168\", \"dasharray\": \"none\", \"alpha\": 1, \"facecolor\": \"#17BECF\", \"edgecolor\": \"none\", \"edgewidth\": 1.0, \"zorder\": 1}, {\"data\": \"data11\", \"xindex\": 0, \"yindex\": 1, \"coordinates\": \"data\", \"pathcodes\": [\"M\", \"L\", \"L\", \"L\", \"Z\"], \"id\": \"el121244872304064\", \"dasharray\": \"none\", \"alpha\": 1, \"facecolor\": \"#1F77B4\", \"edgecolor\": \"none\", \"edgewidth\": 1.0, \"zorder\": 1}], \"markers\": [], \"texts\": [{\"text\": \"Rank A: Real-Time Performance (%) per Sector\", \"position\": [0.49999999999999994, 1.0154672810614422], \"coordinates\": \"axes\", \"h_anchor\": \"middle\", \"v_baseline\": \"auto\", \"rotation\": -0.0, \"fontsize\": 12.0, \"color\": \"#000000\", \"alpha\": 1, \"zorder\": 3, \"id\": \"el121244872138200\"}], \"collections\": [], \"images\": [], \"sharex\": [], \"sharey\": []}], \"data\": {\"data01\": [[-0.25, 0.0], [0.25, 0.0], [0.25, 0.0062], [-0.25, 0.0062]], \"data02\": [[0.75, 0.0], [1.25, 0.0], [1.25, -0.0102], [0.75, -0.0102]], \"data03\": [[1.75, 0.0], [2.25, 0.0], [2.25, 0.0197], [1.75, 0.0197]], \"data04\": [[2.75, 0.0], [3.25, 0.0], [3.25, -0.0044], [2.75, -0.0044]], \"data05\": [[3.75, 0.0], [4.25, 0.0], [4.25, 0.0004], [3.75, 0.0004]], \"data06\": [[4.75, 0.0], [5.25, 0.0], [5.25, 0.0121], [4.75, 0.0121]], \"data07\": [[5.75, 0.0], [6.25, 0.0], [6.25, -0.0021], [5.75, -0.0021]], \"data08\": [[6.75, 0.0], [7.25, 0.0], [7.25, 0.0076], [6.75, 0.0076]], \"data09\": [[7.75, 0.0], [8.25, 0.0], [8.25, -0.0006], [7.75, -0.0006]], \"data10\": [[8.75, 0.0], [9.25, 0.0], [9.25, -0.0038], [8.75, -0.0038]], \"data11\": [[9.75, 0.0], [10.25, 0.0], [10.25, -0.0003], [9.75, -0.0003]]}, \"id\": \"el121244867161952\", \"plugins\": [{\"type\": \"reset\"}, {\"type\": \"zoom\", \"button\": true, \"enabled\": false}, {\"type\": \"boxzoom\", \"button\": true, \"enabled\": false}]});\n",
       "            })\n",
       "         });\n",
       "}\n",
       "</script>"
      ],
      "text/plain": [
       "<IPython.core.display.HTML object>"
      ]
     },
     "execution_count": 38,
     "metadata": {},
     "output_type": "execute_result"
    },
    {
     "name": "stdout",
     "output_type": "stream",
     "text": [
      "Rank B: Day Performance\n"
     ]
    },
    {
     "data": {
      "text/plain": [
       "<matplotlib.axes._subplots.AxesSubplot at 0x1223d6080>"
      ]
     },
     "execution_count": 38,
     "metadata": {},
     "output_type": "execute_result"
    },
    {
     "data": {
      "text/plain": [
       "Text(0.5,1,'Rank B: Day Performance (%) per Sector')"
      ]
     },
     "execution_count": 38,
     "metadata": {},
     "output_type": "execute_result"
    },
    {
     "data": {
      "text/html": [
       "\n",
       "\n",
       "<style>\n",
       "\n",
       "</style>\n",
       "\n",
       "<div id=\"fig_el1212448722604643427509018\"></div>\n",
       "<script>\n",
       "function mpld3_load_lib(url, callback){\n",
       "  var s = document.createElement('script');\n",
       "  s.src = url;\n",
       "  s.async = true;\n",
       "  s.onreadystatechange = s.onload = callback;\n",
       "  s.onerror = function(){console.warn(\"failed to load library \" + url);};\n",
       "  document.getElementsByTagName(\"head\")[0].appendChild(s);\n",
       "}\n",
       "\n",
       "if(typeof(mpld3) !== \"undefined\" && mpld3._mpld3IsLoaded){\n",
       "   // already loaded: just create the figure\n",
       "   !function(mpld3){\n",
       "       \n",
       "       mpld3.draw_figure(\"fig_el1212448722604643427509018\", {\"width\": 864.0, \"height\": 576.0, \"axes\": [{\"bbox\": [0.05358796296296297, 0.2800075954861111, 0.9298611111111111, 0.6734646267361112], \"xlim\": [-0.5, 10.5], \"ylim\": [-0.00174, 0.021139999999999996], \"xdomain\": [-0.5, 10.5], \"ydomain\": [-0.00174, 0.021139999999999996], \"xscale\": \"linear\", \"yscale\": \"linear\", \"axes\": [{\"position\": \"bottom\", \"nticks\": 11, \"tickvalues\": [0, 1, 2, 3, 4, 5, 6, 7, 8, 9, 10], \"tickformat\": [\"Consumer Discretionary\", \"Consumer Staples\", \"Energy\", \"Financials\", \"Health Care\", \"Industrials\", \"Information Technology\", \"Materials\", \"Real Estate\", \"Telecommunication Services\", \"Utilities\"], \"scale\": \"linear\", \"fontsize\": 10.0, \"grid\": {\"gridOn\": true, \"color\": \"#B0B0B0\", \"dasharray\": \"none\", \"alpha\": 1.0}, \"visible\": true}, {\"position\": \"left\", \"nticks\": 7, \"tickvalues\": null, \"tickformat\": null, \"scale\": \"linear\", \"fontsize\": 10.0, \"grid\": {\"gridOn\": true, \"color\": \"#B0B0B0\", \"dasharray\": \"none\", \"alpha\": 1.0}, \"visible\": true}], \"axesbg\": \"#FFFFFF\", \"axesbgalpha\": null, \"zoomable\": true, \"id\": \"el121244869415040\", \"lines\": [], \"paths\": [{\"data\": \"data01\", \"xindex\": 0, \"yindex\": 1, \"coordinates\": \"data\", \"pathcodes\": [\"M\", \"L\", \"L\", \"L\", \"Z\"], \"id\": \"el121244873152496\", \"dasharray\": \"none\", \"alpha\": 1, \"facecolor\": \"#1F77B4\", \"edgecolor\": \"none\", \"edgewidth\": 1.0, \"zorder\": 1}, {\"data\": \"data02\", \"xindex\": 0, \"yindex\": 1, \"coordinates\": \"data\", \"pathcodes\": [\"M\", \"L\", \"L\", \"L\", \"Z\"], \"id\": \"el121244873153224\", \"dasharray\": \"none\", \"alpha\": 1, \"facecolor\": \"#FF7F0E\", \"edgecolor\": \"none\", \"edgewidth\": 1.0, \"zorder\": 1}, {\"data\": \"data03\", \"xindex\": 0, \"yindex\": 1, \"coordinates\": \"data\", \"pathcodes\": [\"M\", \"L\", \"L\", \"L\", \"Z\"], \"id\": \"el121244873154064\", \"dasharray\": \"none\", \"alpha\": 1, \"facecolor\": \"#2CA02C\", \"edgecolor\": \"none\", \"edgewidth\": 1.0, \"zorder\": 1}, {\"data\": \"data04\", \"xindex\": 0, \"yindex\": 1, \"coordinates\": \"data\", \"pathcodes\": [\"M\", \"L\", \"L\", \"L\", \"Z\"], \"id\": \"el121244873187736\", \"dasharray\": \"none\", \"alpha\": 1, \"facecolor\": \"#D62728\", \"edgecolor\": \"none\", \"edgewidth\": 1.0, \"zorder\": 1}, {\"data\": \"data05\", \"xindex\": 0, \"yindex\": 1, \"coordinates\": \"data\", \"pathcodes\": [\"M\", \"L\", \"L\", \"L\", \"Z\"], \"id\": \"el121244873188576\", \"dasharray\": \"none\", \"alpha\": 1, \"facecolor\": \"#9467BD\", \"edgecolor\": \"none\", \"edgewidth\": 1.0, \"zorder\": 1}, {\"data\": \"data06\", \"xindex\": 0, \"yindex\": 1, \"coordinates\": \"data\", \"pathcodes\": [\"M\", \"L\", \"L\", \"L\", \"Z\"], \"id\": \"el121244873189416\", \"dasharray\": \"none\", \"alpha\": 1, \"facecolor\": \"#8C564B\", \"edgecolor\": \"none\", \"edgewidth\": 1.0, \"zorder\": 1}, {\"data\": \"data07\", \"xindex\": 0, \"yindex\": 1, \"coordinates\": \"data\", \"pathcodes\": [\"M\", \"L\", \"L\", \"L\", \"Z\"], \"id\": \"el121244873190256\", \"dasharray\": \"none\", \"alpha\": 1, \"facecolor\": \"#E377C2\", \"edgecolor\": \"none\", \"edgewidth\": 1.0, \"zorder\": 1}, {\"data\": \"data08\", \"xindex\": 0, \"yindex\": 1, \"coordinates\": \"data\", \"pathcodes\": [\"M\", \"L\", \"L\", \"L\", \"Z\"], \"id\": \"el121244873191096\", \"dasharray\": \"none\", \"alpha\": 1, \"facecolor\": \"#7F7F7F\", \"edgecolor\": \"none\", \"edgewidth\": 1.0, \"zorder\": 1}, {\"data\": \"data09\", \"xindex\": 0, \"yindex\": 1, \"coordinates\": \"data\", \"pathcodes\": [\"M\", \"L\", \"L\", \"L\", \"Z\"], \"id\": \"el121244873228864\", \"dasharray\": \"none\", \"alpha\": 1, \"facecolor\": \"#BCBD22\", \"edgecolor\": \"none\", \"edgewidth\": 1.0, \"zorder\": 1}, {\"data\": \"data10\", \"xindex\": 0, \"yindex\": 1, \"coordinates\": \"data\", \"pathcodes\": [\"M\", \"L\", \"L\", \"L\", \"Z\"], \"id\": \"el121244873229704\", \"dasharray\": \"none\", \"alpha\": 1, \"facecolor\": \"#17BECF\", \"edgecolor\": \"none\", \"edgewidth\": 1.0, \"zorder\": 1}, {\"data\": \"data11\", \"xindex\": 0, \"yindex\": 1, \"coordinates\": \"data\", \"pathcodes\": [\"M\", \"L\", \"L\", \"L\", \"Z\"], \"id\": \"el121244873230544\", \"dasharray\": \"none\", \"alpha\": 1, \"facecolor\": \"#1F77B4\", \"edgecolor\": \"none\", \"edgewidth\": 1.0, \"zorder\": 1}], \"markers\": [], \"texts\": [{\"text\": \"Rank B: Day Performance (%) per Sector\", \"position\": [0.5, 1.0154672810614422], \"coordinates\": \"axes\", \"h_anchor\": \"middle\", \"v_baseline\": \"auto\", \"rotation\": -0.0, \"fontsize\": 12.0, \"color\": \"#000000\", \"alpha\": 1, \"zorder\": 3, \"id\": \"el121244872590448\"}], \"collections\": [], \"images\": [], \"sharex\": [], \"sharey\": []}], \"data\": {\"data01\": [[-0.25, 0.0], [0.25, 0.0], [0.25, 0.0187], [-0.25, 0.0187]], \"data02\": [[0.75, 0.0], [1.25, 0.0], [1.25, 0.0023], [0.75, 0.0023]], \"data03\": [[1.75, 0.0], [2.25, 0.0], [2.25, 0.004], [1.75, 0.004]], \"data04\": [[2.75, 0.0], [3.25, 0.0], [3.25, -0.0007000000000000001], [2.75, -0.0007000000000000001]], \"data05\": [[3.75, 0.0], [4.25, 0.0], [4.25, 0.008199999999999999], [3.75, 0.008199999999999999]], \"data06\": [[4.75, 0.0], [5.25, 0.0], [5.25, 0.0084], [4.75, 0.0084]], \"data07\": [[5.75, 0.0], [6.25, 0.0], [6.25, 0.020099999999999996], [5.75, 0.020099999999999996]], \"data08\": [[6.75, 0.0], [7.25, 0.0], [7.25, 0.011200000000000002], [6.75, 0.011200000000000002]], \"data09\": [[7.75, 0.0], [8.25, 0.0], [8.25, 0.013300000000000001], [7.75, 0.013300000000000001]], \"data10\": [[8.75, 0.0], [9.25, 0.0], [9.25, 0.001], [8.75, 0.001]], \"data11\": [[9.75, 0.0], [10.25, 0.0], [10.25, 0.0105], [9.75, 0.0105]]}, \"id\": \"el121244872260464\", \"plugins\": [{\"type\": \"reset\"}, {\"type\": \"zoom\", \"button\": true, \"enabled\": false}, {\"type\": \"boxzoom\", \"button\": true, \"enabled\": false}]});\n",
       "   }(mpld3);\n",
       "}else if(typeof define === \"function\" && define.amd){\n",
       "   // require.js is available: use it to load d3/mpld3\n",
       "   require.config({paths: {d3: \"https://mpld3.github.io/js/d3.v3.min\"}});\n",
       "   require([\"d3\"], function(d3){\n",
       "      window.d3 = d3;\n",
       "      mpld3_load_lib(\"https://mpld3.github.io/js/mpld3.v0.3.js\", function(){\n",
       "         \n",
       "         mpld3.draw_figure(\"fig_el1212448722604643427509018\", {\"width\": 864.0, \"height\": 576.0, \"axes\": [{\"bbox\": [0.05358796296296297, 0.2800075954861111, 0.9298611111111111, 0.6734646267361112], \"xlim\": [-0.5, 10.5], \"ylim\": [-0.00174, 0.021139999999999996], \"xdomain\": [-0.5, 10.5], \"ydomain\": [-0.00174, 0.021139999999999996], \"xscale\": \"linear\", \"yscale\": \"linear\", \"axes\": [{\"position\": \"bottom\", \"nticks\": 11, \"tickvalues\": [0, 1, 2, 3, 4, 5, 6, 7, 8, 9, 10], \"tickformat\": [\"Consumer Discretionary\", \"Consumer Staples\", \"Energy\", \"Financials\", \"Health Care\", \"Industrials\", \"Information Technology\", \"Materials\", \"Real Estate\", \"Telecommunication Services\", \"Utilities\"], \"scale\": \"linear\", \"fontsize\": 10.0, \"grid\": {\"gridOn\": true, \"color\": \"#B0B0B0\", \"dasharray\": \"none\", \"alpha\": 1.0}, \"visible\": true}, {\"position\": \"left\", \"nticks\": 7, \"tickvalues\": null, \"tickformat\": null, \"scale\": \"linear\", \"fontsize\": 10.0, \"grid\": {\"gridOn\": true, \"color\": \"#B0B0B0\", \"dasharray\": \"none\", \"alpha\": 1.0}, \"visible\": true}], \"axesbg\": \"#FFFFFF\", \"axesbgalpha\": null, \"zoomable\": true, \"id\": \"el121244869415040\", \"lines\": [], \"paths\": [{\"data\": \"data01\", \"xindex\": 0, \"yindex\": 1, \"coordinates\": \"data\", \"pathcodes\": [\"M\", \"L\", \"L\", \"L\", \"Z\"], \"id\": \"el121244873152496\", \"dasharray\": \"none\", \"alpha\": 1, \"facecolor\": \"#1F77B4\", \"edgecolor\": \"none\", \"edgewidth\": 1.0, \"zorder\": 1}, {\"data\": \"data02\", \"xindex\": 0, \"yindex\": 1, \"coordinates\": \"data\", \"pathcodes\": [\"M\", \"L\", \"L\", \"L\", \"Z\"], \"id\": \"el121244873153224\", \"dasharray\": \"none\", \"alpha\": 1, \"facecolor\": \"#FF7F0E\", \"edgecolor\": \"none\", \"edgewidth\": 1.0, \"zorder\": 1}, {\"data\": \"data03\", \"xindex\": 0, \"yindex\": 1, \"coordinates\": \"data\", \"pathcodes\": [\"M\", \"L\", \"L\", \"L\", \"Z\"], \"id\": \"el121244873154064\", \"dasharray\": \"none\", \"alpha\": 1, \"facecolor\": \"#2CA02C\", \"edgecolor\": \"none\", \"edgewidth\": 1.0, \"zorder\": 1}, {\"data\": \"data04\", \"xindex\": 0, \"yindex\": 1, \"coordinates\": \"data\", \"pathcodes\": [\"M\", \"L\", \"L\", \"L\", \"Z\"], \"id\": \"el121244873187736\", \"dasharray\": \"none\", \"alpha\": 1, \"facecolor\": \"#D62728\", \"edgecolor\": \"none\", \"edgewidth\": 1.0, \"zorder\": 1}, {\"data\": \"data05\", \"xindex\": 0, \"yindex\": 1, \"coordinates\": \"data\", \"pathcodes\": [\"M\", \"L\", \"L\", \"L\", \"Z\"], \"id\": \"el121244873188576\", \"dasharray\": \"none\", \"alpha\": 1, \"facecolor\": \"#9467BD\", \"edgecolor\": \"none\", \"edgewidth\": 1.0, \"zorder\": 1}, {\"data\": \"data06\", \"xindex\": 0, \"yindex\": 1, \"coordinates\": \"data\", \"pathcodes\": [\"M\", \"L\", \"L\", \"L\", \"Z\"], \"id\": \"el121244873189416\", \"dasharray\": \"none\", \"alpha\": 1, \"facecolor\": \"#8C564B\", \"edgecolor\": \"none\", \"edgewidth\": 1.0, \"zorder\": 1}, {\"data\": \"data07\", \"xindex\": 0, \"yindex\": 1, \"coordinates\": \"data\", \"pathcodes\": [\"M\", \"L\", \"L\", \"L\", \"Z\"], \"id\": \"el121244873190256\", \"dasharray\": \"none\", \"alpha\": 1, \"facecolor\": \"#E377C2\", \"edgecolor\": \"none\", \"edgewidth\": 1.0, \"zorder\": 1}, {\"data\": \"data08\", \"xindex\": 0, \"yindex\": 1, \"coordinates\": \"data\", \"pathcodes\": [\"M\", \"L\", \"L\", \"L\", \"Z\"], \"id\": \"el121244873191096\", \"dasharray\": \"none\", \"alpha\": 1, \"facecolor\": \"#7F7F7F\", \"edgecolor\": \"none\", \"edgewidth\": 1.0, \"zorder\": 1}, {\"data\": \"data09\", \"xindex\": 0, \"yindex\": 1, \"coordinates\": \"data\", \"pathcodes\": [\"M\", \"L\", \"L\", \"L\", \"Z\"], \"id\": \"el121244873228864\", \"dasharray\": \"none\", \"alpha\": 1, \"facecolor\": \"#BCBD22\", \"edgecolor\": \"none\", \"edgewidth\": 1.0, \"zorder\": 1}, {\"data\": \"data10\", \"xindex\": 0, \"yindex\": 1, \"coordinates\": \"data\", \"pathcodes\": [\"M\", \"L\", \"L\", \"L\", \"Z\"], \"id\": \"el121244873229704\", \"dasharray\": \"none\", \"alpha\": 1, \"facecolor\": \"#17BECF\", \"edgecolor\": \"none\", \"edgewidth\": 1.0, \"zorder\": 1}, {\"data\": \"data11\", \"xindex\": 0, \"yindex\": 1, \"coordinates\": \"data\", \"pathcodes\": [\"M\", \"L\", \"L\", \"L\", \"Z\"], \"id\": \"el121244873230544\", \"dasharray\": \"none\", \"alpha\": 1, \"facecolor\": \"#1F77B4\", \"edgecolor\": \"none\", \"edgewidth\": 1.0, \"zorder\": 1}], \"markers\": [], \"texts\": [{\"text\": \"Rank B: Day Performance (%) per Sector\", \"position\": [0.5, 1.0154672810614422], \"coordinates\": \"axes\", \"h_anchor\": \"middle\", \"v_baseline\": \"auto\", \"rotation\": -0.0, \"fontsize\": 12.0, \"color\": \"#000000\", \"alpha\": 1, \"zorder\": 3, \"id\": \"el121244872590448\"}], \"collections\": [], \"images\": [], \"sharex\": [], \"sharey\": []}], \"data\": {\"data01\": [[-0.25, 0.0], [0.25, 0.0], [0.25, 0.0187], [-0.25, 0.0187]], \"data02\": [[0.75, 0.0], [1.25, 0.0], [1.25, 0.0023], [0.75, 0.0023]], \"data03\": [[1.75, 0.0], [2.25, 0.0], [2.25, 0.004], [1.75, 0.004]], \"data04\": [[2.75, 0.0], [3.25, 0.0], [3.25, -0.0007000000000000001], [2.75, -0.0007000000000000001]], \"data05\": [[3.75, 0.0], [4.25, 0.0], [4.25, 0.008199999999999999], [3.75, 0.008199999999999999]], \"data06\": [[4.75, 0.0], [5.25, 0.0], [5.25, 0.0084], [4.75, 0.0084]], \"data07\": [[5.75, 0.0], [6.25, 0.0], [6.25, 0.020099999999999996], [5.75, 0.020099999999999996]], \"data08\": [[6.75, 0.0], [7.25, 0.0], [7.25, 0.011200000000000002], [6.75, 0.011200000000000002]], \"data09\": [[7.75, 0.0], [8.25, 0.0], [8.25, 0.013300000000000001], [7.75, 0.013300000000000001]], \"data10\": [[8.75, 0.0], [9.25, 0.0], [9.25, 0.001], [8.75, 0.001]], \"data11\": [[9.75, 0.0], [10.25, 0.0], [10.25, 0.0105], [9.75, 0.0105]]}, \"id\": \"el121244872260464\", \"plugins\": [{\"type\": \"reset\"}, {\"type\": \"zoom\", \"button\": true, \"enabled\": false}, {\"type\": \"boxzoom\", \"button\": true, \"enabled\": false}]});\n",
       "      });\n",
       "    });\n",
       "}else{\n",
       "    // require.js not available: dynamically load d3 & mpld3\n",
       "    mpld3_load_lib(\"https://mpld3.github.io/js/d3.v3.min.js\", function(){\n",
       "         mpld3_load_lib(\"https://mpld3.github.io/js/mpld3.v0.3.js\", function(){\n",
       "                 \n",
       "                 mpld3.draw_figure(\"fig_el1212448722604643427509018\", {\"width\": 864.0, \"height\": 576.0, \"axes\": [{\"bbox\": [0.05358796296296297, 0.2800075954861111, 0.9298611111111111, 0.6734646267361112], \"xlim\": [-0.5, 10.5], \"ylim\": [-0.00174, 0.021139999999999996], \"xdomain\": [-0.5, 10.5], \"ydomain\": [-0.00174, 0.021139999999999996], \"xscale\": \"linear\", \"yscale\": \"linear\", \"axes\": [{\"position\": \"bottom\", \"nticks\": 11, \"tickvalues\": [0, 1, 2, 3, 4, 5, 6, 7, 8, 9, 10], \"tickformat\": [\"Consumer Discretionary\", \"Consumer Staples\", \"Energy\", \"Financials\", \"Health Care\", \"Industrials\", \"Information Technology\", \"Materials\", \"Real Estate\", \"Telecommunication Services\", \"Utilities\"], \"scale\": \"linear\", \"fontsize\": 10.0, \"grid\": {\"gridOn\": true, \"color\": \"#B0B0B0\", \"dasharray\": \"none\", \"alpha\": 1.0}, \"visible\": true}, {\"position\": \"left\", \"nticks\": 7, \"tickvalues\": null, \"tickformat\": null, \"scale\": \"linear\", \"fontsize\": 10.0, \"grid\": {\"gridOn\": true, \"color\": \"#B0B0B0\", \"dasharray\": \"none\", \"alpha\": 1.0}, \"visible\": true}], \"axesbg\": \"#FFFFFF\", \"axesbgalpha\": null, \"zoomable\": true, \"id\": \"el121244869415040\", \"lines\": [], \"paths\": [{\"data\": \"data01\", \"xindex\": 0, \"yindex\": 1, \"coordinates\": \"data\", \"pathcodes\": [\"M\", \"L\", \"L\", \"L\", \"Z\"], \"id\": \"el121244873152496\", \"dasharray\": \"none\", \"alpha\": 1, \"facecolor\": \"#1F77B4\", \"edgecolor\": \"none\", \"edgewidth\": 1.0, \"zorder\": 1}, {\"data\": \"data02\", \"xindex\": 0, \"yindex\": 1, \"coordinates\": \"data\", \"pathcodes\": [\"M\", \"L\", \"L\", \"L\", \"Z\"], \"id\": \"el121244873153224\", \"dasharray\": \"none\", \"alpha\": 1, \"facecolor\": \"#FF7F0E\", \"edgecolor\": \"none\", \"edgewidth\": 1.0, \"zorder\": 1}, {\"data\": \"data03\", \"xindex\": 0, \"yindex\": 1, \"coordinates\": \"data\", \"pathcodes\": [\"M\", \"L\", \"L\", \"L\", \"Z\"], \"id\": \"el121244873154064\", \"dasharray\": \"none\", \"alpha\": 1, \"facecolor\": \"#2CA02C\", \"edgecolor\": \"none\", \"edgewidth\": 1.0, \"zorder\": 1}, {\"data\": \"data04\", \"xindex\": 0, \"yindex\": 1, \"coordinates\": \"data\", \"pathcodes\": [\"M\", \"L\", \"L\", \"L\", \"Z\"], \"id\": \"el121244873187736\", \"dasharray\": \"none\", \"alpha\": 1, \"facecolor\": \"#D62728\", \"edgecolor\": \"none\", \"edgewidth\": 1.0, \"zorder\": 1}, {\"data\": \"data05\", \"xindex\": 0, \"yindex\": 1, \"coordinates\": \"data\", \"pathcodes\": [\"M\", \"L\", \"L\", \"L\", \"Z\"], \"id\": \"el121244873188576\", \"dasharray\": \"none\", \"alpha\": 1, \"facecolor\": \"#9467BD\", \"edgecolor\": \"none\", \"edgewidth\": 1.0, \"zorder\": 1}, {\"data\": \"data06\", \"xindex\": 0, \"yindex\": 1, \"coordinates\": \"data\", \"pathcodes\": [\"M\", \"L\", \"L\", \"L\", \"Z\"], \"id\": \"el121244873189416\", \"dasharray\": \"none\", \"alpha\": 1, \"facecolor\": \"#8C564B\", \"edgecolor\": \"none\", \"edgewidth\": 1.0, \"zorder\": 1}, {\"data\": \"data07\", \"xindex\": 0, \"yindex\": 1, \"coordinates\": \"data\", \"pathcodes\": [\"M\", \"L\", \"L\", \"L\", \"Z\"], \"id\": \"el121244873190256\", \"dasharray\": \"none\", \"alpha\": 1, \"facecolor\": \"#E377C2\", \"edgecolor\": \"none\", \"edgewidth\": 1.0, \"zorder\": 1}, {\"data\": \"data08\", \"xindex\": 0, \"yindex\": 1, \"coordinates\": \"data\", \"pathcodes\": [\"M\", \"L\", \"L\", \"L\", \"Z\"], \"id\": \"el121244873191096\", \"dasharray\": \"none\", \"alpha\": 1, \"facecolor\": \"#7F7F7F\", \"edgecolor\": \"none\", \"edgewidth\": 1.0, \"zorder\": 1}, {\"data\": \"data09\", \"xindex\": 0, \"yindex\": 1, \"coordinates\": \"data\", \"pathcodes\": [\"M\", \"L\", \"L\", \"L\", \"Z\"], \"id\": \"el121244873228864\", \"dasharray\": \"none\", \"alpha\": 1, \"facecolor\": \"#BCBD22\", \"edgecolor\": \"none\", \"edgewidth\": 1.0, \"zorder\": 1}, {\"data\": \"data10\", \"xindex\": 0, \"yindex\": 1, \"coordinates\": \"data\", \"pathcodes\": [\"M\", \"L\", \"L\", \"L\", \"Z\"], \"id\": \"el121244873229704\", \"dasharray\": \"none\", \"alpha\": 1, \"facecolor\": \"#17BECF\", \"edgecolor\": \"none\", \"edgewidth\": 1.0, \"zorder\": 1}, {\"data\": \"data11\", \"xindex\": 0, \"yindex\": 1, \"coordinates\": \"data\", \"pathcodes\": [\"M\", \"L\", \"L\", \"L\", \"Z\"], \"id\": \"el121244873230544\", \"dasharray\": \"none\", \"alpha\": 1, \"facecolor\": \"#1F77B4\", \"edgecolor\": \"none\", \"edgewidth\": 1.0, \"zorder\": 1}], \"markers\": [], \"texts\": [{\"text\": \"Rank B: Day Performance (%) per Sector\", \"position\": [0.5, 1.0154672810614422], \"coordinates\": \"axes\", \"h_anchor\": \"middle\", \"v_baseline\": \"auto\", \"rotation\": -0.0, \"fontsize\": 12.0, \"color\": \"#000000\", \"alpha\": 1, \"zorder\": 3, \"id\": \"el121244872590448\"}], \"collections\": [], \"images\": [], \"sharex\": [], \"sharey\": []}], \"data\": {\"data01\": [[-0.25, 0.0], [0.25, 0.0], [0.25, 0.0187], [-0.25, 0.0187]], \"data02\": [[0.75, 0.0], [1.25, 0.0], [1.25, 0.0023], [0.75, 0.0023]], \"data03\": [[1.75, 0.0], [2.25, 0.0], [2.25, 0.004], [1.75, 0.004]], \"data04\": [[2.75, 0.0], [3.25, 0.0], [3.25, -0.0007000000000000001], [2.75, -0.0007000000000000001]], \"data05\": [[3.75, 0.0], [4.25, 0.0], [4.25, 0.008199999999999999], [3.75, 0.008199999999999999]], \"data06\": [[4.75, 0.0], [5.25, 0.0], [5.25, 0.0084], [4.75, 0.0084]], \"data07\": [[5.75, 0.0], [6.25, 0.0], [6.25, 0.020099999999999996], [5.75, 0.020099999999999996]], \"data08\": [[6.75, 0.0], [7.25, 0.0], [7.25, 0.011200000000000002], [6.75, 0.011200000000000002]], \"data09\": [[7.75, 0.0], [8.25, 0.0], [8.25, 0.013300000000000001], [7.75, 0.013300000000000001]], \"data10\": [[8.75, 0.0], [9.25, 0.0], [9.25, 0.001], [8.75, 0.001]], \"data11\": [[9.75, 0.0], [10.25, 0.0], [10.25, 0.0105], [9.75, 0.0105]]}, \"id\": \"el121244872260464\", \"plugins\": [{\"type\": \"reset\"}, {\"type\": \"zoom\", \"button\": true, \"enabled\": false}, {\"type\": \"boxzoom\", \"button\": true, \"enabled\": false}]});\n",
       "            })\n",
       "         });\n",
       "}\n",
       "</script>"
      ],
      "text/plain": [
       "<IPython.core.display.HTML object>"
      ]
     },
     "execution_count": 38,
     "metadata": {},
     "output_type": "execute_result"
    },
    {
     "name": "stdout",
     "output_type": "stream",
     "text": [
      "Rank C: Day Performance\n"
     ]
    },
    {
     "data": {
      "text/plain": [
       "<matplotlib.axes._subplots.AxesSubplot at 0x1227ba198>"
      ]
     },
     "execution_count": 38,
     "metadata": {},
     "output_type": "execute_result"
    },
    {
     "data": {
      "text/plain": [
       "Text(0.5,1,'Rank C: Day Performance (%) per Sector')"
      ]
     },
     "execution_count": 38,
     "metadata": {},
     "output_type": "execute_result"
    },
    {
     "data": {
      "text/html": [
       "\n",
       "\n",
       "<style>\n",
       "\n",
       "</style>\n",
       "\n",
       "<div id=\"fig_el1212446218396082262752988\"></div>\n",
       "<script>\n",
       "function mpld3_load_lib(url, callback){\n",
       "  var s = document.createElement('script');\n",
       "  s.src = url;\n",
       "  s.async = true;\n",
       "  s.onreadystatechange = s.onload = callback;\n",
       "  s.onerror = function(){console.warn(\"failed to load library \" + url);};\n",
       "  document.getElementsByTagName(\"head\")[0].appendChild(s);\n",
       "}\n",
       "\n",
       "if(typeof(mpld3) !== \"undefined\" && mpld3._mpld3IsLoaded){\n",
       "   // already loaded: just create the figure\n",
       "   !function(mpld3){\n",
       "       \n",
       "       mpld3.draw_figure(\"fig_el1212446218396082262752988\", {\"width\": 864.0, \"height\": 576.0, \"axes\": [{\"bbox\": [0.046209490740740745, 0.2800075954861111, 0.9372395833333333, 0.6734646267361112], \"xlim\": [-0.5, 10.5], \"ylim\": [-0.0083, 0.037899999999999996], \"xdomain\": [-0.5, 10.5], \"ydomain\": [-0.0083, 0.037899999999999996], \"xscale\": \"linear\", \"yscale\": \"linear\", \"axes\": [{\"position\": \"bottom\", \"nticks\": 11, \"tickvalues\": [0, 1, 2, 3, 4, 5, 6, 7, 8, 9, 10], \"tickformat\": [\"Consumer Discretionary\", \"Consumer Staples\", \"Energy\", \"Financials\", \"Health Care\", \"Industrials\", \"Information Technology\", \"Materials\", \"Real Estate\", \"Telecommunication Services\", \"Utilities\"], \"scale\": \"linear\", \"fontsize\": 10.0, \"grid\": {\"gridOn\": true, \"color\": \"#B0B0B0\", \"dasharray\": \"none\", \"alpha\": 1.0}, \"visible\": true}, {\"position\": \"left\", \"nticks\": 6, \"tickvalues\": null, \"tickformat\": null, \"scale\": \"linear\", \"fontsize\": 10.0, \"grid\": {\"gridOn\": true, \"color\": \"#B0B0B0\", \"dasharray\": \"none\", \"alpha\": 1.0}, \"visible\": true}], \"axesbg\": \"#FFFFFF\", \"axesbgalpha\": null, \"zoomable\": true, \"id\": \"el121244873494936\", \"lines\": [], \"paths\": [{\"data\": \"data01\", \"xindex\": 0, \"yindex\": 1, \"coordinates\": \"data\", \"pathcodes\": [\"M\", \"L\", \"L\", \"L\", \"Z\"], \"id\": \"el121244873611976\", \"dasharray\": \"none\", \"alpha\": 1, \"facecolor\": \"#1F77B4\", \"edgecolor\": \"none\", \"edgewidth\": 1.0, \"zorder\": 1}, {\"data\": \"data02\", \"xindex\": 0, \"yindex\": 1, \"coordinates\": \"data\", \"pathcodes\": [\"M\", \"L\", \"L\", \"L\", \"Z\"], \"id\": \"el121244873612704\", \"dasharray\": \"none\", \"alpha\": 1, \"facecolor\": \"#FF7F0E\", \"edgecolor\": \"none\", \"edgewidth\": 1.0, \"zorder\": 1}, {\"data\": \"data03\", \"xindex\": 0, \"yindex\": 1, \"coordinates\": \"data\", \"pathcodes\": [\"M\", \"L\", \"L\", \"L\", \"Z\"], \"id\": \"el121244873646376\", \"dasharray\": \"none\", \"alpha\": 1, \"facecolor\": \"#2CA02C\", \"edgecolor\": \"none\", \"edgewidth\": 1.0, \"zorder\": 1}, {\"data\": \"data04\", \"xindex\": 0, \"yindex\": 1, \"coordinates\": \"data\", \"pathcodes\": [\"M\", \"L\", \"L\", \"L\", \"Z\"], \"id\": \"el121244873647216\", \"dasharray\": \"none\", \"alpha\": 1, \"facecolor\": \"#D62728\", \"edgecolor\": \"none\", \"edgewidth\": 1.0, \"zorder\": 1}, {\"data\": \"data05\", \"xindex\": 0, \"yindex\": 1, \"coordinates\": \"data\", \"pathcodes\": [\"M\", \"L\", \"L\", \"L\", \"Z\"], \"id\": \"el121244873648056\", \"dasharray\": \"none\", \"alpha\": 1, \"facecolor\": \"#9467BD\", \"edgecolor\": \"none\", \"edgewidth\": 1.0, \"zorder\": 1}, {\"data\": \"data06\", \"xindex\": 0, \"yindex\": 1, \"coordinates\": \"data\", \"pathcodes\": [\"M\", \"L\", \"L\", \"L\", \"Z\"], \"id\": \"el121244873648896\", \"dasharray\": \"none\", \"alpha\": 1, \"facecolor\": \"#8C564B\", \"edgecolor\": \"none\", \"edgewidth\": 1.0, \"zorder\": 1}, {\"data\": \"data07\", \"xindex\": 0, \"yindex\": 1, \"coordinates\": \"data\", \"pathcodes\": [\"M\", \"L\", \"L\", \"L\", \"Z\"], \"id\": \"el121244873649736\", \"dasharray\": \"none\", \"alpha\": 1, \"facecolor\": \"#E377C2\", \"edgecolor\": \"none\", \"edgewidth\": 1.0, \"zorder\": 1}, {\"data\": \"data08\", \"xindex\": 0, \"yindex\": 1, \"coordinates\": \"data\", \"pathcodes\": [\"M\", \"L\", \"L\", \"L\", \"Z\"], \"id\": \"el121244883976656\", \"dasharray\": \"none\", \"alpha\": 1, \"facecolor\": \"#7F7F7F\", \"edgecolor\": \"none\", \"edgewidth\": 1.0, \"zorder\": 1}, {\"data\": \"data09\", \"xindex\": 0, \"yindex\": 1, \"coordinates\": \"data\", \"pathcodes\": [\"M\", \"L\", \"L\", \"L\", \"Z\"], \"id\": \"el121244883977496\", \"dasharray\": \"none\", \"alpha\": 1, \"facecolor\": \"#BCBD22\", \"edgecolor\": \"none\", \"edgewidth\": 1.0, \"zorder\": 1}, {\"data\": \"data10\", \"xindex\": 0, \"yindex\": 1, \"coordinates\": \"data\", \"pathcodes\": [\"M\", \"L\", \"L\", \"L\", \"Z\"], \"id\": \"el121244883978336\", \"dasharray\": \"none\", \"alpha\": 1, \"facecolor\": \"#17BECF\", \"edgecolor\": \"none\", \"edgewidth\": 1.0, \"zorder\": 1}, {\"data\": \"data11\", \"xindex\": 0, \"yindex\": 1, \"coordinates\": \"data\", \"pathcodes\": [\"M\", \"L\", \"L\", \"L\", \"Z\"], \"id\": \"el121244883979176\", \"dasharray\": \"none\", \"alpha\": 1, \"facecolor\": \"#1F77B4\", \"edgecolor\": \"none\", \"edgewidth\": 1.0, \"zorder\": 1}], \"markers\": [], \"texts\": [{\"text\": \"Rank C: Day Performance (%) per Sector\", \"position\": [0.49999999999999994, 1.0154672810614422], \"coordinates\": \"axes\", \"h_anchor\": \"middle\", \"v_baseline\": \"auto\", \"rotation\": -0.0, \"fontsize\": 12.0, \"color\": \"#000000\", \"alpha\": 1, \"zorder\": 3, \"id\": \"el121244873549640\"}], \"collections\": [], \"images\": [], \"sharex\": [], \"sharey\": []}], \"data\": {\"data01\": [[-0.25, 0.0], [0.25, 0.0], [0.25, 0.0218], [-0.25, 0.0218]], \"data02\": [[0.75, 0.0], [1.25, 0.0], [1.25, 0.0139], [0.75, 0.0139]], \"data03\": [[1.75, 0.0], [2.25, 0.0], [2.25, 0.0358], [1.75, 0.0358]], \"data04\": [[2.75, 0.0], [3.25, 0.0], [3.25, -0.0062], [2.75, -0.0062]], \"data05\": [[3.75, 0.0], [4.25, 0.0], [4.25, 0.013300000000000001], [3.75, 0.013300000000000001]], \"data06\": [[4.75, 0.0], [5.25, 0.0], [5.25, 0.023], [4.75, 0.023]], \"data07\": [[5.75, 0.0], [6.25, 0.0], [6.25, 0.0318], [5.75, 0.0318]], \"data08\": [[6.75, 0.0], [7.25, 0.0], [7.25, 0.027000000000000003], [6.75, 0.027000000000000003]], \"data09\": [[7.75, 0.0], [8.25, 0.0], [8.25, 0.0131], [7.75, 0.0131]], \"data10\": [[8.75, 0.0], [9.25, 0.0], [9.25, -0.001], [8.75, -0.001]], \"data11\": [[9.75, 0.0], [10.25, 0.0], [10.25, 0.0168], [9.75, 0.0168]]}, \"id\": \"el121244621839608\", \"plugins\": [{\"type\": \"reset\"}, {\"type\": \"zoom\", \"button\": true, \"enabled\": false}, {\"type\": \"boxzoom\", \"button\": true, \"enabled\": false}]});\n",
       "   }(mpld3);\n",
       "}else if(typeof define === \"function\" && define.amd){\n",
       "   // require.js is available: use it to load d3/mpld3\n",
       "   require.config({paths: {d3: \"https://mpld3.github.io/js/d3.v3.min\"}});\n",
       "   require([\"d3\"], function(d3){\n",
       "      window.d3 = d3;\n",
       "      mpld3_load_lib(\"https://mpld3.github.io/js/mpld3.v0.3.js\", function(){\n",
       "         \n",
       "         mpld3.draw_figure(\"fig_el1212446218396082262752988\", {\"width\": 864.0, \"height\": 576.0, \"axes\": [{\"bbox\": [0.046209490740740745, 0.2800075954861111, 0.9372395833333333, 0.6734646267361112], \"xlim\": [-0.5, 10.5], \"ylim\": [-0.0083, 0.037899999999999996], \"xdomain\": [-0.5, 10.5], \"ydomain\": [-0.0083, 0.037899999999999996], \"xscale\": \"linear\", \"yscale\": \"linear\", \"axes\": [{\"position\": \"bottom\", \"nticks\": 11, \"tickvalues\": [0, 1, 2, 3, 4, 5, 6, 7, 8, 9, 10], \"tickformat\": [\"Consumer Discretionary\", \"Consumer Staples\", \"Energy\", \"Financials\", \"Health Care\", \"Industrials\", \"Information Technology\", \"Materials\", \"Real Estate\", \"Telecommunication Services\", \"Utilities\"], \"scale\": \"linear\", \"fontsize\": 10.0, \"grid\": {\"gridOn\": true, \"color\": \"#B0B0B0\", \"dasharray\": \"none\", \"alpha\": 1.0}, \"visible\": true}, {\"position\": \"left\", \"nticks\": 6, \"tickvalues\": null, \"tickformat\": null, \"scale\": \"linear\", \"fontsize\": 10.0, \"grid\": {\"gridOn\": true, \"color\": \"#B0B0B0\", \"dasharray\": \"none\", \"alpha\": 1.0}, \"visible\": true}], \"axesbg\": \"#FFFFFF\", \"axesbgalpha\": null, \"zoomable\": true, \"id\": \"el121244873494936\", \"lines\": [], \"paths\": [{\"data\": \"data01\", \"xindex\": 0, \"yindex\": 1, \"coordinates\": \"data\", \"pathcodes\": [\"M\", \"L\", \"L\", \"L\", \"Z\"], \"id\": \"el121244873611976\", \"dasharray\": \"none\", \"alpha\": 1, \"facecolor\": \"#1F77B4\", \"edgecolor\": \"none\", \"edgewidth\": 1.0, \"zorder\": 1}, {\"data\": \"data02\", \"xindex\": 0, \"yindex\": 1, \"coordinates\": \"data\", \"pathcodes\": [\"M\", \"L\", \"L\", \"L\", \"Z\"], \"id\": \"el121244873612704\", \"dasharray\": \"none\", \"alpha\": 1, \"facecolor\": \"#FF7F0E\", \"edgecolor\": \"none\", \"edgewidth\": 1.0, \"zorder\": 1}, {\"data\": \"data03\", \"xindex\": 0, \"yindex\": 1, \"coordinates\": \"data\", \"pathcodes\": [\"M\", \"L\", \"L\", \"L\", \"Z\"], \"id\": \"el121244873646376\", \"dasharray\": \"none\", \"alpha\": 1, \"facecolor\": \"#2CA02C\", \"edgecolor\": \"none\", \"edgewidth\": 1.0, \"zorder\": 1}, {\"data\": \"data04\", \"xindex\": 0, \"yindex\": 1, \"coordinates\": \"data\", \"pathcodes\": [\"M\", \"L\", \"L\", \"L\", \"Z\"], \"id\": \"el121244873647216\", \"dasharray\": \"none\", \"alpha\": 1, \"facecolor\": \"#D62728\", \"edgecolor\": \"none\", \"edgewidth\": 1.0, \"zorder\": 1}, {\"data\": \"data05\", \"xindex\": 0, \"yindex\": 1, \"coordinates\": \"data\", \"pathcodes\": [\"M\", \"L\", \"L\", \"L\", \"Z\"], \"id\": \"el121244873648056\", \"dasharray\": \"none\", \"alpha\": 1, \"facecolor\": \"#9467BD\", \"edgecolor\": \"none\", \"edgewidth\": 1.0, \"zorder\": 1}, {\"data\": \"data06\", \"xindex\": 0, \"yindex\": 1, \"coordinates\": \"data\", \"pathcodes\": [\"M\", \"L\", \"L\", \"L\", \"Z\"], \"id\": \"el121244873648896\", \"dasharray\": \"none\", \"alpha\": 1, \"facecolor\": \"#8C564B\", \"edgecolor\": \"none\", \"edgewidth\": 1.0, \"zorder\": 1}, {\"data\": \"data07\", \"xindex\": 0, \"yindex\": 1, \"coordinates\": \"data\", \"pathcodes\": [\"M\", \"L\", \"L\", \"L\", \"Z\"], \"id\": \"el121244873649736\", \"dasharray\": \"none\", \"alpha\": 1, \"facecolor\": \"#E377C2\", \"edgecolor\": \"none\", \"edgewidth\": 1.0, \"zorder\": 1}, {\"data\": \"data08\", \"xindex\": 0, \"yindex\": 1, \"coordinates\": \"data\", \"pathcodes\": [\"M\", \"L\", \"L\", \"L\", \"Z\"], \"id\": \"el121244883976656\", \"dasharray\": \"none\", \"alpha\": 1, \"facecolor\": \"#7F7F7F\", \"edgecolor\": \"none\", \"edgewidth\": 1.0, \"zorder\": 1}, {\"data\": \"data09\", \"xindex\": 0, \"yindex\": 1, \"coordinates\": \"data\", \"pathcodes\": [\"M\", \"L\", \"L\", \"L\", \"Z\"], \"id\": \"el121244883977496\", \"dasharray\": \"none\", \"alpha\": 1, \"facecolor\": \"#BCBD22\", \"edgecolor\": \"none\", \"edgewidth\": 1.0, \"zorder\": 1}, {\"data\": \"data10\", \"xindex\": 0, \"yindex\": 1, \"coordinates\": \"data\", \"pathcodes\": [\"M\", \"L\", \"L\", \"L\", \"Z\"], \"id\": \"el121244883978336\", \"dasharray\": \"none\", \"alpha\": 1, \"facecolor\": \"#17BECF\", \"edgecolor\": \"none\", \"edgewidth\": 1.0, \"zorder\": 1}, {\"data\": \"data11\", \"xindex\": 0, \"yindex\": 1, \"coordinates\": \"data\", \"pathcodes\": [\"M\", \"L\", \"L\", \"L\", \"Z\"], \"id\": \"el121244883979176\", \"dasharray\": \"none\", \"alpha\": 1, \"facecolor\": \"#1F77B4\", \"edgecolor\": \"none\", \"edgewidth\": 1.0, \"zorder\": 1}], \"markers\": [], \"texts\": [{\"text\": \"Rank C: Day Performance (%) per Sector\", \"position\": [0.49999999999999994, 1.0154672810614422], \"coordinates\": \"axes\", \"h_anchor\": \"middle\", \"v_baseline\": \"auto\", \"rotation\": -0.0, \"fontsize\": 12.0, \"color\": \"#000000\", \"alpha\": 1, \"zorder\": 3, \"id\": \"el121244873549640\"}], \"collections\": [], \"images\": [], \"sharex\": [], \"sharey\": []}], \"data\": {\"data01\": [[-0.25, 0.0], [0.25, 0.0], [0.25, 0.0218], [-0.25, 0.0218]], \"data02\": [[0.75, 0.0], [1.25, 0.0], [1.25, 0.0139], [0.75, 0.0139]], \"data03\": [[1.75, 0.0], [2.25, 0.0], [2.25, 0.0358], [1.75, 0.0358]], \"data04\": [[2.75, 0.0], [3.25, 0.0], [3.25, -0.0062], [2.75, -0.0062]], \"data05\": [[3.75, 0.0], [4.25, 0.0], [4.25, 0.013300000000000001], [3.75, 0.013300000000000001]], \"data06\": [[4.75, 0.0], [5.25, 0.0], [5.25, 0.023], [4.75, 0.023]], \"data07\": [[5.75, 0.0], [6.25, 0.0], [6.25, 0.0318], [5.75, 0.0318]], \"data08\": [[6.75, 0.0], [7.25, 0.0], [7.25, 0.027000000000000003], [6.75, 0.027000000000000003]], \"data09\": [[7.75, 0.0], [8.25, 0.0], [8.25, 0.0131], [7.75, 0.0131]], \"data10\": [[8.75, 0.0], [9.25, 0.0], [9.25, -0.001], [8.75, -0.001]], \"data11\": [[9.75, 0.0], [10.25, 0.0], [10.25, 0.0168], [9.75, 0.0168]]}, \"id\": \"el121244621839608\", \"plugins\": [{\"type\": \"reset\"}, {\"type\": \"zoom\", \"button\": true, \"enabled\": false}, {\"type\": \"boxzoom\", \"button\": true, \"enabled\": false}]});\n",
       "      });\n",
       "    });\n",
       "}else{\n",
       "    // require.js not available: dynamically load d3 & mpld3\n",
       "    mpld3_load_lib(\"https://mpld3.github.io/js/d3.v3.min.js\", function(){\n",
       "         mpld3_load_lib(\"https://mpld3.github.io/js/mpld3.v0.3.js\", function(){\n",
       "                 \n",
       "                 mpld3.draw_figure(\"fig_el1212446218396082262752988\", {\"width\": 864.0, \"height\": 576.0, \"axes\": [{\"bbox\": [0.046209490740740745, 0.2800075954861111, 0.9372395833333333, 0.6734646267361112], \"xlim\": [-0.5, 10.5], \"ylim\": [-0.0083, 0.037899999999999996], \"xdomain\": [-0.5, 10.5], \"ydomain\": [-0.0083, 0.037899999999999996], \"xscale\": \"linear\", \"yscale\": \"linear\", \"axes\": [{\"position\": \"bottom\", \"nticks\": 11, \"tickvalues\": [0, 1, 2, 3, 4, 5, 6, 7, 8, 9, 10], \"tickformat\": [\"Consumer Discretionary\", \"Consumer Staples\", \"Energy\", \"Financials\", \"Health Care\", \"Industrials\", \"Information Technology\", \"Materials\", \"Real Estate\", \"Telecommunication Services\", \"Utilities\"], \"scale\": \"linear\", \"fontsize\": 10.0, \"grid\": {\"gridOn\": true, \"color\": \"#B0B0B0\", \"dasharray\": \"none\", \"alpha\": 1.0}, \"visible\": true}, {\"position\": \"left\", \"nticks\": 6, \"tickvalues\": null, \"tickformat\": null, \"scale\": \"linear\", \"fontsize\": 10.0, \"grid\": {\"gridOn\": true, \"color\": \"#B0B0B0\", \"dasharray\": \"none\", \"alpha\": 1.0}, \"visible\": true}], \"axesbg\": \"#FFFFFF\", \"axesbgalpha\": null, \"zoomable\": true, \"id\": \"el121244873494936\", \"lines\": [], \"paths\": [{\"data\": \"data01\", \"xindex\": 0, \"yindex\": 1, \"coordinates\": \"data\", \"pathcodes\": [\"M\", \"L\", \"L\", \"L\", \"Z\"], \"id\": \"el121244873611976\", \"dasharray\": \"none\", \"alpha\": 1, \"facecolor\": \"#1F77B4\", \"edgecolor\": \"none\", \"edgewidth\": 1.0, \"zorder\": 1}, {\"data\": \"data02\", \"xindex\": 0, \"yindex\": 1, \"coordinates\": \"data\", \"pathcodes\": [\"M\", \"L\", \"L\", \"L\", \"Z\"], \"id\": \"el121244873612704\", \"dasharray\": \"none\", \"alpha\": 1, \"facecolor\": \"#FF7F0E\", \"edgecolor\": \"none\", \"edgewidth\": 1.0, \"zorder\": 1}, {\"data\": \"data03\", \"xindex\": 0, \"yindex\": 1, \"coordinates\": \"data\", \"pathcodes\": [\"M\", \"L\", \"L\", \"L\", \"Z\"], \"id\": \"el121244873646376\", \"dasharray\": \"none\", \"alpha\": 1, \"facecolor\": \"#2CA02C\", \"edgecolor\": \"none\", \"edgewidth\": 1.0, \"zorder\": 1}, {\"data\": \"data04\", \"xindex\": 0, \"yindex\": 1, \"coordinates\": \"data\", \"pathcodes\": [\"M\", \"L\", \"L\", \"L\", \"Z\"], \"id\": \"el121244873647216\", \"dasharray\": \"none\", \"alpha\": 1, \"facecolor\": \"#D62728\", \"edgecolor\": \"none\", \"edgewidth\": 1.0, \"zorder\": 1}, {\"data\": \"data05\", \"xindex\": 0, \"yindex\": 1, \"coordinates\": \"data\", \"pathcodes\": [\"M\", \"L\", \"L\", \"L\", \"Z\"], \"id\": \"el121244873648056\", \"dasharray\": \"none\", \"alpha\": 1, \"facecolor\": \"#9467BD\", \"edgecolor\": \"none\", \"edgewidth\": 1.0, \"zorder\": 1}, {\"data\": \"data06\", \"xindex\": 0, \"yindex\": 1, \"coordinates\": \"data\", \"pathcodes\": [\"M\", \"L\", \"L\", \"L\", \"Z\"], \"id\": \"el121244873648896\", \"dasharray\": \"none\", \"alpha\": 1, \"facecolor\": \"#8C564B\", \"edgecolor\": \"none\", \"edgewidth\": 1.0, \"zorder\": 1}, {\"data\": \"data07\", \"xindex\": 0, \"yindex\": 1, \"coordinates\": \"data\", \"pathcodes\": [\"M\", \"L\", \"L\", \"L\", \"Z\"], \"id\": \"el121244873649736\", \"dasharray\": \"none\", \"alpha\": 1, \"facecolor\": \"#E377C2\", \"edgecolor\": \"none\", \"edgewidth\": 1.0, \"zorder\": 1}, {\"data\": \"data08\", \"xindex\": 0, \"yindex\": 1, \"coordinates\": \"data\", \"pathcodes\": [\"M\", \"L\", \"L\", \"L\", \"Z\"], \"id\": \"el121244883976656\", \"dasharray\": \"none\", \"alpha\": 1, \"facecolor\": \"#7F7F7F\", \"edgecolor\": \"none\", \"edgewidth\": 1.0, \"zorder\": 1}, {\"data\": \"data09\", \"xindex\": 0, \"yindex\": 1, \"coordinates\": \"data\", \"pathcodes\": [\"M\", \"L\", \"L\", \"L\", \"Z\"], \"id\": \"el121244883977496\", \"dasharray\": \"none\", \"alpha\": 1, \"facecolor\": \"#BCBD22\", \"edgecolor\": \"none\", \"edgewidth\": 1.0, \"zorder\": 1}, {\"data\": \"data10\", \"xindex\": 0, \"yindex\": 1, \"coordinates\": \"data\", \"pathcodes\": [\"M\", \"L\", \"L\", \"L\", \"Z\"], \"id\": \"el121244883978336\", \"dasharray\": \"none\", \"alpha\": 1, \"facecolor\": \"#17BECF\", \"edgecolor\": \"none\", \"edgewidth\": 1.0, \"zorder\": 1}, {\"data\": \"data11\", \"xindex\": 0, \"yindex\": 1, \"coordinates\": \"data\", \"pathcodes\": [\"M\", \"L\", \"L\", \"L\", \"Z\"], \"id\": \"el121244883979176\", \"dasharray\": \"none\", \"alpha\": 1, \"facecolor\": \"#1F77B4\", \"edgecolor\": \"none\", \"edgewidth\": 1.0, \"zorder\": 1}], \"markers\": [], \"texts\": [{\"text\": \"Rank C: Day Performance (%) per Sector\", \"position\": [0.49999999999999994, 1.0154672810614422], \"coordinates\": \"axes\", \"h_anchor\": \"middle\", \"v_baseline\": \"auto\", \"rotation\": -0.0, \"fontsize\": 12.0, \"color\": \"#000000\", \"alpha\": 1, \"zorder\": 3, \"id\": \"el121244873549640\"}], \"collections\": [], \"images\": [], \"sharex\": [], \"sharey\": []}], \"data\": {\"data01\": [[-0.25, 0.0], [0.25, 0.0], [0.25, 0.0218], [-0.25, 0.0218]], \"data02\": [[0.75, 0.0], [1.25, 0.0], [1.25, 0.0139], [0.75, 0.0139]], \"data03\": [[1.75, 0.0], [2.25, 0.0], [2.25, 0.0358], [1.75, 0.0358]], \"data04\": [[2.75, 0.0], [3.25, 0.0], [3.25, -0.0062], [2.75, -0.0062]], \"data05\": [[3.75, 0.0], [4.25, 0.0], [4.25, 0.013300000000000001], [3.75, 0.013300000000000001]], \"data06\": [[4.75, 0.0], [5.25, 0.0], [5.25, 0.023], [4.75, 0.023]], \"data07\": [[5.75, 0.0], [6.25, 0.0], [6.25, 0.0318], [5.75, 0.0318]], \"data08\": [[6.75, 0.0], [7.25, 0.0], [7.25, 0.027000000000000003], [6.75, 0.027000000000000003]], \"data09\": [[7.75, 0.0], [8.25, 0.0], [8.25, 0.0131], [7.75, 0.0131]], \"data10\": [[8.75, 0.0], [9.25, 0.0], [9.25, -0.001], [8.75, -0.001]], \"data11\": [[9.75, 0.0], [10.25, 0.0], [10.25, 0.0168], [9.75, 0.0168]]}, \"id\": \"el121244621839608\", \"plugins\": [{\"type\": \"reset\"}, {\"type\": \"zoom\", \"button\": true, \"enabled\": false}, {\"type\": \"boxzoom\", \"button\": true, \"enabled\": false}]});\n",
       "            })\n",
       "         });\n",
       "}\n",
       "</script>"
      ],
      "text/plain": [
       "<IPython.core.display.HTML object>"
      ]
     },
     "execution_count": 38,
     "metadata": {},
     "output_type": "execute_result"
    },
    {
     "name": "stdout",
     "output_type": "stream",
     "text": [
      "Rank D: Month Performance\n"
     ]
    },
    {
     "data": {
      "text/plain": [
       "<matplotlib.axes._subplots.AxesSubplot at 0x1233dcf28>"
      ]
     },
     "execution_count": 38,
     "metadata": {},
     "output_type": "execute_result"
    },
    {
     "data": {
      "text/plain": [
       "Text(0.5,1,'Rank D: Month Performance (%) per Sector')"
      ]
     },
     "execution_count": 38,
     "metadata": {},
     "output_type": "execute_result"
    },
    {
     "data": {
      "text/html": [
       "\n",
       "\n",
       "<style>\n",
       "\n",
       "</style>\n",
       "\n",
       "<div id=\"fig_el121244873649960214068454\"></div>\n",
       "<script>\n",
       "function mpld3_load_lib(url, callback){\n",
       "  var s = document.createElement('script');\n",
       "  s.src = url;\n",
       "  s.async = true;\n",
       "  s.onreadystatechange = s.onload = callback;\n",
       "  s.onerror = function(){console.warn(\"failed to load library \" + url);};\n",
       "  document.getElementsByTagName(\"head\")[0].appendChild(s);\n",
       "}\n",
       "\n",
       "if(typeof(mpld3) !== \"undefined\" && mpld3._mpld3IsLoaded){\n",
       "   // already loaded: just create the figure\n",
       "   !function(mpld3){\n",
       "       \n",
       "       mpld3.draw_figure(\"fig_el121244873649960214068454\", {\"width\": 864.0, \"height\": 576.0, \"axes\": [{\"bbox\": [0.05590277777777778, 0.2800075954861111, 0.9275462962962964, 0.6734646267361112], \"xlim\": [-0.5, 10.5], \"ylim\": [-0.05382999999999999, 0.08103], \"xdomain\": [-0.5, 10.5], \"ydomain\": [-0.05382999999999999, 0.08103], \"xscale\": \"linear\", \"yscale\": \"linear\", \"axes\": [{\"position\": \"bottom\", \"nticks\": 11, \"tickvalues\": [0, 1, 2, 3, 4, 5, 6, 7, 8, 9, 10], \"tickformat\": [\"Consumer Discretionary\", \"Consumer Staples\", \"Energy\", \"Financials\", \"Health Care\", \"Industrials\", \"Information Technology\", \"Materials\", \"Real Estate\", \"Telecommunication Services\", \"Utilities\"], \"scale\": \"linear\", \"fontsize\": 10.0, \"grid\": {\"gridOn\": true, \"color\": \"#B0B0B0\", \"dasharray\": \"none\", \"alpha\": 1.0}, \"visible\": true}, {\"position\": \"left\", \"nticks\": 9, \"tickvalues\": null, \"tickformat\": null, \"scale\": \"linear\", \"fontsize\": 10.0, \"grid\": {\"gridOn\": true, \"color\": \"#B0B0B0\", \"dasharray\": \"none\", \"alpha\": 1.0}, \"visible\": true}], \"axesbg\": \"#FFFFFF\", \"axesbgalpha\": null, \"zoomable\": true, \"id\": \"el121244886220584\", \"lines\": [], \"paths\": [{\"data\": \"data01\", \"xindex\": 0, \"yindex\": 1, \"coordinates\": \"data\", \"pathcodes\": [\"M\", \"L\", \"L\", \"L\", \"Z\"], \"id\": \"el121244840492672\", \"dasharray\": \"none\", \"alpha\": 1, \"facecolor\": \"#1F77B4\", \"edgecolor\": \"none\", \"edgewidth\": 1.0, \"zorder\": 1}, {\"data\": \"data02\", \"xindex\": 0, \"yindex\": 1, \"coordinates\": \"data\", \"pathcodes\": [\"M\", \"L\", \"L\", \"L\", \"Z\"], \"id\": \"el121244840490376\", \"dasharray\": \"none\", \"alpha\": 1, \"facecolor\": \"#FF7F0E\", \"edgecolor\": \"none\", \"edgewidth\": 1.0, \"zorder\": 1}, {\"data\": \"data03\", \"xindex\": 0, \"yindex\": 1, \"coordinates\": \"data\", \"pathcodes\": [\"M\", \"L\", \"L\", \"L\", \"Z\"], \"id\": \"el121244840513664\", \"dasharray\": \"none\", \"alpha\": 1, \"facecolor\": \"#2CA02C\", \"edgecolor\": \"none\", \"edgewidth\": 1.0, \"zorder\": 1}, {\"data\": \"data04\", \"xindex\": 0, \"yindex\": 1, \"coordinates\": \"data\", \"pathcodes\": [\"M\", \"L\", \"L\", \"L\", \"Z\"], \"id\": \"el121244840514672\", \"dasharray\": \"none\", \"alpha\": 1, \"facecolor\": \"#D62728\", \"edgecolor\": \"none\", \"edgewidth\": 1.0, \"zorder\": 1}, {\"data\": \"data05\", \"xindex\": 0, \"yindex\": 1, \"coordinates\": \"data\", \"pathcodes\": [\"M\", \"L\", \"L\", \"L\", \"Z\"], \"id\": \"el121244840516576\", \"dasharray\": \"none\", \"alpha\": 1, \"facecolor\": \"#9467BD\", \"edgecolor\": \"none\", \"edgewidth\": 1.0, \"zorder\": 1}, {\"data\": \"data06\", \"xindex\": 0, \"yindex\": 1, \"coordinates\": \"data\", \"pathcodes\": [\"M\", \"L\", \"L\", \"L\", \"Z\"], \"id\": \"el121244840515120\", \"dasharray\": \"none\", \"alpha\": 1, \"facecolor\": \"#8C564B\", \"edgecolor\": \"none\", \"edgewidth\": 1.0, \"zorder\": 1}, {\"data\": \"data07\", \"xindex\": 0, \"yindex\": 1, \"coordinates\": \"data\", \"pathcodes\": [\"M\", \"L\", \"L\", \"L\", \"Z\"], \"id\": \"el121244840517192\", \"dasharray\": \"none\", \"alpha\": 1, \"facecolor\": \"#E377C2\", \"edgecolor\": \"none\", \"edgewidth\": 1.0, \"zorder\": 1}, {\"data\": \"data08\", \"xindex\": 0, \"yindex\": 1, \"coordinates\": \"data\", \"pathcodes\": [\"M\", \"L\", \"L\", \"L\", \"Z\"], \"id\": \"el121244596081160\", \"dasharray\": \"none\", \"alpha\": 1, \"facecolor\": \"#7F7F7F\", \"edgecolor\": \"none\", \"edgewidth\": 1.0, \"zorder\": 1}, {\"data\": \"data09\", \"xindex\": 0, \"yindex\": 1, \"coordinates\": \"data\", \"pathcodes\": [\"M\", \"L\", \"L\", \"L\", \"Z\"], \"id\": \"el121244596082224\", \"dasharray\": \"none\", \"alpha\": 1, \"facecolor\": \"#BCBD22\", \"edgecolor\": \"none\", \"edgewidth\": 1.0, \"zorder\": 1}, {\"data\": \"data10\", \"xindex\": 0, \"yindex\": 1, \"coordinates\": \"data\", \"pathcodes\": [\"M\", \"L\", \"L\", \"L\", \"Z\"], \"id\": \"el121244596135640\", \"dasharray\": \"none\", \"alpha\": 1, \"facecolor\": \"#17BECF\", \"edgecolor\": \"none\", \"edgewidth\": 1.0, \"zorder\": 1}, {\"data\": \"data11\", \"xindex\": 0, \"yindex\": 1, \"coordinates\": \"data\", \"pathcodes\": [\"M\", \"L\", \"L\", \"L\", \"Z\"], \"id\": \"el121244596134744\", \"dasharray\": \"none\", \"alpha\": 1, \"facecolor\": \"#1F77B4\", \"edgecolor\": \"none\", \"edgewidth\": 1.0, \"zorder\": 1}], \"markers\": [], \"texts\": [{\"text\": \"Rank D: Month Performance (%) per Sector\", \"position\": [0.49999999999999994, 1.0154672810614422], \"coordinates\": \"axes\", \"h_anchor\": \"middle\", \"v_baseline\": \"auto\", \"rotation\": -0.0, \"fontsize\": 12.0, \"color\": \"#000000\", \"alpha\": 1, \"zorder\": 3, \"id\": \"el121244833449744\"}], \"collections\": [], \"images\": [], \"sharex\": [], \"sharey\": []}], \"data\": {\"data01\": [[-0.25, 0.0], [0.25, 0.0], [0.25, -0.0134], [-0.25, -0.0134]], \"data02\": [[0.75, 0.0], [1.25, 0.0], [1.25, -0.0004], [0.75, -0.0004]], \"data03\": [[1.75, 0.0], [2.25, 0.0], [2.25, 0.07490000000000001], [1.75, 0.07490000000000001]], \"data04\": [[2.75, 0.0], [3.25, 0.0], [3.25, -0.04769999999999999], [2.75, -0.04769999999999999]], \"data05\": [[3.75, 0.0], [4.25, 0.0], [4.25, -0.0278], [3.75, -0.0278]], \"data06\": [[4.75, 0.0], [5.25, 0.0], [5.25, -0.0169], [4.75, -0.0169]], \"data07\": [[5.75, 0.0], [6.25, 0.0], [6.25, -0.024399999999999998], [5.75, -0.024399999999999998]], \"data08\": [[6.75, 0.0], [7.25, 0.0], [7.25, 0.0054], [6.75, 0.0054]], \"data09\": [[7.75, 0.0], [8.25, 0.0], [8.25, -0.0087], [7.75, -0.0087]], \"data10\": [[8.75, 0.0], [9.25, 0.0], [9.25, -0.0189], [8.75, -0.0189]], \"data11\": [[9.75, 0.0], [10.25, 0.0], [10.25, 0.0129], [9.75, 0.0129]]}, \"id\": \"el121244873649960\", \"plugins\": [{\"type\": \"reset\"}, {\"type\": \"zoom\", \"button\": true, \"enabled\": false}, {\"type\": \"boxzoom\", \"button\": true, \"enabled\": false}]});\n",
       "   }(mpld3);\n",
       "}else if(typeof define === \"function\" && define.amd){\n",
       "   // require.js is available: use it to load d3/mpld3\n",
       "   require.config({paths: {d3: \"https://mpld3.github.io/js/d3.v3.min\"}});\n",
       "   require([\"d3\"], function(d3){\n",
       "      window.d3 = d3;\n",
       "      mpld3_load_lib(\"https://mpld3.github.io/js/mpld3.v0.3.js\", function(){\n",
       "         \n",
       "         mpld3.draw_figure(\"fig_el121244873649960214068454\", {\"width\": 864.0, \"height\": 576.0, \"axes\": [{\"bbox\": [0.05590277777777778, 0.2800075954861111, 0.9275462962962964, 0.6734646267361112], \"xlim\": [-0.5, 10.5], \"ylim\": [-0.05382999999999999, 0.08103], \"xdomain\": [-0.5, 10.5], \"ydomain\": [-0.05382999999999999, 0.08103], \"xscale\": \"linear\", \"yscale\": \"linear\", \"axes\": [{\"position\": \"bottom\", \"nticks\": 11, \"tickvalues\": [0, 1, 2, 3, 4, 5, 6, 7, 8, 9, 10], \"tickformat\": [\"Consumer Discretionary\", \"Consumer Staples\", \"Energy\", \"Financials\", \"Health Care\", \"Industrials\", \"Information Technology\", \"Materials\", \"Real Estate\", \"Telecommunication Services\", \"Utilities\"], \"scale\": \"linear\", \"fontsize\": 10.0, \"grid\": {\"gridOn\": true, \"color\": \"#B0B0B0\", \"dasharray\": \"none\", \"alpha\": 1.0}, \"visible\": true}, {\"position\": \"left\", \"nticks\": 9, \"tickvalues\": null, \"tickformat\": null, \"scale\": \"linear\", \"fontsize\": 10.0, \"grid\": {\"gridOn\": true, \"color\": \"#B0B0B0\", \"dasharray\": \"none\", \"alpha\": 1.0}, \"visible\": true}], \"axesbg\": \"#FFFFFF\", \"axesbgalpha\": null, \"zoomable\": true, \"id\": \"el121244886220584\", \"lines\": [], \"paths\": [{\"data\": \"data01\", \"xindex\": 0, \"yindex\": 1, \"coordinates\": \"data\", \"pathcodes\": [\"M\", \"L\", \"L\", \"L\", \"Z\"], \"id\": \"el121244840492672\", \"dasharray\": \"none\", \"alpha\": 1, \"facecolor\": \"#1F77B4\", \"edgecolor\": \"none\", \"edgewidth\": 1.0, \"zorder\": 1}, {\"data\": \"data02\", \"xindex\": 0, \"yindex\": 1, \"coordinates\": \"data\", \"pathcodes\": [\"M\", \"L\", \"L\", \"L\", \"Z\"], \"id\": \"el121244840490376\", \"dasharray\": \"none\", \"alpha\": 1, \"facecolor\": \"#FF7F0E\", \"edgecolor\": \"none\", \"edgewidth\": 1.0, \"zorder\": 1}, {\"data\": \"data03\", \"xindex\": 0, \"yindex\": 1, \"coordinates\": \"data\", \"pathcodes\": [\"M\", \"L\", \"L\", \"L\", \"Z\"], \"id\": \"el121244840513664\", \"dasharray\": \"none\", \"alpha\": 1, \"facecolor\": \"#2CA02C\", \"edgecolor\": \"none\", \"edgewidth\": 1.0, \"zorder\": 1}, {\"data\": \"data04\", \"xindex\": 0, \"yindex\": 1, \"coordinates\": \"data\", \"pathcodes\": [\"M\", \"L\", \"L\", \"L\", \"Z\"], \"id\": \"el121244840514672\", \"dasharray\": \"none\", \"alpha\": 1, \"facecolor\": \"#D62728\", \"edgecolor\": \"none\", \"edgewidth\": 1.0, \"zorder\": 1}, {\"data\": \"data05\", \"xindex\": 0, \"yindex\": 1, \"coordinates\": \"data\", \"pathcodes\": [\"M\", \"L\", \"L\", \"L\", \"Z\"], \"id\": \"el121244840516576\", \"dasharray\": \"none\", \"alpha\": 1, \"facecolor\": \"#9467BD\", \"edgecolor\": \"none\", \"edgewidth\": 1.0, \"zorder\": 1}, {\"data\": \"data06\", \"xindex\": 0, \"yindex\": 1, \"coordinates\": \"data\", \"pathcodes\": [\"M\", \"L\", \"L\", \"L\", \"Z\"], \"id\": \"el121244840515120\", \"dasharray\": \"none\", \"alpha\": 1, \"facecolor\": \"#8C564B\", \"edgecolor\": \"none\", \"edgewidth\": 1.0, \"zorder\": 1}, {\"data\": \"data07\", \"xindex\": 0, \"yindex\": 1, \"coordinates\": \"data\", \"pathcodes\": [\"M\", \"L\", \"L\", \"L\", \"Z\"], \"id\": \"el121244840517192\", \"dasharray\": \"none\", \"alpha\": 1, \"facecolor\": \"#E377C2\", \"edgecolor\": \"none\", \"edgewidth\": 1.0, \"zorder\": 1}, {\"data\": \"data08\", \"xindex\": 0, \"yindex\": 1, \"coordinates\": \"data\", \"pathcodes\": [\"M\", \"L\", \"L\", \"L\", \"Z\"], \"id\": \"el121244596081160\", \"dasharray\": \"none\", \"alpha\": 1, \"facecolor\": \"#7F7F7F\", \"edgecolor\": \"none\", \"edgewidth\": 1.0, \"zorder\": 1}, {\"data\": \"data09\", \"xindex\": 0, \"yindex\": 1, \"coordinates\": \"data\", \"pathcodes\": [\"M\", \"L\", \"L\", \"L\", \"Z\"], \"id\": \"el121244596082224\", \"dasharray\": \"none\", \"alpha\": 1, \"facecolor\": \"#BCBD22\", \"edgecolor\": \"none\", \"edgewidth\": 1.0, \"zorder\": 1}, {\"data\": \"data10\", \"xindex\": 0, \"yindex\": 1, \"coordinates\": \"data\", \"pathcodes\": [\"M\", \"L\", \"L\", \"L\", \"Z\"], \"id\": \"el121244596135640\", \"dasharray\": \"none\", \"alpha\": 1, \"facecolor\": \"#17BECF\", \"edgecolor\": \"none\", \"edgewidth\": 1.0, \"zorder\": 1}, {\"data\": \"data11\", \"xindex\": 0, \"yindex\": 1, \"coordinates\": \"data\", \"pathcodes\": [\"M\", \"L\", \"L\", \"L\", \"Z\"], \"id\": \"el121244596134744\", \"dasharray\": \"none\", \"alpha\": 1, \"facecolor\": \"#1F77B4\", \"edgecolor\": \"none\", \"edgewidth\": 1.0, \"zorder\": 1}], \"markers\": [], \"texts\": [{\"text\": \"Rank D: Month Performance (%) per Sector\", \"position\": [0.49999999999999994, 1.0154672810614422], \"coordinates\": \"axes\", \"h_anchor\": \"middle\", \"v_baseline\": \"auto\", \"rotation\": -0.0, \"fontsize\": 12.0, \"color\": \"#000000\", \"alpha\": 1, \"zorder\": 3, \"id\": \"el121244833449744\"}], \"collections\": [], \"images\": [], \"sharex\": [], \"sharey\": []}], \"data\": {\"data01\": [[-0.25, 0.0], [0.25, 0.0], [0.25, -0.0134], [-0.25, -0.0134]], \"data02\": [[0.75, 0.0], [1.25, 0.0], [1.25, -0.0004], [0.75, -0.0004]], \"data03\": [[1.75, 0.0], [2.25, 0.0], [2.25, 0.07490000000000001], [1.75, 0.07490000000000001]], \"data04\": [[2.75, 0.0], [3.25, 0.0], [3.25, -0.04769999999999999], [2.75, -0.04769999999999999]], \"data05\": [[3.75, 0.0], [4.25, 0.0], [4.25, -0.0278], [3.75, -0.0278]], \"data06\": [[4.75, 0.0], [5.25, 0.0], [5.25, -0.0169], [4.75, -0.0169]], \"data07\": [[5.75, 0.0], [6.25, 0.0], [6.25, -0.024399999999999998], [5.75, -0.024399999999999998]], \"data08\": [[6.75, 0.0], [7.25, 0.0], [7.25, 0.0054], [6.75, 0.0054]], \"data09\": [[7.75, 0.0], [8.25, 0.0], [8.25, -0.0087], [7.75, -0.0087]], \"data10\": [[8.75, 0.0], [9.25, 0.0], [9.25, -0.0189], [8.75, -0.0189]], \"data11\": [[9.75, 0.0], [10.25, 0.0], [10.25, 0.0129], [9.75, 0.0129]]}, \"id\": \"el121244873649960\", \"plugins\": [{\"type\": \"reset\"}, {\"type\": \"zoom\", \"button\": true, \"enabled\": false}, {\"type\": \"boxzoom\", \"button\": true, \"enabled\": false}]});\n",
       "      });\n",
       "    });\n",
       "}else{\n",
       "    // require.js not available: dynamically load d3 & mpld3\n",
       "    mpld3_load_lib(\"https://mpld3.github.io/js/d3.v3.min.js\", function(){\n",
       "         mpld3_load_lib(\"https://mpld3.github.io/js/mpld3.v0.3.js\", function(){\n",
       "                 \n",
       "                 mpld3.draw_figure(\"fig_el121244873649960214068454\", {\"width\": 864.0, \"height\": 576.0, \"axes\": [{\"bbox\": [0.05590277777777778, 0.2800075954861111, 0.9275462962962964, 0.6734646267361112], \"xlim\": [-0.5, 10.5], \"ylim\": [-0.05382999999999999, 0.08103], \"xdomain\": [-0.5, 10.5], \"ydomain\": [-0.05382999999999999, 0.08103], \"xscale\": \"linear\", \"yscale\": \"linear\", \"axes\": [{\"position\": \"bottom\", \"nticks\": 11, \"tickvalues\": [0, 1, 2, 3, 4, 5, 6, 7, 8, 9, 10], \"tickformat\": [\"Consumer Discretionary\", \"Consumer Staples\", \"Energy\", \"Financials\", \"Health Care\", \"Industrials\", \"Information Technology\", \"Materials\", \"Real Estate\", \"Telecommunication Services\", \"Utilities\"], \"scale\": \"linear\", \"fontsize\": 10.0, \"grid\": {\"gridOn\": true, \"color\": \"#B0B0B0\", \"dasharray\": \"none\", \"alpha\": 1.0}, \"visible\": true}, {\"position\": \"left\", \"nticks\": 9, \"tickvalues\": null, \"tickformat\": null, \"scale\": \"linear\", \"fontsize\": 10.0, \"grid\": {\"gridOn\": true, \"color\": \"#B0B0B0\", \"dasharray\": \"none\", \"alpha\": 1.0}, \"visible\": true}], \"axesbg\": \"#FFFFFF\", \"axesbgalpha\": null, \"zoomable\": true, \"id\": \"el121244886220584\", \"lines\": [], \"paths\": [{\"data\": \"data01\", \"xindex\": 0, \"yindex\": 1, \"coordinates\": \"data\", \"pathcodes\": [\"M\", \"L\", \"L\", \"L\", \"Z\"], \"id\": \"el121244840492672\", \"dasharray\": \"none\", \"alpha\": 1, \"facecolor\": \"#1F77B4\", \"edgecolor\": \"none\", \"edgewidth\": 1.0, \"zorder\": 1}, {\"data\": \"data02\", \"xindex\": 0, \"yindex\": 1, \"coordinates\": \"data\", \"pathcodes\": [\"M\", \"L\", \"L\", \"L\", \"Z\"], \"id\": \"el121244840490376\", \"dasharray\": \"none\", \"alpha\": 1, \"facecolor\": \"#FF7F0E\", \"edgecolor\": \"none\", \"edgewidth\": 1.0, \"zorder\": 1}, {\"data\": \"data03\", \"xindex\": 0, \"yindex\": 1, \"coordinates\": \"data\", \"pathcodes\": [\"M\", \"L\", \"L\", \"L\", \"Z\"], \"id\": \"el121244840513664\", \"dasharray\": \"none\", \"alpha\": 1, \"facecolor\": \"#2CA02C\", \"edgecolor\": \"none\", \"edgewidth\": 1.0, \"zorder\": 1}, {\"data\": \"data04\", \"xindex\": 0, \"yindex\": 1, \"coordinates\": \"data\", \"pathcodes\": [\"M\", \"L\", \"L\", \"L\", \"Z\"], \"id\": \"el121244840514672\", \"dasharray\": \"none\", \"alpha\": 1, \"facecolor\": \"#D62728\", \"edgecolor\": \"none\", \"edgewidth\": 1.0, \"zorder\": 1}, {\"data\": \"data05\", \"xindex\": 0, \"yindex\": 1, \"coordinates\": \"data\", \"pathcodes\": [\"M\", \"L\", \"L\", \"L\", \"Z\"], \"id\": \"el121244840516576\", \"dasharray\": \"none\", \"alpha\": 1, \"facecolor\": \"#9467BD\", \"edgecolor\": \"none\", \"edgewidth\": 1.0, \"zorder\": 1}, {\"data\": \"data06\", \"xindex\": 0, \"yindex\": 1, \"coordinates\": \"data\", \"pathcodes\": [\"M\", \"L\", \"L\", \"L\", \"Z\"], \"id\": \"el121244840515120\", \"dasharray\": \"none\", \"alpha\": 1, \"facecolor\": \"#8C564B\", \"edgecolor\": \"none\", \"edgewidth\": 1.0, \"zorder\": 1}, {\"data\": \"data07\", \"xindex\": 0, \"yindex\": 1, \"coordinates\": \"data\", \"pathcodes\": [\"M\", \"L\", \"L\", \"L\", \"Z\"], \"id\": \"el121244840517192\", \"dasharray\": \"none\", \"alpha\": 1, \"facecolor\": \"#E377C2\", \"edgecolor\": \"none\", \"edgewidth\": 1.0, \"zorder\": 1}, {\"data\": \"data08\", \"xindex\": 0, \"yindex\": 1, \"coordinates\": \"data\", \"pathcodes\": [\"M\", \"L\", \"L\", \"L\", \"Z\"], \"id\": \"el121244596081160\", \"dasharray\": \"none\", \"alpha\": 1, \"facecolor\": \"#7F7F7F\", \"edgecolor\": \"none\", \"edgewidth\": 1.0, \"zorder\": 1}, {\"data\": \"data09\", \"xindex\": 0, \"yindex\": 1, \"coordinates\": \"data\", \"pathcodes\": [\"M\", \"L\", \"L\", \"L\", \"Z\"], \"id\": \"el121244596082224\", \"dasharray\": \"none\", \"alpha\": 1, \"facecolor\": \"#BCBD22\", \"edgecolor\": \"none\", \"edgewidth\": 1.0, \"zorder\": 1}, {\"data\": \"data10\", \"xindex\": 0, \"yindex\": 1, \"coordinates\": \"data\", \"pathcodes\": [\"M\", \"L\", \"L\", \"L\", \"Z\"], \"id\": \"el121244596135640\", \"dasharray\": \"none\", \"alpha\": 1, \"facecolor\": \"#17BECF\", \"edgecolor\": \"none\", \"edgewidth\": 1.0, \"zorder\": 1}, {\"data\": \"data11\", \"xindex\": 0, \"yindex\": 1, \"coordinates\": \"data\", \"pathcodes\": [\"M\", \"L\", \"L\", \"L\", \"Z\"], \"id\": \"el121244596134744\", \"dasharray\": \"none\", \"alpha\": 1, \"facecolor\": \"#1F77B4\", \"edgecolor\": \"none\", \"edgewidth\": 1.0, \"zorder\": 1}], \"markers\": [], \"texts\": [{\"text\": \"Rank D: Month Performance (%) per Sector\", \"position\": [0.49999999999999994, 1.0154672810614422], \"coordinates\": \"axes\", \"h_anchor\": \"middle\", \"v_baseline\": \"auto\", \"rotation\": -0.0, \"fontsize\": 12.0, \"color\": \"#000000\", \"alpha\": 1, \"zorder\": 3, \"id\": \"el121244833449744\"}], \"collections\": [], \"images\": [], \"sharex\": [], \"sharey\": []}], \"data\": {\"data01\": [[-0.25, 0.0], [0.25, 0.0], [0.25, -0.0134], [-0.25, -0.0134]], \"data02\": [[0.75, 0.0], [1.25, 0.0], [1.25, -0.0004], [0.75, -0.0004]], \"data03\": [[1.75, 0.0], [2.25, 0.0], [2.25, 0.07490000000000001], [1.75, 0.07490000000000001]], \"data04\": [[2.75, 0.0], [3.25, 0.0], [3.25, -0.04769999999999999], [2.75, -0.04769999999999999]], \"data05\": [[3.75, 0.0], [4.25, 0.0], [4.25, -0.0278], [3.75, -0.0278]], \"data06\": [[4.75, 0.0], [5.25, 0.0], [5.25, -0.0169], [4.75, -0.0169]], \"data07\": [[5.75, 0.0], [6.25, 0.0], [6.25, -0.024399999999999998], [5.75, -0.024399999999999998]], \"data08\": [[6.75, 0.0], [7.25, 0.0], [7.25, 0.0054], [6.75, 0.0054]], \"data09\": [[7.75, 0.0], [8.25, 0.0], [8.25, -0.0087], [7.75, -0.0087]], \"data10\": [[8.75, 0.0], [9.25, 0.0], [9.25, -0.0189], [8.75, -0.0189]], \"data11\": [[9.75, 0.0], [10.25, 0.0], [10.25, 0.0129], [9.75, 0.0129]]}, \"id\": \"el121244873649960\", \"plugins\": [{\"type\": \"reset\"}, {\"type\": \"zoom\", \"button\": true, \"enabled\": false}, {\"type\": \"boxzoom\", \"button\": true, \"enabled\": false}]});\n",
       "            })\n",
       "         });\n",
       "}\n",
       "</script>"
      ],
      "text/plain": [
       "<IPython.core.display.HTML object>"
      ]
     },
     "execution_count": 38,
     "metadata": {},
     "output_type": "execute_result"
    },
    {
     "name": "stdout",
     "output_type": "stream",
     "text": [
      "Rank E: Month Performance\n"
     ]
    },
    {
     "data": {
      "text/plain": [
       "<matplotlib.axes._subplots.AxesSubplot at 0x120846ac8>"
      ]
     },
     "execution_count": 38,
     "metadata": {},
     "output_type": "execute_result"
    },
    {
     "data": {
      "text/plain": [
       "Text(0.5,1,'Rank E: Month Performance (%) per Sector')"
      ]
     },
     "execution_count": 38,
     "metadata": {},
     "output_type": "execute_result"
    },
    {
     "data": {
      "text/html": [
       "\n",
       "\n",
       "<style>\n",
       "\n",
       "</style>\n",
       "\n",
       "<div id=\"fig_el1212448698898889104191587\"></div>\n",
       "<script>\n",
       "function mpld3_load_lib(url, callback){\n",
       "  var s = document.createElement('script');\n",
       "  s.src = url;\n",
       "  s.async = true;\n",
       "  s.onreadystatechange = s.onload = callback;\n",
       "  s.onerror = function(){console.warn(\"failed to load library \" + url);};\n",
       "  document.getElementsByTagName(\"head\")[0].appendChild(s);\n",
       "}\n",
       "\n",
       "if(typeof(mpld3) !== \"undefined\" && mpld3._mpld3IsLoaded){\n",
       "   // already loaded: just create the figure\n",
       "   !function(mpld3){\n",
       "       \n",
       "       mpld3.draw_figure(\"fig_el1212448698898889104191587\", {\"width\": 864.0, \"height\": 576.0, \"axes\": [{\"bbox\": [0.05590277777777778, 0.2800075954861111, 0.9275462962962964, 0.6734646267361112], \"xlim\": [-0.5, 10.5], \"ylim\": [-0.07019999999999998, 0.031], \"xdomain\": [-0.5, 10.5], \"ydomain\": [-0.07019999999999998, 0.031], \"xscale\": \"linear\", \"yscale\": \"linear\", \"axes\": [{\"position\": \"bottom\", \"nticks\": 11, \"tickvalues\": [0, 1, 2, 3, 4, 5, 6, 7, 8, 9, 10], \"tickformat\": [\"Consumer Discretionary\", \"Consumer Staples\", \"Energy\", \"Financials\", \"Health Care\", \"Industrials\", \"Information Technology\", \"Materials\", \"Real Estate\", \"Telecommunication Services\", \"Utilities\"], \"scale\": \"linear\", \"fontsize\": 10.0, \"grid\": {\"gridOn\": true, \"color\": \"#B0B0B0\", \"dasharray\": \"none\", \"alpha\": 1.0}, \"visible\": true}, {\"position\": \"left\", \"nticks\": 7, \"tickvalues\": null, \"tickformat\": null, \"scale\": \"linear\", \"fontsize\": 10.0, \"grid\": {\"gridOn\": true, \"color\": \"#B0B0B0\", \"dasharray\": \"none\", \"alpha\": 1.0}, \"visible\": true}], \"axesbg\": \"#FFFFFF\", \"axesbgalpha\": null, \"zoomable\": true, \"id\": \"el121244840516296\", \"lines\": [], \"paths\": [{\"data\": \"data01\", \"xindex\": 0, \"yindex\": 1, \"coordinates\": \"data\", \"pathcodes\": [\"M\", \"L\", \"L\", \"L\", \"Z\"], \"id\": \"el121244869832208\", \"dasharray\": \"none\", \"alpha\": 1, \"facecolor\": \"#1F77B4\", \"edgecolor\": \"none\", \"edgewidth\": 1.0, \"zorder\": 1}, {\"data\": \"data02\", \"xindex\": 0, \"yindex\": 1, \"coordinates\": \"data\", \"pathcodes\": [\"M\", \"L\", \"L\", \"L\", \"Z\"], \"id\": \"el121244867245112\", \"dasharray\": \"none\", \"alpha\": 1, \"facecolor\": \"#FF7F0E\", \"edgecolor\": \"none\", \"edgewidth\": 1.0, \"zorder\": 1}, {\"data\": \"data03\", \"xindex\": 0, \"yindex\": 1, \"coordinates\": \"data\", \"pathcodes\": [\"M\", \"L\", \"L\", \"L\", \"Z\"], \"id\": \"el121244867246848\", \"dasharray\": \"none\", \"alpha\": 1, \"facecolor\": \"#2CA02C\", \"edgecolor\": \"none\", \"edgewidth\": 1.0, \"zorder\": 1}, {\"data\": \"data04\", \"xindex\": 0, \"yindex\": 1, \"coordinates\": \"data\", \"pathcodes\": [\"M\", \"L\", \"L\", \"L\", \"Z\"], \"id\": \"el121244867244104\", \"dasharray\": \"none\", \"alpha\": 1, \"facecolor\": \"#D62728\", \"edgecolor\": \"none\", \"edgewidth\": 1.0, \"zorder\": 1}, {\"data\": \"data05\", \"xindex\": 0, \"yindex\": 1, \"coordinates\": \"data\", \"pathcodes\": [\"M\", \"L\", \"L\", \"L\", \"Z\"], \"id\": \"el121244867247240\", \"dasharray\": \"none\", \"alpha\": 1, \"facecolor\": \"#9467BD\", \"edgecolor\": \"none\", \"edgewidth\": 1.0, \"zorder\": 1}, {\"data\": \"data06\", \"xindex\": 0, \"yindex\": 1, \"coordinates\": \"data\", \"pathcodes\": [\"M\", \"L\", \"L\", \"L\", \"Z\"], \"id\": \"el121244867247912\", \"dasharray\": \"none\", \"alpha\": 1, \"facecolor\": \"#8C564B\", \"edgecolor\": \"none\", \"edgewidth\": 1.0, \"zorder\": 1}, {\"data\": \"data07\", \"xindex\": 0, \"yindex\": 1, \"coordinates\": \"data\", \"pathcodes\": [\"M\", \"L\", \"L\", \"L\", \"Z\"], \"id\": \"el121244636500376\", \"dasharray\": \"none\", \"alpha\": 1, \"facecolor\": \"#E377C2\", \"edgecolor\": \"none\", \"edgewidth\": 1.0, \"zorder\": 1}, {\"data\": \"data08\", \"xindex\": 0, \"yindex\": 1, \"coordinates\": \"data\", \"pathcodes\": [\"M\", \"L\", \"L\", \"L\", \"Z\"], \"id\": \"el121244636502056\", \"dasharray\": \"none\", \"alpha\": 1, \"facecolor\": \"#7F7F7F\", \"edgecolor\": \"none\", \"edgewidth\": 1.0, \"zorder\": 1}, {\"data\": \"data09\", \"xindex\": 0, \"yindex\": 1, \"coordinates\": \"data\", \"pathcodes\": [\"M\", \"L\", \"L\", \"L\", \"Z\"], \"id\": \"el121244636502280\", \"dasharray\": \"none\", \"alpha\": 1, \"facecolor\": \"#BCBD22\", \"edgecolor\": \"none\", \"edgewidth\": 1.0, \"zorder\": 1}, {\"data\": \"data10\", \"xindex\": 0, \"yindex\": 1, \"coordinates\": \"data\", \"pathcodes\": [\"M\", \"L\", \"L\", \"L\", \"Z\"], \"id\": \"el121244850360672\", \"dasharray\": \"none\", \"alpha\": 1, \"facecolor\": \"#17BECF\", \"edgecolor\": \"none\", \"edgewidth\": 1.0, \"zorder\": 1}, {\"data\": \"data11\", \"xindex\": 0, \"yindex\": 1, \"coordinates\": \"data\", \"pathcodes\": [\"M\", \"L\", \"L\", \"L\", \"Z\"], \"id\": \"el121244855171056\", \"dasharray\": \"none\", \"alpha\": 1, \"facecolor\": \"#1F77B4\", \"edgecolor\": \"none\", \"edgewidth\": 1.0, \"zorder\": 1}], \"markers\": [], \"texts\": [{\"text\": \"Rank E: Month Performance (%) per Sector\", \"position\": [0.49999999999999994, 1.0154672810614422], \"coordinates\": \"axes\", \"h_anchor\": \"middle\", \"v_baseline\": \"auto\", \"rotation\": -0.0, \"fontsize\": 12.0, \"color\": \"#000000\", \"alpha\": 1, \"zorder\": 3, \"id\": \"el121244621854760\"}], \"collections\": [], \"images\": [], \"sharex\": [], \"sharey\": []}], \"data\": {\"data01\": [[-0.25, 0.0], [0.25, 0.0], [0.25, -0.0042], [-0.25, -0.0042]], \"data02\": [[0.75, 0.0], [1.25, 0.0], [1.25, -0.06559999999999999], [0.75, -0.06559999999999999]], \"data03\": [[1.75, 0.0], [2.25, 0.0], [2.25, -0.0526], [1.75, -0.0526]], \"data04\": [[2.75, 0.0], [3.25, 0.0], [3.25, -0.0548], [2.75, -0.0548]], \"data05\": [[3.75, 0.0], [4.25, 0.0], [4.25, -0.0462], [3.75, -0.0462]], \"data06\": [[4.75, 0.0], [5.25, 0.0], [5.25, -0.055099999999999996], [4.75, -0.055099999999999996]], \"data07\": [[5.75, 0.0], [6.25, 0.0], [6.25, 0.0264], [5.75, 0.0264]], \"data08\": [[6.75, 0.0], [7.25, 0.0], [7.25, -0.0504], [6.75, -0.0504]], \"data09\": [[7.75, 0.0], [8.25, 0.0], [8.25, -0.011000000000000001], [7.75, -0.011000000000000001]], \"data10\": [[8.75, 0.0], [9.25, 0.0], [9.25, -0.043], [8.75, -0.043]], \"data11\": [[9.75, 0.0], [10.25, 0.0], [10.25, 0.0155], [9.75, 0.0155]]}, \"id\": \"el121244869889888\", \"plugins\": [{\"type\": \"reset\"}, {\"type\": \"zoom\", \"button\": true, \"enabled\": false}, {\"type\": \"boxzoom\", \"button\": true, \"enabled\": false}]});\n",
       "   }(mpld3);\n",
       "}else if(typeof define === \"function\" && define.amd){\n",
       "   // require.js is available: use it to load d3/mpld3\n",
       "   require.config({paths: {d3: \"https://mpld3.github.io/js/d3.v3.min\"}});\n",
       "   require([\"d3\"], function(d3){\n",
       "      window.d3 = d3;\n",
       "      mpld3_load_lib(\"https://mpld3.github.io/js/mpld3.v0.3.js\", function(){\n",
       "         \n",
       "         mpld3.draw_figure(\"fig_el1212448698898889104191587\", {\"width\": 864.0, \"height\": 576.0, \"axes\": [{\"bbox\": [0.05590277777777778, 0.2800075954861111, 0.9275462962962964, 0.6734646267361112], \"xlim\": [-0.5, 10.5], \"ylim\": [-0.07019999999999998, 0.031], \"xdomain\": [-0.5, 10.5], \"ydomain\": [-0.07019999999999998, 0.031], \"xscale\": \"linear\", \"yscale\": \"linear\", \"axes\": [{\"position\": \"bottom\", \"nticks\": 11, \"tickvalues\": [0, 1, 2, 3, 4, 5, 6, 7, 8, 9, 10], \"tickformat\": [\"Consumer Discretionary\", \"Consumer Staples\", \"Energy\", \"Financials\", \"Health Care\", \"Industrials\", \"Information Technology\", \"Materials\", \"Real Estate\", \"Telecommunication Services\", \"Utilities\"], \"scale\": \"linear\", \"fontsize\": 10.0, \"grid\": {\"gridOn\": true, \"color\": \"#B0B0B0\", \"dasharray\": \"none\", \"alpha\": 1.0}, \"visible\": true}, {\"position\": \"left\", \"nticks\": 7, \"tickvalues\": null, \"tickformat\": null, \"scale\": \"linear\", \"fontsize\": 10.0, \"grid\": {\"gridOn\": true, \"color\": \"#B0B0B0\", \"dasharray\": \"none\", \"alpha\": 1.0}, \"visible\": true}], \"axesbg\": \"#FFFFFF\", \"axesbgalpha\": null, \"zoomable\": true, \"id\": \"el121244840516296\", \"lines\": [], \"paths\": [{\"data\": \"data01\", \"xindex\": 0, \"yindex\": 1, \"coordinates\": \"data\", \"pathcodes\": [\"M\", \"L\", \"L\", \"L\", \"Z\"], \"id\": \"el121244869832208\", \"dasharray\": \"none\", \"alpha\": 1, \"facecolor\": \"#1F77B4\", \"edgecolor\": \"none\", \"edgewidth\": 1.0, \"zorder\": 1}, {\"data\": \"data02\", \"xindex\": 0, \"yindex\": 1, \"coordinates\": \"data\", \"pathcodes\": [\"M\", \"L\", \"L\", \"L\", \"Z\"], \"id\": \"el121244867245112\", \"dasharray\": \"none\", \"alpha\": 1, \"facecolor\": \"#FF7F0E\", \"edgecolor\": \"none\", \"edgewidth\": 1.0, \"zorder\": 1}, {\"data\": \"data03\", \"xindex\": 0, \"yindex\": 1, \"coordinates\": \"data\", \"pathcodes\": [\"M\", \"L\", \"L\", \"L\", \"Z\"], \"id\": \"el121244867246848\", \"dasharray\": \"none\", \"alpha\": 1, \"facecolor\": \"#2CA02C\", \"edgecolor\": \"none\", \"edgewidth\": 1.0, \"zorder\": 1}, {\"data\": \"data04\", \"xindex\": 0, \"yindex\": 1, \"coordinates\": \"data\", \"pathcodes\": [\"M\", \"L\", \"L\", \"L\", \"Z\"], \"id\": \"el121244867244104\", \"dasharray\": \"none\", \"alpha\": 1, \"facecolor\": \"#D62728\", \"edgecolor\": \"none\", \"edgewidth\": 1.0, \"zorder\": 1}, {\"data\": \"data05\", \"xindex\": 0, \"yindex\": 1, \"coordinates\": \"data\", \"pathcodes\": [\"M\", \"L\", \"L\", \"L\", \"Z\"], \"id\": \"el121244867247240\", \"dasharray\": \"none\", \"alpha\": 1, \"facecolor\": \"#9467BD\", \"edgecolor\": \"none\", \"edgewidth\": 1.0, \"zorder\": 1}, {\"data\": \"data06\", \"xindex\": 0, \"yindex\": 1, \"coordinates\": \"data\", \"pathcodes\": [\"M\", \"L\", \"L\", \"L\", \"Z\"], \"id\": \"el121244867247912\", \"dasharray\": \"none\", \"alpha\": 1, \"facecolor\": \"#8C564B\", \"edgecolor\": \"none\", \"edgewidth\": 1.0, \"zorder\": 1}, {\"data\": \"data07\", \"xindex\": 0, \"yindex\": 1, \"coordinates\": \"data\", \"pathcodes\": [\"M\", \"L\", \"L\", \"L\", \"Z\"], \"id\": \"el121244636500376\", \"dasharray\": \"none\", \"alpha\": 1, \"facecolor\": \"#E377C2\", \"edgecolor\": \"none\", \"edgewidth\": 1.0, \"zorder\": 1}, {\"data\": \"data08\", \"xindex\": 0, \"yindex\": 1, \"coordinates\": \"data\", \"pathcodes\": [\"M\", \"L\", \"L\", \"L\", \"Z\"], \"id\": \"el121244636502056\", \"dasharray\": \"none\", \"alpha\": 1, \"facecolor\": \"#7F7F7F\", \"edgecolor\": \"none\", \"edgewidth\": 1.0, \"zorder\": 1}, {\"data\": \"data09\", \"xindex\": 0, \"yindex\": 1, \"coordinates\": \"data\", \"pathcodes\": [\"M\", \"L\", \"L\", \"L\", \"Z\"], \"id\": \"el121244636502280\", \"dasharray\": \"none\", \"alpha\": 1, \"facecolor\": \"#BCBD22\", \"edgecolor\": \"none\", \"edgewidth\": 1.0, \"zorder\": 1}, {\"data\": \"data10\", \"xindex\": 0, \"yindex\": 1, \"coordinates\": \"data\", \"pathcodes\": [\"M\", \"L\", \"L\", \"L\", \"Z\"], \"id\": \"el121244850360672\", \"dasharray\": \"none\", \"alpha\": 1, \"facecolor\": \"#17BECF\", \"edgecolor\": \"none\", \"edgewidth\": 1.0, \"zorder\": 1}, {\"data\": \"data11\", \"xindex\": 0, \"yindex\": 1, \"coordinates\": \"data\", \"pathcodes\": [\"M\", \"L\", \"L\", \"L\", \"Z\"], \"id\": \"el121244855171056\", \"dasharray\": \"none\", \"alpha\": 1, \"facecolor\": \"#1F77B4\", \"edgecolor\": \"none\", \"edgewidth\": 1.0, \"zorder\": 1}], \"markers\": [], \"texts\": [{\"text\": \"Rank E: Month Performance (%) per Sector\", \"position\": [0.49999999999999994, 1.0154672810614422], \"coordinates\": \"axes\", \"h_anchor\": \"middle\", \"v_baseline\": \"auto\", \"rotation\": -0.0, \"fontsize\": 12.0, \"color\": \"#000000\", \"alpha\": 1, \"zorder\": 3, \"id\": \"el121244621854760\"}], \"collections\": [], \"images\": [], \"sharex\": [], \"sharey\": []}], \"data\": {\"data01\": [[-0.25, 0.0], [0.25, 0.0], [0.25, -0.0042], [-0.25, -0.0042]], \"data02\": [[0.75, 0.0], [1.25, 0.0], [1.25, -0.06559999999999999], [0.75, -0.06559999999999999]], \"data03\": [[1.75, 0.0], [2.25, 0.0], [2.25, -0.0526], [1.75, -0.0526]], \"data04\": [[2.75, 0.0], [3.25, 0.0], [3.25, -0.0548], [2.75, -0.0548]], \"data05\": [[3.75, 0.0], [4.25, 0.0], [4.25, -0.0462], [3.75, -0.0462]], \"data06\": [[4.75, 0.0], [5.25, 0.0], [5.25, -0.055099999999999996], [4.75, -0.055099999999999996]], \"data07\": [[5.75, 0.0], [6.25, 0.0], [6.25, 0.0264], [5.75, 0.0264]], \"data08\": [[6.75, 0.0], [7.25, 0.0], [7.25, -0.0504], [6.75, -0.0504]], \"data09\": [[7.75, 0.0], [8.25, 0.0], [8.25, -0.011000000000000001], [7.75, -0.011000000000000001]], \"data10\": [[8.75, 0.0], [9.25, 0.0], [9.25, -0.043], [8.75, -0.043]], \"data11\": [[9.75, 0.0], [10.25, 0.0], [10.25, 0.0155], [9.75, 0.0155]]}, \"id\": \"el121244869889888\", \"plugins\": [{\"type\": \"reset\"}, {\"type\": \"zoom\", \"button\": true, \"enabled\": false}, {\"type\": \"boxzoom\", \"button\": true, \"enabled\": false}]});\n",
       "      });\n",
       "    });\n",
       "}else{\n",
       "    // require.js not available: dynamically load d3 & mpld3\n",
       "    mpld3_load_lib(\"https://mpld3.github.io/js/d3.v3.min.js\", function(){\n",
       "         mpld3_load_lib(\"https://mpld3.github.io/js/mpld3.v0.3.js\", function(){\n",
       "                 \n",
       "                 mpld3.draw_figure(\"fig_el1212448698898889104191587\", {\"width\": 864.0, \"height\": 576.0, \"axes\": [{\"bbox\": [0.05590277777777778, 0.2800075954861111, 0.9275462962962964, 0.6734646267361112], \"xlim\": [-0.5, 10.5], \"ylim\": [-0.07019999999999998, 0.031], \"xdomain\": [-0.5, 10.5], \"ydomain\": [-0.07019999999999998, 0.031], \"xscale\": \"linear\", \"yscale\": \"linear\", \"axes\": [{\"position\": \"bottom\", \"nticks\": 11, \"tickvalues\": [0, 1, 2, 3, 4, 5, 6, 7, 8, 9, 10], \"tickformat\": [\"Consumer Discretionary\", \"Consumer Staples\", \"Energy\", \"Financials\", \"Health Care\", \"Industrials\", \"Information Technology\", \"Materials\", \"Real Estate\", \"Telecommunication Services\", \"Utilities\"], \"scale\": \"linear\", \"fontsize\": 10.0, \"grid\": {\"gridOn\": true, \"color\": \"#B0B0B0\", \"dasharray\": \"none\", \"alpha\": 1.0}, \"visible\": true}, {\"position\": \"left\", \"nticks\": 7, \"tickvalues\": null, \"tickformat\": null, \"scale\": \"linear\", \"fontsize\": 10.0, \"grid\": {\"gridOn\": true, \"color\": \"#B0B0B0\", \"dasharray\": \"none\", \"alpha\": 1.0}, \"visible\": true}], \"axesbg\": \"#FFFFFF\", \"axesbgalpha\": null, \"zoomable\": true, \"id\": \"el121244840516296\", \"lines\": [], \"paths\": [{\"data\": \"data01\", \"xindex\": 0, \"yindex\": 1, \"coordinates\": \"data\", \"pathcodes\": [\"M\", \"L\", \"L\", \"L\", \"Z\"], \"id\": \"el121244869832208\", \"dasharray\": \"none\", \"alpha\": 1, \"facecolor\": \"#1F77B4\", \"edgecolor\": \"none\", \"edgewidth\": 1.0, \"zorder\": 1}, {\"data\": \"data02\", \"xindex\": 0, \"yindex\": 1, \"coordinates\": \"data\", \"pathcodes\": [\"M\", \"L\", \"L\", \"L\", \"Z\"], \"id\": \"el121244867245112\", \"dasharray\": \"none\", \"alpha\": 1, \"facecolor\": \"#FF7F0E\", \"edgecolor\": \"none\", \"edgewidth\": 1.0, \"zorder\": 1}, {\"data\": \"data03\", \"xindex\": 0, \"yindex\": 1, \"coordinates\": \"data\", \"pathcodes\": [\"M\", \"L\", \"L\", \"L\", \"Z\"], \"id\": \"el121244867246848\", \"dasharray\": \"none\", \"alpha\": 1, \"facecolor\": \"#2CA02C\", \"edgecolor\": \"none\", \"edgewidth\": 1.0, \"zorder\": 1}, {\"data\": \"data04\", \"xindex\": 0, \"yindex\": 1, \"coordinates\": \"data\", \"pathcodes\": [\"M\", \"L\", \"L\", \"L\", \"Z\"], \"id\": \"el121244867244104\", \"dasharray\": \"none\", \"alpha\": 1, \"facecolor\": \"#D62728\", \"edgecolor\": \"none\", \"edgewidth\": 1.0, \"zorder\": 1}, {\"data\": \"data05\", \"xindex\": 0, \"yindex\": 1, \"coordinates\": \"data\", \"pathcodes\": [\"M\", \"L\", \"L\", \"L\", \"Z\"], \"id\": \"el121244867247240\", \"dasharray\": \"none\", \"alpha\": 1, \"facecolor\": \"#9467BD\", \"edgecolor\": \"none\", \"edgewidth\": 1.0, \"zorder\": 1}, {\"data\": \"data06\", \"xindex\": 0, \"yindex\": 1, \"coordinates\": \"data\", \"pathcodes\": [\"M\", \"L\", \"L\", \"L\", \"Z\"], \"id\": \"el121244867247912\", \"dasharray\": \"none\", \"alpha\": 1, \"facecolor\": \"#8C564B\", \"edgecolor\": \"none\", \"edgewidth\": 1.0, \"zorder\": 1}, {\"data\": \"data07\", \"xindex\": 0, \"yindex\": 1, \"coordinates\": \"data\", \"pathcodes\": [\"M\", \"L\", \"L\", \"L\", \"Z\"], \"id\": \"el121244636500376\", \"dasharray\": \"none\", \"alpha\": 1, \"facecolor\": \"#E377C2\", \"edgecolor\": \"none\", \"edgewidth\": 1.0, \"zorder\": 1}, {\"data\": \"data08\", \"xindex\": 0, \"yindex\": 1, \"coordinates\": \"data\", \"pathcodes\": [\"M\", \"L\", \"L\", \"L\", \"Z\"], \"id\": \"el121244636502056\", \"dasharray\": \"none\", \"alpha\": 1, \"facecolor\": \"#7F7F7F\", \"edgecolor\": \"none\", \"edgewidth\": 1.0, \"zorder\": 1}, {\"data\": \"data09\", \"xindex\": 0, \"yindex\": 1, \"coordinates\": \"data\", \"pathcodes\": [\"M\", \"L\", \"L\", \"L\", \"Z\"], \"id\": \"el121244636502280\", \"dasharray\": \"none\", \"alpha\": 1, \"facecolor\": \"#BCBD22\", \"edgecolor\": \"none\", \"edgewidth\": 1.0, \"zorder\": 1}, {\"data\": \"data10\", \"xindex\": 0, \"yindex\": 1, \"coordinates\": \"data\", \"pathcodes\": [\"M\", \"L\", \"L\", \"L\", \"Z\"], \"id\": \"el121244850360672\", \"dasharray\": \"none\", \"alpha\": 1, \"facecolor\": \"#17BECF\", \"edgecolor\": \"none\", \"edgewidth\": 1.0, \"zorder\": 1}, {\"data\": \"data11\", \"xindex\": 0, \"yindex\": 1, \"coordinates\": \"data\", \"pathcodes\": [\"M\", \"L\", \"L\", \"L\", \"Z\"], \"id\": \"el121244855171056\", \"dasharray\": \"none\", \"alpha\": 1, \"facecolor\": \"#1F77B4\", \"edgecolor\": \"none\", \"edgewidth\": 1.0, \"zorder\": 1}], \"markers\": [], \"texts\": [{\"text\": \"Rank E: Month Performance (%) per Sector\", \"position\": [0.49999999999999994, 1.0154672810614422], \"coordinates\": \"axes\", \"h_anchor\": \"middle\", \"v_baseline\": \"auto\", \"rotation\": -0.0, \"fontsize\": 12.0, \"color\": \"#000000\", \"alpha\": 1, \"zorder\": 3, \"id\": \"el121244621854760\"}], \"collections\": [], \"images\": [], \"sharex\": [], \"sharey\": []}], \"data\": {\"data01\": [[-0.25, 0.0], [0.25, 0.0], [0.25, -0.0042], [-0.25, -0.0042]], \"data02\": [[0.75, 0.0], [1.25, 0.0], [1.25, -0.06559999999999999], [0.75, -0.06559999999999999]], \"data03\": [[1.75, 0.0], [2.25, 0.0], [2.25, -0.0526], [1.75, -0.0526]], \"data04\": [[2.75, 0.0], [3.25, 0.0], [3.25, -0.0548], [2.75, -0.0548]], \"data05\": [[3.75, 0.0], [4.25, 0.0], [4.25, -0.0462], [3.75, -0.0462]], \"data06\": [[4.75, 0.0], [5.25, 0.0], [5.25, -0.055099999999999996], [4.75, -0.055099999999999996]], \"data07\": [[5.75, 0.0], [6.25, 0.0], [6.25, 0.0264], [5.75, 0.0264]], \"data08\": [[6.75, 0.0], [7.25, 0.0], [7.25, -0.0504], [6.75, -0.0504]], \"data09\": [[7.75, 0.0], [8.25, 0.0], [8.25, -0.011000000000000001], [7.75, -0.011000000000000001]], \"data10\": [[8.75, 0.0], [9.25, 0.0], [9.25, -0.043], [8.75, -0.043]], \"data11\": [[9.75, 0.0], [10.25, 0.0], [10.25, 0.0155], [9.75, 0.0155]]}, \"id\": \"el121244869889888\", \"plugins\": [{\"type\": \"reset\"}, {\"type\": \"zoom\", \"button\": true, \"enabled\": false}, {\"type\": \"boxzoom\", \"button\": true, \"enabled\": false}]});\n",
       "            })\n",
       "         });\n",
       "}\n",
       "</script>"
      ],
      "text/plain": [
       "<IPython.core.display.HTML object>"
      ]
     },
     "execution_count": 38,
     "metadata": {},
     "output_type": "execute_result"
    },
    {
     "name": "stdout",
     "output_type": "stream",
     "text": [
      "Rank F: Year-to-Date (YTD) Performance\n"
     ]
    },
    {
     "data": {
      "text/plain": [
       "<matplotlib.axes._subplots.AxesSubplot at 0x111ed2ac8>"
      ]
     },
     "execution_count": 38,
     "metadata": {},
     "output_type": "execute_result"
    },
    {
     "data": {
      "text/plain": [
       "Text(0.5,1,'Rank F: Year-to-Date (YTD) Performance (%) per Sector')"
      ]
     },
     "execution_count": 38,
     "metadata": {},
     "output_type": "execute_result"
    },
    {
     "data": {
      "text/html": [
       "\n",
       "\n",
       "<style>\n",
       "\n",
       "</style>\n",
       "\n",
       "<div id=\"fig_el1212448550138968390643251\"></div>\n",
       "<script>\n",
       "function mpld3_load_lib(url, callback){\n",
       "  var s = document.createElement('script');\n",
       "  s.src = url;\n",
       "  s.async = true;\n",
       "  s.onreadystatechange = s.onload = callback;\n",
       "  s.onerror = function(){console.warn(\"failed to load library \" + url);};\n",
       "  document.getElementsByTagName(\"head\")[0].appendChild(s);\n",
       "}\n",
       "\n",
       "if(typeof(mpld3) !== \"undefined\" && mpld3._mpld3IsLoaded){\n",
       "   // already loaded: just create the figure\n",
       "   !function(mpld3){\n",
       "       \n",
       "       mpld3.draw_figure(\"fig_el1212448550138968390643251\", {\"width\": 864.0, \"height\": 576.0, \"axes\": [{\"bbox\": [0.05590277777777778, 0.2800075954861111, 0.9275462962962964, 0.6734646267361112], \"xlim\": [-0.5, 10.5], \"ylim\": [-0.08688499999999999, 0.082185], \"xdomain\": [-0.5, 10.5], \"ydomain\": [-0.08688499999999999, 0.082185], \"xscale\": \"linear\", \"yscale\": \"linear\", \"axes\": [{\"position\": \"bottom\", \"nticks\": 11, \"tickvalues\": [0, 1, 2, 3, 4, 5, 6, 7, 8, 9, 10], \"tickformat\": [\"Consumer Discretionary\", \"Consumer Staples\", \"Energy\", \"Financials\", \"Health Care\", \"Industrials\", \"Information Technology\", \"Materials\", \"Real Estate\", \"Telecommunication Services\", \"Utilities\"], \"scale\": \"linear\", \"fontsize\": 10.0, \"grid\": {\"gridOn\": true, \"color\": \"#B0B0B0\", \"dasharray\": \"none\", \"alpha\": 1.0}, \"visible\": true}, {\"position\": \"left\", \"nticks\": 11, \"tickvalues\": null, \"tickformat\": null, \"scale\": \"linear\", \"fontsize\": 10.0, \"grid\": {\"gridOn\": true, \"color\": \"#B0B0B0\", \"dasharray\": \"none\", \"alpha\": 1.0}, \"visible\": true}], \"axesbg\": \"#FFFFFF\", \"axesbgalpha\": null, \"zoomable\": true, \"id\": \"el121244595722952\", \"lines\": [], \"paths\": [{\"data\": \"data01\", \"xindex\": 0, \"yindex\": 1, \"coordinates\": \"data\", \"pathcodes\": [\"M\", \"L\", \"L\", \"L\", \"Z\"], \"id\": \"el121244838321680\", \"dasharray\": \"none\", \"alpha\": 1, \"facecolor\": \"#1F77B4\", \"edgecolor\": \"none\", \"edgewidth\": 1.0, \"zorder\": 1}, {\"data\": \"data02\", \"xindex\": 0, \"yindex\": 1, \"coordinates\": \"data\", \"pathcodes\": [\"M\", \"L\", \"L\", \"L\", \"Z\"], \"id\": \"el121244838320672\", \"dasharray\": \"none\", \"alpha\": 1, \"facecolor\": \"#FF7F0E\", \"edgecolor\": \"none\", \"edgewidth\": 1.0, \"zorder\": 1}, {\"data\": \"data03\", \"xindex\": 0, \"yindex\": 1, \"coordinates\": \"data\", \"pathcodes\": [\"M\", \"L\", \"L\", \"L\", \"Z\"], \"id\": \"el121244838318152\", \"dasharray\": \"none\", \"alpha\": 1, \"facecolor\": \"#2CA02C\", \"edgecolor\": \"none\", \"edgewidth\": 1.0, \"zorder\": 1}, {\"data\": \"data04\", \"xindex\": 0, \"yindex\": 1, \"coordinates\": \"data\", \"pathcodes\": [\"M\", \"L\", \"L\", \"L\", \"Z\"], \"id\": \"el121244595836688\", \"dasharray\": \"none\", \"alpha\": 1, \"facecolor\": \"#D62728\", \"edgecolor\": \"none\", \"edgewidth\": 1.0, \"zorder\": 1}, {\"data\": \"data05\", \"xindex\": 0, \"yindex\": 1, \"coordinates\": \"data\", \"pathcodes\": [\"M\", \"L\", \"L\", \"L\", \"Z\"], \"id\": \"el121244595838424\", \"dasharray\": \"none\", \"alpha\": 1, \"facecolor\": \"#9467BD\", \"edgecolor\": \"none\", \"edgewidth\": 1.0, \"zorder\": 1}, {\"data\": \"data06\", \"xindex\": 0, \"yindex\": 1, \"coordinates\": \"data\", \"pathcodes\": [\"M\", \"L\", \"L\", \"L\", \"Z\"], \"id\": \"el121244595835736\", \"dasharray\": \"none\", \"alpha\": 1, \"facecolor\": \"#8C564B\", \"edgecolor\": \"none\", \"edgewidth\": 1.0, \"zorder\": 1}, {\"data\": \"data07\", \"xindex\": 0, \"yindex\": 1, \"coordinates\": \"data\", \"pathcodes\": [\"M\", \"L\", \"L\", \"L\", \"Z\"], \"id\": \"el121244595837136\", \"dasharray\": \"none\", \"alpha\": 1, \"facecolor\": \"#E377C2\", \"edgecolor\": \"none\", \"edgewidth\": 1.0, \"zorder\": 1}, {\"data\": \"data08\", \"xindex\": 0, \"yindex\": 1, \"coordinates\": \"data\", \"pathcodes\": [\"M\", \"L\", \"L\", \"L\", \"Z\"], \"id\": \"el121244595836240\", \"dasharray\": \"none\", \"alpha\": 1, \"facecolor\": \"#7F7F7F\", \"edgecolor\": \"none\", \"edgewidth\": 1.0, \"zorder\": 1}, {\"data\": \"data09\", \"xindex\": 0, \"yindex\": 1, \"coordinates\": \"data\", \"pathcodes\": [\"M\", \"L\", \"L\", \"L\", \"Z\"], \"id\": \"el121244845350752\", \"dasharray\": \"none\", \"alpha\": 1, \"facecolor\": \"#BCBD22\", \"edgecolor\": \"none\", \"edgewidth\": 1.0, \"zorder\": 1}, {\"data\": \"data10\", \"xindex\": 0, \"yindex\": 1, \"coordinates\": \"data\", \"pathcodes\": [\"M\", \"L\", \"L\", \"L\", \"Z\"], \"id\": \"el121244855005424\", \"dasharray\": \"none\", \"alpha\": 1, \"facecolor\": \"#17BECF\", \"edgecolor\": \"none\", \"edgewidth\": 1.0, \"zorder\": 1}, {\"data\": \"data11\", \"xindex\": 0, \"yindex\": 1, \"coordinates\": \"data\", \"pathcodes\": [\"M\", \"L\", \"L\", \"L\", \"Z\"], \"id\": \"el121244855008280\", \"dasharray\": \"none\", \"alpha\": 1, \"facecolor\": \"#1F77B4\", \"edgecolor\": \"none\", \"edgewidth\": 1.0, \"zorder\": 1}], \"markers\": [], \"texts\": [{\"text\": \"Rank F: Year-to-Date (YTD) Performance (%) per Sector\", \"position\": [0.49999999999999994, 1.0154672810614422], \"coordinates\": \"axes\", \"h_anchor\": \"middle\", \"v_baseline\": \"auto\", \"rotation\": -0.0, \"fontsize\": 12.0, \"color\": \"#000000\", \"alpha\": 1, \"zorder\": 3, \"id\": \"el121244636537296\"}], \"collections\": [], \"images\": [], \"sharex\": [], \"sharey\": []}], \"data\": {\"data01\": [[-0.25, 0.0], [0.25, 0.0], [0.25, 0.053], [-0.25, 0.053]], \"data02\": [[0.75, 0.0], [1.25, 0.0], [1.25, -0.0661], [0.75, -0.0661]], \"data03\": [[1.75, 0.0], [2.25, 0.0], [2.25, 0.0034000000000000002], [1.75, 0.0034000000000000002]], \"data04\": [[2.75, 0.0], [3.25, 0.0], [3.25, -0.0141], [2.75, -0.0141]], \"data05\": [[3.75, 0.0], [4.25, 0.0], [4.25, 0.0063], [3.75, 0.0063]], \"data06\": [[4.75, 0.0], [5.25, 0.0], [5.25, -0.006500000000000001], [4.75, -0.006500000000000001]], \"data07\": [[5.75, 0.0], [6.25, 0.0], [6.25, 0.0745], [5.75, 0.0745]], \"data08\": [[6.75, 0.0], [7.25, 0.0], [7.25, -0.016200000000000003], [6.75, -0.016200000000000003]], \"data09\": [[7.75, 0.0], [8.25, 0.0], [8.25, -0.0591], [7.75, -0.0591]], \"data10\": [[8.75, 0.0], [9.25, 0.0], [9.25, -0.07919999999999999], [8.75, -0.07919999999999999]], \"data11\": [[9.75, 0.0], [10.25, 0.0], [10.25, -0.0331], [9.75, -0.0331]]}, \"id\": \"el121244855013896\", \"plugins\": [{\"type\": \"reset\"}, {\"type\": \"zoom\", \"button\": true, \"enabled\": false}, {\"type\": \"boxzoom\", \"button\": true, \"enabled\": false}]});\n",
       "   }(mpld3);\n",
       "}else if(typeof define === \"function\" && define.amd){\n",
       "   // require.js is available: use it to load d3/mpld3\n",
       "   require.config({paths: {d3: \"https://mpld3.github.io/js/d3.v3.min\"}});\n",
       "   require([\"d3\"], function(d3){\n",
       "      window.d3 = d3;\n",
       "      mpld3_load_lib(\"https://mpld3.github.io/js/mpld3.v0.3.js\", function(){\n",
       "         \n",
       "         mpld3.draw_figure(\"fig_el1212448550138968390643251\", {\"width\": 864.0, \"height\": 576.0, \"axes\": [{\"bbox\": [0.05590277777777778, 0.2800075954861111, 0.9275462962962964, 0.6734646267361112], \"xlim\": [-0.5, 10.5], \"ylim\": [-0.08688499999999999, 0.082185], \"xdomain\": [-0.5, 10.5], \"ydomain\": [-0.08688499999999999, 0.082185], \"xscale\": \"linear\", \"yscale\": \"linear\", \"axes\": [{\"position\": \"bottom\", \"nticks\": 11, \"tickvalues\": [0, 1, 2, 3, 4, 5, 6, 7, 8, 9, 10], \"tickformat\": [\"Consumer Discretionary\", \"Consumer Staples\", \"Energy\", \"Financials\", \"Health Care\", \"Industrials\", \"Information Technology\", \"Materials\", \"Real Estate\", \"Telecommunication Services\", \"Utilities\"], \"scale\": \"linear\", \"fontsize\": 10.0, \"grid\": {\"gridOn\": true, \"color\": \"#B0B0B0\", \"dasharray\": \"none\", \"alpha\": 1.0}, \"visible\": true}, {\"position\": \"left\", \"nticks\": 11, \"tickvalues\": null, \"tickformat\": null, \"scale\": \"linear\", \"fontsize\": 10.0, \"grid\": {\"gridOn\": true, \"color\": \"#B0B0B0\", \"dasharray\": \"none\", \"alpha\": 1.0}, \"visible\": true}], \"axesbg\": \"#FFFFFF\", \"axesbgalpha\": null, \"zoomable\": true, \"id\": \"el121244595722952\", \"lines\": [], \"paths\": [{\"data\": \"data01\", \"xindex\": 0, \"yindex\": 1, \"coordinates\": \"data\", \"pathcodes\": [\"M\", \"L\", \"L\", \"L\", \"Z\"], \"id\": \"el121244838321680\", \"dasharray\": \"none\", \"alpha\": 1, \"facecolor\": \"#1F77B4\", \"edgecolor\": \"none\", \"edgewidth\": 1.0, \"zorder\": 1}, {\"data\": \"data02\", \"xindex\": 0, \"yindex\": 1, \"coordinates\": \"data\", \"pathcodes\": [\"M\", \"L\", \"L\", \"L\", \"Z\"], \"id\": \"el121244838320672\", \"dasharray\": \"none\", \"alpha\": 1, \"facecolor\": \"#FF7F0E\", \"edgecolor\": \"none\", \"edgewidth\": 1.0, \"zorder\": 1}, {\"data\": \"data03\", \"xindex\": 0, \"yindex\": 1, \"coordinates\": \"data\", \"pathcodes\": [\"M\", \"L\", \"L\", \"L\", \"Z\"], \"id\": \"el121244838318152\", \"dasharray\": \"none\", \"alpha\": 1, \"facecolor\": \"#2CA02C\", \"edgecolor\": \"none\", \"edgewidth\": 1.0, \"zorder\": 1}, {\"data\": \"data04\", \"xindex\": 0, \"yindex\": 1, \"coordinates\": \"data\", \"pathcodes\": [\"M\", \"L\", \"L\", \"L\", \"Z\"], \"id\": \"el121244595836688\", \"dasharray\": \"none\", \"alpha\": 1, \"facecolor\": \"#D62728\", \"edgecolor\": \"none\", \"edgewidth\": 1.0, \"zorder\": 1}, {\"data\": \"data05\", \"xindex\": 0, \"yindex\": 1, \"coordinates\": \"data\", \"pathcodes\": [\"M\", \"L\", \"L\", \"L\", \"Z\"], \"id\": \"el121244595838424\", \"dasharray\": \"none\", \"alpha\": 1, \"facecolor\": \"#9467BD\", \"edgecolor\": \"none\", \"edgewidth\": 1.0, \"zorder\": 1}, {\"data\": \"data06\", \"xindex\": 0, \"yindex\": 1, \"coordinates\": \"data\", \"pathcodes\": [\"M\", \"L\", \"L\", \"L\", \"Z\"], \"id\": \"el121244595835736\", \"dasharray\": \"none\", \"alpha\": 1, \"facecolor\": \"#8C564B\", \"edgecolor\": \"none\", \"edgewidth\": 1.0, \"zorder\": 1}, {\"data\": \"data07\", \"xindex\": 0, \"yindex\": 1, \"coordinates\": \"data\", \"pathcodes\": [\"M\", \"L\", \"L\", \"L\", \"Z\"], \"id\": \"el121244595837136\", \"dasharray\": \"none\", \"alpha\": 1, \"facecolor\": \"#E377C2\", \"edgecolor\": \"none\", \"edgewidth\": 1.0, \"zorder\": 1}, {\"data\": \"data08\", \"xindex\": 0, \"yindex\": 1, \"coordinates\": \"data\", \"pathcodes\": [\"M\", \"L\", \"L\", \"L\", \"Z\"], \"id\": \"el121244595836240\", \"dasharray\": \"none\", \"alpha\": 1, \"facecolor\": \"#7F7F7F\", \"edgecolor\": \"none\", \"edgewidth\": 1.0, \"zorder\": 1}, {\"data\": \"data09\", \"xindex\": 0, \"yindex\": 1, \"coordinates\": \"data\", \"pathcodes\": [\"M\", \"L\", \"L\", \"L\", \"Z\"], \"id\": \"el121244845350752\", \"dasharray\": \"none\", \"alpha\": 1, \"facecolor\": \"#BCBD22\", \"edgecolor\": \"none\", \"edgewidth\": 1.0, \"zorder\": 1}, {\"data\": \"data10\", \"xindex\": 0, \"yindex\": 1, \"coordinates\": \"data\", \"pathcodes\": [\"M\", \"L\", \"L\", \"L\", \"Z\"], \"id\": \"el121244855005424\", \"dasharray\": \"none\", \"alpha\": 1, \"facecolor\": \"#17BECF\", \"edgecolor\": \"none\", \"edgewidth\": 1.0, \"zorder\": 1}, {\"data\": \"data11\", \"xindex\": 0, \"yindex\": 1, \"coordinates\": \"data\", \"pathcodes\": [\"M\", \"L\", \"L\", \"L\", \"Z\"], \"id\": \"el121244855008280\", \"dasharray\": \"none\", \"alpha\": 1, \"facecolor\": \"#1F77B4\", \"edgecolor\": \"none\", \"edgewidth\": 1.0, \"zorder\": 1}], \"markers\": [], \"texts\": [{\"text\": \"Rank F: Year-to-Date (YTD) Performance (%) per Sector\", \"position\": [0.49999999999999994, 1.0154672810614422], \"coordinates\": \"axes\", \"h_anchor\": \"middle\", \"v_baseline\": \"auto\", \"rotation\": -0.0, \"fontsize\": 12.0, \"color\": \"#000000\", \"alpha\": 1, \"zorder\": 3, \"id\": \"el121244636537296\"}], \"collections\": [], \"images\": [], \"sharex\": [], \"sharey\": []}], \"data\": {\"data01\": [[-0.25, 0.0], [0.25, 0.0], [0.25, 0.053], [-0.25, 0.053]], \"data02\": [[0.75, 0.0], [1.25, 0.0], [1.25, -0.0661], [0.75, -0.0661]], \"data03\": [[1.75, 0.0], [2.25, 0.0], [2.25, 0.0034000000000000002], [1.75, 0.0034000000000000002]], \"data04\": [[2.75, 0.0], [3.25, 0.0], [3.25, -0.0141], [2.75, -0.0141]], \"data05\": [[3.75, 0.0], [4.25, 0.0], [4.25, 0.0063], [3.75, 0.0063]], \"data06\": [[4.75, 0.0], [5.25, 0.0], [5.25, -0.006500000000000001], [4.75, -0.006500000000000001]], \"data07\": [[5.75, 0.0], [6.25, 0.0], [6.25, 0.0745], [5.75, 0.0745]], \"data08\": [[6.75, 0.0], [7.25, 0.0], [7.25, -0.016200000000000003], [6.75, -0.016200000000000003]], \"data09\": [[7.75, 0.0], [8.25, 0.0], [8.25, -0.0591], [7.75, -0.0591]], \"data10\": [[8.75, 0.0], [9.25, 0.0], [9.25, -0.07919999999999999], [8.75, -0.07919999999999999]], \"data11\": [[9.75, 0.0], [10.25, 0.0], [10.25, -0.0331], [9.75, -0.0331]]}, \"id\": \"el121244855013896\", \"plugins\": [{\"type\": \"reset\"}, {\"type\": \"zoom\", \"button\": true, \"enabled\": false}, {\"type\": \"boxzoom\", \"button\": true, \"enabled\": false}]});\n",
       "      });\n",
       "    });\n",
       "}else{\n",
       "    // require.js not available: dynamically load d3 & mpld3\n",
       "    mpld3_load_lib(\"https://mpld3.github.io/js/d3.v3.min.js\", function(){\n",
       "         mpld3_load_lib(\"https://mpld3.github.io/js/mpld3.v0.3.js\", function(){\n",
       "                 \n",
       "                 mpld3.draw_figure(\"fig_el1212448550138968390643251\", {\"width\": 864.0, \"height\": 576.0, \"axes\": [{\"bbox\": [0.05590277777777778, 0.2800075954861111, 0.9275462962962964, 0.6734646267361112], \"xlim\": [-0.5, 10.5], \"ylim\": [-0.08688499999999999, 0.082185], \"xdomain\": [-0.5, 10.5], \"ydomain\": [-0.08688499999999999, 0.082185], \"xscale\": \"linear\", \"yscale\": \"linear\", \"axes\": [{\"position\": \"bottom\", \"nticks\": 11, \"tickvalues\": [0, 1, 2, 3, 4, 5, 6, 7, 8, 9, 10], \"tickformat\": [\"Consumer Discretionary\", \"Consumer Staples\", \"Energy\", \"Financials\", \"Health Care\", \"Industrials\", \"Information Technology\", \"Materials\", \"Real Estate\", \"Telecommunication Services\", \"Utilities\"], \"scale\": \"linear\", \"fontsize\": 10.0, \"grid\": {\"gridOn\": true, \"color\": \"#B0B0B0\", \"dasharray\": \"none\", \"alpha\": 1.0}, \"visible\": true}, {\"position\": \"left\", \"nticks\": 11, \"tickvalues\": null, \"tickformat\": null, \"scale\": \"linear\", \"fontsize\": 10.0, \"grid\": {\"gridOn\": true, \"color\": \"#B0B0B0\", \"dasharray\": \"none\", \"alpha\": 1.0}, \"visible\": true}], \"axesbg\": \"#FFFFFF\", \"axesbgalpha\": null, \"zoomable\": true, \"id\": \"el121244595722952\", \"lines\": [], \"paths\": [{\"data\": \"data01\", \"xindex\": 0, \"yindex\": 1, \"coordinates\": \"data\", \"pathcodes\": [\"M\", \"L\", \"L\", \"L\", \"Z\"], \"id\": \"el121244838321680\", \"dasharray\": \"none\", \"alpha\": 1, \"facecolor\": \"#1F77B4\", \"edgecolor\": \"none\", \"edgewidth\": 1.0, \"zorder\": 1}, {\"data\": \"data02\", \"xindex\": 0, \"yindex\": 1, \"coordinates\": \"data\", \"pathcodes\": [\"M\", \"L\", \"L\", \"L\", \"Z\"], \"id\": \"el121244838320672\", \"dasharray\": \"none\", \"alpha\": 1, \"facecolor\": \"#FF7F0E\", \"edgecolor\": \"none\", \"edgewidth\": 1.0, \"zorder\": 1}, {\"data\": \"data03\", \"xindex\": 0, \"yindex\": 1, \"coordinates\": \"data\", \"pathcodes\": [\"M\", \"L\", \"L\", \"L\", \"Z\"], \"id\": \"el121244838318152\", \"dasharray\": \"none\", \"alpha\": 1, \"facecolor\": \"#2CA02C\", \"edgecolor\": \"none\", \"edgewidth\": 1.0, \"zorder\": 1}, {\"data\": \"data04\", \"xindex\": 0, \"yindex\": 1, \"coordinates\": \"data\", \"pathcodes\": [\"M\", \"L\", \"L\", \"L\", \"Z\"], \"id\": \"el121244595836688\", \"dasharray\": \"none\", \"alpha\": 1, \"facecolor\": \"#D62728\", \"edgecolor\": \"none\", \"edgewidth\": 1.0, \"zorder\": 1}, {\"data\": \"data05\", \"xindex\": 0, \"yindex\": 1, \"coordinates\": \"data\", \"pathcodes\": [\"M\", \"L\", \"L\", \"L\", \"Z\"], \"id\": \"el121244595838424\", \"dasharray\": \"none\", \"alpha\": 1, \"facecolor\": \"#9467BD\", \"edgecolor\": \"none\", \"edgewidth\": 1.0, \"zorder\": 1}, {\"data\": \"data06\", \"xindex\": 0, \"yindex\": 1, \"coordinates\": \"data\", \"pathcodes\": [\"M\", \"L\", \"L\", \"L\", \"Z\"], \"id\": \"el121244595835736\", \"dasharray\": \"none\", \"alpha\": 1, \"facecolor\": \"#8C564B\", \"edgecolor\": \"none\", \"edgewidth\": 1.0, \"zorder\": 1}, {\"data\": \"data07\", \"xindex\": 0, \"yindex\": 1, \"coordinates\": \"data\", \"pathcodes\": [\"M\", \"L\", \"L\", \"L\", \"Z\"], \"id\": \"el121244595837136\", \"dasharray\": \"none\", \"alpha\": 1, \"facecolor\": \"#E377C2\", \"edgecolor\": \"none\", \"edgewidth\": 1.0, \"zorder\": 1}, {\"data\": \"data08\", \"xindex\": 0, \"yindex\": 1, \"coordinates\": \"data\", \"pathcodes\": [\"M\", \"L\", \"L\", \"L\", \"Z\"], \"id\": \"el121244595836240\", \"dasharray\": \"none\", \"alpha\": 1, \"facecolor\": \"#7F7F7F\", \"edgecolor\": \"none\", \"edgewidth\": 1.0, \"zorder\": 1}, {\"data\": \"data09\", \"xindex\": 0, \"yindex\": 1, \"coordinates\": \"data\", \"pathcodes\": [\"M\", \"L\", \"L\", \"L\", \"Z\"], \"id\": \"el121244845350752\", \"dasharray\": \"none\", \"alpha\": 1, \"facecolor\": \"#BCBD22\", \"edgecolor\": \"none\", \"edgewidth\": 1.0, \"zorder\": 1}, {\"data\": \"data10\", \"xindex\": 0, \"yindex\": 1, \"coordinates\": \"data\", \"pathcodes\": [\"M\", \"L\", \"L\", \"L\", \"Z\"], \"id\": \"el121244855005424\", \"dasharray\": \"none\", \"alpha\": 1, \"facecolor\": \"#17BECF\", \"edgecolor\": \"none\", \"edgewidth\": 1.0, \"zorder\": 1}, {\"data\": \"data11\", \"xindex\": 0, \"yindex\": 1, \"coordinates\": \"data\", \"pathcodes\": [\"M\", \"L\", \"L\", \"L\", \"Z\"], \"id\": \"el121244855008280\", \"dasharray\": \"none\", \"alpha\": 1, \"facecolor\": \"#1F77B4\", \"edgecolor\": \"none\", \"edgewidth\": 1.0, \"zorder\": 1}], \"markers\": [], \"texts\": [{\"text\": \"Rank F: Year-to-Date (YTD) Performance (%) per Sector\", \"position\": [0.49999999999999994, 1.0154672810614422], \"coordinates\": \"axes\", \"h_anchor\": \"middle\", \"v_baseline\": \"auto\", \"rotation\": -0.0, \"fontsize\": 12.0, \"color\": \"#000000\", \"alpha\": 1, \"zorder\": 3, \"id\": \"el121244636537296\"}], \"collections\": [], \"images\": [], \"sharex\": [], \"sharey\": []}], \"data\": {\"data01\": [[-0.25, 0.0], [0.25, 0.0], [0.25, 0.053], [-0.25, 0.053]], \"data02\": [[0.75, 0.0], [1.25, 0.0], [1.25, -0.0661], [0.75, -0.0661]], \"data03\": [[1.75, 0.0], [2.25, 0.0], [2.25, 0.0034000000000000002], [1.75, 0.0034000000000000002]], \"data04\": [[2.75, 0.0], [3.25, 0.0], [3.25, -0.0141], [2.75, -0.0141]], \"data05\": [[3.75, 0.0], [4.25, 0.0], [4.25, 0.0063], [3.75, 0.0063]], \"data06\": [[4.75, 0.0], [5.25, 0.0], [5.25, -0.006500000000000001], [4.75, -0.006500000000000001]], \"data07\": [[5.75, 0.0], [6.25, 0.0], [6.25, 0.0745], [5.75, 0.0745]], \"data08\": [[6.75, 0.0], [7.25, 0.0], [7.25, -0.016200000000000003], [6.75, -0.016200000000000003]], \"data09\": [[7.75, 0.0], [8.25, 0.0], [8.25, -0.0591], [7.75, -0.0591]], \"data10\": [[8.75, 0.0], [9.25, 0.0], [9.25, -0.07919999999999999], [8.75, -0.07919999999999999]], \"data11\": [[9.75, 0.0], [10.25, 0.0], [10.25, -0.0331], [9.75, -0.0331]]}, \"id\": \"el121244855013896\", \"plugins\": [{\"type\": \"reset\"}, {\"type\": \"zoom\", \"button\": true, \"enabled\": false}, {\"type\": \"boxzoom\", \"button\": true, \"enabled\": false}]});\n",
       "            })\n",
       "         });\n",
       "}\n",
       "</script>"
      ],
      "text/plain": [
       "<IPython.core.display.HTML object>"
      ]
     },
     "execution_count": 38,
     "metadata": {},
     "output_type": "execute_result"
    },
    {
     "name": "stdout",
     "output_type": "stream",
     "text": [
      "Rank G: Year Performance\n"
     ]
    },
    {
     "data": {
      "text/plain": [
       "<matplotlib.axes._subplots.AxesSubplot at 0x120ceca58>"
      ]
     },
     "execution_count": 38,
     "metadata": {},
     "output_type": "execute_result"
    },
    {
     "data": {
      "text/plain": [
       "Text(0.5,1,'Rank G: Year Performance (%) per Sector')"
      ]
     },
     "execution_count": 38,
     "metadata": {},
     "output_type": "execute_result"
    },
    {
     "data": {
      "text/html": [
       "\n",
       "\n",
       "<style>\n",
       "\n",
       "</style>\n",
       "\n",
       "<div id=\"fig_el1212448731358327825004873\"></div>\n",
       "<script>\n",
       "function mpld3_load_lib(url, callback){\n",
       "  var s = document.createElement('script');\n",
       "  s.src = url;\n",
       "  s.async = true;\n",
       "  s.onreadystatechange = s.onload = callback;\n",
       "  s.onerror = function(){console.warn(\"failed to load library \" + url);};\n",
       "  document.getElementsByTagName(\"head\")[0].appendChild(s);\n",
       "}\n",
       "\n",
       "if(typeof(mpld3) !== \"undefined\" && mpld3._mpld3IsLoaded){\n",
       "   // already loaded: just create the figure\n",
       "   !function(mpld3){\n",
       "       \n",
       "       mpld3.draw_figure(\"fig_el1212448731358327825004873\", {\"width\": 864.0, \"height\": 576.0, \"axes\": [{\"bbox\": [0.03897569444444445, 0.2800075954861111, 0.9444733796296296, 0.6734646267361112], \"xlim\": [-0.5, 10.5], \"ylim\": [-0.095625, 0.358125], \"xdomain\": [-0.5, 10.5], \"ydomain\": [-0.095625, 0.358125], \"xscale\": \"linear\", \"yscale\": \"linear\", \"axes\": [{\"position\": \"bottom\", \"nticks\": 11, \"tickvalues\": [0, 1, 2, 3, 4, 5, 6, 7, 8, 9, 10], \"tickformat\": [\"Consumer Discretionary\", \"Consumer Staples\", \"Energy\", \"Financials\", \"Health Care\", \"Industrials\", \"Information Technology\", \"Materials\", \"Real Estate\", \"Telecommunication Services\", \"Utilities\"], \"scale\": \"linear\", \"fontsize\": 10.0, \"grid\": {\"gridOn\": true, \"color\": \"#B0B0B0\", \"dasharray\": \"none\", \"alpha\": 1.0}, \"visible\": true}, {\"position\": \"left\", \"nticks\": 6, \"tickvalues\": null, \"tickformat\": null, \"scale\": \"linear\", \"fontsize\": 10.0, \"grid\": {\"gridOn\": true, \"color\": \"#B0B0B0\", \"dasharray\": \"none\", \"alpha\": 1.0}, \"visible\": true}], \"axesbg\": \"#FFFFFF\", \"axesbgalpha\": null, \"zoomable\": true, \"id\": \"el121244845390424\", \"lines\": [], \"paths\": [{\"data\": \"data01\", \"xindex\": 0, \"yindex\": 1, \"coordinates\": \"data\", \"pathcodes\": [\"M\", \"L\", \"L\", \"L\", \"Z\"], \"id\": \"el121244604608240\", \"dasharray\": \"none\", \"alpha\": 1, \"facecolor\": \"#1F77B4\", \"edgecolor\": \"none\", \"edgewidth\": 1.0, \"zorder\": 1}, {\"data\": \"data02\", \"xindex\": 0, \"yindex\": 1, \"coordinates\": \"data\", \"pathcodes\": [\"M\", \"L\", \"L\", \"L\", \"Z\"], \"id\": \"el121244845429088\", \"dasharray\": \"none\", \"alpha\": 1, \"facecolor\": \"#FF7F0E\", \"edgecolor\": \"none\", \"edgewidth\": 1.0, \"zorder\": 1}, {\"data\": \"data03\", \"xindex\": 0, \"yindex\": 1, \"coordinates\": \"data\", \"pathcodes\": [\"M\", \"L\", \"L\", \"L\", \"Z\"], \"id\": \"el121244595795336\", \"dasharray\": \"none\", \"alpha\": 1, \"facecolor\": \"#2CA02C\", \"edgecolor\": \"none\", \"edgewidth\": 1.0, \"zorder\": 1}, {\"data\": \"data04\", \"xindex\": 0, \"yindex\": 1, \"coordinates\": \"data\", \"pathcodes\": [\"M\", \"L\", \"L\", \"L\", \"Z\"], \"id\": \"el121244595797688\", \"dasharray\": \"none\", \"alpha\": 1, \"facecolor\": \"#D62728\", \"edgecolor\": \"none\", \"edgewidth\": 1.0, \"zorder\": 1}, {\"data\": \"data05\", \"xindex\": 0, \"yindex\": 1, \"coordinates\": \"data\", \"pathcodes\": [\"M\", \"L\", \"L\", \"L\", \"Z\"], \"id\": \"el121244595796456\", \"dasharray\": \"none\", \"alpha\": 1, \"facecolor\": \"#9467BD\", \"edgecolor\": \"none\", \"edgewidth\": 1.0, \"zorder\": 1}, {\"data\": \"data06\", \"xindex\": 0, \"yindex\": 1, \"coordinates\": \"data\", \"pathcodes\": [\"M\", \"L\", \"L\", \"L\", \"Z\"], \"id\": \"el121244595797072\", \"dasharray\": \"none\", \"alpha\": 1, \"facecolor\": \"#8C564B\", \"edgecolor\": \"none\", \"edgewidth\": 1.0, \"zorder\": 1}, {\"data\": \"data07\", \"xindex\": 0, \"yindex\": 1, \"coordinates\": \"data\", \"pathcodes\": [\"M\", \"L\", \"L\", \"L\", \"Z\"], \"id\": \"el121244595797016\", \"dasharray\": \"none\", \"alpha\": 1, \"facecolor\": \"#E377C2\", \"edgecolor\": \"none\", \"edgewidth\": 1.0, \"zorder\": 1}, {\"data\": \"data08\", \"xindex\": 0, \"yindex\": 1, \"coordinates\": \"data\", \"pathcodes\": [\"M\", \"L\", \"L\", \"L\", \"Z\"], \"id\": \"el121244873056664\", \"dasharray\": \"none\", \"alpha\": 1, \"facecolor\": \"#7F7F7F\", \"edgecolor\": \"none\", \"edgewidth\": 1.0, \"zorder\": 1}, {\"data\": \"data09\", \"xindex\": 0, \"yindex\": 1, \"coordinates\": \"data\", \"pathcodes\": [\"M\", \"L\", \"L\", \"L\", \"Z\"], \"id\": \"el121244873056328\", \"dasharray\": \"none\", \"alpha\": 1, \"facecolor\": \"#BCBD22\", \"edgecolor\": \"none\", \"edgewidth\": 1.0, \"zorder\": 1}, {\"data\": \"data10\", \"xindex\": 0, \"yindex\": 1, \"coordinates\": \"data\", \"pathcodes\": [\"M\", \"L\", \"L\", \"L\", \"Z\"], \"id\": \"el121244873058120\", \"dasharray\": \"none\", \"alpha\": 1, \"facecolor\": \"#17BECF\", \"edgecolor\": \"none\", \"edgewidth\": 1.0, \"zorder\": 1}, {\"data\": \"data11\", \"xindex\": 0, \"yindex\": 1, \"coordinates\": \"data\", \"pathcodes\": [\"M\", \"L\", \"L\", \"L\", \"Z\"], \"id\": \"el121244873059240\", \"dasharray\": \"none\", \"alpha\": 1, \"facecolor\": \"#1F77B4\", \"edgecolor\": \"none\", \"edgewidth\": 1.0, \"zorder\": 1}], \"markers\": [], \"texts\": [{\"text\": \"Rank G: Year Performance (%) per Sector\", \"position\": [0.5, 1.0154672810614422], \"coordinates\": \"axes\", \"h_anchor\": \"middle\", \"v_baseline\": \"auto\", \"rotation\": -0.0, \"fontsize\": 12.0, \"color\": \"#000000\", \"alpha\": 1, \"zorder\": 3, \"id\": \"el121244840670096\"}], \"collections\": [], \"images\": [], \"sharex\": [], \"sharey\": []}], \"data\": {\"data01\": [[-0.25, 0.0], [0.25, 0.0], [0.25, 0.1997], [-0.25, 0.1997]], \"data02\": [[0.75, 0.0], [1.25, 0.0], [1.25, -0.027000000000000003], [0.75, -0.027000000000000003]], \"data03\": [[1.75, 0.0], [2.25, 0.0], [2.25, 0.0507], [1.75, 0.0507]], \"data04\": [[2.75, 0.0], [3.25, 0.0], [3.25, 0.2024], [2.75, 0.2024]], \"data05\": [[3.75, 0.0], [4.25, 0.0], [4.25, 0.1257], [3.75, 0.1257]], \"data06\": [[4.75, 0.0], [5.25, 0.0], [5.25, 0.1502], [4.75, 0.1502]], \"data07\": [[5.75, 0.0], [6.25, 0.0], [6.25, 0.3375], [5.75, 0.3375]], \"data08\": [[6.75, 0.0], [7.25, 0.0], [7.25, 0.15869999999999998], [6.75, 0.15869999999999998]], \"data09\": [[7.75, 0.0], [8.25, 0.0], [8.25, -0.0316], [7.75, -0.0316]], \"data10\": [[8.75, 0.0], [9.25, 0.0], [9.25, -0.075], [8.75, -0.075]], \"data11\": [[9.75, 0.0], [10.25, 0.0], [10.25, -0.0138], [9.75, -0.0138]]}, \"id\": \"el121244873135832\", \"plugins\": [{\"type\": \"reset\"}, {\"type\": \"zoom\", \"button\": true, \"enabled\": false}, {\"type\": \"boxzoom\", \"button\": true, \"enabled\": false}]});\n",
       "   }(mpld3);\n",
       "}else if(typeof define === \"function\" && define.amd){\n",
       "   // require.js is available: use it to load d3/mpld3\n",
       "   require.config({paths: {d3: \"https://mpld3.github.io/js/d3.v3.min\"}});\n",
       "   require([\"d3\"], function(d3){\n",
       "      window.d3 = d3;\n",
       "      mpld3_load_lib(\"https://mpld3.github.io/js/mpld3.v0.3.js\", function(){\n",
       "         \n",
       "         mpld3.draw_figure(\"fig_el1212448731358327825004873\", {\"width\": 864.0, \"height\": 576.0, \"axes\": [{\"bbox\": [0.03897569444444445, 0.2800075954861111, 0.9444733796296296, 0.6734646267361112], \"xlim\": [-0.5, 10.5], \"ylim\": [-0.095625, 0.358125], \"xdomain\": [-0.5, 10.5], \"ydomain\": [-0.095625, 0.358125], \"xscale\": \"linear\", \"yscale\": \"linear\", \"axes\": [{\"position\": \"bottom\", \"nticks\": 11, \"tickvalues\": [0, 1, 2, 3, 4, 5, 6, 7, 8, 9, 10], \"tickformat\": [\"Consumer Discretionary\", \"Consumer Staples\", \"Energy\", \"Financials\", \"Health Care\", \"Industrials\", \"Information Technology\", \"Materials\", \"Real Estate\", \"Telecommunication Services\", \"Utilities\"], \"scale\": \"linear\", \"fontsize\": 10.0, \"grid\": {\"gridOn\": true, \"color\": \"#B0B0B0\", \"dasharray\": \"none\", \"alpha\": 1.0}, \"visible\": true}, {\"position\": \"left\", \"nticks\": 6, \"tickvalues\": null, \"tickformat\": null, \"scale\": \"linear\", \"fontsize\": 10.0, \"grid\": {\"gridOn\": true, \"color\": \"#B0B0B0\", \"dasharray\": \"none\", \"alpha\": 1.0}, \"visible\": true}], \"axesbg\": \"#FFFFFF\", \"axesbgalpha\": null, \"zoomable\": true, \"id\": \"el121244845390424\", \"lines\": [], \"paths\": [{\"data\": \"data01\", \"xindex\": 0, \"yindex\": 1, \"coordinates\": \"data\", \"pathcodes\": [\"M\", \"L\", \"L\", \"L\", \"Z\"], \"id\": \"el121244604608240\", \"dasharray\": \"none\", \"alpha\": 1, \"facecolor\": \"#1F77B4\", \"edgecolor\": \"none\", \"edgewidth\": 1.0, \"zorder\": 1}, {\"data\": \"data02\", \"xindex\": 0, \"yindex\": 1, \"coordinates\": \"data\", \"pathcodes\": [\"M\", \"L\", \"L\", \"L\", \"Z\"], \"id\": \"el121244845429088\", \"dasharray\": \"none\", \"alpha\": 1, \"facecolor\": \"#FF7F0E\", \"edgecolor\": \"none\", \"edgewidth\": 1.0, \"zorder\": 1}, {\"data\": \"data03\", \"xindex\": 0, \"yindex\": 1, \"coordinates\": \"data\", \"pathcodes\": [\"M\", \"L\", \"L\", \"L\", \"Z\"], \"id\": \"el121244595795336\", \"dasharray\": \"none\", \"alpha\": 1, \"facecolor\": \"#2CA02C\", \"edgecolor\": \"none\", \"edgewidth\": 1.0, \"zorder\": 1}, {\"data\": \"data04\", \"xindex\": 0, \"yindex\": 1, \"coordinates\": \"data\", \"pathcodes\": [\"M\", \"L\", \"L\", \"L\", \"Z\"], \"id\": \"el121244595797688\", \"dasharray\": \"none\", \"alpha\": 1, \"facecolor\": \"#D62728\", \"edgecolor\": \"none\", \"edgewidth\": 1.0, \"zorder\": 1}, {\"data\": \"data05\", \"xindex\": 0, \"yindex\": 1, \"coordinates\": \"data\", \"pathcodes\": [\"M\", \"L\", \"L\", \"L\", \"Z\"], \"id\": \"el121244595796456\", \"dasharray\": \"none\", \"alpha\": 1, \"facecolor\": \"#9467BD\", \"edgecolor\": \"none\", \"edgewidth\": 1.0, \"zorder\": 1}, {\"data\": \"data06\", \"xindex\": 0, \"yindex\": 1, \"coordinates\": \"data\", \"pathcodes\": [\"M\", \"L\", \"L\", \"L\", \"Z\"], \"id\": \"el121244595797072\", \"dasharray\": \"none\", \"alpha\": 1, \"facecolor\": \"#8C564B\", \"edgecolor\": \"none\", \"edgewidth\": 1.0, \"zorder\": 1}, {\"data\": \"data07\", \"xindex\": 0, \"yindex\": 1, \"coordinates\": \"data\", \"pathcodes\": [\"M\", \"L\", \"L\", \"L\", \"Z\"], \"id\": \"el121244595797016\", \"dasharray\": \"none\", \"alpha\": 1, \"facecolor\": \"#E377C2\", \"edgecolor\": \"none\", \"edgewidth\": 1.0, \"zorder\": 1}, {\"data\": \"data08\", \"xindex\": 0, \"yindex\": 1, \"coordinates\": \"data\", \"pathcodes\": [\"M\", \"L\", \"L\", \"L\", \"Z\"], \"id\": \"el121244873056664\", \"dasharray\": \"none\", \"alpha\": 1, \"facecolor\": \"#7F7F7F\", \"edgecolor\": \"none\", \"edgewidth\": 1.0, \"zorder\": 1}, {\"data\": \"data09\", \"xindex\": 0, \"yindex\": 1, \"coordinates\": \"data\", \"pathcodes\": [\"M\", \"L\", \"L\", \"L\", \"Z\"], \"id\": \"el121244873056328\", \"dasharray\": \"none\", \"alpha\": 1, \"facecolor\": \"#BCBD22\", \"edgecolor\": \"none\", \"edgewidth\": 1.0, \"zorder\": 1}, {\"data\": \"data10\", \"xindex\": 0, \"yindex\": 1, \"coordinates\": \"data\", \"pathcodes\": [\"M\", \"L\", \"L\", \"L\", \"Z\"], \"id\": \"el121244873058120\", \"dasharray\": \"none\", \"alpha\": 1, \"facecolor\": \"#17BECF\", \"edgecolor\": \"none\", \"edgewidth\": 1.0, \"zorder\": 1}, {\"data\": \"data11\", \"xindex\": 0, \"yindex\": 1, \"coordinates\": \"data\", \"pathcodes\": [\"M\", \"L\", \"L\", \"L\", \"Z\"], \"id\": \"el121244873059240\", \"dasharray\": \"none\", \"alpha\": 1, \"facecolor\": \"#1F77B4\", \"edgecolor\": \"none\", \"edgewidth\": 1.0, \"zorder\": 1}], \"markers\": [], \"texts\": [{\"text\": \"Rank G: Year Performance (%) per Sector\", \"position\": [0.5, 1.0154672810614422], \"coordinates\": \"axes\", \"h_anchor\": \"middle\", \"v_baseline\": \"auto\", \"rotation\": -0.0, \"fontsize\": 12.0, \"color\": \"#000000\", \"alpha\": 1, \"zorder\": 3, \"id\": \"el121244840670096\"}], \"collections\": [], \"images\": [], \"sharex\": [], \"sharey\": []}], \"data\": {\"data01\": [[-0.25, 0.0], [0.25, 0.0], [0.25, 0.1997], [-0.25, 0.1997]], \"data02\": [[0.75, 0.0], [1.25, 0.0], [1.25, -0.027000000000000003], [0.75, -0.027000000000000003]], \"data03\": [[1.75, 0.0], [2.25, 0.0], [2.25, 0.0507], [1.75, 0.0507]], \"data04\": [[2.75, 0.0], [3.25, 0.0], [3.25, 0.2024], [2.75, 0.2024]], \"data05\": [[3.75, 0.0], [4.25, 0.0], [4.25, 0.1257], [3.75, 0.1257]], \"data06\": [[4.75, 0.0], [5.25, 0.0], [5.25, 0.1502], [4.75, 0.1502]], \"data07\": [[5.75, 0.0], [6.25, 0.0], [6.25, 0.3375], [5.75, 0.3375]], \"data08\": [[6.75, 0.0], [7.25, 0.0], [7.25, 0.15869999999999998], [6.75, 0.15869999999999998]], \"data09\": [[7.75, 0.0], [8.25, 0.0], [8.25, -0.0316], [7.75, -0.0316]], \"data10\": [[8.75, 0.0], [9.25, 0.0], [9.25, -0.075], [8.75, -0.075]], \"data11\": [[9.75, 0.0], [10.25, 0.0], [10.25, -0.0138], [9.75, -0.0138]]}, \"id\": \"el121244873135832\", \"plugins\": [{\"type\": \"reset\"}, {\"type\": \"zoom\", \"button\": true, \"enabled\": false}, {\"type\": \"boxzoom\", \"button\": true, \"enabled\": false}]});\n",
       "      });\n",
       "    });\n",
       "}else{\n",
       "    // require.js not available: dynamically load d3 & mpld3\n",
       "    mpld3_load_lib(\"https://mpld3.github.io/js/d3.v3.min.js\", function(){\n",
       "         mpld3_load_lib(\"https://mpld3.github.io/js/mpld3.v0.3.js\", function(){\n",
       "                 \n",
       "                 mpld3.draw_figure(\"fig_el1212448731358327825004873\", {\"width\": 864.0, \"height\": 576.0, \"axes\": [{\"bbox\": [0.03897569444444445, 0.2800075954861111, 0.9444733796296296, 0.6734646267361112], \"xlim\": [-0.5, 10.5], \"ylim\": [-0.095625, 0.358125], \"xdomain\": [-0.5, 10.5], \"ydomain\": [-0.095625, 0.358125], \"xscale\": \"linear\", \"yscale\": \"linear\", \"axes\": [{\"position\": \"bottom\", \"nticks\": 11, \"tickvalues\": [0, 1, 2, 3, 4, 5, 6, 7, 8, 9, 10], \"tickformat\": [\"Consumer Discretionary\", \"Consumer Staples\", \"Energy\", \"Financials\", \"Health Care\", \"Industrials\", \"Information Technology\", \"Materials\", \"Real Estate\", \"Telecommunication Services\", \"Utilities\"], \"scale\": \"linear\", \"fontsize\": 10.0, \"grid\": {\"gridOn\": true, \"color\": \"#B0B0B0\", \"dasharray\": \"none\", \"alpha\": 1.0}, \"visible\": true}, {\"position\": \"left\", \"nticks\": 6, \"tickvalues\": null, \"tickformat\": null, \"scale\": \"linear\", \"fontsize\": 10.0, \"grid\": {\"gridOn\": true, \"color\": \"#B0B0B0\", \"dasharray\": \"none\", \"alpha\": 1.0}, \"visible\": true}], \"axesbg\": \"#FFFFFF\", \"axesbgalpha\": null, \"zoomable\": true, \"id\": \"el121244845390424\", \"lines\": [], \"paths\": [{\"data\": \"data01\", \"xindex\": 0, \"yindex\": 1, \"coordinates\": \"data\", \"pathcodes\": [\"M\", \"L\", \"L\", \"L\", \"Z\"], \"id\": \"el121244604608240\", \"dasharray\": \"none\", \"alpha\": 1, \"facecolor\": \"#1F77B4\", \"edgecolor\": \"none\", \"edgewidth\": 1.0, \"zorder\": 1}, {\"data\": \"data02\", \"xindex\": 0, \"yindex\": 1, \"coordinates\": \"data\", \"pathcodes\": [\"M\", \"L\", \"L\", \"L\", \"Z\"], \"id\": \"el121244845429088\", \"dasharray\": \"none\", \"alpha\": 1, \"facecolor\": \"#FF7F0E\", \"edgecolor\": \"none\", \"edgewidth\": 1.0, \"zorder\": 1}, {\"data\": \"data03\", \"xindex\": 0, \"yindex\": 1, \"coordinates\": \"data\", \"pathcodes\": [\"M\", \"L\", \"L\", \"L\", \"Z\"], \"id\": \"el121244595795336\", \"dasharray\": \"none\", \"alpha\": 1, \"facecolor\": \"#2CA02C\", \"edgecolor\": \"none\", \"edgewidth\": 1.0, \"zorder\": 1}, {\"data\": \"data04\", \"xindex\": 0, \"yindex\": 1, \"coordinates\": \"data\", \"pathcodes\": [\"M\", \"L\", \"L\", \"L\", \"Z\"], \"id\": \"el121244595797688\", \"dasharray\": \"none\", \"alpha\": 1, \"facecolor\": \"#D62728\", \"edgecolor\": \"none\", \"edgewidth\": 1.0, \"zorder\": 1}, {\"data\": \"data05\", \"xindex\": 0, \"yindex\": 1, \"coordinates\": \"data\", \"pathcodes\": [\"M\", \"L\", \"L\", \"L\", \"Z\"], \"id\": \"el121244595796456\", \"dasharray\": \"none\", \"alpha\": 1, \"facecolor\": \"#9467BD\", \"edgecolor\": \"none\", \"edgewidth\": 1.0, \"zorder\": 1}, {\"data\": \"data06\", \"xindex\": 0, \"yindex\": 1, \"coordinates\": \"data\", \"pathcodes\": [\"M\", \"L\", \"L\", \"L\", \"Z\"], \"id\": \"el121244595797072\", \"dasharray\": \"none\", \"alpha\": 1, \"facecolor\": \"#8C564B\", \"edgecolor\": \"none\", \"edgewidth\": 1.0, \"zorder\": 1}, {\"data\": \"data07\", \"xindex\": 0, \"yindex\": 1, \"coordinates\": \"data\", \"pathcodes\": [\"M\", \"L\", \"L\", \"L\", \"Z\"], \"id\": \"el121244595797016\", \"dasharray\": \"none\", \"alpha\": 1, \"facecolor\": \"#E377C2\", \"edgecolor\": \"none\", \"edgewidth\": 1.0, \"zorder\": 1}, {\"data\": \"data08\", \"xindex\": 0, \"yindex\": 1, \"coordinates\": \"data\", \"pathcodes\": [\"M\", \"L\", \"L\", \"L\", \"Z\"], \"id\": \"el121244873056664\", \"dasharray\": \"none\", \"alpha\": 1, \"facecolor\": \"#7F7F7F\", \"edgecolor\": \"none\", \"edgewidth\": 1.0, \"zorder\": 1}, {\"data\": \"data09\", \"xindex\": 0, \"yindex\": 1, \"coordinates\": \"data\", \"pathcodes\": [\"M\", \"L\", \"L\", \"L\", \"Z\"], \"id\": \"el121244873056328\", \"dasharray\": \"none\", \"alpha\": 1, \"facecolor\": \"#BCBD22\", \"edgecolor\": \"none\", \"edgewidth\": 1.0, \"zorder\": 1}, {\"data\": \"data10\", \"xindex\": 0, \"yindex\": 1, \"coordinates\": \"data\", \"pathcodes\": [\"M\", \"L\", \"L\", \"L\", \"Z\"], \"id\": \"el121244873058120\", \"dasharray\": \"none\", \"alpha\": 1, \"facecolor\": \"#17BECF\", \"edgecolor\": \"none\", \"edgewidth\": 1.0, \"zorder\": 1}, {\"data\": \"data11\", \"xindex\": 0, \"yindex\": 1, \"coordinates\": \"data\", \"pathcodes\": [\"M\", \"L\", \"L\", \"L\", \"Z\"], \"id\": \"el121244873059240\", \"dasharray\": \"none\", \"alpha\": 1, \"facecolor\": \"#1F77B4\", \"edgecolor\": \"none\", \"edgewidth\": 1.0, \"zorder\": 1}], \"markers\": [], \"texts\": [{\"text\": \"Rank G: Year Performance (%) per Sector\", \"position\": [0.5, 1.0154672810614422], \"coordinates\": \"axes\", \"h_anchor\": \"middle\", \"v_baseline\": \"auto\", \"rotation\": -0.0, \"fontsize\": 12.0, \"color\": \"#000000\", \"alpha\": 1, \"zorder\": 3, \"id\": \"el121244840670096\"}], \"collections\": [], \"images\": [], \"sharex\": [], \"sharey\": []}], \"data\": {\"data01\": [[-0.25, 0.0], [0.25, 0.0], [0.25, 0.1997], [-0.25, 0.1997]], \"data02\": [[0.75, 0.0], [1.25, 0.0], [1.25, -0.027000000000000003], [0.75, -0.027000000000000003]], \"data03\": [[1.75, 0.0], [2.25, 0.0], [2.25, 0.0507], [1.75, 0.0507]], \"data04\": [[2.75, 0.0], [3.25, 0.0], [3.25, 0.2024], [2.75, 0.2024]], \"data05\": [[3.75, 0.0], [4.25, 0.0], [4.25, 0.1257], [3.75, 0.1257]], \"data06\": [[4.75, 0.0], [5.25, 0.0], [5.25, 0.1502], [4.75, 0.1502]], \"data07\": [[5.75, 0.0], [6.25, 0.0], [6.25, 0.3375], [5.75, 0.3375]], \"data08\": [[6.75, 0.0], [7.25, 0.0], [7.25, 0.15869999999999998], [6.75, 0.15869999999999998]], \"data09\": [[7.75, 0.0], [8.25, 0.0], [8.25, -0.0316], [7.75, -0.0316]], \"data10\": [[8.75, 0.0], [9.25, 0.0], [9.25, -0.075], [8.75, -0.075]], \"data11\": [[9.75, 0.0], [10.25, 0.0], [10.25, -0.0138], [9.75, -0.0138]]}, \"id\": \"el121244873135832\", \"plugins\": [{\"type\": \"reset\"}, {\"type\": \"zoom\", \"button\": true, \"enabled\": false}, {\"type\": \"boxzoom\", \"button\": true, \"enabled\": false}]});\n",
       "            })\n",
       "         });\n",
       "}\n",
       "</script>"
      ],
      "text/plain": [
       "<IPython.core.display.HTML object>"
      ]
     },
     "execution_count": 38,
     "metadata": {},
     "output_type": "execute_result"
    },
    {
     "name": "stdout",
     "output_type": "stream",
     "text": [
      "Rank H: Year Performance\n"
     ]
    },
    {
     "data": {
      "text/plain": [
       "<matplotlib.axes._subplots.AxesSubplot at 0x116aed668>"
      ]
     },
     "execution_count": 38,
     "metadata": {},
     "output_type": "execute_result"
    },
    {
     "data": {
      "text/plain": [
       "Text(0.5,1,'Rank H: Year Performance (%) per Sector')"
      ]
     },
     "execution_count": 38,
     "metadata": {},
     "output_type": "execute_result"
    },
    {
     "data": {
      "text/html": [
       "\n",
       "\n",
       "<style>\n",
       "\n",
       "</style>\n",
       "\n",
       "<div id=\"fig_el1212445957979685854681460\"></div>\n",
       "<script>\n",
       "function mpld3_load_lib(url, callback){\n",
       "  var s = document.createElement('script');\n",
       "  s.src = url;\n",
       "  s.async = true;\n",
       "  s.onreadystatechange = s.onload = callback;\n",
       "  s.onerror = function(){console.warn(\"failed to load library \" + url);};\n",
       "  document.getElementsByTagName(\"head\")[0].appendChild(s);\n",
       "}\n",
       "\n",
       "if(typeof(mpld3) !== \"undefined\" && mpld3._mpld3IsLoaded){\n",
       "   // already loaded: just create the figure\n",
       "   !function(mpld3){\n",
       "       \n",
       "       mpld3.draw_figure(\"fig_el1212445957979685854681460\", {\"width\": 864.0, \"height\": 576.0, \"axes\": [{\"bbox\": [0.04866898148148149, 0.2800075954861111, 0.9347800925925926, 0.6734646267361112], \"xlim\": [-0.5, 10.5], \"ylim\": [-0.152165, 0.733665], \"xdomain\": [-0.5, 10.5], \"ydomain\": [-0.152165, 0.733665], \"xscale\": \"linear\", \"yscale\": \"linear\", \"axes\": [{\"position\": \"bottom\", \"nticks\": 11, \"tickvalues\": [0, 1, 2, 3, 4, 5, 6, 7, 8, 9, 10], \"tickformat\": [\"Consumer Discretionary\", \"Consumer Staples\", \"Energy\", \"Financials\", \"Health Care\", \"Industrials\", \"Information Technology\", \"Materials\", \"Real Estate\", \"Telecommunication Services\", \"Utilities\"], \"scale\": \"linear\", \"fontsize\": 10.0, \"grid\": {\"gridOn\": true, \"color\": \"#B0B0B0\", \"dasharray\": \"none\", \"alpha\": 1.0}, \"visible\": true}, {\"position\": \"left\", \"nticks\": 11, \"tickvalues\": null, \"tickformat\": null, \"scale\": \"linear\", \"fontsize\": 10.0, \"grid\": {\"gridOn\": true, \"color\": \"#B0B0B0\", \"dasharray\": \"none\", \"alpha\": 1.0}, \"visible\": true}], \"axesbg\": \"#FFFFFF\", \"axesbgalpha\": null, \"zoomable\": true, \"id\": \"el121244675524200\", \"lines\": [], \"paths\": [{\"data\": \"data01\", \"xindex\": 0, \"yindex\": 1, \"coordinates\": \"data\", \"pathcodes\": [\"M\", \"L\", \"L\", \"L\", \"Z\"], \"id\": \"el121244867274008\", \"dasharray\": \"none\", \"alpha\": 1, \"facecolor\": \"#1F77B4\", \"edgecolor\": \"none\", \"edgewidth\": 1.0, \"zorder\": 1}, {\"data\": \"data02\", \"xindex\": 0, \"yindex\": 1, \"coordinates\": \"data\", \"pathcodes\": [\"M\", \"L\", \"L\", \"L\", \"Z\"], \"id\": \"el121244595903736\", \"dasharray\": \"none\", \"alpha\": 1, \"facecolor\": \"#FF7F0E\", \"edgecolor\": \"none\", \"edgewidth\": 1.0, \"zorder\": 1}, {\"data\": \"data03\", \"xindex\": 0, \"yindex\": 1, \"coordinates\": \"data\", \"pathcodes\": [\"M\", \"L\", \"L\", \"L\", \"Z\"], \"id\": \"el121244595901888\", \"dasharray\": \"none\", \"alpha\": 1, \"facecolor\": \"#2CA02C\", \"edgecolor\": \"none\", \"edgewidth\": 1.0, \"zorder\": 1}, {\"data\": \"data04\", \"xindex\": 0, \"yindex\": 1, \"coordinates\": \"data\", \"pathcodes\": [\"M\", \"L\", \"L\", \"L\", \"Z\"], \"id\": \"el121244595901720\", \"dasharray\": \"none\", \"alpha\": 1, \"facecolor\": \"#D62728\", \"edgecolor\": \"none\", \"edgewidth\": 1.0, \"zorder\": 1}, {\"data\": \"data05\", \"xindex\": 0, \"yindex\": 1, \"coordinates\": \"data\", \"pathcodes\": [\"M\", \"L\", \"L\", \"L\", \"Z\"], \"id\": \"el121244595901944\", \"dasharray\": \"none\", \"alpha\": 1, \"facecolor\": \"#9467BD\", \"edgecolor\": \"none\", \"edgewidth\": 1.0, \"zorder\": 1}, {\"data\": \"data06\", \"xindex\": 0, \"yindex\": 1, \"coordinates\": \"data\", \"pathcodes\": [\"M\", \"L\", \"L\", \"L\", \"Z\"], \"id\": \"el121244595904016\", \"dasharray\": \"none\", \"alpha\": 1, \"facecolor\": \"#8C564B\", \"edgecolor\": \"none\", \"edgewidth\": 1.0, \"zorder\": 1}, {\"data\": \"data07\", \"xindex\": 0, \"yindex\": 1, \"coordinates\": \"data\", \"pathcodes\": [\"M\", \"L\", \"L\", \"L\", \"Z\"], \"id\": \"el121244595706960\", \"dasharray\": \"none\", \"alpha\": 1, \"facecolor\": \"#E377C2\", \"edgecolor\": \"none\", \"edgewidth\": 1.0, \"zorder\": 1}, {\"data\": \"data08\", \"xindex\": 0, \"yindex\": 1, \"coordinates\": \"data\", \"pathcodes\": [\"M\", \"L\", \"L\", \"L\", \"Z\"], \"id\": \"el121244595705280\", \"dasharray\": \"none\", \"alpha\": 1, \"facecolor\": \"#7F7F7F\", \"edgecolor\": \"none\", \"edgewidth\": 1.0, \"zorder\": 1}, {\"data\": \"data09\", \"xindex\": 0, \"yindex\": 1, \"coordinates\": \"data\", \"pathcodes\": [\"M\", \"L\", \"L\", \"L\", \"Z\"], \"id\": \"el121244595706288\", \"dasharray\": \"none\", \"alpha\": 1, \"facecolor\": \"#BCBD22\", \"edgecolor\": \"none\", \"edgewidth\": 1.0, \"zorder\": 1}, {\"data\": \"data10\", \"xindex\": 0, \"yindex\": 1, \"coordinates\": \"data\", \"pathcodes\": [\"M\", \"L\", \"L\", \"L\", \"Z\"], \"id\": \"el121244595704160\", \"dasharray\": \"none\", \"alpha\": 1, \"facecolor\": \"#17BECF\", \"edgecolor\": \"none\", \"edgewidth\": 1.0, \"zorder\": 1}, {\"data\": \"data11\", \"xindex\": 0, \"yindex\": 1, \"coordinates\": \"data\", \"pathcodes\": [\"M\", \"L\", \"L\", \"L\", \"Z\"], \"id\": \"el121244867681024\", \"dasharray\": \"none\", \"alpha\": 1, \"facecolor\": \"#1F77B4\", \"edgecolor\": \"none\", \"edgewidth\": 1.0, \"zorder\": 1}], \"markers\": [], \"texts\": [{\"text\": \"Rank H: Year Performance (%) per Sector\", \"position\": [0.5, 1.0154672810614422], \"coordinates\": \"axes\", \"h_anchor\": \"middle\", \"v_baseline\": \"auto\", \"rotation\": -0.0, \"fontsize\": 12.0, \"color\": \"#000000\", \"alpha\": 1, \"zorder\": 3, \"id\": \"el121244708524888\"}], \"collections\": [], \"images\": [], \"sharex\": [], \"sharey\": []}], \"data\": {\"data01\": [[-0.25, 0.0], [0.25, 0.0], [0.25, 0.3649], [-0.25, 0.3649]], \"data02\": [[0.75, 0.0], [1.25, 0.0], [1.25, 0.0782], [0.75, 0.0782]], \"data03\": [[1.75, 0.0], [2.25, 0.0], [2.25, -0.1119], [1.75, -0.1119]], \"data04\": [[2.75, 0.0], [3.25, 0.0], [3.25, 0.3883], [2.75, 0.3883]], \"data05\": [[3.75, 0.0], [4.25, 0.0], [4.25, 0.1266], [3.75, 0.1266]], \"data06\": [[4.75, 0.0], [5.25, 0.0], [5.25, 0.3018], [4.75, 0.3018]], \"data07\": [[5.75, 0.0], [6.25, 0.0], [6.25, 0.6934], [5.75, 0.6934]], \"data08\": [[6.75, 0.0], [7.25, 0.0], [7.25, 0.1869], [6.75, 0.1869]], \"data09\": [[7.75, 0.0], [8.25, 0.0], [8.25, 0.0], [7.75, 0.0]], \"data10\": [[8.75, 0.0], [9.25, 0.0], [9.25, -0.0091], [8.75, -0.0091]], \"data11\": [[9.75, 0.0], [10.25, 0.0], [10.25, 0.1494], [9.75, 0.1494]]}, \"id\": \"el121244595797968\", \"plugins\": [{\"type\": \"reset\"}, {\"type\": \"zoom\", \"button\": true, \"enabled\": false}, {\"type\": \"boxzoom\", \"button\": true, \"enabled\": false}]});\n",
       "   }(mpld3);\n",
       "}else if(typeof define === \"function\" && define.amd){\n",
       "   // require.js is available: use it to load d3/mpld3\n",
       "   require.config({paths: {d3: \"https://mpld3.github.io/js/d3.v3.min\"}});\n",
       "   require([\"d3\"], function(d3){\n",
       "      window.d3 = d3;\n",
       "      mpld3_load_lib(\"https://mpld3.github.io/js/mpld3.v0.3.js\", function(){\n",
       "         \n",
       "         mpld3.draw_figure(\"fig_el1212445957979685854681460\", {\"width\": 864.0, \"height\": 576.0, \"axes\": [{\"bbox\": [0.04866898148148149, 0.2800075954861111, 0.9347800925925926, 0.6734646267361112], \"xlim\": [-0.5, 10.5], \"ylim\": [-0.152165, 0.733665], \"xdomain\": [-0.5, 10.5], \"ydomain\": [-0.152165, 0.733665], \"xscale\": \"linear\", \"yscale\": \"linear\", \"axes\": [{\"position\": \"bottom\", \"nticks\": 11, \"tickvalues\": [0, 1, 2, 3, 4, 5, 6, 7, 8, 9, 10], \"tickformat\": [\"Consumer Discretionary\", \"Consumer Staples\", \"Energy\", \"Financials\", \"Health Care\", \"Industrials\", \"Information Technology\", \"Materials\", \"Real Estate\", \"Telecommunication Services\", \"Utilities\"], \"scale\": \"linear\", \"fontsize\": 10.0, \"grid\": {\"gridOn\": true, \"color\": \"#B0B0B0\", \"dasharray\": \"none\", \"alpha\": 1.0}, \"visible\": true}, {\"position\": \"left\", \"nticks\": 11, \"tickvalues\": null, \"tickformat\": null, \"scale\": \"linear\", \"fontsize\": 10.0, \"grid\": {\"gridOn\": true, \"color\": \"#B0B0B0\", \"dasharray\": \"none\", \"alpha\": 1.0}, \"visible\": true}], \"axesbg\": \"#FFFFFF\", \"axesbgalpha\": null, \"zoomable\": true, \"id\": \"el121244675524200\", \"lines\": [], \"paths\": [{\"data\": \"data01\", \"xindex\": 0, \"yindex\": 1, \"coordinates\": \"data\", \"pathcodes\": [\"M\", \"L\", \"L\", \"L\", \"Z\"], \"id\": \"el121244867274008\", \"dasharray\": \"none\", \"alpha\": 1, \"facecolor\": \"#1F77B4\", \"edgecolor\": \"none\", \"edgewidth\": 1.0, \"zorder\": 1}, {\"data\": \"data02\", \"xindex\": 0, \"yindex\": 1, \"coordinates\": \"data\", \"pathcodes\": [\"M\", \"L\", \"L\", \"L\", \"Z\"], \"id\": \"el121244595903736\", \"dasharray\": \"none\", \"alpha\": 1, \"facecolor\": \"#FF7F0E\", \"edgecolor\": \"none\", \"edgewidth\": 1.0, \"zorder\": 1}, {\"data\": \"data03\", \"xindex\": 0, \"yindex\": 1, \"coordinates\": \"data\", \"pathcodes\": [\"M\", \"L\", \"L\", \"L\", \"Z\"], \"id\": \"el121244595901888\", \"dasharray\": \"none\", \"alpha\": 1, \"facecolor\": \"#2CA02C\", \"edgecolor\": \"none\", \"edgewidth\": 1.0, \"zorder\": 1}, {\"data\": \"data04\", \"xindex\": 0, \"yindex\": 1, \"coordinates\": \"data\", \"pathcodes\": [\"M\", \"L\", \"L\", \"L\", \"Z\"], \"id\": \"el121244595901720\", \"dasharray\": \"none\", \"alpha\": 1, \"facecolor\": \"#D62728\", \"edgecolor\": \"none\", \"edgewidth\": 1.0, \"zorder\": 1}, {\"data\": \"data05\", \"xindex\": 0, \"yindex\": 1, \"coordinates\": \"data\", \"pathcodes\": [\"M\", \"L\", \"L\", \"L\", \"Z\"], \"id\": \"el121244595901944\", \"dasharray\": \"none\", \"alpha\": 1, \"facecolor\": \"#9467BD\", \"edgecolor\": \"none\", \"edgewidth\": 1.0, \"zorder\": 1}, {\"data\": \"data06\", \"xindex\": 0, \"yindex\": 1, \"coordinates\": \"data\", \"pathcodes\": [\"M\", \"L\", \"L\", \"L\", \"Z\"], \"id\": \"el121244595904016\", \"dasharray\": \"none\", \"alpha\": 1, \"facecolor\": \"#8C564B\", \"edgecolor\": \"none\", \"edgewidth\": 1.0, \"zorder\": 1}, {\"data\": \"data07\", \"xindex\": 0, \"yindex\": 1, \"coordinates\": \"data\", \"pathcodes\": [\"M\", \"L\", \"L\", \"L\", \"Z\"], \"id\": \"el121244595706960\", \"dasharray\": \"none\", \"alpha\": 1, \"facecolor\": \"#E377C2\", \"edgecolor\": \"none\", \"edgewidth\": 1.0, \"zorder\": 1}, {\"data\": \"data08\", \"xindex\": 0, \"yindex\": 1, \"coordinates\": \"data\", \"pathcodes\": [\"M\", \"L\", \"L\", \"L\", \"Z\"], \"id\": \"el121244595705280\", \"dasharray\": \"none\", \"alpha\": 1, \"facecolor\": \"#7F7F7F\", \"edgecolor\": \"none\", \"edgewidth\": 1.0, \"zorder\": 1}, {\"data\": \"data09\", \"xindex\": 0, \"yindex\": 1, \"coordinates\": \"data\", \"pathcodes\": [\"M\", \"L\", \"L\", \"L\", \"Z\"], \"id\": \"el121244595706288\", \"dasharray\": \"none\", \"alpha\": 1, \"facecolor\": \"#BCBD22\", \"edgecolor\": \"none\", \"edgewidth\": 1.0, \"zorder\": 1}, {\"data\": \"data10\", \"xindex\": 0, \"yindex\": 1, \"coordinates\": \"data\", \"pathcodes\": [\"M\", \"L\", \"L\", \"L\", \"Z\"], \"id\": \"el121244595704160\", \"dasharray\": \"none\", \"alpha\": 1, \"facecolor\": \"#17BECF\", \"edgecolor\": \"none\", \"edgewidth\": 1.0, \"zorder\": 1}, {\"data\": \"data11\", \"xindex\": 0, \"yindex\": 1, \"coordinates\": \"data\", \"pathcodes\": [\"M\", \"L\", \"L\", \"L\", \"Z\"], \"id\": \"el121244867681024\", \"dasharray\": \"none\", \"alpha\": 1, \"facecolor\": \"#1F77B4\", \"edgecolor\": \"none\", \"edgewidth\": 1.0, \"zorder\": 1}], \"markers\": [], \"texts\": [{\"text\": \"Rank H: Year Performance (%) per Sector\", \"position\": [0.5, 1.0154672810614422], \"coordinates\": \"axes\", \"h_anchor\": \"middle\", \"v_baseline\": \"auto\", \"rotation\": -0.0, \"fontsize\": 12.0, \"color\": \"#000000\", \"alpha\": 1, \"zorder\": 3, \"id\": \"el121244708524888\"}], \"collections\": [], \"images\": [], \"sharex\": [], \"sharey\": []}], \"data\": {\"data01\": [[-0.25, 0.0], [0.25, 0.0], [0.25, 0.3649], [-0.25, 0.3649]], \"data02\": [[0.75, 0.0], [1.25, 0.0], [1.25, 0.0782], [0.75, 0.0782]], \"data03\": [[1.75, 0.0], [2.25, 0.0], [2.25, -0.1119], [1.75, -0.1119]], \"data04\": [[2.75, 0.0], [3.25, 0.0], [3.25, 0.3883], [2.75, 0.3883]], \"data05\": [[3.75, 0.0], [4.25, 0.0], [4.25, 0.1266], [3.75, 0.1266]], \"data06\": [[4.75, 0.0], [5.25, 0.0], [5.25, 0.3018], [4.75, 0.3018]], \"data07\": [[5.75, 0.0], [6.25, 0.0], [6.25, 0.6934], [5.75, 0.6934]], \"data08\": [[6.75, 0.0], [7.25, 0.0], [7.25, 0.1869], [6.75, 0.1869]], \"data09\": [[7.75, 0.0], [8.25, 0.0], [8.25, 0.0], [7.75, 0.0]], \"data10\": [[8.75, 0.0], [9.25, 0.0], [9.25, -0.0091], [8.75, -0.0091]], \"data11\": [[9.75, 0.0], [10.25, 0.0], [10.25, 0.1494], [9.75, 0.1494]]}, \"id\": \"el121244595797968\", \"plugins\": [{\"type\": \"reset\"}, {\"type\": \"zoom\", \"button\": true, \"enabled\": false}, {\"type\": \"boxzoom\", \"button\": true, \"enabled\": false}]});\n",
       "      });\n",
       "    });\n",
       "}else{\n",
       "    // require.js not available: dynamically load d3 & mpld3\n",
       "    mpld3_load_lib(\"https://mpld3.github.io/js/d3.v3.min.js\", function(){\n",
       "         mpld3_load_lib(\"https://mpld3.github.io/js/mpld3.v0.3.js\", function(){\n",
       "                 \n",
       "                 mpld3.draw_figure(\"fig_el1212445957979685854681460\", {\"width\": 864.0, \"height\": 576.0, \"axes\": [{\"bbox\": [0.04866898148148149, 0.2800075954861111, 0.9347800925925926, 0.6734646267361112], \"xlim\": [-0.5, 10.5], \"ylim\": [-0.152165, 0.733665], \"xdomain\": [-0.5, 10.5], \"ydomain\": [-0.152165, 0.733665], \"xscale\": \"linear\", \"yscale\": \"linear\", \"axes\": [{\"position\": \"bottom\", \"nticks\": 11, \"tickvalues\": [0, 1, 2, 3, 4, 5, 6, 7, 8, 9, 10], \"tickformat\": [\"Consumer Discretionary\", \"Consumer Staples\", \"Energy\", \"Financials\", \"Health Care\", \"Industrials\", \"Information Technology\", \"Materials\", \"Real Estate\", \"Telecommunication Services\", \"Utilities\"], \"scale\": \"linear\", \"fontsize\": 10.0, \"grid\": {\"gridOn\": true, \"color\": \"#B0B0B0\", \"dasharray\": \"none\", \"alpha\": 1.0}, \"visible\": true}, {\"position\": \"left\", \"nticks\": 11, \"tickvalues\": null, \"tickformat\": null, \"scale\": \"linear\", \"fontsize\": 10.0, \"grid\": {\"gridOn\": true, \"color\": \"#B0B0B0\", \"dasharray\": \"none\", \"alpha\": 1.0}, \"visible\": true}], \"axesbg\": \"#FFFFFF\", \"axesbgalpha\": null, \"zoomable\": true, \"id\": \"el121244675524200\", \"lines\": [], \"paths\": [{\"data\": \"data01\", \"xindex\": 0, \"yindex\": 1, \"coordinates\": \"data\", \"pathcodes\": [\"M\", \"L\", \"L\", \"L\", \"Z\"], \"id\": \"el121244867274008\", \"dasharray\": \"none\", \"alpha\": 1, \"facecolor\": \"#1F77B4\", \"edgecolor\": \"none\", \"edgewidth\": 1.0, \"zorder\": 1}, {\"data\": \"data02\", \"xindex\": 0, \"yindex\": 1, \"coordinates\": \"data\", \"pathcodes\": [\"M\", \"L\", \"L\", \"L\", \"Z\"], \"id\": \"el121244595903736\", \"dasharray\": \"none\", \"alpha\": 1, \"facecolor\": \"#FF7F0E\", \"edgecolor\": \"none\", \"edgewidth\": 1.0, \"zorder\": 1}, {\"data\": \"data03\", \"xindex\": 0, \"yindex\": 1, \"coordinates\": \"data\", \"pathcodes\": [\"M\", \"L\", \"L\", \"L\", \"Z\"], \"id\": \"el121244595901888\", \"dasharray\": \"none\", \"alpha\": 1, \"facecolor\": \"#2CA02C\", \"edgecolor\": \"none\", \"edgewidth\": 1.0, \"zorder\": 1}, {\"data\": \"data04\", \"xindex\": 0, \"yindex\": 1, \"coordinates\": \"data\", \"pathcodes\": [\"M\", \"L\", \"L\", \"L\", \"Z\"], \"id\": \"el121244595901720\", \"dasharray\": \"none\", \"alpha\": 1, \"facecolor\": \"#D62728\", \"edgecolor\": \"none\", \"edgewidth\": 1.0, \"zorder\": 1}, {\"data\": \"data05\", \"xindex\": 0, \"yindex\": 1, \"coordinates\": \"data\", \"pathcodes\": [\"M\", \"L\", \"L\", \"L\", \"Z\"], \"id\": \"el121244595901944\", \"dasharray\": \"none\", \"alpha\": 1, \"facecolor\": \"#9467BD\", \"edgecolor\": \"none\", \"edgewidth\": 1.0, \"zorder\": 1}, {\"data\": \"data06\", \"xindex\": 0, \"yindex\": 1, \"coordinates\": \"data\", \"pathcodes\": [\"M\", \"L\", \"L\", \"L\", \"Z\"], \"id\": \"el121244595904016\", \"dasharray\": \"none\", \"alpha\": 1, \"facecolor\": \"#8C564B\", \"edgecolor\": \"none\", \"edgewidth\": 1.0, \"zorder\": 1}, {\"data\": \"data07\", \"xindex\": 0, \"yindex\": 1, \"coordinates\": \"data\", \"pathcodes\": [\"M\", \"L\", \"L\", \"L\", \"Z\"], \"id\": \"el121244595706960\", \"dasharray\": \"none\", \"alpha\": 1, \"facecolor\": \"#E377C2\", \"edgecolor\": \"none\", \"edgewidth\": 1.0, \"zorder\": 1}, {\"data\": \"data08\", \"xindex\": 0, \"yindex\": 1, \"coordinates\": \"data\", \"pathcodes\": [\"M\", \"L\", \"L\", \"L\", \"Z\"], \"id\": \"el121244595705280\", \"dasharray\": \"none\", \"alpha\": 1, \"facecolor\": \"#7F7F7F\", \"edgecolor\": \"none\", \"edgewidth\": 1.0, \"zorder\": 1}, {\"data\": \"data09\", \"xindex\": 0, \"yindex\": 1, \"coordinates\": \"data\", \"pathcodes\": [\"M\", \"L\", \"L\", \"L\", \"Z\"], \"id\": \"el121244595706288\", \"dasharray\": \"none\", \"alpha\": 1, \"facecolor\": \"#BCBD22\", \"edgecolor\": \"none\", \"edgewidth\": 1.0, \"zorder\": 1}, {\"data\": \"data10\", \"xindex\": 0, \"yindex\": 1, \"coordinates\": \"data\", \"pathcodes\": [\"M\", \"L\", \"L\", \"L\", \"Z\"], \"id\": \"el121244595704160\", \"dasharray\": \"none\", \"alpha\": 1, \"facecolor\": \"#17BECF\", \"edgecolor\": \"none\", \"edgewidth\": 1.0, \"zorder\": 1}, {\"data\": \"data11\", \"xindex\": 0, \"yindex\": 1, \"coordinates\": \"data\", \"pathcodes\": [\"M\", \"L\", \"L\", \"L\", \"Z\"], \"id\": \"el121244867681024\", \"dasharray\": \"none\", \"alpha\": 1, \"facecolor\": \"#1F77B4\", \"edgecolor\": \"none\", \"edgewidth\": 1.0, \"zorder\": 1}], \"markers\": [], \"texts\": [{\"text\": \"Rank H: Year Performance (%) per Sector\", \"position\": [0.5, 1.0154672810614422], \"coordinates\": \"axes\", \"h_anchor\": \"middle\", \"v_baseline\": \"auto\", \"rotation\": -0.0, \"fontsize\": 12.0, \"color\": \"#000000\", \"alpha\": 1, \"zorder\": 3, \"id\": \"el121244708524888\"}], \"collections\": [], \"images\": [], \"sharex\": [], \"sharey\": []}], \"data\": {\"data01\": [[-0.25, 0.0], [0.25, 0.0], [0.25, 0.3649], [-0.25, 0.3649]], \"data02\": [[0.75, 0.0], [1.25, 0.0], [1.25, 0.0782], [0.75, 0.0782]], \"data03\": [[1.75, 0.0], [2.25, 0.0], [2.25, -0.1119], [1.75, -0.1119]], \"data04\": [[2.75, 0.0], [3.25, 0.0], [3.25, 0.3883], [2.75, 0.3883]], \"data05\": [[3.75, 0.0], [4.25, 0.0], [4.25, 0.1266], [3.75, 0.1266]], \"data06\": [[4.75, 0.0], [5.25, 0.0], [5.25, 0.3018], [4.75, 0.3018]], \"data07\": [[5.75, 0.0], [6.25, 0.0], [6.25, 0.6934], [5.75, 0.6934]], \"data08\": [[6.75, 0.0], [7.25, 0.0], [7.25, 0.1869], [6.75, 0.1869]], \"data09\": [[7.75, 0.0], [8.25, 0.0], [8.25, 0.0], [7.75, 0.0]], \"data10\": [[8.75, 0.0], [9.25, 0.0], [9.25, -0.0091], [8.75, -0.0091]], \"data11\": [[9.75, 0.0], [10.25, 0.0], [10.25, 0.1494], [9.75, 0.1494]]}, \"id\": \"el121244595797968\", \"plugins\": [{\"type\": \"reset\"}, {\"type\": \"zoom\", \"button\": true, \"enabled\": false}, {\"type\": \"boxzoom\", \"button\": true, \"enabled\": false}]});\n",
       "            })\n",
       "         });\n",
       "}\n",
       "</script>"
      ],
      "text/plain": [
       "<IPython.core.display.HTML object>"
      ]
     },
     "execution_count": 38,
     "metadata": {},
     "output_type": "execute_result"
    },
    {
     "name": "stdout",
     "output_type": "stream",
     "text": [
      "Rank I: Year Performance\n"
     ]
    },
    {
     "data": {
      "text/plain": [
       "<matplotlib.axes._subplots.AxesSubplot at 0x121ebc630>"
      ]
     },
     "execution_count": 38,
     "metadata": {},
     "output_type": "execute_result"
    },
    {
     "data": {
      "text/plain": [
       "Text(0.5,1,'Rank I: Year Performance (%) per Sector')"
      ]
     },
     "execution_count": 38,
     "metadata": {},
     "output_type": "execute_result"
    },
    {
     "data": {
      "text/html": [
       "\n",
       "\n",
       "<style>\n",
       "\n",
       "</style>\n",
       "\n",
       "<div id=\"fig_el121244595903288639224806\"></div>\n",
       "<script>\n",
       "function mpld3_load_lib(url, callback){\n",
       "  var s = document.createElement('script');\n",
       "  s.src = url;\n",
       "  s.async = true;\n",
       "  s.onreadystatechange = s.onload = callback;\n",
       "  s.onerror = function(){console.warn(\"failed to load library \" + url);};\n",
       "  document.getElementsByTagName(\"head\")[0].appendChild(s);\n",
       "}\n",
       "\n",
       "if(typeof(mpld3) !== \"undefined\" && mpld3._mpld3IsLoaded){\n",
       "   // already loaded: just create the figure\n",
       "   !function(mpld3){\n",
       "       \n",
       "       mpld3.draw_figure(\"fig_el121244595903288639224806\", {\"width\": 864.0, \"height\": 576.0, \"axes\": [{\"bbox\": [0.03912037037037038, 0.2800075954861111, 0.9443287037037037, 0.6734646267361112], \"xlim\": [-0.5, 10.5], \"ylim\": [-0.147355, 1.561055], \"xdomain\": [-0.5, 10.5], \"ydomain\": [-0.147355, 1.561055], \"xscale\": \"linear\", \"yscale\": \"linear\", \"axes\": [{\"position\": \"bottom\", \"nticks\": 11, \"tickvalues\": [0, 1, 2, 3, 4, 5, 6, 7, 8, 9, 10], \"tickformat\": [\"Consumer Discretionary\", \"Consumer Staples\", \"Energy\", \"Financials\", \"Health Care\", \"Industrials\", \"Information Technology\", \"Materials\", \"Real Estate\", \"Telecommunication Services\", \"Utilities\"], \"scale\": \"linear\", \"fontsize\": 10.0, \"grid\": {\"gridOn\": true, \"color\": \"#B0B0B0\", \"dasharray\": \"none\", \"alpha\": 1.0}, \"visible\": true}, {\"position\": \"left\", \"nticks\": 10, \"tickvalues\": null, \"tickformat\": null, \"scale\": \"linear\", \"fontsize\": 10.0, \"grid\": {\"gridOn\": true, \"color\": \"#B0B0B0\", \"dasharray\": \"none\", \"alpha\": 1.0}, \"visible\": true}], \"axesbg\": \"#FFFFFF\", \"axesbgalpha\": null, \"zoomable\": true, \"id\": \"el121244864067120\", \"lines\": [], \"paths\": [{\"data\": \"data01\", \"xindex\": 0, \"yindex\": 1, \"coordinates\": \"data\", \"pathcodes\": [\"M\", \"L\", \"L\", \"L\", \"Z\"], \"id\": \"el121244873974560\", \"dasharray\": \"none\", \"alpha\": 1, \"facecolor\": \"#1F77B4\", \"edgecolor\": \"none\", \"edgewidth\": 1.0, \"zorder\": 1}, {\"data\": \"data02\", \"xindex\": 0, \"yindex\": 1, \"coordinates\": \"data\", \"pathcodes\": [\"M\", \"L\", \"L\", \"L\", \"Z\"], \"id\": \"el121244833520944\", \"dasharray\": \"none\", \"alpha\": 1, \"facecolor\": \"#FF7F0E\", \"edgecolor\": \"none\", \"edgewidth\": 1.0, \"zorder\": 1}, {\"data\": \"data03\", \"xindex\": 0, \"yindex\": 1, \"coordinates\": \"data\", \"pathcodes\": [\"M\", \"L\", \"L\", \"L\", \"Z\"], \"id\": \"el121244833521448\", \"dasharray\": \"none\", \"alpha\": 1, \"facecolor\": \"#2CA02C\", \"edgecolor\": \"none\", \"edgewidth\": 1.0, \"zorder\": 1}, {\"data\": \"data04\", \"xindex\": 0, \"yindex\": 1, \"coordinates\": \"data\", \"pathcodes\": [\"M\", \"L\", \"L\", \"L\", \"Z\"], \"id\": \"el121244833521168\", \"dasharray\": \"none\", \"alpha\": 1, \"facecolor\": \"#D62728\", \"edgecolor\": \"none\", \"edgewidth\": 1.0, \"zorder\": 1}, {\"data\": \"data05\", \"xindex\": 0, \"yindex\": 1, \"coordinates\": \"data\", \"pathcodes\": [\"M\", \"L\", \"L\", \"L\", \"Z\"], \"id\": \"el121244833518312\", \"dasharray\": \"none\", \"alpha\": 1, \"facecolor\": \"#9467BD\", \"edgecolor\": \"none\", \"edgewidth\": 1.0, \"zorder\": 1}, {\"data\": \"data06\", \"xindex\": 0, \"yindex\": 1, \"coordinates\": \"data\", \"pathcodes\": [\"M\", \"L\", \"L\", \"L\", \"Z\"], \"id\": \"el121244833518928\", \"dasharray\": \"none\", \"alpha\": 1, \"facecolor\": \"#8C564B\", \"edgecolor\": \"none\", \"edgewidth\": 1.0, \"zorder\": 1}, {\"data\": \"data07\", \"xindex\": 0, \"yindex\": 1, \"coordinates\": \"data\", \"pathcodes\": [\"M\", \"L\", \"L\", \"L\", \"Z\"], \"id\": \"el121244595909632\", \"dasharray\": \"none\", \"alpha\": 1, \"facecolor\": \"#E377C2\", \"edgecolor\": \"none\", \"edgewidth\": 1.0, \"zorder\": 1}, {\"data\": \"data08\", \"xindex\": 0, \"yindex\": 1, \"coordinates\": \"data\", \"pathcodes\": [\"M\", \"L\", \"L\", \"L\", \"Z\"], \"id\": \"el121244595912320\", \"dasharray\": \"none\", \"alpha\": 1, \"facecolor\": \"#7F7F7F\", \"edgecolor\": \"none\", \"edgewidth\": 1.0, \"zorder\": 1}, {\"data\": \"data09\", \"xindex\": 0, \"yindex\": 1, \"coordinates\": \"data\", \"pathcodes\": [\"M\", \"L\", \"L\", \"L\", \"Z\"], \"id\": \"el121244595912488\", \"dasharray\": \"none\", \"alpha\": 1, \"facecolor\": \"#BCBD22\", \"edgecolor\": \"none\", \"edgewidth\": 1.0, \"zorder\": 1}, {\"data\": \"data10\", \"xindex\": 0, \"yindex\": 1, \"coordinates\": \"data\", \"pathcodes\": [\"M\", \"L\", \"L\", \"L\", \"Z\"], \"id\": \"el121244595909856\", \"dasharray\": \"none\", \"alpha\": 1, \"facecolor\": \"#17BECF\", \"edgecolor\": \"none\", \"edgewidth\": 1.0, \"zorder\": 1}, {\"data\": \"data11\", \"xindex\": 0, \"yindex\": 1, \"coordinates\": \"data\", \"pathcodes\": [\"M\", \"L\", \"L\", \"L\", \"Z\"], \"id\": \"el121244833333320\", \"dasharray\": \"none\", \"alpha\": 1, \"facecolor\": \"#1F77B4\", \"edgecolor\": \"none\", \"edgewidth\": 1.0, \"zorder\": 1}], \"markers\": [], \"texts\": [{\"text\": \"Rank I: Year Performance (%) per Sector\", \"position\": [0.49999999999999994, 1.0154672810614422], \"coordinates\": \"axes\", \"h_anchor\": \"middle\", \"v_baseline\": \"auto\", \"rotation\": -0.0, \"fontsize\": 12.0, \"color\": \"#000000\", \"alpha\": 1, \"zorder\": 3, \"id\": \"el121244596289096\"}], \"collections\": [], \"images\": [], \"sharex\": [], \"sharey\": []}], \"data\": {\"data01\": [[-0.25, 0.0], [0.25, 0.0], [0.25, 0.9419], [-0.25, 0.9419]], \"data02\": [[0.75, 0.0], [1.25, 0.0], [1.25, 0.303], [0.75, 0.303]], \"data03\": [[1.75, 0.0], [2.25, 0.0], [2.25, -0.0438], [1.75, -0.0438]], \"data04\": [[2.75, 0.0], [3.25, 0.0], [3.25, 0.8484], [2.75, 0.8484]], \"data05\": [[3.75, 0.0], [4.25, 0.0], [4.25, 0.7404000000000001], [3.75, 0.7404000000000001]], \"data06\": [[4.75, 0.0], [5.25, 0.0], [5.25, 0.7783], [4.75, 0.7783]], \"data07\": [[5.75, 0.0], [6.25, 0.0], [6.25, 1.4834], [5.75, 1.4834]], \"data08\": [[6.75, 0.0], [7.25, 0.0], [7.25, 0.5598], [6.75, 0.5598]], \"data09\": [[7.75, 0.0], [8.25, 0.0], [8.25, 0.0], [7.75, 0.0]], \"data10\": [[8.75, 0.0], [9.25, 0.0], [9.25, -0.0697], [8.75, -0.0697]], \"data11\": [[9.75, 0.0], [10.25, 0.0], [10.25, 0.26530000000000004], [9.75, 0.26530000000000004]]}, \"id\": \"el121244595903288\", \"plugins\": [{\"type\": \"reset\"}, {\"type\": \"zoom\", \"button\": true, \"enabled\": false}, {\"type\": \"boxzoom\", \"button\": true, \"enabled\": false}]});\n",
       "   }(mpld3);\n",
       "}else if(typeof define === \"function\" && define.amd){\n",
       "   // require.js is available: use it to load d3/mpld3\n",
       "   require.config({paths: {d3: \"https://mpld3.github.io/js/d3.v3.min\"}});\n",
       "   require([\"d3\"], function(d3){\n",
       "      window.d3 = d3;\n",
       "      mpld3_load_lib(\"https://mpld3.github.io/js/mpld3.v0.3.js\", function(){\n",
       "         \n",
       "         mpld3.draw_figure(\"fig_el121244595903288639224806\", {\"width\": 864.0, \"height\": 576.0, \"axes\": [{\"bbox\": [0.03912037037037038, 0.2800075954861111, 0.9443287037037037, 0.6734646267361112], \"xlim\": [-0.5, 10.5], \"ylim\": [-0.147355, 1.561055], \"xdomain\": [-0.5, 10.5], \"ydomain\": [-0.147355, 1.561055], \"xscale\": \"linear\", \"yscale\": \"linear\", \"axes\": [{\"position\": \"bottom\", \"nticks\": 11, \"tickvalues\": [0, 1, 2, 3, 4, 5, 6, 7, 8, 9, 10], \"tickformat\": [\"Consumer Discretionary\", \"Consumer Staples\", \"Energy\", \"Financials\", \"Health Care\", \"Industrials\", \"Information Technology\", \"Materials\", \"Real Estate\", \"Telecommunication Services\", \"Utilities\"], \"scale\": \"linear\", \"fontsize\": 10.0, \"grid\": {\"gridOn\": true, \"color\": \"#B0B0B0\", \"dasharray\": \"none\", \"alpha\": 1.0}, \"visible\": true}, {\"position\": \"left\", \"nticks\": 10, \"tickvalues\": null, \"tickformat\": null, \"scale\": \"linear\", \"fontsize\": 10.0, \"grid\": {\"gridOn\": true, \"color\": \"#B0B0B0\", \"dasharray\": \"none\", \"alpha\": 1.0}, \"visible\": true}], \"axesbg\": \"#FFFFFF\", \"axesbgalpha\": null, \"zoomable\": true, \"id\": \"el121244864067120\", \"lines\": [], \"paths\": [{\"data\": \"data01\", \"xindex\": 0, \"yindex\": 1, \"coordinates\": \"data\", \"pathcodes\": [\"M\", \"L\", \"L\", \"L\", \"Z\"], \"id\": \"el121244873974560\", \"dasharray\": \"none\", \"alpha\": 1, \"facecolor\": \"#1F77B4\", \"edgecolor\": \"none\", \"edgewidth\": 1.0, \"zorder\": 1}, {\"data\": \"data02\", \"xindex\": 0, \"yindex\": 1, \"coordinates\": \"data\", \"pathcodes\": [\"M\", \"L\", \"L\", \"L\", \"Z\"], \"id\": \"el121244833520944\", \"dasharray\": \"none\", \"alpha\": 1, \"facecolor\": \"#FF7F0E\", \"edgecolor\": \"none\", \"edgewidth\": 1.0, \"zorder\": 1}, {\"data\": \"data03\", \"xindex\": 0, \"yindex\": 1, \"coordinates\": \"data\", \"pathcodes\": [\"M\", \"L\", \"L\", \"L\", \"Z\"], \"id\": \"el121244833521448\", \"dasharray\": \"none\", \"alpha\": 1, \"facecolor\": \"#2CA02C\", \"edgecolor\": \"none\", \"edgewidth\": 1.0, \"zorder\": 1}, {\"data\": \"data04\", \"xindex\": 0, \"yindex\": 1, \"coordinates\": \"data\", \"pathcodes\": [\"M\", \"L\", \"L\", \"L\", \"Z\"], \"id\": \"el121244833521168\", \"dasharray\": \"none\", \"alpha\": 1, \"facecolor\": \"#D62728\", \"edgecolor\": \"none\", \"edgewidth\": 1.0, \"zorder\": 1}, {\"data\": \"data05\", \"xindex\": 0, \"yindex\": 1, \"coordinates\": \"data\", \"pathcodes\": [\"M\", \"L\", \"L\", \"L\", \"Z\"], \"id\": \"el121244833518312\", \"dasharray\": \"none\", \"alpha\": 1, \"facecolor\": \"#9467BD\", \"edgecolor\": \"none\", \"edgewidth\": 1.0, \"zorder\": 1}, {\"data\": \"data06\", \"xindex\": 0, \"yindex\": 1, \"coordinates\": \"data\", \"pathcodes\": [\"M\", \"L\", \"L\", \"L\", \"Z\"], \"id\": \"el121244833518928\", \"dasharray\": \"none\", \"alpha\": 1, \"facecolor\": \"#8C564B\", \"edgecolor\": \"none\", \"edgewidth\": 1.0, \"zorder\": 1}, {\"data\": \"data07\", \"xindex\": 0, \"yindex\": 1, \"coordinates\": \"data\", \"pathcodes\": [\"M\", \"L\", \"L\", \"L\", \"Z\"], \"id\": \"el121244595909632\", \"dasharray\": \"none\", \"alpha\": 1, \"facecolor\": \"#E377C2\", \"edgecolor\": \"none\", \"edgewidth\": 1.0, \"zorder\": 1}, {\"data\": \"data08\", \"xindex\": 0, \"yindex\": 1, \"coordinates\": \"data\", \"pathcodes\": [\"M\", \"L\", \"L\", \"L\", \"Z\"], \"id\": \"el121244595912320\", \"dasharray\": \"none\", \"alpha\": 1, \"facecolor\": \"#7F7F7F\", \"edgecolor\": \"none\", \"edgewidth\": 1.0, \"zorder\": 1}, {\"data\": \"data09\", \"xindex\": 0, \"yindex\": 1, \"coordinates\": \"data\", \"pathcodes\": [\"M\", \"L\", \"L\", \"L\", \"Z\"], \"id\": \"el121244595912488\", \"dasharray\": \"none\", \"alpha\": 1, \"facecolor\": \"#BCBD22\", \"edgecolor\": \"none\", \"edgewidth\": 1.0, \"zorder\": 1}, {\"data\": \"data10\", \"xindex\": 0, \"yindex\": 1, \"coordinates\": \"data\", \"pathcodes\": [\"M\", \"L\", \"L\", \"L\", \"Z\"], \"id\": \"el121244595909856\", \"dasharray\": \"none\", \"alpha\": 1, \"facecolor\": \"#17BECF\", \"edgecolor\": \"none\", \"edgewidth\": 1.0, \"zorder\": 1}, {\"data\": \"data11\", \"xindex\": 0, \"yindex\": 1, \"coordinates\": \"data\", \"pathcodes\": [\"M\", \"L\", \"L\", \"L\", \"Z\"], \"id\": \"el121244833333320\", \"dasharray\": \"none\", \"alpha\": 1, \"facecolor\": \"#1F77B4\", \"edgecolor\": \"none\", \"edgewidth\": 1.0, \"zorder\": 1}], \"markers\": [], \"texts\": [{\"text\": \"Rank I: Year Performance (%) per Sector\", \"position\": [0.49999999999999994, 1.0154672810614422], \"coordinates\": \"axes\", \"h_anchor\": \"middle\", \"v_baseline\": \"auto\", \"rotation\": -0.0, \"fontsize\": 12.0, \"color\": \"#000000\", \"alpha\": 1, \"zorder\": 3, \"id\": \"el121244596289096\"}], \"collections\": [], \"images\": [], \"sharex\": [], \"sharey\": []}], \"data\": {\"data01\": [[-0.25, 0.0], [0.25, 0.0], [0.25, 0.9419], [-0.25, 0.9419]], \"data02\": [[0.75, 0.0], [1.25, 0.0], [1.25, 0.303], [0.75, 0.303]], \"data03\": [[1.75, 0.0], [2.25, 0.0], [2.25, -0.0438], [1.75, -0.0438]], \"data04\": [[2.75, 0.0], [3.25, 0.0], [3.25, 0.8484], [2.75, 0.8484]], \"data05\": [[3.75, 0.0], [4.25, 0.0], [4.25, 0.7404000000000001], [3.75, 0.7404000000000001]], \"data06\": [[4.75, 0.0], [5.25, 0.0], [5.25, 0.7783], [4.75, 0.7783]], \"data07\": [[5.75, 0.0], [6.25, 0.0], [6.25, 1.4834], [5.75, 1.4834]], \"data08\": [[6.75, 0.0], [7.25, 0.0], [7.25, 0.5598], [6.75, 0.5598]], \"data09\": [[7.75, 0.0], [8.25, 0.0], [8.25, 0.0], [7.75, 0.0]], \"data10\": [[8.75, 0.0], [9.25, 0.0], [9.25, -0.0697], [8.75, -0.0697]], \"data11\": [[9.75, 0.0], [10.25, 0.0], [10.25, 0.26530000000000004], [9.75, 0.26530000000000004]]}, \"id\": \"el121244595903288\", \"plugins\": [{\"type\": \"reset\"}, {\"type\": \"zoom\", \"button\": true, \"enabled\": false}, {\"type\": \"boxzoom\", \"button\": true, \"enabled\": false}]});\n",
       "      });\n",
       "    });\n",
       "}else{\n",
       "    // require.js not available: dynamically load d3 & mpld3\n",
       "    mpld3_load_lib(\"https://mpld3.github.io/js/d3.v3.min.js\", function(){\n",
       "         mpld3_load_lib(\"https://mpld3.github.io/js/mpld3.v0.3.js\", function(){\n",
       "                 \n",
       "                 mpld3.draw_figure(\"fig_el121244595903288639224806\", {\"width\": 864.0, \"height\": 576.0, \"axes\": [{\"bbox\": [0.03912037037037038, 0.2800075954861111, 0.9443287037037037, 0.6734646267361112], \"xlim\": [-0.5, 10.5], \"ylim\": [-0.147355, 1.561055], \"xdomain\": [-0.5, 10.5], \"ydomain\": [-0.147355, 1.561055], \"xscale\": \"linear\", \"yscale\": \"linear\", \"axes\": [{\"position\": \"bottom\", \"nticks\": 11, \"tickvalues\": [0, 1, 2, 3, 4, 5, 6, 7, 8, 9, 10], \"tickformat\": [\"Consumer Discretionary\", \"Consumer Staples\", \"Energy\", \"Financials\", \"Health Care\", \"Industrials\", \"Information Technology\", \"Materials\", \"Real Estate\", \"Telecommunication Services\", \"Utilities\"], \"scale\": \"linear\", \"fontsize\": 10.0, \"grid\": {\"gridOn\": true, \"color\": \"#B0B0B0\", \"dasharray\": \"none\", \"alpha\": 1.0}, \"visible\": true}, {\"position\": \"left\", \"nticks\": 10, \"tickvalues\": null, \"tickformat\": null, \"scale\": \"linear\", \"fontsize\": 10.0, \"grid\": {\"gridOn\": true, \"color\": \"#B0B0B0\", \"dasharray\": \"none\", \"alpha\": 1.0}, \"visible\": true}], \"axesbg\": \"#FFFFFF\", \"axesbgalpha\": null, \"zoomable\": true, \"id\": \"el121244864067120\", \"lines\": [], \"paths\": [{\"data\": \"data01\", \"xindex\": 0, \"yindex\": 1, \"coordinates\": \"data\", \"pathcodes\": [\"M\", \"L\", \"L\", \"L\", \"Z\"], \"id\": \"el121244873974560\", \"dasharray\": \"none\", \"alpha\": 1, \"facecolor\": \"#1F77B4\", \"edgecolor\": \"none\", \"edgewidth\": 1.0, \"zorder\": 1}, {\"data\": \"data02\", \"xindex\": 0, \"yindex\": 1, \"coordinates\": \"data\", \"pathcodes\": [\"M\", \"L\", \"L\", \"L\", \"Z\"], \"id\": \"el121244833520944\", \"dasharray\": \"none\", \"alpha\": 1, \"facecolor\": \"#FF7F0E\", \"edgecolor\": \"none\", \"edgewidth\": 1.0, \"zorder\": 1}, {\"data\": \"data03\", \"xindex\": 0, \"yindex\": 1, \"coordinates\": \"data\", \"pathcodes\": [\"M\", \"L\", \"L\", \"L\", \"Z\"], \"id\": \"el121244833521448\", \"dasharray\": \"none\", \"alpha\": 1, \"facecolor\": \"#2CA02C\", \"edgecolor\": \"none\", \"edgewidth\": 1.0, \"zorder\": 1}, {\"data\": \"data04\", \"xindex\": 0, \"yindex\": 1, \"coordinates\": \"data\", \"pathcodes\": [\"M\", \"L\", \"L\", \"L\", \"Z\"], \"id\": \"el121244833521168\", \"dasharray\": \"none\", \"alpha\": 1, \"facecolor\": \"#D62728\", \"edgecolor\": \"none\", \"edgewidth\": 1.0, \"zorder\": 1}, {\"data\": \"data05\", \"xindex\": 0, \"yindex\": 1, \"coordinates\": \"data\", \"pathcodes\": [\"M\", \"L\", \"L\", \"L\", \"Z\"], \"id\": \"el121244833518312\", \"dasharray\": \"none\", \"alpha\": 1, \"facecolor\": \"#9467BD\", \"edgecolor\": \"none\", \"edgewidth\": 1.0, \"zorder\": 1}, {\"data\": \"data06\", \"xindex\": 0, \"yindex\": 1, \"coordinates\": \"data\", \"pathcodes\": [\"M\", \"L\", \"L\", \"L\", \"Z\"], \"id\": \"el121244833518928\", \"dasharray\": \"none\", \"alpha\": 1, \"facecolor\": \"#8C564B\", \"edgecolor\": \"none\", \"edgewidth\": 1.0, \"zorder\": 1}, {\"data\": \"data07\", \"xindex\": 0, \"yindex\": 1, \"coordinates\": \"data\", \"pathcodes\": [\"M\", \"L\", \"L\", \"L\", \"Z\"], \"id\": \"el121244595909632\", \"dasharray\": \"none\", \"alpha\": 1, \"facecolor\": \"#E377C2\", \"edgecolor\": \"none\", \"edgewidth\": 1.0, \"zorder\": 1}, {\"data\": \"data08\", \"xindex\": 0, \"yindex\": 1, \"coordinates\": \"data\", \"pathcodes\": [\"M\", \"L\", \"L\", \"L\", \"Z\"], \"id\": \"el121244595912320\", \"dasharray\": \"none\", \"alpha\": 1, \"facecolor\": \"#7F7F7F\", \"edgecolor\": \"none\", \"edgewidth\": 1.0, \"zorder\": 1}, {\"data\": \"data09\", \"xindex\": 0, \"yindex\": 1, \"coordinates\": \"data\", \"pathcodes\": [\"M\", \"L\", \"L\", \"L\", \"Z\"], \"id\": \"el121244595912488\", \"dasharray\": \"none\", \"alpha\": 1, \"facecolor\": \"#BCBD22\", \"edgecolor\": \"none\", \"edgewidth\": 1.0, \"zorder\": 1}, {\"data\": \"data10\", \"xindex\": 0, \"yindex\": 1, \"coordinates\": \"data\", \"pathcodes\": [\"M\", \"L\", \"L\", \"L\", \"Z\"], \"id\": \"el121244595909856\", \"dasharray\": \"none\", \"alpha\": 1, \"facecolor\": \"#17BECF\", \"edgecolor\": \"none\", \"edgewidth\": 1.0, \"zorder\": 1}, {\"data\": \"data11\", \"xindex\": 0, \"yindex\": 1, \"coordinates\": \"data\", \"pathcodes\": [\"M\", \"L\", \"L\", \"L\", \"Z\"], \"id\": \"el121244833333320\", \"dasharray\": \"none\", \"alpha\": 1, \"facecolor\": \"#1F77B4\", \"edgecolor\": \"none\", \"edgewidth\": 1.0, \"zorder\": 1}], \"markers\": [], \"texts\": [{\"text\": \"Rank I: Year Performance (%) per Sector\", \"position\": [0.49999999999999994, 1.0154672810614422], \"coordinates\": \"axes\", \"h_anchor\": \"middle\", \"v_baseline\": \"auto\", \"rotation\": -0.0, \"fontsize\": 12.0, \"color\": \"#000000\", \"alpha\": 1, \"zorder\": 3, \"id\": \"el121244596289096\"}], \"collections\": [], \"images\": [], \"sharex\": [], \"sharey\": []}], \"data\": {\"data01\": [[-0.25, 0.0], [0.25, 0.0], [0.25, 0.9419], [-0.25, 0.9419]], \"data02\": [[0.75, 0.0], [1.25, 0.0], [1.25, 0.303], [0.75, 0.303]], \"data03\": [[1.75, 0.0], [2.25, 0.0], [2.25, -0.0438], [1.75, -0.0438]], \"data04\": [[2.75, 0.0], [3.25, 0.0], [3.25, 0.8484], [2.75, 0.8484]], \"data05\": [[3.75, 0.0], [4.25, 0.0], [4.25, 0.7404000000000001], [3.75, 0.7404000000000001]], \"data06\": [[4.75, 0.0], [5.25, 0.0], [5.25, 0.7783], [4.75, 0.7783]], \"data07\": [[5.75, 0.0], [6.25, 0.0], [6.25, 1.4834], [5.75, 1.4834]], \"data08\": [[6.75, 0.0], [7.25, 0.0], [7.25, 0.5598], [6.75, 0.5598]], \"data09\": [[7.75, 0.0], [8.25, 0.0], [8.25, 0.0], [7.75, 0.0]], \"data10\": [[8.75, 0.0], [9.25, 0.0], [9.25, -0.0697], [8.75, -0.0697]], \"data11\": [[9.75, 0.0], [10.25, 0.0], [10.25, 0.26530000000000004], [9.75, 0.26530000000000004]]}, \"id\": \"el121244595903288\", \"plugins\": [{\"type\": \"reset\"}, {\"type\": \"zoom\", \"button\": true, \"enabled\": false}, {\"type\": \"boxzoom\", \"button\": true, \"enabled\": false}]});\n",
       "            })\n",
       "         });\n",
       "}\n",
       "</script>"
      ],
      "text/plain": [
       "<IPython.core.display.HTML object>"
      ]
     },
     "execution_count": 38,
     "metadata": {},
     "output_type": "execute_result"
    }
   ],
   "source": [
    "\n",
    "for idx in range(len(data.columns)-1):\n",
    "    column = data.columns[idx]\n",
    "    print(column)\n",
    "    data[column].plot(kind='bar')\n",
    "    plt.title(column + ' (%) per Sector')\n",
    "    plt.tight_layout()\n",
    "    plt.grid()\n",
    "    plt.show();"
   ]
  }
 ],
 "metadata": {
  "kernelspec": {
   "display_name": "Python 3",
   "language": "python",
   "name": "python3"
  },
  "language_info": {
   "codemirror_mode": {
    "name": "ipython",
    "version": 3
   },
   "file_extension": ".py",
   "mimetype": "text/x-python",
   "name": "python",
   "nbconvert_exporter": "python",
   "pygments_lexer": "ipython3",
   "version": "3.6.2"
  }
 },
 "nbformat": 4,
 "nbformat_minor": 2
}
