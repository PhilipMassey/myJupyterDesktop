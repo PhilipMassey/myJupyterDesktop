{
 "cells": [
  {
   "cell_type": "code",
   "execution_count": 3,
   "metadata": {},
   "outputs": [
    {
     "data": {
      "text/html": [
       "<div>\n",
       "<style scoped>\n",
       "    .dataframe tbody tr th:only-of-type {\n",
       "        vertical-align: middle;\n",
       "    }\n",
       "\n",
       "    .dataframe tbody tr th {\n",
       "        vertical-align: top;\n",
       "    }\n",
       "\n",
       "    .dataframe thead th {\n",
       "        text-align: right;\n",
       "    }\n",
       "</style>\n",
       "<table border=\"1\" class=\"dataframe\">\n",
       "  <thead>\n",
       "    <tr style=\"text-align: right;\">\n",
       "      <th></th>\n",
       "      <th>Close</th>\n",
       "      <th>High</th>\n",
       "      <th>Low</th>\n",
       "      <th>Open</th>\n",
       "      <th>Volume</th>\n",
       "    </tr>\n",
       "    <tr>\n",
       "      <th>Date</th>\n",
       "      <th></th>\n",
       "      <th></th>\n",
       "      <th></th>\n",
       "      <th></th>\n",
       "      <th></th>\n",
       "    </tr>\n",
       "  </thead>\n",
       "  <tbody>\n",
       "    <tr>\n",
       "      <th>2018-04-02</th>\n",
       "      <td>257.47</td>\n",
       "      <td>263.130</td>\n",
       "      <td>254.67</td>\n",
       "      <td>262.55</td>\n",
       "      <td>186286343</td>\n",
       "    </tr>\n",
       "    <tr>\n",
       "      <th>2018-04-03</th>\n",
       "      <td>260.77</td>\n",
       "      <td>261.310</td>\n",
       "      <td>256.84</td>\n",
       "      <td>258.87</td>\n",
       "      <td>119956861</td>\n",
       "    </tr>\n",
       "    <tr>\n",
       "      <th>2018-04-04</th>\n",
       "      <td>263.56</td>\n",
       "      <td>264.355</td>\n",
       "      <td>256.60</td>\n",
       "      <td>256.75</td>\n",
       "      <td>123715339</td>\n",
       "    </tr>\n",
       "    <tr>\n",
       "      <th>2018-04-05</th>\n",
       "      <td>265.64</td>\n",
       "      <td>266.640</td>\n",
       "      <td>264.32</td>\n",
       "      <td>265.55</td>\n",
       "      <td>82652618</td>\n",
       "    </tr>\n",
       "    <tr>\n",
       "      <th>2018-04-06</th>\n",
       "      <td>259.72</td>\n",
       "      <td>265.110</td>\n",
       "      <td>258.00</td>\n",
       "      <td>263.42</td>\n",
       "      <td>179521209</td>\n",
       "    </tr>\n",
       "  </tbody>\n",
       "</table>\n",
       "</div>"
      ],
      "text/plain": [
       "             Close     High     Low    Open     Volume\n",
       "Date                                                  \n",
       "2018-04-02  257.47  263.130  254.67  262.55  186286343\n",
       "2018-04-03  260.77  261.310  256.84  258.87  119956861\n",
       "2018-04-04  263.56  264.355  256.60  256.75  123715339\n",
       "2018-04-05  265.64  266.640  264.32  265.55   82652618\n",
       "2018-04-06  259.72  265.110  258.00  263.42  179521209"
      ]
     },
     "execution_count": 3,
     "metadata": {},
     "output_type": "execute_result"
    }
   ],
   "source": [
    "import pandas as pd\n",
    "import pandas_datareader as web\n",
    "import datetime\n",
    " \n",
    "start = datetime.datetime(2017,1,1)\n",
    "end = datetime.date.today()\n",
    "ticker = 'SPY'\n",
    "stocks = web.DataReader(ticker, \"morningstar\", start, end)\n",
    "stocks = stocks.loc[ticker] \n",
    "stocks.tail(5)\n",
    "\n",
    "#OR\n",
    "#quotes.index.get_level_values(1)\n",
    "\n"
   ]
  },
  {
   "cell_type": "code",
   "execution_count": 4,
   "metadata": {},
   "outputs": [
    {
     "data": {
      "image/png": "[encoded data removed]",
      "text/plain": [
       "<Figure size 864x576 with 1 Axes>"
      ]
     },
     "metadata": {},
     "output_type": "display_data"
    }
   ],
   "source": [
    "import matplotlib.pyplot as plt\n",
    "%matplotlib inline\n",
    "#%matplotlib notebook\n",
    "mydata.plot(figsize=(12,8));\n"
   ]
  },
  {
   "cell_type": "markdown",
   "metadata": {},
   "source": [
    "### Compare sources"
   ]
  },
  {
   "cell_type": "markdown",
   "metadata": {},
   "source": [
    "<pre>\n",
    "QQQ\n",
    "Nasdaq\n",
    "Date \tOpen \tHigh \tLow \tClose / Last \tVolume \n",
    "03/12/2018  173.65  174.48  173.28  174.08  37,517,520\n",
    "03/13/2018  174.8   175.21  171.26  171.71  54,338,070\n",
    "03/14/2018  172.58  172.74  170.93  171.68  40,426,260\n",
    "03/15/2018  171.83  172.53  170.9   171.53  28,755,610\n",
    "03/16/2018  171.78  172.2   170.93  171.02  30,710,620\n",
    "\n",
    "Morningstart Close \tHigh \tLow \tOpen \tVolume\n",
    "2018-03-12 \t174.08 \t174.48 \t173.2800 \t173.65 \t37634971\n",
    "2018-03-13 \t171.71 \t175.21 \t171.2666 \t174.80 \t55638925\n",
    "2018-03-14 \t171.68 \t172.74 \t170.9300 \t172.58 \t40536383\n",
    "2018-03-15 \t171.53 \t172.53 \t170.9000 \t171.83 \t28810366\n",
    "2018-03-16 \t171.02 \t172.20 \t170.9350 \t171.78 \t31176742\n",
    "\n",
    "\n",
    "Robinhood\n",
    "        close_price \thigh_price \t      \tlow_price \topen_price  \tvolume\n",
    "2018-03-12 \t173.7985 \t174.1979 \tFalse \t172.9998 \t173.3692 \treg \t37634971\n",
    "2018-03-13 \t171.4323 \t174.9267 \tFalse \t170.9897 \t174.5173 \treg \t55638925\n",
    "2018-03-14 \t171.4024 \t172.4607 \tFalse \t170.6536 \t172.3009 \treg \t40536383\n",
    "2018-03-15 \t171.2526 \t172.2510 \tFalse \t170.6236 \t171.5521 \treg \t28810366\n",
    "2018-03-16 \t170.7435 \t171.9215 \tFalse \t170.6586 \t171.5022 \treg \t31176742\n",
    "\n",
    "Alpha Vantage\n",
    "           1. open \t2. high \t3. low \t4. close \t5. volume\n",
    "2018-03-12 \t173.65 \t174.11 \t173.440 \t173.980 \t2915705.0\n",
    "2018-03-13 \t174.80 \t175.21 \t174.700 \t174.800 \t3524847.0\n",
    "2018-03-14 \t172.58 \t172.74 \t171.870 \t172.170 \t2965864.0\n",
    "2018-03-15 \t171.83 \t171.91 \t171.030 \t171.480 \t2611588.0\n",
    "2018-03-16 \t171.78 \t172.20 \t171.700 \t172.030 \t2532082.0\n",
    "</pre>"
   ]
  },
  {
   "cell_type": "code",
   "execution_count": null,
   "metadata": {},
   "outputs": [],
   "source": []
  }
 ],
 "metadata": {
  "kernelspec": {
   "display_name": "Python 3",
   "language": "python",
   "name": "python3"
  },
  "language_info": {
   "codemirror_mode": {
    "name": "ipython",
    "version": 3
   },
   "file_extension": ".py",
   "mimetype": "text/x-python",
   "name": "python",
   "nbconvert_exporter": "python",
   "pygments_lexer": "ipython3",
   "version": "3.6.2"
  }
 },
 "nbformat": 4,
 "nbformat_minor": 2
}
