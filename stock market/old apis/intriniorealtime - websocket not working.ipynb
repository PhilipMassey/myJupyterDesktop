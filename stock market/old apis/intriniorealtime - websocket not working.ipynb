{
 "cells": [
  {
   "cell_type": "markdown",
   "metadata": {},
   "source": [
    "https://github.com/intrinio/intrinio-realtime-python-sdk"
   ]
  },
  {
   "cell_type": "code",
   "execution_count": 1,
   "metadata": {},
   "outputs": [
    {
     "ename": "ModuleNotFoundError",
     "evalue": "No module named 'intriniorealtime'",
     "output_type": "error",
     "traceback": [
      "\u001b[0;31m---------------------------------------------------------------------------\u001b[0m",
      "\u001b[0;31mModuleNotFoundError\u001b[0m                       Traceback (most recent call last)",
      "\u001b[0;32m<ipython-input-1-3015d6c5fb77>\u001b[0m in \u001b[0;36m<module>\u001b[0;34m()\u001b[0m\n\u001b[0;32m----> 1\u001b[0;31m \u001b[0;32mfrom\u001b[0m \u001b[0mintriniorealtime\u001b[0m\u001b[0;34m.\u001b[0m\u001b[0mclient\u001b[0m \u001b[0;32mimport\u001b[0m \u001b[0mIntrinioRealtimeClient\u001b[0m\u001b[0;34m\u001b[0m\u001b[0m\n\u001b[0m\u001b[1;32m      2\u001b[0m \u001b[0;34m\u001b[0m\u001b[0m\n\u001b[1;32m      3\u001b[0m \u001b[0;32mdef\u001b[0m \u001b[0mon_quote\u001b[0m\u001b[0;34m(\u001b[0m\u001b[0mquote\u001b[0m\u001b[0;34m,\u001b[0m \u001b[0mbacklog\u001b[0m\u001b[0;34m)\u001b[0m\u001b[0;34m:\u001b[0m\u001b[0;34m\u001b[0m\u001b[0m\n\u001b[1;32m      4\u001b[0m     \u001b[0mprint\u001b[0m\u001b[0;34m(\u001b[0m\u001b[0;34m\"QUOTE: \"\u001b[0m \u001b[0;34m,\u001b[0m \u001b[0mquote\u001b[0m\u001b[0;34m,\u001b[0m \u001b[0;34m\"BACKLOG LENGTH: \"\u001b[0m\u001b[0;34m,\u001b[0m \u001b[0mbacklog\u001b[0m\u001b[0;34m)\u001b[0m\u001b[0;34m\u001b[0m\u001b[0m\n\u001b[1;32m      5\u001b[0m \u001b[0;34m\u001b[0m\u001b[0m\n",
      "\u001b[0;31mModuleNotFoundError\u001b[0m: No module named 'intriniorealtime'"
     ]
    }
   ],
   "source": [
    "from intriniorealtime.client import IntrinioRealtimeClient\n",
    "\n",
    "def on_quote(quote, backlog):\n",
    "    print(\"QUOTE: \" , quote, \"BACKLOG LENGTH: \", backlog)\n",
    "    \n",
    "options = {\n",
    "    'username': '685ddcad9bcc92317c8e10dde3f1ae8e',\n",
    "    'password': '27f811a8102f5d16c9a5cf243f49b583',\n",
    "    'provider': 'quodd',\n",
    "    'on_quote': on_quote\n",
    "}\n",
    "\n",
    "client = IntrinioRealtimeClient(options)\n",
    "client.join('VOO')\n",
    "client.connect()\n",
    "client.keep_alive()\n",
    "client.on_quote = on_quote"
   ]
  },
  {
   "cell_type": "code",
   "execution_count": 2,
   "metadata": {},
   "outputs": [
    {
     "name": "stderr",
     "output_type": "stream",
     "text": [
      "2018-04-18 09:44:30,415 - intrinio_realtime - INFO - Authentication successful!\n",
      "2018-04-18 09:44:30,829 - intrinio_realtime - INFO - Websocket opened!\n",
      "2018-04-18 09:44:30,832 - intrinio_realtime - INFO - Websocket closed!\n",
      "2018-04-18 09:44:30,834 - intrinio_realtime - ERROR - Websocket ERROR: 'NoneType' object has no attribute 'connected'\n",
      "2018-04-18 09:44:31,907 - intrinio_realtime - INFO - Connecting...\n",
      "2018-04-18 09:44:33,406 - intrinio_realtime - INFO - Authentication successful!\n",
      "2018-04-18 09:44:33,788 - intrinio_realtime - INFO - Websocket opened!\n",
      "2018-04-18 09:44:33,792 - intrinio_realtime - INFO - Websocket closed!\n",
      "2018-04-18 09:44:33,794 - intrinio_realtime - ERROR - Websocket ERROR: 'NoneType' object has no attribute 'connected'\n",
      "2018-04-18 09:44:34,871 - intrinio_realtime - INFO - Connecting...\n",
      "2018-04-18 09:44:36,366 - intrinio_realtime - INFO - Authentication successful!\n",
      "2018-04-18 09:44:36,767 - intrinio_realtime - INFO - Websocket opened!\n",
      "2018-04-18 09:44:36,771 - intrinio_realtime - INFO - Websocket closed!\n",
      "2018-04-18 09:44:36,772 - intrinio_realtime - ERROR - Websocket ERROR: 'NoneType' object has no attribute 'connected'\n",
      "2018-04-18 09:44:37,847 - intrinio_realtime - INFO - Connecting...\n",
      "2018-04-18 09:44:39,352 - intrinio_realtime - INFO - Authentication successful!\n",
      "2018-04-18 09:44:39,737 - intrinio_realtime - INFO - Websocket opened!\n",
      "2018-04-18 09:44:39,740 - intrinio_realtime - INFO - Websocket closed!\n",
      "2018-04-18 09:44:39,742 - intrinio_realtime - ERROR - Websocket ERROR: 'NoneType' object has no attribute 'connected'\n",
      "2018-04-18 09:44:40,819 - intrinio_realtime - INFO - Connecting...\n"
     ]
    }
   ],
   "source": [
    "#client.leave([\"SPY\"])\n",
    "client.leave_all()\n",
    "client.disconnect()"
   ]
  },
  {
   "cell_type": "code",
   "execution_count": null,
   "metadata": {},
   "outputs": [],
   "source": []
  }
 ],
 "metadata": {
  "kernelspec": {
   "display_name": "Python 3",
   "language": "python",
   "name": "python3"
  },
  "language_info": {
   "codemirror_mode": {
    "name": "ipython",
    "version": 3
   },
   "file_extension": ".py",
   "mimetype": "text/x-python",
   "name": "python",
   "nbconvert_exporter": "python",
   "pygments_lexer": "ipython3",
   "version": "3.6.5"
  }
 },
 "nbformat": 4,
 "nbformat_minor": 2
}
