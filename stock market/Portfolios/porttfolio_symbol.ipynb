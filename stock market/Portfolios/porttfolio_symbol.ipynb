{
 "cells": [
  {
   "cell_type": "code",
   "execution_count": 1,
   "metadata": {},
   "outputs": [
    {
     "name": "stdout",
     "output_type": "stream",
     "text": [
      "Python 3.7.3 (v3.7.3:ef4ec6ed12, Mar 25 2019, 16:52:21) \n",
      "[Clang 6.0 (clang-600.0.57)] on darwin\n"
     ]
    }
   ],
   "source": [
    "import sys; print('Python %s on %s' % (sys.version, sys.platform))\n",
    "sys.path.extend(['/Users/philipmassey/PycharmProjects/stock_market'])\n",
    "#from IPython.core.interactiveshell import InteractiveShell\n",
    "#InteractiveShell.ast_node_interactivity = \"all\"\n",
    "import market_data as md\n",
    "import portfolio as pf\n",
    "import plots as pl\n",
    "from datetime import datetime, timedelta\n",
    "import calendar\n",
    "import pandas as pd\n",
    "import yfinance as yf\n",
    "import plotly.express as px\n"
   ]
  },
  {
   "cell_type": "code",
   "execution_count": 2,
   "metadata": {},
   "outputs": [
    {
     "name": "stdout",
     "output_type": "stream",
     "text": [
      "ndays 1 bdate 2020-11-24\n",
      "/Users/philipmassey/PycharmProjects/stock_market/market_data/stock_pickles/2020-11-25.pk\n"
     ]
    },
    {
     "ename": "ValueError",
     "evalue": "Invalid format specifier",
     "output_type": "error",
     "traceback": [
      "\u001b[0;31m---------------------------------------------------------------------------\u001b[0m",
      "\u001b[0;31mValueError\u001b[0m                                Traceback (most recent call last)",
      "\u001b[0;32m<ipython-input-2-6bd4b16ea91e>\u001b[0m in \u001b[0;36m<module>\u001b[0;34m\u001b[0m\n\u001b[1;32m      1\u001b[0m \u001b[0mndays\u001b[0m \u001b[0;34m=\u001b[0m \u001b[0;36m1\u001b[0m\u001b[0;34m\u001b[0m\u001b[0;34m\u001b[0m\u001b[0m\n\u001b[0;32m----> 2\u001b[0;31m \u001b[0mdf\u001b[0m\u001b[0;34m,\u001b[0m\u001b[0mdt\u001b[0m \u001b[0;34m=\u001b[0m \u001b[0mpf\u001b[0m\u001b[0;34m.\u001b[0m\u001b[0mgetStockPercentVolPort\u001b[0m\u001b[0;34m(\u001b[0m\u001b[0mndays\u001b[0m\u001b[0;34m)\u001b[0m\u001b[0;34m\u001b[0m\u001b[0;34m\u001b[0m\u001b[0m\n\u001b[0m\u001b[1;32m      3\u001b[0m \u001b[0mdf\u001b[0m\u001b[0;34m.\u001b[0m\u001b[0mhead\u001b[0m\u001b[0;34m(\u001b[0m\u001b[0;36m1\u001b[0m\u001b[0;34m)\u001b[0m\u001b[0;34m\u001b[0m\u001b[0;34m\u001b[0m\u001b[0m\n",
      "\u001b[0;32m~/PycharmProjects/stock_market/portfolio/percent_change.py\u001b[0m in \u001b[0;36mgetStockPercentVolPort\u001b[0;34m(ndays)\u001b[0m\n\u001b[1;32m     20\u001b[0m \u001b[0;32mdef\u001b[0m \u001b[0mgetStockPercentVolPort\u001b[0m\u001b[0;34m(\u001b[0m\u001b[0mndays\u001b[0m\u001b[0;34m)\u001b[0m\u001b[0;34m:\u001b[0m\u001b[0;34m\u001b[0m\u001b[0;34m\u001b[0m\u001b[0m\n\u001b[1;32m     21\u001b[0m     \u001b[0mstart\u001b[0m\u001b[0;34m,\u001b[0m\u001b[0mend\u001b[0m \u001b[0;34m=\u001b[0m \u001b[0mmd\u001b[0m\u001b[0;34m.\u001b[0m\u001b[0mgetNDateAndToday\u001b[0m\u001b[0;34m(\u001b[0m\u001b[0mndays\u001b[0m\u001b[0;34m)\u001b[0m\u001b[0;34m\u001b[0m\u001b[0;34m\u001b[0m\u001b[0m\n\u001b[0;32m---> 22\u001b[0;31m     \u001b[0mdfEnd\u001b[0m \u001b[0;34m=\u001b[0m \u001b[0mmd\u001b[0m\u001b[0;34m.\u001b[0m\u001b[0mgetStockPickle\u001b[0m\u001b[0;34m(\u001b[0m\u001b[0mend\u001b[0m\u001b[0;34m)\u001b[0m\u001b[0;34m\u001b[0m\u001b[0;34m\u001b[0m\u001b[0m\n\u001b[0m\u001b[1;32m     23\u001b[0m     \u001b[0mendDt\u001b[0m \u001b[0;34m=\u001b[0m \u001b[0mmd\u001b[0m\u001b[0;34m.\u001b[0m\u001b[0mgetDescriptiveDate\u001b[0m\u001b[0;34m(\u001b[0m\u001b[0mdfEnd\u001b[0m\u001b[0;34m)\u001b[0m\u001b[0;34m\u001b[0m\u001b[0;34m\u001b[0m\u001b[0m\n\u001b[1;32m     24\u001b[0m     \u001b[0mdfStart\u001b[0m \u001b[0;34m=\u001b[0m \u001b[0mmd\u001b[0m\u001b[0;34m.\u001b[0m\u001b[0mgetStockPickle\u001b[0m\u001b[0;34m(\u001b[0m\u001b[0mstart\u001b[0m\u001b[0;34m)\u001b[0m\u001b[0;34m\u001b[0m\u001b[0;34m\u001b[0m\u001b[0m\n",
      "\u001b[0;32m~/PycharmProjects/stock_market/market_data/pickle_stock.py\u001b[0m in \u001b[0;36mgetStockPickle\u001b[0;34m(datestr)\u001b[0m\n\u001b[1;32m     90\u001b[0m     \u001b[0;32mif\u001b[0m \u001b[0mdfNDaysAgo\u001b[0m\u001b[0;34m.\u001b[0m\u001b[0msize\u001b[0m \u001b[0;34m==\u001b[0m \u001b[0;36m0\u001b[0m\u001b[0;34m:\u001b[0m\u001b[0;34m\u001b[0m\u001b[0;34m\u001b[0m\u001b[0m\n\u001b[1;32m     91\u001b[0m        \u001b[0;31m# try:\u001b[0m\u001b[0;34m\u001b[0m\u001b[0;34m\u001b[0m\u001b[0;34m\u001b[0m\u001b[0m\n\u001b[0;32m---> 92\u001b[0;31m             \u001b[0mndays\u001b[0m \u001b[0;34m=\u001b[0m \u001b[0mgetNBusDaysFromDateStr\u001b[0m\u001b[0;34m(\u001b[0m\u001b[0mdatestr\u001b[0m\u001b[0;34m)\u001b[0m\u001b[0;34m\u001b[0m\u001b[0;34m\u001b[0m\u001b[0m\n\u001b[0m\u001b[1;32m     93\u001b[0m             \u001b[0msymbols\u001b[0m \u001b[0;34m=\u001b[0m \u001b[0mmd\u001b[0m\u001b[0;34m.\u001b[0m\u001b[0mgetPortfoliosSymbols\u001b[0m\u001b[0;34m(\u001b[0m\u001b[0;34m)\u001b[0m\u001b[0;34m\u001b[0m\u001b[0;34m\u001b[0m\u001b[0m\n\u001b[1;32m     94\u001b[0m             \u001b[0mpickleStock\u001b[0m\u001b[0;34m(\u001b[0m\u001b[0mndays\u001b[0m\u001b[0;34m,\u001b[0m\u001b[0msymbols\u001b[0m\u001b[0;34m)\u001b[0m\u001b[0;34m\u001b[0m\u001b[0;34m\u001b[0m\u001b[0m\n",
      "\u001b[0;32m~/PycharmProjects/stock_market/market_data/pickle_stock.py\u001b[0m in \u001b[0;36mgetNBusDaysFromDateStr\u001b[0;34m(ymd_date)\u001b[0m\n\u001b[1;32m     32\u001b[0m     \u001b[0mdtnow\u001b[0m \u001b[0;34m=\u001b[0m \u001b[0;34m'{:%Y-%m-%d}'\u001b[0m\u001b[0;34m.\u001b[0m\u001b[0mformat\u001b[0m\u001b[0;34m(\u001b[0m\u001b[0mdatetime\u001b[0m\u001b[0;34m.\u001b[0m\u001b[0mnow\u001b[0m\u001b[0;34m(\u001b[0m\u001b[0;34m)\u001b[0m\u001b[0;34m)\u001b[0m\u001b[0;34m\u001b[0m\u001b[0;34m\u001b[0m\u001b[0m\n\u001b[1;32m     33\u001b[0m     \u001b[0mbdtnow\u001b[0m \u001b[0;34m=\u001b[0m \u001b[0mnp\u001b[0m\u001b[0;34m.\u001b[0m\u001b[0mbusday_offset\u001b[0m\u001b[0;34m(\u001b[0m\u001b[0mdtnow\u001b[0m\u001b[0;34m,\u001b[0m \u001b[0;36m0\u001b[0m\u001b[0;34m,\u001b[0m \u001b[0mroll\u001b[0m\u001b[0;34m=\u001b[0m\u001b[0;34m'backward'\u001b[0m\u001b[0;34m)\u001b[0m\u001b[0;34m\u001b[0m\u001b[0;34m\u001b[0m\u001b[0m\n\u001b[0;32m---> 34\u001b[0;31m     \u001b[0mdt\u001b[0m \u001b[0;34m=\u001b[0m \u001b[0;34m'{:%Y-%m-%d}'\u001b[0m\u001b[0;34m.\u001b[0m\u001b[0mformat\u001b[0m\u001b[0;34m(\u001b[0m\u001b[0mbdtnow\u001b[0m\u001b[0;34m)\u001b[0m\u001b[0;34m\u001b[0m\u001b[0;34m\u001b[0m\u001b[0m\n\u001b[0m\u001b[1;32m     35\u001b[0m     \u001b[0mnbdays\u001b[0m \u001b[0;34m=\u001b[0m  \u001b[0mnp\u001b[0m\u001b[0;34m.\u001b[0m\u001b[0mbusday_count\u001b[0m\u001b[0;34m(\u001b[0m\u001b[0mymd_date\u001b[0m\u001b[0;34m,\u001b[0m \u001b[0mdt\u001b[0m\u001b[0;34m)\u001b[0m\u001b[0;34m\u001b[0m\u001b[0;34m\u001b[0m\u001b[0m\n\u001b[1;32m     36\u001b[0m     \u001b[0;32mreturn\u001b[0m \u001b[0mnbdays\u001b[0m\u001b[0;34m\u001b[0m\u001b[0;34m\u001b[0m\u001b[0m\n",
      "\u001b[0;31mValueError\u001b[0m: Invalid format specifier"
     ]
    }
   ],
   "source": [
    "ndays = 1\n",
    "df,dt = pf.getStockPercentVolPort(ndays)\n",
    "df.head(1)"
   ]
  },
  {
   "cell_type": "code",
   "execution_count": 3,
   "metadata": {},
   "outputs": [
    {
     "ename": "NameError",
     "evalue": "name 'df' is not defined",
     "output_type": "error",
     "traceback": [
      "\u001b[0;31m---------------------------------------------------------------------------\u001b[0m",
      "\u001b[0;31mNameError\u001b[0m                                 Traceback (most recent call last)",
      "\u001b[0;32m<ipython-input-3-36b5da45f57a>\u001b[0m in \u001b[0;36m<module>\u001b[0;34m\u001b[0m\n\u001b[0;32m----> 1\u001b[0;31m \u001b[0mcnt\u001b[0m \u001b[0;34m=\u001b[0m \u001b[0mlen\u001b[0m\u001b[0;34m(\u001b[0m\u001b[0mdf\u001b[0m\u001b[0;34m[\u001b[0m\u001b[0mdf\u001b[0m\u001b[0;34m.\u001b[0m\u001b[0mportfolio\u001b[0m\u001b[0;34m.\u001b[0m\u001b[0mvalues\u001b[0m\u001b[0;34m==\u001b[0m\u001b[0;34m'ARK ETFs'\u001b[0m\u001b[0;34m]\u001b[0m\u001b[0;34m.\u001b[0m\u001b[0mpercent\u001b[0m\u001b[0;34m.\u001b[0m\u001b[0mvalues\u001b[0m\u001b[0;34m)\u001b[0m\u001b[0;34m\u001b[0m\u001b[0;34m\u001b[0m\u001b[0m\n\u001b[0m\u001b[1;32m      2\u001b[0m \u001b[0msm\u001b[0m \u001b[0;34m=\u001b[0m \u001b[0msum\u001b[0m\u001b[0;34m(\u001b[0m\u001b[0mdf\u001b[0m\u001b[0;34m[\u001b[0m\u001b[0mdf\u001b[0m\u001b[0;34m.\u001b[0m\u001b[0mportfolio\u001b[0m\u001b[0;34m.\u001b[0m\u001b[0mvalues\u001b[0m\u001b[0;34m==\u001b[0m\u001b[0;34m'ARK ETFs'\u001b[0m\u001b[0;34m]\u001b[0m\u001b[0;34m.\u001b[0m\u001b[0mpercent\u001b[0m\u001b[0;34m.\u001b[0m\u001b[0mvalues\u001b[0m\u001b[0;34m)\u001b[0m\u001b[0;34m\u001b[0m\u001b[0;34m\u001b[0m\u001b[0m\n\u001b[1;32m      3\u001b[0m \u001b[0mprint\u001b[0m\u001b[0;34m(\u001b[0m\u001b[0msm\u001b[0m\u001b[0;34m,\u001b[0m\u001b[0mcnt\u001b[0m\u001b[0;34m,\u001b[0m\u001b[0msm\u001b[0m\u001b[0;34m/\u001b[0m\u001b[0mcnt\u001b[0m\u001b[0;34m)\u001b[0m\u001b[0;34m\u001b[0m\u001b[0;34m\u001b[0m\u001b[0m\n",
      "\u001b[0;31mNameError\u001b[0m: name 'df' is not defined"
     ]
    }
   ],
   "source": [
    "cnt = len(df[df.portfolio.values=='ARK ETFs'].percent.values)\n",
    "sm = sum(df[df.portfolio.values=='ARK ETFs'].percent.values)\n",
    "print(sm,cnt,sm/cnt)"
   ]
  },
  {
   "cell_type": "code",
   "execution_count": 4,
   "metadata": {},
   "outputs": [
    {
     "ename": "NameError",
     "evalue": "name 'df' is not defined",
     "output_type": "error",
     "traceback": [
      "\u001b[0;31m---------------------------------------------------------------------------\u001b[0m",
      "\u001b[0;31mNameError\u001b[0m                                 Traceback (most recent call last)",
      "\u001b[0;32m<ipython-input-4-95f463ff1d23>\u001b[0m in \u001b[0;36m<module>\u001b[0;34m\u001b[0m\n\u001b[0;32m----> 1\u001b[0;31m \u001b[0mdfg\u001b[0m \u001b[0;34m=\u001b[0m \u001b[0mdf\u001b[0m\u001b[0;34m.\u001b[0m\u001b[0mgroupby\u001b[0m\u001b[0;34m(\u001b[0m\u001b[0;34m'portfolio'\u001b[0m\u001b[0;34m)\u001b[0m\u001b[0;34m.\u001b[0m\u001b[0magg\u001b[0m\u001b[0;34m(\u001b[0m\u001b[0;34m[\u001b[0m\u001b[0;34m'mean'\u001b[0m\u001b[0;34m]\u001b[0m\u001b[0;34m)\u001b[0m\u001b[0;34m\u001b[0m\u001b[0;34m\u001b[0m\u001b[0m\n\u001b[0m",
      "\u001b[0;31mNameError\u001b[0m: name 'df' is not defined"
     ]
    }
   ],
   "source": [
    "dfg = df.groupby('portfolio').agg(['mean'])"
   ]
  },
  {
   "cell_type": "code",
   "execution_count": 5,
   "metadata": {},
   "outputs": [
    {
     "ename": "NameError",
     "evalue": "name 'dfg' is not defined",
     "output_type": "error",
     "traceback": [
      "\u001b[0;31m---------------------------------------------------------------------------\u001b[0m",
      "\u001b[0;31mNameError\u001b[0m                                 Traceback (most recent call last)",
      "\u001b[0;32m<ipython-input-5-de2f08aa7cad>\u001b[0m in \u001b[0;36m<module>\u001b[0;34m\u001b[0m\n\u001b[0;32m----> 1\u001b[0;31m \u001b[0mdfg\u001b[0m\u001b[0;34m.\u001b[0m\u001b[0mcolumns\u001b[0m\u001b[0;34m\u001b[0m\u001b[0;34m\u001b[0m\u001b[0m\n\u001b[0m\u001b[1;32m      2\u001b[0m \u001b[0;31m#dfg.reset_index(0).reset_index(drop=True).colums=['percent','volume']\u001b[0m\u001b[0;34m\u001b[0m\u001b[0;34m\u001b[0m\u001b[0;34m\u001b[0m\u001b[0m\n\u001b[1;32m      3\u001b[0m \u001b[0mdfg\u001b[0m\u001b[0;34m.\u001b[0m\u001b[0mcolumns\u001b[0m \u001b[0;34m=\u001b[0m \u001b[0;34m[\u001b[0m\u001b[0;34m'percent'\u001b[0m\u001b[0;34m,\u001b[0m\u001b[0;34m'volume'\u001b[0m\u001b[0;34m]\u001b[0m\u001b[0;34m\u001b[0m\u001b[0;34m\u001b[0m\u001b[0m\n\u001b[1;32m      4\u001b[0m \u001b[0mdfg\u001b[0m\u001b[0;34m.\u001b[0m\u001b[0mreset_index\u001b[0m\u001b[0;34m(\u001b[0m\u001b[0minplace\u001b[0m \u001b[0;34m=\u001b[0m \u001b[0;32mTrue\u001b[0m\u001b[0;34m)\u001b[0m\u001b[0;34m\u001b[0m\u001b[0;34m\u001b[0m\u001b[0m\n\u001b[1;32m      5\u001b[0m \u001b[0mdfg\u001b[0m \u001b[0;34m=\u001b[0m \u001b[0mdfg\u001b[0m\u001b[0;34m.\u001b[0m\u001b[0mrename\u001b[0m\u001b[0;34m(\u001b[0m\u001b[0mcolumns\u001b[0m\u001b[0;34m=\u001b[0m\u001b[0;34m{\u001b[0m\u001b[0;34m'index'\u001b[0m\u001b[0;34m:\u001b[0m\u001b[0;34m'portfolio'\u001b[0m\u001b[0;34m}\u001b[0m\u001b[0;34m)\u001b[0m\u001b[0;34m\u001b[0m\u001b[0;34m\u001b[0m\u001b[0m\n",
      "\u001b[0;31mNameError\u001b[0m: name 'dfg' is not defined"
     ]
    }
   ],
   "source": [
    "dfg.columns\n",
    "#dfg.reset_index(0).reset_index(drop=True).colums=['percent','volume']\n",
    "dfg.columns = ['percent','volume']\n",
    "dfg.reset_index(inplace = True)\n",
    "dfg = dfg.rename(columns={'index':'portfolio'})\n",
    "dfg.head(1)"
   ]
  },
  {
   "cell_type": "code",
   "execution_count": 6,
   "metadata": {},
   "outputs": [
    {
     "ename": "NameError",
     "evalue": "name 'dt' is not defined",
     "output_type": "error",
     "traceback": [
      "\u001b[0;31m---------------------------------------------------------------------------\u001b[0m",
      "\u001b[0;31mNameError\u001b[0m                                 Traceback (most recent call last)",
      "\u001b[0;32m<ipython-input-6-fa8e9a997e9d>\u001b[0m in \u001b[0;36m<module>\u001b[0;34m\u001b[0m\n\u001b[1;32m      1\u001b[0m \u001b[0;32mimport\u001b[0m \u001b[0mplotly\u001b[0m\u001b[0;34m.\u001b[0m\u001b[0mgraph_objects\u001b[0m \u001b[0;32mas\u001b[0m \u001b[0mgo\u001b[0m\u001b[0;34m\u001b[0m\u001b[0;34m\u001b[0m\u001b[0m\n\u001b[1;32m      2\u001b[0m \u001b[0;34m\u001b[0m\u001b[0m\n\u001b[0;32m----> 3\u001b[0;31m \u001b[0mtitle\u001b[0m \u001b[0;34m=\u001b[0m \u001b[0;34m'{} - {}  {} days percent change'\u001b[0m\u001b[0;34m.\u001b[0m\u001b[0mformat\u001b[0m\u001b[0;34m(\u001b[0m\u001b[0;34m'PORTFOLIOS'\u001b[0m\u001b[0;34m,\u001b[0m \u001b[0mdt\u001b[0m\u001b[0;34m,\u001b[0m\u001b[0mndays\u001b[0m\u001b[0;34m)\u001b[0m\u001b[0;34m\u001b[0m\u001b[0;34m\u001b[0m\u001b[0m\n\u001b[0m\u001b[1;32m      4\u001b[0m \u001b[0;34m\u001b[0m\u001b[0m\n\u001b[1;32m      5\u001b[0m fig = px.scatter(dfg, x=\"portfolio\", y=\"percent\",\n",
      "\u001b[0;31mNameError\u001b[0m: name 'dt' is not defined"
     ]
    }
   ],
   "source": [
    "import plotly.graph_objects as go\n",
    "\n",
    "title = '{} - {}  {} days percent change'.format('PORTFOLIOS', dt,ndays)\n",
    "\n",
    "fig = px.scatter(dfg, x=\"portfolio\", y=\"percent\",\n",
    "                 size=\"volume\", color=\"volume\", title=title,\n",
    "                 hover_name=\"portfolio\", log_x=False, log_y=False,\n",
    "                 size_max=80, width=1600, height=800)\n",
    "fig.show()\n"
   ]
  },
  {
   "cell_type": "code",
   "execution_count": 7,
   "metadata": {},
   "outputs": [
    {
     "ename": "NameError",
     "evalue": "name 'dfg' is not defined",
     "output_type": "error",
     "traceback": [
      "\u001b[0;31m---------------------------------------------------------------------------\u001b[0m",
      "\u001b[0;31mNameError\u001b[0m                                 Traceback (most recent call last)",
      "\u001b[0;32m<ipython-input-7-5b8d2fdf28ba>\u001b[0m in \u001b[0;36m<module>\u001b[0;34m\u001b[0m\n\u001b[0;32m----> 1\u001b[0;31m fig = px.bar(dfg, x=\"portfolio\", y=\"percent\",\n\u001b[0m\u001b[1;32m      2\u001b[0m                   \u001b[0mcolor\u001b[0m\u001b[0;34m=\u001b[0m\u001b[0;34m\"volume\"\u001b[0m\u001b[0;34m,\u001b[0m \u001b[0mtitle\u001b[0m\u001b[0;34m=\u001b[0m\u001b[0mtitle\u001b[0m\u001b[0;34m,\u001b[0m\u001b[0;34m\u001b[0m\u001b[0;34m\u001b[0m\u001b[0m\n\u001b[1;32m      3\u001b[0m                  \u001b[0mhover_name\u001b[0m\u001b[0;34m=\u001b[0m\u001b[0;34m\"portfolio\"\u001b[0m\u001b[0;34m,\u001b[0m \u001b[0mlog_x\u001b[0m\u001b[0;34m=\u001b[0m\u001b[0;32mFalse\u001b[0m\u001b[0;34m,\u001b[0m \u001b[0mlog_y\u001b[0m\u001b[0;34m=\u001b[0m\u001b[0;32mFalse\u001b[0m\u001b[0;34m,\u001b[0m\u001b[0;34m\u001b[0m\u001b[0;34m\u001b[0m\u001b[0m\n\u001b[1;32m      4\u001b[0m                  width=1330, height=800)\n\u001b[1;32m      5\u001b[0m \u001b[0mfig\u001b[0m\u001b[0;34m.\u001b[0m\u001b[0mshow\u001b[0m\u001b[0;34m(\u001b[0m\u001b[0;34m)\u001b[0m\u001b[0;34m\u001b[0m\u001b[0;34m\u001b[0m\u001b[0m\n",
      "\u001b[0;31mNameError\u001b[0m: name 'dfg' is not defined"
     ]
    }
   ],
   "source": [
    "fig = px.bar(dfg, x=\"portfolio\", y=\"percent\",\n",
    "                  color=\"volume\", title=title,\n",
    "                 hover_name=\"portfolio\", log_x=False, log_y=False,\n",
    "                 width=1330, height=800)\n",
    "fig.show()\n"
   ]
  },
  {
   "cell_type": "code",
   "execution_count": 60,
   "metadata": {},
   "outputs": [
    {
     "data": {
      "text/html": [
       "<div>\n",
       "<style scoped>\n",
       "    .dataframe tbody tr th:only-of-type {\n",
       "        vertical-align: middle;\n",
       "    }\n",
       "\n",
       "    .dataframe tbody tr th {\n",
       "        vertical-align: top;\n",
       "    }\n",
       "\n",
       "    .dataframe thead th {\n",
       "        text-align: right;\n",
       "    }\n",
       "</style>\n",
       "<table border=\"1\" class=\"dataframe\">\n",
       "  <thead>\n",
       "    <tr style=\"text-align: right;\">\n",
       "      <th></th>\n",
       "      <th>symbol</th>\n",
       "      <th>percent</th>\n",
       "      <th>volume</th>\n",
       "      <th>portfolio</th>\n",
       "    </tr>\n",
       "  </thead>\n",
       "  <tbody>\n",
       "    <tr>\n",
       "      <th>230</th>\n",
       "      <td>QRVO</td>\n",
       "      <td>1.26</td>\n",
       "      <td>657191.0</td>\n",
       "      <td>5G</td>\n",
       "    </tr>\n",
       "    <tr>\n",
       "      <th>160</th>\n",
       "      <td>INFN</td>\n",
       "      <td>1.18</td>\n",
       "      <td>1441085.0</td>\n",
       "      <td>5G</td>\n",
       "    </tr>\n",
       "    <tr>\n",
       "      <th>157</th>\n",
       "      <td>IIVI</td>\n",
       "      <td>2.94</td>\n",
       "      <td>1080833.0</td>\n",
       "      <td>5G</td>\n",
       "    </tr>\n",
       "    <tr>\n",
       "      <th>29</th>\n",
       "      <td>AVGO</td>\n",
       "      <td>1.26</td>\n",
       "      <td>1099688.0</td>\n",
       "      <td>5G</td>\n",
       "    </tr>\n",
       "    <tr>\n",
       "      <th>305</th>\n",
       "      <td>XLNX</td>\n",
       "      <td>0.26</td>\n",
       "      <td>1753005.0</td>\n",
       "      <td>5G</td>\n",
       "    </tr>\n",
       "  </tbody>\n",
       "</table>\n",
       "</div>"
      ],
      "text/plain": [
       "    symbol  percent     volume portfolio\n",
       "230   QRVO     1.26   657191.0        5G\n",
       "160   INFN     1.18  1441085.0        5G\n",
       "157   IIVI     2.94  1080833.0        5G\n",
       "29    AVGO     1.26  1099688.0        5G\n",
       "305   XLNX     0.26  1753005.0        5G"
      ]
     },
     "execution_count": 60,
     "metadata": {},
     "output_type": "execute_result"
    }
   ],
   "source": [
    "dfp = df.reset_index()\n",
    "dfp = dfp.rename(columns={'index':'symbol'})\n",
    "dfp.sort_values(by='portfolio',inplace=True)\n",
    "dfp.head(5)"
   ]
  },
  {
   "cell_type": "code",
   "execution_count": 61,
   "metadata": {},
   "outputs": [
    {
     "data": {
      "application/vnd.plotly.v1+json": {
       "config": {
        "plotlyServerURL": "https://plot.ly"
       },
       "data": [
        {
         "alignmentgroup": "True",
         "hoverlabel": {
          "namelength": 0
         },
         "hovertemplate": "symbol=QRVO<br>portfolio=%{x}<br>percent=%{y}",
         "legendgroup": "QRVO",
         "marker": {
          "color": "#636efa"
         },
         "name": "QRVO",
         "offsetgroup": "QRVO",
         "orientation": "v",
         "showlegend": true,
         "textposition": "auto",
         "type": "bar",
         "x": [
          "5G"
         ],
         "xaxis": "x",
         "y": [
          1.26
         ],
         "yaxis": "y"
        },
        {
         "alignmentgroup": "True",
         "hoverlabel": {
          "namelength": 0
         },
         "hovertemplate": "symbol=INFN<br>portfolio=%{x}<br>percent=%{y}",
         "legendgroup": "INFN",
         "marker": {
          "color": "#EF553B"
         },
         "name": "INFN",
         "offsetgroup": "INFN",
         "orientation": "v",
         "showlegend": true,
         "textposition": "auto",
         "type": "bar",
         "x": [
          "5G"
         ],
         "xaxis": "x",
         "y": [
          1.18
         ],
         "yaxis": "y"
        },
        {
         "alignmentgroup": "True",
         "hoverlabel": {
          "namelength": 0
         },
         "hovertemplate": "symbol=IIVI<br>portfolio=%{x}<br>percent=%{y}",
         "legendgroup": "IIVI",
         "marker": {
          "color": "#00cc96"
         },
         "name": "IIVI",
         "offsetgroup": "IIVI",
         "orientation": "v",
         "showlegend": true,
         "textposition": "auto",
         "type": "bar",
         "x": [
          "5G"
         ],
         "xaxis": "x",
         "y": [
          2.94
         ],
         "yaxis": "y"
        },
        {
         "alignmentgroup": "True",
         "hoverlabel": {
          "namelength": 0
         },
         "hovertemplate": "symbol=AVGO<br>portfolio=%{x}<br>percent=%{y}",
         "legendgroup": "AVGO",
         "marker": {
          "color": "#ab63fa"
         },
         "name": "AVGO",
         "offsetgroup": "AVGO",
         "orientation": "v",
         "showlegend": true,
         "textposition": "auto",
         "type": "bar",
         "x": [
          "5G"
         ],
         "xaxis": "x",
         "y": [
          1.26
         ],
         "yaxis": "y"
        },
        {
         "alignmentgroup": "True",
         "hoverlabel": {
          "namelength": 0
         },
         "hovertemplate": "symbol=XLNX<br>portfolio=%{x}<br>percent=%{y}",
         "legendgroup": "XLNX",
         "marker": {
          "color": "#FFA15A"
         },
         "name": "XLNX",
         "offsetgroup": "XLNX",
         "orientation": "v",
         "showlegend": true,
         "textposition": "auto",
         "type": "bar",
         "x": [
          "5G"
         ],
         "xaxis": "x",
         "y": [
          0.26
         ],
         "yaxis": "y"
        },
        {
         "alignmentgroup": "True",
         "hoverlabel": {
          "namelength": 0
         },
         "hovertemplate": "symbol=IPHI<br>portfolio=%{x}<br>percent=%{y}",
         "legendgroup": "IPHI",
         "marker": {
          "color": "#19d3f3"
         },
         "name": "IPHI",
         "offsetgroup": "IPHI",
         "orientation": "v",
         "showlegend": true,
         "textposition": "auto",
         "type": "bar",
         "x": [
          "5G"
         ],
         "xaxis": "x",
         "y": [
          2.73
         ],
         "yaxis": "y"
        },
        {
         "alignmentgroup": "True",
         "hoverlabel": {
          "namelength": 0
         },
         "hovertemplate": "symbol=LITE<br>portfolio=%{x}<br>percent=%{y}",
         "legendgroup": "LITE",
         "marker": {
          "color": "#FF6692"
         },
         "name": "LITE",
         "offsetgroup": "LITE",
         "orientation": "v",
         "showlegend": true,
         "textposition": "auto",
         "type": "bar",
         "x": [
          "5G"
         ],
         "xaxis": "x",
         "y": [
          1.49
         ],
         "yaxis": "y"
        },
        {
         "alignmentgroup": "True",
         "hoverlabel": {
          "namelength": 0
         },
         "hovertemplate": "symbol=NXPI<br>portfolio=%{x}<br>percent=%{y}",
         "legendgroup": "NXPI",
         "marker": {
          "color": "#B6E880"
         },
         "name": "NXPI",
         "offsetgroup": "NXPI",
         "orientation": "v",
         "showlegend": true,
         "textposition": "auto",
         "type": "bar",
         "x": [
          "5G"
         ],
         "xaxis": "x",
         "y": [
          1.79
         ],
         "yaxis": "y"
        },
        {
         "alignmentgroup": "True",
         "hoverlabel": {
          "namelength": 0
         },
         "hovertemplate": "symbol=AVNW<br>portfolio=%{x}<br>percent=%{y}",
         "legendgroup": "AVNW",
         "marker": {
          "color": "#FF97FF"
         },
         "name": "AVNW",
         "offsetgroup": "AVNW",
         "orientation": "v",
         "showlegend": true,
         "textposition": "auto",
         "type": "bar",
         "x": [
          "5G"
         ],
         "xaxis": "x",
         "y": [
          4.41
         ],
         "yaxis": "y"
        },
        {
         "alignmentgroup": "True",
         "hoverlabel": {
          "namelength": 0
         },
         "hovertemplate": "symbol=CEVA<br>portfolio=%{x}<br>percent=%{y}",
         "legendgroup": "CEVA",
         "marker": {
          "color": "#FECB52"
         },
         "name": "CEVA",
         "offsetgroup": "CEVA",
         "orientation": "v",
         "showlegend": true,
         "textposition": "auto",
         "type": "bar",
         "x": [
          "5G"
         ],
         "xaxis": "x",
         "y": [
          3.72
         ],
         "yaxis": "y"
        },
        {
         "alignmentgroup": "True",
         "hoverlabel": {
          "namelength": 0
         },
         "hovertemplate": "symbol=ADTN<br>portfolio=%{x}<br>percent=%{y}",
         "legendgroup": "ADTN",
         "marker": {
          "color": "#636efa"
         },
         "name": "ADTN",
         "offsetgroup": "ADTN",
         "orientation": "v",
         "showlegend": true,
         "textposition": "auto",
         "type": "bar",
         "x": [
          "5G"
         ],
         "xaxis": "x",
         "y": [
          3.27
         ],
         "yaxis": "y"
        },
        {
         "alignmentgroup": "True",
         "hoverlabel": {
          "namelength": 0
         },
         "hovertemplate": "symbol=MXL<br>portfolio=%{x}<br>percent=%{y}",
         "legendgroup": "MXL",
         "marker": {
          "color": "#EF553B"
         },
         "name": "MXL",
         "offsetgroup": "MXL",
         "orientation": "v",
         "showlegend": true,
         "textposition": "auto",
         "type": "bar",
         "x": [
          "5G"
         ],
         "xaxis": "x",
         "y": [
          1.5
         ],
         "yaxis": "y"
        },
        {
         "alignmentgroup": "True",
         "hoverlabel": {
          "namelength": 0
         },
         "hovertemplate": "symbol=ERIC<br>portfolio=%{x}<br>percent=%{y}",
         "legendgroup": "ERIC",
         "marker": {
          "color": "#00cc96"
         },
         "name": "ERIC",
         "offsetgroup": "ERIC",
         "orientation": "v",
         "showlegend": true,
         "textposition": "auto",
         "type": "bar",
         "x": [
          "5G"
         ],
         "xaxis": "x",
         "y": [
          0.59
         ],
         "yaxis": "y"
        },
        {
         "alignmentgroup": "True",
         "hoverlabel": {
          "namelength": 0
         },
         "hovertemplate": "symbol=CALX<br>portfolio=%{x}<br>percent=%{y}",
         "legendgroup": "CALX",
         "marker": {
          "color": "#ab63fa"
         },
         "name": "CALX",
         "offsetgroup": "CALX",
         "orientation": "v",
         "showlegend": true,
         "textposition": "auto",
         "type": "bar",
         "x": [
          "5G"
         ],
         "xaxis": "x",
         "y": [
          3.18
         ],
         "yaxis": "y"
        },
        {
         "alignmentgroup": "True",
         "hoverlabel": {
          "namelength": 0
         },
         "hovertemplate": "symbol=MRVL<br>portfolio=%{x}<br>percent=%{y}",
         "legendgroup": "MRVL",
         "marker": {
          "color": "#FFA15A"
         },
         "name": "MRVL",
         "offsetgroup": "MRVL",
         "orientation": "v",
         "showlegend": true,
         "textposition": "auto",
         "type": "bar",
         "x": [
          "5G"
         ],
         "xaxis": "x",
         "y": [
          4.67
         ],
         "yaxis": "y"
        },
        {
         "alignmentgroup": "True",
         "hoverlabel": {
          "namelength": 0
         },
         "hovertemplate": "symbol=SBAC<br>portfolio=%{x}<br>percent=%{y}",
         "legendgroup": "SBAC",
         "marker": {
          "color": "#19d3f3"
         },
         "name": "SBAC",
         "offsetgroup": "SBAC",
         "orientation": "v",
         "showlegend": true,
         "textposition": "auto",
         "type": "bar",
         "x": [
          "5G"
         ],
         "xaxis": "x",
         "y": [
          2.59
         ],
         "yaxis": "y"
        },
        {
         "alignmentgroup": "True",
         "hoverlabel": {
          "namelength": 0
         },
         "hovertemplate": "symbol=IPGP<br>portfolio=%{x}<br>percent=%{y}",
         "legendgroup": "IPGP",
         "marker": {
          "color": "#FF6692"
         },
         "name": "IPGP",
         "offsetgroup": "IPGP",
         "orientation": "v",
         "showlegend": true,
         "textposition": "auto",
         "type": "bar",
         "x": [
          "5G"
         ],
         "xaxis": "x",
         "y": [
          -0.77
         ],
         "yaxis": "y"
        },
        {
         "alignmentgroup": "True",
         "hoverlabel": {
          "namelength": 0
         },
         "hovertemplate": "symbol=ARKW<br>portfolio=%{x}<br>percent=%{y}",
         "legendgroup": "ARKW",
         "marker": {
          "color": "#B6E880"
         },
         "name": "ARKW",
         "offsetgroup": "ARKW",
         "orientation": "v",
         "showlegend": true,
         "textposition": "auto",
         "type": "bar",
         "x": [
          "ARK ETFs"
         ],
         "xaxis": "x",
         "y": [
          0.59
         ],
         "yaxis": "y"
        },
        {
         "alignmentgroup": "True",
         "hoverlabel": {
          "namelength": 0
         },
         "hovertemplate": "symbol=ARKK<br>portfolio=%{x}<br>percent=%{y}",
         "legendgroup": "ARKK",
         "marker": {
          "color": "#FF97FF"
         },
         "name": "ARKK",
         "offsetgroup": "ARKK",
         "orientation": "v",
         "showlegend": true,
         "textposition": "auto",
         "type": "bar",
         "x": [
          "ARK ETFs"
         ],
         "xaxis": "x",
         "y": [
          1.05
         ],
         "yaxis": "y"
        },
        {
         "alignmentgroup": "True",
         "hoverlabel": {
          "namelength": 0
         },
         "hovertemplate": "symbol=ARKG<br>portfolio=%{x}<br>percent=%{y}",
         "legendgroup": "ARKG",
         "marker": {
          "color": "#FECB52"
         },
         "name": "ARKG",
         "offsetgroup": "ARKG",
         "orientation": "v",
         "showlegend": true,
         "textposition": "auto",
         "type": "bar",
         "x": [
          "ARK ETFs"
         ],
         "xaxis": "x",
         "y": [
          1.7
         ],
         "yaxis": "y"
        },
        {
         "alignmentgroup": "True",
         "hoverlabel": {
          "namelength": 0
         },
         "hovertemplate": "symbol=ARKF<br>portfolio=%{x}<br>percent=%{y}",
         "legendgroup": "ARKF",
         "marker": {
          "color": "#636efa"
         },
         "name": "ARKF",
         "offsetgroup": "ARKF",
         "orientation": "v",
         "showlegend": true,
         "textposition": "auto",
         "type": "bar",
         "x": [
          "ARK ETFs"
         ],
         "xaxis": "x",
         "y": [
          1.37
         ],
         "yaxis": "y"
        },
        {
         "alignmentgroup": "True",
         "hoverlabel": {
          "namelength": 0
         },
         "hovertemplate": "symbol=ARKQ<br>portfolio=%{x}<br>percent=%{y}",
         "legendgroup": "ARKQ",
         "marker": {
          "color": "#EF553B"
         },
         "name": "ARKQ",
         "offsetgroup": "ARKQ",
         "orientation": "v",
         "showlegend": true,
         "textposition": "auto",
         "type": "bar",
         "x": [
          "ARK ETFs"
         ],
         "xaxis": "x",
         "y": [
          1.63
         ],
         "yaxis": "y"
        },
        {
         "alignmentgroup": "True",
         "hoverlabel": {
          "namelength": 0
         },
         "hovertemplate": "symbol=IJR<br>portfolio=%{x}<br>percent=%{y}",
         "legendgroup": "IJR",
         "marker": {
          "color": "#00cc96"
         },
         "name": "IJR",
         "offsetgroup": "IJR",
         "orientation": "v",
         "showlegend": true,
         "textposition": "auto",
         "type": "bar",
         "x": [
          "ATACKX"
         ],
         "xaxis": "x",
         "y": [
          3.51
         ],
         "yaxis": "y"
        },
        {
         "alignmentgroup": "True",
         "hoverlabel": {
          "namelength": 0
         },
         "hovertemplate": "symbol=SPSM<br>portfolio=%{x}<br>percent=%{y}",
         "legendgroup": "SPSM",
         "marker": {
          "color": "#ab63fa"
         },
         "name": "SPSM",
         "offsetgroup": "SPSM",
         "orientation": "v",
         "showlegend": true,
         "textposition": "auto",
         "type": "bar",
         "x": [
          "ATACKX"
         ],
         "xaxis": "x",
         "y": [
          3.61
         ],
         "yaxis": "y"
        },
        {
         "alignmentgroup": "True",
         "hoverlabel": {
          "namelength": 0
         },
         "hovertemplate": "symbol=SCHA<br>portfolio=%{x}<br>percent=%{y}",
         "legendgroup": "SCHA",
         "marker": {
          "color": "#FFA15A"
         },
         "name": "SCHA",
         "offsetgroup": "SCHA",
         "orientation": "v",
         "showlegend": true,
         "textposition": "auto",
         "type": "bar",
         "x": [
          "ATACKX"
         ],
         "xaxis": "x",
         "y": [
          3.09
         ],
         "yaxis": "y"
        },
        {
         "alignmentgroup": "True",
         "hoverlabel": {
          "namelength": 0
         },
         "hovertemplate": "symbol=URTY<br>portfolio=%{x}<br>percent=%{y}",
         "legendgroup": "URTY",
         "marker": {
          "color": "#19d3f3"
         },
         "name": "URTY",
         "offsetgroup": "URTY",
         "orientation": "v",
         "showlegend": true,
         "textposition": "auto",
         "type": "bar",
         "x": [
          "ATACKX"
         ],
         "xaxis": "x",
         "y": [
          8.86
         ],
         "yaxis": "y"
        },
        {
         "alignmentgroup": "True",
         "hoverlabel": {
          "namelength": 0
         },
         "hovertemplate": "symbol=PEMTF<br>portfolio=%{x}<br>percent=%{y}",
         "legendgroup": "PEMTF",
         "marker": {
          "color": "#FF6692"
         },
         "name": "PEMTF",
         "offsetgroup": "PEMTF",
         "orientation": "v",
         "showlegend": true,
         "textposition": "auto",
         "type": "bar",
         "x": [
          "Alternate Medicine"
         ],
         "xaxis": "x",
         "y": [
          -13.56
         ],
         "yaxis": "y"
        },
        {
         "alignmentgroup": "True",
         "hoverlabel": {
          "namelength": 0
         },
         "hovertemplate": "symbol=MMEDF<br>portfolio=%{x}<br>percent=%{y}",
         "legendgroup": "MMEDF",
         "marker": {
          "color": "#B6E880"
         },
         "name": "MMEDF",
         "offsetgroup": "MMEDF",
         "orientation": "v",
         "showlegend": true,
         "textposition": "auto",
         "type": "bar",
         "x": [
          "Alternate Medicine"
         ],
         "xaxis": "x",
         "y": [
          2.97
         ],
         "yaxis": "y"
        },
        {
         "alignmentgroup": "True",
         "hoverlabel": {
          "namelength": 0
         },
         "hovertemplate": "symbol=FTRPF<br>portfolio=%{x}<br>percent=%{y}",
         "legendgroup": "FTRPF",
         "marker": {
          "color": "#FF97FF"
         },
         "name": "FTRPF",
         "offsetgroup": "FTRPF",
         "orientation": "v",
         "showlegend": true,
         "textposition": "auto",
         "type": "bar",
         "x": [
          "Alternate Medicine"
         ],
         "xaxis": "x",
         "y": [
          16.93
         ],
         "yaxis": "y"
        },
        {
         "alignmentgroup": "True",
         "hoverlabel": {
          "namelength": 0
         },
         "hovertemplate": "symbol=GTSIF<br>portfolio=%{x}<br>percent=%{y}",
         "legendgroup": "GTSIF",
         "marker": {
          "color": "#FECB52"
         },
         "name": "GTSIF",
         "offsetgroup": "GTSIF",
         "orientation": "v",
         "showlegend": true,
         "textposition": "auto",
         "type": "bar",
         "x": [
          "Alternate Medicine"
         ],
         "xaxis": "x",
         "y": [
          -7.2
         ],
         "yaxis": "y"
        },
        {
         "alignmentgroup": "True",
         "hoverlabel": {
          "namelength": 0
         },
         "hovertemplate": "symbol=BKLLF<br>portfolio=%{x}<br>percent=%{y}",
         "legendgroup": "BKLLF",
         "marker": {
          "color": "#636efa"
         },
         "name": "BKLLF",
         "offsetgroup": "BKLLF",
         "orientation": "v",
         "showlegend": true,
         "textposition": "auto",
         "type": "bar",
         "x": [
          "Alternate Medicine"
         ],
         "xaxis": "x",
         "y": [
          14.29
         ],
         "yaxis": "y"
        },
        {
         "alignmentgroup": "True",
         "hoverlabel": {
          "namelength": 0
         },
         "hovertemplate": "symbol=MYCOF<br>portfolio=%{x}<br>percent=%{y}",
         "legendgroup": "MYCOF",
         "marker": {
          "color": "#EF553B"
         },
         "name": "MYCOF",
         "offsetgroup": "MYCOF",
         "orientation": "v",
         "showlegend": true,
         "textposition": "auto",
         "type": "bar",
         "x": [
          "Alternate Medicine"
         ],
         "xaxis": "x",
         "y": [
          27.41
         ],
         "yaxis": "y"
        },
        {
         "alignmentgroup": "True",
         "hoverlabel": {
          "namelength": 0
         },
         "hovertemplate": "symbol=SHRMF<br>portfolio=%{x}<br>percent=%{y}",
         "legendgroup": "SHRMF",
         "marker": {
          "color": "#00cc96"
         },
         "name": "SHRMF",
         "offsetgroup": "SHRMF",
         "orientation": "v",
         "showlegend": true,
         "textposition": "auto",
         "type": "bar",
         "x": [
          "Alternate Medicine"
         ],
         "xaxis": "x",
         "y": [
          14.43
         ],
         "yaxis": "y"
        },
        {
         "alignmentgroup": "True",
         "hoverlabel": {
          "namelength": 0
         },
         "hovertemplate": "symbol=HAVLF<br>portfolio=%{x}<br>percent=%{y}",
         "legendgroup": "HAVLF",
         "marker": {
          "color": "#ab63fa"
         },
         "name": "HAVLF",
         "offsetgroup": "HAVLF",
         "orientation": "v",
         "showlegend": true,
         "textposition": "auto",
         "type": "bar",
         "x": [
          "Alternate Medicine"
         ],
         "xaxis": "x",
         "y": [
          4.54
         ],
         "yaxis": "y"
        },
        {
         "alignmentgroup": "True",
         "hoverlabel": {
          "namelength": 0
         },
         "hovertemplate": "symbol=VEGGF<br>portfolio=%{x}<br>percent=%{y}",
         "legendgroup": "VEGGF",
         "marker": {
          "color": "#FFA15A"
         },
         "name": "VEGGF",
         "offsetgroup": "VEGGF",
         "orientation": "v",
         "showlegend": true,
         "textposition": "auto",
         "type": "bar",
         "x": [
          "Alternate Medicine"
         ],
         "xaxis": "x",
         "y": [
          0
         ],
         "yaxis": "y"
        },
        {
         "alignmentgroup": "True",
         "hoverlabel": {
          "namelength": 0
         },
         "hovertemplate": "symbol=RVVTF<br>portfolio=%{x}<br>percent=%{y}",
         "legendgroup": "RVVTF",
         "marker": {
          "color": "#19d3f3"
         },
         "name": "RVVTF",
         "offsetgroup": "RVVTF",
         "orientation": "v",
         "showlegend": true,
         "textposition": "auto",
         "type": "bar",
         "x": [
          "Alternate Medicine"
         ],
         "xaxis": "x",
         "y": [
          7.51
         ],
         "yaxis": "y"
        },
        {
         "alignmentgroup": "True",
         "hoverlabel": {
          "namelength": 0
         },
         "hovertemplate": "symbol=SEEL<br>portfolio=%{x}<br>percent=%{y}",
         "legendgroup": "SEEL",
         "marker": {
          "color": "#FF6692"
         },
         "name": "SEEL",
         "offsetgroup": "SEEL",
         "orientation": "v",
         "showlegend": true,
         "textposition": "auto",
         "type": "bar",
         "x": [
          "Alternate Medicine"
         ],
         "xaxis": "x",
         "y": [
          -4.95
         ],
         "yaxis": "y"
        },
        {
         "alignmentgroup": "True",
         "hoverlabel": {
          "namelength": 0
         },
         "hovertemplate": "symbol=CMPS<br>portfolio=%{x}<br>percent=%{y}",
         "legendgroup": "CMPS",
         "marker": {
          "color": "#B6E880"
         },
         "name": "CMPS",
         "offsetgroup": "CMPS",
         "orientation": "v",
         "showlegend": true,
         "textposition": "auto",
         "type": "bar",
         "x": [
          "Alternate Medicine"
         ],
         "xaxis": "x",
         "y": [
          4.93
         ],
         "yaxis": "y"
        },
        {
         "alignmentgroup": "True",
         "hoverlabel": {
          "namelength": 0
         },
         "hovertemplate": "symbol=EHVVF<br>portfolio=%{x}<br>percent=%{y}",
         "legendgroup": "EHVVF",
         "marker": {
          "color": "#FF97FF"
         },
         "name": "EHVVF",
         "offsetgroup": "EHVVF",
         "orientation": "v",
         "showlegend": true,
         "textposition": "auto",
         "type": "bar",
         "x": [
          "Alternate Medicine"
         ],
         "xaxis": "x",
         "y": [
          8.8
         ],
         "yaxis": "y"
        },
        {
         "alignmentgroup": "True",
         "hoverlabel": {
          "namelength": 0
         },
         "hovertemplate": "symbol=HSTRF<br>portfolio=%{x}<br>percent=%{y}",
         "legendgroup": "HSTRF",
         "marker": {
          "color": "#FECB52"
         },
         "name": "HSTRF",
         "offsetgroup": "HSTRF",
         "orientation": "v",
         "showlegend": true,
         "textposition": "auto",
         "type": "bar",
         "x": [
          "Alternate Medicine"
         ],
         "xaxis": "x",
         "y": [
          -3.42
         ],
         "yaxis": "y"
        },
        {
         "alignmentgroup": "True",
         "hoverlabel": {
          "namelength": 0
         },
         "hovertemplate": "symbol=SPLIF<br>portfolio=%{x}<br>percent=%{y}",
         "legendgroup": "SPLIF",
         "marker": {
          "color": "#636efa"
         },
         "name": "SPLIF",
         "offsetgroup": "SPLIF",
         "orientation": "v",
         "showlegend": true,
         "textposition": "auto",
         "type": "bar",
         "x": [
          "Alternate Medicine"
         ],
         "xaxis": "x",
         "y": [
          -11.36
         ],
         "yaxis": "y"
        },
        {
         "alignmentgroup": "True",
         "hoverlabel": {
          "namelength": 0
         },
         "hovertemplate": "symbol=MMNFF<br>portfolio=%{x}<br>percent=%{y}",
         "legendgroup": "MMNFF",
         "marker": {
          "color": "#EF553B"
         },
         "name": "MMNFF",
         "offsetgroup": "MMNFF",
         "orientation": "v",
         "showlegend": true,
         "textposition": "auto",
         "type": "bar",
         "x": [
          "Alternate Medicine"
         ],
         "xaxis": "x",
         "y": [
          4.14
         ],
         "yaxis": "y"
        },
        {
         "alignmentgroup": "True",
         "hoverlabel": {
          "namelength": 0
         },
         "hovertemplate": "symbol=TRMNF<br>portfolio=%{x}<br>percent=%{y}",
         "legendgroup": "TRMNF",
         "marker": {
          "color": "#00cc96"
         },
         "name": "TRMNF",
         "offsetgroup": "TRMNF",
         "orientation": "v",
         "showlegend": true,
         "textposition": "auto",
         "type": "bar",
         "x": [
          "Alternate Medicine"
         ],
         "xaxis": "x",
         "y": [
          0
         ],
         "yaxis": "y"
        },
        {
         "alignmentgroup": "True",
         "hoverlabel": {
          "namelength": 0
         },
         "hovertemplate": "symbol=TRUFF<br>portfolio=%{x}<br>percent=%{y}",
         "legendgroup": "TRUFF",
         "marker": {
          "color": "#ab63fa"
         },
         "name": "TRUFF",
         "offsetgroup": "TRUFF",
         "orientation": "v",
         "showlegend": true,
         "textposition": "auto",
         "type": "bar",
         "x": [
          "Alternate Medicine"
         ],
         "xaxis": "x",
         "y": [
          -12.04
         ],
         "yaxis": "y"
        },
        {
         "alignmentgroup": "True",
         "hoverlabel": {
          "namelength": 0
         },
         "hovertemplate": "symbol=NUAN<br>portfolio=%{x}<br>percent=%{y}",
         "legendgroup": "NUAN",
         "marker": {
          "color": "#FFA15A"
         },
         "name": "NUAN",
         "offsetgroup": "NUAN",
         "orientation": "v",
         "showlegend": true,
         "textposition": "auto",
         "type": "bar",
         "x": [
          "Artificial Inteligence"
         ],
         "xaxis": "x",
         "y": [
          1.41
         ],
         "yaxis": "y"
        },
        {
         "alignmentgroup": "True",
         "hoverlabel": {
          "namelength": 0
         },
         "hovertemplate": "symbol=CNDT<br>portfolio=%{x}<br>percent=%{y}",
         "legendgroup": "CNDT",
         "marker": {
          "color": "#19d3f3"
         },
         "name": "CNDT",
         "offsetgroup": "CNDT",
         "orientation": "v",
         "showlegend": true,
         "textposition": "auto",
         "type": "bar",
         "x": [
          "Artificial Inteligence"
         ],
         "xaxis": "x",
         "y": [
          5.82
         ],
         "yaxis": "y"
        },
        {
         "alignmentgroup": "True",
         "hoverlabel": {
          "namelength": 0
         },
         "hovertemplate": "symbol=AMBA<br>portfolio=%{x}<br>percent=%{y}",
         "legendgroup": "AMBA",
         "marker": {
          "color": "#FF6692"
         },
         "name": "AMBA",
         "offsetgroup": "AMBA",
         "orientation": "v",
         "showlegend": true,
         "textposition": "auto",
         "type": "bar",
         "x": [
          "Artificial Inteligence"
         ],
         "xaxis": "x",
         "y": [
          1.5
         ],
         "yaxis": "y"
        },
        {
         "alignmentgroup": "True",
         "hoverlabel": {
          "namelength": 0
         },
         "hovertemplate": "symbol=ADBE<br>portfolio=%{x}<br>percent=%{y}",
         "legendgroup": "ADBE",
         "marker": {
          "color": "#B6E880"
         },
         "name": "ADBE",
         "offsetgroup": "ADBE",
         "orientation": "v",
         "showlegend": true,
         "textposition": "auto",
         "type": "bar",
         "x": [
          "Artificial Inteligence"
         ],
         "xaxis": "x",
         "y": [
          1.23
         ],
         "yaxis": "y"
        },
        {
         "alignmentgroup": "True",
         "hoverlabel": {
          "namelength": 0
         },
         "hovertemplate": "symbol=DMRC<br>portfolio=%{x}<br>percent=%{y}",
         "legendgroup": "DMRC",
         "marker": {
          "color": "#FF97FF"
         },
         "name": "DMRC",
         "offsetgroup": "DMRC",
         "orientation": "v",
         "showlegend": true,
         "textposition": "auto",
         "type": "bar",
         "x": [
          "Artificial Inteligence"
         ],
         "xaxis": "x",
         "y": [
          -2.43
         ],
         "yaxis": "y"
        },
        {
         "alignmentgroup": "True",
         "hoverlabel": {
          "namelength": 0
         },
         "hovertemplate": "symbol=HBM<br>portfolio=%{x}<br>percent=%{y}",
         "legendgroup": "HBM",
         "marker": {
          "color": "#FECB52"
         },
         "name": "HBM",
         "offsetgroup": "HBM",
         "orientation": "v",
         "showlegend": true,
         "textposition": "auto",
         "type": "bar",
         "x": [
          "Basic Material"
         ],
         "xaxis": "x",
         "y": [
          3.8
         ],
         "yaxis": "y"
        },
        {
         "alignmentgroup": "True",
         "hoverlabel": {
          "namelength": 0
         },
         "hovertemplate": "symbol=EGO<br>portfolio=%{x}<br>percent=%{y}",
         "legendgroup": "EGO",
         "marker": {
          "color": "#636efa"
         },
         "name": "EGO",
         "offsetgroup": "EGO",
         "orientation": "v",
         "showlegend": true,
         "textposition": "auto",
         "type": "bar",
         "x": [
          "Basic Material"
         ],
         "xaxis": "x",
         "y": [
          0.11
         ],
         "yaxis": "y"
        },
        {
         "alignmentgroup": "True",
         "hoverlabel": {
          "namelength": 0
         },
         "hovertemplate": "symbol=LUNMF<br>portfolio=%{x}<br>percent=%{y}",
         "legendgroup": "LUNMF",
         "marker": {
          "color": "#EF553B"
         },
         "name": "LUNMF",
         "offsetgroup": "LUNMF",
         "orientation": "v",
         "showlegend": true,
         "textposition": "auto",
         "type": "bar",
         "x": [
          "Basic Material"
         ],
         "xaxis": "x",
         "y": [
          2.14
         ],
         "yaxis": "y"
        },
        {
         "alignmentgroup": "True",
         "hoverlabel": {
          "namelength": 0
         },
         "hovertemplate": "symbol=FCX<br>portfolio=%{x}<br>percent=%{y}",
         "legendgroup": "FCX",
         "marker": {
          "color": "#00cc96"
         },
         "name": "FCX",
         "offsetgroup": "FCX",
         "orientation": "v",
         "showlegend": true,
         "textposition": "auto",
         "type": "bar",
         "x": [
          "Basic Material"
         ],
         "xaxis": "x",
         "y": [
          3.2
         ],
         "yaxis": "y"
        },
        {
         "alignmentgroup": "True",
         "hoverlabel": {
          "namelength": 0
         },
         "hovertemplate": "symbol=WPM<br>portfolio=%{x}<br>percent=%{y}",
         "legendgroup": "WPM",
         "marker": {
          "color": "#ab63fa"
         },
         "name": "WPM",
         "offsetgroup": "WPM",
         "orientation": "v",
         "showlegend": true,
         "textposition": "auto",
         "type": "bar",
         "x": [
          "Basic Material"
         ],
         "xaxis": "x",
         "y": [
          0.64
         ],
         "yaxis": "y"
        },
        {
         "alignmentgroup": "True",
         "hoverlabel": {
          "namelength": 0
         },
         "hovertemplate": "symbol=PALL<br>portfolio=%{x}<br>percent=%{y}",
         "legendgroup": "PALL",
         "marker": {
          "color": "#FFA15A"
         },
         "name": "PALL",
         "offsetgroup": "PALL",
         "orientation": "v",
         "showlegend": true,
         "textposition": "auto",
         "type": "bar",
         "x": [
          "Basic Material"
         ],
         "xaxis": "x",
         "y": [
          -0.32
         ],
         "yaxis": "y"
        },
        {
         "alignmentgroup": "True",
         "hoverlabel": {
          "namelength": 0
         },
         "hovertemplate": "symbol=WWR<br>portfolio=%{x}<br>percent=%{y}",
         "legendgroup": "WWR",
         "marker": {
          "color": "#19d3f3"
         },
         "name": "WWR",
         "offsetgroup": "WWR",
         "orientation": "v",
         "showlegend": true,
         "textposition": "auto",
         "type": "bar",
         "x": [
          "Basic Material"
         ],
         "xaxis": "x",
         "y": [
          8.19
         ],
         "yaxis": "y"
        },
        {
         "alignmentgroup": "True",
         "hoverlabel": {
          "namelength": 0
         },
         "hovertemplate": "symbol=PLG<br>portfolio=%{x}<br>percent=%{y}",
         "legendgroup": "PLG",
         "marker": {
          "color": "#FF6692"
         },
         "name": "PLG",
         "offsetgroup": "PLG",
         "orientation": "v",
         "showlegend": true,
         "textposition": "auto",
         "type": "bar",
         "x": [
          "Basic Material"
         ],
         "xaxis": "x",
         "y": [
          -2.16
         ],
         "yaxis": "y"
        },
        {
         "alignmentgroup": "True",
         "hoverlabel": {
          "namelength": 0
         },
         "hovertemplate": "symbol=NVAX<br>portfolio=%{x}<br>percent=%{y}",
         "legendgroup": "NVAX",
         "marker": {
          "color": "#B6E880"
         },
         "name": "NVAX",
         "offsetgroup": "NVAX",
         "orientation": "v",
         "showlegend": true,
         "textposition": "auto",
         "type": "bar",
         "x": [
          "Biotech Breakthough"
         ],
         "xaxis": "x",
         "y": [
          4.66
         ],
         "yaxis": "y"
        },
        {
         "alignmentgroup": "True",
         "hoverlabel": {
          "namelength": 0
         },
         "hovertemplate": "symbol=INO<br>portfolio=%{x}<br>percent=%{y}",
         "legendgroup": "INO",
         "marker": {
          "color": "#FF97FF"
         },
         "name": "INO",
         "offsetgroup": "INO",
         "orientation": "v",
         "showlegend": true,
         "textposition": "auto",
         "type": "bar",
         "x": [
          "Biotech Breakthough"
         ],
         "xaxis": "x",
         "y": [
          0.72
         ],
         "yaxis": "y"
        },
        {
         "alignmentgroup": "True",
         "hoverlabel": {
          "namelength": 0
         },
         "hovertemplate": "symbol=ACAD<br>portfolio=%{x}<br>percent=%{y}",
         "legendgroup": "ACAD",
         "marker": {
          "color": "#FECB52"
         },
         "name": "ACAD",
         "offsetgroup": "ACAD",
         "orientation": "v",
         "showlegend": true,
         "textposition": "auto",
         "type": "bar",
         "x": [
          "Biotech Emerging"
         ],
         "xaxis": "x",
         "y": [
          2.69
         ],
         "yaxis": "y"
        },
        {
         "alignmentgroup": "True",
         "hoverlabel": {
          "namelength": 0
         },
         "hovertemplate": "symbol=DHR<br>portfolio=%{x}<br>percent=%{y}",
         "legendgroup": "DHR",
         "marker": {
          "color": "#636efa"
         },
         "name": "DHR",
         "offsetgroup": "DHR",
         "orientation": "v",
         "showlegend": true,
         "textposition": "auto",
         "type": "bar",
         "x": [
          "Biotech Emerging"
         ],
         "xaxis": "x",
         "y": [
          1.19
         ],
         "yaxis": "y"
        },
        {
         "alignmentgroup": "True",
         "hoverlabel": {
          "namelength": 0
         },
         "hovertemplate": "symbol=PKI<br>portfolio=%{x}<br>percent=%{y}",
         "legendgroup": "PKI",
         "marker": {
          "color": "#EF553B"
         },
         "name": "PKI",
         "offsetgroup": "PKI",
         "orientation": "v",
         "showlegend": true,
         "textposition": "auto",
         "type": "bar",
         "x": [
          "Biotech Emerging"
         ],
         "xaxis": "x",
         "y": [
          1.61
         ],
         "yaxis": "y"
        },
        {
         "alignmentgroup": "True",
         "hoverlabel": {
          "namelength": 0
         },
         "hovertemplate": "symbol=CRSP<br>portfolio=%{x}<br>percent=%{y}",
         "legendgroup": "CRSP",
         "marker": {
          "color": "#00cc96"
         },
         "name": "CRSP",
         "offsetgroup": "CRSP",
         "orientation": "v",
         "showlegend": true,
         "textposition": "auto",
         "type": "bar",
         "x": [
          "Biotech Emerging"
         ],
         "xaxis": "x",
         "y": [
          2.89
         ],
         "yaxis": "y"
        },
        {
         "alignmentgroup": "True",
         "hoverlabel": {
          "namelength": 0
         },
         "hovertemplate": "symbol=MRNA<br>portfolio=%{x}<br>percent=%{y}",
         "legendgroup": "MRNA",
         "marker": {
          "color": "#ab63fa"
         },
         "name": "MRNA",
         "offsetgroup": "MRNA",
         "orientation": "v",
         "showlegend": true,
         "textposition": "auto",
         "type": "bar",
         "x": [
          "Biotech Emerging"
         ],
         "xaxis": "x",
         "y": [
          3.73
         ],
         "yaxis": "y"
        },
        {
         "alignmentgroup": "True",
         "hoverlabel": {
          "namelength": 0
         },
         "hovertemplate": "symbol=AMRN<br>portfolio=%{x}<br>percent=%{y}",
         "legendgroup": "AMRN",
         "marker": {
          "color": "#FFA15A"
         },
         "name": "AMRN",
         "offsetgroup": "AMRN",
         "orientation": "v",
         "showlegend": true,
         "textposition": "auto",
         "type": "bar",
         "x": [
          "Biotech Emerging"
         ],
         "xaxis": "x",
         "y": [
          5.81
         ],
         "yaxis": "y"
        },
        {
         "alignmentgroup": "True",
         "hoverlabel": {
          "namelength": 0
         },
         "hovertemplate": "symbol=AZN<br>portfolio=%{x}<br>percent=%{y}",
         "legendgroup": "AZN",
         "marker": {
          "color": "#19d3f3"
         },
         "name": "AZN",
         "offsetgroup": "AZN",
         "orientation": "v",
         "showlegend": true,
         "textposition": "auto",
         "type": "bar",
         "x": [
          "Biotech Emerging"
         ],
         "xaxis": "x",
         "y": [
          1.24
         ],
         "yaxis": "y"
        },
        {
         "alignmentgroup": "True",
         "hoverlabel": {
          "namelength": 0
         },
         "hovertemplate": "symbol=AVRO<br>portfolio=%{x}<br>percent=%{y}",
         "legendgroup": "AVRO",
         "marker": {
          "color": "#FF6692"
         },
         "name": "AVRO",
         "offsetgroup": "AVRO",
         "orientation": "v",
         "showlegend": true,
         "textposition": "auto",
         "type": "bar",
         "x": [
          "Biotech Emerging"
         ],
         "xaxis": "x",
         "y": [
          2.53
         ],
         "yaxis": "y"
        },
        {
         "alignmentgroup": "True",
         "hoverlabel": {
          "namelength": 0
         },
         "hovertemplate": "symbol=IOVA<br>portfolio=%{x}<br>percent=%{y}",
         "legendgroup": "IOVA",
         "marker": {
          "color": "#B6E880"
         },
         "name": "IOVA",
         "offsetgroup": "IOVA",
         "orientation": "v",
         "showlegend": true,
         "textposition": "auto",
         "type": "bar",
         "x": [
          "Biotech Emerging"
         ],
         "xaxis": "x",
         "y": [
          3.44
         ],
         "yaxis": "y"
        },
        {
         "alignmentgroup": "True",
         "hoverlabel": {
          "namelength": 0
         },
         "hovertemplate": "symbol=BIO<br>portfolio=%{x}<br>percent=%{y}",
         "legendgroup": "BIO",
         "marker": {
          "color": "#FF97FF"
         },
         "name": "BIO",
         "offsetgroup": "BIO",
         "orientation": "v",
         "showlegend": true,
         "textposition": "auto",
         "type": "bar",
         "x": [
          "Biotech Emerging"
         ],
         "xaxis": "x",
         "y": [
          1.33
         ],
         "yaxis": "y"
        },
        {
         "alignmentgroup": "True",
         "hoverlabel": {
          "namelength": 0
         },
         "hovertemplate": "symbol=ALGN<br>portfolio=%{x}<br>percent=%{y}",
         "legendgroup": "ALGN",
         "marker": {
          "color": "#FECB52"
         },
         "name": "ALGN",
         "offsetgroup": "ALGN",
         "orientation": "v",
         "showlegend": true,
         "textposition": "auto",
         "type": "bar",
         "x": [
          "Biotech Emerging"
         ],
         "xaxis": "x",
         "y": [
          1.6
         ],
         "yaxis": "y"
        },
        {
         "alignmentgroup": "True",
         "hoverlabel": {
          "namelength": 0
         },
         "hovertemplate": "symbol=RGEN<br>portfolio=%{x}<br>percent=%{y}",
         "legendgroup": "RGEN",
         "marker": {
          "color": "#636efa"
         },
         "name": "RGEN",
         "offsetgroup": "RGEN",
         "orientation": "v",
         "showlegend": true,
         "textposition": "auto",
         "type": "bar",
         "x": [
          "Biotech Emerging"
         ],
         "xaxis": "x",
         "y": [
          0.47
         ],
         "yaxis": "y"
        },
        {
         "alignmentgroup": "True",
         "hoverlabel": {
          "namelength": 0
         },
         "hovertemplate": "symbol=HALO<br>portfolio=%{x}<br>percent=%{y}",
         "legendgroup": "HALO",
         "marker": {
          "color": "#EF553B"
         },
         "name": "HALO",
         "offsetgroup": "HALO",
         "orientation": "v",
         "showlegend": true,
         "textposition": "auto",
         "type": "bar",
         "x": [
          "Biotech Emerging"
         ],
         "xaxis": "x",
         "y": [
          1.32
         ],
         "yaxis": "y"
        },
        {
         "alignmentgroup": "True",
         "hoverlabel": {
          "namelength": 0
         },
         "hovertemplate": "symbol=SDGR<br>portfolio=%{x}<br>percent=%{y}",
         "legendgroup": "SDGR",
         "marker": {
          "color": "#00cc96"
         },
         "name": "SDGR",
         "offsetgroup": "SDGR",
         "orientation": "v",
         "showlegend": true,
         "textposition": "auto",
         "type": "bar",
         "x": [
          "Biotech Emerging"
         ],
         "xaxis": "x",
         "y": [
          8.71
         ],
         "yaxis": "y"
        },
        {
         "alignmentgroup": "True",
         "hoverlabel": {
          "namelength": 0
         },
         "hovertemplate": "symbol=GILD<br>portfolio=%{x}<br>percent=%{y}",
         "legendgroup": "GILD",
         "marker": {
          "color": "#ab63fa"
         },
         "name": "GILD",
         "offsetgroup": "GILD",
         "orientation": "v",
         "showlegend": true,
         "textposition": "auto",
         "type": "bar",
         "x": [
          "Biotechnology"
         ],
         "xaxis": "x",
         "y": [
          2.23
         ],
         "yaxis": "y"
        },
        {
         "alignmentgroup": "True",
         "hoverlabel": {
          "namelength": 0
         },
         "hovertemplate": "symbol=ILMN<br>portfolio=%{x}<br>percent=%{y}",
         "legendgroup": "ILMN",
         "marker": {
          "color": "#FFA15A"
         },
         "name": "ILMN",
         "offsetgroup": "ILMN",
         "orientation": "v",
         "showlegend": true,
         "textposition": "auto",
         "type": "bar",
         "x": [
          "Biotechnology"
         ],
         "xaxis": "x",
         "y": [
          2.72
         ],
         "yaxis": "y"
        },
        {
         "alignmentgroup": "True",
         "hoverlabel": {
          "namelength": 0
         },
         "hovertemplate": "symbol=ABBV<br>portfolio=%{x}<br>percent=%{y}",
         "legendgroup": "ABBV",
         "marker": {
          "color": "#19d3f3"
         },
         "name": "ABBV",
         "offsetgroup": "ABBV",
         "orientation": "v",
         "showlegend": true,
         "textposition": "auto",
         "type": "bar",
         "x": [
          "Biotechnology"
         ],
         "xaxis": "x",
         "y": [
          2.62
         ],
         "yaxis": "y"
        },
        {
         "alignmentgroup": "True",
         "hoverlabel": {
          "namelength": 0
         },
         "hovertemplate": "symbol=PFE<br>portfolio=%{x}<br>percent=%{y}",
         "legendgroup": "PFE",
         "marker": {
          "color": "#FF6692"
         },
         "name": "PFE",
         "offsetgroup": "PFE",
         "orientation": "v",
         "showlegend": true,
         "textposition": "auto",
         "type": "bar",
         "x": [
          "Biotechnology"
         ],
         "xaxis": "x",
         "y": [
          3.56
         ],
         "yaxis": "y"
        },
        {
         "alignmentgroup": "True",
         "hoverlabel": {
          "namelength": 0
         },
         "hovertemplate": "symbol=REGN<br>portfolio=%{x}<br>percent=%{y}",
         "legendgroup": "REGN",
         "marker": {
          "color": "#B6E880"
         },
         "name": "REGN",
         "offsetgroup": "REGN",
         "orientation": "v",
         "showlegend": true,
         "textposition": "auto",
         "type": "bar",
         "x": [
          "Biotechnology"
         ],
         "xaxis": "x",
         "y": [
          1.98
         ],
         "yaxis": "y"
        },
        {
         "alignmentgroup": "True",
         "hoverlabel": {
          "namelength": 0
         },
         "hovertemplate": "symbol=AMGN<br>portfolio=%{x}<br>percent=%{y}",
         "legendgroup": "AMGN",
         "marker": {
          "color": "#FF97FF"
         },
         "name": "AMGN",
         "offsetgroup": "AMGN",
         "orientation": "v",
         "showlegend": true,
         "textposition": "auto",
         "type": "bar",
         "x": [
          "Biotechnology"
         ],
         "xaxis": "x",
         "y": [
          0.44
         ],
         "yaxis": "y"
        },
        {
         "alignmentgroup": "True",
         "hoverlabel": {
          "namelength": 0
         },
         "hovertemplate": "symbol=BMY<br>portfolio=%{x}<br>percent=%{y}",
         "legendgroup": "BMY",
         "marker": {
          "color": "#FECB52"
         },
         "name": "BMY",
         "offsetgroup": "BMY",
         "orientation": "v",
         "showlegend": true,
         "textposition": "auto",
         "type": "bar",
         "x": [
          "Biotechnology"
         ],
         "xaxis": "x",
         "y": [
          1.94
         ],
         "yaxis": "y"
        },
        {
         "alignmentgroup": "True",
         "hoverlabel": {
          "namelength": 0
         },
         "hovertemplate": "symbol=NVO<br>portfolio=%{x}<br>percent=%{y}",
         "legendgroup": "NVO",
         "marker": {
          "color": "#636efa"
         },
         "name": "NVO",
         "offsetgroup": "NVO",
         "orientation": "v",
         "showlegend": true,
         "textposition": "auto",
         "type": "bar",
         "x": [
          "Biotechnology"
         ],
         "xaxis": "x",
         "y": [
          0.07
         ],
         "yaxis": "y"
        },
        {
         "alignmentgroup": "True",
         "hoverlabel": {
          "namelength": 0
         },
         "hovertemplate": "symbol=EXEL<br>portfolio=%{x}<br>percent=%{y}",
         "legendgroup": "EXEL",
         "marker": {
          "color": "#EF553B"
         },
         "name": "EXEL",
         "offsetgroup": "EXEL",
         "orientation": "v",
         "showlegend": true,
         "textposition": "auto",
         "type": "bar",
         "x": [
          "Biotechnology"
         ],
         "xaxis": "x",
         "y": [
          -0.4
         ],
         "yaxis": "y"
        },
        {
         "alignmentgroup": "True",
         "hoverlabel": {
          "namelength": 0
         },
         "hovertemplate": "symbol=INVA<br>portfolio=%{x}<br>percent=%{y}",
         "legendgroup": "INVA",
         "marker": {
          "color": "#00cc96"
         },
         "name": "INVA",
         "offsetgroup": "INVA",
         "orientation": "v",
         "showlegend": true,
         "textposition": "auto",
         "type": "bar",
         "x": [
          "Biotechnology"
         ],
         "xaxis": "x",
         "y": [
          3.33
         ],
         "yaxis": "y"
        },
        {
         "alignmentgroup": "True",
         "hoverlabel": {
          "namelength": 0
         },
         "hovertemplate": "symbol=NVS<br>portfolio=%{x}<br>percent=%{y}",
         "legendgroup": "NVS",
         "marker": {
          "color": "#ab63fa"
         },
         "name": "NVS",
         "offsetgroup": "NVS",
         "orientation": "v",
         "showlegend": true,
         "textposition": "auto",
         "type": "bar",
         "x": [
          "Biotechnology"
         ],
         "xaxis": "x",
         "y": [
          0.68
         ],
         "yaxis": "y"
        },
        {
         "alignmentgroup": "True",
         "hoverlabel": {
          "namelength": 0
         },
         "hovertemplate": "symbol=LLY<br>portfolio=%{x}<br>percent=%{y}",
         "legendgroup": "LLY",
         "marker": {
          "color": "#FFA15A"
         },
         "name": "LLY",
         "offsetgroup": "LLY",
         "orientation": "v",
         "showlegend": true,
         "textposition": "auto",
         "type": "bar",
         "x": [
          "Biotechnology"
         ],
         "xaxis": "x",
         "y": [
          1.27
         ],
         "yaxis": "y"
        },
        {
         "alignmentgroup": "True",
         "hoverlabel": {
          "namelength": 0
         },
         "hovertemplate": "symbol=USHY<br>portfolio=%{x}<br>percent=%{y}",
         "legendgroup": "USHY",
         "marker": {
          "color": "#19d3f3"
         },
         "name": "USHY",
         "offsetgroup": "USHY",
         "orientation": "v",
         "showlegend": true,
         "textposition": "auto",
         "type": "bar",
         "x": [
          "Bonds"
         ],
         "xaxis": "x",
         "y": [
          0.16
         ],
         "yaxis": "y"
        },
        {
         "alignmentgroup": "True",
         "hoverlabel": {
          "namelength": 0
         },
         "hovertemplate": "symbol=BIL<br>portfolio=%{x}<br>percent=%{y}",
         "legendgroup": "BIL",
         "marker": {
          "color": "#FF6692"
         },
         "name": "BIL",
         "offsetgroup": "BIL",
         "orientation": "v",
         "showlegend": true,
         "textposition": "auto",
         "type": "bar",
         "x": [
          "Bonds"
         ],
         "xaxis": "x",
         "y": [
          0
         ],
         "yaxis": "y"
        },
        {
         "alignmentgroup": "True",
         "hoverlabel": {
          "namelength": 0
         },
         "hovertemplate": "symbol=EDV<br>portfolio=%{x}<br>percent=%{y}",
         "legendgroup": "EDV",
         "marker": {
          "color": "#B6E880"
         },
         "name": "EDV",
         "offsetgroup": "EDV",
         "orientation": "v",
         "showlegend": true,
         "textposition": "auto",
         "type": "bar",
         "x": [
          "Bonds"
         ],
         "xaxis": "x",
         "y": [
          0.04
         ],
         "yaxis": "y"
        },
        {
         "alignmentgroup": "True",
         "hoverlabel": {
          "namelength": 0
         },
         "hovertemplate": "symbol=TLT<br>portfolio=%{x}<br>percent=%{y}",
         "legendgroup": "TLT",
         "marker": {
          "color": "#FF97FF"
         },
         "name": "TLT",
         "offsetgroup": "TLT",
         "orientation": "v",
         "showlegend": true,
         "textposition": "auto",
         "type": "bar",
         "x": [
          "Bonds"
         ],
         "xaxis": "x",
         "y": [
          0.02
         ],
         "yaxis": "y"
        },
        {
         "alignmentgroup": "True",
         "hoverlabel": {
          "namelength": 0
         },
         "hovertemplate": "symbol=ZROZ<br>portfolio=%{x}<br>percent=%{y}",
         "legendgroup": "ZROZ",
         "marker": {
          "color": "#FECB52"
         },
         "name": "ZROZ",
         "offsetgroup": "ZROZ",
         "orientation": "v",
         "showlegend": true,
         "textposition": "auto",
         "type": "bar",
         "x": [
          "Bonds"
         ],
         "xaxis": "x",
         "y": [
          -0.01
         ],
         "yaxis": "y"
        },
        {
         "alignmentgroup": "True",
         "hoverlabel": {
          "namelength": 0
         },
         "hovertemplate": "symbol=SHV<br>portfolio=%{x}<br>percent=%{y}",
         "legendgroup": "SHV",
         "marker": {
          "color": "#636efa"
         },
         "name": "SHV",
         "offsetgroup": "SHV",
         "orientation": "v",
         "showlegend": true,
         "textposition": "auto",
         "type": "bar",
         "x": [
          "Bonds"
         ],
         "xaxis": "x",
         "y": [
          0
         ],
         "yaxis": "y"
        },
        {
         "alignmentgroup": "True",
         "hoverlabel": {
          "namelength": 0
         },
         "hovertemplate": "symbol=VGSH<br>portfolio=%{x}<br>percent=%{y}",
         "legendgroup": "VGSH",
         "marker": {
          "color": "#EF553B"
         },
         "name": "VGSH",
         "offsetgroup": "VGSH",
         "orientation": "v",
         "showlegend": true,
         "textposition": "auto",
         "type": "bar",
         "x": [
          "Bonds"
         ],
         "xaxis": "x",
         "y": [
          -0.02
         ],
         "yaxis": "y"
        },
        {
         "alignmentgroup": "True",
         "hoverlabel": {
          "namelength": 0
         },
         "hovertemplate": "symbol=IEF<br>portfolio=%{x}<br>percent=%{y}",
         "legendgroup": "IEF",
         "marker": {
          "color": "#00cc96"
         },
         "name": "IEF",
         "offsetgroup": "IEF",
         "orientation": "v",
         "showlegend": true,
         "textposition": "auto",
         "type": "bar",
         "x": [
          "Bonds"
         ],
         "xaxis": "x",
         "y": [
          -0.09
         ],
         "yaxis": "y"
        },
        {
         "alignmentgroup": "True",
         "hoverlabel": {
          "namelength": 0
         },
         "hovertemplate": "symbol=BME<br>portfolio=%{x}<br>percent=%{y}",
         "legendgroup": "BME",
         "marker": {
          "color": "#ab63fa"
         },
         "name": "BME",
         "offsetgroup": "BME",
         "orientation": "v",
         "showlegend": true,
         "textposition": "auto",
         "type": "bar",
         "x": [
          "CEF"
         ],
         "xaxis": "x",
         "y": [
          1.12
         ],
         "yaxis": "y"
        },
        {
         "alignmentgroup": "True",
         "hoverlabel": {
          "namelength": 0
         },
         "hovertemplate": "symbol=TDF<br>portfolio=%{x}<br>percent=%{y}",
         "legendgroup": "TDF",
         "marker": {
          "color": "#FFA15A"
         },
         "name": "TDF",
         "offsetgroup": "TDF",
         "orientation": "v",
         "showlegend": true,
         "textposition": "auto",
         "type": "bar",
         "x": [
          "CEF"
         ],
         "xaxis": "x",
         "y": [
          0.06
         ],
         "yaxis": "y"
        },
        {
         "alignmentgroup": "True",
         "hoverlabel": {
          "namelength": 0
         },
         "hovertemplate": "symbol=FPE<br>portfolio=%{x}<br>percent=%{y}",
         "legendgroup": "FPE",
         "marker": {
          "color": "#19d3f3"
         },
         "name": "FPE",
         "offsetgroup": "FPE",
         "orientation": "v",
         "showlegend": true,
         "textposition": "auto",
         "type": "bar",
         "x": [
          "CEF"
         ],
         "xaxis": "x",
         "y": [
          0.18
         ],
         "yaxis": "y"
        },
        {
         "alignmentgroup": "True",
         "hoverlabel": {
          "namelength": 0
         },
         "hovertemplate": "symbol=THQ<br>portfolio=%{x}<br>percent=%{y}",
         "legendgroup": "THQ",
         "marker": {
          "color": "#FF6692"
         },
         "name": "THQ",
         "offsetgroup": "THQ",
         "orientation": "v",
         "showlegend": true,
         "textposition": "auto",
         "type": "bar",
         "x": [
          "CEF"
         ],
         "xaxis": "x",
         "y": [
          2.3
         ],
         "yaxis": "y"
        },
        {
         "alignmentgroup": "True",
         "hoverlabel": {
          "namelength": 0
         },
         "hovertemplate": "symbol=EVT<br>portfolio=%{x}<br>percent=%{y}",
         "legendgroup": "EVT",
         "marker": {
          "color": "#B6E880"
         },
         "name": "EVT",
         "offsetgroup": "EVT",
         "orientation": "v",
         "showlegend": true,
         "textposition": "auto",
         "type": "bar",
         "x": [
          "CEF"
         ],
         "xaxis": "x",
         "y": [
          2.9
         ],
         "yaxis": "y"
        },
        {
         "alignmentgroup": "True",
         "hoverlabel": {
          "namelength": 0
         },
         "hovertemplate": "symbol=AOD<br>portfolio=%{x}<br>percent=%{y}",
         "legendgroup": "AOD",
         "marker": {
          "color": "#FF97FF"
         },
         "name": "AOD",
         "offsetgroup": "AOD",
         "orientation": "v",
         "showlegend": true,
         "textposition": "auto",
         "type": "bar",
         "x": [
          "CEF"
         ],
         "xaxis": "x",
         "y": [
          2.21
         ],
         "yaxis": "y"
        },
        {
         "alignmentgroup": "True",
         "hoverlabel": {
          "namelength": 0
         },
         "hovertemplate": "symbol=THW<br>portfolio=%{x}<br>percent=%{y}",
         "legendgroup": "THW",
         "marker": {
          "color": "#FECB52"
         },
         "name": "THW",
         "offsetgroup": "THW",
         "orientation": "v",
         "showlegend": true,
         "textposition": "auto",
         "type": "bar",
         "x": [
          "CEF"
         ],
         "xaxis": "x",
         "y": [
          1.74
         ],
         "yaxis": "y"
        },
        {
         "alignmentgroup": "True",
         "hoverlabel": {
          "namelength": 0
         },
         "hovertemplate": "symbol=CHY<br>portfolio=%{x}<br>percent=%{y}",
         "legendgroup": "CHY",
         "marker": {
          "color": "#636efa"
         },
         "name": "CHY",
         "offsetgroup": "CHY",
         "orientation": "v",
         "showlegend": true,
         "textposition": "auto",
         "type": "bar",
         "x": [
          "CEF"
         ],
         "xaxis": "x",
         "y": [
          1.22
         ],
         "yaxis": "y"
        },
        {
         "alignmentgroup": "True",
         "hoverlabel": {
          "namelength": 0
         },
         "hovertemplate": "symbol=DFP<br>portfolio=%{x}<br>percent=%{y}",
         "legendgroup": "DFP",
         "marker": {
          "color": "#EF553B"
         },
         "name": "DFP",
         "offsetgroup": "DFP",
         "orientation": "v",
         "showlegend": true,
         "textposition": "auto",
         "type": "bar",
         "x": [
          "CEF"
         ],
         "xaxis": "x",
         "y": [
          0.07
         ],
         "yaxis": "y"
        },
        {
         "alignmentgroup": "True",
         "hoverlabel": {
          "namelength": 0
         },
         "hovertemplate": "symbol=HQH<br>portfolio=%{x}<br>percent=%{y}",
         "legendgroup": "HQH",
         "marker": {
          "color": "#00cc96"
         },
         "name": "HQH",
         "offsetgroup": "HQH",
         "orientation": "v",
         "showlegend": true,
         "textposition": "auto",
         "type": "bar",
         "x": [
          "CEF"
         ],
         "xaxis": "x",
         "y": [
          1.75
         ],
         "yaxis": "y"
        },
        {
         "alignmentgroup": "True",
         "hoverlabel": {
          "namelength": 0
         },
         "hovertemplate": "symbol=HQL<br>portfolio=%{x}<br>percent=%{y}",
         "legendgroup": "HQL",
         "marker": {
          "color": "#ab63fa"
         },
         "name": "HQL",
         "offsetgroup": "HQL",
         "orientation": "v",
         "showlegend": true,
         "textposition": "auto",
         "type": "bar",
         "x": [
          "CEF"
         ],
         "xaxis": "x",
         "y": [
          2
         ],
         "yaxis": "y"
        },
        {
         "alignmentgroup": "True",
         "hoverlabel": {
          "namelength": 0
         },
         "hovertemplate": "symbol=CRF<br>portfolio=%{x}<br>percent=%{y}",
         "legendgroup": "CRF",
         "marker": {
          "color": "#FFA15A"
         },
         "name": "CRF",
         "offsetgroup": "CRF",
         "orientation": "v",
         "showlegend": true,
         "textposition": "auto",
         "type": "bar",
         "x": [
          "CEF"
         ],
         "xaxis": "x",
         "y": [
          -0.63
         ],
         "yaxis": "y"
        },
        {
         "alignmentgroup": "True",
         "hoverlabel": {
          "namelength": 0
         },
         "hovertemplate": "symbol=PTY<br>portfolio=%{x}<br>percent=%{y}",
         "legendgroup": "PTY",
         "marker": {
          "color": "#19d3f3"
         },
         "name": "PTY",
         "offsetgroup": "PTY",
         "orientation": "v",
         "showlegend": true,
         "textposition": "auto",
         "type": "bar",
         "x": [
          "CEF"
         ],
         "xaxis": "x",
         "y": [
          0.18
         ],
         "yaxis": "y"
        },
        {
         "alignmentgroup": "True",
         "hoverlabel": {
          "namelength": 0
         },
         "hovertemplate": "symbol=CGC<br>portfolio=%{x}<br>percent=%{y}",
         "legendgroup": "CGC",
         "marker": {
          "color": "#FF6692"
         },
         "name": "CGC",
         "offsetgroup": "CGC",
         "orientation": "v",
         "showlegend": true,
         "textposition": "auto",
         "type": "bar",
         "x": [
          "Cannabis"
         ],
         "xaxis": "x",
         "y": [
          3.56
         ],
         "yaxis": "y"
        },
        {
         "alignmentgroup": "True",
         "hoverlabel": {
          "namelength": 0
         },
         "hovertemplate": "symbol=SMG<br>portfolio=%{x}<br>percent=%{y}",
         "legendgroup": "SMG",
         "marker": {
          "color": "#B6E880"
         },
         "name": "SMG",
         "offsetgroup": "SMG",
         "orientation": "v",
         "showlegend": true,
         "textposition": "auto",
         "type": "bar",
         "x": [
          "Cannabis"
         ],
         "xaxis": "x",
         "y": [
          0.41
         ],
         "yaxis": "y"
        },
        {
         "alignmentgroup": "True",
         "hoverlabel": {
          "namelength": 0
         },
         "hovertemplate": "symbol=APHA<br>portfolio=%{x}<br>percent=%{y}",
         "legendgroup": "APHA",
         "marker": {
          "color": "#FF97FF"
         },
         "name": "APHA",
         "offsetgroup": "APHA",
         "orientation": "v",
         "showlegend": true,
         "textposition": "auto",
         "type": "bar",
         "x": [
          "Cannabis"
         ],
         "xaxis": "x",
         "y": [
          3.8
         ],
         "yaxis": "y"
        },
        {
         "alignmentgroup": "True",
         "hoverlabel": {
          "namelength": 0
         },
         "hovertemplate": "symbol=GTBIF<br>portfolio=%{x}<br>percent=%{y}",
         "legendgroup": "GTBIF",
         "marker": {
          "color": "#FECB52"
         },
         "name": "GTBIF",
         "offsetgroup": "GTBIF",
         "orientation": "v",
         "showlegend": true,
         "textposition": "auto",
         "type": "bar",
         "x": [
          "Cannabis"
         ],
         "xaxis": "x",
         "y": [
          0
         ],
         "yaxis": "y"
        },
        {
         "alignmentgroup": "True",
         "hoverlabel": {
          "namelength": 0
         },
         "hovertemplate": "symbol=GRWG<br>portfolio=%{x}<br>percent=%{y}",
         "legendgroup": "GRWG",
         "marker": {
          "color": "#636efa"
         },
         "name": "GRWG",
         "offsetgroup": "GRWG",
         "orientation": "v",
         "showlegend": true,
         "textposition": "auto",
         "type": "bar",
         "x": [
          "Cannabis"
         ],
         "xaxis": "x",
         "y": [
          1.94
         ],
         "yaxis": "y"
        },
        {
         "alignmentgroup": "True",
         "hoverlabel": {
          "namelength": 0
         },
         "hovertemplate": "symbol=CURLF<br>portfolio=%{x}<br>percent=%{y}",
         "legendgroup": "CURLF",
         "marker": {
          "color": "#EF553B"
         },
         "name": "CURLF",
         "offsetgroup": "CURLF",
         "orientation": "v",
         "showlegend": true,
         "textposition": "auto",
         "type": "bar",
         "x": [
          "Cannabis"
         ],
         "xaxis": "x",
         "y": [
          2.08
         ],
         "yaxis": "y"
        },
        {
         "alignmentgroup": "True",
         "hoverlabel": {
          "namelength": 0
         },
         "hovertemplate": "symbol=TLRY<br>portfolio=%{x}<br>percent=%{y}",
         "legendgroup": "TLRY",
         "marker": {
          "color": "#00cc96"
         },
         "name": "TLRY",
         "offsetgroup": "TLRY",
         "orientation": "v",
         "showlegend": true,
         "textposition": "auto",
         "type": "bar",
         "x": [
          "Cannabis"
         ],
         "xaxis": "x",
         "y": [
          3.1
         ],
         "yaxis": "y"
        },
        {
         "alignmentgroup": "True",
         "hoverlabel": {
          "namelength": 0
         },
         "hovertemplate": "symbol=HEXO<br>portfolio=%{x}<br>percent=%{y}",
         "legendgroup": "HEXO",
         "marker": {
          "color": "#ab63fa"
         },
         "name": "HEXO",
         "offsetgroup": "HEXO",
         "orientation": "v",
         "showlegend": true,
         "textposition": "auto",
         "type": "bar",
         "x": [
          "Cannabis"
         ],
         "xaxis": "x",
         "y": [
          1.76
         ],
         "yaxis": "y"
        },
        {
         "alignmentgroup": "True",
         "hoverlabel": {
          "namelength": 0
         },
         "hovertemplate": "symbol=CRON<br>portfolio=%{x}<br>percent=%{y}",
         "legendgroup": "CRON",
         "marker": {
          "color": "#FFA15A"
         },
         "name": "CRON",
         "offsetgroup": "CRON",
         "orientation": "v",
         "showlegend": true,
         "textposition": "auto",
         "type": "bar",
         "x": [
          "Cannabis"
         ],
         "xaxis": "x",
         "y": [
          3.28
         ],
         "yaxis": "y"
        },
        {
         "alignmentgroup": "True",
         "hoverlabel": {
          "namelength": 0
         },
         "hovertemplate": "symbol=TCNNF<br>portfolio=%{x}<br>percent=%{y}",
         "legendgroup": "TCNNF",
         "marker": {
          "color": "#19d3f3"
         },
         "name": "TCNNF",
         "offsetgroup": "TCNNF",
         "orientation": "v",
         "showlegend": true,
         "textposition": "auto",
         "type": "bar",
         "x": [
          "Cannabis"
         ],
         "xaxis": "x",
         "y": [
          1.77
         ],
         "yaxis": "y"
        },
        {
         "alignmentgroup": "True",
         "hoverlabel": {
          "namelength": 0
         },
         "hovertemplate": "symbol=ACB<br>portfolio=%{x}<br>percent=%{y}",
         "legendgroup": "ACB",
         "marker": {
          "color": "#FF6692"
         },
         "name": "ACB",
         "offsetgroup": "ACB",
         "orientation": "v",
         "showlegend": true,
         "textposition": "auto",
         "type": "bar",
         "x": [
          "Cannabis"
         ],
         "xaxis": "x",
         "y": [
          1.65
         ],
         "yaxis": "y"
        },
        {
         "alignmentgroup": "True",
         "hoverlabel": {
          "namelength": 0
         },
         "hovertemplate": "symbol=OKTA<br>portfolio=%{x}<br>percent=%{y}",
         "legendgroup": "OKTA",
         "marker": {
          "color": "#B6E880"
         },
         "name": "OKTA",
         "offsetgroup": "OKTA",
         "orientation": "v",
         "showlegend": true,
         "textposition": "auto",
         "type": "bar",
         "x": [
          "Cloud Enterprise Apps"
         ],
         "xaxis": "x",
         "y": [
          -0.1
         ],
         "yaxis": "y"
        },
        {
         "alignmentgroup": "True",
         "hoverlabel": {
          "namelength": 0
         },
         "hovertemplate": "symbol=ZS<br>portfolio=%{x}<br>percent=%{y}",
         "legendgroup": "ZS",
         "marker": {
          "color": "#FF97FF"
         },
         "name": "ZS",
         "offsetgroup": "ZS",
         "orientation": "v",
         "showlegend": true,
         "textposition": "auto",
         "type": "bar",
         "x": [
          "Cloud Enterprise Apps"
         ],
         "xaxis": "x",
         "y": [
          -5.55
         ],
         "yaxis": "y"
        },
        {
         "alignmentgroup": "True",
         "hoverlabel": {
          "namelength": 0
         },
         "hovertemplate": "symbol=CRWD<br>portfolio=%{x}<br>percent=%{y}",
         "legendgroup": "CRWD",
         "marker": {
          "color": "#FECB52"
         },
         "name": "CRWD",
         "offsetgroup": "CRWD",
         "orientation": "v",
         "showlegend": true,
         "textposition": "auto",
         "type": "bar",
         "x": [
          "Cloud Enterprise Apps"
         ],
         "xaxis": "x",
         "y": [
          -2.57
         ],
         "yaxis": "y"
        },
        {
         "alignmentgroup": "True",
         "hoverlabel": {
          "namelength": 0
         },
         "hovertemplate": "symbol=VEEV<br>portfolio=%{x}<br>percent=%{y}",
         "legendgroup": "VEEV",
         "marker": {
          "color": "#636efa"
         },
         "name": "VEEV",
         "offsetgroup": "VEEV",
         "orientation": "v",
         "showlegend": true,
         "textposition": "auto",
         "type": "bar",
         "x": [
          "Cloud Enterprise Apps"
         ],
         "xaxis": "x",
         "y": [
          -3.32
         ],
         "yaxis": "y"
        },
        {
         "alignmentgroup": "True",
         "hoverlabel": {
          "namelength": 0
         },
         "hovertemplate": "symbol=TWLO<br>portfolio=%{x}<br>percent=%{y}",
         "legendgroup": "TWLO",
         "marker": {
          "color": "#EF553B"
         },
         "name": "TWLO",
         "offsetgroup": "TWLO",
         "orientation": "v",
         "showlegend": true,
         "textposition": "auto",
         "type": "bar",
         "x": [
          "Cloud Enterprise Apps"
         ],
         "xaxis": "x",
         "y": [
          -2.65
         ],
         "yaxis": "y"
        },
        {
         "alignmentgroup": "True",
         "hoverlabel": {
          "namelength": 0
         },
         "hovertemplate": "symbol=TLND<br>portfolio=%{x}<br>percent=%{y}",
         "legendgroup": "TLND",
         "marker": {
          "color": "#00cc96"
         },
         "name": "TLND",
         "offsetgroup": "TLND",
         "orientation": "v",
         "showlegend": true,
         "textposition": "auto",
         "type": "bar",
         "x": [
          "Cloud Enterprise Apps"
         ],
         "xaxis": "x",
         "y": [
          1.45
         ],
         "yaxis": "y"
        },
        {
         "alignmentgroup": "True",
         "hoverlabel": {
          "namelength": 0
         },
         "hovertemplate": "symbol=AYX<br>portfolio=%{x}<br>percent=%{y}",
         "legendgroup": "AYX",
         "marker": {
          "color": "#ab63fa"
         },
         "name": "AYX",
         "offsetgroup": "AYX",
         "orientation": "v",
         "showlegend": true,
         "textposition": "auto",
         "type": "bar",
         "x": [
          "Cloud Retail Apps"
         ],
         "xaxis": "x",
         "y": [
          -2.08
         ],
         "yaxis": "y"
        },
        {
         "alignmentgroup": "True",
         "hoverlabel": {
          "namelength": 0
         },
         "hovertemplate": "symbol=SHOP<br>portfolio=%{x}<br>percent=%{y}",
         "legendgroup": "SHOP",
         "marker": {
          "color": "#FFA15A"
         },
         "name": "SHOP",
         "offsetgroup": "SHOP",
         "orientation": "v",
         "showlegend": true,
         "textposition": "auto",
         "type": "bar",
         "x": [
          "Cloud Retail Apps"
         ],
         "xaxis": "x",
         "y": [
          -0.81
         ],
         "yaxis": "y"
        },
        {
         "alignmentgroup": "True",
         "hoverlabel": {
          "namelength": 0
         },
         "hovertemplate": "symbol=DOCRF<br>portfolio=%{x}<br>percent=%{y}",
         "legendgroup": "DOCRF",
         "marker": {
          "color": "#19d3f3"
         },
         "name": "DOCRF",
         "offsetgroup": "DOCRF",
         "orientation": "v",
         "showlegend": true,
         "textposition": "auto",
         "type": "bar",
         "x": [
          "Cloud Retail Apps"
         ],
         "xaxis": "x",
         "y": [
          -2.44
         ],
         "yaxis": "y"
        },
        {
         "alignmentgroup": "True",
         "hoverlabel": {
          "namelength": 0
         },
         "hovertemplate": "symbol=SQ<br>portfolio=%{x}<br>percent=%{y}",
         "legendgroup": "SQ",
         "marker": {
          "color": "#FF6692"
         },
         "name": "SQ",
         "offsetgroup": "SQ",
         "orientation": "v",
         "showlegend": true,
         "textposition": "auto",
         "type": "bar",
         "x": [
          "Cloud Retail Apps"
         ],
         "xaxis": "x",
         "y": [
          -0.56
         ],
         "yaxis": "y"
        },
        {
         "alignmentgroup": "True",
         "hoverlabel": {
          "namelength": 0
         },
         "hovertemplate": "symbol=PCTY<br>portfolio=%{x}<br>percent=%{y}",
         "legendgroup": "PCTY",
         "marker": {
          "color": "#B6E880"
         },
         "name": "PCTY",
         "offsetgroup": "PCTY",
         "orientation": "v",
         "showlegend": true,
         "textposition": "auto",
         "type": "bar",
         "x": [
          "Cloud Retail Apps"
         ],
         "xaxis": "x",
         "y": [
          -1.13
         ],
         "yaxis": "y"
        },
        {
         "alignmentgroup": "True",
         "hoverlabel": {
          "namelength": 0
         },
         "hovertemplate": "symbol=PAYC<br>portfolio=%{x}<br>percent=%{y}",
         "legendgroup": "PAYC",
         "marker": {
          "color": "#FF97FF"
         },
         "name": "PAYC",
         "offsetgroup": "PAYC",
         "orientation": "v",
         "showlegend": true,
         "textposition": "auto",
         "type": "bar",
         "x": [
          "Cloud Retail Apps"
         ],
         "xaxis": "x",
         "y": [
          0.89
         ],
         "yaxis": "y"
        },
        {
         "alignmentgroup": "True",
         "hoverlabel": {
          "namelength": 0
         },
         "hovertemplate": "symbol=NET<br>portfolio=%{x}<br>percent=%{y}",
         "legendgroup": "NET",
         "marker": {
          "color": "#FECB52"
         },
         "name": "NET",
         "offsetgroup": "NET",
         "orientation": "v",
         "showlegend": true,
         "textposition": "auto",
         "type": "bar",
         "x": [
          "Communication Services"
         ],
         "xaxis": "x",
         "y": [
          0.43
         ],
         "yaxis": "y"
        },
        {
         "alignmentgroup": "True",
         "hoverlabel": {
          "namelength": 0
         },
         "hovertemplate": "symbol=BAND<br>portfolio=%{x}<br>percent=%{y}",
         "legendgroup": "BAND",
         "marker": {
          "color": "#636efa"
         },
         "name": "BAND",
         "offsetgroup": "BAND",
         "orientation": "v",
         "showlegend": true,
         "textposition": "auto",
         "type": "bar",
         "x": [
          "Communication Services"
         ],
         "xaxis": "x",
         "y": [
          -4.17
         ],
         "yaxis": "y"
        },
        {
         "alignmentgroup": "True",
         "hoverlabel": {
          "namelength": 0
         },
         "hovertemplate": "symbol=ZM<br>portfolio=%{x}<br>percent=%{y}",
         "legendgroup": "ZM",
         "marker": {
          "color": "#EF553B"
         },
         "name": "ZM",
         "offsetgroup": "ZM",
         "orientation": "v",
         "showlegend": true,
         "textposition": "auto",
         "type": "bar",
         "x": [
          "Communication Services"
         ],
         "xaxis": "x",
         "y": [
          -6.18
         ],
         "yaxis": "y"
        },
        {
         "alignmentgroup": "True",
         "hoverlabel": {
          "namelength": 0
         },
         "hovertemplate": "symbol=VG<br>portfolio=%{x}<br>percent=%{y}",
         "legendgroup": "VG",
         "marker": {
          "color": "#00cc96"
         },
         "name": "VG",
         "offsetgroup": "VG",
         "orientation": "v",
         "showlegend": true,
         "textposition": "auto",
         "type": "bar",
         "x": [
          "Communication Services"
         ],
         "xaxis": "x",
         "y": [
          2.88
         ],
         "yaxis": "y"
        },
        {
         "alignmentgroup": "True",
         "hoverlabel": {
          "namelength": 0
         },
         "hovertemplate": "symbol=CDLX<br>portfolio=%{x}<br>percent=%{y}",
         "legendgroup": "CDLX",
         "marker": {
          "color": "#ab63fa"
         },
         "name": "CDLX",
         "offsetgroup": "CDLX",
         "orientation": "v",
         "showlegend": true,
         "textposition": "auto",
         "type": "bar",
         "x": [
          "Communication Services"
         ],
         "xaxis": "x",
         "y": [
          2.42
         ],
         "yaxis": "y"
        },
        {
         "alignmentgroup": "True",
         "hoverlabel": {
          "namelength": 0
         },
         "hovertemplate": "symbol=FSLY<br>portfolio=%{x}<br>percent=%{y}",
         "legendgroup": "FSLY",
         "marker": {
          "color": "#FFA15A"
         },
         "name": "FSLY",
         "offsetgroup": "FSLY",
         "orientation": "v",
         "showlegend": true,
         "textposition": "auto",
         "type": "bar",
         "x": [
          "Communication Services"
         ],
         "xaxis": "x",
         "y": [
          2.75
         ],
         "yaxis": "y"
        },
        {
         "alignmentgroup": "True",
         "hoverlabel": {
          "namelength": 0
         },
         "hovertemplate": "symbol=EVER<br>portfolio=%{x}<br>percent=%{y}",
         "legendgroup": "EVER",
         "marker": {
          "color": "#19d3f3"
         },
         "name": "EVER",
         "offsetgroup": "EVER",
         "orientation": "v",
         "showlegend": true,
         "textposition": "auto",
         "type": "bar",
         "x": [
          "Communication Services"
         ],
         "xaxis": "x",
         "y": [
          -0.86
         ],
         "yaxis": "y"
        },
        {
         "alignmentgroup": "True",
         "hoverlabel": {
          "namelength": 0
         },
         "hovertemplate": "symbol=FDHY<br>portfolio=%{x}<br>percent=%{y}",
         "legendgroup": "FDHY",
         "marker": {
          "color": "#FF6692"
         },
         "name": "FDHY",
         "offsetgroup": "FDHY",
         "orientation": "v",
         "showlegend": true,
         "textposition": "auto",
         "type": "bar",
         "x": [
          "Corporate Bonds"
         ],
         "xaxis": "x",
         "y": [
          0.1
         ],
         "yaxis": "y"
        },
        {
         "alignmentgroup": "True",
         "hoverlabel": {
          "namelength": 0
         },
         "hovertemplate": "symbol=VCSH<br>portfolio=%{x}<br>percent=%{y}",
         "legendgroup": "VCSH",
         "marker": {
          "color": "#B6E880"
         },
         "name": "VCSH",
         "offsetgroup": "VCSH",
         "orientation": "v",
         "showlegend": true,
         "textposition": "auto",
         "type": "bar",
         "x": [
          "Corporate Bonds"
         ],
         "xaxis": "x",
         "y": [
          0.07
         ],
         "yaxis": "y"
        },
        {
         "alignmentgroup": "True",
         "hoverlabel": {
          "namelength": 0
         },
         "hovertemplate": "symbol=LQD<br>portfolio=%{x}<br>percent=%{y}",
         "legendgroup": "LQD",
         "marker": {
          "color": "#FF97FF"
         },
         "name": "LQD",
         "offsetgroup": "LQD",
         "orientation": "v",
         "showlegend": true,
         "textposition": "auto",
         "type": "bar",
         "x": [
          "Corporate Bonds"
         ],
         "xaxis": "x",
         "y": [
          0.3
         ],
         "yaxis": "y"
        },
        {
         "alignmentgroup": "True",
         "hoverlabel": {
          "namelength": 0
         },
         "hovertemplate": "symbol=ANGL<br>portfolio=%{x}<br>percent=%{y}",
         "legendgroup": "ANGL",
         "marker": {
          "color": "#FECB52"
         },
         "name": "ANGL",
         "offsetgroup": "ANGL",
         "orientation": "v",
         "showlegend": true,
         "textposition": "auto",
         "type": "bar",
         "x": [
          "Corporate Bonds"
         ],
         "xaxis": "x",
         "y": [
          0.21
         ],
         "yaxis": "y"
        },
        {
         "alignmentgroup": "True",
         "hoverlabel": {
          "namelength": 0
         },
         "hovertemplate": "symbol=VCLT<br>portfolio=%{x}<br>percent=%{y}",
         "legendgroup": "VCLT",
         "marker": {
          "color": "#636efa"
         },
         "name": "VCLT",
         "offsetgroup": "VCLT",
         "orientation": "v",
         "showlegend": true,
         "textposition": "auto",
         "type": "bar",
         "x": [
          "Corporate Bonds"
         ],
         "xaxis": "x",
         "y": [
          0.45
         ],
         "yaxis": "y"
        },
        {
         "alignmentgroup": "True",
         "hoverlabel": {
          "namelength": 0
         },
         "hovertemplate": "symbol=FLDR<br>portfolio=%{x}<br>percent=%{y}",
         "legendgroup": "FLDR",
         "marker": {
          "color": "#EF553B"
         },
         "name": "FLDR",
         "offsetgroup": "FLDR",
         "orientation": "v",
         "showlegend": true,
         "textposition": "auto",
         "type": "bar",
         "x": [
          "Corporate Bonds"
         ],
         "xaxis": "x",
         "y": [
          0.05
         ],
         "yaxis": "y"
        },
        {
         "alignmentgroup": "True",
         "hoverlabel": {
          "namelength": 0
         },
         "hovertemplate": "symbol=FLC<br>portfolio=%{x}<br>percent=%{y}",
         "legendgroup": "FLC",
         "marker": {
          "color": "#00cc96"
         },
         "name": "FLC",
         "offsetgroup": "FLC",
         "orientation": "v",
         "showlegend": true,
         "textposition": "auto",
         "type": "bar",
         "x": [
          "Dividend"
         ],
         "xaxis": "x",
         "y": [
          1.33
         ],
         "yaxis": "y"
        },
        {
         "alignmentgroup": "True",
         "hoverlabel": {
          "namelength": 0
         },
         "hovertemplate": "symbol=FFC<br>portfolio=%{x}<br>percent=%{y}",
         "legendgroup": "FFC",
         "marker": {
          "color": "#ab63fa"
         },
         "name": "FFC",
         "offsetgroup": "FFC",
         "orientation": "v",
         "showlegend": true,
         "textposition": "auto",
         "type": "bar",
         "x": [
          "Dividend"
         ],
         "xaxis": "x",
         "y": [
          0.98
         ],
         "yaxis": "y"
        },
        {
         "alignmentgroup": "True",
         "hoverlabel": {
          "namelength": 0
         },
         "hovertemplate": "symbol=EAGG<br>portfolio=%{x}<br>percent=%{y}",
         "legendgroup": "EAGG",
         "marker": {
          "color": "#FFA15A"
         },
         "name": "EAGG",
         "offsetgroup": "EAGG",
         "orientation": "v",
         "showlegend": true,
         "textposition": "auto",
         "type": "bar",
         "x": [
          "ESG"
         ],
         "xaxis": "x",
         "y": [
          0.05
         ],
         "yaxis": "y"
        },
        {
         "alignmentgroup": "True",
         "hoverlabel": {
          "namelength": 0
         },
         "hovertemplate": "symbol=ESGE<br>portfolio=%{x}<br>percent=%{y}",
         "legendgroup": "ESGE",
         "marker": {
          "color": "#19d3f3"
         },
         "name": "ESGE",
         "offsetgroup": "ESGE",
         "orientation": "v",
         "showlegend": true,
         "textposition": "auto",
         "type": "bar",
         "x": [
          "ESG"
         ],
         "xaxis": "x",
         "y": [
          1.58
         ],
         "yaxis": "y"
        },
        {
         "alignmentgroup": "True",
         "hoverlabel": {
          "namelength": 0
         },
         "hovertemplate": "symbol=ESGD<br>portfolio=%{x}<br>percent=%{y}",
         "legendgroup": "ESGD",
         "marker": {
          "color": "#FF6692"
         },
         "name": "ESGD",
         "offsetgroup": "ESGD",
         "orientation": "v",
         "showlegend": true,
         "textposition": "auto",
         "type": "bar",
         "x": [
          "ESG"
         ],
         "xaxis": "x",
         "y": [
          1.64
         ],
         "yaxis": "y"
        },
        {
         "alignmentgroup": "True",
         "hoverlabel": {
          "namelength": 0
         },
         "hovertemplate": "symbol=SUSB<br>portfolio=%{x}<br>percent=%{y}",
         "legendgroup": "SUSB",
         "marker": {
          "color": "#B6E880"
         },
         "name": "SUSB",
         "offsetgroup": "SUSB",
         "orientation": "v",
         "showlegend": true,
         "textposition": "auto",
         "type": "bar",
         "x": [
          "ESG"
         ],
         "xaxis": "x",
         "y": [
          0.06
         ],
         "yaxis": "y"
        },
        {
         "alignmentgroup": "True",
         "hoverlabel": {
          "namelength": 0
         },
         "hovertemplate": "symbol=ESGU<br>portfolio=%{x}<br>percent=%{y}",
         "legendgroup": "ESGU",
         "marker": {
          "color": "#FF97FF"
         },
         "name": "ESGU",
         "offsetgroup": "ESGU",
         "orientation": "v",
         "showlegend": true,
         "textposition": "auto",
         "type": "bar",
         "x": [
          "ESG"
         ],
         "xaxis": "x",
         "y": [
          1.8
         ],
         "yaxis": "y"
        },
        {
         "alignmentgroup": "True",
         "hoverlabel": {
          "namelength": 0
         },
         "hovertemplate": "symbol=SUSC<br>portfolio=%{x}<br>percent=%{y}",
         "legendgroup": "SUSC",
         "marker": {
          "color": "#FECB52"
         },
         "name": "SUSC",
         "offsetgroup": "SUSC",
         "orientation": "v",
         "showlegend": true,
         "textposition": "auto",
         "type": "bar",
         "x": [
          "ESG"
         ],
         "xaxis": "x",
         "y": [
          0.35
         ],
         "yaxis": "y"
        },
        {
         "alignmentgroup": "True",
         "hoverlabel": {
          "namelength": 0
         },
         "hovertemplate": "symbol=ESML<br>portfolio=%{x}<br>percent=%{y}",
         "legendgroup": "ESML",
         "marker": {
          "color": "#636efa"
         },
         "name": "ESML",
         "offsetgroup": "ESML",
         "orientation": "v",
         "showlegend": true,
         "textposition": "auto",
         "type": "bar",
         "x": [
          "ESG"
         ],
         "xaxis": "x",
         "y": [
          2.46
         ],
         "yaxis": "y"
        },
        {
         "alignmentgroup": "True",
         "hoverlabel": {
          "namelength": 0
         },
         "hovertemplate": "symbol=LI<br>portfolio=%{x}<br>percent=%{y}",
         "legendgroup": "LI",
         "marker": {
          "color": "#EF553B"
         },
         "name": "LI",
         "offsetgroup": "LI",
         "orientation": "v",
         "showlegend": true,
         "textposition": "auto",
         "type": "bar",
         "x": [
          "Electric Vehicles"
         ],
         "xaxis": "x",
         "y": [
          0.68
         ],
         "yaxis": "y"
        },
        {
         "alignmentgroup": "True",
         "hoverlabel": {
          "namelength": 0
         },
         "hovertemplate": "symbol=BLNK<br>portfolio=%{x}<br>percent=%{y}",
         "legendgroup": "BLNK",
         "marker": {
          "color": "#00cc96"
         },
         "name": "BLNK",
         "offsetgroup": "BLNK",
         "orientation": "v",
         "showlegend": true,
         "textposition": "auto",
         "type": "bar",
         "x": [
          "Electric Vehicles"
         ],
         "xaxis": "x",
         "y": [
          -5.26
         ],
         "yaxis": "y"
        },
        {
         "alignmentgroup": "True",
         "hoverlabel": {
          "namelength": 0
         },
         "hovertemplate": "symbol=TSLA<br>portfolio=%{x}<br>percent=%{y}",
         "legendgroup": "TSLA",
         "marker": {
          "color": "#ab63fa"
         },
         "name": "TSLA",
         "offsetgroup": "TSLA",
         "orientation": "v",
         "showlegend": true,
         "textposition": "auto",
         "type": "bar",
         "x": [
          "Electric Vehicles"
         ],
         "xaxis": "x",
         "y": [
          -0.54
         ],
         "yaxis": "y"
        },
        {
         "alignmentgroup": "True",
         "hoverlabel": {
          "namelength": 0
         },
         "hovertemplate": "symbol=WKHS<br>portfolio=%{x}<br>percent=%{y}",
         "legendgroup": "WKHS",
         "marker": {
          "color": "#FFA15A"
         },
         "name": "WKHS",
         "offsetgroup": "WKHS",
         "orientation": "v",
         "showlegend": true,
         "textposition": "auto",
         "type": "bar",
         "x": [
          "Electric Vehicles"
         ],
         "xaxis": "x",
         "y": [
          -4.47
         ],
         "yaxis": "y"
        },
        {
         "alignmentgroup": "True",
         "hoverlabel": {
          "namelength": 0
         },
         "hovertemplate": "symbol=BYDDF<br>portfolio=%{x}<br>percent=%{y}",
         "legendgroup": "BYDDF",
         "marker": {
          "color": "#19d3f3"
         },
         "name": "BYDDF",
         "offsetgroup": "BYDDF",
         "orientation": "v",
         "showlegend": true,
         "textposition": "auto",
         "type": "bar",
         "x": [
          "Electric Vehicles"
         ],
         "xaxis": "x",
         "y": [
          0.25
         ],
         "yaxis": "y"
        },
        {
         "alignmentgroup": "True",
         "hoverlabel": {
          "namelength": 0
         },
         "hovertemplate": "symbol=XPEV<br>portfolio=%{x}<br>percent=%{y}",
         "legendgroup": "XPEV",
         "marker": {
          "color": "#FF6692"
         },
         "name": "XPEV",
         "offsetgroup": "XPEV",
         "orientation": "v",
         "showlegend": true,
         "textposition": "auto",
         "type": "bar",
         "x": [
          "Electric Vehicles"
         ],
         "xaxis": "x",
         "y": [
          -8.74
         ],
         "yaxis": "y"
        },
        {
         "alignmentgroup": "True",
         "hoverlabel": {
          "namelength": 0
         },
         "hovertemplate": "symbol=SOLO<br>portfolio=%{x}<br>percent=%{y}",
         "legendgroup": "SOLO",
         "marker": {
          "color": "#B6E880"
         },
         "name": "SOLO",
         "offsetgroup": "SOLO",
         "orientation": "v",
         "showlegend": true,
         "textposition": "auto",
         "type": "bar",
         "x": [
          "Electric Vehicles"
         ],
         "xaxis": "x",
         "y": [
          35.27
         ],
         "yaxis": "y"
        },
        {
         "alignmentgroup": "True",
         "hoverlabel": {
          "namelength": 0
         },
         "hovertemplate": "symbol=NIO<br>portfolio=%{x}<br>percent=%{y}",
         "legendgroup": "NIO",
         "marker": {
          "color": "#FF97FF"
         },
         "name": "NIO",
         "offsetgroup": "NIO",
         "orientation": "v",
         "showlegend": true,
         "textposition": "auto",
         "type": "bar",
         "x": [
          "Electric Vehicles"
         ],
         "xaxis": "x",
         "y": [
          -7.58
         ],
         "yaxis": "y"
        },
        {
         "alignmentgroup": "True",
         "hoverlabel": {
          "namelength": 0
         },
         "hovertemplate": "symbol=CLSK<br>portfolio=%{x}<br>percent=%{y}",
         "legendgroup": "CLSK",
         "marker": {
          "color": "#FECB52"
         },
         "name": "CLSK",
         "offsetgroup": "CLSK",
         "orientation": "v",
         "showlegend": true,
         "textposition": "auto",
         "type": "bar",
         "x": [
          "Electricity"
         ],
         "xaxis": "x",
         "y": [
          -0.23
         ],
         "yaxis": "y"
        },
        {
         "alignmentgroup": "True",
         "hoverlabel": {
          "namelength": 0
         },
         "hovertemplate": "symbol=FCEL<br>portfolio=%{x}<br>percent=%{y}",
         "legendgroup": "FCEL",
         "marker": {
          "color": "#636efa"
         },
         "name": "FCEL",
         "offsetgroup": "FCEL",
         "orientation": "v",
         "showlegend": true,
         "textposition": "auto",
         "type": "bar",
         "x": [
          "Electricity"
         ],
         "xaxis": "x",
         "y": [
          12.25
         ],
         "yaxis": "y"
        },
        {
         "alignmentgroup": "True",
         "hoverlabel": {
          "namelength": 0
         },
         "hovertemplate": "symbol=BLDP<br>portfolio=%{x}<br>percent=%{y}",
         "legendgroup": "BLDP",
         "marker": {
          "color": "#EF553B"
         },
         "name": "BLDP",
         "offsetgroup": "BLDP",
         "orientation": "v",
         "showlegend": true,
         "textposition": "auto",
         "type": "bar",
         "x": [
          "Electricity"
         ],
         "xaxis": "x",
         "y": [
          1.31
         ],
         "yaxis": "y"
        },
        {
         "alignmentgroup": "True",
         "hoverlabel": {
          "namelength": 0
         },
         "hovertemplate": "symbol=PLUG<br>portfolio=%{x}<br>percent=%{y}",
         "legendgroup": "PLUG",
         "marker": {
          "color": "#00cc96"
         },
         "name": "PLUG",
         "offsetgroup": "PLUG",
         "orientation": "v",
         "showlegend": true,
         "textposition": "auto",
         "type": "bar",
         "x": [
          "Electricity"
         ],
         "xaxis": "x",
         "y": [
          0.05
         ],
         "yaxis": "y"
        },
        {
         "alignmentgroup": "True",
         "hoverlabel": {
          "namelength": 0
         },
         "hovertemplate": "symbol=SIEGY<br>portfolio=%{x}<br>percent=%{y}",
         "legendgroup": "SIEGY",
         "marker": {
          "color": "#ab63fa"
         },
         "name": "SIEGY",
         "offsetgroup": "SIEGY",
         "orientation": "v",
         "showlegend": true,
         "textposition": "auto",
         "type": "bar",
         "x": [
          "Electricity"
         ],
         "xaxis": "x",
         "y": [
          0.07
         ],
         "yaxis": "y"
        },
        {
         "alignmentgroup": "True",
         "hoverlabel": {
          "namelength": 0
         },
         "hovertemplate": "symbol=BE<br>portfolio=%{x}<br>percent=%{y}",
         "legendgroup": "BE",
         "marker": {
          "color": "#FFA15A"
         },
         "name": "BE",
         "offsetgroup": "BE",
         "orientation": "v",
         "showlegend": true,
         "textposition": "auto",
         "type": "bar",
         "x": [
          "Electricity"
         ],
         "xaxis": "x",
         "y": [
          8.47
         ],
         "yaxis": "y"
        },
        {
         "alignmentgroup": "True",
         "hoverlabel": {
          "namelength": 0
         },
         "hovertemplate": "symbol=SEDG<br>portfolio=%{x}<br>percent=%{y}",
         "legendgroup": "SEDG",
         "marker": {
          "color": "#19d3f3"
         },
         "name": "SEDG",
         "offsetgroup": "SEDG",
         "orientation": "v",
         "showlegend": true,
         "textposition": "auto",
         "type": "bar",
         "x": [
          "Electricity Solar"
         ],
         "xaxis": "x",
         "y": [
          -1.77
         ],
         "yaxis": "y"
        },
        {
         "alignmentgroup": "True",
         "hoverlabel": {
          "namelength": 0
         },
         "hovertemplate": "symbol=JKS<br>portfolio=%{x}<br>percent=%{y}",
         "legendgroup": "JKS",
         "marker": {
          "color": "#FF6692"
         },
         "name": "JKS",
         "offsetgroup": "JKS",
         "orientation": "v",
         "showlegend": true,
         "textposition": "auto",
         "type": "bar",
         "x": [
          "Electricity Solar"
         ],
         "xaxis": "x",
         "y": [
          3.44
         ],
         "yaxis": "y"
        },
        {
         "alignmentgroup": "True",
         "hoverlabel": {
          "namelength": 0
         },
         "hovertemplate": "symbol=RUN<br>portfolio=%{x}<br>percent=%{y}",
         "legendgroup": "RUN",
         "marker": {
          "color": "#B6E880"
         },
         "name": "RUN",
         "offsetgroup": "RUN",
         "orientation": "v",
         "showlegend": true,
         "textposition": "auto",
         "type": "bar",
         "x": [
          "Electricity Solar"
         ],
         "xaxis": "x",
         "y": [
          2.76
         ],
         "yaxis": "y"
        },
        {
         "alignmentgroup": "True",
         "hoverlabel": {
          "namelength": 0
         },
         "hovertemplate": "symbol=TAN<br>portfolio=%{x}<br>percent=%{y}",
         "legendgroup": "TAN",
         "marker": {
          "color": "#FF97FF"
         },
         "name": "TAN",
         "offsetgroup": "TAN",
         "orientation": "v",
         "showlegend": true,
         "textposition": "auto",
         "type": "bar",
         "x": [
          "Electricity Solar"
         ],
         "xaxis": "x",
         "y": [
          0.24
         ],
         "yaxis": "y"
        },
        {
         "alignmentgroup": "True",
         "hoverlabel": {
          "namelength": 0
         },
         "hovertemplate": "symbol=GNRC<br>portfolio=%{x}<br>percent=%{y}",
         "legendgroup": "GNRC",
         "marker": {
          "color": "#FECB52"
         },
         "name": "GNRC",
         "offsetgroup": "GNRC",
         "orientation": "v",
         "showlegend": true,
         "textposition": "auto",
         "type": "bar",
         "x": [
          "Electricity Solar"
         ],
         "xaxis": "x",
         "y": [
          -0.98
         ],
         "yaxis": "y"
        },
        {
         "alignmentgroup": "True",
         "hoverlabel": {
          "namelength": 0
         },
         "hovertemplate": "symbol=ENPH<br>portfolio=%{x}<br>percent=%{y}",
         "legendgroup": "ENPH",
         "marker": {
          "color": "#636efa"
         },
         "name": "ENPH",
         "offsetgroup": "ENPH",
         "orientation": "v",
         "showlegend": true,
         "textposition": "auto",
         "type": "bar",
         "x": [
          "Electricity Solar"
         ],
         "xaxis": "x",
         "y": [
          0.22
         ],
         "yaxis": "y"
        },
        {
         "alignmentgroup": "True",
         "hoverlabel": {
          "namelength": 0
         },
         "hovertemplate": "symbol=CSIQ<br>portfolio=%{x}<br>percent=%{y}",
         "legendgroup": "CSIQ",
         "marker": {
          "color": "#EF553B"
         },
         "name": "CSIQ",
         "offsetgroup": "CSIQ",
         "orientation": "v",
         "showlegend": true,
         "textposition": "auto",
         "type": "bar",
         "x": [
          "Electricity Solar"
         ],
         "xaxis": "x",
         "y": [
          -1.17
         ],
         "yaxis": "y"
        },
        {
         "alignmentgroup": "True",
         "hoverlabel": {
          "namelength": 0
         },
         "hovertemplate": "symbol=SPWR<br>portfolio=%{x}<br>percent=%{y}",
         "legendgroup": "SPWR",
         "marker": {
          "color": "#00cc96"
         },
         "name": "SPWR",
         "offsetgroup": "SPWR",
         "orientation": "v",
         "showlegend": true,
         "textposition": "auto",
         "type": "bar",
         "x": [
          "Electricity Solar"
         ],
         "xaxis": "x",
         "y": [
          1.58
         ],
         "yaxis": "y"
        },
        {
         "alignmentgroup": "True",
         "hoverlabel": {
          "namelength": 0
         },
         "hovertemplate": "symbol=DQ<br>portfolio=%{x}<br>percent=%{y}",
         "legendgroup": "DQ",
         "marker": {
          "color": "#ab63fa"
         },
         "name": "DQ",
         "offsetgroup": "DQ",
         "orientation": "v",
         "showlegend": true,
         "textposition": "auto",
         "type": "bar",
         "x": [
          "Electricity Solar"
         ],
         "xaxis": "x",
         "y": [
          2.86
         ],
         "yaxis": "y"
        },
        {
         "alignmentgroup": "True",
         "hoverlabel": {
          "namelength": 0
         },
         "hovertemplate": "symbol=FSLR<br>portfolio=%{x}<br>percent=%{y}",
         "legendgroup": "FSLR",
         "marker": {
          "color": "#FFA15A"
         },
         "name": "FSLR",
         "offsetgroup": "FSLR",
         "orientation": "v",
         "showlegend": true,
         "textposition": "auto",
         "type": "bar",
         "x": [
          "Electricity Solar"
         ],
         "xaxis": "x",
         "y": [
          -1.13
         ],
         "yaxis": "y"
        },
        {
         "alignmentgroup": "True",
         "hoverlabel": {
          "namelength": 0
         },
         "hovertemplate": "symbol=GCTAY<br>portfolio=%{x}<br>percent=%{y}",
         "legendgroup": "GCTAY",
         "marker": {
          "color": "#19d3f3"
         },
         "name": "GCTAY",
         "offsetgroup": "GCTAY",
         "orientation": "v",
         "showlegend": true,
         "textposition": "auto",
         "type": "bar",
         "x": [
          "Electricity Wind"
         ],
         "xaxis": "x",
         "y": [
          -0.27
         ],
         "yaxis": "y"
        },
        {
         "alignmentgroup": "True",
         "hoverlabel": {
          "namelength": 0
         },
         "hovertemplate": "symbol=HASI<br>portfolio=%{x}<br>percent=%{y}",
         "legendgroup": "HASI",
         "marker": {
          "color": "#FF6692"
         },
         "name": "HASI",
         "offsetgroup": "HASI",
         "orientation": "v",
         "showlegend": true,
         "textposition": "auto",
         "type": "bar",
         "x": [
          "Electricity Wind"
         ],
         "xaxis": "x",
         "y": [
          0.77
         ],
         "yaxis": "y"
        },
        {
         "alignmentgroup": "True",
         "hoverlabel": {
          "namelength": 0
         },
         "hovertemplate": "symbol=VWDRY<br>portfolio=%{x}<br>percent=%{y}",
         "legendgroup": "VWDRY",
         "marker": {
          "color": "#B6E880"
         },
         "name": "VWDRY",
         "offsetgroup": "VWDRY",
         "orientation": "v",
         "showlegend": true,
         "textposition": "auto",
         "type": "bar",
         "x": [
          "Electricity Wind"
         ],
         "xaxis": "x",
         "y": [
          0.13
         ],
         "yaxis": "y"
        },
        {
         "alignmentgroup": "True",
         "hoverlabel": {
          "namelength": 0
         },
         "hovertemplate": "symbol=GCTAF<br>portfolio=%{x}<br>percent=%{y}",
         "legendgroup": "GCTAF",
         "marker": {
          "color": "#FF97FF"
         },
         "name": "GCTAF",
         "offsetgroup": "GCTAF",
         "orientation": "v",
         "showlegend": true,
         "textposition": "auto",
         "type": "bar",
         "x": [
          "Electricity Wind"
         ],
         "xaxis": "x",
         "y": [
          -1.53
         ],
         "yaxis": "y"
        },
        {
         "alignmentgroup": "True",
         "hoverlabel": {
          "namelength": 0
         },
         "hovertemplate": "symbol=TPIC<br>portfolio=%{x}<br>percent=%{y}",
         "legendgroup": "TPIC",
         "marker": {
          "color": "#FECB52"
         },
         "name": "TPIC",
         "offsetgroup": "TPIC",
         "orientation": "v",
         "showlegend": true,
         "textposition": "auto",
         "type": "bar",
         "x": [
          "Electricity Wind"
         ],
         "xaxis": "x",
         "y": [
          -3.22
         ],
         "yaxis": "y"
        },
        {
         "alignmentgroup": "True",
         "hoverlabel": {
          "namelength": 0
         },
         "hovertemplate": "symbol=SWI<br>portfolio=%{x}<br>percent=%{y}",
         "legendgroup": "SWI",
         "marker": {
          "color": "#636efa"
         },
         "name": "SWI",
         "offsetgroup": "SWI",
         "orientation": "v",
         "showlegend": true,
         "textposition": "auto",
         "type": "bar",
         "x": [
          "Electricity Wind"
         ],
         "xaxis": "x",
         "y": [
          1.14
         ],
         "yaxis": "y"
        },
        {
         "alignmentgroup": "True",
         "hoverlabel": {
          "namelength": 0
         },
         "hovertemplate": "symbol=DNNGY<br>portfolio=%{x}<br>percent=%{y}",
         "legendgroup": "DNNGY",
         "marker": {
          "color": "#EF553B"
         },
         "name": "DNNGY",
         "offsetgroup": "DNNGY",
         "orientation": "v",
         "showlegend": true,
         "textposition": "auto",
         "type": "bar",
         "x": [
          "Electricity Wind"
         ],
         "xaxis": "x",
         "y": [
          -0.26
         ],
         "yaxis": "y"
        },
        {
         "alignmentgroup": "True",
         "hoverlabel": {
          "namelength": 0
         },
         "hovertemplate": "symbol=BWEN<br>portfolio=%{x}<br>percent=%{y}",
         "legendgroup": "BWEN",
         "marker": {
          "color": "#00cc96"
         },
         "name": "BWEN",
         "offsetgroup": "BWEN",
         "orientation": "v",
         "showlegend": true,
         "textposition": "auto",
         "type": "bar",
         "x": [
          "Electricity Wind"
         ],
         "xaxis": "x",
         "y": [
          7.49
         ],
         "yaxis": "y"
        },
        {
         "alignmentgroup": "True",
         "hoverlabel": {
          "namelength": 0
         },
         "hovertemplate": "symbol=FAN<br>portfolio=%{x}<br>percent=%{y}",
         "legendgroup": "FAN",
         "marker": {
          "color": "#ab63fa"
         },
         "name": "FAN",
         "offsetgroup": "FAN",
         "orientation": "v",
         "showlegend": true,
         "textposition": "auto",
         "type": "bar",
         "x": [
          "Electricity Wind"
         ],
         "xaxis": "x",
         "y": [
          0.56
         ],
         "yaxis": "y"
        },
        {
         "alignmentgroup": "True",
         "hoverlabel": {
          "namelength": 0
         },
         "hovertemplate": "symbol=IEMG<br>portfolio=%{x}<br>percent=%{y}",
         "legendgroup": "IEMG",
         "marker": {
          "color": "#FFA15A"
         },
         "name": "IEMG",
         "offsetgroup": "IEMG",
         "orientation": "v",
         "showlegend": true,
         "textposition": "auto",
         "type": "bar",
         "x": [
          "Emerging Markets"
         ],
         "xaxis": "x",
         "y": [
          1.38
         ],
         "yaxis": "y"
        },
        {
         "alignmentgroup": "True",
         "hoverlabel": {
          "namelength": 0
         },
         "hovertemplate": "symbol=EMQQ<br>portfolio=%{x}<br>percent=%{y}",
         "legendgroup": "EMQQ",
         "marker": {
          "color": "#19d3f3"
         },
         "name": "EMQQ",
         "offsetgroup": "EMQQ",
         "orientation": "v",
         "showlegend": true,
         "textposition": "auto",
         "type": "bar",
         "x": [
          "Emerging Markets"
         ],
         "xaxis": "x",
         "y": [
          2.78
         ],
         "yaxis": "y"
        },
        {
         "alignmentgroup": "True",
         "hoverlabel": {
          "namelength": 0
         },
         "hovertemplate": "symbol=EEM<br>portfolio=%{x}<br>percent=%{y}",
         "legendgroup": "EEM",
         "marker": {
          "color": "#FF6692"
         },
         "name": "EEM",
         "offsetgroup": "EEM",
         "orientation": "v",
         "showlegend": true,
         "textposition": "auto",
         "type": "bar",
         "x": [
          "Emerging Markets"
         ],
         "xaxis": "x",
         "y": [
          1.38
         ],
         "yaxis": "y"
        },
        {
         "alignmentgroup": "True",
         "hoverlabel": {
          "namelength": 0
         },
         "hovertemplate": "symbol=EEMA<br>portfolio=%{x}<br>percent=%{y}",
         "legendgroup": "EEMA",
         "marker": {
          "color": "#B6E880"
         },
         "name": "EEMA",
         "offsetgroup": "EEMA",
         "orientation": "v",
         "showlegend": true,
         "textposition": "auto",
         "type": "bar",
         "x": [
          "Emerging Markets"
         ],
         "xaxis": "x",
         "y": [
          1.15
         ],
         "yaxis": "y"
        },
        {
         "alignmentgroup": "True",
         "hoverlabel": {
          "namelength": 0
         },
         "hovertemplate": "symbol=VWO<br>portfolio=%{x}<br>percent=%{y}",
         "legendgroup": "VWO",
         "marker": {
          "color": "#FF97FF"
         },
         "name": "VWO",
         "offsetgroup": "VWO",
         "orientation": "v",
         "showlegend": true,
         "textposition": "auto",
         "type": "bar",
         "x": [
          "Emerging Markets"
         ],
         "xaxis": "x",
         "y": [
          1.26
         ],
         "yaxis": "y"
        },
        {
         "alignmentgroup": "True",
         "hoverlabel": {
          "namelength": 0
         },
         "hovertemplate": "symbol=EEMO<br>portfolio=%{x}<br>percent=%{y}",
         "legendgroup": "EEMO",
         "marker": {
          "color": "#FECB52"
         },
         "name": "EEMO",
         "offsetgroup": "EEMO",
         "orientation": "v",
         "showlegend": true,
         "textposition": "auto",
         "type": "bar",
         "x": [
          "Emerging Markets"
         ],
         "xaxis": "x",
         "y": [
          2.75
         ],
         "yaxis": "y"
        },
        {
         "alignmentgroup": "True",
         "hoverlabel": {
          "namelength": 0
         },
         "hovertemplate": "symbol=ORA<br>portfolio=%{x}<br>percent=%{y}",
         "legendgroup": "ORA",
         "marker": {
          "color": "#636efa"
         },
         "name": "ORA",
         "offsetgroup": "ORA",
         "orientation": "v",
         "showlegend": true,
         "textposition": "auto",
         "type": "bar",
         "x": [
          "Energy Renewalbe"
         ],
         "xaxis": "x",
         "y": [
          1.68
         ],
         "yaxis": "y"
        },
        {
         "alignmentgroup": "True",
         "hoverlabel": {
          "namelength": 0
         },
         "hovertemplate": "symbol=BAM<br>portfolio=%{x}<br>percent=%{y}",
         "legendgroup": "BAM",
         "marker": {
          "color": "#EF553B"
         },
         "name": "BAM",
         "offsetgroup": "BAM",
         "orientation": "v",
         "showlegend": true,
         "textposition": "auto",
         "type": "bar",
         "x": [
          "Energy Renewalbe"
         ],
         "xaxis": "x",
         "y": [
          3.45
         ],
         "yaxis": "y"
        },
        {
         "alignmentgroup": "True",
         "hoverlabel": {
          "namelength": 0
         },
         "hovertemplate": "symbol=PZD<br>portfolio=%{x}<br>percent=%{y}",
         "legendgroup": "PZD",
         "marker": {
          "color": "#00cc96"
         },
         "name": "PZD",
         "offsetgroup": "PZD",
         "orientation": "v",
         "showlegend": true,
         "textposition": "auto",
         "type": "bar",
         "x": [
          "Energy Renewalbe"
         ],
         "xaxis": "x",
         "y": [
          1.79
         ],
         "yaxis": "y"
        },
        {
         "alignmentgroup": "True",
         "hoverlabel": {
          "namelength": 0
         },
         "hovertemplate": "symbol=AGR<br>portfolio=%{x}<br>percent=%{y}",
         "legendgroup": "AGR",
         "marker": {
          "color": "#ab63fa"
         },
         "name": "AGR",
         "offsetgroup": "AGR",
         "orientation": "v",
         "showlegend": true,
         "textposition": "auto",
         "type": "bar",
         "x": [
          "Energy Renewalbe"
         ],
         "xaxis": "x",
         "y": [
          1
         ],
         "yaxis": "y"
        },
        {
         "alignmentgroup": "True",
         "hoverlabel": {
          "namelength": 0
         },
         "hovertemplate": "symbol=NEP<br>portfolio=%{x}<br>percent=%{y}",
         "legendgroup": "NEP",
         "marker": {
          "color": "#FFA15A"
         },
         "name": "NEP",
         "offsetgroup": "NEP",
         "orientation": "v",
         "showlegend": true,
         "textposition": "auto",
         "type": "bar",
         "x": [
          "Energy Renewalbe"
         ],
         "xaxis": "x",
         "y": [
          1.13
         ],
         "yaxis": "y"
        },
        {
         "alignmentgroup": "True",
         "hoverlabel": {
          "namelength": 0
         },
         "hovertemplate": "symbol=CWEN<br>portfolio=%{x}<br>percent=%{y}",
         "legendgroup": "CWEN",
         "marker": {
          "color": "#19d3f3"
         },
         "name": "CWEN",
         "offsetgroup": "CWEN",
         "orientation": "v",
         "showlegend": true,
         "textposition": "auto",
         "type": "bar",
         "x": [
          "Energy Renewalbe"
         ],
         "xaxis": "x",
         "y": [
          0.37
         ],
         "yaxis": "y"
        },
        {
         "alignmentgroup": "True",
         "hoverlabel": {
          "namelength": 0
         },
         "hovertemplate": "symbol=BEP<br>portfolio=%{x}<br>percent=%{y}",
         "legendgroup": "BEP",
         "marker": {
          "color": "#FF6692"
         },
         "name": "BEP",
         "offsetgroup": "BEP",
         "orientation": "v",
         "showlegend": true,
         "textposition": "auto",
         "type": "bar",
         "x": [
          "Energy Renewalbe"
         ],
         "xaxis": "x",
         "y": [
          -1.1
         ],
         "yaxis": "y"
        },
        {
         "alignmentgroup": "True",
         "hoverlabel": {
          "namelength": 0
         },
         "hovertemplate": "symbol=NEE<br>portfolio=%{x}<br>percent=%{y}",
         "legendgroup": "NEE",
         "marker": {
          "color": "#B6E880"
         },
         "name": "NEE",
         "offsetgroup": "NEE",
         "orientation": "v",
         "showlegend": true,
         "textposition": "auto",
         "type": "bar",
         "x": [
          "Energy Renewalbe"
         ],
         "xaxis": "x",
         "y": [
          1.46
         ],
         "yaxis": "y"
        },
        {
         "alignmentgroup": "True",
         "hoverlabel": {
          "namelength": 0
         },
         "hovertemplate": "symbol=BPY<br>portfolio=%{x}<br>percent=%{y}",
         "legendgroup": "BPY",
         "marker": {
          "color": "#FF97FF"
         },
         "name": "BPY",
         "offsetgroup": "BPY",
         "orientation": "v",
         "showlegend": true,
         "textposition": "auto",
         "type": "bar",
         "x": [
          "Energy Renewalbe"
         ],
         "xaxis": "x",
         "y": [
          4.16
         ],
         "yaxis": "y"
        },
        {
         "alignmentgroup": "True",
         "hoverlabel": {
          "namelength": 0
         },
         "hovertemplate": "symbol=AZRE<br>portfolio=%{x}<br>percent=%{y}",
         "legendgroup": "AZRE",
         "marker": {
          "color": "#FECB52"
         },
         "name": "AZRE",
         "offsetgroup": "AZRE",
         "orientation": "v",
         "showlegend": true,
         "textposition": "auto",
         "type": "bar",
         "x": [
          "Energy Renewalbe"
         ],
         "xaxis": "x",
         "y": [
          0.46
         ],
         "yaxis": "y"
        },
        {
         "alignmentgroup": "True",
         "hoverlabel": {
          "namelength": 0
         },
         "hovertemplate": "symbol=BIP<br>portfolio=%{x}<br>percent=%{y}",
         "legendgroup": "BIP",
         "marker": {
          "color": "#636efa"
         },
         "name": "BIP",
         "offsetgroup": "BIP",
         "orientation": "v",
         "showlegend": true,
         "textposition": "auto",
         "type": "bar",
         "x": [
          "Energy Renewalbe"
         ],
         "xaxis": "x",
         "y": [
          2.02
         ],
         "yaxis": "y"
        },
        {
         "alignmentgroup": "True",
         "hoverlabel": {
          "namelength": 0
         },
         "hovertemplate": "symbol=ANTM<br>portfolio=%{x}<br>percent=%{y}",
         "legendgroup": "ANTM",
         "marker": {
          "color": "#EF553B"
         },
         "name": "ANTM",
         "offsetgroup": "ANTM",
         "orientation": "v",
         "showlegend": true,
         "textposition": "auto",
         "type": "bar",
         "x": [
          "Healthcare"
         ],
         "xaxis": "x",
         "y": [
          1.06
         ],
         "yaxis": "y"
        },
        {
         "alignmentgroup": "True",
         "hoverlabel": {
          "namelength": 0
         },
         "hovertemplate": "symbol=HUM<br>portfolio=%{x}<br>percent=%{y}",
         "legendgroup": "HUM",
         "marker": {
          "color": "#00cc96"
         },
         "name": "HUM",
         "offsetgroup": "HUM",
         "orientation": "v",
         "showlegend": true,
         "textposition": "auto",
         "type": "bar",
         "x": [
          "Healthcare"
         ],
         "xaxis": "x",
         "y": [
          0.92
         ],
         "yaxis": "y"
        },
        {
         "alignmentgroup": "True",
         "hoverlabel": {
          "namelength": 0
         },
         "hovertemplate": "symbol=UNH<br>portfolio=%{x}<br>percent=%{y}",
         "legendgroup": "UNH",
         "marker": {
          "color": "#ab63fa"
         },
         "name": "UNH",
         "offsetgroup": "UNH",
         "orientation": "v",
         "showlegend": true,
         "textposition": "auto",
         "type": "bar",
         "x": [
          "Healthcare"
         ],
         "xaxis": "x",
         "y": [
          0.15
         ],
         "yaxis": "y"
        },
        {
         "alignmentgroup": "True",
         "hoverlabel": {
          "namelength": 0
         },
         "hovertemplate": "symbol=FHLC<br>portfolio=%{x}<br>percent=%{y}",
         "legendgroup": "FHLC",
         "marker": {
          "color": "#FFA15A"
         },
         "name": "FHLC",
         "offsetgroup": "FHLC",
         "orientation": "v",
         "showlegend": true,
         "textposition": "auto",
         "type": "bar",
         "x": [
          "Healthcare"
         ],
         "xaxis": "x",
         "y": [
          1.63
         ],
         "yaxis": "y"
        },
        {
         "alignmentgroup": "True",
         "hoverlabel": {
          "namelength": 0
         },
         "hovertemplate": "symbol=CNC<br>portfolio=%{x}<br>percent=%{y}",
         "legendgroup": "CNC",
         "marker": {
          "color": "#19d3f3"
         },
         "name": "CNC",
         "offsetgroup": "CNC",
         "orientation": "v",
         "showlegend": true,
         "textposition": "auto",
         "type": "bar",
         "x": [
          "Healthcare"
         ],
         "xaxis": "x",
         "y": [
          0.86
         ],
         "yaxis": "y"
        },
        {
         "alignmentgroup": "True",
         "hoverlabel": {
          "namelength": 0
         },
         "hovertemplate": "symbol=THC<br>portfolio=%{x}<br>percent=%{y}",
         "legendgroup": "THC",
         "marker": {
          "color": "#FF6692"
         },
         "name": "THC",
         "offsetgroup": "THC",
         "orientation": "v",
         "showlegend": true,
         "textposition": "auto",
         "type": "bar",
         "x": [
          "Healthcare"
         ],
         "xaxis": "x",
         "y": [
          6.06
         ],
         "yaxis": "y"
        },
        {
         "alignmentgroup": "True",
         "hoverlabel": {
          "namelength": 0
         },
         "hovertemplate": "symbol=CI<br>portfolio=%{x}<br>percent=%{y}",
         "legendgroup": "CI",
         "marker": {
          "color": "#B6E880"
         },
         "name": "CI",
         "offsetgroup": "CI",
         "orientation": "v",
         "showlegend": true,
         "textposition": "auto",
         "type": "bar",
         "x": [
          "Healthcare"
         ],
         "xaxis": "x",
         "y": [
          0.14
         ],
         "yaxis": "y"
        },
        {
         "alignmentgroup": "True",
         "hoverlabel": {
          "namelength": 0
         },
         "hovertemplate": "symbol=PHM<br>portfolio=%{x}<br>percent=%{y}",
         "legendgroup": "PHM",
         "marker": {
          "color": "#FF97FF"
         },
         "name": "PHM",
         "offsetgroup": "PHM",
         "orientation": "v",
         "showlegend": true,
         "textposition": "auto",
         "type": "bar",
         "x": [
          "Home Construction"
         ],
         "xaxis": "x",
         "y": [
          3.78
         ],
         "yaxis": "y"
        },
        {
         "alignmentgroup": "True",
         "hoverlabel": {
          "namelength": 0
         },
         "hovertemplate": "symbol=ITB<br>portfolio=%{x}<br>percent=%{y}",
         "legendgroup": "ITB",
         "marker": {
          "color": "#FECB52"
         },
         "name": "ITB",
         "offsetgroup": "ITB",
         "orientation": "v",
         "showlegend": true,
         "textposition": "auto",
         "type": "bar",
         "x": [
          "Home Construction"
         ],
         "xaxis": "x",
         "y": [
          3.12
         ],
         "yaxis": "y"
        },
        {
         "alignmentgroup": "True",
         "hoverlabel": {
          "namelength": 0
         },
         "hovertemplate": "symbol=LEN<br>portfolio=%{x}<br>percent=%{y}",
         "legendgroup": "LEN",
         "marker": {
          "color": "#636efa"
         },
         "name": "LEN",
         "offsetgroup": "LEN",
         "orientation": "v",
         "showlegend": true,
         "textposition": "auto",
         "type": "bar",
         "x": [
          "Home Construction"
         ],
         "xaxis": "x",
         "y": [
          2.78
         ],
         "yaxis": "y"
        },
        {
         "alignmentgroup": "True",
         "hoverlabel": {
          "namelength": 0
         },
         "hovertemplate": "symbol=SSD<br>portfolio=%{x}<br>percent=%{y}",
         "legendgroup": "SSD",
         "marker": {
          "color": "#EF553B"
         },
         "name": "SSD",
         "offsetgroup": "SSD",
         "orientation": "v",
         "showlegend": true,
         "textposition": "auto",
         "type": "bar",
         "x": [
          "Home Construction"
         ],
         "xaxis": "x",
         "y": [
          2.66
         ],
         "yaxis": "y"
        },
        {
         "alignmentgroup": "True",
         "hoverlabel": {
          "namelength": 0
         },
         "hovertemplate": "symbol=BLD<br>portfolio=%{x}<br>percent=%{y}",
         "legendgroup": "BLD",
         "marker": {
          "color": "#00cc96"
         },
         "name": "BLD",
         "offsetgroup": "BLD",
         "orientation": "v",
         "showlegend": true,
         "textposition": "auto",
         "type": "bar",
         "x": [
          "Home Construction"
         ],
         "xaxis": "x",
         "y": [
          3.6
         ],
         "yaxis": "y"
        },
        {
         "alignmentgroup": "True",
         "hoverlabel": {
          "namelength": 0
         },
         "hovertemplate": "symbol=TOL<br>portfolio=%{x}<br>percent=%{y}",
         "legendgroup": "TOL",
         "marker": {
          "color": "#ab63fa"
         },
         "name": "TOL",
         "offsetgroup": "TOL",
         "orientation": "v",
         "showlegend": true,
         "textposition": "auto",
         "type": "bar",
         "x": [
          "Home Construction"
         ],
         "xaxis": "x",
         "y": [
          3.14
         ],
         "yaxis": "y"
        },
        {
         "alignmentgroup": "True",
         "hoverlabel": {
          "namelength": 0
         },
         "hovertemplate": "symbol=MAS<br>portfolio=%{x}<br>percent=%{y}",
         "legendgroup": "MAS",
         "marker": {
          "color": "#FFA15A"
         },
         "name": "MAS",
         "offsetgroup": "MAS",
         "orientation": "v",
         "showlegend": true,
         "textposition": "auto",
         "type": "bar",
         "x": [
          "Home Construction"
         ],
         "xaxis": "x",
         "y": [
          2.4
         ],
         "yaxis": "y"
        },
        {
         "alignmentgroup": "True",
         "hoverlabel": {
          "namelength": 0
         },
         "hovertemplate": "symbol=DHI<br>portfolio=%{x}<br>percent=%{y}",
         "legendgroup": "DHI",
         "marker": {
          "color": "#19d3f3"
         },
         "name": "DHI",
         "offsetgroup": "DHI",
         "orientation": "v",
         "showlegend": true,
         "textposition": "auto",
         "type": "bar",
         "x": [
          "Home Construction"
         ],
         "xaxis": "x",
         "y": [
          3.39
         ],
         "yaxis": "y"
        },
        {
         "alignmentgroup": "True",
         "hoverlabel": {
          "namelength": 0
         },
         "hovertemplate": "symbol=NVR<br>portfolio=%{x}<br>percent=%{y}",
         "legendgroup": "NVR",
         "marker": {
          "color": "#FF6692"
         },
         "name": "NVR",
         "offsetgroup": "NVR",
         "orientation": "v",
         "showlegend": true,
         "textposition": "auto",
         "type": "bar",
         "x": [
          "Home Construction"
         ],
         "xaxis": "x",
         "y": [
          3.73
         ],
         "yaxis": "y"
        },
        {
         "alignmentgroup": "True",
         "hoverlabel": {
          "namelength": 0
         },
         "hovertemplate": "symbol=KBH<br>portfolio=%{x}<br>percent=%{y}",
         "legendgroup": "KBH",
         "marker": {
          "color": "#B6E880"
         },
         "name": "KBH",
         "offsetgroup": "KBH",
         "orientation": "v",
         "showlegend": true,
         "textposition": "auto",
         "type": "bar",
         "x": [
          "Home Decor"
         ],
         "xaxis": "x",
         "y": [
          3.87
         ],
         "yaxis": "y"
        },
        {
         "alignmentgroup": "True",
         "hoverlabel": {
          "namelength": 0
         },
         "hovertemplate": "symbol=HOME<br>portfolio=%{x}<br>percent=%{y}",
         "legendgroup": "HOME",
         "marker": {
          "color": "#FF97FF"
         },
         "name": "HOME",
         "offsetgroup": "HOME",
         "orientation": "v",
         "showlegend": true,
         "textposition": "auto",
         "type": "bar",
         "x": [
          "Home Decor"
         ],
         "xaxis": "x",
         "y": [
          0.43
         ],
         "yaxis": "y"
        },
        {
         "alignmentgroup": "True",
         "hoverlabel": {
          "namelength": 0
         },
         "hovertemplate": "symbol=KIRK<br>portfolio=%{x}<br>percent=%{y}",
         "legendgroup": "KIRK",
         "marker": {
          "color": "#FECB52"
         },
         "name": "KIRK",
         "offsetgroup": "KIRK",
         "orientation": "v",
         "showlegend": true,
         "textposition": "auto",
         "type": "bar",
         "x": [
          "Home Decor"
         ],
         "xaxis": "x",
         "y": [
          -0.99
         ],
         "yaxis": "y"
        },
        {
         "alignmentgroup": "True",
         "hoverlabel": {
          "namelength": 0
         },
         "hovertemplate": "symbol=FND<br>portfolio=%{x}<br>percent=%{y}",
         "legendgroup": "FND",
         "marker": {
          "color": "#636efa"
         },
         "name": "FND",
         "offsetgroup": "FND",
         "orientation": "v",
         "showlegend": true,
         "textposition": "auto",
         "type": "bar",
         "x": [
          "Home Decor"
         ],
         "xaxis": "x",
         "y": [
          0.36
         ],
         "yaxis": "y"
        },
        {
         "alignmentgroup": "True",
         "hoverlabel": {
          "namelength": 0
         },
         "hovertemplate": "symbol=RH<br>portfolio=%{x}<br>percent=%{y}",
         "legendgroup": "RH",
         "marker": {
          "color": "#EF553B"
         },
         "name": "RH",
         "offsetgroup": "RH",
         "orientation": "v",
         "showlegend": true,
         "textposition": "auto",
         "type": "bar",
         "x": [
          "Home Decor"
         ],
         "xaxis": "x",
         "y": [
          3.82
         ],
         "yaxis": "y"
        },
        {
         "alignmentgroup": "True",
         "hoverlabel": {
          "namelength": 0
         },
         "hovertemplate": "symbol=UFPI<br>portfolio=%{x}<br>percent=%{y}",
         "legendgroup": "UFPI",
         "marker": {
          "color": "#00cc96"
         },
         "name": "UFPI",
         "offsetgroup": "UFPI",
         "orientation": "v",
         "showlegend": true,
         "textposition": "auto",
         "type": "bar",
         "x": [
          "Home Supplies"
         ],
         "xaxis": "x",
         "y": [
          3.28
         ],
         "yaxis": "y"
        },
        {
         "alignmentgroup": "True",
         "hoverlabel": {
          "namelength": 0
         },
         "hovertemplate": "symbol=LOW<br>portfolio=%{x}<br>percent=%{y}",
         "legendgroup": "LOW",
         "marker": {
          "color": "#ab63fa"
         },
         "name": "LOW",
         "offsetgroup": "LOW",
         "orientation": "v",
         "showlegend": true,
         "textposition": "auto",
         "type": "bar",
         "x": [
          "Home Supplies"
         ],
         "xaxis": "x",
         "y": [
          1.3
         ],
         "yaxis": "y"
        },
        {
         "alignmentgroup": "True",
         "hoverlabel": {
          "namelength": 0
         },
         "hovertemplate": "symbol=ROCK<br>portfolio=%{x}<br>percent=%{y}",
         "legendgroup": "ROCK",
         "marker": {
          "color": "#FFA15A"
         },
         "name": "ROCK",
         "offsetgroup": "ROCK",
         "orientation": "v",
         "showlegend": true,
         "textposition": "auto",
         "type": "bar",
         "x": [
          "Home Supplies"
         ],
         "xaxis": "x",
         "y": [
          2.53
         ],
         "yaxis": "y"
        },
        {
         "alignmentgroup": "True",
         "hoverlabel": {
          "namelength": 0
         },
         "hovertemplate": "symbol=TTNDY<br>portfolio=%{x}<br>percent=%{y}",
         "legendgroup": "TTNDY",
         "marker": {
          "color": "#19d3f3"
         },
         "name": "TTNDY",
         "offsetgroup": "TTNDY",
         "orientation": "v",
         "showlegend": true,
         "textposition": "auto",
         "type": "bar",
         "x": [
          "Home Supplies"
         ],
         "xaxis": "x",
         "y": [
          1.52
         ],
         "yaxis": "y"
        },
        {
         "alignmentgroup": "True",
         "hoverlabel": {
          "namelength": 0
         },
         "hovertemplate": "symbol=ROK<br>portfolio=%{x}<br>percent=%{y}",
         "legendgroup": "ROK",
         "marker": {
          "color": "#FF6692"
         },
         "name": "ROK",
         "offsetgroup": "ROK",
         "orientation": "v",
         "showlegend": true,
         "textposition": "auto",
         "type": "bar",
         "x": [
          "IOT"
         ],
         "xaxis": "x",
         "y": [
          3.32
         ],
         "yaxis": "y"
        },
        {
         "alignmentgroup": "True",
         "hoverlabel": {
          "namelength": 0
         },
         "hovertemplate": "symbol=SWIR<br>portfolio=%{x}<br>percent=%{y}",
         "legendgroup": "SWIR",
         "marker": {
          "color": "#B6E880"
         },
         "name": "SWIR",
         "offsetgroup": "SWIR",
         "orientation": "v",
         "showlegend": true,
         "textposition": "auto",
         "type": "bar",
         "x": [
          "IOT"
         ],
         "xaxis": "x",
         "y": [
          3.01
         ],
         "yaxis": "y"
        },
        {
         "alignmentgroup": "True",
         "hoverlabel": {
          "namelength": 0
         },
         "hovertemplate": "symbol=ST<br>portfolio=%{x}<br>percent=%{y}",
         "legendgroup": "ST",
         "marker": {
          "color": "#FF97FF"
         },
         "name": "ST",
         "offsetgroup": "ST",
         "orientation": "v",
         "showlegend": true,
         "textposition": "auto",
         "type": "bar",
         "x": [
          "IOT"
         ],
         "xaxis": "x",
         "y": [
          1.85
         ],
         "yaxis": "y"
        },
        {
         "alignmentgroup": "True",
         "hoverlabel": {
          "namelength": 0
         },
         "hovertemplate": "symbol=SNSR<br>portfolio=%{x}<br>percent=%{y}",
         "legendgroup": "SNSR",
         "marker": {
          "color": "#FECB52"
         },
         "name": "SNSR",
         "offsetgroup": "SNSR",
         "orientation": "v",
         "showlegend": true,
         "textposition": "auto",
         "type": "bar",
         "x": [
          "IOT"
         ],
         "xaxis": "x",
         "y": [
          2.09
         ],
         "yaxis": "y"
        },
        {
         "alignmentgroup": "True",
         "hoverlabel": {
          "namelength": 0
         },
         "hovertemplate": "symbol=ROP<br>portfolio=%{x}<br>percent=%{y}",
         "legendgroup": "ROP",
         "marker": {
          "color": "#636efa"
         },
         "name": "ROP",
         "offsetgroup": "ROP",
         "orientation": "v",
         "showlegend": true,
         "textposition": "auto",
         "type": "bar",
         "x": [
          "IOT"
         ],
         "xaxis": "x",
         "y": [
          2.29
         ],
         "yaxis": "y"
        },
        {
         "alignmentgroup": "True",
         "hoverlabel": {
          "namelength": 0
         },
         "hovertemplate": "symbol=IDCC<br>portfolio=%{x}<br>percent=%{y}",
         "legendgroup": "IDCC",
         "marker": {
          "color": "#EF553B"
         },
         "name": "IDCC",
         "offsetgroup": "IDCC",
         "orientation": "v",
         "showlegend": true,
         "textposition": "auto",
         "type": "bar",
         "x": [
          "IOT"
         ],
         "xaxis": "x",
         "y": [
          1.42
         ],
         "yaxis": "y"
        },
        {
         "alignmentgroup": "True",
         "hoverlabel": {
          "namelength": 0
         },
         "hovertemplate": "symbol=DXCM<br>portfolio=%{x}<br>percent=%{y}",
         "legendgroup": "DXCM",
         "marker": {
          "color": "#00cc96"
         },
         "name": "DXCM",
         "offsetgroup": "DXCM",
         "orientation": "v",
         "showlegend": true,
         "textposition": "auto",
         "type": "bar",
         "x": [
          "IOT"
         ],
         "xaxis": "x",
         "y": [
          0.31
         ],
         "yaxis": "y"
        },
        {
         "alignmentgroup": "True",
         "hoverlabel": {
          "namelength": 0
         },
         "hovertemplate": "symbol=DGII<br>portfolio=%{x}<br>percent=%{y}",
         "legendgroup": "DGII",
         "marker": {
          "color": "#ab63fa"
         },
         "name": "DGII",
         "offsetgroup": "DGII",
         "orientation": "v",
         "showlegend": true,
         "textposition": "auto",
         "type": "bar",
         "x": [
          "IOT"
         ],
         "xaxis": "x",
         "y": [
          -4.08
         ],
         "yaxis": "y"
        },
        {
         "alignmentgroup": "True",
         "hoverlabel": {
          "namelength": 0
         },
         "hovertemplate": "symbol=PING<br>portfolio=%{x}<br>percent=%{y}",
         "legendgroup": "PING",
         "marker": {
          "color": "#FFA15A"
         },
         "name": "PING",
         "offsetgroup": "PING",
         "orientation": "v",
         "showlegend": true,
         "textposition": "auto",
         "type": "bar",
         "x": [
          "IOT"
         ],
         "xaxis": "x",
         "y": [
          0.71
         ],
         "yaxis": "y"
        },
        {
         "alignmentgroup": "True",
         "hoverlabel": {
          "namelength": 0
         },
         "hovertemplate": "symbol=PI<br>portfolio=%{x}<br>percent=%{y}",
         "legendgroup": "PI",
         "marker": {
          "color": "#19d3f3"
         },
         "name": "PI",
         "offsetgroup": "PI",
         "orientation": "v",
         "showlegend": true,
         "textposition": "auto",
         "type": "bar",
         "x": [
          "IOT"
         ],
         "xaxis": "x",
         "y": [
          3.14
         ],
         "yaxis": "y"
        },
        {
         "alignmentgroup": "True",
         "hoverlabel": {
          "namelength": 0
         },
         "hovertemplate": "symbol=ALRM<br>portfolio=%{x}<br>percent=%{y}",
         "legendgroup": "ALRM",
         "marker": {
          "color": "#FF6692"
         },
         "name": "ALRM",
         "offsetgroup": "ALRM",
         "orientation": "v",
         "showlegend": true,
         "textposition": "auto",
         "type": "bar",
         "x": [
          "IOT"
         ],
         "xaxis": "x",
         "y": [
          -0.77
         ],
         "yaxis": "y"
        },
        {
         "alignmentgroup": "True",
         "hoverlabel": {
          "namelength": 0
         },
         "hovertemplate": "symbol=NPTN<br>portfolio=%{x}<br>percent=%{y}",
         "legendgroup": "NPTN",
         "marker": {
          "color": "#B6E880"
         },
         "name": "NPTN",
         "offsetgroup": "NPTN",
         "orientation": "v",
         "showlegend": true,
         "textposition": "auto",
         "type": "bar",
         "x": [
          "IOT"
         ],
         "xaxis": "x",
         "y": [
          0.51
         ],
         "yaxis": "y"
        },
        {
         "alignmentgroup": "True",
         "hoverlabel": {
          "namelength": 0
         },
         "hovertemplate": "symbol=BOTZ<br>portfolio=%{x}<br>percent=%{y}",
         "legendgroup": "BOTZ",
         "marker": {
          "color": "#FF97FF"
         },
         "name": "BOTZ",
         "offsetgroup": "BOTZ",
         "orientation": "v",
         "showlegend": true,
         "textposition": "auto",
         "type": "bar",
         "x": [
          "IOT"
         ],
         "xaxis": "x",
         "y": [
          1.87
         ],
         "yaxis": "y"
        },
        {
         "alignmentgroup": "True",
         "hoverlabel": {
          "namelength": 0
         },
         "hovertemplate": "symbol=HON<br>portfolio=%{x}<br>percent=%{y}",
         "legendgroup": "HON",
         "marker": {
          "color": "#FECB52"
         },
         "name": "HON",
         "offsetgroup": "HON",
         "orientation": "v",
         "showlegend": true,
         "textposition": "auto",
         "type": "bar",
         "x": [
          "IOT"
         ],
         "xaxis": "x",
         "y": [
          2.8
         ],
         "yaxis": "y"
        },
        {
         "alignmentgroup": "True",
         "hoverlabel": {
          "namelength": 0
         },
         "hovertemplate": "symbol=JCI<br>portfolio=%{x}<br>percent=%{y}",
         "legendgroup": "JCI",
         "marker": {
          "color": "#636efa"
         },
         "name": "JCI",
         "offsetgroup": "JCI",
         "orientation": "v",
         "showlegend": true,
         "textposition": "auto",
         "type": "bar",
         "x": [
          "IOT"
         ],
         "xaxis": "x",
         "y": [
          2.6
         ],
         "yaxis": "y"
        },
        {
         "alignmentgroup": "True",
         "hoverlabel": {
          "namelength": 0
         },
         "hovertemplate": "symbol=LTRX<br>portfolio=%{x}<br>percent=%{y}",
         "legendgroup": "LTRX",
         "marker": {
          "color": "#EF553B"
         },
         "name": "LTRX",
         "offsetgroup": "LTRX",
         "orientation": "v",
         "showlegend": true,
         "textposition": "auto",
         "type": "bar",
         "x": [
          "IOT"
         ],
         "xaxis": "x",
         "y": [
          -4.84
         ],
         "yaxis": "y"
        },
        {
         "alignmentgroup": "True",
         "hoverlabel": {
          "namelength": 0
         },
         "hovertemplate": "symbol=APH<br>portfolio=%{x}<br>percent=%{y}",
         "legendgroup": "APH",
         "marker": {
          "color": "#00cc96"
         },
         "name": "APH",
         "offsetgroup": "APH",
         "orientation": "v",
         "showlegend": true,
         "textposition": "auto",
         "type": "bar",
         "x": [
          "IOT"
         ],
         "xaxis": "x",
         "y": [
          2.86
         ],
         "yaxis": "y"
        },
        {
         "alignmentgroup": "True",
         "hoverlabel": {
          "namelength": 0
         },
         "hovertemplate": "symbol=MDLA<br>portfolio=%{x}<br>percent=%{y}",
         "legendgroup": "MDLA",
         "marker": {
          "color": "#ab63fa"
         },
         "name": "MDLA",
         "offsetgroup": "MDLA",
         "orientation": "v",
         "showlegend": true,
         "textposition": "auto",
         "type": "bar",
         "x": [
          "IOT"
         ],
         "xaxis": "x",
         "y": [
          3.11
         ],
         "yaxis": "y"
        },
        {
         "alignmentgroup": "True",
         "hoverlabel": {
          "namelength": 0
         },
         "hovertemplate": "symbol=MPWR<br>portfolio=%{x}<br>percent=%{y}",
         "legendgroup": "MPWR",
         "marker": {
          "color": "#FFA15A"
         },
         "name": "MPWR",
         "offsetgroup": "MPWR",
         "orientation": "v",
         "showlegend": true,
         "textposition": "auto",
         "type": "bar",
         "x": [
          "IOT"
         ],
         "xaxis": "x",
         "y": [
          -1.26
         ],
         "yaxis": "y"
        },
        {
         "alignmentgroup": "True",
         "hoverlabel": {
          "namelength": 0
         },
         "hovertemplate": "symbol=DCT<br>portfolio=%{x}<br>percent=%{y}",
         "legendgroup": "DCT",
         "marker": {
          "color": "#19d3f3"
         },
         "name": "DCT",
         "offsetgroup": "DCT",
         "orientation": "v",
         "showlegend": true,
         "textposition": "auto",
         "type": "bar",
         "x": [
          "Insurance"
         ],
         "xaxis": "x",
         "y": [
          -1.92
         ],
         "yaxis": "y"
        },
        {
         "alignmentgroup": "True",
         "hoverlabel": {
          "namelength": 0
         },
         "hovertemplate": "symbol=LMND<br>portfolio=%{x}<br>percent=%{y}",
         "legendgroup": "LMND",
         "marker": {
          "color": "#FF6692"
         },
         "name": "LMND",
         "offsetgroup": "LMND",
         "orientation": "v",
         "showlegend": true,
         "textposition": "auto",
         "type": "bar",
         "x": [
          "Insurance"
         ],
         "xaxis": "x",
         "y": [
          6.59
         ],
         "yaxis": "y"
        },
        {
         "alignmentgroup": "True",
         "hoverlabel": {
          "namelength": 0
         },
         "hovertemplate": "symbol=MRK<br>portfolio=%{x}<br>percent=%{y}",
         "legendgroup": "MRK",
         "marker": {
          "color": "#B6E880"
         },
         "name": "MRK",
         "offsetgroup": "MRK",
         "orientation": "v",
         "showlegend": true,
         "textposition": "auto",
         "type": "bar",
         "x": [
          "Mega Capital"
         ],
         "xaxis": "x",
         "y": [
          2.12
         ],
         "yaxis": "y"
        },
        {
         "alignmentgroup": "True",
         "hoverlabel": {
          "namelength": 0
         },
         "hovertemplate": "symbol=DIS<br>portfolio=%{x}<br>percent=%{y}",
         "legendgroup": "DIS",
         "marker": {
          "color": "#FF97FF"
         },
         "name": "DIS",
         "offsetgroup": "DIS",
         "orientation": "v",
         "showlegend": true,
         "textposition": "auto",
         "type": "bar",
         "x": [
          "Mega Capital"
         ],
         "xaxis": "x",
         "y": [
          2.87
         ],
         "yaxis": "y"
        },
        {
         "alignmentgroup": "True",
         "hoverlabel": {
          "namelength": 0
         },
         "hovertemplate": "symbol=GOOG<br>portfolio=%{x}<br>percent=%{y}",
         "legendgroup": "GOOG",
         "marker": {
          "color": "#FECB52"
         },
         "name": "GOOG",
         "offsetgroup": "GOOG",
         "orientation": "v",
         "showlegend": true,
         "textposition": "auto",
         "type": "bar",
         "x": [
          "Mega Capital"
         ],
         "xaxis": "x",
         "y": [
          1.54
         ],
         "yaxis": "y"
        },
        {
         "alignmentgroup": "True",
         "hoverlabel": {
          "namelength": 0
         },
         "hovertemplate": "symbol=AMZN<br>portfolio=%{x}<br>percent=%{y}",
         "legendgroup": "AMZN",
         "marker": {
          "color": "#636efa"
         },
         "name": "AMZN",
         "offsetgroup": "AMZN",
         "orientation": "v",
         "showlegend": true,
         "textposition": "auto",
         "type": "bar",
         "x": [
          "Mega Capital"
         ],
         "xaxis": "x",
         "y": [
          0.6
         ],
         "yaxis": "y"
        },
        {
         "alignmentgroup": "True",
         "hoverlabel": {
          "namelength": 0
         },
         "hovertemplate": "symbol=HD<br>portfolio=%{x}<br>percent=%{y}",
         "legendgroup": "HD",
         "marker": {
          "color": "#EF553B"
         },
         "name": "HD",
         "offsetgroup": "HD",
         "orientation": "v",
         "showlegend": true,
         "textposition": "auto",
         "type": "bar",
         "x": [
          "Mega Capital"
         ],
         "xaxis": "x",
         "y": [
          0.82
         ],
         "yaxis": "y"
        },
        {
         "alignmentgroup": "True",
         "hoverlabel": {
          "namelength": 0
         },
         "hovertemplate": "symbol=BABA<br>portfolio=%{x}<br>percent=%{y}",
         "legendgroup": "BABA",
         "marker": {
          "color": "#00cc96"
         },
         "name": "BABA",
         "offsetgroup": "BABA",
         "orientation": "v",
         "showlegend": true,
         "textposition": "auto",
         "type": "bar",
         "x": [
          "Mega Capital"
         ],
         "xaxis": "x",
         "y": [
          -1.34
         ],
         "yaxis": "y"
        },
        {
         "alignmentgroup": "True",
         "hoverlabel": {
          "namelength": 0
         },
         "hovertemplate": "symbol=AAPL<br>portfolio=%{x}<br>percent=%{y}",
         "legendgroup": "AAPL",
         "marker": {
          "color": "#ab63fa"
         },
         "name": "AAPL",
         "offsetgroup": "AAPL",
         "orientation": "v",
         "showlegend": true,
         "textposition": "auto",
         "type": "bar",
         "x": [
          "Mega Capital"
         ],
         "xaxis": "x",
         "y": [
          0.06
         ],
         "yaxis": "y"
        },
        {
         "alignmentgroup": "True",
         "hoverlabel": {
          "namelength": 0
         },
         "hovertemplate": "symbol=MSFT<br>portfolio=%{x}<br>percent=%{y}",
         "legendgroup": "MSFT",
         "marker": {
          "color": "#FFA15A"
         },
         "name": "MSFT",
         "offsetgroup": "MSFT",
         "orientation": "v",
         "showlegend": true,
         "textposition": "auto",
         "type": "bar",
         "x": [
          "Mega Capital"
         ],
         "xaxis": "x",
         "y": [
          0.6
         ],
         "yaxis": "y"
        },
        {
         "alignmentgroup": "True",
         "hoverlabel": {
          "namelength": 0
         },
         "hovertemplate": "symbol=JLL<br>portfolio=%{x}<br>percent=%{y}",
         "legendgroup": "JLL",
         "marker": {
          "color": "#19d3f3"
         },
         "name": "JLL",
         "offsetgroup": "JLL",
         "orientation": "v",
         "showlegend": true,
         "textposition": "auto",
         "type": "bar",
         "x": [
          "REIT"
         ],
         "xaxis": "x",
         "y": [
          4.81
         ],
         "yaxis": "y"
        },
        {
         "alignmentgroup": "True",
         "hoverlabel": {
          "namelength": 0
         },
         "hovertemplate": "symbol=EQIX<br>portfolio=%{x}<br>percent=%{y}",
         "legendgroup": "EQIX",
         "marker": {
          "color": "#FF6692"
         },
         "name": "EQIX",
         "offsetgroup": "EQIX",
         "orientation": "v",
         "showlegend": true,
         "textposition": "auto",
         "type": "bar",
         "x": [
          "REIT"
         ],
         "xaxis": "x",
         "y": [
          0.24
         ],
         "yaxis": "y"
        },
        {
         "alignmentgroup": "True",
         "hoverlabel": {
          "namelength": 0
         },
         "hovertemplate": "symbol=AGNC<br>portfolio=%{x}<br>percent=%{y}",
         "legendgroup": "AGNC",
         "marker": {
          "color": "#B6E880"
         },
         "name": "AGNC",
         "offsetgroup": "AGNC",
         "orientation": "v",
         "showlegend": true,
         "textposition": "auto",
         "type": "bar",
         "x": [
          "REIT"
         ],
         "xaxis": "x",
         "y": [
          2.84
         ],
         "yaxis": "y"
        },
        {
         "alignmentgroup": "True",
         "hoverlabel": {
          "namelength": 0
         },
         "hovertemplate": "symbol=ORC<br>portfolio=%{x}<br>percent=%{y}",
         "legendgroup": "ORC",
         "marker": {
          "color": "#FF97FF"
         },
         "name": "ORC",
         "offsetgroup": "ORC",
         "orientation": "v",
         "showlegend": true,
         "textposition": "auto",
         "type": "bar",
         "x": [
          "REIT"
         ],
         "xaxis": "x",
         "y": [
          1.92
         ],
         "yaxis": "y"
        },
        {
         "alignmentgroup": "True",
         "hoverlabel": {
          "namelength": 0
         },
         "hovertemplate": "symbol=TWO<br>portfolio=%{x}<br>percent=%{y}",
         "legendgroup": "TWO",
         "marker": {
          "color": "#FECB52"
         },
         "name": "TWO",
         "offsetgroup": "TWO",
         "orientation": "v",
         "showlegend": true,
         "textposition": "auto",
         "type": "bar",
         "x": [
          "REIT"
         ],
         "xaxis": "x",
         "y": [
          5.53
         ],
         "yaxis": "y"
        },
        {
         "alignmentgroup": "True",
         "hoverlabel": {
          "namelength": 0
         },
         "hovertemplate": "symbol=UDR<br>portfolio=%{x}<br>percent=%{y}",
         "legendgroup": "UDR",
         "marker": {
          "color": "#636efa"
         },
         "name": "UDR",
         "offsetgroup": "UDR",
         "orientation": "v",
         "showlegend": true,
         "textposition": "auto",
         "type": "bar",
         "x": [
          "REIT"
         ],
         "xaxis": "x",
         "y": [
          3.39
         ],
         "yaxis": "y"
        },
        {
         "alignmentgroup": "True",
         "hoverlabel": {
          "namelength": 0
         },
         "hovertemplate": "symbol=DX<br>portfolio=%{x}<br>percent=%{y}",
         "legendgroup": "DX",
         "marker": {
          "color": "#EF553B"
         },
         "name": "DX",
         "offsetgroup": "DX",
         "orientation": "v",
         "showlegend": true,
         "textposition": "auto",
         "type": "bar",
         "x": [
          "REIT"
         ],
         "xaxis": "x",
         "y": [
          2.61
         ],
         "yaxis": "y"
        },
        {
         "alignmentgroup": "True",
         "hoverlabel": {
          "namelength": 0
         },
         "hovertemplate": "symbol=FTHM<br>portfolio=%{x}<br>percent=%{y}",
         "legendgroup": "FTHM",
         "marker": {
          "color": "#00cc96"
         },
         "name": "FTHM",
         "offsetgroup": "FTHM",
         "orientation": "v",
         "showlegend": true,
         "textposition": "auto",
         "type": "bar",
         "x": [
          "REIT"
         ],
         "xaxis": "x",
         "y": [
          0.21
         ],
         "yaxis": "y"
        },
        {
         "alignmentgroup": "True",
         "hoverlabel": {
          "namelength": 0
         },
         "hovertemplate": "symbol=CONE<br>portfolio=%{x}<br>percent=%{y}",
         "legendgroup": "CONE",
         "marker": {
          "color": "#ab63fa"
         },
         "name": "CONE",
         "offsetgroup": "CONE",
         "orientation": "v",
         "showlegend": true,
         "textposition": "auto",
         "type": "bar",
         "x": [
          "REIT"
         ],
         "xaxis": "x",
         "y": [
          1.83
         ],
         "yaxis": "y"
        },
        {
         "alignmentgroup": "True",
         "hoverlabel": {
          "namelength": 0
         },
         "hovertemplate": "symbol=SLG<br>portfolio=%{x}<br>percent=%{y}",
         "legendgroup": "SLG",
         "marker": {
          "color": "#FFA15A"
         },
         "name": "SLG",
         "offsetgroup": "SLG",
         "orientation": "v",
         "showlegend": true,
         "textposition": "auto",
         "type": "bar",
         "x": [
          "REIT"
         ],
         "xaxis": "x",
         "y": [
          6.02
         ],
         "yaxis": "y"
        },
        {
         "alignmentgroup": "True",
         "hoverlabel": {
          "namelength": 0
         },
         "hovertemplate": "symbol=NLY<br>portfolio=%{x}<br>percent=%{y}",
         "legendgroup": "NLY",
         "marker": {
          "color": "#19d3f3"
         },
         "name": "NLY",
         "offsetgroup": "NLY",
         "orientation": "v",
         "showlegend": true,
         "textposition": "auto",
         "type": "bar",
         "x": [
          "REIT"
         ],
         "xaxis": "x",
         "y": [
          3.49
         ],
         "yaxis": "y"
        },
        {
         "alignmentgroup": "True",
         "hoverlabel": {
          "namelength": 0
         },
         "hovertemplate": "symbol=ARR<br>portfolio=%{x}<br>percent=%{y}",
         "legendgroup": "ARR",
         "marker": {
          "color": "#FF6692"
         },
         "name": "ARR",
         "offsetgroup": "ARR",
         "orientation": "v",
         "showlegend": true,
         "textposition": "auto",
         "type": "bar",
         "x": [
          "REIT"
         ],
         "xaxis": "x",
         "y": [
          0.35
         ],
         "yaxis": "y"
        },
        {
         "alignmentgroup": "True",
         "hoverlabel": {
          "namelength": 0
         },
         "hovertemplate": "symbol=BEKE<br>portfolio=%{x}<br>percent=%{y}",
         "legendgroup": "BEKE",
         "marker": {
          "color": "#B6E880"
         },
         "name": "BEKE",
         "offsetgroup": "BEKE",
         "orientation": "v",
         "showlegend": true,
         "textposition": "auto",
         "type": "bar",
         "x": [
          "REIT"
         ],
         "xaxis": "x",
         "y": [
          4.02
         ],
         "yaxis": "y"
        },
        {
         "alignmentgroup": "True",
         "hoverlabel": {
          "namelength": 0
         },
         "hovertemplate": "symbol=AMT<br>portfolio=%{x}<br>percent=%{y}",
         "legendgroup": "AMT",
         "marker": {
          "color": "#FF97FF"
         },
         "name": "AMT",
         "offsetgroup": "AMT",
         "orientation": "v",
         "showlegend": true,
         "textposition": "auto",
         "type": "bar",
         "x": [
          "REIT"
         ],
         "xaxis": "x",
         "y": [
          1.93
         ],
         "yaxis": "y"
        },
        {
         "alignmentgroup": "True",
         "hoverlabel": {
          "namelength": 0
         },
         "hovertemplate": "symbol=CCI<br>portfolio=%{x}<br>percent=%{y}",
         "legendgroup": "CCI",
         "marker": {
          "color": "#FECB52"
         },
         "name": "CCI",
         "offsetgroup": "CCI",
         "orientation": "v",
         "showlegend": true,
         "textposition": "auto",
         "type": "bar",
         "x": [
          "REIT"
         ],
         "xaxis": "x",
         "y": [
          1.18
         ],
         "yaxis": "y"
        },
        {
         "alignmentgroup": "True",
         "hoverlabel": {
          "namelength": 0
         },
         "hovertemplate": "symbol=TXN<br>portfolio=%{x}<br>percent=%{y}",
         "legendgroup": "TXN",
         "marker": {
          "color": "#636efa"
         },
         "name": "TXN",
         "offsetgroup": "TXN",
         "orientation": "v",
         "showlegend": true,
         "textposition": "auto",
         "type": "bar",
         "x": [
          "Semiconductors"
         ],
         "xaxis": "x",
         "y": [
          1.64
         ],
         "yaxis": "y"
        },
        {
         "alignmentgroup": "True",
         "hoverlabel": {
          "namelength": 0
         },
         "hovertemplate": "symbol=TSM<br>portfolio=%{x}<br>percent=%{y}",
         "legendgroup": "TSM",
         "marker": {
          "color": "#EF553B"
         },
         "name": "TSM",
         "offsetgroup": "TSM",
         "orientation": "v",
         "showlegend": true,
         "textposition": "auto",
         "type": "bar",
         "x": [
          "Semiconductors"
         ],
         "xaxis": "x",
         "y": [
          3.28
         ],
         "yaxis": "y"
        },
        {
         "alignmentgroup": "True",
         "hoverlabel": {
          "namelength": 0
         },
         "hovertemplate": "symbol=AMD<br>portfolio=%{x}<br>percent=%{y}",
         "legendgroup": "AMD",
         "marker": {
          "color": "#00cc96"
         },
         "name": "AMD",
         "offsetgroup": "AMD",
         "orientation": "v",
         "showlegend": true,
         "textposition": "auto",
         "type": "bar",
         "x": [
          "Semiconductors"
         ],
         "xaxis": "x",
         "y": [
          -0.26
         ],
         "yaxis": "y"
        },
        {
         "alignmentgroup": "True",
         "hoverlabel": {
          "namelength": 0
         },
         "hovertemplate": "symbol=AMKR<br>portfolio=%{x}<br>percent=%{y}",
         "legendgroup": "AMKR",
         "marker": {
          "color": "#ab63fa"
         },
         "name": "AMKR",
         "offsetgroup": "AMKR",
         "orientation": "v",
         "showlegend": true,
         "textposition": "auto",
         "type": "bar",
         "x": [
          "Semiconductors"
         ],
         "xaxis": "x",
         "y": [
          1.68
         ],
         "yaxis": "y"
        },
        {
         "alignmentgroup": "True",
         "hoverlabel": {
          "namelength": 0
         },
         "hovertemplate": "symbol=QCOM<br>portfolio=%{x}<br>percent=%{y}",
         "legendgroup": "QCOM",
         "marker": {
          "color": "#FFA15A"
         },
         "name": "QCOM",
         "offsetgroup": "QCOM",
         "orientation": "v",
         "showlegend": true,
         "textposition": "auto",
         "type": "bar",
         "x": [
          "Semiconductors"
         ],
         "xaxis": "x",
         "y": [
          0.36
         ],
         "yaxis": "y"
        },
        {
         "alignmentgroup": "True",
         "hoverlabel": {
          "namelength": 0
         },
         "hovertemplate": "symbol=LRCX<br>portfolio=%{x}<br>percent=%{y}",
         "legendgroup": "LRCX",
         "marker": {
          "color": "#19d3f3"
         },
         "name": "LRCX",
         "offsetgroup": "LRCX",
         "orientation": "v",
         "showlegend": true,
         "textposition": "auto",
         "type": "bar",
         "x": [
          "Semiconductors"
         ],
         "xaxis": "x",
         "y": [
          2.16
         ],
         "yaxis": "y"
        },
        {
         "alignmentgroup": "True",
         "hoverlabel": {
          "namelength": 0
         },
         "hovertemplate": "symbol=KLAC<br>portfolio=%{x}<br>percent=%{y}",
         "legendgroup": "KLAC",
         "marker": {
          "color": "#FF6692"
         },
         "name": "KLAC",
         "offsetgroup": "KLAC",
         "orientation": "v",
         "showlegend": true,
         "textposition": "auto",
         "type": "bar",
         "x": [
          "Semiconductors"
         ],
         "xaxis": "x",
         "y": [
          1.72
         ],
         "yaxis": "y"
        },
        {
         "alignmentgroup": "True",
         "hoverlabel": {
          "namelength": 0
         },
         "hovertemplate": "symbol=STX<br>portfolio=%{x}<br>percent=%{y}",
         "legendgroup": "STX",
         "marker": {
          "color": "#B6E880"
         },
         "name": "STX",
         "offsetgroup": "STX",
         "orientation": "v",
         "showlegend": true,
         "textposition": "auto",
         "type": "bar",
         "x": [
          "Semiconductors"
         ],
         "xaxis": "x",
         "y": [
          3.56
         ],
         "yaxis": "y"
        },
        {
         "alignmentgroup": "True",
         "hoverlabel": {
          "namelength": 0
         },
         "hovertemplate": "symbol=NVDA<br>portfolio=%{x}<br>percent=%{y}",
         "legendgroup": "NVDA",
         "marker": {
          "color": "#FF97FF"
         },
         "name": "NVDA",
         "offsetgroup": "NVDA",
         "orientation": "v",
         "showlegend": true,
         "textposition": "auto",
         "type": "bar",
         "x": [
          "Semiconductors"
         ],
         "xaxis": "x",
         "y": [
          -1.03
         ],
         "yaxis": "y"
        },
        {
         "alignmentgroup": "True",
         "hoverlabel": {
          "namelength": 0
         },
         "hovertemplate": "symbol=SWKS<br>portfolio=%{x}<br>percent=%{y}",
         "legendgroup": "SWKS",
         "marker": {
          "color": "#FECB52"
         },
         "name": "SWKS",
         "offsetgroup": "SWKS",
         "orientation": "v",
         "showlegend": true,
         "textposition": "auto",
         "type": "bar",
         "x": [
          "Semiconductors"
         ],
         "xaxis": "x",
         "y": [
          0.66
         ],
         "yaxis": "y"
        },
        {
         "alignmentgroup": "True",
         "hoverlabel": {
          "namelength": 0
         },
         "hovertemplate": "symbol=MU<br>portfolio=%{x}<br>percent=%{y}",
         "legendgroup": "MU",
         "marker": {
          "color": "#636efa"
         },
         "name": "MU",
         "offsetgroup": "MU",
         "orientation": "v",
         "showlegend": true,
         "textposition": "auto",
         "type": "bar",
         "x": [
          "Semiconductors"
         ],
         "xaxis": "x",
         "y": [
          3.42
         ],
         "yaxis": "y"
        },
        {
         "alignmentgroup": "True",
         "hoverlabel": {
          "namelength": 0
         },
         "hovertemplate": "symbol=GSL<br>portfolio=%{x}<br>percent=%{y}",
         "legendgroup": "GSL",
         "marker": {
          "color": "#EF553B"
         },
         "name": "GSL",
         "offsetgroup": "GSL",
         "orientation": "v",
         "showlegend": true,
         "textposition": "auto",
         "type": "bar",
         "x": [
          "Shipping"
         ],
         "xaxis": "x",
         "y": [
          0
         ],
         "yaxis": "y"
        },
        {
         "alignmentgroup": "True",
         "hoverlabel": {
          "namelength": 0
         },
         "hovertemplate": "symbol=CPLP<br>portfolio=%{x}<br>percent=%{y}",
         "legendgroup": "CPLP",
         "marker": {
          "color": "#00cc96"
         },
         "name": "CPLP",
         "offsetgroup": "CPLP",
         "orientation": "v",
         "showlegend": true,
         "textposition": "auto",
         "type": "bar",
         "x": [
          "Shipping"
         ],
         "xaxis": "x",
         "y": [
          2.93
         ],
         "yaxis": "y"
        },
        {
         "alignmentgroup": "True",
         "hoverlabel": {
          "namelength": 0
         },
         "hovertemplate": "symbol=ATCO<br>portfolio=%{x}<br>percent=%{y}",
         "legendgroup": "ATCO",
         "marker": {
          "color": "#ab63fa"
         },
         "name": "ATCO",
         "offsetgroup": "ATCO",
         "orientation": "v",
         "showlegend": true,
         "textposition": "auto",
         "type": "bar",
         "x": [
          "Shipping"
         ],
         "xaxis": "x",
         "y": [
          5.05
         ],
         "yaxis": "y"
        },
        {
         "alignmentgroup": "True",
         "hoverlabel": {
          "namelength": 0
         },
         "hovertemplate": "symbol=CMRE<br>portfolio=%{x}<br>percent=%{y}",
         "legendgroup": "CMRE",
         "marker": {
          "color": "#FFA15A"
         },
         "name": "CMRE",
         "offsetgroup": "CMRE",
         "orientation": "v",
         "showlegend": true,
         "textposition": "auto",
         "type": "bar",
         "x": [
          "Shipping"
         ],
         "xaxis": "x",
         "y": [
          3.57
         ],
         "yaxis": "y"
        },
        {
         "alignmentgroup": "True",
         "hoverlabel": {
          "namelength": 0
         },
         "hovertemplate": "symbol=PXS<br>portfolio=%{x}<br>percent=%{y}",
         "legendgroup": "PXS",
         "marker": {
          "color": "#19d3f3"
         },
         "name": "PXS",
         "offsetgroup": "PXS",
         "orientation": "v",
         "showlegend": true,
         "textposition": "auto",
         "type": "bar",
         "x": [
          "Shipping"
         ],
         "xaxis": "x",
         "y": [
          6.31
         ],
         "yaxis": "y"
        },
        {
         "alignmentgroup": "True",
         "hoverlabel": {
          "namelength": 0
         },
         "hovertemplate": "symbol=DAC<br>portfolio=%{x}<br>percent=%{y}",
         "legendgroup": "DAC",
         "marker": {
          "color": "#FF6692"
         },
         "name": "DAC",
         "offsetgroup": "DAC",
         "orientation": "v",
         "showlegend": true,
         "textposition": "auto",
         "type": "bar",
         "x": [
          "Shipping"
         ],
         "xaxis": "x",
         "y": [
          6.36
         ],
         "yaxis": "y"
        },
        {
         "alignmentgroup": "True",
         "hoverlabel": {
          "namelength": 0
         },
         "hovertemplate": "symbol=DAL<br>portfolio=%{x}<br>percent=%{y}",
         "legendgroup": "DAL",
         "marker": {
          "color": "#B6E880"
         },
         "name": "DAL",
         "offsetgroup": "DAL",
         "orientation": "v",
         "showlegend": true,
         "textposition": "auto",
         "type": "bar",
         "x": [
          "Travel"
         ],
         "xaxis": "x",
         "y": [
          6.97
         ],
         "yaxis": "y"
        },
        {
         "alignmentgroup": "True",
         "hoverlabel": {
          "namelength": 0
         },
         "hovertemplate": "symbol=TZOO<br>portfolio=%{x}<br>percent=%{y}",
         "legendgroup": "TZOO",
         "marker": {
          "color": "#FF97FF"
         },
         "name": "TZOO",
         "offsetgroup": "TZOO",
         "orientation": "v",
         "showlegend": true,
         "textposition": "auto",
         "type": "bar",
         "x": [
          "Travel"
         ],
         "xaxis": "x",
         "y": [
          4.65
         ],
         "yaxis": "y"
        },
        {
         "alignmentgroup": "True",
         "hoverlabel": {
          "namelength": 0
         },
         "hovertemplate": "symbol=NCLH<br>portfolio=%{x}<br>percent=%{y}",
         "legendgroup": "NCLH",
         "marker": {
          "color": "#FECB52"
         },
         "name": "NCLH",
         "offsetgroup": "NCLH",
         "orientation": "v",
         "showlegend": true,
         "textposition": "auto",
         "type": "bar",
         "x": [
          "Travel"
         ],
         "xaxis": "x",
         "y": [
          6.73
         ],
         "yaxis": "y"
        },
        {
         "alignmentgroup": "True",
         "hoverlabel": {
          "namelength": 0
         },
         "hovertemplate": "symbol=EXPE<br>portfolio=%{x}<br>percent=%{y}",
         "legendgroup": "EXPE",
         "marker": {
          "color": "#636efa"
         },
         "name": "EXPE",
         "offsetgroup": "EXPE",
         "orientation": "v",
         "showlegend": true,
         "textposition": "auto",
         "type": "bar",
         "x": [
          "Travel"
         ],
         "xaxis": "x",
         "y": [
          5.91
         ],
         "yaxis": "y"
        },
        {
         "alignmentgroup": "True",
         "hoverlabel": {
          "namelength": 0
         },
         "hovertemplate": "symbol=SABR<br>portfolio=%{x}<br>percent=%{y}",
         "legendgroup": "SABR",
         "marker": {
          "color": "#EF553B"
         },
         "name": "SABR",
         "offsetgroup": "SABR",
         "orientation": "v",
         "showlegend": true,
         "textposition": "auto",
         "type": "bar",
         "x": [
          "Travel"
         ],
         "xaxis": "x",
         "y": [
          9.7
         ],
         "yaxis": "y"
        },
        {
         "alignmentgroup": "True",
         "hoverlabel": {
          "namelength": 0
         },
         "hovertemplate": "symbol=RCL<br>portfolio=%{x}<br>percent=%{y}",
         "legendgroup": "RCL",
         "marker": {
          "color": "#00cc96"
         },
         "name": "RCL",
         "offsetgroup": "RCL",
         "orientation": "v",
         "showlegend": true,
         "textposition": "auto",
         "type": "bar",
         "x": [
          "Travel"
         ],
         "xaxis": "x",
         "y": [
          3.76
         ],
         "yaxis": "y"
        },
        {
         "alignmentgroup": "True",
         "hoverlabel": {
          "namelength": 0
         },
         "hovertemplate": "symbol=MMYT<br>portfolio=%{x}<br>percent=%{y}",
         "legendgroup": "MMYT",
         "marker": {
          "color": "#ab63fa"
         },
         "name": "MMYT",
         "offsetgroup": "MMYT",
         "orientation": "v",
         "showlegend": true,
         "textposition": "auto",
         "type": "bar",
         "x": [
          "Travel"
         ],
         "xaxis": "x",
         "y": [
          3.5
         ],
         "yaxis": "y"
        },
        {
         "alignmentgroup": "True",
         "hoverlabel": {
          "namelength": 0
         },
         "hovertemplate": "symbol=CCL<br>portfolio=%{x}<br>percent=%{y}",
         "legendgroup": "CCL",
         "marker": {
          "color": "#FFA15A"
         },
         "name": "CCL",
         "offsetgroup": "CCL",
         "orientation": "v",
         "showlegend": true,
         "textposition": "auto",
         "type": "bar",
         "x": [
          "Travel"
         ],
         "xaxis": "x",
         "y": [
          7.34
         ],
         "yaxis": "y"
        },
        {
         "alignmentgroup": "True",
         "hoverlabel": {
          "namelength": 0
         },
         "hovertemplate": "symbol=TRIP<br>portfolio=%{x}<br>percent=%{y}",
         "legendgroup": "TRIP",
         "marker": {
          "color": "#19d3f3"
         },
         "name": "TRIP",
         "offsetgroup": "TRIP",
         "orientation": "v",
         "showlegend": true,
         "textposition": "auto",
         "type": "bar",
         "x": [
          "Travel"
         ],
         "xaxis": "x",
         "y": [
          7.92
         ],
         "yaxis": "y"
        },
        {
         "alignmentgroup": "True",
         "hoverlabel": {
          "namelength": 0
         },
         "hovertemplate": "symbol=LUV<br>portfolio=%{x}<br>percent=%{y}",
         "legendgroup": "LUV",
         "marker": {
          "color": "#FF6692"
         },
         "name": "LUV",
         "offsetgroup": "LUV",
         "orientation": "v",
         "showlegend": true,
         "textposition": "auto",
         "type": "bar",
         "x": [
          "Travel"
         ],
         "xaxis": "x",
         "y": [
          5.79
         ],
         "yaxis": "y"
        },
        {
         "alignmentgroup": "True",
         "hoverlabel": {
          "namelength": 0
         },
         "hovertemplate": "symbol=BKNG<br>portfolio=%{x}<br>percent=%{y}",
         "legendgroup": "BKNG",
         "marker": {
          "color": "#B6E880"
         },
         "name": "BKNG",
         "offsetgroup": "BKNG",
         "orientation": "v",
         "showlegend": true,
         "textposition": "auto",
         "type": "bar",
         "x": [
          "Travel"
         ],
         "xaxis": "x",
         "y": [
          4.58
         ],
         "yaxis": "y"
        },
        {
         "alignmentgroup": "True",
         "hoverlabel": {
          "namelength": 0
         },
         "hovertemplate": "symbol=JETS<br>portfolio=%{x}<br>percent=%{y}",
         "legendgroup": "JETS",
         "marker": {
          "color": "#FF97FF"
         },
         "name": "JETS",
         "offsetgroup": "JETS",
         "orientation": "v",
         "showlegend": true,
         "textposition": "auto",
         "type": "bar",
         "x": [
          "Travel"
         ],
         "xaxis": "x",
         "y": [
          5.33
         ],
         "yaxis": "y"
        },
        {
         "alignmentgroup": "True",
         "hoverlabel": {
          "namelength": 0
         },
         "hovertemplate": "symbol=UAL<br>portfolio=%{x}<br>percent=%{y}",
         "legendgroup": "UAL",
         "marker": {
          "color": "#FECB52"
         },
         "name": "UAL",
         "offsetgroup": "UAL",
         "orientation": "v",
         "showlegend": true,
         "textposition": "auto",
         "type": "bar",
         "x": [
          "Travel"
         ],
         "xaxis": "x",
         "y": [
          6.37
         ],
         "yaxis": "y"
        },
        {
         "alignmentgroup": "True",
         "hoverlabel": {
          "namelength": 0
         },
         "hovertemplate": "symbol=EFNL<br>portfolio=%{x}<br>percent=%{y}",
         "legendgroup": "EFNL",
         "marker": {
          "color": "#636efa"
         },
         "name": "EFNL",
         "offsetgroup": "EFNL",
         "orientation": "v",
         "showlegend": true,
         "textposition": "auto",
         "type": "bar",
         "x": [
          "World Stock Markets"
         ],
         "xaxis": "x",
         "y": [
          0.76
         ],
         "yaxis": "y"
        },
        {
         "alignmentgroup": "True",
         "hoverlabel": {
          "namelength": 0
         },
         "hovertemplate": "symbol=EDEN<br>portfolio=%{x}<br>percent=%{y}",
         "legendgroup": "EDEN",
         "marker": {
          "color": "#EF553B"
         },
         "name": "EDEN",
         "offsetgroup": "EDEN",
         "orientation": "v",
         "showlegend": true,
         "textposition": "auto",
         "type": "bar",
         "x": [
          "World Stock Markets"
         ],
         "xaxis": "x",
         "y": [
          0.79
         ],
         "yaxis": "y"
        },
        {
         "alignmentgroup": "True",
         "hoverlabel": {
          "namelength": 0
         },
         "hovertemplate": "symbol=EWY<br>portfolio=%{x}<br>percent=%{y}",
         "legendgroup": "EWY",
         "marker": {
          "color": "#00cc96"
         },
         "name": "EWY",
         "offsetgroup": "EWY",
         "orientation": "v",
         "showlegend": true,
         "textposition": "auto",
         "type": "bar",
         "x": [
          "World Stock Markets"
         ],
         "xaxis": "x",
         "y": [
          2.44
         ],
         "yaxis": "y"
        },
        {
         "alignmentgroup": "True",
         "hoverlabel": {
          "namelength": 0
         },
         "hovertemplate": "symbol=EWT<br>portfolio=%{x}<br>percent=%{y}",
         "legendgroup": "EWT",
         "marker": {
          "color": "#ab63fa"
         },
         "name": "EWT",
         "offsetgroup": "EWT",
         "orientation": "v",
         "showlegend": true,
         "textposition": "auto",
         "type": "bar",
         "x": [
          "World Stock Markets"
         ],
         "xaxis": "x",
         "y": [
          1.34
         ],
         "yaxis": "y"
        },
        {
         "alignmentgroup": "True",
         "hoverlabel": {
          "namelength": 0
         },
         "hovertemplate": "symbol=EWO<br>portfolio=%{x}<br>percent=%{y}",
         "legendgroup": "EWO",
         "marker": {
          "color": "#FFA15A"
         },
         "name": "EWO",
         "offsetgroup": "EWO",
         "orientation": "v",
         "showlegend": true,
         "textposition": "auto",
         "type": "bar",
         "x": [
          "World Stock Markets"
         ],
         "xaxis": "x",
         "y": [
          2.34
         ],
         "yaxis": "y"
        },
        {
         "alignmentgroup": "True",
         "hoverlabel": {
          "namelength": 0
         },
         "hovertemplate": "symbol=EWN<br>portfolio=%{x}<br>percent=%{y}",
         "legendgroup": "EWN",
         "marker": {
          "color": "#19d3f3"
         },
         "name": "EWN",
         "offsetgroup": "EWN",
         "orientation": "v",
         "showlegend": true,
         "textposition": "auto",
         "type": "bar",
         "x": [
          "World Stock Markets"
         ],
         "xaxis": "x",
         "y": [
          1.51
         ],
         "yaxis": "y"
        },
        {
         "alignmentgroup": "True",
         "hoverlabel": {
          "namelength": 0
         },
         "hovertemplate": "symbol=EIRL<br>portfolio=%{x}<br>percent=%{y}",
         "legendgroup": "EIRL",
         "marker": {
          "color": "#FF6692"
         },
         "name": "EIRL",
         "offsetgroup": "EIRL",
         "orientation": "v",
         "showlegend": true,
         "textposition": "auto",
         "type": "bar",
         "x": [
          "World Stock Markets"
         ],
         "xaxis": "x",
         "y": [
          1.63
         ],
         "yaxis": "y"
        },
        {
         "alignmentgroup": "True",
         "hoverlabel": {
          "namelength": 0
         },
         "hovertemplate": "symbol=GXC<br>portfolio=%{x}<br>percent=%{y}",
         "legendgroup": "GXC",
         "marker": {
          "color": "#B6E880"
         },
         "name": "GXC",
         "offsetgroup": "GXC",
         "orientation": "v",
         "showlegend": true,
         "textposition": "auto",
         "type": "bar",
         "x": [
          "World Stock Markets"
         ],
         "xaxis": "x",
         "y": [
          0.78
         ],
         "yaxis": "y"
        },
        {
         "alignmentgroup": "True",
         "hoverlabel": {
          "namelength": 0
         },
         "hovertemplate": "symbol=EWK<br>portfolio=%{x}<br>percent=%{y}",
         "legendgroup": "EWK",
         "marker": {
          "color": "#FF97FF"
         },
         "name": "EWK",
         "offsetgroup": "EWK",
         "orientation": "v",
         "showlegend": true,
         "textposition": "auto",
         "type": "bar",
         "x": [
          "World Stock Markets"
         ],
         "xaxis": "x",
         "y": [
          1.58
         ],
         "yaxis": "y"
        },
        {
         "alignmentgroup": "True",
         "hoverlabel": {
          "namelength": 0
         },
         "hovertemplate": "symbol=REGRF<br>portfolio=%{x}<br>percent=%{y}",
         "legendgroup": "REGRF",
         "marker": {
          "color": "#FECB52"
         },
         "name": "REGRF",
         "offsetgroup": "REGRF",
         "orientation": "v",
         "showlegend": true,
         "textposition": "auto",
         "type": "bar",
         "x": [
          null
         ],
         "xaxis": "x",
         "y": [
          null
         ],
         "yaxis": "y"
        }
       ],
       "layout": {
        "barmode": "relative",
        "legend": {
         "title": {
          "text": "symbol"
         },
         "tracegroupgap": 0
        },
        "template": {
         "data": {
          "bar": [
           {
            "error_x": {
             "color": "#2a3f5f"
            },
            "error_y": {
             "color": "#2a3f5f"
            },
            "marker": {
             "line": {
              "color": "#E5ECF6",
              "width": 0.5
             }
            },
            "type": "bar"
           }
          ],
          "barpolar": [
           {
            "marker": {
             "line": {
              "color": "#E5ECF6",
              "width": 0.5
             }
            },
            "type": "barpolar"
           }
          ],
          "carpet": [
           {
            "aaxis": {
             "endlinecolor": "#2a3f5f",
             "gridcolor": "white",
             "linecolor": "white",
             "minorgridcolor": "white",
             "startlinecolor": "#2a3f5f"
            },
            "baxis": {
             "endlinecolor": "#2a3f5f",
             "gridcolor": "white",
             "linecolor": "white",
             "minorgridcolor": "white",
             "startlinecolor": "#2a3f5f"
            },
            "type": "carpet"
           }
          ],
          "choropleth": [
           {
            "colorbar": {
             "outlinewidth": 0,
             "ticks": ""
            },
            "type": "choropleth"
           }
          ],
          "contour": [
           {
            "colorbar": {
             "outlinewidth": 0,
             "ticks": ""
            },
            "colorscale": [
             [
              0,
              "#0d0887"
             ],
             [
              0.1111111111111111,
              "#46039f"
             ],
             [
              0.2222222222222222,
              "#7201a8"
             ],
             [
              0.3333333333333333,
              "#9c179e"
             ],
             [
              0.4444444444444444,
              "#bd3786"
             ],
             [
              0.5555555555555556,
              "#d8576b"
             ],
             [
              0.6666666666666666,
              "#ed7953"
             ],
             [
              0.7777777777777778,
              "#fb9f3a"
             ],
             [
              0.8888888888888888,
              "#fdca26"
             ],
             [
              1,
              "#f0f921"
             ]
            ],
            "type": "contour"
           }
          ],
          "contourcarpet": [
           {
            "colorbar": {
             "outlinewidth": 0,
             "ticks": ""
            },
            "type": "contourcarpet"
           }
          ],
          "heatmap": [
           {
            "colorbar": {
             "outlinewidth": 0,
             "ticks": ""
            },
            "colorscale": [
             [
              0,
              "#0d0887"
             ],
             [
              0.1111111111111111,
              "#46039f"
             ],
             [
              0.2222222222222222,
              "#7201a8"
             ],
             [
              0.3333333333333333,
              "#9c179e"
             ],
             [
              0.4444444444444444,
              "#bd3786"
             ],
             [
              0.5555555555555556,
              "#d8576b"
             ],
             [
              0.6666666666666666,
              "#ed7953"
             ],
             [
              0.7777777777777778,
              "#fb9f3a"
             ],
             [
              0.8888888888888888,
              "#fdca26"
             ],
             [
              1,
              "#f0f921"
             ]
            ],
            "type": "heatmap"
           }
          ],
          "heatmapgl": [
           {
            "colorbar": {
             "outlinewidth": 0,
             "ticks": ""
            },
            "colorscale": [
             [
              0,
              "#0d0887"
             ],
             [
              0.1111111111111111,
              "#46039f"
             ],
             [
              0.2222222222222222,
              "#7201a8"
             ],
             [
              0.3333333333333333,
              "#9c179e"
             ],
             [
              0.4444444444444444,
              "#bd3786"
             ],
             [
              0.5555555555555556,
              "#d8576b"
             ],
             [
              0.6666666666666666,
              "#ed7953"
             ],
             [
              0.7777777777777778,
              "#fb9f3a"
             ],
             [
              0.8888888888888888,
              "#fdca26"
             ],
             [
              1,
              "#f0f921"
             ]
            ],
            "type": "heatmapgl"
           }
          ],
          "histogram": [
           {
            "marker": {
             "colorbar": {
              "outlinewidth": 0,
              "ticks": ""
             }
            },
            "type": "histogram"
           }
          ],
          "histogram2d": [
           {
            "colorbar": {
             "outlinewidth": 0,
             "ticks": ""
            },
            "colorscale": [
             [
              0,
              "#0d0887"
             ],
             [
              0.1111111111111111,
              "#46039f"
             ],
             [
              0.2222222222222222,
              "#7201a8"
             ],
             [
              0.3333333333333333,
              "#9c179e"
             ],
             [
              0.4444444444444444,
              "#bd3786"
             ],
             [
              0.5555555555555556,
              "#d8576b"
             ],
             [
              0.6666666666666666,
              "#ed7953"
             ],
             [
              0.7777777777777778,
              "#fb9f3a"
             ],
             [
              0.8888888888888888,
              "#fdca26"
             ],
             [
              1,
              "#f0f921"
             ]
            ],
            "type": "histogram2d"
           }
          ],
          "histogram2dcontour": [
           {
            "colorbar": {
             "outlinewidth": 0,
             "ticks": ""
            },
            "colorscale": [
             [
              0,
              "#0d0887"
             ],
             [
              0.1111111111111111,
              "#46039f"
             ],
             [
              0.2222222222222222,
              "#7201a8"
             ],
             [
              0.3333333333333333,
              "#9c179e"
             ],
             [
              0.4444444444444444,
              "#bd3786"
             ],
             [
              0.5555555555555556,
              "#d8576b"
             ],
             [
              0.6666666666666666,
              "#ed7953"
             ],
             [
              0.7777777777777778,
              "#fb9f3a"
             ],
             [
              0.8888888888888888,
              "#fdca26"
             ],
             [
              1,
              "#f0f921"
             ]
            ],
            "type": "histogram2dcontour"
           }
          ],
          "mesh3d": [
           {
            "colorbar": {
             "outlinewidth": 0,
             "ticks": ""
            },
            "type": "mesh3d"
           }
          ],
          "parcoords": [
           {
            "line": {
             "colorbar": {
              "outlinewidth": 0,
              "ticks": ""
             }
            },
            "type": "parcoords"
           }
          ],
          "pie": [
           {
            "automargin": true,
            "type": "pie"
           }
          ],
          "scatter": [
           {
            "marker": {
             "colorbar": {
              "outlinewidth": 0,
              "ticks": ""
             }
            },
            "type": "scatter"
           }
          ],
          "scatter3d": [
           {
            "line": {
             "colorbar": {
              "outlinewidth": 0,
              "ticks": ""
             }
            },
            "marker": {
             "colorbar": {
              "outlinewidth": 0,
              "ticks": ""
             }
            },
            "type": "scatter3d"
           }
          ],
          "scattercarpet": [
           {
            "marker": {
             "colorbar": {
              "outlinewidth": 0,
              "ticks": ""
             }
            },
            "type": "scattercarpet"
           }
          ],
          "scattergeo": [
           {
            "marker": {
             "colorbar": {
              "outlinewidth": 0,
              "ticks": ""
             }
            },
            "type": "scattergeo"
           }
          ],
          "scattergl": [
           {
            "marker": {
             "colorbar": {
              "outlinewidth": 0,
              "ticks": ""
             }
            },
            "type": "scattergl"
           }
          ],
          "scattermapbox": [
           {
            "marker": {
             "colorbar": {
              "outlinewidth": 0,
              "ticks": ""
             }
            },
            "type": "scattermapbox"
           }
          ],
          "scatterpolar": [
           {
            "marker": {
             "colorbar": {
              "outlinewidth": 0,
              "ticks": ""
             }
            },
            "type": "scatterpolar"
           }
          ],
          "scatterpolargl": [
           {
            "marker": {
             "colorbar": {
              "outlinewidth": 0,
              "ticks": ""
             }
            },
            "type": "scatterpolargl"
           }
          ],
          "scatterternary": [
           {
            "marker": {
             "colorbar": {
              "outlinewidth": 0,
              "ticks": ""
             }
            },
            "type": "scatterternary"
           }
          ],
          "surface": [
           {
            "colorbar": {
             "outlinewidth": 0,
             "ticks": ""
            },
            "colorscale": [
             [
              0,
              "#0d0887"
             ],
             [
              0.1111111111111111,
              "#46039f"
             ],
             [
              0.2222222222222222,
              "#7201a8"
             ],
             [
              0.3333333333333333,
              "#9c179e"
             ],
             [
              0.4444444444444444,
              "#bd3786"
             ],
             [
              0.5555555555555556,
              "#d8576b"
             ],
             [
              0.6666666666666666,
              "#ed7953"
             ],
             [
              0.7777777777777778,
              "#fb9f3a"
             ],
             [
              0.8888888888888888,
              "#fdca26"
             ],
             [
              1,
              "#f0f921"
             ]
            ],
            "type": "surface"
           }
          ],
          "table": [
           {
            "cells": {
             "fill": {
              "color": "#EBF0F8"
             },
             "line": {
              "color": "white"
             }
            },
            "header": {
             "fill": {
              "color": "#C8D4E3"
             },
             "line": {
              "color": "white"
             }
            },
            "type": "table"
           }
          ]
         },
         "layout": {
          "annotationdefaults": {
           "arrowcolor": "#2a3f5f",
           "arrowhead": 0,
           "arrowwidth": 1
          },
          "coloraxis": {
           "colorbar": {
            "outlinewidth": 0,
            "ticks": ""
           }
          },
          "colorscale": {
           "diverging": [
            [
             0,
             "#8e0152"
            ],
            [
             0.1,
             "#c51b7d"
            ],
            [
             0.2,
             "#de77ae"
            ],
            [
             0.3,
             "#f1b6da"
            ],
            [
             0.4,
             "#fde0ef"
            ],
            [
             0.5,
             "#f7f7f7"
            ],
            [
             0.6,
             "#e6f5d0"
            ],
            [
             0.7,
             "#b8e186"
            ],
            [
             0.8,
             "#7fbc41"
            ],
            [
             0.9,
             "#4d9221"
            ],
            [
             1,
             "#276419"
            ]
           ],
           "sequential": [
            [
             0,
             "#0d0887"
            ],
            [
             0.1111111111111111,
             "#46039f"
            ],
            [
             0.2222222222222222,
             "#7201a8"
            ],
            [
             0.3333333333333333,
             "#9c179e"
            ],
            [
             0.4444444444444444,
             "#bd3786"
            ],
            [
             0.5555555555555556,
             "#d8576b"
            ],
            [
             0.6666666666666666,
             "#ed7953"
            ],
            [
             0.7777777777777778,
             "#fb9f3a"
            ],
            [
             0.8888888888888888,
             "#fdca26"
            ],
            [
             1,
             "#f0f921"
            ]
           ],
           "sequentialminus": [
            [
             0,
             "#0d0887"
            ],
            [
             0.1111111111111111,
             "#46039f"
            ],
            [
             0.2222222222222222,
             "#7201a8"
            ],
            [
             0.3333333333333333,
             "#9c179e"
            ],
            [
             0.4444444444444444,
             "#bd3786"
            ],
            [
             0.5555555555555556,
             "#d8576b"
            ],
            [
             0.6666666666666666,
             "#ed7953"
            ],
            [
             0.7777777777777778,
             "#fb9f3a"
            ],
            [
             0.8888888888888888,
             "#fdca26"
            ],
            [
             1,
             "#f0f921"
            ]
           ]
          },
          "colorway": [
           "#636efa",
           "#EF553B",
           "#00cc96",
           "#ab63fa",
           "#FFA15A",
           "#19d3f3",
           "#FF6692",
           "#B6E880",
           "#FF97FF",
           "#FECB52"
          ],
          "font": {
           "color": "#2a3f5f"
          },
          "geo": {
           "bgcolor": "white",
           "lakecolor": "white",
           "landcolor": "#E5ECF6",
           "showlakes": true,
           "showland": true,
           "subunitcolor": "white"
          },
          "hoverlabel": {
           "align": "left"
          },
          "hovermode": "closest",
          "mapbox": {
           "style": "light"
          },
          "paper_bgcolor": "white",
          "plot_bgcolor": "#E5ECF6",
          "polar": {
           "angularaxis": {
            "gridcolor": "white",
            "linecolor": "white",
            "ticks": ""
           },
           "bgcolor": "#E5ECF6",
           "radialaxis": {
            "gridcolor": "white",
            "linecolor": "white",
            "ticks": ""
           }
          },
          "scene": {
           "xaxis": {
            "backgroundcolor": "#E5ECF6",
            "gridcolor": "white",
            "gridwidth": 2,
            "linecolor": "white",
            "showbackground": true,
            "ticks": "",
            "zerolinecolor": "white"
           },
           "yaxis": {
            "backgroundcolor": "#E5ECF6",
            "gridcolor": "white",
            "gridwidth": 2,
            "linecolor": "white",
            "showbackground": true,
            "ticks": "",
            "zerolinecolor": "white"
           },
           "zaxis": {
            "backgroundcolor": "#E5ECF6",
            "gridcolor": "white",
            "gridwidth": 2,
            "linecolor": "white",
            "showbackground": true,
            "ticks": "",
            "zerolinecolor": "white"
           }
          },
          "shapedefaults": {
           "line": {
            "color": "#2a3f5f"
           }
          },
          "ternary": {
           "aaxis": {
            "gridcolor": "white",
            "linecolor": "white",
            "ticks": ""
           },
           "baxis": {
            "gridcolor": "white",
            "linecolor": "white",
            "ticks": ""
           },
           "bgcolor": "#E5ECF6",
           "caxis": {
            "gridcolor": "white",
            "linecolor": "white",
            "ticks": ""
           }
          },
          "title": {
           "x": 0.05
          },
          "xaxis": {
           "automargin": true,
           "gridcolor": "white",
           "linecolor": "white",
           "ticks": "",
           "title": {
            "standoff": 15
           },
           "zerolinecolor": "white",
           "zerolinewidth": 2
          },
          "yaxis": {
           "automargin": true,
           "gridcolor": "white",
           "linecolor": "white",
           "ticks": "",
           "title": {
            "standoff": 15
           },
           "zerolinecolor": "white",
           "zerolinewidth": 2
          }
         }
        },
        "title": {
         "text": "Long-Form Input"
        },
        "xaxis": {
         "anchor": "y",
         "domain": [
          0,
          1
         ],
         "title": {
          "text": "portfolio"
         }
        },
        "yaxis": {
         "anchor": "x",
         "domain": [
          0,
          1
         ],
         "title": {
          "text": "percent"
         }
        }
       }
      },
      "text/html": [
       "<div>\n",
       "        \n",
       "        \n",
       "            <div id=\"b686e7ec-520c-48de-ba4a-4ae2ae30c362\" class=\"plotly-graph-div\" style=\"height:525px; width:100%;\"></div>\n",
       "            <script type=\"text/javascript\">\n",
       "                require([\"plotly\"], function(Plotly) {\n",
       "                    window.PLOTLYENV=window.PLOTLYENV || {};\n",
       "                    \n",
       "                if (document.getElementById(\"b686e7ec-520c-48de-ba4a-4ae2ae30c362\")) {\n",
       "                    Plotly.newPlot(\n",
       "                        'b686e7ec-520c-48de-ba4a-4ae2ae30c362',\n",
       "                        [{\"alignmentgroup\": \"True\", \"hoverlabel\": {\"namelength\": 0}, \"hovertemplate\": \"symbol=QRVO<br>portfolio=%{x}<br>percent=%{y}\", \"legendgroup\": \"QRVO\", \"marker\": {\"color\": \"#636efa\"}, \"name\": \"QRVO\", \"offsetgroup\": \"QRVO\", \"orientation\": \"v\", \"showlegend\": true, \"textposition\": \"auto\", \"type\": \"bar\", \"x\": [\"5G\"], \"xaxis\": \"x\", \"y\": [1.26], \"yaxis\": \"y\"}, {\"alignmentgroup\": \"True\", \"hoverlabel\": {\"namelength\": 0}, \"hovertemplate\": \"symbol=INFN<br>portfolio=%{x}<br>percent=%{y}\", \"legendgroup\": \"INFN\", \"marker\": {\"color\": \"#EF553B\"}, \"name\": \"INFN\", \"offsetgroup\": \"INFN\", \"orientation\": \"v\", \"showlegend\": true, \"textposition\": \"auto\", \"type\": \"bar\", \"x\": [\"5G\"], \"xaxis\": \"x\", \"y\": [1.18], \"yaxis\": \"y\"}, {\"alignmentgroup\": \"True\", \"hoverlabel\": {\"namelength\": 0}, \"hovertemplate\": \"symbol=IIVI<br>portfolio=%{x}<br>percent=%{y}\", \"legendgroup\": \"IIVI\", \"marker\": {\"color\": \"#00cc96\"}, \"name\": \"IIVI\", \"offsetgroup\": \"IIVI\", \"orientation\": \"v\", \"showlegend\": true, \"textposition\": \"auto\", \"type\": \"bar\", \"x\": [\"5G\"], \"xaxis\": \"x\", \"y\": [2.94], \"yaxis\": \"y\"}, {\"alignmentgroup\": \"True\", \"hoverlabel\": {\"namelength\": 0}, \"hovertemplate\": \"symbol=AVGO<br>portfolio=%{x}<br>percent=%{y}\", \"legendgroup\": \"AVGO\", \"marker\": {\"color\": \"#ab63fa\"}, \"name\": \"AVGO\", \"offsetgroup\": \"AVGO\", \"orientation\": \"v\", \"showlegend\": true, \"textposition\": \"auto\", \"type\": \"bar\", \"x\": [\"5G\"], \"xaxis\": \"x\", \"y\": [1.26], \"yaxis\": \"y\"}, {\"alignmentgroup\": \"True\", \"hoverlabel\": {\"namelength\": 0}, \"hovertemplate\": \"symbol=XLNX<br>portfolio=%{x}<br>percent=%{y}\", \"legendgroup\": \"XLNX\", \"marker\": {\"color\": \"#FFA15A\"}, \"name\": \"XLNX\", \"offsetgroup\": \"XLNX\", \"orientation\": \"v\", \"showlegend\": true, \"textposition\": \"auto\", \"type\": \"bar\", \"x\": [\"5G\"], \"xaxis\": \"x\", \"y\": [0.26], \"yaxis\": \"y\"}, {\"alignmentgroup\": \"True\", \"hoverlabel\": {\"namelength\": 0}, \"hovertemplate\": \"symbol=IPHI<br>portfolio=%{x}<br>percent=%{y}\", \"legendgroup\": \"IPHI\", \"marker\": {\"color\": \"#19d3f3\"}, \"name\": \"IPHI\", \"offsetgroup\": \"IPHI\", \"orientation\": \"v\", \"showlegend\": true, \"textposition\": \"auto\", \"type\": \"bar\", \"x\": [\"5G\"], \"xaxis\": \"x\", \"y\": [2.73], \"yaxis\": \"y\"}, {\"alignmentgroup\": \"True\", \"hoverlabel\": {\"namelength\": 0}, \"hovertemplate\": \"symbol=LITE<br>portfolio=%{x}<br>percent=%{y}\", \"legendgroup\": \"LITE\", \"marker\": {\"color\": \"#FF6692\"}, \"name\": \"LITE\", \"offsetgroup\": \"LITE\", \"orientation\": \"v\", \"showlegend\": true, \"textposition\": \"auto\", \"type\": \"bar\", \"x\": [\"5G\"], \"xaxis\": \"x\", \"y\": [1.49], \"yaxis\": \"y\"}, {\"alignmentgroup\": \"True\", \"hoverlabel\": {\"namelength\": 0}, \"hovertemplate\": \"symbol=NXPI<br>portfolio=%{x}<br>percent=%{y}\", \"legendgroup\": \"NXPI\", \"marker\": {\"color\": \"#B6E880\"}, \"name\": \"NXPI\", \"offsetgroup\": \"NXPI\", \"orientation\": \"v\", \"showlegend\": true, \"textposition\": \"auto\", \"type\": \"bar\", \"x\": [\"5G\"], \"xaxis\": \"x\", \"y\": [1.79], \"yaxis\": \"y\"}, {\"alignmentgroup\": \"True\", \"hoverlabel\": {\"namelength\": 0}, \"hovertemplate\": \"symbol=AVNW<br>portfolio=%{x}<br>percent=%{y}\", \"legendgroup\": \"AVNW\", \"marker\": {\"color\": \"#FF97FF\"}, \"name\": \"AVNW\", \"offsetgroup\": \"AVNW\", \"orientation\": \"v\", \"showlegend\": true, \"textposition\": \"auto\", \"type\": \"bar\", \"x\": [\"5G\"], \"xaxis\": \"x\", \"y\": [4.41], \"yaxis\": \"y\"}, {\"alignmentgroup\": \"True\", \"hoverlabel\": {\"namelength\": 0}, \"hovertemplate\": \"symbol=CEVA<br>portfolio=%{x}<br>percent=%{y}\", \"legendgroup\": \"CEVA\", \"marker\": {\"color\": \"#FECB52\"}, \"name\": \"CEVA\", \"offsetgroup\": \"CEVA\", \"orientation\": \"v\", \"showlegend\": true, \"textposition\": \"auto\", \"type\": \"bar\", \"x\": [\"5G\"], \"xaxis\": \"x\", \"y\": [3.72], \"yaxis\": \"y\"}, {\"alignmentgroup\": \"True\", \"hoverlabel\": {\"namelength\": 0}, \"hovertemplate\": \"symbol=ADTN<br>portfolio=%{x}<br>percent=%{y}\", \"legendgroup\": \"ADTN\", \"marker\": {\"color\": \"#636efa\"}, \"name\": \"ADTN\", \"offsetgroup\": \"ADTN\", \"orientation\": \"v\", \"showlegend\": true, \"textposition\": \"auto\", \"type\": \"bar\", \"x\": [\"5G\"], \"xaxis\": \"x\", \"y\": [3.27], \"yaxis\": \"y\"}, {\"alignmentgroup\": \"True\", \"hoverlabel\": {\"namelength\": 0}, \"hovertemplate\": \"symbol=MXL<br>portfolio=%{x}<br>percent=%{y}\", \"legendgroup\": \"MXL\", \"marker\": {\"color\": \"#EF553B\"}, \"name\": \"MXL\", \"offsetgroup\": \"MXL\", \"orientation\": \"v\", \"showlegend\": true, \"textposition\": \"auto\", \"type\": \"bar\", \"x\": [\"5G\"], \"xaxis\": \"x\", \"y\": [1.5], \"yaxis\": \"y\"}, {\"alignmentgroup\": \"True\", \"hoverlabel\": {\"namelength\": 0}, \"hovertemplate\": \"symbol=ERIC<br>portfolio=%{x}<br>percent=%{y}\", \"legendgroup\": \"ERIC\", \"marker\": {\"color\": \"#00cc96\"}, \"name\": \"ERIC\", \"offsetgroup\": \"ERIC\", \"orientation\": \"v\", \"showlegend\": true, \"textposition\": \"auto\", \"type\": \"bar\", \"x\": [\"5G\"], \"xaxis\": \"x\", \"y\": [0.59], \"yaxis\": \"y\"}, {\"alignmentgroup\": \"True\", \"hoverlabel\": {\"namelength\": 0}, \"hovertemplate\": \"symbol=CALX<br>portfolio=%{x}<br>percent=%{y}\", \"legendgroup\": \"CALX\", \"marker\": {\"color\": \"#ab63fa\"}, \"name\": \"CALX\", \"offsetgroup\": \"CALX\", \"orientation\": \"v\", \"showlegend\": true, \"textposition\": \"auto\", \"type\": \"bar\", \"x\": [\"5G\"], \"xaxis\": \"x\", \"y\": [3.18], \"yaxis\": \"y\"}, {\"alignmentgroup\": \"True\", \"hoverlabel\": {\"namelength\": 0}, \"hovertemplate\": \"symbol=MRVL<br>portfolio=%{x}<br>percent=%{y}\", \"legendgroup\": \"MRVL\", \"marker\": {\"color\": \"#FFA15A\"}, \"name\": \"MRVL\", \"offsetgroup\": \"MRVL\", \"orientation\": \"v\", \"showlegend\": true, \"textposition\": \"auto\", \"type\": \"bar\", \"x\": [\"5G\"], \"xaxis\": \"x\", \"y\": [4.67], \"yaxis\": \"y\"}, {\"alignmentgroup\": \"True\", \"hoverlabel\": {\"namelength\": 0}, \"hovertemplate\": \"symbol=SBAC<br>portfolio=%{x}<br>percent=%{y}\", \"legendgroup\": \"SBAC\", \"marker\": {\"color\": \"#19d3f3\"}, \"name\": \"SBAC\", \"offsetgroup\": \"SBAC\", \"orientation\": \"v\", \"showlegend\": true, \"textposition\": \"auto\", \"type\": \"bar\", \"x\": [\"5G\"], \"xaxis\": \"x\", \"y\": [2.59], \"yaxis\": \"y\"}, {\"alignmentgroup\": \"True\", \"hoverlabel\": {\"namelength\": 0}, \"hovertemplate\": \"symbol=IPGP<br>portfolio=%{x}<br>percent=%{y}\", \"legendgroup\": \"IPGP\", \"marker\": {\"color\": \"#FF6692\"}, \"name\": \"IPGP\", \"offsetgroup\": \"IPGP\", \"orientation\": \"v\", \"showlegend\": true, \"textposition\": \"auto\", \"type\": \"bar\", \"x\": [\"5G\"], \"xaxis\": \"x\", \"y\": [-0.77], \"yaxis\": \"y\"}, {\"alignmentgroup\": \"True\", \"hoverlabel\": {\"namelength\": 0}, \"hovertemplate\": \"symbol=ARKW<br>portfolio=%{x}<br>percent=%{y}\", \"legendgroup\": \"ARKW\", \"marker\": {\"color\": \"#B6E880\"}, \"name\": \"ARKW\", \"offsetgroup\": \"ARKW\", \"orientation\": \"v\", \"showlegend\": true, \"textposition\": \"auto\", \"type\": \"bar\", \"x\": [\"ARK ETFs\"], \"xaxis\": \"x\", \"y\": [0.59], \"yaxis\": \"y\"}, {\"alignmentgroup\": \"True\", \"hoverlabel\": {\"namelength\": 0}, \"hovertemplate\": \"symbol=ARKK<br>portfolio=%{x}<br>percent=%{y}\", \"legendgroup\": \"ARKK\", \"marker\": {\"color\": \"#FF97FF\"}, \"name\": \"ARKK\", \"offsetgroup\": \"ARKK\", \"orientation\": \"v\", \"showlegend\": true, \"textposition\": \"auto\", \"type\": \"bar\", \"x\": [\"ARK ETFs\"], \"xaxis\": \"x\", \"y\": [1.05], \"yaxis\": \"y\"}, {\"alignmentgroup\": \"True\", \"hoverlabel\": {\"namelength\": 0}, \"hovertemplate\": \"symbol=ARKG<br>portfolio=%{x}<br>percent=%{y}\", \"legendgroup\": \"ARKG\", \"marker\": {\"color\": \"#FECB52\"}, \"name\": \"ARKG\", \"offsetgroup\": \"ARKG\", \"orientation\": \"v\", \"showlegend\": true, \"textposition\": \"auto\", \"type\": \"bar\", \"x\": [\"ARK ETFs\"], \"xaxis\": \"x\", \"y\": [1.7], \"yaxis\": \"y\"}, {\"alignmentgroup\": \"True\", \"hoverlabel\": {\"namelength\": 0}, \"hovertemplate\": \"symbol=ARKF<br>portfolio=%{x}<br>percent=%{y}\", \"legendgroup\": \"ARKF\", \"marker\": {\"color\": \"#636efa\"}, \"name\": \"ARKF\", \"offsetgroup\": \"ARKF\", \"orientation\": \"v\", \"showlegend\": true, \"textposition\": \"auto\", \"type\": \"bar\", \"x\": [\"ARK ETFs\"], \"xaxis\": \"x\", \"y\": [1.37], \"yaxis\": \"y\"}, {\"alignmentgroup\": \"True\", \"hoverlabel\": {\"namelength\": 0}, \"hovertemplate\": \"symbol=ARKQ<br>portfolio=%{x}<br>percent=%{y}\", \"legendgroup\": \"ARKQ\", \"marker\": {\"color\": \"#EF553B\"}, \"name\": \"ARKQ\", \"offsetgroup\": \"ARKQ\", \"orientation\": \"v\", \"showlegend\": true, \"textposition\": \"auto\", \"type\": \"bar\", \"x\": [\"ARK ETFs\"], \"xaxis\": \"x\", \"y\": [1.63], \"yaxis\": \"y\"}, {\"alignmentgroup\": \"True\", \"hoverlabel\": {\"namelength\": 0}, \"hovertemplate\": \"symbol=IJR<br>portfolio=%{x}<br>percent=%{y}\", \"legendgroup\": \"IJR\", \"marker\": {\"color\": \"#00cc96\"}, \"name\": \"IJR\", \"offsetgroup\": \"IJR\", \"orientation\": \"v\", \"showlegend\": true, \"textposition\": \"auto\", \"type\": \"bar\", \"x\": [\"ATACKX\"], \"xaxis\": \"x\", \"y\": [3.51], \"yaxis\": \"y\"}, {\"alignmentgroup\": \"True\", \"hoverlabel\": {\"namelength\": 0}, \"hovertemplate\": \"symbol=SPSM<br>portfolio=%{x}<br>percent=%{y}\", \"legendgroup\": \"SPSM\", \"marker\": {\"color\": \"#ab63fa\"}, \"name\": \"SPSM\", \"offsetgroup\": \"SPSM\", \"orientation\": \"v\", \"showlegend\": true, \"textposition\": \"auto\", \"type\": \"bar\", \"x\": [\"ATACKX\"], \"xaxis\": \"x\", \"y\": [3.61], \"yaxis\": \"y\"}, {\"alignmentgroup\": \"True\", \"hoverlabel\": {\"namelength\": 0}, \"hovertemplate\": \"symbol=SCHA<br>portfolio=%{x}<br>percent=%{y}\", \"legendgroup\": \"SCHA\", \"marker\": {\"color\": \"#FFA15A\"}, \"name\": \"SCHA\", \"offsetgroup\": \"SCHA\", \"orientation\": \"v\", \"showlegend\": true, \"textposition\": \"auto\", \"type\": \"bar\", \"x\": [\"ATACKX\"], \"xaxis\": \"x\", \"y\": [3.09], \"yaxis\": \"y\"}, {\"alignmentgroup\": \"True\", \"hoverlabel\": {\"namelength\": 0}, \"hovertemplate\": \"symbol=URTY<br>portfolio=%{x}<br>percent=%{y}\", \"legendgroup\": \"URTY\", \"marker\": {\"color\": \"#19d3f3\"}, \"name\": \"URTY\", \"offsetgroup\": \"URTY\", \"orientation\": \"v\", \"showlegend\": true, \"textposition\": \"auto\", \"type\": \"bar\", \"x\": [\"ATACKX\"], \"xaxis\": \"x\", \"y\": [8.86], \"yaxis\": \"y\"}, {\"alignmentgroup\": \"True\", \"hoverlabel\": {\"namelength\": 0}, \"hovertemplate\": \"symbol=PEMTF<br>portfolio=%{x}<br>percent=%{y}\", \"legendgroup\": \"PEMTF\", \"marker\": {\"color\": \"#FF6692\"}, \"name\": \"PEMTF\", \"offsetgroup\": \"PEMTF\", \"orientation\": \"v\", \"showlegend\": true, \"textposition\": \"auto\", \"type\": \"bar\", \"x\": [\"Alternate Medicine\"], \"xaxis\": \"x\", \"y\": [-13.56], \"yaxis\": \"y\"}, {\"alignmentgroup\": \"True\", \"hoverlabel\": {\"namelength\": 0}, \"hovertemplate\": \"symbol=MMEDF<br>portfolio=%{x}<br>percent=%{y}\", \"legendgroup\": \"MMEDF\", \"marker\": {\"color\": \"#B6E880\"}, \"name\": \"MMEDF\", \"offsetgroup\": \"MMEDF\", \"orientation\": \"v\", \"showlegend\": true, \"textposition\": \"auto\", \"type\": \"bar\", \"x\": [\"Alternate Medicine\"], \"xaxis\": \"x\", \"y\": [2.97], \"yaxis\": \"y\"}, {\"alignmentgroup\": \"True\", \"hoverlabel\": {\"namelength\": 0}, \"hovertemplate\": \"symbol=FTRPF<br>portfolio=%{x}<br>percent=%{y}\", \"legendgroup\": \"FTRPF\", \"marker\": {\"color\": \"#FF97FF\"}, \"name\": \"FTRPF\", \"offsetgroup\": \"FTRPF\", \"orientation\": \"v\", \"showlegend\": true, \"textposition\": \"auto\", \"type\": \"bar\", \"x\": [\"Alternate Medicine\"], \"xaxis\": \"x\", \"y\": [16.93], \"yaxis\": \"y\"}, {\"alignmentgroup\": \"True\", \"hoverlabel\": {\"namelength\": 0}, \"hovertemplate\": \"symbol=GTSIF<br>portfolio=%{x}<br>percent=%{y}\", \"legendgroup\": \"GTSIF\", \"marker\": {\"color\": \"#FECB52\"}, \"name\": \"GTSIF\", \"offsetgroup\": \"GTSIF\", \"orientation\": \"v\", \"showlegend\": true, \"textposition\": \"auto\", \"type\": \"bar\", \"x\": [\"Alternate Medicine\"], \"xaxis\": \"x\", \"y\": [-7.2], \"yaxis\": \"y\"}, {\"alignmentgroup\": \"True\", \"hoverlabel\": {\"namelength\": 0}, \"hovertemplate\": \"symbol=BKLLF<br>portfolio=%{x}<br>percent=%{y}\", \"legendgroup\": \"BKLLF\", \"marker\": {\"color\": \"#636efa\"}, \"name\": \"BKLLF\", \"offsetgroup\": \"BKLLF\", \"orientation\": \"v\", \"showlegend\": true, \"textposition\": \"auto\", \"type\": \"bar\", \"x\": [\"Alternate Medicine\"], \"xaxis\": \"x\", \"y\": [14.29], \"yaxis\": \"y\"}, {\"alignmentgroup\": \"True\", \"hoverlabel\": {\"namelength\": 0}, \"hovertemplate\": \"symbol=MYCOF<br>portfolio=%{x}<br>percent=%{y}\", \"legendgroup\": \"MYCOF\", \"marker\": {\"color\": \"#EF553B\"}, \"name\": \"MYCOF\", \"offsetgroup\": \"MYCOF\", \"orientation\": \"v\", \"showlegend\": true, \"textposition\": \"auto\", \"type\": \"bar\", \"x\": [\"Alternate Medicine\"], \"xaxis\": \"x\", \"y\": [27.41], \"yaxis\": \"y\"}, {\"alignmentgroup\": \"True\", \"hoverlabel\": {\"namelength\": 0}, \"hovertemplate\": \"symbol=SHRMF<br>portfolio=%{x}<br>percent=%{y}\", \"legendgroup\": \"SHRMF\", \"marker\": {\"color\": \"#00cc96\"}, \"name\": \"SHRMF\", \"offsetgroup\": \"SHRMF\", \"orientation\": \"v\", \"showlegend\": true, \"textposition\": \"auto\", \"type\": \"bar\", \"x\": [\"Alternate Medicine\"], \"xaxis\": \"x\", \"y\": [14.43], \"yaxis\": \"y\"}, {\"alignmentgroup\": \"True\", \"hoverlabel\": {\"namelength\": 0}, \"hovertemplate\": \"symbol=HAVLF<br>portfolio=%{x}<br>percent=%{y}\", \"legendgroup\": \"HAVLF\", \"marker\": {\"color\": \"#ab63fa\"}, \"name\": \"HAVLF\", \"offsetgroup\": \"HAVLF\", \"orientation\": \"v\", \"showlegend\": true, \"textposition\": \"auto\", \"type\": \"bar\", \"x\": [\"Alternate Medicine\"], \"xaxis\": \"x\", \"y\": [4.54], \"yaxis\": \"y\"}, {\"alignmentgroup\": \"True\", \"hoverlabel\": {\"namelength\": 0}, \"hovertemplate\": \"symbol=VEGGF<br>portfolio=%{x}<br>percent=%{y}\", \"legendgroup\": \"VEGGF\", \"marker\": {\"color\": \"#FFA15A\"}, \"name\": \"VEGGF\", \"offsetgroup\": \"VEGGF\", \"orientation\": \"v\", \"showlegend\": true, \"textposition\": \"auto\", \"type\": \"bar\", \"x\": [\"Alternate Medicine\"], \"xaxis\": \"x\", \"y\": [0.0], \"yaxis\": \"y\"}, {\"alignmentgroup\": \"True\", \"hoverlabel\": {\"namelength\": 0}, \"hovertemplate\": \"symbol=RVVTF<br>portfolio=%{x}<br>percent=%{y}\", \"legendgroup\": \"RVVTF\", \"marker\": {\"color\": \"#19d3f3\"}, \"name\": \"RVVTF\", \"offsetgroup\": \"RVVTF\", \"orientation\": \"v\", \"showlegend\": true, \"textposition\": \"auto\", \"type\": \"bar\", \"x\": [\"Alternate Medicine\"], \"xaxis\": \"x\", \"y\": [7.51], \"yaxis\": \"y\"}, {\"alignmentgroup\": \"True\", \"hoverlabel\": {\"namelength\": 0}, \"hovertemplate\": \"symbol=SEEL<br>portfolio=%{x}<br>percent=%{y}\", \"legendgroup\": \"SEEL\", \"marker\": {\"color\": \"#FF6692\"}, \"name\": \"SEEL\", \"offsetgroup\": \"SEEL\", \"orientation\": \"v\", \"showlegend\": true, \"textposition\": \"auto\", \"type\": \"bar\", \"x\": [\"Alternate Medicine\"], \"xaxis\": \"x\", \"y\": [-4.95], \"yaxis\": \"y\"}, {\"alignmentgroup\": \"True\", \"hoverlabel\": {\"namelength\": 0}, \"hovertemplate\": \"symbol=CMPS<br>portfolio=%{x}<br>percent=%{y}\", \"legendgroup\": \"CMPS\", \"marker\": {\"color\": \"#B6E880\"}, \"name\": \"CMPS\", \"offsetgroup\": \"CMPS\", \"orientation\": \"v\", \"showlegend\": true, \"textposition\": \"auto\", \"type\": \"bar\", \"x\": [\"Alternate Medicine\"], \"xaxis\": \"x\", \"y\": [4.93], \"yaxis\": \"y\"}, {\"alignmentgroup\": \"True\", \"hoverlabel\": {\"namelength\": 0}, \"hovertemplate\": \"symbol=EHVVF<br>portfolio=%{x}<br>percent=%{y}\", \"legendgroup\": \"EHVVF\", \"marker\": {\"color\": \"#FF97FF\"}, \"name\": \"EHVVF\", \"offsetgroup\": \"EHVVF\", \"orientation\": \"v\", \"showlegend\": true, \"textposition\": \"auto\", \"type\": \"bar\", \"x\": [\"Alternate Medicine\"], \"xaxis\": \"x\", \"y\": [8.8], \"yaxis\": \"y\"}, {\"alignmentgroup\": \"True\", \"hoverlabel\": {\"namelength\": 0}, \"hovertemplate\": \"symbol=HSTRF<br>portfolio=%{x}<br>percent=%{y}\", \"legendgroup\": \"HSTRF\", \"marker\": {\"color\": \"#FECB52\"}, \"name\": \"HSTRF\", \"offsetgroup\": \"HSTRF\", \"orientation\": \"v\", \"showlegend\": true, \"textposition\": \"auto\", \"type\": \"bar\", \"x\": [\"Alternate Medicine\"], \"xaxis\": \"x\", \"y\": [-3.42], \"yaxis\": \"y\"}, {\"alignmentgroup\": \"True\", \"hoverlabel\": {\"namelength\": 0}, \"hovertemplate\": \"symbol=SPLIF<br>portfolio=%{x}<br>percent=%{y}\", \"legendgroup\": \"SPLIF\", \"marker\": {\"color\": \"#636efa\"}, \"name\": \"SPLIF\", \"offsetgroup\": \"SPLIF\", \"orientation\": \"v\", \"showlegend\": true, \"textposition\": \"auto\", \"type\": \"bar\", \"x\": [\"Alternate Medicine\"], \"xaxis\": \"x\", \"y\": [-11.36], \"yaxis\": \"y\"}, {\"alignmentgroup\": \"True\", \"hoverlabel\": {\"namelength\": 0}, \"hovertemplate\": \"symbol=MMNFF<br>portfolio=%{x}<br>percent=%{y}\", \"legendgroup\": \"MMNFF\", \"marker\": {\"color\": \"#EF553B\"}, \"name\": \"MMNFF\", \"offsetgroup\": \"MMNFF\", \"orientation\": \"v\", \"showlegend\": true, \"textposition\": \"auto\", \"type\": \"bar\", \"x\": [\"Alternate Medicine\"], \"xaxis\": \"x\", \"y\": [4.14], \"yaxis\": \"y\"}, {\"alignmentgroup\": \"True\", \"hoverlabel\": {\"namelength\": 0}, \"hovertemplate\": \"symbol=TRMNF<br>portfolio=%{x}<br>percent=%{y}\", \"legendgroup\": \"TRMNF\", \"marker\": {\"color\": \"#00cc96\"}, \"name\": \"TRMNF\", \"offsetgroup\": \"TRMNF\", \"orientation\": \"v\", \"showlegend\": true, \"textposition\": \"auto\", \"type\": \"bar\", \"x\": [\"Alternate Medicine\"], \"xaxis\": \"x\", \"y\": [0.0], \"yaxis\": \"y\"}, {\"alignmentgroup\": \"True\", \"hoverlabel\": {\"namelength\": 0}, \"hovertemplate\": \"symbol=TRUFF<br>portfolio=%{x}<br>percent=%{y}\", \"legendgroup\": \"TRUFF\", \"marker\": {\"color\": \"#ab63fa\"}, \"name\": \"TRUFF\", \"offsetgroup\": \"TRUFF\", \"orientation\": \"v\", \"showlegend\": true, \"textposition\": \"auto\", \"type\": \"bar\", \"x\": [\"Alternate Medicine\"], \"xaxis\": \"x\", \"y\": [-12.04], \"yaxis\": \"y\"}, {\"alignmentgroup\": \"True\", \"hoverlabel\": {\"namelength\": 0}, \"hovertemplate\": \"symbol=NUAN<br>portfolio=%{x}<br>percent=%{y}\", \"legendgroup\": \"NUAN\", \"marker\": {\"color\": \"#FFA15A\"}, \"name\": \"NUAN\", \"offsetgroup\": \"NUAN\", \"orientation\": \"v\", \"showlegend\": true, \"textposition\": \"auto\", \"type\": \"bar\", \"x\": [\"Artificial Inteligence\"], \"xaxis\": \"x\", \"y\": [1.41], \"yaxis\": \"y\"}, {\"alignmentgroup\": \"True\", \"hoverlabel\": {\"namelength\": 0}, \"hovertemplate\": \"symbol=CNDT<br>portfolio=%{x}<br>percent=%{y}\", \"legendgroup\": \"CNDT\", \"marker\": {\"color\": \"#19d3f3\"}, \"name\": \"CNDT\", \"offsetgroup\": \"CNDT\", \"orientation\": \"v\", \"showlegend\": true, \"textposition\": \"auto\", \"type\": \"bar\", \"x\": [\"Artificial Inteligence\"], \"xaxis\": \"x\", \"y\": [5.82], \"yaxis\": \"y\"}, {\"alignmentgroup\": \"True\", \"hoverlabel\": {\"namelength\": 0}, \"hovertemplate\": \"symbol=AMBA<br>portfolio=%{x}<br>percent=%{y}\", \"legendgroup\": \"AMBA\", \"marker\": {\"color\": \"#FF6692\"}, \"name\": \"AMBA\", \"offsetgroup\": \"AMBA\", \"orientation\": \"v\", \"showlegend\": true, \"textposition\": \"auto\", \"type\": \"bar\", \"x\": [\"Artificial Inteligence\"], \"xaxis\": \"x\", \"y\": [1.5], \"yaxis\": \"y\"}, {\"alignmentgroup\": \"True\", \"hoverlabel\": {\"namelength\": 0}, \"hovertemplate\": \"symbol=ADBE<br>portfolio=%{x}<br>percent=%{y}\", \"legendgroup\": \"ADBE\", \"marker\": {\"color\": \"#B6E880\"}, \"name\": \"ADBE\", \"offsetgroup\": \"ADBE\", \"orientation\": \"v\", \"showlegend\": true, \"textposition\": \"auto\", \"type\": \"bar\", \"x\": [\"Artificial Inteligence\"], \"xaxis\": \"x\", \"y\": [1.23], \"yaxis\": \"y\"}, {\"alignmentgroup\": \"True\", \"hoverlabel\": {\"namelength\": 0}, \"hovertemplate\": \"symbol=DMRC<br>portfolio=%{x}<br>percent=%{y}\", \"legendgroup\": \"DMRC\", \"marker\": {\"color\": \"#FF97FF\"}, \"name\": \"DMRC\", \"offsetgroup\": \"DMRC\", \"orientation\": \"v\", \"showlegend\": true, \"textposition\": \"auto\", \"type\": \"bar\", \"x\": [\"Artificial Inteligence\"], \"xaxis\": \"x\", \"y\": [-2.43], \"yaxis\": \"y\"}, {\"alignmentgroup\": \"True\", \"hoverlabel\": {\"namelength\": 0}, \"hovertemplate\": \"symbol=HBM<br>portfolio=%{x}<br>percent=%{y}\", \"legendgroup\": \"HBM\", \"marker\": {\"color\": \"#FECB52\"}, \"name\": \"HBM\", \"offsetgroup\": \"HBM\", \"orientation\": \"v\", \"showlegend\": true, \"textposition\": \"auto\", \"type\": \"bar\", \"x\": [\"Basic Material\"], \"xaxis\": \"x\", \"y\": [3.8], \"yaxis\": \"y\"}, {\"alignmentgroup\": \"True\", \"hoverlabel\": {\"namelength\": 0}, \"hovertemplate\": \"symbol=EGO<br>portfolio=%{x}<br>percent=%{y}\", \"legendgroup\": \"EGO\", \"marker\": {\"color\": \"#636efa\"}, \"name\": \"EGO\", \"offsetgroup\": \"EGO\", \"orientation\": \"v\", \"showlegend\": true, \"textposition\": \"auto\", \"type\": \"bar\", \"x\": [\"Basic Material\"], \"xaxis\": \"x\", \"y\": [0.11], \"yaxis\": \"y\"}, {\"alignmentgroup\": \"True\", \"hoverlabel\": {\"namelength\": 0}, \"hovertemplate\": \"symbol=LUNMF<br>portfolio=%{x}<br>percent=%{y}\", \"legendgroup\": \"LUNMF\", \"marker\": {\"color\": \"#EF553B\"}, \"name\": \"LUNMF\", \"offsetgroup\": \"LUNMF\", \"orientation\": \"v\", \"showlegend\": true, \"textposition\": \"auto\", \"type\": \"bar\", \"x\": [\"Basic Material\"], \"xaxis\": \"x\", \"y\": [2.14], \"yaxis\": \"y\"}, {\"alignmentgroup\": \"True\", \"hoverlabel\": {\"namelength\": 0}, \"hovertemplate\": \"symbol=FCX<br>portfolio=%{x}<br>percent=%{y}\", \"legendgroup\": \"FCX\", \"marker\": {\"color\": \"#00cc96\"}, \"name\": \"FCX\", \"offsetgroup\": \"FCX\", \"orientation\": \"v\", \"showlegend\": true, \"textposition\": \"auto\", \"type\": \"bar\", \"x\": [\"Basic Material\"], \"xaxis\": \"x\", \"y\": [3.2], \"yaxis\": \"y\"}, {\"alignmentgroup\": \"True\", \"hoverlabel\": {\"namelength\": 0}, \"hovertemplate\": \"symbol=WPM<br>portfolio=%{x}<br>percent=%{y}\", \"legendgroup\": \"WPM\", \"marker\": {\"color\": \"#ab63fa\"}, \"name\": \"WPM\", \"offsetgroup\": \"WPM\", \"orientation\": \"v\", \"showlegend\": true, \"textposition\": \"auto\", \"type\": \"bar\", \"x\": [\"Basic Material\"], \"xaxis\": \"x\", \"y\": [0.64], \"yaxis\": \"y\"}, {\"alignmentgroup\": \"True\", \"hoverlabel\": {\"namelength\": 0}, \"hovertemplate\": \"symbol=PALL<br>portfolio=%{x}<br>percent=%{y}\", \"legendgroup\": \"PALL\", \"marker\": {\"color\": \"#FFA15A\"}, \"name\": \"PALL\", \"offsetgroup\": \"PALL\", \"orientation\": \"v\", \"showlegend\": true, \"textposition\": \"auto\", \"type\": \"bar\", \"x\": [\"Basic Material\"], \"xaxis\": \"x\", \"y\": [-0.32], \"yaxis\": \"y\"}, {\"alignmentgroup\": \"True\", \"hoverlabel\": {\"namelength\": 0}, \"hovertemplate\": \"symbol=WWR<br>portfolio=%{x}<br>percent=%{y}\", \"legendgroup\": \"WWR\", \"marker\": {\"color\": \"#19d3f3\"}, \"name\": \"WWR\", \"offsetgroup\": \"WWR\", \"orientation\": \"v\", \"showlegend\": true, \"textposition\": \"auto\", \"type\": \"bar\", \"x\": [\"Basic Material\"], \"xaxis\": \"x\", \"y\": [8.19], \"yaxis\": \"y\"}, {\"alignmentgroup\": \"True\", \"hoverlabel\": {\"namelength\": 0}, \"hovertemplate\": \"symbol=PLG<br>portfolio=%{x}<br>percent=%{y}\", \"legendgroup\": \"PLG\", \"marker\": {\"color\": \"#FF6692\"}, \"name\": \"PLG\", \"offsetgroup\": \"PLG\", \"orientation\": \"v\", \"showlegend\": true, \"textposition\": \"auto\", \"type\": \"bar\", \"x\": [\"Basic Material\"], \"xaxis\": \"x\", \"y\": [-2.16], \"yaxis\": \"y\"}, {\"alignmentgroup\": \"True\", \"hoverlabel\": {\"namelength\": 0}, \"hovertemplate\": \"symbol=NVAX<br>portfolio=%{x}<br>percent=%{y}\", \"legendgroup\": \"NVAX\", \"marker\": {\"color\": \"#B6E880\"}, \"name\": \"NVAX\", \"offsetgroup\": \"NVAX\", \"orientation\": \"v\", \"showlegend\": true, \"textposition\": \"auto\", \"type\": \"bar\", \"x\": [\"Biotech Breakthough\"], \"xaxis\": \"x\", \"y\": [4.66], \"yaxis\": \"y\"}, {\"alignmentgroup\": \"True\", \"hoverlabel\": {\"namelength\": 0}, \"hovertemplate\": \"symbol=INO<br>portfolio=%{x}<br>percent=%{y}\", \"legendgroup\": \"INO\", \"marker\": {\"color\": \"#FF97FF\"}, \"name\": \"INO\", \"offsetgroup\": \"INO\", \"orientation\": \"v\", \"showlegend\": true, \"textposition\": \"auto\", \"type\": \"bar\", \"x\": [\"Biotech Breakthough\"], \"xaxis\": \"x\", \"y\": [0.72], \"yaxis\": \"y\"}, {\"alignmentgroup\": \"True\", \"hoverlabel\": {\"namelength\": 0}, \"hovertemplate\": \"symbol=ACAD<br>portfolio=%{x}<br>percent=%{y}\", \"legendgroup\": \"ACAD\", \"marker\": {\"color\": \"#FECB52\"}, \"name\": \"ACAD\", \"offsetgroup\": \"ACAD\", \"orientation\": \"v\", \"showlegend\": true, \"textposition\": \"auto\", \"type\": \"bar\", \"x\": [\"Biotech Emerging\"], \"xaxis\": \"x\", \"y\": [2.69], \"yaxis\": \"y\"}, {\"alignmentgroup\": \"True\", \"hoverlabel\": {\"namelength\": 0}, \"hovertemplate\": \"symbol=DHR<br>portfolio=%{x}<br>percent=%{y}\", \"legendgroup\": \"DHR\", \"marker\": {\"color\": \"#636efa\"}, \"name\": \"DHR\", \"offsetgroup\": \"DHR\", \"orientation\": \"v\", \"showlegend\": true, \"textposition\": \"auto\", \"type\": \"bar\", \"x\": [\"Biotech Emerging\"], \"xaxis\": \"x\", \"y\": [1.19], \"yaxis\": \"y\"}, {\"alignmentgroup\": \"True\", \"hoverlabel\": {\"namelength\": 0}, \"hovertemplate\": \"symbol=PKI<br>portfolio=%{x}<br>percent=%{y}\", \"legendgroup\": \"PKI\", \"marker\": {\"color\": \"#EF553B\"}, \"name\": \"PKI\", \"offsetgroup\": \"PKI\", \"orientation\": \"v\", \"showlegend\": true, \"textposition\": \"auto\", \"type\": \"bar\", \"x\": [\"Biotech Emerging\"], \"xaxis\": \"x\", \"y\": [1.61], \"yaxis\": \"y\"}, {\"alignmentgroup\": \"True\", \"hoverlabel\": {\"namelength\": 0}, \"hovertemplate\": \"symbol=CRSP<br>portfolio=%{x}<br>percent=%{y}\", \"legendgroup\": \"CRSP\", \"marker\": {\"color\": \"#00cc96\"}, \"name\": \"CRSP\", \"offsetgroup\": \"CRSP\", \"orientation\": \"v\", \"showlegend\": true, \"textposition\": \"auto\", \"type\": \"bar\", \"x\": [\"Biotech Emerging\"], \"xaxis\": \"x\", \"y\": [2.89], \"yaxis\": \"y\"}, {\"alignmentgroup\": \"True\", \"hoverlabel\": {\"namelength\": 0}, \"hovertemplate\": \"symbol=MRNA<br>portfolio=%{x}<br>percent=%{y}\", \"legendgroup\": \"MRNA\", \"marker\": {\"color\": \"#ab63fa\"}, \"name\": \"MRNA\", \"offsetgroup\": \"MRNA\", \"orientation\": \"v\", \"showlegend\": true, \"textposition\": \"auto\", \"type\": \"bar\", \"x\": [\"Biotech Emerging\"], \"xaxis\": \"x\", \"y\": [3.73], \"yaxis\": \"y\"}, {\"alignmentgroup\": \"True\", \"hoverlabel\": {\"namelength\": 0}, \"hovertemplate\": \"symbol=AMRN<br>portfolio=%{x}<br>percent=%{y}\", \"legendgroup\": \"AMRN\", \"marker\": {\"color\": \"#FFA15A\"}, \"name\": \"AMRN\", \"offsetgroup\": \"AMRN\", \"orientation\": \"v\", \"showlegend\": true, \"textposition\": \"auto\", \"type\": \"bar\", \"x\": [\"Biotech Emerging\"], \"xaxis\": \"x\", \"y\": [5.81], \"yaxis\": \"y\"}, {\"alignmentgroup\": \"True\", \"hoverlabel\": {\"namelength\": 0}, \"hovertemplate\": \"symbol=AZN<br>portfolio=%{x}<br>percent=%{y}\", \"legendgroup\": \"AZN\", \"marker\": {\"color\": \"#19d3f3\"}, \"name\": \"AZN\", \"offsetgroup\": \"AZN\", \"orientation\": \"v\", \"showlegend\": true, \"textposition\": \"auto\", \"type\": \"bar\", \"x\": [\"Biotech Emerging\"], \"xaxis\": \"x\", \"y\": [1.24], \"yaxis\": \"y\"}, {\"alignmentgroup\": \"True\", \"hoverlabel\": {\"namelength\": 0}, \"hovertemplate\": \"symbol=AVRO<br>portfolio=%{x}<br>percent=%{y}\", \"legendgroup\": \"AVRO\", \"marker\": {\"color\": \"#FF6692\"}, \"name\": \"AVRO\", \"offsetgroup\": \"AVRO\", \"orientation\": \"v\", \"showlegend\": true, \"textposition\": \"auto\", \"type\": \"bar\", \"x\": [\"Biotech Emerging\"], \"xaxis\": \"x\", \"y\": [2.53], \"yaxis\": \"y\"}, {\"alignmentgroup\": \"True\", \"hoverlabel\": {\"namelength\": 0}, \"hovertemplate\": \"symbol=IOVA<br>portfolio=%{x}<br>percent=%{y}\", \"legendgroup\": \"IOVA\", \"marker\": {\"color\": \"#B6E880\"}, \"name\": \"IOVA\", \"offsetgroup\": \"IOVA\", \"orientation\": \"v\", \"showlegend\": true, \"textposition\": \"auto\", \"type\": \"bar\", \"x\": [\"Biotech Emerging\"], \"xaxis\": \"x\", \"y\": [3.44], \"yaxis\": \"y\"}, {\"alignmentgroup\": \"True\", \"hoverlabel\": {\"namelength\": 0}, \"hovertemplate\": \"symbol=BIO<br>portfolio=%{x}<br>percent=%{y}\", \"legendgroup\": \"BIO\", \"marker\": {\"color\": \"#FF97FF\"}, \"name\": \"BIO\", \"offsetgroup\": \"BIO\", \"orientation\": \"v\", \"showlegend\": true, \"textposition\": \"auto\", \"type\": \"bar\", \"x\": [\"Biotech Emerging\"], \"xaxis\": \"x\", \"y\": [1.33], \"yaxis\": \"y\"}, {\"alignmentgroup\": \"True\", \"hoverlabel\": {\"namelength\": 0}, \"hovertemplate\": \"symbol=ALGN<br>portfolio=%{x}<br>percent=%{y}\", \"legendgroup\": \"ALGN\", \"marker\": {\"color\": \"#FECB52\"}, \"name\": \"ALGN\", \"offsetgroup\": \"ALGN\", \"orientation\": \"v\", \"showlegend\": true, \"textposition\": \"auto\", \"type\": \"bar\", \"x\": [\"Biotech Emerging\"], \"xaxis\": \"x\", \"y\": [1.6], \"yaxis\": \"y\"}, {\"alignmentgroup\": \"True\", \"hoverlabel\": {\"namelength\": 0}, \"hovertemplate\": \"symbol=RGEN<br>portfolio=%{x}<br>percent=%{y}\", \"legendgroup\": \"RGEN\", \"marker\": {\"color\": \"#636efa\"}, \"name\": \"RGEN\", \"offsetgroup\": \"RGEN\", \"orientation\": \"v\", \"showlegend\": true, \"textposition\": \"auto\", \"type\": \"bar\", \"x\": [\"Biotech Emerging\"], \"xaxis\": \"x\", \"y\": [0.47], \"yaxis\": \"y\"}, {\"alignmentgroup\": \"True\", \"hoverlabel\": {\"namelength\": 0}, \"hovertemplate\": \"symbol=HALO<br>portfolio=%{x}<br>percent=%{y}\", \"legendgroup\": \"HALO\", \"marker\": {\"color\": \"#EF553B\"}, \"name\": \"HALO\", \"offsetgroup\": \"HALO\", \"orientation\": \"v\", \"showlegend\": true, \"textposition\": \"auto\", \"type\": \"bar\", \"x\": [\"Biotech Emerging\"], \"xaxis\": \"x\", \"y\": [1.32], \"yaxis\": \"y\"}, {\"alignmentgroup\": \"True\", \"hoverlabel\": {\"namelength\": 0}, \"hovertemplate\": \"symbol=SDGR<br>portfolio=%{x}<br>percent=%{y}\", \"legendgroup\": \"SDGR\", \"marker\": {\"color\": \"#00cc96\"}, \"name\": \"SDGR\", \"offsetgroup\": \"SDGR\", \"orientation\": \"v\", \"showlegend\": true, \"textposition\": \"auto\", \"type\": \"bar\", \"x\": [\"Biotech Emerging\"], \"xaxis\": \"x\", \"y\": [8.71], \"yaxis\": \"y\"}, {\"alignmentgroup\": \"True\", \"hoverlabel\": {\"namelength\": 0}, \"hovertemplate\": \"symbol=GILD<br>portfolio=%{x}<br>percent=%{y}\", \"legendgroup\": \"GILD\", \"marker\": {\"color\": \"#ab63fa\"}, \"name\": \"GILD\", \"offsetgroup\": \"GILD\", \"orientation\": \"v\", \"showlegend\": true, \"textposition\": \"auto\", \"type\": \"bar\", \"x\": [\"Biotechnology\"], \"xaxis\": \"x\", \"y\": [2.23], \"yaxis\": \"y\"}, {\"alignmentgroup\": \"True\", \"hoverlabel\": {\"namelength\": 0}, \"hovertemplate\": \"symbol=ILMN<br>portfolio=%{x}<br>percent=%{y}\", \"legendgroup\": \"ILMN\", \"marker\": {\"color\": \"#FFA15A\"}, \"name\": \"ILMN\", \"offsetgroup\": \"ILMN\", \"orientation\": \"v\", \"showlegend\": true, \"textposition\": \"auto\", \"type\": \"bar\", \"x\": [\"Biotechnology\"], \"xaxis\": \"x\", \"y\": [2.72], \"yaxis\": \"y\"}, {\"alignmentgroup\": \"True\", \"hoverlabel\": {\"namelength\": 0}, \"hovertemplate\": \"symbol=ABBV<br>portfolio=%{x}<br>percent=%{y}\", \"legendgroup\": \"ABBV\", \"marker\": {\"color\": \"#19d3f3\"}, \"name\": \"ABBV\", \"offsetgroup\": \"ABBV\", \"orientation\": \"v\", \"showlegend\": true, \"textposition\": \"auto\", \"type\": \"bar\", \"x\": [\"Biotechnology\"], \"xaxis\": \"x\", \"y\": [2.62], \"yaxis\": \"y\"}, {\"alignmentgroup\": \"True\", \"hoverlabel\": {\"namelength\": 0}, \"hovertemplate\": \"symbol=PFE<br>portfolio=%{x}<br>percent=%{y}\", \"legendgroup\": \"PFE\", \"marker\": {\"color\": \"#FF6692\"}, \"name\": \"PFE\", \"offsetgroup\": \"PFE\", \"orientation\": \"v\", \"showlegend\": true, \"textposition\": \"auto\", \"type\": \"bar\", \"x\": [\"Biotechnology\"], \"xaxis\": \"x\", \"y\": [3.56], \"yaxis\": \"y\"}, {\"alignmentgroup\": \"True\", \"hoverlabel\": {\"namelength\": 0}, \"hovertemplate\": \"symbol=REGN<br>portfolio=%{x}<br>percent=%{y}\", \"legendgroup\": \"REGN\", \"marker\": {\"color\": \"#B6E880\"}, \"name\": \"REGN\", \"offsetgroup\": \"REGN\", \"orientation\": \"v\", \"showlegend\": true, \"textposition\": \"auto\", \"type\": \"bar\", \"x\": [\"Biotechnology\"], \"xaxis\": \"x\", \"y\": [1.98], \"yaxis\": \"y\"}, {\"alignmentgroup\": \"True\", \"hoverlabel\": {\"namelength\": 0}, \"hovertemplate\": \"symbol=AMGN<br>portfolio=%{x}<br>percent=%{y}\", \"legendgroup\": \"AMGN\", \"marker\": {\"color\": \"#FF97FF\"}, \"name\": \"AMGN\", \"offsetgroup\": \"AMGN\", \"orientation\": \"v\", \"showlegend\": true, \"textposition\": \"auto\", \"type\": \"bar\", \"x\": [\"Biotechnology\"], \"xaxis\": \"x\", \"y\": [0.44], \"yaxis\": \"y\"}, {\"alignmentgroup\": \"True\", \"hoverlabel\": {\"namelength\": 0}, \"hovertemplate\": \"symbol=BMY<br>portfolio=%{x}<br>percent=%{y}\", \"legendgroup\": \"BMY\", \"marker\": {\"color\": \"#FECB52\"}, \"name\": \"BMY\", \"offsetgroup\": \"BMY\", \"orientation\": \"v\", \"showlegend\": true, \"textposition\": \"auto\", \"type\": \"bar\", \"x\": [\"Biotechnology\"], \"xaxis\": \"x\", \"y\": [1.94], \"yaxis\": \"y\"}, {\"alignmentgroup\": \"True\", \"hoverlabel\": {\"namelength\": 0}, \"hovertemplate\": \"symbol=NVO<br>portfolio=%{x}<br>percent=%{y}\", \"legendgroup\": \"NVO\", \"marker\": {\"color\": \"#636efa\"}, \"name\": \"NVO\", \"offsetgroup\": \"NVO\", \"orientation\": \"v\", \"showlegend\": true, \"textposition\": \"auto\", \"type\": \"bar\", \"x\": [\"Biotechnology\"], \"xaxis\": \"x\", \"y\": [0.07], \"yaxis\": \"y\"}, {\"alignmentgroup\": \"True\", \"hoverlabel\": {\"namelength\": 0}, \"hovertemplate\": \"symbol=EXEL<br>portfolio=%{x}<br>percent=%{y}\", \"legendgroup\": \"EXEL\", \"marker\": {\"color\": \"#EF553B\"}, \"name\": \"EXEL\", \"offsetgroup\": \"EXEL\", \"orientation\": \"v\", \"showlegend\": true, \"textposition\": \"auto\", \"type\": \"bar\", \"x\": [\"Biotechnology\"], \"xaxis\": \"x\", \"y\": [-0.4], \"yaxis\": \"y\"}, {\"alignmentgroup\": \"True\", \"hoverlabel\": {\"namelength\": 0}, \"hovertemplate\": \"symbol=INVA<br>portfolio=%{x}<br>percent=%{y}\", \"legendgroup\": \"INVA\", \"marker\": {\"color\": \"#00cc96\"}, \"name\": \"INVA\", \"offsetgroup\": \"INVA\", \"orientation\": \"v\", \"showlegend\": true, \"textposition\": \"auto\", \"type\": \"bar\", \"x\": [\"Biotechnology\"], \"xaxis\": \"x\", \"y\": [3.33], \"yaxis\": \"y\"}, {\"alignmentgroup\": \"True\", \"hoverlabel\": {\"namelength\": 0}, \"hovertemplate\": \"symbol=NVS<br>portfolio=%{x}<br>percent=%{y}\", \"legendgroup\": \"NVS\", \"marker\": {\"color\": \"#ab63fa\"}, \"name\": \"NVS\", \"offsetgroup\": \"NVS\", \"orientation\": \"v\", \"showlegend\": true, \"textposition\": \"auto\", \"type\": \"bar\", \"x\": [\"Biotechnology\"], \"xaxis\": \"x\", \"y\": [0.68], \"yaxis\": \"y\"}, {\"alignmentgroup\": \"True\", \"hoverlabel\": {\"namelength\": 0}, \"hovertemplate\": \"symbol=LLY<br>portfolio=%{x}<br>percent=%{y}\", \"legendgroup\": \"LLY\", \"marker\": {\"color\": \"#FFA15A\"}, \"name\": \"LLY\", \"offsetgroup\": \"LLY\", \"orientation\": \"v\", \"showlegend\": true, \"textposition\": \"auto\", \"type\": \"bar\", \"x\": [\"Biotechnology\"], \"xaxis\": \"x\", \"y\": [1.27], \"yaxis\": \"y\"}, {\"alignmentgroup\": \"True\", \"hoverlabel\": {\"namelength\": 0}, \"hovertemplate\": \"symbol=USHY<br>portfolio=%{x}<br>percent=%{y}\", \"legendgroup\": \"USHY\", \"marker\": {\"color\": \"#19d3f3\"}, \"name\": \"USHY\", \"offsetgroup\": \"USHY\", \"orientation\": \"v\", \"showlegend\": true, \"textposition\": \"auto\", \"type\": \"bar\", \"x\": [\"Bonds\"], \"xaxis\": \"x\", \"y\": [0.16], \"yaxis\": \"y\"}, {\"alignmentgroup\": \"True\", \"hoverlabel\": {\"namelength\": 0}, \"hovertemplate\": \"symbol=BIL<br>portfolio=%{x}<br>percent=%{y}\", \"legendgroup\": \"BIL\", \"marker\": {\"color\": \"#FF6692\"}, \"name\": \"BIL\", \"offsetgroup\": \"BIL\", \"orientation\": \"v\", \"showlegend\": true, \"textposition\": \"auto\", \"type\": \"bar\", \"x\": [\"Bonds\"], \"xaxis\": \"x\", \"y\": [0.0], \"yaxis\": \"y\"}, {\"alignmentgroup\": \"True\", \"hoverlabel\": {\"namelength\": 0}, \"hovertemplate\": \"symbol=EDV<br>portfolio=%{x}<br>percent=%{y}\", \"legendgroup\": \"EDV\", \"marker\": {\"color\": \"#B6E880\"}, \"name\": \"EDV\", \"offsetgroup\": \"EDV\", \"orientation\": \"v\", \"showlegend\": true, \"textposition\": \"auto\", \"type\": \"bar\", \"x\": [\"Bonds\"], \"xaxis\": \"x\", \"y\": [0.04], \"yaxis\": \"y\"}, {\"alignmentgroup\": \"True\", \"hoverlabel\": {\"namelength\": 0}, \"hovertemplate\": \"symbol=TLT<br>portfolio=%{x}<br>percent=%{y}\", \"legendgroup\": \"TLT\", \"marker\": {\"color\": \"#FF97FF\"}, \"name\": \"TLT\", \"offsetgroup\": \"TLT\", \"orientation\": \"v\", \"showlegend\": true, \"textposition\": \"auto\", \"type\": \"bar\", \"x\": [\"Bonds\"], \"xaxis\": \"x\", \"y\": [0.02], \"yaxis\": \"y\"}, {\"alignmentgroup\": \"True\", \"hoverlabel\": {\"namelength\": 0}, \"hovertemplate\": \"symbol=ZROZ<br>portfolio=%{x}<br>percent=%{y}\", \"legendgroup\": \"ZROZ\", \"marker\": {\"color\": \"#FECB52\"}, \"name\": \"ZROZ\", \"offsetgroup\": \"ZROZ\", \"orientation\": \"v\", \"showlegend\": true, \"textposition\": \"auto\", \"type\": \"bar\", \"x\": [\"Bonds\"], \"xaxis\": \"x\", \"y\": [-0.01], \"yaxis\": \"y\"}, {\"alignmentgroup\": \"True\", \"hoverlabel\": {\"namelength\": 0}, \"hovertemplate\": \"symbol=SHV<br>portfolio=%{x}<br>percent=%{y}\", \"legendgroup\": \"SHV\", \"marker\": {\"color\": \"#636efa\"}, \"name\": \"SHV\", \"offsetgroup\": \"SHV\", \"orientation\": \"v\", \"showlegend\": true, \"textposition\": \"auto\", \"type\": \"bar\", \"x\": [\"Bonds\"], \"xaxis\": \"x\", \"y\": [-0.0], \"yaxis\": \"y\"}, {\"alignmentgroup\": \"True\", \"hoverlabel\": {\"namelength\": 0}, \"hovertemplate\": \"symbol=VGSH<br>portfolio=%{x}<br>percent=%{y}\", \"legendgroup\": \"VGSH\", \"marker\": {\"color\": \"#EF553B\"}, \"name\": \"VGSH\", \"offsetgroup\": \"VGSH\", \"orientation\": \"v\", \"showlegend\": true, \"textposition\": \"auto\", \"type\": \"bar\", \"x\": [\"Bonds\"], \"xaxis\": \"x\", \"y\": [-0.02], \"yaxis\": \"y\"}, {\"alignmentgroup\": \"True\", \"hoverlabel\": {\"namelength\": 0}, \"hovertemplate\": \"symbol=IEF<br>portfolio=%{x}<br>percent=%{y}\", \"legendgroup\": \"IEF\", \"marker\": {\"color\": \"#00cc96\"}, \"name\": \"IEF\", \"offsetgroup\": \"IEF\", \"orientation\": \"v\", \"showlegend\": true, \"textposition\": \"auto\", \"type\": \"bar\", \"x\": [\"Bonds\"], \"xaxis\": \"x\", \"y\": [-0.09], \"yaxis\": \"y\"}, {\"alignmentgroup\": \"True\", \"hoverlabel\": {\"namelength\": 0}, \"hovertemplate\": \"symbol=BME<br>portfolio=%{x}<br>percent=%{y}\", \"legendgroup\": \"BME\", \"marker\": {\"color\": \"#ab63fa\"}, \"name\": \"BME\", \"offsetgroup\": \"BME\", \"orientation\": \"v\", \"showlegend\": true, \"textposition\": \"auto\", \"type\": \"bar\", \"x\": [\"CEF\"], \"xaxis\": \"x\", \"y\": [1.12], \"yaxis\": \"y\"}, {\"alignmentgroup\": \"True\", \"hoverlabel\": {\"namelength\": 0}, \"hovertemplate\": \"symbol=TDF<br>portfolio=%{x}<br>percent=%{y}\", \"legendgroup\": \"TDF\", \"marker\": {\"color\": \"#FFA15A\"}, \"name\": \"TDF\", \"offsetgroup\": \"TDF\", \"orientation\": \"v\", \"showlegend\": true, \"textposition\": \"auto\", \"type\": \"bar\", \"x\": [\"CEF\"], \"xaxis\": \"x\", \"y\": [0.06], \"yaxis\": \"y\"}, {\"alignmentgroup\": \"True\", \"hoverlabel\": {\"namelength\": 0}, \"hovertemplate\": \"symbol=FPE<br>portfolio=%{x}<br>percent=%{y}\", \"legendgroup\": \"FPE\", \"marker\": {\"color\": \"#19d3f3\"}, \"name\": \"FPE\", \"offsetgroup\": \"FPE\", \"orientation\": \"v\", \"showlegend\": true, \"textposition\": \"auto\", \"type\": \"bar\", \"x\": [\"CEF\"], \"xaxis\": \"x\", \"y\": [0.18], \"yaxis\": \"y\"}, {\"alignmentgroup\": \"True\", \"hoverlabel\": {\"namelength\": 0}, \"hovertemplate\": \"symbol=THQ<br>portfolio=%{x}<br>percent=%{y}\", \"legendgroup\": \"THQ\", \"marker\": {\"color\": \"#FF6692\"}, \"name\": \"THQ\", \"offsetgroup\": \"THQ\", \"orientation\": \"v\", \"showlegend\": true, \"textposition\": \"auto\", \"type\": \"bar\", \"x\": [\"CEF\"], \"xaxis\": \"x\", \"y\": [2.3], \"yaxis\": \"y\"}, {\"alignmentgroup\": \"True\", \"hoverlabel\": {\"namelength\": 0}, \"hovertemplate\": \"symbol=EVT<br>portfolio=%{x}<br>percent=%{y}\", \"legendgroup\": \"EVT\", \"marker\": {\"color\": \"#B6E880\"}, \"name\": \"EVT\", \"offsetgroup\": \"EVT\", \"orientation\": \"v\", \"showlegend\": true, \"textposition\": \"auto\", \"type\": \"bar\", \"x\": [\"CEF\"], \"xaxis\": \"x\", \"y\": [2.9], \"yaxis\": \"y\"}, {\"alignmentgroup\": \"True\", \"hoverlabel\": {\"namelength\": 0}, \"hovertemplate\": \"symbol=AOD<br>portfolio=%{x}<br>percent=%{y}\", \"legendgroup\": \"AOD\", \"marker\": {\"color\": \"#FF97FF\"}, \"name\": \"AOD\", \"offsetgroup\": \"AOD\", \"orientation\": \"v\", \"showlegend\": true, \"textposition\": \"auto\", \"type\": \"bar\", \"x\": [\"CEF\"], \"xaxis\": \"x\", \"y\": [2.21], \"yaxis\": \"y\"}, {\"alignmentgroup\": \"True\", \"hoverlabel\": {\"namelength\": 0}, \"hovertemplate\": \"symbol=THW<br>portfolio=%{x}<br>percent=%{y}\", \"legendgroup\": \"THW\", \"marker\": {\"color\": \"#FECB52\"}, \"name\": \"THW\", \"offsetgroup\": \"THW\", \"orientation\": \"v\", \"showlegend\": true, \"textposition\": \"auto\", \"type\": \"bar\", \"x\": [\"CEF\"], \"xaxis\": \"x\", \"y\": [1.74], \"yaxis\": \"y\"}, {\"alignmentgroup\": \"True\", \"hoverlabel\": {\"namelength\": 0}, \"hovertemplate\": \"symbol=CHY<br>portfolio=%{x}<br>percent=%{y}\", \"legendgroup\": \"CHY\", \"marker\": {\"color\": \"#636efa\"}, \"name\": \"CHY\", \"offsetgroup\": \"CHY\", \"orientation\": \"v\", \"showlegend\": true, \"textposition\": \"auto\", \"type\": \"bar\", \"x\": [\"CEF\"], \"xaxis\": \"x\", \"y\": [1.22], \"yaxis\": \"y\"}, {\"alignmentgroup\": \"True\", \"hoverlabel\": {\"namelength\": 0}, \"hovertemplate\": \"symbol=DFP<br>portfolio=%{x}<br>percent=%{y}\", \"legendgroup\": \"DFP\", \"marker\": {\"color\": \"#EF553B\"}, \"name\": \"DFP\", \"offsetgroup\": \"DFP\", \"orientation\": \"v\", \"showlegend\": true, \"textposition\": \"auto\", \"type\": \"bar\", \"x\": [\"CEF\"], \"xaxis\": \"x\", \"y\": [0.07], \"yaxis\": \"y\"}, {\"alignmentgroup\": \"True\", \"hoverlabel\": {\"namelength\": 0}, \"hovertemplate\": \"symbol=HQH<br>portfolio=%{x}<br>percent=%{y}\", \"legendgroup\": \"HQH\", \"marker\": {\"color\": \"#00cc96\"}, \"name\": \"HQH\", \"offsetgroup\": \"HQH\", \"orientation\": \"v\", \"showlegend\": true, \"textposition\": \"auto\", \"type\": \"bar\", \"x\": [\"CEF\"], \"xaxis\": \"x\", \"y\": [1.75], \"yaxis\": \"y\"}, {\"alignmentgroup\": \"True\", \"hoverlabel\": {\"namelength\": 0}, \"hovertemplate\": \"symbol=HQL<br>portfolio=%{x}<br>percent=%{y}\", \"legendgroup\": \"HQL\", \"marker\": {\"color\": \"#ab63fa\"}, \"name\": \"HQL\", \"offsetgroup\": \"HQL\", \"orientation\": \"v\", \"showlegend\": true, \"textposition\": \"auto\", \"type\": \"bar\", \"x\": [\"CEF\"], \"xaxis\": \"x\", \"y\": [2.0], \"yaxis\": \"y\"}, {\"alignmentgroup\": \"True\", \"hoverlabel\": {\"namelength\": 0}, \"hovertemplate\": \"symbol=CRF<br>portfolio=%{x}<br>percent=%{y}\", \"legendgroup\": \"CRF\", \"marker\": {\"color\": \"#FFA15A\"}, \"name\": \"CRF\", \"offsetgroup\": \"CRF\", \"orientation\": \"v\", \"showlegend\": true, \"textposition\": \"auto\", \"type\": \"bar\", \"x\": [\"CEF\"], \"xaxis\": \"x\", \"y\": [-0.63], \"yaxis\": \"y\"}, {\"alignmentgroup\": \"True\", \"hoverlabel\": {\"namelength\": 0}, \"hovertemplate\": \"symbol=PTY<br>portfolio=%{x}<br>percent=%{y}\", \"legendgroup\": \"PTY\", \"marker\": {\"color\": \"#19d3f3\"}, \"name\": \"PTY\", \"offsetgroup\": \"PTY\", \"orientation\": \"v\", \"showlegend\": true, \"textposition\": \"auto\", \"type\": \"bar\", \"x\": [\"CEF\"], \"xaxis\": \"x\", \"y\": [0.18], \"yaxis\": \"y\"}, {\"alignmentgroup\": \"True\", \"hoverlabel\": {\"namelength\": 0}, \"hovertemplate\": \"symbol=CGC<br>portfolio=%{x}<br>percent=%{y}\", \"legendgroup\": \"CGC\", \"marker\": {\"color\": \"#FF6692\"}, \"name\": \"CGC\", \"offsetgroup\": \"CGC\", \"orientation\": \"v\", \"showlegend\": true, \"textposition\": \"auto\", \"type\": \"bar\", \"x\": [\"Cannabis\"], \"xaxis\": \"x\", \"y\": [3.56], \"yaxis\": \"y\"}, {\"alignmentgroup\": \"True\", \"hoverlabel\": {\"namelength\": 0}, \"hovertemplate\": \"symbol=SMG<br>portfolio=%{x}<br>percent=%{y}\", \"legendgroup\": \"SMG\", \"marker\": {\"color\": \"#B6E880\"}, \"name\": \"SMG\", \"offsetgroup\": \"SMG\", \"orientation\": \"v\", \"showlegend\": true, \"textposition\": \"auto\", \"type\": \"bar\", \"x\": [\"Cannabis\"], \"xaxis\": \"x\", \"y\": [0.41], \"yaxis\": \"y\"}, {\"alignmentgroup\": \"True\", \"hoverlabel\": {\"namelength\": 0}, \"hovertemplate\": \"symbol=APHA<br>portfolio=%{x}<br>percent=%{y}\", \"legendgroup\": \"APHA\", \"marker\": {\"color\": \"#FF97FF\"}, \"name\": \"APHA\", \"offsetgroup\": \"APHA\", \"orientation\": \"v\", \"showlegend\": true, \"textposition\": \"auto\", \"type\": \"bar\", \"x\": [\"Cannabis\"], \"xaxis\": \"x\", \"y\": [3.8], \"yaxis\": \"y\"}, {\"alignmentgroup\": \"True\", \"hoverlabel\": {\"namelength\": 0}, \"hovertemplate\": \"symbol=GTBIF<br>portfolio=%{x}<br>percent=%{y}\", \"legendgroup\": \"GTBIF\", \"marker\": {\"color\": \"#FECB52\"}, \"name\": \"GTBIF\", \"offsetgroup\": \"GTBIF\", \"orientation\": \"v\", \"showlegend\": true, \"textposition\": \"auto\", \"type\": \"bar\", \"x\": [\"Cannabis\"], \"xaxis\": \"x\", \"y\": [0.0], \"yaxis\": \"y\"}, {\"alignmentgroup\": \"True\", \"hoverlabel\": {\"namelength\": 0}, \"hovertemplate\": \"symbol=GRWG<br>portfolio=%{x}<br>percent=%{y}\", \"legendgroup\": \"GRWG\", \"marker\": {\"color\": \"#636efa\"}, \"name\": \"GRWG\", \"offsetgroup\": \"GRWG\", \"orientation\": \"v\", \"showlegend\": true, \"textposition\": \"auto\", \"type\": \"bar\", \"x\": [\"Cannabis\"], \"xaxis\": \"x\", \"y\": [1.94], \"yaxis\": \"y\"}, {\"alignmentgroup\": \"True\", \"hoverlabel\": {\"namelength\": 0}, \"hovertemplate\": \"symbol=CURLF<br>portfolio=%{x}<br>percent=%{y}\", \"legendgroup\": \"CURLF\", \"marker\": {\"color\": \"#EF553B\"}, \"name\": \"CURLF\", \"offsetgroup\": \"CURLF\", \"orientation\": \"v\", \"showlegend\": true, \"textposition\": \"auto\", \"type\": \"bar\", \"x\": [\"Cannabis\"], \"xaxis\": \"x\", \"y\": [2.08], \"yaxis\": \"y\"}, {\"alignmentgroup\": \"True\", \"hoverlabel\": {\"namelength\": 0}, \"hovertemplate\": \"symbol=TLRY<br>portfolio=%{x}<br>percent=%{y}\", \"legendgroup\": \"TLRY\", \"marker\": {\"color\": \"#00cc96\"}, \"name\": \"TLRY\", \"offsetgroup\": \"TLRY\", \"orientation\": \"v\", \"showlegend\": true, \"textposition\": \"auto\", \"type\": \"bar\", \"x\": [\"Cannabis\"], \"xaxis\": \"x\", \"y\": [3.1], \"yaxis\": \"y\"}, {\"alignmentgroup\": \"True\", \"hoverlabel\": {\"namelength\": 0}, \"hovertemplate\": \"symbol=HEXO<br>portfolio=%{x}<br>percent=%{y}\", \"legendgroup\": \"HEXO\", \"marker\": {\"color\": \"#ab63fa\"}, \"name\": \"HEXO\", \"offsetgroup\": \"HEXO\", \"orientation\": \"v\", \"showlegend\": true, \"textposition\": \"auto\", \"type\": \"bar\", \"x\": [\"Cannabis\"], \"xaxis\": \"x\", \"y\": [1.76], \"yaxis\": \"y\"}, {\"alignmentgroup\": \"True\", \"hoverlabel\": {\"namelength\": 0}, \"hovertemplate\": \"symbol=CRON<br>portfolio=%{x}<br>percent=%{y}\", \"legendgroup\": \"CRON\", \"marker\": {\"color\": \"#FFA15A\"}, \"name\": \"CRON\", \"offsetgroup\": \"CRON\", \"orientation\": \"v\", \"showlegend\": true, \"textposition\": \"auto\", \"type\": \"bar\", \"x\": [\"Cannabis\"], \"xaxis\": \"x\", \"y\": [3.28], \"yaxis\": \"y\"}, {\"alignmentgroup\": \"True\", \"hoverlabel\": {\"namelength\": 0}, \"hovertemplate\": \"symbol=TCNNF<br>portfolio=%{x}<br>percent=%{y}\", \"legendgroup\": \"TCNNF\", \"marker\": {\"color\": \"#19d3f3\"}, \"name\": \"TCNNF\", \"offsetgroup\": \"TCNNF\", \"orientation\": \"v\", \"showlegend\": true, \"textposition\": \"auto\", \"type\": \"bar\", \"x\": [\"Cannabis\"], \"xaxis\": \"x\", \"y\": [1.77], \"yaxis\": \"y\"}, {\"alignmentgroup\": \"True\", \"hoverlabel\": {\"namelength\": 0}, \"hovertemplate\": \"symbol=ACB<br>portfolio=%{x}<br>percent=%{y}\", \"legendgroup\": \"ACB\", \"marker\": {\"color\": \"#FF6692\"}, \"name\": \"ACB\", \"offsetgroup\": \"ACB\", \"orientation\": \"v\", \"showlegend\": true, \"textposition\": \"auto\", \"type\": \"bar\", \"x\": [\"Cannabis\"], \"xaxis\": \"x\", \"y\": [1.65], \"yaxis\": \"y\"}, {\"alignmentgroup\": \"True\", \"hoverlabel\": {\"namelength\": 0}, \"hovertemplate\": \"symbol=OKTA<br>portfolio=%{x}<br>percent=%{y}\", \"legendgroup\": \"OKTA\", \"marker\": {\"color\": \"#B6E880\"}, \"name\": \"OKTA\", \"offsetgroup\": \"OKTA\", \"orientation\": \"v\", \"showlegend\": true, \"textposition\": \"auto\", \"type\": \"bar\", \"x\": [\"Cloud Enterprise Apps\"], \"xaxis\": \"x\", \"y\": [-0.1], \"yaxis\": \"y\"}, {\"alignmentgroup\": \"True\", \"hoverlabel\": {\"namelength\": 0}, \"hovertemplate\": \"symbol=ZS<br>portfolio=%{x}<br>percent=%{y}\", \"legendgroup\": \"ZS\", \"marker\": {\"color\": \"#FF97FF\"}, \"name\": \"ZS\", \"offsetgroup\": \"ZS\", \"orientation\": \"v\", \"showlegend\": true, \"textposition\": \"auto\", \"type\": \"bar\", \"x\": [\"Cloud Enterprise Apps\"], \"xaxis\": \"x\", \"y\": [-5.55], \"yaxis\": \"y\"}, {\"alignmentgroup\": \"True\", \"hoverlabel\": {\"namelength\": 0}, \"hovertemplate\": \"symbol=CRWD<br>portfolio=%{x}<br>percent=%{y}\", \"legendgroup\": \"CRWD\", \"marker\": {\"color\": \"#FECB52\"}, \"name\": \"CRWD\", \"offsetgroup\": \"CRWD\", \"orientation\": \"v\", \"showlegend\": true, \"textposition\": \"auto\", \"type\": \"bar\", \"x\": [\"Cloud Enterprise Apps\"], \"xaxis\": \"x\", \"y\": [-2.57], \"yaxis\": \"y\"}, {\"alignmentgroup\": \"True\", \"hoverlabel\": {\"namelength\": 0}, \"hovertemplate\": \"symbol=VEEV<br>portfolio=%{x}<br>percent=%{y}\", \"legendgroup\": \"VEEV\", \"marker\": {\"color\": \"#636efa\"}, \"name\": \"VEEV\", \"offsetgroup\": \"VEEV\", \"orientation\": \"v\", \"showlegend\": true, \"textposition\": \"auto\", \"type\": \"bar\", \"x\": [\"Cloud Enterprise Apps\"], \"xaxis\": \"x\", \"y\": [-3.32], \"yaxis\": \"y\"}, {\"alignmentgroup\": \"True\", \"hoverlabel\": {\"namelength\": 0}, \"hovertemplate\": \"symbol=TWLO<br>portfolio=%{x}<br>percent=%{y}\", \"legendgroup\": \"TWLO\", \"marker\": {\"color\": \"#EF553B\"}, \"name\": \"TWLO\", \"offsetgroup\": \"TWLO\", \"orientation\": \"v\", \"showlegend\": true, \"textposition\": \"auto\", \"type\": \"bar\", \"x\": [\"Cloud Enterprise Apps\"], \"xaxis\": \"x\", \"y\": [-2.65], \"yaxis\": \"y\"}, {\"alignmentgroup\": \"True\", \"hoverlabel\": {\"namelength\": 0}, \"hovertemplate\": \"symbol=TLND<br>portfolio=%{x}<br>percent=%{y}\", \"legendgroup\": \"TLND\", \"marker\": {\"color\": \"#00cc96\"}, \"name\": \"TLND\", \"offsetgroup\": \"TLND\", \"orientation\": \"v\", \"showlegend\": true, \"textposition\": \"auto\", \"type\": \"bar\", \"x\": [\"Cloud Enterprise Apps\"], \"xaxis\": \"x\", \"y\": [1.45], \"yaxis\": \"y\"}, {\"alignmentgroup\": \"True\", \"hoverlabel\": {\"namelength\": 0}, \"hovertemplate\": \"symbol=AYX<br>portfolio=%{x}<br>percent=%{y}\", \"legendgroup\": \"AYX\", \"marker\": {\"color\": \"#ab63fa\"}, \"name\": \"AYX\", \"offsetgroup\": \"AYX\", \"orientation\": \"v\", \"showlegend\": true, \"textposition\": \"auto\", \"type\": \"bar\", \"x\": [\"Cloud Retail Apps\"], \"xaxis\": \"x\", \"y\": [-2.08], \"yaxis\": \"y\"}, {\"alignmentgroup\": \"True\", \"hoverlabel\": {\"namelength\": 0}, \"hovertemplate\": \"symbol=SHOP<br>portfolio=%{x}<br>percent=%{y}\", \"legendgroup\": \"SHOP\", \"marker\": {\"color\": \"#FFA15A\"}, \"name\": \"SHOP\", \"offsetgroup\": \"SHOP\", \"orientation\": \"v\", \"showlegend\": true, \"textposition\": \"auto\", \"type\": \"bar\", \"x\": [\"Cloud Retail Apps\"], \"xaxis\": \"x\", \"y\": [-0.81], \"yaxis\": \"y\"}, {\"alignmentgroup\": \"True\", \"hoverlabel\": {\"namelength\": 0}, \"hovertemplate\": \"symbol=DOCRF<br>portfolio=%{x}<br>percent=%{y}\", \"legendgroup\": \"DOCRF\", \"marker\": {\"color\": \"#19d3f3\"}, \"name\": \"DOCRF\", \"offsetgroup\": \"DOCRF\", \"orientation\": \"v\", \"showlegend\": true, \"textposition\": \"auto\", \"type\": \"bar\", \"x\": [\"Cloud Retail Apps\"], \"xaxis\": \"x\", \"y\": [-2.44], \"yaxis\": \"y\"}, {\"alignmentgroup\": \"True\", \"hoverlabel\": {\"namelength\": 0}, \"hovertemplate\": \"symbol=SQ<br>portfolio=%{x}<br>percent=%{y}\", \"legendgroup\": \"SQ\", \"marker\": {\"color\": \"#FF6692\"}, \"name\": \"SQ\", \"offsetgroup\": \"SQ\", \"orientation\": \"v\", \"showlegend\": true, \"textposition\": \"auto\", \"type\": \"bar\", \"x\": [\"Cloud Retail Apps\"], \"xaxis\": \"x\", \"y\": [-0.56], \"yaxis\": \"y\"}, {\"alignmentgroup\": \"True\", \"hoverlabel\": {\"namelength\": 0}, \"hovertemplate\": \"symbol=PCTY<br>portfolio=%{x}<br>percent=%{y}\", \"legendgroup\": \"PCTY\", \"marker\": {\"color\": \"#B6E880\"}, \"name\": \"PCTY\", \"offsetgroup\": \"PCTY\", \"orientation\": \"v\", \"showlegend\": true, \"textposition\": \"auto\", \"type\": \"bar\", \"x\": [\"Cloud Retail Apps\"], \"xaxis\": \"x\", \"y\": [-1.13], \"yaxis\": \"y\"}, {\"alignmentgroup\": \"True\", \"hoverlabel\": {\"namelength\": 0}, \"hovertemplate\": \"symbol=PAYC<br>portfolio=%{x}<br>percent=%{y}\", \"legendgroup\": \"PAYC\", \"marker\": {\"color\": \"#FF97FF\"}, \"name\": \"PAYC\", \"offsetgroup\": \"PAYC\", \"orientation\": \"v\", \"showlegend\": true, \"textposition\": \"auto\", \"type\": \"bar\", \"x\": [\"Cloud Retail Apps\"], \"xaxis\": \"x\", \"y\": [0.89], \"yaxis\": \"y\"}, {\"alignmentgroup\": \"True\", \"hoverlabel\": {\"namelength\": 0}, \"hovertemplate\": \"symbol=NET<br>portfolio=%{x}<br>percent=%{y}\", \"legendgroup\": \"NET\", \"marker\": {\"color\": \"#FECB52\"}, \"name\": \"NET\", \"offsetgroup\": \"NET\", \"orientation\": \"v\", \"showlegend\": true, \"textposition\": \"auto\", \"type\": \"bar\", \"x\": [\"Communication Services\"], \"xaxis\": \"x\", \"y\": [0.43], \"yaxis\": \"y\"}, {\"alignmentgroup\": \"True\", \"hoverlabel\": {\"namelength\": 0}, \"hovertemplate\": \"symbol=BAND<br>portfolio=%{x}<br>percent=%{y}\", \"legendgroup\": \"BAND\", \"marker\": {\"color\": \"#636efa\"}, \"name\": \"BAND\", \"offsetgroup\": \"BAND\", \"orientation\": \"v\", \"showlegend\": true, \"textposition\": \"auto\", \"type\": \"bar\", \"x\": [\"Communication Services\"], \"xaxis\": \"x\", \"y\": [-4.17], \"yaxis\": \"y\"}, {\"alignmentgroup\": \"True\", \"hoverlabel\": {\"namelength\": 0}, \"hovertemplate\": \"symbol=ZM<br>portfolio=%{x}<br>percent=%{y}\", \"legendgroup\": \"ZM\", \"marker\": {\"color\": \"#EF553B\"}, \"name\": \"ZM\", \"offsetgroup\": \"ZM\", \"orientation\": \"v\", \"showlegend\": true, \"textposition\": \"auto\", \"type\": \"bar\", \"x\": [\"Communication Services\"], \"xaxis\": \"x\", \"y\": [-6.18], \"yaxis\": \"y\"}, {\"alignmentgroup\": \"True\", \"hoverlabel\": {\"namelength\": 0}, \"hovertemplate\": \"symbol=VG<br>portfolio=%{x}<br>percent=%{y}\", \"legendgroup\": \"VG\", \"marker\": {\"color\": \"#00cc96\"}, \"name\": \"VG\", \"offsetgroup\": \"VG\", \"orientation\": \"v\", \"showlegend\": true, \"textposition\": \"auto\", \"type\": \"bar\", \"x\": [\"Communication Services\"], \"xaxis\": \"x\", \"y\": [2.88], \"yaxis\": \"y\"}, {\"alignmentgroup\": \"True\", \"hoverlabel\": {\"namelength\": 0}, \"hovertemplate\": \"symbol=CDLX<br>portfolio=%{x}<br>percent=%{y}\", \"legendgroup\": \"CDLX\", \"marker\": {\"color\": \"#ab63fa\"}, \"name\": \"CDLX\", \"offsetgroup\": \"CDLX\", \"orientation\": \"v\", \"showlegend\": true, \"textposition\": \"auto\", \"type\": \"bar\", \"x\": [\"Communication Services\"], \"xaxis\": \"x\", \"y\": [2.42], \"yaxis\": \"y\"}, {\"alignmentgroup\": \"True\", \"hoverlabel\": {\"namelength\": 0}, \"hovertemplate\": \"symbol=FSLY<br>portfolio=%{x}<br>percent=%{y}\", \"legendgroup\": \"FSLY\", \"marker\": {\"color\": \"#FFA15A\"}, \"name\": \"FSLY\", \"offsetgroup\": \"FSLY\", \"orientation\": \"v\", \"showlegend\": true, \"textposition\": \"auto\", \"type\": \"bar\", \"x\": [\"Communication Services\"], \"xaxis\": \"x\", \"y\": [2.75], \"yaxis\": \"y\"}, {\"alignmentgroup\": \"True\", \"hoverlabel\": {\"namelength\": 0}, \"hovertemplate\": \"symbol=EVER<br>portfolio=%{x}<br>percent=%{y}\", \"legendgroup\": \"EVER\", \"marker\": {\"color\": \"#19d3f3\"}, \"name\": \"EVER\", \"offsetgroup\": \"EVER\", \"orientation\": \"v\", \"showlegend\": true, \"textposition\": \"auto\", \"type\": \"bar\", \"x\": [\"Communication Services\"], \"xaxis\": \"x\", \"y\": [-0.86], \"yaxis\": \"y\"}, {\"alignmentgroup\": \"True\", \"hoverlabel\": {\"namelength\": 0}, \"hovertemplate\": \"symbol=FDHY<br>portfolio=%{x}<br>percent=%{y}\", \"legendgroup\": \"FDHY\", \"marker\": {\"color\": \"#FF6692\"}, \"name\": \"FDHY\", \"offsetgroup\": \"FDHY\", \"orientation\": \"v\", \"showlegend\": true, \"textposition\": \"auto\", \"type\": \"bar\", \"x\": [\"Corporate Bonds\"], \"xaxis\": \"x\", \"y\": [0.1], \"yaxis\": \"y\"}, {\"alignmentgroup\": \"True\", \"hoverlabel\": {\"namelength\": 0}, \"hovertemplate\": \"symbol=VCSH<br>portfolio=%{x}<br>percent=%{y}\", \"legendgroup\": \"VCSH\", \"marker\": {\"color\": \"#B6E880\"}, \"name\": \"VCSH\", \"offsetgroup\": \"VCSH\", \"orientation\": \"v\", \"showlegend\": true, \"textposition\": \"auto\", \"type\": \"bar\", \"x\": [\"Corporate Bonds\"], \"xaxis\": \"x\", \"y\": [0.07], \"yaxis\": \"y\"}, {\"alignmentgroup\": \"True\", \"hoverlabel\": {\"namelength\": 0}, \"hovertemplate\": \"symbol=LQD<br>portfolio=%{x}<br>percent=%{y}\", \"legendgroup\": \"LQD\", \"marker\": {\"color\": \"#FF97FF\"}, \"name\": \"LQD\", \"offsetgroup\": \"LQD\", \"orientation\": \"v\", \"showlegend\": true, \"textposition\": \"auto\", \"type\": \"bar\", \"x\": [\"Corporate Bonds\"], \"xaxis\": \"x\", \"y\": [0.3], \"yaxis\": \"y\"}, {\"alignmentgroup\": \"True\", \"hoverlabel\": {\"namelength\": 0}, \"hovertemplate\": \"symbol=ANGL<br>portfolio=%{x}<br>percent=%{y}\", \"legendgroup\": \"ANGL\", \"marker\": {\"color\": \"#FECB52\"}, \"name\": \"ANGL\", \"offsetgroup\": \"ANGL\", \"orientation\": \"v\", \"showlegend\": true, \"textposition\": \"auto\", \"type\": \"bar\", \"x\": [\"Corporate Bonds\"], \"xaxis\": \"x\", \"y\": [0.21], \"yaxis\": \"y\"}, {\"alignmentgroup\": \"True\", \"hoverlabel\": {\"namelength\": 0}, \"hovertemplate\": \"symbol=VCLT<br>portfolio=%{x}<br>percent=%{y}\", \"legendgroup\": \"VCLT\", \"marker\": {\"color\": \"#636efa\"}, \"name\": \"VCLT\", \"offsetgroup\": \"VCLT\", \"orientation\": \"v\", \"showlegend\": true, \"textposition\": \"auto\", \"type\": \"bar\", \"x\": [\"Corporate Bonds\"], \"xaxis\": \"x\", \"y\": [0.45], \"yaxis\": \"y\"}, {\"alignmentgroup\": \"True\", \"hoverlabel\": {\"namelength\": 0}, \"hovertemplate\": \"symbol=FLDR<br>portfolio=%{x}<br>percent=%{y}\", \"legendgroup\": \"FLDR\", \"marker\": {\"color\": \"#EF553B\"}, \"name\": \"FLDR\", \"offsetgroup\": \"FLDR\", \"orientation\": \"v\", \"showlegend\": true, \"textposition\": \"auto\", \"type\": \"bar\", \"x\": [\"Corporate Bonds\"], \"xaxis\": \"x\", \"y\": [0.05], \"yaxis\": \"y\"}, {\"alignmentgroup\": \"True\", \"hoverlabel\": {\"namelength\": 0}, \"hovertemplate\": \"symbol=FLC<br>portfolio=%{x}<br>percent=%{y}\", \"legendgroup\": \"FLC\", \"marker\": {\"color\": \"#00cc96\"}, \"name\": \"FLC\", \"offsetgroup\": \"FLC\", \"orientation\": \"v\", \"showlegend\": true, \"textposition\": \"auto\", \"type\": \"bar\", \"x\": [\"Dividend\"], \"xaxis\": \"x\", \"y\": [1.33], \"yaxis\": \"y\"}, {\"alignmentgroup\": \"True\", \"hoverlabel\": {\"namelength\": 0}, \"hovertemplate\": \"symbol=FFC<br>portfolio=%{x}<br>percent=%{y}\", \"legendgroup\": \"FFC\", \"marker\": {\"color\": \"#ab63fa\"}, \"name\": \"FFC\", \"offsetgroup\": \"FFC\", \"orientation\": \"v\", \"showlegend\": true, \"textposition\": \"auto\", \"type\": \"bar\", \"x\": [\"Dividend\"], \"xaxis\": \"x\", \"y\": [0.98], \"yaxis\": \"y\"}, {\"alignmentgroup\": \"True\", \"hoverlabel\": {\"namelength\": 0}, \"hovertemplate\": \"symbol=EAGG<br>portfolio=%{x}<br>percent=%{y}\", \"legendgroup\": \"EAGG\", \"marker\": {\"color\": \"#FFA15A\"}, \"name\": \"EAGG\", \"offsetgroup\": \"EAGG\", \"orientation\": \"v\", \"showlegend\": true, \"textposition\": \"auto\", \"type\": \"bar\", \"x\": [\"ESG\"], \"xaxis\": \"x\", \"y\": [0.05], \"yaxis\": \"y\"}, {\"alignmentgroup\": \"True\", \"hoverlabel\": {\"namelength\": 0}, \"hovertemplate\": \"symbol=ESGE<br>portfolio=%{x}<br>percent=%{y}\", \"legendgroup\": \"ESGE\", \"marker\": {\"color\": \"#19d3f3\"}, \"name\": \"ESGE\", \"offsetgroup\": \"ESGE\", \"orientation\": \"v\", \"showlegend\": true, \"textposition\": \"auto\", \"type\": \"bar\", \"x\": [\"ESG\"], \"xaxis\": \"x\", \"y\": [1.58], \"yaxis\": \"y\"}, {\"alignmentgroup\": \"True\", \"hoverlabel\": {\"namelength\": 0}, \"hovertemplate\": \"symbol=ESGD<br>portfolio=%{x}<br>percent=%{y}\", \"legendgroup\": \"ESGD\", \"marker\": {\"color\": \"#FF6692\"}, \"name\": \"ESGD\", \"offsetgroup\": \"ESGD\", \"orientation\": \"v\", \"showlegend\": true, \"textposition\": \"auto\", \"type\": \"bar\", \"x\": [\"ESG\"], \"xaxis\": \"x\", \"y\": [1.64], \"yaxis\": \"y\"}, {\"alignmentgroup\": \"True\", \"hoverlabel\": {\"namelength\": 0}, \"hovertemplate\": \"symbol=SUSB<br>portfolio=%{x}<br>percent=%{y}\", \"legendgroup\": \"SUSB\", \"marker\": {\"color\": \"#B6E880\"}, \"name\": \"SUSB\", \"offsetgroup\": \"SUSB\", \"orientation\": \"v\", \"showlegend\": true, \"textposition\": \"auto\", \"type\": \"bar\", \"x\": [\"ESG\"], \"xaxis\": \"x\", \"y\": [0.06], \"yaxis\": \"y\"}, {\"alignmentgroup\": \"True\", \"hoverlabel\": {\"namelength\": 0}, \"hovertemplate\": \"symbol=ESGU<br>portfolio=%{x}<br>percent=%{y}\", \"legendgroup\": \"ESGU\", \"marker\": {\"color\": \"#FF97FF\"}, \"name\": \"ESGU\", \"offsetgroup\": \"ESGU\", \"orientation\": \"v\", \"showlegend\": true, \"textposition\": \"auto\", \"type\": \"bar\", \"x\": [\"ESG\"], \"xaxis\": \"x\", \"y\": [1.8], \"yaxis\": \"y\"}, {\"alignmentgroup\": \"True\", \"hoverlabel\": {\"namelength\": 0}, \"hovertemplate\": \"symbol=SUSC<br>portfolio=%{x}<br>percent=%{y}\", \"legendgroup\": \"SUSC\", \"marker\": {\"color\": \"#FECB52\"}, \"name\": \"SUSC\", \"offsetgroup\": \"SUSC\", \"orientation\": \"v\", \"showlegend\": true, \"textposition\": \"auto\", \"type\": \"bar\", \"x\": [\"ESG\"], \"xaxis\": \"x\", \"y\": [0.35], \"yaxis\": \"y\"}, {\"alignmentgroup\": \"True\", \"hoverlabel\": {\"namelength\": 0}, \"hovertemplate\": \"symbol=ESML<br>portfolio=%{x}<br>percent=%{y}\", \"legendgroup\": \"ESML\", \"marker\": {\"color\": \"#636efa\"}, \"name\": \"ESML\", \"offsetgroup\": \"ESML\", \"orientation\": \"v\", \"showlegend\": true, \"textposition\": \"auto\", \"type\": \"bar\", \"x\": [\"ESG\"], \"xaxis\": \"x\", \"y\": [2.46], \"yaxis\": \"y\"}, {\"alignmentgroup\": \"True\", \"hoverlabel\": {\"namelength\": 0}, \"hovertemplate\": \"symbol=LI<br>portfolio=%{x}<br>percent=%{y}\", \"legendgroup\": \"LI\", \"marker\": {\"color\": \"#EF553B\"}, \"name\": \"LI\", \"offsetgroup\": \"LI\", \"orientation\": \"v\", \"showlegend\": true, \"textposition\": \"auto\", \"type\": \"bar\", \"x\": [\"Electric Vehicles\"], \"xaxis\": \"x\", \"y\": [0.68], \"yaxis\": \"y\"}, {\"alignmentgroup\": \"True\", \"hoverlabel\": {\"namelength\": 0}, \"hovertemplate\": \"symbol=BLNK<br>portfolio=%{x}<br>percent=%{y}\", \"legendgroup\": \"BLNK\", \"marker\": {\"color\": \"#00cc96\"}, \"name\": \"BLNK\", \"offsetgroup\": \"BLNK\", \"orientation\": \"v\", \"showlegend\": true, \"textposition\": \"auto\", \"type\": \"bar\", \"x\": [\"Electric Vehicles\"], \"xaxis\": \"x\", \"y\": [-5.26], \"yaxis\": \"y\"}, {\"alignmentgroup\": \"True\", \"hoverlabel\": {\"namelength\": 0}, \"hovertemplate\": \"symbol=TSLA<br>portfolio=%{x}<br>percent=%{y}\", \"legendgroup\": \"TSLA\", \"marker\": {\"color\": \"#ab63fa\"}, \"name\": \"TSLA\", \"offsetgroup\": \"TSLA\", \"orientation\": \"v\", \"showlegend\": true, \"textposition\": \"auto\", \"type\": \"bar\", \"x\": [\"Electric Vehicles\"], \"xaxis\": \"x\", \"y\": [-0.54], \"yaxis\": \"y\"}, {\"alignmentgroup\": \"True\", \"hoverlabel\": {\"namelength\": 0}, \"hovertemplate\": \"symbol=WKHS<br>portfolio=%{x}<br>percent=%{y}\", \"legendgroup\": \"WKHS\", \"marker\": {\"color\": \"#FFA15A\"}, \"name\": \"WKHS\", \"offsetgroup\": \"WKHS\", \"orientation\": \"v\", \"showlegend\": true, \"textposition\": \"auto\", \"type\": \"bar\", \"x\": [\"Electric Vehicles\"], \"xaxis\": \"x\", \"y\": [-4.47], \"yaxis\": \"y\"}, {\"alignmentgroup\": \"True\", \"hoverlabel\": {\"namelength\": 0}, \"hovertemplate\": \"symbol=BYDDF<br>portfolio=%{x}<br>percent=%{y}\", \"legendgroup\": \"BYDDF\", \"marker\": {\"color\": \"#19d3f3\"}, \"name\": \"BYDDF\", \"offsetgroup\": \"BYDDF\", \"orientation\": \"v\", \"showlegend\": true, \"textposition\": \"auto\", \"type\": \"bar\", \"x\": [\"Electric Vehicles\"], \"xaxis\": \"x\", \"y\": [0.25], \"yaxis\": \"y\"}, {\"alignmentgroup\": \"True\", \"hoverlabel\": {\"namelength\": 0}, \"hovertemplate\": \"symbol=XPEV<br>portfolio=%{x}<br>percent=%{y}\", \"legendgroup\": \"XPEV\", \"marker\": {\"color\": \"#FF6692\"}, \"name\": \"XPEV\", \"offsetgroup\": \"XPEV\", \"orientation\": \"v\", \"showlegend\": true, \"textposition\": \"auto\", \"type\": \"bar\", \"x\": [\"Electric Vehicles\"], \"xaxis\": \"x\", \"y\": [-8.74], \"yaxis\": \"y\"}, {\"alignmentgroup\": \"True\", \"hoverlabel\": {\"namelength\": 0}, \"hovertemplate\": \"symbol=SOLO<br>portfolio=%{x}<br>percent=%{y}\", \"legendgroup\": \"SOLO\", \"marker\": {\"color\": \"#B6E880\"}, \"name\": \"SOLO\", \"offsetgroup\": \"SOLO\", \"orientation\": \"v\", \"showlegend\": true, \"textposition\": \"auto\", \"type\": \"bar\", \"x\": [\"Electric Vehicles\"], \"xaxis\": \"x\", \"y\": [35.27], \"yaxis\": \"y\"}, {\"alignmentgroup\": \"True\", \"hoverlabel\": {\"namelength\": 0}, \"hovertemplate\": \"symbol=NIO<br>portfolio=%{x}<br>percent=%{y}\", \"legendgroup\": \"NIO\", \"marker\": {\"color\": \"#FF97FF\"}, \"name\": \"NIO\", \"offsetgroup\": \"NIO\", \"orientation\": \"v\", \"showlegend\": true, \"textposition\": \"auto\", \"type\": \"bar\", \"x\": [\"Electric Vehicles\"], \"xaxis\": \"x\", \"y\": [-7.58], \"yaxis\": \"y\"}, {\"alignmentgroup\": \"True\", \"hoverlabel\": {\"namelength\": 0}, \"hovertemplate\": \"symbol=CLSK<br>portfolio=%{x}<br>percent=%{y}\", \"legendgroup\": \"CLSK\", \"marker\": {\"color\": \"#FECB52\"}, \"name\": \"CLSK\", \"offsetgroup\": \"CLSK\", \"orientation\": \"v\", \"showlegend\": true, \"textposition\": \"auto\", \"type\": \"bar\", \"x\": [\"Electricity\"], \"xaxis\": \"x\", \"y\": [-0.23], \"yaxis\": \"y\"}, {\"alignmentgroup\": \"True\", \"hoverlabel\": {\"namelength\": 0}, \"hovertemplate\": \"symbol=FCEL<br>portfolio=%{x}<br>percent=%{y}\", \"legendgroup\": \"FCEL\", \"marker\": {\"color\": \"#636efa\"}, \"name\": \"FCEL\", \"offsetgroup\": \"FCEL\", \"orientation\": \"v\", \"showlegend\": true, \"textposition\": \"auto\", \"type\": \"bar\", \"x\": [\"Electricity\"], \"xaxis\": \"x\", \"y\": [12.25], \"yaxis\": \"y\"}, {\"alignmentgroup\": \"True\", \"hoverlabel\": {\"namelength\": 0}, \"hovertemplate\": \"symbol=BLDP<br>portfolio=%{x}<br>percent=%{y}\", \"legendgroup\": \"BLDP\", \"marker\": {\"color\": \"#EF553B\"}, \"name\": \"BLDP\", \"offsetgroup\": \"BLDP\", \"orientation\": \"v\", \"showlegend\": true, \"textposition\": \"auto\", \"type\": \"bar\", \"x\": [\"Electricity\"], \"xaxis\": \"x\", \"y\": [1.31], \"yaxis\": \"y\"}, {\"alignmentgroup\": \"True\", \"hoverlabel\": {\"namelength\": 0}, \"hovertemplate\": \"symbol=PLUG<br>portfolio=%{x}<br>percent=%{y}\", \"legendgroup\": \"PLUG\", \"marker\": {\"color\": \"#00cc96\"}, \"name\": \"PLUG\", \"offsetgroup\": \"PLUG\", \"orientation\": \"v\", \"showlegend\": true, \"textposition\": \"auto\", \"type\": \"bar\", \"x\": [\"Electricity\"], \"xaxis\": \"x\", \"y\": [0.05], \"yaxis\": \"y\"}, {\"alignmentgroup\": \"True\", \"hoverlabel\": {\"namelength\": 0}, \"hovertemplate\": \"symbol=SIEGY<br>portfolio=%{x}<br>percent=%{y}\", \"legendgroup\": \"SIEGY\", \"marker\": {\"color\": \"#ab63fa\"}, \"name\": \"SIEGY\", \"offsetgroup\": \"SIEGY\", \"orientation\": \"v\", \"showlegend\": true, \"textposition\": \"auto\", \"type\": \"bar\", \"x\": [\"Electricity\"], \"xaxis\": \"x\", \"y\": [0.07], \"yaxis\": \"y\"}, {\"alignmentgroup\": \"True\", \"hoverlabel\": {\"namelength\": 0}, \"hovertemplate\": \"symbol=BE<br>portfolio=%{x}<br>percent=%{y}\", \"legendgroup\": \"BE\", \"marker\": {\"color\": \"#FFA15A\"}, \"name\": \"BE\", \"offsetgroup\": \"BE\", \"orientation\": \"v\", \"showlegend\": true, \"textposition\": \"auto\", \"type\": \"bar\", \"x\": [\"Electricity\"], \"xaxis\": \"x\", \"y\": [8.47], \"yaxis\": \"y\"}, {\"alignmentgroup\": \"True\", \"hoverlabel\": {\"namelength\": 0}, \"hovertemplate\": \"symbol=SEDG<br>portfolio=%{x}<br>percent=%{y}\", \"legendgroup\": \"SEDG\", \"marker\": {\"color\": \"#19d3f3\"}, \"name\": \"SEDG\", \"offsetgroup\": \"SEDG\", \"orientation\": \"v\", \"showlegend\": true, \"textposition\": \"auto\", \"type\": \"bar\", \"x\": [\"Electricity Solar\"], \"xaxis\": \"x\", \"y\": [-1.77], \"yaxis\": \"y\"}, {\"alignmentgroup\": \"True\", \"hoverlabel\": {\"namelength\": 0}, \"hovertemplate\": \"symbol=JKS<br>portfolio=%{x}<br>percent=%{y}\", \"legendgroup\": \"JKS\", \"marker\": {\"color\": \"#FF6692\"}, \"name\": \"JKS\", \"offsetgroup\": \"JKS\", \"orientation\": \"v\", \"showlegend\": true, \"textposition\": \"auto\", \"type\": \"bar\", \"x\": [\"Electricity Solar\"], \"xaxis\": \"x\", \"y\": [3.44], \"yaxis\": \"y\"}, {\"alignmentgroup\": \"True\", \"hoverlabel\": {\"namelength\": 0}, \"hovertemplate\": \"symbol=RUN<br>portfolio=%{x}<br>percent=%{y}\", \"legendgroup\": \"RUN\", \"marker\": {\"color\": \"#B6E880\"}, \"name\": \"RUN\", \"offsetgroup\": \"RUN\", \"orientation\": \"v\", \"showlegend\": true, \"textposition\": \"auto\", \"type\": \"bar\", \"x\": [\"Electricity Solar\"], \"xaxis\": \"x\", \"y\": [2.76], \"yaxis\": \"y\"}, {\"alignmentgroup\": \"True\", \"hoverlabel\": {\"namelength\": 0}, \"hovertemplate\": \"symbol=TAN<br>portfolio=%{x}<br>percent=%{y}\", \"legendgroup\": \"TAN\", \"marker\": {\"color\": \"#FF97FF\"}, \"name\": \"TAN\", \"offsetgroup\": \"TAN\", \"orientation\": \"v\", \"showlegend\": true, \"textposition\": \"auto\", \"type\": \"bar\", \"x\": [\"Electricity Solar\"], \"xaxis\": \"x\", \"y\": [0.24], \"yaxis\": \"y\"}, {\"alignmentgroup\": \"True\", \"hoverlabel\": {\"namelength\": 0}, \"hovertemplate\": \"symbol=GNRC<br>portfolio=%{x}<br>percent=%{y}\", \"legendgroup\": \"GNRC\", \"marker\": {\"color\": \"#FECB52\"}, \"name\": \"GNRC\", \"offsetgroup\": \"GNRC\", \"orientation\": \"v\", \"showlegend\": true, \"textposition\": \"auto\", \"type\": \"bar\", \"x\": [\"Electricity Solar\"], \"xaxis\": \"x\", \"y\": [-0.98], \"yaxis\": \"y\"}, {\"alignmentgroup\": \"True\", \"hoverlabel\": {\"namelength\": 0}, \"hovertemplate\": \"symbol=ENPH<br>portfolio=%{x}<br>percent=%{y}\", \"legendgroup\": \"ENPH\", \"marker\": {\"color\": \"#636efa\"}, \"name\": \"ENPH\", \"offsetgroup\": \"ENPH\", \"orientation\": \"v\", \"showlegend\": true, \"textposition\": \"auto\", \"type\": \"bar\", \"x\": [\"Electricity Solar\"], \"xaxis\": \"x\", \"y\": [0.22], \"yaxis\": \"y\"}, {\"alignmentgroup\": \"True\", \"hoverlabel\": {\"namelength\": 0}, \"hovertemplate\": \"symbol=CSIQ<br>portfolio=%{x}<br>percent=%{y}\", \"legendgroup\": \"CSIQ\", \"marker\": {\"color\": \"#EF553B\"}, \"name\": \"CSIQ\", \"offsetgroup\": \"CSIQ\", \"orientation\": \"v\", \"showlegend\": true, \"textposition\": \"auto\", \"type\": \"bar\", \"x\": [\"Electricity Solar\"], \"xaxis\": \"x\", \"y\": [-1.17], \"yaxis\": \"y\"}, {\"alignmentgroup\": \"True\", \"hoverlabel\": {\"namelength\": 0}, \"hovertemplate\": \"symbol=SPWR<br>portfolio=%{x}<br>percent=%{y}\", \"legendgroup\": \"SPWR\", \"marker\": {\"color\": \"#00cc96\"}, \"name\": \"SPWR\", \"offsetgroup\": \"SPWR\", \"orientation\": \"v\", \"showlegend\": true, \"textposition\": \"auto\", \"type\": \"bar\", \"x\": [\"Electricity Solar\"], \"xaxis\": \"x\", \"y\": [1.58], \"yaxis\": \"y\"}, {\"alignmentgroup\": \"True\", \"hoverlabel\": {\"namelength\": 0}, \"hovertemplate\": \"symbol=DQ<br>portfolio=%{x}<br>percent=%{y}\", \"legendgroup\": \"DQ\", \"marker\": {\"color\": \"#ab63fa\"}, \"name\": \"DQ\", \"offsetgroup\": \"DQ\", \"orientation\": \"v\", \"showlegend\": true, \"textposition\": \"auto\", \"type\": \"bar\", \"x\": [\"Electricity Solar\"], \"xaxis\": \"x\", \"y\": [2.86], \"yaxis\": \"y\"}, {\"alignmentgroup\": \"True\", \"hoverlabel\": {\"namelength\": 0}, \"hovertemplate\": \"symbol=FSLR<br>portfolio=%{x}<br>percent=%{y}\", \"legendgroup\": \"FSLR\", \"marker\": {\"color\": \"#FFA15A\"}, \"name\": \"FSLR\", \"offsetgroup\": \"FSLR\", \"orientation\": \"v\", \"showlegend\": true, \"textposition\": \"auto\", \"type\": \"bar\", \"x\": [\"Electricity Solar\"], \"xaxis\": \"x\", \"y\": [-1.13], \"yaxis\": \"y\"}, {\"alignmentgroup\": \"True\", \"hoverlabel\": {\"namelength\": 0}, \"hovertemplate\": \"symbol=GCTAY<br>portfolio=%{x}<br>percent=%{y}\", \"legendgroup\": \"GCTAY\", \"marker\": {\"color\": \"#19d3f3\"}, \"name\": \"GCTAY\", \"offsetgroup\": \"GCTAY\", \"orientation\": \"v\", \"showlegend\": true, \"textposition\": \"auto\", \"type\": \"bar\", \"x\": [\"Electricity Wind\"], \"xaxis\": \"x\", \"y\": [-0.27], \"yaxis\": \"y\"}, {\"alignmentgroup\": \"True\", \"hoverlabel\": {\"namelength\": 0}, \"hovertemplate\": \"symbol=HASI<br>portfolio=%{x}<br>percent=%{y}\", \"legendgroup\": \"HASI\", \"marker\": {\"color\": \"#FF6692\"}, \"name\": \"HASI\", \"offsetgroup\": \"HASI\", \"orientation\": \"v\", \"showlegend\": true, \"textposition\": \"auto\", \"type\": \"bar\", \"x\": [\"Electricity Wind\"], \"xaxis\": \"x\", \"y\": [0.77], \"yaxis\": \"y\"}, {\"alignmentgroup\": \"True\", \"hoverlabel\": {\"namelength\": 0}, \"hovertemplate\": \"symbol=VWDRY<br>portfolio=%{x}<br>percent=%{y}\", \"legendgroup\": \"VWDRY\", \"marker\": {\"color\": \"#B6E880\"}, \"name\": \"VWDRY\", \"offsetgroup\": \"VWDRY\", \"orientation\": \"v\", \"showlegend\": true, \"textposition\": \"auto\", \"type\": \"bar\", \"x\": [\"Electricity Wind\"], \"xaxis\": \"x\", \"y\": [0.13], \"yaxis\": \"y\"}, {\"alignmentgroup\": \"True\", \"hoverlabel\": {\"namelength\": 0}, \"hovertemplate\": \"symbol=GCTAF<br>portfolio=%{x}<br>percent=%{y}\", \"legendgroup\": \"GCTAF\", \"marker\": {\"color\": \"#FF97FF\"}, \"name\": \"GCTAF\", \"offsetgroup\": \"GCTAF\", \"orientation\": \"v\", \"showlegend\": true, \"textposition\": \"auto\", \"type\": \"bar\", \"x\": [\"Electricity Wind\"], \"xaxis\": \"x\", \"y\": [-1.53], \"yaxis\": \"y\"}, {\"alignmentgroup\": \"True\", \"hoverlabel\": {\"namelength\": 0}, \"hovertemplate\": \"symbol=TPIC<br>portfolio=%{x}<br>percent=%{y}\", \"legendgroup\": \"TPIC\", \"marker\": {\"color\": \"#FECB52\"}, \"name\": \"TPIC\", \"offsetgroup\": \"TPIC\", \"orientation\": \"v\", \"showlegend\": true, \"textposition\": \"auto\", \"type\": \"bar\", \"x\": [\"Electricity Wind\"], \"xaxis\": \"x\", \"y\": [-3.22], \"yaxis\": \"y\"}, {\"alignmentgroup\": \"True\", \"hoverlabel\": {\"namelength\": 0}, \"hovertemplate\": \"symbol=SWI<br>portfolio=%{x}<br>percent=%{y}\", \"legendgroup\": \"SWI\", \"marker\": {\"color\": \"#636efa\"}, \"name\": \"SWI\", \"offsetgroup\": \"SWI\", \"orientation\": \"v\", \"showlegend\": true, \"textposition\": \"auto\", \"type\": \"bar\", \"x\": [\"Electricity Wind\"], \"xaxis\": \"x\", \"y\": [1.14], \"yaxis\": \"y\"}, {\"alignmentgroup\": \"True\", \"hoverlabel\": {\"namelength\": 0}, \"hovertemplate\": \"symbol=DNNGY<br>portfolio=%{x}<br>percent=%{y}\", \"legendgroup\": \"DNNGY\", \"marker\": {\"color\": \"#EF553B\"}, \"name\": \"DNNGY\", \"offsetgroup\": \"DNNGY\", \"orientation\": \"v\", \"showlegend\": true, \"textposition\": \"auto\", \"type\": \"bar\", \"x\": [\"Electricity Wind\"], \"xaxis\": \"x\", \"y\": [-0.26], \"yaxis\": \"y\"}, {\"alignmentgroup\": \"True\", \"hoverlabel\": {\"namelength\": 0}, \"hovertemplate\": \"symbol=BWEN<br>portfolio=%{x}<br>percent=%{y}\", \"legendgroup\": \"BWEN\", \"marker\": {\"color\": \"#00cc96\"}, \"name\": \"BWEN\", \"offsetgroup\": \"BWEN\", \"orientation\": \"v\", \"showlegend\": true, \"textposition\": \"auto\", \"type\": \"bar\", \"x\": [\"Electricity Wind\"], \"xaxis\": \"x\", \"y\": [7.49], \"yaxis\": \"y\"}, {\"alignmentgroup\": \"True\", \"hoverlabel\": {\"namelength\": 0}, \"hovertemplate\": \"symbol=FAN<br>portfolio=%{x}<br>percent=%{y}\", \"legendgroup\": \"FAN\", \"marker\": {\"color\": \"#ab63fa\"}, \"name\": \"FAN\", \"offsetgroup\": \"FAN\", \"orientation\": \"v\", \"showlegend\": true, \"textposition\": \"auto\", \"type\": \"bar\", \"x\": [\"Electricity Wind\"], \"xaxis\": \"x\", \"y\": [0.56], \"yaxis\": \"y\"}, {\"alignmentgroup\": \"True\", \"hoverlabel\": {\"namelength\": 0}, \"hovertemplate\": \"symbol=IEMG<br>portfolio=%{x}<br>percent=%{y}\", \"legendgroup\": \"IEMG\", \"marker\": {\"color\": \"#FFA15A\"}, \"name\": \"IEMG\", \"offsetgroup\": \"IEMG\", \"orientation\": \"v\", \"showlegend\": true, \"textposition\": \"auto\", \"type\": \"bar\", \"x\": [\"Emerging Markets\"], \"xaxis\": \"x\", \"y\": [1.38], \"yaxis\": \"y\"}, {\"alignmentgroup\": \"True\", \"hoverlabel\": {\"namelength\": 0}, \"hovertemplate\": \"symbol=EMQQ<br>portfolio=%{x}<br>percent=%{y}\", \"legendgroup\": \"EMQQ\", \"marker\": {\"color\": \"#19d3f3\"}, \"name\": \"EMQQ\", \"offsetgroup\": \"EMQQ\", \"orientation\": \"v\", \"showlegend\": true, \"textposition\": \"auto\", \"type\": \"bar\", \"x\": [\"Emerging Markets\"], \"xaxis\": \"x\", \"y\": [2.78], \"yaxis\": \"y\"}, {\"alignmentgroup\": \"True\", \"hoverlabel\": {\"namelength\": 0}, \"hovertemplate\": \"symbol=EEM<br>portfolio=%{x}<br>percent=%{y}\", \"legendgroup\": \"EEM\", \"marker\": {\"color\": \"#FF6692\"}, \"name\": \"EEM\", \"offsetgroup\": \"EEM\", \"orientation\": \"v\", \"showlegend\": true, \"textposition\": \"auto\", \"type\": \"bar\", \"x\": [\"Emerging Markets\"], \"xaxis\": \"x\", \"y\": [1.38], \"yaxis\": \"y\"}, {\"alignmentgroup\": \"True\", \"hoverlabel\": {\"namelength\": 0}, \"hovertemplate\": \"symbol=EEMA<br>portfolio=%{x}<br>percent=%{y}\", \"legendgroup\": \"EEMA\", \"marker\": {\"color\": \"#B6E880\"}, \"name\": \"EEMA\", \"offsetgroup\": \"EEMA\", \"orientation\": \"v\", \"showlegend\": true, \"textposition\": \"auto\", \"type\": \"bar\", \"x\": [\"Emerging Markets\"], \"xaxis\": \"x\", \"y\": [1.15], \"yaxis\": \"y\"}, {\"alignmentgroup\": \"True\", \"hoverlabel\": {\"namelength\": 0}, \"hovertemplate\": \"symbol=VWO<br>portfolio=%{x}<br>percent=%{y}\", \"legendgroup\": \"VWO\", \"marker\": {\"color\": \"#FF97FF\"}, \"name\": \"VWO\", \"offsetgroup\": \"VWO\", \"orientation\": \"v\", \"showlegend\": true, \"textposition\": \"auto\", \"type\": \"bar\", \"x\": [\"Emerging Markets\"], \"xaxis\": \"x\", \"y\": [1.26], \"yaxis\": \"y\"}, {\"alignmentgroup\": \"True\", \"hoverlabel\": {\"namelength\": 0}, \"hovertemplate\": \"symbol=EEMO<br>portfolio=%{x}<br>percent=%{y}\", \"legendgroup\": \"EEMO\", \"marker\": {\"color\": \"#FECB52\"}, \"name\": \"EEMO\", \"offsetgroup\": \"EEMO\", \"orientation\": \"v\", \"showlegend\": true, \"textposition\": \"auto\", \"type\": \"bar\", \"x\": [\"Emerging Markets\"], \"xaxis\": \"x\", \"y\": [2.75], \"yaxis\": \"y\"}, {\"alignmentgroup\": \"True\", \"hoverlabel\": {\"namelength\": 0}, \"hovertemplate\": \"symbol=ORA<br>portfolio=%{x}<br>percent=%{y}\", \"legendgroup\": \"ORA\", \"marker\": {\"color\": \"#636efa\"}, \"name\": \"ORA\", \"offsetgroup\": \"ORA\", \"orientation\": \"v\", \"showlegend\": true, \"textposition\": \"auto\", \"type\": \"bar\", \"x\": [\"Energy Renewalbe\"], \"xaxis\": \"x\", \"y\": [1.68], \"yaxis\": \"y\"}, {\"alignmentgroup\": \"True\", \"hoverlabel\": {\"namelength\": 0}, \"hovertemplate\": \"symbol=BAM<br>portfolio=%{x}<br>percent=%{y}\", \"legendgroup\": \"BAM\", \"marker\": {\"color\": \"#EF553B\"}, \"name\": \"BAM\", \"offsetgroup\": \"BAM\", \"orientation\": \"v\", \"showlegend\": true, \"textposition\": \"auto\", \"type\": \"bar\", \"x\": [\"Energy Renewalbe\"], \"xaxis\": \"x\", \"y\": [3.45], \"yaxis\": \"y\"}, {\"alignmentgroup\": \"True\", \"hoverlabel\": {\"namelength\": 0}, \"hovertemplate\": \"symbol=PZD<br>portfolio=%{x}<br>percent=%{y}\", \"legendgroup\": \"PZD\", \"marker\": {\"color\": \"#00cc96\"}, \"name\": \"PZD\", \"offsetgroup\": \"PZD\", \"orientation\": \"v\", \"showlegend\": true, \"textposition\": \"auto\", \"type\": \"bar\", \"x\": [\"Energy Renewalbe\"], \"xaxis\": \"x\", \"y\": [1.79], \"yaxis\": \"y\"}, {\"alignmentgroup\": \"True\", \"hoverlabel\": {\"namelength\": 0}, \"hovertemplate\": \"symbol=AGR<br>portfolio=%{x}<br>percent=%{y}\", \"legendgroup\": \"AGR\", \"marker\": {\"color\": \"#ab63fa\"}, \"name\": \"AGR\", \"offsetgroup\": \"AGR\", \"orientation\": \"v\", \"showlegend\": true, \"textposition\": \"auto\", \"type\": \"bar\", \"x\": [\"Energy Renewalbe\"], \"xaxis\": \"x\", \"y\": [1.0], \"yaxis\": \"y\"}, {\"alignmentgroup\": \"True\", \"hoverlabel\": {\"namelength\": 0}, \"hovertemplate\": \"symbol=NEP<br>portfolio=%{x}<br>percent=%{y}\", \"legendgroup\": \"NEP\", \"marker\": {\"color\": \"#FFA15A\"}, \"name\": \"NEP\", \"offsetgroup\": \"NEP\", \"orientation\": \"v\", \"showlegend\": true, \"textposition\": \"auto\", \"type\": \"bar\", \"x\": [\"Energy Renewalbe\"], \"xaxis\": \"x\", \"y\": [1.13], \"yaxis\": \"y\"}, {\"alignmentgroup\": \"True\", \"hoverlabel\": {\"namelength\": 0}, \"hovertemplate\": \"symbol=CWEN<br>portfolio=%{x}<br>percent=%{y}\", \"legendgroup\": \"CWEN\", \"marker\": {\"color\": \"#19d3f3\"}, \"name\": \"CWEN\", \"offsetgroup\": \"CWEN\", \"orientation\": \"v\", \"showlegend\": true, \"textposition\": \"auto\", \"type\": \"bar\", \"x\": [\"Energy Renewalbe\"], \"xaxis\": \"x\", \"y\": [0.37], \"yaxis\": \"y\"}, {\"alignmentgroup\": \"True\", \"hoverlabel\": {\"namelength\": 0}, \"hovertemplate\": \"symbol=BEP<br>portfolio=%{x}<br>percent=%{y}\", \"legendgroup\": \"BEP\", \"marker\": {\"color\": \"#FF6692\"}, \"name\": \"BEP\", \"offsetgroup\": \"BEP\", \"orientation\": \"v\", \"showlegend\": true, \"textposition\": \"auto\", \"type\": \"bar\", \"x\": [\"Energy Renewalbe\"], \"xaxis\": \"x\", \"y\": [-1.1], \"yaxis\": \"y\"}, {\"alignmentgroup\": \"True\", \"hoverlabel\": {\"namelength\": 0}, \"hovertemplate\": \"symbol=NEE<br>portfolio=%{x}<br>percent=%{y}\", \"legendgroup\": \"NEE\", \"marker\": {\"color\": \"#B6E880\"}, \"name\": \"NEE\", \"offsetgroup\": \"NEE\", \"orientation\": \"v\", \"showlegend\": true, \"textposition\": \"auto\", \"type\": \"bar\", \"x\": [\"Energy Renewalbe\"], \"xaxis\": \"x\", \"y\": [1.46], \"yaxis\": \"y\"}, {\"alignmentgroup\": \"True\", \"hoverlabel\": {\"namelength\": 0}, \"hovertemplate\": \"symbol=BPY<br>portfolio=%{x}<br>percent=%{y}\", \"legendgroup\": \"BPY\", \"marker\": {\"color\": \"#FF97FF\"}, \"name\": \"BPY\", \"offsetgroup\": \"BPY\", \"orientation\": \"v\", \"showlegend\": true, \"textposition\": \"auto\", \"type\": \"bar\", \"x\": [\"Energy Renewalbe\"], \"xaxis\": \"x\", \"y\": [4.16], \"yaxis\": \"y\"}, {\"alignmentgroup\": \"True\", \"hoverlabel\": {\"namelength\": 0}, \"hovertemplate\": \"symbol=AZRE<br>portfolio=%{x}<br>percent=%{y}\", \"legendgroup\": \"AZRE\", \"marker\": {\"color\": \"#FECB52\"}, \"name\": \"AZRE\", \"offsetgroup\": \"AZRE\", \"orientation\": \"v\", \"showlegend\": true, \"textposition\": \"auto\", \"type\": \"bar\", \"x\": [\"Energy Renewalbe\"], \"xaxis\": \"x\", \"y\": [0.46], \"yaxis\": \"y\"}, {\"alignmentgroup\": \"True\", \"hoverlabel\": {\"namelength\": 0}, \"hovertemplate\": \"symbol=BIP<br>portfolio=%{x}<br>percent=%{y}\", \"legendgroup\": \"BIP\", \"marker\": {\"color\": \"#636efa\"}, \"name\": \"BIP\", \"offsetgroup\": \"BIP\", \"orientation\": \"v\", \"showlegend\": true, \"textposition\": \"auto\", \"type\": \"bar\", \"x\": [\"Energy Renewalbe\"], \"xaxis\": \"x\", \"y\": [2.02], \"yaxis\": \"y\"}, {\"alignmentgroup\": \"True\", \"hoverlabel\": {\"namelength\": 0}, \"hovertemplate\": \"symbol=ANTM<br>portfolio=%{x}<br>percent=%{y}\", \"legendgroup\": \"ANTM\", \"marker\": {\"color\": \"#EF553B\"}, \"name\": \"ANTM\", \"offsetgroup\": \"ANTM\", \"orientation\": \"v\", \"showlegend\": true, \"textposition\": \"auto\", \"type\": \"bar\", \"x\": [\"Healthcare\"], \"xaxis\": \"x\", \"y\": [1.06], \"yaxis\": \"y\"}, {\"alignmentgroup\": \"True\", \"hoverlabel\": {\"namelength\": 0}, \"hovertemplate\": \"symbol=HUM<br>portfolio=%{x}<br>percent=%{y}\", \"legendgroup\": \"HUM\", \"marker\": {\"color\": \"#00cc96\"}, \"name\": \"HUM\", \"offsetgroup\": \"HUM\", \"orientation\": \"v\", \"showlegend\": true, \"textposition\": \"auto\", \"type\": \"bar\", \"x\": [\"Healthcare\"], \"xaxis\": \"x\", \"y\": [0.92], \"yaxis\": \"y\"}, {\"alignmentgroup\": \"True\", \"hoverlabel\": {\"namelength\": 0}, \"hovertemplate\": \"symbol=UNH<br>portfolio=%{x}<br>percent=%{y}\", \"legendgroup\": \"UNH\", \"marker\": {\"color\": \"#ab63fa\"}, \"name\": \"UNH\", \"offsetgroup\": \"UNH\", \"orientation\": \"v\", \"showlegend\": true, \"textposition\": \"auto\", \"type\": \"bar\", \"x\": [\"Healthcare\"], \"xaxis\": \"x\", \"y\": [0.15], \"yaxis\": \"y\"}, {\"alignmentgroup\": \"True\", \"hoverlabel\": {\"namelength\": 0}, \"hovertemplate\": \"symbol=FHLC<br>portfolio=%{x}<br>percent=%{y}\", \"legendgroup\": \"FHLC\", \"marker\": {\"color\": \"#FFA15A\"}, \"name\": \"FHLC\", \"offsetgroup\": \"FHLC\", \"orientation\": \"v\", \"showlegend\": true, \"textposition\": \"auto\", \"type\": \"bar\", \"x\": [\"Healthcare\"], \"xaxis\": \"x\", \"y\": [1.63], \"yaxis\": \"y\"}, {\"alignmentgroup\": \"True\", \"hoverlabel\": {\"namelength\": 0}, \"hovertemplate\": \"symbol=CNC<br>portfolio=%{x}<br>percent=%{y}\", \"legendgroup\": \"CNC\", \"marker\": {\"color\": \"#19d3f3\"}, \"name\": \"CNC\", \"offsetgroup\": \"CNC\", \"orientation\": \"v\", \"showlegend\": true, \"textposition\": \"auto\", \"type\": \"bar\", \"x\": [\"Healthcare\"], \"xaxis\": \"x\", \"y\": [0.86], \"yaxis\": \"y\"}, {\"alignmentgroup\": \"True\", \"hoverlabel\": {\"namelength\": 0}, \"hovertemplate\": \"symbol=THC<br>portfolio=%{x}<br>percent=%{y}\", \"legendgroup\": \"THC\", \"marker\": {\"color\": \"#FF6692\"}, \"name\": \"THC\", \"offsetgroup\": \"THC\", \"orientation\": \"v\", \"showlegend\": true, \"textposition\": \"auto\", \"type\": \"bar\", \"x\": [\"Healthcare\"], \"xaxis\": \"x\", \"y\": [6.06], \"yaxis\": \"y\"}, {\"alignmentgroup\": \"True\", \"hoverlabel\": {\"namelength\": 0}, \"hovertemplate\": \"symbol=CI<br>portfolio=%{x}<br>percent=%{y}\", \"legendgroup\": \"CI\", \"marker\": {\"color\": \"#B6E880\"}, \"name\": \"CI\", \"offsetgroup\": \"CI\", \"orientation\": \"v\", \"showlegend\": true, \"textposition\": \"auto\", \"type\": \"bar\", \"x\": [\"Healthcare\"], \"xaxis\": \"x\", \"y\": [0.14], \"yaxis\": \"y\"}, {\"alignmentgroup\": \"True\", \"hoverlabel\": {\"namelength\": 0}, \"hovertemplate\": \"symbol=PHM<br>portfolio=%{x}<br>percent=%{y}\", \"legendgroup\": \"PHM\", \"marker\": {\"color\": \"#FF97FF\"}, \"name\": \"PHM\", \"offsetgroup\": \"PHM\", \"orientation\": \"v\", \"showlegend\": true, \"textposition\": \"auto\", \"type\": \"bar\", \"x\": [\"Home Construction\"], \"xaxis\": \"x\", \"y\": [3.78], \"yaxis\": \"y\"}, {\"alignmentgroup\": \"True\", \"hoverlabel\": {\"namelength\": 0}, \"hovertemplate\": \"symbol=ITB<br>portfolio=%{x}<br>percent=%{y}\", \"legendgroup\": \"ITB\", \"marker\": {\"color\": \"#FECB52\"}, \"name\": \"ITB\", \"offsetgroup\": \"ITB\", \"orientation\": \"v\", \"showlegend\": true, \"textposition\": \"auto\", \"type\": \"bar\", \"x\": [\"Home Construction\"], \"xaxis\": \"x\", \"y\": [3.12], \"yaxis\": \"y\"}, {\"alignmentgroup\": \"True\", \"hoverlabel\": {\"namelength\": 0}, \"hovertemplate\": \"symbol=LEN<br>portfolio=%{x}<br>percent=%{y}\", \"legendgroup\": \"LEN\", \"marker\": {\"color\": \"#636efa\"}, \"name\": \"LEN\", \"offsetgroup\": \"LEN\", \"orientation\": \"v\", \"showlegend\": true, \"textposition\": \"auto\", \"type\": \"bar\", \"x\": [\"Home Construction\"], \"xaxis\": \"x\", \"y\": [2.78], \"yaxis\": \"y\"}, {\"alignmentgroup\": \"True\", \"hoverlabel\": {\"namelength\": 0}, \"hovertemplate\": \"symbol=SSD<br>portfolio=%{x}<br>percent=%{y}\", \"legendgroup\": \"SSD\", \"marker\": {\"color\": \"#EF553B\"}, \"name\": \"SSD\", \"offsetgroup\": \"SSD\", \"orientation\": \"v\", \"showlegend\": true, \"textposition\": \"auto\", \"type\": \"bar\", \"x\": [\"Home Construction\"], \"xaxis\": \"x\", \"y\": [2.66], \"yaxis\": \"y\"}, {\"alignmentgroup\": \"True\", \"hoverlabel\": {\"namelength\": 0}, \"hovertemplate\": \"symbol=BLD<br>portfolio=%{x}<br>percent=%{y}\", \"legendgroup\": \"BLD\", \"marker\": {\"color\": \"#00cc96\"}, \"name\": \"BLD\", \"offsetgroup\": \"BLD\", \"orientation\": \"v\", \"showlegend\": true, \"textposition\": \"auto\", \"type\": \"bar\", \"x\": [\"Home Construction\"], \"xaxis\": \"x\", \"y\": [3.6], \"yaxis\": \"y\"}, {\"alignmentgroup\": \"True\", \"hoverlabel\": {\"namelength\": 0}, \"hovertemplate\": \"symbol=TOL<br>portfolio=%{x}<br>percent=%{y}\", \"legendgroup\": \"TOL\", \"marker\": {\"color\": \"#ab63fa\"}, \"name\": \"TOL\", \"offsetgroup\": \"TOL\", \"orientation\": \"v\", \"showlegend\": true, \"textposition\": \"auto\", \"type\": \"bar\", \"x\": [\"Home Construction\"], \"xaxis\": \"x\", \"y\": [3.14], \"yaxis\": \"y\"}, {\"alignmentgroup\": \"True\", \"hoverlabel\": {\"namelength\": 0}, \"hovertemplate\": \"symbol=MAS<br>portfolio=%{x}<br>percent=%{y}\", \"legendgroup\": \"MAS\", \"marker\": {\"color\": \"#FFA15A\"}, \"name\": \"MAS\", \"offsetgroup\": \"MAS\", \"orientation\": \"v\", \"showlegend\": true, \"textposition\": \"auto\", \"type\": \"bar\", \"x\": [\"Home Construction\"], \"xaxis\": \"x\", \"y\": [2.4], \"yaxis\": \"y\"}, {\"alignmentgroup\": \"True\", \"hoverlabel\": {\"namelength\": 0}, \"hovertemplate\": \"symbol=DHI<br>portfolio=%{x}<br>percent=%{y}\", \"legendgroup\": \"DHI\", \"marker\": {\"color\": \"#19d3f3\"}, \"name\": \"DHI\", \"offsetgroup\": \"DHI\", \"orientation\": \"v\", \"showlegend\": true, \"textposition\": \"auto\", \"type\": \"bar\", \"x\": [\"Home Construction\"], \"xaxis\": \"x\", \"y\": [3.39], \"yaxis\": \"y\"}, {\"alignmentgroup\": \"True\", \"hoverlabel\": {\"namelength\": 0}, \"hovertemplate\": \"symbol=NVR<br>portfolio=%{x}<br>percent=%{y}\", \"legendgroup\": \"NVR\", \"marker\": {\"color\": \"#FF6692\"}, \"name\": \"NVR\", \"offsetgroup\": \"NVR\", \"orientation\": \"v\", \"showlegend\": true, \"textposition\": \"auto\", \"type\": \"bar\", \"x\": [\"Home Construction\"], \"xaxis\": \"x\", \"y\": [3.73], \"yaxis\": \"y\"}, {\"alignmentgroup\": \"True\", \"hoverlabel\": {\"namelength\": 0}, \"hovertemplate\": \"symbol=KBH<br>portfolio=%{x}<br>percent=%{y}\", \"legendgroup\": \"KBH\", \"marker\": {\"color\": \"#B6E880\"}, \"name\": \"KBH\", \"offsetgroup\": \"KBH\", \"orientation\": \"v\", \"showlegend\": true, \"textposition\": \"auto\", \"type\": \"bar\", \"x\": [\"Home Decor\"], \"xaxis\": \"x\", \"y\": [3.87], \"yaxis\": \"y\"}, {\"alignmentgroup\": \"True\", \"hoverlabel\": {\"namelength\": 0}, \"hovertemplate\": \"symbol=HOME<br>portfolio=%{x}<br>percent=%{y}\", \"legendgroup\": \"HOME\", \"marker\": {\"color\": \"#FF97FF\"}, \"name\": \"HOME\", \"offsetgroup\": \"HOME\", \"orientation\": \"v\", \"showlegend\": true, \"textposition\": \"auto\", \"type\": \"bar\", \"x\": [\"Home Decor\"], \"xaxis\": \"x\", \"y\": [0.43], \"yaxis\": \"y\"}, {\"alignmentgroup\": \"True\", \"hoverlabel\": {\"namelength\": 0}, \"hovertemplate\": \"symbol=KIRK<br>portfolio=%{x}<br>percent=%{y}\", \"legendgroup\": \"KIRK\", \"marker\": {\"color\": \"#FECB52\"}, \"name\": \"KIRK\", \"offsetgroup\": \"KIRK\", \"orientation\": \"v\", \"showlegend\": true, \"textposition\": \"auto\", \"type\": \"bar\", \"x\": [\"Home Decor\"], \"xaxis\": \"x\", \"y\": [-0.99], \"yaxis\": \"y\"}, {\"alignmentgroup\": \"True\", \"hoverlabel\": {\"namelength\": 0}, \"hovertemplate\": \"symbol=FND<br>portfolio=%{x}<br>percent=%{y}\", \"legendgroup\": \"FND\", \"marker\": {\"color\": \"#636efa\"}, \"name\": \"FND\", \"offsetgroup\": \"FND\", \"orientation\": \"v\", \"showlegend\": true, \"textposition\": \"auto\", \"type\": \"bar\", \"x\": [\"Home Decor\"], \"xaxis\": \"x\", \"y\": [0.36], \"yaxis\": \"y\"}, {\"alignmentgroup\": \"True\", \"hoverlabel\": {\"namelength\": 0}, \"hovertemplate\": \"symbol=RH<br>portfolio=%{x}<br>percent=%{y}\", \"legendgroup\": \"RH\", \"marker\": {\"color\": \"#EF553B\"}, \"name\": \"RH\", \"offsetgroup\": \"RH\", \"orientation\": \"v\", \"showlegend\": true, \"textposition\": \"auto\", \"type\": \"bar\", \"x\": [\"Home Decor\"], \"xaxis\": \"x\", \"y\": [3.82], \"yaxis\": \"y\"}, {\"alignmentgroup\": \"True\", \"hoverlabel\": {\"namelength\": 0}, \"hovertemplate\": \"symbol=UFPI<br>portfolio=%{x}<br>percent=%{y}\", \"legendgroup\": \"UFPI\", \"marker\": {\"color\": \"#00cc96\"}, \"name\": \"UFPI\", \"offsetgroup\": \"UFPI\", \"orientation\": \"v\", \"showlegend\": true, \"textposition\": \"auto\", \"type\": \"bar\", \"x\": [\"Home Supplies\"], \"xaxis\": \"x\", \"y\": [3.28], \"yaxis\": \"y\"}, {\"alignmentgroup\": \"True\", \"hoverlabel\": {\"namelength\": 0}, \"hovertemplate\": \"symbol=LOW<br>portfolio=%{x}<br>percent=%{y}\", \"legendgroup\": \"LOW\", \"marker\": {\"color\": \"#ab63fa\"}, \"name\": \"LOW\", \"offsetgroup\": \"LOW\", \"orientation\": \"v\", \"showlegend\": true, \"textposition\": \"auto\", \"type\": \"bar\", \"x\": [\"Home Supplies\"], \"xaxis\": \"x\", \"y\": [1.3], \"yaxis\": \"y\"}, {\"alignmentgroup\": \"True\", \"hoverlabel\": {\"namelength\": 0}, \"hovertemplate\": \"symbol=ROCK<br>portfolio=%{x}<br>percent=%{y}\", \"legendgroup\": \"ROCK\", \"marker\": {\"color\": \"#FFA15A\"}, \"name\": \"ROCK\", \"offsetgroup\": \"ROCK\", \"orientation\": \"v\", \"showlegend\": true, \"textposition\": \"auto\", \"type\": \"bar\", \"x\": [\"Home Supplies\"], \"xaxis\": \"x\", \"y\": [2.53], \"yaxis\": \"y\"}, {\"alignmentgroup\": \"True\", \"hoverlabel\": {\"namelength\": 0}, \"hovertemplate\": \"symbol=TTNDY<br>portfolio=%{x}<br>percent=%{y}\", \"legendgroup\": \"TTNDY\", \"marker\": {\"color\": \"#19d3f3\"}, \"name\": \"TTNDY\", \"offsetgroup\": \"TTNDY\", \"orientation\": \"v\", \"showlegend\": true, \"textposition\": \"auto\", \"type\": \"bar\", \"x\": [\"Home Supplies\"], \"xaxis\": \"x\", \"y\": [1.52], \"yaxis\": \"y\"}, {\"alignmentgroup\": \"True\", \"hoverlabel\": {\"namelength\": 0}, \"hovertemplate\": \"symbol=ROK<br>portfolio=%{x}<br>percent=%{y}\", \"legendgroup\": \"ROK\", \"marker\": {\"color\": \"#FF6692\"}, \"name\": \"ROK\", \"offsetgroup\": \"ROK\", \"orientation\": \"v\", \"showlegend\": true, \"textposition\": \"auto\", \"type\": \"bar\", \"x\": [\"IOT\"], \"xaxis\": \"x\", \"y\": [3.32], \"yaxis\": \"y\"}, {\"alignmentgroup\": \"True\", \"hoverlabel\": {\"namelength\": 0}, \"hovertemplate\": \"symbol=SWIR<br>portfolio=%{x}<br>percent=%{y}\", \"legendgroup\": \"SWIR\", \"marker\": {\"color\": \"#B6E880\"}, \"name\": \"SWIR\", \"offsetgroup\": \"SWIR\", \"orientation\": \"v\", \"showlegend\": true, \"textposition\": \"auto\", \"type\": \"bar\", \"x\": [\"IOT\"], \"xaxis\": \"x\", \"y\": [3.01], \"yaxis\": \"y\"}, {\"alignmentgroup\": \"True\", \"hoverlabel\": {\"namelength\": 0}, \"hovertemplate\": \"symbol=ST<br>portfolio=%{x}<br>percent=%{y}\", \"legendgroup\": \"ST\", \"marker\": {\"color\": \"#FF97FF\"}, \"name\": \"ST\", \"offsetgroup\": \"ST\", \"orientation\": \"v\", \"showlegend\": true, \"textposition\": \"auto\", \"type\": \"bar\", \"x\": [\"IOT\"], \"xaxis\": \"x\", \"y\": [1.85], \"yaxis\": \"y\"}, {\"alignmentgroup\": \"True\", \"hoverlabel\": {\"namelength\": 0}, \"hovertemplate\": \"symbol=SNSR<br>portfolio=%{x}<br>percent=%{y}\", \"legendgroup\": \"SNSR\", \"marker\": {\"color\": \"#FECB52\"}, \"name\": \"SNSR\", \"offsetgroup\": \"SNSR\", \"orientation\": \"v\", \"showlegend\": true, \"textposition\": \"auto\", \"type\": \"bar\", \"x\": [\"IOT\"], \"xaxis\": \"x\", \"y\": [2.09], \"yaxis\": \"y\"}, {\"alignmentgroup\": \"True\", \"hoverlabel\": {\"namelength\": 0}, \"hovertemplate\": \"symbol=ROP<br>portfolio=%{x}<br>percent=%{y}\", \"legendgroup\": \"ROP\", \"marker\": {\"color\": \"#636efa\"}, \"name\": \"ROP\", \"offsetgroup\": \"ROP\", \"orientation\": \"v\", \"showlegend\": true, \"textposition\": \"auto\", \"type\": \"bar\", \"x\": [\"IOT\"], \"xaxis\": \"x\", \"y\": [2.29], \"yaxis\": \"y\"}, {\"alignmentgroup\": \"True\", \"hoverlabel\": {\"namelength\": 0}, \"hovertemplate\": \"symbol=IDCC<br>portfolio=%{x}<br>percent=%{y}\", \"legendgroup\": \"IDCC\", \"marker\": {\"color\": \"#EF553B\"}, \"name\": \"IDCC\", \"offsetgroup\": \"IDCC\", \"orientation\": \"v\", \"showlegend\": true, \"textposition\": \"auto\", \"type\": \"bar\", \"x\": [\"IOT\"], \"xaxis\": \"x\", \"y\": [1.42], \"yaxis\": \"y\"}, {\"alignmentgroup\": \"True\", \"hoverlabel\": {\"namelength\": 0}, \"hovertemplate\": \"symbol=DXCM<br>portfolio=%{x}<br>percent=%{y}\", \"legendgroup\": \"DXCM\", \"marker\": {\"color\": \"#00cc96\"}, \"name\": \"DXCM\", \"offsetgroup\": \"DXCM\", \"orientation\": \"v\", \"showlegend\": true, \"textposition\": \"auto\", \"type\": \"bar\", \"x\": [\"IOT\"], \"xaxis\": \"x\", \"y\": [0.31], \"yaxis\": \"y\"}, {\"alignmentgroup\": \"True\", \"hoverlabel\": {\"namelength\": 0}, \"hovertemplate\": \"symbol=DGII<br>portfolio=%{x}<br>percent=%{y}\", \"legendgroup\": \"DGII\", \"marker\": {\"color\": \"#ab63fa\"}, \"name\": \"DGII\", \"offsetgroup\": \"DGII\", \"orientation\": \"v\", \"showlegend\": true, \"textposition\": \"auto\", \"type\": \"bar\", \"x\": [\"IOT\"], \"xaxis\": \"x\", \"y\": [-4.08], \"yaxis\": \"y\"}, {\"alignmentgroup\": \"True\", \"hoverlabel\": {\"namelength\": 0}, \"hovertemplate\": \"symbol=PING<br>portfolio=%{x}<br>percent=%{y}\", \"legendgroup\": \"PING\", \"marker\": {\"color\": \"#FFA15A\"}, \"name\": \"PING\", \"offsetgroup\": \"PING\", \"orientation\": \"v\", \"showlegend\": true, \"textposition\": \"auto\", \"type\": \"bar\", \"x\": [\"IOT\"], \"xaxis\": \"x\", \"y\": [0.71], \"yaxis\": \"y\"}, {\"alignmentgroup\": \"True\", \"hoverlabel\": {\"namelength\": 0}, \"hovertemplate\": \"symbol=PI<br>portfolio=%{x}<br>percent=%{y}\", \"legendgroup\": \"PI\", \"marker\": {\"color\": \"#19d3f3\"}, \"name\": \"PI\", \"offsetgroup\": \"PI\", \"orientation\": \"v\", \"showlegend\": true, \"textposition\": \"auto\", \"type\": \"bar\", \"x\": [\"IOT\"], \"xaxis\": \"x\", \"y\": [3.14], \"yaxis\": \"y\"}, {\"alignmentgroup\": \"True\", \"hoverlabel\": {\"namelength\": 0}, \"hovertemplate\": \"symbol=ALRM<br>portfolio=%{x}<br>percent=%{y}\", \"legendgroup\": \"ALRM\", \"marker\": {\"color\": \"#FF6692\"}, \"name\": \"ALRM\", \"offsetgroup\": \"ALRM\", \"orientation\": \"v\", \"showlegend\": true, \"textposition\": \"auto\", \"type\": \"bar\", \"x\": [\"IOT\"], \"xaxis\": \"x\", \"y\": [-0.77], \"yaxis\": \"y\"}, {\"alignmentgroup\": \"True\", \"hoverlabel\": {\"namelength\": 0}, \"hovertemplate\": \"symbol=NPTN<br>portfolio=%{x}<br>percent=%{y}\", \"legendgroup\": \"NPTN\", \"marker\": {\"color\": \"#B6E880\"}, \"name\": \"NPTN\", \"offsetgroup\": \"NPTN\", \"orientation\": \"v\", \"showlegend\": true, \"textposition\": \"auto\", \"type\": \"bar\", \"x\": [\"IOT\"], \"xaxis\": \"x\", \"y\": [0.51], \"yaxis\": \"y\"}, {\"alignmentgroup\": \"True\", \"hoverlabel\": {\"namelength\": 0}, \"hovertemplate\": \"symbol=BOTZ<br>portfolio=%{x}<br>percent=%{y}\", \"legendgroup\": \"BOTZ\", \"marker\": {\"color\": \"#FF97FF\"}, \"name\": \"BOTZ\", \"offsetgroup\": \"BOTZ\", \"orientation\": \"v\", \"showlegend\": true, \"textposition\": \"auto\", \"type\": \"bar\", \"x\": [\"IOT\"], \"xaxis\": \"x\", \"y\": [1.87], \"yaxis\": \"y\"}, {\"alignmentgroup\": \"True\", \"hoverlabel\": {\"namelength\": 0}, \"hovertemplate\": \"symbol=HON<br>portfolio=%{x}<br>percent=%{y}\", \"legendgroup\": \"HON\", \"marker\": {\"color\": \"#FECB52\"}, \"name\": \"HON\", \"offsetgroup\": \"HON\", \"orientation\": \"v\", \"showlegend\": true, \"textposition\": \"auto\", \"type\": \"bar\", \"x\": [\"IOT\"], \"xaxis\": \"x\", \"y\": [2.8], \"yaxis\": \"y\"}, {\"alignmentgroup\": \"True\", \"hoverlabel\": {\"namelength\": 0}, \"hovertemplate\": \"symbol=JCI<br>portfolio=%{x}<br>percent=%{y}\", \"legendgroup\": \"JCI\", \"marker\": {\"color\": \"#636efa\"}, \"name\": \"JCI\", \"offsetgroup\": \"JCI\", \"orientation\": \"v\", \"showlegend\": true, \"textposition\": \"auto\", \"type\": \"bar\", \"x\": [\"IOT\"], \"xaxis\": \"x\", \"y\": [2.6], \"yaxis\": \"y\"}, {\"alignmentgroup\": \"True\", \"hoverlabel\": {\"namelength\": 0}, \"hovertemplate\": \"symbol=LTRX<br>portfolio=%{x}<br>percent=%{y}\", \"legendgroup\": \"LTRX\", \"marker\": {\"color\": \"#EF553B\"}, \"name\": \"LTRX\", \"offsetgroup\": \"LTRX\", \"orientation\": \"v\", \"showlegend\": true, \"textposition\": \"auto\", \"type\": \"bar\", \"x\": [\"IOT\"], \"xaxis\": \"x\", \"y\": [-4.84], \"yaxis\": \"y\"}, {\"alignmentgroup\": \"True\", \"hoverlabel\": {\"namelength\": 0}, \"hovertemplate\": \"symbol=APH<br>portfolio=%{x}<br>percent=%{y}\", \"legendgroup\": \"APH\", \"marker\": {\"color\": \"#00cc96\"}, \"name\": \"APH\", \"offsetgroup\": \"APH\", \"orientation\": \"v\", \"showlegend\": true, \"textposition\": \"auto\", \"type\": \"bar\", \"x\": [\"IOT\"], \"xaxis\": \"x\", \"y\": [2.86], \"yaxis\": \"y\"}, {\"alignmentgroup\": \"True\", \"hoverlabel\": {\"namelength\": 0}, \"hovertemplate\": \"symbol=MDLA<br>portfolio=%{x}<br>percent=%{y}\", \"legendgroup\": \"MDLA\", \"marker\": {\"color\": \"#ab63fa\"}, \"name\": \"MDLA\", \"offsetgroup\": \"MDLA\", \"orientation\": \"v\", \"showlegend\": true, \"textposition\": \"auto\", \"type\": \"bar\", \"x\": [\"IOT\"], \"xaxis\": \"x\", \"y\": [3.11], \"yaxis\": \"y\"}, {\"alignmentgroup\": \"True\", \"hoverlabel\": {\"namelength\": 0}, \"hovertemplate\": \"symbol=MPWR<br>portfolio=%{x}<br>percent=%{y}\", \"legendgroup\": \"MPWR\", \"marker\": {\"color\": \"#FFA15A\"}, \"name\": \"MPWR\", \"offsetgroup\": \"MPWR\", \"orientation\": \"v\", \"showlegend\": true, \"textposition\": \"auto\", \"type\": \"bar\", \"x\": [\"IOT\"], \"xaxis\": \"x\", \"y\": [-1.26], \"yaxis\": \"y\"}, {\"alignmentgroup\": \"True\", \"hoverlabel\": {\"namelength\": 0}, \"hovertemplate\": \"symbol=DCT<br>portfolio=%{x}<br>percent=%{y}\", \"legendgroup\": \"DCT\", \"marker\": {\"color\": \"#19d3f3\"}, \"name\": \"DCT\", \"offsetgroup\": \"DCT\", \"orientation\": \"v\", \"showlegend\": true, \"textposition\": \"auto\", \"type\": \"bar\", \"x\": [\"Insurance\"], \"xaxis\": \"x\", \"y\": [-1.92], \"yaxis\": \"y\"}, {\"alignmentgroup\": \"True\", \"hoverlabel\": {\"namelength\": 0}, \"hovertemplate\": \"symbol=LMND<br>portfolio=%{x}<br>percent=%{y}\", \"legendgroup\": \"LMND\", \"marker\": {\"color\": \"#FF6692\"}, \"name\": \"LMND\", \"offsetgroup\": \"LMND\", \"orientation\": \"v\", \"showlegend\": true, \"textposition\": \"auto\", \"type\": \"bar\", \"x\": [\"Insurance\"], \"xaxis\": \"x\", \"y\": [6.59], \"yaxis\": \"y\"}, {\"alignmentgroup\": \"True\", \"hoverlabel\": {\"namelength\": 0}, \"hovertemplate\": \"symbol=MRK<br>portfolio=%{x}<br>percent=%{y}\", \"legendgroup\": \"MRK\", \"marker\": {\"color\": \"#B6E880\"}, \"name\": \"MRK\", \"offsetgroup\": \"MRK\", \"orientation\": \"v\", \"showlegend\": true, \"textposition\": \"auto\", \"type\": \"bar\", \"x\": [\"Mega Capital\"], \"xaxis\": \"x\", \"y\": [2.12], \"yaxis\": \"y\"}, {\"alignmentgroup\": \"True\", \"hoverlabel\": {\"namelength\": 0}, \"hovertemplate\": \"symbol=DIS<br>portfolio=%{x}<br>percent=%{y}\", \"legendgroup\": \"DIS\", \"marker\": {\"color\": \"#FF97FF\"}, \"name\": \"DIS\", \"offsetgroup\": \"DIS\", \"orientation\": \"v\", \"showlegend\": true, \"textposition\": \"auto\", \"type\": \"bar\", \"x\": [\"Mega Capital\"], \"xaxis\": \"x\", \"y\": [2.87], \"yaxis\": \"y\"}, {\"alignmentgroup\": \"True\", \"hoverlabel\": {\"namelength\": 0}, \"hovertemplate\": \"symbol=GOOG<br>portfolio=%{x}<br>percent=%{y}\", \"legendgroup\": \"GOOG\", \"marker\": {\"color\": \"#FECB52\"}, \"name\": \"GOOG\", \"offsetgroup\": \"GOOG\", \"orientation\": \"v\", \"showlegend\": true, \"textposition\": \"auto\", \"type\": \"bar\", \"x\": [\"Mega Capital\"], \"xaxis\": \"x\", \"y\": [1.54], \"yaxis\": \"y\"}, {\"alignmentgroup\": \"True\", \"hoverlabel\": {\"namelength\": 0}, \"hovertemplate\": \"symbol=AMZN<br>portfolio=%{x}<br>percent=%{y}\", \"legendgroup\": \"AMZN\", \"marker\": {\"color\": \"#636efa\"}, \"name\": \"AMZN\", \"offsetgroup\": \"AMZN\", \"orientation\": \"v\", \"showlegend\": true, \"textposition\": \"auto\", \"type\": \"bar\", \"x\": [\"Mega Capital\"], \"xaxis\": \"x\", \"y\": [0.6], \"yaxis\": \"y\"}, {\"alignmentgroup\": \"True\", \"hoverlabel\": {\"namelength\": 0}, \"hovertemplate\": \"symbol=HD<br>portfolio=%{x}<br>percent=%{y}\", \"legendgroup\": \"HD\", \"marker\": {\"color\": \"#EF553B\"}, \"name\": \"HD\", \"offsetgroup\": \"HD\", \"orientation\": \"v\", \"showlegend\": true, \"textposition\": \"auto\", \"type\": \"bar\", \"x\": [\"Mega Capital\"], \"xaxis\": \"x\", \"y\": [0.82], \"yaxis\": \"y\"}, {\"alignmentgroup\": \"True\", \"hoverlabel\": {\"namelength\": 0}, \"hovertemplate\": \"symbol=BABA<br>portfolio=%{x}<br>percent=%{y}\", \"legendgroup\": \"BABA\", \"marker\": {\"color\": \"#00cc96\"}, \"name\": \"BABA\", \"offsetgroup\": \"BABA\", \"orientation\": \"v\", \"showlegend\": true, \"textposition\": \"auto\", \"type\": \"bar\", \"x\": [\"Mega Capital\"], \"xaxis\": \"x\", \"y\": [-1.34], \"yaxis\": \"y\"}, {\"alignmentgroup\": \"True\", \"hoverlabel\": {\"namelength\": 0}, \"hovertemplate\": \"symbol=AAPL<br>portfolio=%{x}<br>percent=%{y}\", \"legendgroup\": \"AAPL\", \"marker\": {\"color\": \"#ab63fa\"}, \"name\": \"AAPL\", \"offsetgroup\": \"AAPL\", \"orientation\": \"v\", \"showlegend\": true, \"textposition\": \"auto\", \"type\": \"bar\", \"x\": [\"Mega Capital\"], \"xaxis\": \"x\", \"y\": [0.06], \"yaxis\": \"y\"}, {\"alignmentgroup\": \"True\", \"hoverlabel\": {\"namelength\": 0}, \"hovertemplate\": \"symbol=MSFT<br>portfolio=%{x}<br>percent=%{y}\", \"legendgroup\": \"MSFT\", \"marker\": {\"color\": \"#FFA15A\"}, \"name\": \"MSFT\", \"offsetgroup\": \"MSFT\", \"orientation\": \"v\", \"showlegend\": true, \"textposition\": \"auto\", \"type\": \"bar\", \"x\": [\"Mega Capital\"], \"xaxis\": \"x\", \"y\": [0.6], \"yaxis\": \"y\"}, {\"alignmentgroup\": \"True\", \"hoverlabel\": {\"namelength\": 0}, \"hovertemplate\": \"symbol=JLL<br>portfolio=%{x}<br>percent=%{y}\", \"legendgroup\": \"JLL\", \"marker\": {\"color\": \"#19d3f3\"}, \"name\": \"JLL\", \"offsetgroup\": \"JLL\", \"orientation\": \"v\", \"showlegend\": true, \"textposition\": \"auto\", \"type\": \"bar\", \"x\": [\"REIT\"], \"xaxis\": \"x\", \"y\": [4.81], \"yaxis\": \"y\"}, {\"alignmentgroup\": \"True\", \"hoverlabel\": {\"namelength\": 0}, \"hovertemplate\": \"symbol=EQIX<br>portfolio=%{x}<br>percent=%{y}\", \"legendgroup\": \"EQIX\", \"marker\": {\"color\": \"#FF6692\"}, \"name\": \"EQIX\", \"offsetgroup\": \"EQIX\", \"orientation\": \"v\", \"showlegend\": true, \"textposition\": \"auto\", \"type\": \"bar\", \"x\": [\"REIT\"], \"xaxis\": \"x\", \"y\": [0.24], \"yaxis\": \"y\"}, {\"alignmentgroup\": \"True\", \"hoverlabel\": {\"namelength\": 0}, \"hovertemplate\": \"symbol=AGNC<br>portfolio=%{x}<br>percent=%{y}\", \"legendgroup\": \"AGNC\", \"marker\": {\"color\": \"#B6E880\"}, \"name\": \"AGNC\", \"offsetgroup\": \"AGNC\", \"orientation\": \"v\", \"showlegend\": true, \"textposition\": \"auto\", \"type\": \"bar\", \"x\": [\"REIT\"], \"xaxis\": \"x\", \"y\": [2.84], \"yaxis\": \"y\"}, {\"alignmentgroup\": \"True\", \"hoverlabel\": {\"namelength\": 0}, \"hovertemplate\": \"symbol=ORC<br>portfolio=%{x}<br>percent=%{y}\", \"legendgroup\": \"ORC\", \"marker\": {\"color\": \"#FF97FF\"}, \"name\": \"ORC\", \"offsetgroup\": \"ORC\", \"orientation\": \"v\", \"showlegend\": true, \"textposition\": \"auto\", \"type\": \"bar\", \"x\": [\"REIT\"], \"xaxis\": \"x\", \"y\": [1.92], \"yaxis\": \"y\"}, {\"alignmentgroup\": \"True\", \"hoverlabel\": {\"namelength\": 0}, \"hovertemplate\": \"symbol=TWO<br>portfolio=%{x}<br>percent=%{y}\", \"legendgroup\": \"TWO\", \"marker\": {\"color\": \"#FECB52\"}, \"name\": \"TWO\", \"offsetgroup\": \"TWO\", \"orientation\": \"v\", \"showlegend\": true, \"textposition\": \"auto\", \"type\": \"bar\", \"x\": [\"REIT\"], \"xaxis\": \"x\", \"y\": [5.53], \"yaxis\": \"y\"}, {\"alignmentgroup\": \"True\", \"hoverlabel\": {\"namelength\": 0}, \"hovertemplate\": \"symbol=UDR<br>portfolio=%{x}<br>percent=%{y}\", \"legendgroup\": \"UDR\", \"marker\": {\"color\": \"#636efa\"}, \"name\": \"UDR\", \"offsetgroup\": \"UDR\", \"orientation\": \"v\", \"showlegend\": true, \"textposition\": \"auto\", \"type\": \"bar\", \"x\": [\"REIT\"], \"xaxis\": \"x\", \"y\": [3.39], \"yaxis\": \"y\"}, {\"alignmentgroup\": \"True\", \"hoverlabel\": {\"namelength\": 0}, \"hovertemplate\": \"symbol=DX<br>portfolio=%{x}<br>percent=%{y}\", \"legendgroup\": \"DX\", \"marker\": {\"color\": \"#EF553B\"}, \"name\": \"DX\", \"offsetgroup\": \"DX\", \"orientation\": \"v\", \"showlegend\": true, \"textposition\": \"auto\", \"type\": \"bar\", \"x\": [\"REIT\"], \"xaxis\": \"x\", \"y\": [2.61], \"yaxis\": \"y\"}, {\"alignmentgroup\": \"True\", \"hoverlabel\": {\"namelength\": 0}, \"hovertemplate\": \"symbol=FTHM<br>portfolio=%{x}<br>percent=%{y}\", \"legendgroup\": \"FTHM\", \"marker\": {\"color\": \"#00cc96\"}, \"name\": \"FTHM\", \"offsetgroup\": \"FTHM\", \"orientation\": \"v\", \"showlegend\": true, \"textposition\": \"auto\", \"type\": \"bar\", \"x\": [\"REIT\"], \"xaxis\": \"x\", \"y\": [0.21], \"yaxis\": \"y\"}, {\"alignmentgroup\": \"True\", \"hoverlabel\": {\"namelength\": 0}, \"hovertemplate\": \"symbol=CONE<br>portfolio=%{x}<br>percent=%{y}\", \"legendgroup\": \"CONE\", \"marker\": {\"color\": \"#ab63fa\"}, \"name\": \"CONE\", \"offsetgroup\": \"CONE\", \"orientation\": \"v\", \"showlegend\": true, \"textposition\": \"auto\", \"type\": \"bar\", \"x\": [\"REIT\"], \"xaxis\": \"x\", \"y\": [1.83], \"yaxis\": \"y\"}, {\"alignmentgroup\": \"True\", \"hoverlabel\": {\"namelength\": 0}, \"hovertemplate\": \"symbol=SLG<br>portfolio=%{x}<br>percent=%{y}\", \"legendgroup\": \"SLG\", \"marker\": {\"color\": \"#FFA15A\"}, \"name\": \"SLG\", \"offsetgroup\": \"SLG\", \"orientation\": \"v\", \"showlegend\": true, \"textposition\": \"auto\", \"type\": \"bar\", \"x\": [\"REIT\"], \"xaxis\": \"x\", \"y\": [6.02], \"yaxis\": \"y\"}, {\"alignmentgroup\": \"True\", \"hoverlabel\": {\"namelength\": 0}, \"hovertemplate\": \"symbol=NLY<br>portfolio=%{x}<br>percent=%{y}\", \"legendgroup\": \"NLY\", \"marker\": {\"color\": \"#19d3f3\"}, \"name\": \"NLY\", \"offsetgroup\": \"NLY\", \"orientation\": \"v\", \"showlegend\": true, \"textposition\": \"auto\", \"type\": \"bar\", \"x\": [\"REIT\"], \"xaxis\": \"x\", \"y\": [3.49], \"yaxis\": \"y\"}, {\"alignmentgroup\": \"True\", \"hoverlabel\": {\"namelength\": 0}, \"hovertemplate\": \"symbol=ARR<br>portfolio=%{x}<br>percent=%{y}\", \"legendgroup\": \"ARR\", \"marker\": {\"color\": \"#FF6692\"}, \"name\": \"ARR\", \"offsetgroup\": \"ARR\", \"orientation\": \"v\", \"showlegend\": true, \"textposition\": \"auto\", \"type\": \"bar\", \"x\": [\"REIT\"], \"xaxis\": \"x\", \"y\": [0.35], \"yaxis\": \"y\"}, {\"alignmentgroup\": \"True\", \"hoverlabel\": {\"namelength\": 0}, \"hovertemplate\": \"symbol=BEKE<br>portfolio=%{x}<br>percent=%{y}\", \"legendgroup\": \"BEKE\", \"marker\": {\"color\": \"#B6E880\"}, \"name\": \"BEKE\", \"offsetgroup\": \"BEKE\", \"orientation\": \"v\", \"showlegend\": true, \"textposition\": \"auto\", \"type\": \"bar\", \"x\": [\"REIT\"], \"xaxis\": \"x\", \"y\": [4.02], \"yaxis\": \"y\"}, {\"alignmentgroup\": \"True\", \"hoverlabel\": {\"namelength\": 0}, \"hovertemplate\": \"symbol=AMT<br>portfolio=%{x}<br>percent=%{y}\", \"legendgroup\": \"AMT\", \"marker\": {\"color\": \"#FF97FF\"}, \"name\": \"AMT\", \"offsetgroup\": \"AMT\", \"orientation\": \"v\", \"showlegend\": true, \"textposition\": \"auto\", \"type\": \"bar\", \"x\": [\"REIT\"], \"xaxis\": \"x\", \"y\": [1.93], \"yaxis\": \"y\"}, {\"alignmentgroup\": \"True\", \"hoverlabel\": {\"namelength\": 0}, \"hovertemplate\": \"symbol=CCI<br>portfolio=%{x}<br>percent=%{y}\", \"legendgroup\": \"CCI\", \"marker\": {\"color\": \"#FECB52\"}, \"name\": \"CCI\", \"offsetgroup\": \"CCI\", \"orientation\": \"v\", \"showlegend\": true, \"textposition\": \"auto\", \"type\": \"bar\", \"x\": [\"REIT\"], \"xaxis\": \"x\", \"y\": [1.18], \"yaxis\": \"y\"}, {\"alignmentgroup\": \"True\", \"hoverlabel\": {\"namelength\": 0}, \"hovertemplate\": \"symbol=TXN<br>portfolio=%{x}<br>percent=%{y}\", \"legendgroup\": \"TXN\", \"marker\": {\"color\": \"#636efa\"}, \"name\": \"TXN\", \"offsetgroup\": \"TXN\", \"orientation\": \"v\", \"showlegend\": true, \"textposition\": \"auto\", \"type\": \"bar\", \"x\": [\"Semiconductors\"], \"xaxis\": \"x\", \"y\": [1.64], \"yaxis\": \"y\"}, {\"alignmentgroup\": \"True\", \"hoverlabel\": {\"namelength\": 0}, \"hovertemplate\": \"symbol=TSM<br>portfolio=%{x}<br>percent=%{y}\", \"legendgroup\": \"TSM\", \"marker\": {\"color\": \"#EF553B\"}, \"name\": \"TSM\", \"offsetgroup\": \"TSM\", \"orientation\": \"v\", \"showlegend\": true, \"textposition\": \"auto\", \"type\": \"bar\", \"x\": [\"Semiconductors\"], \"xaxis\": \"x\", \"y\": [3.28], \"yaxis\": \"y\"}, {\"alignmentgroup\": \"True\", \"hoverlabel\": {\"namelength\": 0}, \"hovertemplate\": \"symbol=AMD<br>portfolio=%{x}<br>percent=%{y}\", \"legendgroup\": \"AMD\", \"marker\": {\"color\": \"#00cc96\"}, \"name\": \"AMD\", \"offsetgroup\": \"AMD\", \"orientation\": \"v\", \"showlegend\": true, \"textposition\": \"auto\", \"type\": \"bar\", \"x\": [\"Semiconductors\"], \"xaxis\": \"x\", \"y\": [-0.26], \"yaxis\": \"y\"}, {\"alignmentgroup\": \"True\", \"hoverlabel\": {\"namelength\": 0}, \"hovertemplate\": \"symbol=AMKR<br>portfolio=%{x}<br>percent=%{y}\", \"legendgroup\": \"AMKR\", \"marker\": {\"color\": \"#ab63fa\"}, \"name\": \"AMKR\", \"offsetgroup\": \"AMKR\", \"orientation\": \"v\", \"showlegend\": true, \"textposition\": \"auto\", \"type\": \"bar\", \"x\": [\"Semiconductors\"], \"xaxis\": \"x\", \"y\": [1.68], \"yaxis\": \"y\"}, {\"alignmentgroup\": \"True\", \"hoverlabel\": {\"namelength\": 0}, \"hovertemplate\": \"symbol=QCOM<br>portfolio=%{x}<br>percent=%{y}\", \"legendgroup\": \"QCOM\", \"marker\": {\"color\": \"#FFA15A\"}, \"name\": \"QCOM\", \"offsetgroup\": \"QCOM\", \"orientation\": \"v\", \"showlegend\": true, \"textposition\": \"auto\", \"type\": \"bar\", \"x\": [\"Semiconductors\"], \"xaxis\": \"x\", \"y\": [0.36], \"yaxis\": \"y\"}, {\"alignmentgroup\": \"True\", \"hoverlabel\": {\"namelength\": 0}, \"hovertemplate\": \"symbol=LRCX<br>portfolio=%{x}<br>percent=%{y}\", \"legendgroup\": \"LRCX\", \"marker\": {\"color\": \"#19d3f3\"}, \"name\": \"LRCX\", \"offsetgroup\": \"LRCX\", \"orientation\": \"v\", \"showlegend\": true, \"textposition\": \"auto\", \"type\": \"bar\", \"x\": [\"Semiconductors\"], \"xaxis\": \"x\", \"y\": [2.16], \"yaxis\": \"y\"}, {\"alignmentgroup\": \"True\", \"hoverlabel\": {\"namelength\": 0}, \"hovertemplate\": \"symbol=KLAC<br>portfolio=%{x}<br>percent=%{y}\", \"legendgroup\": \"KLAC\", \"marker\": {\"color\": \"#FF6692\"}, \"name\": \"KLAC\", \"offsetgroup\": \"KLAC\", \"orientation\": \"v\", \"showlegend\": true, \"textposition\": \"auto\", \"type\": \"bar\", \"x\": [\"Semiconductors\"], \"xaxis\": \"x\", \"y\": [1.72], \"yaxis\": \"y\"}, {\"alignmentgroup\": \"True\", \"hoverlabel\": {\"namelength\": 0}, \"hovertemplate\": \"symbol=STX<br>portfolio=%{x}<br>percent=%{y}\", \"legendgroup\": \"STX\", \"marker\": {\"color\": \"#B6E880\"}, \"name\": \"STX\", \"offsetgroup\": \"STX\", \"orientation\": \"v\", \"showlegend\": true, \"textposition\": \"auto\", \"type\": \"bar\", \"x\": [\"Semiconductors\"], \"xaxis\": \"x\", \"y\": [3.56], \"yaxis\": \"y\"}, {\"alignmentgroup\": \"True\", \"hoverlabel\": {\"namelength\": 0}, \"hovertemplate\": \"symbol=NVDA<br>portfolio=%{x}<br>percent=%{y}\", \"legendgroup\": \"NVDA\", \"marker\": {\"color\": \"#FF97FF\"}, \"name\": \"NVDA\", \"offsetgroup\": \"NVDA\", \"orientation\": \"v\", \"showlegend\": true, \"textposition\": \"auto\", \"type\": \"bar\", \"x\": [\"Semiconductors\"], \"xaxis\": \"x\", \"y\": [-1.03], \"yaxis\": \"y\"}, {\"alignmentgroup\": \"True\", \"hoverlabel\": {\"namelength\": 0}, \"hovertemplate\": \"symbol=SWKS<br>portfolio=%{x}<br>percent=%{y}\", \"legendgroup\": \"SWKS\", \"marker\": {\"color\": \"#FECB52\"}, \"name\": \"SWKS\", \"offsetgroup\": \"SWKS\", \"orientation\": \"v\", \"showlegend\": true, \"textposition\": \"auto\", \"type\": \"bar\", \"x\": [\"Semiconductors\"], \"xaxis\": \"x\", \"y\": [0.66], \"yaxis\": \"y\"}, {\"alignmentgroup\": \"True\", \"hoverlabel\": {\"namelength\": 0}, \"hovertemplate\": \"symbol=MU<br>portfolio=%{x}<br>percent=%{y}\", \"legendgroup\": \"MU\", \"marker\": {\"color\": \"#636efa\"}, \"name\": \"MU\", \"offsetgroup\": \"MU\", \"orientation\": \"v\", \"showlegend\": true, \"textposition\": \"auto\", \"type\": \"bar\", \"x\": [\"Semiconductors\"], \"xaxis\": \"x\", \"y\": [3.42], \"yaxis\": \"y\"}, {\"alignmentgroup\": \"True\", \"hoverlabel\": {\"namelength\": 0}, \"hovertemplate\": \"symbol=GSL<br>portfolio=%{x}<br>percent=%{y}\", \"legendgroup\": \"GSL\", \"marker\": {\"color\": \"#EF553B\"}, \"name\": \"GSL\", \"offsetgroup\": \"GSL\", \"orientation\": \"v\", \"showlegend\": true, \"textposition\": \"auto\", \"type\": \"bar\", \"x\": [\"Shipping\"], \"xaxis\": \"x\", \"y\": [0.0], \"yaxis\": \"y\"}, {\"alignmentgroup\": \"True\", \"hoverlabel\": {\"namelength\": 0}, \"hovertemplate\": \"symbol=CPLP<br>portfolio=%{x}<br>percent=%{y}\", \"legendgroup\": \"CPLP\", \"marker\": {\"color\": \"#00cc96\"}, \"name\": \"CPLP\", \"offsetgroup\": \"CPLP\", \"orientation\": \"v\", \"showlegend\": true, \"textposition\": \"auto\", \"type\": \"bar\", \"x\": [\"Shipping\"], \"xaxis\": \"x\", \"y\": [2.93], \"yaxis\": \"y\"}, {\"alignmentgroup\": \"True\", \"hoverlabel\": {\"namelength\": 0}, \"hovertemplate\": \"symbol=ATCO<br>portfolio=%{x}<br>percent=%{y}\", \"legendgroup\": \"ATCO\", \"marker\": {\"color\": \"#ab63fa\"}, \"name\": \"ATCO\", \"offsetgroup\": \"ATCO\", \"orientation\": \"v\", \"showlegend\": true, \"textposition\": \"auto\", \"type\": \"bar\", \"x\": [\"Shipping\"], \"xaxis\": \"x\", \"y\": [5.05], \"yaxis\": \"y\"}, {\"alignmentgroup\": \"True\", \"hoverlabel\": {\"namelength\": 0}, \"hovertemplate\": \"symbol=CMRE<br>portfolio=%{x}<br>percent=%{y}\", \"legendgroup\": \"CMRE\", \"marker\": {\"color\": \"#FFA15A\"}, \"name\": \"CMRE\", \"offsetgroup\": \"CMRE\", \"orientation\": \"v\", \"showlegend\": true, \"textposition\": \"auto\", \"type\": \"bar\", \"x\": [\"Shipping\"], \"xaxis\": \"x\", \"y\": [3.57], \"yaxis\": \"y\"}, {\"alignmentgroup\": \"True\", \"hoverlabel\": {\"namelength\": 0}, \"hovertemplate\": \"symbol=PXS<br>portfolio=%{x}<br>percent=%{y}\", \"legendgroup\": \"PXS\", \"marker\": {\"color\": \"#19d3f3\"}, \"name\": \"PXS\", \"offsetgroup\": \"PXS\", \"orientation\": \"v\", \"showlegend\": true, \"textposition\": \"auto\", \"type\": \"bar\", \"x\": [\"Shipping\"], \"xaxis\": \"x\", \"y\": [6.31], \"yaxis\": \"y\"}, {\"alignmentgroup\": \"True\", \"hoverlabel\": {\"namelength\": 0}, \"hovertemplate\": \"symbol=DAC<br>portfolio=%{x}<br>percent=%{y}\", \"legendgroup\": \"DAC\", \"marker\": {\"color\": \"#FF6692\"}, \"name\": \"DAC\", \"offsetgroup\": \"DAC\", \"orientation\": \"v\", \"showlegend\": true, \"textposition\": \"auto\", \"type\": \"bar\", \"x\": [\"Shipping\"], \"xaxis\": \"x\", \"y\": [6.36], \"yaxis\": \"y\"}, {\"alignmentgroup\": \"True\", \"hoverlabel\": {\"namelength\": 0}, \"hovertemplate\": \"symbol=DAL<br>portfolio=%{x}<br>percent=%{y}\", \"legendgroup\": \"DAL\", \"marker\": {\"color\": \"#B6E880\"}, \"name\": \"DAL\", \"offsetgroup\": \"DAL\", \"orientation\": \"v\", \"showlegend\": true, \"textposition\": \"auto\", \"type\": \"bar\", \"x\": [\"Travel\"], \"xaxis\": \"x\", \"y\": [6.97], \"yaxis\": \"y\"}, {\"alignmentgroup\": \"True\", \"hoverlabel\": {\"namelength\": 0}, \"hovertemplate\": \"symbol=TZOO<br>portfolio=%{x}<br>percent=%{y}\", \"legendgroup\": \"TZOO\", \"marker\": {\"color\": \"#FF97FF\"}, \"name\": \"TZOO\", \"offsetgroup\": \"TZOO\", \"orientation\": \"v\", \"showlegend\": true, \"textposition\": \"auto\", \"type\": \"bar\", \"x\": [\"Travel\"], \"xaxis\": \"x\", \"y\": [4.65], \"yaxis\": \"y\"}, {\"alignmentgroup\": \"True\", \"hoverlabel\": {\"namelength\": 0}, \"hovertemplate\": \"symbol=NCLH<br>portfolio=%{x}<br>percent=%{y}\", \"legendgroup\": \"NCLH\", \"marker\": {\"color\": \"#FECB52\"}, \"name\": \"NCLH\", \"offsetgroup\": \"NCLH\", \"orientation\": \"v\", \"showlegend\": true, \"textposition\": \"auto\", \"type\": \"bar\", \"x\": [\"Travel\"], \"xaxis\": \"x\", \"y\": [6.73], \"yaxis\": \"y\"}, {\"alignmentgroup\": \"True\", \"hoverlabel\": {\"namelength\": 0}, \"hovertemplate\": \"symbol=EXPE<br>portfolio=%{x}<br>percent=%{y}\", \"legendgroup\": \"EXPE\", \"marker\": {\"color\": \"#636efa\"}, \"name\": \"EXPE\", \"offsetgroup\": \"EXPE\", \"orientation\": \"v\", \"showlegend\": true, \"textposition\": \"auto\", \"type\": \"bar\", \"x\": [\"Travel\"], \"xaxis\": \"x\", \"y\": [5.91], \"yaxis\": \"y\"}, {\"alignmentgroup\": \"True\", \"hoverlabel\": {\"namelength\": 0}, \"hovertemplate\": \"symbol=SABR<br>portfolio=%{x}<br>percent=%{y}\", \"legendgroup\": \"SABR\", \"marker\": {\"color\": \"#EF553B\"}, \"name\": \"SABR\", \"offsetgroup\": \"SABR\", \"orientation\": \"v\", \"showlegend\": true, \"textposition\": \"auto\", \"type\": \"bar\", \"x\": [\"Travel\"], \"xaxis\": \"x\", \"y\": [9.7], \"yaxis\": \"y\"}, {\"alignmentgroup\": \"True\", \"hoverlabel\": {\"namelength\": 0}, \"hovertemplate\": \"symbol=RCL<br>portfolio=%{x}<br>percent=%{y}\", \"legendgroup\": \"RCL\", \"marker\": {\"color\": \"#00cc96\"}, \"name\": \"RCL\", \"offsetgroup\": \"RCL\", \"orientation\": \"v\", \"showlegend\": true, \"textposition\": \"auto\", \"type\": \"bar\", \"x\": [\"Travel\"], \"xaxis\": \"x\", \"y\": [3.76], \"yaxis\": \"y\"}, {\"alignmentgroup\": \"True\", \"hoverlabel\": {\"namelength\": 0}, \"hovertemplate\": \"symbol=MMYT<br>portfolio=%{x}<br>percent=%{y}\", \"legendgroup\": \"MMYT\", \"marker\": {\"color\": \"#ab63fa\"}, \"name\": \"MMYT\", \"offsetgroup\": \"MMYT\", \"orientation\": \"v\", \"showlegend\": true, \"textposition\": \"auto\", \"type\": \"bar\", \"x\": [\"Travel\"], \"xaxis\": \"x\", \"y\": [3.5], \"yaxis\": \"y\"}, {\"alignmentgroup\": \"True\", \"hoverlabel\": {\"namelength\": 0}, \"hovertemplate\": \"symbol=CCL<br>portfolio=%{x}<br>percent=%{y}\", \"legendgroup\": \"CCL\", \"marker\": {\"color\": \"#FFA15A\"}, \"name\": \"CCL\", \"offsetgroup\": \"CCL\", \"orientation\": \"v\", \"showlegend\": true, \"textposition\": \"auto\", \"type\": \"bar\", \"x\": [\"Travel\"], \"xaxis\": \"x\", \"y\": [7.34], \"yaxis\": \"y\"}, {\"alignmentgroup\": \"True\", \"hoverlabel\": {\"namelength\": 0}, \"hovertemplate\": \"symbol=TRIP<br>portfolio=%{x}<br>percent=%{y}\", \"legendgroup\": \"TRIP\", \"marker\": {\"color\": \"#19d3f3\"}, \"name\": \"TRIP\", \"offsetgroup\": \"TRIP\", \"orientation\": \"v\", \"showlegend\": true, \"textposition\": \"auto\", \"type\": \"bar\", \"x\": [\"Travel\"], \"xaxis\": \"x\", \"y\": [7.92], \"yaxis\": \"y\"}, {\"alignmentgroup\": \"True\", \"hoverlabel\": {\"namelength\": 0}, \"hovertemplate\": \"symbol=LUV<br>portfolio=%{x}<br>percent=%{y}\", \"legendgroup\": \"LUV\", \"marker\": {\"color\": \"#FF6692\"}, \"name\": \"LUV\", \"offsetgroup\": \"LUV\", \"orientation\": \"v\", \"showlegend\": true, \"textposition\": \"auto\", \"type\": \"bar\", \"x\": [\"Travel\"], \"xaxis\": \"x\", \"y\": [5.79], \"yaxis\": \"y\"}, {\"alignmentgroup\": \"True\", \"hoverlabel\": {\"namelength\": 0}, \"hovertemplate\": \"symbol=BKNG<br>portfolio=%{x}<br>percent=%{y}\", \"legendgroup\": \"BKNG\", \"marker\": {\"color\": \"#B6E880\"}, \"name\": \"BKNG\", \"offsetgroup\": \"BKNG\", \"orientation\": \"v\", \"showlegend\": true, \"textposition\": \"auto\", \"type\": \"bar\", \"x\": [\"Travel\"], \"xaxis\": \"x\", \"y\": [4.58], \"yaxis\": \"y\"}, {\"alignmentgroup\": \"True\", \"hoverlabel\": {\"namelength\": 0}, \"hovertemplate\": \"symbol=JETS<br>portfolio=%{x}<br>percent=%{y}\", \"legendgroup\": \"JETS\", \"marker\": {\"color\": \"#FF97FF\"}, \"name\": \"JETS\", \"offsetgroup\": \"JETS\", \"orientation\": \"v\", \"showlegend\": true, \"textposition\": \"auto\", \"type\": \"bar\", \"x\": [\"Travel\"], \"xaxis\": \"x\", \"y\": [5.33], \"yaxis\": \"y\"}, {\"alignmentgroup\": \"True\", \"hoverlabel\": {\"namelength\": 0}, \"hovertemplate\": \"symbol=UAL<br>portfolio=%{x}<br>percent=%{y}\", \"legendgroup\": \"UAL\", \"marker\": {\"color\": \"#FECB52\"}, \"name\": \"UAL\", \"offsetgroup\": \"UAL\", \"orientation\": \"v\", \"showlegend\": true, \"textposition\": \"auto\", \"type\": \"bar\", \"x\": [\"Travel\"], \"xaxis\": \"x\", \"y\": [6.37], \"yaxis\": \"y\"}, {\"alignmentgroup\": \"True\", \"hoverlabel\": {\"namelength\": 0}, \"hovertemplate\": \"symbol=EFNL<br>portfolio=%{x}<br>percent=%{y}\", \"legendgroup\": \"EFNL\", \"marker\": {\"color\": \"#636efa\"}, \"name\": \"EFNL\", \"offsetgroup\": \"EFNL\", \"orientation\": \"v\", \"showlegend\": true, \"textposition\": \"auto\", \"type\": \"bar\", \"x\": [\"World Stock Markets\"], \"xaxis\": \"x\", \"y\": [0.76], \"yaxis\": \"y\"}, {\"alignmentgroup\": \"True\", \"hoverlabel\": {\"namelength\": 0}, \"hovertemplate\": \"symbol=EDEN<br>portfolio=%{x}<br>percent=%{y}\", \"legendgroup\": \"EDEN\", \"marker\": {\"color\": \"#EF553B\"}, \"name\": \"EDEN\", \"offsetgroup\": \"EDEN\", \"orientation\": \"v\", \"showlegend\": true, \"textposition\": \"auto\", \"type\": \"bar\", \"x\": [\"World Stock Markets\"], \"xaxis\": \"x\", \"y\": [0.79], \"yaxis\": \"y\"}, {\"alignmentgroup\": \"True\", \"hoverlabel\": {\"namelength\": 0}, \"hovertemplate\": \"symbol=EWY<br>portfolio=%{x}<br>percent=%{y}\", \"legendgroup\": \"EWY\", \"marker\": {\"color\": \"#00cc96\"}, \"name\": \"EWY\", \"offsetgroup\": \"EWY\", \"orientation\": \"v\", \"showlegend\": true, \"textposition\": \"auto\", \"type\": \"bar\", \"x\": [\"World Stock Markets\"], \"xaxis\": \"x\", \"y\": [2.44], \"yaxis\": \"y\"}, {\"alignmentgroup\": \"True\", \"hoverlabel\": {\"namelength\": 0}, \"hovertemplate\": \"symbol=EWT<br>portfolio=%{x}<br>percent=%{y}\", \"legendgroup\": \"EWT\", \"marker\": {\"color\": \"#ab63fa\"}, \"name\": \"EWT\", \"offsetgroup\": \"EWT\", \"orientation\": \"v\", \"showlegend\": true, \"textposition\": \"auto\", \"type\": \"bar\", \"x\": [\"World Stock Markets\"], \"xaxis\": \"x\", \"y\": [1.34], \"yaxis\": \"y\"}, {\"alignmentgroup\": \"True\", \"hoverlabel\": {\"namelength\": 0}, \"hovertemplate\": \"symbol=EWO<br>portfolio=%{x}<br>percent=%{y}\", \"legendgroup\": \"EWO\", \"marker\": {\"color\": \"#FFA15A\"}, \"name\": \"EWO\", \"offsetgroup\": \"EWO\", \"orientation\": \"v\", \"showlegend\": true, \"textposition\": \"auto\", \"type\": \"bar\", \"x\": [\"World Stock Markets\"], \"xaxis\": \"x\", \"y\": [2.34], \"yaxis\": \"y\"}, {\"alignmentgroup\": \"True\", \"hoverlabel\": {\"namelength\": 0}, \"hovertemplate\": \"symbol=EWN<br>portfolio=%{x}<br>percent=%{y}\", \"legendgroup\": \"EWN\", \"marker\": {\"color\": \"#19d3f3\"}, \"name\": \"EWN\", \"offsetgroup\": \"EWN\", \"orientation\": \"v\", \"showlegend\": true, \"textposition\": \"auto\", \"type\": \"bar\", \"x\": [\"World Stock Markets\"], \"xaxis\": \"x\", \"y\": [1.51], \"yaxis\": \"y\"}, {\"alignmentgroup\": \"True\", \"hoverlabel\": {\"namelength\": 0}, \"hovertemplate\": \"symbol=EIRL<br>portfolio=%{x}<br>percent=%{y}\", \"legendgroup\": \"EIRL\", \"marker\": {\"color\": \"#FF6692\"}, \"name\": \"EIRL\", \"offsetgroup\": \"EIRL\", \"orientation\": \"v\", \"showlegend\": true, \"textposition\": \"auto\", \"type\": \"bar\", \"x\": [\"World Stock Markets\"], \"xaxis\": \"x\", \"y\": [1.63], \"yaxis\": \"y\"}, {\"alignmentgroup\": \"True\", \"hoverlabel\": {\"namelength\": 0}, \"hovertemplate\": \"symbol=GXC<br>portfolio=%{x}<br>percent=%{y}\", \"legendgroup\": \"GXC\", \"marker\": {\"color\": \"#B6E880\"}, \"name\": \"GXC\", \"offsetgroup\": \"GXC\", \"orientation\": \"v\", \"showlegend\": true, \"textposition\": \"auto\", \"type\": \"bar\", \"x\": [\"World Stock Markets\"], \"xaxis\": \"x\", \"y\": [0.78], \"yaxis\": \"y\"}, {\"alignmentgroup\": \"True\", \"hoverlabel\": {\"namelength\": 0}, \"hovertemplate\": \"symbol=EWK<br>portfolio=%{x}<br>percent=%{y}\", \"legendgroup\": \"EWK\", \"marker\": {\"color\": \"#FF97FF\"}, \"name\": \"EWK\", \"offsetgroup\": \"EWK\", \"orientation\": \"v\", \"showlegend\": true, \"textposition\": \"auto\", \"type\": \"bar\", \"x\": [\"World Stock Markets\"], \"xaxis\": \"x\", \"y\": [1.58], \"yaxis\": \"y\"}, {\"alignmentgroup\": \"True\", \"hoverlabel\": {\"namelength\": 0}, \"hovertemplate\": \"symbol=REGRF<br>portfolio=%{x}<br>percent=%{y}\", \"legendgroup\": \"REGRF\", \"marker\": {\"color\": \"#FECB52\"}, \"name\": \"REGRF\", \"offsetgroup\": \"REGRF\", \"orientation\": \"v\", \"showlegend\": true, \"textposition\": \"auto\", \"type\": \"bar\", \"x\": [null], \"xaxis\": \"x\", \"y\": [null], \"yaxis\": \"y\"}],\n",
       "                        {\"barmode\": \"relative\", \"legend\": {\"title\": {\"text\": \"symbol\"}, \"tracegroupgap\": 0}, \"template\": {\"data\": {\"bar\": [{\"error_x\": {\"color\": \"#2a3f5f\"}, \"error_y\": {\"color\": \"#2a3f5f\"}, \"marker\": {\"line\": {\"color\": \"#E5ECF6\", \"width\": 0.5}}, \"type\": \"bar\"}], \"barpolar\": [{\"marker\": {\"line\": {\"color\": \"#E5ECF6\", \"width\": 0.5}}, \"type\": \"barpolar\"}], \"carpet\": [{\"aaxis\": {\"endlinecolor\": \"#2a3f5f\", \"gridcolor\": \"white\", \"linecolor\": \"white\", \"minorgridcolor\": \"white\", \"startlinecolor\": \"#2a3f5f\"}, \"baxis\": {\"endlinecolor\": \"#2a3f5f\", \"gridcolor\": \"white\", \"linecolor\": \"white\", \"minorgridcolor\": \"white\", \"startlinecolor\": \"#2a3f5f\"}, \"type\": \"carpet\"}], \"choropleth\": [{\"colorbar\": {\"outlinewidth\": 0, \"ticks\": \"\"}, \"type\": \"choropleth\"}], \"contour\": [{\"colorbar\": {\"outlinewidth\": 0, \"ticks\": \"\"}, \"colorscale\": [[0.0, \"#0d0887\"], [0.1111111111111111, \"#46039f\"], [0.2222222222222222, \"#7201a8\"], [0.3333333333333333, \"#9c179e\"], [0.4444444444444444, \"#bd3786\"], [0.5555555555555556, \"#d8576b\"], [0.6666666666666666, \"#ed7953\"], [0.7777777777777778, \"#fb9f3a\"], [0.8888888888888888, \"#fdca26\"], [1.0, \"#f0f921\"]], \"type\": \"contour\"}], \"contourcarpet\": [{\"colorbar\": {\"outlinewidth\": 0, \"ticks\": \"\"}, \"type\": \"contourcarpet\"}], \"heatmap\": [{\"colorbar\": {\"outlinewidth\": 0, \"ticks\": \"\"}, \"colorscale\": [[0.0, \"#0d0887\"], [0.1111111111111111, \"#46039f\"], [0.2222222222222222, \"#7201a8\"], [0.3333333333333333, \"#9c179e\"], [0.4444444444444444, \"#bd3786\"], [0.5555555555555556, \"#d8576b\"], [0.6666666666666666, \"#ed7953\"], [0.7777777777777778, \"#fb9f3a\"], [0.8888888888888888, \"#fdca26\"], [1.0, \"#f0f921\"]], \"type\": \"heatmap\"}], \"heatmapgl\": [{\"colorbar\": {\"outlinewidth\": 0, \"ticks\": \"\"}, \"colorscale\": [[0.0, \"#0d0887\"], [0.1111111111111111, \"#46039f\"], [0.2222222222222222, \"#7201a8\"], [0.3333333333333333, \"#9c179e\"], [0.4444444444444444, \"#bd3786\"], [0.5555555555555556, \"#d8576b\"], [0.6666666666666666, \"#ed7953\"], [0.7777777777777778, \"#fb9f3a\"], [0.8888888888888888, \"#fdca26\"], [1.0, \"#f0f921\"]], \"type\": \"heatmapgl\"}], \"histogram\": [{\"marker\": {\"colorbar\": {\"outlinewidth\": 0, \"ticks\": \"\"}}, \"type\": \"histogram\"}], \"histogram2d\": [{\"colorbar\": {\"outlinewidth\": 0, \"ticks\": \"\"}, \"colorscale\": [[0.0, \"#0d0887\"], [0.1111111111111111, \"#46039f\"], [0.2222222222222222, \"#7201a8\"], [0.3333333333333333, \"#9c179e\"], [0.4444444444444444, \"#bd3786\"], [0.5555555555555556, \"#d8576b\"], [0.6666666666666666, \"#ed7953\"], [0.7777777777777778, \"#fb9f3a\"], [0.8888888888888888, \"#fdca26\"], [1.0, \"#f0f921\"]], \"type\": \"histogram2d\"}], \"histogram2dcontour\": [{\"colorbar\": {\"outlinewidth\": 0, \"ticks\": \"\"}, \"colorscale\": [[0.0, \"#0d0887\"], [0.1111111111111111, \"#46039f\"], [0.2222222222222222, \"#7201a8\"], [0.3333333333333333, \"#9c179e\"], [0.4444444444444444, \"#bd3786\"], [0.5555555555555556, \"#d8576b\"], [0.6666666666666666, \"#ed7953\"], [0.7777777777777778, \"#fb9f3a\"], [0.8888888888888888, \"#fdca26\"], [1.0, \"#f0f921\"]], \"type\": \"histogram2dcontour\"}], \"mesh3d\": [{\"colorbar\": {\"outlinewidth\": 0, \"ticks\": \"\"}, \"type\": \"mesh3d\"}], \"parcoords\": [{\"line\": {\"colorbar\": {\"outlinewidth\": 0, \"ticks\": \"\"}}, \"type\": \"parcoords\"}], \"pie\": [{\"automargin\": true, \"type\": \"pie\"}], \"scatter\": [{\"marker\": {\"colorbar\": {\"outlinewidth\": 0, \"ticks\": \"\"}}, \"type\": \"scatter\"}], \"scatter3d\": [{\"line\": {\"colorbar\": {\"outlinewidth\": 0, \"ticks\": \"\"}}, \"marker\": {\"colorbar\": {\"outlinewidth\": 0, \"ticks\": \"\"}}, \"type\": \"scatter3d\"}], \"scattercarpet\": [{\"marker\": {\"colorbar\": {\"outlinewidth\": 0, \"ticks\": \"\"}}, \"type\": \"scattercarpet\"}], \"scattergeo\": [{\"marker\": {\"colorbar\": {\"outlinewidth\": 0, \"ticks\": \"\"}}, \"type\": \"scattergeo\"}], \"scattergl\": [{\"marker\": {\"colorbar\": {\"outlinewidth\": 0, \"ticks\": \"\"}}, \"type\": \"scattergl\"}], \"scattermapbox\": [{\"marker\": {\"colorbar\": {\"outlinewidth\": 0, \"ticks\": \"\"}}, \"type\": \"scattermapbox\"}], \"scatterpolar\": [{\"marker\": {\"colorbar\": {\"outlinewidth\": 0, \"ticks\": \"\"}}, \"type\": \"scatterpolar\"}], \"scatterpolargl\": [{\"marker\": {\"colorbar\": {\"outlinewidth\": 0, \"ticks\": \"\"}}, \"type\": \"scatterpolargl\"}], \"scatterternary\": [{\"marker\": {\"colorbar\": {\"outlinewidth\": 0, \"ticks\": \"\"}}, \"type\": \"scatterternary\"}], \"surface\": [{\"colorbar\": {\"outlinewidth\": 0, \"ticks\": \"\"}, \"colorscale\": [[0.0, \"#0d0887\"], [0.1111111111111111, \"#46039f\"], [0.2222222222222222, \"#7201a8\"], [0.3333333333333333, \"#9c179e\"], [0.4444444444444444, \"#bd3786\"], [0.5555555555555556, \"#d8576b\"], [0.6666666666666666, \"#ed7953\"], [0.7777777777777778, \"#fb9f3a\"], [0.8888888888888888, \"#fdca26\"], [1.0, \"#f0f921\"]], \"type\": \"surface\"}], \"table\": [{\"cells\": {\"fill\": {\"color\": \"#EBF0F8\"}, \"line\": {\"color\": \"white\"}}, \"header\": {\"fill\": {\"color\": \"#C8D4E3\"}, \"line\": {\"color\": \"white\"}}, \"type\": \"table\"}]}, \"layout\": {\"annotationdefaults\": {\"arrowcolor\": \"#2a3f5f\", \"arrowhead\": 0, \"arrowwidth\": 1}, \"coloraxis\": {\"colorbar\": {\"outlinewidth\": 0, \"ticks\": \"\"}}, \"colorscale\": {\"diverging\": [[0, \"#8e0152\"], [0.1, \"#c51b7d\"], [0.2, \"#de77ae\"], [0.3, \"#f1b6da\"], [0.4, \"#fde0ef\"], [0.5, \"#f7f7f7\"], [0.6, \"#e6f5d0\"], [0.7, \"#b8e186\"], [0.8, \"#7fbc41\"], [0.9, \"#4d9221\"], [1, \"#276419\"]], \"sequential\": [[0.0, \"#0d0887\"], [0.1111111111111111, \"#46039f\"], [0.2222222222222222, \"#7201a8\"], [0.3333333333333333, \"#9c179e\"], [0.4444444444444444, \"#bd3786\"], [0.5555555555555556, \"#d8576b\"], [0.6666666666666666, \"#ed7953\"], [0.7777777777777778, \"#fb9f3a\"], [0.8888888888888888, \"#fdca26\"], [1.0, \"#f0f921\"]], \"sequentialminus\": [[0.0, \"#0d0887\"], [0.1111111111111111, \"#46039f\"], [0.2222222222222222, \"#7201a8\"], [0.3333333333333333, \"#9c179e\"], [0.4444444444444444, \"#bd3786\"], [0.5555555555555556, \"#d8576b\"], [0.6666666666666666, \"#ed7953\"], [0.7777777777777778, \"#fb9f3a\"], [0.8888888888888888, \"#fdca26\"], [1.0, \"#f0f921\"]]}, \"colorway\": [\"#636efa\", \"#EF553B\", \"#00cc96\", \"#ab63fa\", \"#FFA15A\", \"#19d3f3\", \"#FF6692\", \"#B6E880\", \"#FF97FF\", \"#FECB52\"], \"font\": {\"color\": \"#2a3f5f\"}, \"geo\": {\"bgcolor\": \"white\", \"lakecolor\": \"white\", \"landcolor\": \"#E5ECF6\", \"showlakes\": true, \"showland\": true, \"subunitcolor\": \"white\"}, \"hoverlabel\": {\"align\": \"left\"}, \"hovermode\": \"closest\", \"mapbox\": {\"style\": \"light\"}, \"paper_bgcolor\": \"white\", \"plot_bgcolor\": \"#E5ECF6\", \"polar\": {\"angularaxis\": {\"gridcolor\": \"white\", \"linecolor\": \"white\", \"ticks\": \"\"}, \"bgcolor\": \"#E5ECF6\", \"radialaxis\": {\"gridcolor\": \"white\", \"linecolor\": \"white\", \"ticks\": \"\"}}, \"scene\": {\"xaxis\": {\"backgroundcolor\": \"#E5ECF6\", \"gridcolor\": \"white\", \"gridwidth\": 2, \"linecolor\": \"white\", \"showbackground\": true, \"ticks\": \"\", \"zerolinecolor\": \"white\"}, \"yaxis\": {\"backgroundcolor\": \"#E5ECF6\", \"gridcolor\": \"white\", \"gridwidth\": 2, \"linecolor\": \"white\", \"showbackground\": true, \"ticks\": \"\", \"zerolinecolor\": \"white\"}, \"zaxis\": {\"backgroundcolor\": \"#E5ECF6\", \"gridcolor\": \"white\", \"gridwidth\": 2, \"linecolor\": \"white\", \"showbackground\": true, \"ticks\": \"\", \"zerolinecolor\": \"white\"}}, \"shapedefaults\": {\"line\": {\"color\": \"#2a3f5f\"}}, \"ternary\": {\"aaxis\": {\"gridcolor\": \"white\", \"linecolor\": \"white\", \"ticks\": \"\"}, \"baxis\": {\"gridcolor\": \"white\", \"linecolor\": \"white\", \"ticks\": \"\"}, \"bgcolor\": \"#E5ECF6\", \"caxis\": {\"gridcolor\": \"white\", \"linecolor\": \"white\", \"ticks\": \"\"}}, \"title\": {\"x\": 0.05}, \"xaxis\": {\"automargin\": true, \"gridcolor\": \"white\", \"linecolor\": \"white\", \"ticks\": \"\", \"title\": {\"standoff\": 15}, \"zerolinecolor\": \"white\", \"zerolinewidth\": 2}, \"yaxis\": {\"automargin\": true, \"gridcolor\": \"white\", \"linecolor\": \"white\", \"ticks\": \"\", \"title\": {\"standoff\": 15}, \"zerolinecolor\": \"white\", \"zerolinewidth\": 2}}}, \"title\": {\"text\": \"Long-Form Input\"}, \"xaxis\": {\"anchor\": \"y\", \"domain\": [0.0, 1.0], \"title\": {\"text\": \"portfolio\"}}, \"yaxis\": {\"anchor\": \"x\", \"domain\": [0.0, 1.0], \"title\": {\"text\": \"percent\"}}},\n",
       "                        {\"responsive\": true}\n",
       "                    ).then(function(){\n",
       "                            \n",
       "var gd = document.getElementById('b686e7ec-520c-48de-ba4a-4ae2ae30c362');\n",
       "var x = new MutationObserver(function (mutations, observer) {{\n",
       "        var display = window.getComputedStyle(gd).display;\n",
       "        if (!display || display === 'none') {{\n",
       "            console.log([gd, 'removed!']);\n",
       "            Plotly.purge(gd);\n",
       "            observer.disconnect();\n",
       "        }}\n",
       "}});\n",
       "\n",
       "// Listen for the removal of the full notebook cells\n",
       "var notebookContainer = gd.closest('#notebook-container');\n",
       "if (notebookContainer) {{\n",
       "    x.observe(notebookContainer, {childList: true});\n",
       "}}\n",
       "\n",
       "// Listen for the clearing of the current output cell\n",
       "var outputEl = gd.closest('.output');\n",
       "if (outputEl) {{\n",
       "    x.observe(outputEl, {childList: true});\n",
       "}}\n",
       "\n",
       "                        })\n",
       "                };\n",
       "                });\n",
       "            </script>\n",
       "        </div>"
      ]
     },
     "metadata": {},
     "output_type": "display_data"
    }
   ],
   "source": [
    "fig = px.bar(dfp, x=\"portfolio\", y=\"percent\", color=\"symbol\", \n",
    "              width=1330, height=800,title=\"Long-Form Input\")\n",
    "fig.show()"
   ]
  },
  {
   "cell_type": "code",
   "execution_count": 23,
   "metadata": {},
   "outputs": [
    {
     "name": "stdout",
     "output_type": "stream",
     "text": [
      "ndays 1 bdate 2020-11-24\n"
     ]
    },
    {
     "data": {
      "text/plain": [
       "'2020-11-24'"
      ]
     },
     "execution_count": 23,
     "metadata": {},
     "output_type": "execute_result"
    }
   ],
   "source": [
    "def getNBusDate(ndays):\n",
    "    if ndays == 0:\n",
    "        dtnow = '{:%Y-%m-%d}'.format(datetime.now())\n",
    "        dt = np.busday_offset(dtnow, 0, roll='backward')\n",
    "    else:\n",
    "        now = '{:%Y-%m-%d}'.format(datetime.now())\n",
    "        dtnow = np.busday_offset(now,0,roll='backward')\n",
    "        dt = np.busday_offset(dtnow,-ndays,roll='backward')\n",
    "        print('ndays {:d} bdate {}'.format(ndays,dt))\n",
    "    return str(dt)\n",
    "\n",
    "ndays=1\n",
    "getNBusDate(ndays)"
   ]
  },
  {
   "cell_type": "code",
   "execution_count": 24,
   "metadata": {},
   "outputs": [
    {
     "data": {
      "text/plain": [
       "1"
      ]
     },
     "execution_count": 24,
     "metadata": {},
     "output_type": "execute_result"
    }
   ],
   "source": [
    "from datetime import datetime\n",
    "import numpy as np\n",
    "getNBusDaysFromDateStr\n",
    "def getNBusDaysFromDateStr(ymd_date):\n",
    "    dtnow = '{:%Y-%m-%d}'.format(datetime.now())\n",
    "    bdtnow = np.busday_offset(dtnow, 0, roll='backward')\n",
    "    bdtnow\n",
    "    dt = str(bdtnow)\n",
    "    nbdays =  np.busday_count(ymd_date, dt)\n",
    "    return nbdays\n",
    "\n",
    "ymd_date = '2020-11-24'\n",
    "getNBusDaysFromDateStr(ymd_date)\n"
   ]
  }
 ],
 "metadata": {
  "kernelspec": {
   "display_name": "Python 3",
   "language": "python",
   "name": "python3"
  },
  "language_info": {
   "codemirror_mode": {
    "name": "ipython",
    "version": 3
   },
   "file_extension": ".py",
   "mimetype": "text/x-python",
   "name": "python",
   "nbconvert_exporter": "python",
   "pygments_lexer": "ipython3",
   "version": "3.7.3"
  }
 },
 "nbformat": 4,
 "nbformat_minor": 2
}
