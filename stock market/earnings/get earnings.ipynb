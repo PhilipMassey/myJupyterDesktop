{
 "cells": [
  {
   "cell_type": "markdown",
   "metadata": {},
   "source": [
    "# RH Earnings"
   ]
  },
  {
   "cell_type": "code",
   "execution_count": 7,
   "metadata": {},
   "outputs": [
    {
     "name": "stdout",
     "output_type": "stream",
     "text": [
      "Python 3.7.3 (v3.7.3:ef4ec6ed12, Mar 25 2019, 16:52:21) \n",
      "[Clang 6.0 (clang-600.0.57)] on darwin\n"
     ]
    }
   ],
   "source": [
    "import sys; print('Python %s on %s' % (sys.version, sys.platform))\n",
    "sys.path.extend(['/Users/philipmassey/PycharmProjects/stock_market'])\n",
    "import portfolio as pf\n",
    "import market_data as md\n",
    "import robin_stocks as r\n",
    "\n",
    "import pandas as pd\n",
    "import rh\n",
    "r = rh.r"
   ]
  },
  {
   "cell_type": "code",
   "execution_count": 2,
   "metadata": {
    "scrolled": true
   },
   "outputs": [
    {
     "name": "stdout",
     "output_type": "stream",
     "text": [
      "VST \t ['2020-08-05', '2020-11-04']\n"
     ]
    }
   ],
   "source": [
    "symbols = md.getPortfoliosSymbols()\n",
    "current_year_dates = rh.getEarnings(symbols)\n",
    "for e in current_year_dates:\n",
    "    print(e[0], '\\t', e[1])\n"
   ]
  },
  {
   "cell_type": "code",
   "execution_count": 14,
   "metadata": {},
   "outputs": [
    {
     "name": "stdout",
     "output_type": "stream",
     "text": [
      "AAPL \t ['2020-07-30', '2020-10-29']\n",
      "ENPH \t ['2020-08-04', '2020-10-27']\n"
     ]
    }
   ],
   "source": [
    "s"
   ]
  },
  {
   "cell_type": "code",
   "execution_count": null,
   "metadata": {},
   "outputs": [],
   "source": [
    "#     current_year_dates = sorted(current_year_dates, key=lambda x: x[1][0])\n",
    "#     for e in current_year_dates:\n",
    "#         print(e[0], '\\t', e[1])\n"
   ]
  }
 ],
 "metadata": {
  "kernelspec": {
   "display_name": "Python 3",
   "language": "python",
   "name": "python3"
  },
  "language_info": {
   "codemirror_mode": {
    "name": "ipython",
    "version": 3
   },
   "file_extension": ".py",
   "mimetype": "text/x-python",
   "name": "python",
   "nbconvert_exporter": "python",
   "pygments_lexer": "ipython3",
   "version": "3.7.3"
  }
 },
 "nbformat": 4,
 "nbformat_minor": 2
}
