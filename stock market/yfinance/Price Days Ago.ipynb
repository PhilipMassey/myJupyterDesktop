{
 "cells": [
  {
   "cell_type": "code",
   "execution_count": 1,
   "metadata": {},
   "outputs": [
    {
     "data": {
      "text/plain": [
       "('2020-07-24', '2020-07-27')"
      ]
     },
     "execution_count": 1,
     "metadata": {},
     "output_type": "execute_result"
    }
   ],
   "source": [
    "from datetime import datetime, timedelta\n",
    "import pandas as pd\n",
    "import yfinance as yf\n",
    "\n",
    "def getOneBDayFromToday():\n",
    "    now = datetime.now()\n",
    "    end = '{:%Y-%m-%d}'.format(now)\n",
    "    start = now - pd.tseries.offsets.BusinessDay(n=1)\n",
    "    start = '{:%Y-%m-%d}'.format(start)\n",
    "    return start,end\n",
    "\n",
    "    \n",
    "\n",
    "\n",
    "start,end = getNDaysAgo(30)\n",
    "start,end"
   ]
  },
  {
   "cell_type": "code",
   "execution_count": 5,
   "metadata": {},
   "outputs": [
    {
     "name": "stdout",
     "output_type": "stream",
     "text": [
      "[*********************100%***********************]  4 of 4 completed\n"
     ]
    },
    {
     "data": {
      "text/html": [
       "<div>\n",
       "<style scoped>\n",
       "    .dataframe tbody tr th:only-of-type {\n",
       "        vertical-align: middle;\n",
       "    }\n",
       "\n",
       "    .dataframe tbody tr th {\n",
       "        vertical-align: top;\n",
       "    }\n",
       "\n",
       "    .dataframe thead tr th {\n",
       "        text-align: left;\n",
       "    }\n",
       "\n",
       "    .dataframe thead tr:last-of-type th {\n",
       "        text-align: right;\n",
       "    }\n",
       "</style>\n",
       "<table border=\"1\" class=\"dataframe\">\n",
       "  <thead>\n",
       "    <tr>\n",
       "      <th></th>\n",
       "      <th colspan=\"4\" halign=\"left\">Close</th>\n",
       "      <th colspan=\"4\" halign=\"left\">Dividends</th>\n",
       "      <th colspan=\"2\" halign=\"left\">High</th>\n",
       "      <th>...</th>\n",
       "      <th colspan=\"2\" halign=\"left\">Open</th>\n",
       "      <th colspan=\"4\" halign=\"left\">Stock Splits</th>\n",
       "      <th colspan=\"4\" halign=\"left\">Volume</th>\n",
       "    </tr>\n",
       "    <tr>\n",
       "      <th></th>\n",
       "      <th>AAPL</th>\n",
       "      <th>MSFT</th>\n",
       "      <th>SHOP</th>\n",
       "      <th>SQ</th>\n",
       "      <th>AAPL</th>\n",
       "      <th>MSFT</th>\n",
       "      <th>SHOP</th>\n",
       "      <th>SQ</th>\n",
       "      <th>AAPL</th>\n",
       "      <th>MSFT</th>\n",
       "      <th>...</th>\n",
       "      <th>SHOP</th>\n",
       "      <th>SQ</th>\n",
       "      <th>AAPL</th>\n",
       "      <th>MSFT</th>\n",
       "      <th>SHOP</th>\n",
       "      <th>SQ</th>\n",
       "      <th>AAPL</th>\n",
       "      <th>MSFT</th>\n",
       "      <th>SHOP</th>\n",
       "      <th>SQ</th>\n",
       "    </tr>\n",
       "    <tr>\n",
       "      <th>Date</th>\n",
       "      <th></th>\n",
       "      <th></th>\n",
       "      <th></th>\n",
       "      <th></th>\n",
       "      <th></th>\n",
       "      <th></th>\n",
       "      <th></th>\n",
       "      <th></th>\n",
       "      <th></th>\n",
       "      <th></th>\n",
       "      <th></th>\n",
       "      <th></th>\n",
       "      <th></th>\n",
       "      <th></th>\n",
       "      <th></th>\n",
       "      <th></th>\n",
       "      <th></th>\n",
       "      <th></th>\n",
       "      <th></th>\n",
       "      <th></th>\n",
       "      <th></th>\n",
       "    </tr>\n",
       "  </thead>\n",
       "  <tbody>\n",
       "    <tr>\n",
       "      <th>2020-07-24</th>\n",
       "      <td>92.448311</td>\n",
       "      <td>200.814575</td>\n",
       "      <td>929.809998</td>\n",
       "      <td>121.410004</td>\n",
       "      <td>0</td>\n",
       "      <td>0</td>\n",
       "      <td>0</td>\n",
       "      <td>0</td>\n",
       "      <td>92.802675</td>\n",
       "      <td>202.370811</td>\n",
       "      <td>...</td>\n",
       "      <td>906.0</td>\n",
       "      <td>119.889999</td>\n",
       "      <td>0</td>\n",
       "      <td>0</td>\n",
       "      <td>0</td>\n",
       "      <td>0</td>\n",
       "      <td>185438800</td>\n",
       "      <td>39827000</td>\n",
       "      <td>2418800</td>\n",
       "      <td>8060000</td>\n",
       "    </tr>\n",
       "  </tbody>\n",
       "</table>\n",
       "<p>1 rows × 28 columns</p>\n",
       "</div>"
      ],
      "text/plain": [
       "                Close                                     Dividends            \\\n",
       "                 AAPL        MSFT        SHOP          SQ      AAPL MSFT SHOP   \n",
       "Date                                                                            \n",
       "2020-07-24  92.448311  200.814575  929.809998  121.410004         0    0    0   \n",
       "\n",
       "                    High              ...   Open             Stock Splits  \\\n",
       "           SQ       AAPL        MSFT  ...   SHOP          SQ         AAPL   \n",
       "Date                                  ...                                   \n",
       "2020-07-24  0  92.802675  202.370811  ...  906.0  119.889999            0   \n",
       "\n",
       "                            Volume                              \n",
       "           MSFT SHOP SQ       AAPL      MSFT     SHOP       SQ  \n",
       "Date                                                            \n",
       "2020-07-24    0    0  0  185438800  39827000  2418800  8060000  \n",
       "\n",
       "[1 rows x 28 columns]"
      ]
     },
     "execution_count": 5,
     "metadata": {},
     "output_type": "execute_result"
    }
   ],
   "source": [
    "symbols = ['AAPL','MSFT','SHOP','SQ']\n",
    "tickers = yf.Tickers(symbols)\n",
    "start,end = getNDaysAgo(days=30)\n",
    "df = tickers.history(interval='1d',start=start,end=end)\n",
    "# df_pc = df.Close.pct_change(periods=1).dropna()#,freq=pd.offsets.BDay())\n",
    "# df_stock = df_pc.reset_index(drop=True, inplace=False).T.rename(columns = {0:'percent'}, inplace = False)\n",
    "# df_stock['percent'] = df_stock['percent'].apply(lambda x:round(x*100,2))\n",
    "# df_stock\n",
    "df"
   ]
  },
  {
   "cell_type": "code",
   "execution_count": 15,
   "metadata": {},
   "outputs": [
    {
     "name": "stdout",
     "output_type": "stream",
     "text": [
      "2020-09-01 2020-09-02\n",
      "[*********************100%***********************]  4 of 4 completed\n"
     ]
    },
    {
     "data": {
      "text/html": [
       "<div>\n",
       "<style scoped>\n",
       "    .dataframe tbody tr th:only-of-type {\n",
       "        vertical-align: middle;\n",
       "    }\n",
       "\n",
       "    .dataframe tbody tr th {\n",
       "        vertical-align: top;\n",
       "    }\n",
       "\n",
       "    .dataframe thead th {\n",
       "        text-align: right;\n",
       "    }\n",
       "</style>\n",
       "<table border=\"1\" class=\"dataframe\">\n",
       "  <thead>\n",
       "    <tr style=\"text-align: right;\">\n",
       "      <th></th>\n",
       "      <th>AAPL</th>\n",
       "      <th>MSFT</th>\n",
       "      <th>SHOP</th>\n",
       "      <th>SQ</th>\n",
       "    </tr>\n",
       "    <tr>\n",
       "      <th>Date</th>\n",
       "      <th></th>\n",
       "      <th></th>\n",
       "      <th></th>\n",
       "      <th></th>\n",
       "    </tr>\n",
       "  </thead>\n",
       "  <tbody>\n",
       "    <tr>\n",
       "      <th>2020-09-01</th>\n",
       "      <td>134.179993</td>\n",
       "      <td>227.270004</td>\n",
       "      <td>1134.319946</td>\n",
       "      <td>166.660004</td>\n",
       "    </tr>\n",
       "  </tbody>\n",
       "</table>\n",
       "</div>"
      ],
      "text/plain": [
       "                  AAPL        MSFT         SHOP          SQ\n",
       "Date                                                       \n",
       "2020-09-01  134.179993  227.270004  1134.319946  166.660004"
      ]
     },
     "execution_count": 15,
     "metadata": {},
     "output_type": "execute_result"
    }
   ],
   "source": [
    "def getNDaysAgo(days):\n",
    "    now = datetime.now()\n",
    "    start = now - pd.tseries.offsets.BusinessDay(n=(days+1))\n",
    "    end = now - pd.tseries.offsets.BusinessDay(n=days)\n",
    "    start = '{:%Y-%m-%d}'.format(start)\n",
    "    end = '{:%Y-%m-%d}'.format(end)\n",
    "    return start,end\n",
    "\n",
    "def getPricesForNDaysAgo(names,days):\n",
    "    tickers = yf.Tickers(names)\n",
    "    start, end = getNDaysAgo(days)\n",
    "    print(start,end)\n",
    "    return tickers.history(interval='1d', start=start, end=end)\n",
    "\n",
    "getPricesForNDaysAgo(symbols,days=3).Close"
   ]
  },
  {
   "cell_type": "code",
   "execution_count": null,
   "metadata": {},
   "outputs": [],
   "source": []
  }
 ],
 "metadata": {
  "kernelspec": {
   "display_name": "Python 3",
   "language": "python",
   "name": "python3"
  },
  "language_info": {
   "codemirror_mode": {
    "name": "ipython",
    "version": 3
   },
   "file_extension": ".py",
   "mimetype": "text/x-python",
   "name": "python",
   "nbconvert_exporter": "python",
   "pygments_lexer": "ipython3",
   "version": "3.7.3"
  }
 },
 "nbformat": 4,
 "nbformat_minor": 2
}
