{
 "cells": [
  {
   "cell_type": "code",
   "execution_count": 2,
   "metadata": {},
   "outputs": [
    {
     "data": {
      "text/plain": [
       "['market_data_close', 'market_data_volume']"
      ]
     },
     "execution_count": 2,
     "metadata": {},
     "output_type": "execute_result"
    }
   ],
   "source": [
    "import sys\n",
    "sys.path.extend(['/Users/philipmassey/PycharmProjects/stock_market'])\n",
    "\n",
    "import portfolio as pf\n",
    "import market_data as md\n",
    "import pandas as pd\n",
    "\n",
    "import pymongo\n",
    "from pymongo import MongoClient\n",
    "client = MongoClient()\n",
    "db = client['stock_market']\n",
    "db.list_collection_names()"
   ]
  },
  {
   "cell_type": "code",
   "execution_count": 3,
   "metadata": {},
   "outputs": [
    {
     "name": "stdout",
     "output_type": "stream",
     "text": [
      "0 DatetimeIndex(['2021-01-15'], dtype='datetime64[ns]', name='Date', freq=None)\n",
      "1 DatetimeIndex(['2021-01-14'], dtype='datetime64[ns]', name='Date', freq=None)\n",
      "2 DatetimeIndex(['2021-01-13'], dtype='datetime64[ns]', name='Date', freq=None)\n",
      "3 DatetimeIndex(['2021-01-12'], dtype='datetime64[ns]', name='Date', freq=None)\n",
      "4 DatetimeIndex(['2021-01-11'], dtype='datetime64[ns]', name='Date', freq=None)\n",
      "5 DatetimeIndex(['2021-01-08'], dtype='datetime64[ns]', name='Date', freq=None)\n",
      "6 DatetimeIndex(['2021-01-07'], dtype='datetime64[ns]', name='Date', freq=None)\n",
      "7 DatetimeIndex(['2021-01-06'], dtype='datetime64[ns]', name='Date', freq=None)\n",
      "8 DatetimeIndex(['2021-01-05'], dtype='datetime64[ns]', name='Date', freq=None)\n",
      "9 DatetimeIndex(['2021-01-04'], dtype='datetime64[ns]', name='Date', freq=None)\n"
     ]
    },
    {
     "data": {
      "text/plain": [
       "[None, None, None, None, None, None, None, None, None, None]"
      ]
     },
     "execution_count": 3,
     "metadata": {},
     "output_type": "execute_result"
    }
   ],
   "source": [
    "from datetime import datetime\n",
    "import numpy as np\n",
    "import trading_calendars as tc\n",
    "xnys = tc.get_calendar(\"XNYS\")\n",
    "\n",
    "def getStockPickleNBDays(ndays,skip=False):\n",
    "    datestr = getNBusDateFromNdays(ndays,skip)\n",
    "    if datestr == 'SKIP':\n",
    "        return pd.DataFrame({})\n",
    "    else:\n",
    "        return md.getStockPickle(datestr)\n",
    "\n",
    "def getNBusDateFromNdays(ndays,skip):\n",
    "    if ndays == 0:\n",
    "        dtnow = '{:%Y-%m-%d}'.format(datetime.now())\n",
    "        dt = np.busday_offset(dtnow, 0, roll='backward')\n",
    "        if not xnys.is_session(dt):\n",
    "            return getNBusDateFromNdays(ndays + 1,skip)\n",
    "    else:\n",
    "        now = '{:%Y-%m-%d}'.format(datetime.now())\n",
    "        dtnow = np.busday_offset(now,0,roll='backward')\n",
    "        dt = np.busday_offset(dtnow,-ndays,roll='backward')\n",
    "        if not xnys.is_session(dt):\n",
    "            if skip:\n",
    "                dt = str('SKIP')\n",
    "            else:\n",
    "                return getNBusDateFromNdays(ndays + 1,skip)\n",
    "        #print('ndays {:d} bdate {}'.format(ndays,dt))\n",
    "    return str(dt)\n",
    "\n",
    "def printDate(ndays):\n",
    "    dfall = getStockPickleNBDays(ndays,skip=True)\n",
    "    if dfall.size >0:\n",
    "        df = dfall['Close']\n",
    "        print(ndays,str(df.index))\n",
    "\n",
    "[printDate(ndays) for ndays in range(0,10)]\n"
   ]
  },
  {
   "cell_type": "code",
   "execution_count": 4,
   "metadata": {},
   "outputs": [
    {
     "name": "stdout",
     "output_type": "stream",
     "text": [
      "ndays 7 bdate 2021-01-06\n",
      "2021-01-06\n"
     ]
    }
   ],
   "source": [
    "from datetime import datetime\n",
    "import numpy as np\n",
    "import trading_calendars as tc\n",
    "xnys = tc.get_calendar(\"XNYS\")\n",
    "ndays = 7\n",
    "now = '{:%Y-%m-%d}'.format(datetime.now())\n",
    "dtnow = np.busday_offset(now,0,roll='backward')\n",
    "dt = np.busday_offset(dtnow,-ndays,roll='backward')\n",
    "if not xnys.is_session(dt):\n",
    "    print('getNBusDateFromNdays')\n",
    "    dt = md.getNBusDateFromNdays(ndays + 2)\n",
    "print('ndays {:d} bdate {}'.format(ndays,dt))\n",
    "print(str(dt))\n"
   ]
  },
  {
   "cell_type": "code",
   "execution_count": 17,
   "metadata": {},
   "outputs": [
    {
     "data": {
      "text/plain": [
       "numpy.datetime64('2020-01-03')"
      ]
     },
     "execution_count": 17,
     "metadata": {},
     "output_type": "execute_result"
    }
   ],
   "source": [
    "def getBusDaysAgo(ndays):\n",
    "    now = '{:%Y-%m-%d}'.format(datetime.now())\n",
    "    dtnow = np.busday_offset(now,0,roll='backward')\n",
    "    dt = np.busday_offset(dtnow,-ndays,roll='backward')\n",
    "    if not xnys.is_session(dt):\n",
    "        return getBusDaysAgo(ndays + 1)\n",
    "    return dt\n",
    "ndays=270\n",
    "getBusDaysAgo(ndays)"
   ]
  },
  {
   "cell_type": "code",
   "execution_count": null,
   "metadata": {},
   "outputs": [],
   "source": [
    "\n",
    "def testbackforth(ndays):\n",
    "    datestr = md.getNBusDateFromNdays(ndays,skip=True)\n",
    "    ndays = md.getNBusDaysFromDateStr(datestr)\n",
    "    print('{} - {} - {}'.format(ndays,datestr,ndays))\n",
    "\n",
    "[testbackforth(ndays) for ndays in range(6,10)]"
   ]
  },
  {
   "cell_type": "code",
   "execution_count": null,
   "metadata": {},
   "outputs": [],
   "source": [
    "mport market_data as md\n",
    "\n",
    "\n",
    "def testndays(ndays):\n",
    "    print('ndays ',ndays)\n",
    "    start,end = md.getNDateAndToday(ndays)\n",
    "    print(start,end)\n",
    "\n",
    "def testrowndays(ndays):\n",
    "    df = md.getRowNDaysAgo(ndays)\n",
    "    print(df)\n",
    "\n",
    "\n",
    "ndays=0\n",
    "testndays(ndays)\n",
    "testrowndays(ndays)\n"
   ]
  }
 ],
 "metadata": {
  "kernelspec": {
   "display_name": "Python 3",
   "language": "python",
   "name": "python3"
  },
  "language_info": {
   "codemirror_mode": {
    "name": "ipython",
    "version": 3
   },
   "file_extension": ".py",
   "mimetype": "text/x-python",
   "name": "python",
   "nbconvert_exporter": "python",
   "pygments_lexer": "ipython3",
   "version": "3.7.3"
  }
 },
 "nbformat": 4,
 "nbformat_minor": 2
}
