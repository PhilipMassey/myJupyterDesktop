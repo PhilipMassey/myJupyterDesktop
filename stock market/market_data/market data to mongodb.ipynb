{
 "cells": [
  {
   "cell_type": "code",
   "execution_count": 1,
   "metadata": {},
   "outputs": [
    {
     "data": {
      "text/plain": [
       "['market_data_close', 'market_data_volume']"
      ]
     },
     "execution_count": 1,
     "metadata": {},
     "output_type": "execute_result"
    }
   ],
   "source": [
    "import sys\n",
    "sys.path.extend(['/Users/philipmassey/PycharmProjects/stock_market'])\n",
    "\n",
    "import portfolio as pf\n",
    "import market_data as md\n",
    "import pandas as pd\n",
    "from datetime import datetime\n",
    "import pymongo\n",
    "from pymongo import MongoClient\n",
    "client = MongoClient()\n",
    "db = client['stock_market']\n",
    "db.list_collection_names()"
   ]
  },
  {
   "cell_type": "code",
   "execution_count": 2,
   "metadata": {},
   "outputs": [],
   "source": [
    "#db['market_data_close'].drop()\n",
    "# db['market_data_volume'].drop()b\n",
    "# print(list(db.list_collection_names()))"
   ]
  },
  {
   "cell_type": "code",
   "execution_count": 64,
   "metadata": {},
   "outputs": [
    {
     "name": "stdout",
     "output_type": "stream",
     "text": [
      "33\n",
      "Date\n",
      "2020-12-01   NaN\n",
      "Name: BRK.B, dtype: float64\n",
      "Date\n",
      "2020-12-01   NaN\n",
      "Name: BRK.B, dtype: float64\n",
      "34\n",
      "Date\n",
      "2020-11-30   NaN\n",
      "Name: BRK.B, dtype: float64\n",
      "Date\n",
      "2020-11-30   NaN\n",
      "Name: BRK.B, dtype: float64\n",
      "35\n",
      "36\n",
      "37\n",
      "38\n",
      "39\n",
      "40\n",
      "41\n",
      "42\n",
      "43\n",
      "44\n",
      "45\n",
      "46\n",
      "47\n",
      "48\n",
      "49\n",
      "50\n",
      "51\n",
      "52\n",
      "53\n",
      "54\n",
      "55\n",
      "56\n",
      "57\n",
      "58\n",
      "59\n"
     ]
    },
    {
     "data": {
      "text/plain": [
       "[None,\n",
       " None,\n",
       " None,\n",
       " None,\n",
       " None,\n",
       " None,\n",
       " None,\n",
       " None,\n",
       " None,\n",
       " None,\n",
       " None,\n",
       " None,\n",
       " None,\n",
       " None,\n",
       " None,\n",
       " None,\n",
       " None,\n",
       " None,\n",
       " None,\n",
       " None,\n",
       " None,\n",
       " None,\n",
       " None,\n",
       " None,\n",
       " None,\n",
       " None,\n",
       " None]"
      ]
     },
     "execution_count": 64,
     "metadata": {},
     "output_type": "execute_result"
    }
   ],
   "source": [
    "def removeBadData(df):\n",
    "    if 'BRK.B' in list(df.columns):\n",
    "        print(df['BRK.B'])\n",
    "        return df.drop(columns=['BRK.B'])\n",
    "    return df\n",
    "\n",
    "def addPicklesToMdbConn(ndays):\n",
    "    print(ndays)\n",
    "    dfall = md.getStockPickleNBDays(ndays,skip=True)\n",
    "    if dfall.size > 0:\n",
    "        df = dfall['Close']\n",
    "        df = removeBadData(df)\n",
    "        df.reset_index(inplace=True)\n",
    "        data_dict = df.to_dict(\"records\")\n",
    "        db[\"market_data_close\"].insert_many(data_dict)\n",
    "        df = dfall['Volume']\n",
    "        df = removeBadData(df)\n",
    "        df.reset_index(inplace=True)\n",
    "        data_dict = df.to_dict(\"records\")\n",
    "        db[\"market_data_volume\"].insert_many(data_dict)\n",
    "\n",
    "[addPicklesToMdbConn(ndays) for ndays in range(33,60)]\n"
   ]
  },
  {
   "cell_type": "code",
   "execution_count": 65,
   "metadata": {},
   "outputs": [
    {
     "name": "stdout",
     "output_type": "stream",
     "text": [
      "31\n",
      "[*********************100%***********************]  25 of 25 completed\n",
      "31 24 1 1\n",
      "31 24 1 1\n",
      "32\n"
     ]
    },
    {
     "name": "stderr",
     "output_type": "stream",
     "text": [
      "/Library/Frameworks/Python.framework/Versions/3.7/lib/python3.7/site-packages/pandas/core/frame.py:3997: SettingWithCopyWarning: \n",
      "A value is trying to be set on a copy of a slice from a DataFrame\n",
      "\n",
      "See the caveats in the documentation: https://pandas.pydata.org/pandas-docs/stable/user_guide/indexing.html#returning-a-view-versus-a-copy\n",
      "  errors=errors,\n"
     ]
    },
    {
     "name": "stdout",
     "output_type": "stream",
     "text": [
      "[*********************100%***********************]  25 of 25 completed\n",
      "32 24 1 1\n",
      "32 24 1 1\n",
      "33\n",
      "[*********************100%***********************]  26 of 26 completed\n",
      "33 25 1 1\n",
      "33 25 1 1\n",
      "34\n",
      "[*********************100%***********************]  27 of 27 completed\n",
      "34 26 1 1\n",
      "34 26 1 1\n",
      "35\n",
      "[*********************100%***********************]  40 of 40 completed\n",
      "35 39 1 1\n",
      "35 39 1 1\n",
      "36\n",
      "[*********************100%***********************]  40 of 40 completed\n",
      "36 39 1 1\n",
      "36 39 1 1\n",
      "37\n",
      "[*********************100%***********************]  1 of 1 completed\n",
      "38\n",
      "[*********************100%***********************]  40 of 40 completed\n",
      "38 39 1 1\n",
      "38 39 1 1\n",
      "39\n",
      "[*********************100%***********************]  40 of 40 completed\n",
      "39 39 1 1\n",
      "39 39 1 1\n",
      "40\n",
      "[*********************100%***********************]  40 of 40 completed\n",
      "40 39 1 1\n",
      "40 39 1 1\n",
      "41\n",
      "[*********************100%***********************]  40 of 40 completed\n",
      "41 39 1 1\n",
      "41 39 1 1\n",
      "42\n",
      "[*********************100%***********************]  40 of 40 completed\n",
      "42 38 1 1\n",
      "42 38 1 1\n",
      "43\n",
      "[*********************100%***********************]  40 of 40 completed\n",
      "43 38 1 1\n",
      "43 38 1 1\n",
      "44\n",
      "[*********************100%***********************]  40 of 40 completed\n",
      "44 38 1 1\n",
      "44 38 1 1\n",
      "45\n",
      "[*********************100%***********************]  40 of 40 completed\n",
      "45 38 1 1\n",
      "45 38 1 1\n",
      "46\n",
      "[*********************100%***********************]  40 of 40 completed\n",
      "46 38 1 1\n",
      "46 38 1 1\n",
      "47\n",
      "[*********************100%***********************]  40 of 40 completed\n",
      "47 38 1 1\n",
      "47 38 1 1\n",
      "48\n",
      "[*********************100%***********************]  40 of 40 completed\n",
      "48 38 1 1\n",
      "48 38 1 1\n",
      "49\n",
      "[*********************100%***********************]  40 of 40 completed\n",
      "49 38 1 1\n",
      "49 38 1 1\n",
      "50\n",
      "[*********************100%***********************]  40 of 40 completed\n",
      "50 38 1 1\n",
      "50 38 1 1\n",
      "51\n",
      "[*********************100%***********************]  40 of 40 completed\n",
      "51 38 1 1\n",
      "51 38 1 1\n",
      "52\n",
      "[*********************100%***********************]  40 of 40 completed\n",
      "52 38 1 1\n",
      "52 38 1 1\n",
      "53\n",
      "[*********************100%***********************]  40 of 40 completed\n",
      "53 38 1 1\n",
      "53 38 1 1\n",
      "54\n",
      "[*********************100%***********************]  40 of 40 completed\n",
      "54 38 1 1\n",
      "54 38 1 1\n",
      "55\n",
      "[*********************100%***********************]  40 of 40 completed\n",
      "55 38 1 1\n",
      "55 38 1 1\n",
      "56\n",
      "[*********************100%***********************]  40 of 40 completed\n",
      "56 37 1 1\n",
      "56 37 1 1\n",
      "57\n",
      "[*********************100%***********************]  40 of 40 completed\n",
      "57 37 1 1\n",
      "57 37 1 1\n",
      "58\n",
      "[*********************100%***********************]  40 of 40 completed\n",
      "58 37 1 1\n",
      "58 37 1 1\n",
      "59\n",
      "[*********************100%***********************]  40 of 40 completed\n",
      "59 37 1 1\n",
      "59 37 1 1\n"
     ]
    },
    {
     "data": {
      "text/plain": [
       "[None,\n",
       " None,\n",
       " None,\n",
       " None,\n",
       " None,\n",
       " None,\n",
       " None,\n",
       " None,\n",
       " None,\n",
       " None,\n",
       " None,\n",
       " None,\n",
       " None,\n",
       " None,\n",
       " None,\n",
       " None,\n",
       " None,\n",
       " None,\n",
       " None,\n",
       " None,\n",
       " None,\n",
       " None,\n",
       " None,\n",
       " None,\n",
       " None,\n",
       " None,\n",
       " None,\n",
       " None,\n",
       " None]"
      ]
     },
     "execution_count": 65,
     "metadata": {},
     "output_type": "execute_result"
    }
   ],
   "source": [
    "from bson import json_util, ObjectId\n",
    "from pandas import json_normalize\n",
    "import json\n",
    "from datetime import datetime\n",
    "\n",
    "def getMdbDateFromNdays(ndays):\n",
    "    strDate = md.getNBusDateFromNdays(ndays)\n",
    "    return datetime.strptime(strDate,'%Y-%m-%d')\n",
    "\n",
    "def MdbToDataframe(mongo_data):\n",
    "        sanitized = json.loads(json_util.dumps(mongo_data))\n",
    "        normalized = json_normalize(sanitized)\n",
    "        df = pd.DataFrame(normalized)\n",
    "        df['Date'] = datetime.utcfromtimestamp(float(df['Date.$date']/1e3))\n",
    "        df.set_index('Date',inplace=True)\n",
    "        df.drop(['Date.$date','_id.$oid'], axis=1,inplace=True)\n",
    "        return df\n",
    "\n",
    "def getNdaysRowFromMdb(ndays,db_coll):\n",
    "    adate = getMdbDateFromNdays(ndays)\n",
    "    mdb_data = db_coll.find({'Date':adate})[0]\n",
    "    return MdbToDataframe(mdb_data)\n",
    "\n",
    "def getMissingMarketRow(ndays,db_coll,symbols):\n",
    "    df = getNdaysRowFromMdb(ndays,db_col)\n",
    "    dfs = set(df.columns)\n",
    "    missing_symbols = set(symbols).difference(dfs)\n",
    "    if len(missing_symbols) > 0:\n",
    "        return md.getRowNDaysAgo(ndays,missing_symbols)\n",
    "    else:\n",
    "        return pd.DataFrame({})\n",
    "    \n",
    "def updateMdbWithRow(ndays,df_m,db_coll):\n",
    "    if df_m.size > 1:\n",
    "        df_m = df_m.dropna(axis='columns')\n",
    "        df_m.reset_index(inplace=True)\n",
    "        df_m.drop(columns=['Date'],inplace=True)\n",
    "        data_dict = df_m.to_dict(\"records\")\n",
    "        #print(data_dict)\n",
    "        newvalues = { \"$set\":data_dict[0]}\n",
    "        dt = getMdbDateFromNdays(ndays)\n",
    "        query = {'Date':dt}\n",
    "        result = db_coll.update_one(query, newvalues)  \n",
    "        print(ndays,len(data_dict[0]),result.matched_count, result.modified_count )\n",
    "\n",
    "def updateRowWithMissing(ndays,db_coll,symbols):\n",
    "    df_m = getMissingMarketRow(ndays,symbols)\n",
    "    updateMdbWithRow(df_m,db_coll)\n",
    "    \n",
    "def updateMdbWithRow(ndays,symbols):\n",
    "    print(ndays)\n",
    "    db_coll = db[\"market_data_close\"]\n",
    "    df_m = getMissingMarketRow(ndays,db_coll,symbols)\n",
    "    if df_m.size > 0:\n",
    "        updateMdbWithRow(ndays,df_m['Close'],db_coll)\n",
    "        db_coll = db[\"market_data_volume\"]\n",
    "        #df_m = getMissingMarketRow(ndays,df_col)\n",
    "        updateMdbWithRow(ndays,df_m['Volume'],db_coll)\n",
    "\n",
    "\n",
    "symbols = md.getPortfoliosSymbols()\n",
    "#updateMdbWithMissingRow(7,symbols)\n",
    "[updateMdbWithMissingRow(ndays,symbols) for ndays in range(31,60)]"
   ]
  },
  {
   "cell_type": "code",
   "execution_count": 24,
   "metadata": {},
   "outputs": [
    {
     "data": {
      "text/html": [
       "<div>\n",
       "<style scoped>\n",
       "    .dataframe tbody tr th:only-of-type {\n",
       "        vertical-align: middle;\n",
       "    }\n",
       "\n",
       "    .dataframe tbody tr th {\n",
       "        vertical-align: top;\n",
       "    }\n",
       "\n",
       "    .dataframe thead th {\n",
       "        text-align: right;\n",
       "    }\n",
       "</style>\n",
       "<table border=\"1\" class=\"dataframe\">\n",
       "  <thead>\n",
       "    <tr style=\"text-align: right;\">\n",
       "      <th></th>\n",
       "      <th>Close</th>\n",
       "      <th>Volume</th>\n",
       "    </tr>\n",
       "    <tr>\n",
       "      <th>Date</th>\n",
       "      <th></th>\n",
       "      <th></th>\n",
       "    </tr>\n",
       "  </thead>\n",
       "  <tbody>\n",
       "    <tr>\n",
       "      <th>2021-01-08</th>\n",
       "      <td>0.98</td>\n",
       "      <td>604200</td>\n",
       "    </tr>\n",
       "  </tbody>\n",
       "</table>\n",
       "</div>"
      ],
      "text/plain": [
       "            Close  Volume\n",
       "Date                     \n",
       "2021-01-08   0.98  604200"
      ]
     },
     "execution_count": 24,
     "metadata": {},
     "output_type": "execute_result"
    }
   ],
   "source": [
    "df_missing"
   ]
  },
  {
   "cell_type": "code",
   "execution_count": 26,
   "metadata": {},
   "outputs": [
    {
     "name": "stdout",
     "output_type": "stream",
     "text": [
      "[*********************100%***********************]  1 of 1 completed\n"
     ]
    }
   ],
   "source": [
    "#print('size',df_m.size)\n",
    "updateRowWithMissing(df_missing['Close'],db[\"market_data_close\"])\n",
    "updateRowWithMissing(df_missing['Volume'],db[\"market_data_volume\"])"
   ]
  },
  {
   "cell_type": "code",
   "execution_count": 73,
   "metadata": {},
   "outputs": [
    {
     "name": "stdout",
     "output_type": "stream",
     "text": [
      "12 6 1 1\n"
     ]
    }
   ],
   "source": [
    "print(ndays,len(data_dict[0]),result.matched_count, result.modified_count )"
   ]
  },
  {
   "cell_type": "code",
   "execution_count": 54,
   "metadata": {},
   "outputs": [
    {
     "data": {
      "text/plain": [
       "{'NXGB': 0.10509999841451645,\n",
       " 'VREOF': 1.4795000553131104,\n",
       " 'WUGI': 50.32600021362305}"
      ]
     },
     "execution_count": 54,
     "metadata": {},
     "output_type": "execute_result"
    }
   ],
   "source": [
    "newvalues = { \"$set\": { 'DOG': 'poor boy','DOGGY':'hush now' } } \n",
    "def replaceNanVol(df):\n",
    "    return df_m['Close'].dropna(axis='columns')\n",
    "df_missing = df_m['Close']\n",
    "df_missing = replaceNanVol(df_missing)\n",
    "df_missing.reset_index(inplace=True)\n",
    "df_missing.drop(columns=['Date'],inplace=True)\n",
    "data_dict = df_missing.to_dict(\"records\")\n",
    "data_dict[0]\n",
    "\n"
   ]
  },
  {
   "cell_type": "code",
   "execution_count": 57,
   "metadata": {},
   "outputs": [
    {
     "name": "stdout",
     "output_type": "stream",
     "text": [
      "1 1\n",
      "2020-12-31 00:00:00 132.69000244140625 0.10509999841451645\n"
     ]
    }
   ],
   "source": [
    "newvalues = { \"$set\":data_dict[0]}\n",
    "result = db[\"market_data_close\"].update_one(filter, newvalues)  \n",
    "print(result.matched_count, result.modified_count )\n",
    "#adate = datetime(2021,1,13)\n",
    "#print(dt,adate)\n",
    "#dt==adate\n",
    "dt = getMdbDateFromNdays(ndays=10)\n",
    "filter = {'Date':dt}\n",
    "for c in db[\"market_data_close\"].find(filter):\n",
    "    print(c['Date'],c['AAPL'],c['NXGB'])"
   ]
  },
  {
   "cell_type": "markdown",
   "metadata": {},
   "source": [
    "### Update"
   ]
  },
  {
   "cell_type": "code",
   "execution_count": 34,
   "metadata": {},
   "outputs": [
    {
     "name": "stdout",
     "output_type": "stream",
     "text": [
      "2020-12-31 00:00:00 132.69000244140625\n"
     ]
    }
   ],
   "source": [
    "dt = getMdbDateFromNdays(ndays)\n",
    "#adate = datetime(2021,1,13)\n",
    "#print(dt,adate)\n",
    "#dt==adate\n",
    "filter = {'Date':dt}\n",
    "#datetime.strptime(strDate,'%Y-%m-%d')\n",
    "for c in db[\"market_data_close\"].find(filter):\n",
    "    print(c['Date'],c['AAPL'])\n",
    "result = market_data.update_one(filter, newvalues)  \n",
    "print(result.matched_count, result.modified_count )\n",
    "for c in market_data.find(filter):\n",
    "    print(c['Date'],c['AAPL'],c['DOG'],c['DOGGY'])"
   ]
  },
  {
   "cell_type": "code",
   "execution_count": null,
   "metadata": {},
   "outputs": [],
   "source": [
    "filter = { 'AAPL': 25 } \n",
    "filter = {'Date':datetime(2019, 8, 13, 0, 0)}\n",
    "newvalues = { \"$set\": { 'DOG': 'poor boy','DOGGY':'hush now' } } \n",
    "  \n",
    "# Using update_one() method for single  \n",
    "# updation. \n",
    "result = market_data.update_one(filter, newvalues)  \n",
    "print(result.matched_count, result.modified_count )\n",
    "for c in market_data.find(filter):\n",
    "    print(c['Date'],c['AAPL'],c['DOG'],c['DOGGY'])"
   ]
  },
  {
   "cell_type": "code",
   "execution_count": null,
   "metadata": {},
   "outputs": [],
   "source": [
    "adate = datetime(2020,4,20)\n",
    "filter = {'Date':adate}\n",
    "db[\"market_data_close\"].find(filter)[0]['ARKG']"
   ]
  },
  {
   "cell_type": "code",
   "execution_count": null,
   "metadata": {},
   "outputs": [],
   "source": [
    "# insert\n",
    "ndays = 1\n",
    "dfall = md.getStockPickleNBDays(ndays)\n",
    "df = dfall['Close']\n",
    "df.reset_index(inplace=True)\n",
    "data_dict = df.to_dict(\"records\")\n",
    "market_data.insert_many(data_dict)\n",
    "for c in market_data.find():\n",
    "    print(c['Date'],c['AAPL'])"
   ]
  },
  {
   "cell_type": "code",
   "execution_count": null,
   "metadata": {},
   "outputs": [],
   "source": [
    "import pytz\n",
    "from tzlocal import get_localzone # $ pip install tzlocal\n",
    "\n",
    "print(datetime.fromtimestamp(dt / 1e3))\n",
    "#datetime.fromtimestamp(dt / tzinfo=pytz.utc)\n",
    "datetime.fromtimestamp(dt/1e3)\n",
    "utc_dt = datetime(2009, 7, 10, 18, 44, 59, tzinfo=pytz.utc)\n",
    "print(utc_dt.astimezone(get_localzone())) # print local time\n",
    "dt\n"
   ]
  }
 ],
 "metadata": {
  "kernelspec": {
   "display_name": "Python 3",
   "language": "python",
   "name": "python3"
  },
  "language_info": {
   "codemirror_mode": {
    "name": "ipython",
    "version": 3
   },
   "file_extension": ".py",
   "mimetype": "text/x-python",
   "name": "python",
   "nbconvert_exporter": "python",
   "pygments_lexer": "ipython3",
   "version": "3.7.3"
  }
 },
 "nbformat": 4,
 "nbformat_minor": 2
}
