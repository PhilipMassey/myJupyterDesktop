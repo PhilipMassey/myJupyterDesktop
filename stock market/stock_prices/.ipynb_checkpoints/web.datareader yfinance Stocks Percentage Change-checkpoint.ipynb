{
 "cells": [
  {
   "cell_type": "code",
   "execution_count": 48,
   "metadata": {},
   "outputs": [
    {
     "data": {
      "application/javascript": [
       "IPython.OutputArea.auto_scroll_threshold = 9999;\n"
      ],
      "text/plain": [
       "<IPython.core.display.Javascript object>"
      ]
     },
     "metadata": {},
     "output_type": "display_data"
    }
   ],
   "source": [
    "%%javascript\n",
    "IPython.OutputArea.auto_scroll_threshold = 9999;\n"
   ]
  },
  {
   "cell_type": "code",
   "execution_count": 49,
   "metadata": {},
   "outputs": [
    {
     "name": "stdout",
     "output_type": "stream",
     "text": [
      "Defining instruments ...\n"
     ]
    }
   ],
   "source": [
    "import pandas as pd\n",
    "import pandas_datareader.data as web\n",
    "print( \"Defining instruments ...\")\n",
    "\n",
    "import datetime as dt\n",
    "from pandas.tseries.offsets import BDay\n",
    "\n",
    "class bcolors:\n",
    "    HEADER = '\\033[95m'\n",
    "    OKBLUE = '\\033[94m'\n",
    "    OKGREEN = '\\033[92m'\n",
    "    WARNING = '\\033[93m'\n",
    "    FAIL = '\\033[91m'\n",
    "    ENDC = '\\033[0m'\n",
    "    BOLD = '\\033[1m'\n",
    "    UNDERLINE = '\\033[4m'\n",
    "\n",
    "def dailyPercentChangeIs(aseries):\n",
    "    alist = []\n",
    "    for j in range(1,len(aseries)):\n",
    "        current_value = round(aseries.values[j],2)\n",
    "        prev_value = round(aseries.values[j-1],2)\n",
    "        percent_change = round(((current_value - prev_value)/prev_value) * 100,2)\n",
    "        alist.append(percent_change)\n",
    "    return alist\n",
    "\n",
    "def positivePrint(alist):\n",
    "    if all([item > 0 for item in alist]):\n",
    "        print(bcolors.OKGREEN, '\\t', aseries.name,'\\t',alist,'\\t',round(sum(alist),1))\n",
    "        \n",
    "def negativePrint(alist):\n",
    "    if all([item < 0 for item in alist]):\n",
    "        print(bcolors.FAIL,'\\t\\t\\t',aseries.name,'\\t',alist,'\\t',round(sum(alist),1))\n",
    "\n",
    "def greaterPrint(alist):\n",
    "    if max(alist) > 4 and not all([item > 0 for item in alist]):\n",
    "        print(bcolors.OKBLUE,'\\t\\t\\t\\t\\t\\t\\t'  , aseries.name,'\\t',alist,'\\t',round(sum(alist),1))\n",
    "        \n",
    "def lessthanPrint(alist):\n",
    "    if max(alist) < -4 and not all([item < 0 for item in alist]):\n",
    "        print(bcolors.OKBLUE,'\\t\\t\\t\\t\\t\\t\\t\\t\\t\\t' , aseries.name,'\\t',alist,'\\t',round(sum(alist),1))\n"
   ]
  },
  {
   "cell_type": "code",
   "execution_count": 50,
   "metadata": {},
   "outputs": [],
   "source": [
    "\n",
    "stock_dict= {'consumer retail':sorted(['DG','TGT','WMT','HD','COST','AMZN','M','TJX','KR','JWN','BBY','BBBY','KSS']), \n",
    "    'bdc': sorted(['CGBD','OXLC','TSLX','GAIN','TPVG','MRCC','NEWT','NMFX','GBDC','ARCC','LADR']),\n",
    "    'biotech':sorted(['EW','CELG','IHI','GILD','TMO','IBB','ABBV','PFE','NVS','XBI']),\n",
    "    'bonds corporate':sorted(['VCIT','VCLT','QLTA','YYY','HYG','USHY','JNK','HYLB','LQD','FCBFX']),\n",
    "    'bonds municipal':sorted(['MUB','VCSH','NID','TFI','MDXBX','NVG','NZF','VGM','NUV','AMHIX','NHMRX','VWITX']),\n",
    "    'bonds short':sorted(['GSY','PULS','BSV','ICSH','IEI','SHY','GOVT','VGSH']),\n",
    "    'bonds treasuries long':sorted(['SPAB','TLT','EDV','VGLT','BND','BNDX','ZROZ','FBND']),\n",
    "    'cannabis':sorted(['CNBS','HEXO','CRON','TLRY','CGC','MJ','APHA','ACB','HMLSF']),\n",
    "    'cef':sorted(['HQH','MIE','PCN','PCI','GBAB','NBB','UTG','UTF','RQI','FRI','LADR']),\n",
    "    'china tech':sorted(['WUBA','BZUN','WB','BABA','BIDU','TCEHY','CQQQ','KWEB']),\n",
    "    'cloud based ecommerce':sorted(['ZEN','TWLO','SHOP','SQ','ETSY','PYPL','EBAY','NOW','CRM','AMZN']),\n",
    "    'china etf':sorted(['CXSE','GXC','PGJ','CN','TDF','CHN']),\n",
    "    'china etf':sorted(['CXSE','GXC','PGJ','CN','TDF','CHN']),\n",
    "   'commondities metal':sorted(['JJN','SLV','GLD','GOLD','SLVP','PLG']),\n",
    "    'communication':sorted(['SNA','T','VZ','TMUS','S','CMCSA','CHTR','CTL']),\n",
    "    'consumer products':sorted(['KSS','RST','HD','TGT','COST','LEVI','MMM','WMT','M']),\n",
    "    'consumer retailers':sorted(['DG','KSS','BBY','M','JWN','COST','AMZN','TGT','WMT','TJX','KR']),\n",
    "    'consumer staples':sorted(['DG','KR','GO','VLGEA','NGVC','TGT','WMT','DLTR']),\n",
    "    'dividends institutional':sorted(['BAM','BX','CG','BLK','EPD','BXMT']),\n",
    "    'energy':sorted(['BEP','XOM','DUK','AY','XLE']),\n",
    "    'energy lpg':sorted(['GLOG','DLNG','GLOP','TK','GLNG','GMLP']),\n",
    "    'energy solar':sorted(['JKS','VSLR','FSLR','DQ','SUN','SEDG','CSIQ','RUN','TAN','SUNW','SPWR','ENPH','NEE']),\n",
    "    'entertaining streaming':sorted(['SPOT','DIS','SNE','GOOG','NFLX','AAPL']),\n",
    "    'finance banks':sorted(['KRE','HSBC','UBS','BCS','GS','JPM','WFC','C','BAC','V','MA','RBS','RY','XLF']),\n",
    "    'finance banks regional':sorted(['PNC','CMA','KEY','HBAN','RF','FITB','KRE']),\n",
    "    'gold':sorted(['IAG','GLD','GOLD','AUY','NEM','BTG','EGO','KGC','NUGT','GDXJ']),\n",
    "    'home builders':sorted(['HD','LOW','LEN','XHB','DHI','PHM','HOME','HOMZ','ITB','KBH','TOL','MTH','WLH','PKB','NAIL','NVR','BLD']),\n",
    "    'markets emerging':sorted(['THD','EIDO','ECNS','INDA','EWZ','EWY','FXI','MCHI','EWN','EWT','EWW','EWM','QAT']),\n",
    "    'markets emerging etfs':sorted(['IEMG','EEM','EEMV','EEMA','EEMO','EEMS','EMB']),\n",
    "    'markets europe':sorted(['EWZ','EDEN','EWK','EWO','EWL','EWQ','EWI','EWU','EWD','EWN']),\n",
    "    'markets large cap etfs':sorted(['MTUM','VLUE','AOK','SPLV','QQQ','DIA','IEMG','USMV','SPHD','USHY']),\n",
    "    'markets small cap etfs':sorted(['SMLV','IWO','IJR','VB','IWS','IWN','IWM','IWP','IWV']),\n",
    "    'medical devices':sorted(['IHI','ABT','MDT','DHR','ISRG','EW','BAX','SYK','BDX','TMO','SILK','XHE','ALGN','DXCM','XRAY']),\n",
    "    'medical laboritories':sorted(['LH','DGX','IQV','CRL','SYNH','PRAH','ICLR']),\n",
    "    'medical retail':sorted(['XHS','CVS','UNH','ANTM','MOH','WBA','JNJ','DGX','AMED','MGLN','CAH']),\n",
    "    'mlp':sorted(['AMLP','HESM','JMLP','EQM','EPD','ET','WES','MMP','PAA','TGE','NS',]),\n",
    "    'reit':sorted(['XLRE','O','LADR','EPR','RQI','IVR','FUN','IYR','VER','MPW','TCO','SKT','IRM','MAC']),\n",
    "    'reit mortage':sorted(['NRZ','BPR','SPG','BAM','BPY','SKT','TCO','STAG','GEO','AWP','WPG','CBL']),\n",
    "    'semi conductors':sorted(['USD','NVDA','AVGO','INTC','AMD','MU','QCOM','TXN','AMAT']),\n",
    "    'silver':sorted(['AG','EXK','FSM','PAAS','SVM','SLVP','SLV']),\n",
    "    'social media':sorted(['SNAP','TWTR','IQ','WB','HUBS','YY','FB']),\n",
    "    'technology software small':sorted(['MANH','MODN','VEEV','PCTY','MOBL','CDAY','COUP']),\n",
    "    'spy sectors':sorted(['XLF','XLP','XRT','XLRE','XLU','SPLV','SPHD','VLUE','MTUM']),\n",
    "    'technology cloud software':sorted(['TEAM','COUP','SHOP','SMAR','OKTA','AYX','HUBS','ZEN']),\n",
    "    'technology large software':sorted(['ORCL','MSFT','GOOG','AAPL','SAP','VMW','ADBE']),\n",
    "    'technology norther tech':sorted(['XSW','XLK','IGV','ZS','TWLO','MDB','OKTA','AYX','TEAM','SWCH','NOW','PAYC','SHOP']),\n",
    "    'transport shipping':sorted(['GLOG','TGP','FLNG','CMRE','TK','GSL','STNG','GLOP','SEA','EURN','MATX','SFL']),\n",
    "    'utilities renewable':sorted(['CWEN','TERP','AY','NEE','NEP','PEGI']),\n",
    "    'utilities':sorted(['NRG','FE','CNP','AES','BEP','NEP','SRE','UTG','PPL','NEE','D','SO','XLU']),\n",
    "    'spdr sectors':sorted(['XLY','XLK','XLV','XLI','XLB','XLF','XLP','XRT','XLRE','XLE','XLU','XBI','XLC','XSW'])\n",
    "    }\n",
    "\n",
    " "
   ]
  },
  {
   "cell_type": "code",
   "execution_count": 58,
   "metadata": {},
   "outputs": [],
   "source": [
    "\n",
    "        \n",
    "stock_dict= {\n",
    "       'finance banks regional':sorted(['KRE','PNC','CMA','KEY','HBAN','RF','FITB']),\n",
    " \n",
    "             'bonds':sorted(['BND'])\n",
    "           }\n",
    "\n"
   ]
  },
  {
   "cell_type": "code",
   "execution_count": 59,
   "metadata": {},
   "outputs": [
    {
     "name": "stdout",
     "output_type": "stream",
     "text": [
      "\u001b[95m finance banks regional\n",
      "\u001b[92m \t FITB \t [0.9, 0.26, 0.26] \t 1.4\n",
      "\u001b[92m \t HBAN \t [1.16, 0.27, 0.47] \t 1.9\n",
      "\u001b[92m \t PNC \t [0.68, 0.45, 0.9] \t 2.0\n",
      "\u001b[95m bonds\n",
      "end\n"
     ]
    }
   ],
   "source": [
    "\n",
    "start = dt.datetime.today() - BDay(4)\n",
    "end = dt.datetime.today()\n",
    "\n",
    "for key in stock_dict.keys():    \n",
    "    print(bcolors.HEADER, key)\n",
    "    stock_tickers = stock_dict[key]\n",
    "    try:\n",
    "        df = web.DataReader(stock_tickers, 'yahoo', start, end)\n",
    "    except Exception as e:\n",
    "        print('error')\n",
    "        \n",
    "    close_df = df[['Close']]['Close']\n",
    "    for i in range(len(stock_tickers)):\n",
    "        try:\n",
    "            aseries = close_df.iloc[:,i]\n",
    "            alist = dailyPercentChangeIs(aseries)\n",
    "            positivePrint(alist)\n",
    "        except Exception as e:\n",
    "            print('Error positivePrint')\n",
    "    for i in range(len(stock_tickers)):\n",
    "        try:\n",
    "            aseries = close_df.iloc[:,i]\n",
    "            alist = dailyPercentChangeIs(aseries)\n",
    "            negativePrint(alist)\n",
    "        except Exception as e:\n",
    "            print('Error negativePrint')\n",
    "    for i in range(len(stock_tickers)):\n",
    "        try:\n",
    "            aseries = close_df.iloc[:,i]\n",
    "            alist = dailyPercentChangeIs(aseries)\n",
    "            greaterPrint(alist)\n",
    "        except Exception as e:\n",
    "            print('Error greaterPrint')\n",
    "    for i in range(len(stock_tickers)):\n",
    "        try:\n",
    "            aseries = close_df.iloc[:,i]\n",
    "            alist = dailyPercentChangeIs(aseries)\n",
    "            lessthanPrint(alist)\n",
    "        except Exception as e:\n",
    "            print('Error lessthanPrint')\n",
    "print('end')\n"
   ]
  },
  {
   "cell_type": "code",
   "execution_count": null,
   "metadata": {},
   "outputs": [],
   "source": []
  }
 ],
 "metadata": {
  "kernelspec": {
   "display_name": "Python 3",
   "language": "python",
   "name": "python3"
  },
  "language_info": {
   "codemirror_mode": {
    "name": "ipython",
    "version": 3
   },
   "file_extension": ".py",
   "mimetype": "text/x-python",
   "name": "python",
   "nbconvert_exporter": "python",
   "pygments_lexer": "ipython3",
   "version": "3.7.3"
  }
 },
 "nbformat": 4,
 "nbformat_minor": 2
}
