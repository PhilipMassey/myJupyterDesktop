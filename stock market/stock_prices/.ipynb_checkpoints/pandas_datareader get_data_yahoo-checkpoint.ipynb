{
 "cells": [
  {
   "cell_type": "markdown",
   "metadata": {},
   "source": [
    "### Pandas Datareader"
   ]
  },
  {
   "cell_type": "code",
   "execution_count": 1,
   "metadata": {},
   "outputs": [
    {
     "data": {
      "text/html": [
       "<div>\n",
       "<style scoped>\n",
       "    .dataframe tbody tr th:only-of-type {\n",
       "        vertical-align: middle;\n",
       "    }\n",
       "\n",
       "    .dataframe tbody tr th {\n",
       "        vertical-align: top;\n",
       "    }\n",
       "\n",
       "    .dataframe thead th {\n",
       "        text-align: right;\n",
       "    }\n",
       "</style>\n",
       "<table border=\"1\" class=\"dataframe\">\n",
       "  <thead>\n",
       "    <tr style=\"text-align: right;\">\n",
       "      <th></th>\n",
       "      <th>High</th>\n",
       "      <th>Low</th>\n",
       "      <th>Open</th>\n",
       "      <th>Close</th>\n",
       "      <th>Volume</th>\n",
       "      <th>Adj Close</th>\n",
       "    </tr>\n",
       "    <tr>\n",
       "      <th>Date</th>\n",
       "      <th></th>\n",
       "      <th></th>\n",
       "      <th></th>\n",
       "      <th></th>\n",
       "      <th></th>\n",
       "      <th></th>\n",
       "    </tr>\n",
       "  </thead>\n",
       "  <tbody>\n",
       "    <tr>\n",
       "      <th>2014-01-02</th>\n",
       "      <td>6358.299805</td>\n",
       "      <td>6211.299805</td>\n",
       "      <td>6301.250000</td>\n",
       "      <td>6221.149902</td>\n",
       "      <td>158100</td>\n",
       "      <td>6221.149902</td>\n",
       "    </tr>\n",
       "    <tr>\n",
       "      <th>2014-01-03</th>\n",
       "      <td>6221.700195</td>\n",
       "      <td>6171.250000</td>\n",
       "      <td>6194.549805</td>\n",
       "      <td>6211.149902</td>\n",
       "      <td>139000</td>\n",
       "      <td>6211.149902</td>\n",
       "    </tr>\n",
       "    <tr>\n",
       "      <th>2014-01-06</th>\n",
       "      <td>6224.700195</td>\n",
       "      <td>6170.250000</td>\n",
       "      <td>6220.850098</td>\n",
       "      <td>6191.450195</td>\n",
       "      <td>118300</td>\n",
       "      <td>6191.450195</td>\n",
       "    </tr>\n",
       "  </tbody>\n",
       "</table>\n",
       "</div>"
      ],
      "text/plain": [
       "                   High          Low         Open        Close  Volume  \\\n",
       "Date                                                                     \n",
       "2014-01-02  6358.299805  6211.299805  6301.250000  6221.149902  158100   \n",
       "2014-01-03  6221.700195  6171.250000  6194.549805  6211.149902  139000   \n",
       "2014-01-06  6224.700195  6170.250000  6220.850098  6191.450195  118300   \n",
       "\n",
       "              Adj Close  \n",
       "Date                     \n",
       "2014-01-02  6221.149902  \n",
       "2014-01-03  6211.149902  \n",
       "2014-01-06  6191.450195  "
      ]
     },
     "execution_count": 1,
     "metadata": {},
     "output_type": "execute_result"
    }
   ],
   "source": [
    "from pandas_datareader import data as pdr\n",
    "import matplotlib.pyplot as plt\n",
    "import pandas as pd\n",
    "data = pdr.get_data_yahoo(\"^NSEI\", start=\"2014-01-01\", end=\"2014-01-05\") \n",
    "data"
   ]
  }
 ],
 "metadata": {
  "kernelspec": {
   "display_name": "Python 3",
   "language": "python",
   "name": "python3"
  },
  "language_info": {
   "codemirror_mode": {
    "name": "ipython",
    "version": 3
   },
   "file_extension": ".py",
   "mimetype": "text/x-python",
   "name": "python",
   "nbconvert_exporter": "python",
   "pygments_lexer": "ipython3",
   "version": "3.7.3"
  }
 },
 "nbformat": 4,
 "nbformat_minor": 2
}
