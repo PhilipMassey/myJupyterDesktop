{
 "cells": [
  {
   "cell_type": "code",
   "execution_count": 2,
   "metadata": {},
   "outputs": [
    {
     "name": "stdout",
     "output_type": "stream",
     "text": [
      "earningsTimestamp \t Apr 29 2020 17:00:00\n",
      "earningsTimestampStart \t Apr 29 2020 17:00:00\n",
      "earningsTimestampEnd \t Apr 29 2020 17:00:00\n"
     ]
    }
   ],
   "source": [
    "import yfinance as yf\n",
    "ticker = 'MSFT'\n",
    "stock_data = yf.Ticker(ticker)\n",
    "keys = ['earningsTimestamp','earningsTimestampStart','earningsTimestampEnd']\n",
    "\n",
    "from datetime import datetime\n",
    "for key in keys:\n",
    "    d =  stock_data.info[key]\n",
    "    print(key,'\\t',datetime.fromtimestamp(d).strftime(\"%b %d %Y %H:%M:%S\"))\n"
   ]
  },
  {
   "cell_type": "code",
   "execution_count": 3,
   "metadata": {},
   "outputs": [
    {
     "data": {
      "text/plain": [
       "{'language': 'en-US',\n",
       " 'region': 'US',\n",
       " 'quoteType': 'EQUITY',\n",
       " 'quoteSourceName': 'Nasdaq Real Time Price',\n",
       " 'triggerable': True,\n",
       " 'currency': 'USD',\n",
       " 'exchange': 'NMS',\n",
       " 'shortName': 'Microsoft Corporation',\n",
       " 'longName': 'Microsoft Corporation',\n",
       " 'messageBoardId': 'finmb_21835',\n",
       " 'exchangeTimezoneName': 'America/New_York',\n",
       " 'exchangeTimezoneShortName': 'EDT',\n",
       " 'gmtOffSetMilliseconds': -14400000,\n",
       " 'market': 'us_market',\n",
       " 'esgPopulated': False,\n",
       " 'firstTradeDateMilliseconds': 511108200000,\n",
       " 'priceHint': 2,\n",
       " 'trailingAnnualDividendRate': 1.94,\n",
       " 'trailingPE': 31.109564,\n",
       " 'trailingAnnualDividendYield': 0.010957976,\n",
       " 'marketState': 'POSTPOST',\n",
       " 'epsTrailingTwelveMonths': 5.741,\n",
       " 'epsForward': 6.18,\n",
       " 'sharesOutstanding': 7606049792,\n",
       " 'bookValue': 14.467,\n",
       " 'fiftyDayAverage': 156.70686,\n",
       " 'fiftyDayAverageChange': 21.893143,\n",
       " 'fiftyDayAverageChangePercent': 0.13970762,\n",
       " 'twoHundredDayAverage': 156.1245,\n",
       " 'twoHundredDayAverageChange': 22.47551,\n",
       " 'twoHundredDayAverageChangePercent': 0.1439589,\n",
       " 'marketCap': 1358440562688,\n",
       " 'forwardPE': 28.899677,\n",
       " 'priceToBook': 12.345338,\n",
       " 'sourceInterval': 15,\n",
       " 'exchangeDataDelayedBy': 0,\n",
       " 'postMarketChangePercent': -0.49831992,\n",
       " 'postMarketTime': 1587167988,\n",
       " 'postMarketPrice': 177.71,\n",
       " 'postMarketChange': -0.8899994,\n",
       " 'regularMarketChange': 1.5600128,\n",
       " 'regularMarketChangePercent': 0.8811641,\n",
       " 'regularMarketTime': 1587153601,\n",
       " 'regularMarketPrice': 178.6,\n",
       " 'regularMarketDayHigh': 180.0,\n",
       " 'regularMarketDayRange': '175.89 - 180.0',\n",
       " 'regularMarketDayLow': 175.89,\n",
       " 'regularMarketVolume': 45266592,\n",
       " 'regularMarketPreviousClose': 177.04,\n",
       " 'bid': 177.77,\n",
       " 'ask': 177.6,\n",
       " 'bidSize': 10,\n",
       " 'askSize': 9,\n",
       " 'fullExchangeName': 'NasdaqGS',\n",
       " 'financialCurrency': 'USD',\n",
       " 'regularMarketOpen': 179.5,\n",
       " 'averageDailyVolume3Month': 54464256,\n",
       " 'averageDailyVolume10Day': 49772600,\n",
       " 'fiftyTwoWeekLowChange': 59.590004,\n",
       " 'fiftyTwoWeekLowChangePercent': 0.50071424,\n",
       " 'fiftyTwoWeekRange': '119.01 - 190.7',\n",
       " 'fiftyTwoWeekHighChange': -12.099991,\n",
       " 'fiftyTwoWeekHighChangePercent': -0.063450396,\n",
       " 'fiftyTwoWeekLow': 119.01,\n",
       " 'fiftyTwoWeekHigh': 190.7,\n",
       " 'dividendDate': 1591833600,\n",
       " 'earningsTimestamp': 1588204800,\n",
       " 'earningsTimestampStart': 1588204800,\n",
       " 'earningsTimestampEnd': 1588204800,\n",
       " 'tradeable': False,\n",
       " 'symbol': 'MSFT'}"
      ]
     },
     "execution_count": 3,
     "metadata": {},
     "output_type": "execute_result"
    }
   ],
   "source": [
    "stock_data.info"
   ]
  },
  {
   "cell_type": "code",
   "execution_count": null,
   "metadata": {},
   "outputs": [],
   "source": []
  }
 ],
 "metadata": {
  "anaconda-cloud": {},
  "kernelspec": {
   "display_name": "Python 3",
   "language": "python",
   "name": "python3"
  },
  "language_info": {
   "codemirror_mode": {
    "name": "ipython",
    "version": 3
   },
   "file_extension": ".py",
   "mimetype": "text/x-python",
   "name": "python",
   "nbconvert_exporter": "python",
   "pygments_lexer": "ipython3",
   "version": "3.7.3"
  }
 },
 "nbformat": 4,
 "nbformat_minor": 1
}
