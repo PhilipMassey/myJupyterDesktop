{
 "cells": [
  {
   "cell_type": "code",
   "execution_count": 8,
   "metadata": {},
   "outputs": [],
   "source": [
    "import ffn\n",
    "tickers = 'agg,hyg,spy,eem,efa'\n",
    "start_date = '2020-01-01'\n",
    "end_date = '2020-04-15'"
   ]
  },
  {
   "cell_type": "code",
   "execution_count": 9,
   "metadata": {},
   "outputs": [
    {
     "name": "stdout",
     "output_type": "stream",
     "text": [
      "                   agg        hyg         spy        eem        efa\n",
      "Date                                                               \n",
      "2020-01-02  111.967773  87.114983  322.970825  45.779999  70.139999\n",
      "2020-01-03  112.295685  87.026199  320.525238  44.930000  69.269997\n",
      "2020-01-06  112.206245  86.937416  321.748047  44.820000  69.540001\n",
      "2020-01-07  112.087021  86.858505  320.843353  44.790001  69.349998\n",
      "2020-01-08  111.957840  86.937416  322.553314  45.049999  69.550003\n"
     ]
    }
   ],
   "source": [
    "data = ffn.get(tickers, start=start_date, end=end_date)\n",
    "print( data.head())\n"
   ]
  },
  {
   "cell_type": "code",
   "execution_count": 13,
   "metadata": {},
   "outputs": [
    {
     "data": {
      "text/plain": [
       "<matplotlib.axes._subplots.AxesSubplot at 0x10e5c8c88>"
      ]
     },
     "execution_count": 13,
     "metadata": {},
     "output_type": "execute_result"
    }
   ],
   "source": [
    "ax = data.rebase().plot(figsize=(12,5))\n",
    "ax"
   ]
  },
  {
   "cell_type": "code",
   "execution_count": 19,
   "metadata": {},
   "outputs": [
    {
     "data": {
      "text/plain": [
       "<matplotlib.axes._subplots.AxesSubplot at 0x1364e3d30>"
      ]
     },
     "execution_count": 19,
     "metadata": {},
     "output_type": "execute_result"
    }
   ],
   "source": [
    "ax = data.rebase().plot(figsize=(12,5))\n",
    "ax"
   ]
  },
  {
   "cell_type": "code",
   "execution_count": 24,
   "metadata": {},
   "outputs": [
    {
     "data": {
      "text/plain": [
       "<matplotlib.axes._subplots.AxesSubplot at 0x13664c940>"
      ]
     },
     "execution_count": 24,
     "metadata": {},
     "output_type": "execute_result"
    }
   ],
   "source": [
    "perf = data.calc_stats()\n",
    "perf\n",
    "perf.plot()"
   ]
  },
  {
   "cell_type": "code",
   "execution_count": 25,
   "metadata": {},
   "outputs": [
    {
     "name": "stdout",
     "output_type": "stream",
     "text": [
      "Stat                 agg         hyg         spy         eem         efa\n",
      "-------------------  ----------  ----------  ----------  ----------  ----------\n",
      "Start                2020-01-02  2020-01-02  2020-01-02  2020-01-02  2020-01-02\n",
      "End                  2020-04-15  2020-04-15  2020-04-15  2020-04-15  2020-04-15\n",
      "Risk-free rate       0.00%       0.00%       0.00%       0.00%       0.00%\n",
      "\n",
      "Total Return         4.71%       -7.29%      -14.00%     -22.94%     -22.63%\n",
      "Daily Sharpe         1.15        -0.76       -0.71       -1.43       -1.59\n",
      "Daily Sortino        1.50        -1.20       -1.08       -2.01       -2.22\n",
      "CAGR                 17.54%      -23.36%     -41.12%     -59.95%     -59.38%\n",
      "Max Drawdown         -9.58%      -22.03%     -33.72%     -33.89%     -33.93%\n",
      "Calmar Ratio         1.83        -1.06       -1.22       -1.77       -1.75\n",
      "\n",
      "MTD                  1.84%       5.31%       7.76%       3.37%       1.52%\n",
      "3m                   4.25%       -7.39%      -14.87%     -22.77%     -22.34%\n",
      "6m                   -           -           -           -           -\n",
      "YTD                  4.71%       -7.29%      -14.00%     -22.94%     -22.63%\n",
      "1Y                   -           -           -           -           -\n",
      "3Y (ann.)            -           -           -           -           -\n",
      "5Y (ann.)            -           -           -           -           -\n",
      "10Y (ann.)           -           -           -           -           -\n",
      "Since Incep. (ann.)  17.54%      -23.36%     -41.12%     -59.95%     -59.38%\n",
      "\n",
      "Daily Sharpe         1.15        -0.76       -0.71       -1.43       -1.59\n",
      "Daily Sortino        1.50        -1.20       -1.08       -2.01       -2.22\n",
      "Daily Mean (ann.)    17.49%      -22.54%     -38.58%     -77.52%     -78.60%\n",
      "Daily Vol (ann.)     15.21%      29.67%      54.72%      54.12%      49.39%\n",
      "Daily Skew           -1.93       0.30        -0.19       -0.78       -0.75\n",
      "Daily Kurt           8.40        3.14        2.03        2.83        3.30\n",
      "Best Day             2.37%       6.55%       9.06%       7.51%       8.47%\n",
      "Worst Day            -4.00%      -5.50%      -10.94%     -12.48%     -10.99%\n",
      "\n",
      "Monthly Sharpe       2.58        -0.90       -1.37       -1.93       -2.99\n",
      "Monthly Sortino      11.00       -1.27       -2.31       -2.27       -3.33\n",
      "Monthly Mean (ann.)  11.59%      -24.01%     -50.56%     -64.71%     -81.43%\n",
      "Monthly Vol (ann.)   4.50%       26.66%      36.79%      33.50%      27.22%\n",
      "Monthly Skew         -1.66       -0.41       1.38        -0.73       0.55\n",
      "Monthly Kurt         -           -           -           -           -\n",
      "Best Month           1.84%       5.31%       7.76%       3.37%       1.52%\n",
      "Worst Month          -0.53%      -10.03%     -12.49%     -15.77%     -14.11%\n",
      "\n",
      "Yearly Sharpe        -           -           -           -           -\n",
      "Yearly Sortino       -           -           -           -           -\n",
      "Yearly Mean          -           -           -           -           -\n",
      "Yearly Vol           -           -           -           -           -\n",
      "Yearly Skew          -           -           -           -           -\n",
      "Yearly Kurt          -           -           -           -           -\n",
      "Best Year            -           -           -           -           -\n",
      "Worst Year           -           -           -           -           -\n",
      "\n",
      "Avg. Drawdown        -1.20%      -4.03%      -4.86%      -18.03%     -17.59%\n",
      "Avg. Drawdown Days   7.78        15.17       10.62       51.00       49.00\n",
      "Avg. Up Month        1.71%       5.31%       7.76%       3.37%       1.52%\n",
      "Avg. Down Month      -0.53%      -5.66%      -10.20%     -9.77%      -10.94%\n",
      "Win Year %           -           -           -           -           -\n",
      "Win 12m %            -           -           -           -           -\n",
      "None\n"
     ]
    }
   ],
   "source": [
    "print(perf.display())"
   ]
  },
  {
   "cell_type": "code",
   "execution_count": 26,
   "metadata": {},
   "outputs": [
    {
     "name": "stdout",
     "output_type": "stream",
     "text": [
      "  Year    Jan    Feb     Mar    Apr    May    Jun    Jul    Aug    Sep    Oct    Nov    Dec    YTD\n",
      "------  -----  -----  ------  -----  -----  -----  -----  -----  -----  -----  -----  -----  -----\n",
      "  2020  -0.97  -7.92  -12.49   7.76      0      0      0      0      0      0      0      0    -14\n"
     ]
    }
   ],
   "source": [
    "# we can also use perf[2] in this case\n",
    "perf['spy'].display_monthly_returns()"
   ]
  },
  {
   "cell_type": "code",
   "execution_count": 27,
   "metadata": {},
   "outputs": [
    {
     "name": "stderr",
     "output_type": "stream",
     "text": [
      "/Library/Frameworks/Python.framework/Versions/3.7/lib/python3.7/site-packages/pandas/plotting/_core.py:2477: MatplotlibDeprecationWarning: \n",
      "The 'normed' kwarg was deprecated in Matplotlib 2.1 and will be removed in 3.1. Use 'density' instead.\n",
      "  ax.hist(values, bins=bins, **kwds)\n"
     ]
    },
    {
     "data": {
      "text/plain": [
       "<matplotlib.axes._subplots.AxesSubplot at 0x1366d8978>"
      ]
     },
     "execution_count": 27,
     "metadata": {},
     "output_type": "execute_result"
    }
   ],
   "source": [
    "perf[2].plot_histogram()"
   ]
  },
  {
   "cell_type": "code",
   "execution_count": 28,
   "metadata": {},
   "outputs": [
    {
     "data": {
      "text/plain": [
       "start                    2020-01-02 00:00:00\n",
       "end                      2020-04-15 00:00:00\n",
       "rf                                         0\n",
       "total_return                       -0.139984\n",
       "cagr                               -0.411176\n",
       "max_drawdown                       -0.337173\n",
       "calmar                              -1.21948\n",
       "mtd                                0.0776334\n",
       "three_month                        -0.148684\n",
       "six_month                                NaN\n",
       "ytd                                -0.139984\n",
       "one_year                                 NaN\n",
       "three_year                               NaN\n",
       "five_year                                NaN\n",
       "ten_year                                 NaN\n",
       "incep                              -0.411176\n",
       "daily_sharpe                       -0.705074\n",
       "daily_sortino                       -1.08383\n",
       "daily_mean                         -0.385821\n",
       "daily_vol                           0.547207\n",
       "daily_skew                         -0.194222\n",
       "daily_kurt                           2.02782\n",
       "best_day                           0.0906033\n",
       "worst_day                          -0.109424\n",
       "monthly_sharpe                      -1.37425\n",
       "monthly_sortino                     -2.31026\n",
       "monthly_mean                       -0.505615\n",
       "monthly_vol                         0.367922\n",
       "monthly_skew                         1.37824\n",
       "monthly_kurt                             NaN\n",
       "best_month                         0.0776334\n",
       "worst_month                        -0.124871\n",
       "yearly_sharpe                            NaN\n",
       "yearly_sortino                           NaN\n",
       "yearly_mean                              NaN\n",
       "yearly_vol                               NaN\n",
       "yearly_skew                              NaN\n",
       "yearly_kurt                              NaN\n",
       "best_year                                NaN\n",
       "worst_year                               NaN\n",
       "avg_drawdown                      -0.0486136\n",
       "avg_drawdown_days                     10.625\n",
       "avg_up_month                       0.0776334\n",
       "avg_down_month                     -0.102019\n",
       "win_year_perc                            NaN\n",
       "twelve_month_win_perc                    NaN\n",
       "dtype: object"
      ]
     },
     "execution_count": 28,
     "metadata": {},
     "output_type": "execute_result"
    }
   ],
   "source": [
    "perf['spy'].stats"
   ]
  },
  {
   "cell_type": "code",
   "execution_count": 15,
   "metadata": {},
   "outputs": [
    {
     "name": "stdout",
     "output_type": "stream",
     "text": [
      "                 agg       hyg       spy       eem       efa\n",
      "Date                                                        \n",
      "2020-01-03  0.002924 -0.001020 -0.007601 -0.018742 -0.012481\n",
      "2020-01-06 -0.000797 -0.001021  0.003808 -0.002451  0.003890\n",
      "2020-01-07 -0.001063 -0.000908 -0.002816 -0.000670 -0.002736\n",
      "2020-01-08 -0.001153  0.000908  0.005315  0.005788  0.002880\n",
      "2020-01-09  0.001064  0.002606  0.006758  0.006637  0.002298\n"
     ]
    }
   ],
   "source": [
    "returns = data.to_log_returns().dropna()\n",
    "print( returns.head())"
   ]
  },
  {
   "cell_type": "code",
   "execution_count": 29,
   "metadata": {},
   "outputs": [
    {
     "data": {
      "text/plain": [
       "agg    100.00%\n",
       "hyg      0.00%\n",
       "spy      0.00%\n",
       "eem      0.00%\n",
       "efa      0.00%\n",
       "dtype: object"
      ]
     },
     "execution_count": 29,
     "metadata": {},
     "output_type": "execute_result"
    }
   ],
   "source": [
    "returns.calc_mean_var_weights().as_format('.2%')"
   ]
  },
  {
   "cell_type": "code",
   "execution_count": 16,
   "metadata": {},
   "outputs": [
    {
     "data": {
      "text/plain": [
       "array([[<matplotlib.axes._subplots.AxesSubplot object at 0x10e54beb8>,\n",
       "        <matplotlib.axes._subplots.AxesSubplot object at 0x10e51aef0>],\n",
       "       [<matplotlib.axes._subplots.AxesSubplot object at 0x133f07438>,\n",
       "        <matplotlib.axes._subplots.AxesSubplot object at 0x1341889e8>],\n",
       "       [<matplotlib.axes._subplots.AxesSubplot object at 0x1341f35f8>,\n",
       "        <matplotlib.axes._subplots.AxesSubplot object at 0x13421bba8>]],\n",
       "      dtype=object)"
      ]
     },
     "execution_count": 16,
     "metadata": {},
     "output_type": "execute_result"
    }
   ],
   "source": [
    "ax = returns.hist(figsize=(12, 5))\n",
    "ax"
   ]
  },
  {
   "cell_type": "code",
   "execution_count": 17,
   "metadata": {},
   "outputs": [
    {
     "data": {
      "text/html": [
       "<div>\n",
       "<style scoped>\n",
       "    .dataframe tbody tr th:only-of-type {\n",
       "        vertical-align: middle;\n",
       "    }\n",
       "\n",
       "    .dataframe tbody tr th {\n",
       "        vertical-align: top;\n",
       "    }\n",
       "\n",
       "    .dataframe thead th {\n",
       "        text-align: right;\n",
       "    }\n",
       "</style>\n",
       "<table border=\"1\" class=\"dataframe\">\n",
       "  <thead>\n",
       "    <tr style=\"text-align: right;\">\n",
       "      <th></th>\n",
       "      <th>agg</th>\n",
       "      <th>hyg</th>\n",
       "      <th>spy</th>\n",
       "      <th>eem</th>\n",
       "      <th>efa</th>\n",
       "    </tr>\n",
       "  </thead>\n",
       "  <tbody>\n",
       "    <tr>\n",
       "      <th>agg</th>\n",
       "      <td>1.00</td>\n",
       "      <td>0.27</td>\n",
       "      <td>0.18</td>\n",
       "      <td>0.22</td>\n",
       "      <td>0.29</td>\n",
       "    </tr>\n",
       "    <tr>\n",
       "      <th>hyg</th>\n",
       "      <td>0.27</td>\n",
       "      <td>1.00</td>\n",
       "      <td>0.85</td>\n",
       "      <td>0.77</td>\n",
       "      <td>0.85</td>\n",
       "    </tr>\n",
       "    <tr>\n",
       "      <th>spy</th>\n",
       "      <td>0.18</td>\n",
       "      <td>0.85</td>\n",
       "      <td>1.00</td>\n",
       "      <td>0.92</td>\n",
       "      <td>0.96</td>\n",
       "    </tr>\n",
       "    <tr>\n",
       "      <th>eem</th>\n",
       "      <td>0.22</td>\n",
       "      <td>0.77</td>\n",
       "      <td>0.92</td>\n",
       "      <td>1.00</td>\n",
       "      <td>0.95</td>\n",
       "    </tr>\n",
       "    <tr>\n",
       "      <th>efa</th>\n",
       "      <td>0.29</td>\n",
       "      <td>0.85</td>\n",
       "      <td>0.96</td>\n",
       "      <td>0.95</td>\n",
       "      <td>1.00</td>\n",
       "    </tr>\n",
       "  </tbody>\n",
       "</table>\n",
       "</div>"
      ],
      "text/plain": [
       "      agg   hyg   spy   eem   efa\n",
       "agg  1.00  0.27  0.18  0.22  0.29\n",
       "hyg  0.27  1.00  0.85  0.77  0.85\n",
       "spy  0.18  0.85  1.00  0.92  0.96\n",
       "eem  0.22  0.77  0.92  1.00  0.95\n",
       "efa  0.29  0.85  0.96  0.95  1.00"
      ]
     },
     "execution_count": 17,
     "metadata": {},
     "output_type": "execute_result"
    }
   ],
   "source": [
    "returns.corr().as_format('.2f')"
   ]
  },
  {
   "cell_type": "code",
   "execution_count": 18,
   "metadata": {},
   "outputs": [
    {
     "data": {
      "text/plain": [
       "<module 'matplotlib.pyplot' from '/Library/Frameworks/Python.framework/Versions/3.7/lib/python3.7/site-packages/matplotlib/pyplot.py'>"
      ]
     },
     "execution_count": 18,
     "metadata": {},
     "output_type": "execute_result"
    }
   ],
   "source": [
    "returns.plot_corr_heatmap()"
   ]
  },
  {
   "cell_type": "code",
   "execution_count": 11,
   "metadata": {},
   "outputs": [
    {
     "name": "stdout",
     "output_type": "stream",
     "text": [
      "              netopen    nethigh     netlow   netclose\n",
      "Date                                                  \n",
      "2020-01-02  17.240000  17.350000  16.799999  17.030001\n",
      "2020-01-03  16.959999  17.330000  16.820000  17.170000\n",
      "2020-01-06  17.150000  17.950001  16.980000  17.690001\n",
      "2020-01-07  17.670000  17.849001  17.299999  17.670000\n",
      "2020-01-08  17.650000  18.000000  17.500000  17.780001\n"
     ]
    }
   ],
   "source": [
    "print(ffn.get('net:Open,net:High,net:Low,net:Close', start=start_date, end=end_date).head())"
   ]
  },
  {
   "cell_type": "code",
   "execution_count": 30,
   "metadata": {},
   "outputs": [
    {
     "ename": "AttributeError",
     "evalue": "'Series' object has no attribute 'order'",
     "output_type": "error",
     "traceback": [
      "\u001b[0;31m---------------------------------------------------------------------------\u001b[0m",
      "\u001b[0;31mAttributeError\u001b[0m                            Traceback (most recent call last)",
      "\u001b[0;32m<ipython-input-30-cdb4f592d4ba>\u001b[0m in \u001b[0;36m<module>\u001b[0;34m\u001b[0m\n\u001b[0;32m----> 1\u001b[0;31m \u001b[0mreturns\u001b[0m\u001b[0;34m.\u001b[0m\u001b[0mcalc_ftca\u001b[0m\u001b[0;34m(\u001b[0m\u001b[0mthreshold\u001b[0m\u001b[0;34m=\u001b[0m\u001b[0;36m0.8\u001b[0m\u001b[0;34m)\u001b[0m\u001b[0;34m\u001b[0m\u001b[0;34m\u001b[0m\u001b[0m\n\u001b[0m",
      "\u001b[0;32m/Library/Frameworks/Python.framework/Versions/3.7/lib/python3.7/site-packages/ffn/core.py\u001b[0m in \u001b[0;36mcalc_ftca\u001b[0;34m(returns, threshold)\u001b[0m\n\u001b[1;32m   1746\u001b[0m             \u001b[0mcur_corr\u001b[0m \u001b[0;34m=\u001b[0m \u001b[0mcorr\u001b[0m\u001b[0;34m[\u001b[0m\u001b[0mremain\u001b[0m\u001b[0;34m]\u001b[0m\u001b[0;34m.\u001b[0m\u001b[0mix\u001b[0m\u001b[0;34m[\u001b[0m\u001b[0mremain\u001b[0m\u001b[0;34m]\u001b[0m\u001b[0;34m\u001b[0m\u001b[0;34m\u001b[0m\u001b[0m\n\u001b[1;32m   1747\u001b[0m             \u001b[0;31m# get mean correlations, ordered\u001b[0m\u001b[0;34m\u001b[0m\u001b[0;34m\u001b[0m\u001b[0;34m\u001b[0m\u001b[0m\n\u001b[0;32m-> 1748\u001b[0;31m             \u001b[0mmc\u001b[0m \u001b[0;34m=\u001b[0m \u001b[0mcur_corr\u001b[0m\u001b[0;34m.\u001b[0m\u001b[0mmean\u001b[0m\u001b[0;34m(\u001b[0m\u001b[0;34m)\u001b[0m\u001b[0;34m.\u001b[0m\u001b[0morder\u001b[0m\u001b[0;34m(\u001b[0m\u001b[0;34m)\u001b[0m\u001b[0;34m\u001b[0m\u001b[0;34m\u001b[0m\u001b[0m\n\u001b[0m\u001b[1;32m   1749\u001b[0m             \u001b[0;31m# get lowest and highest mean correlation\u001b[0m\u001b[0;34m\u001b[0m\u001b[0;34m\u001b[0m\u001b[0;34m\u001b[0m\u001b[0m\n\u001b[1;32m   1750\u001b[0m             \u001b[0mlow\u001b[0m \u001b[0;34m=\u001b[0m \u001b[0mmc\u001b[0m\u001b[0;34m.\u001b[0m\u001b[0mindex\u001b[0m\u001b[0;34m[\u001b[0m\u001b[0;36m0\u001b[0m\u001b[0;34m]\u001b[0m\u001b[0;34m\u001b[0m\u001b[0;34m\u001b[0m\u001b[0m\n",
      "\u001b[0;32m/Library/Frameworks/Python.framework/Versions/3.7/lib/python3.7/site-packages/pandas/core/generic.py\u001b[0m in \u001b[0;36m__getattr__\u001b[0;34m(self, name)\u001b[0m\n\u001b[1;32m   5065\u001b[0m             \u001b[0;32mif\u001b[0m \u001b[0mself\u001b[0m\u001b[0;34m.\u001b[0m\u001b[0m_info_axis\u001b[0m\u001b[0;34m.\u001b[0m\u001b[0m_can_hold_identifiers_and_holds_name\u001b[0m\u001b[0;34m(\u001b[0m\u001b[0mname\u001b[0m\u001b[0;34m)\u001b[0m\u001b[0;34m:\u001b[0m\u001b[0;34m\u001b[0m\u001b[0;34m\u001b[0m\u001b[0m\n\u001b[1;32m   5066\u001b[0m                 \u001b[0;32mreturn\u001b[0m \u001b[0mself\u001b[0m\u001b[0;34m[\u001b[0m\u001b[0mname\u001b[0m\u001b[0;34m]\u001b[0m\u001b[0;34m\u001b[0m\u001b[0;34m\u001b[0m\u001b[0m\n\u001b[0;32m-> 5067\u001b[0;31m             \u001b[0;32mreturn\u001b[0m \u001b[0mobject\u001b[0m\u001b[0;34m.\u001b[0m\u001b[0m__getattribute__\u001b[0m\u001b[0;34m(\u001b[0m\u001b[0mself\u001b[0m\u001b[0;34m,\u001b[0m \u001b[0mname\u001b[0m\u001b[0;34m)\u001b[0m\u001b[0;34m\u001b[0m\u001b[0;34m\u001b[0m\u001b[0m\n\u001b[0m\u001b[1;32m   5068\u001b[0m \u001b[0;34m\u001b[0m\u001b[0m\n\u001b[1;32m   5069\u001b[0m     \u001b[0;32mdef\u001b[0m \u001b[0m__setattr__\u001b[0m\u001b[0;34m(\u001b[0m\u001b[0mself\u001b[0m\u001b[0;34m,\u001b[0m \u001b[0mname\u001b[0m\u001b[0;34m,\u001b[0m \u001b[0mvalue\u001b[0m\u001b[0;34m)\u001b[0m\u001b[0;34m:\u001b[0m\u001b[0;34m\u001b[0m\u001b[0;34m\u001b[0m\u001b[0m\n",
      "\u001b[0;31mAttributeError\u001b[0m: 'Series' object has no attribute 'order'"
     ]
    }
   ],
   "source": [
    "returns.calc_ftca(threshold=0.8)"
   ]
  },
  {
   "cell_type": "code",
   "execution_count": null,
   "metadata": {},
   "outputs": [],
   "source": []
  }
 ],
 "metadata": {
  "kernelspec": {
   "display_name": "Python 3",
   "language": "python",
   "name": "python3"
  },
  "language_info": {
   "codemirror_mode": {
    "name": "ipython",
    "version": 3
   },
   "file_extension": ".py",
   "mimetype": "text/x-python",
   "name": "python",
   "nbconvert_exporter": "python",
   "pygments_lexer": "ipython3",
   "version": "3.7.3"
  }
 },
 "nbformat": 4,
 "nbformat_minor": 2
}
