{
 "cells": [
  {
   "cell_type": "code",
   "execution_count": 96,
   "metadata": {},
   "outputs": [
    {
     "name": "stdout",
     "output_type": "stream",
     "text": [
      "BKNG\n",
      "TRAVEL,CCL\n",
      "TRAVEL,DAL\n",
      "TRAVEL,EXPE\n",
      "TRAVEL,JETS\n",
      "TRAVEL,LUV\n",
      "TRAVEL,MMYT\n",
      "TRAVEL,NCLH\n",
      "TRAVEL,RCL\n",
      "TRAVEL,SABR\n",
      "TRAVEL,TRIP\n",
      "TRAVEL,TZOO\n",
      "TRAVEL,UAL\n",
      "TRAVEL,\n"
     ]
    }
   ],
   "source": [
    "import pyperclip\n",
    "import re\n",
    "spam = pyperclip.paste()\n",
    "pattern = re.compile(r'\\d+') \n",
    "spam2 =  re.sub(pattern, ',', spam) \n",
    "pattern = re.compile(r'\\W+') \n",
    "spam3 =  re.sub(pattern, '\\nTRAVEL,', spam2) \n",
    "print(spam3)"
   ]
  },
  {
   "cell_type": "code",
   "execution_count": 87,
   "metadata": {},
   "outputs": [
    {
     "name": "stdout",
     "output_type": "stream",
     "text": [
      "BKNG,CCL,DAL,EXPE,JETS,LUV,MMYT,NCLH,RCL,SABR,TRIP,TZOO,UAL,\n"
     ]
    }
   ],
   "source": [
    "pyperclip.copy(spam3)\n"
   ]
  },
  {
   "cell_type": "code",
   "execution_count": null,
   "metadata": {},
   "outputs": [],
   "source": []
  }
 ],
 "metadata": {
  "kernelspec": {
   "display_name": "Python 3",
   "language": "python",
   "name": "python3"
  },
  "language_info": {
   "codemirror_mode": {
    "name": "ipython",
    "version": 3
   },
   "file_extension": ".py",
   "mimetype": "text/x-python",
   "name": "python",
   "nbconvert_exporter": "python",
   "pygments_lexer": "ipython3",
   "version": "3.7.3"
  }
 },
 "nbformat": 4,
 "nbformat_minor": 2
}
