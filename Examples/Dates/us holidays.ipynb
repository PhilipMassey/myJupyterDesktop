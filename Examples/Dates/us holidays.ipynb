{
 "cells": [
  {
   "cell_type": "code",
   "execution_count": null,
   "metadata": {},
   "outputs": [],
   "source": [
    "from datetime import datetime\n",
    "import pandas as pd\n",
    "\n",
    "ndays = 10\n",
    "now = datetime.now()\n",
    "start = now - pd.tseries.offsets.BusinessDay(n=(ndays+1))\n",
    "end = now - pd.tseries.offsets.BusinessDay(n=0)\n",
    "start = '{:%Y-%m-%d}'.format(start)\n",
    "end = '{:%Y-%m-%d}'.format(end)\n",
    "print(start,end)\n",
    "\n",
    "datestr = start\n",
    "d1 = datetime.strptime(datestr, \"%Y-%m-%d\")\n",
    "d2 = datetime.today()\n",
    "d2 - d1"
   ]
  },
  {
   "cell_type": "code",
   "execution_count": 21,
   "metadata": {},
   "outputs": [
    {
     "data": {
      "text/plain": [
       "{datetime.date(2015, 1, 1): \"New Year's Day\",\n",
       " datetime.date(2015, 1, 19): 'Martin Luther King Jr. Day',\n",
       " datetime.date(2015, 2, 16): \"Washington's Birthday\",\n",
       " datetime.date(2015, 5, 25): 'Memorial Day',\n",
       " datetime.date(2015, 7, 4): 'Independence Day',\n",
       " datetime.date(2015, 7, 3): 'Independence Day (Observed)',\n",
       " datetime.date(2015, 9, 7): 'Labor Day',\n",
       " datetime.date(2015, 10, 12): 'Columbus Day',\n",
       " datetime.date(2015, 11, 11): 'Veterans Day',\n",
       " datetime.date(2015, 11, 26): 'Thanksgiving',\n",
       " datetime.date(2015, 12, 25): 'Christmas Day',\n",
       " datetime.date(2020, 1, 1): \"New Year's Day\",\n",
       " datetime.date(2020, 1, 20): 'Martin Luther King Jr. Day',\n",
       " datetime.date(2020, 2, 17): \"Washington's Birthday\",\n",
       " datetime.date(2020, 5, 25): 'Memorial Day',\n",
       " datetime.date(2020, 7, 4): 'Independence Day',\n",
       " datetime.date(2020, 7, 3): 'Independence Day (Observed)',\n",
       " datetime.date(2020, 9, 7): 'Labor Day',\n",
       " datetime.date(2020, 10, 12): 'Columbus Day',\n",
       " datetime.date(2020, 11, 11): 'Veterans Day',\n",
       " datetime.date(2020, 11, 26): 'Thanksgiving',\n",
       " datetime.date(2020, 12, 25): 'Christmas Day',\n",
       " datetime.date(2019, 1, 1): \"New Year's Day\",\n",
       " datetime.date(2019, 1, 21): 'Martin Luther King Jr. Day',\n",
       " datetime.date(2019, 2, 18): \"Washington's Birthday\",\n",
       " datetime.date(2019, 5, 27): 'Memorial Day',\n",
       " datetime.date(2019, 7, 4): 'Independence Day',\n",
       " datetime.date(2019, 9, 2): 'Labor Day',\n",
       " datetime.date(2019, 10, 14): 'Columbus Day',\n",
       " datetime.date(2019, 11, 11): 'Veterans Day',\n",
       " datetime.date(2019, 11, 28): 'Thanksgiving',\n",
       " datetime.date(2019, 12, 25): 'Christmas Day'}"
      ]
     },
     "execution_count": 21,
     "metadata": {},
     "output_type": "execute_result"
    }
   ],
   "source": [
    "us_holidays"
   ]
  },
  {
   "cell_type": "code",
   "execution_count": null,
   "metadata": {},
   "outputs": [],
   "source": [
    "New Year's Day\n",
    "Martin Luther King, Jr. Day\n",
    "Presidents' Day (Washington's Birthday)\n",
    "Good Friday\n",
    "Memorial Day\n",
    "Independence Day\n",
    "Labor Day\n",
    "Thanksgiving Day\n",
    "Christmas Day\n"
   ]
  },
  {
   "cell_type": "code",
   "execution_count": 11,
   "metadata": {},
   "outputs": [
    {
     "data": {
      "text/plain": [
       "True"
      ]
     },
     "execution_count": 11,
     "metadata": {},
     "output_type": "execute_result"
    }
   ],
   "source": [
    "from datetime import date\n",
    "from datetime import datetime\n",
    "import holidays\n",
    "\n",
    "us_holidays = holidays.UnitedStates()\n",
    "date(2015, 1, 1) in us_holidays"
   ]
  },
  {
   "cell_type": "code",
   "execution_count": 20,
   "metadata": {},
   "outputs": [
    {
     "name": "stdout",
     "output_type": "stream",
     "text": [
      "2020-11-26 00:00:00 True\n",
      "2020-09-07 00:00:00 True\n",
      "2020-07-03 00:00:00 True\n",
      "2020-05-25 00:00:00 True\n",
      "2020-04-10 00:00:00 False\n",
      "2020-02-17 00:00:00 True\n",
      "2020-02-14 00:00:00 False\n",
      "2020-02-06 00:00:00 False\n",
      "2020-02-05 00:00:00 False\n",
      "2020-01-20 00:00:00 True\n",
      "2020-01-01 00:00:00 True\n",
      "2019-12-25 00:00:00 True\n",
      "2019-11-28 00:00:00 True\n",
      "2019-09-02 00:00:00 True\n"
     ]
    }
   ],
   "source": [
    "alist = ['2020-11-26', '2020-09-07', '2020-07-03', '2020-05-25', '2020-04-10', '2020-02-17', '2020-02-14', '2020-02-06', '2020-02-05', '2020-01-20', '2020-01-01', '2019-12-25', '2019-11-28', '2019-09-02']\n",
    "\n",
    "def convertidx(idx):\n",
    "    return datetime.strptime(alist[idx], '%Y-%m-%d')\n",
    "a=[]\n",
    "[a.append(convertidx(i)) for i in range(0,len(alist))]\n",
    "for idx in range(len(a)):\n",
    "    print(a[idx],a[idx] in us_holidays)"
   ]
  }
 ],
 "metadata": {
  "kernelspec": {
   "display_name": "Python 3",
   "language": "python",
   "name": "python3"
  },
  "language_info": {
   "codemirror_mode": {
    "name": "ipython",
    "version": 3
   },
   "file_extension": ".py",
   "mimetype": "text/x-python",
   "name": "python",
   "nbconvert_exporter": "python",
   "pygments_lexer": "ipython3",
   "version": "3.7.3"
  }
 },
 "nbformat": 4,
 "nbformat_minor": 2
}
