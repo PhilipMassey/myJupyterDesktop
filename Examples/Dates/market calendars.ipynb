{
 "cells": [
  {
   "cell_type": "code",
   "execution_count": null,
   "metadata": {},
   "outputs": [],
   "source": [
    "trading-calendars, pandas-market-calendars"
   ]
  },
  {
   "cell_type": "code",
   "execution_count": 19,
   "metadata": {},
   "outputs": [],
   "source": [
    "import pandas as pd\n",
    "import pandas_market_calendars as mcal\n",
    "from datetime import datetime\n",
    "\n",
    "# Show available calendars\n",
    "#print(mcal.get_calendar_names())\n",
    "# Create a calendar\n",
    "nyse = mcal.get_calendar('NYSE')\n",
    "nyse\n",
    "import inspect\n",
    "#inspect.getmembers(nyse, predicate=inspect.ismethod)\n",
    "#inspect.getmembers(nyse, predicate=inspect.isfunction)"
   ]
  },
  {
   "cell_type": "code",
   "execution_count": 20,
   "metadata": {},
   "outputs": [
    {
     "data": {
      "text/plain": [
       "1"
      ]
     },
     "execution_count": 20,
     "metadata": {},
     "output_type": "execute_result"
    }
   ],
   "source": [
    "start_date = datetime.strptime('2020-11-25', \"%Y-%m-%d\")\n",
    "end_date = datetime.strptime('2020-11-25', \"%Y-%m-%d\")\n",
    "\n",
    "len(nyse.valid_days(start_date,end_date))"
   ]
  },
  {
   "cell_type": "code",
   "execution_count": 27,
   "metadata": {},
   "outputs": [
    {
     "data": {
      "text/plain": [
       "True"
      ]
     },
     "execution_count": 27,
     "metadata": {},
     "output_type": "execute_result"
    }
   ],
   "source": [
    "import trading_calendars as tc\n",
    "xnys = tc.get_calendar(\"XNYS\")\n",
    "xnys.is_session(pd.Timestamp(\"2020-11-30\"))"
   ]
  },
  {
   "cell_type": "code",
   "execution_count": 28,
   "metadata": {},
   "outputs": [
    {
     "data": {
      "text/plain": [
       "True"
      ]
     },
     "execution_count": 28,
     "metadata": {},
     "output_type": "execute_result"
    }
   ],
   "source": [
    "xnys.is_session('{:%Y-%m-%d}'.format(datetime.now()))"
   ]
  }
 ],
 "metadata": {
  "kernelspec": {
   "display_name": "Python 3",
   "language": "python",
   "name": "python3"
  },
  "language_info": {
   "codemirror_mode": {
    "name": "ipython",
    "version": 3
   },
   "file_extension": ".py",
   "mimetype": "text/x-python",
   "name": "python",
   "nbconvert_exporter": "python",
   "pygments_lexer": "ipython3",
   "version": "3.7.3"
  }
 },
 "nbformat": 4,
 "nbformat_minor": 2
}
