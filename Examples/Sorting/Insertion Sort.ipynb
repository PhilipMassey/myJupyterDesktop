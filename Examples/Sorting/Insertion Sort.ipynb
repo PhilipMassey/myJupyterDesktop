{
 "cells": [
  {
   "cell_type": "markdown",
   "metadata": {},
   "source": [
    "### Insertion Sort"
   ]
  },
  {
   "cell_type": "code",
   "execution_count": 7,
   "metadata": {},
   "outputs": [
    {
     "name": "stdout",
     "output_type": "stream",
     "text": [
      "[3, 5, 2, 8, 14, 4, 12, 10, 0, 7, 6, 13, 11, 1, 9]\n",
      "[0, 1, 2, 3, 4, 5, 6, 7, 8, 9, 10, 11, 12, 13, 14]\n"
     ]
    }
   ],
   "source": [
    "import random\n",
    "n = 15\n",
    "arr = random.sample(range(n),n)\n",
    "print(arr)\n",
    "for i in range(n):\n",
    "    minimum = i\n",
    "    for j in range(i+1,n):\n",
    "        if arr[j] < arr[minimum]:\n",
    "            minimum = j\n",
    "    arr[i], arr[minimum] = arr[minimum], arr[i]\n",
    "    \n",
    "print(arr)"
   ]
  }
 ],
 "metadata": {
  "kernelspec": {
   "display_name": "Python 3",
   "language": "python",
   "name": "python3"
  },
  "language_info": {
   "codemirror_mode": {
    "name": "ipython",
    "version": 3
   },
   "file_extension": ".py",
   "mimetype": "text/x-python",
   "name": "python",
   "nbconvert_exporter": "python",
   "pygments_lexer": "ipython3",
   "version": "3.7.3"
  }
 },
 "nbformat": 4,
 "nbformat_minor": 2
}
