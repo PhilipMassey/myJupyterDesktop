{
 "cells": [
  {
   "cell_type": "markdown",
   "metadata": {},
   "source": [
    "### Quicksort"
   ]
  },
  {
   "cell_type": "code",
   "execution_count": 8,
   "metadata": {},
   "outputs": [
    {
     "name": "stdout",
     "output_type": "stream",
     "text": [
      "[4, 2, 1, 0, 7, 9, 6, 5, 8, 3]\n",
      "[0, 1, 2, 3, 4, 5, 6, 7, 8, 9]\n"
     ]
    }
   ],
   "source": [
    "import random\n",
    "arr = random.sample(range(10),10)\n",
    "print(arr)\n",
    "def partition(sort_list, low, high):\n",
    "    i = (low -1)\n",
    "    pivot = sort_list[high]\n",
    "    for j in range(low, high):\n",
    "        if sort_list[j] <= pivot:\n",
    "            i += 1\n",
    "            sort_list[i], sort_list[j] = sort_list[j], sort_list[i]\n",
    "    sort_list[i+1],sort_list[high] = sort_list[high], sort_list[i+1]\n",
    "    return (i+1)\n",
    "            \n",
    "def quick_sort(sort_list, low, high):\n",
    "    if low < high:\n",
    "        pi = partition(sort_list, low, high)\n",
    "        quick_sort(sort_list, low, pi-1)\n",
    "        quick_sort(sort_list, pi+1, high)\n",
    "\n",
    "quick_sort(arr,0,len(arr)-1)\n",
    "print(arr)"
   ]
  },
  {
   "cell_type": "markdown",
   "metadata": {},
   "source": [
    "<pre>\n",
    "algorithm quicksort(A, lo, hi) is\n",
    "    if lo < hi then\n",
    "        p := partition(A, lo, hi)\n",
    "        quicksort(A, lo, p - 1)\n",
    "        quicksort(A, p + 1, hi)\n",
    "\n",
    "algorithm partition(A, lo, hi) is\n",
    "    pivot := A[hi]\n",
    "    i := lo\n",
    "    for j := lo to hi do\n",
    "        if A[j] < pivot then\n",
    "            swap A[i] with A[j]\n",
    "            i := i + 1\n",
    "    swap A[i] with A[hi]\n",
    "    return i\n",
    "    </pre>"
   ]
  },
  {
   "cell_type": "code",
   "execution_count": 12,
   "metadata": {},
   "outputs": [
    {
     "name": "stdout",
     "output_type": "stream",
     "text": [
      "[1, 9, 3, 6, 0, 7, 8, 5, 2, 4]\n",
      "[0, 1, 2, 3, 4, 5, 6, 7, 8, 9]\n"
     ]
    }
   ],
   "source": [
    "import random\n",
    "arr = random.sample(range(10),10)\n",
    "print(arr)\n",
    "    \n",
    "def quick_sort(arr, lo, hi):\n",
    "    if lo < hi:\n",
    "        p = partition(arr, lo, hi)\n",
    "        quick_sort(arr, lo, p - 1)\n",
    "        quick_sort(arr, p + 1, hi)\n",
    "\n",
    "def partition(arr, lo, hi):\n",
    "    pivot = arr[hi]\n",
    "    i = lo\n",
    "    for j in range(lo, hi):\n",
    "        if arr[j] < pivot:\n",
    "            arr[i], arr[j] = arr[j], arr[i]\n",
    "            i += 1\n",
    "    arr[i],arr[hi] = arr[hi], arr[i]\n",
    "    return i\n",
    "            \n",
    "quick_sort(arr,0,len(arr)-1)\n",
    "print(arr)"
   ]
  }
 ],
 "metadata": {
  "kernelspec": {
   "display_name": "Python 3",
   "language": "python",
   "name": "python3"
  },
  "language_info": {
   "codemirror_mode": {
    "name": "ipython",
    "version": 3
   },
   "file_extension": ".py",
   "mimetype": "text/x-python",
   "name": "python",
   "nbconvert_exporter": "python",
   "pygments_lexer": "ipython3",
   "version": "3.7.3"
  }
 },
 "nbformat": 4,
 "nbformat_minor": 2
}
