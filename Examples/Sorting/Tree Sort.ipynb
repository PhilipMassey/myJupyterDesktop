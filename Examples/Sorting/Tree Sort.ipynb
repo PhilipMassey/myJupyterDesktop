{
 "cells": [
  {
   "cell_type": "markdown",
   "metadata": {},
   "source": [
    "#### Tree Sort\n",
    "<pre>\n",
    "STRUCTURE BinaryTree\n",
    "    BinaryTree:LeftSubTree\n",
    "    Object:Node\n",
    "    BinaryTree:RightSubTree\n",
    "\n",
    "PROCEDURE Insert(BinaryTree:searchTree, Object:item)\n",
    "    IF searchTree.Node IS NULL THEN\n",
    "        SET searchTree.Node TO item\n",
    "    ELSE\n",
    "        IF item IS LESS THAN searchTree.Node THEN\n",
    "            Insert(searchTree.LeftSubTree, item)\n",
    "        ELSE\n",
    "            Insert(searchTree.RightSubTree, item)\n",
    "\n",
    "PROCEDURE InOrder(BinaryTree:searchTree)\n",
    "    IF searchTree.Node IS NULL THEN\n",
    "        EXIT PROCEDURE\n",
    "    ELSE\n",
    "        InOrder(searchTree.LeftSubTree)\n",
    "        EMIT searchTree.Node\n",
    "        InOrder(searchTree.RightSubTree)\n",
    "\n",
    "PROCEDURE TreeSort(Collection:items)\n",
    "    BinaryTree:searchTree\n",
    "    FOR EACH individualItem IN items\n",
    "        Insert(searchTree, individualItem)\n",
    "   \n",
    "    InOrder(searchTree)\n",
    "   </pre>"
   ]
  },
  {
   "cell_type": "code",
   "execution_count": 210,
   "metadata": {},
   "outputs": [
    {
     "name": "stdout",
     "output_type": "stream",
     "text": [
      "12,11,9,8,7,6,5,4,3,2,1,\n",
      "1,2,3,4,5,6,7,8,9,11,12,"
     ]
    }
   ],
   "source": [
    "class Node:\n",
    "    def __init__(self, data):\n",
    "        self.l_node = None\n",
    "        self.r_node = None\n",
    "        self.data = data\n",
    "    def __repr__(self):\n",
    "        return \" data {0}, l_node {1}, r_node {2}\\n\".format(self.data,self.l_node,self.r_node)\n",
    "    \n",
    "def insert_node(root, node):\n",
    "    if root is None:\n",
    "        root = node\n",
    "    if node.data > root.data:\n",
    "        if root.l_node is None:\n",
    "            root.l_node = node\n",
    "        else:\n",
    "            insert_node(root.l_node, node)\n",
    "    else:\n",
    "        if root.r_node is None:\n",
    "            root.r_node = node\n",
    "        else:\n",
    "            insert_node(root.r_node, node)\n",
    "\n",
    "def preOrderPrint(node):\n",
    "    #print('node ' + str(node.data))\n",
    "    if node.r_node is not None:\n",
    "        preOrderPrint(node.r_node)\n",
    "    print(node.data, end=',')\n",
    "    if node.l_node is not None:\n",
    "        preOrderPrint(node.l_node)\n",
    "    \n",
    "def inOrderPrint(node):\n",
    "   # print('node {0}'.format(node.data))\n",
    "    if node.l_node is not None:\n",
    "        inOrderPrint(node.l_node)\n",
    "    print(node.data, end=',')\n",
    "    if node.r_node is not None:\n",
    "        inOrderPrint(node.r_node)\n",
    "        \n",
    "        \n",
    "top = Node(3)\n",
    "insert_node(top, Node(2))\n",
    "insert_node(top, Node(1))\n",
    "insert_node(top, Node(7))\n",
    "insert_node(top, Node(6))\n",
    "insert_node(top, Node(5))\n",
    "insert_node(top, Node(4))\n",
    "insert_node(top, Node(9))\n",
    "insert_node(top, Node(8))\n",
    "insert_node(top, Node(12))\n",
    "insert_node(top, Node(11))\n",
    "\n",
    "inOrderPrint(top)\n",
    "print()\n",
    "preOrderPrint(top)"
   ]
  }
 ],
 "metadata": {
  "kernelspec": {
   "display_name": "Python 3",
   "language": "python",
   "name": "python3"
  },
  "language_info": {
   "codemirror_mode": {
    "name": "ipython",
    "version": 3
   },
   "file_extension": ".py",
   "mimetype": "text/x-python",
   "name": "python",
   "nbconvert_exporter": "python",
   "pygments_lexer": "ipython3",
   "version": "3.7.3"
  }
 },
 "nbformat": 4,
 "nbformat_minor": 2
}
