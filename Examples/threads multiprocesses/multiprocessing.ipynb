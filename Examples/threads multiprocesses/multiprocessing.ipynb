{
 "cells": [
  {
   "cell_type": "code",
   "execution_count": null,
   "metadata": {},
   "outputs": [],
   "source": [
    "import multiprocessing\n",
    "def spawn():\n",
    "  print('test!')\n",
    "\n",
    "if __name__ == '__main__':\n",
    "  for i in range(5):\n",
    "    p = multiprocessing.Process(target=spawn)\n",
    "    p.start()\n",
    "    \n",
    "for i in range(5):\n",
    "  p = multiprocessing.Process(target=spawn)\n",
    "  p.start()\n",
    "  p.join() # this line allows you to wait for processes\n",
    "\n"
   ]
  },
  {
   "cell_type": "markdown",
   "metadata": {},
   "source": [
    "If you have a shared database, you want to make sure that you're waiting for relevant processes to finish before starting new ones.\n",
    "\n"
   ]
  },
  {
   "cell_type": "code",
   "execution_count": null,
   "metadata": {},
   "outputs": [],
   "source": [
    "for i in range(5):\n",
    "  p = multiprocessing.Process(target=spawn)\n",
    "  p.start()\n",
    "  p.join() # this line allows you to wait for processes"
   ]
  },
  {
   "cell_type": "markdown",
   "metadata": {},
   "source": [
    "#### If you want to pass arguments to your process, you can do that with args"
   ]
  },
  {
   "cell_type": "code",
   "execution_count": 1,
   "metadata": {},
   "outputs": [
    {
     "ename": "SyntaxError",
     "evalue": "invalid syntax (<ipython-input-1-bc49ddd67c36>, line 1)",
     "output_type": "error",
     "traceback": [
      "\u001b[0;36m  File \u001b[0;32m\"<ipython-input-1-bc49ddd67c36>\"\u001b[0;36m, line \u001b[0;32m1\u001b[0m\n\u001b[0;31m    If you want to pass arguments to your process, you can do that with args\u001b[0m\n\u001b[0m         ^\u001b[0m\n\u001b[0;31mSyntaxError\u001b[0m\u001b[0;31m:\u001b[0m invalid syntax\n"
     ]
    }
   ],
   "source": [
    "If you want to pass arguments to your process, you can do that with args"
   ]
  },
  {
   "cell_type": "code",
   "execution_count": null,
   "metadata": {},
   "outputs": [],
   "source": [
    "import multiprocessing\n",
    "def spawn(num):\n",
    "  print(num)\n",
    "\n",
    "if __name__ == '__main__':\n",
    "  for i in range(25):\n",
    "    ## right here\n",
    "    p = multiprocessing.Process(target=spawn, args=(i,))\n",
    "    p.start()"
   ]
  }
 ],
 "metadata": {
  "kernelspec": {
   "display_name": "Python 3",
   "language": "python",
   "name": "python3"
  },
  "language_info": {
   "codemirror_mode": {
    "name": "ipython",
    "version": 3
   },
   "file_extension": ".py",
   "mimetype": "text/x-python",
   "name": "python",
   "nbconvert_exporter": "python",
   "pygments_lexer": "ipython3",
   "version": "3.7.3"
  }
 },
 "nbformat": 4,
 "nbformat_minor": 2
}
