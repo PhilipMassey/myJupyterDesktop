{
 "cells": [
  {
   "cell_type": "code",
   "execution_count": 15,
   "metadata": {},
   "outputs": [],
   "source": [
    "import plotly\n",
    "#import plotly.plotly as py\n",
    "import chart_studio.plotly as py\n",
    "#import chart_studio.figure_factory as ff\n",
    "import plotly.graph_objs as go\n",
    "\n",
    "import plotly.figure_factory.utils as utils\n",
    "\n",
    "import pandas as pd\n",
    "import numpy as np"
   ]
  },
  {
   "cell_type": "code",
   "execution_count": 16,
   "metadata": {},
   "outputs": [
    {
     "ename": "AttributeError",
     "evalue": "module 'chart_studio.plotly' has no attribute 'create_sparkline'",
     "output_type": "error",
     "traceback": [
      "\u001b[0;31m---------------------------------------------------------------------------\u001b[0m",
      "\u001b[0;31mAttributeError\u001b[0m                            Traceback (most recent call last)",
      "\u001b[0;32m<ipython-input-16-c693da9b7ff4>\u001b[0m in \u001b[0;36m<module>\u001b[0;34m\u001b[0m\n\u001b[1;32m     16\u001b[0m )\n\u001b[1;32m     17\u001b[0m \u001b[0;34m\u001b[0m\u001b[0m\n\u001b[0;32m---> 18\u001b[0;31m fig = py.create_sparkline(\n\u001b[0m\u001b[1;32m     19\u001b[0m     \u001b[0mdf\u001b[0m\u001b[0;34m,\u001b[0m \u001b[0mchart_types\u001b[0m\u001b[0;34m=\u001b[0m\u001b[0;34m[\u001b[0m\u001b[0;34m'line'\u001b[0m\u001b[0;34m,\u001b[0m \u001b[0;34m'bullet'\u001b[0m\u001b[0;34m,\u001b[0m \u001b[0;34m'bar'\u001b[0m\u001b[0;34m]\u001b[0m\u001b[0;34m,\u001b[0m\u001b[0;34m\u001b[0m\u001b[0;34m\u001b[0m\u001b[0m\n\u001b[1;32m     20\u001b[0m )\n",
      "\u001b[0;31mAttributeError\u001b[0m: module 'chart_studio.plotly' has no attribute 'create_sparkline'"
     ]
    }
   ],
   "source": [
    "\n",
    "df = pd.DataFrame(\n",
    "    [\n",
    "        [5, 2, 9],\n",
    "        [6, 5, 4],\n",
    "        [4, 7, 6],\n",
    "        [8, 8, 3],\n",
    "        [2, 9, 5],\n",
    "        [7, 10, 1],\n",
    "        [2, 4, 5],\n",
    "        [1, 1, 2],\n",
    "        [17, 3, 5],\n",
    "        [12, 8, 8],\n",
    "    ],\n",
    "    columns=['first', 'second', 'third'],\n",
    ")\n",
    "\n",
    "fig = py.create_sparkline(\n",
    "    df, chart_types=['line', 'bullet', 'bar'],\n",
    ")\n",
    "\n",
    "py.iplot(fig)"
   ]
  },
  {
   "cell_type": "code",
   "execution_count": null,
   "metadata": {},
   "outputs": [],
   "source": []
  }
 ],
 "metadata": {
  "kernelspec": {
   "display_name": "Python 3",
   "language": "python",
   "name": "python3"
  },
  "language_info": {
   "codemirror_mode": {
    "name": "ipython",
    "version": 3
   },
   "file_extension": ".py",
   "mimetype": "text/x-python",
   "name": "python",
   "nbconvert_exporter": "python",
   "pygments_lexer": "ipython3",
   "version": "3.7.3"
  }
 },
 "nbformat": 4,
 "nbformat_minor": 2
}
