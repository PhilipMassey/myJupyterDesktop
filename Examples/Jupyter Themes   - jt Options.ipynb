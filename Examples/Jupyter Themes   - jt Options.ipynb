{
 "cells": [
  {
   "cell_type": "markdown",
   "metadata": {},
   "source": [
    "https://github.com/dunovank/jupyter-themes"
   ]
  },
  {
   "cell_type": "code",
   "execution_count": 7,
   "metadata": {},
   "outputs": [],
   "source": [
    "#!/Library/Frameworks/Python.framework/Versions/3.7/bin/jt -h\n",
    "#!/Library/Frameworks/Python.framework/Versions/3.7/bin/jt -t chesterish -T -N\n",
    "#!/Library/Frameworks/Python.framework/Versions/3.7/bin/jt  -nfs 20\n",
    "#!/Library/Frameworks/Python.framework/Versions/3.7/bin/jt -t onedork  -T -N -f roboto -fs 12\n",
    "!/Library/Frameworks/Python.framework/Versions/3.7/bin/jt -t onedork -fs 120 -altp -tfs 11 -nfs 115 -dfs 115 -cellw 88% -T --outfontsize 115\n",
    "#!/Library/Frameworks/Python.framework/Versions/3.7/bin/\n"
   ]
  },
  {
   "cell_type": "code",
   "execution_count": 1,
   "metadata": {
    "scrolled": false
   },
   "outputs": [
    {
     "data": {
      "text/plain": [
       "[10, 16, 11, 20, 16, 17, 3, 16]"
      ]
     },
     "execution_count": 1,
     "metadata": {},
     "output_type": "execute_result"
    }
   ],
   "source": [
    "import random\n",
    "[random.randint(0,20) for _ in range(8)]"
   ]
  },
  {
   "cell_type": "markdown",
   "metadata": {},
   "source": [
    "# Heading 1\n",
    "## Heading 2\n",
    "### Heading 3"
   ]
  }
 ],
 "metadata": {
  "kernelspec": {
   "display_name": "Python 3",
   "language": "python",
   "name": "python3"
  },
  "language_info": {
   "codemirror_mode": {
    "name": "ipython",
    "version": 3
   },
   "file_extension": ".py",
   "mimetype": "text/x-python",
   "name": "python",
   "nbconvert_exporter": "python",
   "pygments_lexer": "ipython3",
   "version": "3.7.3"
  }
 },
 "nbformat": 4,
 "nbformat_minor": 2
}
