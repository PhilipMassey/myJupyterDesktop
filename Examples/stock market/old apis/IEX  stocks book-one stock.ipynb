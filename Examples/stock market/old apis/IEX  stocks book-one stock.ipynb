{
 "cells": [
  {
   "cell_type": "code",
   "execution_count": 2,
   "metadata": {},
   "outputs": [
    {
     "name": "stdout",
     "output_type": "stream",
     "text": [
      "Populating the interactive namespace from numpy and matplotlib\n"
     ]
    }
   ],
   "source": [
    "import matplotlib.pyplot as plt\n",
    "import matplotlib.dates as dates\n",
    "%pylab inline\n",
    "pylab.rcParams['figure.figsize'] = (12, 8)   # Change the size of plots\n",
    "\n",
    "import pandas as pd\n",
    "import pandas_datareader as web\n",
    "import datetime\n",
    " "
   ]
  },
  {
   "cell_type": "code",
   "execution_count": 3,
   "metadata": {},
   "outputs": [],
   "source": [
    "\n",
    "dbroker = { 'DIA':{'count':400, 'cost':247.79, 'stop':240.00},\n",
    "            'VOO':{'count':400, 'cost':248.89, 'stop':240.00},\n",
    "            'VTI':{'count':700, 'cost':139.77, 'stop':136.00}\n",
    "          }\n",
    "\n"
   ]
  },
  {
   "cell_type": "code",
   "execution_count": 4,
   "metadata": {},
   "outputs": [
    {
     "name": "stdout",
     "output_type": "stream",
     "text": [
      "ticker \t\t price \t\t change \t til_stop\n",
      "VOO\t\t263.43\t\t14.54\t\t23.43\n",
      "VOO\t\t263.43\t\t14.54\t\t23.43\n",
      "\n",
      "total loss \t\t\t 11632.0\n"
     ]
    }
   ],
   "source": [
    "ticker = ['VOO', 'VOO']\n",
    "\n",
    "dbroker = { 'DIA':{'count':400, 'cost':240.79, 'stop':240.00},\n",
    "            'VOO':{'count':400, 'cost':248.89, 'stop':240.00},\n",
    "            'VTI':{'count':700, 'cost':136.00, 'stop':136.00}\n",
    "          }\n",
    "\n",
    "stocks = web.DataReader(ticker, 'iex-last')\n",
    "total_loss = 0.0\n",
    "print('ticker','\\t\\t','price','\\t\\t','change','\\t', 'til_stop')\n",
    "\n",
    "for tick in ticker:\n",
    "    price = stocks[stocks['symbol'] == tick]['price'].values[0]\n",
    "    cost = dbroker[tick]['cost']\n",
    "    change = round(price - cost,2)\n",
    "    count = dbroker[tick]['count']\n",
    "    loss = round(count * change,2)\n",
    "    total_loss += loss\n",
    "    stop = dbroker[tick]['stop']\n",
    "    til_stop = round(price - stop,2)\n",
    "\n",
    "    print('{0}\\t\\t{1:.2f}\\t\\t{2:.2f}\\t\\t{3:.2f}'.format(tick,price,change, til_stop))\n",
    "\n",
    "print('\\ntotal loss','\\t\\t\\t', total_loss)\n",
    "\n",
    "#stocks = web.DataReader(ticker, 'iex-tops')\n",
    "#stocks\n",
    "\n",
    "start = datetime.datetime(2018,4,1)\n",
    "end = datetime.date.today()\n",
    "#stocks = web.DataReader(ticker, 'iex', start, end)\n",
    "\n",
    "#for key in stocks.keys():\n",
    "#    print(key, stocks[key]['close'])"
   ]
  },
  {
   "cell_type": "code",
   "execution_count": 4,
   "metadata": {
    "scrolled": false
   },
   "outputs": [
    {
     "data": {
      "text/plain": [
       "{'VOO': {'bids': [], 'asks': []}}"
      ]
     },
     "execution_count": 4,
     "metadata": {},
     "output_type": "execute_result"
    }
   ],
   "source": [
    "stocks = web.DataReader(ticker, 'iex-book')\n",
    "stocks"
   ]
  },
  {
   "cell_type": "code",
   "execution_count": null,
   "metadata": {},
   "outputs": [],
   "source": []
  },
  {
   "cell_type": "code",
   "execution_count": null,
   "metadata": {},
   "outputs": [],
   "source": []
  }
 ],
 "metadata": {
  "kernelspec": {
   "display_name": "Python 3",
   "language": "python",
   "name": "python3"
  },
  "language_info": {
   "codemirror_mode": {
    "name": "ipython",
    "version": 3
   },
   "file_extension": ".py",
   "mimetype": "text/x-python",
   "name": "python",
   "nbconvert_exporter": "python",
   "pygments_lexer": "ipython3",
   "version": "3.7.3"
  }
 },
 "nbformat": 4,
 "nbformat_minor": 2
}
