{
 "cells": [
  {
   "cell_type": "markdown",
   "metadata": {},
   "source": [
    "https://github.com/addisonlynch/iexfinance"
   ]
  },
  {
   "cell_type": "code",
   "execution_count": 1,
   "metadata": {},
   "outputs": [
    {
     "ename": "ModuleNotFoundError",
     "evalue": "No module named 'iexfinance'",
     "output_type": "error",
     "traceback": [
      "\u001b[0;31m---------------------------------------------------------------------------\u001b[0m",
      "\u001b[0;31mModuleNotFoundError\u001b[0m                       Traceback (most recent call last)",
      "\u001b[0;32m<ipython-input-1-cebad968184c>\u001b[0m in \u001b[0;36m<module>\u001b[0;34m()\u001b[0m\n\u001b[0;32m----> 1\u001b[0;31m \u001b[0;32mfrom\u001b[0m \u001b[0miexfinance\u001b[0m \u001b[0;32mimport\u001b[0m \u001b[0mStock\u001b[0m\u001b[0;34m\u001b[0m\u001b[0m\n\u001b[0m\u001b[1;32m      2\u001b[0m \u001b[0;32mfrom\u001b[0m \u001b[0miexfinance\u001b[0m \u001b[0;32mimport\u001b[0m \u001b[0mget_available_symbols\u001b[0m\u001b[0;34m\u001b[0m\u001b[0m\n\u001b[1;32m      3\u001b[0m \u001b[0;32mfrom\u001b[0m \u001b[0miexfinance\u001b[0m \u001b[0;32mimport\u001b[0m \u001b[0mget_historical_data\u001b[0m\u001b[0;34m\u001b[0m\u001b[0m\n\u001b[1;32m      4\u001b[0m \u001b[0;32mfrom\u001b[0m \u001b[0miexfinance\u001b[0m \u001b[0;32mimport\u001b[0m \u001b[0mget_market_tops\u001b[0m\u001b[0;34m\u001b[0m\u001b[0m\n\u001b[1;32m      5\u001b[0m \u001b[0;32mfrom\u001b[0m \u001b[0miexfinance\u001b[0m \u001b[0;32mimport\u001b[0m \u001b[0mget_stats_intraday\u001b[0m\u001b[0;34m\u001b[0m\u001b[0m\n",
      "\u001b[0;31mModuleNotFoundError\u001b[0m: No module named 'iexfinance'"
     ]
    }
   ],
   "source": [
    "from iexfinance import Stock\n",
    "from iexfinance import get_available_symbols\n",
    "from iexfinance import get_historical_data\n",
    "from iexfinance import get_market_tops\n",
    "from iexfinance import get_stats_intraday\n",
    "from datetime import datetime as dt\n",
    "import matplotlib.pyplot as plt\n",
    "%matplotlib inline\n",
    "%pylab inline\n",
    "pylab.rcParams['figure.figsize'] = (15, 9)   # Change the size of plots\n",
    "\n",
    "\n",
    "ticker = 'VFMV'\n",
    "iexticker = Stock(ticker)\n",
    "iexticker.get_open()\n",
    "iexticker.get_price()\n",
    "\n",
    "start = dt(2017, 1, 1)\n",
    "end = dt.today()\n",
    "\n",
    "df = get_historical_data(ticker, start=start, end=end, output_format='pandas')\n",
    "df.tail(12)"
   ]
  },
  {
   "cell_type": "code",
   "execution_count": 2,
   "metadata": {},
   "outputs": [
    {
     "ename": "NameError",
     "evalue": "name 'df' is not defined",
     "output_type": "error",
     "traceback": [
      "\u001b[0;31m---------------------------------------------------------------------------\u001b[0m",
      "\u001b[0;31mNameError\u001b[0m                                 Traceback (most recent call last)",
      "\u001b[0;32m<ipython-input-2-0c61cbafd7de>\u001b[0m in \u001b[0;36m<module>\u001b[0;34m()\u001b[0m\n\u001b[1;32m      1\u001b[0m \u001b[0;34m\u001b[0m\u001b[0m\n\u001b[0;32m----> 2\u001b[0;31m \u001b[0mdf\u001b[0m\u001b[0;34m[\u001b[0m\u001b[0;34m'close'\u001b[0m\u001b[0;34m]\u001b[0m\u001b[0;34m.\u001b[0m\u001b[0mplot\u001b[0m\u001b[0;34m(\u001b[0m\u001b[0;34m)\u001b[0m\u001b[0;34m\u001b[0m\u001b[0m\n\u001b[0m\u001b[1;32m      3\u001b[0m \u001b[0mplt\u001b[0m\u001b[0;34m.\u001b[0m\u001b[0mshow\u001b[0m\u001b[0;34m(\u001b[0m\u001b[0;34m)\u001b[0m\u001b[0;34m;\u001b[0m\u001b[0;34m\u001b[0m\u001b[0m\n",
      "\u001b[0;31mNameError\u001b[0m: name 'df' is not defined"
     ]
    }
   ],
   "source": [
    "\n",
    "df['close'].plot()\n",
    "plt.show();"
   ]
  },
  {
   "cell_type": "code",
   "execution_count": 19,
   "metadata": {},
   "outputs": [
    {
     "data": {
      "text/plain": [
       "[{'date': '2018-04-13',\n",
       "  'iexId': '2',\n",
       "  'isEnabled': True,\n",
       "  'name': 'Agilent Technologies Inc.',\n",
       "  'symbol': 'A',\n",
       "  'type': 'cs'},\n",
       " {'date': '2018-04-13',\n",
       "  'iexId': '12042',\n",
       "  'isEnabled': True,\n",
       "  'name': 'Alcoa Corporation',\n",
       "  'symbol': 'AA',\n",
       "  'type': 'cs'}]"
      ]
     },
     "execution_count": 19,
     "metadata": {},
     "output_type": "execute_result"
    }
   ],
   "source": [
    "get_available_symbols(output_format='pandas')[:2]"
   ]
  },
  {
   "cell_type": "code",
   "execution_count": 20,
   "metadata": {},
   "outputs": [
    {
     "data": {
      "text/plain": [
       "[{'askPrice': 6.89,\n",
       "  'askSize': 2500,\n",
       "  'bidPrice': 6.88,\n",
       "  'bidSize': 8800,\n",
       "  'lastSalePrice': 6.88,\n",
       "  'lastSaleSize': 200,\n",
       "  'lastSaleTime': 1524069124023,\n",
       "  'lastUpdated': 1524069141525,\n",
       "  'marketPercent': 0.05797,\n",
       "  'sector': 'foodbeveragetobacco',\n",
       "  'securityType': 'adr',\n",
       "  'symbol': 'ABEV',\n",
       "  'volume': 887356},\n",
       " {'askPrice': 48.08,\n",
       "  'askSize': 4230,\n",
       "  'bidPrice': 48.06,\n",
       "  'bidSize': 20100,\n",
       "  'lastSalePrice': 48.06,\n",
       "  'lastSaleSize': 100,\n",
       "  'lastSaleTime': 1524069123597,\n",
       "  'lastUpdated': 1524069141323,\n",
       "  'marketPercent': 0.01886,\n",
       "  'sector': 'n/a',\n",
       "  'securityType': 'etp',\n",
       "  'symbol': 'EEM',\n",
       "  'volume': 731499}]"
      ]
     },
     "execution_count": 20,
     "metadata": {},
     "output_type": "execute_result"
    }
   ],
   "source": [
    "get_market_tops()[:2]"
   ]
  },
  {
   "cell_type": "code",
   "execution_count": 21,
   "metadata": {},
   "outputs": [
    {
     "data": {
      "text/plain": [
       "{'marketShare': {'lastUpdated': 1524069172532, 'value': 0.02299},\n",
       " 'notional': {'lastUpdated': 1524069172502, 'value': 3680175556},\n",
       " 'routedVolume': {'lastUpdated': 1524069172007, 'value': 17948263},\n",
       " 'symbolsTraded': {'lastUpdated': 1524069172502, 'value': 5042},\n",
       " 'volume': {'lastUpdated': 1524069172502, 'value': 69112757}}"
      ]
     },
     "execution_count": 21,
     "metadata": {},
     "output_type": "execute_result"
    }
   ],
   "source": [
    "get_stats_intraday()"
   ]
  },
  {
   "cell_type": "code",
   "execution_count": null,
   "metadata": {},
   "outputs": [],
   "source": []
  }
 ],
 "metadata": {
  "kernelspec": {
   "display_name": "Python 3",
   "language": "python",
   "name": "python3"
  },
  "language_info": {
   "codemirror_mode": {
    "name": "ipython",
    "version": 3
   },
   "file_extension": ".py",
   "mimetype": "text/x-python",
   "name": "python",
   "nbconvert_exporter": "python",
   "pygments_lexer": "ipython3",
   "version": "3.6.5"
  }
 },
 "nbformat": 4,
 "nbformat_minor": 2
}
