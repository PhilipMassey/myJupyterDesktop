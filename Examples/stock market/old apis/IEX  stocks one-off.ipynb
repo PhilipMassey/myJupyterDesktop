{
 "cells": [
  {
   "cell_type": "code",
   "execution_count": 1,
   "metadata": {},
   "outputs": [
    {
     "name": "stdout",
     "output_type": "stream",
     "text": [
      "Populating the interactive namespace from numpy and matplotlib\n"
     ]
    }
   ],
   "source": [
    "import matplotlib.pyplot as plt\n",
    "import matplotlib.dates as dates\n",
    "%pylab inline\n",
    "pylab.rcParams['figure.figsize'] = (12, 8)   # Change the size of plots\n",
    "\n",
    "import pandas as pd\n",
    "import pandas_datareader as web\n",
    "import datetime\n",
    " "
   ]
  },
  {
   "cell_type": "code",
   "execution_count": 9,
   "metadata": {},
   "outputs": [
    {
     "name": "stdout",
     "output_type": "stream",
     "text": [
      "ticker \t\t price \t\t change \t til_stop\n",
      "VGT\t\t235.40\t\t162.79\t\t-165.40\n",
      "VFMV\t\t76.31\t\t-5.48\t\t3.69\n",
      "\n",
      "total loss \t\t\t 15731.0\n"
     ]
    }
   ],
   "source": [
    "dbroker = { 'VGT':{'count':100, 'cost':72.615, 'stop':70.00},\n",
    "            'VFMV':{'count':100, 'cost':81.79, 'stop':80.00},\n",
    "          }\n",
    "\n",
    "ticker = list(dbroker.keys())\n",
    "stocks = web.DataReader(ticker, 'iex-last')\n",
    "\n",
    "total_loss = 0.0\n",
    "print('ticker','\\t\\t','price','\\t\\t','change','\\t', 'til_stop')\n",
    "for tick in ticker:\n",
    "    price = stocks[stocks['symbol'] == tick]['price'].values[0]\n",
    "    cost = dbroker[tick]['cost']\n",
    "    change = round(price - cost,2)\n",
    "    count = dbroker[tick]['count']\n",
    "    loss = round(count * change,2)\n",
    "    total_loss += loss\n",
    "    stop = dbroker[tick]['stop']\n",
    "    til_stop = round(stop - price,2)\n",
    "\n",
    "    print('{0}\\t\\t{1:.2f}\\t\\t{2:.2f}\\t\\t{3:.2f}'.format(tick,price,change, til_stop))\n",
    "\n",
    "print('\\ntotal loss','\\t\\t\\t', total_loss)\n",
    "\n",
    "\n"
   ]
  },
  {
   "cell_type": "code",
   "execution_count": 10,
   "metadata": {},
   "outputs": [
    {
     "data": {
      "text/html": [
       "<div>\n",
       "<style scoped>\n",
       "    .dataframe tbody tr th:only-of-type {\n",
       "        vertical-align: middle;\n",
       "    }\n",
       "\n",
       "    .dataframe tbody tr th {\n",
       "        vertical-align: top;\n",
       "    }\n",
       "\n",
       "    .dataframe thead th {\n",
       "        text-align: right;\n",
       "    }\n",
       "</style>\n",
       "<table border=\"1\" class=\"dataframe\">\n",
       "  <thead>\n",
       "    <tr style=\"text-align: right;\">\n",
       "      <th></th>\n",
       "    </tr>\n",
       "  </thead>\n",
       "  <tbody>\n",
       "  </tbody>\n",
       "</table>\n",
       "</div>"
      ],
      "text/plain": [
       "Empty DataFrame\n",
       "Columns: []\n",
       "Index: []"
      ]
     },
     "execution_count": 10,
     "metadata": {},
     "output_type": "execute_result"
    }
   ],
   "source": [
    "stocks = web.DataReader(ticker, 'iex-tops')\n",
    "stocks\n"
   ]
  },
  {
   "cell_type": "code",
   "execution_count": 7,
   "metadata": {},
   "outputs": [],
   "source": [
    "start = datetime.datetime(2018,4,1)\n",
    "end = datetime.date.today()\n",
    "stocks = web.DataReader(ticker, 'iex-tops', start, end)\n",
    "\n",
    "for key in stocks.keys():\n",
    "    print(key, stocks[key]['close'])\n",
    "    \n"
   ]
  },
  {
   "cell_type": "code",
   "execution_count": 11,
   "metadata": {},
   "outputs": [
    {
     "data": {
      "text/plain": [
       "{}"
      ]
     },
     "execution_count": 11,
     "metadata": {},
     "output_type": "execute_result"
    }
   ],
   "source": [
    "stocks = web.DataReader(ticker, 'iex-book')\n",
    "stocks"
   ]
  },
  {
   "cell_type": "code",
   "execution_count": null,
   "metadata": {},
   "outputs": [],
   "source": []
  }
 ],
 "metadata": {
  "kernelspec": {
   "display_name": "Python 3",
   "language": "python",
   "name": "python3"
  },
  "language_info": {
   "codemirror_mode": {
    "name": "ipython",
    "version": 3
   },
   "file_extension": ".py",
   "mimetype": "text/x-python",
   "name": "python",
   "nbconvert_exporter": "python",
   "pygments_lexer": "ipython3",
   "version": "3.7.3"
  }
 },
 "nbformat": 4,
 "nbformat_minor": 2
}
