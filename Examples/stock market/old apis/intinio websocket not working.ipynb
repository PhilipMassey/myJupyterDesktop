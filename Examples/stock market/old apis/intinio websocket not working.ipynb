{
 "cells": [
  {
   "cell_type": "code",
   "execution_count": 1,
   "metadata": {},
   "outputs": [
    {
     "data": {
      "text/plain": [
       "'\\nCreated on Thu Dec 22 14:13:48 2016\\n@author: hisamsabouni\\n'"
      ]
     },
     "execution_count": 1,
     "metadata": {},
     "output_type": "execute_result"
    }
   ],
   "source": [
    "#!/usr/bin/env python2\n",
    "# -*- coding: utf-8 -*-\n",
    "\"\"\"\n",
    "Created on Thu Dec 22 14:13:48 2016\n",
    "@author: hisamsabouni\n",
    "\"\"\"\n",
    "import base64\n",
    "import requests\n",
    "import json\n",
    "#import websocket\n",
    "import thread\n",
    "\n",
    "username = \"685ddcad9bcc92317c8e10dde3f1ae8e\"\n",
    "password = \"27f811a8102f5d16c9a5cf243f49b583\"\n",
    "auth_url = \"https://realtime.intrinio.com/auth\"\n",
    "encoded = base64.b64encode(username + \":\" + password)\n",
    "r = requests.get(auth_url, headers={\"Authorization\":\"Basic \"+ encoded})\n",
    "token = r.text\n",
    "socket_url = \"http://wss://realtime.intrinio.com/socket/websocket?vsn=1.0.0&token=%s\" % (token)\n",
    "def on_message(ws, message):\n",
    "    try:\n",
    "        result = json.loads(message)\n",
    "        if(result[\"event\"] == \"quote\"):\n",
    "            print result[\"payload\"]\n",
    "    except:\n",
    "        print message\n",
    "def on_error(ws, error):\n",
    "    print error\n",
    "def on_close(ws):\n",
    "    print \"### closed ###\"\n",
    "def on_open(ws):\n",
    "    def run(*args):\n",
    "        message = {\"topic\": \"iex:securities:VOO\",\"event\": \"phx_join\",\"payload\": {},\"ref\": \"1\"}\n",
    "        message2 = json.dumps(message)\n",
    "        ws.send(message2)\n",
    "        thread.start_new_thread(run, ())\n",
    "        websocket.enableTrace(True)\n",
    "        ws = websocket.WebSocketApp(socket_url,\n",
    "        on_message = on_message,\n",
    "        on_error = on_error,\n",
    "        on_close = on_close)\n",
    "        ws.on_open = on_open\n",
    "        ws.run_forever()"
   ]
  }
 ],
 "metadata": {
  "kernelspec": {
   "display_name": "Python 2",
   "language": "python",
   "name": "python2"
  },
  "language_info": {
   "codemirror_mode": {
    "name": "ipython",
    "version": 2
   },
   "file_extension": ".py",
   "mimetype": "text/x-python",
   "name": "python",
   "nbconvert_exporter": "python",
   "pygments_lexer": "ipython2",
   "version": "2.7.14"
  }
 },
 "nbformat": 4,
 "nbformat_minor": 2
}
