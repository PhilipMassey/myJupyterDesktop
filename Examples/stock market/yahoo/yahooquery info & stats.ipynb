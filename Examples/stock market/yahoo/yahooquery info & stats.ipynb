{
 "cells": [
  {
   "cell_type": "code",
   "execution_count": 34,
   "metadata": {},
   "outputs": [
    {
     "data": {
      "text/plain": [
       "<yahooquery.ticker.Ticker at 0x1281e58d0>"
      ]
     },
     "execution_count": 34,
     "metadata": {},
     "output_type": "execute_result"
    }
   ],
   "source": [
    "from yahooquery import Ticker\n",
    "import json\n",
    "def pprint(jsonstr):\n",
    "    print( json.dumps(jsonstr, indent=4) )\n",
    "    \n",
    "yq = Ticker('net')\n",
    "yq"
   ]
  },
  {
   "cell_type": "code",
   "execution_count": 36,
   "metadata": {},
   "outputs": [
    {
     "name": "stdout",
     "output_type": "stream",
     "text": [
      "{\n",
      "    \"net\": {\n",
      "        \"address1\": \"101 Townsend Street\",\n",
      "        \"city\": \"San Francisco\",\n",
      "        \"state\": \"CA\",\n",
      "        \"zip\": \"94107\",\n",
      "        \"country\": \"United States\",\n",
      "        \"phone\": \"650 319 8930\",\n",
      "        \"fax\": \"650 230 7173\",\n",
      "        \"website\": \"http://www.cloudflare.com\",\n",
      "        \"industry\": \"Software\\u2014Infrastructure\",\n",
      "        \"sector\": \"Technology\",\n",
      "        \"longBusinessSummary\": \"CloudFlare, Inc. operates a cloud platform that delivers a range of network services to businesses worldwide. The company provides an integrated cloud-based security solution to secure a range of combination of platforms, including public cloud, private cloud, on-premise, software-as-a-service applications, and Internet of Things (IoT) devices. Its security products comprise Cloud Firewall, Bot Management, Distributed Denial of Service, Infrastructure Protection, Zero Trust Security, IoT, SSL/TLS, Secure Origin Connection, and Rate Limiting. The company also offers performance solutions, which include Content Delivery, Intelligent Routing, and Mobile Software Development Kit, as well as Content, Mobile, and Image Optimization. In addition, it provides Reliability solutions comprising Load Balancing, Anycast Network, Virtual Backbone, DNS, DNS Resolver, and Always Online. The company serves customers in the consumer/retail, healthcare/life sciences, software, education/non-profit, industrial/transportation, media/entertainment, finance/real estate, and hardware industries, as well as to the government. CloudFlare, Inc. has a strategic agreement with Baidu, Inc. The company was founded in 2009 and is headquartered in San Francisco, California.\",\n",
      "        \"fullTimeEmployees\": 1270,\n",
      "        \"companyOfficers\": [\n",
      "            {\n",
      "                \"maxAge\": 1,\n",
      "                \"name\": \"Mr. Matthew  Prince\",\n",
      "                \"age\": 44,\n",
      "                \"title\": \"Co-Founder, Chairman & CEO\",\n",
      "                \"yearBorn\": 1975,\n",
      "                \"fiscalYear\": 2018,\n",
      "                \"totalPay\": 400000,\n",
      "                \"exercisedValue\": 0,\n",
      "                \"unexercisedValue\": 0\n",
      "            },\n",
      "            {\n",
      "                \"maxAge\": 1,\n",
      "                \"name\": \"Ms. Michelle  Zatlyn\",\n",
      "                \"age\": 40,\n",
      "                \"title\": \"Co-Founder, COO & Director\",\n",
      "                \"yearBorn\": 1979,\n",
      "                \"fiscalYear\": 2018,\n",
      "                \"totalPay\": 400000,\n",
      "                \"exercisedValue\": 0,\n",
      "                \"unexercisedValue\": 0\n",
      "            },\n",
      "            {\n",
      "                \"maxAge\": 1,\n",
      "                \"name\": \"Mr. Thomas J. Seifert\",\n",
      "                \"age\": 56,\n",
      "                \"title\": \"Chief Financial Officer\",\n",
      "                \"yearBorn\": 1963,\n",
      "                \"fiscalYear\": 2018,\n",
      "                \"totalPay\": 690000,\n",
      "                \"exercisedValue\": 0,\n",
      "                \"unexercisedValue\": 6174123\n",
      "            },\n",
      "            {\n",
      "                \"maxAge\": 1,\n",
      "                \"name\": \"Mr. Douglas James Kramer\",\n",
      "                \"age\": 47,\n",
      "                \"title\": \"Gen. Counsel & Sec.\",\n",
      "                \"yearBorn\": 1972,\n",
      "                \"fiscalYear\": 2018,\n",
      "                \"totalPay\": 537708,\n",
      "                \"exercisedValue\": 0,\n",
      "                \"unexercisedValue\": 0\n",
      "            },\n",
      "            {\n",
      "                \"maxAge\": 1,\n",
      "                \"name\": \"Mr. -  John\",\n",
      "                \"title\": \"Chief Technology Officer\",\n",
      "                \"exercisedValue\": 0,\n",
      "                \"unexercisedValue\": 0\n",
      "            }\n",
      "        ],\n",
      "        \"compensationAsOfEpochDate\": \"2018-12-30\",\n",
      "        \"maxAge\": 86400\n",
      "    }\n",
      "}\n"
     ]
    }
   ],
   "source": [
    "pprint(yq.asset_profile)\n"
   ]
  },
  {
   "cell_type": "code",
   "execution_count": 38,
   "metadata": {},
   "outputs": [
    {
     "name": "stdout",
     "output_type": "stream",
     "text": [
      "{\n",
      "    \"net\": {\n",
      "        \"maxAge\": 86400,\n",
      "        \"currentPrice\": 26.18,\n",
      "        \"targetHighPrice\": 27.5,\n",
      "        \"targetLowPrice\": 20.0,\n",
      "        \"targetMeanPrice\": 24.12,\n",
      "        \"targetMedianPrice\": 24.0,\n",
      "        \"recommendationMean\": 2.2,\n",
      "        \"recommendationKey\": \"buy\",\n",
      "        \"numberOfAnalystOpinions\": 13,\n",
      "        \"totalCash\": 639721024,\n",
      "        \"totalCashPerShare\": 2.114,\n",
      "        \"ebitda\": -85292000,\n",
      "        \"totalDebt\": 10506000,\n",
      "        \"quickRatio\": 8.055,\n",
      "        \"currentRatio\": 8.224,\n",
      "        \"totalRevenue\": 287022016,\n",
      "        \"debtToEquity\": 1.447,\n",
      "        \"revenuePerShare\": 1.962,\n",
      "        \"returnOnAssets\": -0.119490005,\n",
      "        \"returnOnEquity\": -0.22424999,\n",
      "        \"grossProfits\": 223599000,\n",
      "        \"freeCashflow\": -42460248,\n",
      "        \"operatingCashflow\": -38917000,\n",
      "        \"revenueGrowth\": 0.512,\n",
      "        \"grossMargins\": 0.77903,\n",
      "        \"ebitdaMargins\": -0.29716,\n",
      "        \"operatingMargins\": -0.37609002,\n",
      "        \"profitMargins\": -0.36870998,\n",
      "        \"financialCurrency\": \"USD\"\n",
      "    }\n",
      "}\n"
     ]
    }
   ],
   "source": [
    "pprint(yq.financial_data)\n"
   ]
  },
  {
   "cell_type": "code",
   "execution_count": 39,
   "metadata": {},
   "outputs": [
    {
     "name": "stdout",
     "output_type": "stream",
     "text": [
      "{\n",
      "    \"net\": {\n",
      "        \"maxAge\": 1,\n",
      "        \"priceHint\": 2,\n",
      "        \"enterpriseValue\": 6885233152,\n",
      "        \"forwardPE\": -187.0,\n",
      "        \"profitMargins\": -0.36870998,\n",
      "        \"floatShares\": 27488415,\n",
      "        \"sharesOutstanding\": 87818704,\n",
      "        \"sharesShort\": 4503140,\n",
      "        \"sharesShortPriorMonth\": 5239884,\n",
      "        \"sharesShortPreviousMonthDate\": \"2020-02-27\",\n",
      "        \"dateShortInterest\": \"2020-03-30\",\n",
      "        \"sharesPercentSharesOut\": 0.0149,\n",
      "        \"heldPercentInsiders\": 0.09066,\n",
      "        \"heldPercentInstitutions\": 0.75892997,\n",
      "        \"shortRatio\": 1.48,\n",
      "        \"shortPercentOfFloat\": 0.08939999,\n",
      "        \"category\": null,\n",
      "        \"bookValue\": 2.418,\n",
      "        \"priceToBook\": 10.82713,\n",
      "        \"fundFamily\": null,\n",
      "        \"legalType\": null,\n",
      "        \"lastFiscalYearEnd\": \"2019-12-30\",\n",
      "        \"nextFiscalYearEnd\": \"2021-12-30\",\n",
      "        \"mostRecentQuarter\": \"2019-12-30\",\n",
      "        \"netIncomeToCommon\": -105828000,\n",
      "        \"trailingEps\": -0.723,\n",
      "        \"forwardEps\": -0.16,\n",
      "        \"lastSplitFactor\": null,\n",
      "        \"enterpriseToRevenue\": 23.989,\n",
      "        \"enterpriseToEbitda\": -80.725,\n",
      "        \"52WeekChange\": 0.37944448,\n",
      "        \"SandP52WeekChange\": -0.011489093\n",
      "    }\n",
      "}\n"
     ]
    }
   ],
   "source": [
    "pprint(yq.key_stats)"
   ]
  },
  {
   "cell_type": "code",
   "execution_count": 41,
   "metadata": {},
   "outputs": [
    {
     "name": "stdout",
     "output_type": "stream",
     "text": [
      "{\n",
      "    \"net\": {\n",
      "        \"maxAge\": 1,\n",
      "        \"preMarketChangePercent\": 0.00281916,\n",
      "        \"preMarketChange\": 0.0699997,\n",
      "        \"preMarketTime\": 1587389394,\n",
      "        \"preMarketPrice\": 24.9,\n",
      "        \"preMarketSource\": \"FREE_REALTIME\",\n",
      "        \"postMarketChangePercent\": 0.0114591,\n",
      "        \"postMarketChange\": 0.29999924,\n",
      "        \"postMarketTime\": 1587426656,\n",
      "        \"postMarketPrice\": 26.48,\n",
      "        \"postMarketSource\": \"FREE_REALTIME\",\n",
      "        \"regularMarketChangePercent\": 0.054369733,\n",
      "        \"regularMarketChange\": 1.3500004,\n",
      "        \"regularMarketTime\": 1587412920,\n",
      "        \"priceHint\": 2,\n",
      "        \"regularMarketPrice\": 26.18,\n",
      "        \"regularMarketDayHigh\": 27.59,\n",
      "        \"regularMarketDayLow\": 24.84,\n",
      "        \"regularMarketVolume\": 6172429,\n",
      "        \"regularMarketPreviousClose\": 24.83,\n",
      "        \"regularMarketSource\": \"DELAYED\",\n",
      "        \"regularMarketOpen\": 25.0,\n",
      "        \"exchange\": \"NYQ\",\n",
      "        \"exchangeName\": \"NYSE\",\n",
      "        \"exchangeDataDelayedBy\": 0,\n",
      "        \"marketState\": \"POST\",\n",
      "        \"quoteType\": \"EQUITY\",\n",
      "        \"symbol\": \"NET\",\n",
      "        \"underlyingSymbol\": null,\n",
      "        \"shortName\": \"Cloudflare, Inc.\",\n",
      "        \"longName\": \"Cloudflare, Inc.\",\n",
      "        \"currency\": \"USD\",\n",
      "        \"quoteSourceName\": \"Nasdaq Real Time Price\",\n",
      "        \"currencySymbol\": \"$\",\n",
      "        \"fromCurrency\": null,\n",
      "        \"toCurrency\": null,\n",
      "        \"lastMarket\": null,\n",
      "        \"marketCap\": 7923010560\n",
      "    }\n",
      "}\n"
     ]
    }
   ],
   "source": [
    "pprint(yq.price)\n"
   ]
  },
  {
   "cell_type": "code",
   "execution_count": 42,
   "metadata": {},
   "outputs": [
    {
     "name": "stdout",
     "output_type": "stream",
     "text": [
      "{\n",
      "    \"net\": {\n",
      "        \"exchange\": \"NYQ\",\n",
      "        \"quoteType\": \"EQUITY\",\n",
      "        \"symbol\": \"NET\",\n",
      "        \"underlyingSymbol\": \"NET\",\n",
      "        \"shortName\": \"Cloudflare, Inc.\",\n",
      "        \"longName\": \"Cloudflare, Inc.\",\n",
      "        \"firstTradeDateEpochUtc\": \"2019-09-13\",\n",
      "        \"timeZoneFullName\": \"America/New_York\",\n",
      "        \"timeZoneShortName\": \"EDT\",\n",
      "        \"uuid\": \"347aadfc-505a-3bc6-b2f9-d81363d2331c\",\n",
      "        \"messageBoardId\": \"finmb_81851700\",\n",
      "        \"gmtOffSetMilliseconds\": -14400000,\n",
      "        \"maxAge\": 1\n",
      "    }\n",
      "}\n"
     ]
    }
   ],
   "source": [
    "pprint(yq.quote_type)"
   ]
  },
  {
   "cell_type": "code",
   "execution_count": 44,
   "metadata": {},
   "outputs": [
    {
     "name": "stdout",
     "output_type": "stream",
     "text": [
      "{\n",
      "    \"net\": {\n",
      "        \"maxAge\": 1,\n",
      "        \"period\": \"6m\",\n",
      "        \"buyInfoCount\": 18,\n",
      "        \"buyInfoShares\": 63809137,\n",
      "        \"sellInfoCount\": 11,\n",
      "        \"sellInfoShares\": 2391836,\n",
      "        \"netInfoCount\": 29,\n",
      "        \"netInfoShares\": 61417301,\n",
      "        \"netPercentInsiderShares\": -1.8069999,\n",
      "        \"totalInsiderShares\": 27436968\n",
      "    }\n",
      "}\n"
     ]
    }
   ],
   "source": [
    "pprint(yq.share_purchase_activity)"
   ]
  },
  {
   "cell_type": "code",
   "execution_count": 45,
   "metadata": {},
   "outputs": [
    {
     "name": "stdout",
     "output_type": "stream",
     "text": [
      "{\n",
      "    \"net\": {\n",
      "        \"maxAge\": 1,\n",
      "        \"priceHint\": 2,\n",
      "        \"previousClose\": 24.83,\n",
      "        \"open\": 25.0,\n",
      "        \"dayLow\": 24.84,\n",
      "        \"dayHigh\": 27.59,\n",
      "        \"regularMarketPreviousClose\": 24.83,\n",
      "        \"regularMarketOpen\": 25.0,\n",
      "        \"regularMarketDayLow\": 24.84,\n",
      "        \"regularMarketDayHigh\": 27.59,\n",
      "        \"payoutRatio\": 0.0,\n",
      "        \"forwardPE\": -163.625,\n",
      "        \"volume\": 6172429,\n",
      "        \"regularMarketVolume\": 6172429,\n",
      "        \"averageVolume\": 2772816,\n",
      "        \"averageVolume10days\": 3756540,\n",
      "        \"averageDailyVolume10Day\": 3756540,\n",
      "        \"bid\": 26.2,\n",
      "        \"ask\": 26.48,\n",
      "        \"bidSize\": 1000,\n",
      "        \"askSize\": 2200,\n",
      "        \"marketCap\": 7923010560,\n",
      "        \"fiftyTwoWeekLow\": 14.5,\n",
      "        \"fiftyTwoWeekHigh\": 27.59,\n",
      "        \"priceToSalesTrailing12Months\": 27.60419,\n",
      "        \"fiftyDayAverage\": 22.034117,\n",
      "        \"twoHundredDayAverage\": 18.704485,\n",
      "        \"currency\": \"USD\",\n",
      "        \"fromCurrency\": null,\n",
      "        \"toCurrency\": null,\n",
      "        \"lastMarket\": null,\n",
      "        \"algorithm\": null,\n",
      "        \"tradeable\": false\n",
      "    }\n",
      "}\n"
     ]
    }
   ],
   "source": [
    "pprint(yq.summary_detail)"
   ]
  },
  {
   "cell_type": "code",
   "execution_count": 46,
   "metadata": {},
   "outputs": [
    {
     "name": "stdout",
     "output_type": "stream",
     "text": [
      "{\n",
      "    \"net\": {\n",
      "        \"address1\": \"101 Townsend Street\",\n",
      "        \"city\": \"San Francisco\",\n",
      "        \"state\": \"CA\",\n",
      "        \"zip\": \"94107\",\n",
      "        \"country\": \"United States\",\n",
      "        \"phone\": \"650 319 8930\",\n",
      "        \"fax\": \"650 230 7173\",\n",
      "        \"website\": \"http://www.cloudflare.com\",\n",
      "        \"industry\": \"Software\\u2014Infrastructure\",\n",
      "        \"sector\": \"Technology\",\n",
      "        \"longBusinessSummary\": \"CloudFlare, Inc. operates a cloud platform that delivers a range of network services to businesses worldwide. The company provides an integrated cloud-based security solution to secure a range of combination of platforms, including public cloud, private cloud, on-premise, software-as-a-service applications, and Internet of Things (IoT) devices. Its security products comprise Cloud Firewall, Bot Management, Distributed Denial of Service, Infrastructure Protection, Zero Trust Security, IoT, SSL/TLS, Secure Origin Connection, and Rate Limiting. The company also offers performance solutions, which include Content Delivery, Intelligent Routing, and Mobile Software Development Kit, as well as Content, Mobile, and Image Optimization. In addition, it provides Reliability solutions comprising Load Balancing, Anycast Network, Virtual Backbone, DNS, DNS Resolver, and Always Online. The company serves customers in the consumer/retail, healthcare/life sciences, software, education/non-profit, industrial/transportation, media/entertainment, finance/real estate, and hardware industries, as well as to the government. CloudFlare, Inc. has a strategic agreement with Baidu, Inc. The company was founded in 2009 and is headquartered in San Francisco, California.\",\n",
      "        \"fullTimeEmployees\": 1270,\n",
      "        \"companyOfficers\": [],\n",
      "        \"maxAge\": 86400\n",
      "    }\n",
      "}\n"
     ]
    }
   ],
   "source": [
    "pprint(yq.summary_profile)"
   ]
  }
 ],
 "metadata": {
  "kernelspec": {
   "display_name": "Python 3",
   "language": "python",
   "name": "python3"
  },
  "language_info": {
   "codemirror_mode": {
    "name": "ipython",
    "version": 3
   },
   "file_extension": ".py",
   "mimetype": "text/x-python",
   "name": "python",
   "nbconvert_exporter": "python",
   "pygments_lexer": "ipython3",
   "version": "3.7.3"
  }
 },
 "nbformat": 4,
 "nbformat_minor": 2
}
