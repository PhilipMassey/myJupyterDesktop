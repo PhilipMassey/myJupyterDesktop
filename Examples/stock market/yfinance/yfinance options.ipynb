{
 "cells": [
  {
   "cell_type": "code",
   "execution_count": 35,
   "metadata": {},
   "outputs": [
    {
     "data": {
      "text/plain": [
       "('2020-02-20', '2020-03-19', '2020-04-16', '2020-07-16', '2021-01-14')"
      ]
     },
     "execution_count": 35,
     "metadata": {},
     "output_type": "execute_result"
    }
   ],
   "source": [
    "import yfinance as yf\n",
    "ticker = 'MIC'\n",
    "stock_data = yf.Ticker(ticker)\n",
    "stock_data.options"
   ]
  },
  {
   "cell_type": "code",
   "execution_count": 37,
   "metadata": {},
   "outputs": [
    {
     "name": "stdout",
     "output_type": "stream",
     "text": [
      "2020-02-20\n",
      "       contractSymbol  lastTradeDate  strike  lastPrice   bid   ask  change  \\\n",
      "0  MIC200221C00032500     1580242346    32.5       12.3  11.3  14.2     0.0   \n",
      "1  MIC200221C00040000     1579717328    40.0        5.3   3.6   5.1     0.0   \n",
      "\n",
      "   percentChange  volume  openInterest  impliedVolatility  inTheMoney  \\\n",
      "0            0.0      10           NaN           1.388675        True   \n",
      "1            0.0      20          12.0           0.645511        True   \n",
      "\n",
      "  contractSize currency  \n",
      "0      REGULAR      USD  \n",
      "1      REGULAR      USD  \n"
     ]
    }
   ],
   "source": [
    "\n",
    "# get option chain for specific expiration\n",
    "opt_date = stock_data.options[0]\n",
    "print(opt_date)\n",
    "option_data = stock_data.option_chain(opt_date)\n",
    "# data available via: opt.calls, opt.puts\n",
    "print(option_data[0].iloc[0:2])"
   ]
  },
  {
   "cell_type": "code",
   "execution_count": 42,
   "metadata": {},
   "outputs": [
    {
     "data": {
      "text/html": [
       "<div>\n",
       "<style scoped>\n",
       "    .dataframe tbody tr th:only-of-type {\n",
       "        vertical-align: middle;\n",
       "    }\n",
       "\n",
       "    .dataframe tbody tr th {\n",
       "        vertical-align: top;\n",
       "    }\n",
       "\n",
       "    .dataframe thead th {\n",
       "        text-align: right;\n",
       "    }\n",
       "</style>\n",
       "<table border=\"1\" class=\"dataframe\">\n",
       "  <thead>\n",
       "    <tr style=\"text-align: right;\">\n",
       "      <th></th>\n",
       "      <th>strike</th>\n",
       "      <th>volume</th>\n",
       "      <th>openInterest</th>\n",
       "      <th>ask</th>\n",
       "      <th>bid</th>\n",
       "      <th>percentChange</th>\n",
       "      <th>lastPrice</th>\n",
       "      <th>inTheMoney</th>\n",
       "    </tr>\n",
       "  </thead>\n",
       "  <tbody>\n",
       "    <tr>\n",
       "      <th>5</th>\n",
       "      <td>50.0</td>\n",
       "      <td>10</td>\n",
       "      <td>12.0</td>\n",
       "      <td>0.2</td>\n",
       "      <td>0.00</td>\n",
       "      <td>0.000000</td>\n",
       "      <td>0.08</td>\n",
       "      <td>False</td>\n",
       "    </tr>\n",
       "    <tr>\n",
       "      <th>4</th>\n",
       "      <td>47.5</td>\n",
       "      <td>91</td>\n",
       "      <td>444.0</td>\n",
       "      <td>0.3</td>\n",
       "      <td>0.15</td>\n",
       "      <td>-16.000002</td>\n",
       "      <td>0.21</td>\n",
       "      <td>False</td>\n",
       "    </tr>\n",
       "    <tr>\n",
       "      <th>3</th>\n",
       "      <td>45.0</td>\n",
       "      <td>28</td>\n",
       "      <td>870.0</td>\n",
       "      <td>0.9</td>\n",
       "      <td>0.65</td>\n",
       "      <td>-6.024098</td>\n",
       "      <td>0.78</td>\n",
       "      <td>False</td>\n",
       "    </tr>\n",
       "    <tr>\n",
       "      <th>2</th>\n",
       "      <td>42.5</td>\n",
       "      <td>9</td>\n",
       "      <td>104.0</td>\n",
       "      <td>2.7</td>\n",
       "      <td>1.75</td>\n",
       "      <td>-6.000004</td>\n",
       "      <td>2.35</td>\n",
       "      <td>True</td>\n",
       "    </tr>\n",
       "    <tr>\n",
       "      <th>1</th>\n",
       "      <td>40.0</td>\n",
       "      <td>20</td>\n",
       "      <td>12.0</td>\n",
       "      <td>5.1</td>\n",
       "      <td>3.60</td>\n",
       "      <td>0.000000</td>\n",
       "      <td>5.30</td>\n",
       "      <td>True</td>\n",
       "    </tr>\n",
       "    <tr>\n",
       "      <th>0</th>\n",
       "      <td>32.5</td>\n",
       "      <td>10</td>\n",
       "      <td>NaN</td>\n",
       "      <td>14.2</td>\n",
       "      <td>11.30</td>\n",
       "      <td>0.000000</td>\n",
       "      <td>12.30</td>\n",
       "      <td>True</td>\n",
       "    </tr>\n",
       "  </tbody>\n",
       "</table>\n",
       "</div>"
      ],
      "text/plain": [
       "   strike  volume  openInterest   ask    bid  percentChange  lastPrice  \\\n",
       "5    50.0      10          12.0   0.2   0.00       0.000000       0.08   \n",
       "4    47.5      91         444.0   0.3   0.15     -16.000002       0.21   \n",
       "3    45.0      28         870.0   0.9   0.65      -6.024098       0.78   \n",
       "2    42.5       9         104.0   2.7   1.75      -6.000004       2.35   \n",
       "1    40.0      20          12.0   5.1   3.60       0.000000       5.30   \n",
       "0    32.5      10           NaN  14.2  11.30       0.000000      12.30   \n",
       "\n",
       "   inTheMoney  \n",
       "5       False  \n",
       "4       False  \n",
       "3       False  \n",
       "2        True  \n",
       "1        True  \n",
       "0        True  "
      ]
     },
     "execution_count": 42,
     "metadata": {},
     "output_type": "execute_result"
    }
   ],
   "source": [
    "df =option_data.calls\n",
    "df1 = df[df.loc[:,'volume'] > 1][['strike', 'volume', 'openInterest','ask',  'bid', 'percentChange',   'lastPrice', 'inTheMoney']]\n",
    "#lastTradeDate\tstrike\tlastPrice\tbid\task\tchange\tpercentChange\tvolume\topenInterest\timpliedVolatility\tinTheMoney\tcontractSize\tcurrency\n",
    "df1.sort_values(by=['strike'], ascending=False)"
   ]
  },
  {
   "cell_type": "code",
   "execution_count": 39,
   "metadata": {},
   "outputs": [
    {
     "data": {
      "text/html": [
       "<div>\n",
       "<style scoped>\n",
       "    .dataframe tbody tr th:only-of-type {\n",
       "        vertical-align: middle;\n",
       "    }\n",
       "\n",
       "    .dataframe tbody tr th {\n",
       "        vertical-align: top;\n",
       "    }\n",
       "\n",
       "    .dataframe thead th {\n",
       "        text-align: right;\n",
       "    }\n",
       "</style>\n",
       "<table border=\"1\" class=\"dataframe\">\n",
       "  <thead>\n",
       "    <tr style=\"text-align: right;\">\n",
       "      <th></th>\n",
       "      <th>strike</th>\n",
       "      <th>volume</th>\n",
       "      <th>ask</th>\n",
       "      <th>bid</th>\n",
       "      <th>percentChange</th>\n",
       "      <th>lastPrice</th>\n",
       "      <th>inTheMoney</th>\n",
       "    </tr>\n",
       "  </thead>\n",
       "  <tbody>\n",
       "    <tr>\n",
       "      <th>3</th>\n",
       "      <td>45.0</td>\n",
       "      <td>30.0</td>\n",
       "      <td>1.85</td>\n",
       "      <td>1.25</td>\n",
       "      <td>15.384619</td>\n",
       "      <td>1.5</td>\n",
       "      <td>True</td>\n",
       "    </tr>\n",
       "  </tbody>\n",
       "</table>\n",
       "</div>"
      ],
      "text/plain": [
       "   strike  volume   ask   bid  percentChange  lastPrice  inTheMoney\n",
       "3    45.0    30.0  1.85  1.25      15.384619        1.5        True"
      ]
     },
     "execution_count": 39,
     "metadata": {},
     "output_type": "execute_result"
    }
   ],
   "source": [
    "df =option_data.puts\n",
    "df1 = df[df.loc[:,'volume'] > 10][['strike', 'volume', 'ask',  'bid', 'percentChange',   'lastPrice', 'inTheMoney']]\n",
    "#lastTradeDate\tstrike\tlastPrice\tbid\task\tchange\tpercentChange\tvolume\topenInterest\timpliedVolatility\tinTheMoney\tcontractSize\tcurrency\n",
    "df1.sort_values(by=['strike'], ascending=False)"
   ]
  },
  {
   "cell_type": "code",
   "execution_count": null,
   "metadata": {},
   "outputs": [],
   "source": []
  }
 ],
 "metadata": {
  "anaconda-cloud": {},
  "kernelspec": {
   "display_name": "Python 3",
   "language": "python",
   "name": "python3"
  },
  "language_info": {
   "codemirror_mode": {
    "name": "ipython",
    "version": 3
   },
   "file_extension": ".py",
   "mimetype": "text/x-python",
   "name": "python",
   "nbconvert_exporter": "python",
   "pygments_lexer": "ipython3",
   "version": "3.7.3"
  }
 },
 "nbformat": 4,
 "nbformat_minor": 1
}
