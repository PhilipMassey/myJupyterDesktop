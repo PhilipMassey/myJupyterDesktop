{
 "cells": [
  {
   "cell_type": "code",
   "execution_count": 31,
   "metadata": {},
   "outputs": [
    {
     "name": "stdout",
     "output_type": "stream",
     "text": [
      "26.18\n",
      "1.3500004\n",
      "20 Apr 2020 20:02:00\n"
     ]
    }
   ],
   "source": [
    "from wallstreet import Stock, Call, Put\n",
    "\n",
    "ticker = 'NET'\n",
    "s = Stock(ticker)\n",
    "print(s.price)\n",
    "print(s.change)\n",
    "print(s.last_trade)\n"
   ]
  },
  {
   "cell_type": "markdown",
   "metadata": {},
   "source": [
    "### Options\n",
    "cp (percentage change)\n",
    "volume\n",
    "open_interest\n",
    "code\n",
    "expirations (list of possible expiration dates for option chain)\n",
    "strikes (list of possible strike prices)\n",
    "set_strike()\n",
    "implied_volatility()\n",
    "delta()\n",
    "gamma()\n",
    "vega()\n",
    "theta()\n",
    "rho()"
   ]
  },
  {
   "cell_type": "code",
   "execution_count": 33,
   "metadata": {},
   "outputs": [
    {
     "name": "stdout",
     "output_type": "stream",
     "text": [
      "price \t 2.89\n",
      "volume \t 3874\n",
      "impvol \t 0.8439992883046793\n",
      "delta \t 0.6253432137954817\n",
      "vega \t 0.02597351012267879\n",
      "under \t Stock(ticker=NET, price=26.18)\n",
      "cp%\t4450%\n"
     ]
    }
   ],
   "source": [
    "g = Call(ticker, d=15, m=5, y=2020, strike=25)\n",
    "print('price','\\t',g.price)\n",
    "print('volume','\\t',g.volume)\n",
    "print('impvol','\\t',g.implied_volatility())\n",
    "print('delta','\\t',g.delta())\n",
    "print('vega','\\t',g.vega())\n",
    "print('under','\\t',g.underlying)\n",
    "print('cp%{0}{1:.0%}'.format('\\t',g.cp))"
   ]
  },
  {
   "cell_type": "code",
   "execution_count": 14,
   "metadata": {},
   "outputs": [
    {
     "name": "stdout",
     "output_type": "stream",
     "text": [
      "(12.5, 15, 17.5, 20, 22.5, 25, 30, 35)\n"
     ]
    },
    {
     "data": {
      "text/plain": [
       "Call(ticker=NET, expiration=15-05-2020, strike=25)"
      ]
     },
     "execution_count": 14,
     "metadata": {},
     "output_type": "execute_result"
    }
   ],
   "source": [
    "g = Call(ticker, d=15, m=5, y=2020)\n",
    "print(g.strikes)\n",
    "g.set_strike(25)\n",
    "g\n"
   ]
  },
  {
   "cell_type": "code",
   "execution_count": 15,
   "metadata": {},
   "outputs": [
    {
     "name": "stdout",
     "output_type": "stream",
     "text": [
      "No options listed for given date, using 15-05-2020 instead\n",
      "['15-05-2020', '21-08-2020', '20-11-2020', '18-12-2020']\n"
     ]
    }
   ],
   "source": [
    "g = Put(ticker)\n",
    "print(g.expirations)\n",
    "\n"
   ]
  },
  {
   "cell_type": "code",
   "execution_count": 39,
   "metadata": {},
   "outputs": [
    {
     "data": {
      "text/plain": [
       "0     21.410000\n",
       "1     22.410000\n",
       "2     21.660000\n",
       "3     21.600000\n",
       "4     21.959999\n",
       "5     23.889999\n",
       "6     23.480000\n",
       "7     24.120001\n",
       "8     23.059999\n",
       "9     24.080000\n",
       "10    23.639999\n",
       "11    22.799999\n",
       "12    22.840000\n",
       "13    21.180000\n",
       "14    23.620001\n",
       "15    22.910000\n",
       "16    23.889999\n",
       "17    25.420000\n",
       "18    24.830000\n",
       "19    26.180000\n",
       "Name: Close, dtype: float64"
      ]
     },
     "execution_count": 39,
     "metadata": {},
     "output_type": "execute_result"
    }
   ],
   "source": [
    "s = Stock(ticker)\n",
    "df = s.historical(days_back=30, frequency='d')\n",
    "df['Close']\n"
   ]
  },
  {
   "cell_type": "code",
   "execution_count": null,
   "metadata": {},
   "outputs": [],
   "source": []
  }
 ],
 "metadata": {
  "kernelspec": {
   "display_name": "Python 3",
   "language": "python",
   "name": "python3"
  },
  "language_info": {
   "codemirror_mode": {
    "name": "ipython",
    "version": 3
   },
   "file_extension": ".py",
   "mimetype": "text/x-python",
   "name": "python",
   "nbconvert_exporter": "python",
   "pygments_lexer": "ipython3",
   "version": "3.7.3"
  }
 },
 "nbformat": 4,
 "nbformat_minor": 2
}
