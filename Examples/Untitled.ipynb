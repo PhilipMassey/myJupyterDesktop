{
 "cells": [
  {
   "cell_type": "code",
   "execution_count": 2,
   "metadata": {},
   "outputs": [
    {
     "name": "stdout",
     "output_type": "stream",
     "text": [
      "2020-10-20 2020-11-04\n"
     ]
    },
    {
     "data": {
      "text/plain": [
       "datetime.timedelta(days=15, seconds=60439, microseconds=491682)"
      ]
     },
     "execution_count": 2,
     "metadata": {},
     "output_type": "execute_result"
    }
   ],
   "source": [
    "from datetime import datetime\n",
    "import pandas as pd\n",
    "\n",
    "ndays = 10\n",
    "now = datetime.now()\n",
    "start = now - pd.tseries.offsets.BusinessDay(n=(ndays+1))\n",
    "end = now - pd.tseries.offsets.BusinessDay(n=0)\n",
    "start = '{:%Y-%m-%d}'.format(start)\n",
    "end = '{:%Y-%m-%d}'.format(end)\n",
    "print(start,end)\n",
    "\n",
    "datestr = start\n",
    "d1 = datetime.strptime(datestr, \"%Y-%m-%d\")\n",
    "d2 = datetime.today()\n",
    "d2 - d1"
   ]
  }
 ],
 "metadata": {
  "kernelspec": {
   "display_name": "Python 3",
   "language": "python",
   "name": "python3"
  },
  "language_info": {
   "codemirror_mode": {
    "name": "ipython",
    "version": 3
   },
   "file_extension": ".py",
   "mimetype": "text/x-python",
   "name": "python",
   "nbconvert_exporter": "python",
   "pygments_lexer": "ipython3",
   "version": "3.7.3"
  }
 },
 "nbformat": 4,
 "nbformat_minor": 2
}
