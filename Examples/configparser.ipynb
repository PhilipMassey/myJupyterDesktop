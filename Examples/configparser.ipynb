{
 "cells": [
  {
   "cell_type": "code",
   "execution_count": 39,
   "metadata": {},
   "outputs": [],
   "source": [
    "\n",
    "config = configparser.RawConfigParser()\n",
    "\n",
    "# Please note that using RawConfigParser's set functions, you can assign\n",
    "# non-string values to keys internally, but will receive an error when\n",
    "# attempting to write to a file or when you get it in non-raw mode. Setting\n",
    "# values using the mapping protocol or ConfigParser's set() does not allow\n",
    "# such assignments to take place.\n",
    "config.add_section('Section1')\n",
    "config.set('Section1', 'an_int', '15')\n",
    "config.set('Section1', 'a_bool', 'true')\n",
    "config.set('Section1', 'a_float', '3.1415')\n",
    "config.set('Section1', 'baz', 'fun')\n",
    "config.set('Section1', 'bar', 'Python')\n",
    "config.set('Section1', 'foo', '%(bar)s is %(baz)s!')\n",
    "\n",
    "# Writing our configuration file to 'example.cfg'\n",
    "with open('/Users/philipmassey/.tokens/example.cfg', 'w') as configfile:\n",
    "    config.write(configfile)\n"
   ]
  },
  {
   "cell_type": "code",
   "execution_count": 50,
   "metadata": {},
   "outputs": [
    {
     "name": "stdout",
     "output_type": "stream",
     "text": [
      "[('DEFAULT', <Section: DEFAULT>), ('login', <Section: login>)]\n",
      "philip0massey Rie1Hnd2*#\n"
     ]
    }
   ],
   "source": [
    "import os\n",
    "import robin_stocks as r\n",
    "import configparser\n",
    "config = configparser.RawConfigParser()   \n",
    "configFilePath = '/Users/philipmassey/.tokens/robinhood.cfg'\n",
    "config.read(configFilePath)\n",
    "print(list(config.items()))\n",
    "rhuser = config.get('login', 'user')\n",
    "rhpwd = config.get('login', 'pwd')\n",
    "print(rhuser,rhpwd)\n",
    "login = r.login(rhuser,rhpwd)\n"
   ]
  }
 ],
 "metadata": {
  "kernelspec": {
   "display_name": "Python 3",
   "language": "python",
   "name": "python3"
  },
  "language_info": {
   "codemirror_mode": {
    "name": "ipython",
    "version": 3
   },
   "file_extension": ".py",
   "mimetype": "text/x-python",
   "name": "python",
   "nbconvert_exporter": "python",
   "pygments_lexer": "ipython3",
   "version": "3.7.3"
  }
 },
 "nbformat": 4,
 "nbformat_minor": 2
}
