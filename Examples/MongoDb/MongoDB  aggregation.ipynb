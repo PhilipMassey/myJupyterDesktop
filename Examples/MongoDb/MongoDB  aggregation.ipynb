{
 "cells": [
  {
   "cell_type": "code",
   "execution_count": 2,
   "metadata": {},
   "outputs": [
    {
     "data": {
      "text/plain": [
       "[ObjectId('5ddafa76db3984c1fb60d0ee'),\n",
       " ObjectId('5ddafa76db3984c1fb60d0ef'),\n",
       " ObjectId('5ddafa76db3984c1fb60d0f0'),\n",
       " ObjectId('5ddafa76db3984c1fb60d0f1')]"
      ]
     },
     "execution_count": 2,
     "metadata": {},
     "output_type": "execute_result"
    }
   ],
   "source": [
    ">>> from pymongo import MongoClient\n",
    ">>> db = MongoClient().aggregation_example\n",
    ">>> result = db.things.insert_many([{\"x\": 1, \"tags\": [\"dog\", \"cat\"]},\n",
    "...                                 {\"x\": 2, \"tags\": [\"cat\"]},\n",
    "...                                 {\"x\": 2, \"tags\": [\"mouse\", \"cat\", \"dog\"]},\n",
    "...                                 {\"x\": 3, \"tags\": []}])\n",
    ">>> result.inserted_ids\n"
   ]
  },
  {
   "cell_type": "markdown",
   "metadata": {},
   "source": [
    "### Aggregation pipeline"
   ]
  },
  {
   "cell_type": "code",
   "execution_count": 10,
   "metadata": {},
   "outputs": [
    {
     "data": {
      "text/plain": [
       "[{'_id': 'cat', 'count': 3},\n",
       " {'_id': 'dog', 'count': 2},\n",
       " {'_id': 'mouse', 'count': 1}]"
      ]
     },
     "execution_count": 10,
     "metadata": {},
     "output_type": "execute_result"
    }
   ],
   "source": [
    "from bson.son import SON\n",
    "pipeline = [\n",
    "     {\"$unwind\": \"$tags\"},\n",
    "     {\"$group\": {\"_id\": \"$tags\", \"count\": {\"$sum\": 1}}},\n",
    "    {\"$sort\": SON([(\"count\", -1), (\"_id\", -1)])}\n",
    " ]\n",
    "list(db.things.aggregate(pipeline))\n"
   ]
  },
  {
   "cell_type": "code",
   "execution_count": 6,
   "metadata": {},
   "outputs": [
    {
     "data": {
      "text/plain": [
       "[{'_id': 'cat', 'count': 3},\n",
       " {'_id': 'dog', 'count': 2},\n",
       " {'_id': 'mouse', 'count': 1}]"
      ]
     },
     "execution_count": 6,
     "metadata": {},
     "output_type": "execute_result"
    }
   ],
   "source": [
    "list(db.things.aggregate(pipeline))"
   ]
  },
  {
   "cell_type": "markdown",
   "metadata": {},
   "source": [
    "#### Run explain plan"
   ]
  },
  {
   "cell_type": "code",
   "execution_count": 4,
   "metadata": {},
   "outputs": [
    {
     "data": {
      "text/plain": [
       "{'stages': [{'$cursor': {'query': {},\n",
       "    'fields': {'tags': 1, '_id': 0},\n",
       "    'queryPlanner': {'plannerVersion': 1,\n",
       "     'namespace': 'aggregation_example.things',\n",
       "     'indexFilterSet': False,\n",
       "     'parsedQuery': {},\n",
       "     'queryHash': '8B3D4AB8',\n",
       "     'planCacheKey': '8B3D4AB8',\n",
       "     'winningPlan': {'stage': 'COLLSCAN', 'direction': 'forward'},\n",
       "     'rejectedPlans': []}}},\n",
       "  {'$unwind': {'path': '$tags'}},\n",
       "  {'$group': {'_id': '$tags', 'count': {'$sum': {'$const': 1}}}},\n",
       "  {'$sort': {'sortKey': {'count': -1, '_id': -1}}}],\n",
       " 'ok': 1.0}"
      ]
     },
     "execution_count": 4,
     "metadata": {},
     "output_type": "execute_result"
    }
   ],
   "source": [
    "db.command('aggregate', 'things', pipeline=pipeline, explain=True)"
   ]
  },
  {
   "cell_type": "code",
   "execution_count": null,
   "metadata": {},
   "outputs": [],
   "source": [
    "db.orders.aggregate([\n",
    "   { $match: { status: \"A\" } },\n",
    "   { $group: { _id: \"$cust_id\", total: { $sum: \"$amount\" } } }\n",
    "])"
   ]
  },
  {
   "cell_type": "code",
   "execution_count": null,
   "metadata": {},
   "outputs": [],
   "source": [
    "#Aggregate\n",
    "\n",
    "db.employees.aggregate([\n",
    "    {\n",
    "        $group: {\n",
    "            _id: \"$department\",\n",
    "            total: { $sum: \"$salary\" }\n",
    "        },\n",
    "    }\n",
    "])"
   ]
  }
 ],
 "metadata": {
  "kernelspec": {
   "display_name": "Python 3",
   "language": "python",
   "name": "python3"
  },
  "language_info": {
   "codemirror_mode": {
    "name": "ipython",
    "version": 3
   },
   "file_extension": ".py",
   "mimetype": "text/x-python",
   "name": "python",
   "nbconvert_exporter": "python",
   "pygments_lexer": "ipython3",
   "version": "3.7.3"
  }
 },
 "nbformat": 4,
 "nbformat_minor": 2
}
