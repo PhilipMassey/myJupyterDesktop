{
 "cells": [
  {
   "cell_type": "code",
   "execution_count": 1,
   "metadata": {},
   "outputs": [
    {
     "data": {
      "text/plain": [
       "[]"
      ]
     },
     "execution_count": 1,
     "metadata": {},
     "output_type": "execute_result"
    }
   ],
   "source": [
    "import pymongo\n",
    "from pymongo import MongoClient\n",
    "import pandas as pd\n",
    "\n",
    "client = MongoClient()\n",
    "db = client['test-database']\n",
    "db.list_collection_names()"
   ]
  },
  {
   "cell_type": "code",
   "execution_count": 2,
   "metadata": {},
   "outputs": [
    {
     "data": {
      "text/plain": [
       "Collection(Database(MongoClient(host=['localhost:27017'], document_class=dict, tz_aware=False, connect=True), 'test-database'), 'test-collection')"
      ]
     },
     "execution_count": 2,
     "metadata": {},
     "output_type": "execute_result"
    }
   ],
   "source": [
    "collection = db['test-collection']\n",
    "collection"
   ]
  },
  {
   "cell_type": "code",
   "execution_count": 3,
   "metadata": {},
   "outputs": [
    {
     "data": {
      "text/plain": [
       "[{'name': 'Braund', 'age': 22, 'fare': 7.25, 'survived?': False},\n",
       " {'name': 'Cummings', 'age': 38, 'fare': 71.83, 'survived?': True},\n",
       " {'name': 'Heikkinen', 'age': 26, 'fare': 0.0, 'survived?': True},\n",
       " {'name': 'Allen', 'age': 35, 'fare': 8.05, 'survived?': False}]"
      ]
     },
     "execution_count": 3,
     "metadata": {},
     "output_type": "execute_result"
    }
   ],
   "source": [
    "d = {'name': ['Braund','Cummings','Heikkinen','Allen'],\n",
    "                   'age': [22,38,26,35],\n",
    "                   'fare': [7.25, 71.83, 0 , 8.05],\n",
    "                   'survived?': [False, True, True, False]}\n",
    "\n",
    "df = pd.DataFrame(d)\n",
    "\n",
    "data = df.to_dict(orient='records')  # Here's our added param..\n",
    "data"
   ]
  },
  {
   "cell_type": "code",
   "execution_count": 5,
   "metadata": {},
   "outputs": [
    {
     "data": {
      "text/plain": [
       "array([0, 1, 2, 3])"
      ]
     },
     "execution_count": 5,
     "metadata": {},
     "output_type": "execute_result"
    }
   ],
   "source": [
    "#df.index.values\n",
    "collection.insert_many(data)"
   ]
  },
  {
   "cell_type": "code",
   "execution_count": 11,
   "metadata": {},
   "outputs": [
    {
     "name": "stdout",
     "output_type": "stream",
     "text": [
      "{'_id': ObjectId('5dc4d1ffbf3fe4d620d3148d'), 'name': 'Braund', 'age': 22, 'fare': 7.25, 'survived?': False}\n",
      "{'_id': ObjectId('5dc60dfebf3fe4d620d31491'), 'name': 'Braund', 'age': 22, 'fare': 7.25, 'survived?': False}\n",
      "{'_id': ObjectId('5dc883b8412b4fc01e7bc265'), 'name': 'Braund', 'age': 22, 'fare': 7.25, 'survived?': False}\n"
     ]
    }
   ],
   "source": [
    "for c in collection.find({'name': 'Braund'}):\n",
    "    print(c)"
   ]
  },
  {
   "cell_type": "code",
   "execution_count": 2,
   "metadata": {},
   "outputs": [],
   "source": [
    "import pandas as pd\n",
    "from bson import json_util, ObjectId\n",
    "from pandas.io.json import json_normalize\n",
    "import json\n",
    "\n",
    "def mongo_to_dataframe(mongo_data):\n",
    "\n",
    "        sanitized = json.loads(json_util.dumps(mongo_data))\n",
    "        normalized = json_normalize(sanitized)\n",
    "        df = pd.DataFrame(normalized)\n",
    "\n",
    "        return df\n",
    "    \n",
    "    "
   ]
  },
  {
   "cell_type": "code",
   "execution_count": null,
   "metadata": {},
   "outputs": [],
   "source": []
  }
 ],
 "metadata": {
  "kernelspec": {
   "display_name": "Python 3",
   "language": "python",
   "name": "python3"
  },
  "language_info": {
   "codemirror_mode": {
    "name": "ipython",
    "version": 3
   },
   "file_extension": ".py",
   "mimetype": "text/x-python",
   "name": "python",
   "nbconvert_exporter": "python",
   "pygments_lexer": "ipython3",
   "version": "3.7.3"
  }
 },
 "nbformat": 4,
 "nbformat_minor": 2
}
