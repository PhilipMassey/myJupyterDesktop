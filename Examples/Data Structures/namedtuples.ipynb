{
 "cells": [
  {
   "cell_type": "code",
   "execution_count": 1,
   "metadata": {},
   "outputs": [
    {
     "data": {
      "text/plain": [
       "[Struct(key1=1, key2=2, key3=3),\n",
       " Struct(key1=11, key2=22, key3=None),\n",
       " Struct(key1=31, key2=32, key3=33)]"
      ]
     },
     "execution_count": 1,
     "metadata": {},
     "output_type": "execute_result"
    }
   ],
   "source": [
    "from collections import namedtuple\n",
    "\n",
    "ldicts = [{'key1':1,'key2':2,'key3':3},{'key1':11,'key2':22},{'key1':31,'key2':32,'key3':33}]\n",
    "\n",
    "keys = {key for dict_ in ldicts for key in dict_.keys()}\n",
    "\n",
    "Struct = namedtuple('Struct',sorted(keys), rename=True)\n",
    "Struct.__new__.__defaults__ = (None,) * len(Struct._fields)\n",
    "[Struct(**dict_) for dict_ in ldicts]"
   ]
  }
 ],
 "metadata": {
  "kernelspec": {
   "display_name": "Python 3",
   "language": "python",
   "name": "python3"
  },
  "language_info": {
   "codemirror_mode": {
    "name": "ipython",
    "version": 3
   },
   "file_extension": ".py",
   "mimetype": "text/x-python",
   "name": "python",
   "nbconvert_exporter": "python",
   "pygments_lexer": "ipython3",
   "version": "3.7.3"
  }
 },
 "nbformat": 4,
 "nbformat_minor": 2
}
