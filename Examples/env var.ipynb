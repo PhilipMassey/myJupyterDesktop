{
 "cells": [
  {
   "cell_type": "code",
   "execution_count": 6,
   "metadata": {},
   "outputs": [
    {
     "name": "stdout",
     "output_type": "stream",
     "text": [
      "Python 3.7.3 (v3.7.3:ef4ec6ed12, Mar 25 2019, 16:52:21) \n",
      "[Clang 6.0 (clang-600.0.57)] on darwin\n"
     ]
    },
    {
     "data": {
      "text/plain": [
       "['/Users/philipmassey/Library/Mobile Documents/com~apple~CloudDocs/jupyter/Examples',\n",
       " '/Library/Frameworks/Python.framework/Versions/3.7/lib/python37.zip',\n",
       " '/Library/Frameworks/Python.framework/Versions/3.7/lib/python3.7',\n",
       " '/Library/Frameworks/Python.framework/Versions/3.7/lib/python3.7/lib-dynload',\n",
       " '',\n",
       " '/Library/Frameworks/Python.framework/Versions/3.7/lib/python3.7/site-packages',\n",
       " '/Library/Frameworks/Python.framework/Versions/3.7/lib/python3.7/site-packages/IPython/extensions',\n",
       " '/Users/philipmassey/.ipython']"
      ]
     },
     "execution_count": 6,
     "metadata": {},
     "output_type": "execute_result"
    }
   ],
   "source": [
    "import sys; print('Python %s on %s' % (sys.version, sys.platform))\n",
    "sys.path\n"
   ]
  },
  {
   "cell_type": "code",
   "execution_count": 5,
   "metadata": {},
   "outputs": [],
   "source": [
    "sys.path.remove('/Users/philipmassey/Library/Python/3.7/lib/python/site-packages')"
   ]
  },
  {
   "cell_type": "code",
   "execution_count": 2,
   "metadata": {},
   "outputs": [
    {
     "data": {
      "text/plain": [
       "['/Library/Frameworks/Python.framework/Versions/3.7/lib/python3.7/site-packages']"
      ]
     },
     "execution_count": 2,
     "metadata": {},
     "output_type": "execute_result"
    }
   ],
   "source": [
    "import site; site.getsitepackages()"
   ]
  },
  {
   "cell_type": "code",
   "execution_count": 3,
   "metadata": {},
   "outputs": [
    {
     "data": {
      "text/plain": [
       "'/Library/Frameworks/Python.framework/Versions/3.7/lib/python3.7/site-packages/robin_stocks/__init__.py'"
      ]
     },
     "execution_count": 3,
     "metadata": {},
     "output_type": "execute_result"
    }
   ],
   "source": [
    "import robin_stocks as r\n",
    "import inspect\n",
    "inspect.getfile(r)\n"
   ]
  },
  {
   "cell_type": "code",
   "execution_count": 9,
   "metadata": {},
   "outputs": [
    {
     "name": "stdout",
     "output_type": "stream",
     "text": [
      "\n",
      "Please wait a moment while I gather a list of all available modules...\n",
      "\n"
     ]
    },
    {
     "name": "stderr",
     "output_type": "stream",
     "text": [
      "/Library/Frameworks/Python.framework/Versions/3.7/lib/python3.7/site-packages/IPython/kernel/__init__.py:13: ShimWarning: The `IPython.kernel` package has been deprecated since IPython 4.0.You should import from ipykernel or jupyter_client instead.\n",
      "  \"You should import from ipykernel or jupyter_client instead.\", ShimWarning)\n",
      "/Library/Frameworks/Python.framework/Versions/3.7/lib/python3.7/site-packages/sklearn/externals/joblib/__init__.py:15: FutureWarning: sklearn.externals.joblib is deprecated in 0.21 and will be removed in 0.23. Please import this functionality directly from joblib, which can be installed with: pip install joblib. If this warning is raised when loading pickled models, you may need to re-serialize those models with scikit-learn 0.21+.\n",
      "  warnings.warn(msg, category=FutureWarning)\n"
     ]
    },
    {
     "name": "stdout",
     "output_type": "stream",
     "text": [
      "DateTime            bs4                 jupyter_highlight_selected_word rlcompleter\n",
      "IPython             bson                jupyter_nbextensions_configurator rmagic\n",
      "OpenSSL             builtins            jupyterlab          robin_stocks\n",
      "Robinhood           bz2                 jupyterlab_server   runpy\n",
      "__future__          cProfile            jupyterthemes       sched\n",
      "_abc                calendar            keyword             scipy\n",
      "_ast                certifi             kiwisolver          seaborn\n",
      "_asyncio            cffi                latex_envs          secrets\n",
      "_bisect             cgi                 lesscpy             select\n",
      "_blake2             cgitb               lib2to3             selectors\n",
      "_bootlocale         chardet             libfuturize         selenium\n",
      "_bz2                chart_studio        libpasteurize       send2trash\n",
      "_cffi_backend       chunk               linecache           setuptools\n",
      "_codecs             cmath               locale              shelve\n",
      "_codecs_cn          cmd                 logging             shlex\n",
      "_codecs_hk          code                lxml                shutil\n",
      "_codecs_iso2022     codecs              lz4                 signal\n",
      "_codecs_jp          codeop              lzma                simplejson\n",
      "_codecs_kr          collections         macpath             site\n",
      "_codecs_tw          colorsys            mailbox             six\n",
      "_collections        compileall          mailcap             sklearn\n",
      "_collections_abc    concurrent          markupsafe          smtpd\n",
      "_compat_pickle      configparser        marshal             smtplib\n",
      "_compression        contextlib          math                sndhdr\n",
      "_contextvars        contextvars         matplotlib          socket\n",
      "_crypt              copy                mimetypes           socketIO_client_nexus\n",
      "_csv                copyreg             mistune             socketserver\n",
      "_ctypes             crypt               mmap                soupsieve\n",
      "_ctypes_test        cryptography        mockextras          sqlite3\n",
      "_curses             cssselect           modulefinder        sre_compile\n",
      "_curses_panel       csv                 more_itertools      sre_constants\n",
      "_datetime           ctypes              mplfinance          sre_parse\n",
      "_dbm                curl                multidict           ssl\n",
      "_decimal            curses              multiprocessing     stat\n",
      "_dummy_thread       cycler              multitasking        statistics\n",
      "_elementtree        cythonmagic         nbconvert           stockstats\n",
      "_functools          dataclasses         nbformat            storemagic\n",
      "_hashlib            datetime            ndg                 string\n",
      "_heapq              dateutil            netrc               stringprep\n",
      "_imp                dbm                 nis                 struct\n",
      "_io                 decimal             nntplib             subprocess\n",
      "_json               decorator           notebook            sunau\n",
      "_locale             defusedxml          ntpath              symbol\n",
      "_lsprof             deprecation         nturl2path          sympyprinting\n",
      "_lzma               difflib             numbers             symtable\n",
      "_markupbase         dis                 numpy               sys\n",
      "_md5                distutils           opcode              sysconfig\n",
      "_multibytecodec     doctest             operator            syslog\n",
      "_multiprocessing    dummy_threading     optparse            tabnanny\n",
      "_opcode             easy_install        os                  tabulate\n",
      "_operator           email               packaging           tarfile\n",
      "_osx_support        encodings           pandas              telnetlib\n",
      "_pickle             ensurepip           pandas_datareader   tempfile\n",
      "_posixsubprocess    entrypoints         pandocfilters       terminado\n",
      "_py_abc             enum                parse               termios\n",
      "_pydecimal          errno               parser              test\n",
      "_pyio               fake_useragent      parso               testpath\n",
      "_pyrsistent_version faulthandler        past                tests\n",
      "_queue              fcntl               pathlib             textwrap\n",
      "_random             ffn                 pathlib2            this\n",
      "_scproxy            filecmp             pdb                 threading\n",
      "_sha1               fileinput           pexpect             time\n",
      "_sha256             fnmatch             pickle              timeit\n",
      "_sha3               formatter           pickleshare         tkinter\n",
      "_sha512             fractions           pickletools         token\n",
      "_signal             frozenlist          pip                 tokenize\n",
      "_sitebuiltins       ftplib              pipes               tornado\n",
      "_socket             functools           pkg_resources       tqdm\n",
      "_sqlite3            future              pkgutil             trace\n",
      "_sre                gc                  platform            traceback\n",
      "_ssl                genericpath         plistlib            tracemalloc\n",
      "_stat               getopt              ply                 traitlets\n",
      "_string             getpass             poplib              tty\n",
      "_strptime           gettext             posix               turtle\n",
      "_struct             glob                posixpath           turtledemo\n",
      "_symtable           gridfs              pprint              types\n",
      "_sysconfigdata_m_darwin_darwin grp                 profile             typing\n",
      "_testbuffer         gzip                prometheus_client   tzlocal\n",
      "_testcapi           hashlib             prompt_toolkit      unicodedata\n",
      "_testimportmultiple heapq               pstats              unittest\n",
      "_testmultiphase     hmac                pty                 urllib\n",
      "_thread             html                ptyprocess          urllib3\n",
      "_threading_local    html5lib            pvectorc            uu\n",
      "_tkinter            http                pwd                 uuid\n",
      "_tracemalloc        http_client         py_compile          venv\n",
      "_uuid               idlelib             pyasn1              w3lib\n",
      "_warnings           idna                pyclbr              wallstreet\n",
      "_weakref            iex                 pycparser           warnings\n",
      "_weakrefset         iexfinance          pycurl              wave\n",
      "_xxtestfuzz         imaplib             pydoc               wcwidth\n",
      "abc                 imghdr              pydoc_data          weakref\n",
      "aifc                imp                 pyee                webbrowser\n",
      "antigravity         importlib           pyexpat             webencodings\n",
      "appdirs             inflection          pygments            websocket\n",
      "appnope             inspect             pylab               websockets\n",
      "arctic              int_date            pymongo             wheel\n",
      "argparse            io                  pyotp               widgetsnbextension\n",
      "array               ipaddress           pyparsing           wrapt\n",
      "arrow               ipykernel           pyperclip           wsgiref\n",
      "asn1crypto          ipykernel_launcher  pyppeteer           xdrlib\n",
      "ast                 ipython_genutils    pyquery             xml\n",
      "asynchat            ipywidgets          pyrsistent          xmlrpc\n",
      "asyncio             itertools           pytz                xxlimited\n",
      "asyncore            jedi                qtconsole           xxsubtype\n",
      "atexit              jinja2              quandl              yahoo_fin\n",
      "attr                joblib              queue               yahoo_finance\n",
      "audioop             json                quopri              yahooquery\n",
      "autoreload          json5               random              yaml\n",
      "backcall            jsonschema          re                  yarl\n",
      "base64              jupyter             readline            yfinance\n",
      "bdb                 jupyter_client      reprlib             zipapp\n",
      "binascii            jupyter_console     requests            zipfile\n",
      "binhex              jupyter_contrib_core requests_futures    zipimport\n",
      "bisect              jupyter_contrib_nbextensions requests_html       zlib\n",
      "bleach              jupyter_core        resource            zmq\n",
      "\n",
      "Enter any module name to get more help.  Or, type \"modules spam\" to search\n",
      "for modules whose name or summary contain the string \"spam\".\n",
      "\n"
     ]
    },
    {
     "name": "stderr",
     "output_type": "stream",
     "text": [
      "/Library/Frameworks/Python.framework/Versions/3.7/lib/python3.7/pkgutil.py:107: VisibleDeprecationWarning: zmq.eventloop.minitornado is deprecated in pyzmq 14.0 and will be removed.\n",
      "    Install tornado itself to use zmq with the tornado IOLoop.\n",
      "    \n",
      "  yield from walk_packages(path, info.name+'.', onerror)\n"
     ]
    }
   ],
   "source": [
    "help(\"modules\")"
   ]
  },
  {
   "cell_type": "code",
   "execution_count": null,
   "metadata": {},
   "outputs": [],
   "source": []
  }
 ],
 "metadata": {
  "kernelspec": {
   "display_name": "Python 3",
   "language": "python",
   "name": "python3"
  },
  "language_info": {
   "codemirror_mode": {
    "name": "ipython",
    "version": 3
   },
   "file_extension": ".py",
   "mimetype": "text/x-python",
   "name": "python",
   "nbconvert_exporter": "python",
   "pygments_lexer": "ipython3",
   "version": "3.7.3"
  }
 },
 "nbformat": 4,
 "nbformat_minor": 2
}
