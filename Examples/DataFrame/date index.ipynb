{
 "cells": [
  {
   "cell_type": "code",
   "execution_count": 1,
   "metadata": {},
   "outputs": [],
   "source": [
    "import datetime\n",
    "import pandas as pd"
   ]
  },
  {
   "cell_type": "code",
   "execution_count": 3,
   "metadata": {},
   "outputs": [
    {
     "data": {
      "text/html": [
       "<div>\n",
       "<style scoped>\n",
       "    .dataframe tbody tr th:only-of-type {\n",
       "        vertical-align: middle;\n",
       "    }\n",
       "\n",
       "    .dataframe tbody tr th {\n",
       "        vertical-align: top;\n",
       "    }\n",
       "\n",
       "    .dataframe thead th {\n",
       "        text-align: right;\n",
       "    }\n",
       "</style>\n",
       "<table border=\"1\" class=\"dataframe\">\n",
       "  <thead>\n",
       "    <tr style=\"text-align: right;\">\n",
       "      <th></th>\n",
       "    </tr>\n",
       "  </thead>\n",
       "  <tbody>\n",
       "    <tr>\n",
       "      <th>2020-08-22</th>\n",
       "    </tr>\n",
       "    <tr>\n",
       "      <th>2020-08-23</th>\n",
       "    </tr>\n",
       "    <tr>\n",
       "      <th>2020-08-24</th>\n",
       "    </tr>\n",
       "    <tr>\n",
       "      <th>2020-08-25</th>\n",
       "    </tr>\n",
       "    <tr>\n",
       "      <th>2020-08-26</th>\n",
       "    </tr>\n",
       "  </tbody>\n",
       "</table>\n",
       "</div>"
      ],
      "text/plain": [
       "Empty DataFrame\n",
       "Columns: []\n",
       "Index: [2020-08-22 00:00:00, 2020-08-23 00:00:00, 2020-08-24 00:00:00, 2020-08-25 00:00:00, 2020-08-26 00:00:00]"
      ]
     },
     "execution_count": 3,
     "metadata": {},
     "output_type": "execute_result"
    }
   ],
   "source": [
    " \n",
    "todays_date = datetime.datetime.now().date()\n",
    "index = pd.date_range(todays_date, periods=5, freq='D')\n",
    "df = pd.DataFrame(index=index)\n",
    "df"
   ]
  },
  {
   "cell_type": "code",
   "execution_count": 27,
   "metadata": {},
   "outputs": [
    {
     "data": {
      "text/html": [
       "<div>\n",
       "<style scoped>\n",
       "    .dataframe tbody tr th:only-of-type {\n",
       "        vertical-align: middle;\n",
       "    }\n",
       "\n",
       "    .dataframe tbody tr th {\n",
       "        vertical-align: top;\n",
       "    }\n",
       "\n",
       "    .dataframe thead th {\n",
       "        text-align: right;\n",
       "    }\n",
       "</style>\n",
       "<table border=\"1\" class=\"dataframe\">\n",
       "  <thead>\n",
       "    <tr style=\"text-align: right;\">\n",
       "      <th></th>\n",
       "      <th>A</th>\n",
       "    </tr>\n",
       "  </thead>\n",
       "  <tbody>\n",
       "    <tr>\n",
       "      <th>2019-10-26</th>\n",
       "      <td>0</td>\n",
       "    </tr>\n",
       "  </tbody>\n",
       "</table>\n",
       "</div>"
      ],
      "text/plain": [
       "            A\n",
       "2019-10-26  0"
      ]
     },
     "execution_count": 27,
     "metadata": {},
     "output_type": "execute_result"
    }
   ],
   "source": [
    "columns = ['A']\n",
    "df = pd.DataFrame(index=index, columns=columns)\n",
    "df = df.fillna(0)\n",
    "df"
   ]
  },
  {
   "cell_type": "code",
   "execution_count": 28,
   "metadata": {},
   "outputs": [
    {
     "data": {
      "text/html": [
       "<div>\n",
       "<style scoped>\n",
       "    .dataframe tbody tr th:only-of-type {\n",
       "        vertical-align: middle;\n",
       "    }\n",
       "\n",
       "    .dataframe tbody tr th {\n",
       "        vertical-align: top;\n",
       "    }\n",
       "\n",
       "    .dataframe thead th {\n",
       "        text-align: right;\n",
       "    }\n",
       "</style>\n",
       "<table border=\"1\" class=\"dataframe\">\n",
       "  <thead>\n",
       "    <tr style=\"text-align: right;\">\n",
       "      <th></th>\n",
       "      <th>A</th>\n",
       "    </tr>\n",
       "  </thead>\n",
       "  <tbody>\n",
       "    <tr>\n",
       "      <th>2019-10-26 00:00:00</th>\n",
       "      <td>0</td>\n",
       "    </tr>\n",
       "    <tr>\n",
       "      <th>2014-05-01 18:50:05</th>\n",
       "      <td>24</td>\n",
       "    </tr>\n",
       "  </tbody>\n",
       "</table>\n",
       "</div>"
      ],
      "text/plain": [
       "                      A\n",
       "2019-10-26 00:00:00   0\n",
       "2014-05-01 18:50:05  24"
      ]
     },
     "execution_count": 28,
     "metadata": {},
     "output_type": "execute_result"
    }
   ],
   "source": [
    "# add row \n",
    "adate = pd.to_datetime(\"2014-05-01 18:50:05\", format=\"%Y-%m-%d %H:%M:%S\")\n",
    "new_row = pd.DataFrame([[24]], columns=['A'], index=[adate])\n",
    "df = pd.concat([df, pd.DataFrame(new_row)], ignore_index=False)\n",
    "df"
   ]
  },
  {
   "cell_type": "code",
   "execution_count": 29,
   "metadata": {},
   "outputs": [
    {
     "data": {
      "text/html": [
       "<div>\n",
       "<style scoped>\n",
       "    .dataframe tbody tr th:only-of-type {\n",
       "        vertical-align: middle;\n",
       "    }\n",
       "\n",
       "    .dataframe tbody tr th {\n",
       "        vertical-align: top;\n",
       "    }\n",
       "\n",
       "    .dataframe thead th {\n",
       "        text-align: right;\n",
       "    }\n",
       "</style>\n",
       "<table border=\"1\" class=\"dataframe\">\n",
       "  <thead>\n",
       "    <tr style=\"text-align: right;\">\n",
       "      <th></th>\n",
       "      <th>A</th>\n",
       "    </tr>\n",
       "  </thead>\n",
       "  <tbody>\n",
       "    <tr>\n",
       "      <th>2014-05-01 18:50:05</th>\n",
       "      <td>24</td>\n",
       "    </tr>\n",
       "    <tr>\n",
       "      <th>2019-10-26 00:00:00</th>\n",
       "      <td>0</td>\n",
       "    </tr>\n",
       "  </tbody>\n",
       "</table>\n",
       "</div>"
      ],
      "text/plain": [
       "                      A\n",
       "2014-05-01 18:50:05  24\n",
       "2019-10-26 00:00:00   0"
      ]
     },
     "execution_count": 29,
     "metadata": {},
     "output_type": "execute_result"
    }
   ],
   "source": [
    "df.sort_index()"
   ]
  },
  {
   "cell_type": "code",
   "execution_count": 4,
   "metadata": {},
   "outputs": [
    {
     "data": {
      "text/html": [
       "<div>\n",
       "<style scoped>\n",
       "    .dataframe tbody tr th:only-of-type {\n",
       "        vertical-align: middle;\n",
       "    }\n",
       "\n",
       "    .dataframe tbody tr th {\n",
       "        vertical-align: top;\n",
       "    }\n",
       "\n",
       "    .dataframe thead th {\n",
       "        text-align: right;\n",
       "    }\n",
       "</style>\n",
       "<table border=\"1\" class=\"dataframe\">\n",
       "  <thead>\n",
       "    <tr style=\"text-align: right;\">\n",
       "      <th></th>\n",
       "      <th>Name</th>\n",
       "      <th>Age</th>\n",
       "    </tr>\n",
       "  </thead>\n",
       "  <tbody>\n",
       "    <tr>\n",
       "      <th>2014-05-01 18:47:05</th>\n",
       "      <td>Rocky</td>\n",
       "      <td>21</td>\n",
       "    </tr>\n",
       "    <tr>\n",
       "      <th>2014-05-02 18:47:05</th>\n",
       "      <td>Sunny</td>\n",
       "      <td>22</td>\n",
       "    </tr>\n",
       "    <tr>\n",
       "      <th>2014-05-03 18:47:05</th>\n",
       "      <td>Mark</td>\n",
       "      <td>25</td>\n",
       "    </tr>\n",
       "    <tr>\n",
       "      <th>2014-05-01 18:50:05</th>\n",
       "      <td>Bunny</td>\n",
       "      <td>26</td>\n",
       "    </tr>\n",
       "  </tbody>\n",
       "</table>\n",
       "</div>"
      ],
      "text/plain": [
       "                      Name Age\n",
       "2014-05-01 18:47:05  Rocky  21\n",
       "2014-05-02 18:47:05  Sunny  22\n",
       "2014-05-03 18:47:05   Mark  25\n",
       "2014-05-01 18:50:05  Bunny  26"
      ]
     },
     "execution_count": 4,
     "metadata": {},
     "output_type": "execute_result"
    }
   ],
   "source": [
    "import pandas as pd\n",
    " \n",
    "df = pd.DataFrame(columns=['Name', 'Age'])\n",
    " \n",
    "df.loc['2014-05-01 18:47:05', 'Name'] = 'Rocky'\n",
    "df.loc['2014-05-01 18:47:05', 'Age'] = 21\n",
    " \n",
    "df.loc['2014-05-02 18:47:05', 'Name'] = 'Sunny'\n",
    "df.loc['2014-05-02 18:47:05', 'Age'] = 22\n",
    " \n",
    "df.loc['2014-05-03 18:47:05', 'Name'] = 'Mark'\n",
    "df.loc['2014-05-03 18:47:05', 'Age'] = 25\n",
    " \n",
    "# add row \n",
    "line = pd.to_datetime(\"2014-05-01 18:50:05\", format=\"%Y-%m-%d %H:%M:%S\")\n",
    "new_row = pd.DataFrame([['Bunny', 26]], columns=['Name', 'Age'], index=[line])\n"
   ]
  },
  {
   "cell_type": "code",
   "execution_count": 2,
   "metadata": {},
   "outputs": [
    {
     "data": {
      "text/plain": [
       "{'__name__': '__main__',\n",
       " '__doc__': 'Automatically created module for IPython interactive environment',\n",
       " '__package__': None,\n",
       " '__loader__': None,\n",
       " '__spec__': None,\n",
       " '__builtin__': <module 'builtins' (built-in)>,\n",
       " '__builtins__': <module 'builtins' (built-in)>,\n",
       " '_ih': ['',\n",
       "  \"import datetime\\nimport pandas as pd\\n \\ntodays_date = datetime.datetime.now().date()\\nindex = pd.date_range(todays_date, periods=1, freq='D')\\n \\n#columns = ['A', 'B', 'C']\\n \\ndf = pd.DataFrame(index=index)\\n#df = pd.DataFrame(index=index, columns=columns)\\n#df = df.fillna(0)\\ndf\",\n",
       "  'vars()'],\n",
       " '_oh': {1: Empty DataFrame\n",
       "  Columns: []\n",
       "  Index: [2019-10-26 00:00:00]},\n",
       " '_dh': ['/code/jupyter/code/dataframes'],\n",
       " 'In': ['',\n",
       "  \"import datetime\\nimport pandas as pd\\n \\ntodays_date = datetime.datetime.now().date()\\nindex = pd.date_range(todays_date, periods=1, freq='D')\\n \\n#columns = ['A', 'B', 'C']\\n \\ndf = pd.DataFrame(index=index)\\n#df = pd.DataFrame(index=index, columns=columns)\\n#df = df.fillna(0)\\ndf\",\n",
       "  'vars()'],\n",
       " 'Out': {1: Empty DataFrame\n",
       "  Columns: []\n",
       "  Index: [2019-10-26 00:00:00]},\n",
       " 'get_ipython': <bound method InteractiveShell.get_ipython of <ipykernel.zmqshell.ZMQInteractiveShell object at 0x10e99f5f8>>,\n",
       " 'exit': <IPython.core.autocall.ZMQExitAutocall at 0x10ea256d8>,\n",
       " 'quit': <IPython.core.autocall.ZMQExitAutocall at 0x10ea256d8>,\n",
       " '_': Empty DataFrame\n",
       " Columns: []\n",
       " Index: [2019-10-26 00:00:00],\n",
       " '__': '',\n",
       " '___': '',\n",
       " '_i': \"import datetime\\nimport pandas as pd\\n \\ntodays_date = datetime.datetime.now().date()\\nindex = pd.date_range(todays_date, periods=1, freq='D')\\n \\n#columns = ['A', 'B', 'C']\\n \\ndf = pd.DataFrame(index=index)\\n#df = pd.DataFrame(index=index, columns=columns)\\n#df = df.fillna(0)\\ndf\",\n",
       " '_ii': '',\n",
       " '_iii': '',\n",
       " '_i1': \"import datetime\\nimport pandas as pd\\n \\ntodays_date = datetime.datetime.now().date()\\nindex = pd.date_range(todays_date, periods=1, freq='D')\\n \\n#columns = ['A', 'B', 'C']\\n \\ndf = pd.DataFrame(index=index)\\n#df = pd.DataFrame(index=index, columns=columns)\\n#df = df.fillna(0)\\ndf\",\n",
       " 'datetime': <module 'datetime' from '/Library/Frameworks/Python.framework/Versions/3.7/lib/python3.7/datetime.py'>,\n",
       " 'pd': <module 'pandas' from '/Library/Frameworks/Python.framework/Versions/3.7/lib/python3.7/site-packages/pandas/__init__.py'>,\n",
       " 'todays_date': datetime.date(2019, 10, 26),\n",
       " 'index': DatetimeIndex(['2019-10-26'], dtype='datetime64[ns]', freq='D'),\n",
       " 'df': Empty DataFrame\n",
       " Columns: []\n",
       " Index: [2019-10-26 00:00:00],\n",
       " '_1': Empty DataFrame\n",
       " Columns: []\n",
       " Index: [2019-10-26 00:00:00],\n",
       " '_i2': 'vars()'}"
      ]
     },
     "execution_count": 2,
     "metadata": {},
     "output_type": "execute_result"
    }
   ],
   "source": [
    "vars()"
   ]
  }
 ],
 "metadata": {
  "kernelspec": {
   "display_name": "Python 3",
   "language": "python",
   "name": "python3"
  },
  "language_info": {
   "codemirror_mode": {
    "name": "ipython",
    "version": 3
   },
   "file_extension": ".py",
   "mimetype": "text/x-python",
   "name": "python",
   "nbconvert_exporter": "python",
   "pygments_lexer": "ipython3",
   "version": "3.7.3"
  }
 },
 "nbformat": 4,
 "nbformat_minor": 2
}
