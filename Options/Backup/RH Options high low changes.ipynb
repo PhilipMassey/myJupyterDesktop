{
 "cells": [
  {
   "cell_type": "code",
   "execution_count": 59,
   "metadata": {},
   "outputs": [],
   "source": [
    "import warnings\n",
    "warnings.filterwarnings(\"ignore\")\n",
    "#warnings.catch_warnings()\n",
    "import robin_stocks as r\n",
    "from datetime import datetime\n",
    "from dateutil import tz\n",
    "import pandas as pd\n",
    "from operator import itemgetter, attrgetter, methodcaller\n",
    "\n",
    "from_zone = tz.tzutc()\n",
    "to_zone = tz.tzlocal()\n",
    "def utcToLocal(strDate):\n",
    "    utc = datetime.strptime(strDate, '%Y-%m-%dT%H:%M:%SZ')\n",
    "    utc = utc.replace(tzinfo=from_zone)\n",
    "    return utc.astimezone(to_zone)\n",
    "\n",
    "import configparser\n",
    "config = configparser.RawConfigParser()\n",
    "configFilePath = '/Users/philipmassey/.tokens/robinhood.cfg'\n",
    "config.read(configFilePath)\n",
    "rhuser = config.get('login', 'user')\n",
    "rhpwd = config.get('login', 'pwd')\n",
    "login = r.login(rhuser,rhpwd)\n",
    "\n",
    "def diffMaxHighLow(df, dfstrike_prices):\n",
    "    print('Strike\\tVolume\\tHigh\\tLow\\tChange\\tPercent')\n",
    "    for idx,row in  dfstrike_prices.iterrows():\n",
    "        strike_price = row.strike_price\n",
    "        volume = row.volume\n",
    "        df_stpr = df[(df.strike_price == strike_price)]\n",
    "        high_price = max(df_stpr.high_price,default=0)\n",
    "        low_price = min(df_stpr.high_price, default=0)\n",
    "        diff = round((high_price - low_price),2)\n",
    "        percent = 0 if low_price==0 else round(diff/low_price,2)\n",
    "        print('${:.2f}\\t{:,.0f}\\t{}\\t{}\\t{}\\t{:,.0%}'.format(strike_price,volume,high_price,low_price,diff,percent))\n",
    "  \n",
    "def changesForExpirations(symbol,expiration_dates,optionType,span,volume_limit = 0):\n",
    "    df_expirationDates = pd.DataFrame()\n",
    "    for expirationDate in expiration_dates[0:5] :\n",
    "        print('{}\\t'.format(expirationDate),end='')\n",
    "        options = r.find_options_for_list_of_stocks_by_expiration_date([symbol], expirationDate,optionType) \n",
    "        dfoptions = pd.DataFrame((filter(lambda x:x['volume']>volume_limit,options)))\n",
    "        if dfoptions.empty:  \n",
    "            print('Volume is 0 for options')\n",
    "        else:\n",
    "            dfoptions[['strike_price','high_price','low_price']] = dfoptions[['strike_price','high_price','low_price']].apply(pd.to_numeric)\n",
    "            dfstrike_prices = dfoptions.sort_values(by='volume',ascending=False)[0:5][['strike_price','volume']]\n",
    "            dfstrike_prices.sort_values(by='strike_price',inplace=True)\n",
    "            #dfstrike_prices\n",
    "            df_all = pd.DataFrame()\n",
    "            for idx,row in dfstrike_prices.iterrows():\n",
    "                strike_price = row.strike_price\n",
    "                #print('Strike price: {}'.format(strike_price))\n",
    "                df = pd.DataFrame(r.get_option_historicals(symbol,expirationDate,strike_price,optionType,span)['data_points'])\n",
    "                df['strike_price'] = strike_price\n",
    "                df_all = pd.concat([df_all,df[['begins_at','strike_price','close_price','high_price','low_price','open_price','volume']]])\n",
    "            \n",
    "            df_all[['strike_price','high_price','low_price']] = df_all[['strike_price','high_price','low_price']].apply(pd.to_numeric)\n",
    "            df_all = df_all[df_all.high_price != 0.01]\n",
    "            df_all['expiration_date'] = expirationDate\n",
    "            print()\n",
    "            diffMaxHighLow(df_all,dfstrike_prices)\n",
    "            df_expirationDates = pd.concat([df_expirationDates,df_all])\n",
    "    return df_expirationDates\n"
   ]
  },
  {
   "cell_type": "code",
   "execution_count": 54,
   "metadata": {},
   "outputs": [
    {
     "name": "stdout",
     "output_type": "stream",
     "text": [
      "['2020-06-19', '2020-07-17', '2020-09-18', '2020-11-20', '2020-12-18', '2021-01-15', '2022-01-21']\n"
     ]
    }
   ],
   "source": [
    "symbol = 'CXW'\n",
    "expiration_dates = r.get_chains(symbol)['expiration_dates']\n",
    "print(expiration_dates)"
   ]
  },
  {
   "cell_type": "code",
   "execution_count": 55,
   "metadata": {},
   "outputs": [
    {
     "name": "stdout",
     "output_type": "stream",
     "text": [
      "2020-06-19\t*.*.*.*.*.\n",
      "Strike\tVolume\tHigh\tLow\tChange\tPercent\n",
      "$11.00\t4\t1.9\t1.23\t0.67\t54%\n",
      "$12.00\t93\t1.25\t0.53\t0.72\t136%\n",
      "$13.00\t68\t0.4\t0.18\t0.22\t122%\n",
      "$14.00\t26\t0.2\t0.08\t0.12\t150%\n",
      "2020-07-17\t*.*.*.*.\n",
      "Strike\tVolume\tHigh\tLow\tChange\tPercent\n",
      "$12.00\t3\t1.28\t0.88\t0.4\t45%\n",
      "$13.00\t2\t0.78\t0.45\t0.33\t73%\n",
      "$14.00\t10\t0.5\t0.23\t0.27\t117%\n",
      "2020-09-18\t*.*.*.*.\n",
      "Strike\tVolume\tHigh\tLow\tChange\tPercent\n",
      "$13.00\t2\t1.43\t0.9\t0.53\t59%\n",
      "$14.00\t7\t0.9\t0.65\t0.25\t38%\n",
      "$16.00\t2\t0.48\t0.28\t0.2\t71%\n",
      "2020-11-20\t*.*.*.\n",
      "Strike\tVolume\tHigh\tLow\tChange\tPercent\n",
      "$14.00\t7\t1.18\t0.93\t0.25\t27%\n",
      "$15.00\t9\t1.0\t0.58\t0.42\t72%\n",
      "2020-12-18\t*.Volume is 0 for options\n"
     ]
    }
   ],
   "source": [
    "span = 'day'       \n",
    "df_expirationDates = changesForExpirations(symbol,expiration_dates,'call',span) "
   ]
  },
  {
   "cell_type": "code",
   "execution_count": 47,
   "metadata": {},
   "outputs": [
    {
     "name": "stdout",
     "output_type": "stream",
     "text": [
      "2020-06-19\t\n",
      "Strike\tVolume\tHigh\tLow\tChange\tPercent\n",
      "$15.00\t20\t4.0\t2.03\t1.97\t97%\n",
      "$17.50\t512\t1.55\t0.33\t1.22\t370%\n",
      "$20.00\t106\t0.15\t0.08\t0.07\t88%\n",
      "$22.50\t2\t0.1\t0.1\t0.0\t0%\n",
      "2020-07-17\t\n",
      "Strike\tVolume\tHigh\tLow\tChange\tPercent\n",
      "$17.50\t15\t1.98\t0.7\t1.28\t183%\n",
      "$20.00\t47\t0.5\t0.1\t0.4\t400%\n",
      "$22.50\t45\t0.1\t0.08\t0.02\t25%\n",
      "2020-08-21\t\n",
      "Strike\tVolume\tHigh\tLow\tChange\tPercent\n",
      "$17.50\t2\t2.18\t0.98\t1.2\t122%\n",
      "$20.00\t3\t0.83\t0.3\t0.53\t177%\n",
      "2020-11-20\t\n",
      "Strike\tVolume\tHigh\tLow\tChange\tPercent\n",
      "$17.50\t1\t2.78\t1.5\t1.28\t85%\n",
      "$20.00\t11\t1.58\t0.7\t0.88\t126%\n",
      "$22.50\t2\t0.75\t0.3\t0.45\t150%\n",
      "2020-12-18\t\n",
      "Strike\tVolume\tHigh\tLow\tChange\tPercent\n",
      "$15.00\t1\t4.65\t2.98\t1.67\t56%\n",
      "$17.50\t10\t2.85\t1.7\t1.15\t68%\n",
      "$20.00\t32\t1.65\t0.83\t0.82\t99%\n",
      "$25.00\t5\t0.5\t0.23\t0.27\t117%\n",
      "$30.00\t202\t0.2\t0.08\t0.12\t150%\n"
     ]
    }
   ],
   "source": [
    "span = 'week'       \n",
    "df_expirationDates = changesForExpirations(symbol,expiration_dates,'call',span) "
   ]
  },
  {
   "cell_type": "code",
   "execution_count": 48,
   "metadata": {},
   "outputs": [
    {
     "name": "stdout",
     "output_type": "stream",
     "text": [
      "2020-06-19\t\n",
      "Strike\tVolume\tHigh\tLow\tChange\tPercent\n",
      "$15.00\t20\t6.65\t1.33\t5.32\t400%\n",
      "$17.50\t512\t4.05\t0.33\t3.72\t1,127%\n",
      "$20.00\t106\t2.55\t0.08\t2.47\t3,088%\n",
      "$22.50\t2\t2.55\t0.1\t2.45\t2,450%\n",
      "2020-07-17\t\n",
      "Strike\tVolume\tHigh\tLow\tChange\tPercent\n",
      "$17.50\t15\t2.83\t0.7\t2.13\t304%\n",
      "$20.00\t47\t2.53\t0.1\t2.43\t2,430%\n",
      "$22.50\t45\t0\t0\t0\t0%\n",
      "2020-08-21\t\n",
      "Strike\tVolume\tHigh\tLow\tChange\tPercent\n",
      "$17.50\t2\t9.6\t0.5\t9.1\t1,820%\n",
      "$20.00\t3\t7.05\t0.3\t6.75\t2,250%\n",
      "2020-11-20\t\n",
      "Strike\tVolume\tHigh\tLow\tChange\tPercent\n",
      "$17.50\t1\t5.6\t0.68\t4.92\t724%\n",
      "$20.00\t11\t3.53\t0.55\t2.98\t542%\n",
      "$22.50\t2\t2.85\t0.3\t2.55\t850%\n",
      "2020-12-18\t\n",
      "Strike\tVolume\tHigh\tLow\tChange\tPercent\n",
      "$15.00\t1\t9.0\t1.33\t7.67\t577%\n",
      "$17.50\t10\t7.0\t0.78\t6.22\t797%\n",
      "$20.00\t32\t5.4\t0.3\t5.1\t1,700%\n",
      "$25.00\t5\t3.1\t0.13\t2.97\t2,285%\n",
      "$30.00\t202\t2.68\t0.08\t2.6\t3,250%\n"
     ]
    }
   ],
   "source": [
    "span = 'year'       \n",
    "df_expirationDates = changesForExpirations(symbol,expiration_dates,'call',span) "
   ]
  },
  {
   "cell_type": "code",
   "execution_count": null,
   "metadata": {},
   "outputs": [],
   "source": []
  },
  {
   "cell_type": "code",
   "execution_count": null,
   "metadata": {},
   "outputs": [],
   "source": []
  }
 ],
 "metadata": {
  "kernelspec": {
   "display_name": "Python 3",
   "language": "python",
   "name": "python3"
  },
  "language_info": {
   "codemirror_mode": {
    "name": "ipython",
    "version": 3
   },
   "file_extension": ".py",
   "mimetype": "text/x-python",
   "name": "python",
   "nbconvert_exporter": "python",
   "pygments_lexer": "ipython3",
   "version": "3.7.3"
  }
 },
 "nbformat": 4,
 "nbformat_minor": 4
}
