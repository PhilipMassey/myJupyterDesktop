{
 "cells": [
  {
   "cell_type": "code",
   "execution_count": 35,
   "metadata": {},
   "outputs": [],
   "source": [
    "import robin_stocks as r\n",
    "from datetime import datetime\n",
    "from dateutil import tz\n",
    "import pandas as pd\n",
    "import plotly.express as px\n",
    "import plotly.graph_objects as go\n",
    "import plotly.io as pio\n",
    "pio.renderers.default='notebook'\n",
    "\n",
    "from_zone = tz.tzutc()\n",
    "to_zone = tz.tzlocal()\n",
    "def utcToLocal(strDate):\n",
    "    utc = datetime.strptime(strDate, '%Y-%m-%dT%H:%M:%SZ')\n",
    "    utc = utc.replace(tzinfo=from_zone)\n",
    "    return utc.astimezone(to_zone)\n",
    "\n",
    "import configparser\n",
    "config = configparser.RawConfigParser()\n",
    "configFilePath = '/Users/philipmassey/.tokens/robinhood.cfg'\n",
    "config.read(configFilePath)\n",
    "rhuser = config.get('login', 'user')\n",
    "rhpwd = config.get('login', 'pwd')\n",
    "login = r.login(rhuser,rhpwd)\n",
    "\n",
    "def diffMaxHighLow(df):\n",
    "    df[['high_price','low_price']] = df[['high_price','low_price']].apply(pd.to_numeric)\n",
    "    high_price = max(df.high_price)\n",
    "    low_price = min(df.low_price)\n",
    "    diff = round((high_price - low_price),2)\n",
    "    percent = round(diff/low_price,2)\n",
    "    print('Max-Min:{}, Percent:{:.0%}'.format(diff,percent))\n",
    "\n",
    "def plotStrikePriceforExpiration(strike_price,optionType,span):\n",
    "    df = pd.DataFrame(r.get_option_historicals(symbol,expirationDate,strike_price,optionType,span)['data_points'])\n",
    "    local = utcToLocal(df.iloc[-1:].begins_at.values[-1])\n",
    "    title = '{} Expiration:{}, Strike: {}, Time:{:%Y-%m-%d %H:%M}'.format(symbol,expirationDate,strike_price,local)\n",
    "    #df[['close_price', 'high_price','low_price', 'open_price','volume']] = df[['close_price', 'high_price','low_price', 'open_price','volume']].apply(pd.to_numeric)\n",
    "    #df[['begins_at']] = df[['begins_at']].apply(pd.to_datetime)\n",
    "    print()\n",
    "    diffMaxHighLow(df)\n",
    "    fig = px.line(x=df.begins_at, y=df.high_price)\n",
    "    fig.update_layout(\n",
    "        title=title,\n",
    "        xaxis_title=\"Date\",\n",
    "        yaxis_title=\"Option price\",\n",
    "        font=dict(\n",
    "            family=\"Courier New, monospace\",\n",
    "            size=18,\n",
    "            color=\"#7f7f7f\"\n",
    "        ))\n",
    "    fig.show()\n",
    "    \n",
    "def plotStockPriceforExpiration(strike_price,optionType,span):\n",
    "    df = pd.DataFrame(r.get_option_historicals(symbol,expirationDate,strike_price,optionType,span)['data_points'])\n",
    "    dfstock = pd.DataFrame(r.get_historicals(symbol,span=span,bounds='regular'))     \n",
    "    df['stock_price'] = dfstock['close_price']\n",
    "    df[['close_price','stock_price']] = df[['close_price','stock_price']].apply(pd.to_numeric)\n",
    "    df['change_price'] = df['close_price'] - df['close_price'][0:1].values[0]\n",
    "    local = utcToLocal(df.iloc[-1:].begins_at.values[-1])\n",
    "    title = '{} Expiration:{}, Strike: {}, Time:{:%Y-%m-%d %H:%M}'.format(symbol,expirationDate,strike_price,local)\n",
    "    print()\n",
    "    diffMaxHighLow(df)\n",
    "    fig = go.Figure()\n",
    "    fig.add_trace(go.Scatter(x=df.begins_at, y=df.change_price,\n",
    "                    mode='lines',\n",
    "                    name='stock_price'))\n",
    "    # Edit the layout\n",
    "    fig.update_layout(title=title,\n",
    "                   xaxis_title='Date',\n",
    "                   yaxis_title='Stock Price')\n",
    "\n",
    "\n",
    "    fig.show()"
   ]
  },
  {
   "cell_type": "code",
   "execution_count": 20,
   "metadata": {},
   "outputs": [
    {
     "name": "stdout",
     "output_type": "stream",
     "text": [
      "*............................................."
     ]
    }
   ],
   "source": [
    "df = pd.DataFrame(r.get_option_historicals(symbol,expirationDate,strike_price,optionType,span)['data_points']) \n",
    "dfstock = pd.DataFrame(r.get_historicals(symbol,span=span,bounds='regular'))     \n",
    "  "
   ]
  },
  {
   "cell_type": "code",
   "execution_count": 34,
   "metadata": {},
   "outputs": [
    {
     "data": {
      "text/html": [
       "<div>\n",
       "<style scoped>\n",
       "    .dataframe tbody tr th:only-of-type {\n",
       "        vertical-align: middle;\n",
       "    }\n",
       "\n",
       "    .dataframe tbody tr th {\n",
       "        vertical-align: top;\n",
       "    }\n",
       "\n",
       "    .dataframe thead th {\n",
       "        text-align: right;\n",
       "    }\n",
       "</style>\n",
       "<table border=\"1\" class=\"dataframe\">\n",
       "  <thead>\n",
       "    <tr style=\"text-align: right;\">\n",
       "      <th></th>\n",
       "      <th>begins_at</th>\n",
       "      <th>close_price</th>\n",
       "      <th>high_price</th>\n",
       "      <th>interpolated</th>\n",
       "      <th>low_price</th>\n",
       "      <th>open_price</th>\n",
       "      <th>session</th>\n",
       "      <th>volume</th>\n",
       "      <th>change_price</th>\n",
       "    </tr>\n",
       "  </thead>\n",
       "  <tbody>\n",
       "    <tr>\n",
       "      <th>0</th>\n",
       "      <td>2020-05-22T13:30:00Z</td>\n",
       "      <td>294.1650</td>\n",
       "      <td>294.850000</td>\n",
       "      <td>False</td>\n",
       "      <td>293.910000</td>\n",
       "      <td>294.570000</td>\n",
       "      <td>reg</td>\n",
       "      <td>504880</td>\n",
       "      <td>0.0000</td>\n",
       "    </tr>\n",
       "    <tr>\n",
       "      <th>1</th>\n",
       "      <td>2020-05-22T13:35:00Z</td>\n",
       "      <td>293.4600</td>\n",
       "      <td>294.150000</td>\n",
       "      <td>False</td>\n",
       "      <td>293.400000</td>\n",
       "      <td>294.150000</td>\n",
       "      <td>reg</td>\n",
       "      <td>444278</td>\n",
       "      <td>-0.7050</td>\n",
       "    </tr>\n",
       "    <tr>\n",
       "      <th>2</th>\n",
       "      <td>2020-05-22T13:40:00Z</td>\n",
       "      <td>293.6100</td>\n",
       "      <td>293.840000</td>\n",
       "      <td>False</td>\n",
       "      <td>293.420000</td>\n",
       "      <td>293.460000</td>\n",
       "      <td>reg</td>\n",
       "      <td>413372</td>\n",
       "      <td>-0.5550</td>\n",
       "    </tr>\n",
       "    <tr>\n",
       "      <th>3</th>\n",
       "      <td>2020-05-22T13:45:00Z</td>\n",
       "      <td>294.1000</td>\n",
       "      <td>294.170000</td>\n",
       "      <td>False</td>\n",
       "      <td>293.460000</td>\n",
       "      <td>293.590000</td>\n",
       "      <td>reg</td>\n",
       "      <td>365673</td>\n",
       "      <td>-0.0650</td>\n",
       "    </tr>\n",
       "    <tr>\n",
       "      <th>4</th>\n",
       "      <td>2020-05-22T13:50:00Z</td>\n",
       "      <td>294.2150</td>\n",
       "      <td>294.249400</td>\n",
       "      <td>False</td>\n",
       "      <td>293.780000</td>\n",
       "      <td>294.110000</td>\n",
       "      <td>reg</td>\n",
       "      <td>309813</td>\n",
       "      <td>0.0500</td>\n",
       "    </tr>\n",
       "    <tr>\n",
       "      <th>5</th>\n",
       "      <td>2020-05-22T13:55:00Z</td>\n",
       "      <td>294.2800</td>\n",
       "      <td>294.410000</td>\n",
       "      <td>False</td>\n",
       "      <td>294.100000</td>\n",
       "      <td>294.230000</td>\n",
       "      <td>reg</td>\n",
       "      <td>285199</td>\n",
       "      <td>0.1150</td>\n",
       "    </tr>\n",
       "    <tr>\n",
       "      <th>6</th>\n",
       "      <td>2020-05-22T14:00:00Z</td>\n",
       "      <td>294.0800</td>\n",
       "      <td>294.370000</td>\n",
       "      <td>False</td>\n",
       "      <td>293.830000</td>\n",
       "      <td>294.290000</td>\n",
       "      <td>reg</td>\n",
       "      <td>283284</td>\n",
       "      <td>-0.0850</td>\n",
       "    </tr>\n",
       "    <tr>\n",
       "      <th>7</th>\n",
       "      <td>2020-05-22T14:05:00Z</td>\n",
       "      <td>293.7100</td>\n",
       "      <td>294.170000</td>\n",
       "      <td>False</td>\n",
       "      <td>293.560000</td>\n",
       "      <td>294.100000</td>\n",
       "      <td>reg</td>\n",
       "      <td>345458</td>\n",
       "      <td>-0.4550</td>\n",
       "    </tr>\n",
       "    <tr>\n",
       "      <th>8</th>\n",
       "      <td>2020-05-22T14:10:00Z</td>\n",
       "      <td>293.3550</td>\n",
       "      <td>293.910000</td>\n",
       "      <td>False</td>\n",
       "      <td>293.320000</td>\n",
       "      <td>293.703000</td>\n",
       "      <td>reg</td>\n",
       "      <td>330149</td>\n",
       "      <td>-0.8100</td>\n",
       "    </tr>\n",
       "    <tr>\n",
       "      <th>9</th>\n",
       "      <td>2020-05-22T14:15:00Z</td>\n",
       "      <td>293.6996</td>\n",
       "      <td>293.820000</td>\n",
       "      <td>False</td>\n",
       "      <td>293.220000</td>\n",
       "      <td>293.350000</td>\n",
       "      <td>reg</td>\n",
       "      <td>253656</td>\n",
       "      <td>-0.4654</td>\n",
       "    </tr>\n",
       "    <tr>\n",
       "      <th>10</th>\n",
       "      <td>2020-05-22T14:20:00Z</td>\n",
       "      <td>293.9300</td>\n",
       "      <td>294.230000</td>\n",
       "      <td>False</td>\n",
       "      <td>293.660000</td>\n",
       "      <td>293.697700</td>\n",
       "      <td>reg</td>\n",
       "      <td>333470</td>\n",
       "      <td>-0.2350</td>\n",
       "    </tr>\n",
       "    <tr>\n",
       "      <th>11</th>\n",
       "      <td>2020-05-22T14:25:00Z</td>\n",
       "      <td>294.3600</td>\n",
       "      <td>294.360000</td>\n",
       "      <td>False</td>\n",
       "      <td>293.810000</td>\n",
       "      <td>293.940000</td>\n",
       "      <td>reg</td>\n",
       "      <td>318708</td>\n",
       "      <td>0.1950</td>\n",
       "    </tr>\n",
       "    <tr>\n",
       "      <th>12</th>\n",
       "      <td>2020-05-22T14:30:00Z</td>\n",
       "      <td>294.3050</td>\n",
       "      <td>294.530000</td>\n",
       "      <td>False</td>\n",
       "      <td>294.120000</td>\n",
       "      <td>294.366200</td>\n",
       "      <td>reg</td>\n",
       "      <td>268104</td>\n",
       "      <td>0.1400</td>\n",
       "    </tr>\n",
       "    <tr>\n",
       "      <th>13</th>\n",
       "      <td>2020-05-22T14:35:00Z</td>\n",
       "      <td>294.3400</td>\n",
       "      <td>294.340000</td>\n",
       "      <td>False</td>\n",
       "      <td>293.980000</td>\n",
       "      <td>294.300000</td>\n",
       "      <td>reg</td>\n",
       "      <td>166549</td>\n",
       "      <td>0.1750</td>\n",
       "    </tr>\n",
       "    <tr>\n",
       "      <th>14</th>\n",
       "      <td>2020-05-22T14:40:00Z</td>\n",
       "      <td>294.1450</td>\n",
       "      <td>294.530000</td>\n",
       "      <td>False</td>\n",
       "      <td>294.040000</td>\n",
       "      <td>294.350000</td>\n",
       "      <td>reg</td>\n",
       "      <td>163444</td>\n",
       "      <td>-0.0200</td>\n",
       "    </tr>\n",
       "    <tr>\n",
       "      <th>15</th>\n",
       "      <td>2020-05-22T14:45:00Z</td>\n",
       "      <td>293.7700</td>\n",
       "      <td>294.360000</td>\n",
       "      <td>False</td>\n",
       "      <td>293.770000</td>\n",
       "      <td>294.110000</td>\n",
       "      <td>reg</td>\n",
       "      <td>216978</td>\n",
       "      <td>-0.3950</td>\n",
       "    </tr>\n",
       "    <tr>\n",
       "      <th>16</th>\n",
       "      <td>2020-05-22T14:50:00Z</td>\n",
       "      <td>293.8050</td>\n",
       "      <td>294.100000</td>\n",
       "      <td>False</td>\n",
       "      <td>293.630000</td>\n",
       "      <td>293.797800</td>\n",
       "      <td>reg</td>\n",
       "      <td>252571</td>\n",
       "      <td>-0.3600</td>\n",
       "    </tr>\n",
       "    <tr>\n",
       "      <th>17</th>\n",
       "      <td>2020-05-22T14:55:00Z</td>\n",
       "      <td>293.4600</td>\n",
       "      <td>293.820000</td>\n",
       "      <td>False</td>\n",
       "      <td>293.350000</td>\n",
       "      <td>293.800000</td>\n",
       "      <td>reg</td>\n",
       "      <td>313339</td>\n",
       "      <td>-0.7050</td>\n",
       "    </tr>\n",
       "    <tr>\n",
       "      <th>18</th>\n",
       "      <td>2020-05-22T15:00:00Z</td>\n",
       "      <td>293.5600</td>\n",
       "      <td>293.730000</td>\n",
       "      <td>False</td>\n",
       "      <td>293.340000</td>\n",
       "      <td>293.430000</td>\n",
       "      <td>reg</td>\n",
       "      <td>223404</td>\n",
       "      <td>-0.6050</td>\n",
       "    </tr>\n",
       "    <tr>\n",
       "      <th>19</th>\n",
       "      <td>2020-05-22T15:05:00Z</td>\n",
       "      <td>293.7200</td>\n",
       "      <td>294.650000</td>\n",
       "      <td>False</td>\n",
       "      <td>293.460000</td>\n",
       "      <td>293.560000</td>\n",
       "      <td>reg</td>\n",
       "      <td>181537</td>\n",
       "      <td>-0.4450</td>\n",
       "    </tr>\n",
       "    <tr>\n",
       "      <th>20</th>\n",
       "      <td>2020-05-22T15:10:00Z</td>\n",
       "      <td>293.7500</td>\n",
       "      <td>294.505000</td>\n",
       "      <td>False</td>\n",
       "      <td>293.500000</td>\n",
       "      <td>293.725000</td>\n",
       "      <td>reg</td>\n",
       "      <td>156634</td>\n",
       "      <td>-0.4150</td>\n",
       "    </tr>\n",
       "    <tr>\n",
       "      <th>21</th>\n",
       "      <td>2020-05-22T15:15:00Z</td>\n",
       "      <td>293.9900</td>\n",
       "      <td>293.990000</td>\n",
       "      <td>False</td>\n",
       "      <td>293.590000</td>\n",
       "      <td>293.740000</td>\n",
       "      <td>reg</td>\n",
       "      <td>188123</td>\n",
       "      <td>-0.1750</td>\n",
       "    </tr>\n",
       "    <tr>\n",
       "      <th>22</th>\n",
       "      <td>2020-05-22T15:20:00Z</td>\n",
       "      <td>293.5200</td>\n",
       "      <td>293.990000</td>\n",
       "      <td>False</td>\n",
       "      <td>293.510000</td>\n",
       "      <td>293.970000</td>\n",
       "      <td>reg</td>\n",
       "      <td>167176</td>\n",
       "      <td>-0.6450</td>\n",
       "    </tr>\n",
       "    <tr>\n",
       "      <th>23</th>\n",
       "      <td>2020-05-22T15:25:00Z</td>\n",
       "      <td>293.6919</td>\n",
       "      <td>293.820000</td>\n",
       "      <td>False</td>\n",
       "      <td>293.280000</td>\n",
       "      <td>293.517300</td>\n",
       "      <td>reg</td>\n",
       "      <td>191296</td>\n",
       "      <td>-0.4731</td>\n",
       "    </tr>\n",
       "    <tr>\n",
       "      <th>24</th>\n",
       "      <td>2020-05-22T15:30:00Z</td>\n",
       "      <td>293.8453</td>\n",
       "      <td>293.920000</td>\n",
       "      <td>False</td>\n",
       "      <td>293.520000</td>\n",
       "      <td>293.720000</td>\n",
       "      <td>reg</td>\n",
       "      <td>195198</td>\n",
       "      <td>-0.3197</td>\n",
       "    </tr>\n",
       "    <tr>\n",
       "      <th>25</th>\n",
       "      <td>2020-05-22T15:35:00Z</td>\n",
       "      <td>294.0000</td>\n",
       "      <td>294.120000</td>\n",
       "      <td>False</td>\n",
       "      <td>293.760000</td>\n",
       "      <td>293.840000</td>\n",
       "      <td>reg</td>\n",
       "      <td>155852</td>\n",
       "      <td>-0.1650</td>\n",
       "    </tr>\n",
       "    <tr>\n",
       "      <th>26</th>\n",
       "      <td>2020-05-22T15:40:00Z</td>\n",
       "      <td>293.9700</td>\n",
       "      <td>294.090000</td>\n",
       "      <td>False</td>\n",
       "      <td>293.865000</td>\n",
       "      <td>293.990000</td>\n",
       "      <td>reg</td>\n",
       "      <td>94784</td>\n",
       "      <td>-0.1950</td>\n",
       "    </tr>\n",
       "    <tr>\n",
       "      <th>27</th>\n",
       "      <td>2020-05-22T15:45:00Z</td>\n",
       "      <td>294.0200</td>\n",
       "      <td>294.090000</td>\n",
       "      <td>False</td>\n",
       "      <td>293.860000</td>\n",
       "      <td>293.950000</td>\n",
       "      <td>reg</td>\n",
       "      <td>114509</td>\n",
       "      <td>-0.1450</td>\n",
       "    </tr>\n",
       "    <tr>\n",
       "      <th>28</th>\n",
       "      <td>2020-05-22T15:50:00Z</td>\n",
       "      <td>294.1600</td>\n",
       "      <td>294.190000</td>\n",
       "      <td>False</td>\n",
       "      <td>293.960000</td>\n",
       "      <td>294.010000</td>\n",
       "      <td>reg</td>\n",
       "      <td>141361</td>\n",
       "      <td>-0.0050</td>\n",
       "    </tr>\n",
       "    <tr>\n",
       "      <th>29</th>\n",
       "      <td>2020-05-22T15:55:00Z</td>\n",
       "      <td>293.9600</td>\n",
       "      <td>294.185000</td>\n",
       "      <td>False</td>\n",
       "      <td>293.890000</td>\n",
       "      <td>294.155000</td>\n",
       "      <td>reg</td>\n",
       "      <td>121150</td>\n",
       "      <td>-0.2050</td>\n",
       "    </tr>\n",
       "    <tr>\n",
       "      <th>...</th>\n",
       "      <td>...</td>\n",
       "      <td>...</td>\n",
       "      <td>...</td>\n",
       "      <td>...</td>\n",
       "      <td>...</td>\n",
       "      <td>...</td>\n",
       "      <td>...</td>\n",
       "      <td>...</td>\n",
       "      <td>...</td>\n",
       "    </tr>\n",
       "    <tr>\n",
       "      <th>48</th>\n",
       "      <td>2020-05-22T17:30:00Z</td>\n",
       "      <td>294.6200</td>\n",
       "      <td>294.740000</td>\n",
       "      <td>False</td>\n",
       "      <td>294.580000</td>\n",
       "      <td>294.645000</td>\n",
       "      <td>reg</td>\n",
       "      <td>121011</td>\n",
       "      <td>0.4550</td>\n",
       "    </tr>\n",
       "    <tr>\n",
       "      <th>49</th>\n",
       "      <td>2020-05-22T17:35:00Z</td>\n",
       "      <td>294.5716</td>\n",
       "      <td>294.690000</td>\n",
       "      <td>False</td>\n",
       "      <td>294.470000</td>\n",
       "      <td>294.615000</td>\n",
       "      <td>reg</td>\n",
       "      <td>165809</td>\n",
       "      <td>0.4066</td>\n",
       "    </tr>\n",
       "    <tr>\n",
       "      <th>50</th>\n",
       "      <td>2020-05-22T17:40:00Z</td>\n",
       "      <td>294.6131</td>\n",
       "      <td>294.650000</td>\n",
       "      <td>False</td>\n",
       "      <td>294.495000</td>\n",
       "      <td>294.560000</td>\n",
       "      <td>reg</td>\n",
       "      <td>127051</td>\n",
       "      <td>0.4481</td>\n",
       "    </tr>\n",
       "    <tr>\n",
       "      <th>51</th>\n",
       "      <td>2020-05-22T17:45:00Z</td>\n",
       "      <td>294.5200</td>\n",
       "      <td>294.740000</td>\n",
       "      <td>False</td>\n",
       "      <td>294.520000</td>\n",
       "      <td>294.610000</td>\n",
       "      <td>reg</td>\n",
       "      <td>154249</td>\n",
       "      <td>0.3550</td>\n",
       "    </tr>\n",
       "    <tr>\n",
       "      <th>52</th>\n",
       "      <td>2020-05-22T17:50:00Z</td>\n",
       "      <td>294.4050</td>\n",
       "      <td>294.570000</td>\n",
       "      <td>False</td>\n",
       "      <td>294.370000</td>\n",
       "      <td>294.530000</td>\n",
       "      <td>reg</td>\n",
       "      <td>166590</td>\n",
       "      <td>0.2400</td>\n",
       "    </tr>\n",
       "    <tr>\n",
       "      <th>53</th>\n",
       "      <td>2020-05-22T17:55:00Z</td>\n",
       "      <td>294.7400</td>\n",
       "      <td>294.824800</td>\n",
       "      <td>False</td>\n",
       "      <td>294.360000</td>\n",
       "      <td>294.370000</td>\n",
       "      <td>reg</td>\n",
       "      <td>166244</td>\n",
       "      <td>0.5750</td>\n",
       "    </tr>\n",
       "    <tr>\n",
       "      <th>54</th>\n",
       "      <td>2020-05-22T18:00:00Z</td>\n",
       "      <td>295.1828</td>\n",
       "      <td>295.200000</td>\n",
       "      <td>False</td>\n",
       "      <td>294.720000</td>\n",
       "      <td>294.760000</td>\n",
       "      <td>reg</td>\n",
       "      <td>260737</td>\n",
       "      <td>1.0178</td>\n",
       "    </tr>\n",
       "    <tr>\n",
       "      <th>55</th>\n",
       "      <td>2020-05-22T18:05:00Z</td>\n",
       "      <td>295.3200</td>\n",
       "      <td>295.360000</td>\n",
       "      <td>False</td>\n",
       "      <td>295.130000</td>\n",
       "      <td>295.200000</td>\n",
       "      <td>reg</td>\n",
       "      <td>168615</td>\n",
       "      <td>1.1550</td>\n",
       "    </tr>\n",
       "    <tr>\n",
       "      <th>56</th>\n",
       "      <td>2020-05-22T18:10:00Z</td>\n",
       "      <td>295.1847</td>\n",
       "      <td>295.350000</td>\n",
       "      <td>False</td>\n",
       "      <td>295.160000</td>\n",
       "      <td>295.325000</td>\n",
       "      <td>reg</td>\n",
       "      <td>121975</td>\n",
       "      <td>1.0197</td>\n",
       "    </tr>\n",
       "    <tr>\n",
       "      <th>57</th>\n",
       "      <td>2020-05-22T18:15:00Z</td>\n",
       "      <td>295.0800</td>\n",
       "      <td>295.229000</td>\n",
       "      <td>False</td>\n",
       "      <td>295.080000</td>\n",
       "      <td>295.180000</td>\n",
       "      <td>reg</td>\n",
       "      <td>126127</td>\n",
       "      <td>0.9150</td>\n",
       "    </tr>\n",
       "    <tr>\n",
       "      <th>58</th>\n",
       "      <td>2020-05-22T18:20:00Z</td>\n",
       "      <td>295.0643</td>\n",
       "      <td>295.130000</td>\n",
       "      <td>False</td>\n",
       "      <td>294.980000</td>\n",
       "      <td>295.090000</td>\n",
       "      <td>reg</td>\n",
       "      <td>106917</td>\n",
       "      <td>0.8993</td>\n",
       "    </tr>\n",
       "    <tr>\n",
       "      <th>59</th>\n",
       "      <td>2020-05-22T18:25:00Z</td>\n",
       "      <td>295.1400</td>\n",
       "      <td>295.180000</td>\n",
       "      <td>False</td>\n",
       "      <td>295.030000</td>\n",
       "      <td>295.070000</td>\n",
       "      <td>reg</td>\n",
       "      <td>71401</td>\n",
       "      <td>0.9750</td>\n",
       "    </tr>\n",
       "    <tr>\n",
       "      <th>60</th>\n",
       "      <td>2020-05-22T18:30:00Z</td>\n",
       "      <td>295.3000</td>\n",
       "      <td>295.300000</td>\n",
       "      <td>False</td>\n",
       "      <td>295.080000</td>\n",
       "      <td>295.140000</td>\n",
       "      <td>reg</td>\n",
       "      <td>131377</td>\n",
       "      <td>1.1350</td>\n",
       "    </tr>\n",
       "    <tr>\n",
       "      <th>61</th>\n",
       "      <td>2020-05-22T18:35:00Z</td>\n",
       "      <td>295.3950</td>\n",
       "      <td>295.430000</td>\n",
       "      <td>False</td>\n",
       "      <td>295.120000</td>\n",
       "      <td>295.295000</td>\n",
       "      <td>reg</td>\n",
       "      <td>158719</td>\n",
       "      <td>1.2300</td>\n",
       "    </tr>\n",
       "    <tr>\n",
       "      <th>62</th>\n",
       "      <td>2020-05-22T18:40:00Z</td>\n",
       "      <td>294.9600</td>\n",
       "      <td>295.405000</td>\n",
       "      <td>False</td>\n",
       "      <td>294.920000</td>\n",
       "      <td>295.396300</td>\n",
       "      <td>reg</td>\n",
       "      <td>294136</td>\n",
       "      <td>0.7950</td>\n",
       "    </tr>\n",
       "    <tr>\n",
       "      <th>63</th>\n",
       "      <td>2020-05-22T18:45:00Z</td>\n",
       "      <td>294.9650</td>\n",
       "      <td>295.059000</td>\n",
       "      <td>False</td>\n",
       "      <td>294.865000</td>\n",
       "      <td>294.970000</td>\n",
       "      <td>reg</td>\n",
       "      <td>212165</td>\n",
       "      <td>0.8000</td>\n",
       "    </tr>\n",
       "    <tr>\n",
       "      <th>64</th>\n",
       "      <td>2020-05-22T18:50:00Z</td>\n",
       "      <td>294.8300</td>\n",
       "      <td>294.990000</td>\n",
       "      <td>False</td>\n",
       "      <td>294.775000</td>\n",
       "      <td>294.980000</td>\n",
       "      <td>reg</td>\n",
       "      <td>115556</td>\n",
       "      <td>0.6650</td>\n",
       "    </tr>\n",
       "    <tr>\n",
       "      <th>65</th>\n",
       "      <td>2020-05-22T18:55:00Z</td>\n",
       "      <td>295.0400</td>\n",
       "      <td>295.050000</td>\n",
       "      <td>False</td>\n",
       "      <td>294.820000</td>\n",
       "      <td>294.830000</td>\n",
       "      <td>reg</td>\n",
       "      <td>149462</td>\n",
       "      <td>0.8750</td>\n",
       "    </tr>\n",
       "    <tr>\n",
       "      <th>66</th>\n",
       "      <td>2020-05-22T19:00:00Z</td>\n",
       "      <td>295.0300</td>\n",
       "      <td>295.070000</td>\n",
       "      <td>False</td>\n",
       "      <td>294.800000</td>\n",
       "      <td>295.030800</td>\n",
       "      <td>reg</td>\n",
       "      <td>132338</td>\n",
       "      <td>0.8650</td>\n",
       "    </tr>\n",
       "    <tr>\n",
       "      <th>67</th>\n",
       "      <td>2020-05-22T19:05:00Z</td>\n",
       "      <td>295.2600</td>\n",
       "      <td>295.279900</td>\n",
       "      <td>False</td>\n",
       "      <td>294.970000</td>\n",
       "      <td>295.030400</td>\n",
       "      <td>reg</td>\n",
       "      <td>210516</td>\n",
       "      <td>1.0950</td>\n",
       "    </tr>\n",
       "    <tr>\n",
       "      <th>68</th>\n",
       "      <td>2020-05-22T19:10:00Z</td>\n",
       "      <td>295.0000</td>\n",
       "      <td>295.270000</td>\n",
       "      <td>False</td>\n",
       "      <td>294.990000</td>\n",
       "      <td>295.260000</td>\n",
       "      <td>reg</td>\n",
       "      <td>153738</td>\n",
       "      <td>0.8350</td>\n",
       "    </tr>\n",
       "    <tr>\n",
       "      <th>69</th>\n",
       "      <td>2020-05-22T19:15:00Z</td>\n",
       "      <td>294.7500</td>\n",
       "      <td>295.060000</td>\n",
       "      <td>False</td>\n",
       "      <td>294.730000</td>\n",
       "      <td>295.010000</td>\n",
       "      <td>reg</td>\n",
       "      <td>226663</td>\n",
       "      <td>0.5850</td>\n",
       "    </tr>\n",
       "    <tr>\n",
       "      <th>70</th>\n",
       "      <td>2020-05-22T19:20:00Z</td>\n",
       "      <td>294.5900</td>\n",
       "      <td>294.860000</td>\n",
       "      <td>False</td>\n",
       "      <td>294.250000</td>\n",
       "      <td>294.750000</td>\n",
       "      <td>reg</td>\n",
       "      <td>489417</td>\n",
       "      <td>0.4250</td>\n",
       "    </tr>\n",
       "    <tr>\n",
       "      <th>71</th>\n",
       "      <td>2020-05-22T19:25:00Z</td>\n",
       "      <td>294.5600</td>\n",
       "      <td>294.600000</td>\n",
       "      <td>False</td>\n",
       "      <td>294.314800</td>\n",
       "      <td>294.580000</td>\n",
       "      <td>reg</td>\n",
       "      <td>383917</td>\n",
       "      <td>0.3950</td>\n",
       "    </tr>\n",
       "    <tr>\n",
       "      <th>72</th>\n",
       "      <td>2020-05-22T19:30:00Z</td>\n",
       "      <td>294.8300</td>\n",
       "      <td>294.990000</td>\n",
       "      <td>False</td>\n",
       "      <td>294.470000</td>\n",
       "      <td>294.580000</td>\n",
       "      <td>reg</td>\n",
       "      <td>341605</td>\n",
       "      <td>0.6650</td>\n",
       "    </tr>\n",
       "    <tr>\n",
       "      <th>73</th>\n",
       "      <td>2020-05-22T19:35:00Z</td>\n",
       "      <td>294.7800</td>\n",
       "      <td>294.890000</td>\n",
       "      <td>False</td>\n",
       "      <td>294.660000</td>\n",
       "      <td>294.830000</td>\n",
       "      <td>reg</td>\n",
       "      <td>233363</td>\n",
       "      <td>0.6150</td>\n",
       "    </tr>\n",
       "    <tr>\n",
       "      <th>74</th>\n",
       "      <td>2020-05-22T19:40:00Z</td>\n",
       "      <td>294.9600</td>\n",
       "      <td>294.990000</td>\n",
       "      <td>False</td>\n",
       "      <td>294.440000</td>\n",
       "      <td>294.765000</td>\n",
       "      <td>reg</td>\n",
       "      <td>355689</td>\n",
       "      <td>0.7950</td>\n",
       "    </tr>\n",
       "    <tr>\n",
       "      <th>75</th>\n",
       "      <td>2020-05-22T19:45:00Z</td>\n",
       "      <td>295.2500</td>\n",
       "      <td>295.280000</td>\n",
       "      <td>False</td>\n",
       "      <td>294.940000</td>\n",
       "      <td>294.970000</td>\n",
       "      <td>reg</td>\n",
       "      <td>511733</td>\n",
       "      <td>1.0850</td>\n",
       "    </tr>\n",
       "    <tr>\n",
       "      <th>76</th>\n",
       "      <td>2020-05-22T19:50:00Z</td>\n",
       "      <td>295.1900</td>\n",
       "      <td>295.350000</td>\n",
       "      <td>False</td>\n",
       "      <td>294.960000</td>\n",
       "      <td>295.260000</td>\n",
       "      <td>reg</td>\n",
       "      <td>630007</td>\n",
       "      <td>1.0250</td>\n",
       "    </tr>\n",
       "    <tr>\n",
       "      <th>77</th>\n",
       "      <td>2020-05-22T19:55:00Z</td>\n",
       "      <td>295.4200</td>\n",
       "      <td>295.630000</td>\n",
       "      <td>False</td>\n",
       "      <td>294.970000</td>\n",
       "      <td>295.180000</td>\n",
       "      <td>reg</td>\n",
       "      <td>1340824</td>\n",
       "      <td>1.2550</td>\n",
       "    </tr>\n",
       "  </tbody>\n",
       "</table>\n",
       "<p>78 rows × 9 columns</p>\n",
       "</div>"
      ],
      "text/plain": [
       "               begins_at  close_price  high_price  interpolated   low_price  \\\n",
       "0   2020-05-22T13:30:00Z     294.1650  294.850000         False  293.910000   \n",
       "1   2020-05-22T13:35:00Z     293.4600  294.150000         False  293.400000   \n",
       "2   2020-05-22T13:40:00Z     293.6100  293.840000         False  293.420000   \n",
       "3   2020-05-22T13:45:00Z     294.1000  294.170000         False  293.460000   \n",
       "4   2020-05-22T13:50:00Z     294.2150  294.249400         False  293.780000   \n",
       "5   2020-05-22T13:55:00Z     294.2800  294.410000         False  294.100000   \n",
       "6   2020-05-22T14:00:00Z     294.0800  294.370000         False  293.830000   \n",
       "7   2020-05-22T14:05:00Z     293.7100  294.170000         False  293.560000   \n",
       "8   2020-05-22T14:10:00Z     293.3550  293.910000         False  293.320000   \n",
       "9   2020-05-22T14:15:00Z     293.6996  293.820000         False  293.220000   \n",
       "10  2020-05-22T14:20:00Z     293.9300  294.230000         False  293.660000   \n",
       "11  2020-05-22T14:25:00Z     294.3600  294.360000         False  293.810000   \n",
       "12  2020-05-22T14:30:00Z     294.3050  294.530000         False  294.120000   \n",
       "13  2020-05-22T14:35:00Z     294.3400  294.340000         False  293.980000   \n",
       "14  2020-05-22T14:40:00Z     294.1450  294.530000         False  294.040000   \n",
       "15  2020-05-22T14:45:00Z     293.7700  294.360000         False  293.770000   \n",
       "16  2020-05-22T14:50:00Z     293.8050  294.100000         False  293.630000   \n",
       "17  2020-05-22T14:55:00Z     293.4600  293.820000         False  293.350000   \n",
       "18  2020-05-22T15:00:00Z     293.5600  293.730000         False  293.340000   \n",
       "19  2020-05-22T15:05:00Z     293.7200  294.650000         False  293.460000   \n",
       "20  2020-05-22T15:10:00Z     293.7500  294.505000         False  293.500000   \n",
       "21  2020-05-22T15:15:00Z     293.9900  293.990000         False  293.590000   \n",
       "22  2020-05-22T15:20:00Z     293.5200  293.990000         False  293.510000   \n",
       "23  2020-05-22T15:25:00Z     293.6919  293.820000         False  293.280000   \n",
       "24  2020-05-22T15:30:00Z     293.8453  293.920000         False  293.520000   \n",
       "25  2020-05-22T15:35:00Z     294.0000  294.120000         False  293.760000   \n",
       "26  2020-05-22T15:40:00Z     293.9700  294.090000         False  293.865000   \n",
       "27  2020-05-22T15:45:00Z     294.0200  294.090000         False  293.860000   \n",
       "28  2020-05-22T15:50:00Z     294.1600  294.190000         False  293.960000   \n",
       "29  2020-05-22T15:55:00Z     293.9600  294.185000         False  293.890000   \n",
       "..                   ...          ...         ...           ...         ...   \n",
       "48  2020-05-22T17:30:00Z     294.6200  294.740000         False  294.580000   \n",
       "49  2020-05-22T17:35:00Z     294.5716  294.690000         False  294.470000   \n",
       "50  2020-05-22T17:40:00Z     294.6131  294.650000         False  294.495000   \n",
       "51  2020-05-22T17:45:00Z     294.5200  294.740000         False  294.520000   \n",
       "52  2020-05-22T17:50:00Z     294.4050  294.570000         False  294.370000   \n",
       "53  2020-05-22T17:55:00Z     294.7400  294.824800         False  294.360000   \n",
       "54  2020-05-22T18:00:00Z     295.1828  295.200000         False  294.720000   \n",
       "55  2020-05-22T18:05:00Z     295.3200  295.360000         False  295.130000   \n",
       "56  2020-05-22T18:10:00Z     295.1847  295.350000         False  295.160000   \n",
       "57  2020-05-22T18:15:00Z     295.0800  295.229000         False  295.080000   \n",
       "58  2020-05-22T18:20:00Z     295.0643  295.130000         False  294.980000   \n",
       "59  2020-05-22T18:25:00Z     295.1400  295.180000         False  295.030000   \n",
       "60  2020-05-22T18:30:00Z     295.3000  295.300000         False  295.080000   \n",
       "61  2020-05-22T18:35:00Z     295.3950  295.430000         False  295.120000   \n",
       "62  2020-05-22T18:40:00Z     294.9600  295.405000         False  294.920000   \n",
       "63  2020-05-22T18:45:00Z     294.9650  295.059000         False  294.865000   \n",
       "64  2020-05-22T18:50:00Z     294.8300  294.990000         False  294.775000   \n",
       "65  2020-05-22T18:55:00Z     295.0400  295.050000         False  294.820000   \n",
       "66  2020-05-22T19:00:00Z     295.0300  295.070000         False  294.800000   \n",
       "67  2020-05-22T19:05:00Z     295.2600  295.279900         False  294.970000   \n",
       "68  2020-05-22T19:10:00Z     295.0000  295.270000         False  294.990000   \n",
       "69  2020-05-22T19:15:00Z     294.7500  295.060000         False  294.730000   \n",
       "70  2020-05-22T19:20:00Z     294.5900  294.860000         False  294.250000   \n",
       "71  2020-05-22T19:25:00Z     294.5600  294.600000         False  294.314800   \n",
       "72  2020-05-22T19:30:00Z     294.8300  294.990000         False  294.470000   \n",
       "73  2020-05-22T19:35:00Z     294.7800  294.890000         False  294.660000   \n",
       "74  2020-05-22T19:40:00Z     294.9600  294.990000         False  294.440000   \n",
       "75  2020-05-22T19:45:00Z     295.2500  295.280000         False  294.940000   \n",
       "76  2020-05-22T19:50:00Z     295.1900  295.350000         False  294.960000   \n",
       "77  2020-05-22T19:55:00Z     295.4200  295.630000         False  294.970000   \n",
       "\n",
       "    open_price session   volume  change_price  \n",
       "0   294.570000     reg   504880        0.0000  \n",
       "1   294.150000     reg   444278       -0.7050  \n",
       "2   293.460000     reg   413372       -0.5550  \n",
       "3   293.590000     reg   365673       -0.0650  \n",
       "4   294.110000     reg   309813        0.0500  \n",
       "5   294.230000     reg   285199        0.1150  \n",
       "6   294.290000     reg   283284       -0.0850  \n",
       "7   294.100000     reg   345458       -0.4550  \n",
       "8   293.703000     reg   330149       -0.8100  \n",
       "9   293.350000     reg   253656       -0.4654  \n",
       "10  293.697700     reg   333470       -0.2350  \n",
       "11  293.940000     reg   318708        0.1950  \n",
       "12  294.366200     reg   268104        0.1400  \n",
       "13  294.300000     reg   166549        0.1750  \n",
       "14  294.350000     reg   163444       -0.0200  \n",
       "15  294.110000     reg   216978       -0.3950  \n",
       "16  293.797800     reg   252571       -0.3600  \n",
       "17  293.800000     reg   313339       -0.7050  \n",
       "18  293.430000     reg   223404       -0.6050  \n",
       "19  293.560000     reg   181537       -0.4450  \n",
       "20  293.725000     reg   156634       -0.4150  \n",
       "21  293.740000     reg   188123       -0.1750  \n",
       "22  293.970000     reg   167176       -0.6450  \n",
       "23  293.517300     reg   191296       -0.4731  \n",
       "24  293.720000     reg   195198       -0.3197  \n",
       "25  293.840000     reg   155852       -0.1650  \n",
       "26  293.990000     reg    94784       -0.1950  \n",
       "27  293.950000     reg   114509       -0.1450  \n",
       "28  294.010000     reg   141361       -0.0050  \n",
       "29  294.155000     reg   121150       -0.2050  \n",
       "..         ...     ...      ...           ...  \n",
       "48  294.645000     reg   121011        0.4550  \n",
       "49  294.615000     reg   165809        0.4066  \n",
       "50  294.560000     reg   127051        0.4481  \n",
       "51  294.610000     reg   154249        0.3550  \n",
       "52  294.530000     reg   166590        0.2400  \n",
       "53  294.370000     reg   166244        0.5750  \n",
       "54  294.760000     reg   260737        1.0178  \n",
       "55  295.200000     reg   168615        1.1550  \n",
       "56  295.325000     reg   121975        1.0197  \n",
       "57  295.180000     reg   126127        0.9150  \n",
       "58  295.090000     reg   106917        0.8993  \n",
       "59  295.070000     reg    71401        0.9750  \n",
       "60  295.140000     reg   131377        1.1350  \n",
       "61  295.295000     reg   158719        1.2300  \n",
       "62  295.396300     reg   294136        0.7950  \n",
       "63  294.970000     reg   212165        0.8000  \n",
       "64  294.980000     reg   115556        0.6650  \n",
       "65  294.830000     reg   149462        0.8750  \n",
       "66  295.030800     reg   132338        0.8650  \n",
       "67  295.030400     reg   210516        1.0950  \n",
       "68  295.260000     reg   153738        0.8350  \n",
       "69  295.010000     reg   226663        0.5850  \n",
       "70  294.750000     reg   489417        0.4250  \n",
       "71  294.580000     reg   383917        0.3950  \n",
       "72  294.580000     reg   341605        0.6650  \n",
       "73  294.830000     reg   233363        0.6150  \n",
       "74  294.765000     reg   355689        0.7950  \n",
       "75  294.970000     reg   511733        1.0850  \n",
       "76  295.260000     reg   630007        1.0250  \n",
       "77  295.180000     reg  1340824        1.2550  \n",
       "\n",
       "[78 rows x 9 columns]"
      ]
     },
     "execution_count": 34,
     "metadata": {},
     "output_type": "execute_result"
    }
   ],
   "source": [
    "#dfstock[['close_price']] = dfstock[['close_price']].apply(pd.to_numeric)\n",
    "dfstock['change_price'] = dfstock.close_price - dfstock.close_price[0:1].values[0]\n",
    "dfstock"
   ]
  },
  {
   "cell_type": "markdown",
   "metadata": {},
   "source": [
    "### Expiration Dates"
   ]
  },
  {
   "cell_type": "code",
   "execution_count": 16,
   "metadata": {},
   "outputs": [
    {
     "name": "stdout",
     "output_type": "stream",
     "text": [
      "['2020-05-27', '2020-05-29', '2020-06-01', '2020-06-03', '2020-06-05', '2020-06-08', '2020-06-10', '2020-06-12', '2020-06-15', '2020-06-17', '2020-06-19', '2020-06-22', '2020-06-24', '2020-06-26', '2020-06-29', '2020-06-30', '2020-07-01', '2020-07-02', '2020-07-17', '2020-08-21', '2020-09-18', '2020-09-30', '2020-10-16', '2020-11-20', '2020-12-18', '2020-12-31', '2021-01-15', '2021-03-19', '2021-03-31', '2021-06-18', '2021-09-17', '2021-12-17', '2022-01-21', '2022-03-18', '2022-12-16']\n"
     ]
    }
   ],
   "source": [
    "symbol = 'SPY'\n",
    "expiration_dates = r.get_chains(symbol)['expiration_dates']\n",
    "print(expiration_dates)"
   ]
  },
  {
   "cell_type": "markdown",
   "metadata": {},
   "source": [
    "### Strike Prices for Expiration Date"
   ]
  },
  {
   "cell_type": "code",
   "execution_count": 17,
   "metadata": {},
   "outputs": [
    {
     "name": "stdout",
     "output_type": "stream",
     "text": [
      "*............................................."
     ]
    },
    {
     "data": {
      "text/html": [
       "<div>\n",
       "<style scoped>\n",
       "    .dataframe tbody tr th:only-of-type {\n",
       "        vertical-align: middle;\n",
       "    }\n",
       "\n",
       "    .dataframe tbody tr th {\n",
       "        vertical-align: top;\n",
       "    }\n",
       "\n",
       "    .dataframe thead th {\n",
       "        text-align: right;\n",
       "    }\n",
       "</style>\n",
       "<table border=\"1\" class=\"dataframe\">\n",
       "  <thead>\n",
       "    <tr style=\"text-align: right;\">\n",
       "      <th></th>\n",
       "      <th>strike_price</th>\n",
       "      <th>volume</th>\n",
       "    </tr>\n",
       "  </thead>\n",
       "  <tbody>\n",
       "    <tr>\n",
       "      <th>38</th>\n",
       "      <td>296.0000</td>\n",
       "      <td>10397</td>\n",
       "    </tr>\n",
       "    <tr>\n",
       "      <th>67</th>\n",
       "      <td>300.0000</td>\n",
       "      <td>9259</td>\n",
       "    </tr>\n",
       "    <tr>\n",
       "      <th>66</th>\n",
       "      <td>295.0000</td>\n",
       "      <td>8994</td>\n",
       "    </tr>\n",
       "    <tr>\n",
       "      <th>26</th>\n",
       "      <td>302.0000</td>\n",
       "      <td>6668</td>\n",
       "    </tr>\n",
       "    <tr>\n",
       "      <th>39</th>\n",
       "      <td>294.0000</td>\n",
       "      <td>3663</td>\n",
       "    </tr>\n",
       "  </tbody>\n",
       "</table>\n",
       "</div>"
      ],
      "text/plain": [
       "   strike_price  volume\n",
       "38     296.0000   10397\n",
       "67     300.0000    9259\n",
       "66     295.0000    8994\n",
       "26     302.0000    6668\n",
       "39     294.0000    3663"
      ]
     },
     "execution_count": 17,
     "metadata": {},
     "output_type": "execute_result"
    }
   ],
   "source": [
    "expirationDate = expiration_dates[0]\n",
    "volume_limit = 0\n",
    "optionData = r.find_options_for_list_of_stocks_by_expiration_date([symbol], expirationDate=expirationDate,optionType='call') \n",
    "dfoptions = pd.DataFrame((filter(lambda x:x['volume']>volume_limit,optionData)))\n",
    "#dfoptions[['strike_price','break_even_price','volume','last_trade_price', 'previous_close_price', 'last_trade_size','open_interest']].sort_values(by='strike_price')\n",
    "#dfoptions[['strike_price','break_even_price','volume','last_trade_price', 'previous_close_price', 'last_trade_size','open_interest']].sort_values(by='volume',ascending=False)\n",
    "dfstrike_prices = dfoptions.sort_values(by='volume',ascending=False)[0:5][['strike_price','volume']]\n",
    "dfstrike_prices"
   ]
  },
  {
   "cell_type": "code",
   "execution_count": 37,
   "metadata": {},
   "outputs": [
    {
     "name": "stdout",
     "output_type": "stream",
     "text": [
      "*.............................................\n",
      "Max-Min:0.62, Percent:38%\n"
     ]
    },
    {
     "data": {
      "text/html": [
       "<div>\n",
       "        \n",
       "        \n",
       "            <div id=\"13447628-60ab-4e1b-877c-bae27cd712fc\" class=\"plotly-graph-div\" style=\"height:525px; width:100%;\"></div>\n",
       "            <script type=\"text/javascript\">\n",
       "                require([\"plotly\"], function(Plotly) {\n",
       "                    window.PLOTLYENV=window.PLOTLYENV || {};\n",
       "                    \n",
       "                if (document.getElementById(\"13447628-60ab-4e1b-877c-bae27cd712fc\")) {\n",
       "                    Plotly.newPlot(\n",
       "                        '13447628-60ab-4e1b-877c-bae27cd712fc',\n",
       "                        [{\"hoverlabel\": {\"namelength\": 0}, \"hovertemplate\": \"x=%{x}<br>y=%{y}\", \"legendgroup\": \"\", \"line\": {\"color\": \"#636efa\", \"dash\": \"solid\"}, \"mode\": \"lines\", \"name\": \"\", \"showlegend\": false, \"type\": \"scatter\", \"x\": [\"2020-05-22T13:30:00Z\", \"2020-05-22T13:35:00Z\", \"2020-05-22T13:40:00Z\", \"2020-05-22T13:45:00Z\", \"2020-05-22T13:50:00Z\", \"2020-05-22T13:55:00Z\", \"2020-05-22T14:00:00Z\", \"2020-05-22T14:05:00Z\", \"2020-05-22T14:10:00Z\", \"2020-05-22T14:15:00Z\", \"2020-05-22T14:20:00Z\", \"2020-05-22T14:25:00Z\", \"2020-05-22T14:30:00Z\", \"2020-05-22T14:35:00Z\", \"2020-05-22T14:40:00Z\", \"2020-05-22T14:45:00Z\", \"2020-05-22T14:50:00Z\", \"2020-05-22T14:55:00Z\", \"2020-05-22T15:00:00Z\", \"2020-05-22T15:05:00Z\", \"2020-05-22T15:10:00Z\", \"2020-05-22T15:15:00Z\", \"2020-05-22T15:20:00Z\", \"2020-05-22T15:25:00Z\", \"2020-05-22T15:30:00Z\", \"2020-05-22T15:35:00Z\", \"2020-05-22T15:40:00Z\", \"2020-05-22T15:45:00Z\", \"2020-05-22T15:50:00Z\", \"2020-05-22T15:55:00Z\", \"2020-05-22T16:00:00Z\", \"2020-05-22T16:05:00Z\", \"2020-05-22T16:10:00Z\", \"2020-05-22T16:15:00Z\", \"2020-05-22T16:20:00Z\", \"2020-05-22T16:25:00Z\", \"2020-05-22T16:30:00Z\", \"2020-05-22T16:35:00Z\", \"2020-05-22T16:40:00Z\", \"2020-05-22T16:45:00Z\", \"2020-05-22T16:50:00Z\", \"2020-05-22T16:55:00Z\", \"2020-05-22T17:00:00Z\", \"2020-05-22T17:05:00Z\", \"2020-05-22T17:10:00Z\", \"2020-05-22T17:15:00Z\", \"2020-05-22T17:20:00Z\", \"2020-05-22T17:25:00Z\", \"2020-05-22T17:30:00Z\", \"2020-05-22T17:35:00Z\", \"2020-05-22T17:40:00Z\", \"2020-05-22T17:45:00Z\", \"2020-05-22T17:50:00Z\", \"2020-05-22T17:55:00Z\", \"2020-05-22T18:00:00Z\", \"2020-05-22T18:05:00Z\", \"2020-05-22T18:10:00Z\", \"2020-05-22T18:15:00Z\", \"2020-05-22T18:20:00Z\", \"2020-05-22T18:25:00Z\", \"2020-05-22T18:30:00Z\", \"2020-05-22T18:35:00Z\", \"2020-05-22T18:40:00Z\", \"2020-05-22T18:45:00Z\", \"2020-05-22T18:50:00Z\", \"2020-05-22T18:55:00Z\", \"2020-05-22T19:00:00Z\", \"2020-05-22T19:05:00Z\", \"2020-05-22T19:10:00Z\", \"2020-05-22T19:15:00Z\", \"2020-05-22T19:20:00Z\", \"2020-05-22T19:25:00Z\", \"2020-05-22T19:30:00Z\", \"2020-05-22T19:35:00Z\", \"2020-05-22T19:40:00Z\", \"2020-05-22T19:45:00Z\", \"2020-05-22T19:50:00Z\", \"2020-05-22T19:55:00Z\"], \"xaxis\": \"x\", \"y\": [2.03, 2.04, 1.92, 2.03, 2.05, 2.1, 2.1, 2.03, 1.93, 1.89, 2.04, 2.06, 2.14, 2.06, 2.13, 2.06, 1.94, 1.84, 1.8, 1.83, 1.82, 1.87, 1.87, 1.79, 1.82, 1.89, 1.86, 1.84, 1.87, 1.87, 1.87, 1.85, 1.78, 1.75, 1.78, 1.77, 1.83, 1.97, 1.98, 1.99, 1.89, 1.95, 1.95, 1.95, 1.88, 1.9, 1.97, 1.99, 1.95, 1.91, 1.9, 1.95, 1.88, 1.98, 2.15, 2.22, 2.22, 2.17, 2.11, 2.12, 2.19, 2.24, 2.24, 2.07, 2.05, 2.06, 2.07, 2.15, 2.14, 2.03, 1.95, 1.87, 2.04, 1.97, 2.01, 2.13, 2.14, 2.22], \"yaxis\": \"y\"}],\n",
       "                        {\"font\": {\"color\": \"#7f7f7f\", \"family\": \"Courier New, monospace\", \"size\": 18}, \"legend\": {\"tracegroupgap\": 0}, \"margin\": {\"t\": 60}, \"template\": {\"data\": {\"bar\": [{\"error_x\": {\"color\": \"#2a3f5f\"}, \"error_y\": {\"color\": \"#2a3f5f\"}, \"marker\": {\"line\": {\"color\": \"#E5ECF6\", \"width\": 0.5}}, \"type\": \"bar\"}], \"barpolar\": [{\"marker\": {\"line\": {\"color\": \"#E5ECF6\", \"width\": 0.5}}, \"type\": \"barpolar\"}], \"carpet\": [{\"aaxis\": {\"endlinecolor\": \"#2a3f5f\", \"gridcolor\": \"white\", \"linecolor\": \"white\", \"minorgridcolor\": \"white\", \"startlinecolor\": \"#2a3f5f\"}, \"baxis\": {\"endlinecolor\": \"#2a3f5f\", \"gridcolor\": \"white\", \"linecolor\": \"white\", \"minorgridcolor\": \"white\", \"startlinecolor\": \"#2a3f5f\"}, \"type\": \"carpet\"}], \"choropleth\": [{\"colorbar\": {\"outlinewidth\": 0, \"ticks\": \"\"}, \"type\": \"choropleth\"}], \"contour\": [{\"colorbar\": {\"outlinewidth\": 0, \"ticks\": \"\"}, \"colorscale\": [[0.0, \"#0d0887\"], [0.1111111111111111, \"#46039f\"], [0.2222222222222222, \"#7201a8\"], [0.3333333333333333, \"#9c179e\"], [0.4444444444444444, \"#bd3786\"], [0.5555555555555556, \"#d8576b\"], [0.6666666666666666, \"#ed7953\"], [0.7777777777777778, \"#fb9f3a\"], [0.8888888888888888, \"#fdca26\"], [1.0, \"#f0f921\"]], \"type\": \"contour\"}], \"contourcarpet\": [{\"colorbar\": {\"outlinewidth\": 0, \"ticks\": \"\"}, \"type\": \"contourcarpet\"}], \"heatmap\": [{\"colorbar\": {\"outlinewidth\": 0, \"ticks\": \"\"}, \"colorscale\": [[0.0, \"#0d0887\"], [0.1111111111111111, \"#46039f\"], [0.2222222222222222, \"#7201a8\"], [0.3333333333333333, \"#9c179e\"], [0.4444444444444444, \"#bd3786\"], [0.5555555555555556, \"#d8576b\"], [0.6666666666666666, \"#ed7953\"], [0.7777777777777778, \"#fb9f3a\"], [0.8888888888888888, \"#fdca26\"], [1.0, \"#f0f921\"]], \"type\": \"heatmap\"}], \"heatmapgl\": [{\"colorbar\": {\"outlinewidth\": 0, \"ticks\": \"\"}, \"colorscale\": [[0.0, \"#0d0887\"], [0.1111111111111111, \"#46039f\"], [0.2222222222222222, \"#7201a8\"], [0.3333333333333333, \"#9c179e\"], [0.4444444444444444, \"#bd3786\"], [0.5555555555555556, \"#d8576b\"], [0.6666666666666666, \"#ed7953\"], [0.7777777777777778, \"#fb9f3a\"], [0.8888888888888888, \"#fdca26\"], [1.0, \"#f0f921\"]], \"type\": \"heatmapgl\"}], \"histogram\": [{\"marker\": {\"colorbar\": {\"outlinewidth\": 0, \"ticks\": \"\"}}, \"type\": \"histogram\"}], \"histogram2d\": [{\"colorbar\": {\"outlinewidth\": 0, \"ticks\": \"\"}, \"colorscale\": [[0.0, \"#0d0887\"], [0.1111111111111111, \"#46039f\"], [0.2222222222222222, \"#7201a8\"], [0.3333333333333333, \"#9c179e\"], [0.4444444444444444, \"#bd3786\"], [0.5555555555555556, \"#d8576b\"], [0.6666666666666666, \"#ed7953\"], [0.7777777777777778, \"#fb9f3a\"], [0.8888888888888888, \"#fdca26\"], [1.0, \"#f0f921\"]], \"type\": \"histogram2d\"}], \"histogram2dcontour\": [{\"colorbar\": {\"outlinewidth\": 0, \"ticks\": \"\"}, \"colorscale\": [[0.0, \"#0d0887\"], [0.1111111111111111, \"#46039f\"], [0.2222222222222222, \"#7201a8\"], [0.3333333333333333, \"#9c179e\"], [0.4444444444444444, \"#bd3786\"], [0.5555555555555556, \"#d8576b\"], [0.6666666666666666, \"#ed7953\"], [0.7777777777777778, \"#fb9f3a\"], [0.8888888888888888, \"#fdca26\"], [1.0, \"#f0f921\"]], \"type\": \"histogram2dcontour\"}], \"mesh3d\": [{\"colorbar\": {\"outlinewidth\": 0, \"ticks\": \"\"}, \"type\": \"mesh3d\"}], \"parcoords\": [{\"line\": {\"colorbar\": {\"outlinewidth\": 0, \"ticks\": \"\"}}, \"type\": \"parcoords\"}], \"pie\": [{\"automargin\": true, \"type\": \"pie\"}], \"scatter\": [{\"marker\": {\"colorbar\": {\"outlinewidth\": 0, \"ticks\": \"\"}}, \"type\": \"scatter\"}], \"scatter3d\": [{\"line\": {\"colorbar\": {\"outlinewidth\": 0, \"ticks\": \"\"}}, \"marker\": {\"colorbar\": {\"outlinewidth\": 0, \"ticks\": \"\"}}, \"type\": \"scatter3d\"}], \"scattercarpet\": [{\"marker\": {\"colorbar\": {\"outlinewidth\": 0, \"ticks\": \"\"}}, \"type\": \"scattercarpet\"}], \"scattergeo\": [{\"marker\": {\"colorbar\": {\"outlinewidth\": 0, \"ticks\": \"\"}}, \"type\": \"scattergeo\"}], \"scattergl\": [{\"marker\": {\"colorbar\": {\"outlinewidth\": 0, \"ticks\": \"\"}}, \"type\": \"scattergl\"}], \"scattermapbox\": [{\"marker\": {\"colorbar\": {\"outlinewidth\": 0, \"ticks\": \"\"}}, \"type\": \"scattermapbox\"}], \"scatterpolar\": [{\"marker\": {\"colorbar\": {\"outlinewidth\": 0, \"ticks\": \"\"}}, \"type\": \"scatterpolar\"}], \"scatterpolargl\": [{\"marker\": {\"colorbar\": {\"outlinewidth\": 0, \"ticks\": \"\"}}, \"type\": \"scatterpolargl\"}], \"scatterternary\": [{\"marker\": {\"colorbar\": {\"outlinewidth\": 0, \"ticks\": \"\"}}, \"type\": \"scatterternary\"}], \"surface\": [{\"colorbar\": {\"outlinewidth\": 0, \"ticks\": \"\"}, \"colorscale\": [[0.0, \"#0d0887\"], [0.1111111111111111, \"#46039f\"], [0.2222222222222222, \"#7201a8\"], [0.3333333333333333, \"#9c179e\"], [0.4444444444444444, \"#bd3786\"], [0.5555555555555556, \"#d8576b\"], [0.6666666666666666, \"#ed7953\"], [0.7777777777777778, \"#fb9f3a\"], [0.8888888888888888, \"#fdca26\"], [1.0, \"#f0f921\"]], \"type\": \"surface\"}], \"table\": [{\"cells\": {\"fill\": {\"color\": \"#EBF0F8\"}, \"line\": {\"color\": \"white\"}}, \"header\": {\"fill\": {\"color\": \"#C8D4E3\"}, \"line\": {\"color\": \"white\"}}, \"type\": \"table\"}]}, \"layout\": {\"annotationdefaults\": {\"arrowcolor\": \"#2a3f5f\", \"arrowhead\": 0, \"arrowwidth\": 1}, \"coloraxis\": {\"colorbar\": {\"outlinewidth\": 0, \"ticks\": \"\"}}, \"colorscale\": {\"diverging\": [[0, \"#8e0152\"], [0.1, \"#c51b7d\"], [0.2, \"#de77ae\"], [0.3, \"#f1b6da\"], [0.4, \"#fde0ef\"], [0.5, \"#f7f7f7\"], [0.6, \"#e6f5d0\"], [0.7, \"#b8e186\"], [0.8, \"#7fbc41\"], [0.9, \"#4d9221\"], [1, \"#276419\"]], \"sequential\": [[0.0, \"#0d0887\"], [0.1111111111111111, \"#46039f\"], [0.2222222222222222, \"#7201a8\"], [0.3333333333333333, \"#9c179e\"], [0.4444444444444444, \"#bd3786\"], [0.5555555555555556, \"#d8576b\"], [0.6666666666666666, \"#ed7953\"], [0.7777777777777778, \"#fb9f3a\"], [0.8888888888888888, \"#fdca26\"], [1.0, \"#f0f921\"]], \"sequentialminus\": [[0.0, \"#0d0887\"], [0.1111111111111111, \"#46039f\"], [0.2222222222222222, \"#7201a8\"], [0.3333333333333333, \"#9c179e\"], [0.4444444444444444, \"#bd3786\"], [0.5555555555555556, \"#d8576b\"], [0.6666666666666666, \"#ed7953\"], [0.7777777777777778, \"#fb9f3a\"], [0.8888888888888888, \"#fdca26\"], [1.0, \"#f0f921\"]]}, \"colorway\": [\"#636efa\", \"#EF553B\", \"#00cc96\", \"#ab63fa\", \"#FFA15A\", \"#19d3f3\", \"#FF6692\", \"#B6E880\", \"#FF97FF\", \"#FECB52\"], \"font\": {\"color\": \"#2a3f5f\"}, \"geo\": {\"bgcolor\": \"white\", \"lakecolor\": \"white\", \"landcolor\": \"#E5ECF6\", \"showlakes\": true, \"showland\": true, \"subunitcolor\": \"white\"}, \"hoverlabel\": {\"align\": \"left\"}, \"hovermode\": \"closest\", \"mapbox\": {\"style\": \"light\"}, \"paper_bgcolor\": \"white\", \"plot_bgcolor\": \"#E5ECF6\", \"polar\": {\"angularaxis\": {\"gridcolor\": \"white\", \"linecolor\": \"white\", \"ticks\": \"\"}, \"bgcolor\": \"#E5ECF6\", \"radialaxis\": {\"gridcolor\": \"white\", \"linecolor\": \"white\", \"ticks\": \"\"}}, \"scene\": {\"xaxis\": {\"backgroundcolor\": \"#E5ECF6\", \"gridcolor\": \"white\", \"gridwidth\": 2, \"linecolor\": \"white\", \"showbackground\": true, \"ticks\": \"\", \"zerolinecolor\": \"white\"}, \"yaxis\": {\"backgroundcolor\": \"#E5ECF6\", \"gridcolor\": \"white\", \"gridwidth\": 2, \"linecolor\": \"white\", \"showbackground\": true, \"ticks\": \"\", \"zerolinecolor\": \"white\"}, \"zaxis\": {\"backgroundcolor\": \"#E5ECF6\", \"gridcolor\": \"white\", \"gridwidth\": 2, \"linecolor\": \"white\", \"showbackground\": true, \"ticks\": \"\", \"zerolinecolor\": \"white\"}}, \"shapedefaults\": {\"line\": {\"color\": \"#2a3f5f\"}}, \"ternary\": {\"aaxis\": {\"gridcolor\": \"white\", \"linecolor\": \"white\", \"ticks\": \"\"}, \"baxis\": {\"gridcolor\": \"white\", \"linecolor\": \"white\", \"ticks\": \"\"}, \"bgcolor\": \"#E5ECF6\", \"caxis\": {\"gridcolor\": \"white\", \"linecolor\": \"white\", \"ticks\": \"\"}}, \"title\": {\"x\": 0.05}, \"xaxis\": {\"automargin\": true, \"gridcolor\": \"white\", \"linecolor\": \"white\", \"ticks\": \"\", \"title\": {\"standoff\": 15}, \"zerolinecolor\": \"white\", \"zerolinewidth\": 2}, \"yaxis\": {\"automargin\": true, \"gridcolor\": \"white\", \"linecolor\": \"white\", \"ticks\": \"\", \"title\": {\"standoff\": 15}, \"zerolinecolor\": \"white\", \"zerolinewidth\": 2}}}, \"title\": {\"text\": \"SPY Expiration:2020-05-27, Strike: 296.0000, Time:2020-05-22 12:55\"}, \"xaxis\": {\"anchor\": \"y\", \"domain\": [0.0, 1.0], \"title\": {\"text\": \"Date\"}}, \"yaxis\": {\"anchor\": \"x\", \"domain\": [0.0, 1.0], \"title\": {\"text\": \"Option price\"}}},\n",
       "                        {\"responsive\": true}\n",
       "                    ).then(function(){\n",
       "                            \n",
       "var gd = document.getElementById('13447628-60ab-4e1b-877c-bae27cd712fc');\n",
       "var x = new MutationObserver(function (mutations, observer) {{\n",
       "        var display = window.getComputedStyle(gd).display;\n",
       "        if (!display || display === 'none') {{\n",
       "            console.log([gd, 'removed!']);\n",
       "            Plotly.purge(gd);\n",
       "            observer.disconnect();\n",
       "        }}\n",
       "}});\n",
       "\n",
       "// Listen for the removal of the full notebook cells\n",
       "var notebookContainer = gd.closest('#notebook-container');\n",
       "if (notebookContainer) {{\n",
       "    x.observe(notebookContainer, {childList: true});\n",
       "}}\n",
       "\n",
       "// Listen for the clearing of the current output cell\n",
       "var outputEl = gd.closest('.output');\n",
       "if (outputEl) {{\n",
       "    x.observe(outputEl, {childList: true});\n",
       "}}\n",
       "\n",
       "                        })\n",
       "                };\n",
       "                });\n",
       "            </script>\n",
       "        </div>"
      ]
     },
     "metadata": {},
     "output_type": "display_data"
    },
    {
     "name": "stdout",
     "output_type": "stream",
     "text": [
      "*.............................................\n",
      "Max-Min:0.62, Percent:38%\n"
     ]
    },
    {
     "data": {
      "text/html": [
       "<div>\n",
       "        \n",
       "        \n",
       "            <div id=\"ac262929-d8e0-4a87-a57b-470cbd0649c2\" class=\"plotly-graph-div\" style=\"height:525px; width:100%;\"></div>\n",
       "            <script type=\"text/javascript\">\n",
       "                require([\"plotly\"], function(Plotly) {\n",
       "                    window.PLOTLYENV=window.PLOTLYENV || {};\n",
       "                    \n",
       "                if (document.getElementById(\"ac262929-d8e0-4a87-a57b-470cbd0649c2\")) {\n",
       "                    Plotly.newPlot(\n",
       "                        'ac262929-d8e0-4a87-a57b-470cbd0649c2',\n",
       "                        [{\"mode\": \"lines\", \"name\": \"stock_price\", \"type\": \"scatter\", \"x\": [\"2020-05-22T13:30:00Z\", \"2020-05-22T13:35:00Z\", \"2020-05-22T13:40:00Z\", \"2020-05-22T13:45:00Z\", \"2020-05-22T13:50:00Z\", \"2020-05-22T13:55:00Z\", \"2020-05-22T14:00:00Z\", \"2020-05-22T14:05:00Z\", \"2020-05-22T14:10:00Z\", \"2020-05-22T14:15:00Z\", \"2020-05-22T14:20:00Z\", \"2020-05-22T14:25:00Z\", \"2020-05-22T14:30:00Z\", \"2020-05-22T14:35:00Z\", \"2020-05-22T14:40:00Z\", \"2020-05-22T14:45:00Z\", \"2020-05-22T14:50:00Z\", \"2020-05-22T14:55:00Z\", \"2020-05-22T15:00:00Z\", \"2020-05-22T15:05:00Z\", \"2020-05-22T15:10:00Z\", \"2020-05-22T15:15:00Z\", \"2020-05-22T15:20:00Z\", \"2020-05-22T15:25:00Z\", \"2020-05-22T15:30:00Z\", \"2020-05-22T15:35:00Z\", \"2020-05-22T15:40:00Z\", \"2020-05-22T15:45:00Z\", \"2020-05-22T15:50:00Z\", \"2020-05-22T15:55:00Z\", \"2020-05-22T16:00:00Z\", \"2020-05-22T16:05:00Z\", \"2020-05-22T16:10:00Z\", \"2020-05-22T16:15:00Z\", \"2020-05-22T16:20:00Z\", \"2020-05-22T16:25:00Z\", \"2020-05-22T16:30:00Z\", \"2020-05-22T16:35:00Z\", \"2020-05-22T16:40:00Z\", \"2020-05-22T16:45:00Z\", \"2020-05-22T16:50:00Z\", \"2020-05-22T16:55:00Z\", \"2020-05-22T17:00:00Z\", \"2020-05-22T17:05:00Z\", \"2020-05-22T17:10:00Z\", \"2020-05-22T17:15:00Z\", \"2020-05-22T17:20:00Z\", \"2020-05-22T17:25:00Z\", \"2020-05-22T17:30:00Z\", \"2020-05-22T17:35:00Z\", \"2020-05-22T17:40:00Z\", \"2020-05-22T17:45:00Z\", \"2020-05-22T17:50:00Z\", \"2020-05-22T17:55:00Z\", \"2020-05-22T18:00:00Z\", \"2020-05-22T18:05:00Z\", \"2020-05-22T18:10:00Z\", \"2020-05-22T18:15:00Z\", \"2020-05-22T18:20:00Z\", \"2020-05-22T18:25:00Z\", \"2020-05-22T18:30:00Z\", \"2020-05-22T18:35:00Z\", \"2020-05-22T18:40:00Z\", \"2020-05-22T18:45:00Z\", \"2020-05-22T18:50:00Z\", \"2020-05-22T18:55:00Z\", \"2020-05-22T19:00:00Z\", \"2020-05-22T19:05:00Z\", \"2020-05-22T19:10:00Z\", \"2020-05-22T19:15:00Z\", \"2020-05-22T19:20:00Z\", \"2020-05-22T19:25:00Z\", \"2020-05-22T19:30:00Z\", \"2020-05-22T19:35:00Z\", \"2020-05-22T19:40:00Z\", \"2020-05-22T19:45:00Z\", \"2020-05-22T19:50:00Z\", \"2020-05-22T19:55:00Z\"], \"y\": [0.0, -0.22999999999999976, -0.17999999999999972, -0.029999999999999805, 0.0, 0.03000000000000025, -0.029999999999999805, -0.17999999999999972, -0.2999999999999998, -0.18999999999999972, -0.10999999999999988, 0.03000000000000025, 0.020000000000000018, 0.020000000000000018, -0.05999999999999983, -0.19999999999999973, -0.18999999999999972, -0.31999999999999984, -0.2899999999999998, -0.22999999999999976, -0.22999999999999976, -0.1599999999999997, -0.32999999999999985, -0.2799999999999998, -0.24999999999999978, -0.20999999999999974, -0.21999999999999975, -0.19999999999999973, -0.1699999999999997, -0.24999999999999978, -0.20999999999999974, -0.24999999999999978, -0.32999999999999985, -0.2799999999999998, -0.2699999999999998, -0.2899999999999998, -0.20999999999999974, -0.10999999999999988, -0.05999999999999983, -0.1599999999999997, -0.1599999999999997, -0.1599999999999997, -0.08999999999999986, -0.17999999999999972, -0.19999999999999973, -0.1699999999999997, -0.05999999999999983, -0.10999999999999988, -0.1299999999999999, -0.1599999999999997, -0.1299999999999999, -0.1699999999999997, -0.21999999999999975, -0.07999999999999985, 0.1200000000000001, 0.18000000000000016, 0.11000000000000032, 0.07000000000000028, 0.050000000000000266, 0.08000000000000007, 0.15000000000000036, 0.20000000000000018, 0.0, 0.010000000000000231, -0.04999999999999982, 0.020000000000000018, 0.020000000000000018, 0.11000000000000032, -0.009999999999999787, -0.1299999999999999, -0.19999999999999973, -0.1599999999999997, -0.06999999999999984, -0.08999999999999986, -0.039999999999999813, 0.06000000000000005, 0.03000000000000025, 0.13000000000000034]}],\n",
       "                        {\"template\": {\"data\": {\"bar\": [{\"error_x\": {\"color\": \"#2a3f5f\"}, \"error_y\": {\"color\": \"#2a3f5f\"}, \"marker\": {\"line\": {\"color\": \"#E5ECF6\", \"width\": 0.5}}, \"type\": \"bar\"}], \"barpolar\": [{\"marker\": {\"line\": {\"color\": \"#E5ECF6\", \"width\": 0.5}}, \"type\": \"barpolar\"}], \"carpet\": [{\"aaxis\": {\"endlinecolor\": \"#2a3f5f\", \"gridcolor\": \"white\", \"linecolor\": \"white\", \"minorgridcolor\": \"white\", \"startlinecolor\": \"#2a3f5f\"}, \"baxis\": {\"endlinecolor\": \"#2a3f5f\", \"gridcolor\": \"white\", \"linecolor\": \"white\", \"minorgridcolor\": \"white\", \"startlinecolor\": \"#2a3f5f\"}, \"type\": \"carpet\"}], \"choropleth\": [{\"colorbar\": {\"outlinewidth\": 0, \"ticks\": \"\"}, \"type\": \"choropleth\"}], \"contour\": [{\"colorbar\": {\"outlinewidth\": 0, \"ticks\": \"\"}, \"colorscale\": [[0.0, \"#0d0887\"], [0.1111111111111111, \"#46039f\"], [0.2222222222222222, \"#7201a8\"], [0.3333333333333333, \"#9c179e\"], [0.4444444444444444, \"#bd3786\"], [0.5555555555555556, \"#d8576b\"], [0.6666666666666666, \"#ed7953\"], [0.7777777777777778, \"#fb9f3a\"], [0.8888888888888888, \"#fdca26\"], [1.0, \"#f0f921\"]], \"type\": \"contour\"}], \"contourcarpet\": [{\"colorbar\": {\"outlinewidth\": 0, \"ticks\": \"\"}, \"type\": \"contourcarpet\"}], \"heatmap\": [{\"colorbar\": {\"outlinewidth\": 0, \"ticks\": \"\"}, \"colorscale\": [[0.0, \"#0d0887\"], [0.1111111111111111, \"#46039f\"], [0.2222222222222222, \"#7201a8\"], [0.3333333333333333, \"#9c179e\"], [0.4444444444444444, \"#bd3786\"], [0.5555555555555556, \"#d8576b\"], [0.6666666666666666, \"#ed7953\"], [0.7777777777777778, \"#fb9f3a\"], [0.8888888888888888, \"#fdca26\"], [1.0, \"#f0f921\"]], \"type\": \"heatmap\"}], \"heatmapgl\": [{\"colorbar\": {\"outlinewidth\": 0, \"ticks\": \"\"}, \"colorscale\": [[0.0, \"#0d0887\"], [0.1111111111111111, \"#46039f\"], [0.2222222222222222, \"#7201a8\"], [0.3333333333333333, \"#9c179e\"], [0.4444444444444444, \"#bd3786\"], [0.5555555555555556, \"#d8576b\"], [0.6666666666666666, \"#ed7953\"], [0.7777777777777778, \"#fb9f3a\"], [0.8888888888888888, \"#fdca26\"], [1.0, \"#f0f921\"]], \"type\": \"heatmapgl\"}], \"histogram\": [{\"marker\": {\"colorbar\": {\"outlinewidth\": 0, \"ticks\": \"\"}}, \"type\": \"histogram\"}], \"histogram2d\": [{\"colorbar\": {\"outlinewidth\": 0, \"ticks\": \"\"}, \"colorscale\": [[0.0, \"#0d0887\"], [0.1111111111111111, \"#46039f\"], [0.2222222222222222, \"#7201a8\"], [0.3333333333333333, \"#9c179e\"], [0.4444444444444444, \"#bd3786\"], [0.5555555555555556, \"#d8576b\"], [0.6666666666666666, \"#ed7953\"], [0.7777777777777778, \"#fb9f3a\"], [0.8888888888888888, \"#fdca26\"], [1.0, \"#f0f921\"]], \"type\": \"histogram2d\"}], \"histogram2dcontour\": [{\"colorbar\": {\"outlinewidth\": 0, \"ticks\": \"\"}, \"colorscale\": [[0.0, \"#0d0887\"], [0.1111111111111111, \"#46039f\"], [0.2222222222222222, \"#7201a8\"], [0.3333333333333333, \"#9c179e\"], [0.4444444444444444, \"#bd3786\"], [0.5555555555555556, \"#d8576b\"], [0.6666666666666666, \"#ed7953\"], [0.7777777777777778, \"#fb9f3a\"], [0.8888888888888888, \"#fdca26\"], [1.0, \"#f0f921\"]], \"type\": \"histogram2dcontour\"}], \"mesh3d\": [{\"colorbar\": {\"outlinewidth\": 0, \"ticks\": \"\"}, \"type\": \"mesh3d\"}], \"parcoords\": [{\"line\": {\"colorbar\": {\"outlinewidth\": 0, \"ticks\": \"\"}}, \"type\": \"parcoords\"}], \"pie\": [{\"automargin\": true, \"type\": \"pie\"}], \"scatter\": [{\"marker\": {\"colorbar\": {\"outlinewidth\": 0, \"ticks\": \"\"}}, \"type\": \"scatter\"}], \"scatter3d\": [{\"line\": {\"colorbar\": {\"outlinewidth\": 0, \"ticks\": \"\"}}, \"marker\": {\"colorbar\": {\"outlinewidth\": 0, \"ticks\": \"\"}}, \"type\": \"scatter3d\"}], \"scattercarpet\": [{\"marker\": {\"colorbar\": {\"outlinewidth\": 0, \"ticks\": \"\"}}, \"type\": \"scattercarpet\"}], \"scattergeo\": [{\"marker\": {\"colorbar\": {\"outlinewidth\": 0, \"ticks\": \"\"}}, \"type\": \"scattergeo\"}], \"scattergl\": [{\"marker\": {\"colorbar\": {\"outlinewidth\": 0, \"ticks\": \"\"}}, \"type\": \"scattergl\"}], \"scattermapbox\": [{\"marker\": {\"colorbar\": {\"outlinewidth\": 0, \"ticks\": \"\"}}, \"type\": \"scattermapbox\"}], \"scatterpolar\": [{\"marker\": {\"colorbar\": {\"outlinewidth\": 0, \"ticks\": \"\"}}, \"type\": \"scatterpolar\"}], \"scatterpolargl\": [{\"marker\": {\"colorbar\": {\"outlinewidth\": 0, \"ticks\": \"\"}}, \"type\": \"scatterpolargl\"}], \"scatterternary\": [{\"marker\": {\"colorbar\": {\"outlinewidth\": 0, \"ticks\": \"\"}}, \"type\": \"scatterternary\"}], \"surface\": [{\"colorbar\": {\"outlinewidth\": 0, \"ticks\": \"\"}, \"colorscale\": [[0.0, \"#0d0887\"], [0.1111111111111111, \"#46039f\"], [0.2222222222222222, \"#7201a8\"], [0.3333333333333333, \"#9c179e\"], [0.4444444444444444, \"#bd3786\"], [0.5555555555555556, \"#d8576b\"], [0.6666666666666666, \"#ed7953\"], [0.7777777777777778, \"#fb9f3a\"], [0.8888888888888888, \"#fdca26\"], [1.0, \"#f0f921\"]], \"type\": \"surface\"}], \"table\": [{\"cells\": {\"fill\": {\"color\": \"#EBF0F8\"}, \"line\": {\"color\": \"white\"}}, \"header\": {\"fill\": {\"color\": \"#C8D4E3\"}, \"line\": {\"color\": \"white\"}}, \"type\": \"table\"}]}, \"layout\": {\"annotationdefaults\": {\"arrowcolor\": \"#2a3f5f\", \"arrowhead\": 0, \"arrowwidth\": 1}, \"coloraxis\": {\"colorbar\": {\"outlinewidth\": 0, \"ticks\": \"\"}}, \"colorscale\": {\"diverging\": [[0, \"#8e0152\"], [0.1, \"#c51b7d\"], [0.2, \"#de77ae\"], [0.3, \"#f1b6da\"], [0.4, \"#fde0ef\"], [0.5, \"#f7f7f7\"], [0.6, \"#e6f5d0\"], [0.7, \"#b8e186\"], [0.8, \"#7fbc41\"], [0.9, \"#4d9221\"], [1, \"#276419\"]], \"sequential\": [[0.0, \"#0d0887\"], [0.1111111111111111, \"#46039f\"], [0.2222222222222222, \"#7201a8\"], [0.3333333333333333, \"#9c179e\"], [0.4444444444444444, \"#bd3786\"], [0.5555555555555556, \"#d8576b\"], [0.6666666666666666, \"#ed7953\"], [0.7777777777777778, \"#fb9f3a\"], [0.8888888888888888, \"#fdca26\"], [1.0, \"#f0f921\"]], \"sequentialminus\": [[0.0, \"#0d0887\"], [0.1111111111111111, \"#46039f\"], [0.2222222222222222, \"#7201a8\"], [0.3333333333333333, \"#9c179e\"], [0.4444444444444444, \"#bd3786\"], [0.5555555555555556, \"#d8576b\"], [0.6666666666666666, \"#ed7953\"], [0.7777777777777778, \"#fb9f3a\"], [0.8888888888888888, \"#fdca26\"], [1.0, \"#f0f921\"]]}, \"colorway\": [\"#636efa\", \"#EF553B\", \"#00cc96\", \"#ab63fa\", \"#FFA15A\", \"#19d3f3\", \"#FF6692\", \"#B6E880\", \"#FF97FF\", \"#FECB52\"], \"font\": {\"color\": \"#2a3f5f\"}, \"geo\": {\"bgcolor\": \"white\", \"lakecolor\": \"white\", \"landcolor\": \"#E5ECF6\", \"showlakes\": true, \"showland\": true, \"subunitcolor\": \"white\"}, \"hoverlabel\": {\"align\": \"left\"}, \"hovermode\": \"closest\", \"mapbox\": {\"style\": \"light\"}, \"paper_bgcolor\": \"white\", \"plot_bgcolor\": \"#E5ECF6\", \"polar\": {\"angularaxis\": {\"gridcolor\": \"white\", \"linecolor\": \"white\", \"ticks\": \"\"}, \"bgcolor\": \"#E5ECF6\", \"radialaxis\": {\"gridcolor\": \"white\", \"linecolor\": \"white\", \"ticks\": \"\"}}, \"scene\": {\"xaxis\": {\"backgroundcolor\": \"#E5ECF6\", \"gridcolor\": \"white\", \"gridwidth\": 2, \"linecolor\": \"white\", \"showbackground\": true, \"ticks\": \"\", \"zerolinecolor\": \"white\"}, \"yaxis\": {\"backgroundcolor\": \"#E5ECF6\", \"gridcolor\": \"white\", \"gridwidth\": 2, \"linecolor\": \"white\", \"showbackground\": true, \"ticks\": \"\", \"zerolinecolor\": \"white\"}, \"zaxis\": {\"backgroundcolor\": \"#E5ECF6\", \"gridcolor\": \"white\", \"gridwidth\": 2, \"linecolor\": \"white\", \"showbackground\": true, \"ticks\": \"\", \"zerolinecolor\": \"white\"}}, \"shapedefaults\": {\"line\": {\"color\": \"#2a3f5f\"}}, \"ternary\": {\"aaxis\": {\"gridcolor\": \"white\", \"linecolor\": \"white\", \"ticks\": \"\"}, \"baxis\": {\"gridcolor\": \"white\", \"linecolor\": \"white\", \"ticks\": \"\"}, \"bgcolor\": \"#E5ECF6\", \"caxis\": {\"gridcolor\": \"white\", \"linecolor\": \"white\", \"ticks\": \"\"}}, \"title\": {\"x\": 0.05}, \"xaxis\": {\"automargin\": true, \"gridcolor\": \"white\", \"linecolor\": \"white\", \"ticks\": \"\", \"title\": {\"standoff\": 15}, \"zerolinecolor\": \"white\", \"zerolinewidth\": 2}, \"yaxis\": {\"automargin\": true, \"gridcolor\": \"white\", \"linecolor\": \"white\", \"ticks\": \"\", \"title\": {\"standoff\": 15}, \"zerolinecolor\": \"white\", \"zerolinewidth\": 2}}}, \"title\": {\"text\": \"SPY Expiration:2020-05-27, Strike: 296.0000, Time:2020-05-22 12:55\"}, \"xaxis\": {\"title\": {\"text\": \"Date\"}}, \"yaxis\": {\"title\": {\"text\": \"Stock Price\"}}},\n",
       "                        {\"responsive\": true}\n",
       "                    ).then(function(){\n",
       "                            \n",
       "var gd = document.getElementById('ac262929-d8e0-4a87-a57b-470cbd0649c2');\n",
       "var x = new MutationObserver(function (mutations, observer) {{\n",
       "        var display = window.getComputedStyle(gd).display;\n",
       "        if (!display || display === 'none') {{\n",
       "            console.log([gd, 'removed!']);\n",
       "            Plotly.purge(gd);\n",
       "            observer.disconnect();\n",
       "        }}\n",
       "}});\n",
       "\n",
       "// Listen for the removal of the full notebook cells\n",
       "var notebookContainer = gd.closest('#notebook-container');\n",
       "if (notebookContainer) {{\n",
       "    x.observe(notebookContainer, {childList: true});\n",
       "}}\n",
       "\n",
       "// Listen for the clearing of the current output cell\n",
       "var outputEl = gd.closest('.output');\n",
       "if (outputEl) {{\n",
       "    x.observe(outputEl, {childList: true});\n",
       "}}\n",
       "\n",
       "                        })\n",
       "                };\n",
       "                });\n",
       "            </script>\n",
       "        </div>"
      ]
     },
     "metadata": {},
     "output_type": "display_data"
    }
   ],
   "source": [
    "optionType = 'call'\n",
    "span = 'day'\n",
    "strike_price = dfstrike_prices.iloc[0].strike_price\n",
    "plotStrikePriceforExpiration(strike_price,optionType,span)\n",
    "plotStockPriceforExpiration(strike_price,optionType,span)"
   ]
  },
  {
   "cell_type": "code",
   "execution_count": 38,
   "metadata": {},
   "outputs": [
    {
     "name": "stdout",
     "output_type": "stream",
     "text": [
      "*.............................................\n",
      "Max-Min:3.03, Percent:187%\n"
     ]
    },
    {
     "data": {
      "text/html": [
       "<div>\n",
       "        \n",
       "        \n",
       "            <div id=\"4e5b9499-866b-4875-9543-e0f751d6277d\" class=\"plotly-graph-div\" style=\"height:525px; width:100%;\"></div>\n",
       "            <script type=\"text/javascript\">\n",
       "                require([\"plotly\"], function(Plotly) {\n",
       "                    window.PLOTLYENV=window.PLOTLYENV || {};\n",
       "                    \n",
       "                if (document.getElementById(\"4e5b9499-866b-4875-9543-e0f751d6277d\")) {\n",
       "                    Plotly.newPlot(\n",
       "                        '4e5b9499-866b-4875-9543-e0f751d6277d',\n",
       "                        [{\"hoverlabel\": {\"namelength\": 0}, \"hovertemplate\": \"x=%{x}<br>y=%{y}\", \"legendgroup\": \"\", \"line\": {\"color\": \"#636efa\", \"dash\": \"solid\"}, \"mode\": \"lines\", \"name\": \"\", \"showlegend\": false, \"type\": \"scatter\", \"x\": [\"2020-05-18T13:30:00Z\", \"2020-05-18T13:40:00Z\", \"2020-05-18T13:50:00Z\", \"2020-05-18T14:00:00Z\", \"2020-05-18T14:10:00Z\", \"2020-05-18T14:20:00Z\", \"2020-05-18T14:30:00Z\", \"2020-05-18T14:40:00Z\", \"2020-05-18T14:50:00Z\", \"2020-05-18T15:00:00Z\", \"2020-05-18T15:10:00Z\", \"2020-05-18T15:20:00Z\", \"2020-05-18T15:30:00Z\", \"2020-05-18T15:40:00Z\", \"2020-05-18T15:50:00Z\", \"2020-05-18T16:00:00Z\", \"2020-05-18T16:10:00Z\", \"2020-05-18T16:20:00Z\", \"2020-05-18T16:30:00Z\", \"2020-05-18T16:40:00Z\", \"2020-05-18T16:50:00Z\", \"2020-05-18T17:00:00Z\", \"2020-05-18T17:10:00Z\", \"2020-05-18T17:20:00Z\", \"2020-05-18T17:30:00Z\", \"2020-05-18T17:40:00Z\", \"2020-05-18T17:50:00Z\", \"2020-05-18T18:00:00Z\", \"2020-05-18T18:10:00Z\", \"2020-05-18T18:20:00Z\", \"2020-05-18T18:30:00Z\", \"2020-05-18T18:40:00Z\", \"2020-05-18T18:50:00Z\", \"2020-05-18T19:00:00Z\", \"2020-05-18T19:10:00Z\", \"2020-05-18T19:20:00Z\", \"2020-05-18T19:30:00Z\", \"2020-05-18T19:40:00Z\", \"2020-05-18T19:50:00Z\", \"2020-05-19T13:30:00Z\", \"2020-05-19T13:40:00Z\", \"2020-05-19T13:50:00Z\", \"2020-05-19T14:00:00Z\", \"2020-05-19T14:10:00Z\", \"2020-05-19T14:20:00Z\", \"2020-05-19T14:30:00Z\", \"2020-05-19T14:40:00Z\", \"2020-05-19T14:50:00Z\", \"2020-05-19T15:00:00Z\", \"2020-05-19T15:10:00Z\", \"2020-05-19T15:20:00Z\", \"2020-05-19T15:30:00Z\", \"2020-05-19T15:40:00Z\", \"2020-05-19T15:50:00Z\", \"2020-05-19T16:00:00Z\", \"2020-05-19T16:10:00Z\", \"2020-05-19T16:20:00Z\", \"2020-05-19T16:30:00Z\", \"2020-05-19T16:40:00Z\", \"2020-05-19T16:50:00Z\", \"2020-05-19T17:00:00Z\", \"2020-05-19T17:10:00Z\", \"2020-05-19T17:20:00Z\", \"2020-05-19T17:30:00Z\", \"2020-05-19T17:40:00Z\", \"2020-05-19T17:50:00Z\", \"2020-05-19T18:00:00Z\", \"2020-05-19T18:10:00Z\", \"2020-05-19T18:20:00Z\", \"2020-05-19T18:30:00Z\", \"2020-05-19T18:40:00Z\", \"2020-05-19T18:50:00Z\", \"2020-05-19T19:00:00Z\", \"2020-05-19T19:10:00Z\", \"2020-05-19T19:20:00Z\", \"2020-05-19T19:30:00Z\", \"2020-05-19T19:40:00Z\", \"2020-05-19T19:50:00Z\", \"2020-05-20T13:30:00Z\", \"2020-05-20T13:40:00Z\", \"2020-05-20T13:50:00Z\", \"2020-05-20T14:00:00Z\", \"2020-05-20T14:10:00Z\", \"2020-05-20T14:20:00Z\", \"2020-05-20T14:30:00Z\", \"2020-05-20T14:40:00Z\", \"2020-05-20T14:50:00Z\", \"2020-05-20T15:00:00Z\", \"2020-05-20T15:10:00Z\", \"2020-05-20T15:20:00Z\", \"2020-05-20T15:30:00Z\", \"2020-05-20T15:40:00Z\", \"2020-05-20T15:50:00Z\", \"2020-05-20T16:00:00Z\", \"2020-05-20T16:10:00Z\", \"2020-05-20T16:20:00Z\", \"2020-05-20T16:30:00Z\", \"2020-05-20T16:40:00Z\", \"2020-05-20T16:50:00Z\", \"2020-05-20T17:00:00Z\", \"2020-05-20T17:10:00Z\", \"2020-05-20T17:20:00Z\", \"2020-05-20T17:30:00Z\", \"2020-05-20T17:40:00Z\", \"2020-05-20T17:50:00Z\", \"2020-05-20T18:00:00Z\", \"2020-05-20T18:10:00Z\", \"2020-05-20T18:20:00Z\", \"2020-05-20T18:30:00Z\", \"2020-05-20T18:40:00Z\", \"2020-05-20T18:50:00Z\", \"2020-05-20T19:00:00Z\", \"2020-05-20T19:10:00Z\", \"2020-05-20T19:20:00Z\", \"2020-05-20T19:30:00Z\", \"2020-05-20T19:40:00Z\", \"2020-05-20T19:50:00Z\", \"2020-05-21T13:30:00Z\", \"2020-05-21T13:40:00Z\", \"2020-05-21T13:50:00Z\", \"2020-05-21T14:00:00Z\", \"2020-05-21T14:10:00Z\", \"2020-05-21T14:20:00Z\", \"2020-05-21T14:30:00Z\", \"2020-05-21T14:40:00Z\", \"2020-05-21T14:50:00Z\", \"2020-05-21T15:00:00Z\", \"2020-05-21T15:10:00Z\", \"2020-05-21T15:20:00Z\", \"2020-05-21T15:30:00Z\", \"2020-05-21T15:40:00Z\", \"2020-05-21T15:50:00Z\", \"2020-05-21T16:00:00Z\", \"2020-05-21T16:10:00Z\", \"2020-05-21T16:20:00Z\", \"2020-05-21T16:30:00Z\", \"2020-05-21T16:40:00Z\", \"2020-05-21T16:50:00Z\", \"2020-05-21T17:00:00Z\", \"2020-05-21T17:10:00Z\", \"2020-05-21T17:20:00Z\", \"2020-05-21T17:30:00Z\", \"2020-05-21T17:40:00Z\", \"2020-05-21T17:50:00Z\", \"2020-05-21T18:00:00Z\", \"2020-05-21T18:10:00Z\", \"2020-05-21T18:20:00Z\", \"2020-05-21T18:30:00Z\", \"2020-05-21T18:40:00Z\", \"2020-05-21T18:50:00Z\", \"2020-05-21T19:00:00Z\", \"2020-05-21T19:10:00Z\", \"2020-05-21T19:20:00Z\", \"2020-05-21T19:30:00Z\", \"2020-05-21T19:40:00Z\", \"2020-05-21T19:50:00Z\", \"2020-05-22T13:30:00Z\", \"2020-05-22T13:40:00Z\", \"2020-05-22T13:50:00Z\", \"2020-05-22T14:00:00Z\", \"2020-05-22T14:10:00Z\", \"2020-05-22T14:20:00Z\", \"2020-05-22T14:30:00Z\", \"2020-05-22T14:40:00Z\", \"2020-05-22T14:50:00Z\", \"2020-05-22T15:00:00Z\", \"2020-05-22T15:10:00Z\", \"2020-05-22T15:20:00Z\", \"2020-05-22T15:30:00Z\", \"2020-05-22T15:40:00Z\", \"2020-05-22T15:50:00Z\", \"2020-05-22T16:00:00Z\", \"2020-05-22T16:10:00Z\", \"2020-05-22T16:20:00Z\", \"2020-05-22T16:30:00Z\", \"2020-05-22T16:40:00Z\", \"2020-05-22T16:50:00Z\", \"2020-05-22T17:00:00Z\", \"2020-05-22T17:10:00Z\", \"2020-05-22T17:20:00Z\", \"2020-05-22T17:30:00Z\", \"2020-05-22T17:40:00Z\", \"2020-05-22T17:50:00Z\", \"2020-05-22T18:00:00Z\", \"2020-05-22T18:10:00Z\", \"2020-05-22T18:20:00Z\", \"2020-05-22T18:30:00Z\", \"2020-05-22T18:40:00Z\", \"2020-05-22T18:50:00Z\", \"2020-05-22T19:00:00Z\", \"2020-05-22T19:10:00Z\", \"2020-05-22T19:20:00Z\", \"2020-05-22T19:30:00Z\", \"2020-05-22T19:40:00Z\", \"2020-05-22T19:50:00Z\"], \"xaxis\": \"x\", \"y\": [3.04, 3.15, 3.01, 2.91, 2.95, 3.0, 3.1, 3.34, 3.47, 3.61, 3.75, 3.97, 3.85, 3.92, 3.75, 3.78, 3.68, 3.64, 3.64, 3.64, 3.58, 3.75, 3.86, 4.02, 4.04, 3.93, 3.91, 4.04, 3.93, 3.95, 4.02, 4.14, 4.0, 4.09, 4.0, 4.02, 4.28, 4.43, 4.44, 3.11, 3.14, 3.26, 3.75, 3.85, 3.55, 3.58, 3.4, 3.62, 3.64, 3.66, 3.75, 3.84, 3.78, 3.66, 3.64, 3.64, 3.52, 3.5, 3.47, 3.47, 3.5, 3.52, 3.53, 3.55, 3.6, 3.57, 3.71, 3.74, 3.76, 3.7, 3.84, 3.83, 3.37, 3.76, 3.36, 3.31, 3.0, 2.97, 3.65, 3.97, 3.98, 4.08, 4.31, 4.44, 4.42, 4.44, 4.38, 4.3, 4.55, 4.65, 4.65, 4.64, 4.65, 4.55, 4.24, 4.14, 4.2, 4.12, 4.1, 4.13, 4.0, 3.9, 3.96, 4.05, 4.03, 4.09, 3.87, 3.89, 4.01, 4.08, 4.31, 4.2, 4.06, 4.16, 4.17, 4.19, 4.08, 3.9, 4.09, 3.93, 3.9, 3.83, 3.94, 3.6, 3.43, 3.46, 3.26, 2.97, 2.72, 2.86, 2.97, 2.95, 3.17, 3.17, 3.21, 2.98, 3.04, 3.02, 3.19, 3.07, 2.93, 2.98, 2.97, 2.96, 3.04, 3.03, 3.08, 3.05, 2.79, 2.74, 2.92, 2.97, 2.98, 2.89, 2.84, 2.77, 1.8, 2.03, 2.1, 2.1, 1.93, 2.06, 2.14, 2.13, 1.94, 1.83, 1.87, 1.87, 1.89, 1.86, 1.87, 1.87, 1.78, 1.78, 1.97, 1.99, 1.95, 1.95, 1.9, 1.99, 1.95, 1.95, 1.98, 2.22, 2.22, 2.12, 2.24, 2.24, 2.06, 2.15, 2.14, 1.95, 2.04, 2.13, 2.22], \"yaxis\": \"y\"}],\n",
       "                        {\"font\": {\"color\": \"#7f7f7f\", \"family\": \"Courier New, monospace\", \"size\": 18}, \"legend\": {\"tracegroupgap\": 0}, \"margin\": {\"t\": 60}, \"template\": {\"data\": {\"bar\": [{\"error_x\": {\"color\": \"#2a3f5f\"}, \"error_y\": {\"color\": \"#2a3f5f\"}, \"marker\": {\"line\": {\"color\": \"#E5ECF6\", \"width\": 0.5}}, \"type\": \"bar\"}], \"barpolar\": [{\"marker\": {\"line\": {\"color\": \"#E5ECF6\", \"width\": 0.5}}, \"type\": \"barpolar\"}], \"carpet\": [{\"aaxis\": {\"endlinecolor\": \"#2a3f5f\", \"gridcolor\": \"white\", \"linecolor\": \"white\", \"minorgridcolor\": \"white\", \"startlinecolor\": \"#2a3f5f\"}, \"baxis\": {\"endlinecolor\": \"#2a3f5f\", \"gridcolor\": \"white\", \"linecolor\": \"white\", \"minorgridcolor\": \"white\", \"startlinecolor\": \"#2a3f5f\"}, \"type\": \"carpet\"}], \"choropleth\": [{\"colorbar\": {\"outlinewidth\": 0, \"ticks\": \"\"}, \"type\": \"choropleth\"}], \"contour\": [{\"colorbar\": {\"outlinewidth\": 0, \"ticks\": \"\"}, \"colorscale\": [[0.0, \"#0d0887\"], [0.1111111111111111, \"#46039f\"], [0.2222222222222222, \"#7201a8\"], [0.3333333333333333, \"#9c179e\"], [0.4444444444444444, \"#bd3786\"], [0.5555555555555556, \"#d8576b\"], [0.6666666666666666, \"#ed7953\"], [0.7777777777777778, \"#fb9f3a\"], [0.8888888888888888, \"#fdca26\"], [1.0, \"#f0f921\"]], \"type\": \"contour\"}], \"contourcarpet\": [{\"colorbar\": {\"outlinewidth\": 0, \"ticks\": \"\"}, \"type\": \"contourcarpet\"}], \"heatmap\": [{\"colorbar\": {\"outlinewidth\": 0, \"ticks\": \"\"}, \"colorscale\": [[0.0, \"#0d0887\"], [0.1111111111111111, \"#46039f\"], [0.2222222222222222, \"#7201a8\"], [0.3333333333333333, \"#9c179e\"], [0.4444444444444444, \"#bd3786\"], [0.5555555555555556, \"#d8576b\"], [0.6666666666666666, \"#ed7953\"], [0.7777777777777778, \"#fb9f3a\"], [0.8888888888888888, \"#fdca26\"], [1.0, \"#f0f921\"]], \"type\": \"heatmap\"}], \"heatmapgl\": [{\"colorbar\": {\"outlinewidth\": 0, \"ticks\": \"\"}, \"colorscale\": [[0.0, \"#0d0887\"], [0.1111111111111111, \"#46039f\"], [0.2222222222222222, \"#7201a8\"], [0.3333333333333333, \"#9c179e\"], [0.4444444444444444, \"#bd3786\"], [0.5555555555555556, \"#d8576b\"], [0.6666666666666666, \"#ed7953\"], [0.7777777777777778, \"#fb9f3a\"], [0.8888888888888888, \"#fdca26\"], [1.0, \"#f0f921\"]], \"type\": \"heatmapgl\"}], \"histogram\": [{\"marker\": {\"colorbar\": {\"outlinewidth\": 0, \"ticks\": \"\"}}, \"type\": \"histogram\"}], \"histogram2d\": [{\"colorbar\": {\"outlinewidth\": 0, \"ticks\": \"\"}, \"colorscale\": [[0.0, \"#0d0887\"], [0.1111111111111111, \"#46039f\"], [0.2222222222222222, \"#7201a8\"], [0.3333333333333333, \"#9c179e\"], [0.4444444444444444, \"#bd3786\"], [0.5555555555555556, \"#d8576b\"], [0.6666666666666666, \"#ed7953\"], [0.7777777777777778, \"#fb9f3a\"], [0.8888888888888888, \"#fdca26\"], [1.0, \"#f0f921\"]], \"type\": \"histogram2d\"}], \"histogram2dcontour\": [{\"colorbar\": {\"outlinewidth\": 0, \"ticks\": \"\"}, \"colorscale\": [[0.0, \"#0d0887\"], [0.1111111111111111, \"#46039f\"], [0.2222222222222222, \"#7201a8\"], [0.3333333333333333, \"#9c179e\"], [0.4444444444444444, \"#bd3786\"], [0.5555555555555556, \"#d8576b\"], [0.6666666666666666, \"#ed7953\"], [0.7777777777777778, \"#fb9f3a\"], [0.8888888888888888, \"#fdca26\"], [1.0, \"#f0f921\"]], \"type\": \"histogram2dcontour\"}], \"mesh3d\": [{\"colorbar\": {\"outlinewidth\": 0, \"ticks\": \"\"}, \"type\": \"mesh3d\"}], \"parcoords\": [{\"line\": {\"colorbar\": {\"outlinewidth\": 0, \"ticks\": \"\"}}, \"type\": \"parcoords\"}], \"pie\": [{\"automargin\": true, \"type\": \"pie\"}], \"scatter\": [{\"marker\": {\"colorbar\": {\"outlinewidth\": 0, \"ticks\": \"\"}}, \"type\": \"scatter\"}], \"scatter3d\": [{\"line\": {\"colorbar\": {\"outlinewidth\": 0, \"ticks\": \"\"}}, \"marker\": {\"colorbar\": {\"outlinewidth\": 0, \"ticks\": \"\"}}, \"type\": \"scatter3d\"}], \"scattercarpet\": [{\"marker\": {\"colorbar\": {\"outlinewidth\": 0, \"ticks\": \"\"}}, \"type\": \"scattercarpet\"}], \"scattergeo\": [{\"marker\": {\"colorbar\": {\"outlinewidth\": 0, \"ticks\": \"\"}}, \"type\": \"scattergeo\"}], \"scattergl\": [{\"marker\": {\"colorbar\": {\"outlinewidth\": 0, \"ticks\": \"\"}}, \"type\": \"scattergl\"}], \"scattermapbox\": [{\"marker\": {\"colorbar\": {\"outlinewidth\": 0, \"ticks\": \"\"}}, \"type\": \"scattermapbox\"}], \"scatterpolar\": [{\"marker\": {\"colorbar\": {\"outlinewidth\": 0, \"ticks\": \"\"}}, \"type\": \"scatterpolar\"}], \"scatterpolargl\": [{\"marker\": {\"colorbar\": {\"outlinewidth\": 0, \"ticks\": \"\"}}, \"type\": \"scatterpolargl\"}], \"scatterternary\": [{\"marker\": {\"colorbar\": {\"outlinewidth\": 0, \"ticks\": \"\"}}, \"type\": \"scatterternary\"}], \"surface\": [{\"colorbar\": {\"outlinewidth\": 0, \"ticks\": \"\"}, \"colorscale\": [[0.0, \"#0d0887\"], [0.1111111111111111, \"#46039f\"], [0.2222222222222222, \"#7201a8\"], [0.3333333333333333, \"#9c179e\"], [0.4444444444444444, \"#bd3786\"], [0.5555555555555556, \"#d8576b\"], [0.6666666666666666, \"#ed7953\"], [0.7777777777777778, \"#fb9f3a\"], [0.8888888888888888, \"#fdca26\"], [1.0, \"#f0f921\"]], \"type\": \"surface\"}], \"table\": [{\"cells\": {\"fill\": {\"color\": \"#EBF0F8\"}, \"line\": {\"color\": \"white\"}}, \"header\": {\"fill\": {\"color\": \"#C8D4E3\"}, \"line\": {\"color\": \"white\"}}, \"type\": \"table\"}]}, \"layout\": {\"annotationdefaults\": {\"arrowcolor\": \"#2a3f5f\", \"arrowhead\": 0, \"arrowwidth\": 1}, \"coloraxis\": {\"colorbar\": {\"outlinewidth\": 0, \"ticks\": \"\"}}, \"colorscale\": {\"diverging\": [[0, \"#8e0152\"], [0.1, \"#c51b7d\"], [0.2, \"#de77ae\"], [0.3, \"#f1b6da\"], [0.4, \"#fde0ef\"], [0.5, \"#f7f7f7\"], [0.6, \"#e6f5d0\"], [0.7, \"#b8e186\"], [0.8, \"#7fbc41\"], [0.9, \"#4d9221\"], [1, \"#276419\"]], \"sequential\": [[0.0, \"#0d0887\"], [0.1111111111111111, \"#46039f\"], [0.2222222222222222, \"#7201a8\"], [0.3333333333333333, \"#9c179e\"], [0.4444444444444444, \"#bd3786\"], [0.5555555555555556, \"#d8576b\"], [0.6666666666666666, \"#ed7953\"], [0.7777777777777778, \"#fb9f3a\"], [0.8888888888888888, \"#fdca26\"], [1.0, \"#f0f921\"]], \"sequentialminus\": [[0.0, \"#0d0887\"], [0.1111111111111111, \"#46039f\"], [0.2222222222222222, \"#7201a8\"], [0.3333333333333333, \"#9c179e\"], [0.4444444444444444, \"#bd3786\"], [0.5555555555555556, \"#d8576b\"], [0.6666666666666666, \"#ed7953\"], [0.7777777777777778, \"#fb9f3a\"], [0.8888888888888888, \"#fdca26\"], [1.0, \"#f0f921\"]]}, \"colorway\": [\"#636efa\", \"#EF553B\", \"#00cc96\", \"#ab63fa\", \"#FFA15A\", \"#19d3f3\", \"#FF6692\", \"#B6E880\", \"#FF97FF\", \"#FECB52\"], \"font\": {\"color\": \"#2a3f5f\"}, \"geo\": {\"bgcolor\": \"white\", \"lakecolor\": \"white\", \"landcolor\": \"#E5ECF6\", \"showlakes\": true, \"showland\": true, \"subunitcolor\": \"white\"}, \"hoverlabel\": {\"align\": \"left\"}, \"hovermode\": \"closest\", \"mapbox\": {\"style\": \"light\"}, \"paper_bgcolor\": \"white\", \"plot_bgcolor\": \"#E5ECF6\", \"polar\": {\"angularaxis\": {\"gridcolor\": \"white\", \"linecolor\": \"white\", \"ticks\": \"\"}, \"bgcolor\": \"#E5ECF6\", \"radialaxis\": {\"gridcolor\": \"white\", \"linecolor\": \"white\", \"ticks\": \"\"}}, \"scene\": {\"xaxis\": {\"backgroundcolor\": \"#E5ECF6\", \"gridcolor\": \"white\", \"gridwidth\": 2, \"linecolor\": \"white\", \"showbackground\": true, \"ticks\": \"\", \"zerolinecolor\": \"white\"}, \"yaxis\": {\"backgroundcolor\": \"#E5ECF6\", \"gridcolor\": \"white\", \"gridwidth\": 2, \"linecolor\": \"white\", \"showbackground\": true, \"ticks\": \"\", \"zerolinecolor\": \"white\"}, \"zaxis\": {\"backgroundcolor\": \"#E5ECF6\", \"gridcolor\": \"white\", \"gridwidth\": 2, \"linecolor\": \"white\", \"showbackground\": true, \"ticks\": \"\", \"zerolinecolor\": \"white\"}}, \"shapedefaults\": {\"line\": {\"color\": \"#2a3f5f\"}}, \"ternary\": {\"aaxis\": {\"gridcolor\": \"white\", \"linecolor\": \"white\", \"ticks\": \"\"}, \"baxis\": {\"gridcolor\": \"white\", \"linecolor\": \"white\", \"ticks\": \"\"}, \"bgcolor\": \"#E5ECF6\", \"caxis\": {\"gridcolor\": \"white\", \"linecolor\": \"white\", \"ticks\": \"\"}}, \"title\": {\"x\": 0.05}, \"xaxis\": {\"automargin\": true, \"gridcolor\": \"white\", \"linecolor\": \"white\", \"ticks\": \"\", \"title\": {\"standoff\": 15}, \"zerolinecolor\": \"white\", \"zerolinewidth\": 2}, \"yaxis\": {\"automargin\": true, \"gridcolor\": \"white\", \"linecolor\": \"white\", \"ticks\": \"\", \"title\": {\"standoff\": 15}, \"zerolinecolor\": \"white\", \"zerolinewidth\": 2}}}, \"title\": {\"text\": \"SPY Expiration:2020-05-27, Strike: 296.0000, Time:2020-05-22 12:50\"}, \"xaxis\": {\"anchor\": \"y\", \"domain\": [0.0, 1.0], \"title\": {\"text\": \"Date\"}}, \"yaxis\": {\"anchor\": \"x\", \"domain\": [0.0, 1.0], \"title\": {\"text\": \"Option price\"}}},\n",
       "                        {\"responsive\": true}\n",
       "                    ).then(function(){\n",
       "                            \n",
       "var gd = document.getElementById('4e5b9499-866b-4875-9543-e0f751d6277d');\n",
       "var x = new MutationObserver(function (mutations, observer) {{\n",
       "        var display = window.getComputedStyle(gd).display;\n",
       "        if (!display || display === 'none') {{\n",
       "            console.log([gd, 'removed!']);\n",
       "            Plotly.purge(gd);\n",
       "            observer.disconnect();\n",
       "        }}\n",
       "}});\n",
       "\n",
       "// Listen for the removal of the full notebook cells\n",
       "var notebookContainer = gd.closest('#notebook-container');\n",
       "if (notebookContainer) {{\n",
       "    x.observe(notebookContainer, {childList: true});\n",
       "}}\n",
       "\n",
       "// Listen for the clearing of the current output cell\n",
       "var outputEl = gd.closest('.output');\n",
       "if (outputEl) {{\n",
       "    x.observe(outputEl, {childList: true});\n",
       "}}\n",
       "\n",
       "                        })\n",
       "                };\n",
       "                });\n",
       "            </script>\n",
       "        </div>"
      ]
     },
     "metadata": {},
     "output_type": "display_data"
    },
    {
     "name": "stdout",
     "output_type": "stream",
     "text": [
      "*.............................................\n",
      "Max-Min:3.03, Percent:187%\n"
     ]
    },
    {
     "data": {
      "text/html": [
       "<div>\n",
       "        \n",
       "        \n",
       "            <div id=\"30009572-0f4e-47ae-a01a-a708a597b102\" class=\"plotly-graph-div\" style=\"height:525px; width:100%;\"></div>\n",
       "            <script type=\"text/javascript\">\n",
       "                require([\"plotly\"], function(Plotly) {\n",
       "                    window.PLOTLYENV=window.PLOTLYENV || {};\n",
       "                    \n",
       "                if (document.getElementById(\"30009572-0f4e-47ae-a01a-a708a597b102\")) {\n",
       "                    Plotly.newPlot(\n",
       "                        '30009572-0f4e-47ae-a01a-a708a597b102',\n",
       "                        [{\"mode\": \"lines\", \"name\": \"stock_price\", \"type\": \"scatter\", \"x\": [\"2020-05-18T13:30:00Z\", \"2020-05-18T13:40:00Z\", \"2020-05-18T13:50:00Z\", \"2020-05-18T14:00:00Z\", \"2020-05-18T14:10:00Z\", \"2020-05-18T14:20:00Z\", \"2020-05-18T14:30:00Z\", \"2020-05-18T14:40:00Z\", \"2020-05-18T14:50:00Z\", \"2020-05-18T15:00:00Z\", \"2020-05-18T15:10:00Z\", \"2020-05-18T15:20:00Z\", \"2020-05-18T15:30:00Z\", \"2020-05-18T15:40:00Z\", \"2020-05-18T15:50:00Z\", \"2020-05-18T16:00:00Z\", \"2020-05-18T16:10:00Z\", \"2020-05-18T16:20:00Z\", \"2020-05-18T16:30:00Z\", \"2020-05-18T16:40:00Z\", \"2020-05-18T16:50:00Z\", \"2020-05-18T17:00:00Z\", \"2020-05-18T17:10:00Z\", \"2020-05-18T17:20:00Z\", \"2020-05-18T17:30:00Z\", \"2020-05-18T17:40:00Z\", \"2020-05-18T17:50:00Z\", \"2020-05-18T18:00:00Z\", \"2020-05-18T18:10:00Z\", \"2020-05-18T18:20:00Z\", \"2020-05-18T18:30:00Z\", \"2020-05-18T18:40:00Z\", \"2020-05-18T18:50:00Z\", \"2020-05-18T19:00:00Z\", \"2020-05-18T19:10:00Z\", \"2020-05-18T19:20:00Z\", \"2020-05-18T19:30:00Z\", \"2020-05-18T19:40:00Z\", \"2020-05-18T19:50:00Z\", \"2020-05-19T13:30:00Z\", \"2020-05-19T13:40:00Z\", \"2020-05-19T13:50:00Z\", \"2020-05-19T14:00:00Z\", \"2020-05-19T14:10:00Z\", \"2020-05-19T14:20:00Z\", \"2020-05-19T14:30:00Z\", \"2020-05-19T14:40:00Z\", \"2020-05-19T14:50:00Z\", \"2020-05-19T15:00:00Z\", \"2020-05-19T15:10:00Z\", \"2020-05-19T15:20:00Z\", \"2020-05-19T15:30:00Z\", \"2020-05-19T15:40:00Z\", \"2020-05-19T15:50:00Z\", \"2020-05-19T16:00:00Z\", \"2020-05-19T16:10:00Z\", \"2020-05-19T16:20:00Z\", \"2020-05-19T16:30:00Z\", \"2020-05-19T16:40:00Z\", \"2020-05-19T16:50:00Z\", \"2020-05-19T17:00:00Z\", \"2020-05-19T17:10:00Z\", \"2020-05-19T17:20:00Z\", \"2020-05-19T17:30:00Z\", \"2020-05-19T17:40:00Z\", \"2020-05-19T17:50:00Z\", \"2020-05-19T18:00:00Z\", \"2020-05-19T18:10:00Z\", \"2020-05-19T18:20:00Z\", \"2020-05-19T18:30:00Z\", \"2020-05-19T18:40:00Z\", \"2020-05-19T18:50:00Z\", \"2020-05-19T19:00:00Z\", \"2020-05-19T19:10:00Z\", \"2020-05-19T19:20:00Z\", \"2020-05-19T19:30:00Z\", \"2020-05-19T19:40:00Z\", \"2020-05-19T19:50:00Z\", \"2020-05-20T13:30:00Z\", \"2020-05-20T13:40:00Z\", \"2020-05-20T13:50:00Z\", \"2020-05-20T14:00:00Z\", \"2020-05-20T14:10:00Z\", \"2020-05-20T14:20:00Z\", \"2020-05-20T14:30:00Z\", \"2020-05-20T14:40:00Z\", \"2020-05-20T14:50:00Z\", \"2020-05-20T15:00:00Z\", \"2020-05-20T15:10:00Z\", \"2020-05-20T15:20:00Z\", \"2020-05-20T15:30:00Z\", \"2020-05-20T15:40:00Z\", \"2020-05-20T15:50:00Z\", \"2020-05-20T16:00:00Z\", \"2020-05-20T16:10:00Z\", \"2020-05-20T16:20:00Z\", \"2020-05-20T16:30:00Z\", \"2020-05-20T16:40:00Z\", \"2020-05-20T16:50:00Z\", \"2020-05-20T17:00:00Z\", \"2020-05-20T17:10:00Z\", \"2020-05-20T17:20:00Z\", \"2020-05-20T17:30:00Z\", \"2020-05-20T17:40:00Z\", \"2020-05-20T17:50:00Z\", \"2020-05-20T18:00:00Z\", \"2020-05-20T18:10:00Z\", \"2020-05-20T18:20:00Z\", \"2020-05-20T18:30:00Z\", \"2020-05-20T18:40:00Z\", \"2020-05-20T18:50:00Z\", \"2020-05-20T19:00:00Z\", \"2020-05-20T19:10:00Z\", \"2020-05-20T19:20:00Z\", \"2020-05-20T19:30:00Z\", \"2020-05-20T19:40:00Z\", \"2020-05-20T19:50:00Z\", \"2020-05-21T13:30:00Z\", \"2020-05-21T13:40:00Z\", \"2020-05-21T13:50:00Z\", \"2020-05-21T14:00:00Z\", \"2020-05-21T14:10:00Z\", \"2020-05-21T14:20:00Z\", \"2020-05-21T14:30:00Z\", \"2020-05-21T14:40:00Z\", \"2020-05-21T14:50:00Z\", \"2020-05-21T15:00:00Z\", \"2020-05-21T15:10:00Z\", \"2020-05-21T15:20:00Z\", \"2020-05-21T15:30:00Z\", \"2020-05-21T15:40:00Z\", \"2020-05-21T15:50:00Z\", \"2020-05-21T16:00:00Z\", \"2020-05-21T16:10:00Z\", \"2020-05-21T16:20:00Z\", \"2020-05-21T16:30:00Z\", \"2020-05-21T16:40:00Z\", \"2020-05-21T16:50:00Z\", \"2020-05-21T17:00:00Z\", \"2020-05-21T17:10:00Z\", \"2020-05-21T17:20:00Z\", \"2020-05-21T17:30:00Z\", \"2020-05-21T17:40:00Z\", \"2020-05-21T17:50:00Z\", \"2020-05-21T18:00:00Z\", \"2020-05-21T18:10:00Z\", \"2020-05-21T18:20:00Z\", \"2020-05-21T18:30:00Z\", \"2020-05-21T18:40:00Z\", \"2020-05-21T18:50:00Z\", \"2020-05-21T19:00:00Z\", \"2020-05-21T19:10:00Z\", \"2020-05-21T19:20:00Z\", \"2020-05-21T19:30:00Z\", \"2020-05-21T19:40:00Z\", \"2020-05-21T19:50:00Z\", \"2020-05-22T13:30:00Z\", \"2020-05-22T13:40:00Z\", \"2020-05-22T13:50:00Z\", \"2020-05-22T14:00:00Z\", \"2020-05-22T14:10:00Z\", \"2020-05-22T14:20:00Z\", \"2020-05-22T14:30:00Z\", \"2020-05-22T14:40:00Z\", \"2020-05-22T14:50:00Z\", \"2020-05-22T15:00:00Z\", \"2020-05-22T15:10:00Z\", \"2020-05-22T15:20:00Z\", \"2020-05-22T15:30:00Z\", \"2020-05-22T15:40:00Z\", \"2020-05-22T15:50:00Z\", \"2020-05-22T16:00:00Z\", \"2020-05-22T16:10:00Z\", \"2020-05-22T16:20:00Z\", \"2020-05-22T16:30:00Z\", \"2020-05-22T16:40:00Z\", \"2020-05-22T16:50:00Z\", \"2020-05-22T17:00:00Z\", \"2020-05-22T17:10:00Z\", \"2020-05-22T17:20:00Z\", \"2020-05-22T17:30:00Z\", \"2020-05-22T17:40:00Z\", \"2020-05-22T17:50:00Z\", \"2020-05-22T18:00:00Z\", \"2020-05-22T18:10:00Z\", \"2020-05-22T18:20:00Z\", \"2020-05-22T18:30:00Z\", \"2020-05-22T18:40:00Z\", \"2020-05-22T18:50:00Z\", \"2020-05-22T19:00:00Z\", \"2020-05-22T19:10:00Z\", \"2020-05-22T19:20:00Z\", \"2020-05-22T19:30:00Z\", \"2020-05-22T19:40:00Z\", \"2020-05-22T19:50:00Z\"], \"y\": [0.0, -0.10000000000000009, -0.26000000000000023, -0.2200000000000002, -0.10000000000000009, -0.20999999999999996, 0.06000000000000005, 0.29000000000000004, 0.3599999999999999, 0.5499999999999998, 0.71, 0.7399999999999998, 0.6499999999999999, 0.6099999999999999, 0.6299999999999999, 0.6299999999999999, 0.45999999999999996, 0.5899999999999999, 0.5699999999999998, 0.43999999999999995, 0.48, 0.6699999999999999, 0.81, 0.9799999999999995, 0.8900000000000001, 0.7999999999999998, 0.8199999999999998, 0.8199999999999998, 0.77, 0.8599999999999999, 0.9500000000000002, 0.9199999999999999, 0.8999999999999999, 0.96, 0.8399999999999999, 0.9500000000000002, 1.21, 1.3399999999999999, 0.5699999999999998, 0.06999999999999984, -0.25, 0.18999999999999995, 0.6699999999999999, 0.3700000000000001, 0.41999999999999993, 0.3599999999999999, 0.25, 0.48999999999999977, 0.54, 0.6099999999999999, 0.7000000000000002, 0.56, 0.5099999999999998, 0.5, 0.5299999999999998, 0.29000000000000004, 0.3900000000000001, 0.21999999999999975, 0.3900000000000001, 0.41000000000000014, 0.3599999999999999, 0.46999999999999975, 0.41999999999999993, 0.5, 0.52, 0.48, 0.6499999999999999, 0.6699999999999999, 0.5499999999999998, 0.6600000000000001, 0.79, -0.10000000000000009, 0.2999999999999998, 0.27, 0.27, -0.16000000000000014, -0.3599999999999999, -0.79, 0.6099999999999999, 0.8799999999999999, 0.81, 1.0099999999999998, 1.21, 1.2699999999999996, 1.3200000000000003, 1.2800000000000002, 1.1600000000000001, 1.25, 1.5, 1.5499999999999998, 1.4400000000000004, 1.5599999999999996, 1.42, 1.1399999999999997, 1.0099999999999998, 1.0700000000000003, 1.0499999999999998, 0.9199999999999999, 1.04, 0.7199999999999998, 0.8300000000000001, 0.7000000000000002, 0.9100000000000001, 0.96, 0.8399999999999999, 0.6699999999999999, 0.6200000000000001, 0.69, 0.8500000000000001, 1.0, 1.08, 0.9199999999999999, 0.81, 1.0899999999999999, 1.08, 0.7399999999999998, 0.9300000000000002, 0.8599999999999999, 0.8799999999999999, 0.7399999999999998, 0.56, 0.69, 0.56, 0.009999999999999787, 0.23999999999999977, 0.21999999999999975, -0.1299999999999999, -0.41999999999999993, -0.3799999999999999, -0.20000000000000018, -0.18999999999999995, -0.27, 0.06000000000000005, -0.03000000000000025, -0.06999999999999984, -0.33000000000000007, -0.06999999999999984, -0.22999999999999998, -0.1200000000000001, -0.1499999999999999, -0.1299999999999999, -0.22999999999999998, -0.14000000000000012, -0.20000000000000018, -0.08999999999999986, -0.10000000000000009, -0.06000000000000005, -0.3500000000000001, -0.4900000000000002, -0.43999999999999995, -0.2400000000000002, -0.10000000000000009, -0.22999999999999998, -0.31000000000000005, -0.29000000000000004, -0.6099999999999999, -1.24, -1.04, -0.98, -1.19, -1.2, -0.98, -0.9900000000000002, -1.21, -1.33, -1.24, -1.17, -1.29, -1.22, -1.21, -1.26, -1.26, -1.29, -1.3, -1.12, -1.17, -1.17, -1.19, -1.18, -1.12, -1.17, -1.18, -1.09, -0.8300000000000001, -0.94, -0.9300000000000002, -0.81, -1.0, -0.9900000000000002, -0.8999999999999999, -1.1400000000000001, -1.17, -1.1, -0.9500000000000002, -0.8799999999999999]}],\n",
       "                        {\"template\": {\"data\": {\"bar\": [{\"error_x\": {\"color\": \"#2a3f5f\"}, \"error_y\": {\"color\": \"#2a3f5f\"}, \"marker\": {\"line\": {\"color\": \"#E5ECF6\", \"width\": 0.5}}, \"type\": \"bar\"}], \"barpolar\": [{\"marker\": {\"line\": {\"color\": \"#E5ECF6\", \"width\": 0.5}}, \"type\": \"barpolar\"}], \"carpet\": [{\"aaxis\": {\"endlinecolor\": \"#2a3f5f\", \"gridcolor\": \"white\", \"linecolor\": \"white\", \"minorgridcolor\": \"white\", \"startlinecolor\": \"#2a3f5f\"}, \"baxis\": {\"endlinecolor\": \"#2a3f5f\", \"gridcolor\": \"white\", \"linecolor\": \"white\", \"minorgridcolor\": \"white\", \"startlinecolor\": \"#2a3f5f\"}, \"type\": \"carpet\"}], \"choropleth\": [{\"colorbar\": {\"outlinewidth\": 0, \"ticks\": \"\"}, \"type\": \"choropleth\"}], \"contour\": [{\"colorbar\": {\"outlinewidth\": 0, \"ticks\": \"\"}, \"colorscale\": [[0.0, \"#0d0887\"], [0.1111111111111111, \"#46039f\"], [0.2222222222222222, \"#7201a8\"], [0.3333333333333333, \"#9c179e\"], [0.4444444444444444, \"#bd3786\"], [0.5555555555555556, \"#d8576b\"], [0.6666666666666666, \"#ed7953\"], [0.7777777777777778, \"#fb9f3a\"], [0.8888888888888888, \"#fdca26\"], [1.0, \"#f0f921\"]], \"type\": \"contour\"}], \"contourcarpet\": [{\"colorbar\": {\"outlinewidth\": 0, \"ticks\": \"\"}, \"type\": \"contourcarpet\"}], \"heatmap\": [{\"colorbar\": {\"outlinewidth\": 0, \"ticks\": \"\"}, \"colorscale\": [[0.0, \"#0d0887\"], [0.1111111111111111, \"#46039f\"], [0.2222222222222222, \"#7201a8\"], [0.3333333333333333, \"#9c179e\"], [0.4444444444444444, \"#bd3786\"], [0.5555555555555556, \"#d8576b\"], [0.6666666666666666, \"#ed7953\"], [0.7777777777777778, \"#fb9f3a\"], [0.8888888888888888, \"#fdca26\"], [1.0, \"#f0f921\"]], \"type\": \"heatmap\"}], \"heatmapgl\": [{\"colorbar\": {\"outlinewidth\": 0, \"ticks\": \"\"}, \"colorscale\": [[0.0, \"#0d0887\"], [0.1111111111111111, \"#46039f\"], [0.2222222222222222, \"#7201a8\"], [0.3333333333333333, \"#9c179e\"], [0.4444444444444444, \"#bd3786\"], [0.5555555555555556, \"#d8576b\"], [0.6666666666666666, \"#ed7953\"], [0.7777777777777778, \"#fb9f3a\"], [0.8888888888888888, \"#fdca26\"], [1.0, \"#f0f921\"]], \"type\": \"heatmapgl\"}], \"histogram\": [{\"marker\": {\"colorbar\": {\"outlinewidth\": 0, \"ticks\": \"\"}}, \"type\": \"histogram\"}], \"histogram2d\": [{\"colorbar\": {\"outlinewidth\": 0, \"ticks\": \"\"}, \"colorscale\": [[0.0, \"#0d0887\"], [0.1111111111111111, \"#46039f\"], [0.2222222222222222, \"#7201a8\"], [0.3333333333333333, \"#9c179e\"], [0.4444444444444444, \"#bd3786\"], [0.5555555555555556, \"#d8576b\"], [0.6666666666666666, \"#ed7953\"], [0.7777777777777778, \"#fb9f3a\"], [0.8888888888888888, \"#fdca26\"], [1.0, \"#f0f921\"]], \"type\": \"histogram2d\"}], \"histogram2dcontour\": [{\"colorbar\": {\"outlinewidth\": 0, \"ticks\": \"\"}, \"colorscale\": [[0.0, \"#0d0887\"], [0.1111111111111111, \"#46039f\"], [0.2222222222222222, \"#7201a8\"], [0.3333333333333333, \"#9c179e\"], [0.4444444444444444, \"#bd3786\"], [0.5555555555555556, \"#d8576b\"], [0.6666666666666666, \"#ed7953\"], [0.7777777777777778, \"#fb9f3a\"], [0.8888888888888888, \"#fdca26\"], [1.0, \"#f0f921\"]], \"type\": \"histogram2dcontour\"}], \"mesh3d\": [{\"colorbar\": {\"outlinewidth\": 0, \"ticks\": \"\"}, \"type\": \"mesh3d\"}], \"parcoords\": [{\"line\": {\"colorbar\": {\"outlinewidth\": 0, \"ticks\": \"\"}}, \"type\": \"parcoords\"}], \"pie\": [{\"automargin\": true, \"type\": \"pie\"}], \"scatter\": [{\"marker\": {\"colorbar\": {\"outlinewidth\": 0, \"ticks\": \"\"}}, \"type\": \"scatter\"}], \"scatter3d\": [{\"line\": {\"colorbar\": {\"outlinewidth\": 0, \"ticks\": \"\"}}, \"marker\": {\"colorbar\": {\"outlinewidth\": 0, \"ticks\": \"\"}}, \"type\": \"scatter3d\"}], \"scattercarpet\": [{\"marker\": {\"colorbar\": {\"outlinewidth\": 0, \"ticks\": \"\"}}, \"type\": \"scattercarpet\"}], \"scattergeo\": [{\"marker\": {\"colorbar\": {\"outlinewidth\": 0, \"ticks\": \"\"}}, \"type\": \"scattergeo\"}], \"scattergl\": [{\"marker\": {\"colorbar\": {\"outlinewidth\": 0, \"ticks\": \"\"}}, \"type\": \"scattergl\"}], \"scattermapbox\": [{\"marker\": {\"colorbar\": {\"outlinewidth\": 0, \"ticks\": \"\"}}, \"type\": \"scattermapbox\"}], \"scatterpolar\": [{\"marker\": {\"colorbar\": {\"outlinewidth\": 0, \"ticks\": \"\"}}, \"type\": \"scatterpolar\"}], \"scatterpolargl\": [{\"marker\": {\"colorbar\": {\"outlinewidth\": 0, \"ticks\": \"\"}}, \"type\": \"scatterpolargl\"}], \"scatterternary\": [{\"marker\": {\"colorbar\": {\"outlinewidth\": 0, \"ticks\": \"\"}}, \"type\": \"scatterternary\"}], \"surface\": [{\"colorbar\": {\"outlinewidth\": 0, \"ticks\": \"\"}, \"colorscale\": [[0.0, \"#0d0887\"], [0.1111111111111111, \"#46039f\"], [0.2222222222222222, \"#7201a8\"], [0.3333333333333333, \"#9c179e\"], [0.4444444444444444, \"#bd3786\"], [0.5555555555555556, \"#d8576b\"], [0.6666666666666666, \"#ed7953\"], [0.7777777777777778, \"#fb9f3a\"], [0.8888888888888888, \"#fdca26\"], [1.0, \"#f0f921\"]], \"type\": \"surface\"}], \"table\": [{\"cells\": {\"fill\": {\"color\": \"#EBF0F8\"}, \"line\": {\"color\": \"white\"}}, \"header\": {\"fill\": {\"color\": \"#C8D4E3\"}, \"line\": {\"color\": \"white\"}}, \"type\": \"table\"}]}, \"layout\": {\"annotationdefaults\": {\"arrowcolor\": \"#2a3f5f\", \"arrowhead\": 0, \"arrowwidth\": 1}, \"coloraxis\": {\"colorbar\": {\"outlinewidth\": 0, \"ticks\": \"\"}}, \"colorscale\": {\"diverging\": [[0, \"#8e0152\"], [0.1, \"#c51b7d\"], [0.2, \"#de77ae\"], [0.3, \"#f1b6da\"], [0.4, \"#fde0ef\"], [0.5, \"#f7f7f7\"], [0.6, \"#e6f5d0\"], [0.7, \"#b8e186\"], [0.8, \"#7fbc41\"], [0.9, \"#4d9221\"], [1, \"#276419\"]], \"sequential\": [[0.0, \"#0d0887\"], [0.1111111111111111, \"#46039f\"], [0.2222222222222222, \"#7201a8\"], [0.3333333333333333, \"#9c179e\"], [0.4444444444444444, \"#bd3786\"], [0.5555555555555556, \"#d8576b\"], [0.6666666666666666, \"#ed7953\"], [0.7777777777777778, \"#fb9f3a\"], [0.8888888888888888, \"#fdca26\"], [1.0, \"#f0f921\"]], \"sequentialminus\": [[0.0, \"#0d0887\"], [0.1111111111111111, \"#46039f\"], [0.2222222222222222, \"#7201a8\"], [0.3333333333333333, \"#9c179e\"], [0.4444444444444444, \"#bd3786\"], [0.5555555555555556, \"#d8576b\"], [0.6666666666666666, \"#ed7953\"], [0.7777777777777778, \"#fb9f3a\"], [0.8888888888888888, \"#fdca26\"], [1.0, \"#f0f921\"]]}, \"colorway\": [\"#636efa\", \"#EF553B\", \"#00cc96\", \"#ab63fa\", \"#FFA15A\", \"#19d3f3\", \"#FF6692\", \"#B6E880\", \"#FF97FF\", \"#FECB52\"], \"font\": {\"color\": \"#2a3f5f\"}, \"geo\": {\"bgcolor\": \"white\", \"lakecolor\": \"white\", \"landcolor\": \"#E5ECF6\", \"showlakes\": true, \"showland\": true, \"subunitcolor\": \"white\"}, \"hoverlabel\": {\"align\": \"left\"}, \"hovermode\": \"closest\", \"mapbox\": {\"style\": \"light\"}, \"paper_bgcolor\": \"white\", \"plot_bgcolor\": \"#E5ECF6\", \"polar\": {\"angularaxis\": {\"gridcolor\": \"white\", \"linecolor\": \"white\", \"ticks\": \"\"}, \"bgcolor\": \"#E5ECF6\", \"radialaxis\": {\"gridcolor\": \"white\", \"linecolor\": \"white\", \"ticks\": \"\"}}, \"scene\": {\"xaxis\": {\"backgroundcolor\": \"#E5ECF6\", \"gridcolor\": \"white\", \"gridwidth\": 2, \"linecolor\": \"white\", \"showbackground\": true, \"ticks\": \"\", \"zerolinecolor\": \"white\"}, \"yaxis\": {\"backgroundcolor\": \"#E5ECF6\", \"gridcolor\": \"white\", \"gridwidth\": 2, \"linecolor\": \"white\", \"showbackground\": true, \"ticks\": \"\", \"zerolinecolor\": \"white\"}, \"zaxis\": {\"backgroundcolor\": \"#E5ECF6\", \"gridcolor\": \"white\", \"gridwidth\": 2, \"linecolor\": \"white\", \"showbackground\": true, \"ticks\": \"\", \"zerolinecolor\": \"white\"}}, \"shapedefaults\": {\"line\": {\"color\": \"#2a3f5f\"}}, \"ternary\": {\"aaxis\": {\"gridcolor\": \"white\", \"linecolor\": \"white\", \"ticks\": \"\"}, \"baxis\": {\"gridcolor\": \"white\", \"linecolor\": \"white\", \"ticks\": \"\"}, \"bgcolor\": \"#E5ECF6\", \"caxis\": {\"gridcolor\": \"white\", \"linecolor\": \"white\", \"ticks\": \"\"}}, \"title\": {\"x\": 0.05}, \"xaxis\": {\"automargin\": true, \"gridcolor\": \"white\", \"linecolor\": \"white\", \"ticks\": \"\", \"title\": {\"standoff\": 15}, \"zerolinecolor\": \"white\", \"zerolinewidth\": 2}, \"yaxis\": {\"automargin\": true, \"gridcolor\": \"white\", \"linecolor\": \"white\", \"ticks\": \"\", \"title\": {\"standoff\": 15}, \"zerolinecolor\": \"white\", \"zerolinewidth\": 2}}}, \"title\": {\"text\": \"SPY Expiration:2020-05-27, Strike: 296.0000, Time:2020-05-22 12:50\"}, \"xaxis\": {\"title\": {\"text\": \"Date\"}}, \"yaxis\": {\"title\": {\"text\": \"Stock Price\"}}},\n",
       "                        {\"responsive\": true}\n",
       "                    ).then(function(){\n",
       "                            \n",
       "var gd = document.getElementById('30009572-0f4e-47ae-a01a-a708a597b102');\n",
       "var x = new MutationObserver(function (mutations, observer) {{\n",
       "        var display = window.getComputedStyle(gd).display;\n",
       "        if (!display || display === 'none') {{\n",
       "            console.log([gd, 'removed!']);\n",
       "            Plotly.purge(gd);\n",
       "            observer.disconnect();\n",
       "        }}\n",
       "}});\n",
       "\n",
       "// Listen for the removal of the full notebook cells\n",
       "var notebookContainer = gd.closest('#notebook-container');\n",
       "if (notebookContainer) {{\n",
       "    x.observe(notebookContainer, {childList: true});\n",
       "}}\n",
       "\n",
       "// Listen for the clearing of the current output cell\n",
       "var outputEl = gd.closest('.output');\n",
       "if (outputEl) {{\n",
       "    x.observe(outputEl, {childList: true});\n",
       "}}\n",
       "\n",
       "                        })\n",
       "                };\n",
       "                });\n",
       "            </script>\n",
       "        </div>"
      ]
     },
     "metadata": {},
     "output_type": "display_data"
    }
   ],
   "source": [
    "optionType = 'call'\n",
    "span = 'week'\n",
    "strike_price = dfstrike_prices.iloc[0].strike_price\n",
    "plotStrikePriceforExpiration(strike_price,optionType,span)\n",
    "plotStockPriceforExpiration(strike_price,optionType,span)"
   ]
  },
  {
   "cell_type": "code",
   "execution_count": 39,
   "metadata": {},
   "outputs": [
    {
     "name": "stdout",
     "output_type": "stream",
     "text": [
      "*.............................................\n",
      "Max-Min:6.01, Percent:60100%\n"
     ]
    },
    {
     "data": {
      "text/html": [
       "<div>\n",
       "        \n",
       "        \n",
       "            <div id=\"cc874e6d-c843-42c1-b52a-30164e4812bc\" class=\"plotly-graph-div\" style=\"height:525px; width:100%;\"></div>\n",
       "            <script type=\"text/javascript\">\n",
       "                require([\"plotly\"], function(Plotly) {\n",
       "                    window.PLOTLYENV=window.PLOTLYENV || {};\n",
       "                    \n",
       "                if (document.getElementById(\"cc874e6d-c843-42c1-b52a-30164e4812bc\")) {\n",
       "                    Plotly.newPlot(\n",
       "                        'cc874e6d-c843-42c1-b52a-30164e4812bc',\n",
       "                        [{\"hoverlabel\": {\"namelength\": 0}, \"hovertemplate\": \"x=%{x}<br>y=%{y}\", \"legendgroup\": \"\", \"line\": {\"color\": \"#636efa\", \"dash\": \"solid\"}, \"mode\": \"lines\", \"name\": \"\", \"showlegend\": false, \"type\": \"scatter\", \"x\": [\"2019-05-23T00:00:00Z\", \"2019-05-24T00:00:00Z\", \"2019-05-28T00:00:00Z\", \"2019-05-29T00:00:00Z\", \"2019-05-30T00:00:00Z\", \"2019-05-31T00:00:00Z\", \"2019-06-03T00:00:00Z\", \"2019-06-04T00:00:00Z\", \"2019-06-05T00:00:00Z\", \"2019-06-06T00:00:00Z\", \"2019-06-07T00:00:00Z\", \"2019-06-10T00:00:00Z\", \"2019-06-11T00:00:00Z\", \"2019-06-12T00:00:00Z\", \"2019-06-13T00:00:00Z\", \"2019-06-14T00:00:00Z\", \"2019-06-17T00:00:00Z\", \"2019-06-18T00:00:00Z\", \"2019-06-19T00:00:00Z\", \"2019-06-20T00:00:00Z\", \"2019-06-21T00:00:00Z\", \"2019-06-24T00:00:00Z\", \"2019-06-25T00:00:00Z\", \"2019-06-26T00:00:00Z\", \"2019-06-27T00:00:00Z\", \"2019-06-28T00:00:00Z\", \"2019-07-01T00:00:00Z\", \"2019-07-02T00:00:00Z\", \"2019-07-03T00:00:00Z\", \"2019-07-05T00:00:00Z\", \"2019-07-08T00:00:00Z\", \"2019-07-09T00:00:00Z\", \"2019-07-10T00:00:00Z\", \"2019-07-11T00:00:00Z\", \"2019-07-12T00:00:00Z\", \"2019-07-15T00:00:00Z\", \"2019-07-16T00:00:00Z\", \"2019-07-17T00:00:00Z\", \"2019-07-18T00:00:00Z\", \"2019-07-19T00:00:00Z\", \"2019-07-22T00:00:00Z\", \"2019-07-23T00:00:00Z\", \"2019-07-24T00:00:00Z\", \"2019-07-25T00:00:00Z\", \"2019-07-26T00:00:00Z\", \"2019-07-29T00:00:00Z\", \"2019-07-30T00:00:00Z\", \"2019-07-31T00:00:00Z\", \"2019-08-01T00:00:00Z\", \"2019-08-02T00:00:00Z\", \"2019-08-05T00:00:00Z\", \"2019-08-06T00:00:00Z\", \"2019-08-07T00:00:00Z\", \"2019-08-08T00:00:00Z\", \"2019-08-09T00:00:00Z\", \"2019-08-12T00:00:00Z\", \"2019-08-13T00:00:00Z\", \"2019-08-14T00:00:00Z\", \"2019-08-15T00:00:00Z\", \"2019-08-16T00:00:00Z\", \"2019-08-19T00:00:00Z\", \"2019-08-20T00:00:00Z\", \"2019-08-21T00:00:00Z\", \"2019-08-22T00:00:00Z\", \"2019-08-23T00:00:00Z\", \"2019-08-26T00:00:00Z\", \"2019-08-27T00:00:00Z\", \"2019-08-28T00:00:00Z\", \"2019-08-29T00:00:00Z\", \"2019-08-30T00:00:00Z\", \"2019-09-03T00:00:00Z\", \"2019-09-04T00:00:00Z\", \"2019-09-05T00:00:00Z\", \"2019-09-06T00:00:00Z\", \"2019-09-09T00:00:00Z\", \"2019-09-10T00:00:00Z\", \"2019-09-11T00:00:00Z\", \"2019-09-12T00:00:00Z\", \"2019-09-13T00:00:00Z\", \"2019-09-16T00:00:00Z\", \"2019-09-17T00:00:00Z\", \"2019-09-18T00:00:00Z\", \"2019-09-19T00:00:00Z\", \"2019-09-20T00:00:00Z\", \"2019-09-23T00:00:00Z\", \"2019-09-24T00:00:00Z\", \"2019-09-25T00:00:00Z\", \"2019-09-26T00:00:00Z\", \"2019-09-27T00:00:00Z\", \"2019-09-30T00:00:00Z\", \"2019-10-01T00:00:00Z\", \"2019-10-02T00:00:00Z\", \"2019-10-03T00:00:00Z\", \"2019-10-04T00:00:00Z\", \"2019-10-07T00:00:00Z\", \"2019-10-08T00:00:00Z\", \"2019-10-09T00:00:00Z\", \"2019-10-10T00:00:00Z\", \"2019-10-11T00:00:00Z\", \"2019-10-14T00:00:00Z\", \"2019-10-15T00:00:00Z\", \"2019-10-16T00:00:00Z\", \"2019-10-17T00:00:00Z\", \"2019-10-18T00:00:00Z\", \"2019-10-21T00:00:00Z\", \"2019-10-22T00:00:00Z\", \"2019-10-23T00:00:00Z\", \"2019-10-24T00:00:00Z\", \"2019-10-25T00:00:00Z\", \"2019-10-28T00:00:00Z\", \"2019-10-29T00:00:00Z\", \"2019-10-30T00:00:00Z\", \"2019-10-31T00:00:00Z\", \"2019-11-01T00:00:00Z\", \"2019-11-04T00:00:00Z\", \"2019-11-05T00:00:00Z\", \"2019-11-06T00:00:00Z\", \"2019-11-07T00:00:00Z\", \"2019-11-08T00:00:00Z\", \"2019-11-11T00:00:00Z\", \"2019-11-12T00:00:00Z\", \"2019-11-13T00:00:00Z\", \"2019-11-14T00:00:00Z\", \"2019-11-15T00:00:00Z\", \"2019-11-18T00:00:00Z\", \"2019-11-19T00:00:00Z\", \"2019-11-20T00:00:00Z\", \"2019-11-21T00:00:00Z\", \"2019-11-22T00:00:00Z\", \"2019-11-25T00:00:00Z\", \"2019-11-26T00:00:00Z\", \"2019-11-27T00:00:00Z\", \"2019-11-29T00:00:00Z\", \"2019-12-02T00:00:00Z\", \"2019-12-03T00:00:00Z\", \"2019-12-04T00:00:00Z\", \"2019-12-05T00:00:00Z\", \"2019-12-06T00:00:00Z\", \"2019-12-09T00:00:00Z\", \"2019-12-10T00:00:00Z\", \"2019-12-11T00:00:00Z\", \"2019-12-12T00:00:00Z\", \"2019-12-13T00:00:00Z\", \"2019-12-16T00:00:00Z\", \"2019-12-17T00:00:00Z\", \"2019-12-18T00:00:00Z\", \"2019-12-19T00:00:00Z\", \"2019-12-20T00:00:00Z\", \"2019-12-23T00:00:00Z\", \"2019-12-24T00:00:00Z\", \"2019-12-26T00:00:00Z\", \"2019-12-27T00:00:00Z\", \"2019-12-30T00:00:00Z\", \"2019-12-31T00:00:00Z\", \"2020-01-02T00:00:00Z\", \"2020-01-03T00:00:00Z\", \"2020-01-06T00:00:00Z\", \"2020-01-07T00:00:00Z\", \"2020-01-08T00:00:00Z\", \"2020-01-09T00:00:00Z\", \"2020-01-10T00:00:00Z\", \"2020-01-13T00:00:00Z\", \"2020-01-14T00:00:00Z\", \"2020-01-15T00:00:00Z\", \"2020-01-16T00:00:00Z\", \"2020-01-17T00:00:00Z\", \"2020-01-21T00:00:00Z\", \"2020-01-22T00:00:00Z\", \"2020-01-23T00:00:00Z\", \"2020-01-24T00:00:00Z\", \"2020-01-27T00:00:00Z\", \"2020-01-28T00:00:00Z\", \"2020-01-29T00:00:00Z\", \"2020-01-30T00:00:00Z\", \"2020-01-31T00:00:00Z\", \"2020-02-03T00:00:00Z\", \"2020-02-04T00:00:00Z\", \"2020-02-05T00:00:00Z\", \"2020-02-06T00:00:00Z\", \"2020-02-07T00:00:00Z\", \"2020-02-10T00:00:00Z\", \"2020-02-11T00:00:00Z\", \"2020-02-12T00:00:00Z\", \"2020-02-13T00:00:00Z\", \"2020-02-14T00:00:00Z\", \"2020-02-18T00:00:00Z\", \"2020-02-19T00:00:00Z\", \"2020-02-20T00:00:00Z\", \"2020-02-21T00:00:00Z\", \"2020-02-24T00:00:00Z\", \"2020-02-25T00:00:00Z\", \"2020-02-26T00:00:00Z\", \"2020-02-27T00:00:00Z\", \"2020-02-28T00:00:00Z\", \"2020-03-02T00:00:00Z\", \"2020-03-03T00:00:00Z\", \"2020-03-04T00:00:00Z\", \"2020-03-05T00:00:00Z\", \"2020-03-06T00:00:00Z\", \"2020-03-09T00:00:00Z\", \"2020-03-10T00:00:00Z\", \"2020-03-11T00:00:00Z\", \"2020-03-12T00:00:00Z\", \"2020-03-13T00:00:00Z\", \"2020-03-16T00:00:00Z\", \"2020-03-17T00:00:00Z\", \"2020-03-18T00:00:00Z\", \"2020-03-19T00:00:00Z\", \"2020-03-20T00:00:00Z\", \"2020-03-23T00:00:00Z\", \"2020-03-24T00:00:00Z\", \"2020-03-25T00:00:00Z\", \"2020-03-26T00:00:00Z\", \"2020-03-27T00:00:00Z\", \"2020-03-30T00:00:00Z\", \"2020-03-31T00:00:00Z\", \"2020-04-01T00:00:00Z\", \"2020-04-02T00:00:00Z\", \"2020-04-03T00:00:00Z\", \"2020-04-06T00:00:00Z\", \"2020-04-07T00:00:00Z\", \"2020-04-08T00:00:00Z\", \"2020-04-09T00:00:00Z\", \"2020-04-13T00:00:00Z\", \"2020-04-14T00:00:00Z\", \"2020-04-15T00:00:00Z\", \"2020-04-16T00:00:00Z\", \"2020-04-17T00:00:00Z\", \"2020-04-20T00:00:00Z\", \"2020-04-21T00:00:00Z\", \"2020-04-22T00:00:00Z\", \"2020-04-23T00:00:00Z\", \"2020-04-24T00:00:00Z\", \"2020-04-27T00:00:00Z\", \"2020-04-28T00:00:00Z\", \"2020-04-29T00:00:00Z\", \"2020-04-30T00:00:00Z\", \"2020-05-01T00:00:00Z\", \"2020-05-04T00:00:00Z\", \"2020-05-05T00:00:00Z\", \"2020-05-06T00:00:00Z\", \"2020-05-07T00:00:00Z\", \"2020-05-08T00:00:00Z\", \"2020-05-11T00:00:00Z\", \"2020-05-12T00:00:00Z\", \"2020-05-13T00:00:00Z\", \"2020-05-14T00:00:00Z\", \"2020-05-15T00:00:00Z\", \"2020-05-18T00:00:00Z\", \"2020-05-19T00:00:00Z\", \"2020-05-20T00:00:00Z\", \"2020-05-21T00:00:00Z\", \"2020-05-22T00:00:00Z\"], \"xaxis\": \"x\", \"y\": [1.0, 1.0, 1.0, 1.0, 1.0, 1.0, 1.0, 1.0, 1.0, 1.0, 1.0, 1.0, 1.0, 1.0, 1.0, 1.0, 1.0, 1.0, 1.0, 1.0, 1.0, 1.0, 1.0, 1.0, 1.0, 1.0, 1.0, 1.0, 1.0, 1.0, 1.0, 1.0, 1.0, 1.0, 1.0, 1.0, 1.0, 1.0, 1.0, 1.0, 1.0, 1.0, 1.0, 1.0, 1.0, 1.0, 1.0, 1.0, 1.0, 1.0, 1.0, 1.0, 1.0, 1.0, 1.0, 1.0, 1.0, 1.0, 1.0, 1.0, 1.0, 1.0, 1.0, 1.0, 1.0, 1.0, 1.0, 1.0, 1.0, 1.0, 1.0, 1.0, 1.0, 1.0, 1.0, 1.0, 1.0, 1.0, 1.0, 1.0, 1.0, 1.0, 1.0, 1.0, 1.0, 1.0, 1.0, 1.0, 1.0, 1.0, 1.0, 1.0, 1.0, 1.0, 1.0, 1.0, 1.0, 1.0, 1.0, 1.0, 1.0, 1.0, 1.0, 1.0, 1.0, 1.0, 1.0, 1.0, 1.0, 1.0, 1.0, 1.0, 1.0, 1.0, 1.0, 1.0, 1.0, 1.0, 1.0, 1.0, 1.0, 1.0, 1.0, 1.0, 1.0, 1.0, 1.0, 1.0, 1.0, 1.0, 1.0, 1.0, 1.0, 1.0, 1.0, 1.0, 1.0, 1.0, 1.0, 1.0, 1.0, 1.0, 1.0, 1.0, 1.0, 1.0, 1.0, 1.0, 1.0, 1.0, 1.0, 1.0, 1.0, 1.0, 1.0, 1.0, 1.0, 1.0, 1.0, 1.0, 1.0, 1.0, 1.0, 1.0, 1.0, 1.0, 1.0, 1.0, 1.0, 1.0, 1.0, 1.0, 1.0, 1.0, 1.0, 1.0, 1.0, 1.0, 1.0, 1.0, 1.0, 1.0, 1.0, 1.0, 1.0, 1.0, 1.0, 1.0, 1.0, 1.0, 1.0, 1.0, 1.0, 1.0, 1.0, 1.0, 1.0, 1.0, 1.0, 1.0, 1.0, 1.0, 1.0, 1.0, 1.0, 1.0, 1.0, 1.0, 1.0, 1.0, 1.0, 1.0, 1.0, 1.0, 1.0, 1.0, 1.0, 1.0, 1.0, 1.0, 1.0, 1.0, 1.0, 1.0, 1.0, 1.0, 1.0, 1.0, 1.0, 3.34, 3.5, 3.89, 2.91, 3.38, 4.07, 6.02, 4.49, 5.07, 1.57, 2.28, 1.87, 1.86, 2.22, 2.21, 1.96, 0.88, 0.41, 0.4, 2.36, 1.99, 2.44, 1.96, 2.18], \"yaxis\": \"y\"}],\n",
       "                        {\"font\": {\"color\": \"#7f7f7f\", \"family\": \"Courier New, monospace\", \"size\": 18}, \"legend\": {\"tracegroupgap\": 0}, \"margin\": {\"t\": 60}, \"template\": {\"data\": {\"bar\": [{\"error_x\": {\"color\": \"#2a3f5f\"}, \"error_y\": {\"color\": \"#2a3f5f\"}, \"marker\": {\"line\": {\"color\": \"#E5ECF6\", \"width\": 0.5}}, \"type\": \"bar\"}], \"barpolar\": [{\"marker\": {\"line\": {\"color\": \"#E5ECF6\", \"width\": 0.5}}, \"type\": \"barpolar\"}], \"carpet\": [{\"aaxis\": {\"endlinecolor\": \"#2a3f5f\", \"gridcolor\": \"white\", \"linecolor\": \"white\", \"minorgridcolor\": \"white\", \"startlinecolor\": \"#2a3f5f\"}, \"baxis\": {\"endlinecolor\": \"#2a3f5f\", \"gridcolor\": \"white\", \"linecolor\": \"white\", \"minorgridcolor\": \"white\", \"startlinecolor\": \"#2a3f5f\"}, \"type\": \"carpet\"}], \"choropleth\": [{\"colorbar\": {\"outlinewidth\": 0, \"ticks\": \"\"}, \"type\": \"choropleth\"}], \"contour\": [{\"colorbar\": {\"outlinewidth\": 0, \"ticks\": \"\"}, \"colorscale\": [[0.0, \"#0d0887\"], [0.1111111111111111, \"#46039f\"], [0.2222222222222222, \"#7201a8\"], [0.3333333333333333, \"#9c179e\"], [0.4444444444444444, \"#bd3786\"], [0.5555555555555556, \"#d8576b\"], [0.6666666666666666, \"#ed7953\"], [0.7777777777777778, \"#fb9f3a\"], [0.8888888888888888, \"#fdca26\"], [1.0, \"#f0f921\"]], \"type\": \"contour\"}], \"contourcarpet\": [{\"colorbar\": {\"outlinewidth\": 0, \"ticks\": \"\"}, \"type\": \"contourcarpet\"}], \"heatmap\": [{\"colorbar\": {\"outlinewidth\": 0, \"ticks\": \"\"}, \"colorscale\": [[0.0, \"#0d0887\"], [0.1111111111111111, \"#46039f\"], [0.2222222222222222, \"#7201a8\"], [0.3333333333333333, \"#9c179e\"], [0.4444444444444444, \"#bd3786\"], [0.5555555555555556, \"#d8576b\"], [0.6666666666666666, \"#ed7953\"], [0.7777777777777778, \"#fb9f3a\"], [0.8888888888888888, \"#fdca26\"], [1.0, \"#f0f921\"]], \"type\": \"heatmap\"}], \"heatmapgl\": [{\"colorbar\": {\"outlinewidth\": 0, \"ticks\": \"\"}, \"colorscale\": [[0.0, \"#0d0887\"], [0.1111111111111111, \"#46039f\"], [0.2222222222222222, \"#7201a8\"], [0.3333333333333333, \"#9c179e\"], [0.4444444444444444, \"#bd3786\"], [0.5555555555555556, \"#d8576b\"], [0.6666666666666666, \"#ed7953\"], [0.7777777777777778, \"#fb9f3a\"], [0.8888888888888888, \"#fdca26\"], [1.0, \"#f0f921\"]], \"type\": \"heatmapgl\"}], \"histogram\": [{\"marker\": {\"colorbar\": {\"outlinewidth\": 0, \"ticks\": \"\"}}, \"type\": \"histogram\"}], \"histogram2d\": [{\"colorbar\": {\"outlinewidth\": 0, \"ticks\": \"\"}, \"colorscale\": [[0.0, \"#0d0887\"], [0.1111111111111111, \"#46039f\"], [0.2222222222222222, \"#7201a8\"], [0.3333333333333333, \"#9c179e\"], [0.4444444444444444, \"#bd3786\"], [0.5555555555555556, \"#d8576b\"], [0.6666666666666666, \"#ed7953\"], [0.7777777777777778, \"#fb9f3a\"], [0.8888888888888888, \"#fdca26\"], [1.0, \"#f0f921\"]], \"type\": \"histogram2d\"}], \"histogram2dcontour\": [{\"colorbar\": {\"outlinewidth\": 0, \"ticks\": \"\"}, \"colorscale\": [[0.0, \"#0d0887\"], [0.1111111111111111, \"#46039f\"], [0.2222222222222222, \"#7201a8\"], [0.3333333333333333, \"#9c179e\"], [0.4444444444444444, \"#bd3786\"], [0.5555555555555556, \"#d8576b\"], [0.6666666666666666, \"#ed7953\"], [0.7777777777777778, \"#fb9f3a\"], [0.8888888888888888, \"#fdca26\"], [1.0, \"#f0f921\"]], \"type\": \"histogram2dcontour\"}], \"mesh3d\": [{\"colorbar\": {\"outlinewidth\": 0, \"ticks\": \"\"}, \"type\": \"mesh3d\"}], \"parcoords\": [{\"line\": {\"colorbar\": {\"outlinewidth\": 0, \"ticks\": \"\"}}, \"type\": \"parcoords\"}], \"pie\": [{\"automargin\": true, \"type\": \"pie\"}], \"scatter\": [{\"marker\": {\"colorbar\": {\"outlinewidth\": 0, \"ticks\": \"\"}}, \"type\": \"scatter\"}], \"scatter3d\": [{\"line\": {\"colorbar\": {\"outlinewidth\": 0, \"ticks\": \"\"}}, \"marker\": {\"colorbar\": {\"outlinewidth\": 0, \"ticks\": \"\"}}, \"type\": \"scatter3d\"}], \"scattercarpet\": [{\"marker\": {\"colorbar\": {\"outlinewidth\": 0, \"ticks\": \"\"}}, \"type\": \"scattercarpet\"}], \"scattergeo\": [{\"marker\": {\"colorbar\": {\"outlinewidth\": 0, \"ticks\": \"\"}}, \"type\": \"scattergeo\"}], \"scattergl\": [{\"marker\": {\"colorbar\": {\"outlinewidth\": 0, \"ticks\": \"\"}}, \"type\": \"scattergl\"}], \"scattermapbox\": [{\"marker\": {\"colorbar\": {\"outlinewidth\": 0, \"ticks\": \"\"}}, \"type\": \"scattermapbox\"}], \"scatterpolar\": [{\"marker\": {\"colorbar\": {\"outlinewidth\": 0, \"ticks\": \"\"}}, \"type\": \"scatterpolar\"}], \"scatterpolargl\": [{\"marker\": {\"colorbar\": {\"outlinewidth\": 0, \"ticks\": \"\"}}, \"type\": \"scatterpolargl\"}], \"scatterternary\": [{\"marker\": {\"colorbar\": {\"outlinewidth\": 0, \"ticks\": \"\"}}, \"type\": \"scatterternary\"}], \"surface\": [{\"colorbar\": {\"outlinewidth\": 0, \"ticks\": \"\"}, \"colorscale\": [[0.0, \"#0d0887\"], [0.1111111111111111, \"#46039f\"], [0.2222222222222222, \"#7201a8\"], [0.3333333333333333, \"#9c179e\"], [0.4444444444444444, \"#bd3786\"], [0.5555555555555556, \"#d8576b\"], [0.6666666666666666, \"#ed7953\"], [0.7777777777777778, \"#fb9f3a\"], [0.8888888888888888, \"#fdca26\"], [1.0, \"#f0f921\"]], \"type\": \"surface\"}], \"table\": [{\"cells\": {\"fill\": {\"color\": \"#EBF0F8\"}, \"line\": {\"color\": \"white\"}}, \"header\": {\"fill\": {\"color\": \"#C8D4E3\"}, \"line\": {\"color\": \"white\"}}, \"type\": \"table\"}]}, \"layout\": {\"annotationdefaults\": {\"arrowcolor\": \"#2a3f5f\", \"arrowhead\": 0, \"arrowwidth\": 1}, \"coloraxis\": {\"colorbar\": {\"outlinewidth\": 0, \"ticks\": \"\"}}, \"colorscale\": {\"diverging\": [[0, \"#8e0152\"], [0.1, \"#c51b7d\"], [0.2, \"#de77ae\"], [0.3, \"#f1b6da\"], [0.4, \"#fde0ef\"], [0.5, \"#f7f7f7\"], [0.6, \"#e6f5d0\"], [0.7, \"#b8e186\"], [0.8, \"#7fbc41\"], [0.9, \"#4d9221\"], [1, \"#276419\"]], \"sequential\": [[0.0, \"#0d0887\"], [0.1111111111111111, \"#46039f\"], [0.2222222222222222, \"#7201a8\"], [0.3333333333333333, \"#9c179e\"], [0.4444444444444444, \"#bd3786\"], [0.5555555555555556, \"#d8576b\"], [0.6666666666666666, \"#ed7953\"], [0.7777777777777778, \"#fb9f3a\"], [0.8888888888888888, \"#fdca26\"], [1.0, \"#f0f921\"]], \"sequentialminus\": [[0.0, \"#0d0887\"], [0.1111111111111111, \"#46039f\"], [0.2222222222222222, \"#7201a8\"], [0.3333333333333333, \"#9c179e\"], [0.4444444444444444, \"#bd3786\"], [0.5555555555555556, \"#d8576b\"], [0.6666666666666666, \"#ed7953\"], [0.7777777777777778, \"#fb9f3a\"], [0.8888888888888888, \"#fdca26\"], [1.0, \"#f0f921\"]]}, \"colorway\": [\"#636efa\", \"#EF553B\", \"#00cc96\", \"#ab63fa\", \"#FFA15A\", \"#19d3f3\", \"#FF6692\", \"#B6E880\", \"#FF97FF\", \"#FECB52\"], \"font\": {\"color\": \"#2a3f5f\"}, \"geo\": {\"bgcolor\": \"white\", \"lakecolor\": \"white\", \"landcolor\": \"#E5ECF6\", \"showlakes\": true, \"showland\": true, \"subunitcolor\": \"white\"}, \"hoverlabel\": {\"align\": \"left\"}, \"hovermode\": \"closest\", \"mapbox\": {\"style\": \"light\"}, \"paper_bgcolor\": \"white\", \"plot_bgcolor\": \"#E5ECF6\", \"polar\": {\"angularaxis\": {\"gridcolor\": \"white\", \"linecolor\": \"white\", \"ticks\": \"\"}, \"bgcolor\": \"#E5ECF6\", \"radialaxis\": {\"gridcolor\": \"white\", \"linecolor\": \"white\", \"ticks\": \"\"}}, \"scene\": {\"xaxis\": {\"backgroundcolor\": \"#E5ECF6\", \"gridcolor\": \"white\", \"gridwidth\": 2, \"linecolor\": \"white\", \"showbackground\": true, \"ticks\": \"\", \"zerolinecolor\": \"white\"}, \"yaxis\": {\"backgroundcolor\": \"#E5ECF6\", \"gridcolor\": \"white\", \"gridwidth\": 2, \"linecolor\": \"white\", \"showbackground\": true, \"ticks\": \"\", \"zerolinecolor\": \"white\"}, \"zaxis\": {\"backgroundcolor\": \"#E5ECF6\", \"gridcolor\": \"white\", \"gridwidth\": 2, \"linecolor\": \"white\", \"showbackground\": true, \"ticks\": \"\", \"zerolinecolor\": \"white\"}}, \"shapedefaults\": {\"line\": {\"color\": \"#2a3f5f\"}}, \"ternary\": {\"aaxis\": {\"gridcolor\": \"white\", \"linecolor\": \"white\", \"ticks\": \"\"}, \"baxis\": {\"gridcolor\": \"white\", \"linecolor\": \"white\", \"ticks\": \"\"}, \"bgcolor\": \"#E5ECF6\", \"caxis\": {\"gridcolor\": \"white\", \"linecolor\": \"white\", \"ticks\": \"\"}}, \"title\": {\"x\": 0.05}, \"xaxis\": {\"automargin\": true, \"gridcolor\": \"white\", \"linecolor\": \"white\", \"ticks\": \"\", \"title\": {\"standoff\": 15}, \"zerolinecolor\": \"white\", \"zerolinewidth\": 2}, \"yaxis\": {\"automargin\": true, \"gridcolor\": \"white\", \"linecolor\": \"white\", \"ticks\": \"\", \"title\": {\"standoff\": 15}, \"zerolinecolor\": \"white\", \"zerolinewidth\": 2}}}, \"title\": {\"text\": \"SPY Expiration:2020-05-27, Strike: 300.0000, Time:2020-05-21 17:00\"}, \"xaxis\": {\"anchor\": \"y\", \"domain\": [0.0, 1.0], \"title\": {\"text\": \"Date\"}}, \"yaxis\": {\"anchor\": \"x\", \"domain\": [0.0, 1.0], \"title\": {\"text\": \"Option price\"}}},\n",
       "                        {\"responsive\": true}\n",
       "                    ).then(function(){\n",
       "                            \n",
       "var gd = document.getElementById('cc874e6d-c843-42c1-b52a-30164e4812bc');\n",
       "var x = new MutationObserver(function (mutations, observer) {{\n",
       "        var display = window.getComputedStyle(gd).display;\n",
       "        if (!display || display === 'none') {{\n",
       "            console.log([gd, 'removed!']);\n",
       "            Plotly.purge(gd);\n",
       "            observer.disconnect();\n",
       "        }}\n",
       "}});\n",
       "\n",
       "// Listen for the removal of the full notebook cells\n",
       "var notebookContainer = gd.closest('#notebook-container');\n",
       "if (notebookContainer) {{\n",
       "    x.observe(notebookContainer, {childList: true});\n",
       "}}\n",
       "\n",
       "// Listen for the clearing of the current output cell\n",
       "var outputEl = gd.closest('.output');\n",
       "if (outputEl) {{\n",
       "    x.observe(outputEl, {childList: true});\n",
       "}}\n",
       "\n",
       "                        })\n",
       "                };\n",
       "                });\n",
       "            </script>\n",
       "        </div>"
      ]
     },
     "metadata": {},
     "output_type": "display_data"
    },
    {
     "name": "stdout",
     "output_type": "stream",
     "text": [
      "*.............................................\n",
      "Max-Min:6.01, Percent:60100%\n"
     ]
    },
    {
     "data": {
      "text/html": [
       "<div>\n",
       "        \n",
       "        \n",
       "            <div id=\"4f917226-7674-4497-94e1-7bae7a31e75d\" class=\"plotly-graph-div\" style=\"height:525px; width:100%;\"></div>\n",
       "            <script type=\"text/javascript\">\n",
       "                require([\"plotly\"], function(Plotly) {\n",
       "                    window.PLOTLYENV=window.PLOTLYENV || {};\n",
       "                    \n",
       "                if (document.getElementById(\"4f917226-7674-4497-94e1-7bae7a31e75d\")) {\n",
       "                    Plotly.newPlot(\n",
       "                        '4f917226-7674-4497-94e1-7bae7a31e75d',\n",
       "                        [{\"mode\": \"lines\", \"name\": \"stock_price\", \"type\": \"scatter\", \"x\": [\"2019-05-23T00:00:00Z\", \"2019-05-24T00:00:00Z\", \"2019-05-28T00:00:00Z\", \"2019-05-29T00:00:00Z\", \"2019-05-30T00:00:00Z\", \"2019-05-31T00:00:00Z\", \"2019-06-03T00:00:00Z\", \"2019-06-04T00:00:00Z\", \"2019-06-05T00:00:00Z\", \"2019-06-06T00:00:00Z\", \"2019-06-07T00:00:00Z\", \"2019-06-10T00:00:00Z\", \"2019-06-11T00:00:00Z\", \"2019-06-12T00:00:00Z\", \"2019-06-13T00:00:00Z\", \"2019-06-14T00:00:00Z\", \"2019-06-17T00:00:00Z\", \"2019-06-18T00:00:00Z\", \"2019-06-19T00:00:00Z\", \"2019-06-20T00:00:00Z\", \"2019-06-21T00:00:00Z\", \"2019-06-24T00:00:00Z\", \"2019-06-25T00:00:00Z\", \"2019-06-26T00:00:00Z\", \"2019-06-27T00:00:00Z\", \"2019-06-28T00:00:00Z\", \"2019-07-01T00:00:00Z\", \"2019-07-02T00:00:00Z\", \"2019-07-03T00:00:00Z\", \"2019-07-05T00:00:00Z\", \"2019-07-08T00:00:00Z\", \"2019-07-09T00:00:00Z\", \"2019-07-10T00:00:00Z\", \"2019-07-11T00:00:00Z\", \"2019-07-12T00:00:00Z\", \"2019-07-15T00:00:00Z\", \"2019-07-16T00:00:00Z\", \"2019-07-17T00:00:00Z\", \"2019-07-18T00:00:00Z\", \"2019-07-19T00:00:00Z\", \"2019-07-22T00:00:00Z\", \"2019-07-23T00:00:00Z\", \"2019-07-24T00:00:00Z\", \"2019-07-25T00:00:00Z\", \"2019-07-26T00:00:00Z\", \"2019-07-29T00:00:00Z\", \"2019-07-30T00:00:00Z\", \"2019-07-31T00:00:00Z\", \"2019-08-01T00:00:00Z\", \"2019-08-02T00:00:00Z\", \"2019-08-05T00:00:00Z\", \"2019-08-06T00:00:00Z\", \"2019-08-07T00:00:00Z\", \"2019-08-08T00:00:00Z\", \"2019-08-09T00:00:00Z\", \"2019-08-12T00:00:00Z\", \"2019-08-13T00:00:00Z\", \"2019-08-14T00:00:00Z\", \"2019-08-15T00:00:00Z\", \"2019-08-16T00:00:00Z\", \"2019-08-19T00:00:00Z\", \"2019-08-20T00:00:00Z\", \"2019-08-21T00:00:00Z\", \"2019-08-22T00:00:00Z\", \"2019-08-23T00:00:00Z\", \"2019-08-26T00:00:00Z\", \"2019-08-27T00:00:00Z\", \"2019-08-28T00:00:00Z\", \"2019-08-29T00:00:00Z\", \"2019-08-30T00:00:00Z\", \"2019-09-03T00:00:00Z\", \"2019-09-04T00:00:00Z\", \"2019-09-05T00:00:00Z\", \"2019-09-06T00:00:00Z\", \"2019-09-09T00:00:00Z\", \"2019-09-10T00:00:00Z\", \"2019-09-11T00:00:00Z\", \"2019-09-12T00:00:00Z\", \"2019-09-13T00:00:00Z\", \"2019-09-16T00:00:00Z\", \"2019-09-17T00:00:00Z\", \"2019-09-18T00:00:00Z\", \"2019-09-19T00:00:00Z\", \"2019-09-20T00:00:00Z\", \"2019-09-23T00:00:00Z\", \"2019-09-24T00:00:00Z\", \"2019-09-25T00:00:00Z\", \"2019-09-26T00:00:00Z\", \"2019-09-27T00:00:00Z\", \"2019-09-30T00:00:00Z\", \"2019-10-01T00:00:00Z\", \"2019-10-02T00:00:00Z\", \"2019-10-03T00:00:00Z\", \"2019-10-04T00:00:00Z\", \"2019-10-07T00:00:00Z\", \"2019-10-08T00:00:00Z\", \"2019-10-09T00:00:00Z\", \"2019-10-10T00:00:00Z\", \"2019-10-11T00:00:00Z\", \"2019-10-14T00:00:00Z\", \"2019-10-15T00:00:00Z\", \"2019-10-16T00:00:00Z\", \"2019-10-17T00:00:00Z\", \"2019-10-18T00:00:00Z\", \"2019-10-21T00:00:00Z\", \"2019-10-22T00:00:00Z\", \"2019-10-23T00:00:00Z\", \"2019-10-24T00:00:00Z\", \"2019-10-25T00:00:00Z\", \"2019-10-28T00:00:00Z\", \"2019-10-29T00:00:00Z\", \"2019-10-30T00:00:00Z\", \"2019-10-31T00:00:00Z\", \"2019-11-01T00:00:00Z\", \"2019-11-04T00:00:00Z\", \"2019-11-05T00:00:00Z\", \"2019-11-06T00:00:00Z\", \"2019-11-07T00:00:00Z\", \"2019-11-08T00:00:00Z\", \"2019-11-11T00:00:00Z\", \"2019-11-12T00:00:00Z\", \"2019-11-13T00:00:00Z\", \"2019-11-14T00:00:00Z\", \"2019-11-15T00:00:00Z\", \"2019-11-18T00:00:00Z\", \"2019-11-19T00:00:00Z\", \"2019-11-20T00:00:00Z\", \"2019-11-21T00:00:00Z\", \"2019-11-22T00:00:00Z\", \"2019-11-25T00:00:00Z\", \"2019-11-26T00:00:00Z\", \"2019-11-27T00:00:00Z\", \"2019-11-29T00:00:00Z\", \"2019-12-02T00:00:00Z\", \"2019-12-03T00:00:00Z\", \"2019-12-04T00:00:00Z\", \"2019-12-05T00:00:00Z\", \"2019-12-06T00:00:00Z\", \"2019-12-09T00:00:00Z\", \"2019-12-10T00:00:00Z\", \"2019-12-11T00:00:00Z\", \"2019-12-12T00:00:00Z\", \"2019-12-13T00:00:00Z\", \"2019-12-16T00:00:00Z\", \"2019-12-17T00:00:00Z\", \"2019-12-18T00:00:00Z\", \"2019-12-19T00:00:00Z\", \"2019-12-20T00:00:00Z\", \"2019-12-23T00:00:00Z\", \"2019-12-24T00:00:00Z\", \"2019-12-26T00:00:00Z\", \"2019-12-27T00:00:00Z\", \"2019-12-30T00:00:00Z\", \"2019-12-31T00:00:00Z\", \"2020-01-02T00:00:00Z\", \"2020-01-03T00:00:00Z\", \"2020-01-06T00:00:00Z\", \"2020-01-07T00:00:00Z\", \"2020-01-08T00:00:00Z\", \"2020-01-09T00:00:00Z\", \"2020-01-10T00:00:00Z\", \"2020-01-13T00:00:00Z\", \"2020-01-14T00:00:00Z\", \"2020-01-15T00:00:00Z\", \"2020-01-16T00:00:00Z\", \"2020-01-17T00:00:00Z\", \"2020-01-21T00:00:00Z\", \"2020-01-22T00:00:00Z\", \"2020-01-23T00:00:00Z\", \"2020-01-24T00:00:00Z\", \"2020-01-27T00:00:00Z\", \"2020-01-28T00:00:00Z\", \"2020-01-29T00:00:00Z\", \"2020-01-30T00:00:00Z\", \"2020-01-31T00:00:00Z\", \"2020-02-03T00:00:00Z\", \"2020-02-04T00:00:00Z\", \"2020-02-05T00:00:00Z\", \"2020-02-06T00:00:00Z\", \"2020-02-07T00:00:00Z\", \"2020-02-10T00:00:00Z\", \"2020-02-11T00:00:00Z\", \"2020-02-12T00:00:00Z\", \"2020-02-13T00:00:00Z\", \"2020-02-14T00:00:00Z\", \"2020-02-18T00:00:00Z\", \"2020-02-19T00:00:00Z\", \"2020-02-20T00:00:00Z\", \"2020-02-21T00:00:00Z\", \"2020-02-24T00:00:00Z\", \"2020-02-25T00:00:00Z\", \"2020-02-26T00:00:00Z\", \"2020-02-27T00:00:00Z\", \"2020-02-28T00:00:00Z\", \"2020-03-02T00:00:00Z\", \"2020-03-03T00:00:00Z\", \"2020-03-04T00:00:00Z\", \"2020-03-05T00:00:00Z\", \"2020-03-06T00:00:00Z\", \"2020-03-09T00:00:00Z\", \"2020-03-10T00:00:00Z\", \"2020-03-11T00:00:00Z\", \"2020-03-12T00:00:00Z\", \"2020-03-13T00:00:00Z\", \"2020-03-16T00:00:00Z\", \"2020-03-17T00:00:00Z\", \"2020-03-18T00:00:00Z\", \"2020-03-19T00:00:00Z\", \"2020-03-20T00:00:00Z\", \"2020-03-23T00:00:00Z\", \"2020-03-24T00:00:00Z\", \"2020-03-25T00:00:00Z\", \"2020-03-26T00:00:00Z\", \"2020-03-27T00:00:00Z\", \"2020-03-30T00:00:00Z\", \"2020-03-31T00:00:00Z\", \"2020-04-01T00:00:00Z\", \"2020-04-02T00:00:00Z\", \"2020-04-03T00:00:00Z\", \"2020-04-06T00:00:00Z\", \"2020-04-07T00:00:00Z\", \"2020-04-08T00:00:00Z\", \"2020-04-09T00:00:00Z\", \"2020-04-13T00:00:00Z\", \"2020-04-14T00:00:00Z\", \"2020-04-15T00:00:00Z\", \"2020-04-16T00:00:00Z\", \"2020-04-17T00:00:00Z\", \"2020-04-20T00:00:00Z\", \"2020-04-21T00:00:00Z\", \"2020-04-22T00:00:00Z\", \"2020-04-23T00:00:00Z\", \"2020-04-24T00:00:00Z\", \"2020-04-27T00:00:00Z\", \"2020-04-28T00:00:00Z\", \"2020-04-29T00:00:00Z\", \"2020-04-30T00:00:00Z\", \"2020-05-01T00:00:00Z\", \"2020-05-04T00:00:00Z\", \"2020-05-05T00:00:00Z\", \"2020-05-06T00:00:00Z\", \"2020-05-07T00:00:00Z\", \"2020-05-08T00:00:00Z\", \"2020-05-11T00:00:00Z\", \"2020-05-12T00:00:00Z\", \"2020-05-13T00:00:00Z\", \"2020-05-14T00:00:00Z\", \"2020-05-15T00:00:00Z\", \"2020-05-18T00:00:00Z\", \"2020-05-19T00:00:00Z\", \"2020-05-20T00:00:00Z\", \"2020-05-21T00:00:00Z\", \"2020-05-22T00:00:00Z\"], \"y\": [0.0, 0.0, 0.0, 0.0, 0.0, 0.0, 0.0, 0.0, 0.0, 0.0, 0.0, 0.0, 0.0, 0.0, 0.0, 0.0, 0.0, 0.0, 0.0, 0.0, 0.0, 0.0, 0.0, 0.0, 0.0, 0.0, 0.0, 0.0, 0.0, 0.0, 0.0, 0.0, 0.0, 0.0, 0.0, 0.0, 0.0, 0.0, 0.0, 0.0, 0.0, 0.0, 0.0, 0.0, 0.0, 0.0, 0.0, 0.0, 0.0, 0.0, 0.0, 0.0, 0.0, 0.0, 0.0, 0.0, 0.0, 0.0, 0.0, 0.0, 0.0, 0.0, 0.0, 0.0, 0.0, 0.0, 0.0, 0.0, 0.0, 0.0, 0.0, 0.0, 0.0, 0.0, 0.0, 0.0, 0.0, 0.0, 0.0, 0.0, 0.0, 0.0, 0.0, 0.0, 0.0, 0.0, 0.0, 0.0, 0.0, 0.0, 0.0, 0.0, 0.0, 0.0, 0.0, 0.0, 0.0, 0.0, 0.0, 0.0, 0.0, 0.0, 0.0, 0.0, 0.0, 0.0, 0.0, 0.0, 0.0, 0.0, 0.0, 0.0, 0.0, 0.0, 0.0, 0.0, 0.0, 0.0, 0.0, 0.0, 0.0, 0.0, 0.0, 0.0, 0.0, 0.0, 0.0, 0.0, 0.0, 0.0, 0.0, 0.0, 0.0, 0.0, 0.0, 0.0, 0.0, 0.0, 0.0, 0.0, 0.0, 0.0, 0.0, 0.0, 0.0, 0.0, 0.0, 0.0, 0.0, 0.0, 0.0, 0.0, 0.0, 0.0, 0.0, 0.0, 0.0, 0.0, 0.0, 0.0, 0.0, 0.0, 0.0, 0.0, 0.0, 0.0, 0.0, 0.0, 0.0, 0.0, 0.0, 0.0, 0.0, 0.0, 0.0, 0.0, 0.0, 0.0, 0.0, 0.0, 0.0, 0.0, 0.0, 0.0, 0.0, 0.0, 0.0, 0.0, 0.0, 0.0, 0.0, 0.0, 0.0, 0.0, 0.0, 0.0, 0.0, 0.0, 0.0, 0.0, 0.0, 0.0, 0.0, 0.0, 0.0, 0.0, 0.0, 0.0, 0.0, 0.0, 0.0, 0.0, 0.0, 0.0, 0.0, 0.0, 0.0, 0.0, 0.0, 0.0, 0.0, 0.0, 0.0, 0.0, 0.0, 0.0, 0.0, 0.0, 0.0, 1.15, 1.75, 1.44, 1.54, 1.8900000000000001, 1.44, 3.6399999999999997, 2.87, 0.6299999999999999, 0.47, 0.6200000000000001, 0.1200000000000001, 0.47, 1.1400000000000001, 0.8500000000000001, -0.06000000000000005, -0.64, -0.5900000000000001, -0.64, 0.8300000000000001, 0.040000000000000036, 0.95, -0.030000000000000027, -0.33999999999999997]}],\n",
       "                        {\"template\": {\"data\": {\"bar\": [{\"error_x\": {\"color\": \"#2a3f5f\"}, \"error_y\": {\"color\": \"#2a3f5f\"}, \"marker\": {\"line\": {\"color\": \"#E5ECF6\", \"width\": 0.5}}, \"type\": \"bar\"}], \"barpolar\": [{\"marker\": {\"line\": {\"color\": \"#E5ECF6\", \"width\": 0.5}}, \"type\": \"barpolar\"}], \"carpet\": [{\"aaxis\": {\"endlinecolor\": \"#2a3f5f\", \"gridcolor\": \"white\", \"linecolor\": \"white\", \"minorgridcolor\": \"white\", \"startlinecolor\": \"#2a3f5f\"}, \"baxis\": {\"endlinecolor\": \"#2a3f5f\", \"gridcolor\": \"white\", \"linecolor\": \"white\", \"minorgridcolor\": \"white\", \"startlinecolor\": \"#2a3f5f\"}, \"type\": \"carpet\"}], \"choropleth\": [{\"colorbar\": {\"outlinewidth\": 0, \"ticks\": \"\"}, \"type\": \"choropleth\"}], \"contour\": [{\"colorbar\": {\"outlinewidth\": 0, \"ticks\": \"\"}, \"colorscale\": [[0.0, \"#0d0887\"], [0.1111111111111111, \"#46039f\"], [0.2222222222222222, \"#7201a8\"], [0.3333333333333333, \"#9c179e\"], [0.4444444444444444, \"#bd3786\"], [0.5555555555555556, \"#d8576b\"], [0.6666666666666666, \"#ed7953\"], [0.7777777777777778, \"#fb9f3a\"], [0.8888888888888888, \"#fdca26\"], [1.0, \"#f0f921\"]], \"type\": \"contour\"}], \"contourcarpet\": [{\"colorbar\": {\"outlinewidth\": 0, \"ticks\": \"\"}, \"type\": \"contourcarpet\"}], \"heatmap\": [{\"colorbar\": {\"outlinewidth\": 0, \"ticks\": \"\"}, \"colorscale\": [[0.0, \"#0d0887\"], [0.1111111111111111, \"#46039f\"], [0.2222222222222222, \"#7201a8\"], [0.3333333333333333, \"#9c179e\"], [0.4444444444444444, \"#bd3786\"], [0.5555555555555556, \"#d8576b\"], [0.6666666666666666, \"#ed7953\"], [0.7777777777777778, \"#fb9f3a\"], [0.8888888888888888, \"#fdca26\"], [1.0, \"#f0f921\"]], \"type\": \"heatmap\"}], \"heatmapgl\": [{\"colorbar\": {\"outlinewidth\": 0, \"ticks\": \"\"}, \"colorscale\": [[0.0, \"#0d0887\"], [0.1111111111111111, \"#46039f\"], [0.2222222222222222, \"#7201a8\"], [0.3333333333333333, \"#9c179e\"], [0.4444444444444444, \"#bd3786\"], [0.5555555555555556, \"#d8576b\"], [0.6666666666666666, \"#ed7953\"], [0.7777777777777778, \"#fb9f3a\"], [0.8888888888888888, \"#fdca26\"], [1.0, \"#f0f921\"]], \"type\": \"heatmapgl\"}], \"histogram\": [{\"marker\": {\"colorbar\": {\"outlinewidth\": 0, \"ticks\": \"\"}}, \"type\": \"histogram\"}], \"histogram2d\": [{\"colorbar\": {\"outlinewidth\": 0, \"ticks\": \"\"}, \"colorscale\": [[0.0, \"#0d0887\"], [0.1111111111111111, \"#46039f\"], [0.2222222222222222, \"#7201a8\"], [0.3333333333333333, \"#9c179e\"], [0.4444444444444444, \"#bd3786\"], [0.5555555555555556, \"#d8576b\"], [0.6666666666666666, \"#ed7953\"], [0.7777777777777778, \"#fb9f3a\"], [0.8888888888888888, \"#fdca26\"], [1.0, \"#f0f921\"]], \"type\": \"histogram2d\"}], \"histogram2dcontour\": [{\"colorbar\": {\"outlinewidth\": 0, \"ticks\": \"\"}, \"colorscale\": [[0.0, \"#0d0887\"], [0.1111111111111111, \"#46039f\"], [0.2222222222222222, \"#7201a8\"], [0.3333333333333333, \"#9c179e\"], [0.4444444444444444, \"#bd3786\"], [0.5555555555555556, \"#d8576b\"], [0.6666666666666666, \"#ed7953\"], [0.7777777777777778, \"#fb9f3a\"], [0.8888888888888888, \"#fdca26\"], [1.0, \"#f0f921\"]], \"type\": \"histogram2dcontour\"}], \"mesh3d\": [{\"colorbar\": {\"outlinewidth\": 0, \"ticks\": \"\"}, \"type\": \"mesh3d\"}], \"parcoords\": [{\"line\": {\"colorbar\": {\"outlinewidth\": 0, \"ticks\": \"\"}}, \"type\": \"parcoords\"}], \"pie\": [{\"automargin\": true, \"type\": \"pie\"}], \"scatter\": [{\"marker\": {\"colorbar\": {\"outlinewidth\": 0, \"ticks\": \"\"}}, \"type\": \"scatter\"}], \"scatter3d\": [{\"line\": {\"colorbar\": {\"outlinewidth\": 0, \"ticks\": \"\"}}, \"marker\": {\"colorbar\": {\"outlinewidth\": 0, \"ticks\": \"\"}}, \"type\": \"scatter3d\"}], \"scattercarpet\": [{\"marker\": {\"colorbar\": {\"outlinewidth\": 0, \"ticks\": \"\"}}, \"type\": \"scattercarpet\"}], \"scattergeo\": [{\"marker\": {\"colorbar\": {\"outlinewidth\": 0, \"ticks\": \"\"}}, \"type\": \"scattergeo\"}], \"scattergl\": [{\"marker\": {\"colorbar\": {\"outlinewidth\": 0, \"ticks\": \"\"}}, \"type\": \"scattergl\"}], \"scattermapbox\": [{\"marker\": {\"colorbar\": {\"outlinewidth\": 0, \"ticks\": \"\"}}, \"type\": \"scattermapbox\"}], \"scatterpolar\": [{\"marker\": {\"colorbar\": {\"outlinewidth\": 0, \"ticks\": \"\"}}, \"type\": \"scatterpolar\"}], \"scatterpolargl\": [{\"marker\": {\"colorbar\": {\"outlinewidth\": 0, \"ticks\": \"\"}}, \"type\": \"scatterpolargl\"}], \"scatterternary\": [{\"marker\": {\"colorbar\": {\"outlinewidth\": 0, \"ticks\": \"\"}}, \"type\": \"scatterternary\"}], \"surface\": [{\"colorbar\": {\"outlinewidth\": 0, \"ticks\": \"\"}, \"colorscale\": [[0.0, \"#0d0887\"], [0.1111111111111111, \"#46039f\"], [0.2222222222222222, \"#7201a8\"], [0.3333333333333333, \"#9c179e\"], [0.4444444444444444, \"#bd3786\"], [0.5555555555555556, \"#d8576b\"], [0.6666666666666666, \"#ed7953\"], [0.7777777777777778, \"#fb9f3a\"], [0.8888888888888888, \"#fdca26\"], [1.0, \"#f0f921\"]], \"type\": \"surface\"}], \"table\": [{\"cells\": {\"fill\": {\"color\": \"#EBF0F8\"}, \"line\": {\"color\": \"white\"}}, \"header\": {\"fill\": {\"color\": \"#C8D4E3\"}, \"line\": {\"color\": \"white\"}}, \"type\": \"table\"}]}, \"layout\": {\"annotationdefaults\": {\"arrowcolor\": \"#2a3f5f\", \"arrowhead\": 0, \"arrowwidth\": 1}, \"coloraxis\": {\"colorbar\": {\"outlinewidth\": 0, \"ticks\": \"\"}}, \"colorscale\": {\"diverging\": [[0, \"#8e0152\"], [0.1, \"#c51b7d\"], [0.2, \"#de77ae\"], [0.3, \"#f1b6da\"], [0.4, \"#fde0ef\"], [0.5, \"#f7f7f7\"], [0.6, \"#e6f5d0\"], [0.7, \"#b8e186\"], [0.8, \"#7fbc41\"], [0.9, \"#4d9221\"], [1, \"#276419\"]], \"sequential\": [[0.0, \"#0d0887\"], [0.1111111111111111, \"#46039f\"], [0.2222222222222222, \"#7201a8\"], [0.3333333333333333, \"#9c179e\"], [0.4444444444444444, \"#bd3786\"], [0.5555555555555556, \"#d8576b\"], [0.6666666666666666, \"#ed7953\"], [0.7777777777777778, \"#fb9f3a\"], [0.8888888888888888, \"#fdca26\"], [1.0, \"#f0f921\"]], \"sequentialminus\": [[0.0, \"#0d0887\"], [0.1111111111111111, \"#46039f\"], [0.2222222222222222, \"#7201a8\"], [0.3333333333333333, \"#9c179e\"], [0.4444444444444444, \"#bd3786\"], [0.5555555555555556, \"#d8576b\"], [0.6666666666666666, \"#ed7953\"], [0.7777777777777778, \"#fb9f3a\"], [0.8888888888888888, \"#fdca26\"], [1.0, \"#f0f921\"]]}, \"colorway\": [\"#636efa\", \"#EF553B\", \"#00cc96\", \"#ab63fa\", \"#FFA15A\", \"#19d3f3\", \"#FF6692\", \"#B6E880\", \"#FF97FF\", \"#FECB52\"], \"font\": {\"color\": \"#2a3f5f\"}, \"geo\": {\"bgcolor\": \"white\", \"lakecolor\": \"white\", \"landcolor\": \"#E5ECF6\", \"showlakes\": true, \"showland\": true, \"subunitcolor\": \"white\"}, \"hoverlabel\": {\"align\": \"left\"}, \"hovermode\": \"closest\", \"mapbox\": {\"style\": \"light\"}, \"paper_bgcolor\": \"white\", \"plot_bgcolor\": \"#E5ECF6\", \"polar\": {\"angularaxis\": {\"gridcolor\": \"white\", \"linecolor\": \"white\", \"ticks\": \"\"}, \"bgcolor\": \"#E5ECF6\", \"radialaxis\": {\"gridcolor\": \"white\", \"linecolor\": \"white\", \"ticks\": \"\"}}, \"scene\": {\"xaxis\": {\"backgroundcolor\": \"#E5ECF6\", \"gridcolor\": \"white\", \"gridwidth\": 2, \"linecolor\": \"white\", \"showbackground\": true, \"ticks\": \"\", \"zerolinecolor\": \"white\"}, \"yaxis\": {\"backgroundcolor\": \"#E5ECF6\", \"gridcolor\": \"white\", \"gridwidth\": 2, \"linecolor\": \"white\", \"showbackground\": true, \"ticks\": \"\", \"zerolinecolor\": \"white\"}, \"zaxis\": {\"backgroundcolor\": \"#E5ECF6\", \"gridcolor\": \"white\", \"gridwidth\": 2, \"linecolor\": \"white\", \"showbackground\": true, \"ticks\": \"\", \"zerolinecolor\": \"white\"}}, \"shapedefaults\": {\"line\": {\"color\": \"#2a3f5f\"}}, \"ternary\": {\"aaxis\": {\"gridcolor\": \"white\", \"linecolor\": \"white\", \"ticks\": \"\"}, \"baxis\": {\"gridcolor\": \"white\", \"linecolor\": \"white\", \"ticks\": \"\"}, \"bgcolor\": \"#E5ECF6\", \"caxis\": {\"gridcolor\": \"white\", \"linecolor\": \"white\", \"ticks\": \"\"}}, \"title\": {\"x\": 0.05}, \"xaxis\": {\"automargin\": true, \"gridcolor\": \"white\", \"linecolor\": \"white\", \"ticks\": \"\", \"title\": {\"standoff\": 15}, \"zerolinecolor\": \"white\", \"zerolinewidth\": 2}, \"yaxis\": {\"automargin\": true, \"gridcolor\": \"white\", \"linecolor\": \"white\", \"ticks\": \"\", \"title\": {\"standoff\": 15}, \"zerolinecolor\": \"white\", \"zerolinewidth\": 2}}}, \"title\": {\"text\": \"SPY Expiration:2020-05-27, Strike: 300.0000, Time:2020-05-21 17:00\"}, \"xaxis\": {\"title\": {\"text\": \"Date\"}}, \"yaxis\": {\"title\": {\"text\": \"Stock Price\"}}},\n",
       "                        {\"responsive\": true}\n",
       "                    ).then(function(){\n",
       "                            \n",
       "var gd = document.getElementById('4f917226-7674-4497-94e1-7bae7a31e75d');\n",
       "var x = new MutationObserver(function (mutations, observer) {{\n",
       "        var display = window.getComputedStyle(gd).display;\n",
       "        if (!display || display === 'none') {{\n",
       "            console.log([gd, 'removed!']);\n",
       "            Plotly.purge(gd);\n",
       "            observer.disconnect();\n",
       "        }}\n",
       "}});\n",
       "\n",
       "// Listen for the removal of the full notebook cells\n",
       "var notebookContainer = gd.closest('#notebook-container');\n",
       "if (notebookContainer) {{\n",
       "    x.observe(notebookContainer, {childList: true});\n",
       "}}\n",
       "\n",
       "// Listen for the clearing of the current output cell\n",
       "var outputEl = gd.closest('.output');\n",
       "if (outputEl) {{\n",
       "    x.observe(outputEl, {childList: true});\n",
       "}}\n",
       "\n",
       "                        })\n",
       "                };\n",
       "                });\n",
       "            </script>\n",
       "        </div>"
      ]
     },
     "metadata": {},
     "output_type": "display_data"
    }
   ],
   "source": [
    "span = 'year'\n",
    "strike_price = dfstrike_prices.iloc[1].strike_price\n",
    "plotStrikePriceforExpiration(strike_price,optionType,span)\n",
    "plotStockPriceforExpiration(strike_price,optionType,span)"
   ]
  },
  {
   "cell_type": "markdown",
   "metadata": {},
   "source": [
    "### Stock Price"
   ]
  },
  {
   "cell_type": "code",
   "execution_count": 47,
   "metadata": {},
   "outputs": [
    {
     "name": "stdout",
     "output_type": "stream",
     "text": [
      "*.\n",
      "Max-Min:0.27, Percent:2700%\n"
     ]
    },
    {
     "data": {
      "application/vnd.plotly.v1+json": {
       "config": {
        "plotlyServerURL": "https://plot.ly"
       },
       "data": [
        {
         "mode": "lines",
         "name": "stock_price",
         "type": "scatter",
         "x": [
          "2020-05-14T13:30:00Z",
          "2020-05-14T13:40:00Z",
          "2020-05-14T13:50:00Z",
          "2020-05-14T14:00:00Z",
          "2020-05-14T14:10:00Z",
          "2020-05-14T14:20:00Z",
          "2020-05-14T14:30:00Z",
          "2020-05-14T14:40:00Z",
          "2020-05-14T14:50:00Z",
          "2020-05-14T15:00:00Z",
          "2020-05-14T15:10:00Z",
          "2020-05-14T15:20:00Z",
          "2020-05-14T15:30:00Z",
          "2020-05-14T15:40:00Z",
          "2020-05-14T15:50:00Z",
          "2020-05-14T16:00:00Z",
          "2020-05-14T16:10:00Z",
          "2020-05-14T16:20:00Z",
          "2020-05-14T16:30:00Z",
          "2020-05-14T16:40:00Z",
          "2020-05-14T16:50:00Z",
          "2020-05-14T17:00:00Z",
          "2020-05-14T17:10:00Z",
          "2020-05-14T17:20:00Z",
          "2020-05-14T17:30:00Z",
          "2020-05-14T17:40:00Z",
          "2020-05-14T17:50:00Z",
          "2020-05-14T18:00:00Z",
          "2020-05-14T18:10:00Z",
          "2020-05-14T18:20:00Z",
          "2020-05-14T18:30:00Z",
          "2020-05-14T18:40:00Z",
          "2020-05-14T18:50:00Z",
          "2020-05-14T19:00:00Z",
          "2020-05-14T19:10:00Z",
          "2020-05-14T19:20:00Z",
          "2020-05-14T19:30:00Z",
          "2020-05-14T19:40:00Z",
          "2020-05-14T19:50:00Z",
          "2020-05-15T13:30:00Z",
          "2020-05-15T13:40:00Z",
          "2020-05-15T13:50:00Z",
          "2020-05-15T14:00:00Z",
          "2020-05-15T14:10:00Z",
          "2020-05-15T14:20:00Z",
          "2020-05-15T14:30:00Z",
          "2020-05-15T14:40:00Z",
          "2020-05-15T14:50:00Z",
          "2020-05-15T15:00:00Z",
          "2020-05-15T15:10:00Z",
          "2020-05-15T15:20:00Z",
          "2020-05-15T15:30:00Z",
          "2020-05-15T15:40:00Z",
          "2020-05-15T15:50:00Z",
          "2020-05-15T16:00:00Z",
          "2020-05-15T16:10:00Z",
          "2020-05-15T16:20:00Z",
          "2020-05-15T16:30:00Z",
          "2020-05-15T16:40:00Z",
          "2020-05-15T16:50:00Z",
          "2020-05-15T17:00:00Z",
          "2020-05-15T17:10:00Z",
          "2020-05-15T17:20:00Z",
          "2020-05-15T17:30:00Z",
          "2020-05-15T17:40:00Z",
          "2020-05-15T17:50:00Z",
          "2020-05-15T18:00:00Z",
          "2020-05-15T18:10:00Z",
          "2020-05-15T18:20:00Z",
          "2020-05-15T18:30:00Z",
          "2020-05-15T18:40:00Z",
          "2020-05-15T18:50:00Z",
          "2020-05-15T19:00:00Z",
          "2020-05-15T19:10:00Z",
          "2020-05-15T19:20:00Z",
          "2020-05-15T19:30:00Z",
          "2020-05-15T19:40:00Z",
          "2020-05-15T19:50:00Z",
          "2020-05-18T13:30:00Z",
          "2020-05-18T13:40:00Z",
          "2020-05-18T13:50:00Z",
          "2020-05-18T14:00:00Z",
          "2020-05-18T14:10:00Z",
          "2020-05-18T14:20:00Z",
          "2020-05-18T14:30:00Z",
          "2020-05-18T14:40:00Z",
          "2020-05-18T14:50:00Z",
          "2020-05-18T15:00:00Z",
          "2020-05-18T15:10:00Z",
          "2020-05-18T15:20:00Z",
          "2020-05-18T15:30:00Z",
          "2020-05-18T15:40:00Z",
          "2020-05-18T15:50:00Z",
          "2020-05-18T16:00:00Z",
          "2020-05-18T16:10:00Z",
          "2020-05-18T16:20:00Z",
          "2020-05-18T16:30:00Z",
          "2020-05-18T16:40:00Z",
          "2020-05-18T16:50:00Z",
          "2020-05-18T17:00:00Z",
          "2020-05-18T17:10:00Z",
          "2020-05-18T17:20:00Z",
          "2020-05-18T17:30:00Z",
          "2020-05-18T17:40:00Z",
          "2020-05-18T17:50:00Z",
          "2020-05-18T18:00:00Z",
          "2020-05-18T18:10:00Z",
          "2020-05-18T18:20:00Z",
          "2020-05-18T18:30:00Z",
          "2020-05-18T18:40:00Z",
          "2020-05-18T18:50:00Z",
          "2020-05-18T19:00:00Z",
          "2020-05-18T19:10:00Z",
          "2020-05-18T19:20:00Z",
          "2020-05-18T19:30:00Z",
          "2020-05-18T19:40:00Z",
          "2020-05-18T19:50:00Z",
          "2020-05-19T13:30:00Z",
          "2020-05-19T13:40:00Z",
          "2020-05-19T13:50:00Z",
          "2020-05-19T14:00:00Z",
          "2020-05-19T14:10:00Z",
          "2020-05-19T14:20:00Z",
          "2020-05-19T14:30:00Z",
          "2020-05-19T14:40:00Z",
          "2020-05-19T14:50:00Z",
          "2020-05-19T15:00:00Z",
          "2020-05-19T15:10:00Z",
          "2020-05-19T15:20:00Z",
          "2020-05-19T15:30:00Z",
          "2020-05-19T15:40:00Z",
          "2020-05-19T15:50:00Z",
          "2020-05-19T16:00:00Z",
          "2020-05-19T16:10:00Z",
          "2020-05-19T16:20:00Z",
          "2020-05-19T16:30:00Z",
          "2020-05-19T16:40:00Z",
          "2020-05-19T16:50:00Z",
          "2020-05-19T17:00:00Z",
          "2020-05-19T17:10:00Z",
          "2020-05-19T17:20:00Z",
          "2020-05-19T17:30:00Z",
          "2020-05-19T17:40:00Z",
          "2020-05-19T17:50:00Z",
          "2020-05-19T18:00:00Z",
          "2020-05-19T18:10:00Z",
          "2020-05-19T18:20:00Z",
          "2020-05-19T18:30:00Z",
          "2020-05-19T18:40:00Z",
          "2020-05-19T18:50:00Z",
          "2020-05-19T19:00:00Z",
          "2020-05-19T19:10:00Z",
          "2020-05-19T19:20:00Z",
          "2020-05-19T19:30:00Z",
          "2020-05-19T19:40:00Z",
          "2020-05-19T19:50:00Z",
          "2020-05-20T13:30:00Z",
          "2020-05-20T13:40:00Z",
          "2020-05-20T13:50:00Z",
          "2020-05-20T14:00:00Z",
          "2020-05-20T14:10:00Z",
          "2020-05-20T14:20:00Z",
          "2020-05-20T14:30:00Z",
          "2020-05-20T14:40:00Z",
          "2020-05-20T14:50:00Z",
          "2020-05-20T15:00:00Z",
          "2020-05-20T15:10:00Z",
          "2020-05-20T15:20:00Z",
          "2020-05-20T15:30:00Z",
          "2020-05-20T15:40:00Z",
          "2020-05-20T15:50:00Z",
          "2020-05-20T16:00:00Z",
          "2020-05-20T16:10:00Z",
          "2020-05-20T16:20:00Z",
          "2020-05-20T16:30:00Z",
          "2020-05-20T16:40:00Z",
          "2020-05-20T16:50:00Z",
          "2020-05-20T17:00:00Z"
         ],
         "y": [
          2.9,
          2.7858,
          2.8,
          2.84,
          2.8401,
          2.88,
          2.96,
          2.99,
          2.946,
          2.99,
          3.03,
          3.0602,
          3.0201,
          3.07,
          3.039,
          3.0101,
          3.0158,
          3.0058,
          3.0232,
          3.005,
          3.05,
          3.03,
          3.035,
          3.05,
          3.015,
          3.03,
          2.9901,
          3,
          3,
          3.01,
          3.01,
          2.995,
          2.99,
          2.995,
          2.978,
          2.9731,
          2.9882,
          3,
          3.015,
          3.1501,
          3.23,
          3.1641,
          3.185,
          3.115,
          3.115,
          3.16,
          3.145,
          3.13,
          3.15,
          3.17,
          3.19,
          3.245,
          3.235,
          3.265,
          3.2799,
          3.22,
          3.2686,
          3.31,
          3.275,
          3.2961,
          3.32,
          3.325,
          3.31,
          3.2952,
          3.305,
          3.315,
          3.3419,
          3.335,
          3.335,
          3.315,
          3.335,
          3.355,
          3.385,
          3.37,
          3.36,
          3.3096,
          3.335,
          3.348,
          3.59,
          3.5701,
          3.5283,
          3.5,
          3.51,
          3.62,
          3.635,
          3.6141,
          3.615,
          3.65,
          3.6261,
          3.6,
          3.595,
          3.5783,
          3.56,
          3.595,
          3.575,
          3.5757,
          3.58,
          3.5171,
          3.555,
          3.57,
          3.5827,
          3.62,
          3.6,
          3.585,
          3.5792,
          3.58,
          3.5649,
          3.57,
          3.555,
          3.55,
          3.5442,
          3.56,
          3.55,
          3.565,
          3.57,
          3.6,
          3.5774,
          3.505,
          3.4401,
          3.49,
          3.545,
          3.5144,
          3.4847,
          3.465,
          3.49,
          3.51,
          3.535,
          3.51,
          3.525,
          3.547,
          3.55,
          3.585,
          3.5983,
          3.591,
          3.595,
          3.5949,
          3.615,
          3.63,
          3.615,
          3.645,
          3.615,
          3.615,
          3.6112,
          3.586,
          3.595,
          3.585,
          3.585,
          3.59,
          3.5894,
          3.535,
          3.585,
          3.585,
          3.59,
          3.575,
          3.57,
          3.535,
          3.6018,
          3.515,
          3.5367,
          3.5124,
          3.52,
          3.54,
          3.56,
          3.5687,
          3.5664,
          3.565,
          3.5718,
          3.56,
          3.565,
          3.575,
          3.57,
          3.52,
          3.54,
          3.5509,
          3.565,
          3.565,
          3.6,
          3.605
         ]
        },
        {
         "mode": "lines",
         "name": "break even",
         "type": "scatter",
         "x": [
          "2020-05-14T13:30:00Z",
          "2020-05-14T13:40:00Z",
          "2020-05-14T13:50:00Z",
          "2020-05-14T14:00:00Z",
          "2020-05-14T14:10:00Z",
          "2020-05-14T14:20:00Z",
          "2020-05-14T14:30:00Z",
          "2020-05-14T14:40:00Z",
          "2020-05-14T14:50:00Z",
          "2020-05-14T15:00:00Z",
          "2020-05-14T15:10:00Z",
          "2020-05-14T15:20:00Z",
          "2020-05-14T15:30:00Z",
          "2020-05-14T15:40:00Z",
          "2020-05-14T15:50:00Z",
          "2020-05-14T16:00:00Z",
          "2020-05-14T16:10:00Z",
          "2020-05-14T16:20:00Z",
          "2020-05-14T16:30:00Z",
          "2020-05-14T16:40:00Z",
          "2020-05-14T16:50:00Z",
          "2020-05-14T17:00:00Z",
          "2020-05-14T17:10:00Z",
          "2020-05-14T17:20:00Z",
          "2020-05-14T17:30:00Z",
          "2020-05-14T17:40:00Z",
          "2020-05-14T17:50:00Z",
          "2020-05-14T18:00:00Z",
          "2020-05-14T18:10:00Z",
          "2020-05-14T18:20:00Z",
          "2020-05-14T18:30:00Z",
          "2020-05-14T18:40:00Z",
          "2020-05-14T18:50:00Z",
          "2020-05-14T19:00:00Z",
          "2020-05-14T19:10:00Z",
          "2020-05-14T19:20:00Z",
          "2020-05-14T19:30:00Z",
          "2020-05-14T19:40:00Z",
          "2020-05-14T19:50:00Z",
          "2020-05-15T13:30:00Z",
          "2020-05-15T13:40:00Z",
          "2020-05-15T13:50:00Z",
          "2020-05-15T14:00:00Z",
          "2020-05-15T14:10:00Z",
          "2020-05-15T14:20:00Z",
          "2020-05-15T14:30:00Z",
          "2020-05-15T14:40:00Z",
          "2020-05-15T14:50:00Z",
          "2020-05-15T15:00:00Z",
          "2020-05-15T15:10:00Z",
          "2020-05-15T15:20:00Z",
          "2020-05-15T15:30:00Z",
          "2020-05-15T15:40:00Z",
          "2020-05-15T15:50:00Z",
          "2020-05-15T16:00:00Z",
          "2020-05-15T16:10:00Z",
          "2020-05-15T16:20:00Z",
          "2020-05-15T16:30:00Z",
          "2020-05-15T16:40:00Z",
          "2020-05-15T16:50:00Z",
          "2020-05-15T17:00:00Z",
          "2020-05-15T17:10:00Z",
          "2020-05-15T17:20:00Z",
          "2020-05-15T17:30:00Z",
          "2020-05-15T17:40:00Z",
          "2020-05-15T17:50:00Z",
          "2020-05-15T18:00:00Z",
          "2020-05-15T18:10:00Z",
          "2020-05-15T18:20:00Z",
          "2020-05-15T18:30:00Z",
          "2020-05-15T18:40:00Z",
          "2020-05-15T18:50:00Z",
          "2020-05-15T19:00:00Z",
          "2020-05-15T19:10:00Z",
          "2020-05-15T19:20:00Z",
          "2020-05-15T19:30:00Z",
          "2020-05-15T19:40:00Z",
          "2020-05-15T19:50:00Z",
          "2020-05-18T13:30:00Z",
          "2020-05-18T13:40:00Z",
          "2020-05-18T13:50:00Z",
          "2020-05-18T14:00:00Z",
          "2020-05-18T14:10:00Z",
          "2020-05-18T14:20:00Z",
          "2020-05-18T14:30:00Z",
          "2020-05-18T14:40:00Z",
          "2020-05-18T14:50:00Z",
          "2020-05-18T15:00:00Z",
          "2020-05-18T15:10:00Z",
          "2020-05-18T15:20:00Z",
          "2020-05-18T15:30:00Z",
          "2020-05-18T15:40:00Z",
          "2020-05-18T15:50:00Z",
          "2020-05-18T16:00:00Z",
          "2020-05-18T16:10:00Z",
          "2020-05-18T16:20:00Z",
          "2020-05-18T16:30:00Z",
          "2020-05-18T16:40:00Z",
          "2020-05-18T16:50:00Z",
          "2020-05-18T17:00:00Z",
          "2020-05-18T17:10:00Z",
          "2020-05-18T17:20:00Z",
          "2020-05-18T17:30:00Z",
          "2020-05-18T17:40:00Z",
          "2020-05-18T17:50:00Z",
          "2020-05-18T18:00:00Z",
          "2020-05-18T18:10:00Z",
          "2020-05-18T18:20:00Z",
          "2020-05-18T18:30:00Z",
          "2020-05-18T18:40:00Z",
          "2020-05-18T18:50:00Z",
          "2020-05-18T19:00:00Z",
          "2020-05-18T19:10:00Z",
          "2020-05-18T19:20:00Z",
          "2020-05-18T19:30:00Z",
          "2020-05-18T19:40:00Z",
          "2020-05-18T19:50:00Z",
          "2020-05-19T13:30:00Z",
          "2020-05-19T13:40:00Z",
          "2020-05-19T13:50:00Z",
          "2020-05-19T14:00:00Z",
          "2020-05-19T14:10:00Z",
          "2020-05-19T14:20:00Z",
          "2020-05-19T14:30:00Z",
          "2020-05-19T14:40:00Z",
          "2020-05-19T14:50:00Z",
          "2020-05-19T15:00:00Z",
          "2020-05-19T15:10:00Z",
          "2020-05-19T15:20:00Z",
          "2020-05-19T15:30:00Z",
          "2020-05-19T15:40:00Z",
          "2020-05-19T15:50:00Z",
          "2020-05-19T16:00:00Z",
          "2020-05-19T16:10:00Z",
          "2020-05-19T16:20:00Z",
          "2020-05-19T16:30:00Z",
          "2020-05-19T16:40:00Z",
          "2020-05-19T16:50:00Z",
          "2020-05-19T17:00:00Z",
          "2020-05-19T17:10:00Z",
          "2020-05-19T17:20:00Z",
          "2020-05-19T17:30:00Z",
          "2020-05-19T17:40:00Z",
          "2020-05-19T17:50:00Z",
          "2020-05-19T18:00:00Z",
          "2020-05-19T18:10:00Z",
          "2020-05-19T18:20:00Z",
          "2020-05-19T18:30:00Z",
          "2020-05-19T18:40:00Z",
          "2020-05-19T18:50:00Z",
          "2020-05-19T19:00:00Z",
          "2020-05-19T19:10:00Z",
          "2020-05-19T19:20:00Z",
          "2020-05-19T19:30:00Z",
          "2020-05-19T19:40:00Z",
          "2020-05-19T19:50:00Z",
          "2020-05-20T13:30:00Z",
          "2020-05-20T13:40:00Z",
          "2020-05-20T13:50:00Z",
          "2020-05-20T14:00:00Z",
          "2020-05-20T14:10:00Z",
          "2020-05-20T14:20:00Z",
          "2020-05-20T14:30:00Z",
          "2020-05-20T14:40:00Z",
          "2020-05-20T14:50:00Z",
          "2020-05-20T15:00:00Z",
          "2020-05-20T15:10:00Z",
          "2020-05-20T15:20:00Z",
          "2020-05-20T15:30:00Z",
          "2020-05-20T15:40:00Z",
          "2020-05-20T15:50:00Z",
          "2020-05-20T16:00:00Z",
          "2020-05-20T16:10:00Z",
          "2020-05-20T16:20:00Z",
          "2020-05-20T16:30:00Z",
          "2020-05-20T16:40:00Z",
          "2020-05-20T16:50:00Z",
          "2020-05-20T17:00:00Z"
         ],
         "y": [
          2.9099999999999997,
          2.7958,
          2.8099999999999996,
          2.8499999999999996,
          2.8501,
          2.8899999999999997,
          2.9699999999999998,
          3,
          2.956,
          3,
          3.11,
          3.1402,
          3.1001,
          3.15,
          3.119,
          3.0901,
          3.0958,
          3.0858,
          3.1032,
          3.085,
          3.13,
          3.11,
          3.115,
          3.13,
          3.095,
          3.11,
          3.0701,
          3.08,
          3.08,
          3.0199999999999996,
          3.0199999999999996,
          3.005,
          3,
          3.005,
          2.988,
          2.9831,
          2.9981999999999998,
          3.01,
          3.025,
          3.2301,
          3.31,
          3.2441,
          3.265,
          3.1950000000000003,
          3.1950000000000003,
          3.24,
          3.225,
          3.21,
          3.23,
          3.25,
          3.27,
          3.325,
          3.315,
          3.345,
          3.3599,
          3.3000000000000003,
          3.3486000000000002,
          3.39,
          3.355,
          3.3761,
          3.4,
          3.455,
          3.44,
          3.3952,
          3.435,
          3.445,
          3.4718999999999998,
          3.435,
          3.465,
          3.445,
          3.465,
          3.505,
          3.5149999999999997,
          3.52,
          3.51,
          3.4596,
          3.465,
          3.4779999999999998,
          3.77,
          3.8001,
          3.7083000000000004,
          3.68,
          3.69,
          3.85,
          3.835,
          3.8441,
          3.845,
          3.88,
          3.8761,
          3.83,
          3.7950000000000004,
          3.7783,
          3.79,
          3.825,
          3.805,
          3.7757,
          3.7600000000000002,
          3.6971000000000003,
          3.7350000000000003,
          3.75,
          3.7827,
          3.8200000000000003,
          3.8000000000000003,
          3.785,
          3.7592000000000003,
          3.7800000000000002,
          3.7449000000000003,
          3.77,
          3.7350000000000003,
          3.73,
          3.7242,
          3.74,
          3.73,
          3.745,
          3.75,
          3.7800000000000002,
          3.7574,
          3.685,
          3.5901,
          3.62,
          3.725,
          3.6444,
          3.6147,
          3.5949999999999998,
          3.62,
          3.6399999999999997,
          3.665,
          3.6399999999999997,
          3.655,
          3.7270000000000003,
          3.73,
          3.765,
          3.7783,
          3.7910000000000004,
          3.7950000000000004,
          3.7749,
          3.7950000000000004,
          3.86,
          3.845,
          3.875,
          3.845,
          3.845,
          3.8412,
          3.816,
          3.825,
          3.785,
          3.765,
          3.77,
          3.7694,
          3.685,
          3.735,
          3.765,
          3.7399999999999998,
          3.725,
          3.7199999999999998,
          3.7150000000000003,
          3.7518,
          3.645,
          3.6667,
          3.6424,
          3.65,
          3.67,
          3.69,
          3.6987,
          3.7163999999999997,
          3.745,
          3.7518000000000002,
          3.74,
          3.695,
          3.705,
          3.6999999999999997,
          3.65,
          3.67,
          3.6809,
          3.695,
          3.695,
          3.75,
          3.755
         ]
        }
       ],
       "layout": {
        "template": {
         "data": {
          "bar": [
           {
            "error_x": {
             "color": "#2a3f5f"
            },
            "error_y": {
             "color": "#2a3f5f"
            },
            "marker": {
             "line": {
              "color": "#E5ECF6",
              "width": 0.5
             }
            },
            "type": "bar"
           }
          ],
          "barpolar": [
           {
            "marker": {
             "line": {
              "color": "#E5ECF6",
              "width": 0.5
             }
            },
            "type": "barpolar"
           }
          ],
          "carpet": [
           {
            "aaxis": {
             "endlinecolor": "#2a3f5f",
             "gridcolor": "white",
             "linecolor": "white",
             "minorgridcolor": "white",
             "startlinecolor": "#2a3f5f"
            },
            "baxis": {
             "endlinecolor": "#2a3f5f",
             "gridcolor": "white",
             "linecolor": "white",
             "minorgridcolor": "white",
             "startlinecolor": "#2a3f5f"
            },
            "type": "carpet"
           }
          ],
          "choropleth": [
           {
            "colorbar": {
             "outlinewidth": 0,
             "ticks": ""
            },
            "type": "choropleth"
           }
          ],
          "contour": [
           {
            "colorbar": {
             "outlinewidth": 0,
             "ticks": ""
            },
            "colorscale": [
             [
              0,
              "#0d0887"
             ],
             [
              0.1111111111111111,
              "#46039f"
             ],
             [
              0.2222222222222222,
              "#7201a8"
             ],
             [
              0.3333333333333333,
              "#9c179e"
             ],
             [
              0.4444444444444444,
              "#bd3786"
             ],
             [
              0.5555555555555556,
              "#d8576b"
             ],
             [
              0.6666666666666666,
              "#ed7953"
             ],
             [
              0.7777777777777778,
              "#fb9f3a"
             ],
             [
              0.8888888888888888,
              "#fdca26"
             ],
             [
              1,
              "#f0f921"
             ]
            ],
            "type": "contour"
           }
          ],
          "contourcarpet": [
           {
            "colorbar": {
             "outlinewidth": 0,
             "ticks": ""
            },
            "type": "contourcarpet"
           }
          ],
          "heatmap": [
           {
            "colorbar": {
             "outlinewidth": 0,
             "ticks": ""
            },
            "colorscale": [
             [
              0,
              "#0d0887"
             ],
             [
              0.1111111111111111,
              "#46039f"
             ],
             [
              0.2222222222222222,
              "#7201a8"
             ],
             [
              0.3333333333333333,
              "#9c179e"
             ],
             [
              0.4444444444444444,
              "#bd3786"
             ],
             [
              0.5555555555555556,
              "#d8576b"
             ],
             [
              0.6666666666666666,
              "#ed7953"
             ],
             [
              0.7777777777777778,
              "#fb9f3a"
             ],
             [
              0.8888888888888888,
              "#fdca26"
             ],
             [
              1,
              "#f0f921"
             ]
            ],
            "type": "heatmap"
           }
          ],
          "heatmapgl": [
           {
            "colorbar": {
             "outlinewidth": 0,
             "ticks": ""
            },
            "colorscale": [
             [
              0,
              "#0d0887"
             ],
             [
              0.1111111111111111,
              "#46039f"
             ],
             [
              0.2222222222222222,
              "#7201a8"
             ],
             [
              0.3333333333333333,
              "#9c179e"
             ],
             [
              0.4444444444444444,
              "#bd3786"
             ],
             [
              0.5555555555555556,
              "#d8576b"
             ],
             [
              0.6666666666666666,
              "#ed7953"
             ],
             [
              0.7777777777777778,
              "#fb9f3a"
             ],
             [
              0.8888888888888888,
              "#fdca26"
             ],
             [
              1,
              "#f0f921"
             ]
            ],
            "type": "heatmapgl"
           }
          ],
          "histogram": [
           {
            "marker": {
             "colorbar": {
              "outlinewidth": 0,
              "ticks": ""
             }
            },
            "type": "histogram"
           }
          ],
          "histogram2d": [
           {
            "colorbar": {
             "outlinewidth": 0,
             "ticks": ""
            },
            "colorscale": [
             [
              0,
              "#0d0887"
             ],
             [
              0.1111111111111111,
              "#46039f"
             ],
             [
              0.2222222222222222,
              "#7201a8"
             ],
             [
              0.3333333333333333,
              "#9c179e"
             ],
             [
              0.4444444444444444,
              "#bd3786"
             ],
             [
              0.5555555555555556,
              "#d8576b"
             ],
             [
              0.6666666666666666,
              "#ed7953"
             ],
             [
              0.7777777777777778,
              "#fb9f3a"
             ],
             [
              0.8888888888888888,
              "#fdca26"
             ],
             [
              1,
              "#f0f921"
             ]
            ],
            "type": "histogram2d"
           }
          ],
          "histogram2dcontour": [
           {
            "colorbar": {
             "outlinewidth": 0,
             "ticks": ""
            },
            "colorscale": [
             [
              0,
              "#0d0887"
             ],
             [
              0.1111111111111111,
              "#46039f"
             ],
             [
              0.2222222222222222,
              "#7201a8"
             ],
             [
              0.3333333333333333,
              "#9c179e"
             ],
             [
              0.4444444444444444,
              "#bd3786"
             ],
             [
              0.5555555555555556,
              "#d8576b"
             ],
             [
              0.6666666666666666,
              "#ed7953"
             ],
             [
              0.7777777777777778,
              "#fb9f3a"
             ],
             [
              0.8888888888888888,
              "#fdca26"
             ],
             [
              1,
              "#f0f921"
             ]
            ],
            "type": "histogram2dcontour"
           }
          ],
          "mesh3d": [
           {
            "colorbar": {
             "outlinewidth": 0,
             "ticks": ""
            },
            "type": "mesh3d"
           }
          ],
          "parcoords": [
           {
            "line": {
             "colorbar": {
              "outlinewidth": 0,
              "ticks": ""
             }
            },
            "type": "parcoords"
           }
          ],
          "pie": [
           {
            "automargin": true,
            "type": "pie"
           }
          ],
          "scatter": [
           {
            "marker": {
             "colorbar": {
              "outlinewidth": 0,
              "ticks": ""
             }
            },
            "type": "scatter"
           }
          ],
          "scatter3d": [
           {
            "line": {
             "colorbar": {
              "outlinewidth": 0,
              "ticks": ""
             }
            },
            "marker": {
             "colorbar": {
              "outlinewidth": 0,
              "ticks": ""
             }
            },
            "type": "scatter3d"
           }
          ],
          "scattercarpet": [
           {
            "marker": {
             "colorbar": {
              "outlinewidth": 0,
              "ticks": ""
             }
            },
            "type": "scattercarpet"
           }
          ],
          "scattergeo": [
           {
            "marker": {
             "colorbar": {
              "outlinewidth": 0,
              "ticks": ""
             }
            },
            "type": "scattergeo"
           }
          ],
          "scattergl": [
           {
            "marker": {
             "colorbar": {
              "outlinewidth": 0,
              "ticks": ""
             }
            },
            "type": "scattergl"
           }
          ],
          "scattermapbox": [
           {
            "marker": {
             "colorbar": {
              "outlinewidth": 0,
              "ticks": ""
             }
            },
            "type": "scattermapbox"
           }
          ],
          "scatterpolar": [
           {
            "marker": {
             "colorbar": {
              "outlinewidth": 0,
              "ticks": ""
             }
            },
            "type": "scatterpolar"
           }
          ],
          "scatterpolargl": [
           {
            "marker": {
             "colorbar": {
              "outlinewidth": 0,
              "ticks": ""
             }
            },
            "type": "scatterpolargl"
           }
          ],
          "scatterternary": [
           {
            "marker": {
             "colorbar": {
              "outlinewidth": 0,
              "ticks": ""
             }
            },
            "type": "scatterternary"
           }
          ],
          "surface": [
           {
            "colorbar": {
             "outlinewidth": 0,
             "ticks": ""
            },
            "colorscale": [
             [
              0,
              "#0d0887"
             ],
             [
              0.1111111111111111,
              "#46039f"
             ],
             [
              0.2222222222222222,
              "#7201a8"
             ],
             [
              0.3333333333333333,
              "#9c179e"
             ],
             [
              0.4444444444444444,
              "#bd3786"
             ],
             [
              0.5555555555555556,
              "#d8576b"
             ],
             [
              0.6666666666666666,
              "#ed7953"
             ],
             [
              0.7777777777777778,
              "#fb9f3a"
             ],
             [
              0.8888888888888888,
              "#fdca26"
             ],
             [
              1,
              "#f0f921"
             ]
            ],
            "type": "surface"
           }
          ],
          "table": [
           {
            "cells": {
             "fill": {
              "color": "#EBF0F8"
             },
             "line": {
              "color": "white"
             }
            },
            "header": {
             "fill": {
              "color": "#C8D4E3"
             },
             "line": {
              "color": "white"
             }
            },
            "type": "table"
           }
          ]
         },
         "layout": {
          "annotationdefaults": {
           "arrowcolor": "#2a3f5f",
           "arrowhead": 0,
           "arrowwidth": 1
          },
          "coloraxis": {
           "colorbar": {
            "outlinewidth": 0,
            "ticks": ""
           }
          },
          "colorscale": {
           "diverging": [
            [
             0,
             "#8e0152"
            ],
            [
             0.1,
             "#c51b7d"
            ],
            [
             0.2,
             "#de77ae"
            ],
            [
             0.3,
             "#f1b6da"
            ],
            [
             0.4,
             "#fde0ef"
            ],
            [
             0.5,
             "#f7f7f7"
            ],
            [
             0.6,
             "#e6f5d0"
            ],
            [
             0.7,
             "#b8e186"
            ],
            [
             0.8,
             "#7fbc41"
            ],
            [
             0.9,
             "#4d9221"
            ],
            [
             1,
             "#276419"
            ]
           ],
           "sequential": [
            [
             0,
             "#0d0887"
            ],
            [
             0.1111111111111111,
             "#46039f"
            ],
            [
             0.2222222222222222,
             "#7201a8"
            ],
            [
             0.3333333333333333,
             "#9c179e"
            ],
            [
             0.4444444444444444,
             "#bd3786"
            ],
            [
             0.5555555555555556,
             "#d8576b"
            ],
            [
             0.6666666666666666,
             "#ed7953"
            ],
            [
             0.7777777777777778,
             "#fb9f3a"
            ],
            [
             0.8888888888888888,
             "#fdca26"
            ],
            [
             1,
             "#f0f921"
            ]
           ],
           "sequentialminus": [
            [
             0,
             "#0d0887"
            ],
            [
             0.1111111111111111,
             "#46039f"
            ],
            [
             0.2222222222222222,
             "#7201a8"
            ],
            [
             0.3333333333333333,
             "#9c179e"
            ],
            [
             0.4444444444444444,
             "#bd3786"
            ],
            [
             0.5555555555555556,
             "#d8576b"
            ],
            [
             0.6666666666666666,
             "#ed7953"
            ],
            [
             0.7777777777777778,
             "#fb9f3a"
            ],
            [
             0.8888888888888888,
             "#fdca26"
            ],
            [
             1,
             "#f0f921"
            ]
           ]
          },
          "colorway": [
           "#636efa",
           "#EF553B",
           "#00cc96",
           "#ab63fa",
           "#FFA15A",
           "#19d3f3",
           "#FF6692",
           "#B6E880",
           "#FF97FF",
           "#FECB52"
          ],
          "font": {
           "color": "#2a3f5f"
          },
          "geo": {
           "bgcolor": "white",
           "lakecolor": "white",
           "landcolor": "#E5ECF6",
           "showlakes": true,
           "showland": true,
           "subunitcolor": "white"
          },
          "hoverlabel": {
           "align": "left"
          },
          "hovermode": "closest",
          "mapbox": {
           "style": "light"
          },
          "paper_bgcolor": "white",
          "plot_bgcolor": "#E5ECF6",
          "polar": {
           "angularaxis": {
            "gridcolor": "white",
            "linecolor": "white",
            "ticks": ""
           },
           "bgcolor": "#E5ECF6",
           "radialaxis": {
            "gridcolor": "white",
            "linecolor": "white",
            "ticks": ""
           }
          },
          "scene": {
           "xaxis": {
            "backgroundcolor": "#E5ECF6",
            "gridcolor": "white",
            "gridwidth": 2,
            "linecolor": "white",
            "showbackground": true,
            "ticks": "",
            "zerolinecolor": "white"
           },
           "yaxis": {
            "backgroundcolor": "#E5ECF6",
            "gridcolor": "white",
            "gridwidth": 2,
            "linecolor": "white",
            "showbackground": true,
            "ticks": "",
            "zerolinecolor": "white"
           },
           "zaxis": {
            "backgroundcolor": "#E5ECF6",
            "gridcolor": "white",
            "gridwidth": 2,
            "linecolor": "white",
            "showbackground": true,
            "ticks": "",
            "zerolinecolor": "white"
           }
          },
          "shapedefaults": {
           "line": {
            "color": "#2a3f5f"
           }
          },
          "ternary": {
           "aaxis": {
            "gridcolor": "white",
            "linecolor": "white",
            "ticks": ""
           },
           "baxis": {
            "gridcolor": "white",
            "linecolor": "white",
            "ticks": ""
           },
           "bgcolor": "#E5ECF6",
           "caxis": {
            "gridcolor": "white",
            "linecolor": "white",
            "ticks": ""
           }
          },
          "title": {
           "x": 0.05
          },
          "xaxis": {
           "automargin": true,
           "gridcolor": "white",
           "linecolor": "white",
           "ticks": "",
           "title": {
            "standoff": 15
           },
           "zerolinecolor": "white",
           "zerolinewidth": 2
          },
          "yaxis": {
           "automargin": true,
           "gridcolor": "white",
           "linecolor": "white",
           "ticks": "",
           "title": {
            "standoff": 15
           },
           "zerolinecolor": "white",
           "zerolinewidth": 2
          }
         }
        },
        "title": {
         "text": "APHA Expiration:2020-05-22, Strike: 3.5000, Time:2020-05-20 10:00"
        },
        "xaxis": {
         "title": {
          "text": "Date"
         }
        },
        "yaxis": {
         "title": {
          "text": "Stock Price"
         }
        }
       }
      },
      "text/html": [
       "<div>\n",
       "        \n",
       "        \n",
       "            <div id=\"d0da53e9-2316-453e-827e-71244d992afc\" class=\"plotly-graph-div\" style=\"height:525px; width:100%;\"></div>\n",
       "            <script type=\"text/javascript\">\n",
       "                require([\"plotly\"], function(Plotly) {\n",
       "                    window.PLOTLYENV=window.PLOTLYENV || {};\n",
       "                    \n",
       "                if (document.getElementById(\"d0da53e9-2316-453e-827e-71244d992afc\")) {\n",
       "                    Plotly.newPlot(\n",
       "                        'd0da53e9-2316-453e-827e-71244d992afc',\n",
       "                        [{\"mode\": \"lines\", \"name\": \"stock_price\", \"type\": \"scatter\", \"x\": [\"2020-05-14T13:30:00Z\", \"2020-05-14T13:40:00Z\", \"2020-05-14T13:50:00Z\", \"2020-05-14T14:00:00Z\", \"2020-05-14T14:10:00Z\", \"2020-05-14T14:20:00Z\", \"2020-05-14T14:30:00Z\", \"2020-05-14T14:40:00Z\", \"2020-05-14T14:50:00Z\", \"2020-05-14T15:00:00Z\", \"2020-05-14T15:10:00Z\", \"2020-05-14T15:20:00Z\", \"2020-05-14T15:30:00Z\", \"2020-05-14T15:40:00Z\", \"2020-05-14T15:50:00Z\", \"2020-05-14T16:00:00Z\", \"2020-05-14T16:10:00Z\", \"2020-05-14T16:20:00Z\", \"2020-05-14T16:30:00Z\", \"2020-05-14T16:40:00Z\", \"2020-05-14T16:50:00Z\", \"2020-05-14T17:00:00Z\", \"2020-05-14T17:10:00Z\", \"2020-05-14T17:20:00Z\", \"2020-05-14T17:30:00Z\", \"2020-05-14T17:40:00Z\", \"2020-05-14T17:50:00Z\", \"2020-05-14T18:00:00Z\", \"2020-05-14T18:10:00Z\", \"2020-05-14T18:20:00Z\", \"2020-05-14T18:30:00Z\", \"2020-05-14T18:40:00Z\", \"2020-05-14T18:50:00Z\", \"2020-05-14T19:00:00Z\", \"2020-05-14T19:10:00Z\", \"2020-05-14T19:20:00Z\", \"2020-05-14T19:30:00Z\", \"2020-05-14T19:40:00Z\", \"2020-05-14T19:50:00Z\", \"2020-05-15T13:30:00Z\", \"2020-05-15T13:40:00Z\", \"2020-05-15T13:50:00Z\", \"2020-05-15T14:00:00Z\", \"2020-05-15T14:10:00Z\", \"2020-05-15T14:20:00Z\", \"2020-05-15T14:30:00Z\", \"2020-05-15T14:40:00Z\", \"2020-05-15T14:50:00Z\", \"2020-05-15T15:00:00Z\", \"2020-05-15T15:10:00Z\", \"2020-05-15T15:20:00Z\", \"2020-05-15T15:30:00Z\", \"2020-05-15T15:40:00Z\", \"2020-05-15T15:50:00Z\", \"2020-05-15T16:00:00Z\", \"2020-05-15T16:10:00Z\", \"2020-05-15T16:20:00Z\", \"2020-05-15T16:30:00Z\", \"2020-05-15T16:40:00Z\", \"2020-05-15T16:50:00Z\", \"2020-05-15T17:00:00Z\", \"2020-05-15T17:10:00Z\", \"2020-05-15T17:20:00Z\", \"2020-05-15T17:30:00Z\", \"2020-05-15T17:40:00Z\", \"2020-05-15T17:50:00Z\", \"2020-05-15T18:00:00Z\", \"2020-05-15T18:10:00Z\", \"2020-05-15T18:20:00Z\", \"2020-05-15T18:30:00Z\", \"2020-05-15T18:40:00Z\", \"2020-05-15T18:50:00Z\", \"2020-05-15T19:00:00Z\", \"2020-05-15T19:10:00Z\", \"2020-05-15T19:20:00Z\", \"2020-05-15T19:30:00Z\", \"2020-05-15T19:40:00Z\", \"2020-05-15T19:50:00Z\", \"2020-05-18T13:30:00Z\", \"2020-05-18T13:40:00Z\", \"2020-05-18T13:50:00Z\", \"2020-05-18T14:00:00Z\", \"2020-05-18T14:10:00Z\", \"2020-05-18T14:20:00Z\", \"2020-05-18T14:30:00Z\", \"2020-05-18T14:40:00Z\", \"2020-05-18T14:50:00Z\", \"2020-05-18T15:00:00Z\", \"2020-05-18T15:10:00Z\", \"2020-05-18T15:20:00Z\", \"2020-05-18T15:30:00Z\", \"2020-05-18T15:40:00Z\", \"2020-05-18T15:50:00Z\", \"2020-05-18T16:00:00Z\", \"2020-05-18T16:10:00Z\", \"2020-05-18T16:20:00Z\", \"2020-05-18T16:30:00Z\", \"2020-05-18T16:40:00Z\", \"2020-05-18T16:50:00Z\", \"2020-05-18T17:00:00Z\", \"2020-05-18T17:10:00Z\", \"2020-05-18T17:20:00Z\", \"2020-05-18T17:30:00Z\", \"2020-05-18T17:40:00Z\", \"2020-05-18T17:50:00Z\", \"2020-05-18T18:00:00Z\", \"2020-05-18T18:10:00Z\", \"2020-05-18T18:20:00Z\", \"2020-05-18T18:30:00Z\", \"2020-05-18T18:40:00Z\", \"2020-05-18T18:50:00Z\", \"2020-05-18T19:00:00Z\", \"2020-05-18T19:10:00Z\", \"2020-05-18T19:20:00Z\", \"2020-05-18T19:30:00Z\", \"2020-05-18T19:40:00Z\", \"2020-05-18T19:50:00Z\", \"2020-05-19T13:30:00Z\", \"2020-05-19T13:40:00Z\", \"2020-05-19T13:50:00Z\", \"2020-05-19T14:00:00Z\", \"2020-05-19T14:10:00Z\", \"2020-05-19T14:20:00Z\", \"2020-05-19T14:30:00Z\", \"2020-05-19T14:40:00Z\", \"2020-05-19T14:50:00Z\", \"2020-05-19T15:00:00Z\", \"2020-05-19T15:10:00Z\", \"2020-05-19T15:20:00Z\", \"2020-05-19T15:30:00Z\", \"2020-05-19T15:40:00Z\", \"2020-05-19T15:50:00Z\", \"2020-05-19T16:00:00Z\", \"2020-05-19T16:10:00Z\", \"2020-05-19T16:20:00Z\", \"2020-05-19T16:30:00Z\", \"2020-05-19T16:40:00Z\", \"2020-05-19T16:50:00Z\", \"2020-05-19T17:00:00Z\", \"2020-05-19T17:10:00Z\", \"2020-05-19T17:20:00Z\", \"2020-05-19T17:30:00Z\", \"2020-05-19T17:40:00Z\", \"2020-05-19T17:50:00Z\", \"2020-05-19T18:00:00Z\", \"2020-05-19T18:10:00Z\", \"2020-05-19T18:20:00Z\", \"2020-05-19T18:30:00Z\", \"2020-05-19T18:40:00Z\", \"2020-05-19T18:50:00Z\", \"2020-05-19T19:00:00Z\", \"2020-05-19T19:10:00Z\", \"2020-05-19T19:20:00Z\", \"2020-05-19T19:30:00Z\", \"2020-05-19T19:40:00Z\", \"2020-05-19T19:50:00Z\", \"2020-05-20T13:30:00Z\", \"2020-05-20T13:40:00Z\", \"2020-05-20T13:50:00Z\", \"2020-05-20T14:00:00Z\", \"2020-05-20T14:10:00Z\", \"2020-05-20T14:20:00Z\", \"2020-05-20T14:30:00Z\", \"2020-05-20T14:40:00Z\", \"2020-05-20T14:50:00Z\", \"2020-05-20T15:00:00Z\", \"2020-05-20T15:10:00Z\", \"2020-05-20T15:20:00Z\", \"2020-05-20T15:30:00Z\", \"2020-05-20T15:40:00Z\", \"2020-05-20T15:50:00Z\", \"2020-05-20T16:00:00Z\", \"2020-05-20T16:10:00Z\", \"2020-05-20T16:20:00Z\", \"2020-05-20T16:30:00Z\", \"2020-05-20T16:40:00Z\", \"2020-05-20T16:50:00Z\", \"2020-05-20T17:00:00Z\"], \"y\": [2.9, 2.7858, 2.8, 2.84, 2.8401, 2.88, 2.96, 2.99, 2.946, 2.99, 3.03, 3.0602, 3.0201, 3.07, 3.039, 3.0101, 3.0158, 3.0058, 3.0232, 3.005, 3.05, 3.03, 3.035, 3.05, 3.015, 3.03, 2.9901, 3.0, 3.0, 3.01, 3.01, 2.995, 2.99, 2.995, 2.978, 2.9731, 2.9882, 3.0, 3.015, 3.1501, 3.23, 3.1641, 3.185, 3.115, 3.115, 3.16, 3.145, 3.13, 3.15, 3.17, 3.19, 3.245, 3.235, 3.265, 3.2799, 3.22, 3.2686, 3.31, 3.275, 3.2961, 3.32, 3.325, 3.31, 3.2952, 3.305, 3.315, 3.3419, 3.335, 3.335, 3.315, 3.335, 3.355, 3.385, 3.37, 3.36, 3.3096, 3.335, 3.348, 3.59, 3.5701, 3.5283, 3.5, 3.51, 3.62, 3.635, 3.6141, 3.615, 3.65, 3.6261, 3.6, 3.595, 3.5783, 3.56, 3.595, 3.575, 3.5757, 3.58, 3.5171, 3.555, 3.57, 3.5827, 3.62, 3.6, 3.585, 3.5792, 3.58, 3.5649, 3.57, 3.555, 3.55, 3.5442, 3.56, 3.55, 3.565, 3.57, 3.6, 3.5774, 3.505, 3.4401, 3.49, 3.545, 3.5144, 3.4847, 3.465, 3.49, 3.51, 3.535, 3.51, 3.525, 3.547, 3.55, 3.585, 3.5983, 3.591, 3.595, 3.5949, 3.615, 3.63, 3.615, 3.645, 3.615, 3.615, 3.6112, 3.586, 3.595, 3.585, 3.585, 3.59, 3.5894, 3.535, 3.585, 3.585, 3.59, 3.575, 3.57, 3.535, 3.6018, 3.515, 3.5367, 3.5124, 3.52, 3.54, 3.56, 3.5687, 3.5664, 3.565, 3.5718, 3.56, 3.565, 3.575, 3.57, 3.52, 3.54, 3.5509, 3.565, 3.565, 3.6, 3.605]}, {\"mode\": \"lines\", \"name\": \"break even\", \"type\": \"scatter\", \"x\": [\"2020-05-14T13:30:00Z\", \"2020-05-14T13:40:00Z\", \"2020-05-14T13:50:00Z\", \"2020-05-14T14:00:00Z\", \"2020-05-14T14:10:00Z\", \"2020-05-14T14:20:00Z\", \"2020-05-14T14:30:00Z\", \"2020-05-14T14:40:00Z\", \"2020-05-14T14:50:00Z\", \"2020-05-14T15:00:00Z\", \"2020-05-14T15:10:00Z\", \"2020-05-14T15:20:00Z\", \"2020-05-14T15:30:00Z\", \"2020-05-14T15:40:00Z\", \"2020-05-14T15:50:00Z\", \"2020-05-14T16:00:00Z\", \"2020-05-14T16:10:00Z\", \"2020-05-14T16:20:00Z\", \"2020-05-14T16:30:00Z\", \"2020-05-14T16:40:00Z\", \"2020-05-14T16:50:00Z\", \"2020-05-14T17:00:00Z\", \"2020-05-14T17:10:00Z\", \"2020-05-14T17:20:00Z\", \"2020-05-14T17:30:00Z\", \"2020-05-14T17:40:00Z\", \"2020-05-14T17:50:00Z\", \"2020-05-14T18:00:00Z\", \"2020-05-14T18:10:00Z\", \"2020-05-14T18:20:00Z\", \"2020-05-14T18:30:00Z\", \"2020-05-14T18:40:00Z\", \"2020-05-14T18:50:00Z\", \"2020-05-14T19:00:00Z\", \"2020-05-14T19:10:00Z\", \"2020-05-14T19:20:00Z\", \"2020-05-14T19:30:00Z\", \"2020-05-14T19:40:00Z\", \"2020-05-14T19:50:00Z\", \"2020-05-15T13:30:00Z\", \"2020-05-15T13:40:00Z\", \"2020-05-15T13:50:00Z\", \"2020-05-15T14:00:00Z\", \"2020-05-15T14:10:00Z\", \"2020-05-15T14:20:00Z\", \"2020-05-15T14:30:00Z\", \"2020-05-15T14:40:00Z\", \"2020-05-15T14:50:00Z\", \"2020-05-15T15:00:00Z\", \"2020-05-15T15:10:00Z\", \"2020-05-15T15:20:00Z\", \"2020-05-15T15:30:00Z\", \"2020-05-15T15:40:00Z\", \"2020-05-15T15:50:00Z\", \"2020-05-15T16:00:00Z\", \"2020-05-15T16:10:00Z\", \"2020-05-15T16:20:00Z\", \"2020-05-15T16:30:00Z\", \"2020-05-15T16:40:00Z\", \"2020-05-15T16:50:00Z\", \"2020-05-15T17:00:00Z\", \"2020-05-15T17:10:00Z\", \"2020-05-15T17:20:00Z\", \"2020-05-15T17:30:00Z\", \"2020-05-15T17:40:00Z\", \"2020-05-15T17:50:00Z\", \"2020-05-15T18:00:00Z\", \"2020-05-15T18:10:00Z\", \"2020-05-15T18:20:00Z\", \"2020-05-15T18:30:00Z\", \"2020-05-15T18:40:00Z\", \"2020-05-15T18:50:00Z\", \"2020-05-15T19:00:00Z\", \"2020-05-15T19:10:00Z\", \"2020-05-15T19:20:00Z\", \"2020-05-15T19:30:00Z\", \"2020-05-15T19:40:00Z\", \"2020-05-15T19:50:00Z\", \"2020-05-18T13:30:00Z\", \"2020-05-18T13:40:00Z\", \"2020-05-18T13:50:00Z\", \"2020-05-18T14:00:00Z\", \"2020-05-18T14:10:00Z\", \"2020-05-18T14:20:00Z\", \"2020-05-18T14:30:00Z\", \"2020-05-18T14:40:00Z\", \"2020-05-18T14:50:00Z\", \"2020-05-18T15:00:00Z\", \"2020-05-18T15:10:00Z\", \"2020-05-18T15:20:00Z\", \"2020-05-18T15:30:00Z\", \"2020-05-18T15:40:00Z\", \"2020-05-18T15:50:00Z\", \"2020-05-18T16:00:00Z\", \"2020-05-18T16:10:00Z\", \"2020-05-18T16:20:00Z\", \"2020-05-18T16:30:00Z\", \"2020-05-18T16:40:00Z\", \"2020-05-18T16:50:00Z\", \"2020-05-18T17:00:00Z\", \"2020-05-18T17:10:00Z\", \"2020-05-18T17:20:00Z\", \"2020-05-18T17:30:00Z\", \"2020-05-18T17:40:00Z\", \"2020-05-18T17:50:00Z\", \"2020-05-18T18:00:00Z\", \"2020-05-18T18:10:00Z\", \"2020-05-18T18:20:00Z\", \"2020-05-18T18:30:00Z\", \"2020-05-18T18:40:00Z\", \"2020-05-18T18:50:00Z\", \"2020-05-18T19:00:00Z\", \"2020-05-18T19:10:00Z\", \"2020-05-18T19:20:00Z\", \"2020-05-18T19:30:00Z\", \"2020-05-18T19:40:00Z\", \"2020-05-18T19:50:00Z\", \"2020-05-19T13:30:00Z\", \"2020-05-19T13:40:00Z\", \"2020-05-19T13:50:00Z\", \"2020-05-19T14:00:00Z\", \"2020-05-19T14:10:00Z\", \"2020-05-19T14:20:00Z\", \"2020-05-19T14:30:00Z\", \"2020-05-19T14:40:00Z\", \"2020-05-19T14:50:00Z\", \"2020-05-19T15:00:00Z\", \"2020-05-19T15:10:00Z\", \"2020-05-19T15:20:00Z\", \"2020-05-19T15:30:00Z\", \"2020-05-19T15:40:00Z\", \"2020-05-19T15:50:00Z\", \"2020-05-19T16:00:00Z\", \"2020-05-19T16:10:00Z\", \"2020-05-19T16:20:00Z\", \"2020-05-19T16:30:00Z\", \"2020-05-19T16:40:00Z\", \"2020-05-19T16:50:00Z\", \"2020-05-19T17:00:00Z\", \"2020-05-19T17:10:00Z\", \"2020-05-19T17:20:00Z\", \"2020-05-19T17:30:00Z\", \"2020-05-19T17:40:00Z\", \"2020-05-19T17:50:00Z\", \"2020-05-19T18:00:00Z\", \"2020-05-19T18:10:00Z\", \"2020-05-19T18:20:00Z\", \"2020-05-19T18:30:00Z\", \"2020-05-19T18:40:00Z\", \"2020-05-19T18:50:00Z\", \"2020-05-19T19:00:00Z\", \"2020-05-19T19:10:00Z\", \"2020-05-19T19:20:00Z\", \"2020-05-19T19:30:00Z\", \"2020-05-19T19:40:00Z\", \"2020-05-19T19:50:00Z\", \"2020-05-20T13:30:00Z\", \"2020-05-20T13:40:00Z\", \"2020-05-20T13:50:00Z\", \"2020-05-20T14:00:00Z\", \"2020-05-20T14:10:00Z\", \"2020-05-20T14:20:00Z\", \"2020-05-20T14:30:00Z\", \"2020-05-20T14:40:00Z\", \"2020-05-20T14:50:00Z\", \"2020-05-20T15:00:00Z\", \"2020-05-20T15:10:00Z\", \"2020-05-20T15:20:00Z\", \"2020-05-20T15:30:00Z\", \"2020-05-20T15:40:00Z\", \"2020-05-20T15:50:00Z\", \"2020-05-20T16:00:00Z\", \"2020-05-20T16:10:00Z\", \"2020-05-20T16:20:00Z\", \"2020-05-20T16:30:00Z\", \"2020-05-20T16:40:00Z\", \"2020-05-20T16:50:00Z\", \"2020-05-20T17:00:00Z\"], \"y\": [2.9099999999999997, 2.7958, 2.8099999999999996, 2.8499999999999996, 2.8501, 2.8899999999999997, 2.9699999999999998, 3.0, 2.956, 3.0, 3.11, 3.1402, 3.1001, 3.15, 3.119, 3.0901, 3.0958, 3.0858, 3.1032, 3.085, 3.13, 3.11, 3.115, 3.13, 3.095, 3.11, 3.0701, 3.08, 3.08, 3.0199999999999996, 3.0199999999999996, 3.005, 3.0, 3.005, 2.988, 2.9831, 2.9981999999999998, 3.01, 3.025, 3.2301, 3.31, 3.2441, 3.265, 3.1950000000000003, 3.1950000000000003, 3.24, 3.225, 3.21, 3.23, 3.25, 3.27, 3.325, 3.315, 3.345, 3.3599, 3.3000000000000003, 3.3486000000000002, 3.39, 3.355, 3.3761, 3.4, 3.455, 3.44, 3.3952, 3.435, 3.445, 3.4718999999999998, 3.435, 3.465, 3.445, 3.465, 3.505, 3.5149999999999997, 3.52, 3.51, 3.4596, 3.465, 3.4779999999999998, 3.77, 3.8001, 3.7083000000000004, 3.68, 3.69, 3.85, 3.835, 3.8441, 3.845, 3.88, 3.8761, 3.83, 3.7950000000000004, 3.7783, 3.79, 3.825, 3.805, 3.7757, 3.7600000000000002, 3.6971000000000003, 3.7350000000000003, 3.75, 3.7827, 3.8200000000000003, 3.8000000000000003, 3.785, 3.7592000000000003, 3.7800000000000002, 3.7449000000000003, 3.77, 3.7350000000000003, 3.73, 3.7242, 3.74, 3.73, 3.745, 3.75, 3.7800000000000002, 3.7574, 3.685, 3.5901, 3.62, 3.725, 3.6444, 3.6147, 3.5949999999999998, 3.62, 3.6399999999999997, 3.665, 3.6399999999999997, 3.655, 3.7270000000000003, 3.73, 3.765, 3.7783, 3.7910000000000004, 3.7950000000000004, 3.7749, 3.7950000000000004, 3.86, 3.845, 3.875, 3.845, 3.845, 3.8412, 3.816, 3.825, 3.785, 3.765, 3.77, 3.7694, 3.685, 3.735, 3.765, 3.7399999999999998, 3.725, 3.7199999999999998, 3.7150000000000003, 3.7518, 3.645, 3.6667, 3.6424, 3.65, 3.67, 3.69, 3.6987, 3.7163999999999997, 3.745, 3.7518000000000002, 3.74, 3.695, 3.705, 3.6999999999999997, 3.65, 3.67, 3.6809, 3.695, 3.695, 3.75, 3.755]}],\n",
       "                        {\"template\": {\"data\": {\"bar\": [{\"error_x\": {\"color\": \"#2a3f5f\"}, \"error_y\": {\"color\": \"#2a3f5f\"}, \"marker\": {\"line\": {\"color\": \"#E5ECF6\", \"width\": 0.5}}, \"type\": \"bar\"}], \"barpolar\": [{\"marker\": {\"line\": {\"color\": \"#E5ECF6\", \"width\": 0.5}}, \"type\": \"barpolar\"}], \"carpet\": [{\"aaxis\": {\"endlinecolor\": \"#2a3f5f\", \"gridcolor\": \"white\", \"linecolor\": \"white\", \"minorgridcolor\": \"white\", \"startlinecolor\": \"#2a3f5f\"}, \"baxis\": {\"endlinecolor\": \"#2a3f5f\", \"gridcolor\": \"white\", \"linecolor\": \"white\", \"minorgridcolor\": \"white\", \"startlinecolor\": \"#2a3f5f\"}, \"type\": \"carpet\"}], \"choropleth\": [{\"colorbar\": {\"outlinewidth\": 0, \"ticks\": \"\"}, \"type\": \"choropleth\"}], \"contour\": [{\"colorbar\": {\"outlinewidth\": 0, \"ticks\": \"\"}, \"colorscale\": [[0.0, \"#0d0887\"], [0.1111111111111111, \"#46039f\"], [0.2222222222222222, \"#7201a8\"], [0.3333333333333333, \"#9c179e\"], [0.4444444444444444, \"#bd3786\"], [0.5555555555555556, \"#d8576b\"], [0.6666666666666666, \"#ed7953\"], [0.7777777777777778, \"#fb9f3a\"], [0.8888888888888888, \"#fdca26\"], [1.0, \"#f0f921\"]], \"type\": \"contour\"}], \"contourcarpet\": [{\"colorbar\": {\"outlinewidth\": 0, \"ticks\": \"\"}, \"type\": \"contourcarpet\"}], \"heatmap\": [{\"colorbar\": {\"outlinewidth\": 0, \"ticks\": \"\"}, \"colorscale\": [[0.0, \"#0d0887\"], [0.1111111111111111, \"#46039f\"], [0.2222222222222222, \"#7201a8\"], [0.3333333333333333, \"#9c179e\"], [0.4444444444444444, \"#bd3786\"], [0.5555555555555556, \"#d8576b\"], [0.6666666666666666, \"#ed7953\"], [0.7777777777777778, \"#fb9f3a\"], [0.8888888888888888, \"#fdca26\"], [1.0, \"#f0f921\"]], \"type\": \"heatmap\"}], \"heatmapgl\": [{\"colorbar\": {\"outlinewidth\": 0, \"ticks\": \"\"}, \"colorscale\": [[0.0, \"#0d0887\"], [0.1111111111111111, \"#46039f\"], [0.2222222222222222, \"#7201a8\"], [0.3333333333333333, \"#9c179e\"], [0.4444444444444444, \"#bd3786\"], [0.5555555555555556, \"#d8576b\"], [0.6666666666666666, \"#ed7953\"], [0.7777777777777778, \"#fb9f3a\"], [0.8888888888888888, \"#fdca26\"], [1.0, \"#f0f921\"]], \"type\": \"heatmapgl\"}], \"histogram\": [{\"marker\": {\"colorbar\": {\"outlinewidth\": 0, \"ticks\": \"\"}}, \"type\": \"histogram\"}], \"histogram2d\": [{\"colorbar\": {\"outlinewidth\": 0, \"ticks\": \"\"}, \"colorscale\": [[0.0, \"#0d0887\"], [0.1111111111111111, \"#46039f\"], [0.2222222222222222, \"#7201a8\"], [0.3333333333333333, \"#9c179e\"], [0.4444444444444444, \"#bd3786\"], [0.5555555555555556, \"#d8576b\"], [0.6666666666666666, \"#ed7953\"], [0.7777777777777778, \"#fb9f3a\"], [0.8888888888888888, \"#fdca26\"], [1.0, \"#f0f921\"]], \"type\": \"histogram2d\"}], \"histogram2dcontour\": [{\"colorbar\": {\"outlinewidth\": 0, \"ticks\": \"\"}, \"colorscale\": [[0.0, \"#0d0887\"], [0.1111111111111111, \"#46039f\"], [0.2222222222222222, \"#7201a8\"], [0.3333333333333333, \"#9c179e\"], [0.4444444444444444, \"#bd3786\"], [0.5555555555555556, \"#d8576b\"], [0.6666666666666666, \"#ed7953\"], [0.7777777777777778, \"#fb9f3a\"], [0.8888888888888888, \"#fdca26\"], [1.0, \"#f0f921\"]], \"type\": \"histogram2dcontour\"}], \"mesh3d\": [{\"colorbar\": {\"outlinewidth\": 0, \"ticks\": \"\"}, \"type\": \"mesh3d\"}], \"parcoords\": [{\"line\": {\"colorbar\": {\"outlinewidth\": 0, \"ticks\": \"\"}}, \"type\": \"parcoords\"}], \"pie\": [{\"automargin\": true, \"type\": \"pie\"}], \"scatter\": [{\"marker\": {\"colorbar\": {\"outlinewidth\": 0, \"ticks\": \"\"}}, \"type\": \"scatter\"}], \"scatter3d\": [{\"line\": {\"colorbar\": {\"outlinewidth\": 0, \"ticks\": \"\"}}, \"marker\": {\"colorbar\": {\"outlinewidth\": 0, \"ticks\": \"\"}}, \"type\": \"scatter3d\"}], \"scattercarpet\": [{\"marker\": {\"colorbar\": {\"outlinewidth\": 0, \"ticks\": \"\"}}, \"type\": \"scattercarpet\"}], \"scattergeo\": [{\"marker\": {\"colorbar\": {\"outlinewidth\": 0, \"ticks\": \"\"}}, \"type\": \"scattergeo\"}], \"scattergl\": [{\"marker\": {\"colorbar\": {\"outlinewidth\": 0, \"ticks\": \"\"}}, \"type\": \"scattergl\"}], \"scattermapbox\": [{\"marker\": {\"colorbar\": {\"outlinewidth\": 0, \"ticks\": \"\"}}, \"type\": \"scattermapbox\"}], \"scatterpolar\": [{\"marker\": {\"colorbar\": {\"outlinewidth\": 0, \"ticks\": \"\"}}, \"type\": \"scatterpolar\"}], \"scatterpolargl\": [{\"marker\": {\"colorbar\": {\"outlinewidth\": 0, \"ticks\": \"\"}}, \"type\": \"scatterpolargl\"}], \"scatterternary\": [{\"marker\": {\"colorbar\": {\"outlinewidth\": 0, \"ticks\": \"\"}}, \"type\": \"scatterternary\"}], \"surface\": [{\"colorbar\": {\"outlinewidth\": 0, \"ticks\": \"\"}, \"colorscale\": [[0.0, \"#0d0887\"], [0.1111111111111111, \"#46039f\"], [0.2222222222222222, \"#7201a8\"], [0.3333333333333333, \"#9c179e\"], [0.4444444444444444, \"#bd3786\"], [0.5555555555555556, \"#d8576b\"], [0.6666666666666666, \"#ed7953\"], [0.7777777777777778, \"#fb9f3a\"], [0.8888888888888888, \"#fdca26\"], [1.0, \"#f0f921\"]], \"type\": \"surface\"}], \"table\": [{\"cells\": {\"fill\": {\"color\": \"#EBF0F8\"}, \"line\": {\"color\": \"white\"}}, \"header\": {\"fill\": {\"color\": \"#C8D4E3\"}, \"line\": {\"color\": \"white\"}}, \"type\": \"table\"}]}, \"layout\": {\"annotationdefaults\": {\"arrowcolor\": \"#2a3f5f\", \"arrowhead\": 0, \"arrowwidth\": 1}, \"coloraxis\": {\"colorbar\": {\"outlinewidth\": 0, \"ticks\": \"\"}}, \"colorscale\": {\"diverging\": [[0, \"#8e0152\"], [0.1, \"#c51b7d\"], [0.2, \"#de77ae\"], [0.3, \"#f1b6da\"], [0.4, \"#fde0ef\"], [0.5, \"#f7f7f7\"], [0.6, \"#e6f5d0\"], [0.7, \"#b8e186\"], [0.8, \"#7fbc41\"], [0.9, \"#4d9221\"], [1, \"#276419\"]], \"sequential\": [[0.0, \"#0d0887\"], [0.1111111111111111, \"#46039f\"], [0.2222222222222222, \"#7201a8\"], [0.3333333333333333, \"#9c179e\"], [0.4444444444444444, \"#bd3786\"], [0.5555555555555556, \"#d8576b\"], [0.6666666666666666, \"#ed7953\"], [0.7777777777777778, \"#fb9f3a\"], [0.8888888888888888, \"#fdca26\"], [1.0, \"#f0f921\"]], \"sequentialminus\": [[0.0, \"#0d0887\"], [0.1111111111111111, \"#46039f\"], [0.2222222222222222, \"#7201a8\"], [0.3333333333333333, \"#9c179e\"], [0.4444444444444444, \"#bd3786\"], [0.5555555555555556, \"#d8576b\"], [0.6666666666666666, \"#ed7953\"], [0.7777777777777778, \"#fb9f3a\"], [0.8888888888888888, \"#fdca26\"], [1.0, \"#f0f921\"]]}, \"colorway\": [\"#636efa\", \"#EF553B\", \"#00cc96\", \"#ab63fa\", \"#FFA15A\", \"#19d3f3\", \"#FF6692\", \"#B6E880\", \"#FF97FF\", \"#FECB52\"], \"font\": {\"color\": \"#2a3f5f\"}, \"geo\": {\"bgcolor\": \"white\", \"lakecolor\": \"white\", \"landcolor\": \"#E5ECF6\", \"showlakes\": true, \"showland\": true, \"subunitcolor\": \"white\"}, \"hoverlabel\": {\"align\": \"left\"}, \"hovermode\": \"closest\", \"mapbox\": {\"style\": \"light\"}, \"paper_bgcolor\": \"white\", \"plot_bgcolor\": \"#E5ECF6\", \"polar\": {\"angularaxis\": {\"gridcolor\": \"white\", \"linecolor\": \"white\", \"ticks\": \"\"}, \"bgcolor\": \"#E5ECF6\", \"radialaxis\": {\"gridcolor\": \"white\", \"linecolor\": \"white\", \"ticks\": \"\"}}, \"scene\": {\"xaxis\": {\"backgroundcolor\": \"#E5ECF6\", \"gridcolor\": \"white\", \"gridwidth\": 2, \"linecolor\": \"white\", \"showbackground\": true, \"ticks\": \"\", \"zerolinecolor\": \"white\"}, \"yaxis\": {\"backgroundcolor\": \"#E5ECF6\", \"gridcolor\": \"white\", \"gridwidth\": 2, \"linecolor\": \"white\", \"showbackground\": true, \"ticks\": \"\", \"zerolinecolor\": \"white\"}, \"zaxis\": {\"backgroundcolor\": \"#E5ECF6\", \"gridcolor\": \"white\", \"gridwidth\": 2, \"linecolor\": \"white\", \"showbackground\": true, \"ticks\": \"\", \"zerolinecolor\": \"white\"}}, \"shapedefaults\": {\"line\": {\"color\": \"#2a3f5f\"}}, \"ternary\": {\"aaxis\": {\"gridcolor\": \"white\", \"linecolor\": \"white\", \"ticks\": \"\"}, \"baxis\": {\"gridcolor\": \"white\", \"linecolor\": \"white\", \"ticks\": \"\"}, \"bgcolor\": \"#E5ECF6\", \"caxis\": {\"gridcolor\": \"white\", \"linecolor\": \"white\", \"ticks\": \"\"}}, \"title\": {\"x\": 0.05}, \"xaxis\": {\"automargin\": true, \"gridcolor\": \"white\", \"linecolor\": \"white\", \"ticks\": \"\", \"title\": {\"standoff\": 15}, \"zerolinecolor\": \"white\", \"zerolinewidth\": 2}, \"yaxis\": {\"automargin\": true, \"gridcolor\": \"white\", \"linecolor\": \"white\", \"ticks\": \"\", \"title\": {\"standoff\": 15}, \"zerolinecolor\": \"white\", \"zerolinewidth\": 2}}}, \"title\": {\"text\": \"APHA Expiration:2020-05-22, Strike: 3.5000, Time:2020-05-20 10:00\"}, \"xaxis\": {\"title\": {\"text\": \"Date\"}}, \"yaxis\": {\"title\": {\"text\": \"Stock Price\"}}},\n",
       "                        {\"responsive\": true}\n",
       "                    ).then(function(){\n",
       "                            \n",
       "var gd = document.getElementById('d0da53e9-2316-453e-827e-71244d992afc');\n",
       "var x = new MutationObserver(function (mutations, observer) {{\n",
       "        var display = window.getComputedStyle(gd).display;\n",
       "        if (!display || display === 'none') {{\n",
       "            console.log([gd, 'removed!']);\n",
       "            Plotly.purge(gd);\n",
       "            observer.disconnect();\n",
       "        }}\n",
       "}});\n",
       "\n",
       "// Listen for the removal of the full notebook cells\n",
       "var notebookContainer = gd.closest('#notebook-container');\n",
       "if (notebookContainer) {{\n",
       "    x.observe(notebookContainer, {childList: true});\n",
       "}}\n",
       "\n",
       "// Listen for the clearing of the current output cell\n",
       "var outputEl = gd.closest('.output');\n",
       "if (outputEl) {{\n",
       "    x.observe(outputEl, {childList: true});\n",
       "}}\n",
       "\n",
       "                        })\n",
       "                };\n",
       "                });\n",
       "            </script>\n",
       "        </div>"
      ]
     },
     "metadata": {},
     "output_type": "display_data"
    }
   ],
   "source": [
    "span='week'\n",
    "\n",
    "plotStockPriceforExpiration(strike_price,optionType,span)"
   ]
  },
  {
   "cell_type": "code",
   "execution_count": null,
   "metadata": {},
   "outputs": [],
   "source": []
  }
 ],
 "metadata": {
  "kernelspec": {
   "display_name": "Python 3",
   "language": "python",
   "name": "python3"
  },
  "language_info": {
   "codemirror_mode": {
    "name": "ipython",
    "version": 3
   },
   "file_extension": ".py",
   "mimetype": "text/x-python",
   "name": "python",
   "nbconvert_exporter": "python",
   "pygments_lexer": "ipython3",
   "version": "3.7.3"
  }
 },
 "nbformat": 4,
 "nbformat_minor": 2
}
