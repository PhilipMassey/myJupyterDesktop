{
 "cells": [
  {
   "cell_type": "code",
   "execution_count": 3,
   "metadata": {},
   "outputs": [],
   "source": [
    "import robin_stocks as r\n",
    "import pandas as pd\n",
    "import configparser\n",
    "config = configparser.RawConfigParser()\n",
    "configFilePath = '/Users/philipmassey/.tokens/robinhood.cfg'\n",
    "config.read(configFilePath)\n",
    "rhuser = config.get('login', 'user')\n",
    "rhpwd = config.get('login', 'pwd')\n",
    "login = r.login(rhuser,rhpwd)\n"
   ]
  },
  {
   "cell_type": "code",
   "execution_count": 4,
   "metadata": {},
   "outputs": [
    {
     "name": "stdout",
     "output_type": "stream",
     "text": [
      "['2020-06-19', '2020-07-17', '2020-09-18', '2020-12-18']\n"
     ]
    }
   ],
   "source": [
    "symbol = 'SDGR'\n",
    "expiration_dates = r.get_chains(symbol)['expiration_dates']\n",
    "print(expiration_dates)\n",
    "optionData = r.find_options_for_list_of_stocks_by_expiration_date([symbol], expirationDate=expiration_dates[0],optionType='call') \n",
    "df = pd.DataFrame((filter(lambda x:x['volume']>0,optionData)))\n",
    "strike_prices = set(df.strike_price)\n"
   ]
  },
  {
   "cell_type": "code",
   "execution_count": 6,
   "metadata": {},
   "outputs": [
    {
     "data": {
      "text/plain": [
       "Index(['adjusted_mark_price', 'ask_price', 'ask_size', 'bid_price', 'bid_size',\n",
       "       'break_even_price', 'chain_id', 'chain_symbol', 'chance_of_profit_long',\n",
       "       'chance_of_profit_short', 'created_at', 'delta', 'expiration_date',\n",
       "       'gamma', 'high_fill_rate_buy_price', 'high_fill_rate_sell_price',\n",
       "       'high_price', 'id', 'implied_volatility', 'instrument', 'issue_date',\n",
       "       'last_trade_price', 'last_trade_size', 'low_fill_rate_buy_price',\n",
       "       'low_fill_rate_sell_price', 'low_price', 'mark_price', 'min_ticks',\n",
       "       'open_interest', 'previous_close_date', 'previous_close_price', 'rho',\n",
       "       'rhs_tradability', 'sellout_datetime', 'state', 'strike_price', 'theta',\n",
       "       'tradability', 'type', 'updated_at', 'url', 'vega', 'volume'],\n",
       "      dtype='object')"
      ]
     },
     "execution_count": 6,
     "metadata": {},
     "output_type": "execute_result"
    }
   ],
   "source": [
    "df.columns"
   ]
  },
  {
   "cell_type": "code",
   "execution_count": null,
   "metadata": {},
   "outputs": [],
   "source": []
  }
 ],
 "metadata": {
  "kernelspec": {
   "display_name": "Python 3",
   "language": "python",
   "name": "python3"
  },
  "language_info": {
   "codemirror_mode": {
    "name": "ipython",
    "version": 3
   },
   "file_extension": ".py",
   "mimetype": "text/x-python",
   "name": "python",
   "nbconvert_exporter": "python",
   "pygments_lexer": "ipython3",
   "version": "3.7.3"
  }
 },
 "nbformat": 4,
 "nbformat_minor": 2
}
