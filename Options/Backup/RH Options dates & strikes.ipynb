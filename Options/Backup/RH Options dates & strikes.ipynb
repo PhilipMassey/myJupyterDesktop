{
 "cells": [
  {
   "cell_type": "code",
   "execution_count": 1,
   "metadata": {},
   "outputs": [],
   "source": [
    "import robin_stocks as r\n",
    "from datetime import datetime\n",
    "from dateutil import tz\n",
    "import pandas as pd\n",
    "from_zone = tz.tzutc()\n",
    "to_zone = tz.tzlocal()\n",
    "def utcToLocal(strDate):\n",
    "    utc = datetime.strptime(strDate, '%Y-%m-%dT%H:%M:%SZ')\n",
    "    utc = utc.replace(tzinfo=from_zone)\n",
    "    return utc.astimezone(to_zone)\n",
    "\n",
    "import configparser\n",
    "config = configparser.RawConfigParser()\n",
    "configFilePath = '/Users/philipmassey/.tokens/robinhood.cfg'\n",
    "config.read(configFilePath)\n",
    "rhuser = config.get('login', 'user')\n",
    "rhpwd = config.get('login', 'pwd')\n",
    "login = r.login(rhuser,rhpwd)\n"
   ]
  },
  {
   "cell_type": "code",
   "execution_count": 2,
   "metadata": {},
   "outputs": [
    {
     "name": "stdout",
     "output_type": "stream",
     "text": [
      "['2020-06-19', '2020-07-17', '2020-08-21', '2020-11-20', '2020-12-18']\n"
     ]
    }
   ],
   "source": [
    "symbol = 'mdla'\n",
    "expiration_dates = r.get_chains(symbol)['expiration_dates']\n",
    "print(expiration_dates)\n",
    "optionData = r.find_options_for_list_of_stocks_by_expiration_date([symbol], expirationDate=expiration_dates[0],optionType='call') \n",
    "df = pd.DataFrame((filter(lambda x:x['volume']>0,optionData)))\n",
    "strike_prices = set(df.strike_price)\n"
   ]
  },
  {
   "cell_type": "code",
   "execution_count": 3,
   "metadata": {},
   "outputs": [
    {
     "data": {
      "text/html": [
       "<div>\n",
       "<style scoped>\n",
       "    .dataframe tbody tr th:only-of-type {\n",
       "        vertical-align: middle;\n",
       "    }\n",
       "\n",
       "    .dataframe tbody tr th {\n",
       "        vertical-align: top;\n",
       "    }\n",
       "\n",
       "    .dataframe thead th {\n",
       "        text-align: right;\n",
       "    }\n",
       "</style>\n",
       "<table border=\"1\" class=\"dataframe\">\n",
       "  <thead>\n",
       "    <tr style=\"text-align: right;\">\n",
       "      <th></th>\n",
       "      <th>updated_at</th>\n",
       "      <th>volume</th>\n",
       "      <th>strike_price</th>\n",
       "    </tr>\n",
       "  </thead>\n",
       "  <tbody>\n",
       "    <tr>\n",
       "      <th>0</th>\n",
       "      <td>2020-04-18T08:27:23.097833Z</td>\n",
       "      <td>12</td>\n",
       "      <td>25.0000</td>\n",
       "    </tr>\n",
       "    <tr>\n",
       "      <th>1</th>\n",
       "      <td>2020-04-18T08:27:23.097382Z</td>\n",
       "      <td>152</td>\n",
       "      <td>30.0000</td>\n",
       "    </tr>\n",
       "  </tbody>\n",
       "</table>\n",
       "</div>"
      ],
      "text/plain": [
       "                    updated_at  volume strike_price\n",
       "0  2020-04-18T08:27:23.097833Z      12      25.0000\n",
       "1  2020-04-18T08:27:23.097382Z     152      30.0000"
      ]
     },
     "execution_count": 3,
     "metadata": {},
     "output_type": "execute_result"
    }
   ],
   "source": [
    "df[['updated_at','volume','strike_price']]"
   ]
  },
  {
   "cell_type": "code",
   "execution_count": null,
   "metadata": {},
   "outputs": [],
   "source": []
  }
 ],
 "metadata": {
  "kernelspec": {
   "display_name": "Python 3",
   "language": "python",
   "name": "python3"
  },
  "language_info": {
   "codemirror_mode": {
    "name": "ipython",
    "version": 3
   },
   "file_extension": ".py",
   "mimetype": "text/x-python",
   "name": "python",
   "nbconvert_exporter": "python",
   "pygments_lexer": "ipython3",
   "version": "3.7.3"
  }
 },
 "nbformat": 4,
 "nbformat_minor": 2
}
