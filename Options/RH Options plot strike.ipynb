{
 "cells": [
  {
   "cell_type": "code",
   "execution_count": 17,
   "metadata": {},
   "outputs": [],
   "source": [
    "import robin_stocks as r\n",
    "from datetime import datetime\n",
    "from dateutil import tz\n",
    "import pandas as pd\n",
    "import plotly.express as px\n",
    "import plotly.graph_objects as go\n",
    "import plotly.io as pio\n",
    "pio.renderers.default='notebook'\n",
    "\n",
    "from_zone = tz.tzutc()\n",
    "to_zone = tz.tzlocal()\n",
    "def utcToLocal(strDate):\n",
    "    utc = datetime.strptime(strDate, '%Y-%m-%dT%H:%M:%SZ')\n",
    "    utc = utc.replace(tzinfo=from_zone)\n",
    "    return utc.astimezone(to_zone)\n",
    "\n",
    "import configparser\n",
    "config = configparser.RawConfigParser()\n",
    "configFilePath = '/Users/philipmassey/.tokens/robinhood.cfg'\n",
    "config.read(configFilePath)\n",
    "rhuser = config.get('login', 'user')\n",
    "rhpwd = config.get('login', 'pwd')\n",
    "login = r.login(rhuser,rhpwd)\n",
    "\n",
    "def diffMaxHighLow(df, strike_price,volume):\n",
    "    print('Strike\\tVolume\\tHigh\\tLow\\tChange\\tPercent')\n",
    "    high_price = max(df.high_price)\n",
    "    low_price = min(df.high_price)\n",
    "    diff = round((high_price - low_price),2)\n",
    "    percent = round(diff/low_price,2)\n",
    "    print('${:.2f}\\t{:,.0f}\\t{}\\t{}\\t{}\\t{:,.0%}'.format(strike_price,volume,high_price,low_price,diff,percent))\n",
    "\n",
    "def figForExpriation(strike_price,volume,optionType,span):\n",
    "    #df = pd.DataFrame(r.get_option_historicals(symbol,expirationDate,strike_price,optionType,span)['data_points'])\n",
    "    df = pd.DataFrame(r.get_option_historicals(symbol,expirationDate,strike_price,optionType,span))\n",
    "    df['strike_price'] = strike_price\n",
    "    df[['strike_price','high_price','low_price']] = df[['strike_price','high_price','low_price']].apply(pd.to_numeric)\n",
    "    df = df[df.high_price != df.high_price[0:1][0]]   #filter no changes form the starting date\n",
    "    print()\n",
    "    diffMaxHighLow(df,float(strike_price),float(volume))\n",
    "    local = utcToLocal(df.iloc[-1:].begins_at.values[-1])\n",
    "    title = '{} Expiration:{}, Time:{:{dfmt} {tfmt}}'.format(symbol,expirationDate,local,dfmt='%Y-%m-%d', tfmt='%H:%M')\n",
    "    fig = px.line(df, x=\"begins_at\", y=\"close_price\", color=\"strike_price\", line_group=\"strike_price\", hover_name=\"strike_price\",\n",
    "            line_shape=\"spline\", render_mode=\"svg\")\n",
    "    fig.update_layout(\n",
    "        title=title,\n",
    "        xaxis_title=\"Date\",\n",
    "        yaxis_title=\"Option price\",\n",
    "        font=dict(\n",
    "            family=\"Courier New, monospace\",\n",
    "            size=18,\n",
    "            color=\"#7f7f7f\"\n",
    "        ))\n",
    "    fig.show()"
   ]
  },
  {
   "cell_type": "markdown",
   "metadata": {},
   "source": [
    "### Expiration Dates"
   ]
  },
  {
   "cell_type": "code",
   "execution_count": 2,
   "metadata": {},
   "outputs": [
    {
     "name": "stdout",
     "output_type": "stream",
     "text": [
      "[(0, '2020-09-18'), (1, '2020-10-16'), (2, '2020-12-18'), (3, '2021-03-19')]\n"
     ]
    }
   ],
   "source": [
    "symbol = 'CLSK'\n",
    "expiration_dates = r.get_chains(symbol)['expiration_dates']\n",
    "print(list(enumerate(expiration_dates)))"
   ]
  },
  {
   "cell_type": "markdown",
   "metadata": {},
   "source": [
    "### Strike Prices for Expiration Date"
   ]
  },
  {
   "cell_type": "code",
   "execution_count": 3,
   "metadata": {},
   "outputs": [
    {
     "name": "stdout",
     "output_type": "stream",
     "text": []
    },
    {
     "data": {
      "text/html": [
       "<div>\n",
       "<style scoped>\n",
       "    .dataframe tbody tr th:only-of-type {\n",
       "        vertical-align: middle;\n",
       "    }\n",
       "\n",
       "    .dataframe tbody tr th {\n",
       "        vertical-align: top;\n",
       "    }\n",
       "\n",
       "    .dataframe thead th {\n",
       "        text-align: right;\n",
       "    }\n",
       "</style>\n",
       "<table border=\"1\" class=\"dataframe\">\n",
       "  <thead>\n",
       "    <tr style=\"text-align: right;\">\n",
       "      <th></th>\n",
       "      <th>strike_price</th>\n",
       "      <th>volume</th>\n",
       "    </tr>\n",
       "  </thead>\n",
       "  <tbody>\n",
       "    <tr>\n",
       "      <th>6</th>\n",
       "      <td>7.5</td>\n",
       "      <td>5</td>\n",
       "    </tr>\n",
       "    <tr>\n",
       "      <th>0</th>\n",
       "      <td>10.0</td>\n",
       "      <td>192</td>\n",
       "    </tr>\n",
       "    <tr>\n",
       "      <th>1</th>\n",
       "      <td>12.5</td>\n",
       "      <td>64</td>\n",
       "    </tr>\n",
       "    <tr>\n",
       "      <th>2</th>\n",
       "      <td>15.0</td>\n",
       "      <td>9</td>\n",
       "    </tr>\n",
       "    <tr>\n",
       "      <th>5</th>\n",
       "      <td>22.5</td>\n",
       "      <td>10</td>\n",
       "    </tr>\n",
       "  </tbody>\n",
       "</table>\n",
       "</div>"
      ],
      "text/plain": [
       "   strike_price  volume\n",
       "6           7.5       5\n",
       "0          10.0     192\n",
       "1          12.5      64\n",
       "2          15.0       9\n",
       "5          22.5      10"
      ]
     },
     "execution_count": 3,
     "metadata": {},
     "output_type": "execute_result"
    }
   ],
   "source": [
    "expirationDate = expiration_dates[1]\n",
    "volume_limit = 0\n",
    "optionData = r.find_options_by_expiration([symbol], expirationDate=expirationDate,optionType='call') \n",
    "dfoptions = pd.DataFrame((filter(lambda x:x['volume']>volume_limit,optionData)))\n",
    "#dfoptions[['strike_price','break_even_price','volume','last_trade_price', 'previous_close_price', 'last_trade_size','open_interest']].sort_values(by='strike_price')\n",
    "#dfoptions[['strike_price','break_even_price','volume','last_trade_price', 'previous_close_price', 'last_trade_size','open_interest']].sort_values(by='volume',ascending=False)\n",
    "# df1 = dfoptions[['strike_price','volume']][dfoptions.strike_price=='237.5000']\n",
    "# dfstrike_prices = pd.concat([df1,dfstrike_prices])\n",
    "dfstrike_prices = dfoptions.sort_values(by='volume',ascending=False)[0:5][['strike_price','volume']].apply(pd.to_numeric)\n",
    "dfstrike_prices.sort_values(by='strike_price',ascending=True,inplace=True)\n",
    "dfstrike_prices"
   ]
  },
  {
   "cell_type": "code",
   "execution_count": 8,
   "metadata": {},
   "outputs": [
    {
     "data": {
      "text/plain": [
       "7.5"
      ]
     },
     "execution_count": 8,
     "metadata": {},
     "output_type": "execute_result"
    }
   ],
   "source": [
    " dfstrike_prices.iloc[0].strike_price"
   ]
  },
  {
   "cell_type": "code",
   "execution_count": 16,
   "metadata": {},
   "outputs": [
    {
     "data": {
      "text/html": [
       "<div>\n",
       "<style scoped>\n",
       "    .dataframe tbody tr th:only-of-type {\n",
       "        vertical-align: middle;\n",
       "    }\n",
       "\n",
       "    .dataframe tbody tr th {\n",
       "        vertical-align: top;\n",
       "    }\n",
       "\n",
       "    .dataframe thead th {\n",
       "        text-align: right;\n",
       "    }\n",
       "</style>\n",
       "<table border=\"1\" class=\"dataframe\">\n",
       "  <thead>\n",
       "    <tr style=\"text-align: right;\">\n",
       "      <th></th>\n",
       "      <th>begins_at</th>\n",
       "      <th>open_price</th>\n",
       "      <th>close_price</th>\n",
       "      <th>high_price</th>\n",
       "      <th>low_price</th>\n",
       "      <th>volume</th>\n",
       "      <th>session</th>\n",
       "      <th>interpolated</th>\n",
       "      <th>symbol</th>\n",
       "    </tr>\n",
       "  </thead>\n",
       "  <tbody>\n",
       "    <tr>\n",
       "      <th>0</th>\n",
       "      <td>2020-09-08T00:00:00Z</td>\n",
       "      <td>0.010000</td>\n",
       "      <td>2.780000</td>\n",
       "      <td>3.150000</td>\n",
       "      <td>0.010000</td>\n",
       "      <td>0</td>\n",
       "      <td>reg</td>\n",
       "      <td>False</td>\n",
       "      <td>CLSK</td>\n",
       "    </tr>\n",
       "    <tr>\n",
       "      <th>1</th>\n",
       "      <td>2020-09-09T00:00:00Z</td>\n",
       "      <td>2.780000</td>\n",
       "      <td>2.780000</td>\n",
       "      <td>2.780000</td>\n",
       "      <td>2.780000</td>\n",
       "      <td>0</td>\n",
       "      <td>reg</td>\n",
       "      <td>True</td>\n",
       "      <td>CLSK</td>\n",
       "    </tr>\n",
       "    <tr>\n",
       "      <th>2</th>\n",
       "      <td>2020-09-10T00:00:00Z</td>\n",
       "      <td>2.780000</td>\n",
       "      <td>2.780000</td>\n",
       "      <td>2.780000</td>\n",
       "      <td>2.780000</td>\n",
       "      <td>0</td>\n",
       "      <td>reg</td>\n",
       "      <td>True</td>\n",
       "      <td>CLSK</td>\n",
       "    </tr>\n",
       "    <tr>\n",
       "      <th>3</th>\n",
       "      <td>2020-09-11T00:00:00Z</td>\n",
       "      <td>2.780000</td>\n",
       "      <td>2.780000</td>\n",
       "      <td>2.780000</td>\n",
       "      <td>2.780000</td>\n",
       "      <td>0</td>\n",
       "      <td>reg</td>\n",
       "      <td>True</td>\n",
       "      <td>CLSK</td>\n",
       "    </tr>\n",
       "  </tbody>\n",
       "</table>\n",
       "</div>"
      ],
      "text/plain": [
       "              begins_at open_price close_price high_price low_price  volume  \\\n",
       "0  2020-09-08T00:00:00Z   0.010000    2.780000   3.150000  0.010000       0   \n",
       "1  2020-09-09T00:00:00Z   2.780000    2.780000   2.780000  2.780000       0   \n",
       "2  2020-09-10T00:00:00Z   2.780000    2.780000   2.780000  2.780000       0   \n",
       "3  2020-09-11T00:00:00Z   2.780000    2.780000   2.780000  2.780000       0   \n",
       "\n",
       "  session  interpolated symbol  \n",
       "0     reg         False   CLSK  \n",
       "1     reg          True   CLSK  \n",
       "2     reg          True   CLSK  \n",
       "3     reg          True   CLSK  "
      ]
     },
     "execution_count": 16,
     "metadata": {},
     "output_type": "execute_result"
    }
   ],
   "source": [
    "pd.DataFrame(r.get_option_historicals(symbol,expirationDate,strike_price,optionType,span))"
   ]
  },
  {
   "cell_type": "code",
   "execution_count": 19,
   "metadata": {},
   "outputs": [
    {
     "data": {
      "text/plain": [
       "5.0"
      ]
     },
     "execution_count": 19,
     "metadata": {},
     "output_type": "execute_result"
    }
   ],
   "source": [
    "optionType = 'call'\n",
    "span = 'day'\n",
    "idx = 0\n",
    "strike_price = dfstrike_prices.iloc[idx].strike_price\n",
    "volume = dfstrike_prices.iloc[idx].volume\n",
    "#strike_price = 40.0\n",
    "figForExpriation(strike_price,volume,optionType,span)"
   ]
  },
  {
   "cell_type": "code",
   "execution_count": 20,
   "metadata": {},
   "outputs": [
    {
     "name": "stdout",
     "output_type": "stream",
     "text": [
      "400 Client Error: Bad Request for url: https://api.robinhood.com/marketdata/options/historicals/a5626a02-4768-42e9-8aad-ad523a4b16b7/?span=week&interval=week&bounds=regular\n"
     ]
    },
    {
     "ename": "KeyError",
     "evalue": "\"['high_price', 'low_price'] not in index\"",
     "output_type": "error",
     "traceback": [
      "\u001b[0;31m---------------------------------------------------------------------------\u001b[0m",
      "\u001b[0;31mKeyError\u001b[0m                                  Traceback (most recent call last)",
      "\u001b[0;32m<ipython-input-20-708eaefb8d89>\u001b[0m in \u001b[0;36m<module>\u001b[0;34m\u001b[0m\n\u001b[1;32m      1\u001b[0m \u001b[0moptionType\u001b[0m \u001b[0;34m=\u001b[0m \u001b[0;34m'call'\u001b[0m\u001b[0;34m\u001b[0m\u001b[0;34m\u001b[0m\u001b[0m\n\u001b[1;32m      2\u001b[0m \u001b[0mspan\u001b[0m \u001b[0;34m=\u001b[0m \u001b[0;34m'week'\u001b[0m\u001b[0;34m\u001b[0m\u001b[0;34m\u001b[0m\u001b[0m\n\u001b[0;32m----> 3\u001b[0;31m \u001b[0mfigForExpriation\u001b[0m\u001b[0;34m(\u001b[0m\u001b[0mstrike_price\u001b[0m\u001b[0;34m,\u001b[0m\u001b[0mvolume\u001b[0m\u001b[0;34m,\u001b[0m\u001b[0moptionType\u001b[0m\u001b[0;34m,\u001b[0m\u001b[0mspan\u001b[0m\u001b[0;34m)\u001b[0m\u001b[0;34m\u001b[0m\u001b[0;34m\u001b[0m\u001b[0m\n\u001b[0m",
      "\u001b[0;32m<ipython-input-17-bd1bc2fadffc>\u001b[0m in \u001b[0;36mfigForExpriation\u001b[0;34m(strike_price, volume, optionType, span)\u001b[0m\n\u001b[1;32m     35\u001b[0m     \u001b[0mdf\u001b[0m \u001b[0;34m=\u001b[0m \u001b[0mpd\u001b[0m\u001b[0;34m.\u001b[0m\u001b[0mDataFrame\u001b[0m\u001b[0;34m(\u001b[0m\u001b[0mr\u001b[0m\u001b[0;34m.\u001b[0m\u001b[0mget_option_historicals\u001b[0m\u001b[0;34m(\u001b[0m\u001b[0msymbol\u001b[0m\u001b[0;34m,\u001b[0m\u001b[0mexpirationDate\u001b[0m\u001b[0;34m,\u001b[0m\u001b[0mstrike_price\u001b[0m\u001b[0;34m,\u001b[0m\u001b[0moptionType\u001b[0m\u001b[0;34m,\u001b[0m\u001b[0mspan\u001b[0m\u001b[0;34m)\u001b[0m\u001b[0;34m)\u001b[0m\u001b[0;34m\u001b[0m\u001b[0;34m\u001b[0m\u001b[0m\n\u001b[1;32m     36\u001b[0m     \u001b[0mdf\u001b[0m\u001b[0;34m[\u001b[0m\u001b[0;34m'strike_price'\u001b[0m\u001b[0;34m]\u001b[0m \u001b[0;34m=\u001b[0m \u001b[0mstrike_price\u001b[0m\u001b[0;34m\u001b[0m\u001b[0;34m\u001b[0m\u001b[0m\n\u001b[0;32m---> 37\u001b[0;31m     \u001b[0mdf\u001b[0m\u001b[0;34m[\u001b[0m\u001b[0;34m[\u001b[0m\u001b[0;34m'strike_price'\u001b[0m\u001b[0;34m,\u001b[0m\u001b[0;34m'high_price'\u001b[0m\u001b[0;34m,\u001b[0m\u001b[0;34m'low_price'\u001b[0m\u001b[0;34m]\u001b[0m\u001b[0;34m]\u001b[0m \u001b[0;34m=\u001b[0m \u001b[0mdf\u001b[0m\u001b[0;34m[\u001b[0m\u001b[0;34m[\u001b[0m\u001b[0;34m'strike_price'\u001b[0m\u001b[0;34m,\u001b[0m\u001b[0;34m'high_price'\u001b[0m\u001b[0;34m,\u001b[0m\u001b[0;34m'low_price'\u001b[0m\u001b[0;34m]\u001b[0m\u001b[0;34m]\u001b[0m\u001b[0;34m.\u001b[0m\u001b[0mapply\u001b[0m\u001b[0;34m(\u001b[0m\u001b[0mpd\u001b[0m\u001b[0;34m.\u001b[0m\u001b[0mto_numeric\u001b[0m\u001b[0;34m)\u001b[0m\u001b[0;34m\u001b[0m\u001b[0;34m\u001b[0m\u001b[0m\n\u001b[0m\u001b[1;32m     38\u001b[0m     \u001b[0mdf\u001b[0m \u001b[0;34m=\u001b[0m \u001b[0mdf\u001b[0m\u001b[0;34m[\u001b[0m\u001b[0mdf\u001b[0m\u001b[0;34m.\u001b[0m\u001b[0mhigh_price\u001b[0m \u001b[0;34m!=\u001b[0m \u001b[0mdf\u001b[0m\u001b[0;34m.\u001b[0m\u001b[0mhigh_price\u001b[0m\u001b[0;34m[\u001b[0m\u001b[0;36m0\u001b[0m\u001b[0;34m:\u001b[0m\u001b[0;36m1\u001b[0m\u001b[0;34m]\u001b[0m\u001b[0;34m[\u001b[0m\u001b[0;36m0\u001b[0m\u001b[0;34m]\u001b[0m\u001b[0;34m]\u001b[0m   \u001b[0;31m#filter no changes form the starting date\u001b[0m\u001b[0;34m\u001b[0m\u001b[0;34m\u001b[0m\u001b[0m\n\u001b[1;32m     39\u001b[0m     \u001b[0mprint\u001b[0m\u001b[0;34m(\u001b[0m\u001b[0;34m)\u001b[0m\u001b[0;34m\u001b[0m\u001b[0;34m\u001b[0m\u001b[0m\n",
      "\u001b[0;32m/Library/Frameworks/Python.framework/Versions/3.7/lib/python3.7/site-packages/pandas/core/frame.py\u001b[0m in \u001b[0;36m__getitem__\u001b[0;34m(self, key)\u001b[0m\n\u001b[1;32m   2804\u001b[0m             \u001b[0;32mif\u001b[0m \u001b[0mis_iterator\u001b[0m\u001b[0;34m(\u001b[0m\u001b[0mkey\u001b[0m\u001b[0;34m)\u001b[0m\u001b[0;34m:\u001b[0m\u001b[0;34m\u001b[0m\u001b[0;34m\u001b[0m\u001b[0m\n\u001b[1;32m   2805\u001b[0m                 \u001b[0mkey\u001b[0m \u001b[0;34m=\u001b[0m \u001b[0mlist\u001b[0m\u001b[0;34m(\u001b[0m\u001b[0mkey\u001b[0m\u001b[0;34m)\u001b[0m\u001b[0;34m\u001b[0m\u001b[0;34m\u001b[0m\u001b[0m\n\u001b[0;32m-> 2806\u001b[0;31m             \u001b[0mindexer\u001b[0m \u001b[0;34m=\u001b[0m \u001b[0mself\u001b[0m\u001b[0;34m.\u001b[0m\u001b[0mloc\u001b[0m\u001b[0;34m.\u001b[0m\u001b[0m_get_listlike_indexer\u001b[0m\u001b[0;34m(\u001b[0m\u001b[0mkey\u001b[0m\u001b[0;34m,\u001b[0m \u001b[0maxis\u001b[0m\u001b[0;34m=\u001b[0m\u001b[0;36m1\u001b[0m\u001b[0;34m,\u001b[0m \u001b[0mraise_missing\u001b[0m\u001b[0;34m=\u001b[0m\u001b[0;32mTrue\u001b[0m\u001b[0;34m)\u001b[0m\u001b[0;34m[\u001b[0m\u001b[0;36m1\u001b[0m\u001b[0;34m]\u001b[0m\u001b[0;34m\u001b[0m\u001b[0;34m\u001b[0m\u001b[0m\n\u001b[0m\u001b[1;32m   2807\u001b[0m \u001b[0;34m\u001b[0m\u001b[0m\n\u001b[1;32m   2808\u001b[0m         \u001b[0;31m# take() does not accept boolean indexers\u001b[0m\u001b[0;34m\u001b[0m\u001b[0;34m\u001b[0m\u001b[0;34m\u001b[0m\u001b[0m\n",
      "\u001b[0;32m/Library/Frameworks/Python.framework/Versions/3.7/lib/python3.7/site-packages/pandas/core/indexing.py\u001b[0m in \u001b[0;36m_get_listlike_indexer\u001b[0;34m(self, key, axis, raise_missing)\u001b[0m\n\u001b[1;32m   1551\u001b[0m \u001b[0;34m\u001b[0m\u001b[0m\n\u001b[1;32m   1552\u001b[0m         self._validate_read_indexer(\n\u001b[0;32m-> 1553\u001b[0;31m             \u001b[0mkeyarr\u001b[0m\u001b[0;34m,\u001b[0m \u001b[0mindexer\u001b[0m\u001b[0;34m,\u001b[0m \u001b[0mo\u001b[0m\u001b[0;34m.\u001b[0m\u001b[0m_get_axis_number\u001b[0m\u001b[0;34m(\u001b[0m\u001b[0maxis\u001b[0m\u001b[0;34m)\u001b[0m\u001b[0;34m,\u001b[0m \u001b[0mraise_missing\u001b[0m\u001b[0;34m=\u001b[0m\u001b[0mraise_missing\u001b[0m\u001b[0;34m\u001b[0m\u001b[0;34m\u001b[0m\u001b[0m\n\u001b[0m\u001b[1;32m   1554\u001b[0m         )\n\u001b[1;32m   1555\u001b[0m         \u001b[0;32mreturn\u001b[0m \u001b[0mkeyarr\u001b[0m\u001b[0;34m,\u001b[0m \u001b[0mindexer\u001b[0m\u001b[0;34m\u001b[0m\u001b[0;34m\u001b[0m\u001b[0m\n",
      "\u001b[0;32m/Library/Frameworks/Python.framework/Versions/3.7/lib/python3.7/site-packages/pandas/core/indexing.py\u001b[0m in \u001b[0;36m_validate_read_indexer\u001b[0;34m(self, key, indexer, axis, raise_missing)\u001b[0m\n\u001b[1;32m   1644\u001b[0m             \u001b[0;32mif\u001b[0m \u001b[0;32mnot\u001b[0m \u001b[0;34m(\u001b[0m\u001b[0mself\u001b[0m\u001b[0;34m.\u001b[0m\u001b[0mname\u001b[0m \u001b[0;34m==\u001b[0m \u001b[0;34m\"loc\"\u001b[0m \u001b[0;32mand\u001b[0m \u001b[0;32mnot\u001b[0m \u001b[0mraise_missing\u001b[0m\u001b[0;34m)\u001b[0m\u001b[0;34m:\u001b[0m\u001b[0;34m\u001b[0m\u001b[0;34m\u001b[0m\u001b[0m\n\u001b[1;32m   1645\u001b[0m                 \u001b[0mnot_found\u001b[0m \u001b[0;34m=\u001b[0m \u001b[0mlist\u001b[0m\u001b[0;34m(\u001b[0m\u001b[0mset\u001b[0m\u001b[0;34m(\u001b[0m\u001b[0mkey\u001b[0m\u001b[0;34m)\u001b[0m \u001b[0;34m-\u001b[0m \u001b[0mset\u001b[0m\u001b[0;34m(\u001b[0m\u001b[0max\u001b[0m\u001b[0;34m)\u001b[0m\u001b[0;34m)\u001b[0m\u001b[0;34m\u001b[0m\u001b[0;34m\u001b[0m\u001b[0m\n\u001b[0;32m-> 1646\u001b[0;31m                 \u001b[0;32mraise\u001b[0m \u001b[0mKeyError\u001b[0m\u001b[0;34m(\u001b[0m\u001b[0;34mf\"{not_found} not in index\"\u001b[0m\u001b[0;34m)\u001b[0m\u001b[0;34m\u001b[0m\u001b[0;34m\u001b[0m\u001b[0m\n\u001b[0m\u001b[1;32m   1647\u001b[0m \u001b[0;34m\u001b[0m\u001b[0m\n\u001b[1;32m   1648\u001b[0m             \u001b[0;31m# we skip the warning on Categorical/Interval\u001b[0m\u001b[0;34m\u001b[0m\u001b[0;34m\u001b[0m\u001b[0;34m\u001b[0m\u001b[0m\n",
      "\u001b[0;31mKeyError\u001b[0m: \"['high_price', 'low_price'] not in index\""
     ]
    }
   ],
   "source": [
    "optionType = 'call'\n",
    "span = 'week'\n",
    "figForExpriation(strike_price,volume,optionType,span)\n"
   ]
  },
  {
   "cell_type": "code",
   "execution_count": 60,
   "metadata": {},
   "outputs": [
    {
     "name": "stdout",
     "output_type": "stream",
     "text": [
      "*....\n",
      "Strike\tVolume\tHigh\tLow\tChange\tPercent\n",
      "$64.00\t29\t2.7\t0.01\t2.69\t26,900%\n"
     ]
    },
    {
     "data": {
      "text/html": [
       "<div>\n",
       "        \n",
       "        \n",
       "            <div id=\"710bf1c1-4561-421d-851d-f0e6abaf0ce8\" class=\"plotly-graph-div\" style=\"height:525px; width:100%;\"></div>\n",
       "            <script type=\"text/javascript\">\n",
       "                require([\"plotly\"], function(Plotly) {\n",
       "                    window.PLOTLYENV=window.PLOTLYENV || {};\n",
       "                    \n",
       "                if (document.getElementById(\"710bf1c1-4561-421d-851d-f0e6abaf0ce8\")) {\n",
       "                    Plotly.newPlot(\n",
       "                        '710bf1c1-4561-421d-851d-f0e6abaf0ce8',\n",
       "                        [{\"hoverlabel\": {\"namelength\": 0}, \"hovertemplate\": \"<b>%{hovertext}</b><br><br>strike_price=64.0<br>begins_at=%{x}<br>close_price=%{y}\", \"hovertext\": [64.0, 64.0, 64.0, 64.0, 64.0, 64.0, 64.0, 64.0, 64.0, 64.0, 64.0, 64.0, 64.0, 64.0, 64.0, 64.0, 64.0, 64.0, 64.0, 64.0, 64.0, 64.0, 64.0, 64.0, 64.0, 64.0, 64.0, 64.0, 64.0, 64.0, 64.0, 64.0, 64.0, 64.0, 64.0, 64.0, 64.0, 64.0, 64.0, 64.0, 64.0, 64.0, 64.0, 64.0, 64.0, 64.0, 64.0, 64.0, 64.0, 64.0, 64.0, 64.0, 64.0, 64.0, 64.0, 64.0, 64.0, 64.0, 64.0, 64.0, 64.0, 64.0, 64.0, 64.0, 64.0, 64.0, 64.0, 64.0, 64.0, 64.0, 64.0, 64.0, 64.0, 64.0, 64.0, 64.0, 64.0, 64.0, 64.0, 64.0, 64.0, 64.0, 64.0, 64.0, 64.0, 64.0, 64.0, 64.0, 64.0, 64.0, 64.0, 64.0, 64.0, 64.0, 64.0, 64.0, 64.0, 64.0, 64.0, 64.0, 64.0, 64.0, 64.0, 64.0, 64.0, 64.0, 64.0, 64.0, 64.0, 64.0, 64.0, 64.0, 64.0, 64.0, 64.0, 64.0, 64.0, 64.0, 64.0, 64.0, 64.0, 64.0, 64.0, 64.0, 64.0, 64.0, 64.0, 64.0, 64.0, 64.0, 64.0, 64.0, 64.0, 64.0, 64.0, 64.0, 64.0, 64.0, 64.0, 64.0, 64.0, 64.0, 64.0, 64.0, 64.0, 64.0, 64.0, 64.0, 64.0, 64.0, 64.0, 64.0, 64.0, 64.0, 64.0, 64.0, 64.0, 64.0, 64.0, 64.0, 64.0, 64.0, 64.0, 64.0, 64.0, 64.0, 64.0, 64.0, 64.0, 64.0, 64.0, 64.0, 64.0, 64.0, 64.0, 64.0, 64.0, 64.0, 64.0, 64.0, 64.0, 64.0, 64.0, 64.0, 64.0, 64.0, 64.0, 64.0, 64.0, 64.0, 64.0, 64.0, 64.0, 64.0, 64.0, 64.0, 64.0, 64.0, 64.0, 64.0, 64.0, 64.0, 64.0, 64.0, 64.0, 64.0, 64.0, 64.0, 64.0, 64.0, 64.0, 64.0, 64.0, 64.0, 64.0, 64.0, 64.0, 64.0, 64.0, 64.0, 64.0, 64.0, 64.0, 64.0, 64.0, 64.0, 64.0, 64.0, 64.0, 64.0, 64.0, 64.0, 64.0, 64.0, 64.0, 64.0, 64.0, 64.0, 64.0, 64.0, 64.0, 64.0, 64.0, 64.0, 64.0, 64.0, 64.0, 64.0, 64.0, 64.0, 64.0], \"legendgroup\": \"64.0\", \"line\": {\"color\": \"#636efa\", \"dash\": \"solid\", \"shape\": \"spline\"}, \"mode\": \"lines\", \"name\": \"64.0\", \"showlegend\": true, \"type\": \"scatter\", \"x\": [\"2019-07-08T00:00:00Z\", \"2019-07-09T00:00:00Z\", \"2019-07-10T00:00:00Z\", \"2019-07-11T00:00:00Z\", \"2019-07-12T00:00:00Z\", \"2019-07-15T00:00:00Z\", \"2019-07-16T00:00:00Z\", \"2019-07-17T00:00:00Z\", \"2019-07-18T00:00:00Z\", \"2019-07-19T00:00:00Z\", \"2019-07-22T00:00:00Z\", \"2019-07-23T00:00:00Z\", \"2019-07-24T00:00:00Z\", \"2019-07-25T00:00:00Z\", \"2019-07-26T00:00:00Z\", \"2019-07-29T00:00:00Z\", \"2019-07-30T00:00:00Z\", \"2019-07-31T00:00:00Z\", \"2019-08-01T00:00:00Z\", \"2019-08-02T00:00:00Z\", \"2019-08-05T00:00:00Z\", \"2019-08-06T00:00:00Z\", \"2019-08-07T00:00:00Z\", \"2019-08-08T00:00:00Z\", \"2019-08-09T00:00:00Z\", \"2019-08-12T00:00:00Z\", \"2019-08-13T00:00:00Z\", \"2019-08-14T00:00:00Z\", \"2019-08-15T00:00:00Z\", \"2019-08-16T00:00:00Z\", \"2019-08-19T00:00:00Z\", \"2019-08-20T00:00:00Z\", \"2019-08-21T00:00:00Z\", \"2019-08-22T00:00:00Z\", \"2019-08-23T00:00:00Z\", \"2019-08-26T00:00:00Z\", \"2019-08-27T00:00:00Z\", \"2019-08-28T00:00:00Z\", \"2019-08-29T00:00:00Z\", \"2019-08-30T00:00:00Z\", \"2019-09-03T00:00:00Z\", \"2019-09-04T00:00:00Z\", \"2019-09-05T00:00:00Z\", \"2019-09-06T00:00:00Z\", \"2019-09-09T00:00:00Z\", \"2019-09-10T00:00:00Z\", \"2019-09-11T00:00:00Z\", \"2019-09-12T00:00:00Z\", \"2019-09-13T00:00:00Z\", \"2019-09-16T00:00:00Z\", \"2019-09-17T00:00:00Z\", \"2019-09-18T00:00:00Z\", \"2019-09-19T00:00:00Z\", \"2019-09-20T00:00:00Z\", \"2019-09-23T00:00:00Z\", \"2019-09-24T00:00:00Z\", \"2019-09-25T00:00:00Z\", \"2019-09-26T00:00:00Z\", \"2019-09-27T00:00:00Z\", \"2019-09-30T00:00:00Z\", \"2019-10-01T00:00:00Z\", \"2019-10-02T00:00:00Z\", \"2019-10-03T00:00:00Z\", \"2019-10-04T00:00:00Z\", \"2019-10-07T00:00:00Z\", \"2019-10-08T00:00:00Z\", \"2019-10-09T00:00:00Z\", \"2019-10-10T00:00:00Z\", \"2019-10-11T00:00:00Z\", \"2019-10-14T00:00:00Z\", \"2019-10-15T00:00:00Z\", \"2019-10-16T00:00:00Z\", \"2019-10-17T00:00:00Z\", \"2019-10-18T00:00:00Z\", \"2019-10-21T00:00:00Z\", \"2019-10-22T00:00:00Z\", \"2019-10-23T00:00:00Z\", \"2019-10-24T00:00:00Z\", \"2019-10-25T00:00:00Z\", \"2019-10-28T00:00:00Z\", \"2019-10-29T00:00:00Z\", \"2019-10-30T00:00:00Z\", \"2019-10-31T00:00:00Z\", \"2019-11-01T00:00:00Z\", \"2019-11-04T00:00:00Z\", \"2019-11-05T00:00:00Z\", \"2019-11-06T00:00:00Z\", \"2019-11-07T00:00:00Z\", \"2019-11-08T00:00:00Z\", \"2019-11-11T00:00:00Z\", \"2019-11-12T00:00:00Z\", \"2019-11-13T00:00:00Z\", \"2019-11-14T00:00:00Z\", \"2019-11-15T00:00:00Z\", \"2019-11-18T00:00:00Z\", \"2019-11-19T00:00:00Z\", \"2019-11-20T00:00:00Z\", \"2019-11-21T00:00:00Z\", \"2019-11-22T00:00:00Z\", \"2019-11-25T00:00:00Z\", \"2019-11-26T00:00:00Z\", \"2019-11-27T00:00:00Z\", \"2019-11-29T00:00:00Z\", \"2019-12-02T00:00:00Z\", \"2019-12-03T00:00:00Z\", \"2019-12-04T00:00:00Z\", \"2019-12-05T00:00:00Z\", \"2019-12-06T00:00:00Z\", \"2019-12-09T00:00:00Z\", \"2019-12-10T00:00:00Z\", \"2019-12-11T00:00:00Z\", \"2019-12-12T00:00:00Z\", \"2019-12-13T00:00:00Z\", \"2019-12-16T00:00:00Z\", \"2019-12-17T00:00:00Z\", \"2019-12-18T00:00:00Z\", \"2019-12-19T00:00:00Z\", \"2019-12-20T00:00:00Z\", \"2019-12-23T00:00:00Z\", \"2019-12-24T00:00:00Z\", \"2019-12-26T00:00:00Z\", \"2019-12-27T00:00:00Z\", \"2019-12-30T00:00:00Z\", \"2019-12-31T00:00:00Z\", \"2020-01-02T00:00:00Z\", \"2020-01-03T00:00:00Z\", \"2020-01-06T00:00:00Z\", \"2020-01-07T00:00:00Z\", \"2020-01-08T00:00:00Z\", \"2020-01-09T00:00:00Z\", \"2020-01-10T00:00:00Z\", \"2020-01-13T00:00:00Z\", \"2020-01-14T00:00:00Z\", \"2020-01-15T00:00:00Z\", \"2020-01-16T00:00:00Z\", \"2020-01-17T00:00:00Z\", \"2020-01-21T00:00:00Z\", \"2020-01-22T00:00:00Z\", \"2020-01-23T00:00:00Z\", \"2020-01-24T00:00:00Z\", \"2020-01-27T00:00:00Z\", \"2020-01-28T00:00:00Z\", \"2020-01-29T00:00:00Z\", \"2020-01-30T00:00:00Z\", \"2020-01-31T00:00:00Z\", \"2020-02-03T00:00:00Z\", \"2020-02-04T00:00:00Z\", \"2020-02-05T00:00:00Z\", \"2020-02-06T00:00:00Z\", \"2020-02-07T00:00:00Z\", \"2020-02-10T00:00:00Z\", \"2020-02-11T00:00:00Z\", \"2020-02-12T00:00:00Z\", \"2020-02-13T00:00:00Z\", \"2020-02-14T00:00:00Z\", \"2020-02-18T00:00:00Z\", \"2020-02-19T00:00:00Z\", \"2020-02-20T00:00:00Z\", \"2020-02-21T00:00:00Z\", \"2020-02-24T00:00:00Z\", \"2020-02-25T00:00:00Z\", \"2020-02-26T00:00:00Z\", \"2020-02-27T00:00:00Z\", \"2020-02-28T00:00:00Z\", \"2020-03-02T00:00:00Z\", \"2020-03-03T00:00:00Z\", \"2020-03-04T00:00:00Z\", \"2020-03-05T00:00:00Z\", \"2020-03-06T00:00:00Z\", \"2020-03-09T00:00:00Z\", \"2020-03-10T00:00:00Z\", \"2020-03-11T00:00:00Z\", \"2020-03-12T00:00:00Z\", \"2020-03-13T00:00:00Z\", \"2020-03-16T00:00:00Z\", \"2020-03-17T00:00:00Z\", \"2020-03-18T00:00:00Z\", \"2020-03-19T00:00:00Z\", \"2020-03-20T00:00:00Z\", \"2020-03-23T00:00:00Z\", \"2020-03-24T00:00:00Z\", \"2020-03-25T00:00:00Z\", \"2020-03-26T00:00:00Z\", \"2020-03-27T00:00:00Z\", \"2020-03-30T00:00:00Z\", \"2020-03-31T00:00:00Z\", \"2020-04-01T00:00:00Z\", \"2020-04-02T00:00:00Z\", \"2020-04-03T00:00:00Z\", \"2020-04-06T00:00:00Z\", \"2020-04-07T00:00:00Z\", \"2020-04-08T00:00:00Z\", \"2020-04-09T00:00:00Z\", \"2020-04-13T00:00:00Z\", \"2020-04-14T00:00:00Z\", \"2020-04-15T00:00:00Z\", \"2020-04-16T00:00:00Z\", \"2020-04-17T00:00:00Z\", \"2020-04-20T00:00:00Z\", \"2020-04-21T00:00:00Z\", \"2020-04-22T00:00:00Z\", \"2020-04-23T00:00:00Z\", \"2020-04-24T00:00:00Z\", \"2020-04-27T00:00:00Z\", \"2020-04-28T00:00:00Z\", \"2020-04-29T00:00:00Z\", \"2020-04-30T00:00:00Z\", \"2020-05-01T00:00:00Z\", \"2020-05-04T00:00:00Z\", \"2020-05-05T00:00:00Z\", \"2020-05-06T00:00:00Z\", \"2020-05-07T00:00:00Z\", \"2020-05-08T00:00:00Z\", \"2020-05-11T00:00:00Z\", \"2020-05-12T00:00:00Z\", \"2020-05-13T00:00:00Z\", \"2020-05-14T00:00:00Z\", \"2020-05-15T00:00:00Z\", \"2020-05-18T00:00:00Z\", \"2020-05-19T00:00:00Z\", \"2020-05-20T00:00:00Z\", \"2020-05-21T00:00:00Z\", \"2020-05-22T00:00:00Z\", \"2020-05-26T00:00:00Z\", \"2020-05-27T00:00:00Z\", \"2020-05-28T00:00:00Z\", \"2020-05-29T00:00:00Z\", \"2020-06-01T00:00:00Z\", \"2020-06-02T00:00:00Z\", \"2020-06-03T00:00:00Z\", \"2020-06-04T00:00:00Z\", \"2020-06-05T00:00:00Z\", \"2020-06-08T00:00:00Z\", \"2020-06-09T00:00:00Z\", \"2020-06-10T00:00:00Z\", \"2020-06-11T00:00:00Z\", \"2020-06-12T00:00:00Z\", \"2020-06-15T00:00:00Z\", \"2020-06-16T00:00:00Z\", \"2020-06-17T00:00:00Z\", \"2020-06-18T00:00:00Z\", \"2020-06-19T00:00:00Z\", \"2020-06-22T00:00:00Z\", \"2020-06-23T00:00:00Z\", \"2020-06-24T00:00:00Z\", \"2020-06-25T00:00:00Z\", \"2020-06-26T00:00:00Z\", \"2020-06-29T00:00:00Z\", \"2020-06-30T00:00:00Z\", \"2020-07-01T00:00:00Z\", \"2020-07-02T00:00:00Z\"], \"xaxis\": \"x\", \"y\": [\"0.770000\", \"0.770000\", \"0.770000\", \"0.770000\", \"0.770000\", \"0.770000\", \"0.770000\", \"0.770000\", \"0.770000\", \"0.770000\", \"0.770000\", \"0.770000\", \"0.770000\", \"0.770000\", \"0.770000\", \"0.770000\", \"0.770000\", \"0.770000\", \"0.770000\", \"0.770000\", \"0.770000\", \"0.770000\", \"0.770000\", \"0.770000\", \"0.770000\", \"0.770000\", \"0.770000\", \"0.770000\", \"0.770000\", \"0.770000\", \"0.770000\", \"0.770000\", \"0.770000\", \"0.770000\", \"0.770000\", \"0.770000\", \"0.770000\", \"0.770000\", \"0.770000\", \"0.770000\", \"0.770000\", \"0.770000\", \"0.770000\", \"0.770000\", \"0.770000\", \"0.770000\", \"0.770000\", \"0.770000\", \"0.770000\", \"0.770000\", \"0.770000\", \"0.770000\", \"0.770000\", \"0.770000\", \"0.770000\", \"0.770000\", \"0.770000\", \"0.770000\", \"0.770000\", \"0.770000\", \"0.770000\", \"0.770000\", \"0.770000\", \"0.770000\", \"0.770000\", \"0.770000\", \"0.770000\", \"0.770000\", \"0.770000\", \"0.770000\", \"0.770000\", \"0.770000\", \"0.770000\", \"0.770000\", \"0.770000\", \"0.770000\", \"0.770000\", \"0.770000\", \"0.770000\", \"0.770000\", \"0.770000\", \"0.770000\", \"0.770000\", \"0.770000\", \"0.770000\", \"0.770000\", \"0.770000\", \"0.770000\", \"0.770000\", \"0.770000\", \"0.770000\", \"0.770000\", \"0.770000\", \"0.770000\", \"0.770000\", \"0.770000\", \"0.770000\", \"0.770000\", \"0.770000\", \"0.770000\", \"0.770000\", \"0.770000\", \"0.770000\", \"0.770000\", \"0.770000\", \"0.770000\", \"0.770000\", \"0.770000\", \"0.770000\", \"0.770000\", \"0.770000\", \"0.770000\", \"0.770000\", \"0.770000\", \"0.770000\", \"0.770000\", \"0.770000\", \"0.770000\", \"0.770000\", \"0.770000\", \"0.770000\", \"0.770000\", \"0.770000\", \"0.770000\", \"0.770000\", \"0.770000\", \"0.770000\", \"0.770000\", \"0.770000\", \"0.770000\", \"0.770000\", \"0.770000\", \"0.770000\", \"0.770000\", \"0.770000\", \"0.770000\", \"0.770000\", \"0.770000\", \"0.770000\", \"0.770000\", \"0.770000\", \"0.770000\", \"0.770000\", \"0.770000\", \"0.770000\", \"0.770000\", \"0.770000\", \"0.770000\", \"0.770000\", \"0.770000\", \"0.770000\", \"0.770000\", \"0.770000\", \"0.770000\", \"0.770000\", \"0.770000\", \"0.770000\", \"0.770000\", \"0.770000\", \"0.770000\", \"0.770000\", \"0.770000\", \"0.770000\", \"0.770000\", \"0.770000\", \"0.770000\", \"0.770000\", \"0.770000\", \"0.770000\", \"0.770000\", \"0.770000\", \"0.770000\", \"0.770000\", \"0.770000\", \"0.770000\", \"0.770000\", \"0.770000\", \"0.770000\", \"0.770000\", \"0.770000\", \"0.770000\", \"0.770000\", \"0.770000\", \"0.770000\", \"0.770000\", \"0.770000\", \"0.770000\", \"0.770000\", \"0.770000\", \"0.770000\", \"0.770000\", \"0.770000\", \"0.770000\", \"0.770000\", \"0.770000\", \"0.770000\", \"0.770000\", \"0.770000\", \"0.770000\", \"0.770000\", \"0.770000\", \"0.770000\", \"0.770000\", \"0.770000\", \"0.770000\", \"0.770000\", \"0.770000\", \"0.770000\", \"0.770000\", \"0.770000\", \"0.770000\", \"0.770000\", \"0.770000\", \"0.770000\", \"0.770000\", \"0.770000\", \"0.770000\", \"0.770000\", \"0.770000\", \"0.770000\", \"0.770000\", \"0.770000\", \"0.770000\", \"0.770000\", \"0.770000\", \"0.770000\", \"0.770000\", \"0.770000\", \"0.770000\", \"0.770000\", \"0.770000\", \"0.770000\", \"0.770000\", \"0.770000\", \"0.770000\", \"0.770000\", \"0.770000\", \"0.770000\", \"0.770000\", \"0.770000\", \"0.770000\", \"0.770000\", \"0.770000\", \"0.770000\", \"0.010000\", \"1.090000\", \"1.650000\", \"1.620000\", \"1.040000\", \"0.820000\", \"0.780000\"], \"yaxis\": \"y\"}],\n",
       "                        {\"font\": {\"color\": \"#7f7f7f\", \"family\": \"Courier New, monospace\", \"size\": 18}, \"legend\": {\"title\": {\"text\": \"strike_price\"}, \"tracegroupgap\": 0}, \"margin\": {\"t\": 60}, \"template\": {\"data\": {\"bar\": [{\"error_x\": {\"color\": \"#2a3f5f\"}, \"error_y\": {\"color\": \"#2a3f5f\"}, \"marker\": {\"line\": {\"color\": \"#E5ECF6\", \"width\": 0.5}}, \"type\": \"bar\"}], \"barpolar\": [{\"marker\": {\"line\": {\"color\": \"#E5ECF6\", \"width\": 0.5}}, \"type\": \"barpolar\"}], \"carpet\": [{\"aaxis\": {\"endlinecolor\": \"#2a3f5f\", \"gridcolor\": \"white\", \"linecolor\": \"white\", \"minorgridcolor\": \"white\", \"startlinecolor\": \"#2a3f5f\"}, \"baxis\": {\"endlinecolor\": \"#2a3f5f\", \"gridcolor\": \"white\", \"linecolor\": \"white\", \"minorgridcolor\": \"white\", \"startlinecolor\": \"#2a3f5f\"}, \"type\": \"carpet\"}], \"choropleth\": [{\"colorbar\": {\"outlinewidth\": 0, \"ticks\": \"\"}, \"type\": \"choropleth\"}], \"contour\": [{\"colorbar\": {\"outlinewidth\": 0, \"ticks\": \"\"}, \"colorscale\": [[0.0, \"#0d0887\"], [0.1111111111111111, \"#46039f\"], [0.2222222222222222, \"#7201a8\"], [0.3333333333333333, \"#9c179e\"], [0.4444444444444444, \"#bd3786\"], [0.5555555555555556, \"#d8576b\"], [0.6666666666666666, \"#ed7953\"], [0.7777777777777778, \"#fb9f3a\"], [0.8888888888888888, \"#fdca26\"], [1.0, \"#f0f921\"]], \"type\": \"contour\"}], \"contourcarpet\": [{\"colorbar\": {\"outlinewidth\": 0, \"ticks\": \"\"}, \"type\": \"contourcarpet\"}], \"heatmap\": [{\"colorbar\": {\"outlinewidth\": 0, \"ticks\": \"\"}, \"colorscale\": [[0.0, \"#0d0887\"], [0.1111111111111111, \"#46039f\"], [0.2222222222222222, \"#7201a8\"], [0.3333333333333333, \"#9c179e\"], [0.4444444444444444, \"#bd3786\"], [0.5555555555555556, \"#d8576b\"], [0.6666666666666666, \"#ed7953\"], [0.7777777777777778, \"#fb9f3a\"], [0.8888888888888888, \"#fdca26\"], [1.0, \"#f0f921\"]], \"type\": \"heatmap\"}], \"heatmapgl\": [{\"colorbar\": {\"outlinewidth\": 0, \"ticks\": \"\"}, \"colorscale\": [[0.0, \"#0d0887\"], [0.1111111111111111, \"#46039f\"], [0.2222222222222222, \"#7201a8\"], [0.3333333333333333, \"#9c179e\"], [0.4444444444444444, \"#bd3786\"], [0.5555555555555556, \"#d8576b\"], [0.6666666666666666, \"#ed7953\"], [0.7777777777777778, \"#fb9f3a\"], [0.8888888888888888, \"#fdca26\"], [1.0, \"#f0f921\"]], \"type\": \"heatmapgl\"}], \"histogram\": [{\"marker\": {\"colorbar\": {\"outlinewidth\": 0, \"ticks\": \"\"}}, \"type\": \"histogram\"}], \"histogram2d\": [{\"colorbar\": {\"outlinewidth\": 0, \"ticks\": \"\"}, \"colorscale\": [[0.0, \"#0d0887\"], [0.1111111111111111, \"#46039f\"], [0.2222222222222222, \"#7201a8\"], [0.3333333333333333, \"#9c179e\"], [0.4444444444444444, \"#bd3786\"], [0.5555555555555556, \"#d8576b\"], [0.6666666666666666, \"#ed7953\"], [0.7777777777777778, \"#fb9f3a\"], [0.8888888888888888, \"#fdca26\"], [1.0, \"#f0f921\"]], \"type\": \"histogram2d\"}], \"histogram2dcontour\": [{\"colorbar\": {\"outlinewidth\": 0, \"ticks\": \"\"}, \"colorscale\": [[0.0, \"#0d0887\"], [0.1111111111111111, \"#46039f\"], [0.2222222222222222, \"#7201a8\"], [0.3333333333333333, \"#9c179e\"], [0.4444444444444444, \"#bd3786\"], [0.5555555555555556, \"#d8576b\"], [0.6666666666666666, \"#ed7953\"], [0.7777777777777778, \"#fb9f3a\"], [0.8888888888888888, \"#fdca26\"], [1.0, \"#f0f921\"]], \"type\": \"histogram2dcontour\"}], \"mesh3d\": [{\"colorbar\": {\"outlinewidth\": 0, \"ticks\": \"\"}, \"type\": \"mesh3d\"}], \"parcoords\": [{\"line\": {\"colorbar\": {\"outlinewidth\": 0, \"ticks\": \"\"}}, \"type\": \"parcoords\"}], \"pie\": [{\"automargin\": true, \"type\": \"pie\"}], \"scatter\": [{\"marker\": {\"colorbar\": {\"outlinewidth\": 0, \"ticks\": \"\"}}, \"type\": \"scatter\"}], \"scatter3d\": [{\"line\": {\"colorbar\": {\"outlinewidth\": 0, \"ticks\": \"\"}}, \"marker\": {\"colorbar\": {\"outlinewidth\": 0, \"ticks\": \"\"}}, \"type\": \"scatter3d\"}], \"scattercarpet\": [{\"marker\": {\"colorbar\": {\"outlinewidth\": 0, \"ticks\": \"\"}}, \"type\": \"scattercarpet\"}], \"scattergeo\": [{\"marker\": {\"colorbar\": {\"outlinewidth\": 0, \"ticks\": \"\"}}, \"type\": \"scattergeo\"}], \"scattergl\": [{\"marker\": {\"colorbar\": {\"outlinewidth\": 0, \"ticks\": \"\"}}, \"type\": \"scattergl\"}], \"scattermapbox\": [{\"marker\": {\"colorbar\": {\"outlinewidth\": 0, \"ticks\": \"\"}}, \"type\": \"scattermapbox\"}], \"scatterpolar\": [{\"marker\": {\"colorbar\": {\"outlinewidth\": 0, \"ticks\": \"\"}}, \"type\": \"scatterpolar\"}], \"scatterpolargl\": [{\"marker\": {\"colorbar\": {\"outlinewidth\": 0, \"ticks\": \"\"}}, \"type\": \"scatterpolargl\"}], \"scatterternary\": [{\"marker\": {\"colorbar\": {\"outlinewidth\": 0, \"ticks\": \"\"}}, \"type\": \"scatterternary\"}], \"surface\": [{\"colorbar\": {\"outlinewidth\": 0, \"ticks\": \"\"}, \"colorscale\": [[0.0, \"#0d0887\"], [0.1111111111111111, \"#46039f\"], [0.2222222222222222, \"#7201a8\"], [0.3333333333333333, \"#9c179e\"], [0.4444444444444444, \"#bd3786\"], [0.5555555555555556, \"#d8576b\"], [0.6666666666666666, \"#ed7953\"], [0.7777777777777778, \"#fb9f3a\"], [0.8888888888888888, \"#fdca26\"], [1.0, \"#f0f921\"]], \"type\": \"surface\"}], \"table\": [{\"cells\": {\"fill\": {\"color\": \"#EBF0F8\"}, \"line\": {\"color\": \"white\"}}, \"header\": {\"fill\": {\"color\": \"#C8D4E3\"}, \"line\": {\"color\": \"white\"}}, \"type\": \"table\"}]}, \"layout\": {\"annotationdefaults\": {\"arrowcolor\": \"#2a3f5f\", \"arrowhead\": 0, \"arrowwidth\": 1}, \"coloraxis\": {\"colorbar\": {\"outlinewidth\": 0, \"ticks\": \"\"}}, \"colorscale\": {\"diverging\": [[0, \"#8e0152\"], [0.1, \"#c51b7d\"], [0.2, \"#de77ae\"], [0.3, \"#f1b6da\"], [0.4, \"#fde0ef\"], [0.5, \"#f7f7f7\"], [0.6, \"#e6f5d0\"], [0.7, \"#b8e186\"], [0.8, \"#7fbc41\"], [0.9, \"#4d9221\"], [1, \"#276419\"]], \"sequential\": [[0.0, \"#0d0887\"], [0.1111111111111111, \"#46039f\"], [0.2222222222222222, \"#7201a8\"], [0.3333333333333333, \"#9c179e\"], [0.4444444444444444, \"#bd3786\"], [0.5555555555555556, \"#d8576b\"], [0.6666666666666666, \"#ed7953\"], [0.7777777777777778, \"#fb9f3a\"], [0.8888888888888888, \"#fdca26\"], [1.0, \"#f0f921\"]], \"sequentialminus\": [[0.0, \"#0d0887\"], [0.1111111111111111, \"#46039f\"], [0.2222222222222222, \"#7201a8\"], [0.3333333333333333, \"#9c179e\"], [0.4444444444444444, \"#bd3786\"], [0.5555555555555556, \"#d8576b\"], [0.6666666666666666, \"#ed7953\"], [0.7777777777777778, \"#fb9f3a\"], [0.8888888888888888, \"#fdca26\"], [1.0, \"#f0f921\"]]}, \"colorway\": [\"#636efa\", \"#EF553B\", \"#00cc96\", \"#ab63fa\", \"#FFA15A\", \"#19d3f3\", \"#FF6692\", \"#B6E880\", \"#FF97FF\", \"#FECB52\"], \"font\": {\"color\": \"#2a3f5f\"}, \"geo\": {\"bgcolor\": \"white\", \"lakecolor\": \"white\", \"landcolor\": \"#E5ECF6\", \"showlakes\": true, \"showland\": true, \"subunitcolor\": \"white\"}, \"hoverlabel\": {\"align\": \"left\"}, \"hovermode\": \"closest\", \"mapbox\": {\"style\": \"light\"}, \"paper_bgcolor\": \"white\", \"plot_bgcolor\": \"#E5ECF6\", \"polar\": {\"angularaxis\": {\"gridcolor\": \"white\", \"linecolor\": \"white\", \"ticks\": \"\"}, \"bgcolor\": \"#E5ECF6\", \"radialaxis\": {\"gridcolor\": \"white\", \"linecolor\": \"white\", \"ticks\": \"\"}}, \"scene\": {\"xaxis\": {\"backgroundcolor\": \"#E5ECF6\", \"gridcolor\": \"white\", \"gridwidth\": 2, \"linecolor\": \"white\", \"showbackground\": true, \"ticks\": \"\", \"zerolinecolor\": \"white\"}, \"yaxis\": {\"backgroundcolor\": \"#E5ECF6\", \"gridcolor\": \"white\", \"gridwidth\": 2, \"linecolor\": \"white\", \"showbackground\": true, \"ticks\": \"\", \"zerolinecolor\": \"white\"}, \"zaxis\": {\"backgroundcolor\": \"#E5ECF6\", \"gridcolor\": \"white\", \"gridwidth\": 2, \"linecolor\": \"white\", \"showbackground\": true, \"ticks\": \"\", \"zerolinecolor\": \"white\"}}, \"shapedefaults\": {\"line\": {\"color\": \"#2a3f5f\"}}, \"ternary\": {\"aaxis\": {\"gridcolor\": \"white\", \"linecolor\": \"white\", \"ticks\": \"\"}, \"baxis\": {\"gridcolor\": \"white\", \"linecolor\": \"white\", \"ticks\": \"\"}, \"bgcolor\": \"#E5ECF6\", \"caxis\": {\"gridcolor\": \"white\", \"linecolor\": \"white\", \"ticks\": \"\"}}, \"title\": {\"x\": 0.05}, \"xaxis\": {\"automargin\": true, \"gridcolor\": \"white\", \"linecolor\": \"white\", \"ticks\": \"\", \"title\": {\"standoff\": 15}, \"zerolinecolor\": \"white\", \"zerolinewidth\": 2}, \"yaxis\": {\"automargin\": true, \"gridcolor\": \"white\", \"linecolor\": \"white\", \"ticks\": \"\", \"title\": {\"standoff\": 15}, \"zerolinecolor\": \"white\", \"zerolinewidth\": 2}}}, \"title\": {\"text\": \"INTC Expiration:2020-08-07, Time:2020-07-01 17:00\"}, \"xaxis\": {\"anchor\": \"y\", \"domain\": [0.0, 1.0], \"title\": {\"text\": \"Date\"}}, \"yaxis\": {\"anchor\": \"x\", \"domain\": [0.0, 1.0], \"title\": {\"text\": \"Option price\"}}},\n",
       "                        {\"responsive\": true}\n",
       "                    ).then(function(){\n",
       "                            \n",
       "var gd = document.getElementById('710bf1c1-4561-421d-851d-f0e6abaf0ce8');\n",
       "var x = new MutationObserver(function (mutations, observer) {{\n",
       "        var display = window.getComputedStyle(gd).display;\n",
       "        if (!display || display === 'none') {{\n",
       "            console.log([gd, 'removed!']);\n",
       "            Plotly.purge(gd);\n",
       "            observer.disconnect();\n",
       "        }}\n",
       "}});\n",
       "\n",
       "// Listen for the removal of the full notebook cells\n",
       "var notebookContainer = gd.closest('#notebook-container');\n",
       "if (notebookContainer) {{\n",
       "    x.observe(notebookContainer, {childList: true});\n",
       "}}\n",
       "\n",
       "// Listen for the clearing of the current output cell\n",
       "var outputEl = gd.closest('.output');\n",
       "if (outputEl) {{\n",
       "    x.observe(outputEl, {childList: true});\n",
       "}}\n",
       "\n",
       "                        })\n",
       "                };\n",
       "                });\n",
       "            </script>\n",
       "        </div>"
      ]
     },
     "metadata": {},
     "output_type": "display_data"
    }
   ],
   "source": [
    "span = 'year'\n",
    "figForExpriation(strike_price,volume,optionType,span)"
   ]
  },
  {
   "cell_type": "code",
   "execution_count": null,
   "metadata": {},
   "outputs": [],
   "source": []
  }
 ],
 "metadata": {
  "kernelspec": {
   "display_name": "Python 3",
   "language": "python",
   "name": "python3"
  },
  "language_info": {
   "codemirror_mode": {
    "name": "ipython",
    "version": 3
   },
   "file_extension": ".py",
   "mimetype": "text/x-python",
   "name": "python",
   "nbconvert_exporter": "python",
   "pygments_lexer": "ipython3",
   "version": "3.7.3"
  }
 },
 "nbformat": 4,
 "nbformat_minor": 2
}
