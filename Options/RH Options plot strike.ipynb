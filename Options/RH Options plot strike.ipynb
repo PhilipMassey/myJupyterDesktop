{
 "cells": [
  {
   "cell_type": "code",
   "execution_count": 1,
   "metadata": {},
   "outputs": [],
   "source": [
    "import robin_stocks as r\n",
    "from datetime import datetime\n",
    "from dateutil import tz\n",
    "import pandas as pd\n",
    "import plotly.express as px\n",
    "import plotly.graph_objects as go\n",
    "import plotly.io as pio\n",
    "pio.renderers.default='notebook'\n",
    "\n",
    "from_zone = tz.tzutc()\n",
    "to_zone = tz.tzlocal()\n",
    "def utcToLocal(strDate):\n",
    "    utc = datetime.strptime(strDate, '%Y-%m-%dT%H:%M:%SZ')\n",
    "    utc = utc.replace(tzinfo=from_zone)\n",
    "    return utc.astimezone(to_zone)\n",
    "\n",
    "import configparser\n",
    "config = configparser.RawConfigParser()\n",
    "configFilePath = '/Users/philipmassey/.tokens/robinhood.cfg'\n",
    "config.read(configFilePath)\n",
    "rhuser = config.get('login', 'user')\n",
    "rhpwd = config.get('login', 'pwd')\n",
    "login = r.login(rhuser,rhpwd)\n",
    "\n",
    "def diffMaxHighLow(df, strike_price,volume):\n",
    "    print('Strike\\tVolume\\tHigh\\tLow\\tChange\\tPercent')\n",
    "    high_price = max(df.high_price)\n",
    "    low_price = min(df.high_price)\n",
    "    diff = round((high_price - low_price),2)\n",
    "    percent = round(diff/low_price,2)\n",
    "    print('${:.2f}\\t{:,.0f}\\t{}\\t{}\\t{}\\t{:,.0%}'.format(strike_price,volume,high_price,low_price,diff,percent))\n",
    "\n",
    "def figForExpriation(strike_price,volume,optionType,span):\n",
    "    df = pd.DataFrame(r.get_option_historicals(symbol,expirationDate,strike_price,optionType,span)['data_points'])\n",
    "    df['strike_price'] = strike_price\n",
    "    df[['strike_price','high_price','low_price']] = df[['strike_price','high_price','low_price']].apply(pd.to_numeric)\n",
    "    df = df[df.high_price != df.high_price[0:1][0]]   #filter no changes form the starting date\n",
    "    print()\n",
    "    diffMaxHighLow(df,float(strike_price),float(volume))\n",
    "    local = utcToLocal(df.iloc[-1:].begins_at.values[-1])\n",
    "    title = '{} Expiration:{}, Time:{:{dfmt} {tfmt}}'.format(symbol,expirationDate,local,dfmt='%Y-%m-%d', tfmt='%H:%M')\n",
    "    fig = px.line(df, x=\"begins_at\", y=\"close_price\", color=\"strike_price\", line_group=\"strike_price\", hover_name=\"strike_price\",\n",
    "            line_shape=\"spline\", render_mode=\"svg\")\n",
    "    fig.update_layout(\n",
    "        title=title,\n",
    "        xaxis_title=\"Date\",\n",
    "        yaxis_title=\"Option price\",\n",
    "        font=dict(\n",
    "            family=\"Courier New, monospace\",\n",
    "            size=18,\n",
    "            color=\"#7f7f7f\"\n",
    "        ))\n",
    "    fig.show()"
   ]
  },
  {
   "cell_type": "markdown",
   "metadata": {},
   "source": [
    "### Expiration Dates"
   ]
  },
  {
   "cell_type": "code",
   "execution_count": 5,
   "metadata": {},
   "outputs": [
    {
     "name": "stdout",
     "output_type": "stream",
     "text": [
      "[(0, '2020-07-31'), (1, '2020-08-07'), (2, '2020-08-14'), (3, '2020-08-21'), (4, '2020-08-28'), (5, '2020-09-04'), (6, '2020-09-18'), (7, '2020-10-16'), (8, '2021-01-15'), (9, '2021-02-19'), (10, '2021-06-18'), (11, '2022-01-21')]\n"
     ]
    }
   ],
   "source": [
    "symbol = 'INTC'\n",
    "expiration_dates = r.get_chains(symbol)['expiration_dates']\n",
    "print(list(enumerate(expiration_dates)))"
   ]
  },
  {
   "cell_type": "markdown",
   "metadata": {},
   "source": [
    "### Strike Prices for Expiration Date"
   ]
  },
  {
   "cell_type": "code",
   "execution_count": 6,
   "metadata": {},
   "outputs": [
    {
     "name": "stdout",
     "output_type": "stream",
     "text": [
      "*....404 Client Error: Not Found for url: https://api.robinhood.com/marketdata/options/8ac20ddd-7572-4a16-b5e6-34870f8554e4/\n",
      "Loading Market Data 404 Client Error: Not Found for url: https://api.robinhood.com/marketdata/options/0bdfd684-306a-4e65-a5ab-485712e5ed6f/\n",
      "Loading Market Data 404 Client Error: Not Found for url: https://api.robinhood.com/marketdata/options/2229221f-d888-4032-b8f3-891a3810d6a3/\n",
      "Loading Market Data 404 Client Error: Not Found for url: https://api.robinhood.com/marketdata/options/e3573931-88f0-4235-ba3e-40e7e6348600/\n",
      "Loading Market Data 404 Client Error: Not Found for url: https://api.robinhood.com/marketdata/options/b5bc10df-495a-4f97-bddb-2c549c2e5059/\n",
      "Loading Market Data 404 Client Error: Not Found for url: https://api.robinhood.com/marketdata/options/952fc7c1-b3e1-4ea6-aad2-c5973bc482c0/\n",
      "Loading Market Data 404 Client Error: Not Found for url: https://api.robinhood.com/marketdata/options/881f4df9-6718-4a37-8c3a-4d2b71cb116f/\n",
      "Loading Market Data 404 Client Error: Not Found for url: https://api.robinhood.com/marketdata/options/6e4d09eb-4009-4700-98b4-aed5f7df2061/\n",
      "Loading Market Data Loading Market Data Loading Market Data Loading Market Data Loading Market Data Loading Market Data Loading Market Data Loading Market Data Loading Market Data Loading Market Data Loading Market Data Loading Market Data Loading Market Data Loading Market Data Loading Market Data Loading Market Data Loading Market Data Loading Market Data Loading Market Data Loading Market Data Loading Market Data Loading Market Data Loading Market Data Loading Market Data Loading Market Data Loading Market Data Loading Market Data Loading Market Data Loading Market Data Loading Market Data Loading Market Data Loading Market Data Loading Market Data Loading Market Data Loading Market Data Loading Market Data Loading Market Data Loading Market Data Loading Market Data Loading Market Data Loading Market Data "
     ]
    },
    {
     "ename": "TypeError",
     "evalue": "'>' not supported between instances of 'str' and 'int'",
     "output_type": "error",
     "traceback": [
      "\u001b[0;31m---------------------------------------------------------------------------\u001b[0m",
      "\u001b[0;31mTypeError\u001b[0m                                 Traceback (most recent call last)",
      "\u001b[0;32m<ipython-input-6-5441d8bdea08>\u001b[0m in \u001b[0;36m<module>\u001b[0;34m\u001b[0m\n\u001b[1;32m      2\u001b[0m \u001b[0mvolume_limit\u001b[0m \u001b[0;34m=\u001b[0m \u001b[0;36m0\u001b[0m\u001b[0;34m\u001b[0m\u001b[0;34m\u001b[0m\u001b[0m\n\u001b[1;32m      3\u001b[0m \u001b[0moptionData\u001b[0m \u001b[0;34m=\u001b[0m \u001b[0mr\u001b[0m\u001b[0;34m.\u001b[0m\u001b[0mfind_options_by_expiration\u001b[0m\u001b[0;34m(\u001b[0m\u001b[0;34m[\u001b[0m\u001b[0msymbol\u001b[0m\u001b[0;34m]\u001b[0m\u001b[0;34m,\u001b[0m \u001b[0mexpirationDate\u001b[0m\u001b[0;34m=\u001b[0m\u001b[0mexpirationDate\u001b[0m\u001b[0;34m,\u001b[0m\u001b[0moptionType\u001b[0m\u001b[0;34m=\u001b[0m\u001b[0;34m'call'\u001b[0m\u001b[0;34m)\u001b[0m\u001b[0;34m\u001b[0m\u001b[0;34m\u001b[0m\u001b[0m\n\u001b[0;32m----> 4\u001b[0;31m \u001b[0mdfoptions\u001b[0m \u001b[0;34m=\u001b[0m \u001b[0mpd\u001b[0m\u001b[0;34m.\u001b[0m\u001b[0mDataFrame\u001b[0m\u001b[0;34m(\u001b[0m\u001b[0;34m(\u001b[0m\u001b[0mfilter\u001b[0m\u001b[0;34m(\u001b[0m\u001b[0;32mlambda\u001b[0m \u001b[0mx\u001b[0m\u001b[0;34m:\u001b[0m\u001b[0mx\u001b[0m\u001b[0;34m[\u001b[0m\u001b[0;34m'volume'\u001b[0m\u001b[0;34m]\u001b[0m\u001b[0;34m>\u001b[0m\u001b[0mvolume_limit\u001b[0m\u001b[0;34m,\u001b[0m\u001b[0moptionData\u001b[0m\u001b[0;34m)\u001b[0m\u001b[0;34m)\u001b[0m\u001b[0;34m)\u001b[0m\u001b[0;34m\u001b[0m\u001b[0;34m\u001b[0m\u001b[0m\n\u001b[0m\u001b[1;32m      5\u001b[0m \u001b[0;31m#dfoptions[['strike_price','break_even_price','volume','last_trade_price', 'previous_close_price', 'last_trade_size','open_interest']].sort_values(by='strike_price')\u001b[0m\u001b[0;34m\u001b[0m\u001b[0;34m\u001b[0m\u001b[0;34m\u001b[0m\u001b[0m\n\u001b[1;32m      6\u001b[0m \u001b[0;31m#dfoptions[['strike_price','break_even_price','volume','last_trade_price', 'previous_close_price', 'last_trade_size','open_interest']].sort_values(by='volume',ascending=False)\u001b[0m\u001b[0;34m\u001b[0m\u001b[0;34m\u001b[0m\u001b[0;34m\u001b[0m\u001b[0m\n",
      "\u001b[0;32m/Library/Frameworks/Python.framework/Versions/3.7/lib/python3.7/site-packages/pandas/core/frame.py\u001b[0m in \u001b[0;36m__init__\u001b[0;34m(self, data, index, columns, dtype, copy)\u001b[0m\n\u001b[1;32m    428\u001b[0m               and not isinstance(data, string_and_binary_types)):\n\u001b[1;32m    429\u001b[0m             \u001b[0;32mif\u001b[0m \u001b[0;32mnot\u001b[0m \u001b[0misinstance\u001b[0m\u001b[0;34m(\u001b[0m\u001b[0mdata\u001b[0m\u001b[0;34m,\u001b[0m \u001b[0mcompat\u001b[0m\u001b[0;34m.\u001b[0m\u001b[0mSequence\u001b[0m\u001b[0;34m)\u001b[0m\u001b[0;34m:\u001b[0m\u001b[0;34m\u001b[0m\u001b[0;34m\u001b[0m\u001b[0m\n\u001b[0;32m--> 430\u001b[0;31m                 \u001b[0mdata\u001b[0m \u001b[0;34m=\u001b[0m \u001b[0mlist\u001b[0m\u001b[0;34m(\u001b[0m\u001b[0mdata\u001b[0m\u001b[0;34m)\u001b[0m\u001b[0;34m\u001b[0m\u001b[0;34m\u001b[0m\u001b[0m\n\u001b[0m\u001b[1;32m    431\u001b[0m             \u001b[0;32mif\u001b[0m \u001b[0mlen\u001b[0m\u001b[0;34m(\u001b[0m\u001b[0mdata\u001b[0m\u001b[0;34m)\u001b[0m \u001b[0;34m>\u001b[0m \u001b[0;36m0\u001b[0m\u001b[0;34m:\u001b[0m\u001b[0;34m\u001b[0m\u001b[0;34m\u001b[0m\u001b[0m\n\u001b[1;32m    432\u001b[0m                 \u001b[0;32mif\u001b[0m \u001b[0mis_list_like\u001b[0m\u001b[0;34m(\u001b[0m\u001b[0mdata\u001b[0m\u001b[0;34m[\u001b[0m\u001b[0;36m0\u001b[0m\u001b[0;34m]\u001b[0m\u001b[0;34m)\u001b[0m \u001b[0;32mand\u001b[0m \u001b[0mgetattr\u001b[0m\u001b[0;34m(\u001b[0m\u001b[0mdata\u001b[0m\u001b[0;34m[\u001b[0m\u001b[0;36m0\u001b[0m\u001b[0;34m]\u001b[0m\u001b[0;34m,\u001b[0m \u001b[0;34m'ndim'\u001b[0m\u001b[0;34m,\u001b[0m \u001b[0;36m1\u001b[0m\u001b[0;34m)\u001b[0m \u001b[0;34m==\u001b[0m \u001b[0;36m1\u001b[0m\u001b[0;34m:\u001b[0m\u001b[0;34m\u001b[0m\u001b[0;34m\u001b[0m\u001b[0m\n",
      "\u001b[0;32m<ipython-input-6-5441d8bdea08>\u001b[0m in \u001b[0;36m<lambda>\u001b[0;34m(x)\u001b[0m\n\u001b[1;32m      2\u001b[0m \u001b[0mvolume_limit\u001b[0m \u001b[0;34m=\u001b[0m \u001b[0;36m0\u001b[0m\u001b[0;34m\u001b[0m\u001b[0;34m\u001b[0m\u001b[0m\n\u001b[1;32m      3\u001b[0m \u001b[0moptionData\u001b[0m \u001b[0;34m=\u001b[0m \u001b[0mr\u001b[0m\u001b[0;34m.\u001b[0m\u001b[0mfind_options_by_expiration\u001b[0m\u001b[0;34m(\u001b[0m\u001b[0;34m[\u001b[0m\u001b[0msymbol\u001b[0m\u001b[0;34m]\u001b[0m\u001b[0;34m,\u001b[0m \u001b[0mexpirationDate\u001b[0m\u001b[0;34m=\u001b[0m\u001b[0mexpirationDate\u001b[0m\u001b[0;34m,\u001b[0m\u001b[0moptionType\u001b[0m\u001b[0;34m=\u001b[0m\u001b[0;34m'call'\u001b[0m\u001b[0;34m)\u001b[0m\u001b[0;34m\u001b[0m\u001b[0;34m\u001b[0m\u001b[0m\n\u001b[0;32m----> 4\u001b[0;31m \u001b[0mdfoptions\u001b[0m \u001b[0;34m=\u001b[0m \u001b[0mpd\u001b[0m\u001b[0;34m.\u001b[0m\u001b[0mDataFrame\u001b[0m\u001b[0;34m(\u001b[0m\u001b[0;34m(\u001b[0m\u001b[0mfilter\u001b[0m\u001b[0;34m(\u001b[0m\u001b[0;32mlambda\u001b[0m \u001b[0mx\u001b[0m\u001b[0;34m:\u001b[0m\u001b[0mx\u001b[0m\u001b[0;34m[\u001b[0m\u001b[0;34m'volume'\u001b[0m\u001b[0;34m]\u001b[0m\u001b[0;34m>\u001b[0m\u001b[0mvolume_limit\u001b[0m\u001b[0;34m,\u001b[0m\u001b[0moptionData\u001b[0m\u001b[0;34m)\u001b[0m\u001b[0;34m)\u001b[0m\u001b[0;34m)\u001b[0m\u001b[0;34m\u001b[0m\u001b[0;34m\u001b[0m\u001b[0m\n\u001b[0m\u001b[1;32m      5\u001b[0m \u001b[0;31m#dfoptions[['strike_price','break_even_price','volume','last_trade_price', 'previous_close_price', 'last_trade_size','open_interest']].sort_values(by='strike_price')\u001b[0m\u001b[0;34m\u001b[0m\u001b[0;34m\u001b[0m\u001b[0;34m\u001b[0m\u001b[0m\n\u001b[1;32m      6\u001b[0m \u001b[0;31m#dfoptions[['strike_price','break_even_price','volume','last_trade_price', 'previous_close_price', 'last_trade_size','open_interest']].sort_values(by='volume',ascending=False)\u001b[0m\u001b[0;34m\u001b[0m\u001b[0;34m\u001b[0m\u001b[0;34m\u001b[0m\u001b[0m\n",
      "\u001b[0;31mTypeError\u001b[0m: '>' not supported between instances of 'str' and 'int'"
     ]
    }
   ],
   "source": [
    "expirationDate = expiration_dates[4]\n",
    "volume_limit = 0\n",
    "optionData = r.find_options_by_expiration([symbol], expirationDate=expirationDate,optionType='call') \n",
    "dfoptions = pd.DataFrame((filter(lambda x:x['volume']>volume_limit,optionData)))\n",
    "#dfoptions[['strike_price','break_even_price','volume','last_trade_price', 'previous_close_price', 'last_trade_size','open_interest']].sort_values(by='strike_price')\n",
    "#dfoptions[['strike_price','break_even_price','volume','last_trade_price', 'previous_close_price', 'last_trade_size','open_interest']].sort_values(by='volume',ascending=False)\n",
    "# df1 = dfoptions[['strike_price','volume']][dfoptions.strike_price=='237.5000']\n",
    "# dfstrike_prices = pd.concat([df1,dfstrike_prices])\n",
    "dfstrike_prices = dfoptions.sort_values(by='volume',ascending=False)[0:5][['strike_price','volume']].apply(pd.to_numeric)\n",
    "dfstrike_prices.sort_values(by='strike_price',ascending=True,inplace=True)\n",
    "dfstrike_prices"
   ]
  },
  {
   "cell_type": "code",
   "execution_count": 58,
   "metadata": {},
   "outputs": [
    {
     "name": "stdout",
     "output_type": "stream",
     "text": [
      "*....\n",
      "Strike\tVolume\tHigh\tLow\tChange\tPercent\n",
      "$64.00\t29\t2.3\t0.71\t1.59\t224%\n"
     ]
    },
    {
     "data": {
      "text/html": [
       "<div>\n",
       "        \n",
       "        \n",
       "            <div id=\"c2e5b42f-d476-434d-ad03-54b8e0ec431d\" class=\"plotly-graph-div\" style=\"height:525px; width:100%;\"></div>\n",
       "            <script type=\"text/javascript\">\n",
       "                require([\"plotly\"], function(Plotly) {\n",
       "                    window.PLOTLYENV=window.PLOTLYENV || {};\n",
       "                    \n",
       "                if (document.getElementById(\"c2e5b42f-d476-434d-ad03-54b8e0ec431d\")) {\n",
       "                    Plotly.newPlot(\n",
       "                        'c2e5b42f-d476-434d-ad03-54b8e0ec431d',\n",
       "                        [{\"hoverlabel\": {\"namelength\": 0}, \"hovertemplate\": \"<b>%{hovertext}</b><br><br>strike_price=64.0<br>begins_at=%{x}<br>close_price=%{y}\", \"hovertext\": [64.0, 64.0, 64.0, 64.0, 64.0, 64.0, 64.0, 64.0, 64.0, 64.0, 64.0, 64.0, 64.0, 64.0, 64.0, 64.0, 64.0, 64.0, 64.0, 64.0, 64.0, 64.0, 64.0, 64.0, 64.0, 64.0, 64.0, 64.0, 64.0, 64.0, 64.0, 64.0, 64.0, 64.0, 64.0, 64.0, 64.0, 64.0, 64.0, 64.0, 64.0, 64.0, 64.0, 64.0, 64.0, 64.0, 64.0, 64.0, 64.0, 64.0, 64.0, 64.0, 64.0, 64.0, 64.0, 64.0, 64.0, 64.0, 64.0, 64.0, 64.0, 64.0, 64.0, 64.0, 64.0, 64.0, 64.0, 64.0, 64.0, 64.0, 64.0, 64.0, 64.0, 64.0, 64.0, 64.0, 64.0, 64.0], \"legendgroup\": \"64.0\", \"line\": {\"color\": \"#636efa\", \"dash\": \"solid\", \"shape\": \"spline\"}, \"mode\": \"lines\", \"name\": \"64.0\", \"showlegend\": true, \"type\": \"scatter\", \"x\": [\"2020-07-06T13:30:00Z\", \"2020-07-06T13:35:00Z\", \"2020-07-06T13:40:00Z\", \"2020-07-06T13:45:00Z\", \"2020-07-06T13:50:00Z\", \"2020-07-06T13:55:00Z\", \"2020-07-06T14:00:00Z\", \"2020-07-06T14:05:00Z\", \"2020-07-06T14:10:00Z\", \"2020-07-06T14:15:00Z\", \"2020-07-06T14:20:00Z\", \"2020-07-06T14:25:00Z\", \"2020-07-06T14:30:00Z\", \"2020-07-06T14:35:00Z\", \"2020-07-06T14:40:00Z\", \"2020-07-06T14:45:00Z\", \"2020-07-06T14:50:00Z\", \"2020-07-06T14:55:00Z\", \"2020-07-06T15:00:00Z\", \"2020-07-06T15:05:00Z\", \"2020-07-06T15:10:00Z\", \"2020-07-06T15:15:00Z\", \"2020-07-06T15:20:00Z\", \"2020-07-06T15:25:00Z\", \"2020-07-06T15:30:00Z\", \"2020-07-06T15:35:00Z\", \"2020-07-06T15:40:00Z\", \"2020-07-06T15:45:00Z\", \"2020-07-06T15:50:00Z\", \"2020-07-06T15:55:00Z\", \"2020-07-06T16:00:00Z\", \"2020-07-06T16:05:00Z\", \"2020-07-06T16:10:00Z\", \"2020-07-06T16:15:00Z\", \"2020-07-06T16:20:00Z\", \"2020-07-06T16:25:00Z\", \"2020-07-06T16:30:00Z\", \"2020-07-06T16:35:00Z\", \"2020-07-06T16:40:00Z\", \"2020-07-06T16:45:00Z\", \"2020-07-06T16:50:00Z\", \"2020-07-06T16:55:00Z\", \"2020-07-06T17:00:00Z\", \"2020-07-06T17:05:00Z\", \"2020-07-06T17:10:00Z\", \"2020-07-06T17:15:00Z\", \"2020-07-06T17:20:00Z\", \"2020-07-06T17:25:00Z\", \"2020-07-06T17:30:00Z\", \"2020-07-06T17:35:00Z\", \"2020-07-06T17:40:00Z\", \"2020-07-06T17:45:00Z\", \"2020-07-06T17:50:00Z\", \"2020-07-06T17:55:00Z\", \"2020-07-06T18:00:00Z\", \"2020-07-06T18:05:00Z\", \"2020-07-06T18:10:00Z\", \"2020-07-06T18:15:00Z\", \"2020-07-06T18:20:00Z\", \"2020-07-06T18:25:00Z\", \"2020-07-06T18:30:00Z\", \"2020-07-06T18:35:00Z\", \"2020-07-06T18:40:00Z\", \"2020-07-06T18:45:00Z\", \"2020-07-06T18:50:00Z\", \"2020-07-06T18:55:00Z\", \"2020-07-06T19:00:00Z\", \"2020-07-06T19:05:00Z\", \"2020-07-06T19:10:00Z\", \"2020-07-06T19:15:00Z\", \"2020-07-06T19:20:00Z\", \"2020-07-06T19:25:00Z\", \"2020-07-06T19:30:00Z\", \"2020-07-06T19:35:00Z\", \"2020-07-06T19:40:00Z\", \"2020-07-06T19:45:00Z\", \"2020-07-06T19:50:00Z\", \"2020-07-06T19:55:00Z\"], \"xaxis\": \"x\", \"y\": [\"1.370000\", \"1.360000\", \"1.370000\", \"1.360000\", \"1.320000\", \"1.000000\", \"1.110000\", \"1.090000\", \"1.070000\", \"0.940000\", \"0.900000\", \"0.890000\", \"0.890000\", \"0.870000\", \"0.770000\", \"0.770000\", \"0.760000\", \"0.760000\", \"0.750000\", \"0.760000\", \"0.760000\", \"0.740000\", \"0.750000\", \"0.760000\", \"0.720000\", \"0.750000\", \"0.760000\", \"0.760000\", \"0.750000\", \"0.750000\", \"0.770000\", \"0.740000\", \"0.800000\", \"0.770000\", \"0.780000\", \"0.780000\", \"0.780000\", \"0.750000\", \"0.770000\", \"0.770000\", \"0.770000\", \"0.770000\", \"0.760000\", \"0.760000\", \"0.730000\", \"0.710000\", \"0.740000\", \"0.730000\", \"0.740000\", \"0.730000\", \"0.730000\", \"0.730000\", \"0.750000\", \"0.750000\", \"0.760000\", \"0.750000\", \"0.740000\", \"0.740000\", \"0.710000\", \"0.710000\", \"0.740000\", \"0.740000\", \"0.750000\", \"0.740000\", \"0.740000\", \"0.750000\", \"0.720000\", \"0.700000\", \"0.720000\", \"0.730000\", \"0.750000\", \"0.770000\", \"0.770000\", \"0.770000\", \"0.770000\", \"0.780000\", \"0.790000\", \"0.770000\"], \"yaxis\": \"y\"}],\n",
       "                        {\"font\": {\"color\": \"#7f7f7f\", \"family\": \"Courier New, monospace\", \"size\": 18}, \"legend\": {\"title\": {\"text\": \"strike_price\"}, \"tracegroupgap\": 0}, \"margin\": {\"t\": 60}, \"template\": {\"data\": {\"bar\": [{\"error_x\": {\"color\": \"#2a3f5f\"}, \"error_y\": {\"color\": \"#2a3f5f\"}, \"marker\": {\"line\": {\"color\": \"#E5ECF6\", \"width\": 0.5}}, \"type\": \"bar\"}], \"barpolar\": [{\"marker\": {\"line\": {\"color\": \"#E5ECF6\", \"width\": 0.5}}, \"type\": \"barpolar\"}], \"carpet\": [{\"aaxis\": {\"endlinecolor\": \"#2a3f5f\", \"gridcolor\": \"white\", \"linecolor\": \"white\", \"minorgridcolor\": \"white\", \"startlinecolor\": \"#2a3f5f\"}, \"baxis\": {\"endlinecolor\": \"#2a3f5f\", \"gridcolor\": \"white\", \"linecolor\": \"white\", \"minorgridcolor\": \"white\", \"startlinecolor\": \"#2a3f5f\"}, \"type\": \"carpet\"}], \"choropleth\": [{\"colorbar\": {\"outlinewidth\": 0, \"ticks\": \"\"}, \"type\": \"choropleth\"}], \"contour\": [{\"colorbar\": {\"outlinewidth\": 0, \"ticks\": \"\"}, \"colorscale\": [[0.0, \"#0d0887\"], [0.1111111111111111, \"#46039f\"], [0.2222222222222222, \"#7201a8\"], [0.3333333333333333, \"#9c179e\"], [0.4444444444444444, \"#bd3786\"], [0.5555555555555556, \"#d8576b\"], [0.6666666666666666, \"#ed7953\"], [0.7777777777777778, \"#fb9f3a\"], [0.8888888888888888, \"#fdca26\"], [1.0, \"#f0f921\"]], \"type\": \"contour\"}], \"contourcarpet\": [{\"colorbar\": {\"outlinewidth\": 0, \"ticks\": \"\"}, \"type\": \"contourcarpet\"}], \"heatmap\": [{\"colorbar\": {\"outlinewidth\": 0, \"ticks\": \"\"}, \"colorscale\": [[0.0, \"#0d0887\"], [0.1111111111111111, \"#46039f\"], [0.2222222222222222, \"#7201a8\"], [0.3333333333333333, \"#9c179e\"], [0.4444444444444444, \"#bd3786\"], [0.5555555555555556, \"#d8576b\"], [0.6666666666666666, \"#ed7953\"], [0.7777777777777778, \"#fb9f3a\"], [0.8888888888888888, \"#fdca26\"], [1.0, \"#f0f921\"]], \"type\": \"heatmap\"}], \"heatmapgl\": [{\"colorbar\": {\"outlinewidth\": 0, \"ticks\": \"\"}, \"colorscale\": [[0.0, \"#0d0887\"], [0.1111111111111111, \"#46039f\"], [0.2222222222222222, \"#7201a8\"], [0.3333333333333333, \"#9c179e\"], [0.4444444444444444, \"#bd3786\"], [0.5555555555555556, \"#d8576b\"], [0.6666666666666666, \"#ed7953\"], [0.7777777777777778, \"#fb9f3a\"], [0.8888888888888888, \"#fdca26\"], [1.0, \"#f0f921\"]], \"type\": \"heatmapgl\"}], \"histogram\": [{\"marker\": {\"colorbar\": {\"outlinewidth\": 0, \"ticks\": \"\"}}, \"type\": \"histogram\"}], \"histogram2d\": [{\"colorbar\": {\"outlinewidth\": 0, \"ticks\": \"\"}, \"colorscale\": [[0.0, \"#0d0887\"], [0.1111111111111111, \"#46039f\"], [0.2222222222222222, \"#7201a8\"], [0.3333333333333333, \"#9c179e\"], [0.4444444444444444, \"#bd3786\"], [0.5555555555555556, \"#d8576b\"], [0.6666666666666666, \"#ed7953\"], [0.7777777777777778, \"#fb9f3a\"], [0.8888888888888888, \"#fdca26\"], [1.0, \"#f0f921\"]], \"type\": \"histogram2d\"}], \"histogram2dcontour\": [{\"colorbar\": {\"outlinewidth\": 0, \"ticks\": \"\"}, \"colorscale\": [[0.0, \"#0d0887\"], [0.1111111111111111, \"#46039f\"], [0.2222222222222222, \"#7201a8\"], [0.3333333333333333, \"#9c179e\"], [0.4444444444444444, \"#bd3786\"], [0.5555555555555556, \"#d8576b\"], [0.6666666666666666, \"#ed7953\"], [0.7777777777777778, \"#fb9f3a\"], [0.8888888888888888, \"#fdca26\"], [1.0, \"#f0f921\"]], \"type\": \"histogram2dcontour\"}], \"mesh3d\": [{\"colorbar\": {\"outlinewidth\": 0, \"ticks\": \"\"}, \"type\": \"mesh3d\"}], \"parcoords\": [{\"line\": {\"colorbar\": {\"outlinewidth\": 0, \"ticks\": \"\"}}, \"type\": \"parcoords\"}], \"pie\": [{\"automargin\": true, \"type\": \"pie\"}], \"scatter\": [{\"marker\": {\"colorbar\": {\"outlinewidth\": 0, \"ticks\": \"\"}}, \"type\": \"scatter\"}], \"scatter3d\": [{\"line\": {\"colorbar\": {\"outlinewidth\": 0, \"ticks\": \"\"}}, \"marker\": {\"colorbar\": {\"outlinewidth\": 0, \"ticks\": \"\"}}, \"type\": \"scatter3d\"}], \"scattercarpet\": [{\"marker\": {\"colorbar\": {\"outlinewidth\": 0, \"ticks\": \"\"}}, \"type\": \"scattercarpet\"}], \"scattergeo\": [{\"marker\": {\"colorbar\": {\"outlinewidth\": 0, \"ticks\": \"\"}}, \"type\": \"scattergeo\"}], \"scattergl\": [{\"marker\": {\"colorbar\": {\"outlinewidth\": 0, \"ticks\": \"\"}}, \"type\": \"scattergl\"}], \"scattermapbox\": [{\"marker\": {\"colorbar\": {\"outlinewidth\": 0, \"ticks\": \"\"}}, \"type\": \"scattermapbox\"}], \"scatterpolar\": [{\"marker\": {\"colorbar\": {\"outlinewidth\": 0, \"ticks\": \"\"}}, \"type\": \"scatterpolar\"}], \"scatterpolargl\": [{\"marker\": {\"colorbar\": {\"outlinewidth\": 0, \"ticks\": \"\"}}, \"type\": \"scatterpolargl\"}], \"scatterternary\": [{\"marker\": {\"colorbar\": {\"outlinewidth\": 0, \"ticks\": \"\"}}, \"type\": \"scatterternary\"}], \"surface\": [{\"colorbar\": {\"outlinewidth\": 0, \"ticks\": \"\"}, \"colorscale\": [[0.0, \"#0d0887\"], [0.1111111111111111, \"#46039f\"], [0.2222222222222222, \"#7201a8\"], [0.3333333333333333, \"#9c179e\"], [0.4444444444444444, \"#bd3786\"], [0.5555555555555556, \"#d8576b\"], [0.6666666666666666, \"#ed7953\"], [0.7777777777777778, \"#fb9f3a\"], [0.8888888888888888, \"#fdca26\"], [1.0, \"#f0f921\"]], \"type\": \"surface\"}], \"table\": [{\"cells\": {\"fill\": {\"color\": \"#EBF0F8\"}, \"line\": {\"color\": \"white\"}}, \"header\": {\"fill\": {\"color\": \"#C8D4E3\"}, \"line\": {\"color\": \"white\"}}, \"type\": \"table\"}]}, \"layout\": {\"annotationdefaults\": {\"arrowcolor\": \"#2a3f5f\", \"arrowhead\": 0, \"arrowwidth\": 1}, \"coloraxis\": {\"colorbar\": {\"outlinewidth\": 0, \"ticks\": \"\"}}, \"colorscale\": {\"diverging\": [[0, \"#8e0152\"], [0.1, \"#c51b7d\"], [0.2, \"#de77ae\"], [0.3, \"#f1b6da\"], [0.4, \"#fde0ef\"], [0.5, \"#f7f7f7\"], [0.6, \"#e6f5d0\"], [0.7, \"#b8e186\"], [0.8, \"#7fbc41\"], [0.9, \"#4d9221\"], [1, \"#276419\"]], \"sequential\": [[0.0, \"#0d0887\"], [0.1111111111111111, \"#46039f\"], [0.2222222222222222, \"#7201a8\"], [0.3333333333333333, \"#9c179e\"], [0.4444444444444444, \"#bd3786\"], [0.5555555555555556, \"#d8576b\"], [0.6666666666666666, \"#ed7953\"], [0.7777777777777778, \"#fb9f3a\"], [0.8888888888888888, \"#fdca26\"], [1.0, \"#f0f921\"]], \"sequentialminus\": [[0.0, \"#0d0887\"], [0.1111111111111111, \"#46039f\"], [0.2222222222222222, \"#7201a8\"], [0.3333333333333333, \"#9c179e\"], [0.4444444444444444, \"#bd3786\"], [0.5555555555555556, \"#d8576b\"], [0.6666666666666666, \"#ed7953\"], [0.7777777777777778, \"#fb9f3a\"], [0.8888888888888888, \"#fdca26\"], [1.0, \"#f0f921\"]]}, \"colorway\": [\"#636efa\", \"#EF553B\", \"#00cc96\", \"#ab63fa\", \"#FFA15A\", \"#19d3f3\", \"#FF6692\", \"#B6E880\", \"#FF97FF\", \"#FECB52\"], \"font\": {\"color\": \"#2a3f5f\"}, \"geo\": {\"bgcolor\": \"white\", \"lakecolor\": \"white\", \"landcolor\": \"#E5ECF6\", \"showlakes\": true, \"showland\": true, \"subunitcolor\": \"white\"}, \"hoverlabel\": {\"align\": \"left\"}, \"hovermode\": \"closest\", \"mapbox\": {\"style\": \"light\"}, \"paper_bgcolor\": \"white\", \"plot_bgcolor\": \"#E5ECF6\", \"polar\": {\"angularaxis\": {\"gridcolor\": \"white\", \"linecolor\": \"white\", \"ticks\": \"\"}, \"bgcolor\": \"#E5ECF6\", \"radialaxis\": {\"gridcolor\": \"white\", \"linecolor\": \"white\", \"ticks\": \"\"}}, \"scene\": {\"xaxis\": {\"backgroundcolor\": \"#E5ECF6\", \"gridcolor\": \"white\", \"gridwidth\": 2, \"linecolor\": \"white\", \"showbackground\": true, \"ticks\": \"\", \"zerolinecolor\": \"white\"}, \"yaxis\": {\"backgroundcolor\": \"#E5ECF6\", \"gridcolor\": \"white\", \"gridwidth\": 2, \"linecolor\": \"white\", \"showbackground\": true, \"ticks\": \"\", \"zerolinecolor\": \"white\"}, \"zaxis\": {\"backgroundcolor\": \"#E5ECF6\", \"gridcolor\": \"white\", \"gridwidth\": 2, \"linecolor\": \"white\", \"showbackground\": true, \"ticks\": \"\", \"zerolinecolor\": \"white\"}}, \"shapedefaults\": {\"line\": {\"color\": \"#2a3f5f\"}}, \"ternary\": {\"aaxis\": {\"gridcolor\": \"white\", \"linecolor\": \"white\", \"ticks\": \"\"}, \"baxis\": {\"gridcolor\": \"white\", \"linecolor\": \"white\", \"ticks\": \"\"}, \"bgcolor\": \"#E5ECF6\", \"caxis\": {\"gridcolor\": \"white\", \"linecolor\": \"white\", \"ticks\": \"\"}}, \"title\": {\"x\": 0.05}, \"xaxis\": {\"automargin\": true, \"gridcolor\": \"white\", \"linecolor\": \"white\", \"ticks\": \"\", \"title\": {\"standoff\": 15}, \"zerolinecolor\": \"white\", \"zerolinewidth\": 2}, \"yaxis\": {\"automargin\": true, \"gridcolor\": \"white\", \"linecolor\": \"white\", \"ticks\": \"\", \"title\": {\"standoff\": 15}, \"zerolinecolor\": \"white\", \"zerolinewidth\": 2}}}, \"title\": {\"text\": \"INTC Expiration:2020-08-07, Time:2020-07-06 12:55\"}, \"xaxis\": {\"anchor\": \"y\", \"domain\": [0.0, 1.0], \"title\": {\"text\": \"Date\"}}, \"yaxis\": {\"anchor\": \"x\", \"domain\": [0.0, 1.0], \"title\": {\"text\": \"Option price\"}}},\n",
       "                        {\"responsive\": true}\n",
       "                    ).then(function(){\n",
       "                            \n",
       "var gd = document.getElementById('c2e5b42f-d476-434d-ad03-54b8e0ec431d');\n",
       "var x = new MutationObserver(function (mutations, observer) {{\n",
       "        var display = window.getComputedStyle(gd).display;\n",
       "        if (!display || display === 'none') {{\n",
       "            console.log([gd, 'removed!']);\n",
       "            Plotly.purge(gd);\n",
       "            observer.disconnect();\n",
       "        }}\n",
       "}});\n",
       "\n",
       "// Listen for the removal of the full notebook cells\n",
       "var notebookContainer = gd.closest('#notebook-container');\n",
       "if (notebookContainer) {{\n",
       "    x.observe(notebookContainer, {childList: true});\n",
       "}}\n",
       "\n",
       "// Listen for the clearing of the current output cell\n",
       "var outputEl = gd.closest('.output');\n",
       "if (outputEl) {{\n",
       "    x.observe(outputEl, {childList: true});\n",
       "}}\n",
       "\n",
       "                        })\n",
       "                };\n",
       "                });\n",
       "            </script>\n",
       "        </div>"
      ]
     },
     "metadata": {},
     "output_type": "display_data"
    }
   ],
   "source": [
    "optionType = 'call'\n",
    "span = 'day'\n",
    "idx = 3\n",
    "strike_price = dfstrike_prices.iloc[idx].strike_price\n",
    "volume = dfstrike_prices.iloc[idx].volume\n",
    "#strike_price = 40.0\n",
    "figForExpriation(strike_price,volume,optionType,span)"
   ]
  },
  {
   "cell_type": "code",
   "execution_count": 59,
   "metadata": {},
   "outputs": [
    {
     "name": "stdout",
     "output_type": "stream",
     "text": [
      "*....\n",
      "Strike\tVolume\tHigh\tLow\tChange\tPercent\n",
      "$64.00\t29\t2.3\t0.74\t1.56\t211%\n"
     ]
    },
    {
     "data": {
      "text/html": [
       "<div>\n",
       "        \n",
       "        \n",
       "            <div id=\"ae50b8f3-855f-4a07-b351-d02be3df395c\" class=\"plotly-graph-div\" style=\"height:525px; width:100%;\"></div>\n",
       "            <script type=\"text/javascript\">\n",
       "                require([\"plotly\"], function(Plotly) {\n",
       "                    window.PLOTLYENV=window.PLOTLYENV || {};\n",
       "                    \n",
       "                if (document.getElementById(\"ae50b8f3-855f-4a07-b351-d02be3df395c\")) {\n",
       "                    Plotly.newPlot(\n",
       "                        'ae50b8f3-855f-4a07-b351-d02be3df395c',\n",
       "                        [{\"hoverlabel\": {\"namelength\": 0}, \"hovertemplate\": \"<b>%{hovertext}</b><br><br>strike_price=64.0<br>begins_at=%{x}<br>close_price=%{y}\", \"hovertext\": [64.0, 64.0, 64.0, 64.0, 64.0, 64.0, 64.0, 64.0, 64.0, 64.0, 64.0, 64.0, 64.0, 64.0, 64.0, 64.0, 64.0, 64.0, 64.0, 64.0, 64.0, 64.0, 64.0, 64.0, 64.0, 64.0, 64.0, 64.0, 64.0, 64.0, 64.0, 64.0, 64.0, 64.0, 64.0, 64.0, 64.0, 64.0, 64.0, 64.0, 64.0, 64.0, 64.0, 64.0, 64.0, 64.0, 64.0, 64.0, 64.0, 64.0, 64.0, 64.0, 64.0, 64.0, 64.0, 64.0, 64.0, 64.0, 64.0, 64.0, 64.0, 64.0, 64.0, 64.0, 64.0, 64.0, 64.0, 64.0, 64.0, 64.0, 64.0, 64.0, 64.0, 64.0, 64.0, 64.0, 64.0, 64.0, 64.0, 64.0, 64.0, 64.0, 64.0, 64.0, 64.0, 64.0, 64.0, 64.0, 64.0, 64.0, 64.0, 64.0, 64.0, 64.0, 64.0, 64.0, 64.0, 64.0, 64.0, 64.0, 64.0, 64.0, 64.0, 64.0, 64.0, 64.0, 64.0, 64.0, 64.0, 64.0, 64.0, 64.0, 64.0, 64.0, 64.0, 64.0, 64.0, 64.0, 64.0, 64.0, 64.0, 64.0, 64.0, 64.0, 64.0, 64.0, 64.0, 64.0, 64.0, 64.0, 64.0, 64.0, 64.0, 64.0, 64.0, 64.0, 64.0, 64.0, 64.0, 64.0, 64.0, 64.0, 64.0, 64.0, 64.0, 64.0, 64.0, 64.0, 64.0, 64.0, 64.0, 64.0, 64.0, 64.0, 64.0, 64.0], \"legendgroup\": \"64.0\", \"line\": {\"color\": \"#636efa\", \"dash\": \"solid\", \"shape\": \"spline\"}, \"mode\": \"lines\", \"name\": \"64.0\", \"showlegend\": true, \"type\": \"scatter\", \"x\": [\"2020-06-30T13:30:00Z\", \"2020-06-30T13:40:00Z\", \"2020-06-30T13:50:00Z\", \"2020-06-30T14:00:00Z\", \"2020-06-30T14:10:00Z\", \"2020-06-30T14:20:00Z\", \"2020-06-30T14:30:00Z\", \"2020-06-30T14:40:00Z\", \"2020-06-30T14:50:00Z\", \"2020-06-30T15:00:00Z\", \"2020-06-30T15:10:00Z\", \"2020-06-30T15:20:00Z\", \"2020-06-30T15:30:00Z\", \"2020-06-30T15:40:00Z\", \"2020-06-30T15:50:00Z\", \"2020-06-30T16:00:00Z\", \"2020-06-30T16:10:00Z\", \"2020-06-30T16:20:00Z\", \"2020-06-30T16:30:00Z\", \"2020-06-30T16:40:00Z\", \"2020-06-30T16:50:00Z\", \"2020-06-30T17:00:00Z\", \"2020-06-30T17:10:00Z\", \"2020-06-30T17:20:00Z\", \"2020-06-30T17:30:00Z\", \"2020-06-30T17:40:00Z\", \"2020-06-30T17:50:00Z\", \"2020-06-30T18:00:00Z\", \"2020-06-30T18:10:00Z\", \"2020-06-30T18:20:00Z\", \"2020-06-30T18:30:00Z\", \"2020-06-30T18:40:00Z\", \"2020-06-30T18:50:00Z\", \"2020-06-30T19:00:00Z\", \"2020-06-30T19:10:00Z\", \"2020-06-30T19:20:00Z\", \"2020-06-30T19:30:00Z\", \"2020-06-30T19:40:00Z\", \"2020-06-30T19:50:00Z\", \"2020-07-01T13:30:00Z\", \"2020-07-01T13:40:00Z\", \"2020-07-01T13:50:00Z\", \"2020-07-01T14:00:00Z\", \"2020-07-01T14:10:00Z\", \"2020-07-01T14:20:00Z\", \"2020-07-01T14:30:00Z\", \"2020-07-01T14:40:00Z\", \"2020-07-01T14:50:00Z\", \"2020-07-01T15:00:00Z\", \"2020-07-01T15:10:00Z\", \"2020-07-01T15:20:00Z\", \"2020-07-01T15:30:00Z\", \"2020-07-01T15:40:00Z\", \"2020-07-01T15:50:00Z\", \"2020-07-01T16:00:00Z\", \"2020-07-01T16:10:00Z\", \"2020-07-01T16:20:00Z\", \"2020-07-01T16:30:00Z\", \"2020-07-01T16:40:00Z\", \"2020-07-01T16:50:00Z\", \"2020-07-01T17:00:00Z\", \"2020-07-01T17:10:00Z\", \"2020-07-01T17:20:00Z\", \"2020-07-01T17:30:00Z\", \"2020-07-01T17:40:00Z\", \"2020-07-01T17:50:00Z\", \"2020-07-01T18:00:00Z\", \"2020-07-01T18:10:00Z\", \"2020-07-01T18:20:00Z\", \"2020-07-01T18:30:00Z\", \"2020-07-01T18:40:00Z\", \"2020-07-01T18:50:00Z\", \"2020-07-01T19:00:00Z\", \"2020-07-01T19:10:00Z\", \"2020-07-01T19:20:00Z\", \"2020-07-01T19:30:00Z\", \"2020-07-01T19:40:00Z\", \"2020-07-01T19:50:00Z\", \"2020-07-02T13:30:00Z\", \"2020-07-02T13:40:00Z\", \"2020-07-02T13:50:00Z\", \"2020-07-02T14:00:00Z\", \"2020-07-02T14:10:00Z\", \"2020-07-02T14:20:00Z\", \"2020-07-02T14:30:00Z\", \"2020-07-02T14:40:00Z\", \"2020-07-02T14:50:00Z\", \"2020-07-02T15:00:00Z\", \"2020-07-02T15:10:00Z\", \"2020-07-02T15:20:00Z\", \"2020-07-02T15:30:00Z\", \"2020-07-02T15:40:00Z\", \"2020-07-02T15:50:00Z\", \"2020-07-02T16:00:00Z\", \"2020-07-02T16:10:00Z\", \"2020-07-02T16:20:00Z\", \"2020-07-02T16:30:00Z\", \"2020-07-02T16:40:00Z\", \"2020-07-02T16:50:00Z\", \"2020-07-02T17:00:00Z\", \"2020-07-02T17:10:00Z\", \"2020-07-02T17:20:00Z\", \"2020-07-02T17:30:00Z\", \"2020-07-02T17:40:00Z\", \"2020-07-02T17:50:00Z\", \"2020-07-02T18:00:00Z\", \"2020-07-02T18:10:00Z\", \"2020-07-02T18:20:00Z\", \"2020-07-02T18:30:00Z\", \"2020-07-02T18:40:00Z\", \"2020-07-02T18:50:00Z\", \"2020-07-02T19:00:00Z\", \"2020-07-02T19:10:00Z\", \"2020-07-02T19:20:00Z\", \"2020-07-02T19:30:00Z\", \"2020-07-02T19:40:00Z\", \"2020-07-02T19:50:00Z\", \"2020-07-06T13:30:00Z\", \"2020-07-06T13:40:00Z\", \"2020-07-06T13:50:00Z\", \"2020-07-06T14:00:00Z\", \"2020-07-06T14:10:00Z\", \"2020-07-06T14:20:00Z\", \"2020-07-06T14:30:00Z\", \"2020-07-06T14:40:00Z\", \"2020-07-06T14:50:00Z\", \"2020-07-06T15:00:00Z\", \"2020-07-06T15:10:00Z\", \"2020-07-06T15:20:00Z\", \"2020-07-06T15:30:00Z\", \"2020-07-06T15:40:00Z\", \"2020-07-06T15:50:00Z\", \"2020-07-06T16:00:00Z\", \"2020-07-06T16:10:00Z\", \"2020-07-06T16:20:00Z\", \"2020-07-06T16:30:00Z\", \"2020-07-06T16:40:00Z\", \"2020-07-06T16:50:00Z\", \"2020-07-06T17:00:00Z\", \"2020-07-06T17:10:00Z\", \"2020-07-06T17:20:00Z\", \"2020-07-06T17:30:00Z\", \"2020-07-06T17:40:00Z\", \"2020-07-06T17:50:00Z\", \"2020-07-06T18:00:00Z\", \"2020-07-06T18:10:00Z\", \"2020-07-06T18:20:00Z\", \"2020-07-06T18:30:00Z\", \"2020-07-06T18:40:00Z\", \"2020-07-06T18:50:00Z\", \"2020-07-06T19:00:00Z\", \"2020-07-06T19:10:00Z\", \"2020-07-06T19:20:00Z\", \"2020-07-06T19:30:00Z\", \"2020-07-06T19:40:00Z\", \"2020-07-06T19:50:00Z\"], \"xaxis\": \"x\", \"y\": [\"1.250000\", \"1.270000\", \"1.270000\", \"1.220000\", \"1.120000\", \"1.080000\", \"1.070000\", \"1.080000\", \"1.090000\", \"1.050000\", \"1.070000\", \"1.060000\", \"1.030000\", \"1.020000\", \"1.020000\", \"1.000000\", \"0.970000\", \"0.990000\", \"0.970000\", \"0.950000\", \"0.990000\", \"0.920000\", \"0.960000\", \"0.980000\", \"0.990000\", \"0.920000\", \"0.940000\", \"0.980000\", \"0.970000\", \"0.940000\", \"0.980000\", \"0.910000\", \"0.970000\", \"0.950000\", \"0.900000\", \"0.960000\", \"0.950000\", \"0.960000\", \"1.040000\", \"1.080000\", \"1.070000\", \"1.000000\", \"0.970000\", \"0.900000\", \"0.930000\", \"0.940000\", \"0.840000\", \"0.840000\", \"0.860000\", \"0.860000\", \"0.890000\", \"0.860000\", \"0.850000\", \"0.850000\", \"0.880000\", \"0.890000\", \"0.890000\", \"0.900000\", \"0.860000\", \"0.880000\", \"0.880000\", \"0.880000\", \"0.880000\", \"0.900000\", \"0.880000\", \"0.890000\", \"0.890000\", \"0.870000\", \"0.860000\", \"0.890000\", \"0.850000\", \"0.830000\", \"0.860000\", \"0.860000\", \"0.870000\", \"0.860000\", \"0.900000\", \"0.820000\", \"0.820000\", \"0.810000\", \"0.920000\", \"1.050000\", \"1.000000\", \"0.910000\", \"0.860000\", \"0.880000\", \"0.840000\", \"0.810000\", \"0.840000\", \"0.830000\", \"0.850000\", \"0.880000\", \"0.850000\", \"0.850000\", \"0.850000\", \"0.830000\", \"0.850000\", \"0.870000\", \"0.850000\", \"0.880000\", \"0.910000\", \"0.910000\", \"0.900000\", \"0.890000\", \"0.810000\", \"0.800000\", \"0.810000\", \"0.850000\", \"0.850000\", \"0.860000\", \"0.860000\", \"0.890000\", \"0.870000\", \"0.860000\", \"0.850000\", \"0.840000\", \"0.780000\", \"1.360000\", \"1.360000\", \"1.000000\", \"1.090000\", \"0.940000\", \"0.890000\", \"0.870000\", \"0.770000\", \"0.760000\", \"0.760000\", \"0.740000\", \"0.760000\", \"0.750000\", \"0.760000\", \"0.750000\", \"0.740000\", \"0.770000\", \"0.780000\", \"0.750000\", \"0.770000\", \"0.770000\", \"0.760000\", \"0.710000\", \"0.730000\", \"0.730000\", \"0.730000\", \"0.750000\", \"0.750000\", \"0.740000\", \"0.710000\", \"0.740000\", \"0.740000\", \"0.750000\", \"0.700000\", \"0.730000\", \"0.770000\", \"0.770000\", \"0.780000\", \"0.770000\"], \"yaxis\": \"y\"}],\n",
       "                        {\"font\": {\"color\": \"#7f7f7f\", \"family\": \"Courier New, monospace\", \"size\": 18}, \"legend\": {\"title\": {\"text\": \"strike_price\"}, \"tracegroupgap\": 0}, \"margin\": {\"t\": 60}, \"template\": {\"data\": {\"bar\": [{\"error_x\": {\"color\": \"#2a3f5f\"}, \"error_y\": {\"color\": \"#2a3f5f\"}, \"marker\": {\"line\": {\"color\": \"#E5ECF6\", \"width\": 0.5}}, \"type\": \"bar\"}], \"barpolar\": [{\"marker\": {\"line\": {\"color\": \"#E5ECF6\", \"width\": 0.5}}, \"type\": \"barpolar\"}], \"carpet\": [{\"aaxis\": {\"endlinecolor\": \"#2a3f5f\", \"gridcolor\": \"white\", \"linecolor\": \"white\", \"minorgridcolor\": \"white\", \"startlinecolor\": \"#2a3f5f\"}, \"baxis\": {\"endlinecolor\": \"#2a3f5f\", \"gridcolor\": \"white\", \"linecolor\": \"white\", \"minorgridcolor\": \"white\", \"startlinecolor\": \"#2a3f5f\"}, \"type\": \"carpet\"}], \"choropleth\": [{\"colorbar\": {\"outlinewidth\": 0, \"ticks\": \"\"}, \"type\": \"choropleth\"}], \"contour\": [{\"colorbar\": {\"outlinewidth\": 0, \"ticks\": \"\"}, \"colorscale\": [[0.0, \"#0d0887\"], [0.1111111111111111, \"#46039f\"], [0.2222222222222222, \"#7201a8\"], [0.3333333333333333, \"#9c179e\"], [0.4444444444444444, \"#bd3786\"], [0.5555555555555556, \"#d8576b\"], [0.6666666666666666, \"#ed7953\"], [0.7777777777777778, \"#fb9f3a\"], [0.8888888888888888, \"#fdca26\"], [1.0, \"#f0f921\"]], \"type\": \"contour\"}], \"contourcarpet\": [{\"colorbar\": {\"outlinewidth\": 0, \"ticks\": \"\"}, \"type\": \"contourcarpet\"}], \"heatmap\": [{\"colorbar\": {\"outlinewidth\": 0, \"ticks\": \"\"}, \"colorscale\": [[0.0, \"#0d0887\"], [0.1111111111111111, \"#46039f\"], [0.2222222222222222, \"#7201a8\"], [0.3333333333333333, \"#9c179e\"], [0.4444444444444444, \"#bd3786\"], [0.5555555555555556, \"#d8576b\"], [0.6666666666666666, \"#ed7953\"], [0.7777777777777778, \"#fb9f3a\"], [0.8888888888888888, \"#fdca26\"], [1.0, \"#f0f921\"]], \"type\": \"heatmap\"}], \"heatmapgl\": [{\"colorbar\": {\"outlinewidth\": 0, \"ticks\": \"\"}, \"colorscale\": [[0.0, \"#0d0887\"], [0.1111111111111111, \"#46039f\"], [0.2222222222222222, \"#7201a8\"], [0.3333333333333333, \"#9c179e\"], [0.4444444444444444, \"#bd3786\"], [0.5555555555555556, \"#d8576b\"], [0.6666666666666666, \"#ed7953\"], [0.7777777777777778, \"#fb9f3a\"], [0.8888888888888888, \"#fdca26\"], [1.0, \"#f0f921\"]], \"type\": \"heatmapgl\"}], \"histogram\": [{\"marker\": {\"colorbar\": {\"outlinewidth\": 0, \"ticks\": \"\"}}, \"type\": \"histogram\"}], \"histogram2d\": [{\"colorbar\": {\"outlinewidth\": 0, \"ticks\": \"\"}, \"colorscale\": [[0.0, \"#0d0887\"], [0.1111111111111111, \"#46039f\"], [0.2222222222222222, \"#7201a8\"], [0.3333333333333333, \"#9c179e\"], [0.4444444444444444, \"#bd3786\"], [0.5555555555555556, \"#d8576b\"], [0.6666666666666666, \"#ed7953\"], [0.7777777777777778, \"#fb9f3a\"], [0.8888888888888888, \"#fdca26\"], [1.0, \"#f0f921\"]], \"type\": \"histogram2d\"}], \"histogram2dcontour\": [{\"colorbar\": {\"outlinewidth\": 0, \"ticks\": \"\"}, \"colorscale\": [[0.0, \"#0d0887\"], [0.1111111111111111, \"#46039f\"], [0.2222222222222222, \"#7201a8\"], [0.3333333333333333, \"#9c179e\"], [0.4444444444444444, \"#bd3786\"], [0.5555555555555556, \"#d8576b\"], [0.6666666666666666, \"#ed7953\"], [0.7777777777777778, \"#fb9f3a\"], [0.8888888888888888, \"#fdca26\"], [1.0, \"#f0f921\"]], \"type\": \"histogram2dcontour\"}], \"mesh3d\": [{\"colorbar\": {\"outlinewidth\": 0, \"ticks\": \"\"}, \"type\": \"mesh3d\"}], \"parcoords\": [{\"line\": {\"colorbar\": {\"outlinewidth\": 0, \"ticks\": \"\"}}, \"type\": \"parcoords\"}], \"pie\": [{\"automargin\": true, \"type\": \"pie\"}], \"scatter\": [{\"marker\": {\"colorbar\": {\"outlinewidth\": 0, \"ticks\": \"\"}}, \"type\": \"scatter\"}], \"scatter3d\": [{\"line\": {\"colorbar\": {\"outlinewidth\": 0, \"ticks\": \"\"}}, \"marker\": {\"colorbar\": {\"outlinewidth\": 0, \"ticks\": \"\"}}, \"type\": \"scatter3d\"}], \"scattercarpet\": [{\"marker\": {\"colorbar\": {\"outlinewidth\": 0, \"ticks\": \"\"}}, \"type\": \"scattercarpet\"}], \"scattergeo\": [{\"marker\": {\"colorbar\": {\"outlinewidth\": 0, \"ticks\": \"\"}}, \"type\": \"scattergeo\"}], \"scattergl\": [{\"marker\": {\"colorbar\": {\"outlinewidth\": 0, \"ticks\": \"\"}}, \"type\": \"scattergl\"}], \"scattermapbox\": [{\"marker\": {\"colorbar\": {\"outlinewidth\": 0, \"ticks\": \"\"}}, \"type\": \"scattermapbox\"}], \"scatterpolar\": [{\"marker\": {\"colorbar\": {\"outlinewidth\": 0, \"ticks\": \"\"}}, \"type\": \"scatterpolar\"}], \"scatterpolargl\": [{\"marker\": {\"colorbar\": {\"outlinewidth\": 0, \"ticks\": \"\"}}, \"type\": \"scatterpolargl\"}], \"scatterternary\": [{\"marker\": {\"colorbar\": {\"outlinewidth\": 0, \"ticks\": \"\"}}, \"type\": \"scatterternary\"}], \"surface\": [{\"colorbar\": {\"outlinewidth\": 0, \"ticks\": \"\"}, \"colorscale\": [[0.0, \"#0d0887\"], [0.1111111111111111, \"#46039f\"], [0.2222222222222222, \"#7201a8\"], [0.3333333333333333, \"#9c179e\"], [0.4444444444444444, \"#bd3786\"], [0.5555555555555556, \"#d8576b\"], [0.6666666666666666, \"#ed7953\"], [0.7777777777777778, \"#fb9f3a\"], [0.8888888888888888, \"#fdca26\"], [1.0, \"#f0f921\"]], \"type\": \"surface\"}], \"table\": [{\"cells\": {\"fill\": {\"color\": \"#EBF0F8\"}, \"line\": {\"color\": \"white\"}}, \"header\": {\"fill\": {\"color\": \"#C8D4E3\"}, \"line\": {\"color\": \"white\"}}, \"type\": \"table\"}]}, \"layout\": {\"annotationdefaults\": {\"arrowcolor\": \"#2a3f5f\", \"arrowhead\": 0, \"arrowwidth\": 1}, \"coloraxis\": {\"colorbar\": {\"outlinewidth\": 0, \"ticks\": \"\"}}, \"colorscale\": {\"diverging\": [[0, \"#8e0152\"], [0.1, \"#c51b7d\"], [0.2, \"#de77ae\"], [0.3, \"#f1b6da\"], [0.4, \"#fde0ef\"], [0.5, \"#f7f7f7\"], [0.6, \"#e6f5d0\"], [0.7, \"#b8e186\"], [0.8, \"#7fbc41\"], [0.9, \"#4d9221\"], [1, \"#276419\"]], \"sequential\": [[0.0, \"#0d0887\"], [0.1111111111111111, \"#46039f\"], [0.2222222222222222, \"#7201a8\"], [0.3333333333333333, \"#9c179e\"], [0.4444444444444444, \"#bd3786\"], [0.5555555555555556, \"#d8576b\"], [0.6666666666666666, \"#ed7953\"], [0.7777777777777778, \"#fb9f3a\"], [0.8888888888888888, \"#fdca26\"], [1.0, \"#f0f921\"]], \"sequentialminus\": [[0.0, \"#0d0887\"], [0.1111111111111111, \"#46039f\"], [0.2222222222222222, \"#7201a8\"], [0.3333333333333333, \"#9c179e\"], [0.4444444444444444, \"#bd3786\"], [0.5555555555555556, \"#d8576b\"], [0.6666666666666666, \"#ed7953\"], [0.7777777777777778, \"#fb9f3a\"], [0.8888888888888888, \"#fdca26\"], [1.0, \"#f0f921\"]]}, \"colorway\": [\"#636efa\", \"#EF553B\", \"#00cc96\", \"#ab63fa\", \"#FFA15A\", \"#19d3f3\", \"#FF6692\", \"#B6E880\", \"#FF97FF\", \"#FECB52\"], \"font\": {\"color\": \"#2a3f5f\"}, \"geo\": {\"bgcolor\": \"white\", \"lakecolor\": \"white\", \"landcolor\": \"#E5ECF6\", \"showlakes\": true, \"showland\": true, \"subunitcolor\": \"white\"}, \"hoverlabel\": {\"align\": \"left\"}, \"hovermode\": \"closest\", \"mapbox\": {\"style\": \"light\"}, \"paper_bgcolor\": \"white\", \"plot_bgcolor\": \"#E5ECF6\", \"polar\": {\"angularaxis\": {\"gridcolor\": \"white\", \"linecolor\": \"white\", \"ticks\": \"\"}, \"bgcolor\": \"#E5ECF6\", \"radialaxis\": {\"gridcolor\": \"white\", \"linecolor\": \"white\", \"ticks\": \"\"}}, \"scene\": {\"xaxis\": {\"backgroundcolor\": \"#E5ECF6\", \"gridcolor\": \"white\", \"gridwidth\": 2, \"linecolor\": \"white\", \"showbackground\": true, \"ticks\": \"\", \"zerolinecolor\": \"white\"}, \"yaxis\": {\"backgroundcolor\": \"#E5ECF6\", \"gridcolor\": \"white\", \"gridwidth\": 2, \"linecolor\": \"white\", \"showbackground\": true, \"ticks\": \"\", \"zerolinecolor\": \"white\"}, \"zaxis\": {\"backgroundcolor\": \"#E5ECF6\", \"gridcolor\": \"white\", \"gridwidth\": 2, \"linecolor\": \"white\", \"showbackground\": true, \"ticks\": \"\", \"zerolinecolor\": \"white\"}}, \"shapedefaults\": {\"line\": {\"color\": \"#2a3f5f\"}}, \"ternary\": {\"aaxis\": {\"gridcolor\": \"white\", \"linecolor\": \"white\", \"ticks\": \"\"}, \"baxis\": {\"gridcolor\": \"white\", \"linecolor\": \"white\", \"ticks\": \"\"}, \"bgcolor\": \"#E5ECF6\", \"caxis\": {\"gridcolor\": \"white\", \"linecolor\": \"white\", \"ticks\": \"\"}}, \"title\": {\"x\": 0.05}, \"xaxis\": {\"automargin\": true, \"gridcolor\": \"white\", \"linecolor\": \"white\", \"ticks\": \"\", \"title\": {\"standoff\": 15}, \"zerolinecolor\": \"white\", \"zerolinewidth\": 2}, \"yaxis\": {\"automargin\": true, \"gridcolor\": \"white\", \"linecolor\": \"white\", \"ticks\": \"\", \"title\": {\"standoff\": 15}, \"zerolinecolor\": \"white\", \"zerolinewidth\": 2}}}, \"title\": {\"text\": \"INTC Expiration:2020-08-07, Time:2020-07-06 12:50\"}, \"xaxis\": {\"anchor\": \"y\", \"domain\": [0.0, 1.0], \"title\": {\"text\": \"Date\"}}, \"yaxis\": {\"anchor\": \"x\", \"domain\": [0.0, 1.0], \"title\": {\"text\": \"Option price\"}}},\n",
       "                        {\"responsive\": true}\n",
       "                    ).then(function(){\n",
       "                            \n",
       "var gd = document.getElementById('ae50b8f3-855f-4a07-b351-d02be3df395c');\n",
       "var x = new MutationObserver(function (mutations, observer) {{\n",
       "        var display = window.getComputedStyle(gd).display;\n",
       "        if (!display || display === 'none') {{\n",
       "            console.log([gd, 'removed!']);\n",
       "            Plotly.purge(gd);\n",
       "            observer.disconnect();\n",
       "        }}\n",
       "}});\n",
       "\n",
       "// Listen for the removal of the full notebook cells\n",
       "var notebookContainer = gd.closest('#notebook-container');\n",
       "if (notebookContainer) {{\n",
       "    x.observe(notebookContainer, {childList: true});\n",
       "}}\n",
       "\n",
       "// Listen for the clearing of the current output cell\n",
       "var outputEl = gd.closest('.output');\n",
       "if (outputEl) {{\n",
       "    x.observe(outputEl, {childList: true});\n",
       "}}\n",
       "\n",
       "                        })\n",
       "                };\n",
       "                });\n",
       "            </script>\n",
       "        </div>"
      ]
     },
     "metadata": {},
     "output_type": "display_data"
    }
   ],
   "source": [
    "optionType = 'call'\n",
    "span = 'week'\n",
    "figForExpriation(strike_price,volume,optionType,span)\n"
   ]
  },
  {
   "cell_type": "code",
   "execution_count": 60,
   "metadata": {},
   "outputs": [
    {
     "name": "stdout",
     "output_type": "stream",
     "text": [
      "*....\n",
      "Strike\tVolume\tHigh\tLow\tChange\tPercent\n",
      "$64.00\t29\t2.7\t0.01\t2.69\t26,900%\n"
     ]
    },
    {
     "data": {
      "text/html": [
       "<div>\n",
       "        \n",
       "        \n",
       "            <div id=\"710bf1c1-4561-421d-851d-f0e6abaf0ce8\" class=\"plotly-graph-div\" style=\"height:525px; width:100%;\"></div>\n",
       "            <script type=\"text/javascript\">\n",
       "                require([\"plotly\"], function(Plotly) {\n",
       "                    window.PLOTLYENV=window.PLOTLYENV || {};\n",
       "                    \n",
       "                if (document.getElementById(\"710bf1c1-4561-421d-851d-f0e6abaf0ce8\")) {\n",
       "                    Plotly.newPlot(\n",
       "                        '710bf1c1-4561-421d-851d-f0e6abaf0ce8',\n",
       "                        [{\"hoverlabel\": {\"namelength\": 0}, \"hovertemplate\": \"<b>%{hovertext}</b><br><br>strike_price=64.0<br>begins_at=%{x}<br>close_price=%{y}\", \"hovertext\": [64.0, 64.0, 64.0, 64.0, 64.0, 64.0, 64.0, 64.0, 64.0, 64.0, 64.0, 64.0, 64.0, 64.0, 64.0, 64.0, 64.0, 64.0, 64.0, 64.0, 64.0, 64.0, 64.0, 64.0, 64.0, 64.0, 64.0, 64.0, 64.0, 64.0, 64.0, 64.0, 64.0, 64.0, 64.0, 64.0, 64.0, 64.0, 64.0, 64.0, 64.0, 64.0, 64.0, 64.0, 64.0, 64.0, 64.0, 64.0, 64.0, 64.0, 64.0, 64.0, 64.0, 64.0, 64.0, 64.0, 64.0, 64.0, 64.0, 64.0, 64.0, 64.0, 64.0, 64.0, 64.0, 64.0, 64.0, 64.0, 64.0, 64.0, 64.0, 64.0, 64.0, 64.0, 64.0, 64.0, 64.0, 64.0, 64.0, 64.0, 64.0, 64.0, 64.0, 64.0, 64.0, 64.0, 64.0, 64.0, 64.0, 64.0, 64.0, 64.0, 64.0, 64.0, 64.0, 64.0, 64.0, 64.0, 64.0, 64.0, 64.0, 64.0, 64.0, 64.0, 64.0, 64.0, 64.0, 64.0, 64.0, 64.0, 64.0, 64.0, 64.0, 64.0, 64.0, 64.0, 64.0, 64.0, 64.0, 64.0, 64.0, 64.0, 64.0, 64.0, 64.0, 64.0, 64.0, 64.0, 64.0, 64.0, 64.0, 64.0, 64.0, 64.0, 64.0, 64.0, 64.0, 64.0, 64.0, 64.0, 64.0, 64.0, 64.0, 64.0, 64.0, 64.0, 64.0, 64.0, 64.0, 64.0, 64.0, 64.0, 64.0, 64.0, 64.0, 64.0, 64.0, 64.0, 64.0, 64.0, 64.0, 64.0, 64.0, 64.0, 64.0, 64.0, 64.0, 64.0, 64.0, 64.0, 64.0, 64.0, 64.0, 64.0, 64.0, 64.0, 64.0, 64.0, 64.0, 64.0, 64.0, 64.0, 64.0, 64.0, 64.0, 64.0, 64.0, 64.0, 64.0, 64.0, 64.0, 64.0, 64.0, 64.0, 64.0, 64.0, 64.0, 64.0, 64.0, 64.0, 64.0, 64.0, 64.0, 64.0, 64.0, 64.0, 64.0, 64.0, 64.0, 64.0, 64.0, 64.0, 64.0, 64.0, 64.0, 64.0, 64.0, 64.0, 64.0, 64.0, 64.0, 64.0, 64.0, 64.0, 64.0, 64.0, 64.0, 64.0, 64.0, 64.0, 64.0, 64.0, 64.0, 64.0, 64.0, 64.0, 64.0, 64.0, 64.0, 64.0, 64.0, 64.0, 64.0, 64.0, 64.0, 64.0, 64.0, 64.0, 64.0, 64.0, 64.0], \"legendgroup\": \"64.0\", \"line\": {\"color\": \"#636efa\", \"dash\": \"solid\", \"shape\": \"spline\"}, \"mode\": \"lines\", \"name\": \"64.0\", \"showlegend\": true, \"type\": \"scatter\", \"x\": [\"2019-07-08T00:00:00Z\", \"2019-07-09T00:00:00Z\", \"2019-07-10T00:00:00Z\", \"2019-07-11T00:00:00Z\", \"2019-07-12T00:00:00Z\", \"2019-07-15T00:00:00Z\", \"2019-07-16T00:00:00Z\", \"2019-07-17T00:00:00Z\", \"2019-07-18T00:00:00Z\", \"2019-07-19T00:00:00Z\", \"2019-07-22T00:00:00Z\", \"2019-07-23T00:00:00Z\", \"2019-07-24T00:00:00Z\", \"2019-07-25T00:00:00Z\", \"2019-07-26T00:00:00Z\", \"2019-07-29T00:00:00Z\", \"2019-07-30T00:00:00Z\", \"2019-07-31T00:00:00Z\", \"2019-08-01T00:00:00Z\", \"2019-08-02T00:00:00Z\", \"2019-08-05T00:00:00Z\", \"2019-08-06T00:00:00Z\", \"2019-08-07T00:00:00Z\", \"2019-08-08T00:00:00Z\", \"2019-08-09T00:00:00Z\", \"2019-08-12T00:00:00Z\", \"2019-08-13T00:00:00Z\", \"2019-08-14T00:00:00Z\", \"2019-08-15T00:00:00Z\", \"2019-08-16T00:00:00Z\", \"2019-08-19T00:00:00Z\", \"2019-08-20T00:00:00Z\", \"2019-08-21T00:00:00Z\", \"2019-08-22T00:00:00Z\", \"2019-08-23T00:00:00Z\", \"2019-08-26T00:00:00Z\", \"2019-08-27T00:00:00Z\", \"2019-08-28T00:00:00Z\", \"2019-08-29T00:00:00Z\", \"2019-08-30T00:00:00Z\", \"2019-09-03T00:00:00Z\", \"2019-09-04T00:00:00Z\", \"2019-09-05T00:00:00Z\", \"2019-09-06T00:00:00Z\", \"2019-09-09T00:00:00Z\", \"2019-09-10T00:00:00Z\", \"2019-09-11T00:00:00Z\", \"2019-09-12T00:00:00Z\", \"2019-09-13T00:00:00Z\", \"2019-09-16T00:00:00Z\", \"2019-09-17T00:00:00Z\", \"2019-09-18T00:00:00Z\", \"2019-09-19T00:00:00Z\", \"2019-09-20T00:00:00Z\", \"2019-09-23T00:00:00Z\", \"2019-09-24T00:00:00Z\", \"2019-09-25T00:00:00Z\", \"2019-09-26T00:00:00Z\", \"2019-09-27T00:00:00Z\", \"2019-09-30T00:00:00Z\", \"2019-10-01T00:00:00Z\", \"2019-10-02T00:00:00Z\", \"2019-10-03T00:00:00Z\", \"2019-10-04T00:00:00Z\", \"2019-10-07T00:00:00Z\", \"2019-10-08T00:00:00Z\", \"2019-10-09T00:00:00Z\", \"2019-10-10T00:00:00Z\", \"2019-10-11T00:00:00Z\", \"2019-10-14T00:00:00Z\", \"2019-10-15T00:00:00Z\", \"2019-10-16T00:00:00Z\", \"2019-10-17T00:00:00Z\", \"2019-10-18T00:00:00Z\", \"2019-10-21T00:00:00Z\", \"2019-10-22T00:00:00Z\", \"2019-10-23T00:00:00Z\", \"2019-10-24T00:00:00Z\", \"2019-10-25T00:00:00Z\", \"2019-10-28T00:00:00Z\", \"2019-10-29T00:00:00Z\", \"2019-10-30T00:00:00Z\", \"2019-10-31T00:00:00Z\", \"2019-11-01T00:00:00Z\", \"2019-11-04T00:00:00Z\", \"2019-11-05T00:00:00Z\", \"2019-11-06T00:00:00Z\", \"2019-11-07T00:00:00Z\", \"2019-11-08T00:00:00Z\", \"2019-11-11T00:00:00Z\", \"2019-11-12T00:00:00Z\", \"2019-11-13T00:00:00Z\", \"2019-11-14T00:00:00Z\", \"2019-11-15T00:00:00Z\", \"2019-11-18T00:00:00Z\", \"2019-11-19T00:00:00Z\", \"2019-11-20T00:00:00Z\", \"2019-11-21T00:00:00Z\", \"2019-11-22T00:00:00Z\", \"2019-11-25T00:00:00Z\", \"2019-11-26T00:00:00Z\", \"2019-11-27T00:00:00Z\", \"2019-11-29T00:00:00Z\", \"2019-12-02T00:00:00Z\", \"2019-12-03T00:00:00Z\", \"2019-12-04T00:00:00Z\", \"2019-12-05T00:00:00Z\", \"2019-12-06T00:00:00Z\", \"2019-12-09T00:00:00Z\", \"2019-12-10T00:00:00Z\", \"2019-12-11T00:00:00Z\", \"2019-12-12T00:00:00Z\", \"2019-12-13T00:00:00Z\", \"2019-12-16T00:00:00Z\", \"2019-12-17T00:00:00Z\", \"2019-12-18T00:00:00Z\", \"2019-12-19T00:00:00Z\", \"2019-12-20T00:00:00Z\", \"2019-12-23T00:00:00Z\", \"2019-12-24T00:00:00Z\", \"2019-12-26T00:00:00Z\", \"2019-12-27T00:00:00Z\", \"2019-12-30T00:00:00Z\", \"2019-12-31T00:00:00Z\", \"2020-01-02T00:00:00Z\", \"2020-01-03T00:00:00Z\", \"2020-01-06T00:00:00Z\", \"2020-01-07T00:00:00Z\", \"2020-01-08T00:00:00Z\", \"2020-01-09T00:00:00Z\", \"2020-01-10T00:00:00Z\", \"2020-01-13T00:00:00Z\", \"2020-01-14T00:00:00Z\", \"2020-01-15T00:00:00Z\", \"2020-01-16T00:00:00Z\", \"2020-01-17T00:00:00Z\", \"2020-01-21T00:00:00Z\", \"2020-01-22T00:00:00Z\", \"2020-01-23T00:00:00Z\", \"2020-01-24T00:00:00Z\", \"2020-01-27T00:00:00Z\", \"2020-01-28T00:00:00Z\", \"2020-01-29T00:00:00Z\", \"2020-01-30T00:00:00Z\", \"2020-01-31T00:00:00Z\", \"2020-02-03T00:00:00Z\", \"2020-02-04T00:00:00Z\", \"2020-02-05T00:00:00Z\", \"2020-02-06T00:00:00Z\", \"2020-02-07T00:00:00Z\", \"2020-02-10T00:00:00Z\", \"2020-02-11T00:00:00Z\", \"2020-02-12T00:00:00Z\", \"2020-02-13T00:00:00Z\", \"2020-02-14T00:00:00Z\", \"2020-02-18T00:00:00Z\", \"2020-02-19T00:00:00Z\", \"2020-02-20T00:00:00Z\", \"2020-02-21T00:00:00Z\", \"2020-02-24T00:00:00Z\", \"2020-02-25T00:00:00Z\", \"2020-02-26T00:00:00Z\", \"2020-02-27T00:00:00Z\", \"2020-02-28T00:00:00Z\", \"2020-03-02T00:00:00Z\", \"2020-03-03T00:00:00Z\", \"2020-03-04T00:00:00Z\", \"2020-03-05T00:00:00Z\", \"2020-03-06T00:00:00Z\", \"2020-03-09T00:00:00Z\", \"2020-03-10T00:00:00Z\", \"2020-03-11T00:00:00Z\", \"2020-03-12T00:00:00Z\", \"2020-03-13T00:00:00Z\", \"2020-03-16T00:00:00Z\", \"2020-03-17T00:00:00Z\", \"2020-03-18T00:00:00Z\", \"2020-03-19T00:00:00Z\", \"2020-03-20T00:00:00Z\", \"2020-03-23T00:00:00Z\", \"2020-03-24T00:00:00Z\", \"2020-03-25T00:00:00Z\", \"2020-03-26T00:00:00Z\", \"2020-03-27T00:00:00Z\", \"2020-03-30T00:00:00Z\", \"2020-03-31T00:00:00Z\", \"2020-04-01T00:00:00Z\", \"2020-04-02T00:00:00Z\", \"2020-04-03T00:00:00Z\", \"2020-04-06T00:00:00Z\", \"2020-04-07T00:00:00Z\", \"2020-04-08T00:00:00Z\", \"2020-04-09T00:00:00Z\", \"2020-04-13T00:00:00Z\", \"2020-04-14T00:00:00Z\", \"2020-04-15T00:00:00Z\", \"2020-04-16T00:00:00Z\", \"2020-04-17T00:00:00Z\", \"2020-04-20T00:00:00Z\", \"2020-04-21T00:00:00Z\", \"2020-04-22T00:00:00Z\", \"2020-04-23T00:00:00Z\", \"2020-04-24T00:00:00Z\", \"2020-04-27T00:00:00Z\", \"2020-04-28T00:00:00Z\", \"2020-04-29T00:00:00Z\", \"2020-04-30T00:00:00Z\", \"2020-05-01T00:00:00Z\", \"2020-05-04T00:00:00Z\", \"2020-05-05T00:00:00Z\", \"2020-05-06T00:00:00Z\", \"2020-05-07T00:00:00Z\", \"2020-05-08T00:00:00Z\", \"2020-05-11T00:00:00Z\", \"2020-05-12T00:00:00Z\", \"2020-05-13T00:00:00Z\", \"2020-05-14T00:00:00Z\", \"2020-05-15T00:00:00Z\", \"2020-05-18T00:00:00Z\", \"2020-05-19T00:00:00Z\", \"2020-05-20T00:00:00Z\", \"2020-05-21T00:00:00Z\", \"2020-05-22T00:00:00Z\", \"2020-05-26T00:00:00Z\", \"2020-05-27T00:00:00Z\", \"2020-05-28T00:00:00Z\", \"2020-05-29T00:00:00Z\", \"2020-06-01T00:00:00Z\", \"2020-06-02T00:00:00Z\", \"2020-06-03T00:00:00Z\", \"2020-06-04T00:00:00Z\", \"2020-06-05T00:00:00Z\", \"2020-06-08T00:00:00Z\", \"2020-06-09T00:00:00Z\", \"2020-06-10T00:00:00Z\", \"2020-06-11T00:00:00Z\", \"2020-06-12T00:00:00Z\", \"2020-06-15T00:00:00Z\", \"2020-06-16T00:00:00Z\", \"2020-06-17T00:00:00Z\", \"2020-06-18T00:00:00Z\", \"2020-06-19T00:00:00Z\", \"2020-06-22T00:00:00Z\", \"2020-06-23T00:00:00Z\", \"2020-06-24T00:00:00Z\", \"2020-06-25T00:00:00Z\", \"2020-06-26T00:00:00Z\", \"2020-06-29T00:00:00Z\", \"2020-06-30T00:00:00Z\", \"2020-07-01T00:00:00Z\", \"2020-07-02T00:00:00Z\"], \"xaxis\": \"x\", \"y\": [\"0.770000\", \"0.770000\", \"0.770000\", \"0.770000\", \"0.770000\", \"0.770000\", \"0.770000\", \"0.770000\", \"0.770000\", \"0.770000\", \"0.770000\", \"0.770000\", \"0.770000\", \"0.770000\", \"0.770000\", \"0.770000\", \"0.770000\", \"0.770000\", \"0.770000\", \"0.770000\", \"0.770000\", \"0.770000\", \"0.770000\", \"0.770000\", \"0.770000\", \"0.770000\", \"0.770000\", \"0.770000\", \"0.770000\", \"0.770000\", \"0.770000\", \"0.770000\", \"0.770000\", \"0.770000\", \"0.770000\", \"0.770000\", \"0.770000\", \"0.770000\", \"0.770000\", \"0.770000\", \"0.770000\", \"0.770000\", \"0.770000\", \"0.770000\", \"0.770000\", \"0.770000\", \"0.770000\", \"0.770000\", \"0.770000\", \"0.770000\", \"0.770000\", \"0.770000\", \"0.770000\", \"0.770000\", \"0.770000\", \"0.770000\", \"0.770000\", \"0.770000\", \"0.770000\", \"0.770000\", \"0.770000\", \"0.770000\", \"0.770000\", \"0.770000\", \"0.770000\", \"0.770000\", \"0.770000\", \"0.770000\", \"0.770000\", \"0.770000\", \"0.770000\", \"0.770000\", \"0.770000\", \"0.770000\", \"0.770000\", \"0.770000\", \"0.770000\", \"0.770000\", \"0.770000\", \"0.770000\", \"0.770000\", \"0.770000\", \"0.770000\", \"0.770000\", \"0.770000\", \"0.770000\", \"0.770000\", \"0.770000\", \"0.770000\", \"0.770000\", \"0.770000\", \"0.770000\", \"0.770000\", \"0.770000\", \"0.770000\", \"0.770000\", \"0.770000\", \"0.770000\", \"0.770000\", \"0.770000\", \"0.770000\", \"0.770000\", \"0.770000\", \"0.770000\", \"0.770000\", \"0.770000\", \"0.770000\", \"0.770000\", \"0.770000\", \"0.770000\", \"0.770000\", \"0.770000\", \"0.770000\", \"0.770000\", \"0.770000\", \"0.770000\", \"0.770000\", \"0.770000\", \"0.770000\", \"0.770000\", \"0.770000\", \"0.770000\", \"0.770000\", \"0.770000\", \"0.770000\", \"0.770000\", \"0.770000\", \"0.770000\", \"0.770000\", \"0.770000\", \"0.770000\", \"0.770000\", \"0.770000\", \"0.770000\", \"0.770000\", \"0.770000\", \"0.770000\", \"0.770000\", \"0.770000\", \"0.770000\", \"0.770000\", \"0.770000\", \"0.770000\", \"0.770000\", \"0.770000\", \"0.770000\", \"0.770000\", \"0.770000\", \"0.770000\", \"0.770000\", \"0.770000\", \"0.770000\", \"0.770000\", \"0.770000\", \"0.770000\", \"0.770000\", \"0.770000\", \"0.770000\", \"0.770000\", \"0.770000\", \"0.770000\", \"0.770000\", \"0.770000\", \"0.770000\", \"0.770000\", \"0.770000\", \"0.770000\", \"0.770000\", \"0.770000\", \"0.770000\", \"0.770000\", \"0.770000\", \"0.770000\", \"0.770000\", \"0.770000\", \"0.770000\", \"0.770000\", \"0.770000\", \"0.770000\", \"0.770000\", \"0.770000\", \"0.770000\", \"0.770000\", \"0.770000\", \"0.770000\", \"0.770000\", \"0.770000\", \"0.770000\", \"0.770000\", \"0.770000\", \"0.770000\", \"0.770000\", \"0.770000\", \"0.770000\", \"0.770000\", \"0.770000\", \"0.770000\", \"0.770000\", \"0.770000\", \"0.770000\", \"0.770000\", \"0.770000\", \"0.770000\", \"0.770000\", \"0.770000\", \"0.770000\", \"0.770000\", \"0.770000\", \"0.770000\", \"0.770000\", \"0.770000\", \"0.770000\", \"0.770000\", \"0.770000\", \"0.770000\", \"0.770000\", \"0.770000\", \"0.770000\", \"0.770000\", \"0.770000\", \"0.770000\", \"0.770000\", \"0.770000\", \"0.770000\", \"0.770000\", \"0.770000\", \"0.770000\", \"0.770000\", \"0.770000\", \"0.770000\", \"0.770000\", \"0.770000\", \"0.770000\", \"0.770000\", \"0.770000\", \"0.770000\", \"0.770000\", \"0.770000\", \"0.770000\", \"0.770000\", \"0.770000\", \"0.770000\", \"0.770000\", \"0.770000\", \"0.010000\", \"1.090000\", \"1.650000\", \"1.620000\", \"1.040000\", \"0.820000\", \"0.780000\"], \"yaxis\": \"y\"}],\n",
       "                        {\"font\": {\"color\": \"#7f7f7f\", \"family\": \"Courier New, monospace\", \"size\": 18}, \"legend\": {\"title\": {\"text\": \"strike_price\"}, \"tracegroupgap\": 0}, \"margin\": {\"t\": 60}, \"template\": {\"data\": {\"bar\": [{\"error_x\": {\"color\": \"#2a3f5f\"}, \"error_y\": {\"color\": \"#2a3f5f\"}, \"marker\": {\"line\": {\"color\": \"#E5ECF6\", \"width\": 0.5}}, \"type\": \"bar\"}], \"barpolar\": [{\"marker\": {\"line\": {\"color\": \"#E5ECF6\", \"width\": 0.5}}, \"type\": \"barpolar\"}], \"carpet\": [{\"aaxis\": {\"endlinecolor\": \"#2a3f5f\", \"gridcolor\": \"white\", \"linecolor\": \"white\", \"minorgridcolor\": \"white\", \"startlinecolor\": \"#2a3f5f\"}, \"baxis\": {\"endlinecolor\": \"#2a3f5f\", \"gridcolor\": \"white\", \"linecolor\": \"white\", \"minorgridcolor\": \"white\", \"startlinecolor\": \"#2a3f5f\"}, \"type\": \"carpet\"}], \"choropleth\": [{\"colorbar\": {\"outlinewidth\": 0, \"ticks\": \"\"}, \"type\": \"choropleth\"}], \"contour\": [{\"colorbar\": {\"outlinewidth\": 0, \"ticks\": \"\"}, \"colorscale\": [[0.0, \"#0d0887\"], [0.1111111111111111, \"#46039f\"], [0.2222222222222222, \"#7201a8\"], [0.3333333333333333, \"#9c179e\"], [0.4444444444444444, \"#bd3786\"], [0.5555555555555556, \"#d8576b\"], [0.6666666666666666, \"#ed7953\"], [0.7777777777777778, \"#fb9f3a\"], [0.8888888888888888, \"#fdca26\"], [1.0, \"#f0f921\"]], \"type\": \"contour\"}], \"contourcarpet\": [{\"colorbar\": {\"outlinewidth\": 0, \"ticks\": \"\"}, \"type\": \"contourcarpet\"}], \"heatmap\": [{\"colorbar\": {\"outlinewidth\": 0, \"ticks\": \"\"}, \"colorscale\": [[0.0, \"#0d0887\"], [0.1111111111111111, \"#46039f\"], [0.2222222222222222, \"#7201a8\"], [0.3333333333333333, \"#9c179e\"], [0.4444444444444444, \"#bd3786\"], [0.5555555555555556, \"#d8576b\"], [0.6666666666666666, \"#ed7953\"], [0.7777777777777778, \"#fb9f3a\"], [0.8888888888888888, \"#fdca26\"], [1.0, \"#f0f921\"]], \"type\": \"heatmap\"}], \"heatmapgl\": [{\"colorbar\": {\"outlinewidth\": 0, \"ticks\": \"\"}, \"colorscale\": [[0.0, \"#0d0887\"], [0.1111111111111111, \"#46039f\"], [0.2222222222222222, \"#7201a8\"], [0.3333333333333333, \"#9c179e\"], [0.4444444444444444, \"#bd3786\"], [0.5555555555555556, \"#d8576b\"], [0.6666666666666666, \"#ed7953\"], [0.7777777777777778, \"#fb9f3a\"], [0.8888888888888888, \"#fdca26\"], [1.0, \"#f0f921\"]], \"type\": \"heatmapgl\"}], \"histogram\": [{\"marker\": {\"colorbar\": {\"outlinewidth\": 0, \"ticks\": \"\"}}, \"type\": \"histogram\"}], \"histogram2d\": [{\"colorbar\": {\"outlinewidth\": 0, \"ticks\": \"\"}, \"colorscale\": [[0.0, \"#0d0887\"], [0.1111111111111111, \"#46039f\"], [0.2222222222222222, \"#7201a8\"], [0.3333333333333333, \"#9c179e\"], [0.4444444444444444, \"#bd3786\"], [0.5555555555555556, \"#d8576b\"], [0.6666666666666666, \"#ed7953\"], [0.7777777777777778, \"#fb9f3a\"], [0.8888888888888888, \"#fdca26\"], [1.0, \"#f0f921\"]], \"type\": \"histogram2d\"}], \"histogram2dcontour\": [{\"colorbar\": {\"outlinewidth\": 0, \"ticks\": \"\"}, \"colorscale\": [[0.0, \"#0d0887\"], [0.1111111111111111, \"#46039f\"], [0.2222222222222222, \"#7201a8\"], [0.3333333333333333, \"#9c179e\"], [0.4444444444444444, \"#bd3786\"], [0.5555555555555556, \"#d8576b\"], [0.6666666666666666, \"#ed7953\"], [0.7777777777777778, \"#fb9f3a\"], [0.8888888888888888, \"#fdca26\"], [1.0, \"#f0f921\"]], \"type\": \"histogram2dcontour\"}], \"mesh3d\": [{\"colorbar\": {\"outlinewidth\": 0, \"ticks\": \"\"}, \"type\": \"mesh3d\"}], \"parcoords\": [{\"line\": {\"colorbar\": {\"outlinewidth\": 0, \"ticks\": \"\"}}, \"type\": \"parcoords\"}], \"pie\": [{\"automargin\": true, \"type\": \"pie\"}], \"scatter\": [{\"marker\": {\"colorbar\": {\"outlinewidth\": 0, \"ticks\": \"\"}}, \"type\": \"scatter\"}], \"scatter3d\": [{\"line\": {\"colorbar\": {\"outlinewidth\": 0, \"ticks\": \"\"}}, \"marker\": {\"colorbar\": {\"outlinewidth\": 0, \"ticks\": \"\"}}, \"type\": \"scatter3d\"}], \"scattercarpet\": [{\"marker\": {\"colorbar\": {\"outlinewidth\": 0, \"ticks\": \"\"}}, \"type\": \"scattercarpet\"}], \"scattergeo\": [{\"marker\": {\"colorbar\": {\"outlinewidth\": 0, \"ticks\": \"\"}}, \"type\": \"scattergeo\"}], \"scattergl\": [{\"marker\": {\"colorbar\": {\"outlinewidth\": 0, \"ticks\": \"\"}}, \"type\": \"scattergl\"}], \"scattermapbox\": [{\"marker\": {\"colorbar\": {\"outlinewidth\": 0, \"ticks\": \"\"}}, \"type\": \"scattermapbox\"}], \"scatterpolar\": [{\"marker\": {\"colorbar\": {\"outlinewidth\": 0, \"ticks\": \"\"}}, \"type\": \"scatterpolar\"}], \"scatterpolargl\": [{\"marker\": {\"colorbar\": {\"outlinewidth\": 0, \"ticks\": \"\"}}, \"type\": \"scatterpolargl\"}], \"scatterternary\": [{\"marker\": {\"colorbar\": {\"outlinewidth\": 0, \"ticks\": \"\"}}, \"type\": \"scatterternary\"}], \"surface\": [{\"colorbar\": {\"outlinewidth\": 0, \"ticks\": \"\"}, \"colorscale\": [[0.0, \"#0d0887\"], [0.1111111111111111, \"#46039f\"], [0.2222222222222222, \"#7201a8\"], [0.3333333333333333, \"#9c179e\"], [0.4444444444444444, \"#bd3786\"], [0.5555555555555556, \"#d8576b\"], [0.6666666666666666, \"#ed7953\"], [0.7777777777777778, \"#fb9f3a\"], [0.8888888888888888, \"#fdca26\"], [1.0, \"#f0f921\"]], \"type\": \"surface\"}], \"table\": [{\"cells\": {\"fill\": {\"color\": \"#EBF0F8\"}, \"line\": {\"color\": \"white\"}}, \"header\": {\"fill\": {\"color\": \"#C8D4E3\"}, \"line\": {\"color\": \"white\"}}, \"type\": \"table\"}]}, \"layout\": {\"annotationdefaults\": {\"arrowcolor\": \"#2a3f5f\", \"arrowhead\": 0, \"arrowwidth\": 1}, \"coloraxis\": {\"colorbar\": {\"outlinewidth\": 0, \"ticks\": \"\"}}, \"colorscale\": {\"diverging\": [[0, \"#8e0152\"], [0.1, \"#c51b7d\"], [0.2, \"#de77ae\"], [0.3, \"#f1b6da\"], [0.4, \"#fde0ef\"], [0.5, \"#f7f7f7\"], [0.6, \"#e6f5d0\"], [0.7, \"#b8e186\"], [0.8, \"#7fbc41\"], [0.9, \"#4d9221\"], [1, \"#276419\"]], \"sequential\": [[0.0, \"#0d0887\"], [0.1111111111111111, \"#46039f\"], [0.2222222222222222, \"#7201a8\"], [0.3333333333333333, \"#9c179e\"], [0.4444444444444444, \"#bd3786\"], [0.5555555555555556, \"#d8576b\"], [0.6666666666666666, \"#ed7953\"], [0.7777777777777778, \"#fb9f3a\"], [0.8888888888888888, \"#fdca26\"], [1.0, \"#f0f921\"]], \"sequentialminus\": [[0.0, \"#0d0887\"], [0.1111111111111111, \"#46039f\"], [0.2222222222222222, \"#7201a8\"], [0.3333333333333333, \"#9c179e\"], [0.4444444444444444, \"#bd3786\"], [0.5555555555555556, \"#d8576b\"], [0.6666666666666666, \"#ed7953\"], [0.7777777777777778, \"#fb9f3a\"], [0.8888888888888888, \"#fdca26\"], [1.0, \"#f0f921\"]]}, \"colorway\": [\"#636efa\", \"#EF553B\", \"#00cc96\", \"#ab63fa\", \"#FFA15A\", \"#19d3f3\", \"#FF6692\", \"#B6E880\", \"#FF97FF\", \"#FECB52\"], \"font\": {\"color\": \"#2a3f5f\"}, \"geo\": {\"bgcolor\": \"white\", \"lakecolor\": \"white\", \"landcolor\": \"#E5ECF6\", \"showlakes\": true, \"showland\": true, \"subunitcolor\": \"white\"}, \"hoverlabel\": {\"align\": \"left\"}, \"hovermode\": \"closest\", \"mapbox\": {\"style\": \"light\"}, \"paper_bgcolor\": \"white\", \"plot_bgcolor\": \"#E5ECF6\", \"polar\": {\"angularaxis\": {\"gridcolor\": \"white\", \"linecolor\": \"white\", \"ticks\": \"\"}, \"bgcolor\": \"#E5ECF6\", \"radialaxis\": {\"gridcolor\": \"white\", \"linecolor\": \"white\", \"ticks\": \"\"}}, \"scene\": {\"xaxis\": {\"backgroundcolor\": \"#E5ECF6\", \"gridcolor\": \"white\", \"gridwidth\": 2, \"linecolor\": \"white\", \"showbackground\": true, \"ticks\": \"\", \"zerolinecolor\": \"white\"}, \"yaxis\": {\"backgroundcolor\": \"#E5ECF6\", \"gridcolor\": \"white\", \"gridwidth\": 2, \"linecolor\": \"white\", \"showbackground\": true, \"ticks\": \"\", \"zerolinecolor\": \"white\"}, \"zaxis\": {\"backgroundcolor\": \"#E5ECF6\", \"gridcolor\": \"white\", \"gridwidth\": 2, \"linecolor\": \"white\", \"showbackground\": true, \"ticks\": \"\", \"zerolinecolor\": \"white\"}}, \"shapedefaults\": {\"line\": {\"color\": \"#2a3f5f\"}}, \"ternary\": {\"aaxis\": {\"gridcolor\": \"white\", \"linecolor\": \"white\", \"ticks\": \"\"}, \"baxis\": {\"gridcolor\": \"white\", \"linecolor\": \"white\", \"ticks\": \"\"}, \"bgcolor\": \"#E5ECF6\", \"caxis\": {\"gridcolor\": \"white\", \"linecolor\": \"white\", \"ticks\": \"\"}}, \"title\": {\"x\": 0.05}, \"xaxis\": {\"automargin\": true, \"gridcolor\": \"white\", \"linecolor\": \"white\", \"ticks\": \"\", \"title\": {\"standoff\": 15}, \"zerolinecolor\": \"white\", \"zerolinewidth\": 2}, \"yaxis\": {\"automargin\": true, \"gridcolor\": \"white\", \"linecolor\": \"white\", \"ticks\": \"\", \"title\": {\"standoff\": 15}, \"zerolinecolor\": \"white\", \"zerolinewidth\": 2}}}, \"title\": {\"text\": \"INTC Expiration:2020-08-07, Time:2020-07-01 17:00\"}, \"xaxis\": {\"anchor\": \"y\", \"domain\": [0.0, 1.0], \"title\": {\"text\": \"Date\"}}, \"yaxis\": {\"anchor\": \"x\", \"domain\": [0.0, 1.0], \"title\": {\"text\": \"Option price\"}}},\n",
       "                        {\"responsive\": true}\n",
       "                    ).then(function(){\n",
       "                            \n",
       "var gd = document.getElementById('710bf1c1-4561-421d-851d-f0e6abaf0ce8');\n",
       "var x = new MutationObserver(function (mutations, observer) {{\n",
       "        var display = window.getComputedStyle(gd).display;\n",
       "        if (!display || display === 'none') {{\n",
       "            console.log([gd, 'removed!']);\n",
       "            Plotly.purge(gd);\n",
       "            observer.disconnect();\n",
       "        }}\n",
       "}});\n",
       "\n",
       "// Listen for the removal of the full notebook cells\n",
       "var notebookContainer = gd.closest('#notebook-container');\n",
       "if (notebookContainer) {{\n",
       "    x.observe(notebookContainer, {childList: true});\n",
       "}}\n",
       "\n",
       "// Listen for the clearing of the current output cell\n",
       "var outputEl = gd.closest('.output');\n",
       "if (outputEl) {{\n",
       "    x.observe(outputEl, {childList: true});\n",
       "}}\n",
       "\n",
       "                        })\n",
       "                };\n",
       "                });\n",
       "            </script>\n",
       "        </div>"
      ]
     },
     "metadata": {},
     "output_type": "display_data"
    }
   ],
   "source": [
    "span = 'year'\n",
    "figForExpriation(strike_price,volume,optionType,span)"
   ]
  },
  {
   "cell_type": "code",
   "execution_count": null,
   "metadata": {},
   "outputs": [],
   "source": []
  }
 ],
 "metadata": {
  "kernelspec": {
   "display_name": "Python 3",
   "language": "python",
   "name": "python3"
  },
  "language_info": {
   "codemirror_mode": {
    "name": "ipython",
    "version": 3
   },
   "file_extension": ".py",
   "mimetype": "text/x-python",
   "name": "python",
   "nbconvert_exporter": "python",
   "pygments_lexer": "ipython3",
   "version": "3.7.3"
  }
 },
 "nbformat": 4,
 "nbformat_minor": 2
}
