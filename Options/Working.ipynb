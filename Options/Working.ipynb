{
 "cells": [
  {
   "cell_type": "code",
   "execution_count": 3,
   "metadata": {},
   "outputs": [
    {
     "name": "stdout",
     "output_type": "stream",
     "text": [
      "[(0, '2020-08-07'), (1, '2020-08-14'), (2, '2020-08-21'), (3, '2020-08-28'), (4, '2020-09-04'), (5, '2020-09-11'), (6, '2020-09-18'), (7, '2020-11-20'), (8, '2021-01-15'), (9, '2021-02-19'), (10, '2021-03-19'), (11, '2022-01-21')]\n"
     ]
    }
   ],
   "source": [
    "import configparser\n",
    "config = configparser.RawConfigParser()\n",
    "configFilePath = '/Users/philipmassey/.tokens/robinhood.cfg'\n",
    "config.read(configFilePath)\n",
    "rhuser = config.get('login', 'user')\n",
    "rhpwd = config.get('login', 'pwd')\n",
    "login = r.login(rhuser,rhpwd)\n",
    "symbol = 'OKTA'\n",
    "expiration_dates = r.get_chains(symbol)['expiration_dates']\n",
    "print(list(enumerate(expiration_dates)))\n"
   ]
  },
  {
   "cell_type": "code",
   "execution_count": 6,
   "metadata": {},
   "outputs": [
    {
     "name": "stdout",
     "output_type": "stream",
     "text": [
      "0.18\t67%\n"
     ]
    }
   ],
   "source": [
    "open_price = 0.27\n",
    "close_price = 0.09A\n",
    "ocdiff = open_price - close_price\n",
    "ocpercent = round(ocdiff/open_price,2)\n",
    "print('{:.2f}\\t{:,.0%}'.format(ocdiff, ocpercent))"
   ]
  }
 ],
 "metadata": {
  "kernelspec": {
   "display_name": "Python 3",
   "language": "python",
   "name": "python3"
  },
  "language_info": {
   "codemirror_mode": {
    "name": "ipython",
    "version": 3
   },
   "file_extension": ".py",
   "mimetype": "text/x-python",
   "name": "python",
   "nbconvert_exporter": "python",
   "pygments_lexer": "ipython3",
   "version": "3.7.3"
  }
 },
 "nbformat": 4,
 "nbformat_minor": 2
}
