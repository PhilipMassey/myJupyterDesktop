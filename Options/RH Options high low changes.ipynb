{
 "cells": [
  {
   "cell_type": "code",
   "execution_count": 6,
   "metadata": {},
   "outputs": [
    {
     "name": "stdout",
     "output_type": "stream",
     "text": [
      "Python 3.7.3 (v3.7.3:ef4ec6ed12, Mar 25 2019, 16:52:21) \n",
      "[Clang 6.0 (clang-600.0.57)] on darwin\n"
     ]
    }
   ],
   "source": [
    "import sys; print('Python %s on %s' % (sys.version, sys.platform))\n",
    "sys.path.extend(['/Users/philipmassey/PycharmProjects/stock_market'])\n",
    "#import robin_stocks as r\n",
    "import rh\n",
    "r = rh.r"
   ]
  },
  {
   "cell_type": "code",
   "execution_count": 7,
   "metadata": {},
   "outputs": [
    {
     "name": "stdout",
     "output_type": "stream",
     "text": [
      "['2020-08-07', '2020-08-14', '2020-08-21', '2020-08-28', '2020-09-04', '2020-09-11', '2020-09-18', '2020-10-16', '2021-01-15', '2022-01-21']\n",
      "2020-08-07\t*.\n",
      "Strike\tVolume\tOpen\tHigh\tLow\tClose\tOCDiff\tOCP\tHLDiff\tHLPercent\n",
      "$6.00\t1\t1.21\t1.60\t1.37\t1.35\t0.14\t12%\t0.23\t17%\n",
      "$7.00\t72\t0.01\t0.70\t0.42\t0.43\t0.42\t4,200%\t0.28\t67%\n",
      "$7.50\t663\t0.01\t2.52\t0.15\t0.09\t0.08\t800%\t2.37\t1,580%\n",
      "$8.00\t123\t0.01\t0.15\t0.02\t0.02\t0.01\t100%\t0.13\t650%\n",
      "$8.50\t2\t0.01\t0.11\t0.11\t0.01\t0.00\t0%\t0.0\t0%\n",
      "2020-08-14\t*.\n",
      "Strike\tVolume\tOpen\tHigh\tLow\tClose\tOCDiff\tOCP\tHLDiff\tHLPercent\n",
      "$6.00\t2\t0.01\t1.69\t1.35\t1.41\t1.40\t14,000%\t0.34\t25%\n",
      "$7.00\t82\t0.01\t1.33\t0.43\t0.53\t0.52\t5,200%\t0.9\t209%\n",
      "$7.50\t103\t0.01\t0.45\t0.16\t0.15\t0.14\t1,400%\t0.29\t181%\n",
      "$8.00\t3\t0.01\t2.51\t0.04\t0.03\t0.02\t200%\t2.47\t6,175%\n",
      "2020-08-21\t*.\n",
      "Strike\tVolume\tOpen\tHigh\tLow\tClose\tOCDiff\tOCP\tHLDiff\tHLPercent\n",
      "$6.00\t2\t1.24\t1.66\t1.36\t1.45\t0.21\t17%\t0.3\t22%\n",
      "$6.50\t12\t0.74\t1.28\t0.91\t0.98\t0.24\t32%\t0.37\t41%\n",
      "$7.00\t188\t0.40\t0.71\t0.44\t0.52\t0.12\t30%\t0.27\t61%\n",
      "$7.50\t522\t0.14\t0.48\t0.18\t0.20\t0.06\t43%\t0.3\t167%\n",
      "$8.00\t74\t0.01\t2.52\t0.08\t0.05\t0.04\t400%\t2.44\t3,050%\n",
      "2020-08-28\t*.\n",
      "Strike\tVolume\tOpen\tHigh\tLow\tClose\tOCDiff\tOCP\tHLDiff\tHLPercent\n",
      "$7.50\t299\t0.01\t0.36\t0.22\t0.23\t0.22\t2,200%\t0.14\t64%\n",
      "$8.00\t9\t0.01\t0.51\t0.12\t0.05\t0.04\t400%\t0.39\t325%\n",
      "$8.50\t5\t0.01\t1.14\t0.05\t0.03\t0.02\t200%\t1.09\t2,180%\n",
      "2020-09-04\t*.\n",
      "Strike\tVolume\tOpen\tHigh\tLow\tClose\tOCDiff\tOCP\tHLDiff\tHLPercent\n",
      "$8.00\t28\t0.01\t0.38\t0.12\t0.09\t0.08\t800%\t0.26\t217%\n",
      "$8.50\t1\t0.01\t0.16\t0.10\t0.01\t0.00\t0%\t0.06\t60%\n"
     ]
    }
   ],
   "source": [
    "\n",
    "symbol = 'NLY'\n",
    "expiration_dates = r.get_chains(symbol)['expiration_dates']\n",
    "print(expiration_dates)\n",
    "span = 'day'\n",
    "df_expirationDates = rh.getStrikesOHLCChangesExpiration(symbol,expiration_dates,'call',span)"
   ]
  },
  {
   "cell_type": "code",
   "execution_count": 3,
   "metadata": {},
   "outputs": [
    {
     "name": "stdout",
     "output_type": "stream",
     "text": [
      "2020-08-07\t*.400 Client Error: Bad Request for url: https://api.robinhood.com/marketdata/options/historicals/bd7407bf-b668-4c90-a914-88ba75dc9f6e/?span=week&interval=week&bounds=regular\n"
     ]
    },
    {
     "ename": "KeyError",
     "evalue": "\"['high_price', 'close_price', 'volume', 'low_price', 'begins_at', 'open_price'] not in index\"",
     "output_type": "error",
     "traceback": [
      "\u001b[0;31m---------------------------------------------------------------------------\u001b[0m",
      "\u001b[0;31mKeyError\u001b[0m                                  Traceback (most recent call last)",
      "\u001b[0;32m<ipython-input-3-3469ab675c7d>\u001b[0m in \u001b[0;36m<module>\u001b[0;34m\u001b[0m\n\u001b[1;32m      1\u001b[0m \u001b[0mspan\u001b[0m \u001b[0;34m=\u001b[0m \u001b[0;34m'week'\u001b[0m\u001b[0;34m\u001b[0m\u001b[0;34m\u001b[0m\u001b[0m\n\u001b[0;32m----> 2\u001b[0;31m \u001b[0mdf_expirationDates\u001b[0m \u001b[0;34m=\u001b[0m \u001b[0mrh\u001b[0m\u001b[0;34m.\u001b[0m\u001b[0mgetStrikesOHLCChangesExpiration\u001b[0m\u001b[0;34m(\u001b[0m\u001b[0msymbol\u001b[0m\u001b[0;34m,\u001b[0m\u001b[0mexpiration_dates\u001b[0m\u001b[0;34m,\u001b[0m\u001b[0;34m'call'\u001b[0m\u001b[0;34m,\u001b[0m\u001b[0mspan\u001b[0m\u001b[0;34m)\u001b[0m\u001b[0;34m\u001b[0m\u001b[0;34m\u001b[0m\u001b[0m\n\u001b[0m",
      "\u001b[0;32m~/PycharmProjects/my_robinhood/rh/rh_options/options_highs_and_lows.py\u001b[0m in \u001b[0;36mgetStrikesOHLCChangesExpiration\u001b[0;34m(symbol, expiration_dates, optionType, span, volume_limit)\u001b[0m\n\u001b[1;32m     48\u001b[0m                 \u001b[0mdf\u001b[0m\u001b[0;34m[\u001b[0m\u001b[0;34m'strike_price'\u001b[0m\u001b[0;34m]\u001b[0m \u001b[0;34m=\u001b[0m \u001b[0mstrike_price\u001b[0m\u001b[0;34m\u001b[0m\u001b[0;34m\u001b[0m\u001b[0m\n\u001b[1;32m     49\u001b[0m                 df_all = pd.concat([df_all, df[\n\u001b[0;32m---> 50\u001b[0;31m                     ['begins_at', 'strike_price', 'open_price', 'high_price', 'low_price', 'close_price', 'volume']]])\n\u001b[0m\u001b[1;32m     51\u001b[0m \u001b[0;34m\u001b[0m\u001b[0m\n\u001b[1;32m     52\u001b[0m             df_all[['strike_price','open_price', 'high_price', 'low_price','close_price']] = df_all[\n",
      "\u001b[0;32m/Library/Frameworks/Python.framework/Versions/3.7/lib/python3.7/site-packages/pandas/core/frame.py\u001b[0m in \u001b[0;36m__getitem__\u001b[0;34m(self, key)\u001b[0m\n\u001b[1;32m   2932\u001b[0m                 \u001b[0mkey\u001b[0m \u001b[0;34m=\u001b[0m \u001b[0mlist\u001b[0m\u001b[0;34m(\u001b[0m\u001b[0mkey\u001b[0m\u001b[0;34m)\u001b[0m\u001b[0;34m\u001b[0m\u001b[0;34m\u001b[0m\u001b[0m\n\u001b[1;32m   2933\u001b[0m             indexer = self.loc._convert_to_indexer(key, axis=1,\n\u001b[0;32m-> 2934\u001b[0;31m                                                    raise_missing=True)\n\u001b[0m\u001b[1;32m   2935\u001b[0m \u001b[0;34m\u001b[0m\u001b[0m\n\u001b[1;32m   2936\u001b[0m         \u001b[0;31m# take() does not accept boolean indexers\u001b[0m\u001b[0;34m\u001b[0m\u001b[0;34m\u001b[0m\u001b[0;34m\u001b[0m\u001b[0m\n",
      "\u001b[0;32m/Library/Frameworks/Python.framework/Versions/3.7/lib/python3.7/site-packages/pandas/core/indexing.py\u001b[0m in \u001b[0;36m_convert_to_indexer\u001b[0;34m(self, obj, axis, is_setter, raise_missing)\u001b[0m\n\u001b[1;32m   1352\u001b[0m                 kwargs = {'raise_missing': True if is_setter else\n\u001b[1;32m   1353\u001b[0m                           raise_missing}\n\u001b[0;32m-> 1354\u001b[0;31m                 \u001b[0;32mreturn\u001b[0m \u001b[0mself\u001b[0m\u001b[0;34m.\u001b[0m\u001b[0m_get_listlike_indexer\u001b[0m\u001b[0;34m(\u001b[0m\u001b[0mobj\u001b[0m\u001b[0;34m,\u001b[0m \u001b[0maxis\u001b[0m\u001b[0;34m,\u001b[0m \u001b[0;34m**\u001b[0m\u001b[0mkwargs\u001b[0m\u001b[0;34m)\u001b[0m\u001b[0;34m[\u001b[0m\u001b[0;36m1\u001b[0m\u001b[0;34m]\u001b[0m\u001b[0;34m\u001b[0m\u001b[0;34m\u001b[0m\u001b[0m\n\u001b[0m\u001b[1;32m   1355\u001b[0m         \u001b[0;32melse\u001b[0m\u001b[0;34m:\u001b[0m\u001b[0;34m\u001b[0m\u001b[0;34m\u001b[0m\u001b[0m\n\u001b[1;32m   1356\u001b[0m             \u001b[0;32mtry\u001b[0m\u001b[0;34m:\u001b[0m\u001b[0;34m\u001b[0m\u001b[0;34m\u001b[0m\u001b[0m\n",
      "\u001b[0;32m/Library/Frameworks/Python.framework/Versions/3.7/lib/python3.7/site-packages/pandas/core/indexing.py\u001b[0m in \u001b[0;36m_get_listlike_indexer\u001b[0;34m(self, key, axis, raise_missing)\u001b[0m\n\u001b[1;32m   1159\u001b[0m         self._validate_read_indexer(keyarr, indexer,\n\u001b[1;32m   1160\u001b[0m                                     \u001b[0mo\u001b[0m\u001b[0;34m.\u001b[0m\u001b[0m_get_axis_number\u001b[0m\u001b[0;34m(\u001b[0m\u001b[0maxis\u001b[0m\u001b[0;34m)\u001b[0m\u001b[0;34m,\u001b[0m\u001b[0;34m\u001b[0m\u001b[0;34m\u001b[0m\u001b[0m\n\u001b[0;32m-> 1161\u001b[0;31m                                     raise_missing=raise_missing)\n\u001b[0m\u001b[1;32m   1162\u001b[0m         \u001b[0;32mreturn\u001b[0m \u001b[0mkeyarr\u001b[0m\u001b[0;34m,\u001b[0m \u001b[0mindexer\u001b[0m\u001b[0;34m\u001b[0m\u001b[0;34m\u001b[0m\u001b[0m\n\u001b[1;32m   1163\u001b[0m \u001b[0;34m\u001b[0m\u001b[0m\n",
      "\u001b[0;32m/Library/Frameworks/Python.framework/Versions/3.7/lib/python3.7/site-packages/pandas/core/indexing.py\u001b[0m in \u001b[0;36m_validate_read_indexer\u001b[0;34m(self, key, indexer, axis, raise_missing)\u001b[0m\n\u001b[1;32m   1250\u001b[0m             \u001b[0;32mif\u001b[0m \u001b[0;32mnot\u001b[0m\u001b[0;34m(\u001b[0m\u001b[0mself\u001b[0m\u001b[0;34m.\u001b[0m\u001b[0mname\u001b[0m \u001b[0;34m==\u001b[0m \u001b[0;34m'loc'\u001b[0m \u001b[0;32mand\u001b[0m \u001b[0;32mnot\u001b[0m \u001b[0mraise_missing\u001b[0m\u001b[0;34m)\u001b[0m\u001b[0;34m:\u001b[0m\u001b[0;34m\u001b[0m\u001b[0;34m\u001b[0m\u001b[0m\n\u001b[1;32m   1251\u001b[0m                 \u001b[0mnot_found\u001b[0m \u001b[0;34m=\u001b[0m \u001b[0mlist\u001b[0m\u001b[0;34m(\u001b[0m\u001b[0mset\u001b[0m\u001b[0;34m(\u001b[0m\u001b[0mkey\u001b[0m\u001b[0;34m)\u001b[0m \u001b[0;34m-\u001b[0m \u001b[0mset\u001b[0m\u001b[0;34m(\u001b[0m\u001b[0max\u001b[0m\u001b[0;34m)\u001b[0m\u001b[0;34m)\u001b[0m\u001b[0;34m\u001b[0m\u001b[0;34m\u001b[0m\u001b[0m\n\u001b[0;32m-> 1252\u001b[0;31m                 \u001b[0;32mraise\u001b[0m \u001b[0mKeyError\u001b[0m\u001b[0;34m(\u001b[0m\u001b[0;34m\"{} not in index\"\u001b[0m\u001b[0;34m.\u001b[0m\u001b[0mformat\u001b[0m\u001b[0;34m(\u001b[0m\u001b[0mnot_found\u001b[0m\u001b[0;34m)\u001b[0m\u001b[0;34m)\u001b[0m\u001b[0;34m\u001b[0m\u001b[0;34m\u001b[0m\u001b[0m\n\u001b[0m\u001b[1;32m   1253\u001b[0m \u001b[0;34m\u001b[0m\u001b[0m\n\u001b[1;32m   1254\u001b[0m             \u001b[0;31m# we skip the warning on Categorical/Interval\u001b[0m\u001b[0;34m\u001b[0m\u001b[0;34m\u001b[0m\u001b[0;34m\u001b[0m\u001b[0m\n",
      "\u001b[0;31mKeyError\u001b[0m: \"['high_price', 'close_price', 'volume', 'low_price', 'begins_at', 'open_price'] not in index\""
     ]
    }
   ],
   "source": [
    "span = 'week'       \n",
    "df_expirationDates = rh.getStrikesOHLCChangesExpiration(symbol,expiration_dates,'call',span) "
   ]
  },
  {
   "cell_type": "code",
   "execution_count": 12,
   "metadata": {},
   "outputs": [
    {
     "name": "stdout",
     "output_type": "stream",
     "text": [
      "2020-07-24\t*..*..*..*..*..*..\n",
      "Strike\tVolume\tOpen\tHigh\tLow\tClose\tOCDiff\tOCP\tHLDiff\tHLPercent\n",
      "$12.50\t1,685\t0.28\t1.93\t0.04\t0.28\t0.00\t0%\t1.89\t4,725%\n",
      "$13.00\t1,540\t0.15\t0.38\t0.05\t0.15\t0.00\t0%\t0.33\t660%\n",
      "$14.00\t5,882\t0.05\t0.28\t0.03\t0.05\t0.00\t0%\t0.25\t833%\n",
      "$14.50\t1,316\t0.01\t0.38\t0.07\t0.01\t0.00\t0%\t0.31\t443%\n",
      "$15.00\t1,334\t0.01\t0.23\t0.03\t0.01\t0.00\t0%\t0.2\t667%\n",
      "2020-07-31\t*..*..*..*..*..*..\n",
      "Strike\tVolume\tOpen\tHigh\tLow\tClose\tOCDiff\tOCP\tHLDiff\tHLPercent\n",
      "$13.50\t689\t0.20\t0.45\t0.04\t0.20\t0.00\t0%\t0.41\t1,025%\n",
      "$14.00\t1,499\t0.14\t0.33\t0.05\t0.14\t0.00\t0%\t0.28\t560%\n",
      "$14.50\t1,560\t0.11\t0.78\t0.03\t0.11\t0.00\t0%\t0.75\t2,500%\n",
      "$15.00\t857\t0.07\t0.30\t0.04\t0.07\t0.00\t0%\t0.26\t650%\n",
      "2020-08-07\t*..*..*..*..*..*..\n",
      "Strike\tVolume\tOpen\tHigh\tLow\tClose\tOCDiff\tOCP\tHLDiff\tHLPercent\n",
      "$11.50\t96\t1.30\t2.23\t0.32\t1.30\t0.00\t0%\t1.91\t597%\n",
      "$12.50\t145\t0.71\t1.95\t0.16\t0.71\t0.00\t0%\t1.79\t1,119%\n",
      "$14.00\t159\t0.31\t1.21\t0.10\t0.31\t0.00\t0%\t1.11\t1,110%\n",
      "$15.00\t128\t0.15\t1.26\t0.09\t0.15\t0.00\t0%\t1.17\t1,300%\n",
      "$16.00\t81\t0.09\t1.13\t0.09\t0.09\t0.00\t0%\t1.04\t1,156%\n",
      "2020-08-14\t*..*..*..*..*..*..\n",
      "Strike\tVolume\tOpen\tHigh\tLow\tClose\tOCDiff\tOCP\tHLDiff\tHLPercent\n",
      "$12.00\t105\t1.07\t1.56\t0.28\t1.07\t0.00\t0%\t1.28\t457%\n",
      "$13.00\t63\t0.66\t1.24\t0.15\t0.66\t0.00\t0%\t1.09\t727%\n",
      "$13.50\t72\t0.54\t1.24\t0.13\t0.54\t0.00\t0%\t1.11\t854%\n",
      "$14.00\t294\t0.40\t1.13\t0.10\t0.40\t0.00\t0%\t1.03\t1,030%\n",
      "$15.50\t97\t0.21\t0.30\t0.06\t0.21\t0.00\t0%\t0.24\t400%\n",
      "2020-08-21\t*..*..*..*..*..*..\n",
      "Strike\tVolume\tOpen\tHigh\tLow\tClose\tOCDiff\tOCP\tHLDiff\tHLPercent\n",
      "$7.00\t1,572\t5.35\t5.85\t2.00\t5.35\t0.00\t0%\t3.85\t193%\n",
      "$12.00\t1,142\t1.17\t1.86\t0.30\t1.17\t0.00\t0%\t1.56\t520%\n",
      "$13.00\t981\t0.75\t2.66\t0.19\t0.75\t0.00\t0%\t2.47\t1,300%\n",
      "$14.00\t2,175\t0.49\t2.62\t0.13\t0.51\t0.02\t4%\t2.49\t1,915%\n",
      "$15.00\t1,866\t0.32\t1.32\t0.08\t0.32\t0.00\t0%\t1.24\t1,550%\n"
     ]
    }
   ],
   "source": [
    "span = 'year'       \n",
    "df_expirationDates = rh.getStrikesOHLCChangesExpiration(symbol,expiration_dates,'call',span) "
   ]
  },
  {
   "cell_type": "code",
   "execution_count": 16,
   "metadata": {},
   "outputs": [
    {
     "data": {
      "text/plain": [
       "14.25"
      ]
     },
     "execution_count": 16,
     "metadata": {},
     "output_type": "execute_result"
    }
   ],
   "source": [
    "df_expirationDates.iloc[-1].high_price"
   ]
  },
  {
   "cell_type": "code",
   "execution_count": null,
   "metadata": {},
   "outputs": [],
   "source": []
  }
 ],
 "metadata": {
  "kernelspec": {
   "display_name": "Python 3",
   "language": "python",
   "name": "python3"
  },
  "language_info": {
   "codemirror_mode": {
    "name": "ipython",
    "version": 3
   },
   "file_extension": ".py",
   "mimetype": "text/x-python",
   "name": "python",
   "nbconvert_exporter": "python",
   "pygments_lexer": "ipython3",
   "version": "3.7.3"
  }
 },
 "nbformat": 4,
 "nbformat_minor": 4
}
