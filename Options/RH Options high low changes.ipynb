{
 "cells": [
  {
   "cell_type": "code",
   "execution_count": 2,
   "metadata": {},
   "outputs": [
    {
     "name": "stdout",
     "output_type": "stream",
     "text": [
      "Python 3.7.3 (v3.7.3:ef4ec6ed12, Mar 25 2019, 16:52:21) \n",
      "[Clang 6.0 (clang-600.0.57)] on darwin\n"
     ]
    }
   ],
   "source": [
    "import sys; print('Python %s on %s' % (sys.version, sys.platform))\n",
    "sys.path.extend(['/Users/philipmassey/PycharmProjects/stock_market'])\n",
    "#import robin_stocks as r\n",
    "import rh\n",
    "r = rh.r"
   ]
  },
  {
   "cell_type": "code",
   "execution_count": 4,
   "metadata": {},
   "outputs": [
    {
     "name": "stdout",
     "output_type": "stream",
     "text": [
      "['2020-08-14', '2020-08-21', '2020-08-28', '2020-09-04', '2020-09-11', '2020-09-18', '2020-09-25', '2020-10-16', '2020-11-20', '2021-01-15', '2021-02-19', '2021-04-16', '2021-06-18', '2022-01-21']\n",
      "2020-08-14\t*.......404 Client Error: Not Found for url: https://api.robinhood.com/marketdata/options/02302ad1-48af-4e21-b2f9-7fe7ddc35576/\n",
      "\n",
      "Strike\tVolume\tOpen\tHigh\tLow\tClose\tOCDiff\tOCP\tHLDiff\tHLPercent\n",
      "$270.00\t869\t0.01\t6.55\t3.06\t4.35\t4.34\t43,400%\t3.49\t114%\n",
      "$272.50\t713\t0.01\t4.80\t2.55\t2.92\t2.91\t29,100%\t2.25\t88%\n",
      "$275.00\t2,567\t0.01\t3.48\t1.51\t1.86\t1.85\t18,500%\t1.97\t130%\n",
      "$277.50\t696\t0.01\t2.38\t1.04\t1.31\t1.30\t13,000%\t1.34\t129%\n",
      "$280.00\t1,269\t0.01\t2.13\t0.61\t0.87\t0.86\t8,600%\t1.52\t249%\n",
      "2020-08-21\t*.......\n",
      "Strike\tVolume\tOpen\tHigh\tLow\tClose\tOCDiff\tOCP\tHLDiff\tHLPercent\n",
      "$270.00\t810\t5.43\t9.58\t6.28\t7.53\t2.10\t39%\t3.3\t53%\n",
      "$275.00\t2,539\t0.01\t6.75\t4.13\t4.98\t4.97\t49,700%\t2.62\t63%\n",
      "$280.00\t2,783\t0.01\t4.38\t2.77\t2.74\t2.73\t27,300%\t1.61\t58%\n",
      "$285.00\t752\t0.01\t2.95\t1.51\t1.62\t1.61\t16,100%\t1.44\t95%\n",
      "$300.00\t1,629\t0.01\t0.64\t0.33\t0.43\t0.42\t4,200%\t0.31\t94%\n",
      "2020-08-28\t*.......404 Client Error: Not Found for url: https://api.robinhood.com/marketdata/options/8e2a24b5-f7c4-4e4c-8c6a-194f10091856/\n",
      "\n",
      "Strike\tVolume\tOpen\tHigh\tLow\tClose\tOCDiff\tOCP\tHLDiff\tHLPercent\n",
      "$270.00\t136\t6.50\t10.85\t7.68\t8.53\t2.03\t31%\t3.17\t41%\n",
      "$272.50\t142\t5.46\t9.25\t6.58\t7.20\t1.74\t32%\t2.67\t41%\n",
      "$275.00\t183\t4.41\t8.15\t5.63\t6.00\t1.59\t36%\t2.52\t45%\n",
      "$280.00\t172\t0.01\t5.75\t4.00\t4.05\t4.04\t40,400%\t1.75\t44%\n",
      "$300.00\t326\t0.01\t2.32\t0.59\t0.75\t0.74\t7,400%\t1.73\t293%\n",
      "2020-09-04\t*.......404 Client Error: Not Found for url: https://api.robinhood.com/marketdata/options/8a469ab5-ce58-40c7-9766-89084eeeb2d7/\n",
      "\n",
      "Strike\tVolume\tOpen\tHigh\tLow\tClose\tOCDiff\tOCP\tHLDiff\tHLPercent\n",
      "$270.00\t53\t7.38\t11.65\t8.35\t8.95\t1.57\t21%\t3.3\t40%\n",
      "$272.50\t92\t6.33\t9.98\t7.30\t7.95\t1.62\t26%\t2.68\t37%\n",
      "$275.00\t103\t5.39\t9.58\t6.33\t6.38\t0.99\t18%\t3.25\t51%\n",
      "$300.00\t62\t0.01\t2.50\t1.69\t0.87\t0.86\t8,600%\t0.81\t48%\n",
      "$305.00\t114\t0.01\t2.25\t0.51\t0.76\t0.75\t7,500%\t1.74\t341%\n",
      "2020-09-11\t*.......\n",
      "Strike\tVolume\tOpen\tHigh\tLow\tClose\tOCDiff\tOCP\tHLDiff\tHLPercent\n",
      "$275.00\t23\t5.90\t9.80\t6.70\t6.98\t1.08\t18%\t3.1\t46%\n",
      "$300.00\t211\t0.01\t2.71\t1.68\t1.18\t1.17\t11,700%\t1.03\t61%\n",
      "$305.00\t106\t0.01\t2.54\t2.21\t0.82\t0.81\t8,100%\t0.33\t15%\n",
      "$310.00\t30\t0.01\t2.13\t0.69\t0.60\t0.59\t5,900%\t1.44\t209%\n",
      "$345.00\t20\t0.01\t1.21\t1.21\t0.37\t0.36\t3,600%\t0.0\t0%\n"
     ]
    }
   ],
   "source": [
    "\n",
    "symbol = 'HD'\n",
    "expiration_dates = r.get_chains(symbol)['expiration_dates']\n",
    "print(expiration_dates)\n",
    "span = 'day'\n",
    "df_expirationDates = rh.getStrikesOHLCChangesExpiration(symbol,expiration_dates,'call',span)"
   ]
  },
  {
   "cell_type": "code",
   "execution_count": null,
   "metadata": {},
   "outputs": [],
   "source": [
    "span = 'week'       \n",
    "df_expirationDates = rh.getStrikesOHLCChangesExpiration(symbol,expiration_dates,'call',span) "
   ]
  },
  {
   "cell_type": "code",
   "execution_count": 12,
   "metadata": {},
   "outputs": [
    {
     "name": "stdout",
     "output_type": "stream",
     "text": [
      "2020-07-24\t*..*..*..*..*..*..\n",
      "Strike\tVolume\tOpen\tHigh\tLow\tClose\tOCDiff\tOCP\tHLDiff\tHLPercent\n",
      "$12.50\t1,685\t0.28\t1.93\t0.04\t0.28\t0.00\t0%\t1.89\t4,725%\n",
      "$13.00\t1,540\t0.15\t0.38\t0.05\t0.15\t0.00\t0%\t0.33\t660%\n",
      "$14.00\t5,882\t0.05\t0.28\t0.03\t0.05\t0.00\t0%\t0.25\t833%\n",
      "$14.50\t1,316\t0.01\t0.38\t0.07\t0.01\t0.00\t0%\t0.31\t443%\n",
      "$15.00\t1,334\t0.01\t0.23\t0.03\t0.01\t0.00\t0%\t0.2\t667%\n",
      "2020-07-31\t*..*..*..*..*..*..\n",
      "Strike\tVolume\tOpen\tHigh\tLow\tClose\tOCDiff\tOCP\tHLDiff\tHLPercent\n",
      "$13.50\t689\t0.20\t0.45\t0.04\t0.20\t0.00\t0%\t0.41\t1,025%\n",
      "$14.00\t1,499\t0.14\t0.33\t0.05\t0.14\t0.00\t0%\t0.28\t560%\n",
      "$14.50\t1,560\t0.11\t0.78\t0.03\t0.11\t0.00\t0%\t0.75\t2,500%\n",
      "$15.00\t857\t0.07\t0.30\t0.04\t0.07\t0.00\t0%\t0.26\t650%\n",
      "2020-08-07\t*..*..*..*..*..*..\n",
      "Strike\tVolume\tOpen\tHigh\tLow\tClose\tOCDiff\tOCP\tHLDiff\tHLPercent\n",
      "$11.50\t96\t1.30\t2.23\t0.32\t1.30\t0.00\t0%\t1.91\t597%\n",
      "$12.50\t145\t0.71\t1.95\t0.16\t0.71\t0.00\t0%\t1.79\t1,119%\n",
      "$14.00\t159\t0.31\t1.21\t0.10\t0.31\t0.00\t0%\t1.11\t1,110%\n",
      "$15.00\t128\t0.15\t1.26\t0.09\t0.15\t0.00\t0%\t1.17\t1,300%\n",
      "$16.00\t81\t0.09\t1.13\t0.09\t0.09\t0.00\t0%\t1.04\t1,156%\n",
      "2020-08-14\t*..*..*..*..*..*..\n",
      "Strike\tVolume\tOpen\tHigh\tLow\tClose\tOCDiff\tOCP\tHLDiff\tHLPercent\n",
      "$12.00\t105\t1.07\t1.56\t0.28\t1.07\t0.00\t0%\t1.28\t457%\n",
      "$13.00\t63\t0.66\t1.24\t0.15\t0.66\t0.00\t0%\t1.09\t727%\n",
      "$13.50\t72\t0.54\t1.24\t0.13\t0.54\t0.00\t0%\t1.11\t854%\n",
      "$14.00\t294\t0.40\t1.13\t0.10\t0.40\t0.00\t0%\t1.03\t1,030%\n",
      "$15.50\t97\t0.21\t0.30\t0.06\t0.21\t0.00\t0%\t0.24\t400%\n",
      "2020-08-21\t*..*..*..*..*..*..\n",
      "Strike\tVolume\tOpen\tHigh\tLow\tClose\tOCDiff\tOCP\tHLDiff\tHLPercent\n",
      "$7.00\t1,572\t5.35\t5.85\t2.00\t5.35\t0.00\t0%\t3.85\t193%\n",
      "$12.00\t1,142\t1.17\t1.86\t0.30\t1.17\t0.00\t0%\t1.56\t520%\n",
      "$13.00\t981\t0.75\t2.66\t0.19\t0.75\t0.00\t0%\t2.47\t1,300%\n",
      "$14.00\t2,175\t0.49\t2.62\t0.13\t0.51\t0.02\t4%\t2.49\t1,915%\n",
      "$15.00\t1,866\t0.32\t1.32\t0.08\t0.32\t0.00\t0%\t1.24\t1,550%\n"
     ]
    }
   ],
   "source": [
    "span = 'year'       \n",
    "df_expirationDates = rh.getStrikesOHLCChangesExpiration(symbol,expiration_dates,'call',span) "
   ]
  },
  {
   "cell_type": "code",
   "execution_count": 16,
   "metadata": {},
   "outputs": [
    {
     "data": {
      "text/plain": [
       "14.25"
      ]
     },
     "execution_count": 16,
     "metadata": {},
     "output_type": "execute_result"
    }
   ],
   "source": [
    "df_expirationDates.iloc[-1].high_price"
   ]
  },
  {
   "cell_type": "code",
   "execution_count": null,
   "metadata": {},
   "outputs": [],
   "source": []
  }
 ],
 "metadata": {
  "kernelspec": {
   "display_name": "Python 3",
   "language": "python",
   "name": "python3"
  },
  "language_info": {
   "codemirror_mode": {
    "name": "ipython",
    "version": 3
   },
   "file_extension": ".py",
   "mimetype": "text/x-python",
   "name": "python",
   "nbconvert_exporter": "python",
   "pygments_lexer": "ipython3",
   "version": "3.7.3"
  }
 },
 "nbformat": 4,
 "nbformat_minor": 4
}
