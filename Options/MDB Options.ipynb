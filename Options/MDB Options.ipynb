{
 "cells": [
  {
   "cell_type": "code",
   "execution_count": 127,
   "metadata": {},
   "outputs": [],
   "source": [
    "import plotly.graph_objs as go\n",
    "import plotly.figure_factory.utils as utils\n",
    "import pandas as pd\n",
    "from pymongo import MongoClient\n",
    "from datetime import datetime\n",
    "from dateutil import tz\n",
    "from_zone = tz.tzutc()\n",
    "to_zone = tz.tzlocal()\n",
    "def utcToLocal(strDate):\n",
    "    utc = datetime.strptime(strDate, '%Y-%m-%dT%H:%M:%SZ')\n",
    "    utc = utc.replace(tzinfo=from_zone)\n",
    "    return utc.astimezone(to_zone)\n",
    "\n",
    "client = MongoClient()\n",
    "db = client['robinhood_options']"
   ]
  },
  {
   "cell_type": "code",
   "execution_count": 128,
   "metadata": {},
   "outputs": [
    {
     "name": "stdout",
     "output_type": "stream",
     "text": [
      "RangeIndex(start=0, stop=21402, step=1)\n",
      "local.   2020-05-12 11:35:33-07:00\n"
     ]
    }
   ],
   "source": [
    "ticker = 'SDGR'\n",
    "df = pd.DataFrame(list(db[ticker].find({'chain_symbol': ticker})))\n",
    "print(df.index)\n",
    "\n",
    "local = utcToLocal(df.iloc[-1:].ticker_updated_at.values[-1])\n",
    "print('local.  ', local)"
   ]
  },
  {
   "cell_type": "code",
   "execution_count": 129,
   "metadata": {},
   "outputs": [],
   "source": [
    "df[['strike_price', 'last_trade_price','ticker_last_trade_price']] = df[['strike_price','last_trade_price' ,'ticker_last_trade_price']].apply(pd.to_numeric)\n",
    "df[['ticker_updated_at','updated_at']] = df[['ticker_updated_at','updated_at']].apply(pd.to_datetime)"
   ]
  },
  {
   "cell_type": "code",
   "execution_count": 130,
   "metadata": {},
   "outputs": [
    {
     "name": "stdout",
     "output_type": "stream",
     "text": [
      "{65.0, 35.0, 70.0, 40.0, 75.0, 45.0, 15.0, 17.5, 50.0, 20.0, 22.5, 55.0, 25.0, 60.0, 30.0}\n"
     ]
    }
   ],
   "source": [
    "print(set(df['strike_price']))"
   ]
  },
  {
   "cell_type": "code",
   "execution_count": 131,
   "metadata": {},
   "outputs": [],
   "source": [
    "#x = list(filter(lambda l: l['strike_price']==22.5,df))\n",
    "fdf = df[(df.strike_price == 55.00) & (df.type == 'call')]\n"
   ]
  },
  {
   "cell_type": "code",
   "execution_count": 132,
   "metadata": {},
   "outputs": [
    {
     "data": {
      "text/html": [
       "<div>\n",
       "<style scoped>\n",
       "    .dataframe tbody tr th:only-of-type {\n",
       "        vertical-align: middle;\n",
       "    }\n",
       "\n",
       "    .dataframe tbody tr th {\n",
       "        vertical-align: top;\n",
       "    }\n",
       "\n",
       "    .dataframe thead th {\n",
       "        text-align: right;\n",
       "    }\n",
       "</style>\n",
       "<table border=\"1\" class=\"dataframe\">\n",
       "  <thead>\n",
       "    <tr style=\"text-align: right;\">\n",
       "      <th></th>\n",
       "      <th>strike_price</th>\n",
       "      <th>volume</th>\n",
       "      <th>last_trade_price</th>\n",
       "      <th>break_even_price</th>\n",
       "      <th>ticker_last_trade_price</th>\n",
       "      <th>ticker_updated_at</th>\n",
       "    </tr>\n",
       "  </thead>\n",
       "  <tbody>\n",
       "    <tr>\n",
       "      <th>21273</th>\n",
       "      <td>55.0</td>\n",
       "      <td>33</td>\n",
       "      <td>17.10</td>\n",
       "      <td>72.700000</td>\n",
       "      <td>58.51</td>\n",
       "      <td>2020-05-12 18:20:37+00:00</td>\n",
       "    </tr>\n",
       "    <tr>\n",
       "      <th>21294</th>\n",
       "      <td>55.0</td>\n",
       "      <td>462</td>\n",
       "      <td>4.83</td>\n",
       "      <td>60.050000</td>\n",
       "      <td>58.69</td>\n",
       "      <td>2020-05-12 18:35:21+00:00</td>\n",
       "    </tr>\n",
       "    <tr>\n",
       "      <th>21339</th>\n",
       "      <td>55.0</td>\n",
       "      <td>251</td>\n",
       "      <td>8.80</td>\n",
       "      <td>64.000000</td>\n",
       "      <td>58.69</td>\n",
       "      <td>2020-05-12 18:35:23+00:00</td>\n",
       "    </tr>\n",
       "    <tr>\n",
       "      <th>21369</th>\n",
       "      <td>55.0</td>\n",
       "      <td>0</td>\n",
       "      <td>10.50</td>\n",
       "      <td>69.150000</td>\n",
       "      <td>58.93</td>\n",
       "      <td>2020-05-12 18:35:30+00:00</td>\n",
       "    </tr>\n",
       "    <tr>\n",
       "      <th>21389</th>\n",
       "      <td>55.0</td>\n",
       "      <td>33</td>\n",
       "      <td>17.10</td>\n",
       "      <td>73.000000</td>\n",
       "      <td>58.93</td>\n",
       "      <td>2020-05-12 18:35:33+00:00</td>\n",
       "    </tr>\n",
       "  </tbody>\n",
       "</table>\n",
       "</div>"
      ],
      "text/plain": [
       "       strike_price  volume  last_trade_price break_even_price  \\\n",
       "21273          55.0      33             17.10        72.700000   \n",
       "21294          55.0     462              4.83        60.050000   \n",
       "21339          55.0     251              8.80        64.000000   \n",
       "21369          55.0       0             10.50        69.150000   \n",
       "21389          55.0      33             17.10        73.000000   \n",
       "\n",
       "       ticker_last_trade_price         ticker_updated_at  \n",
       "21273                    58.51 2020-05-12 18:20:37+00:00  \n",
       "21294                    58.69 2020-05-12 18:35:21+00:00  \n",
       "21339                    58.69 2020-05-12 18:35:23+00:00  \n",
       "21369                    58.93 2020-05-12 18:35:30+00:00  \n",
       "21389                    58.93 2020-05-12 18:35:33+00:00  "
      ]
     },
     "execution_count": 132,
     "metadata": {},
     "output_type": "execute_result"
    }
   ],
   "source": [
    "fdf[['strike_price','volume','last_trade_price','break_even_price','ticker_last_trade_price', 'ticker_updated_at']].tail()"
   ]
  },
  {
   "cell_type": "code",
   "execution_count": null,
   "metadata": {},
   "outputs": [],
   "source": [
    "print(df.columns)\n",
    "'adjusted_mark_price', 'ask_price', 'ask_size', 'bid_price',\n",
    "       'bid_size', 'break_even_price', 'chain_id', 'chain_symbol',\n",
    "       'chance_of_profit_long', 'chance_of_profit_short', 'created_at',\n",
    "       'delta', 'expiration_date', 'gamma', 'high_fill_rate_buy_price',\n",
    "       'high_fill_rate_sell_price', 'high_price', 'id', 'implied_volatility',\n",
    "       'instrument', 'issue_date', 'last_trade_price', 'last_trade_size',\n",
    "       'low_fill_rate_buy_price', 'low_fill_rate_sell_price', 'low_price',\n",
    "       'mark_price', 'min_ticks', 'open_interest', 'previous_close_date',\n",
    "       'previous_close_price', 'rho', 'rhs_tradability', 'state',\n",
    "       'strike_price', 'theta', 'ticker_last_trade_price', 'ticker_updated_at',\n",
    "       'tradability', 'type', 'updated_at', 'url', 'vega', 'volume'"
   ]
  }
 ],
 "metadata": {
  "kernelspec": {
   "display_name": "Python 3",
   "language": "python",
   "name": "python3"
  },
  "language_info": {
   "codemirror_mode": {
    "name": "ipython",
    "version": 3
   },
   "file_extension": ".py",
   "mimetype": "text/x-python",
   "name": "python",
   "nbconvert_exporter": "python",
   "pygments_lexer": "ipython3",
   "version": "3.7.3"
  }
 },
 "nbformat": 4,
 "nbformat_minor": 2
}
