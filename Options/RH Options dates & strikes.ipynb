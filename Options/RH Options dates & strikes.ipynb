{
 "cells": [
  {
   "cell_type": "code",
   "execution_count": 1,
   "metadata": {},
   "outputs": [],
   "source": [
    "import robin_stocks as r\n",
    "from datetime import datetime\n",
    "from dateutil import tz\n",
    "import pandas as pd\n",
    "from_zone = tz.tzutc()\n",
    "to_zone = tz.tzlocal()\n",
    "def utcToLocal(strDate):\n",
    "    utc = datetime.strptime(strDate, '%Y-%m-%dT%H:%M:%SZ')\n",
    "    utc = utc.replace(tzinfo=from_zone)\n",
    "    return utc.astimezone(to_zone)\n",
    "\n",
    "import configparser\n",
    "config = configparser.RawConfigParser()\n",
    "configFilePath = '/Users/philipmassey/.tokens/robinhood.cfg'\n",
    "config.read(configFilePath)\n",
    "rhuser = config.get('login', 'user')\n",
    "rhpwd = config.get('login', 'pwd')\n",
    "login = r.login(rhuser,rhpwd)\n"
   ]
  },
  {
   "cell_type": "code",
   "execution_count": 4,
   "metadata": {},
   "outputs": [
    {
     "name": "stdout",
     "output_type": "stream",
     "text": [
      "['2020-05-15', '2020-06-19', '2020-09-18', '2020-12-18']\n"
     ]
    }
   ],
   "source": [
    "symbol = 'SDGR'\n",
    "expiration_dates = r.get_chains(symbol)['expiration_dates']\n",
    "print(expiration_dates)\n",
    "optionData = r.find_options_for_list_of_stocks_by_expiration_date([symbol], expirationDate=expiration_dates[0],optionType='call') \n",
    "df = pd.DataFrame((filter(lambda x:x['volume']>0,optionData)))\n",
    "strike_prices = set(df.strike_price)\n"
   ]
  },
  {
   "cell_type": "code",
   "execution_count": 5,
   "metadata": {},
   "outputs": [
    {
     "data": {
      "text/html": [
       "<div>\n",
       "<style scoped>\n",
       "    .dataframe tbody tr th:only-of-type {\n",
       "        vertical-align: middle;\n",
       "    }\n",
       "\n",
       "    .dataframe tbody tr th {\n",
       "        vertical-align: top;\n",
       "    }\n",
       "\n",
       "    .dataframe thead th {\n",
       "        text-align: right;\n",
       "    }\n",
       "</style>\n",
       "<table border=\"1\" class=\"dataframe\">\n",
       "  <thead>\n",
       "    <tr style=\"text-align: right;\">\n",
       "      <th></th>\n",
       "      <th>updated_at</th>\n",
       "      <th>volume</th>\n",
       "      <th>strike_price</th>\n",
       "    </tr>\n",
       "  </thead>\n",
       "  <tbody>\n",
       "    <tr>\n",
       "      <th>0</th>\n",
       "      <td>2020-04-28T00:11:58.497763Z</td>\n",
       "      <td>555</td>\n",
       "      <td>70.0000</td>\n",
       "    </tr>\n",
       "    <tr>\n",
       "      <th>1</th>\n",
       "      <td>2020-04-28T00:11:58.497647Z</td>\n",
       "      <td>306</td>\n",
       "      <td>75.0000</td>\n",
       "    </tr>\n",
       "    <tr>\n",
       "      <th>2</th>\n",
       "      <td>2020-03-24T04:23:03.911416Z</td>\n",
       "      <td>1144</td>\n",
       "      <td>65.0000</td>\n",
       "    </tr>\n",
       "    <tr>\n",
       "      <th>3</th>\n",
       "      <td>2020-03-24T04:23:03.911306Z</td>\n",
       "      <td>2026</td>\n",
       "      <td>60.0000</td>\n",
       "    </tr>\n",
       "    <tr>\n",
       "      <th>4</th>\n",
       "      <td>2020-03-24T04:23:03.911195Z</td>\n",
       "      <td>659</td>\n",
       "      <td>55.0000</td>\n",
       "    </tr>\n",
       "    <tr>\n",
       "      <th>5</th>\n",
       "      <td>2020-03-21T08:26:27.917103Z</td>\n",
       "      <td>140</td>\n",
       "      <td>50.0000</td>\n",
       "    </tr>\n",
       "    <tr>\n",
       "      <th>6</th>\n",
       "      <td>2020-03-21T08:26:27.916842Z</td>\n",
       "      <td>28</td>\n",
       "      <td>40.0000</td>\n",
       "    </tr>\n",
       "    <tr>\n",
       "      <th>7</th>\n",
       "      <td>2020-03-21T08:26:27.916649Z</td>\n",
       "      <td>123</td>\n",
       "      <td>45.0000</td>\n",
       "    </tr>\n",
       "  </tbody>\n",
       "</table>\n",
       "</div>"
      ],
      "text/plain": [
       "                    updated_at  volume strike_price\n",
       "0  2020-04-28T00:11:58.497763Z     555      70.0000\n",
       "1  2020-04-28T00:11:58.497647Z     306      75.0000\n",
       "2  2020-03-24T04:23:03.911416Z    1144      65.0000\n",
       "3  2020-03-24T04:23:03.911306Z    2026      60.0000\n",
       "4  2020-03-24T04:23:03.911195Z     659      55.0000\n",
       "5  2020-03-21T08:26:27.917103Z     140      50.0000\n",
       "6  2020-03-21T08:26:27.916842Z      28      40.0000\n",
       "7  2020-03-21T08:26:27.916649Z     123      45.0000"
      ]
     },
     "execution_count": 5,
     "metadata": {},
     "output_type": "execute_result"
    }
   ],
   "source": [
    "df[['updated_at','volume','strike_price']]"
   ]
  },
  {
   "cell_type": "code",
   "execution_count": null,
   "metadata": {},
   "outputs": [],
   "source": []
  }
 ],
 "metadata": {
  "kernelspec": {
   "display_name": "Python 3",
   "language": "python",
   "name": "python3"
  },
  "language_info": {
   "codemirror_mode": {
    "name": "ipython",
    "version": 3
   },
   "file_extension": ".py",
   "mimetype": "text/x-python",
   "name": "python",
   "nbconvert_exporter": "python",
   "pygments_lexer": "ipython3",
   "version": "3.7.3"
  }
 },
 "nbformat": 4,
 "nbformat_minor": 2
}
