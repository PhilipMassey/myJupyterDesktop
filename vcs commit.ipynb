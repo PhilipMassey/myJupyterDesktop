{
 "cells": [
  {
   "cell_type": "code",
   "execution_count": 12,
   "metadata": {},
   "outputs": [
    {
     "name": "stdout",
     "output_type": "stream",
     "text": [
      "On branch master\r\n",
      "Your branch is up to date with 'origin/master'.\r\n",
      "\r\n",
      "Changes not staged for commit:\r\n",
      "  (use \"git add <file>...\" to update what will be committed)\r\n",
      "  (use \"git checkout -- <file>...\" to discard changes in working directory)\r\n",
      "  (commit or discard the untracked or modified content in submodules)\r\n",
      "\r\n",
      "\t\u001b[31mmodified:   stock market/machinelearning\u001b[m (modified content, untracked content)\r\n",
      "\r\n",
      "no changes added to commit (use \"git add\" and/or \"git commit -a\")\r\n"
     ]
    }
   ],
   "source": [
    "#!pwd\n",
    "!git add --all\n",
    "!git status\n",
    "#!echo 'stock market/machinelearning' >> .gitignore"
   ]
  },
  {
   "cell_type": "code",
   "execution_count": 13,
   "metadata": {},
   "outputs": [
    {
     "name": "stdout",
     "output_type": "stream",
     "text": [
      "On branch master\n",
      "Your branch is up to date with 'origin/master'.\n",
      "\n",
      "Changes not staged for commit:\n",
      "\t\u001b[31mmodified:   stock market/machinelearning\u001b[m (modified content, untracked content)\n",
      "\n",
      "no changes added to commit\n",
      "Everything up-to-date\n"
     ]
    }
   ],
   "source": [
    "#!ls -l /Users/philipmassey/Library/Mobile\\ Documents/com~apple~CloudDocs/jupyter\n",
    "!git commit -a -m'plots'\n",
    "!git push\n"
   ]
  },
  {
   "cell_type": "code",
   "execution_count": null,
   "metadata": {},
   "outputs": [],
   "source": [
    "# SET UP\n",
    "!ll /Users/philipmassey/Library/Mobile\\ Documents/com~apple~CloudDocs/jupyter\n",
    "\n",
    "`# MyJupyterDesktop\n",
    "echo 'python-deepdive' >> .gitignore\n",
    "\n",
    "echo \"# myJupyterDesktop\" >> README.md\n",
    "git init\n",
    "git add README.md\n",
    "git commit -m \"first commit\"\n",
    "git remote add origin https://github.com/PhilipMassey/myJupyterDesktop.git\n",
    "git push -u origin master pjm/GH*\n",
    "\n",
    "git add --all\n",
    "git commit -m \"add all\"\n",
    "git push -u origin master\n",
    "\n",
    "# changes\n",
    "git commit -a -m'options changes'\n",
    "git push\n"
   ]
  }
 ],
 "metadata": {
  "kernelspec": {
   "display_name": "Python 3",
   "language": "python",
   "name": "python3"
  },
  "language_info": {
   "codemirror_mode": {
    "name": "ipython",
    "version": 3
   },
   "file_extension": ".py",
   "mimetype": "text/x-python",
   "name": "python",
   "nbconvert_exporter": "python",
   "pygments_lexer": "ipython3",
   "version": "3.7.3"
  }
 },
 "nbformat": 4,
 "nbformat_minor": 2
}
