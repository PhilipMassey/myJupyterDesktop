{
 "cells": [
  {
   "cell_type": "code",
   "execution_count": null,
   "metadata": {},
   "outputs": [
    {
     "name": "stdout",
     "output_type": "stream",
     "text": [
      "/Users/philipmassey/Library/Mobile Documents/com~apple~CloudDocs/jupyter\n",
      "On branch master\n",
      "Your branch is up to date with 'origin/master'.\n",
      "\n",
      "Untracked files:\n",
      "\t\u001b[31mExamples/Plots/Barcharts.ipynb\u001b[m\n",
      "\t\u001b[31mExamples/Plots/Untitled1.ipynb\u001b[m\n",
      "\t\u001b[31mExamples/Plots/mplfinance plot.ipynb\u001b[m\n",
      "\t\u001b[31mExamples/env var.ipynb\u001b[m\n",
      "\t\u001b[31mExamples/web scraping.ipynb\u001b[m\n",
      "\t\u001b[31mOptions/Backup/\u001b[m\n",
      "\t\u001b[31mOptions/RH Options high low changes.ipynb\u001b[m\n",
      "\t\u001b[31mOptions/RH Options plot breakeven.ipynb\u001b[m\n",
      "\t\u001b[31mOptions/Working.ipynb\u001b[m\n",
      "\t\u001b[31mRobinhood/\u001b[m\n",
      "\t\u001b[31mstock market/IEX/iexfinance.ipynb\u001b[m\n",
      "\t\u001b[31mstock market/Quandl/\u001b[m\n",
      "\t\u001b[31mstock market/code examples/backtest.ipynb\u001b[m\n",
      "\t\u001b[31mvcs commit.ipynb\u001b[m\n",
      "\n",
      "nothing added to commit but untracked files present\n",
      "Username for 'https://github.com': "
     ]
    }
   ],
   "source": [
    "#!ls -l /Users/philipmassey/Library/Mobile\\ Documents/com~apple~CloudDocs/jupyter\n",
    "!pwd\n",
    "!git commit -a -m'options'\n",
    "!git push\n"
   ]
  },
  {
   "cell_type": "code",
   "execution_count": null,
   "metadata": {},
   "outputs": [],
   "source": [
    "# SET UP\n",
    "!ll /Users/philipmassey/Library/Mobile\\ Documents/com~apple~CloudDocs/jupyter\n",
    "\n",
    "`# MyJupyterDesktop\n",
    "echo 'python-deepdive' >> .gitignore\n",
    "\n",
    "echo \"# myJupyterDesktop\" >> README.md\n",
    "git init\n",
    "git add README.md\n",
    "git commit -m \"first commit\"\n",
    "git remote add origin https://github.com/PhilipMassey/myJupyterDesktop.git\n",
    "git push -u origin master pjm/GH*\n",
    "\n",
    "git add --all\n",
    "git commit -m \"add all\"\n",
    "git push -u origin master\n",
    "\n",
    "# changes\n",
    "git commit -a -m'heres why'\n",
    "git push\n"
   ]
  }
 ],
 "metadata": {
  "kernelspec": {
   "display_name": "Python 3",
   "language": "python",
   "name": "python3"
  },
  "language_info": {
   "codemirror_mode": {
    "name": "ipython",
    "version": 3
   },
   "file_extension": ".py",
   "mimetype": "text/x-python",
   "name": "python",
   "nbconvert_exporter": "python",
   "pygments_lexer": "ipython3",
   "version": "3.7.3"
  }
 },
 "nbformat": 4,
 "nbformat_minor": 2
}
