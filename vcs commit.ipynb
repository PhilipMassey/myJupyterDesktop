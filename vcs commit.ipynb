{
 "cells": [
  {
   "cell_type": "code",
   "execution_count": 3,
   "metadata": {},
   "outputs": [
    {
     "name": "stdout",
     "output_type": "stream",
     "text": [
      "On branch master\r\n",
      "Your branch is up to date with 'origin/master'.\r\n",
      "\r\n",
      "Changes to be committed:\r\n",
      "  (use \"git reset HEAD <file>...\" to unstage)\r\n",
      "\r\n",
      "\t\u001b[32mmodified:   vcs commit.ipynb\u001b[m\r\n",
      "\r\n",
      "Changes not staged for commit:\r\n",
      "  (use \"git add <file>...\" to update what will be committed)\r\n",
      "  (use \"git checkout -- <file>...\" to discard changes in working directory)\r\n",
      "  (commit or discard the untracked or modified content in submodules)\r\n",
      "\r\n",
      "\t\u001b[31mmodified:   stock market/machinelearning\u001b[m (modified content, untracked content)\r\n",
      "\r\n"
     ]
    }
   ],
   "source": [
    "#!pwd\n",
    "!git add --all\n",
    "!git status\n",
    "#!echo 'stock market/machinelearning' >> .gitignore"
   ]
  },
  {
   "cell_type": "code",
   "execution_count": 2,
   "metadata": {},
   "outputs": [
    {
     "name": "stdout",
     "output_type": "stream",
     "text": [
      "[master 991ada1] plots\n",
      " 23 files changed, 28343 insertions(+), 7327 deletions(-)\n",
      " create mode 100644 Examples/DataFrame/Untitled.ipynb\n",
      " create mode 100644 Examples/Untitled.ipynb\n",
      " create mode 100644 MongoDb/pickle stock.ipynb\n",
      " delete mode 100644 Plots/Percent Change Bubble Chart.ipynb\n",
      " create mode 100644 Plots/Portfolio Barcharts.ipynb\n",
      " rewrite Plots/Support and Resistance.ipynb (95%)\n",
      " delete mode 100644 Plots/name_sector_industry.pkl\n",
      " rename Plots/{Percent Change Bubble Chart-Copy1.ipynb => natural e/linspace.ipynb} (97%)\n",
      " create mode 100644 Plots/portfolio bubble.ipynb\n",
      " create mode 100644 Plots/portfolios_barchart.ipynb\n",
      " create mode 100644 Robinhood/Portfolio Earnings.ipynb\n",
      " rewrite Robinhood/RH Earnings.ipynb (92%)\n",
      " create mode 100644 date.ipynb\n",
      " create mode 100644 stock market/Fidelity/Calculate.ipynb\n",
      " create mode 100644 stock market/yfinance/yfinance price.ipynb\n",
      " rewrite vcs commit.ipynb (74%)\n",
      "Enumerating objects: 54, done.\n",
      "Counting objects: 100% (54/54), done.\n",
      "Delta compression using up to 12 threads\n",
      "Compressing objects: 100% (32/32), done.\n",
      "Writing objects: 100% (34/34), 1.14 MiB | 261.00 KiB/s, done.\n",
      "Total 34 (delta 19), reused 0 (delta 0)\n",
      "remote: Resolving deltas: 100% (19/19), completed with 14 local objects.\u001b[K\n",
      "To https://github.com/PhilipMassey/myJupyterDesktop.git\n",
      "   8ab7ccf..991ada1  master -> master\n"
     ]
    }
   ],
   "source": [
    "#!ls -l /Users/philipmassey/Library/Mobile\\ Documents/com~apple~CloudDocs/jupyter\n",
    "!git commit -a -m'plots'\n",
    "!git push\n"
   ]
  },
  {
   "cell_type": "code",
   "execution_count": null,
   "metadata": {},
   "outputs": [],
   "source": [
    "# SET UP\n",
    "!ll /Users/philipmassey/Library/Mobile\\ Documents/com~apple~CloudDocs/jupyter\n",
    "\n",
    "`# MyJupyterDesktop\n",
    "echo 'python-deepdive' >> .gitignore\n",
    "\n",
    "echo \"# myJupyterDesktop\" >> README.md\n",
    "git init\n",
    "git add README.md\n",
    "git commit -m \"first commit\"\n",
    "git remote add origin https://github.com/PhilipMassey/myJupyterDesktop.git\n",
    "git push -u origin master pjm/GH*\n",
    "\n",
    "git add --all\n",
    "git commit -m \"add all\"\n",
    "git push -u origin master\n",
    "\n",
    "# changes\n",
    "git commit -a -m'options changes'\n",
    "git push\n"
   ]
  }
 ],
 "metadata": {
  "kernelspec": {
   "display_name": "Python 3",
   "language": "python",
   "name": "python3"
  },
  "language_info": {
   "codemirror_mode": {
    "name": "ipython",
    "version": 3
   },
   "file_extension": ".py",
   "mimetype": "text/x-python",
   "name": "python",
   "nbconvert_exporter": "python",
   "pygments_lexer": "ipython3",
   "version": "3.7.3"
  }
 },
 "nbformat": 4,
 "nbformat_minor": 2
}
