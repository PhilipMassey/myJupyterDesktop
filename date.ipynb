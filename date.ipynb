{
 "cells": [
  {
   "cell_type": "code",
   "execution_count": 23,
   "metadata": {},
   "outputs": [
    {
     "name": "stdout",
     "output_type": "stream",
     "text": [
      "2020-10-20 2020-11-04\n"
     ]
    },
    {
     "data": {
      "text/plain": [
       "1"
      ]
     },
     "execution_count": 23,
     "metadata": {},
     "output_type": "execute_result"
    }
   ],
   "source": [
    "from datetime import datetime\n",
    "import pandas as pd\n",
    "\n",
    "ndays = 10\n",
    "now = datetime.now()\n",
    "start = now - pd.tseries.offsets.BusinessDay(n=(ndays+1))\n",
    "end = now - pd.tseries.offsets.BusinessDay(n=0)\n",
    "start = '{:%Y-%m-%d}'.format(start)\n",
    "end = '{:%Y-%m-%d}'.format(end)\n",
    "print(start,end)\n",
    "\n",
    "datestr = start\n",
    "start = datetime.strptime(datestr, \"%Y-%m-%d\")\n",
    "import numpy as np\n",
    "np.busday_count('2018-04-10', '2018-04-11')"
   ]
  },
  {
   "cell_type": "code",
   "execution_count": 27,
   "metadata": {},
   "outputs": [
    {
     "data": {
      "text/plain": [
       "2"
      ]
     },
     "execution_count": 27,
     "metadata": {},
     "output_type": "execute_result"
    }
   ],
   "source": [
    "def getNDaysFromDateStr(ymd_date):\n",
    "    end = now - pd.tseries.offsets.BusinessDay(n=0)\n",
    "    end = '{:%Y-%m-%d}'.format(end)\n",
    "    import numpy as np\n",
    "    return np.busday_count(ymd_date, end)\n",
    "ymd_date = '2020-11-02'\n",
    "getNDaysFromDateStr(ymd_date)"
   ]
  }
 ],
 "metadata": {
  "kernelspec": {
   "display_name": "Python 3",
   "language": "python",
   "name": "python3"
  },
  "language_info": {
   "codemirror_mode": {
    "name": "ipython",
    "version": 3
   },
   "file_extension": ".py",
   "mimetype": "text/x-python",
   "name": "python",
   "nbconvert_exporter": "python",
   "pygments_lexer": "ipython3",
   "version": "3.7.3"
  }
 },
 "nbformat": 4,
 "nbformat_minor": 2
}
