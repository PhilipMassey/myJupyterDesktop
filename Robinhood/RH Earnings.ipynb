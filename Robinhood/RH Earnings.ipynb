{
 "cells": [
  {
   "cell_type": "markdown",
   "metadata": {},
   "source": [
    "# RH Earnings"
   ]
  },
  {
   "cell_type": "code",
   "execution_count": 9,
   "metadata": {},
   "outputs": [
    {
     "name": "stdout",
     "output_type": "stream",
     "text": [
      "Python 3.7.3 (v3.7.3:ef4ec6ed12, Mar 25 2019, 16:52:21) \n",
      "[Clang 6.0 (clang-600.0.57)] on darwin\n"
     ]
    }
   ],
   "source": [
    "import sys; print('Python %s on %s' % (sys.version, sys.platform))\n",
    "sys.path.extend(['/Users/philipmassey/PycharmProjects/stock_market'])\n",
    "import pandas as pd\n",
    "import robin_stocks as r\n",
    "import rh\n",
    "r = rh.r\n",
    "        "
   ]
  },
  {
   "cell_type": "code",
   "execution_count": 10,
   "metadata": {},
   "outputs": [
    {
     "name": "stdout",
     "output_type": "stream",
     "text": [
      "No Options\n"
     ]
    }
   ],
   "source": [
    "df_options = pd.DataFrame(r.options.get_open_option_positions())\n",
    "if len(df_options) == 0: \n",
    "    print('No Options')  \n",
    "else:\n",
    "    positions = df_options['chain_symbol']\n",
    "    #positions = ['MOMO']\n",
    "    rh.getEarnings(positions)"
   ]
  },
  {
   "cell_type": "code",
   "execution_count": 3,
   "metadata": {},
   "outputs": [
    {
     "data": {
      "text/html": [
       "<div>\n",
       "<style scoped>\n",
       "    .dataframe tbody tr th:only-of-type {\n",
       "        vertical-align: middle;\n",
       "    }\n",
       "\n",
       "    .dataframe tbody tr th {\n",
       "        vertical-align: top;\n",
       "    }\n",
       "\n",
       "    .dataframe thead th {\n",
       "        text-align: right;\n",
       "    }\n",
       "</style>\n",
       "<table border=\"1\" class=\"dataframe\">\n",
       "  <thead>\n",
       "    <tr style=\"text-align: right;\">\n",
       "      <th></th>\n",
       "      <th>chain_symbol</th>\n",
       "      <th>average_price</th>\n",
       "      <th>quantity</th>\n",
       "    </tr>\n",
       "  </thead>\n",
       "  <tbody>\n",
       "    <tr>\n",
       "      <th>0</th>\n",
       "      <td>CLSK</td>\n",
       "      <td>250.0000</td>\n",
       "      <td>1.0000</td>\n",
       "    </tr>\n",
       "  </tbody>\n",
       "</table>\n",
       "</div>"
      ],
      "text/plain": [
       "  chain_symbol average_price quantity\n",
       "0         CLSK      250.0000   1.0000"
      ]
     },
     "execution_count": 3,
     "metadata": {},
     "output_type": "execute_result"
    }
   ],
   "source": [
    "df_options[['chain_symbol','average_price','quantity']]"
   ]
  },
  {
   "cell_type": "code",
   "execution_count": 4,
   "metadata": {},
   "outputs": [
    {
     "data": {
      "text/plain": [
       "Index(['account', 'average_price', 'chain_id', 'chain_symbol', 'id', 'option',\n",
       "       'type', 'pending_buy_quantity', 'pending_expired_quantity',\n",
       "       'pending_expiration_quantity', 'pending_exercise_quantity',\n",
       "       'pending_assignment_quantity', 'pending_sell_quantity', 'quantity',\n",
       "       'intraday_quantity', 'intraday_average_open_price', 'created_at',\n",
       "       'trade_value_multiplier', 'updated_at', 'url', 'option_id'],\n",
       "      dtype='object')"
      ]
     },
     "execution_count": 4,
     "metadata": {},
     "output_type": "execute_result"
    }
   ],
   "source": [
    "df_options.columns"
   ]
  },
  {
   "cell_type": "code",
   "execution_count": 5,
   "metadata": {},
   "outputs": [
    {
     "data": {
      "text/plain": [
       "Index(['id', 'chain', 'symbol', 'strategy', 'average_open_price', 'legs',\n",
       "       'quantity', 'intraday_average_open_price', 'intraday_quantity',\n",
       "       'direction', 'intraday_direction', 'trade_value_multiplier',\n",
       "       'created_at', 'updated_at'],\n",
       "      dtype='object')"
      ]
     },
     "execution_count": 5,
     "metadata": {},
     "output_type": "execute_result"
    }
   ],
   "source": [
    "df = pd.DataFrame(r.get_aggregate_positions())\n",
    "df.columns"
   ]
  },
  {
   "cell_type": "code",
   "execution_count": 6,
   "metadata": {},
   "outputs": [
    {
     "data": {
      "text/plain": [
       "Index(['id', 'chain', 'symbol', 'strategy', 'average_open_price', 'legs',\n",
       "       'quantity', 'intraday_average_open_price', 'intraday_quantity',\n",
       "       'direction', 'intraday_direction', 'trade_value_multiplier',\n",
       "       'created_at', 'updated_at'],\n",
       "      dtype='object')"
      ]
     },
     "execution_count": 6,
     "metadata": {},
     "output_type": "execute_result"
    }
   ],
   "source": [
    "df.columns"
   ]
  },
  {
   "cell_type": "code",
   "execution_count": 44,
   "metadata": {},
   "outputs": [
    {
     "data": {
      "text/plain": [
       "[{'account': 'https://api.robinhood.com/accounts/5QU67573/',\n",
       "  'average_price': '1360.0000',\n",
       "  'chain_id': 'faab7410-5f53-4792-87c6-29b72a4e1ab4',\n",
       "  'chain_symbol': 'MPWR',\n",
       "  'id': 'b4d49167-c7b9-4d04-b57a-6cd9bb0af21b',\n",
       "  'option': 'https://api.robinhood.com/options/instruments/4cb2cf25-3936-4712-9a4c-b041f22fd2fe/',\n",
       "  'type': 'long',\n",
       "  'pending_buy_quantity': '0.0000',\n",
       "  'pending_expired_quantity': '0.0000',\n",
       "  'pending_expiration_quantity': '0.0000',\n",
       "  'pending_exercise_quantity': '0.0000',\n",
       "  'pending_assignment_quantity': '0.0000',\n",
       "  'pending_sell_quantity': '0.0000',\n",
       "  'quantity': '1.0000',\n",
       "  'intraday_quantity': '1.0000',\n",
       "  'intraday_average_open_price': '1360.0000',\n",
       "  'created_at': '2020-05-21T15:36:30.576357Z',\n",
       "  'trade_value_multiplier': '100.0000',\n",
       "  'updated_at': '2020-05-21T15:43:37.258812Z',\n",
       "  'url': 'https://api.robinhood.com/options/positions/b4d49167-c7b9-4d04-b57a-6cd9bb0af21b/',\n",
       "  'option_id': '4cb2cf25-3936-4712-9a4c-b041f22fd2fe'},\n",
       " {'account': 'https://api.robinhood.com/accounts/5QU67573/',\n",
       "  'average_price': '200.0000',\n",
       "  'chain_id': '03f410ce-59e1-47ab-8c33-fc558815f7c9',\n",
       "  'chain_symbol': 'SWKS',\n",
       "  'id': '5f31df9c-5f91-4f9e-ae4a-9cc1c44e7348',\n",
       "  'option': 'https://api.robinhood.com/options/instruments/07a18388-9bd8-4fdf-821c-c4776b6eba76/',\n",
       "  'type': 'long',\n",
       "  'pending_buy_quantity': '0.0000',\n",
       "  'pending_expired_quantity': '0.0000',\n",
       "  'pending_expiration_quantity': '0.0000',\n",
       "  'pending_exercise_quantity': '0.0000',\n",
       "  'pending_assignment_quantity': '0.0000',\n",
       "  'pending_sell_quantity': '0.0000',\n",
       "  'quantity': '5.0000',\n",
       "  'intraday_quantity': '5.0000',\n",
       "  'intraday_average_open_price': '200.0000',\n",
       "  'created_at': '2020-05-21T15:35:15.623679Z',\n",
       "  'trade_value_multiplier': '100.0000',\n",
       "  'updated_at': '2020-05-21T15:35:16.609575Z',\n",
       "  'url': 'https://api.robinhood.com/options/positions/5f31df9c-5f91-4f9e-ae4a-9cc1c44e7348/',\n",
       "  'option_id': '07a18388-9bd8-4fdf-821c-c4776b6eba76'},\n",
       " {'account': 'https://api.robinhood.com/accounts/5QU67573/',\n",
       "  'average_price': '124.1667',\n",
       "  'chain_id': 'd981e14f-9f7f-43b4-aca3-8ca850219a32',\n",
       "  'chain_symbol': 'NPTN',\n",
       "  'id': '57bcb84c-ac22-4702-b69f-e379087864e6',\n",
       "  'option': 'https://api.robinhood.com/options/instruments/d1727192-01f5-41b8-89ad-28ab4a3780fe/',\n",
       "  'type': 'long',\n",
       "  'pending_buy_quantity': '0.0000',\n",
       "  'pending_expired_quantity': '0.0000',\n",
       "  'pending_expiration_quantity': '0.0000',\n",
       "  'pending_exercise_quantity': '0.0000',\n",
       "  'pending_assignment_quantity': '0.0000',\n",
       "  'pending_sell_quantity': '0.0000',\n",
       "  'quantity': '6.0000',\n",
       "  'intraday_quantity': '6.0000',\n",
       "  'intraday_average_open_price': '124.1667',\n",
       "  'created_at': '2020-05-21T15:03:03.537092Z',\n",
       "  'trade_value_multiplier': '100.0000',\n",
       "  'updated_at': '2020-05-21T15:38:44.218820Z',\n",
       "  'url': 'https://api.robinhood.com/options/positions/57bcb84c-ac22-4702-b69f-e379087864e6/',\n",
       "  'option_id': 'd1727192-01f5-41b8-89ad-28ab4a3780fe'},\n",
       " {'account': 'https://api.robinhood.com/accounts/5QU67573/',\n",
       "  'average_price': '296.2500',\n",
       "  'chain_id': '6235ee32-7f88-42a7-9973-eb679aa0b43e',\n",
       "  'chain_symbol': 'MDLA',\n",
       "  'id': '69ac8795-42f7-45bf-9799-1c48851b4016',\n",
       "  'option': 'https://api.robinhood.com/options/instruments/1df22c05-42c2-4e32-a583-f8c8a0935dc5/',\n",
       "  'type': 'long',\n",
       "  'pending_buy_quantity': '0.0000',\n",
       "  'pending_expired_quantity': '0.0000',\n",
       "  'pending_expiration_quantity': '0.0000',\n",
       "  'pending_exercise_quantity': '0.0000',\n",
       "  'pending_assignment_quantity': '0.0000',\n",
       "  'pending_sell_quantity': '0.0000',\n",
       "  'quantity': '4.0000',\n",
       "  'intraday_quantity': '3.0000',\n",
       "  'intraday_average_open_price': '285.0000',\n",
       "  'created_at': '2020-05-20T18:02:36.751946Z',\n",
       "  'trade_value_multiplier': '100.0000',\n",
       "  'updated_at': '2020-05-21T15:32:45.699230Z',\n",
       "  'url': 'https://api.robinhood.com/options/positions/69ac8795-42f7-45bf-9799-1c48851b4016/',\n",
       "  'option_id': '1df22c05-42c2-4e32-a583-f8c8a0935dc5'},\n",
       " {'account': 'https://api.robinhood.com/accounts/5QU67573/',\n",
       "  'average_price': '115.0000',\n",
       "  'chain_id': '6235ee32-7f88-42a7-9973-eb679aa0b43e',\n",
       "  'chain_symbol': 'MDLA',\n",
       "  'id': '3e0182f2-4e25-44fa-b000-42ecbc90f741',\n",
       "  'option': 'https://api.robinhood.com/options/instruments/a76c5be1-92b0-49c5-bb7d-3886be784f6b/',\n",
       "  'type': 'long',\n",
       "  'pending_buy_quantity': '0.0000',\n",
       "  'pending_expired_quantity': '0.0000',\n",
       "  'pending_expiration_quantity': '0.0000',\n",
       "  'pending_exercise_quantity': '0.0000',\n",
       "  'pending_assignment_quantity': '0.0000',\n",
       "  'pending_sell_quantity': '0.0000',\n",
       "  'quantity': '1.0000',\n",
       "  'intraday_quantity': '0.0000',\n",
       "  'intraday_average_open_price': '0.0000',\n",
       "  'created_at': '2020-05-20T18:02:17.751477Z',\n",
       "  'trade_value_multiplier': '100.0000',\n",
       "  'updated_at': '2020-05-20T18:02:18.535239Z',\n",
       "  'url': 'https://api.robinhood.com/options/positions/3e0182f2-4e25-44fa-b000-42ecbc90f741/',\n",
       "  'option_id': 'a76c5be1-92b0-49c5-bb7d-3886be784f6b'},\n",
       " {'account': 'https://api.robinhood.com/accounts/5QU67573/',\n",
       "  'average_price': '1400.0000',\n",
       "  'chain_id': '09bf7f20-d53b-4f0c-891a-88944ef69c55',\n",
       "  'chain_symbol': 'PAYC',\n",
       "  'id': '9f2db7a1-036d-429f-b6b9-bc282cbffe76',\n",
       "  'option': 'https://api.robinhood.com/options/instruments/69910715-1667-40fa-b326-9ef836c8e7e4/',\n",
       "  'type': 'long',\n",
       "  'pending_buy_quantity': '0.0000',\n",
       "  'pending_expired_quantity': '0.0000',\n",
       "  'pending_expiration_quantity': '0.0000',\n",
       "  'pending_exercise_quantity': '0.0000',\n",
       "  'pending_assignment_quantity': '0.0000',\n",
       "  'pending_sell_quantity': '0.0000',\n",
       "  'quantity': '1.0000',\n",
       "  'intraday_quantity': '0.0000',\n",
       "  'intraday_average_open_price': '0.0000',\n",
       "  'created_at': '2020-05-20T17:33:33.958509Z',\n",
       "  'trade_value_multiplier': '100.0000',\n",
       "  'updated_at': '2020-05-20T17:33:54.153917Z',\n",
       "  'url': 'https://api.robinhood.com/options/positions/9f2db7a1-036d-429f-b6b9-bc282cbffe76/',\n",
       "  'option_id': '69910715-1667-40fa-b326-9ef836c8e7e4'},\n",
       " {'account': 'https://api.robinhood.com/accounts/5QU67573/',\n",
       "  'average_price': '560.0000',\n",
       "  'chain_id': '6b4eafa5-90db-42b0-af4e-3fdad8dd753c',\n",
       "  'chain_symbol': 'CRWD',\n",
       "  'id': '842a78ac-47c4-4814-bc87-0df669a4080b',\n",
       "  'option': 'https://api.robinhood.com/options/instruments/4f203993-a981-4d13-aa78-7bb9387a21b9/',\n",
       "  'type': 'long',\n",
       "  'pending_buy_quantity': '0.0000',\n",
       "  'pending_expired_quantity': '0.0000',\n",
       "  'pending_expiration_quantity': '0.0000',\n",
       "  'pending_exercise_quantity': '0.0000',\n",
       "  'pending_assignment_quantity': '0.0000',\n",
       "  'pending_sell_quantity': '0.0000',\n",
       "  'quantity': '2.0000',\n",
       "  'intraday_quantity': '0.0000',\n",
       "  'intraday_average_open_price': '0.0000',\n",
       "  'created_at': '2020-05-20T15:19:02.003549Z',\n",
       "  'trade_value_multiplier': '100.0000',\n",
       "  'updated_at': '2020-05-21T20:40:33.284122Z',\n",
       "  'url': 'https://api.robinhood.com/options/positions/842a78ac-47c4-4814-bc87-0df669a4080b/',\n",
       "  'option_id': '4f203993-a981-4d13-aa78-7bb9387a21b9'},\n",
       " {'account': 'https://api.robinhood.com/accounts/5QU67573/',\n",
       "  'average_price': '305.0000',\n",
       "  'chain_id': '9fddd22b-4ac3-46c0-85d1-c67861552083',\n",
       "  'chain_symbol': 'FSLY',\n",
       "  'id': '6c34aa76-d243-4994-879e-2efaff9c7af1',\n",
       "  'option': 'https://api.robinhood.com/options/instruments/b941db20-ecb5-48d4-8197-b4a1366f8689/',\n",
       "  'type': 'long',\n",
       "  'pending_buy_quantity': '0.0000',\n",
       "  'pending_expired_quantity': '0.0000',\n",
       "  'pending_expiration_quantity': '0.0000',\n",
       "  'pending_exercise_quantity': '0.0000',\n",
       "  'pending_assignment_quantity': '0.0000',\n",
       "  'pending_sell_quantity': '0.0000',\n",
       "  'quantity': '3.0000',\n",
       "  'intraday_quantity': '2.0000',\n",
       "  'intraday_average_open_price': '310.0000',\n",
       "  'created_at': '2020-05-19T16:37:29.411371Z',\n",
       "  'trade_value_multiplier': '100.0000',\n",
       "  'updated_at': '2020-05-21T15:42:15.247016Z',\n",
       "  'url': 'https://api.robinhood.com/options/positions/6c34aa76-d243-4994-879e-2efaff9c7af1/',\n",
       "  'option_id': 'b941db20-ecb5-48d4-8197-b4a1366f8689'},\n",
       " {'account': 'https://api.robinhood.com/accounts/5QU67573/',\n",
       "  'average_price': '555.0000',\n",
       "  'chain_id': '554989a0-6cbb-4f60-97be-28c3b5f5f0a1',\n",
       "  'chain_symbol': 'HD',\n",
       "  'id': 'fb88ac05-bd60-46cc-ba57-f3f11289a3ee',\n",
       "  'option': 'https://api.robinhood.com/options/instruments/5137e24b-88f7-45f9-920f-46a806aecfad/',\n",
       "  'type': 'long',\n",
       "  'pending_buy_quantity': '0.0000',\n",
       "  'pending_expired_quantity': '0.0000',\n",
       "  'pending_expiration_quantity': '0.0000',\n",
       "  'pending_exercise_quantity': '0.0000',\n",
       "  'pending_assignment_quantity': '0.0000',\n",
       "  'pending_sell_quantity': '1.0000',\n",
       "  'quantity': '1.0000',\n",
       "  'intraday_quantity': '0.0000',\n",
       "  'intraday_average_open_price': '0.0000',\n",
       "  'created_at': '2020-05-18T18:15:41.130398Z',\n",
       "  'trade_value_multiplier': '100.0000',\n",
       "  'updated_at': '2020-05-18T22:00:24.587419Z',\n",
       "  'url': 'https://api.robinhood.com/options/positions/fb88ac05-bd60-46cc-ba57-f3f11289a3ee/',\n",
       "  'option_id': '5137e24b-88f7-45f9-920f-46a806aecfad'},\n",
       " {'account': 'https://api.robinhood.com/accounts/5QU67573/',\n",
       "  'average_price': '184.0000',\n",
       "  'chain_id': '5d0932e3-ad84-4002-80da-9889c330ff4a',\n",
       "  'chain_symbol': 'SPG',\n",
       "  'id': '4d85e4d6-0c5a-4861-857b-58f80cc31a81',\n",
       "  'option': 'https://api.robinhood.com/options/instruments/e13d3f48-6537-4813-9179-ca3007d9964f/',\n",
       "  'type': 'long',\n",
       "  'pending_buy_quantity': '0.0000',\n",
       "  'pending_expired_quantity': '0.0000',\n",
       "  'pending_expiration_quantity': '0.0000',\n",
       "  'pending_exercise_quantity': '0.0000',\n",
       "  'pending_assignment_quantity': '0.0000',\n",
       "  'pending_sell_quantity': '0.0000',\n",
       "  'quantity': '1.0000',\n",
       "  'intraday_quantity': '0.0000',\n",
       "  'intraday_average_open_price': '0.0000',\n",
       "  'created_at': '2020-05-18T18:00:30.858226Z',\n",
       "  'trade_value_multiplier': '100.0000',\n",
       "  'updated_at': '2020-05-18T18:00:51.823426Z',\n",
       "  'url': 'https://api.robinhood.com/options/positions/4d85e4d6-0c5a-4861-857b-58f80cc31a81/',\n",
       "  'option_id': 'e13d3f48-6537-4813-9179-ca3007d9964f'},\n",
       " {'account': 'https://api.robinhood.com/accounts/5QU67573/',\n",
       "  'average_price': '1099.0000',\n",
       "  'chain_id': 'e04b1d5c-ec6e-498e-8811-413ba6fb298d',\n",
       "  'chain_symbol': 'OKTA',\n",
       "  'id': 'b3efcc87-981b-4842-921f-2715bd656c4a',\n",
       "  'option': 'https://api.robinhood.com/options/instruments/b10cdcd3-4ea3-4d0c-be7c-f7a5f0a6afd0/',\n",
       "  'type': 'long',\n",
       "  'pending_buy_quantity': '0.0000',\n",
       "  'pending_expired_quantity': '0.0000',\n",
       "  'pending_expiration_quantity': '0.0000',\n",
       "  'pending_exercise_quantity': '0.0000',\n",
       "  'pending_assignment_quantity': '0.0000',\n",
       "  'pending_sell_quantity': '2.0000',\n",
       "  'quantity': '2.0000',\n",
       "  'intraday_quantity': '0.0000',\n",
       "  'intraday_average_open_price': '0.0000',\n",
       "  'created_at': '2020-05-13T16:29:27.283731Z',\n",
       "  'trade_value_multiplier': '100.0000',\n",
       "  'updated_at': '2020-05-22T02:09:19.866989Z',\n",
       "  'url': 'https://api.robinhood.com/options/positions/b3efcc87-981b-4842-921f-2715bd656c4a/',\n",
       "  'option_id': 'b10cdcd3-4ea3-4d0c-be7c-f7a5f0a6afd0'},\n",
       " {'account': 'https://api.robinhood.com/accounts/5QU67573/',\n",
       "  'average_price': '455.8333',\n",
       "  'chain_id': '554989a0-6cbb-4f60-97be-28c3b5f5f0a1',\n",
       "  'chain_symbol': 'HD',\n",
       "  'id': 'cd5c99fe-d3ef-4c1b-ae15-c4c3ce3d7a94',\n",
       "  'option': 'https://api.robinhood.com/options/instruments/b69a4871-3888-4b1f-b5ec-4e6210b73247/',\n",
       "  'type': 'long',\n",
       "  'pending_buy_quantity': '0.0000',\n",
       "  'pending_expired_quantity': '0.0000',\n",
       "  'pending_expiration_quantity': '0.0000',\n",
       "  'pending_exercise_quantity': '0.0000',\n",
       "  'pending_assignment_quantity': '0.0000',\n",
       "  'pending_sell_quantity': '6.0000',\n",
       "  'quantity': '6.0000',\n",
       "  'intraday_quantity': '0.0000',\n",
       "  'intraday_average_open_price': '0.0000',\n",
       "  'created_at': '2020-05-13T14:30:13.867741Z',\n",
       "  'trade_value_multiplier': '100.0000',\n",
       "  'updated_at': '2020-05-18T22:05:39.527171Z',\n",
       "  'url': 'https://api.robinhood.com/options/positions/cd5c99fe-d3ef-4c1b-ae15-c4c3ce3d7a94/',\n",
       "  'option_id': 'b69a4871-3888-4b1f-b5ec-4e6210b73247'}]"
      ]
     },
     "execution_count": 44,
     "metadata": {},
     "output_type": "execute_result"
    }
   ],
   "source": [
    "r.get_open_option_positions()\n",
    " 'option': 'https://api.robinhood.com/options/instruments/4f203993-a981-4d13-aa78-7bb9387a21b9/',\n",
    "\n",
    "https://api.robinhood.com/options/instruments/4f203993-a981-4d13-aa78-7bb9387a21b9/\n",
    "    {\n",
    "     \"chain_symbol\":\"CRWD\",\n",
    "     \"created_at\":\"2020-05-09T00:24:50.419237Z\",\n",
    "     \"expiration_date\":\"2020-06-05\",\n",
    "        \n",
    "     \"chain_id\":\"6b4eafa5-90db-42b0-af4e-3fdad8dd753c\",\n",
    "     \"id\":\"4f203993-a981-4d13-aa78-7bb9387a21b9\",\n",
    "     \"issue_date\":\"2019-06-17\",\n",
    "     \"min_ticks\":{\"above_tick\":\"0.10\",\"below_tick\":\"0.05\",\"cutoff_price\":\"3.00\"},\n",
    "     \"rhs_tradability\":\"untradable\",\n",
    "     \"state\":\"active\",\"strike_price\":\"81.0000\",\n",
    "     \"tradability\":\"tradable\",\"type\":\"call\",\n",
    "     \"updated_at\":\"2020-05-09T00:24:50.419245Z\",\n",
    "     \"url\":\"https:\\/\\/api.robinhood.com\\/options\\/instruments\\/4f203993-a981-4d13-aa78-7bb9387a21b9\\/\",\n",
    "     \"sellout_datetime\":\"2020-06-05T18:45:00+00:00\"}"
   ]
  }
 ],
 "metadata": {
  "kernelspec": {
   "display_name": "Python 3",
   "language": "python",
   "name": "python3"
  },
  "language_info": {
   "codemirror_mode": {
    "name": "ipython",
    "version": 3
   },
   "file_extension": ".py",
   "mimetype": "text/x-python",
   "name": "python",
   "nbconvert_exporter": "python",
   "pygments_lexer": "ipython3",
   "version": "3.7.3"
  }
 },
 "nbformat": 4,
 "nbformat_minor": 2
}
